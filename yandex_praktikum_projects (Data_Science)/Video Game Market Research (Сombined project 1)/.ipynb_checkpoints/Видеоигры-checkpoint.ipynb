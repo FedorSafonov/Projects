{
 "cells": [
  {
   "cell_type": "markdown",
   "metadata": {},
   "source": [
    "# Исследование рынка видеоигр. #"
   ]
  },
  {
   "cell_type": "markdown",
   "metadata": {},
   "source": [
    "# Описание\n",
    "\n",
    "* Данные -  исторические данные из открытых источников об продажах игр, оценки пользователей и экспертов, жанры и платформы (например, Xbox или PlayStation). \n",
    "\n",
    "* Цель - выявить определяющие успешность игры закономерности. Это позволит сделать ставку на потенциально популярный продукт и спланировать рекламные кампании."
   ]
  },
  {
   "cell_type": "markdown",
   "metadata": {},
   "source": [
    "# Ход исследования: \n",
    "* 1) Открытие файла с данными и изучение общей информации\n",
    "* 2) Предобработка:\n",
    "  * Замена названий столбцов\n",
    "  * Изминение типа данных\n",
    "  * Обработка пропусков\n",
    "  * Проверка на дубликаты и аномалии\n",
    "  * Добавление столбца с суммарными продажами из всех регионов.\n",
    "* 3) Исследовательский анализ данных:\n",
    "  * Сколько игр выпускалось в прошлые годы\n",
    "  * Как менялись продажи в зависимости от платформы по годам\n",
    "  * Выбрать актуальный период для анализа\n",
    "  * Выбрать потенциально прибыльные платформы\n",
    "  * Рассмотреть зависимость между отзывами и продажами\n",
    "  * Рассмотреть распределение игр по жанрам и зависимость продаж от жанра\n",
    "* 4) Портрет пользователей каждого региона:\n",
    "  * Самые популярные платформы\n",
    "  * Самые популярные жанры\n",
    "  * Влияние рейтинга ESRB\n",
    "* 5) Проверка гипотез:\n",
    "  * *Гипотеза 1 - Средние пользовательские рейтинги платформ Xbox One и PC одинаковые*\n",
    "  * *Гипотеза 2 - Средние пользовательские рейтинги жанров Action и Sports разные.*\n",
    "* 6) Общий вывод"
   ]
  },
  {
   "cell_type": "markdown",
   "metadata": {},
   "source": [
    "## Открытие данных и изучение общей информации"
   ]
  },
  {
   "cell_type": "code",
   "execution_count": 1,
   "metadata": {},
   "outputs": [],
   "source": [
    "import pandas as pd\n",
    "import re\n",
    "import matplotlib.pyplot as plt\n",
    "import matplotlib\n",
    "\n",
    "import numpy as np\n",
    "import seaborn as sns\n",
    "sns.set(color_codes=True)\n",
    "from scipy import stats as st\n",
    "\n",
    "#%config InlineBackend.figure_format = 'retina'\n",
    "#plt.style.available"
   ]
  },
  {
   "cell_type": "code",
   "execution_count": 2,
   "metadata": {},
   "outputs": [],
   "source": [
    "plt.style.use('seaborn-pastel')"
   ]
  },
  {
   "cell_type": "code",
   "execution_count": 3,
   "metadata": {},
   "outputs": [],
   "source": [
    "df = pd.read_csv('games.csv')"
   ]
  },
  {
   "cell_type": "code",
   "execution_count": 4,
   "metadata": {},
   "outputs": [
    {
     "data": {
      "text/html": [
       "<div>\n",
       "<style scoped>\n",
       "    .dataframe tbody tr th:only-of-type {\n",
       "        vertical-align: middle;\n",
       "    }\n",
       "\n",
       "    .dataframe tbody tr th {\n",
       "        vertical-align: top;\n",
       "    }\n",
       "\n",
       "    .dataframe thead th {\n",
       "        text-align: right;\n",
       "    }\n",
       "</style>\n",
       "<table border=\"1\" class=\"dataframe\">\n",
       "  <thead>\n",
       "    <tr style=\"text-align: right;\">\n",
       "      <th></th>\n",
       "      <th>Name</th>\n",
       "      <th>Platform</th>\n",
       "      <th>Year_of_Release</th>\n",
       "      <th>Genre</th>\n",
       "      <th>NA_sales</th>\n",
       "      <th>EU_sales</th>\n",
       "      <th>JP_sales</th>\n",
       "      <th>Other_sales</th>\n",
       "      <th>Critic_Score</th>\n",
       "      <th>User_Score</th>\n",
       "      <th>Rating</th>\n",
       "    </tr>\n",
       "  </thead>\n",
       "  <tbody>\n",
       "    <tr>\n",
       "      <th>0</th>\n",
       "      <td>Wii Sports</td>\n",
       "      <td>Wii</td>\n",
       "      <td>2006.0</td>\n",
       "      <td>Sports</td>\n",
       "      <td>41.36</td>\n",
       "      <td>28.96</td>\n",
       "      <td>3.77</td>\n",
       "      <td>8.45</td>\n",
       "      <td>76.0</td>\n",
       "      <td>8</td>\n",
       "      <td>E</td>\n",
       "    </tr>\n",
       "    <tr>\n",
       "      <th>1</th>\n",
       "      <td>Super Mario Bros.</td>\n",
       "      <td>NES</td>\n",
       "      <td>1985.0</td>\n",
       "      <td>Platform</td>\n",
       "      <td>29.08</td>\n",
       "      <td>3.58</td>\n",
       "      <td>6.81</td>\n",
       "      <td>0.77</td>\n",
       "      <td>NaN</td>\n",
       "      <td>NaN</td>\n",
       "      <td>NaN</td>\n",
       "    </tr>\n",
       "    <tr>\n",
       "      <th>2</th>\n",
       "      <td>Mario Kart Wii</td>\n",
       "      <td>Wii</td>\n",
       "      <td>2008.0</td>\n",
       "      <td>Racing</td>\n",
       "      <td>15.68</td>\n",
       "      <td>12.76</td>\n",
       "      <td>3.79</td>\n",
       "      <td>3.29</td>\n",
       "      <td>82.0</td>\n",
       "      <td>8.3</td>\n",
       "      <td>E</td>\n",
       "    </tr>\n",
       "    <tr>\n",
       "      <th>3</th>\n",
       "      <td>Wii Sports Resort</td>\n",
       "      <td>Wii</td>\n",
       "      <td>2009.0</td>\n",
       "      <td>Sports</td>\n",
       "      <td>15.61</td>\n",
       "      <td>10.93</td>\n",
       "      <td>3.28</td>\n",
       "      <td>2.95</td>\n",
       "      <td>80.0</td>\n",
       "      <td>8</td>\n",
       "      <td>E</td>\n",
       "    </tr>\n",
       "    <tr>\n",
       "      <th>4</th>\n",
       "      <td>Pokemon Red/Pokemon Blue</td>\n",
       "      <td>GB</td>\n",
       "      <td>1996.0</td>\n",
       "      <td>Role-Playing</td>\n",
       "      <td>11.27</td>\n",
       "      <td>8.89</td>\n",
       "      <td>10.22</td>\n",
       "      <td>1.00</td>\n",
       "      <td>NaN</td>\n",
       "      <td>NaN</td>\n",
       "      <td>NaN</td>\n",
       "    </tr>\n",
       "  </tbody>\n",
       "</table>\n",
       "</div>"
      ],
      "text/plain": [
       "                       Name Platform  Year_of_Release         Genre  NA_sales  \\\n",
       "0                Wii Sports      Wii           2006.0        Sports     41.36   \n",
       "1         Super Mario Bros.      NES           1985.0      Platform     29.08   \n",
       "2            Mario Kart Wii      Wii           2008.0        Racing     15.68   \n",
       "3         Wii Sports Resort      Wii           2009.0        Sports     15.61   \n",
       "4  Pokemon Red/Pokemon Blue       GB           1996.0  Role-Playing     11.27   \n",
       "\n",
       "   EU_sales  JP_sales  Other_sales  Critic_Score User_Score Rating  \n",
       "0     28.96      3.77         8.45          76.0          8      E  \n",
       "1      3.58      6.81         0.77           NaN        NaN    NaN  \n",
       "2     12.76      3.79         3.29          82.0        8.3      E  \n",
       "3     10.93      3.28         2.95          80.0          8      E  \n",
       "4      8.89     10.22         1.00           NaN        NaN    NaN  "
      ]
     },
     "execution_count": 4,
     "metadata": {},
     "output_type": "execute_result"
    }
   ],
   "source": [
    "df.head()"
   ]
  },
  {
   "cell_type": "code",
   "execution_count": 5,
   "metadata": {},
   "outputs": [
    {
     "data": {
      "text/html": [
       "<div>\n",
       "<style scoped>\n",
       "    .dataframe tbody tr th:only-of-type {\n",
       "        vertical-align: middle;\n",
       "    }\n",
       "\n",
       "    .dataframe tbody tr th {\n",
       "        vertical-align: top;\n",
       "    }\n",
       "\n",
       "    .dataframe thead th {\n",
       "        text-align: right;\n",
       "    }\n",
       "</style>\n",
       "<table border=\"1\" class=\"dataframe\">\n",
       "  <thead>\n",
       "    <tr style=\"text-align: right;\">\n",
       "      <th></th>\n",
       "      <th>Name</th>\n",
       "      <th>Platform</th>\n",
       "      <th>Year_of_Release</th>\n",
       "      <th>Genre</th>\n",
       "      <th>NA_sales</th>\n",
       "      <th>EU_sales</th>\n",
       "      <th>JP_sales</th>\n",
       "      <th>Other_sales</th>\n",
       "      <th>Critic_Score</th>\n",
       "      <th>User_Score</th>\n",
       "      <th>Rating</th>\n",
       "    </tr>\n",
       "  </thead>\n",
       "  <tbody>\n",
       "    <tr>\n",
       "      <th>16710</th>\n",
       "      <td>Samurai Warriors: Sanada Maru</td>\n",
       "      <td>PS3</td>\n",
       "      <td>2016.0</td>\n",
       "      <td>Action</td>\n",
       "      <td>0.00</td>\n",
       "      <td>0.00</td>\n",
       "      <td>0.01</td>\n",
       "      <td>0.0</td>\n",
       "      <td>NaN</td>\n",
       "      <td>NaN</td>\n",
       "      <td>NaN</td>\n",
       "    </tr>\n",
       "    <tr>\n",
       "      <th>16711</th>\n",
       "      <td>LMA Manager 2007</td>\n",
       "      <td>X360</td>\n",
       "      <td>2006.0</td>\n",
       "      <td>Sports</td>\n",
       "      <td>0.00</td>\n",
       "      <td>0.01</td>\n",
       "      <td>0.00</td>\n",
       "      <td>0.0</td>\n",
       "      <td>NaN</td>\n",
       "      <td>NaN</td>\n",
       "      <td>NaN</td>\n",
       "    </tr>\n",
       "    <tr>\n",
       "      <th>16712</th>\n",
       "      <td>Haitaka no Psychedelica</td>\n",
       "      <td>PSV</td>\n",
       "      <td>2016.0</td>\n",
       "      <td>Adventure</td>\n",
       "      <td>0.00</td>\n",
       "      <td>0.00</td>\n",
       "      <td>0.01</td>\n",
       "      <td>0.0</td>\n",
       "      <td>NaN</td>\n",
       "      <td>NaN</td>\n",
       "      <td>NaN</td>\n",
       "    </tr>\n",
       "    <tr>\n",
       "      <th>16713</th>\n",
       "      <td>Spirits &amp; Spells</td>\n",
       "      <td>GBA</td>\n",
       "      <td>2003.0</td>\n",
       "      <td>Platform</td>\n",
       "      <td>0.01</td>\n",
       "      <td>0.00</td>\n",
       "      <td>0.00</td>\n",
       "      <td>0.0</td>\n",
       "      <td>NaN</td>\n",
       "      <td>NaN</td>\n",
       "      <td>NaN</td>\n",
       "    </tr>\n",
       "    <tr>\n",
       "      <th>16714</th>\n",
       "      <td>Winning Post 8 2016</td>\n",
       "      <td>PSV</td>\n",
       "      <td>2016.0</td>\n",
       "      <td>Simulation</td>\n",
       "      <td>0.00</td>\n",
       "      <td>0.00</td>\n",
       "      <td>0.01</td>\n",
       "      <td>0.0</td>\n",
       "      <td>NaN</td>\n",
       "      <td>NaN</td>\n",
       "      <td>NaN</td>\n",
       "    </tr>\n",
       "  </tbody>\n",
       "</table>\n",
       "</div>"
      ],
      "text/plain": [
       "                                Name Platform  Year_of_Release       Genre  \\\n",
       "16710  Samurai Warriors: Sanada Maru      PS3           2016.0      Action   \n",
       "16711               LMA Manager 2007     X360           2006.0      Sports   \n",
       "16712        Haitaka no Psychedelica      PSV           2016.0   Adventure   \n",
       "16713               Spirits & Spells      GBA           2003.0    Platform   \n",
       "16714            Winning Post 8 2016      PSV           2016.0  Simulation   \n",
       "\n",
       "       NA_sales  EU_sales  JP_sales  Other_sales  Critic_Score User_Score  \\\n",
       "16710      0.00      0.00      0.01          0.0           NaN        NaN   \n",
       "16711      0.00      0.01      0.00          0.0           NaN        NaN   \n",
       "16712      0.00      0.00      0.01          0.0           NaN        NaN   \n",
       "16713      0.01      0.00      0.00          0.0           NaN        NaN   \n",
       "16714      0.00      0.00      0.01          0.0           NaN        NaN   \n",
       "\n",
       "      Rating  \n",
       "16710    NaN  \n",
       "16711    NaN  \n",
       "16712    NaN  \n",
       "16713    NaN  \n",
       "16714    NaN  "
      ]
     },
     "execution_count": 5,
     "metadata": {},
     "output_type": "execute_result"
    }
   ],
   "source": [
    "df.tail()"
   ]
  },
  {
   "cell_type": "code",
   "execution_count": 6,
   "metadata": {},
   "outputs": [
    {
     "data": {
      "text/html": [
       "<div>\n",
       "<style scoped>\n",
       "    .dataframe tbody tr th:only-of-type {\n",
       "        vertical-align: middle;\n",
       "    }\n",
       "\n",
       "    .dataframe tbody tr th {\n",
       "        vertical-align: top;\n",
       "    }\n",
       "\n",
       "    .dataframe thead th {\n",
       "        text-align: right;\n",
       "    }\n",
       "</style>\n",
       "<table border=\"1\" class=\"dataframe\">\n",
       "  <thead>\n",
       "    <tr style=\"text-align: right;\">\n",
       "      <th></th>\n",
       "      <th>Name</th>\n",
       "      <th>Platform</th>\n",
       "      <th>Year_of_Release</th>\n",
       "      <th>Genre</th>\n",
       "      <th>NA_sales</th>\n",
       "      <th>EU_sales</th>\n",
       "      <th>JP_sales</th>\n",
       "      <th>Other_sales</th>\n",
       "      <th>Critic_Score</th>\n",
       "      <th>User_Score</th>\n",
       "      <th>Rating</th>\n",
       "    </tr>\n",
       "  </thead>\n",
       "  <tbody>\n",
       "    <tr>\n",
       "      <th>6662</th>\n",
       "      <td>Up</td>\n",
       "      <td>PS3</td>\n",
       "      <td>2009.0</td>\n",
       "      <td>Action</td>\n",
       "      <td>0.15</td>\n",
       "      <td>0.06</td>\n",
       "      <td>0.00</td>\n",
       "      <td>0.03</td>\n",
       "      <td>65.0</td>\n",
       "      <td>6.5</td>\n",
       "      <td>E10+</td>\n",
       "    </tr>\n",
       "    <tr>\n",
       "      <th>4325</th>\n",
       "      <td>Sphinx and the Cursed Mummy</td>\n",
       "      <td>PS2</td>\n",
       "      <td>2003.0</td>\n",
       "      <td>Action</td>\n",
       "      <td>0.22</td>\n",
       "      <td>0.17</td>\n",
       "      <td>0.00</td>\n",
       "      <td>0.06</td>\n",
       "      <td>NaN</td>\n",
       "      <td>NaN</td>\n",
       "      <td>NaN</td>\n",
       "    </tr>\n",
       "    <tr>\n",
       "      <th>12880</th>\n",
       "      <td>Jewel Link Chronicles: Mountains of Madness</td>\n",
       "      <td>DS</td>\n",
       "      <td>NaN</td>\n",
       "      <td>Puzzle</td>\n",
       "      <td>0.00</td>\n",
       "      <td>0.05</td>\n",
       "      <td>0.00</td>\n",
       "      <td>0.01</td>\n",
       "      <td>NaN</td>\n",
       "      <td>tbd</td>\n",
       "      <td>E10+</td>\n",
       "    </tr>\n",
       "    <tr>\n",
       "      <th>9281</th>\n",
       "      <td>Vampire Night</td>\n",
       "      <td>PS2</td>\n",
       "      <td>2001.0</td>\n",
       "      <td>Shooter</td>\n",
       "      <td>0.07</td>\n",
       "      <td>0.05</td>\n",
       "      <td>0.00</td>\n",
       "      <td>0.02</td>\n",
       "      <td>65.0</td>\n",
       "      <td>8</td>\n",
       "      <td>T</td>\n",
       "    </tr>\n",
       "    <tr>\n",
       "      <th>10501</th>\n",
       "      <td>Gem Quest: 4 Elements</td>\n",
       "      <td>DS</td>\n",
       "      <td>2011.0</td>\n",
       "      <td>Puzzle</td>\n",
       "      <td>0.05</td>\n",
       "      <td>0.05</td>\n",
       "      <td>0.00</td>\n",
       "      <td>0.01</td>\n",
       "      <td>NaN</td>\n",
       "      <td>tbd</td>\n",
       "      <td>E</td>\n",
       "    </tr>\n",
       "    <tr>\n",
       "      <th>4015</th>\n",
       "      <td>SpongeBob SquarePants: Creature from the Krust...</td>\n",
       "      <td>Wii</td>\n",
       "      <td>2006.0</td>\n",
       "      <td>Platform</td>\n",
       "      <td>0.44</td>\n",
       "      <td>0.02</td>\n",
       "      <td>0.00</td>\n",
       "      <td>0.04</td>\n",
       "      <td>57.0</td>\n",
       "      <td>5.6</td>\n",
       "      <td>E</td>\n",
       "    </tr>\n",
       "    <tr>\n",
       "      <th>1399</th>\n",
       "      <td>Bravely Default: Flying Fairy</td>\n",
       "      <td>3DS</td>\n",
       "      <td>2012.0</td>\n",
       "      <td>Role-Playing</td>\n",
       "      <td>0.50</td>\n",
       "      <td>0.32</td>\n",
       "      <td>0.49</td>\n",
       "      <td>0.08</td>\n",
       "      <td>NaN</td>\n",
       "      <td>NaN</td>\n",
       "      <td>NaN</td>\n",
       "    </tr>\n",
       "    <tr>\n",
       "      <th>15962</th>\n",
       "      <td>LEGO Star Wars II: The Original Trilogy</td>\n",
       "      <td>PC</td>\n",
       "      <td>2006.0</td>\n",
       "      <td>Action</td>\n",
       "      <td>0.00</td>\n",
       "      <td>0.01</td>\n",
       "      <td>0.00</td>\n",
       "      <td>0.00</td>\n",
       "      <td>86.0</td>\n",
       "      <td>8.2</td>\n",
       "      <td>E10+</td>\n",
       "    </tr>\n",
       "    <tr>\n",
       "      <th>5386</th>\n",
       "      <td>Vancouver 2010 - The Official Video Game of th...</td>\n",
       "      <td>PS3</td>\n",
       "      <td>2010.0</td>\n",
       "      <td>Sports</td>\n",
       "      <td>0.09</td>\n",
       "      <td>0.19</td>\n",
       "      <td>0.00</td>\n",
       "      <td>0.07</td>\n",
       "      <td>NaN</td>\n",
       "      <td>NaN</td>\n",
       "      <td>NaN</td>\n",
       "    </tr>\n",
       "    <tr>\n",
       "      <th>4244</th>\n",
       "      <td>The Legend of Spyro: Dawn of the Dragon</td>\n",
       "      <td>DS</td>\n",
       "      <td>2008.0</td>\n",
       "      <td>Platform</td>\n",
       "      <td>0.26</td>\n",
       "      <td>0.15</td>\n",
       "      <td>0.00</td>\n",
       "      <td>0.05</td>\n",
       "      <td>57.0</td>\n",
       "      <td>6.8</td>\n",
       "      <td>E</td>\n",
       "    </tr>\n",
       "  </tbody>\n",
       "</table>\n",
       "</div>"
      ],
      "text/plain": [
       "                                                    Name Platform  \\\n",
       "6662                                                  Up      PS3   \n",
       "4325                         Sphinx and the Cursed Mummy      PS2   \n",
       "12880        Jewel Link Chronicles: Mountains of Madness       DS   \n",
       "9281                                       Vampire Night      PS2   \n",
       "10501                              Gem Quest: 4 Elements       DS   \n",
       "4015   SpongeBob SquarePants: Creature from the Krust...      Wii   \n",
       "1399                       Bravely Default: Flying Fairy      3DS   \n",
       "15962            LEGO Star Wars II: The Original Trilogy       PC   \n",
       "5386   Vancouver 2010 - The Official Video Game of th...      PS3   \n",
       "4244             The Legend of Spyro: Dawn of the Dragon       DS   \n",
       "\n",
       "       Year_of_Release         Genre  NA_sales  EU_sales  JP_sales  \\\n",
       "6662            2009.0        Action      0.15      0.06      0.00   \n",
       "4325            2003.0        Action      0.22      0.17      0.00   \n",
       "12880              NaN        Puzzle      0.00      0.05      0.00   \n",
       "9281            2001.0       Shooter      0.07      0.05      0.00   \n",
       "10501           2011.0        Puzzle      0.05      0.05      0.00   \n",
       "4015            2006.0      Platform      0.44      0.02      0.00   \n",
       "1399            2012.0  Role-Playing      0.50      0.32      0.49   \n",
       "15962           2006.0        Action      0.00      0.01      0.00   \n",
       "5386            2010.0        Sports      0.09      0.19      0.00   \n",
       "4244            2008.0      Platform      0.26      0.15      0.00   \n",
       "\n",
       "       Other_sales  Critic_Score User_Score Rating  \n",
       "6662          0.03          65.0        6.5   E10+  \n",
       "4325          0.06           NaN        NaN    NaN  \n",
       "12880         0.01           NaN        tbd   E10+  \n",
       "9281          0.02          65.0          8      T  \n",
       "10501         0.01           NaN        tbd      E  \n",
       "4015          0.04          57.0        5.6      E  \n",
       "1399          0.08           NaN        NaN    NaN  \n",
       "15962         0.00          86.0        8.2   E10+  \n",
       "5386          0.07           NaN        NaN    NaN  \n",
       "4244          0.05          57.0        6.8      E  "
      ]
     },
     "execution_count": 6,
     "metadata": {},
     "output_type": "execute_result"
    }
   ],
   "source": [
    "df.sample(10)"
   ]
  },
  {
   "cell_type": "markdown",
   "metadata": {},
   "source": [
    "<div class=\"alert alert-warning\">\n",
    "<b>Комментарий 👉</b>\n",
    "\n",
    "Фёдор, а зачем и head и tail и sample? Что каждый последующий (после head) метод прсмотра 5 и 10 строк привносит в твои знания о данных?\n",
    "</div>"
   ]
  },
  {
   "cell_type": "markdown",
   "metadata": {},
   "source": [
    "<div style=\"background: #B0E0E6; padding: 5px; border: 1px solid SteelBlue; border-radius: 5px;\">\n",
    "    <font color='4682B4'><u><b>КОММЕНТАРИЙ СТУДЕНТА</b></u></font>\n",
    "    <br />\n",
    "    <font color='4682B4'>Просто хочу по-разному рассмотреть базовый датафрейм, но впринципе да, одного будет достаточно, учту на следующий раз) \n",
    "Спасибо!</font>\n",
    "</div>"
   ]
  },
  {
   "cell_type": "markdown",
   "metadata": {},
   "source": [
    "<div class=\"alert alert-success\">\n",
    "<b>КОММЕНТАРИЙ V2</b>\n",
    "\n",
    "Нет Фёдор, это ни в коем слчае не проблема. Я просто спросил, т.к. чуть необычно выглядит ... Я бы НАВЕРНОЕ(?) в таком случае \"чуть больше\" sample взял (и только его).\n",
    "</div>\n"
   ]
  },
  {
   "cell_type": "code",
   "execution_count": 7,
   "metadata": {},
   "outputs": [
    {
     "name": "stdout",
     "output_type": "stream",
     "text": [
      "<class 'pandas.core.frame.DataFrame'>\n",
      "RangeIndex: 16715 entries, 0 to 16714\n",
      "Data columns (total 11 columns):\n",
      " #   Column           Non-Null Count  Dtype  \n",
      "---  ------           --------------  -----  \n",
      " 0   Name             16713 non-null  object \n",
      " 1   Platform         16715 non-null  object \n",
      " 2   Year_of_Release  16446 non-null  float64\n",
      " 3   Genre            16713 non-null  object \n",
      " 4   NA_sales         16715 non-null  float64\n",
      " 5   EU_sales         16715 non-null  float64\n",
      " 6   JP_sales         16715 non-null  float64\n",
      " 7   Other_sales      16715 non-null  float64\n",
      " 8   Critic_Score     8137 non-null   float64\n",
      " 9   User_Score       10014 non-null  object \n",
      " 10  Rating           9949 non-null   object \n",
      "dtypes: float64(6), object(5)\n",
      "memory usage: 1.4+ MB\n"
     ]
    }
   ],
   "source": [
    "df.info()"
   ]
  },
  {
   "cell_type": "markdown",
   "metadata": {},
   "source": [
    "* Видно, что есть две строки, где нет имени и жанра (вероятно это одни и теже строки).\n",
    "* Не у всех есть год релиза.\n",
    "* Рейтинг, оценки критиков и пользователей так же есть не на все игры (скорее это игры с самыми низкими продажами, которые мало кому известны?)\n",
    "* Оценка критиков в численом формате, а оценка пользователей в object\n",
    "* Оценка критиков от 1 до 100, а пользователей от ? до 10, мне кажется не совсем удобно использовать разные метрики для сравнения оценок, я переведу оценку пользователей так же от 1 до 100, только в начале проверю какой там минимальный балл."
   ]
  },
  {
   "cell_type": "markdown",
   "metadata": {},
   "source": [
    "<div class=\"alert alert-warning\">\n",
    "<b>Комментарий 👉</b>\n",
    "\n",
    "**Оценка критиков от 1 до 100, а пользователей от ? до 10, мне кажется не совсем удобно использовать разные метрики для сравнения оценок, я переведу оценку пользователей так же от 1 до 100** - а на каком основании? Ответь на вопрос - при проверке корреляции оценок пользователей с оценками экспертов **до** и **после** подобного преобразования что-нибудь поменяется?\n",
    "</div>"
   ]
  },
  {
   "cell_type": "markdown",
   "metadata": {},
   "source": [
    "<div style=\"background: #B0E0E6; padding: 5px; border: 1px solid SteelBlue; border-radius: 5px;\">\n",
    "    <font color='4682B4'><u><b>КОММЕНТАРИЙ СТУДЕНТА</b></u></font>\n",
    "    <br />\n",
    "    <font color='4682B4'>Корреляция нет, но можно будет их выстроить на одном графике </font>\n",
    "</div>"
   ]
  },
  {
   "cell_type": "markdown",
   "metadata": {},
   "source": [
    "<div class=\"alert alert-success\">\n",
    "<b>КОММЕНТАРИЙ V2</b>\n",
    "\n",
    "Понял, т.е. \"масштабируешь\", чтобы на одном графике расположить.</div>\n"
   ]
  },
  {
   "cell_type": "code",
   "execution_count": 8,
   "metadata": {},
   "outputs": [
    {
     "data": {
      "text/html": [
       "<div>\n",
       "<style scoped>\n",
       "    .dataframe tbody tr th:only-of-type {\n",
       "        vertical-align: middle;\n",
       "    }\n",
       "\n",
       "    .dataframe tbody tr th {\n",
       "        vertical-align: top;\n",
       "    }\n",
       "\n",
       "    .dataframe thead th {\n",
       "        text-align: right;\n",
       "    }\n",
       "</style>\n",
       "<table border=\"1\" class=\"dataframe\">\n",
       "  <thead>\n",
       "    <tr style=\"text-align: right;\">\n",
       "      <th></th>\n",
       "      <th>Year_of_Release</th>\n",
       "      <th>NA_sales</th>\n",
       "      <th>EU_sales</th>\n",
       "      <th>JP_sales</th>\n",
       "      <th>Other_sales</th>\n",
       "      <th>Critic_Score</th>\n",
       "    </tr>\n",
       "  </thead>\n",
       "  <tbody>\n",
       "    <tr>\n",
       "      <th>count</th>\n",
       "      <td>16446.000000</td>\n",
       "      <td>16715.000000</td>\n",
       "      <td>16715.000000</td>\n",
       "      <td>16715.000000</td>\n",
       "      <td>16715.000000</td>\n",
       "      <td>8137.000000</td>\n",
       "    </tr>\n",
       "    <tr>\n",
       "      <th>mean</th>\n",
       "      <td>2006.484616</td>\n",
       "      <td>0.263377</td>\n",
       "      <td>0.145060</td>\n",
       "      <td>0.077617</td>\n",
       "      <td>0.047342</td>\n",
       "      <td>68.967679</td>\n",
       "    </tr>\n",
       "    <tr>\n",
       "      <th>std</th>\n",
       "      <td>5.877050</td>\n",
       "      <td>0.813604</td>\n",
       "      <td>0.503339</td>\n",
       "      <td>0.308853</td>\n",
       "      <td>0.186731</td>\n",
       "      <td>13.938165</td>\n",
       "    </tr>\n",
       "    <tr>\n",
       "      <th>min</th>\n",
       "      <td>1980.000000</td>\n",
       "      <td>0.000000</td>\n",
       "      <td>0.000000</td>\n",
       "      <td>0.000000</td>\n",
       "      <td>0.000000</td>\n",
       "      <td>13.000000</td>\n",
       "    </tr>\n",
       "    <tr>\n",
       "      <th>25%</th>\n",
       "      <td>2003.000000</td>\n",
       "      <td>0.000000</td>\n",
       "      <td>0.000000</td>\n",
       "      <td>0.000000</td>\n",
       "      <td>0.000000</td>\n",
       "      <td>60.000000</td>\n",
       "    </tr>\n",
       "    <tr>\n",
       "      <th>50%</th>\n",
       "      <td>2007.000000</td>\n",
       "      <td>0.080000</td>\n",
       "      <td>0.020000</td>\n",
       "      <td>0.000000</td>\n",
       "      <td>0.010000</td>\n",
       "      <td>71.000000</td>\n",
       "    </tr>\n",
       "    <tr>\n",
       "      <th>75%</th>\n",
       "      <td>2010.000000</td>\n",
       "      <td>0.240000</td>\n",
       "      <td>0.110000</td>\n",
       "      <td>0.040000</td>\n",
       "      <td>0.030000</td>\n",
       "      <td>79.000000</td>\n",
       "    </tr>\n",
       "    <tr>\n",
       "      <th>max</th>\n",
       "      <td>2016.000000</td>\n",
       "      <td>41.360000</td>\n",
       "      <td>28.960000</td>\n",
       "      <td>10.220000</td>\n",
       "      <td>10.570000</td>\n",
       "      <td>98.000000</td>\n",
       "    </tr>\n",
       "  </tbody>\n",
       "</table>\n",
       "</div>"
      ],
      "text/plain": [
       "       Year_of_Release      NA_sales      EU_sales      JP_sales  \\\n",
       "count     16446.000000  16715.000000  16715.000000  16715.000000   \n",
       "mean       2006.484616      0.263377      0.145060      0.077617   \n",
       "std           5.877050      0.813604      0.503339      0.308853   \n",
       "min        1980.000000      0.000000      0.000000      0.000000   \n",
       "25%        2003.000000      0.000000      0.000000      0.000000   \n",
       "50%        2007.000000      0.080000      0.020000      0.000000   \n",
       "75%        2010.000000      0.240000      0.110000      0.040000   \n",
       "max        2016.000000     41.360000     28.960000     10.220000   \n",
       "\n",
       "        Other_sales  Critic_Score  \n",
       "count  16715.000000   8137.000000  \n",
       "mean       0.047342     68.967679  \n",
       "std        0.186731     13.938165  \n",
       "min        0.000000     13.000000  \n",
       "25%        0.000000     60.000000  \n",
       "50%        0.010000     71.000000  \n",
       "75%        0.030000     79.000000  \n",
       "max       10.570000     98.000000  "
      ]
     },
     "execution_count": 8,
     "metadata": {},
     "output_type": "execute_result"
    }
   ],
   "source": [
    "df.describe()"
   ]
  },
  {
   "cell_type": "markdown",
   "metadata": {},
   "source": [
    "* 25% игр имеют нулевые продажи. "
   ]
  },
  {
   "cell_type": "markdown",
   "metadata": {},
   "source": [
    "## Предобработка"
   ]
  },
  {
   "cell_type": "markdown",
   "metadata": {},
   "source": [
    "###  Изминение названий стобцов"
   ]
  },
  {
   "cell_type": "code",
   "execution_count": 9,
   "metadata": {},
   "outputs": [],
   "source": [
    "df.columns = df.columns.str.lower()"
   ]
  },
  {
   "cell_type": "code",
   "execution_count": 10,
   "metadata": {},
   "outputs": [
    {
     "data": {
      "text/plain": [
       "Index(['name', 'platform', 'year_of_release', 'genre', 'na_sales', 'eu_sales',\n",
       "       'jp_sales', 'other_sales', 'critic_score', 'user_score', 'rating'],\n",
       "      dtype='object')"
      ]
     },
     "execution_count": 10,
     "metadata": {},
     "output_type": "execute_result"
    }
   ],
   "source": [
    "df.columns"
   ]
  },
  {
   "cell_type": "code",
   "execution_count": 11,
   "metadata": {},
   "outputs": [
    {
     "data": {
      "text/plain": [
       "array(['Wii', 'NES', 'GB', 'DS', 'X360', 'PS3', 'PS2', 'SNES', 'GBA',\n",
       "       'PS4', '3DS', 'N64', 'PS', 'XB', 'PC', '2600', 'PSP', 'XOne',\n",
       "       'WiiU', 'GC', 'GEN', 'DC', 'PSV', 'SAT', 'SCD', 'WS', 'NG', 'TG16',\n",
       "       '3DO', 'GG', 'PCFX'], dtype=object)"
      ]
     },
     "execution_count": 11,
     "metadata": {},
     "output_type": "execute_result"
    }
   ],
   "source": [
    "# Исследуюю название плотформ\n",
    "df.platform.unique()"
   ]
  },
  {
   "cell_type": "code",
   "execution_count": 12,
   "metadata": {},
   "outputs": [
    {
     "data": {
      "text/plain": [
       "array(['E', nan, 'M', 'T', 'E10+', 'K-A', 'AO', 'EC', 'RP'], dtype=object)"
      ]
     },
     "execution_count": 12,
     "metadata": {},
     "output_type": "execute_result"
    }
   ],
   "source": [
    "# смотрю какие рейтинги существуют\n",
    "df.rating.unique()"
   ]
  },
  {
   "cell_type": "markdown",
   "metadata": {},
   "source": [
    "* «EC» («Early childhood») — «Для детей младшего возраста»  - от 3-х лет\n",
    "* «E» («Everyone») — «Для всех»  - от 6 лет. \n",
    "  * *Первоначально \"K-A\" (\"Kids to Adults\")*\n",
    "* «E10+» («Everyone 10 and older») — «Для всех от 10 лет и старше»\n",
    "* «T» («Teen») — «Подросткам»  - от 13 лет\n",
    "* «M» («Mature») — «Для взрослых»  - от 17 лет\n",
    "* «AO» («Adults Only 18+») — «Только для взрослых» - от 18 лет\n",
    "* «RP» («Rating Pending») — «Рейтинг ожидается»"
   ]
  },
  {
   "cell_type": "code",
   "execution_count": 13,
   "metadata": {},
   "outputs": [
    {
     "data": {
      "text/html": [
       "<div>\n",
       "<style scoped>\n",
       "    .dataframe tbody tr th:only-of-type {\n",
       "        vertical-align: middle;\n",
       "    }\n",
       "\n",
       "    .dataframe tbody tr th {\n",
       "        vertical-align: top;\n",
       "    }\n",
       "\n",
       "    .dataframe thead th {\n",
       "        text-align: right;\n",
       "    }\n",
       "</style>\n",
       "<table border=\"1\" class=\"dataframe\">\n",
       "  <thead>\n",
       "    <tr style=\"text-align: right;\">\n",
       "      <th></th>\n",
       "      <th>name</th>\n",
       "      <th>platform</th>\n",
       "      <th>year_of_release</th>\n",
       "      <th>genre</th>\n",
       "      <th>na_sales</th>\n",
       "      <th>eu_sales</th>\n",
       "      <th>jp_sales</th>\n",
       "      <th>other_sales</th>\n",
       "      <th>critic_score</th>\n",
       "      <th>user_score</th>\n",
       "      <th>rating</th>\n",
       "    </tr>\n",
       "  </thead>\n",
       "  <tbody>\n",
       "    <tr>\n",
       "      <th>659</th>\n",
       "      <td>NaN</td>\n",
       "      <td>GEN</td>\n",
       "      <td>1993.0</td>\n",
       "      <td>NaN</td>\n",
       "      <td>1.78</td>\n",
       "      <td>0.53</td>\n",
       "      <td>0.00</td>\n",
       "      <td>0.08</td>\n",
       "      <td>NaN</td>\n",
       "      <td>NaN</td>\n",
       "      <td>NaN</td>\n",
       "    </tr>\n",
       "    <tr>\n",
       "      <th>14244</th>\n",
       "      <td>NaN</td>\n",
       "      <td>GEN</td>\n",
       "      <td>1993.0</td>\n",
       "      <td>NaN</td>\n",
       "      <td>0.00</td>\n",
       "      <td>0.00</td>\n",
       "      <td>0.03</td>\n",
       "      <td>0.00</td>\n",
       "      <td>NaN</td>\n",
       "      <td>NaN</td>\n",
       "      <td>NaN</td>\n",
       "    </tr>\n",
       "  </tbody>\n",
       "</table>\n",
       "</div>"
      ],
      "text/plain": [
       "      name platform  year_of_release genre  na_sales  eu_sales  jp_sales  \\\n",
       "659    NaN      GEN           1993.0   NaN      1.78      0.53      0.00   \n",
       "14244  NaN      GEN           1993.0   NaN      0.00      0.00      0.03   \n",
       "\n",
       "       other_sales  critic_score user_score rating  \n",
       "659           0.08           NaN        NaN    NaN  \n",
       "14244         0.00           NaN        NaN    NaN  "
      ]
     },
     "execution_count": 13,
     "metadata": {},
     "output_type": "execute_result"
    }
   ],
   "source": [
    "#Смотрю, что это тут за интересные игры без жанра и названия )\n",
    "df[df.name.isna()]"
   ]
  },
  {
   "cell_type": "markdown",
   "metadata": {},
   "source": [
    "У первой игры есть нормальные продажи, да у второй хоть немного, но присутсвуют. Не буду удалять. Так как данные заносились из открытых источников, а игры достаточно старые (1993 год) возможно пр переносе данных возникла ошибка. Так как этих строки всего 2 и у них есть продажи, я оставлю их как есть."
   ]
  },
  {
   "cell_type": "markdown",
   "metadata": {},
   "source": [
    "### Обработка пропусков"
   ]
  },
  {
   "cell_type": "markdown",
   "metadata": {},
   "source": [
    "<div class=\"alert alert-danger\">\n",
    "<b>Необходимо исправить ❌</b>\n",
    "\n",
    "Прежде чем производить какие-либо модификации данных (удалять пропуски / заполнять пропуски «заглушкой / оставлять пропуски «как есть») хотелось бы порассуждать на тему природы пропусков в наших данных.\n",
    "\n",
    "Одна из задач этого проекта (согласно брифа): \n",
    "\n",
    "1. Объясните, почему заполнили пропуски определённым образом или почему не стали это делать, \n",
    "\n",
    "2. Опишите причины, которые могли привести к пропускам \n",
    "\n",
    "3. Обратите внимание на аббревиатуру 'tbd' в столбце с оценкой пользователей. Отдельно разберите это значение и опишите, как его обработать.\n",
    "\n",
    "4. Также, скажи пожалуйста, какова на твой взгляд причина того, что в столбце с оценками экспертов, с оценками пользователей и с рейтингами так много пропусков? Как ты считаешь, может ли быть какая-то связь с тем, что в столбце с рейтингами >40% пропусков и тем, что эти оценки (рейтинги) выставляет **именно Американское рейтинговое агентство?</div>\n"
   ]
  },
  {
   "cell_type": "markdown",
   "metadata": {},
   "source": [
    "<div style=\"background: #B0E0E6; padding: 5px; border: 1px solid SteelBlue; border-radius: 5px;\">\n",
    "    <font color='4682B4'><u><b>КОММЕНТАРИЙ СТУДЕНТА</b></u></font>\n",
    "    <br />\n",
    "    <font color='4682B4'>Отличная идея, спасибо! Почему-то даже загуглив и почитав википедию по ESRB  я не провёл параллель что это американская компания и для Японии (а возможно и частично Европы тоже) этот рейтиг может быть не таким актуальным и у них он другой! Вроде очевидо, но в голову не пришло, спасибо ))\n",
    "   \n",
    "   * Но так же я думаю, что так как много игр имеет околонулевые продажи, т.е. не стали популярными, то и оценок по ним и нет толком, потому что в них никто почти и не играл, а если играл, то не факт что оценивал.</font>\n",
    "</div>"
   ]
  },
  {
   "cell_type": "markdown",
   "metadata": {},
   "source": [
    "#### Год релиза"
   ]
  },
  {
   "cell_type": "markdown",
   "metadata": {},
   "source": [
    "Посмотрим на игры без года релиза."
   ]
  },
  {
   "cell_type": "code",
   "execution_count": 14,
   "metadata": {},
   "outputs": [
    {
     "data": {
      "text/html": [
       "<div>\n",
       "<style scoped>\n",
       "    .dataframe tbody tr th:only-of-type {\n",
       "        vertical-align: middle;\n",
       "    }\n",
       "\n",
       "    .dataframe tbody tr th {\n",
       "        vertical-align: top;\n",
       "    }\n",
       "\n",
       "    .dataframe thead th {\n",
       "        text-align: right;\n",
       "    }\n",
       "</style>\n",
       "<table border=\"1\" class=\"dataframe\">\n",
       "  <thead>\n",
       "    <tr style=\"text-align: right;\">\n",
       "      <th></th>\n",
       "      <th>name</th>\n",
       "      <th>platform</th>\n",
       "      <th>year_of_release</th>\n",
       "      <th>genre</th>\n",
       "      <th>na_sales</th>\n",
       "      <th>eu_sales</th>\n",
       "      <th>jp_sales</th>\n",
       "      <th>other_sales</th>\n",
       "      <th>critic_score</th>\n",
       "      <th>user_score</th>\n",
       "      <th>rating</th>\n",
       "    </tr>\n",
       "  </thead>\n",
       "  <tbody>\n",
       "    <tr>\n",
       "      <th>183</th>\n",
       "      <td>Madden NFL 2004</td>\n",
       "      <td>PS2</td>\n",
       "      <td>NaN</td>\n",
       "      <td>Sports</td>\n",
       "      <td>4.26</td>\n",
       "      <td>0.26</td>\n",
       "      <td>0.01</td>\n",
       "      <td>0.71</td>\n",
       "      <td>94.0</td>\n",
       "      <td>8.5</td>\n",
       "      <td>E</td>\n",
       "    </tr>\n",
       "    <tr>\n",
       "      <th>377</th>\n",
       "      <td>FIFA Soccer 2004</td>\n",
       "      <td>PS2</td>\n",
       "      <td>NaN</td>\n",
       "      <td>Sports</td>\n",
       "      <td>0.59</td>\n",
       "      <td>2.36</td>\n",
       "      <td>0.04</td>\n",
       "      <td>0.51</td>\n",
       "      <td>84.0</td>\n",
       "      <td>6.4</td>\n",
       "      <td>E</td>\n",
       "    </tr>\n",
       "    <tr>\n",
       "      <th>456</th>\n",
       "      <td>LEGO Batman: The Videogame</td>\n",
       "      <td>Wii</td>\n",
       "      <td>NaN</td>\n",
       "      <td>Action</td>\n",
       "      <td>1.80</td>\n",
       "      <td>0.97</td>\n",
       "      <td>0.00</td>\n",
       "      <td>0.29</td>\n",
       "      <td>74.0</td>\n",
       "      <td>7.9</td>\n",
       "      <td>E10+</td>\n",
       "    </tr>\n",
       "    <tr>\n",
       "      <th>475</th>\n",
       "      <td>wwe Smackdown vs. Raw 2006</td>\n",
       "      <td>PS2</td>\n",
       "      <td>NaN</td>\n",
       "      <td>Fighting</td>\n",
       "      <td>1.57</td>\n",
       "      <td>1.02</td>\n",
       "      <td>0.00</td>\n",
       "      <td>0.41</td>\n",
       "      <td>NaN</td>\n",
       "      <td>NaN</td>\n",
       "      <td>NaN</td>\n",
       "    </tr>\n",
       "    <tr>\n",
       "      <th>609</th>\n",
       "      <td>Space Invaders</td>\n",
       "      <td>2600</td>\n",
       "      <td>NaN</td>\n",
       "      <td>Shooter</td>\n",
       "      <td>2.36</td>\n",
       "      <td>0.14</td>\n",
       "      <td>0.00</td>\n",
       "      <td>0.03</td>\n",
       "      <td>NaN</td>\n",
       "      <td>NaN</td>\n",
       "      <td>NaN</td>\n",
       "    </tr>\n",
       "    <tr>\n",
       "      <th>...</th>\n",
       "      <td>...</td>\n",
       "      <td>...</td>\n",
       "      <td>...</td>\n",
       "      <td>...</td>\n",
       "      <td>...</td>\n",
       "      <td>...</td>\n",
       "      <td>...</td>\n",
       "      <td>...</td>\n",
       "      <td>...</td>\n",
       "      <td>...</td>\n",
       "      <td>...</td>\n",
       "    </tr>\n",
       "    <tr>\n",
       "      <th>16373</th>\n",
       "      <td>PDC World Championship Darts 2008</td>\n",
       "      <td>PSP</td>\n",
       "      <td>NaN</td>\n",
       "      <td>Sports</td>\n",
       "      <td>0.01</td>\n",
       "      <td>0.00</td>\n",
       "      <td>0.00</td>\n",
       "      <td>0.00</td>\n",
       "      <td>43.0</td>\n",
       "      <td>tbd</td>\n",
       "      <td>E10+</td>\n",
       "    </tr>\n",
       "    <tr>\n",
       "      <th>16405</th>\n",
       "      <td>Freaky Flyers</td>\n",
       "      <td>GC</td>\n",
       "      <td>NaN</td>\n",
       "      <td>Racing</td>\n",
       "      <td>0.01</td>\n",
       "      <td>0.00</td>\n",
       "      <td>0.00</td>\n",
       "      <td>0.00</td>\n",
       "      <td>69.0</td>\n",
       "      <td>6.5</td>\n",
       "      <td>T</td>\n",
       "    </tr>\n",
       "    <tr>\n",
       "      <th>16448</th>\n",
       "      <td>Inversion</td>\n",
       "      <td>PC</td>\n",
       "      <td>NaN</td>\n",
       "      <td>Shooter</td>\n",
       "      <td>0.01</td>\n",
       "      <td>0.00</td>\n",
       "      <td>0.00</td>\n",
       "      <td>0.00</td>\n",
       "      <td>59.0</td>\n",
       "      <td>6.7</td>\n",
       "      <td>M</td>\n",
       "    </tr>\n",
       "    <tr>\n",
       "      <th>16458</th>\n",
       "      <td>Hakuouki: Shinsengumi Kitan</td>\n",
       "      <td>PS3</td>\n",
       "      <td>NaN</td>\n",
       "      <td>Adventure</td>\n",
       "      <td>0.01</td>\n",
       "      <td>0.00</td>\n",
       "      <td>0.00</td>\n",
       "      <td>0.00</td>\n",
       "      <td>NaN</td>\n",
       "      <td>NaN</td>\n",
       "      <td>NaN</td>\n",
       "    </tr>\n",
       "    <tr>\n",
       "      <th>16522</th>\n",
       "      <td>Virtua Quest</td>\n",
       "      <td>GC</td>\n",
       "      <td>NaN</td>\n",
       "      <td>Role-Playing</td>\n",
       "      <td>0.01</td>\n",
       "      <td>0.00</td>\n",
       "      <td>0.00</td>\n",
       "      <td>0.00</td>\n",
       "      <td>55.0</td>\n",
       "      <td>5.5</td>\n",
       "      <td>T</td>\n",
       "    </tr>\n",
       "  </tbody>\n",
       "</table>\n",
       "<p>269 rows × 11 columns</p>\n",
       "</div>"
      ],
      "text/plain": [
       "                                    name platform  year_of_release  \\\n",
       "183                      Madden NFL 2004      PS2              NaN   \n",
       "377                     FIFA Soccer 2004      PS2              NaN   \n",
       "456           LEGO Batman: The Videogame      Wii              NaN   \n",
       "475           wwe Smackdown vs. Raw 2006      PS2              NaN   \n",
       "609                       Space Invaders     2600              NaN   \n",
       "...                                  ...      ...              ...   \n",
       "16373  PDC World Championship Darts 2008      PSP              NaN   \n",
       "16405                      Freaky Flyers       GC              NaN   \n",
       "16448                          Inversion       PC              NaN   \n",
       "16458        Hakuouki: Shinsengumi Kitan      PS3              NaN   \n",
       "16522                       Virtua Quest       GC              NaN   \n",
       "\n",
       "              genre  na_sales  eu_sales  jp_sales  other_sales  critic_score  \\\n",
       "183          Sports      4.26      0.26      0.01         0.71          94.0   \n",
       "377          Sports      0.59      2.36      0.04         0.51          84.0   \n",
       "456          Action      1.80      0.97      0.00         0.29          74.0   \n",
       "475        Fighting      1.57      1.02      0.00         0.41           NaN   \n",
       "609         Shooter      2.36      0.14      0.00         0.03           NaN   \n",
       "...             ...       ...       ...       ...          ...           ...   \n",
       "16373        Sports      0.01      0.00      0.00         0.00          43.0   \n",
       "16405        Racing      0.01      0.00      0.00         0.00          69.0   \n",
       "16448       Shooter      0.01      0.00      0.00         0.00          59.0   \n",
       "16458     Adventure      0.01      0.00      0.00         0.00           NaN   \n",
       "16522  Role-Playing      0.01      0.00      0.00         0.00          55.0   \n",
       "\n",
       "      user_score rating  \n",
       "183          8.5      E  \n",
       "377          6.4      E  \n",
       "456          7.9   E10+  \n",
       "475          NaN    NaN  \n",
       "609          NaN    NaN  \n",
       "...          ...    ...  \n",
       "16373        tbd   E10+  \n",
       "16405        6.5      T  \n",
       "16448        6.7      M  \n",
       "16458        NaN    NaN  \n",
       "16522        5.5      T  \n",
       "\n",
       "[269 rows x 11 columns]"
      ]
     },
     "execution_count": 14,
     "metadata": {},
     "output_type": "execute_result"
    }
   ],
   "source": [
    "df[df['year_of_release'].isna()]"
   ]
  },
  {
   "cell_type": "code",
   "execution_count": 15,
   "metadata": {},
   "outputs": [
    {
     "data": {
      "text/plain": [
       "0.01609332934489979"
      ]
     },
     "execution_count": 15,
     "metadata": {},
     "output_type": "execute_result"
    }
   ],
   "source": [
    "len(df[df['year_of_release'].isna()])/len(df)"
   ]
  },
  {
   "cell_type": "markdown",
   "metadata": {},
   "source": [
    "<div class=\"alert alert-warning\">\n",
    "<b>Комментарий 👉</b>\n",
    "\n",
    "В библиотеке Pandas более типичным способом получения информации о размерности датафрейма  является использование метода **shape**, а не функции **len()** или **info()**. Так (**псевдокод**): df.shape[0] – «покажет» количество строк в датафрейме, а df.shape[1] - количество столбцов. Ну а df.shape – выведет размерность датафрейма в виде кортежа с 2мя значениями (первое число – количество строк, второе – столбцов).</div>\n"
   ]
  },
  {
   "cell_type": "markdown",
   "metadata": {},
   "source": [
    "<div style=\"background: #B0E0E6; padding: 5px; border: 1px solid SteelBlue; border-radius: 5px;\">\n",
    "    <font color='4682B4'><u><b>КОММЕНТАРИЙ СТУДЕНТА</b></u></font>\n",
    "    <br />\n",
    "    <font color='4682B4'>Поняял, спасибо!)</font>\n",
    "</div>"
   ]
  },
  {
   "cell_type": "markdown",
   "metadata": {},
   "source": [
    "Данных с пропусками примерно 1,6%, так как точно год узнать не получиться (да у некоторых игр он указан в названии, но далеко не у всех, и не всегда игра выходит в указзаный год), то я заменю пропуски на 1900, и когда буду делать анализ по годам исключу эти данные."
   ]
  },
  {
   "cell_type": "code",
   "execution_count": 16,
   "metadata": {},
   "outputs": [],
   "source": [
    "# создаю копию дата фрайма, для фильтрации, чтобы не трогать первоначальный)\n",
    "fdf=df.copy()\n"
   ]
  },
  {
   "cell_type": "markdown",
   "metadata": {},
   "source": [
    "<div class=\"alert alert-success\">\n",
    "<b>ОТЛИЧНО! 👍</b>\n",
    "\n",
    "А вот здесь отлично! Молодец!\n",
    "</div>\n"
   ]
  },
  {
   "cell_type": "code",
   "execution_count": 17,
   "metadata": {},
   "outputs": [],
   "source": [
    "fdf['year_of_release'].fillna(1900,inplace=True)"
   ]
  },
  {
   "cell_type": "code",
   "execution_count": 18,
   "metadata": {},
   "outputs": [
    {
     "data": {
      "text/html": [
       "<div>\n",
       "<style scoped>\n",
       "    .dataframe tbody tr th:only-of-type {\n",
       "        vertical-align: middle;\n",
       "    }\n",
       "\n",
       "    .dataframe tbody tr th {\n",
       "        vertical-align: top;\n",
       "    }\n",
       "\n",
       "    .dataframe thead th {\n",
       "        text-align: right;\n",
       "    }\n",
       "</style>\n",
       "<table border=\"1\" class=\"dataframe\">\n",
       "  <thead>\n",
       "    <tr style=\"text-align: right;\">\n",
       "      <th></th>\n",
       "      <th>name</th>\n",
       "      <th>platform</th>\n",
       "      <th>year_of_release</th>\n",
       "      <th>genre</th>\n",
       "      <th>na_sales</th>\n",
       "      <th>eu_sales</th>\n",
       "      <th>jp_sales</th>\n",
       "      <th>other_sales</th>\n",
       "      <th>critic_score</th>\n",
       "      <th>user_score</th>\n",
       "      <th>rating</th>\n",
       "    </tr>\n",
       "  </thead>\n",
       "  <tbody>\n",
       "    <tr>\n",
       "      <th>0</th>\n",
       "      <td>Wii Sports</td>\n",
       "      <td>Wii</td>\n",
       "      <td>2006.0</td>\n",
       "      <td>Sports</td>\n",
       "      <td>41.36</td>\n",
       "      <td>28.96</td>\n",
       "      <td>3.77</td>\n",
       "      <td>8.45</td>\n",
       "      <td>76.0</td>\n",
       "      <td>8</td>\n",
       "      <td>E</td>\n",
       "    </tr>\n",
       "    <tr>\n",
       "      <th>1</th>\n",
       "      <td>Super Mario Bros.</td>\n",
       "      <td>NES</td>\n",
       "      <td>1985.0</td>\n",
       "      <td>Platform</td>\n",
       "      <td>29.08</td>\n",
       "      <td>3.58</td>\n",
       "      <td>6.81</td>\n",
       "      <td>0.77</td>\n",
       "      <td>NaN</td>\n",
       "      <td>NaN</td>\n",
       "      <td>NaN</td>\n",
       "    </tr>\n",
       "    <tr>\n",
       "      <th>2</th>\n",
       "      <td>Mario Kart Wii</td>\n",
       "      <td>Wii</td>\n",
       "      <td>2008.0</td>\n",
       "      <td>Racing</td>\n",
       "      <td>15.68</td>\n",
       "      <td>12.76</td>\n",
       "      <td>3.79</td>\n",
       "      <td>3.29</td>\n",
       "      <td>82.0</td>\n",
       "      <td>8.3</td>\n",
       "      <td>E</td>\n",
       "    </tr>\n",
       "    <tr>\n",
       "      <th>3</th>\n",
       "      <td>Wii Sports Resort</td>\n",
       "      <td>Wii</td>\n",
       "      <td>2009.0</td>\n",
       "      <td>Sports</td>\n",
       "      <td>15.61</td>\n",
       "      <td>10.93</td>\n",
       "      <td>3.28</td>\n",
       "      <td>2.95</td>\n",
       "      <td>80.0</td>\n",
       "      <td>8</td>\n",
       "      <td>E</td>\n",
       "    </tr>\n",
       "    <tr>\n",
       "      <th>4</th>\n",
       "      <td>Pokemon Red/Pokemon Blue</td>\n",
       "      <td>GB</td>\n",
       "      <td>1996.0</td>\n",
       "      <td>Role-Playing</td>\n",
       "      <td>11.27</td>\n",
       "      <td>8.89</td>\n",
       "      <td>10.22</td>\n",
       "      <td>1.00</td>\n",
       "      <td>NaN</td>\n",
       "      <td>NaN</td>\n",
       "      <td>NaN</td>\n",
       "    </tr>\n",
       "    <tr>\n",
       "      <th>...</th>\n",
       "      <td>...</td>\n",
       "      <td>...</td>\n",
       "      <td>...</td>\n",
       "      <td>...</td>\n",
       "      <td>...</td>\n",
       "      <td>...</td>\n",
       "      <td>...</td>\n",
       "      <td>...</td>\n",
       "      <td>...</td>\n",
       "      <td>...</td>\n",
       "      <td>...</td>\n",
       "    </tr>\n",
       "    <tr>\n",
       "      <th>16710</th>\n",
       "      <td>Samurai Warriors: Sanada Maru</td>\n",
       "      <td>PS3</td>\n",
       "      <td>2016.0</td>\n",
       "      <td>Action</td>\n",
       "      <td>0.00</td>\n",
       "      <td>0.00</td>\n",
       "      <td>0.01</td>\n",
       "      <td>0.00</td>\n",
       "      <td>NaN</td>\n",
       "      <td>NaN</td>\n",
       "      <td>NaN</td>\n",
       "    </tr>\n",
       "    <tr>\n",
       "      <th>16711</th>\n",
       "      <td>LMA Manager 2007</td>\n",
       "      <td>X360</td>\n",
       "      <td>2006.0</td>\n",
       "      <td>Sports</td>\n",
       "      <td>0.00</td>\n",
       "      <td>0.01</td>\n",
       "      <td>0.00</td>\n",
       "      <td>0.00</td>\n",
       "      <td>NaN</td>\n",
       "      <td>NaN</td>\n",
       "      <td>NaN</td>\n",
       "    </tr>\n",
       "    <tr>\n",
       "      <th>16712</th>\n",
       "      <td>Haitaka no Psychedelica</td>\n",
       "      <td>PSV</td>\n",
       "      <td>2016.0</td>\n",
       "      <td>Adventure</td>\n",
       "      <td>0.00</td>\n",
       "      <td>0.00</td>\n",
       "      <td>0.01</td>\n",
       "      <td>0.00</td>\n",
       "      <td>NaN</td>\n",
       "      <td>NaN</td>\n",
       "      <td>NaN</td>\n",
       "    </tr>\n",
       "    <tr>\n",
       "      <th>16713</th>\n",
       "      <td>Spirits &amp; Spells</td>\n",
       "      <td>GBA</td>\n",
       "      <td>2003.0</td>\n",
       "      <td>Platform</td>\n",
       "      <td>0.01</td>\n",
       "      <td>0.00</td>\n",
       "      <td>0.00</td>\n",
       "      <td>0.00</td>\n",
       "      <td>NaN</td>\n",
       "      <td>NaN</td>\n",
       "      <td>NaN</td>\n",
       "    </tr>\n",
       "    <tr>\n",
       "      <th>16714</th>\n",
       "      <td>Winning Post 8 2016</td>\n",
       "      <td>PSV</td>\n",
       "      <td>2016.0</td>\n",
       "      <td>Simulation</td>\n",
       "      <td>0.00</td>\n",
       "      <td>0.00</td>\n",
       "      <td>0.01</td>\n",
       "      <td>0.00</td>\n",
       "      <td>NaN</td>\n",
       "      <td>NaN</td>\n",
       "      <td>NaN</td>\n",
       "    </tr>\n",
       "  </tbody>\n",
       "</table>\n",
       "<p>16715 rows × 11 columns</p>\n",
       "</div>"
      ],
      "text/plain": [
       "                                name platform  year_of_release         genre  \\\n",
       "0                         Wii Sports      Wii           2006.0        Sports   \n",
       "1                  Super Mario Bros.      NES           1985.0      Platform   \n",
       "2                     Mario Kart Wii      Wii           2008.0        Racing   \n",
       "3                  Wii Sports Resort      Wii           2009.0        Sports   \n",
       "4           Pokemon Red/Pokemon Blue       GB           1996.0  Role-Playing   \n",
       "...                              ...      ...              ...           ...   \n",
       "16710  Samurai Warriors: Sanada Maru      PS3           2016.0        Action   \n",
       "16711               LMA Manager 2007     X360           2006.0        Sports   \n",
       "16712        Haitaka no Psychedelica      PSV           2016.0     Adventure   \n",
       "16713               Spirits & Spells      GBA           2003.0      Platform   \n",
       "16714            Winning Post 8 2016      PSV           2016.0    Simulation   \n",
       "\n",
       "       na_sales  eu_sales  jp_sales  other_sales  critic_score user_score  \\\n",
       "0         41.36     28.96      3.77         8.45          76.0          8   \n",
       "1         29.08      3.58      6.81         0.77           NaN        NaN   \n",
       "2         15.68     12.76      3.79         3.29          82.0        8.3   \n",
       "3         15.61     10.93      3.28         2.95          80.0          8   \n",
       "4         11.27      8.89     10.22         1.00           NaN        NaN   \n",
       "...         ...       ...       ...          ...           ...        ...   \n",
       "16710      0.00      0.00      0.01         0.00           NaN        NaN   \n",
       "16711      0.00      0.01      0.00         0.00           NaN        NaN   \n",
       "16712      0.00      0.00      0.01         0.00           NaN        NaN   \n",
       "16713      0.01      0.00      0.00         0.00           NaN        NaN   \n",
       "16714      0.00      0.00      0.01         0.00           NaN        NaN   \n",
       "\n",
       "      rating  \n",
       "0          E  \n",
       "1        NaN  \n",
       "2          E  \n",
       "3          E  \n",
       "4        NaN  \n",
       "...      ...  \n",
       "16710    NaN  \n",
       "16711    NaN  \n",
       "16712    NaN  \n",
       "16713    NaN  \n",
       "16714    NaN  \n",
       "\n",
       "[16715 rows x 11 columns]"
      ]
     },
     "execution_count": 18,
     "metadata": {},
     "output_type": "execute_result"
    }
   ],
   "source": [
    "fdf"
   ]
  },
  {
   "cell_type": "markdown",
   "metadata": {},
   "source": [
    "всё в порядке, все строки на месте."
   ]
  },
  {
   "cell_type": "markdown",
   "metadata": {},
   "source": [
    "<div class=\"alert alert-warning\">\n",
    "<b>Комментарий 👉</b>\n",
    "\n",
    "Выводить весь датафрейм можно, но как правило я так не делаю (пространство на мониторе конЕчно, особенно когда в нескольких ячейках необходимо последовательно посмотреть, что в датафрейме изменилось). Достаточно \"типового\" .head() с 5 строками - как подтверждение того, что данные в датафрейм загружены верно. Если же в твоём случае считать, что 5 строк в начале и 5 строк в конце - это как массив из которого будет видно какие проблемы есть с данными (пропуски, аномальные значения), то поверь, для датафрейма с 16+ тысячами записей 10 строк это \"капля в море\". Проблемы с данными видны не будут. Для анализа мы будем использовать другие инструменты: .info(), .describe() и т.д.\n",
    "\n",
    "Если же ты выводишь датафрейм \"полностью\" для того, чтобы размерность датафрейма была на экране, то \"красивее\" использовать .shape в отдельной ячейке.</div>\n"
   ]
  },
  {
   "cell_type": "markdown",
   "metadata": {},
   "source": [
    "<div style=\"background: #B0E0E6; padding: 5px; border: 1px solid SteelBlue; border-radius: 5px;\">\n",
    "    <font color='4682B4'><u><b>КОММЕНТАРИЙ СТУДЕНТА</b></u></font>\n",
    "    <br />\n",
    "    <font color='4682B4'>Ну да, для меня это как head(,tail и количество строк, я после предыдущих проектов бдю чтобы ничего не пропало )) Но спасибо, учту твой коммент! </font>\n",
    "</div>"
   ]
  },
  {
   "cell_type": "markdown",
   "metadata": {},
   "source": [
    "<div class=\"alert alert-success\">\n",
    "<b>КОММЕНТАРИЙ V2</b>\n",
    "\n",
    "Удобнее используя метод shape это проверять, ИМХО.</div>\n"
   ]
  },
  {
   "cell_type": "markdown",
   "metadata": {},
   "source": [
    "#### Оценка критиков"
   ]
  },
  {
   "cell_type": "code",
   "execution_count": 19,
   "metadata": {},
   "outputs": [
    {
     "data": {
      "text/plain": [
       "8578"
      ]
     },
     "execution_count": 19,
     "metadata": {},
     "output_type": "execute_result"
    }
   ],
   "source": [
    "fdf['critic_score'].isna().sum()"
   ]
  },
  {
   "cell_type": "markdown",
   "metadata": {},
   "source": [
    "Пропусков много, чтобы не искажать данные заменю их на -1, и когда буду рассматривать зависимость от оценки критиков, буду исключать это значение."
   ]
  },
  {
   "cell_type": "code",
   "execution_count": 20,
   "metadata": {},
   "outputs": [],
   "source": [
    "fdf['critic_score'].fillna(-1,inplace=True)"
   ]
  },
  {
   "cell_type": "code",
   "execution_count": 21,
   "metadata": {},
   "outputs": [
    {
     "data": {
      "text/html": [
       "<div>\n",
       "<style scoped>\n",
       "    .dataframe tbody tr th:only-of-type {\n",
       "        vertical-align: middle;\n",
       "    }\n",
       "\n",
       "    .dataframe tbody tr th {\n",
       "        vertical-align: top;\n",
       "    }\n",
       "\n",
       "    .dataframe thead th {\n",
       "        text-align: right;\n",
       "    }\n",
       "</style>\n",
       "<table border=\"1\" class=\"dataframe\">\n",
       "  <thead>\n",
       "    <tr style=\"text-align: right;\">\n",
       "      <th></th>\n",
       "      <th>name</th>\n",
       "      <th>platform</th>\n",
       "      <th>year_of_release</th>\n",
       "      <th>genre</th>\n",
       "      <th>na_sales</th>\n",
       "      <th>eu_sales</th>\n",
       "      <th>jp_sales</th>\n",
       "      <th>other_sales</th>\n",
       "      <th>critic_score</th>\n",
       "      <th>user_score</th>\n",
       "      <th>rating</th>\n",
       "    </tr>\n",
       "  </thead>\n",
       "  <tbody>\n",
       "    <tr>\n",
       "      <th>0</th>\n",
       "      <td>Wii Sports</td>\n",
       "      <td>Wii</td>\n",
       "      <td>2006.0</td>\n",
       "      <td>Sports</td>\n",
       "      <td>41.36</td>\n",
       "      <td>28.96</td>\n",
       "      <td>3.77</td>\n",
       "      <td>8.45</td>\n",
       "      <td>76.0</td>\n",
       "      <td>8</td>\n",
       "      <td>E</td>\n",
       "    </tr>\n",
       "    <tr>\n",
       "      <th>1</th>\n",
       "      <td>Super Mario Bros.</td>\n",
       "      <td>NES</td>\n",
       "      <td>1985.0</td>\n",
       "      <td>Platform</td>\n",
       "      <td>29.08</td>\n",
       "      <td>3.58</td>\n",
       "      <td>6.81</td>\n",
       "      <td>0.77</td>\n",
       "      <td>-1.0</td>\n",
       "      <td>NaN</td>\n",
       "      <td>NaN</td>\n",
       "    </tr>\n",
       "    <tr>\n",
       "      <th>2</th>\n",
       "      <td>Mario Kart Wii</td>\n",
       "      <td>Wii</td>\n",
       "      <td>2008.0</td>\n",
       "      <td>Racing</td>\n",
       "      <td>15.68</td>\n",
       "      <td>12.76</td>\n",
       "      <td>3.79</td>\n",
       "      <td>3.29</td>\n",
       "      <td>82.0</td>\n",
       "      <td>8.3</td>\n",
       "      <td>E</td>\n",
       "    </tr>\n",
       "    <tr>\n",
       "      <th>3</th>\n",
       "      <td>Wii Sports Resort</td>\n",
       "      <td>Wii</td>\n",
       "      <td>2009.0</td>\n",
       "      <td>Sports</td>\n",
       "      <td>15.61</td>\n",
       "      <td>10.93</td>\n",
       "      <td>3.28</td>\n",
       "      <td>2.95</td>\n",
       "      <td>80.0</td>\n",
       "      <td>8</td>\n",
       "      <td>E</td>\n",
       "    </tr>\n",
       "    <tr>\n",
       "      <th>4</th>\n",
       "      <td>Pokemon Red/Pokemon Blue</td>\n",
       "      <td>GB</td>\n",
       "      <td>1996.0</td>\n",
       "      <td>Role-Playing</td>\n",
       "      <td>11.27</td>\n",
       "      <td>8.89</td>\n",
       "      <td>10.22</td>\n",
       "      <td>1.00</td>\n",
       "      <td>-1.0</td>\n",
       "      <td>NaN</td>\n",
       "      <td>NaN</td>\n",
       "    </tr>\n",
       "    <tr>\n",
       "      <th>...</th>\n",
       "      <td>...</td>\n",
       "      <td>...</td>\n",
       "      <td>...</td>\n",
       "      <td>...</td>\n",
       "      <td>...</td>\n",
       "      <td>...</td>\n",
       "      <td>...</td>\n",
       "      <td>...</td>\n",
       "      <td>...</td>\n",
       "      <td>...</td>\n",
       "      <td>...</td>\n",
       "    </tr>\n",
       "    <tr>\n",
       "      <th>16710</th>\n",
       "      <td>Samurai Warriors: Sanada Maru</td>\n",
       "      <td>PS3</td>\n",
       "      <td>2016.0</td>\n",
       "      <td>Action</td>\n",
       "      <td>0.00</td>\n",
       "      <td>0.00</td>\n",
       "      <td>0.01</td>\n",
       "      <td>0.00</td>\n",
       "      <td>-1.0</td>\n",
       "      <td>NaN</td>\n",
       "      <td>NaN</td>\n",
       "    </tr>\n",
       "    <tr>\n",
       "      <th>16711</th>\n",
       "      <td>LMA Manager 2007</td>\n",
       "      <td>X360</td>\n",
       "      <td>2006.0</td>\n",
       "      <td>Sports</td>\n",
       "      <td>0.00</td>\n",
       "      <td>0.01</td>\n",
       "      <td>0.00</td>\n",
       "      <td>0.00</td>\n",
       "      <td>-1.0</td>\n",
       "      <td>NaN</td>\n",
       "      <td>NaN</td>\n",
       "    </tr>\n",
       "    <tr>\n",
       "      <th>16712</th>\n",
       "      <td>Haitaka no Psychedelica</td>\n",
       "      <td>PSV</td>\n",
       "      <td>2016.0</td>\n",
       "      <td>Adventure</td>\n",
       "      <td>0.00</td>\n",
       "      <td>0.00</td>\n",
       "      <td>0.01</td>\n",
       "      <td>0.00</td>\n",
       "      <td>-1.0</td>\n",
       "      <td>NaN</td>\n",
       "      <td>NaN</td>\n",
       "    </tr>\n",
       "    <tr>\n",
       "      <th>16713</th>\n",
       "      <td>Spirits &amp; Spells</td>\n",
       "      <td>GBA</td>\n",
       "      <td>2003.0</td>\n",
       "      <td>Platform</td>\n",
       "      <td>0.01</td>\n",
       "      <td>0.00</td>\n",
       "      <td>0.00</td>\n",
       "      <td>0.00</td>\n",
       "      <td>-1.0</td>\n",
       "      <td>NaN</td>\n",
       "      <td>NaN</td>\n",
       "    </tr>\n",
       "    <tr>\n",
       "      <th>16714</th>\n",
       "      <td>Winning Post 8 2016</td>\n",
       "      <td>PSV</td>\n",
       "      <td>2016.0</td>\n",
       "      <td>Simulation</td>\n",
       "      <td>0.00</td>\n",
       "      <td>0.00</td>\n",
       "      <td>0.01</td>\n",
       "      <td>0.00</td>\n",
       "      <td>-1.0</td>\n",
       "      <td>NaN</td>\n",
       "      <td>NaN</td>\n",
       "    </tr>\n",
       "  </tbody>\n",
       "</table>\n",
       "<p>16715 rows × 11 columns</p>\n",
       "</div>"
      ],
      "text/plain": [
       "                                name platform  year_of_release         genre  \\\n",
       "0                         Wii Sports      Wii           2006.0        Sports   \n",
       "1                  Super Mario Bros.      NES           1985.0      Platform   \n",
       "2                     Mario Kart Wii      Wii           2008.0        Racing   \n",
       "3                  Wii Sports Resort      Wii           2009.0        Sports   \n",
       "4           Pokemon Red/Pokemon Blue       GB           1996.0  Role-Playing   \n",
       "...                              ...      ...              ...           ...   \n",
       "16710  Samurai Warriors: Sanada Maru      PS3           2016.0        Action   \n",
       "16711               LMA Manager 2007     X360           2006.0        Sports   \n",
       "16712        Haitaka no Psychedelica      PSV           2016.0     Adventure   \n",
       "16713               Spirits & Spells      GBA           2003.0      Platform   \n",
       "16714            Winning Post 8 2016      PSV           2016.0    Simulation   \n",
       "\n",
       "       na_sales  eu_sales  jp_sales  other_sales  critic_score user_score  \\\n",
       "0         41.36     28.96      3.77         8.45          76.0          8   \n",
       "1         29.08      3.58      6.81         0.77          -1.0        NaN   \n",
       "2         15.68     12.76      3.79         3.29          82.0        8.3   \n",
       "3         15.61     10.93      3.28         2.95          80.0          8   \n",
       "4         11.27      8.89     10.22         1.00          -1.0        NaN   \n",
       "...         ...       ...       ...          ...           ...        ...   \n",
       "16710      0.00      0.00      0.01         0.00          -1.0        NaN   \n",
       "16711      0.00      0.01      0.00         0.00          -1.0        NaN   \n",
       "16712      0.00      0.00      0.01         0.00          -1.0        NaN   \n",
       "16713      0.01      0.00      0.00         0.00          -1.0        NaN   \n",
       "16714      0.00      0.00      0.01         0.00          -1.0        NaN   \n",
       "\n",
       "      rating  \n",
       "0          E  \n",
       "1        NaN  \n",
       "2          E  \n",
       "3          E  \n",
       "4        NaN  \n",
       "...      ...  \n",
       "16710    NaN  \n",
       "16711    NaN  \n",
       "16712    NaN  \n",
       "16713    NaN  \n",
       "16714    NaN  \n",
       "\n",
       "[16715 rows x 11 columns]"
      ]
     },
     "execution_count": 21,
     "metadata": {},
     "output_type": "execute_result"
    }
   ],
   "source": [
    "fdf"
   ]
  },
  {
   "cell_type": "markdown",
   "metadata": {},
   "source": [
    "всё строки на месте, поехали дальше!"
   ]
  },
  {
   "cell_type": "markdown",
   "metadata": {},
   "source": [
    "#### Оценка пользователей"
   ]
  },
  {
   "cell_type": "code",
   "execution_count": 22,
   "metadata": {},
   "outputs": [
    {
     "data": {
      "text/plain": [
       "6701"
      ]
     },
     "execution_count": 22,
     "metadata": {},
     "output_type": "execute_result"
    }
   ],
   "source": [
    "fdf['user_score'].isna().sum()"
   ]
  },
  {
   "cell_type": "markdown",
   "metadata": {},
   "source": [
    "Здесь всё сложнее, потому что тип object из-за того, что присутствует категория tbd(\"to be determined\") - \"Подлежит определению\". Заменю tbd на -999, а пропуски так же на -1, затем так же можно будет их исключать при анализе рейтинга или рассматривтаь отдельно. затем заменю тип на числовой."
   ]
  },
  {
   "cell_type": "code",
   "execution_count": 23,
   "metadata": {},
   "outputs": [],
   "source": [
    "fdf['user_score'].fillna(-1,inplace=True)"
   ]
  },
  {
   "cell_type": "code",
   "execution_count": 24,
   "metadata": {},
   "outputs": [],
   "source": [
    "fdf.loc[(fdf['user_score']=='tbd'), 'user_score'] = -999"
   ]
  },
  {
   "cell_type": "markdown",
   "metadata": {},
   "source": [
    "<div class=\"alert alert-warning\">\n",
    "<b>Комментарий 👉</b>\n",
    "\n",
    "Как ты думаешь, что означает tbd? В Интернете есть ответ на этот вопрос. После твоего ответа как раз и станет очевидной правомерность его замены на NaN.</div>\n"
   ]
  },
  {
   "cell_type": "markdown",
   "metadata": {},
   "source": [
    "<div style=\"background: #B0E0E6; padding: 5px; border: 1px solid SteelBlue; border-radius: 5px;\">\n",
    "    <font color='4682B4'><u><b>КОММЕНТАРИЙ СТУДЕНТА</b></u></font>\n",
    "    <br />\n",
    "    <font color='4682B4'>Я выше и написал, что в процессе определения, т.е. пока не известен. Но так как его природа, в отличии от остальных NaN'ов известна, то я его сохраняю как отдельную категория, я люблю когда есть возможность рассматривать такие вещи отдельно. </font>\n",
    "</div>"
   ]
  },
  {
   "cell_type": "markdown",
   "metadata": {},
   "source": [
    "<div class=\"alert alert-success\">\n",
    "<b>КОММЕНТАРИЙ V2</b>\n",
    "\n",
    "А да, увидел ... видать глаз уже к веччеру замылился. Всё верно. tbd в этом проекте практически NaN и есть.</div>\n"
   ]
  },
  {
   "cell_type": "code",
   "execution_count": 25,
   "metadata": {},
   "outputs": [],
   "source": [
    "fdf['user_score'] = fdf['user_score'].astype('float64')"
   ]
  },
  {
   "cell_type": "code",
   "execution_count": 26,
   "metadata": {},
   "outputs": [
    {
     "data": {
      "text/html": [
       "<div>\n",
       "<style scoped>\n",
       "    .dataframe tbody tr th:only-of-type {\n",
       "        vertical-align: middle;\n",
       "    }\n",
       "\n",
       "    .dataframe tbody tr th {\n",
       "        vertical-align: top;\n",
       "    }\n",
       "\n",
       "    .dataframe thead th {\n",
       "        text-align: right;\n",
       "    }\n",
       "</style>\n",
       "<table border=\"1\" class=\"dataframe\">\n",
       "  <thead>\n",
       "    <tr style=\"text-align: right;\">\n",
       "      <th></th>\n",
       "      <th>name</th>\n",
       "      <th>platform</th>\n",
       "      <th>year_of_release</th>\n",
       "      <th>genre</th>\n",
       "      <th>na_sales</th>\n",
       "      <th>eu_sales</th>\n",
       "      <th>jp_sales</th>\n",
       "      <th>other_sales</th>\n",
       "      <th>critic_score</th>\n",
       "      <th>user_score</th>\n",
       "      <th>rating</th>\n",
       "    </tr>\n",
       "  </thead>\n",
       "  <tbody>\n",
       "    <tr>\n",
       "      <th>0</th>\n",
       "      <td>Wii Sports</td>\n",
       "      <td>Wii</td>\n",
       "      <td>2006.0</td>\n",
       "      <td>Sports</td>\n",
       "      <td>41.36</td>\n",
       "      <td>28.96</td>\n",
       "      <td>3.77</td>\n",
       "      <td>8.45</td>\n",
       "      <td>76.0</td>\n",
       "      <td>8.0</td>\n",
       "      <td>E</td>\n",
       "    </tr>\n",
       "    <tr>\n",
       "      <th>1</th>\n",
       "      <td>Super Mario Bros.</td>\n",
       "      <td>NES</td>\n",
       "      <td>1985.0</td>\n",
       "      <td>Platform</td>\n",
       "      <td>29.08</td>\n",
       "      <td>3.58</td>\n",
       "      <td>6.81</td>\n",
       "      <td>0.77</td>\n",
       "      <td>-1.0</td>\n",
       "      <td>-1.0</td>\n",
       "      <td>NaN</td>\n",
       "    </tr>\n",
       "    <tr>\n",
       "      <th>2</th>\n",
       "      <td>Mario Kart Wii</td>\n",
       "      <td>Wii</td>\n",
       "      <td>2008.0</td>\n",
       "      <td>Racing</td>\n",
       "      <td>15.68</td>\n",
       "      <td>12.76</td>\n",
       "      <td>3.79</td>\n",
       "      <td>3.29</td>\n",
       "      <td>82.0</td>\n",
       "      <td>8.3</td>\n",
       "      <td>E</td>\n",
       "    </tr>\n",
       "    <tr>\n",
       "      <th>3</th>\n",
       "      <td>Wii Sports Resort</td>\n",
       "      <td>Wii</td>\n",
       "      <td>2009.0</td>\n",
       "      <td>Sports</td>\n",
       "      <td>15.61</td>\n",
       "      <td>10.93</td>\n",
       "      <td>3.28</td>\n",
       "      <td>2.95</td>\n",
       "      <td>80.0</td>\n",
       "      <td>8.0</td>\n",
       "      <td>E</td>\n",
       "    </tr>\n",
       "    <tr>\n",
       "      <th>4</th>\n",
       "      <td>Pokemon Red/Pokemon Blue</td>\n",
       "      <td>GB</td>\n",
       "      <td>1996.0</td>\n",
       "      <td>Role-Playing</td>\n",
       "      <td>11.27</td>\n",
       "      <td>8.89</td>\n",
       "      <td>10.22</td>\n",
       "      <td>1.00</td>\n",
       "      <td>-1.0</td>\n",
       "      <td>-1.0</td>\n",
       "      <td>NaN</td>\n",
       "    </tr>\n",
       "    <tr>\n",
       "      <th>...</th>\n",
       "      <td>...</td>\n",
       "      <td>...</td>\n",
       "      <td>...</td>\n",
       "      <td>...</td>\n",
       "      <td>...</td>\n",
       "      <td>...</td>\n",
       "      <td>...</td>\n",
       "      <td>...</td>\n",
       "      <td>...</td>\n",
       "      <td>...</td>\n",
       "      <td>...</td>\n",
       "    </tr>\n",
       "    <tr>\n",
       "      <th>16710</th>\n",
       "      <td>Samurai Warriors: Sanada Maru</td>\n",
       "      <td>PS3</td>\n",
       "      <td>2016.0</td>\n",
       "      <td>Action</td>\n",
       "      <td>0.00</td>\n",
       "      <td>0.00</td>\n",
       "      <td>0.01</td>\n",
       "      <td>0.00</td>\n",
       "      <td>-1.0</td>\n",
       "      <td>-1.0</td>\n",
       "      <td>NaN</td>\n",
       "    </tr>\n",
       "    <tr>\n",
       "      <th>16711</th>\n",
       "      <td>LMA Manager 2007</td>\n",
       "      <td>X360</td>\n",
       "      <td>2006.0</td>\n",
       "      <td>Sports</td>\n",
       "      <td>0.00</td>\n",
       "      <td>0.01</td>\n",
       "      <td>0.00</td>\n",
       "      <td>0.00</td>\n",
       "      <td>-1.0</td>\n",
       "      <td>-1.0</td>\n",
       "      <td>NaN</td>\n",
       "    </tr>\n",
       "    <tr>\n",
       "      <th>16712</th>\n",
       "      <td>Haitaka no Psychedelica</td>\n",
       "      <td>PSV</td>\n",
       "      <td>2016.0</td>\n",
       "      <td>Adventure</td>\n",
       "      <td>0.00</td>\n",
       "      <td>0.00</td>\n",
       "      <td>0.01</td>\n",
       "      <td>0.00</td>\n",
       "      <td>-1.0</td>\n",
       "      <td>-1.0</td>\n",
       "      <td>NaN</td>\n",
       "    </tr>\n",
       "    <tr>\n",
       "      <th>16713</th>\n",
       "      <td>Spirits &amp; Spells</td>\n",
       "      <td>GBA</td>\n",
       "      <td>2003.0</td>\n",
       "      <td>Platform</td>\n",
       "      <td>0.01</td>\n",
       "      <td>0.00</td>\n",
       "      <td>0.00</td>\n",
       "      <td>0.00</td>\n",
       "      <td>-1.0</td>\n",
       "      <td>-1.0</td>\n",
       "      <td>NaN</td>\n",
       "    </tr>\n",
       "    <tr>\n",
       "      <th>16714</th>\n",
       "      <td>Winning Post 8 2016</td>\n",
       "      <td>PSV</td>\n",
       "      <td>2016.0</td>\n",
       "      <td>Simulation</td>\n",
       "      <td>0.00</td>\n",
       "      <td>0.00</td>\n",
       "      <td>0.01</td>\n",
       "      <td>0.00</td>\n",
       "      <td>-1.0</td>\n",
       "      <td>-1.0</td>\n",
       "      <td>NaN</td>\n",
       "    </tr>\n",
       "  </tbody>\n",
       "</table>\n",
       "<p>16715 rows × 11 columns</p>\n",
       "</div>"
      ],
      "text/plain": [
       "                                name platform  year_of_release         genre  \\\n",
       "0                         Wii Sports      Wii           2006.0        Sports   \n",
       "1                  Super Mario Bros.      NES           1985.0      Platform   \n",
       "2                     Mario Kart Wii      Wii           2008.0        Racing   \n",
       "3                  Wii Sports Resort      Wii           2009.0        Sports   \n",
       "4           Pokemon Red/Pokemon Blue       GB           1996.0  Role-Playing   \n",
       "...                              ...      ...              ...           ...   \n",
       "16710  Samurai Warriors: Sanada Maru      PS3           2016.0        Action   \n",
       "16711               LMA Manager 2007     X360           2006.0        Sports   \n",
       "16712        Haitaka no Psychedelica      PSV           2016.0     Adventure   \n",
       "16713               Spirits & Spells      GBA           2003.0      Platform   \n",
       "16714            Winning Post 8 2016      PSV           2016.0    Simulation   \n",
       "\n",
       "       na_sales  eu_sales  jp_sales  other_sales  critic_score  user_score  \\\n",
       "0         41.36     28.96      3.77         8.45          76.0         8.0   \n",
       "1         29.08      3.58      6.81         0.77          -1.0        -1.0   \n",
       "2         15.68     12.76      3.79         3.29          82.0         8.3   \n",
       "3         15.61     10.93      3.28         2.95          80.0         8.0   \n",
       "4         11.27      8.89     10.22         1.00          -1.0        -1.0   \n",
       "...         ...       ...       ...          ...           ...         ...   \n",
       "16710      0.00      0.00      0.01         0.00          -1.0        -1.0   \n",
       "16711      0.00      0.01      0.00         0.00          -1.0        -1.0   \n",
       "16712      0.00      0.00      0.01         0.00          -1.0        -1.0   \n",
       "16713      0.01      0.00      0.00         0.00          -1.0        -1.0   \n",
       "16714      0.00      0.00      0.01         0.00          -1.0        -1.0   \n",
       "\n",
       "      rating  \n",
       "0          E  \n",
       "1        NaN  \n",
       "2          E  \n",
       "3          E  \n",
       "4        NaN  \n",
       "...      ...  \n",
       "16710    NaN  \n",
       "16711    NaN  \n",
       "16712    NaN  \n",
       "16713    NaN  \n",
       "16714    NaN  \n",
       "\n",
       "[16715 rows x 11 columns]"
      ]
     },
     "execution_count": 26,
     "metadata": {},
     "output_type": "execute_result"
    }
   ],
   "source": [
    "fdf"
   ]
  },
  {
   "cell_type": "code",
   "execution_count": 27,
   "metadata": {},
   "outputs": [
    {
     "data": {
      "text/plain": [
       "0.0     1\n",
       "0.2     2\n",
       "0.3     2\n",
       "0.5     2\n",
       "0.6     2\n",
       "       ..\n",
       "9.3    31\n",
       "9.4    11\n",
       "9.5     6\n",
       "9.6     2\n",
       "9.7     1\n",
       "Name: user_score, Length: 95, dtype: int64"
      ]
     },
     "execution_count": 27,
     "metadata": {},
     "output_type": "execute_result"
    }
   ],
   "source": [
    "fdf.query('user_score != -1.0 and user_score != -999.0')['user_score'].value_counts().sort_index()"
   ]
  },
  {
   "cell_type": "code",
   "execution_count": 28,
   "metadata": {},
   "outputs": [
    {
     "data": {
      "text/plain": [
       "13.0     1\n",
       "17.0     1\n",
       "19.0     6\n",
       "20.0     3\n",
       "21.0     1\n",
       "        ..\n",
       "94.0    37\n",
       "95.0    16\n",
       "96.0    18\n",
       "97.0    11\n",
       "98.0     4\n",
       "Name: critic_score, Length: 82, dtype: int64"
      ]
     },
     "execution_count": 28,
     "metadata": {},
     "output_type": "execute_result"
    }
   ],
   "source": [
    "fdf.query('critic_score != -1.0')['critic_score'].value_counts().sort_index()"
   ]
  },
  {
   "cell_type": "markdown",
   "metadata": {},
   "source": [
    "* Оценки пользователей от 0 до 9.7 баллов \n",
    "* Оценки критиков от 13 до 98\n",
    "\n",
    "\n",
    "Чтобы можно было рассматривать и сравнивать их на одной плоскости, то умножу оценки пользователей на 10, тогда их вместе с оценкой критиков, можно будет рассматривать как от 0 до 100"
   ]
  },
  {
   "cell_type": "code",
   "execution_count": 29,
   "metadata": {},
   "outputs": [],
   "source": [
    "def fix_scores(score):\n",
    "    return score * 10 if score != -1.0 and score != -999.0 else score"
   ]
  },
  {
   "cell_type": "code",
   "execution_count": 30,
   "metadata": {},
   "outputs": [],
   "source": [
    "fdf['user_score'] = fdf['user_score'].apply(fix_scores)"
   ]
  },
  {
   "cell_type": "code",
   "execution_count": 31,
   "metadata": {},
   "outputs": [
    {
     "data": {
      "text/plain": [
       "0.0      1\n",
       "2.0      2\n",
       "3.0      2\n",
       "5.0      2\n",
       "6.0      2\n",
       "        ..\n",
       "93.0    31\n",
       "94.0    11\n",
       "95.0     6\n",
       "96.0     2\n",
       "97.0     1\n",
       "Name: user_score, Length: 95, dtype: int64"
      ]
     },
     "execution_count": 31,
     "metadata": {},
     "output_type": "execute_result"
    }
   ],
   "source": [
    "fdf.query('user_score != -1.0 and user_score != -999.0')['user_score'].value_counts().sort_index()"
   ]
  },
  {
   "cell_type": "markdown",
   "metadata": {},
   "source": [
    "Теперь оценки от 0 до 100 в обоих столбцах и можно будет перевести их в целочисленный формат."
   ]
  },
  {
   "cell_type": "code",
   "execution_count": 32,
   "metadata": {},
   "outputs": [
    {
     "data": {
      "text/plain": [
       "Index(['name', 'platform', 'year_of_release', 'genre', 'na_sales', 'eu_sales',\n",
       "       'jp_sales', 'other_sales', 'critic_score', 'user_score', 'rating'],\n",
       "      dtype='object')"
      ]
     },
     "execution_count": 32,
     "metadata": {},
     "output_type": "execute_result"
    }
   ],
   "source": [
    "fdf.columns"
   ]
  },
  {
   "cell_type": "code",
   "execution_count": 33,
   "metadata": {},
   "outputs": [],
   "source": [
    "#меняю формат в колонках - год релиза, оценка пользователей, оценка критиков\n",
    "fdf[['year_of_release','critic_score', 'user_score']] = fdf[['year_of_release','critic_score', 'user_score']].astype('Int64')"
   ]
  },
  {
   "cell_type": "code",
   "execution_count": 34,
   "metadata": {},
   "outputs": [
    {
     "data": {
      "text/html": [
       "<div>\n",
       "<style scoped>\n",
       "    .dataframe tbody tr th:only-of-type {\n",
       "        vertical-align: middle;\n",
       "    }\n",
       "\n",
       "    .dataframe tbody tr th {\n",
       "        vertical-align: top;\n",
       "    }\n",
       "\n",
       "    .dataframe thead th {\n",
       "        text-align: right;\n",
       "    }\n",
       "</style>\n",
       "<table border=\"1\" class=\"dataframe\">\n",
       "  <thead>\n",
       "    <tr style=\"text-align: right;\">\n",
       "      <th></th>\n",
       "      <th>name</th>\n",
       "      <th>platform</th>\n",
       "      <th>year_of_release</th>\n",
       "      <th>genre</th>\n",
       "      <th>na_sales</th>\n",
       "      <th>eu_sales</th>\n",
       "      <th>jp_sales</th>\n",
       "      <th>other_sales</th>\n",
       "      <th>critic_score</th>\n",
       "      <th>user_score</th>\n",
       "      <th>rating</th>\n",
       "    </tr>\n",
       "  </thead>\n",
       "  <tbody>\n",
       "    <tr>\n",
       "      <th>15307</th>\n",
       "      <td>Tale of a Hero</td>\n",
       "      <td>PC</td>\n",
       "      <td>2010</td>\n",
       "      <td>Adventure</td>\n",
       "      <td>0.00</td>\n",
       "      <td>0.02</td>\n",
       "      <td>0.00</td>\n",
       "      <td>0.00</td>\n",
       "      <td>-1</td>\n",
       "      <td>-1</td>\n",
       "      <td>NaN</td>\n",
       "    </tr>\n",
       "    <tr>\n",
       "      <th>11702</th>\n",
       "      <td>No One Can Stop Mr. Domino!</td>\n",
       "      <td>PS</td>\n",
       "      <td>1998</td>\n",
       "      <td>Misc</td>\n",
       "      <td>0.04</td>\n",
       "      <td>0.03</td>\n",
       "      <td>0.00</td>\n",
       "      <td>0.00</td>\n",
       "      <td>-1</td>\n",
       "      <td>-1</td>\n",
       "      <td>NaN</td>\n",
       "    </tr>\n",
       "    <tr>\n",
       "      <th>2096</th>\n",
       "      <td>Littlest Pet Shop: Winter</td>\n",
       "      <td>DS</td>\n",
       "      <td>2008</td>\n",
       "      <td>Simulation</td>\n",
       "      <td>0.58</td>\n",
       "      <td>0.31</td>\n",
       "      <td>0.00</td>\n",
       "      <td>0.10</td>\n",
       "      <td>-1</td>\n",
       "      <td>-999</td>\n",
       "      <td>E</td>\n",
       "    </tr>\n",
       "    <tr>\n",
       "      <th>1432</th>\n",
       "      <td>Gardening Mama</td>\n",
       "      <td>DS</td>\n",
       "      <td>2009</td>\n",
       "      <td>Puzzle</td>\n",
       "      <td>0.79</td>\n",
       "      <td>0.42</td>\n",
       "      <td>0.01</td>\n",
       "      <td>0.13</td>\n",
       "      <td>60</td>\n",
       "      <td>93</td>\n",
       "      <td>E</td>\n",
       "    </tr>\n",
       "    <tr>\n",
       "      <th>1741</th>\n",
       "      <td>Midnight Club 3: DUB Edition Remix</td>\n",
       "      <td>PS2</td>\n",
       "      <td>2006</td>\n",
       "      <td>Racing</td>\n",
       "      <td>0.97</td>\n",
       "      <td>0.04</td>\n",
       "      <td>0.00</td>\n",
       "      <td>0.16</td>\n",
       "      <td>85</td>\n",
       "      <td>89</td>\n",
       "      <td>E10+</td>\n",
       "    </tr>\n",
       "    <tr>\n",
       "      <th>415</th>\n",
       "      <td>Professor Layton and the Unwound Future</td>\n",
       "      <td>DS</td>\n",
       "      <td>2008</td>\n",
       "      <td>Puzzle</td>\n",
       "      <td>0.60</td>\n",
       "      <td>1.57</td>\n",
       "      <td>0.82</td>\n",
       "      <td>0.27</td>\n",
       "      <td>86</td>\n",
       "      <td>92</td>\n",
       "      <td>E10+</td>\n",
       "    </tr>\n",
       "    <tr>\n",
       "      <th>2343</th>\n",
       "      <td>CSI: Hard Evidence</td>\n",
       "      <td>Wii</td>\n",
       "      <td>2008</td>\n",
       "      <td>Adventure</td>\n",
       "      <td>0.36</td>\n",
       "      <td>0.43</td>\n",
       "      <td>0.00</td>\n",
       "      <td>0.10</td>\n",
       "      <td>-1</td>\n",
       "      <td>-1</td>\n",
       "      <td>NaN</td>\n",
       "    </tr>\n",
       "    <tr>\n",
       "      <th>11297</th>\n",
       "      <td>SD Gundam G Generation Genesis</td>\n",
       "      <td>PS4</td>\n",
       "      <td>2016</td>\n",
       "      <td>Strategy</td>\n",
       "      <td>0.00</td>\n",
       "      <td>0.00</td>\n",
       "      <td>0.08</td>\n",
       "      <td>0.00</td>\n",
       "      <td>-1</td>\n",
       "      <td>-1</td>\n",
       "      <td>NaN</td>\n",
       "    </tr>\n",
       "    <tr>\n",
       "      <th>11456</th>\n",
       "      <td>Nobunaga's Ambition: Rise to Power</td>\n",
       "      <td>PS2</td>\n",
       "      <td>2004</td>\n",
       "      <td>Strategy</td>\n",
       "      <td>0.00</td>\n",
       "      <td>0.00</td>\n",
       "      <td>0.08</td>\n",
       "      <td>0.00</td>\n",
       "      <td>70</td>\n",
       "      <td>88</td>\n",
       "      <td>T</td>\n",
       "    </tr>\n",
       "    <tr>\n",
       "      <th>2606</th>\n",
       "      <td>FIFA Soccer 2004</td>\n",
       "      <td>XB</td>\n",
       "      <td>2003</td>\n",
       "      <td>Sports</td>\n",
       "      <td>0.24</td>\n",
       "      <td>0.49</td>\n",
       "      <td>0.00</td>\n",
       "      <td>0.05</td>\n",
       "      <td>82</td>\n",
       "      <td>82</td>\n",
       "      <td>E</td>\n",
       "    </tr>\n",
       "  </tbody>\n",
       "</table>\n",
       "</div>"
      ],
      "text/plain": [
       "                                          name platform  year_of_release  \\\n",
       "15307                           Tale of a Hero       PC             2010   \n",
       "11702              No One Can Stop Mr. Domino!       PS             1998   \n",
       "2096                 Littlest Pet Shop: Winter       DS             2008   \n",
       "1432                            Gardening Mama       DS             2009   \n",
       "1741        Midnight Club 3: DUB Edition Remix      PS2             2006   \n",
       "415    Professor Layton and the Unwound Future       DS             2008   \n",
       "2343                        CSI: Hard Evidence      Wii             2008   \n",
       "11297           SD Gundam G Generation Genesis      PS4             2016   \n",
       "11456       Nobunaga's Ambition: Rise to Power      PS2             2004   \n",
       "2606                          FIFA Soccer 2004       XB             2003   \n",
       "\n",
       "            genre  na_sales  eu_sales  jp_sales  other_sales  critic_score  \\\n",
       "15307   Adventure      0.00      0.02      0.00         0.00            -1   \n",
       "11702        Misc      0.04      0.03      0.00         0.00            -1   \n",
       "2096   Simulation      0.58      0.31      0.00         0.10            -1   \n",
       "1432       Puzzle      0.79      0.42      0.01         0.13            60   \n",
       "1741       Racing      0.97      0.04      0.00         0.16            85   \n",
       "415        Puzzle      0.60      1.57      0.82         0.27            86   \n",
       "2343    Adventure      0.36      0.43      0.00         0.10            -1   \n",
       "11297    Strategy      0.00      0.00      0.08         0.00            -1   \n",
       "11456    Strategy      0.00      0.00      0.08         0.00            70   \n",
       "2606       Sports      0.24      0.49      0.00         0.05            82   \n",
       "\n",
       "       user_score rating  \n",
       "15307          -1    NaN  \n",
       "11702          -1    NaN  \n",
       "2096         -999      E  \n",
       "1432           93      E  \n",
       "1741           89   E10+  \n",
       "415            92   E10+  \n",
       "2343           -1    NaN  \n",
       "11297          -1    NaN  \n",
       "11456          88      T  \n",
       "2606           82      E  "
      ]
     },
     "execution_count": 34,
     "metadata": {},
     "output_type": "execute_result"
    }
   ],
   "source": [
    "fdf.sample(10)"
   ]
  },
  {
   "cell_type": "markdown",
   "metadata": {},
   "source": [
    "<div class=\"alert alert-warning\">\n",
    "<b>Комментарий 👉</b>\n",
    "\n",
    "Один из ключевых моментов этого проекта: ты пропуски в 2 столбцах с оценками ('critic_score' и 'user_score') заполняешь «заглушкой». Это ОК здесь. Но дальше, когда мы будем строить корреляции, а также возможно оценивать платформы в зависимости от оценок (пользователей / экспертов) - надо будет вспомнить этот момент ... Если не вспомнишь и не обработаешь, то дальше скорее всего будет ошибка в результатах анализа, в графиках и в твоих выводах.\n",
    "\n",
    "Отметь этот момент - возможно нам придется вернуться сюда.</div>\n"
   ]
  },
  {
   "cell_type": "markdown",
   "metadata": {},
   "source": [
    "<div style=\"background: #B0E0E6; padding: 5px; border: 1px solid SteelBlue; border-radius: 5px;\">\n",
    "    <font color='4682B4'><u><b>КОММЕНТАРИЙ СТУДЕНТА</b></u></font>\n",
    "    <br />\n",
    "    <font color='4682B4'>Да, но я вродь вспомнил )</font>\n",
    "</div>"
   ]
  },
  {
   "cell_type": "markdown",
   "metadata": {},
   "source": [
    "<div class=\"alert alert-success\">\n",
    "<b>КОММЕНТАРИЙ V2</b>\n",
    "\n",
    "Да, видел ниже, молодец!</div>\n"
   ]
  },
  {
   "cell_type": "markdown",
   "metadata": {},
   "source": [
    "#### Рейтинг"
   ]
  },
  {
   "cell_type": "code",
   "execution_count": 35,
   "metadata": {},
   "outputs": [
    {
     "data": {
      "text/plain": [
       "6766"
      ]
     },
     "execution_count": 35,
     "metadata": {},
     "output_type": "execute_result"
    }
   ],
   "source": [
    "fdf['rating'].isna().sum()"
   ]
  },
  {
   "cell_type": "markdown",
   "metadata": {},
   "source": [
    "Пропусков много, причем есть они и у популярных известных игр. Заменить их нечем, поэтому поменяю на unknown, чтобы можно было рассмотреть как отедльную категорию."
   ]
  },
  {
   "cell_type": "code",
   "execution_count": 36,
   "metadata": {},
   "outputs": [],
   "source": [
    "fdf['rating'].fillna('unknown',inplace=True)"
   ]
  },
  {
   "cell_type": "markdown",
   "metadata": {},
   "source": [
    "<div class=\"alert alert-success\">\n",
    "<b>ОТЛИЧНО! 👍</b>\n",
    "\n",
    "Отлично, принято правильное решение! «Заглушка» для NaN значений в столбце ‘rating’ – это верное решение в этом проекте. Далее, когда ты будешь анализировать особенности регионов в зависимости от рейтинга ESRB, то увидишь, что если бы они остались NaN, то на графиках их не было бы видно, также такие игры \"выпали\" бы из анализа и выводов, а это красная ошибка в этом проекте.</div>\n"
   ]
  },
  {
   "cell_type": "markdown",
   "metadata": {},
   "source": [
    "<div style=\"background: #B0E0E6; padding: 5px; border: 1px solid SteelBlue; border-radius: 5px;\">\n",
    "    <font color='4682B4'><u><b>КОММЕНТАРИЙ СТУДЕНТА</b></u></font>\n",
    "    <br />\n",
    "    <font color='4682B4'>Угу, сталкивался с таким в прошлом проекте, теперь заполняю такие вещи заглушками )</font>\n",
    "</div>"
   ]
  },
  {
   "cell_type": "markdown",
   "metadata": {},
   "source": [
    "Так как K-A и E это одно и тоже, то заменю на E."
   ]
  },
  {
   "cell_type": "code",
   "execution_count": 37,
   "metadata": {},
   "outputs": [],
   "source": [
    "fdf.loc[(fdf['rating']=='K-A'), 'rating'] = 'E'"
   ]
  },
  {
   "cell_type": "code",
   "execution_count": 38,
   "metadata": {},
   "outputs": [
    {
     "data": {
      "text/html": [
       "<div>\n",
       "<style scoped>\n",
       "    .dataframe tbody tr th:only-of-type {\n",
       "        vertical-align: middle;\n",
       "    }\n",
       "\n",
       "    .dataframe tbody tr th {\n",
       "        vertical-align: top;\n",
       "    }\n",
       "\n",
       "    .dataframe thead th {\n",
       "        text-align: right;\n",
       "    }\n",
       "</style>\n",
       "<table border=\"1\" class=\"dataframe\">\n",
       "  <thead>\n",
       "    <tr style=\"text-align: right;\">\n",
       "      <th></th>\n",
       "      <th>name</th>\n",
       "      <th>platform</th>\n",
       "      <th>year_of_release</th>\n",
       "      <th>genre</th>\n",
       "      <th>na_sales</th>\n",
       "      <th>eu_sales</th>\n",
       "      <th>jp_sales</th>\n",
       "      <th>other_sales</th>\n",
       "      <th>critic_score</th>\n",
       "      <th>user_score</th>\n",
       "      <th>rating</th>\n",
       "    </tr>\n",
       "  </thead>\n",
       "  <tbody>\n",
       "    <tr>\n",
       "      <th>13719</th>\n",
       "      <td>Civilization Beyond Earth: Rising Tide</td>\n",
       "      <td>PC</td>\n",
       "      <td>2015</td>\n",
       "      <td>Strategy</td>\n",
       "      <td>0.00</td>\n",
       "      <td>0.04</td>\n",
       "      <td>0.00</td>\n",
       "      <td>0.00</td>\n",
       "      <td>-1</td>\n",
       "      <td>-1</td>\n",
       "      <td>unknown</td>\n",
       "    </tr>\n",
       "    <tr>\n",
       "      <th>15915</th>\n",
       "      <td>Ore wa Shoujo Mangaka</td>\n",
       "      <td>PSP</td>\n",
       "      <td>2012</td>\n",
       "      <td>Action</td>\n",
       "      <td>0.00</td>\n",
       "      <td>0.00</td>\n",
       "      <td>0.02</td>\n",
       "      <td>0.00</td>\n",
       "      <td>-1</td>\n",
       "      <td>-1</td>\n",
       "      <td>unknown</td>\n",
       "    </tr>\n",
       "    <tr>\n",
       "      <th>7359</th>\n",
       "      <td>The BIGS 2</td>\n",
       "      <td>X360</td>\n",
       "      <td>2009</td>\n",
       "      <td>Sports</td>\n",
       "      <td>0.19</td>\n",
       "      <td>0.01</td>\n",
       "      <td>0.00</td>\n",
       "      <td>0.02</td>\n",
       "      <td>76</td>\n",
       "      <td>62</td>\n",
       "      <td>E10+</td>\n",
       "    </tr>\n",
       "    <tr>\n",
       "      <th>11224</th>\n",
       "      <td>The Witch and the Hundred Knight</td>\n",
       "      <td>PS4</td>\n",
       "      <td>2015</td>\n",
       "      <td>Role-Playing</td>\n",
       "      <td>0.02</td>\n",
       "      <td>0.01</td>\n",
       "      <td>0.05</td>\n",
       "      <td>0.01</td>\n",
       "      <td>-1</td>\n",
       "      <td>-1</td>\n",
       "      <td>unknown</td>\n",
       "    </tr>\n",
       "    <tr>\n",
       "      <th>11502</th>\n",
       "      <td>Knife Edge: NoseGunner</td>\n",
       "      <td>N64</td>\n",
       "      <td>1998</td>\n",
       "      <td>Shooter</td>\n",
       "      <td>0.06</td>\n",
       "      <td>0.02</td>\n",
       "      <td>0.00</td>\n",
       "      <td>0.00</td>\n",
       "      <td>-1</td>\n",
       "      <td>-1</td>\n",
       "      <td>unknown</td>\n",
       "    </tr>\n",
       "    <tr>\n",
       "      <th>13119</th>\n",
       "      <td>Tenchu: Dark Secret</td>\n",
       "      <td>DS</td>\n",
       "      <td>2006</td>\n",
       "      <td>Action</td>\n",
       "      <td>0.03</td>\n",
       "      <td>0.00</td>\n",
       "      <td>0.01</td>\n",
       "      <td>0.00</td>\n",
       "      <td>37</td>\n",
       "      <td>51</td>\n",
       "      <td>T</td>\n",
       "    </tr>\n",
       "    <tr>\n",
       "      <th>5379</th>\n",
       "      <td>Company of Heroes 2</td>\n",
       "      <td>PC</td>\n",
       "      <td>2013</td>\n",
       "      <td>Strategy</td>\n",
       "      <td>0.06</td>\n",
       "      <td>0.25</td>\n",
       "      <td>0.00</td>\n",
       "      <td>0.04</td>\n",
       "      <td>80</td>\n",
       "      <td>21</td>\n",
       "      <td>M</td>\n",
       "    </tr>\n",
       "    <tr>\n",
       "      <th>14051</th>\n",
       "      <td>Minna de Jibun no Setsumeisho: B-Kata, A-Kata,...</td>\n",
       "      <td>DS</td>\n",
       "      <td>2008</td>\n",
       "      <td>Misc</td>\n",
       "      <td>0.00</td>\n",
       "      <td>0.00</td>\n",
       "      <td>0.04</td>\n",
       "      <td>0.00</td>\n",
       "      <td>-1</td>\n",
       "      <td>-1</td>\n",
       "      <td>unknown</td>\n",
       "    </tr>\n",
       "    <tr>\n",
       "      <th>13574</th>\n",
       "      <td>Rogue Trooper</td>\n",
       "      <td>PS2</td>\n",
       "      <td>2006</td>\n",
       "      <td>Shooter</td>\n",
       "      <td>0.02</td>\n",
       "      <td>0.02</td>\n",
       "      <td>0.00</td>\n",
       "      <td>0.01</td>\n",
       "      <td>71</td>\n",
       "      <td>82</td>\n",
       "      <td>T</td>\n",
       "    </tr>\n",
       "    <tr>\n",
       "      <th>1356</th>\n",
       "      <td>Dead Space 2</td>\n",
       "      <td>PS3</td>\n",
       "      <td>2011</td>\n",
       "      <td>Shooter</td>\n",
       "      <td>0.73</td>\n",
       "      <td>0.48</td>\n",
       "      <td>0.00</td>\n",
       "      <td>0.21</td>\n",
       "      <td>89</td>\n",
       "      <td>84</td>\n",
       "      <td>M</td>\n",
       "    </tr>\n",
       "  </tbody>\n",
       "</table>\n",
       "</div>"
      ],
      "text/plain": [
       "                                                    name platform  \\\n",
       "13719             Civilization Beyond Earth: Rising Tide       PC   \n",
       "15915                              Ore wa Shoujo Mangaka      PSP   \n",
       "7359                                          The BIGS 2     X360   \n",
       "11224                   The Witch and the Hundred Knight      PS4   \n",
       "11502                             Knife Edge: NoseGunner      N64   \n",
       "13119                                Tenchu: Dark Secret       DS   \n",
       "5379                                 Company of Heroes 2       PC   \n",
       "14051  Minna de Jibun no Setsumeisho: B-Kata, A-Kata,...       DS   \n",
       "13574                                      Rogue Trooper      PS2   \n",
       "1356                                        Dead Space 2      PS3   \n",
       "\n",
       "       year_of_release         genre  na_sales  eu_sales  jp_sales  \\\n",
       "13719             2015      Strategy      0.00      0.04      0.00   \n",
       "15915             2012        Action      0.00      0.00      0.02   \n",
       "7359              2009        Sports      0.19      0.01      0.00   \n",
       "11224             2015  Role-Playing      0.02      0.01      0.05   \n",
       "11502             1998       Shooter      0.06      0.02      0.00   \n",
       "13119             2006        Action      0.03      0.00      0.01   \n",
       "5379              2013      Strategy      0.06      0.25      0.00   \n",
       "14051             2008          Misc      0.00      0.00      0.04   \n",
       "13574             2006       Shooter      0.02      0.02      0.00   \n",
       "1356              2011       Shooter      0.73      0.48      0.00   \n",
       "\n",
       "       other_sales  critic_score  user_score   rating  \n",
       "13719         0.00            -1          -1  unknown  \n",
       "15915         0.00            -1          -1  unknown  \n",
       "7359          0.02            76          62     E10+  \n",
       "11224         0.01            -1          -1  unknown  \n",
       "11502         0.00            -1          -1  unknown  \n",
       "13119         0.00            37          51        T  \n",
       "5379          0.04            80          21        M  \n",
       "14051         0.00            -1          -1  unknown  \n",
       "13574         0.01            71          82        T  \n",
       "1356          0.21            89          84        M  "
      ]
     },
     "execution_count": 38,
     "metadata": {},
     "output_type": "execute_result"
    }
   ],
   "source": [
    "fdf.sample(10)"
   ]
  },
  {
   "cell_type": "code",
   "execution_count": 39,
   "metadata": {},
   "outputs": [
    {
     "data": {
      "text/plain": [
       "array(['E', 'unknown', 'M', 'T', 'E10+', 'AO', 'EC', 'RP'], dtype=object)"
      ]
     },
     "execution_count": 39,
     "metadata": {},
     "output_type": "execute_result"
    }
   ],
   "source": [
    "fdf['rating'].unique()"
   ]
  },
  {
   "cell_type": "code",
   "execution_count": 40,
   "metadata": {},
   "outputs": [
    {
     "data": {
      "text/plain": [
       "unknown    6766\n",
       "E          3993\n",
       "T          2961\n",
       "M          1563\n",
       "E10+       1420\n",
       "EC            8\n",
       "RP            3\n",
       "AO            1\n",
       "Name: rating, dtype: int64"
      ]
     },
     "execution_count": 40,
     "metadata": {},
     "output_type": "execute_result"
    }
   ],
   "source": [
    "fdf['rating'].value_counts()"
   ]
  },
  {
   "cell_type": "markdown",
   "metadata": {},
   "source": [
    "#### Продажи"
   ]
  },
  {
   "cell_type": "markdown",
   "metadata": {},
   "source": [
    "Как было обнаружено в начале, есть огромное кодичество значений близких/равных 0. Рассмотрим на боксплоте."
   ]
  },
  {
   "cell_type": "code",
   "execution_count": 41,
   "metadata": {},
   "outputs": [
    {
     "data": {
      "image/png": "[encoded data removed]",
      "text/plain": [
       "<Figure size 1600x400 with 1 Axes>"
      ]
     },
     "metadata": {},
     "output_type": "display_data"
    }
   ],
   "source": [
    "fdf[['na_sales', 'eu_sales', 'jp_sales', 'other_sales']].boxplot(figsize=(16,4))\n",
    "plt.xlabel('Распределение по регионам')\n",
    "plt.ylabel('Продано копий млн.')\n",
    "plt.show()"
   ]
  },
  {
   "cell_type": "code",
   "execution_count": 42,
   "metadata": {},
   "outputs": [
    {
     "data": {
      "text/html": [
       "<div>\n",
       "<style scoped>\n",
       "    .dataframe tbody tr th:only-of-type {\n",
       "        vertical-align: middle;\n",
       "    }\n",
       "\n",
       "    .dataframe tbody tr th {\n",
       "        vertical-align: top;\n",
       "    }\n",
       "\n",
       "    .dataframe thead th {\n",
       "        text-align: right;\n",
       "    }\n",
       "</style>\n",
       "<table border=\"1\" class=\"dataframe\">\n",
       "  <thead>\n",
       "    <tr style=\"text-align: right;\">\n",
       "      <th></th>\n",
       "      <th>na_sales</th>\n",
       "      <th>eu_sales</th>\n",
       "      <th>jp_sales</th>\n",
       "      <th>other_sales</th>\n",
       "    </tr>\n",
       "  </thead>\n",
       "  <tbody>\n",
       "    <tr>\n",
       "      <th>count</th>\n",
       "      <td>16715.000000</td>\n",
       "      <td>16715.000000</td>\n",
       "      <td>16715.000000</td>\n",
       "      <td>16715.000000</td>\n",
       "    </tr>\n",
       "    <tr>\n",
       "      <th>mean</th>\n",
       "      <td>0.263377</td>\n",
       "      <td>0.145060</td>\n",
       "      <td>0.077617</td>\n",
       "      <td>0.047342</td>\n",
       "    </tr>\n",
       "    <tr>\n",
       "      <th>std</th>\n",
       "      <td>0.813604</td>\n",
       "      <td>0.503339</td>\n",
       "      <td>0.308853</td>\n",
       "      <td>0.186731</td>\n",
       "    </tr>\n",
       "    <tr>\n",
       "      <th>min</th>\n",
       "      <td>0.000000</td>\n",
       "      <td>0.000000</td>\n",
       "      <td>0.000000</td>\n",
       "      <td>0.000000</td>\n",
       "    </tr>\n",
       "    <tr>\n",
       "      <th>25%</th>\n",
       "      <td>0.000000</td>\n",
       "      <td>0.000000</td>\n",
       "      <td>0.000000</td>\n",
       "      <td>0.000000</td>\n",
       "    </tr>\n",
       "    <tr>\n",
       "      <th>50%</th>\n",
       "      <td>0.080000</td>\n",
       "      <td>0.020000</td>\n",
       "      <td>0.000000</td>\n",
       "      <td>0.010000</td>\n",
       "    </tr>\n",
       "    <tr>\n",
       "      <th>75%</th>\n",
       "      <td>0.240000</td>\n",
       "      <td>0.110000</td>\n",
       "      <td>0.040000</td>\n",
       "      <td>0.030000</td>\n",
       "    </tr>\n",
       "    <tr>\n",
       "      <th>max</th>\n",
       "      <td>41.360000</td>\n",
       "      <td>28.960000</td>\n",
       "      <td>10.220000</td>\n",
       "      <td>10.570000</td>\n",
       "    </tr>\n",
       "  </tbody>\n",
       "</table>\n",
       "</div>"
      ],
      "text/plain": [
       "           na_sales      eu_sales      jp_sales   other_sales\n",
       "count  16715.000000  16715.000000  16715.000000  16715.000000\n",
       "mean       0.263377      0.145060      0.077617      0.047342\n",
       "std        0.813604      0.503339      0.308853      0.186731\n",
       "min        0.000000      0.000000      0.000000      0.000000\n",
       "25%        0.000000      0.000000      0.000000      0.000000\n",
       "50%        0.080000      0.020000      0.000000      0.010000\n",
       "75%        0.240000      0.110000      0.040000      0.030000\n",
       "max       41.360000     28.960000     10.220000     10.570000"
      ]
     },
     "execution_count": 42,
     "metadata": {},
     "output_type": "execute_result"
    }
   ],
   "source": [
    "fdf[['na_sales', 'eu_sales', 'jp_sales', 'other_sales']].describe()"
   ]
  },
  {
   "cell_type": "code",
   "execution_count": 43,
   "metadata": {},
   "outputs": [
    {
     "data": {
      "image/png": "[encoded data removed]",
      "text/plain": [
       "<Figure size 1600x400 with 1 Axes>"
      ]
     },
     "metadata": {},
     "output_type": "display_data"
    }
   ],
   "source": [
    "fdf[['na_sales', 'eu_sales', 'jp_sales', 'other_sales']].boxplot(figsize=(16,4))\n",
    "plt.xlabel('Распределение по регионам')\n",
    "plt.ylabel('Продано копий млн.')\n",
    "plt.ylim(0,0.7)\n",
    "plt.show()"
   ]
  },
  {
   "cell_type": "markdown",
   "metadata": {},
   "source": [
    "<div class=\"alert alert-danger\">\n",
    "<b>Необходимо исправить ❌</b>\n",
    "\n",
    "К сожалению, на этом графике видны только выбросы, и совсем не видны медиана и 25ый и 75ый квартили продаж по регионам (во всяком случае использовать квартили для визуального сравнения продаж нельзя). Для более обоснованных выводов нужно сделать дополнительный график, где будет отображена только нижняя часть boxplot-ов. Этого можно добиться, например, задав параметр ylim\n",
    "\n",
    "То есть, я бы предложил после этого графика ещё один построить, в котором бы сами \"ящики\" были лучше видны. На том, что выше выбросы их фактически \"забили\". Попробуй использовать в параметре ylim, значение, которое ещё больше ограничит значение по OY \"сверху\" (например, ylim(0, 0.85).\n",
    "\n",
    "Ну а в твоем случае, из-за того, что на графике не разобрать квартили - для точного сравнения \"ящиков\" мы вынуждены будем использовать describe().</div>\n"
   ]
  },
  {
   "cell_type": "markdown",
   "metadata": {},
   "source": [
    "Медиана и нормальное значение и правдо стремить к 0. Но я думаю, что здесь всё в порядке, потому что большими тиражами идут лишь немногие игры - хиты и/или продукты известных компаний. Большинство игр особенно маленьких компаний или любительского уровня и вправдо не имели большую популярность. А значит и не выпускались большими тиражами или и вовсе были бесплатными-онлайн играми.\n",
    "\n",
    "Поэтому никаких изминений с этим столбцом делать не буду.\n",
    "\n",
    "\n",
    "Если смотреть по регионам, то в целом в Америке больше всего продаж, потом в Европе, потом в Японии, затем уже в \"others\"."
   ]
  },
  {
   "cell_type": "markdown",
   "metadata": {},
   "source": [
    "<div class=\"alert alert-danger\">\n",
    "<b>Необходимо исправить ❌</b>\n",
    "\n",
    "**Медиана и нормальное значение и правдо стремить к 0.** - возможно и так, но сейчас это гадание на кофейной гуще. Так как вполне может быть не так. Во всяком случае ни describe ты не вывел, ни на графике (в той шкале, что сейчас по оси Y применяется) этого гарантированно не видно.\n",
    "</div>"
   ]
  },
  {
   "cell_type": "markdown",
   "metadata": {},
   "source": [
    "<div style=\"background: #B0E0E6; padding: 5px; border: 1px solid SteelBlue; border-radius: 5px;\">\n",
    "    <font color='4682B4'><u><b>КОММЕНТАРИЙ СТУДЕНТА</b></u></font>\n",
    "    <br />\n",
    "    <font color='4682B4'>Просто describe выводил в начале и уже тогда проанализировал эти показания, я же не просто так его там делал, я правда его изучил. Но да для наглядности надо и тут вывести. Спасибо, исправлю!</font>\n",
    "</div>"
   ]
  },
  {
   "cell_type": "markdown",
   "metadata": {},
   "source": [
    "<div class=\"alert alert-success\">\n",
    "<b>КОММЕНТАРИЙ V2</b>\n",
    "\n",
    "Да, видел тот, в самом верху. Просто сопоставить то, что значительно выше и этот график сложновато (придётся листать туда-сюда). Поэтому да, лучше ещё один раз describe продублировать сразу под графиком. \n",
    "    \n",
    "Но сейчас, когда ты \"ящики\" сделал \"крупнее\", то в принципе и describe не нужен. Молодец!</div>\n"
   ]
  },
  {
   "cell_type": "markdown",
   "metadata": {},
   "source": [
    "#### Жанр"
   ]
  },
  {
   "cell_type": "code",
   "execution_count": 44,
   "metadata": {},
   "outputs": [
    {
     "data": {
      "text/plain": [
       "array(['Sports', 'Platform', 'Racing', 'Role-Playing', 'Puzzle', 'Misc',\n",
       "       'Shooter', 'Simulation', 'Action', 'Fighting', 'Adventure',\n",
       "       'Strategy', nan], dtype=object)"
      ]
     },
     "execution_count": 44,
     "metadata": {},
     "output_type": "execute_result"
    }
   ],
   "source": [
    "fdf['genre'].unique()"
   ]
  },
  {
   "cell_type": "code",
   "execution_count": 45,
   "metadata": {},
   "outputs": [
    {
     "data": {
      "text/plain": [
       "Action          3369\n",
       "Sports          2348\n",
       "Misc            1750\n",
       "Role-Playing    1498\n",
       "Shooter         1323\n",
       "Adventure       1303\n",
       "Racing          1249\n",
       "Platform         888\n",
       "Simulation       873\n",
       "Fighting         849\n",
       "Strategy         683\n",
       "Puzzle           580\n",
       "Name: genre, dtype: int64"
      ]
     },
     "execution_count": 45,
     "metadata": {},
     "output_type": "execute_result"
    }
   ],
   "source": [
    "fdf['genre'].value_counts()"
   ]
  },
  {
   "cell_type": "code",
   "execution_count": 46,
   "metadata": {},
   "outputs": [
    {
     "data": {
      "text/plain": [
       "2"
      ]
     },
     "execution_count": 46,
     "metadata": {},
     "output_type": "execute_result"
    }
   ],
   "source": [
    "fdf['genre'].isna().sum()"
   ]
  },
  {
   "cell_type": "code",
   "execution_count": 47,
   "metadata": {},
   "outputs": [
    {
     "data": {
      "text/html": [
       "<div>\n",
       "<style scoped>\n",
       "    .dataframe tbody tr th:only-of-type {\n",
       "        vertical-align: middle;\n",
       "    }\n",
       "\n",
       "    .dataframe tbody tr th {\n",
       "        vertical-align: top;\n",
       "    }\n",
       "\n",
       "    .dataframe thead th {\n",
       "        text-align: right;\n",
       "    }\n",
       "</style>\n",
       "<table border=\"1\" class=\"dataframe\">\n",
       "  <thead>\n",
       "    <tr style=\"text-align: right;\">\n",
       "      <th></th>\n",
       "      <th>name</th>\n",
       "      <th>platform</th>\n",
       "      <th>year_of_release</th>\n",
       "      <th>genre</th>\n",
       "      <th>na_sales</th>\n",
       "      <th>eu_sales</th>\n",
       "      <th>jp_sales</th>\n",
       "      <th>other_sales</th>\n",
       "      <th>critic_score</th>\n",
       "      <th>user_score</th>\n",
       "      <th>rating</th>\n",
       "    </tr>\n",
       "  </thead>\n",
       "  <tbody>\n",
       "    <tr>\n",
       "      <th>659</th>\n",
       "      <td>NaN</td>\n",
       "      <td>GEN</td>\n",
       "      <td>1993</td>\n",
       "      <td>NaN</td>\n",
       "      <td>1.78</td>\n",
       "      <td>0.53</td>\n",
       "      <td>0.00</td>\n",
       "      <td>0.08</td>\n",
       "      <td>-1</td>\n",
       "      <td>-1</td>\n",
       "      <td>unknown</td>\n",
       "    </tr>\n",
       "    <tr>\n",
       "      <th>14244</th>\n",
       "      <td>NaN</td>\n",
       "      <td>GEN</td>\n",
       "      <td>1993</td>\n",
       "      <td>NaN</td>\n",
       "      <td>0.00</td>\n",
       "      <td>0.00</td>\n",
       "      <td>0.03</td>\n",
       "      <td>0.00</td>\n",
       "      <td>-1</td>\n",
       "      <td>-1</td>\n",
       "      <td>unknown</td>\n",
       "    </tr>\n",
       "  </tbody>\n",
       "</table>\n",
       "</div>"
      ],
      "text/plain": [
       "      name platform  year_of_release genre  na_sales  eu_sales  jp_sales  \\\n",
       "659    NaN      GEN             1993   NaN      1.78      0.53      0.00   \n",
       "14244  NaN      GEN             1993   NaN      0.00      0.00      0.03   \n",
       "\n",
       "       other_sales  critic_score  user_score   rating  \n",
       "659           0.08            -1          -1  unknown  \n",
       "14244         0.00            -1          -1  unknown  "
      ]
     },
     "execution_count": 47,
     "metadata": {},
     "output_type": "execute_result"
    }
   ],
   "source": [
    "fdf.query('genre.isna()==True')"
   ]
  },
  {
   "cell_type": "markdown",
   "metadata": {},
   "source": [
    "Всё правильно это те же самые две игры без названия, просто оставлю как есть."
   ]
  },
  {
   "cell_type": "markdown",
   "metadata": {},
   "source": [
    "#### Итог замены пропусков"
   ]
  },
  {
   "cell_type": "code",
   "execution_count": 48,
   "metadata": {},
   "outputs": [],
   "source": [
    "#fdf.columns"
   ]
  },
  {
   "cell_type": "markdown",
   "metadata": {},
   "source": [
    "Итого пропуски заменены на:\n",
    "    \n",
    "    * В 'year_of_release'на 1900\n",
    "    * В 'critic_score' и 'user_score' на -1\n",
    "    * В 'user_score' tbd на -999\n",
    "    * В 'rating' на \"unknown\"\n",
    "         *- Так же K-A на E"
   ]
  },
  {
   "cell_type": "markdown",
   "metadata": {},
   "source": [
    " Я предпочитаю не удалять данные, если нет очевидных аномалий, так как здесь я таких не обнаружил на данный момент, то просто провёл замену пропусков на другие значения, чтобы потом можно было их рассмотреть отдельно, при это не искажая имеющуюся картину данных."
   ]
  },
  {
   "cell_type": "markdown",
   "metadata": {},
   "source": [
    "### Проверка на дубликаты"
   ]
  },
  {
   "cell_type": "code",
   "execution_count": 49,
   "metadata": {},
   "outputs": [
    {
     "data": {
      "text/plain": [
       "5"
      ]
     },
     "execution_count": 49,
     "metadata": {},
     "output_type": "execute_result"
    }
   ],
   "source": [
    "fdf.duplicated(subset=['name','platform']).sum()"
   ]
  },
  {
   "cell_type": "code",
   "execution_count": 50,
   "metadata": {},
   "outputs": [
    {
     "data": {
      "text/html": [
       "<div>\n",
       "<style scoped>\n",
       "    .dataframe tbody tr th:only-of-type {\n",
       "        vertical-align: middle;\n",
       "    }\n",
       "\n",
       "    .dataframe tbody tr th {\n",
       "        vertical-align: top;\n",
       "    }\n",
       "\n",
       "    .dataframe thead th {\n",
       "        text-align: right;\n",
       "    }\n",
       "</style>\n",
       "<table border=\"1\" class=\"dataframe\">\n",
       "  <thead>\n",
       "    <tr style=\"text-align: right;\">\n",
       "      <th></th>\n",
       "      <th>name</th>\n",
       "      <th>platform</th>\n",
       "      <th>year_of_release</th>\n",
       "      <th>genre</th>\n",
       "      <th>na_sales</th>\n",
       "      <th>eu_sales</th>\n",
       "      <th>jp_sales</th>\n",
       "      <th>other_sales</th>\n",
       "      <th>critic_score</th>\n",
       "      <th>user_score</th>\n",
       "      <th>rating</th>\n",
       "    </tr>\n",
       "  </thead>\n",
       "  <tbody>\n",
       "    <tr>\n",
       "      <th>604</th>\n",
       "      <td>Madden NFL 13</td>\n",
       "      <td>PS3</td>\n",
       "      <td>2012</td>\n",
       "      <td>Sports</td>\n",
       "      <td>2.11</td>\n",
       "      <td>0.22</td>\n",
       "      <td>0.00</td>\n",
       "      <td>0.23</td>\n",
       "      <td>83</td>\n",
       "      <td>55</td>\n",
       "      <td>E</td>\n",
       "    </tr>\n",
       "    <tr>\n",
       "      <th>659</th>\n",
       "      <td>NaN</td>\n",
       "      <td>GEN</td>\n",
       "      <td>1993</td>\n",
       "      <td>NaN</td>\n",
       "      <td>1.78</td>\n",
       "      <td>0.53</td>\n",
       "      <td>0.00</td>\n",
       "      <td>0.08</td>\n",
       "      <td>-1</td>\n",
       "      <td>-1</td>\n",
       "      <td>unknown</td>\n",
       "    </tr>\n",
       "    <tr>\n",
       "      <th>1190</th>\n",
       "      <td>Need for Speed: Most Wanted</td>\n",
       "      <td>X360</td>\n",
       "      <td>2012</td>\n",
       "      <td>Racing</td>\n",
       "      <td>0.62</td>\n",
       "      <td>0.78</td>\n",
       "      <td>0.01</td>\n",
       "      <td>0.15</td>\n",
       "      <td>83</td>\n",
       "      <td>85</td>\n",
       "      <td>T</td>\n",
       "    </tr>\n",
       "    <tr>\n",
       "      <th>1591</th>\n",
       "      <td>Need for Speed: Most Wanted</td>\n",
       "      <td>X360</td>\n",
       "      <td>2005</td>\n",
       "      <td>Racing</td>\n",
       "      <td>1.00</td>\n",
       "      <td>0.13</td>\n",
       "      <td>0.02</td>\n",
       "      <td>0.10</td>\n",
       "      <td>83</td>\n",
       "      <td>85</td>\n",
       "      <td>T</td>\n",
       "    </tr>\n",
       "    <tr>\n",
       "      <th>1745</th>\n",
       "      <td>Sonic the Hedgehog</td>\n",
       "      <td>PS3</td>\n",
       "      <td>2006</td>\n",
       "      <td>Platform</td>\n",
       "      <td>0.41</td>\n",
       "      <td>0.06</td>\n",
       "      <td>0.04</td>\n",
       "      <td>0.66</td>\n",
       "      <td>43</td>\n",
       "      <td>41</td>\n",
       "      <td>E10+</td>\n",
       "    </tr>\n",
       "    <tr>\n",
       "      <th>4127</th>\n",
       "      <td>Sonic the Hedgehog</td>\n",
       "      <td>PS3</td>\n",
       "      <td>1900</td>\n",
       "      <td>Platform</td>\n",
       "      <td>0.00</td>\n",
       "      <td>0.48</td>\n",
       "      <td>0.00</td>\n",
       "      <td>0.00</td>\n",
       "      <td>43</td>\n",
       "      <td>41</td>\n",
       "      <td>E10+</td>\n",
       "    </tr>\n",
       "    <tr>\n",
       "      <th>5972</th>\n",
       "      <td>Need for Speed: Most Wanted</td>\n",
       "      <td>PC</td>\n",
       "      <td>2005</td>\n",
       "      <td>Racing</td>\n",
       "      <td>0.02</td>\n",
       "      <td>0.23</td>\n",
       "      <td>0.00</td>\n",
       "      <td>0.04</td>\n",
       "      <td>82</td>\n",
       "      <td>85</td>\n",
       "      <td>T</td>\n",
       "    </tr>\n",
       "    <tr>\n",
       "      <th>11715</th>\n",
       "      <td>Need for Speed: Most Wanted</td>\n",
       "      <td>PC</td>\n",
       "      <td>2012</td>\n",
       "      <td>Racing</td>\n",
       "      <td>0.00</td>\n",
       "      <td>0.06</td>\n",
       "      <td>0.00</td>\n",
       "      <td>0.02</td>\n",
       "      <td>82</td>\n",
       "      <td>85</td>\n",
       "      <td>T</td>\n",
       "    </tr>\n",
       "    <tr>\n",
       "      <th>14244</th>\n",
       "      <td>NaN</td>\n",
       "      <td>GEN</td>\n",
       "      <td>1993</td>\n",
       "      <td>NaN</td>\n",
       "      <td>0.00</td>\n",
       "      <td>0.00</td>\n",
       "      <td>0.03</td>\n",
       "      <td>0.00</td>\n",
       "      <td>-1</td>\n",
       "      <td>-1</td>\n",
       "      <td>unknown</td>\n",
       "    </tr>\n",
       "    <tr>\n",
       "      <th>16230</th>\n",
       "      <td>Madden NFL 13</td>\n",
       "      <td>PS3</td>\n",
       "      <td>2012</td>\n",
       "      <td>Sports</td>\n",
       "      <td>0.00</td>\n",
       "      <td>0.01</td>\n",
       "      <td>0.00</td>\n",
       "      <td>0.00</td>\n",
       "      <td>83</td>\n",
       "      <td>55</td>\n",
       "      <td>E</td>\n",
       "    </tr>\n",
       "  </tbody>\n",
       "</table>\n",
       "</div>"
      ],
      "text/plain": [
       "                              name platform  year_of_release     genre  \\\n",
       "604                  Madden NFL 13      PS3             2012    Sports   \n",
       "659                            NaN      GEN             1993       NaN   \n",
       "1190   Need for Speed: Most Wanted     X360             2012    Racing   \n",
       "1591   Need for Speed: Most Wanted     X360             2005    Racing   \n",
       "1745            Sonic the Hedgehog      PS3             2006  Platform   \n",
       "4127            Sonic the Hedgehog      PS3             1900  Platform   \n",
       "5972   Need for Speed: Most Wanted       PC             2005    Racing   \n",
       "11715  Need for Speed: Most Wanted       PC             2012    Racing   \n",
       "14244                          NaN      GEN             1993       NaN   \n",
       "16230                Madden NFL 13      PS3             2012    Sports   \n",
       "\n",
       "       na_sales  eu_sales  jp_sales  other_sales  critic_score  user_score  \\\n",
       "604        2.11      0.22      0.00         0.23            83          55   \n",
       "659        1.78      0.53      0.00         0.08            -1          -1   \n",
       "1190       0.62      0.78      0.01         0.15            83          85   \n",
       "1591       1.00      0.13      0.02         0.10            83          85   \n",
       "1745       0.41      0.06      0.04         0.66            43          41   \n",
       "4127       0.00      0.48      0.00         0.00            43          41   \n",
       "5972       0.02      0.23      0.00         0.04            82          85   \n",
       "11715      0.00      0.06      0.00         0.02            82          85   \n",
       "14244      0.00      0.00      0.03         0.00            -1          -1   \n",
       "16230      0.00      0.01      0.00         0.00            83          55   \n",
       "\n",
       "        rating  \n",
       "604          E  \n",
       "659    unknown  \n",
       "1190         T  \n",
       "1591         T  \n",
       "1745      E10+  \n",
       "4127      E10+  \n",
       "5972         T  \n",
       "11715        T  \n",
       "14244  unknown  \n",
       "16230        E  "
      ]
     },
     "execution_count": 50,
     "metadata": {},
     "output_type": "execute_result"
    }
   ],
   "source": [
    "fdf[fdf.duplicated(subset=['name','platform'],keep=False)]"
   ]
  },
  {
   "cell_type": "markdown",
   "metadata": {},
   "source": [
    "<div class=\"alert alert-warning\">\n",
    "<b>Предложение 👉</b>\n",
    "\n",
    "**df.duplicated().sum() == 0** не означает, что в данных нет дубликатов (записей). \n",
    "    \n",
    "Попробуй найти неявные дубликаты (для их поиска нужно  использовать параметр **subset**). Ну а в нашем рабочем проекте пробуй найти дубликаты для пары \"Имя - Игровая консоль\".\n",
    "\n",
    "Как их планируешь и планируешь ли обрабатывать?</div>\n"
   ]
  },
  {
   "cell_type": "markdown",
   "metadata": {},
   "source": [
    "<div style=\"background: #B0E0E6; padding: 5px; border: 1px solid SteelBlue; border-radius: 5px;\">\n",
    "    <font color='4682B4'><u><b>КОММЕНТАРИЙ СТУДЕНТА</b></u></font>\n",
    "    <br />\n",
    "    <font color='4682B4'>Спасибо, отличное замечание!</font>\n",
    "</div>"
   ]
  },
  {
   "cell_type": "markdown",
   "metadata": {},
   "source": [
    "Хм, есть дубликаты, но у них разное количество продаж, при том что рейтинг совпадает, это явно одна и таже игра. Так как здесь присутсвуют достаточно популярные игры, то предположу, что значения которые в дата фрайме билже к началу загружены правильно (у них к тому же больше продаж), а дубликаты ниже (с более высоким индексом) возникли в результате повторной загрузки данных или дургого бага."
   ]
  },
  {
   "cell_type": "markdown",
   "metadata": {},
   "source": [
    "<div style=\"background: #B0E0E6; padding: 5px; border: 1px solid SteelBlue; border-radius: 5px;\">\n",
    "    <font color='4682B4'><u><b>КОММЕНТАРИЙ СТУДЕНТА</b></u></font>\n",
    "    <br />\n",
    "    <font color='4682B4'>Сейчас в этом проекте я трогать не буду, но так бы удалил дубликаты с праметром keep=last</font>\n",
    "</div>"
   ]
  },
  {
   "cell_type": "markdown",
   "metadata": {},
   "source": [
    "<div class=\"alert alert-success\">\n",
    "<b>КОММЕНТАРИЙ V2</b>\n",
    "\n",
    "Отлично, что знаешь про этот параметр.</div>\n"
   ]
  },
  {
   "cell_type": "markdown",
   "metadata": {},
   "source": [
    "### Добавление сумарных продаж"
   ]
  },
  {
   "cell_type": "code",
   "execution_count": 51,
   "metadata": {},
   "outputs": [],
   "source": [
    "fdf['total_sales'] = fdf['na_sales'] + fdf['eu_sales'] + fdf['jp_sales'] + fdf['other_sales']"
   ]
  },
  {
   "cell_type": "code",
   "execution_count": 52,
   "metadata": {},
   "outputs": [
    {
     "data": {
      "text/html": [
       "<div>\n",
       "<style scoped>\n",
       "    .dataframe tbody tr th:only-of-type {\n",
       "        vertical-align: middle;\n",
       "    }\n",
       "\n",
       "    .dataframe tbody tr th {\n",
       "        vertical-align: top;\n",
       "    }\n",
       "\n",
       "    .dataframe thead th {\n",
       "        text-align: right;\n",
       "    }\n",
       "</style>\n",
       "<table border=\"1\" class=\"dataframe\">\n",
       "  <thead>\n",
       "    <tr style=\"text-align: right;\">\n",
       "      <th></th>\n",
       "      <th>name</th>\n",
       "      <th>platform</th>\n",
       "      <th>year_of_release</th>\n",
       "      <th>genre</th>\n",
       "      <th>na_sales</th>\n",
       "      <th>eu_sales</th>\n",
       "      <th>jp_sales</th>\n",
       "      <th>other_sales</th>\n",
       "      <th>critic_score</th>\n",
       "      <th>user_score</th>\n",
       "      <th>rating</th>\n",
       "      <th>total_sales</th>\n",
       "    </tr>\n",
       "  </thead>\n",
       "  <tbody>\n",
       "    <tr>\n",
       "      <th>13220</th>\n",
       "      <td>DiRT 2</td>\n",
       "      <td>PC</td>\n",
       "      <td>2009</td>\n",
       "      <td>Racing</td>\n",
       "      <td>0.00</td>\n",
       "      <td>0.04</td>\n",
       "      <td>0.00</td>\n",
       "      <td>0.01</td>\n",
       "      <td>89</td>\n",
       "      <td>82</td>\n",
       "      <td>T</td>\n",
       "      <td>0.05</td>\n",
       "    </tr>\n",
       "    <tr>\n",
       "      <th>16492</th>\n",
       "      <td>Vitamin X</td>\n",
       "      <td>PS2</td>\n",
       "      <td>2007</td>\n",
       "      <td>Adventure</td>\n",
       "      <td>0.00</td>\n",
       "      <td>0.00</td>\n",
       "      <td>0.01</td>\n",
       "      <td>0.00</td>\n",
       "      <td>-1</td>\n",
       "      <td>-1</td>\n",
       "      <td>unknown</td>\n",
       "      <td>0.01</td>\n",
       "    </tr>\n",
       "    <tr>\n",
       "      <th>4470</th>\n",
       "      <td>Yu-Gi-Oh! 5D's Tag Force 4</td>\n",
       "      <td>PSP</td>\n",
       "      <td>2009</td>\n",
       "      <td>Strategy</td>\n",
       "      <td>0.19</td>\n",
       "      <td>0.07</td>\n",
       "      <td>0.12</td>\n",
       "      <td>0.05</td>\n",
       "      <td>-1</td>\n",
       "      <td>-1</td>\n",
       "      <td>unknown</td>\n",
       "      <td>0.43</td>\n",
       "    </tr>\n",
       "    <tr>\n",
       "      <th>9107</th>\n",
       "      <td>Scarface: The World is Yours</td>\n",
       "      <td>Wii</td>\n",
       "      <td>2007</td>\n",
       "      <td>Action</td>\n",
       "      <td>0.12</td>\n",
       "      <td>0.01</td>\n",
       "      <td>0.00</td>\n",
       "      <td>0.01</td>\n",
       "      <td>71</td>\n",
       "      <td>84</td>\n",
       "      <td>M</td>\n",
       "      <td>0.14</td>\n",
       "    </tr>\n",
       "    <tr>\n",
       "      <th>2122</th>\n",
       "      <td>Grand Theft Auto: Vice City Stories</td>\n",
       "      <td>PS2</td>\n",
       "      <td>2007</td>\n",
       "      <td>Action</td>\n",
       "      <td>0.78</td>\n",
       "      <td>0.03</td>\n",
       "      <td>0.03</td>\n",
       "      <td>0.13</td>\n",
       "      <td>75</td>\n",
       "      <td>79</td>\n",
       "      <td>M</td>\n",
       "      <td>0.97</td>\n",
       "    </tr>\n",
       "  </tbody>\n",
       "</table>\n",
       "</div>"
      ],
      "text/plain": [
       "                                      name platform  year_of_release  \\\n",
       "13220                               DiRT 2       PC             2009   \n",
       "16492                            Vitamin X      PS2             2007   \n",
       "4470            Yu-Gi-Oh! 5D's Tag Force 4      PSP             2009   \n",
       "9107          Scarface: The World is Yours      Wii             2007   \n",
       "2122   Grand Theft Auto: Vice City Stories      PS2             2007   \n",
       "\n",
       "           genre  na_sales  eu_sales  jp_sales  other_sales  critic_score  \\\n",
       "13220     Racing      0.00      0.04      0.00         0.01            89   \n",
       "16492  Adventure      0.00      0.00      0.01         0.00            -1   \n",
       "4470    Strategy      0.19      0.07      0.12         0.05            -1   \n",
       "9107      Action      0.12      0.01      0.00         0.01            71   \n",
       "2122      Action      0.78      0.03      0.03         0.13            75   \n",
       "\n",
       "       user_score   rating  total_sales  \n",
       "13220          82        T         0.05  \n",
       "16492          -1  unknown         0.01  \n",
       "4470           -1  unknown         0.43  \n",
       "9107           84        M         0.14  \n",
       "2122           79        M         0.97  "
      ]
     },
     "execution_count": 52,
     "metadata": {},
     "output_type": "execute_result"
    }
   ],
   "source": [
    "fdf.sample(5)"
   ]
  },
  {
   "cell_type": "markdown",
   "metadata": {},
   "source": [
    "<div class=\"alert alert-warning\">\n",
    "<b>Комментарий 👉</b>\n",
    "\n",
    "Ещё такой вариант суммирования есть (просто как альтернатива … **псевдокод**): **data[['na_sales','eu_sales','jp_sales', 'other_sales']].sum(axis='columns')** и \"присвоить\" этот результат новому столбцу в **data**.</div>\n"
   ]
  },
  {
   "cell_type": "markdown",
   "metadata": {},
   "source": [
    "<div style=\"background: #B0E0E6; padding: 5px; border: 1px solid SteelBlue; border-radius: 5px;\">\n",
    "    <font color='4682B4'><u><b>КОММЕНТАРИЙ СТУДЕНТА</b></u></font>\n",
    "    <br />\n",
    "    <font color='4682B4'>Спасибо, буду знать!</font>\n",
    "</div>"
   ]
  },
  {
   "cell_type": "markdown",
   "metadata": {},
   "source": [
    "## Исследовательский анализ данных"
   ]
  },
  {
   "cell_type": "markdown",
   "metadata": {},
   "source": [
    "<div class=\"alert alert-success\">\n",
    "<b>ОТЛИЧНО! 👍</b>\n",
    "\n",
    "Данные загружены, отлично.\n",
    "\n",
    "Хорошо, что применяешь метод .head()/.sample() таким образом в память не будет загружен весь датасет, объем которого может быть огромным.\n",
    "\n",
    "Методы .info, .describe, .value_counts(), .unique() как правило часто встречаются и обязательны к применению в задачах по исследованию данных, ведь с их помощью можно получить первые инсайты. \n",
    "\n",
    "Итак, мы провели предварительный анализ данных, проверили данные на наличие пропусков и затем обработали их (аргументированно заполнили / удалили / оставили как есть). Теперь можно приступать и к EDA (== Exploratory Data Analysis).</div>\n"
   ]
  },
  {
   "cell_type": "markdown",
   "metadata": {},
   "source": [
    "### Сколько игр выпускалось в прошлые годы"
   ]
  },
  {
   "cell_type": "code",
   "execution_count": 53,
   "metadata": {},
   "outputs": [],
   "source": [
    "#years = fdf.groupby('year_of_release')['total_sales'].agg(['count', 'sum'])"
   ]
  },
  {
   "cell_type": "code",
   "execution_count": 54,
   "metadata": {},
   "outputs": [],
   "source": [
    "#years.columns = ['games', 'total_sales']"
   ]
  },
  {
   "cell_type": "code",
   "execution_count": 78,
   "metadata": {},
   "outputs": [],
   "source": [
    "years = fdf.pivot_table(index='year_of_release', values= 'total_sales', aggfunc = ['count', 'sum']).reset_index()"
   ]
  },
  {
   "cell_type": "code",
   "execution_count": 79,
   "metadata": {},
   "outputs": [],
   "source": [
    "years.columns = ['year','games', 'total_sales']"
   ]
  },
  {
   "cell_type": "code",
   "execution_count": 80,
   "metadata": {},
   "outputs": [
    {
     "data": {
      "text/html": [
       "<div>\n",
       "<style scoped>\n",
       "    .dataframe tbody tr th:only-of-type {\n",
       "        vertical-align: middle;\n",
       "    }\n",
       "\n",
       "    .dataframe tbody tr th {\n",
       "        vertical-align: top;\n",
       "    }\n",
       "\n",
       "    .dataframe thead th {\n",
       "        text-align: right;\n",
       "    }\n",
       "</style>\n",
       "<table border=\"1\" class=\"dataframe\">\n",
       "  <thead>\n",
       "    <tr style=\"text-align: right;\">\n",
       "      <th></th>\n",
       "      <th>year</th>\n",
       "      <th>games</th>\n",
       "      <th>total_sales</th>\n",
       "    </tr>\n",
       "  </thead>\n",
       "  <tbody>\n",
       "    <tr>\n",
       "      <th>0</th>\n",
       "      <td>1900</td>\n",
       "      <td>269</td>\n",
       "      <td>98.92</td>\n",
       "    </tr>\n",
       "    <tr>\n",
       "      <th>1</th>\n",
       "      <td>1980</td>\n",
       "      <td>9</td>\n",
       "      <td>11.38</td>\n",
       "    </tr>\n",
       "    <tr>\n",
       "      <th>2</th>\n",
       "      <td>1981</td>\n",
       "      <td>46</td>\n",
       "      <td>35.68</td>\n",
       "    </tr>\n",
       "    <tr>\n",
       "      <th>3</th>\n",
       "      <td>1982</td>\n",
       "      <td>36</td>\n",
       "      <td>28.88</td>\n",
       "    </tr>\n",
       "    <tr>\n",
       "      <th>4</th>\n",
       "      <td>1983</td>\n",
       "      <td>17</td>\n",
       "      <td>16.80</td>\n",
       "    </tr>\n",
       "    <tr>\n",
       "      <th>5</th>\n",
       "      <td>1984</td>\n",
       "      <td>14</td>\n",
       "      <td>50.35</td>\n",
       "    </tr>\n",
       "    <tr>\n",
       "      <th>6</th>\n",
       "      <td>1985</td>\n",
       "      <td>14</td>\n",
       "      <td>53.95</td>\n",
       "    </tr>\n",
       "    <tr>\n",
       "      <th>7</th>\n",
       "      <td>1986</td>\n",
       "      <td>21</td>\n",
       "      <td>37.08</td>\n",
       "    </tr>\n",
       "    <tr>\n",
       "      <th>8</th>\n",
       "      <td>1987</td>\n",
       "      <td>16</td>\n",
       "      <td>21.70</td>\n",
       "    </tr>\n",
       "    <tr>\n",
       "      <th>9</th>\n",
       "      <td>1988</td>\n",
       "      <td>15</td>\n",
       "      <td>47.21</td>\n",
       "    </tr>\n",
       "    <tr>\n",
       "      <th>10</th>\n",
       "      <td>1989</td>\n",
       "      <td>17</td>\n",
       "      <td>73.45</td>\n",
       "    </tr>\n",
       "    <tr>\n",
       "      <th>11</th>\n",
       "      <td>1990</td>\n",
       "      <td>16</td>\n",
       "      <td>49.37</td>\n",
       "    </tr>\n",
       "    <tr>\n",
       "      <th>12</th>\n",
       "      <td>1991</td>\n",
       "      <td>41</td>\n",
       "      <td>32.23</td>\n",
       "    </tr>\n",
       "    <tr>\n",
       "      <th>13</th>\n",
       "      <td>1992</td>\n",
       "      <td>43</td>\n",
       "      <td>76.16</td>\n",
       "    </tr>\n",
       "    <tr>\n",
       "      <th>14</th>\n",
       "      <td>1993</td>\n",
       "      <td>62</td>\n",
       "      <td>48.41</td>\n",
       "    </tr>\n",
       "    <tr>\n",
       "      <th>15</th>\n",
       "      <td>1994</td>\n",
       "      <td>121</td>\n",
       "      <td>79.23</td>\n",
       "    </tr>\n",
       "    <tr>\n",
       "      <th>16</th>\n",
       "      <td>1995</td>\n",
       "      <td>219</td>\n",
       "      <td>88.12</td>\n",
       "    </tr>\n",
       "    <tr>\n",
       "      <th>17</th>\n",
       "      <td>1996</td>\n",
       "      <td>263</td>\n",
       "      <td>199.15</td>\n",
       "    </tr>\n",
       "    <tr>\n",
       "      <th>18</th>\n",
       "      <td>1997</td>\n",
       "      <td>289</td>\n",
       "      <td>201.07</td>\n",
       "    </tr>\n",
       "    <tr>\n",
       "      <th>19</th>\n",
       "      <td>1998</td>\n",
       "      <td>379</td>\n",
       "      <td>256.31</td>\n",
       "    </tr>\n",
       "    <tr>\n",
       "      <th>20</th>\n",
       "      <td>1999</td>\n",
       "      <td>338</td>\n",
       "      <td>251.11</td>\n",
       "    </tr>\n",
       "    <tr>\n",
       "      <th>21</th>\n",
       "      <td>2000</td>\n",
       "      <td>350</td>\n",
       "      <td>201.66</td>\n",
       "    </tr>\n",
       "    <tr>\n",
       "      <th>22</th>\n",
       "      <td>2001</td>\n",
       "      <td>482</td>\n",
       "      <td>331.46</td>\n",
       "    </tr>\n",
       "    <tr>\n",
       "      <th>23</th>\n",
       "      <td>2002</td>\n",
       "      <td>829</td>\n",
       "      <td>394.97</td>\n",
       "    </tr>\n",
       "    <tr>\n",
       "      <th>24</th>\n",
       "      <td>2003</td>\n",
       "      <td>775</td>\n",
       "      <td>357.54</td>\n",
       "    </tr>\n",
       "    <tr>\n",
       "      <th>25</th>\n",
       "      <td>2004</td>\n",
       "      <td>762</td>\n",
       "      <td>418.68</td>\n",
       "    </tr>\n",
       "    <tr>\n",
       "      <th>26</th>\n",
       "      <td>2005</td>\n",
       "      <td>939</td>\n",
       "      <td>457.82</td>\n",
       "    </tr>\n",
       "    <tr>\n",
       "      <th>27</th>\n",
       "      <td>2006</td>\n",
       "      <td>1006</td>\n",
       "      <td>517.71</td>\n",
       "    </tr>\n",
       "    <tr>\n",
       "      <th>28</th>\n",
       "      <td>2007</td>\n",
       "      <td>1197</td>\n",
       "      <td>604.75</td>\n",
       "    </tr>\n",
       "    <tr>\n",
       "      <th>29</th>\n",
       "      <td>2008</td>\n",
       "      <td>1427</td>\n",
       "      <td>671.50</td>\n",
       "    </tr>\n",
       "    <tr>\n",
       "      <th>30</th>\n",
       "      <td>2009</td>\n",
       "      <td>1426</td>\n",
       "      <td>658.82</td>\n",
       "    </tr>\n",
       "    <tr>\n",
       "      <th>31</th>\n",
       "      <td>2010</td>\n",
       "      <td>1255</td>\n",
       "      <td>590.13</td>\n",
       "    </tr>\n",
       "    <tr>\n",
       "      <th>32</th>\n",
       "      <td>2011</td>\n",
       "      <td>1136</td>\n",
       "      <td>507.58</td>\n",
       "    </tr>\n",
       "    <tr>\n",
       "      <th>33</th>\n",
       "      <td>2012</td>\n",
       "      <td>653</td>\n",
       "      <td>355.84</td>\n",
       "    </tr>\n",
       "    <tr>\n",
       "      <th>34</th>\n",
       "      <td>2013</td>\n",
       "      <td>544</td>\n",
       "      <td>361.24</td>\n",
       "    </tr>\n",
       "    <tr>\n",
       "      <th>35</th>\n",
       "      <td>2014</td>\n",
       "      <td>581</td>\n",
       "      <td>331.53</td>\n",
       "    </tr>\n",
       "    <tr>\n",
       "      <th>36</th>\n",
       "      <td>2015</td>\n",
       "      <td>606</td>\n",
       "      <td>267.98</td>\n",
       "    </tr>\n",
       "    <tr>\n",
       "      <th>37</th>\n",
       "      <td>2016</td>\n",
       "      <td>502</td>\n",
       "      <td>129.94</td>\n",
       "    </tr>\n",
       "  </tbody>\n",
       "</table>\n",
       "</div>"
      ],
      "text/plain": [
       "    year  games  total_sales\n",
       "0   1900    269        98.92\n",
       "1   1980      9        11.38\n",
       "2   1981     46        35.68\n",
       "3   1982     36        28.88\n",
       "4   1983     17        16.80\n",
       "5   1984     14        50.35\n",
       "6   1985     14        53.95\n",
       "7   1986     21        37.08\n",
       "8   1987     16        21.70\n",
       "9   1988     15        47.21\n",
       "10  1989     17        73.45\n",
       "11  1990     16        49.37\n",
       "12  1991     41        32.23\n",
       "13  1992     43        76.16\n",
       "14  1993     62        48.41\n",
       "15  1994    121        79.23\n",
       "16  1995    219        88.12\n",
       "17  1996    263       199.15\n",
       "18  1997    289       201.07\n",
       "19  1998    379       256.31\n",
       "20  1999    338       251.11\n",
       "21  2000    350       201.66\n",
       "22  2001    482       331.46\n",
       "23  2002    829       394.97\n",
       "24  2003    775       357.54\n",
       "25  2004    762       418.68\n",
       "26  2005    939       457.82\n",
       "27  2006   1006       517.71\n",
       "28  2007   1197       604.75\n",
       "29  2008   1427       671.50\n",
       "30  2009   1426       658.82\n",
       "31  2010   1255       590.13\n",
       "32  2011   1136       507.58\n",
       "33  2012    653       355.84\n",
       "34  2013    544       361.24\n",
       "35  2014    581       331.53\n",
       "36  2015    606       267.98\n",
       "37  2016    502       129.94"
      ]
     },
     "execution_count": 80,
     "metadata": {},
     "output_type": "execute_result"
    }
   ],
   "source": [
    "years"
   ]
  },
  {
   "cell_type": "code",
   "execution_count": 81,
   "metadata": {},
   "outputs": [],
   "source": [
    "years['year'] = years['year'].astype('int')"
   ]
  },
  {
   "cell_type": "code",
   "execution_count": 82,
   "metadata": {},
   "outputs": [
    {
     "data": {
      "text/plain": [
       "year             int32\n",
       "games            int64\n",
       "total_sales    float64\n",
       "dtype: object"
      ]
     },
     "execution_count": 82,
     "metadata": {},
     "output_type": "execute_result"
    }
   ],
   "source": [
    "years.dtypes"
   ]
  },
  {
   "cell_type": "code",
   "execution_count": 83,
   "metadata": {},
   "outputs": [],
   "source": [
    "years= years.query('year !=1900').reset_index()"
   ]
  },
  {
   "cell_type": "code",
   "execution_count": null,
   "metadata": {},
   "outputs": [],
   "source": [
    "fig = plt.figure(figsize=(16,8))\n",
    "ax = fig.add_subplot(111)\n",
    "ax.bar(years['year'], years['games'], alpha=1, label='Количество выпущенных игр (шт.)',color='lightgreen')\n",
    "ax.bar(years['year'], years['total_sales'], alpha=0.3, label='Сумма продаж (млн. копий)',color='darkblue')\n",
    "ax.set_title('Сумма продаж и количество выпущенных игр в разные годы', size=25)\n",
    "ax.set_ylabel('Сумма продаж (млн. копий) / Количество игр (шт.)', size=15)\n",
    "ax.set_xlabel('Год выпуска / продаж', size=20)\n",
    "ax.legend(fontsize=15)\n",
    "ax.grid(True)\n",
    "ax.xaxis.set_major_locator(matplotlib.ticker.MultipleLocator(1))\n",
    "for label in ax.get_xticklabels():\n",
    "        label.set_rotation(60)\n",
    "plt.xlim(1979,2017)\n",
    "plt.show()"
   ]
  },
  {
   "cell_type": "markdown",
   "metadata": {},
   "source": [
    "#### Вывод"
   ]
  },
  {
   "cell_type": "markdown",
   "metadata": {},
   "source": [
    "Во -первых видна чёткая зависимость, с 1993 года количество проданных копий и выпущенных игр начинает коррелировать. \n",
    "\n",
    "\n",
    "Во-вторых я нахожу здесь самым примечательным следующие периоды:\n",
    "* с 1993 года начинается планомерный рост продаж и релизов, а так же сумма продаж в млн. стабильно привышает количество выпущенных игр (шт.). Т.е. на одну выпущенную игру приходиться более 1 млн. проданных копий (разных видеоигр) в индустрии видеоигр. Это означет что продажи начинают активно расти, игры становяться актуальными и начинают постепенно входить в жизнь людей.\n",
    "* с 2002 года наблюдается резкий скачок продаж, и тут уже на одну выпщенную игру приходится уже 2 млн. проданных копий в индустрии видео игр. (это не значит что все игры продаются, в основном большинство продаж будут у небольшого количества хитов, но всё равно интересная динамика)\n",
    "* Стоит так же отметить падение, начинающееся в 2008 году, совпадает с ипотечным кризисом в америки, который вызвал глобальный кризис. Неужели люди из-за кризиса решили вернуться больше в реал? Или возможно крупные компании со своими хитами вытеснили мелкие, но тогда продажи не обязательно должны были падать. В любом случае видно определённое охлождениее.\n",
    "\n",
    "\n",
    "Итого:\n",
    "* 1993 год - видеоигры набирают популярность\n",
    "* 2002 год - бум видеоигр вплоть до 2008го\n",
    "* 2008 год - финансовый кризис и начало охлаждения в игровой индустрии.\n",
    "\n",
    "(Интересно было бы посомотреть и на количество выручки по годам, возможно игр меньше, но стоят они на порядок дороже)"
   ]
  },
  {
   "cell_type": "markdown",
   "metadata": {},
   "source": [
    "<div class=\"alert alert-success\">\n",
    "<b>ОТЛИЧНО! 👍</b>\n",
    "\n",
    "Просто супер: график подписан, оси подписаны. Не часто на самом деле такой скрупулёзный подход к оформлению встречается. Молодец! Также, здорово, что есть объяснение поведения данного графика. Пытаться понять полученный результат - важная часть работы аналитика.</div>"
   ]
  },
  {
   "cell_type": "markdown",
   "metadata": {},
   "source": [
    "### Как менялись продажи по платформам"
   ]
  },
  {
   "cell_type": "code",
   "execution_count": null,
   "metadata": {},
   "outputs": [],
   "source": [
    "yplat = (fdf.pivot_table(index=['platform', 'year_of_release'], aggfunc={'total_sales':'sum'}).reset_index())"
   ]
  },
  {
   "cell_type": "code",
   "execution_count": null,
   "metadata": {},
   "outputs": [],
   "source": [
    "yplat1 = yplat.pivot_table(index=['platform'], aggfunc={'total_sales':'sum'}).sort_values(by='total_sales',ascending=False).reset_index()"
   ]
  },
  {
   "cell_type": "markdown",
   "metadata": {},
   "source": [
    "<div class=\"alert alert-warning\">\n",
    "<b>Комментарий 👉</b>\n",
    "\n",
    "Код очень длинный (а PEP8 определяет длину строки в 79 символов) - попробуй длинные - переносить, а между строками использовать пустые строки. Ну и желательно код комментировать, хотя бы коротко (что делаешь и каков будет результат - так твоим коллегам будет проще за твоей мыслью следить).</div>\n"
   ]
  },
  {
   "cell_type": "markdown",
   "metadata": {},
   "source": [
    "<div style=\"background: #B0E0E6; padding: 5px; border: 1px solid SteelBlue; border-radius: 5px;\">\n",
    "    <font color='4682B4'><u><b>КОММЕНТАРИЙ СТУДЕНТА</b></u></font>\n",
    "    <br />\n",
    "    <font color='4682B4'>А хорошо, буду! Что-то как-то я забылся, было так интеренсо посомтреть что там дальше у нас по исследованию. Всё таки аналитика мне очень нравиться - чертовски интересная штука!;)</font>\n",
    "</div>"
   ]
  },
  {
   "cell_type": "code",
   "execution_count": null,
   "metadata": {},
   "outputs": [],
   "source": [
    "yplat1"
   ]
  },
  {
   "cell_type": "code",
   "execution_count": null,
   "metadata": {},
   "outputs": [],
   "source": [
    "yplat['platform'].unique()"
   ]
  },
  {
   "cell_type": "code",
   "execution_count": null,
   "metadata": {},
   "outputs": [],
   "source": [
    "yplat1['total_sales'].describe()"
   ]
  },
  {
   "cell_type": "markdown",
   "metadata": {},
   "source": [
    "Чтобы не строить огромной количество графиков, отсеим платформы общие продажи, которых меньше чем медиана."
   ]
  },
  {
   "cell_type": "code",
   "execution_count": null,
   "metadata": {},
   "outputs": [],
   "source": [
    "top_plat = yplat1.query('total_sales >= total_sales.median()').copy()\n",
    "\n",
    "top_plat_list = list(top_plat['platform'].unique())"
   ]
  },
  {
   "cell_type": "code",
   "execution_count": null,
   "metadata": {},
   "outputs": [],
   "source": [
    "top_plat_list"
   ]
  },
  {
   "cell_type": "code",
   "execution_count": null,
   "metadata": {},
   "outputs": [],
   "source": [
    "yplat=yplat.query('year_of_release !=1900')"
   ]
  },
  {
   "cell_type": "code",
   "execution_count": null,
   "metadata": {},
   "outputs": [],
   "source": [
    "fig = plt.figure(figsize=(20,8))\n",
    "ax = fig.add_subplot(111)\n",
    "\n",
    "for i in top_plat_list:\n",
    "    x = yplat[yplat['platform']==i]['year_of_release']\n",
    "    y = yplat[yplat['platform']==i]['total_sales']\n",
    "\n",
    "    line = ax.plot(x, y, '-o', linewidth=3, label=i)\n",
    "\n",
    "\n",
    "ax.set_title('Зависимость количество продаж игр от платформ по годам (Топ-15)', size=20)\n",
    "ax.set_xlabel('Годы продаж', size=20)\n",
    "ax.set_ylabel('Количество проданных копий (млн. копий)', size = 15)\n",
    "ax.legend()\n",
    "ax.grid(True)\n",
    "ax.xaxis.set_major_locator(matplotlib.ticker.MultipleLocator(1))\n",
    "for label in ax.get_xticklabels():\n",
    "    label.set_rotation(60)\n",
    "    label.set_fontsize(14)\n",
    "\n",
    "plt.show()"
   ]
  },
  {
   "cell_type": "markdown",
   "metadata": {},
   "source": [
    "#### Вывод"
   ]
  },
  {
   "cell_type": "markdown",
   "metadata": {},
   "source": [
    "Видно, что сильное повышение продаж и правда началось в районе 1995 года, в результате выпуска PS1. А следующий бум в 2002 году пришёлся уже на разгар ажиотажа по PS2.\n",
    "\n",
    "* Стоит отметить что, что каждая платформа была актуально на протяжении ограниченого срока времени в пределах от 4 до 7 лет, потом устаревшая плотформа уже не актуальна и выпускается новая. Это хорошо видно на линейке PS1-PS4.\n",
    "\n",
    "* PC - стационарные компьютеры имееют в среднем меньшие продажи на протяжении всей истории, но в отличии от прочих они равномерно длят своё существование с 1985 и не планируют исчезать (по крайней мере пока, возможно потом всё заменят новые технологии к примеру VR и AR)"
   ]
  },
  {
   "cell_type": "markdown",
   "metadata": {},
   "source": []
  },
  {
   "cell_type": "markdown",
   "metadata": {},
   "source": [
    "### Данные за актуальный период"
   ]
  },
  {
   "cell_type": "markdown",
   "metadata": {},
   "source": [
    "Актуальным периодом буду считать годы с 1994 года, с момента создания и выпуска PS1."
   ]
  },
  {
   "cell_type": "markdown",
   "metadata": {},
   "source": [
    "<div class=\"alert alert-danger\">\n",
    "<b>Необходимо исправить ❌</b>\n",
    "\n",
    "Нет, здесь ты берешь для анализа слишком большой интервал. \n",
    "\n",
    "Для стремительно развивающейся игровой индустрии период > 3-4 лет — очень много. Внутри выбранного тобой периода произошли резкие изменения, например, произошла замена одного поколения консолей следующим (PS -> PS2 -> PS3 -> PS4). Некоторые платформы совсем исчезли (например, платформа DS не имеет новых релизов игр с 2013 года, PS2 с 2011 года, PSP с 2015 года). Как думаешь - помогут нам эти платформы построить прогноз на 2017 год или всё же лучше уменьшить интервал для анализа?\n",
    "\n",
    "Для целей прогнозирования продаж на следующий год даже в традиционных бизнесах редко берут данные более чем за 2-3 года. А в такой динамично меняющейся индустрии, как компьютерные игры и вовсе не стоит брать слишком большой временной интервал - иначе обязательно захватишь уже отжившие тренды. В нашем случае думаю, что 3 года: 2014, 2015 и неполный 2016 - ОК.\n",
    "\n",
    "Когда изменишь \"горизонт\" анализа и перезапустишь код в этой \"тетрадке\" - посмотри, как поменяется этот и все последующие выводы.</div>\n"
   ]
  },
  {
   "cell_type": "markdown",
   "metadata": {},
   "source": [
    "<div style=\"background: #B0E0E6; padding: 5px; border: 1px solid SteelBlue; border-radius: 5px;\">\n",
    "    <font color='4682B4'><u><b>КОММЕНТАРИЙ СТУДЕНТА</b></u></font>\n",
    "    <br />\n",
    "    <font color='4682B4'>Хорошо, сделаю!</font>\n",
    "</div>"
   ]
  },
  {
   "cell_type": "markdown",
   "metadata": {},
   "source": [
    "<div class=\"alert alert-success\">\n",
    "<b>КОММЕНТАРИЙ V2</b>\n",
    "\n",
    "Хорошо, теперь верное определение актуального датафрейма.</div>\n"
   ]
  },
  {
   "cell_type": "code",
   "execution_count": null,
   "metadata": {},
   "outputs": [],
   "source": [
    "#actual_years_data_frame\n",
    "aydf = fdf.query('year_of_release >= 2014')\n",
    "aydf=aydf.reset_index(drop=True)\n",
    "aydf"
   ]
  },
  {
   "cell_type": "markdown",
   "metadata": {},
   "source": [
    "<div class=\"alert alert-success\">\n",
    "<b>ОТЛИЧНО! 👍</b>\n",
    "\n",
    "Очень хорошо, что результат запроса ты присваиваешь новому датафрейму. Таким образом оригинальный датафрейм ты оставляешь нетронутым, не перезаписываешь (вдруг нам опять понадобятся данные из него чуть ниже). Это верное решение. Best practice. Молодец!</div>\n"
   ]
  },
  {
   "cell_type": "code",
   "execution_count": null,
   "metadata": {},
   "outputs": [],
   "source": [
    "#aydf=aydf.reset_index(drop=True)"
   ]
  },
  {
   "cell_type": "code",
   "execution_count": null,
   "metadata": {},
   "outputs": [],
   "source": [
    "#aydf"
   ]
  },
  {
   "cell_type": "markdown",
   "metadata": {},
   "source": [
    "<div class=\"alert alert-warning\">\n",
    "<b>Комментарий 👉</b>\n",
    "\n",
    "Слишком \"мельчиш\" Фёдор. Вот эти 3 ячейки выше можно было уместить в одну, без всякой потери читаемости. Код простой, разбивать на отдельные смысла наверное нет.</div>"
   ]
  },
  {
   "cell_type": "markdown",
   "metadata": {},
   "source": [
    "<div style=\"background: #B0E0E6; padding: 5px; border: 1px solid SteelBlue; border-radius: 5px;\">\n",
    "    <font color='4682B4'><u><b>КОММЕНТАРИЙ СТУДЕНТА</b></u></font>\n",
    "    <br />\n",
    "    <font color='4682B4'>Ок!</font>\n",
    "</div>"
   ]
  },
  {
   "cell_type": "markdown",
   "metadata": {},
   "source": [
    "### Продажи по платфаормам за актульный период ( с 1994 года)"
   ]
  },
  {
   "cell_type": "code",
   "execution_count": null,
   "metadata": {},
   "outputs": [],
   "source": [
    "#Actual_Sales_by_Years_and_Platform\n",
    "asyp = aydf.pivot_table(index=['platform', 'year_of_release'], aggfunc={'total_sales':'sum'}).reset_index()"
   ]
  },
  {
   "cell_type": "code",
   "execution_count": null,
   "metadata": {},
   "outputs": [],
   "source": [
    "asyp"
   ]
  },
  {
   "cell_type": "code",
   "execution_count": null,
   "metadata": {},
   "outputs": [],
   "source": [
    "top_plat_asyp = asyp.query('total_sales >= total_sales.median()').copy()\n",
    "\n",
    "top_plat_list_asyp = list(top_plat_asyp['platform'].unique())"
   ]
  },
  {
   "cell_type": "code",
   "execution_count": null,
   "metadata": {},
   "outputs": [],
   "source": [
    "fig = plt.figure(figsize=(16,8))\n",
    "ax = fig.add_subplot(111)\n",
    "\n",
    "for i in top_plat_list_asyp:\n",
    "    x = asyp[asyp['platform']==i]['year_of_release']\n",
    "    y = asyp[asyp['platform']==i]['total_sales']\n",
    "\n",
    "    line = ax.plot(x, y, '-', linewidth=3, label=i)\n",
    "\n",
    "\n",
    "ax.set_title('Зависимость количество продаж игр от платформ по годам (C 1994 года)', size=20)\n",
    "ax.set_xlabel('Годы продаж', size=20)\n",
    "ax.set_ylabel('Количество проданных копий (млн. копий)', size = 15)\n",
    "ax.legend()\n",
    "ax.grid(True)\n",
    "ax.xaxis.set_major_locator(matplotlib.ticker.MultipleLocator(1))\n",
    "for label in ax.get_xticklabels():\n",
    "    label.set_rotation(60)\n",
    "    label.set_fontsize(14)\n",
    "\n",
    "plt.show()"
   ]
  },
  {
   "cell_type": "markdown",
   "metadata": {},
   "source": [
    "#### Вывод"
   ]
  },
  {
   "cell_type": "markdown",
   "metadata": {},
   "source": [
    " По состоянию на 2016 год у всех платформы период спада, поэтому нельзя выделить перспективную среди имеющихся, примечательна PS4, но судя по графику с 2016 у неё начинается спад, хотя известно, что данные за 2016 не полные, поэтому среди прочиз обратить внимание надо именно на PS4  . Вероятно должны появиться новинки, которые создадут новые всплески популярности, стоит обратить на них внимание."
   ]
  },
  {
   "cell_type": "markdown",
   "metadata": {},
   "source": [
    "### Построение boxplot"
   ]
  },
  {
   "cell_type": "code",
   "execution_count": null,
   "metadata": {},
   "outputs": [],
   "source": [
    "#sales_by_platform\n",
    "sp = (aydf.pivot_table(index='name', columns=['platform'], aggfunc={'total_sales':'sum'}).reset_index())"
   ]
  },
  {
   "cell_type": "code",
   "execution_count": null,
   "metadata": {},
   "outputs": [],
   "source": [
    "sp"
   ]
  },
  {
   "cell_type": "code",
   "execution_count": null,
   "metadata": {},
   "outputs": [],
   "source": [
    "asyp.platform.unique()"
   ]
  },
  {
   "cell_type": "code",
   "execution_count": null,
   "metadata": {},
   "outputs": [],
   "source": [
    "sp.columns=['name','3DS', 'PC', 'PS3', 'PS4', 'PSP', 'PSV', 'Wii', 'WiiU', 'X360',\n",
    "       'XOne']"
   ]
  },
  {
   "cell_type": "code",
   "execution_count": null,
   "metadata": {},
   "outputs": [],
   "source": [
    "sp.head(3).T"
   ]
  },
  {
   "cell_type": "code",
   "execution_count": null,
   "metadata": {},
   "outputs": [],
   "source": [
    "#sales_by_platform_sum\n",
    "sps = aydf.pivot_table(index='name', aggfunc={'total_sales':'sum'}).reset_index()"
   ]
  },
  {
   "cell_type": "code",
   "execution_count": null,
   "metadata": {},
   "outputs": [],
   "source": [
    "sps.head()"
   ]
  },
  {
   "cell_type": "code",
   "execution_count": null,
   "metadata": {},
   "outputs": [],
   "source": [
    "sp = sp.merge(sps,on='name')"
   ]
  },
  {
   "cell_type": "code",
   "execution_count": null,
   "metadata": {},
   "outputs": [],
   "source": [
    "sp.head(3)"
   ]
  },
  {
   "cell_type": "code",
   "execution_count": null,
   "metadata": {},
   "outputs": [],
   "source": [
    "plt.style.use('classic')\n",
    "%config InlineBackend.figure_format = 'retina'"
   ]
  },
  {
   "cell_type": "code",
   "execution_count": null,
   "metadata": {},
   "outputs": [],
   "source": [
    "fig = plt.figure(figsize=(20,10))\n",
    "ax = fig.add_subplot(111)\n",
    "\n",
    "sp.boxplot(showfliers=False)\n",
    "for label in ax.get_xticklabels():\n",
    "    label.set_rotation(20)\n",
    "plt.show()"
   ]
  },
  {
   "cell_type": "code",
   "execution_count": null,
   "metadata": {},
   "outputs": [],
   "source": [
    "fig = plt.figure(figsize=(20,10))\n",
    "ax = fig.add_subplot(111)\n",
    "sp.boxplot(showfliers=False)\n",
    "for label in ax.get_xticklabels():\n",
    "    label.set_rotation(20)\n",
    "plt.ylim(0,0.85)\n",
    "plt.show()"
   ]
  },
  {
   "cell_type": "code",
   "execution_count": null,
   "metadata": {},
   "outputs": [],
   "source": [
    "sp.describe()"
   ]
  },
  {
   "cell_type": "markdown",
   "metadata": {},
   "source": [
    "<div class=\"alert alert-danger\">\n",
    "<b>Необходимо исправить ❌</b>\n",
    "\n",
    "К сожалению, на этом графике **уверенно** сравнивать квартили (медиану, 25ый и 75ый) у части платформ не получается. Велика вероятность ошибки. Для более обоснованных выводов на основе **только графика** (иначе зачем такой **неговорящий график нужен**) нужно сделать дополнительный график, где будет отображена только нижняя часть boxplot-ов. Этого можно добиться, например, задав параметр ylim\n",
    "\n",
    "То есть, я бы предложил после этого графика ещё один построить, в котором бы сами \"ящики\" были лучше видны. На том, что выше выбросы их фактически \"забили\". Попробуй использовать в параметре ylim, значение, которое ещё больше ограничит значение по OY \"сверху\" (например, ylim(0, 0.85). \n",
    "\n",
    "Ну а в твоем случае, из-за того, что на графике не разобрать квартили - для точного сравнения \"ящиков\" мы вынуждены будем использовать describe().</div>\n"
   ]
  },
  {
   "cell_type": "markdown",
   "metadata": {},
   "source": [
    "<div style=\"background: #B0E0E6; padding: 5px; border: 1px solid SteelBlue; border-radius: 5px;\">\n",
    "    <font color='4682B4'><u><b>КОММЕНТАРИЙ СТУДЕНТА</b></u></font>\n",
    "    <br />\n",
    "    <font color='4682B4'>Добавил ещё ящиков</font>\n",
    "</div>"
   ]
  },
  {
   "cell_type": "markdown",
   "metadata": {},
   "source": [
    "<div class=\"alert alert-success\">\n",
    "<b>КОММЕНТАРИЙ V2</b>\n",
    "\n",
    "Отлично, крупнее - лучше. Теперь платформы можно \"более надёжно\" сравнивать между собой прямо на графике.</div>\n"
   ]
  },
  {
   "cell_type": "markdown",
   "metadata": {},
   "source": [
    "#### Вывод"
   ]
  },
  {
   "cell_type": "markdown",
   "metadata": {},
   "source": [
    "* Есть определённые всплески обьёмов на определённых платформах. Веротяно из-за того что некоторые хиты выпускались эксклюзивно для одной определённой платформы.\n",
    "* Лидеры обьёмов:\n",
    "  - 1) PS4\n",
    "  - 2) Wii\n",
    "  - 3) WiiU\n",
    "  - 4) XOne\n",
    "  - 5) X360\n",
    "  \n",
    "Их медианы так же находяться достаточно близко 1.8-2.05 млн. проданных копий."
   ]
  },
  {
   "cell_type": "markdown",
   "metadata": {},
   "source": [
    "### Зависимость продаж от оценки игроков и критиков"
   ]
  },
  {
   "cell_type": "code",
   "execution_count": null,
   "metadata": {},
   "outputs": [],
   "source": [
    "# Функция для создания матрицы\n",
    "def scatter(x1, x2, y):\n",
    "    fig = plt.figure(figsize=(16,8))\n",
    "\n",
    "    ax1 = fig.add_subplot(211)\n",
    "    ax1.scatter(x1, y)\n",
    "    ax1.set_title('Зависимость продаж от оценки критиков', size=20)\n",
    "    ax1.set_ylabel('Сумма продаж (млн. копий)', size=15)\n",
    "    ax1.grid(True)\n",
    "\n",
    "    ax2 = fig.add_subplot(212)\n",
    "    ax2.scatter(x2, y)\n",
    "    ax2.set_title('Зависимость продаж от оценки игроков', size=20)\n",
    "    ax2.set_ylabel('Сумма Продаж (млн. копий)', size=15)\n",
    "    ax2.grid(True)\n",
    "\n",
    "    plt.tight_layout(h_pad = 2)\n",
    "    plt.show() "
   ]
  },
  {
   "cell_type": "markdown",
   "metadata": {},
   "source": [
    "#### На примере PS3"
   ]
  },
  {
   "cell_type": "markdown",
   "metadata": {},
   "source": [
    "Рассмотрю на примерe PS3, там достаточно много игр (1219) и хорошие обьёмы продаж."
   ]
  },
  {
   "cell_type": "code",
   "execution_count": null,
   "metadata": {},
   "outputs": [],
   "source": [
    "ps3 = aydf.query('platform==\"PS3\"').copy()\n",
    "ps3 = ps3.query('user_score != -999')"
   ]
  },
  {
   "cell_type": "code",
   "execution_count": null,
   "metadata": {},
   "outputs": [],
   "source": [
    "ps3"
   ]
  },
  {
   "cell_type": "code",
   "execution_count": null,
   "metadata": {},
   "outputs": [],
   "source": [
    "scatter(ps3['critic_score'],ps3['user_score'],ps3['total_sales'])"
   ]
  },
  {
   "cell_type": "markdown",
   "metadata": {},
   "source": [
    "Есть определённая корреляция, но не слишком высокая.\n",
    "* Столб в начале - это пропущенные значения заменёные на -1.\n",
    "\n",
    "Посомотрим, что покажет рассчёт корреляции. Исключу пропущенные значения, что бы расчёт был верен."
   ]
  },
  {
   "cell_type": "markdown",
   "metadata": {},
   "source": [
    "<div class=\"alert alert-warning\">\n",
    "<b>Комментарий 👉</b>\n",
    "\n",
    "**Дополнительно исключу пропущенные значения, что бы картина была максимально ясной.** - Фёдор, мы должны исключить \"заглушки\" конечно на для того, чтобы \"картина стала ясной\", а для того, чтобы наш расчёт в принципе был верен.\n",
    "</div>"
   ]
  },
  {
   "cell_type": "markdown",
   "metadata": {},
   "source": [
    "<div style=\"background: #B0E0E6; padding: 5px; border: 1px solid SteelBlue; border-radius: 5px;\">\n",
    "    <font color='4682B4'><u><b>КОММЕНТАРИЙ СТУДЕНТА</b></u></font>\n",
    "    <br />\n",
    "    <font color='4682B4'>Верно, спасибо )</font>\n",
    "</div>"
   ]
  },
  {
   "cell_type": "code",
   "execution_count": null,
   "metadata": {},
   "outputs": [],
   "source": [
    "ps3.query('user_score != -1 and critic_score != -1').pivot_table(index='name', values=['total_sales', 'critic_score', 'user_score']).corr() \n",
    " "
   ]
  },
  {
   "cell_type": "markdown",
   "metadata": {},
   "source": [
    "##### Вывод\n",
    "* Имеется небольшая прямая корреляция, причем оценки критиков коррелируют с продажами сильнее чем оценки пользователей, которые имеют слабую корреляцию.\n",
    "* Самая высокая корреляция - между оценками пользователей и критиков. (0.69)  (Но не между продажами ;))"
   ]
  },
  {
   "cell_type": "markdown",
   "metadata": {},
   "source": [
    "<div class=\"alert alert-warning\">\n",
    "<b>Комментарий 👉</b>\n",
    "\n",
    "**причем оценки критиков вляяют сильнее чем оценки пользователей, которые имеют совсем небольшое влияние.** - а на что влияют оценки? Говорить о \"влиянии\"/зависимости оценок на продажи нельзя. Это будет неверно. Говорить следует только о корреляции/степени линейной зависимости.\n",
    "</div>"
   ]
  },
  {
   "cell_type": "markdown",
   "metadata": {},
   "source": [
    "#### На примере PS4"
   ]
  },
  {
   "cell_type": "code",
   "execution_count": null,
   "metadata": {},
   "outputs": [],
   "source": [
    "ps4 = aydf.query('platform==\"PS4\"').copy()\n",
    "ps4 = ps4.query('user_score != -999')"
   ]
  },
  {
   "cell_type": "code",
   "execution_count": null,
   "metadata": {},
   "outputs": [],
   "source": [
    "scatter(ps4['critic_score'],ps4['user_score'],ps4['total_sales'])"
   ]
  },
  {
   "cell_type": "code",
   "execution_count": null,
   "metadata": {},
   "outputs": [],
   "source": [
    "ps4.query('user_score != -1 and critic_score != -1').pivot_table(index='name', values=['total_sales', 'critic_score', 'user_score']).corr()"
   ]
  },
  {
   "cell_type": "markdown",
   "metadata": {},
   "source": [
    "Здесь же оценки пользователей с продажами не коррелируют вовсе, оценки критиков вновь имеют небольшую корреляюцию в размере 0.4"
   ]
  },
  {
   "cell_type": "markdown",
   "metadata": {},
   "source": [
    "#### На примере XOne"
   ]
  },
  {
   "cell_type": "code",
   "execution_count": null,
   "metadata": {},
   "outputs": [],
   "source": [
    "xone = aydf.query('platform==\"XOne\"').copy()\n",
    "xone = xone.query('user_score != -999')\n",
    "scatter(xone['critic_score'],xone['user_score'],xone['total_sales'])"
   ]
  },
  {
   "cell_type": "code",
   "execution_count": null,
   "metadata": {},
   "outputs": [],
   "source": [
    "xone.query('user_score != -1 and critic_score != -1').pivot_table(index='name', values=['total_sales', 'critic_score', 'user_score']).corr()"
   ]
  },
  {
   "cell_type": "markdown",
   "metadata": {},
   "source": [
    "* Похожая картина. Оценка критиков коррелируют с продажами на 0.42, а оценка пользователей почти на -0,1.\n",
    "* Оценка пользователей с Оценкой критиков коррелируют между собой здесь слабече чем у PS, на 0.44"
   ]
  },
  {
   "cell_type": "markdown",
   "metadata": {},
   "source": [
    "#### По всей выборке"
   ]
  },
  {
   "cell_type": "markdown",
   "metadata": {},
   "source": [
    "<div class=\"alert alert-danger\">\n",
    "<b>Необходимо исправить ❌</b>\n",
    "\n",
    "По условию задачи надо сравнить результаты PS3 (то, что сделано выше) с результатами на других консолях. Но ты берешь всю таблицу, со всеми прочими консолями. Это не соответствует условию. Рассмотри ещё пару консолей отдельно друг от друга. Выводы, сделанные на основе расчетов по нескольким платформам, выглядят \"весомей\" и убедительней.</div>\n"
   ]
  },
  {
   "cell_type": "markdown",
   "metadata": {},
   "source": [
    "<div style=\"background: #B0E0E6; padding: 5px; border: 1px solid SteelBlue; border-radius: 5px;\">\n",
    "    <font color='4682B4'><u><b>КОММЕНТАРИЙ СТУДЕНТА</b></u></font>\n",
    "    <br />\n",
    "    <font color='4682B4'>Ок, добавлю!</font>\n",
    "</div>"
   ]
  },
  {
   "cell_type": "code",
   "execution_count": null,
   "metadata": {},
   "outputs": [],
   "source": [
    "aydf1=aydf.query('user_score != -999')"
   ]
  },
  {
   "cell_type": "code",
   "execution_count": null,
   "metadata": {},
   "outputs": [],
   "source": [
    "scatter(aydf1['critic_score'],aydf1['user_score'],aydf1['total_sales'])"
   ]
  },
  {
   "cell_type": "code",
   "execution_count": null,
   "metadata": {},
   "outputs": [],
   "source": [
    "aydf1.query('user_score != -1 and critic_score != -1').pivot_table(index='name', values=['total_sales', 'critic_score', 'user_score']).corr() \n",
    " "
   ]
  },
  {
   "cell_type": "markdown",
   "metadata": {},
   "source": [
    "##### Вывод"
   ]
  },
  {
   "cell_type": "markdown",
   "metadata": {},
   "source": [
    "* Если смотреть по общей выборке, то корреляция оценки критиков с продажами равна 0.37, чуть меньше изученных выше платформ.\n",
    "* Оценки пользователей с продажами не коррелируют вовсе."
   ]
  },
  {
   "cell_type": "markdown",
   "metadata": {},
   "source": [
    "\n",
    "### Распределение по жанрам"
   ]
  },
  {
   "cell_type": "code",
   "execution_count": null,
   "metadata": {},
   "outputs": [],
   "source": [
    "#genre\n",
    "g = aydf.pivot_table(index='genre', aggfunc={'total_sales':['count', 'mean']}).reset_index()\n",
    "g.columns = ['genre', 'games', 'median_sales']\n",
    "g = g.sort_values(by='median_sales', ascending=False)"
   ]
  },
  {
   "cell_type": "code",
   "execution_count": null,
   "metadata": {},
   "outputs": [],
   "source": [
    "# Перевожу из млн. в 10 000, чтобы можно было удобно рассмартивать на одном графике\n",
    "g['median_sales'] = g['median_sales']*100"
   ]
  },
  {
   "cell_type": "code",
   "execution_count": null,
   "metadata": {},
   "outputs": [],
   "source": [
    "g"
   ]
  },
  {
   "cell_type": "code",
   "execution_count": null,
   "metadata": {},
   "outputs": [],
   "source": [
    "fig = plt.figure(figsize=(16,8))\n",
    "ax = fig.add_subplot(111)\n",
    "ax.bar(g['genre'], g['games'], alpha=0.8, label='Количество выпущенных игр (шт.)',color='lightgreen')\n",
    "ax.bar(g['genre'], g['median_sales'], alpha=0.5, label='Количество проданных игр (10000. копий)',color='darkblue')\n",
    "ax.set_title('Медиана продаж и количество выпущенных игр по жанрам', size=25)\n",
    "ax.set_ylabel(' Медиана Количества проданных игр (10000. копий) / Выпущенных игр (шт.)', size=12)\n",
    "ax.set_xlabel('Жанр', size=30)\n",
    "ax.legend(fontsize=15)\n",
    "ax.grid(True)\n",
    "ax.xaxis.set_major_locator(matplotlib.ticker.MultipleLocator(1))\n",
    "for label in ax.get_xticklabels():\n",
    "        label.set_rotation(30)\n",
    "plt.show()"
   ]
  },
  {
   "cell_type": "markdown",
   "metadata": {},
   "source": [
    "И вправду есть очевидная зависимость от жанра.\n",
    "\n",
    "И того самый выгодный жанр по медийным продажам:\n",
    " * **Shooter**\n",
    " \n",
    "Следующий по продажам идёт:\n",
    " * **Sports**\n",
    " \n",
    "Самые слабые по продажам :\n",
    " * Strategy\n",
    " * Adventure\n",
    " \n",
    "Интересный момент с **Action**, **Adventure**, **Role-Playng**,:\n",
    "Разнообразие большое, но продоваемость низкая."
   ]
  },
  {
   "cell_type": "markdown",
   "metadata": {},
   "source": [
    "<div class=\"alert alert-danger\">\n",
    "<b>Необходимо исправить ❌</b>\n",
    "\n",
    "Здесь у нас возникла проблема: по суммарным (sum, count) объемам продаж у тебя получилось, что явный лидер - игры в жанре Экшн. Если же ты рассмотришь медианные или средние (mean) значения, то результат поменяется в пользу Шуттеров. Учти тот факт, что игр в жанре Экшн выпускается значительно больше, чем других (в 1,5-2 раза). Доля количества игр в жанре «стрелялок» - всего лишь 8%. Очевидно, что в жанре Экшн присутствует большое количество непопулярных игр с низкими объёмами продаж, в результате чего общий объём продаж жанра \"раздут\" и берётся количеством, а не качеством. Медиана учитывает не только слишком большие\\маленькие значения относительно среднего, но и их количество. Поэтому брать итоговые результаты медианы или среднего более корректно.\n",
    "\n",
    "В сухом остатке: попробуй рассмотреть не общие продажи, а медианные (или средние). Общие продажи - плохая метрика для поиска наиболее прибыльного жанра. За высокими показателями общих продаж может скрываться множество мелких игр с низкими продажами. Или 2-3 звезды и куча провалов. Лучше найти жанр, где игры стабильно приносят высокий доход - для этого стоит рассмотреть средние (или медианные продажи). Я думаю, что анализ медианных показателей позволит тебе найти жанр, который приносит высокий доход.</div>\n"
   ]
  },
  {
   "cell_type": "markdown",
   "metadata": {},
   "source": [
    "<div style=\"background: #B0E0E6; padding: 5px; border: 1px solid SteelBlue; border-radius: 5px;\">\n",
    "    <font color='4682B4'><u><b>КОММЕНТАРИЙ СТУДЕНТА</b></u></font>\n",
    "    <br />\n",
    "    <font color='4682B4'>Спасибо огромное за такое подробно замечание! Исправлю на медиану.</font>\n",
    "</div>"
   ]
  },
  {
   "cell_type": "markdown",
   "metadata": {},
   "source": [
    "<div class=\"alert alert-success\">\n",
    "<b>КОММЕНТАРИЙ V2</b>\n",
    "\n",
    "Отлично. Теперь и по \"цифрам\" видно, что Шуттеры в топе (медианные продажи == 133.546875) и на графике, по \"синей полоски\".</div>\n"
   ]
  },
  {
   "cell_type": "markdown",
   "metadata": {},
   "source": [
    "### Суммарный Вывод"
   ]
  },
  {
   "cell_type": "markdown",
   "metadata": {},
   "source": [
    "* **Временные периоды:**\n",
    "  * **1993 год** - видеоигры набирают популярность\n",
    "  * **2002 год** - бум видеоигр вплоть до 2008го\n",
    "  * **2008 год** - финансовый кризис и начало охлаждения в игровой индустрии.\n",
    "  * Каждая платформа была актуальна на протяжении ограниченого срока времени в пределах от 4 до    7 лет, потом выпускалась новая\n",
    "   * Самые устойчивые серии платформ - PS и Xbox\n",
    "  - Для исследования актуальным выбран период с **2014** года.\n",
    "* **Исследование динамики платформ с 2014 года:**\n",
    "  * По состоянию на 2016 год у всех платформы период спада, поэтому нельзя выделить перспективную среди имеющихся. Вероятно должны появиться новинки, которые создадут новые всплески популярности, стоит обратить на них внимание.\n",
    "* **Зависимость продаж от оценки критиков и пользователей:**\n",
    "  * Есть совсем небольшая прямая корреляция с оценками критиков 0.37-0.45, но с оценками пользователей вовсе отсутствует.\n",
    "* **Жанры:**\n",
    "  * Самый прибыльный по медиане - **Shooter** , затем **Sports**\n",
    "  * Самые слабые - **Adventure** и **Strategy**\n",
    "  * Интересный момент с **Action**, **Adventure**, **Role-Playng**,:\n",
    "    * Разнообразие большое, но медийная **продаваемость низкая**."
   ]
  },
  {
   "cell_type": "markdown",
   "metadata": {},
   "source": [
    "## Портрет пользователя каждого региона"
   ]
  },
  {
   "cell_type": "markdown",
   "metadata": {},
   "source": [
    "### Топ 5 самых популярных платформ"
   ]
  },
  {
   "cell_type": "markdown",
   "metadata": {},
   "source": [
    "В начале посмотрим на общую динамику."
   ]
  },
  {
   "cell_type": "code",
   "execution_count": null,
   "metadata": {},
   "outputs": [],
   "source": [
    "#regions\n",
    "regf = aydf.groupby('platform')[['na_sales', 'eu_sales', 'jp_sales', 'total_sales']].agg('sum').sort_values('total_sales',ascending=False)#.reset_index()\n",
    "         \n",
    "regf"
   ]
  },
  {
   "cell_type": "code",
   "execution_count": null,
   "metadata": {},
   "outputs": [],
   "source": [
    "regf['total_sales'].describe()"
   ]
  },
  {
   "cell_type": "markdown",
   "metadata": {},
   "source": [
    "Чтобы уменьшить количество шума и повысить актуальность данных, для построяния графика я исключу плотформы с суммарными продажами меньше медианы (159 млн. копий)"
   ]
  },
  {
   "cell_type": "code",
   "execution_count": null,
   "metadata": {},
   "outputs": [],
   "source": [
    "#regf = reg.query('total_sales > 159').sort_values('total_sales',ascending=False)"
   ]
  },
  {
   "cell_type": "code",
   "execution_count": null,
   "metadata": {},
   "outputs": [],
   "source": [
    "regf[['na_sales','eu_sales','jp_sales']].plot(kind='bar',figsize=(20,10),rot=0)\n",
    "plt.title('Суммарное количество проданных игр по каждой платформе по регионам.',size=20)\n",
    "plt.xlabel('Платформа',size=20)\n",
    "plt.ylabel('Количество проданных копий (млн.)',size=20)\n",
    "plt.show()"
   ]
  },
  {
   "cell_type": "markdown",
   "metadata": {},
   "source": [
    "* Лидер по продажам в Америке и Европе PS4, причем в Европе продаж больше.\n",
    "* XOne хорошо востребован в Америке, но всё равно не догоняет Ps4, в Европе он занимает топ-2, но покупают явно менее охотно чем PS4, в Японии же и вовсе не пользуется спросом.\n",
    "* 3DS от Nintendo явный лидер у японской аудитории"
   ]
  },
  {
   "cell_type": "markdown",
   "metadata": {},
   "source": [
    "Добавлю долю продаж в каждом регионе от суммарных продаж."
   ]
  },
  {
   "cell_type": "code",
   "execution_count": null,
   "metadata": {},
   "outputs": [],
   "source": [
    "regf['na']=(regf['na_sales']/regf['total_sales']*100).round(1)\n",
    "regf['eu']=(regf['eu_sales']/regf['total_sales']*100).round(1)\n",
    "regf['jp']=(regf['jp_sales']/regf['total_sales']*100).round(1)\n",
    "regf"
   ]
  },
  {
   "cell_type": "markdown",
   "metadata": {},
   "source": [
    "#### Северная Америка"
   ]
  },
  {
   "cell_type": "code",
   "execution_count": null,
   "metadata": {},
   "outputs": [],
   "source": [
    "regf['na_sales'].sort_values(ascending=False).head().plot(kind='bar',figsize=(20,10),rot=0,color='b')\n",
    "plt.title('Топ-5 платформ в Северной Америке.',size=20)\n",
    "plt.xlabel('Платформа',size=20)\n",
    "plt.ylabel('Количество проданных копий млн.',size=20)\n",
    "plt.show()"
   ]
  },
  {
   "cell_type": "markdown",
   "metadata": {},
   "source": [
    "В америке топ-1 занимает PS4, а на втром месте XOne от американского IT-Гиганта  компании Microsoft, который по суммарным продажам в трёх регионах занимает так же второе место."
   ]
  },
  {
   "cell_type": "code",
   "execution_count": null,
   "metadata": {},
   "outputs": [],
   "source": [
    "print('Топ-5 платформ в Северной Америке.')\n",
    "print('Млн. проданных копий по каждой платформе и % от суммарных продаж.')\n",
    "regf[['na_sales','na']].sort_values(by='na_sales',ascending=False).reset_index().head()"
   ]
  },
  {
   "cell_type": "markdown",
   "metadata": {},
   "source": [
    "#### Европа"
   ]
  },
  {
   "cell_type": "code",
   "execution_count": null,
   "metadata": {},
   "outputs": [],
   "source": [
    "regf['eu_sales'].sort_values(ascending=False).head().plot(kind='bar',figsize=(20,10),rot=0,color='g')\n",
    "plt.title('Топ-5 платформ в Европе.',size=20)\n",
    "plt.xlabel('Платформа',size=20)\n",
    "plt.ylabel('Количество проданных копий млн.',size=20)\n",
    "plt.show()"
   ]
  },
  {
   "cell_type": "markdown",
   "metadata": {},
   "source": [
    "А вот европе PS4 от японской компании Sony Computer Entertainment приглянулась очень сильно, настолько что продаж больше чем в Америке."
   ]
  },
  {
   "cell_type": "code",
   "execution_count": null,
   "metadata": {},
   "outputs": [],
   "source": [
    "print('Топ-5 платформ в Европе.')\n",
    "print('Млн. проданных копий по каждой платформе и % от суммарных продаж.')\n",
    "regf[['eu_sales','eu']].sort_values(by='eu_sales',ascending=False).reset_index().head()"
   ]
  },
  {
   "cell_type": "markdown",
   "metadata": {},
   "source": [
    "#### Япония"
   ]
  },
  {
   "cell_type": "code",
   "execution_count": null,
   "metadata": {},
   "outputs": [],
   "source": [
    "regf['jp_sales'].sort_values(ascending=False).head().plot(kind='bar',figsize=(20,10),rot=0,color='r')\n",
    "plt.title('Топ-5 платформ в Японии.',size=20)\n",
    "plt.xlabel('Платформа',size=20)\n",
    "plt.ylabel('Количество проданных копий млн.',size=20)\n",
    "plt.show()"
   ]
  },
  {
   "cell_type": "markdown",
   "metadata": {},
   "source": [
    "В Японии в лидеры выходит 3DS от японской компании Nintendo, так же в топ 2-4 места топа занимают платформы серии PS от японской компании Sony. А пятёрку замыкает WiiU от той же Nintendo. Судя по всему пользователи из Японии в первую очередь любят отечественные платформы."
   ]
  },
  {
   "cell_type": "code",
   "execution_count": null,
   "metadata": {},
   "outputs": [],
   "source": [
    "print('Топ-5 платформ в Японии.')\n",
    "print('Млн. проданных копий по каждой платформе и процент суммарных продаж.')\n",
    "regf[['jp_sales','jp']].sort_values(by='jp_sales',ascending=False).reset_index().head()"
   ]
  },
  {
   "cell_type": "markdown",
   "metadata": {},
   "source": [
    "#### Итог"
   ]
  },
  {
   "cell_type": "markdown",
   "metadata": {},
   "source": [
    "* В **Америке** топ-5 по продажам:\n",
    "  * 1) PS4\n",
    "  * 2) XOne\n",
    "  * 3) X360\n",
    "  * 4) 3DS\n",
    "  * 5) PS3\n",
    "  \n",
    "\n",
    "* В **Евпрое** топ-5 по продажам:\n",
    "  * 1) PS4\n",
    "  * 2) XOne\n",
    "  * 3) PS3\n",
    "  * 4) PC\n",
    "  * 5) 3DS \n",
    "\n",
    "\n",
    "* В **Японии** топ-5 по продажам:\n",
    "  * 1) 3DS\n",
    "  * 2) PS4\n",
    "  * 3) PSV\n",
    "  * 4) PS3\n",
    "  * 5) WiiU"
   ]
  },
  {
   "cell_type": "code",
   "execution_count": null,
   "metadata": {},
   "outputs": [],
   "source": [
    "regf[['na','eu','jp']].mean().round(2)"
   ]
  },
  {
   "cell_type": "markdown",
   "metadata": {},
   "source": [
    "Самый большой процент продаж в Америке и Европе, затем Япония, которя отстаёт"
   ]
  },
  {
   "cell_type": "markdown",
   "metadata": {},
   "source": [
    "### Топ-5 самых популярных жанров."
   ]
  },
  {
   "cell_type": "code",
   "execution_count": null,
   "metadata": {},
   "outputs": [],
   "source": [
    "#Ganre_by_Regions\n",
    "gr = aydf.groupby('genre')[['na_sales', 'eu_sales', 'jp_sales', 'total_sales']].agg('sum').sort_values('total_sales',ascending=False)       \n",
    "gr['na']=(gr['na_sales']/gr['total_sales']*100).round(1)\n",
    "gr['eu']=(gr['eu_sales']/gr['total_sales']*100).round(1)\n",
    "gr['jp']=(gr['jp_sales']/gr['total_sales']*100).round(1)\n",
    "gr"
   ]
  },
  {
   "cell_type": "code",
   "execution_count": null,
   "metadata": {},
   "outputs": [],
   "source": [
    "gr[['na_sales','eu_sales','jp_sales']].plot(kind='bar',figsize=(20,10),rot=0,grid=True)\n",
    "plt.title('Суммарное количество проданных игр по жанрам по регионам.',size=25)\n",
    "plt.xlabel('Жанр',size=30)\n",
    "plt.ylabel('Количество проданных копий (млн.)',size=20)\n",
    "plt.show()"
   ]
  },
  {
   "cell_type": "markdown",
   "metadata": {},
   "source": [
    "Самые популярные в Америке и Европе - Action,Shooter и Sports.\n",
    "\n",
    "\n",
    "В Японии же РПГ и Action. Шутеры и спортивные игры напротив не вызывают такого внимания публики."
   ]
  },
  {
   "cell_type": "markdown",
   "metadata": {},
   "source": [
    "#### Северная Америка"
   ]
  },
  {
   "cell_type": "code",
   "execution_count": null,
   "metadata": {},
   "outputs": [],
   "source": [
    "gr['na_sales'].sort_values(ascending=True).tail().plot(kind='barh',figsize=(10,10),rot=0,color='b')\n",
    "plt.title('Топ-5 жанров в Северной Америке.',size=20)\n",
    "plt.xlabel('Количество проданных копий млн.',size=20)\n",
    "plt.ylabel('Жанр',size=20)\n",
    "plt.show()"
   ]
  },
  {
   "cell_type": "code",
   "execution_count": null,
   "metadata": {},
   "outputs": [],
   "source": [
    "print('Топ-5 жанров в Северной Америке.')\n",
    "print('Млн. проданных копий по каждому жанру и % от суммарных продаж.')\n",
    "gr[['na_sales','na']].sort_values(by='na_sales',ascending=False).reset_index().head()"
   ]
  },
  {
   "cell_type": "markdown",
   "metadata": {},
   "source": [
    "#### Евпропа"
   ]
  },
  {
   "cell_type": "code",
   "execution_count": null,
   "metadata": {},
   "outputs": [],
   "source": [
    "gr['eu_sales'].sort_values(ascending=True).tail().plot(kind='barh',figsize=(10,10),rot=0,color='g')\n",
    "plt.title('Топ-5 жанров в Европе',size=20)\n",
    "plt.xlabel('Количество проданных копий млн.',size=20)\n",
    "plt.ylabel('Жанр',size=20)\n",
    "plt.show()"
   ]
  },
  {
   "cell_type": "code",
   "execution_count": null,
   "metadata": {},
   "outputs": [],
   "source": [
    "print('Топ-5 жанров в Европе.')\n",
    "print('Млн. проданных копий по каждому жанру и % от суммарных продаж.')\n",
    "gr[['eu_sales','eu']].sort_values(by='eu_sales',ascending=False).reset_index().head()"
   ]
  },
  {
   "cell_type": "markdown",
   "metadata": {},
   "source": [
    "#### Япония"
   ]
  },
  {
   "cell_type": "code",
   "execution_count": null,
   "metadata": {},
   "outputs": [],
   "source": [
    "gr['jp_sales'].sort_values(ascending=True).tail().plot(kind='barh',figsize=(10,10),rot=0,color='r')\n",
    "plt.title('Топ-5 жанров в Японии',size=20)\n",
    "plt.xlabel('Количество проданных копий млн.',size=20)\n",
    "plt.ylabel('Жанр',size=20)\n",
    "plt.show()"
   ]
  },
  {
   "cell_type": "code",
   "execution_count": null,
   "metadata": {},
   "outputs": [],
   "source": [
    "print('Топ-5 жанров в Японии.')\n",
    "print('Млн. проданных копий по каждому жанру и % от суммарных продаж.')\n",
    "gr[['jp_sales','jp']].sort_values(by='jp_sales',ascending=False).reset_index().head()"
   ]
  },
  {
   "cell_type": "markdown",
   "metadata": {},
   "source": [
    "#### Итог"
   ]
  },
  {
   "cell_type": "markdown",
   "metadata": {},
   "source": [
    "Предпочтения в Америки и Европе очень похожи как между собой так и основной выборкой (что логично, ведь они формируют основной вес), а вот жанровые предпочтения у пользователей из Японии кардинально другие. Там больше всего любят РПГ, причем настолько что почти обгоняют Америку по количеству проданных копий в этом жанре. (33.47 против 31.16 млн. копий)"
   ]
  },
  {
   "cell_type": "markdown",
   "metadata": {},
   "source": [
    "* В **Америке** топ-5 по жанрам:\n",
    "  * 1) Shooter\n",
    "  * 2) Action\n",
    "  * 3) Sports\n",
    "  * 4) Role-Playing\n",
    "  * 5) Misc\t\n",
    "  \n",
    "\n",
    "* В **Евпрое** топ-5 по жанрам:\n",
    "  * 1) Action\n",
    "  * 2) Shooter\n",
    "  * 3) Sports\n",
    "  * 4) Role-Playing\n",
    "  * 5) Racing\t\n",
    "\n",
    "\n",
    "* В **Японии** топ-5 по жанрам:\n",
    "  * 1) Role-Playing\t\n",
    "  * 2) Action\n",
    "  * 3) Fighting\n",
    "  * 4) Misc\n",
    "  * 5) Shooter"
   ]
  },
  {
   "cell_type": "markdown",
   "metadata": {},
   "source": [
    "### Зависимость продаж от ESRB"
   ]
  },
  {
   "cell_type": "code",
   "execution_count": null,
   "metadata": {},
   "outputs": [],
   "source": [
    "#Raiting_by_Regions\n",
    "rr = (aydf.groupby('rating')[['na_sales', 'eu_sales', 'jp_sales', 'total_sales']]\n",
    "      .agg('sum')\n",
    "      .sort_values('total_sales',ascending=False))"
   ]
  },
  {
   "cell_type": "code",
   "execution_count": null,
   "metadata": {},
   "outputs": [],
   "source": [
    "rr"
   ]
  },
  {
   "cell_type": "markdown",
   "metadata": {},
   "source": [
    "Игр с неизвестным рейтингом и правда очень много, настолько, что занимают топ 2 по прадажам.Но вероятно это возникло из-за того, что в Японии (а возможно и частично в Европе) не катируется рейтинг от американской компании."
   ]
  },
  {
   "cell_type": "code",
   "execution_count": null,
   "metadata": {},
   "outputs": [],
   "source": [
    "#rrf = rr.query('rating != \"unknown\"')"
   ]
  },
  {
   "cell_type": "markdown",
   "metadata": {},
   "source": [
    "<div class=\"alert alert-danger\">\n",
    "<b>Необходимо исправить ❌</b>\n",
    "\n",
    "Неверно. Таким образом мы потеряли игры без рейтинга. Отфильтровывая такие - мы исключаем из анализа несколько тысяч игр без рейтинга. Но продажи именно таких игр могут указать на ключевое различие в регионах. Исправь пожалуйста эту ошибку и посмотри - не поменялись ли твои выводы.\n",
    "\n",
    "Подумай пожалуйста про необходимость учёта игр без рейтинга ещё и с такой позиции: а что если рейтинг ESRB не значим для Японии? Т.е. у них свой рейтинг (для \"местных\", Японских игр)? Получается, что исключив игры с Японским рейтингом из анализа для Японии мы получаем неверные выводы.</div>\n"
   ]
  },
  {
   "cell_type": "markdown",
   "metadata": {},
   "source": [
    "<div style=\"background: #B0E0E6; padding: 5px; border: 1px solid SteelBlue; border-radius: 5px;\">\n",
    "    <font color='4682B4'><u><b>КОММЕНТАРИЙ СТУДЕНТА</b></u></font>\n",
    "    <br />\n",
    "    <font color='4682B4'>Хорошо, я понял свою ошибку, не буду удалять, спасибо )</font>\n",
    "</div>"
   ]
  },
  {
   "cell_type": "code",
   "execution_count": null,
   "metadata": {},
   "outputs": [],
   "source": [
    "rr[['na_sales','eu_sales','jp_sales']].plot(kind='bar',figsize=(20,10),rot=0,grid=True)\n",
    "plt.title('Суммарное количество проданных игр по ESRB по регионам.',size=25)\n",
    "plt.xlabel('Возрастная категория',size=20)\n",
    "plt.ylabel('Количество проданных копий (млн.)',size=20)\n",
    "plt.show()"
   ]
  },
  {
   "cell_type": "markdown",
   "metadata": {},
   "source": [
    "* Самая продаваемая категоря в Америке и Европе - M \"Mature\" (17+), затем идут те самые игры без рейтинга от ESRB, затем категория E \"Everyone\" (6+)\n",
    "* В Японии топ один занимает \"unknow\", что  говорит о том, что предположение скорее всего верно и это игры из Японии иу них свой возрастной ценз. Следующим идёт T \"Teens\" (13+)"
   ]
  },
  {
   "cell_type": "markdown",
   "metadata": {},
   "source": [
    "<div class=\"alert alert-danger\">\n",
    "<b>Необходимо исправить ❌</b>\n",
    "\n",
    "Вывод неверен. ПОсле возвращения игр \"без рейтинга\" его надо будет переписать.\n",
    "</div>"
   ]
  },
  {
   "cell_type": "markdown",
   "metadata": {},
   "source": [
    "<div style=\"background: #B0E0E6; padding: 5px; border: 1px solid SteelBlue; border-radius: 5px;\">\n",
    "    <font color='4682B4'><u><b>КОММЕНТАРИЙ СТУДЕНТА</b></u></font>\n",
    "    <br />\n",
    "    <font color='4682B4'>Спасибо, исправил! </font>\n",
    "</div>"
   ]
  },
  {
   "cell_type": "markdown",
   "metadata": {},
   "source": [
    "<div class=\"alert alert-success\">\n",
    "<b>КОММЕНТАРИЙ V2</b>\n",
    "\n",
    "Рейтинг ESRB - это американский рейтинг, а в Японии есть своё рейтинговое агентство (CERO). Получается, что Япония страна со своим менталитетом. И твой анализ показывает, что Японцы в игры-то играют не такие, как весь прочий мир и жанры игр там популярны совсем другие, нежели в остальном мире, да и на рейтинги (не своего агентства) не очень то внимание обращают.</div>\n"
   ]
  },
  {
   "cell_type": "markdown",
   "metadata": {},
   "source": [
    "## Статистический анализ - проверка гипотез."
   ]
  },
  {
   "cell_type": "markdown",
   "metadata": {},
   "source": [
    "Здесь предстаит проверить две гипотезы.\n",
    "\n",
    "* Гипотеза 1: Средние пользовательские рейтинги платформ Xbox One и PC одинаковые.\n",
    "* Гипотеза 2: Средние пользовательские рейтинги жанров Action и Sports разные."
   ]
  },
  {
   "cell_type": "markdown",
   "metadata": {},
   "source": [
    "### Гипотеза 1"
   ]
  },
  {
   "cell_type": "markdown",
   "metadata": {},
   "source": [
    "* Нулевая гипотеза - Средние пользовательские рейтинги платформ Xbox One и PC одинаковые.\n",
    "* Альтернативная гипотеза - Средние пользовательские рейтинги платформ Xbox One и PC разные.\n",
    "* Альфа - 5%"
   ]
  },
  {
   "cell_type": "code",
   "execution_count": null,
   "metadata": {},
   "outputs": [],
   "source": [
    "#XOne_User_score'\n",
    "xou = aydf.query('platform==\"XOne\" and user_score != -1 and user_score != -999')['user_score']\n",
    "\n",
    "#PC_Userscore\n",
    "pcu = aydf.query('platform==\"PC\"and user_score != -1 and user_score != -999')['user_score']"
   ]
  },
  {
   "cell_type": "code",
   "execution_count": null,
   "metadata": {},
   "outputs": [],
   "source": [
    "alpha = .05\n",
    "\n",
    "results = st.ttest_ind(\n",
    "    pcu, \n",
    "    xou)\n",
    "\n",
    "print('p-значение:', results.pvalue)\n",
    "\n",
    "if (results.pvalue < alpha):\n",
    "    print(\"Отвергаем нулевую гипотезу\")\n",
    "else:\n",
    "    print(\"Не получилось отвергнуть нулевую гипотезу\")"
   ]
  },
  {
   "cell_type": "code",
   "execution_count": null,
   "metadata": {},
   "outputs": [],
   "source": [
    "print('Средний рейтинг пользователей Xbox One:',xou.mean().round(2))\n",
    "print('Средний рейтинг пользователей PC:',pcu.mean().round(2))\n",
    "if pcu.mean().round(2) > xou.mean().round(2):\n",
    "    print('Рейтинги различаются на',(((pcu.mean().round(2)/xou.mean().round(2))-1)*100).round(2),'%')\n",
    "else:\n",
    "    print('Рейтинги различаются на',(((xou.mean().round(2)/pcu.mean().round(2))-1)*100).round(2),'%')"
   ]
  },
  {
   "cell_type": "markdown",
   "metadata": {},
   "source": [
    "**Вывод**\n",
    "* Не Отвергаем нулевую гипотезу о том что оценки пользователей платформ Xbox One и PC одинаковые.\n",
    "* Отвергаем альтернативную гипотезу о том что оценки пользователей платформ Xbox One и PC разные.\n",
    "* Средние оценки пользователей различаются на 4.72% - вполне приемлемая разница."
   ]
  },
  {
   "cell_type": "markdown",
   "metadata": {},
   "source": [
    "<div class=\"alert alert-success\">\n",
    "<b>ОТЛИЧНО! 👍</b>\n",
    "\n",
    "Очень хорошо, что ты не забываешь отфильтровать «заглушки» / NaN значения.\n",
    "\n",
    "Также верно и то, что мы используем здесь двусторонний тест.\n",
    "\n",
    "Ну и отлично, что ты понимаешь, что нельзя сделать вывод, что тест \"подтвердил\" одну из гипотез (в статистике гипотезы подтвердить невозможно) или \"подтвердил\" равенство/неравенство (можно говорить только о статистически (не)значимом различии). Например так: «У нас нет оснований утверждать, что средние пользовательские рейтинги платформ Xbox One и PC значимо различаются».</div>\n"
   ]
  },
  {
   "cell_type": "markdown",
   "metadata": {},
   "source": [
    "### Гипотеза 2"
   ]
  },
  {
   "cell_type": "markdown",
   "metadata": {},
   "source": [
    "* Нулевая гипотеза - Средние пользовательские рейтинги жанров Action и Sports одинаковые\n",
    "* Альтернативная гипотеза - Средние пользовательские рейтинги жанров Action и Sports разные\n",
    "* Альфа - 5%"
   ]
  },
  {
   "cell_type": "code",
   "execution_count": null,
   "metadata": {},
   "outputs": [],
   "source": [
    "#Action_User_score'\n",
    "au = aydf.query('genre==\"Action\" and user_score != -1 and user_score != -999')['user_score']\n",
    "\n",
    "#Sports_Userscore\n",
    "su = aydf.query('genre==\"Sports\"and user_score != -1 and user_score != -999')['user_score']"
   ]
  },
  {
   "cell_type": "code",
   "execution_count": null,
   "metadata": {},
   "outputs": [],
   "source": [
    "alpha = .05\n",
    "\n",
    "results = st.ttest_ind(\n",
    "    au, \n",
    "    su)\n",
    "\n",
    "print('p-значение:', results.pvalue)\n",
    "\n",
    "if (results.pvalue < alpha):\n",
    "    print(\"Отвергаем нулевую гипотезу\")\n",
    "else:\n",
    "    print(\"Не получилось отвергнуть нулевую гипотезу\")"
   ]
  },
  {
   "cell_type": "code",
   "execution_count": null,
   "metadata": {},
   "outputs": [],
   "source": [
    "print('Средний рейтинг игр жанра Action от пользователей:',au.mean().round(2))\n",
    "print('Средний рейтинг игр жанра Sports от пользователей:',su.mean().round(2))\n",
    "if au.mean().round(2) > su.mean().round(2):\n",
    "    print('Рейтинги различаются на',((au.mean()/su.mean()-1)*100).round(2),'%')\n",
    "else:\n",
    "    print('Рейтинги различаются на',((su.mean()/au.mean()-1)*100).round(2),'%')"
   ]
  },
  {
   "cell_type": "markdown",
   "metadata": {},
   "source": [
    "**Вывод**\n",
    "* Отвергаем нулевую гипотезу о том что оценки пользователей по жанрам одинаковые.\n",
    "* Не Отвергаем альтернативную гипотезу о том что оценки пользователей по жанрам разные.\n",
    "* Средние оценки жанров Actions и Sports различаються на 29.38 % - разница очень ощутима."
   ]
  },
  {
   "cell_type": "markdown",
   "metadata": {},
   "source": [
    "<div class=\"alert alert-success\">\n",
    "<b>ОТЛИЧНО! 👍</b>\n",
    "\n",
    "Очень хорошо, что ты не забываешь отфильтровать «заглушки» / NaN значения.\n",
    "\n",
    "Также верно и то, что мы используем здесь двусторонний тест.\n",
    "\n",
    "Ну и отлично, что ты понимаешь, что нельзя сделать вывод, что тест \"подтвердил\" одну из гипотез (в статистике гипотезы подтвердить невозможно) или \"подтвердил\" равенство/неравенство (можно говорить только о статистически (не)значимом различии). Например так: «У нас нет оснований утверждать, что средние пользовательские рейтинги платформ Xbox One и PC значимо различаются».</div>\n"
   ]
  },
  {
   "cell_type": "markdown",
   "metadata": {},
   "source": [
    "### Итог"
   ]
  },
  {
   "cell_type": "markdown",
   "metadata": {},
   "source": [
    "* Мы не отвергли Гипотезу 1: Средние пользовательские рейтинги платформ Xbox One и PC одинаковые.\n",
    "* Мы не отвергли Гипотезу 2: Средние пользовательские рейтинги жанров Action и Sports разные.\n",
    "\n",
    "\n",
    "* Мы Отвергли Гипотезы о том что:\n",
    "  - 1) Средние пользовательские рейтинги платформ Xbox One и PC отличаються.\n",
    "  - 2) Средние пользовательские рейтинги жанров Action и Sports одинаковые."
   ]
  },
  {
   "cell_type": "markdown",
   "metadata": {},
   "source": [
    " Если перевести с статистического на человеческий, то на данный момент получается, что средние рейтинги Xbox One и PC отличаются не слишком сильно, всего на 4.72%. А средние рейтинги жанров Action и Sports наоборот отличаються очень сильно на целых 29.38 %!"
   ]
  },
  {
   "cell_type": "markdown",
   "metadata": {},
   "source": [
    "----------------------------------------------"
   ]
  },
  {
   "cell_type": "markdown",
   "metadata": {},
   "source": [
    "* **Как формулирую гипотезы** - за нулевую гипотезу беру вариант, что пользовательские рейтинги равны, а за альтернативную гипотезу наоборот - различаються.\n",
    "* **Какой метод использую и почему** - Для проверки гипотез использую стандартный t-тест, потому все представленные выборки независимые."
   ]
  },
  {
   "cell_type": "markdown",
   "metadata": {},
   "source": [
    "---------"
   ]
  },
  {
   "cell_type": "markdown",
   "metadata": {},
   "source": [
    "## Общий вывод"
   ]
  },
  {
   "cell_type": "markdown",
   "metadata": {},
   "source": [
    "### Пропуски "
   ]
  },
  {
   "cell_type": "markdown",
   "metadata": {},
   "source": [
    "Здесь отдельно укажу на то, что в таблице было множество проусков, чтобы не искажать данные пропуски я решил не удалять и не заменять медианой, а заменить на другие значения, которые при исследовании соответвующих параметров исключались. Но всё равно вес этих пропусков давольно большой, к примеру при изучении зависимости продаж от рейтинга ESRB пропущенные значения занимали топ-2. Поэтому оставлю тут отдельный пропуск-репорт.\n",
    "\n",
    "* Вероятно такое большое количество пропусков вызвано тем, что ESRB это американская компания и она не занимается возрастными категориями у Японских игр. В Японии свой возрастной ценз и как было выявлено в изучении зависимости продаж от ESRB - и правда, категория 'unknown' самая папулярная в Японии."
   ]
  },
  {
   "cell_type": "markdown",
   "metadata": {},
   "source": [
    "---\n",
    "* Базовая таблица содержит  16714 строк\n",
    "------"
   ]
  },
  {
   "cell_type": "markdown",
   "metadata": {},
   "source": [
    "* В изначальных данных было обнаружено большое количество пропусков.\n",
    "- Пропуски обнаружились в следующих стобцах и были заменены на другие значения:\n",
    "  * Год Релиза - 269 пропусков заменены на 1900\n",
    "  * Оценки критиков - 8578 пропусков заменены на -1\n",
    "  * Оценки пользователей - 6701 пропусков заменены на -1\n",
    "    * Так же параметр tbd ('в процессе определения') был заменён на -999\n",
    "  * Рейтинг ESRB - 6766 пропусков заменены на unknown\n",
    "    * Так же категория K-A заменена на E, потому что это одно и тоже\n",
    "  * Было обнаружено две строки где отсутсвует название игры и жанра. Оставлено без изминений."
   ]
  },
  {
   "cell_type": "markdown",
   "metadata": {},
   "source": [
    "### Выводы"
   ]
  },
  {
   "cell_type": "markdown",
   "metadata": {},
   "source": [
    "* **Временные периоды:**\n",
    "  * **1993 год** - видеоигры набирают популярность\n",
    "  * **2002 год** - бум видеоигр вплоть до 2008го\n",
    "  * **2008 год** - финансовый кризис и начало охлаждения в игровой индустрии.\n",
    "  * Каждая платформа была актуальна на протяжении ограниченого срока времени в пределах от 4 до    7 лет, потом выпускалась новая\n",
    "   * Самые устойчивые серии платформ - PS и Xbox\n",
    "  - Для исследования актуальным выбран период с **2014** года.\n",
    "---\n",
    "* **Исследование динамики платформ с 2014 года:**\n",
    "  * По состоянию на 2016 год у всех платформы период спада, поэтому нельзя выделить перспективную среди имеющихся. Вероятно должны появиться новинки, которые создадут новые всплески популярности, стоит обратить на них внимание.\n",
    "---\n",
    "* **Зависимость продаж от оценки критиков и пользователей:**\n",
    "  * Есть совсем небольшая прямая корреляция с оценками критиков 0.37-0.45, но с оценками пользователей вовсе отсутствует.\n",
    "---\n",
    "* **Жанры:**\n",
    "  * Самый прибыльный по медиане - **Shooter** , затем **Sports**\n",
    "  * Самые слабые - **Adventure** и **Strategy**\n",
    "  * Интересный момент с **Action**, **Adventure**, **Role-Playng**,:\n",
    "    * Разнообразие большое, но медийная **продаваемость низкая**.\n",
    "--------\n",
    "**Продажи по платформам в разных регионах**\n",
    "* В **Америке** топ-5 по продажам:\n",
    "  * 1) PS4\n",
    "  * 2) XOne\n",
    "  * 3) X360\n",
    "  * 4) 3DS\n",
    "  * 5) PS3\n",
    "  \n",
    "\n",
    "* В **Евпрое** топ-5 по продажам:\n",
    "  * 1) PS4\n",
    "  * 2) XOne\n",
    "  * 3) PS3\n",
    "  * 4) PC\n",
    "  * 5) 3DS \n",
    "\n",
    "\n",
    "* В **Японии** топ-5 по продажам:\n",
    "  * 1) 3DS\n",
    "  * 2) PS4\n",
    "  * 3) PSV\n",
    "  * 4) PS3\n",
    "  * 5) WiiU\n",
    "  * *В японии любят продукти отечественных компаний. Nintendo и Sony.*\n",
    "----"
   ]
  },
  {
   "cell_type": "markdown",
   "metadata": {},
   "source": [
    "* **Продажи по жанрам в разных регионах:**\n",
    "  * Предпочтения в Америки и Европе очень похожи как между собой так и основной выборкой (что логично, ведь они формируют основной вес), а вот жанровые предпочтения у пользователей из Японии кардинально другие. Там больше всего любят РПГ, причем настолько что почти обгоняют Америку по количеству проданных копий в этом жанре. (33.47 против 31.16 млн. копий)\n",
    "\n",
    "\n",
    "* В **Америке** топ-5 по жанрам:\n",
    "  * 1) Shooter\n",
    "  * 2) Action\n",
    "  * 3) Sports\n",
    "  * 4) Role-Playing\n",
    "  * 5) Misc\t\n",
    "  \n",
    "\n",
    "* В **Евпрое** топ-5 по жанрам:\n",
    "  * 1) Action\n",
    "  * 2) Shooter\n",
    "  * 3) Sports\n",
    "  * 4) Role-Playing\n",
    "  * 5) Racing\t\n",
    "\n",
    "\n",
    "* В **Японии** топ-5 по жанрам:\n",
    "  * 1) Role-Playing\t\n",
    "  * 2) Action\n",
    "  * 3) Fighting\n",
    "  * 4) Misc\n",
    "  * 5) Shooter\n",
    "---"
   ]
  },
  {
   "cell_type": "markdown",
   "metadata": {},
   "source": [
    "* **Зависимость продаж от рейтинга ESRB в разных регионах:**\n",
    "* Самая продаваемая категоря в Америке и Европе - M \"Mature\" (17+), затем идут те самые игры без рейтинга от ESRB, затем категория E \"Everyone\" (6+)\n",
    "* В японии топ один занимает \"unknow\", что  говорит о том, что предположение скорее всего верно и это игры из Японии иу них свой возрастной ценз. Следующим идёт T \"Teens\" (13+)"
   ]
  },
  {
   "cell_type": "markdown",
   "metadata": {},
   "source": [
    "* **Продажи по регионам**:\n",
    "  * Самый большой процент от суммы продаж в Америке (33.32%),\n",
    "  * Совсем незначительно отстает Европа (33.01%),\n",
    "  * Япония отстает сильнее (25.50%).\n",
    "---"
   ]
  },
  {
   "cell_type": "markdown",
   "metadata": {},
   "source": [
    "* **Выводы по проверке гипотез:**\n",
    "* Средние рейтинги Xbox One и PC отличаются не слишком сильно (всего на 4.72%).\n",
    "* А средние рейтинги жанров Action и Sports наоборот отличаються очень сильно (на целых 29.38 %)!\n",
    "* Были выдвинуты следующие гипотезы:\n",
    "  * Гипотеза 1: Средние пользовательские рейтинги платформ Xbox One и PC одинаковые.\n",
    "  * Гипотеза 2: Средние пользовательские рейтинги жанров Action и Sports разные.\n",
    "  * В ходе проведения статистического анализа обе выдвинутые гипотезы были **Не отвергнуты**.\n",
    "  \n",
    "   Если перевести с статистического на человеческий, то на данный момент получается, что средние рейтинги Xbox One и PC отличаются не слишком сильно, всего на 4.72%. А средние рейтинги жанров Action и Sports наоборот отличаються очень сильно на целых 29.38 %!"
   ]
  },
  {
   "cell_type": "markdown",
   "metadata": {},
   "source": [
    "### Рекомендации по рекламной компаниий"
   ]
  },
  {
   "cell_type": "markdown",
   "metadata": {},
   "source": [
    "* Самые перспективные жанр по медийным продажам - **Shooter** , затем **Sports**.\n",
    "* Лучше делать ставки на игры созданные **эксклюзивно** для определённой платфомы.\n",
    "* По платформам лучше **приставки** чем PC, у каждого региона свои предпочтения:\n",
    "  * В **Америке** на первом месте PS4, но XOne тоже очень популярен\n",
    "  * В **Евпропе** PS4 и любят сильнее прочих.\n",
    "  * В **Японии** любят отечественные 3DS от Nintendo и PS4 с PSV от Sony\n",
    "* Сейчас (на момент 2016 г.) период спада, поэтому лучше **ориентироваться на новые выпуски платформ** и инновации, есть возможность поймать новый бум.\n",
    "* **Самые популярные возрастные категории**:\n",
    "  * Самая продаваемая категоря в Америке и Европе - M \"Mature\" (17+), затем идут те самые игры без рейтинга от ESRB, затем категория E \"Everyone\" (6+)\n",
    "  * * В Японии топ один занимает \"unknow\", что  говорит о том, что предположение скорее всего верно и это игры из Японии иу них свой возрастной ценз. Следующим идёт T \"Teens\" (13+)"
   ]
  },
  {
   "cell_type": "markdown",
   "metadata": {},
   "source": [
    "<div class=\"alert alert-danger\">\n",
    "<b>Необходимо исправить ❌</b>\n",
    "\n",
    "После исправления красных комментариев надо будет ещё раз пересмотреть выводы в этом финальном разделе, возможно какие-то акценты сместятся ... возможно что-то измениться?</div>"
   ]
  },
  {
   "cell_type": "markdown",
   "metadata": {},
   "source": [
    "<div style=\"background: #B0E0E6; padding: 5px; border: 1px solid SteelBlue; border-radius: 5px;\">\n",
    "    <font color='4682B4'><u><b>КОММЕНТАРИЙ СТУДЕНТА</b></u></font>\n",
    "    <br />\n",
    "    <font color='4682B4'>Спасибо большое за твои комментарии иревью! ))\n",
    "    Надеюсь, что у меня получилось исправить основные моменты ))</font>\n",
    "</div>\n"
   ]
  },
  {
   "cell_type": "markdown",
   "metadata": {},
   "source": [
    "<div class=\"alert alert-success\">\n",
    "<b>КОММЕНТАРИЙ V2</b>\n",
    "\n",
    "Да Фёдор, всё получилось. Проект принят.</div>\n"
   ]
  },
  {
   "cell_type": "markdown",
   "metadata": {},
   "source": [
    "# Результат ревью:\n",
    "\n",
    "Я отмечаю высокий уровень твоей программистской подготовки. Ты используешь продвинутые концепции языка Python и библиотеки pandas. Всё это в целом упрощает твой код и одновременно показывает твой уровень владения инструментами.\n",
    "\n",
    "Ты умело применяешь графические библиотеки (matplotlib), выбираешь для визуализации ровно те типы графиков, которые нужны. Очень хорошо, что оси на графиках подписаны и сами они имеют понятные названия.\n",
    "\n",
    "С комментированием никаких проблем нет. Твоих объяснений достаточно для понимания твоими коллегами хода мыслей. Ссылки из брифа проекта в нужных местах также помогают следовать за развитием событий и дают полную информацию касаемо того, что будет происходить в том или ином разделе проекта.\n",
    "\n",
    "Мне было просто проверять твой проект, потому что он чётко структурирован, с использованием оглавления. \n",
    "\n",
    "Зелёным цветом я отметил и прокомментировал удачные и элегантные решения, на которые ты можешь опираться в будущих проектах.\n",
    "\n",
    "Жёлтым цветом я выделил то, что в следующий раз можно сделать по-другому. Ты можешь учесть эти комментарии при выполнении будущих заданий или доработать проект сейчас.\n",
    "\n",
    "Однако есть принципиальные моменты, которые не позволяют мне принять твой проект в его нынешнем состоянии:\n",
    "\n",
    "<div class=\"alert alert-danger\">\n",
    "<b>Необходимо исправить ❌</b> \n",
    "\n",
    "1. Одна из задач этого проекта (согласно брифа): 1. Объясните, почему заполнили пропуски определённым образом или почему не стали это делать, 2. Опишите причины, которые могли привести к пропускам 3. Обратите внимание на аббревиатуру 'tbd' в столбце с оценкой пользователей. Отдельно разберите это значение и опишите, как его обработать. Нужен твой комментарий, касающийся природы пропусков в столбце с рейтингами, а именно, может ли быть какая-то связь с тем, что в столбце с рейтингами >40% пропусков и тем, что эти оценки (рейтинги) выставляет **именно Американское рейтинговое агентство?\n",
    "\n",
    "2. Для анализа взят слишком большой интервал. Для целей прогнозирования продаж на следующий год даже в традиционных бизнесах редко берут данные более чем за 2-3 года. А в такой динамично меняющейся индустрии, как компьютерные игры и вовсе не стоит брать слишком большой временной интервал. \n",
    "\n",
    "3. В разделе построения «ящика с усами» по глобальным продажам игр в разбивке по платформам необходимо построить график так, чтобы квартили соответствующих «ящиков» позволяли визуально сравнивать платформы между собой. **Все боксплоты** нужно построить на одном графике.\n",
    " \n",
    "4. В разделе расчета корреляций между оценками (пользователей/экспертов) и продажами, «на расчет» передаются данные, содержащие «заглушки» (заполненные руками значения). \n",
    "\n",
    "5. По условию задачи надо сравнить результаты PS3 с результатами на других консолях. Но условием 'platform != [\"PS3\"]' ты берешь всю таблицу, со всеми прочими консолями. Это не соответствует условию.\n",
    "\n",
    "6. Попробуй рассмотреть не общие продажи, а медианные (или средние). Общие продажи - плохая метрика для поиска наиболее прибыльного жанра. Анализ медианных показателей позволит тебе найти жанр, который приносит высокий доход.\n",
    "\n",
    "7. Мы \"потеряли\" игры без рейтинга. Кроме игр с явными рейтингами (которые ты анализируешь) есть ещё около тысячи игр без рейтинга. Но продажи именно таких игр могут указать на ключевое различие в регионах.</div>\n",
    "\n",
    "Эти 7 моментов требуют твоего внимания. Комментарии по ним помечены красным цветом. \n",
    "\n",
    "Подводя итог: отличная работа на самом-то деле, молодец! Есть несколько моментов к исправлению, но уверен, что они не вызовут у тебя сложностей. После доработки обязательно проверь комментарии и выводы. Возможно их нужно будет скорректировать. Жду доработанную версию проекта на повторное ревью."
   ]
  }
 ],
 "metadata": {
  "ExecuteTimeLog": [
   {
    "duration": 1306,
    "start_time": "2022-07-08T04:19:02.900Z"
   },
   {
    "duration": 156,
    "start_time": "2022-07-08T04:19:10.902Z"
   },
   {
    "duration": 75,
    "start_time": "2022-07-08T04:19:28.341Z"
   },
   {
    "duration": 17,
    "start_time": "2022-07-08T04:19:43.814Z"
   },
   {
    "duration": 14,
    "start_time": "2022-07-08T04:19:48.190Z"
   },
   {
    "duration": 17,
    "start_time": "2022-07-08T04:23:23.627Z"
   },
   {
    "duration": 41,
    "start_time": "2022-07-08T04:23:28.653Z"
   },
   {
    "duration": 14,
    "start_time": "2022-07-08T04:23:32.961Z"
   },
   {
    "duration": 49,
    "start_time": "2022-07-08T04:23:39.804Z"
   },
   {
    "duration": 19,
    "start_time": "2022-07-08T04:25:27.192Z"
   },
   {
    "duration": 25,
    "start_time": "2022-07-08T04:25:29.545Z"
   },
   {
    "duration": 10,
    "start_time": "2022-07-08T04:25:29.751Z"
   },
   {
    "duration": 12,
    "start_time": "2022-07-08T04:25:45.347Z"
   },
   {
    "duration": 15,
    "start_time": "2022-07-08T04:25:48.295Z"
   },
   {
    "duration": 15,
    "start_time": "2022-07-08T04:31:13.332Z"
   },
   {
    "duration": 6,
    "start_time": "2022-07-08T04:31:17.406Z"
   },
   {
    "duration": 9,
    "start_time": "2022-07-08T04:31:29.146Z"
   },
   {
    "duration": 2,
    "start_time": "2022-07-08T04:31:39.263Z"
   },
   {
    "duration": 5,
    "start_time": "2022-07-08T04:31:49.096Z"
   },
   {
    "duration": 5,
    "start_time": "2022-07-08T04:34:15.048Z"
   },
   {
    "duration": 5,
    "start_time": "2022-07-08T04:34:15.874Z"
   },
   {
    "duration": 5,
    "start_time": "2022-07-08T04:37:01.794Z"
   },
   {
    "duration": 4,
    "start_time": "2022-07-08T04:37:17.749Z"
   },
   {
    "duration": 6,
    "start_time": "2022-07-08T04:37:47.456Z"
   },
   {
    "duration": 5,
    "start_time": "2022-07-08T04:38:13.750Z"
   },
   {
    "duration": 21,
    "start_time": "2022-07-08T04:46:35.048Z"
   },
   {
    "duration": 18,
    "start_time": "2022-07-08T04:48:01.621Z"
   },
   {
    "duration": 10,
    "start_time": "2022-07-08T04:49:56.276Z"
   },
   {
    "duration": 56,
    "start_time": "2022-07-08T04:50:17.108Z"
   },
   {
    "duration": 19,
    "start_time": "2022-07-08T04:50:22.859Z"
   },
   {
    "duration": 7,
    "start_time": "2022-07-08T05:00:45.719Z"
   },
   {
    "duration": 12,
    "start_time": "2022-07-08T05:03:54.194Z"
   },
   {
    "duration": 10,
    "start_time": "2022-07-08T05:04:06.066Z"
   },
   {
    "duration": 4,
    "start_time": "2022-07-08T05:04:20.479Z"
   },
   {
    "duration": 9,
    "start_time": "2022-07-08T05:04:32.824Z"
   },
   {
    "duration": 14,
    "start_time": "2022-07-08T05:04:58.149Z"
   },
   {
    "duration": 18,
    "start_time": "2022-07-08T05:05:37.719Z"
   },
   {
    "duration": 48,
    "start_time": "2022-07-08T05:05:55.954Z"
   },
   {
    "duration": 13,
    "start_time": "2022-07-08T05:05:56.469Z"
   },
   {
    "duration": 19,
    "start_time": "2022-07-08T05:05:56.649Z"
   },
   {
    "duration": 31,
    "start_time": "2022-07-08T05:05:56.843Z"
   },
   {
    "duration": 22,
    "start_time": "2022-07-08T05:05:57.041Z"
   },
   {
    "duration": 39,
    "start_time": "2022-07-08T05:05:57.348Z"
   },
   {
    "duration": 4,
    "start_time": "2022-07-08T05:05:57.916Z"
   },
   {
    "duration": 5,
    "start_time": "2022-07-08T05:05:58.368Z"
   },
   {
    "duration": 7,
    "start_time": "2022-07-08T05:05:58.528Z"
   },
   {
    "duration": 5,
    "start_time": "2022-07-08T05:05:58.676Z"
   },
   {
    "duration": 14,
    "start_time": "2022-07-08T05:05:58.966Z"
   },
   {
    "duration": 25,
    "start_time": "2022-07-08T05:05:59.948Z"
   },
   {
    "duration": 6,
    "start_time": "2022-07-08T05:06:05.749Z"
   },
   {
    "duration": 19,
    "start_time": "2022-07-08T05:06:07.004Z"
   },
   {
    "duration": 4,
    "start_time": "2022-07-08T05:07:03.884Z"
   },
   {
    "duration": 22,
    "start_time": "2022-07-08T05:07:06.549Z"
   },
   {
    "duration": 15,
    "start_time": "2022-07-08T05:07:28.588Z"
   },
   {
    "duration": 25,
    "start_time": "2022-07-08T05:07:37.205Z"
   },
   {
    "duration": 63,
    "start_time": "2022-07-08T05:12:09.642Z"
   },
   {
    "duration": 7,
    "start_time": "2022-07-08T05:12:56.691Z"
   },
   {
    "duration": 7,
    "start_time": "2022-07-08T05:13:03.571Z"
   },
   {
    "duration": 4,
    "start_time": "2022-07-08T05:14:33.857Z"
   },
   {
    "duration": 31,
    "start_time": "2022-07-08T05:14:44.336Z"
   },
   {
    "duration": 52,
    "start_time": "2022-07-08T05:14:59.454Z"
   },
   {
    "duration": 5,
    "start_time": "2022-07-08T05:15:38.064Z"
   },
   {
    "duration": 9,
    "start_time": "2022-07-08T05:21:33.320Z"
   },
   {
    "duration": 4,
    "start_time": "2022-07-08T05:21:56.599Z"
   },
   {
    "duration": 4,
    "start_time": "2022-07-08T05:22:02.000Z"
   },
   {
    "duration": 31,
    "start_time": "2022-07-08T05:22:06.410Z"
   },
   {
    "duration": 5,
    "start_time": "2022-07-08T05:22:09.607Z"
   },
   {
    "duration": 3,
    "start_time": "2022-07-08T05:22:17.990Z"
   },
   {
    "duration": 32,
    "start_time": "2022-07-08T05:22:23.616Z"
   },
   {
    "duration": 8,
    "start_time": "2022-07-08T05:22:31.103Z"
   },
   {
    "duration": 56,
    "start_time": "2022-07-08T05:23:11.743Z"
   },
   {
    "duration": 9,
    "start_time": "2022-07-08T05:23:18.421Z"
   },
   {
    "duration": 6,
    "start_time": "2022-07-08T05:24:20.916Z"
   },
   {
    "duration": 7,
    "start_time": "2022-07-08T05:25:03.787Z"
   },
   {
    "duration": 6,
    "start_time": "2022-07-08T05:25:43.778Z"
   },
   {
    "duration": 6,
    "start_time": "2022-07-08T05:25:48.057Z"
   },
   {
    "duration": 7,
    "start_time": "2022-07-08T05:26:12.163Z"
   },
   {
    "duration": 38,
    "start_time": "2022-07-08T05:26:14.688Z"
   },
   {
    "duration": 40,
    "start_time": "2022-07-08T05:27:37.348Z"
   },
   {
    "duration": 39,
    "start_time": "2022-07-08T05:27:50.066Z"
   },
   {
    "duration": 57,
    "start_time": "2022-07-08T05:28:06.449Z"
   },
   {
    "duration": 13,
    "start_time": "2022-07-08T05:28:12.452Z"
   },
   {
    "duration": 12,
    "start_time": "2022-07-08T05:28:33.364Z"
   },
   {
    "duration": 15,
    "start_time": "2022-07-08T05:29:40.235Z"
   },
   {
    "duration": 13,
    "start_time": "2022-07-08T05:30:36.164Z"
   },
   {
    "duration": 49,
    "start_time": "2022-07-08T05:34:40.766Z"
   },
   {
    "duration": 62,
    "start_time": "2022-07-08T05:34:49.543Z"
   },
   {
    "duration": 163,
    "start_time": "2022-07-08T05:35:02.095Z"
   },
   {
    "duration": 81,
    "start_time": "2022-07-08T05:35:24.085Z"
   },
   {
    "duration": 23,
    "start_time": "2022-07-08T05:35:53.012Z"
   },
   {
    "duration": 25,
    "start_time": "2022-07-08T05:36:07.421Z"
   },
   {
    "duration": 10,
    "start_time": "2022-07-08T05:39:18.875Z"
   },
   {
    "duration": 326,
    "start_time": "2022-07-08T05:39:39.172Z"
   },
   {
    "duration": 1521,
    "start_time": "2022-07-08T05:40:04.279Z"
   },
   {
    "duration": 34,
    "start_time": "2022-07-08T05:40:32.172Z"
   },
   {
    "duration": 22,
    "start_time": "2022-07-08T05:41:15.380Z"
   },
   {
    "duration": 10,
    "start_time": "2022-07-08T05:43:44.178Z"
   },
   {
    "duration": 264,
    "start_time": "2022-07-08T05:43:55.756Z"
   },
   {
    "duration": 4,
    "start_time": "2022-07-08T05:46:15.962Z"
   },
   {
    "duration": 24,
    "start_time": "2022-07-08T05:47:07.953Z"
   },
   {
    "duration": 32,
    "start_time": "2022-07-08T05:47:12.373Z"
   },
   {
    "duration": 13,
    "start_time": "2022-07-08T05:47:40.198Z"
   },
   {
    "duration": 4,
    "start_time": "2022-07-08T05:52:29.994Z"
   },
   {
    "duration": 19,
    "start_time": "2022-07-08T05:53:27.368Z"
   },
   {
    "duration": 43,
    "start_time": "2022-07-08T05:53:29.821Z"
   },
   {
    "duration": 15,
    "start_time": "2022-07-08T05:54:10.737Z"
   },
   {
    "duration": 17,
    "start_time": "2022-07-08T05:55:29.345Z"
   },
   {
    "duration": 210,
    "start_time": "2022-07-08T05:57:22.617Z"
   },
   {
    "duration": 13,
    "start_time": "2022-07-08T05:58:18.353Z"
   },
   {
    "duration": 33,
    "start_time": "2022-07-08T05:58:30.052Z"
   },
   {
    "duration": 26,
    "start_time": "2022-07-08T05:58:59.341Z"
   },
   {
    "duration": 28,
    "start_time": "2022-07-08T05:59:02.942Z"
   },
   {
    "duration": 58,
    "start_time": "2022-07-08T05:59:08.841Z"
   },
   {
    "duration": 172,
    "start_time": "2022-07-08T05:59:14.421Z"
   },
   {
    "duration": 15,
    "start_time": "2022-07-08T06:00:42.260Z"
   },
   {
    "duration": 61,
    "start_time": "2022-07-08T06:00:49.426Z"
   },
   {
    "duration": 286,
    "start_time": "2022-07-08T06:03:32.625Z"
   },
   {
    "duration": 329,
    "start_time": "2022-07-08T06:03:36.366Z"
   },
   {
    "duration": 277,
    "start_time": "2022-07-08T06:03:42.359Z"
   },
   {
    "duration": 315,
    "start_time": "2022-07-08T06:03:52.546Z"
   },
   {
    "duration": 421,
    "start_time": "2022-07-08T06:04:28.046Z"
   },
   {
    "duration": 497,
    "start_time": "2022-07-08T06:04:38.603Z"
   },
   {
    "duration": 275,
    "start_time": "2022-07-08T06:04:53.894Z"
   },
   {
    "duration": 348,
    "start_time": "2022-07-08T06:05:48.427Z"
   },
   {
    "duration": 1489,
    "start_time": "2022-07-09T03:39:56.087Z"
   },
   {
    "duration": 221,
    "start_time": "2022-07-09T03:39:57.578Z"
   },
   {
    "duration": 23,
    "start_time": "2022-07-09T03:39:57.804Z"
   },
   {
    "duration": 14,
    "start_time": "2022-07-09T03:39:57.830Z"
   },
   {
    "duration": 20,
    "start_time": "2022-07-09T03:39:57.846Z"
   },
   {
    "duration": 47,
    "start_time": "2022-07-09T03:39:57.868Z"
   },
   {
    "duration": 33,
    "start_time": "2022-07-09T03:39:57.917Z"
   },
   {
    "duration": 3,
    "start_time": "2022-07-09T03:39:57.951Z"
   },
   {
    "duration": 16,
    "start_time": "2022-07-09T03:39:57.957Z"
   },
   {
    "duration": 12,
    "start_time": "2022-07-09T03:39:57.976Z"
   },
   {
    "duration": 28,
    "start_time": "2022-07-09T03:39:57.989Z"
   },
   {
    "duration": 17,
    "start_time": "2022-07-09T03:39:58.019Z"
   },
   {
    "duration": 25,
    "start_time": "2022-07-09T03:39:58.038Z"
   },
   {
    "duration": 6,
    "start_time": "2022-07-09T03:39:58.066Z"
   },
   {
    "duration": 4,
    "start_time": "2022-07-09T03:39:58.075Z"
   },
   {
    "duration": 13,
    "start_time": "2022-07-09T03:39:58.100Z"
   },
   {
    "duration": 26,
    "start_time": "2022-07-09T03:39:58.116Z"
   },
   {
    "duration": 8,
    "start_time": "2022-07-09T03:39:58.144Z"
   },
   {
    "duration": 4,
    "start_time": "2022-07-09T03:39:58.155Z"
   },
   {
    "duration": 38,
    "start_time": "2022-07-09T03:39:58.161Z"
   },
   {
    "duration": 9,
    "start_time": "2022-07-09T03:39:58.210Z"
   },
   {
    "duration": 9,
    "start_time": "2022-07-09T03:39:58.221Z"
   },
   {
    "duration": 8,
    "start_time": "2022-07-09T03:39:58.233Z"
   },
   {
    "duration": 10,
    "start_time": "2022-07-09T03:39:58.242Z"
   },
   {
    "duration": 29,
    "start_time": "2022-07-09T03:39:58.254Z"
   },
   {
    "duration": 36,
    "start_time": "2022-07-09T03:39:58.285Z"
   },
   {
    "duration": 19,
    "start_time": "2022-07-09T03:39:58.323Z"
   },
   {
    "duration": 4,
    "start_time": "2022-07-09T03:39:58.347Z"
   },
   {
    "duration": 18,
    "start_time": "2022-07-09T03:39:58.353Z"
   },
   {
    "duration": 34,
    "start_time": "2022-07-09T03:39:58.374Z"
   },
   {
    "duration": 5,
    "start_time": "2022-07-09T03:39:58.410Z"
   },
   {
    "duration": 14,
    "start_time": "2022-07-09T03:39:58.419Z"
   },
   {
    "duration": 23,
    "start_time": "2022-07-09T03:39:58.435Z"
   },
   {
    "duration": 11,
    "start_time": "2022-07-09T03:39:58.460Z"
   },
   {
    "duration": 257,
    "start_time": "2022-07-09T03:39:58.473Z"
   },
   {
    "duration": 17,
    "start_time": "2022-07-09T03:39:58.732Z"
   },
   {
    "duration": 5,
    "start_time": "2022-07-09T03:39:58.751Z"
   },
   {
    "duration": 45,
    "start_time": "2022-07-09T03:39:58.758Z"
   },
   {
    "duration": 20,
    "start_time": "2022-07-09T03:40:29.260Z"
   },
   {
    "duration": 149,
    "start_time": "2022-07-09T03:41:08.834Z"
   },
   {
    "duration": 9,
    "start_time": "2022-07-09T03:43:24.128Z"
   },
   {
    "duration": 5,
    "start_time": "2022-07-09T03:43:54.257Z"
   },
   {
    "duration": 5,
    "start_time": "2022-07-09T03:45:23.221Z"
   },
   {
    "duration": 24,
    "start_time": "2022-07-09T03:45:41.845Z"
   },
   {
    "duration": 19,
    "start_time": "2022-07-09T03:45:49.967Z"
   },
   {
    "duration": 19,
    "start_time": "2022-07-09T03:45:54.262Z"
   },
   {
    "duration": 21,
    "start_time": "2022-07-09T03:45:57.324Z"
   },
   {
    "duration": 36,
    "start_time": "2022-07-09T03:45:58.990Z"
   },
   {
    "duration": 4,
    "start_time": "2022-07-09T03:47:25.324Z"
   },
   {
    "duration": 3,
    "start_time": "2022-07-09T03:51:11.817Z"
   },
   {
    "duration": 33,
    "start_time": "2022-07-09T03:53:25.597Z"
   },
   {
    "duration": 6,
    "start_time": "2022-07-09T03:53:26.746Z"
   },
   {
    "duration": 28,
    "start_time": "2022-07-09T03:53:27.154Z"
   },
   {
    "duration": 133,
    "start_time": "2022-07-09T03:59:53.165Z"
   },
   {
    "duration": 7,
    "start_time": "2022-07-09T04:00:12.636Z"
   },
   {
    "duration": 9,
    "start_time": "2022-07-09T04:00:22.842Z"
   },
   {
    "duration": 21,
    "start_time": "2022-07-09T04:00:27.617Z"
   },
   {
    "duration": 4,
    "start_time": "2022-07-09T04:00:44.738Z"
   },
   {
    "duration": 5,
    "start_time": "2022-07-09T04:01:43.125Z"
   },
   {
    "duration": 11,
    "start_time": "2022-07-09T04:01:48.063Z"
   },
   {
    "duration": 1507,
    "start_time": "2022-07-09T04:06:34.322Z"
   },
   {
    "duration": 1749,
    "start_time": "2022-07-09T04:08:04.018Z"
   },
   {
    "duration": 1639,
    "start_time": "2022-07-09T04:08:19.545Z"
   },
   {
    "duration": 12,
    "start_time": "2022-07-09T04:09:43.095Z"
   },
   {
    "duration": 12,
    "start_time": "2022-07-09T04:09:57.676Z"
   },
   {
    "duration": 27,
    "start_time": "2022-07-09T04:10:03.356Z"
   },
   {
    "duration": 25,
    "start_time": "2022-07-09T04:10:22.951Z"
   },
   {
    "duration": 23,
    "start_time": "2022-07-09T04:10:38.419Z"
   },
   {
    "duration": 21,
    "start_time": "2022-07-09T04:10:47.829Z"
   },
   {
    "duration": 20,
    "start_time": "2022-07-09T04:11:26.698Z"
   },
   {
    "duration": 3,
    "start_time": "2022-07-09T04:11:27.467Z"
   },
   {
    "duration": 16,
    "start_time": "2022-07-09T04:11:34.834Z"
   },
   {
    "duration": 1663,
    "start_time": "2022-07-09T04:11:46.643Z"
   },
   {
    "duration": 414,
    "start_time": "2022-07-09T04:12:04.858Z"
   },
   {
    "duration": 324,
    "start_time": "2022-07-09T04:14:02.824Z"
   },
   {
    "duration": 8,
    "start_time": "2022-07-09T04:15:16.454Z"
   },
   {
    "duration": 519,
    "start_time": "2022-07-09T04:16:02.565Z"
   },
   {
    "duration": 6,
    "start_time": "2022-07-09T04:16:37.354Z"
   },
   {
    "duration": 1361,
    "start_time": "2022-07-09T04:17:00.119Z"
   },
   {
    "duration": 408,
    "start_time": "2022-07-09T04:17:59.378Z"
   },
   {
    "duration": 498,
    "start_time": "2022-07-09T04:18:19.129Z"
   },
   {
    "duration": 413,
    "start_time": "2022-07-09T04:18:29.079Z"
   },
   {
    "duration": 387,
    "start_time": "2022-07-09T04:19:02.263Z"
   },
   {
    "duration": 717,
    "start_time": "2022-07-09T04:21:39.846Z"
   },
   {
    "duration": 10,
    "start_time": "2022-07-09T04:22:06.996Z"
   },
   {
    "duration": 584,
    "start_time": "2022-07-09T04:22:13.842Z"
   },
   {
    "duration": 1059,
    "start_time": "2022-07-09T04:22:54.128Z"
   },
   {
    "duration": 888,
    "start_time": "2022-07-09T04:23:12.549Z"
   },
   {
    "duration": 797,
    "start_time": "2022-07-09T04:23:21.066Z"
   },
   {
    "duration": 287,
    "start_time": "2022-07-09T04:23:33.466Z"
   },
   {
    "duration": 1008,
    "start_time": "2022-07-09T04:23:47.554Z"
   },
   {
    "duration": 1014,
    "start_time": "2022-07-09T04:24:12.675Z"
   },
   {
    "duration": 1016,
    "start_time": "2022-07-09T04:24:38.418Z"
   },
   {
    "duration": 5,
    "start_time": "2022-07-09T04:26:01.069Z"
   },
   {
    "duration": 10,
    "start_time": "2022-07-09T04:26:20.918Z"
   },
   {
    "duration": 10,
    "start_time": "2022-07-09T04:26:27.180Z"
   },
   {
    "duration": 17,
    "start_time": "2022-07-09T04:26:34.751Z"
   },
   {
    "duration": 6,
    "start_time": "2022-07-09T04:27:42.613Z"
   },
   {
    "duration": 4,
    "start_time": "2022-07-09T04:28:34.978Z"
   },
   {
    "duration": 950,
    "start_time": "2022-07-09T04:28:40.282Z"
   },
   {
    "duration": 94,
    "start_time": "2022-07-09T04:28:54.153Z"
   },
   {
    "duration": 110,
    "start_time": "2022-07-09T04:29:02.674Z"
   },
   {
    "duration": 10,
    "start_time": "2022-07-09T04:29:23.345Z"
   },
   {
    "duration": 8,
    "start_time": "2022-07-09T04:29:26.697Z"
   },
   {
    "duration": 3,
    "start_time": "2022-07-09T04:29:40.232Z"
   },
   {
    "duration": 884,
    "start_time": "2022-07-09T04:29:44.129Z"
   },
   {
    "duration": 13,
    "start_time": "2022-07-09T04:30:03.333Z"
   },
   {
    "duration": 1056,
    "start_time": "2022-07-09T04:30:06.778Z"
   },
   {
    "duration": 339,
    "start_time": "2022-07-09T04:30:20.143Z"
   },
   {
    "duration": 943,
    "start_time": "2022-07-09T04:30:29.464Z"
   },
   {
    "duration": 908,
    "start_time": "2022-07-09T04:30:43.344Z"
   },
   {
    "duration": 922,
    "start_time": "2022-07-09T04:31:08.323Z"
   },
   {
    "duration": 947,
    "start_time": "2022-07-09T04:31:14.790Z"
   },
   {
    "duration": 883,
    "start_time": "2022-07-09T04:31:24.263Z"
   },
   {
    "duration": 1090,
    "start_time": "2022-07-09T04:31:29.526Z"
   },
   {
    "duration": 929,
    "start_time": "2022-07-09T04:31:37.325Z"
   },
   {
    "duration": 420,
    "start_time": "2022-07-09T04:31:51.320Z"
   },
   {
    "duration": 991,
    "start_time": "2022-07-09T04:31:56.382Z"
   },
   {
    "duration": 960,
    "start_time": "2022-07-09T04:32:44.501Z"
   },
   {
    "duration": 1055,
    "start_time": "2022-07-09T04:32:57.117Z"
   },
   {
    "duration": 970,
    "start_time": "2022-07-09T04:33:44.132Z"
   },
   {
    "duration": 1055,
    "start_time": "2022-07-09T04:33:50.431Z"
   },
   {
    "duration": 1366,
    "start_time": "2022-07-09T04:34:34.762Z"
   },
   {
    "duration": 372,
    "start_time": "2022-07-09T04:34:55.264Z"
   },
   {
    "duration": 1086,
    "start_time": "2022-07-09T04:35:00.126Z"
   },
   {
    "duration": 1019,
    "start_time": "2022-07-09T04:35:04.325Z"
   },
   {
    "duration": 240,
    "start_time": "2022-07-09T04:35:12.428Z"
   },
   {
    "duration": 1279,
    "start_time": "2022-07-09T04:35:19.427Z"
   },
   {
    "duration": 1161,
    "start_time": "2022-07-09T04:35:34.561Z"
   },
   {
    "duration": 1156,
    "start_time": "2022-07-09T04:35:40.729Z"
   },
   {
    "duration": 303,
    "start_time": "2022-07-09T04:36:04.777Z"
   },
   {
    "duration": 1038,
    "start_time": "2022-07-09T04:36:12.511Z"
   },
   {
    "duration": 1120,
    "start_time": "2022-07-09T04:36:20.234Z"
   },
   {
    "duration": 1192,
    "start_time": "2022-07-09T04:36:37.758Z"
   },
   {
    "duration": 1069,
    "start_time": "2022-07-09T04:38:55.580Z"
   },
   {
    "duration": 156,
    "start_time": "2022-07-09T04:39:05.195Z"
   },
   {
    "duration": 1180,
    "start_time": "2022-07-09T04:39:12.048Z"
   },
   {
    "duration": 1199,
    "start_time": "2022-07-09T04:39:32.115Z"
   },
   {
    "duration": 955,
    "start_time": "2022-07-09T04:39:54.635Z"
   },
   {
    "duration": 962,
    "start_time": "2022-07-09T04:40:07.378Z"
   },
   {
    "duration": 31,
    "start_time": "2022-07-09T04:58:36.883Z"
   },
   {
    "duration": 26,
    "start_time": "2022-07-09T04:58:55.686Z"
   },
   {
    "duration": 19,
    "start_time": "2022-07-09T04:58:59.065Z"
   },
   {
    "duration": 34,
    "start_time": "2022-07-09T04:59:33.053Z"
   },
   {
    "duration": 22,
    "start_time": "2022-07-09T04:59:40.129Z"
   },
   {
    "duration": 21,
    "start_time": "2022-07-09T05:00:25.500Z"
   },
   {
    "duration": 19,
    "start_time": "2022-07-09T05:00:39.925Z"
   },
   {
    "duration": 5,
    "start_time": "2022-07-09T05:00:55.395Z"
   },
   {
    "duration": 50,
    "start_time": "2022-07-09T05:03:18.510Z"
   },
   {
    "duration": 63,
    "start_time": "2022-07-09T05:03:26.053Z"
   },
   {
    "duration": 33,
    "start_time": "2022-07-09T05:04:30.628Z"
   },
   {
    "duration": 14,
    "start_time": "2022-07-09T05:04:58.655Z"
   },
   {
    "duration": 30,
    "start_time": "2022-07-09T05:05:01.638Z"
   },
   {
    "duration": 19,
    "start_time": "2022-07-09T05:05:21.070Z"
   },
   {
    "duration": 34,
    "start_time": "2022-07-09T05:05:25.319Z"
   },
   {
    "duration": 3039,
    "start_time": "2022-07-09T05:05:40.149Z"
   },
   {
    "duration": 33,
    "start_time": "2022-07-09T05:05:44.871Z"
   },
   {
    "duration": 20,
    "start_time": "2022-07-09T05:05:50.658Z"
   },
   {
    "duration": 50,
    "start_time": "2022-07-10T06:22:31.929Z"
   },
   {
    "duration": 1265,
    "start_time": "2022-07-10T06:22:40.782Z"
   },
   {
    "duration": 4,
    "start_time": "2022-07-10T06:22:42.049Z"
   },
   {
    "duration": 12,
    "start_time": "2022-07-10T06:22:42.055Z"
   },
   {
    "duration": 74,
    "start_time": "2022-07-10T06:22:42.069Z"
   },
   {
    "duration": 24,
    "start_time": "2022-07-10T06:22:42.144Z"
   },
   {
    "duration": 13,
    "start_time": "2022-07-10T06:22:42.170Z"
   },
   {
    "duration": 22,
    "start_time": "2022-07-10T06:22:42.185Z"
   },
   {
    "duration": 28,
    "start_time": "2022-07-10T06:22:42.209Z"
   },
   {
    "duration": 27,
    "start_time": "2022-07-10T06:22:42.239Z"
   },
   {
    "duration": 3,
    "start_time": "2022-07-10T06:22:42.269Z"
   },
   {
    "duration": 8,
    "start_time": "2022-07-10T06:22:42.273Z"
   },
   {
    "duration": 8,
    "start_time": "2022-07-10T06:22:42.283Z"
   },
   {
    "duration": 30,
    "start_time": "2022-07-10T06:22:42.293Z"
   },
   {
    "duration": 13,
    "start_time": "2022-07-10T06:22:42.325Z"
   },
   {
    "duration": 23,
    "start_time": "2022-07-10T06:22:42.339Z"
   },
   {
    "duration": 6,
    "start_time": "2022-07-10T06:22:42.363Z"
   },
   {
    "duration": 9,
    "start_time": "2022-07-10T06:22:42.370Z"
   },
   {
    "duration": 6,
    "start_time": "2022-07-10T06:22:42.380Z"
   },
   {
    "duration": 42,
    "start_time": "2022-07-10T06:22:42.387Z"
   },
   {
    "duration": 5,
    "start_time": "2022-07-10T06:22:42.431Z"
   },
   {
    "duration": 6,
    "start_time": "2022-07-10T06:22:42.437Z"
   },
   {
    "duration": 21,
    "start_time": "2022-07-10T06:22:42.445Z"
   },
   {
    "duration": 7,
    "start_time": "2022-07-10T06:22:42.468Z"
   },
   {
    "duration": 6,
    "start_time": "2022-07-10T06:22:42.477Z"
   },
   {
    "duration": 7,
    "start_time": "2022-07-10T06:22:42.484Z"
   },
   {
    "duration": 30,
    "start_time": "2022-07-10T06:22:42.492Z"
   },
   {
    "duration": 20,
    "start_time": "2022-07-10T06:22:42.524Z"
   },
   {
    "duration": 14,
    "start_time": "2022-07-10T06:22:42.547Z"
   },
   {
    "duration": 9,
    "start_time": "2022-07-10T06:22:42.562Z"
   },
   {
    "duration": 5,
    "start_time": "2022-07-10T06:22:42.572Z"
   },
   {
    "duration": 12,
    "start_time": "2022-07-10T06:22:42.579Z"
   },
   {
    "duration": 37,
    "start_time": "2022-07-10T06:22:42.592Z"
   },
   {
    "duration": 4,
    "start_time": "2022-07-10T06:22:42.631Z"
   },
   {
    "duration": 29,
    "start_time": "2022-07-10T06:22:42.637Z"
   },
   {
    "duration": 18,
    "start_time": "2022-07-10T06:22:42.667Z"
   },
   {
    "duration": 7,
    "start_time": "2022-07-10T06:22:42.687Z"
   },
   {
    "duration": 10,
    "start_time": "2022-07-10T06:22:42.695Z"
   },
   {
    "duration": 13,
    "start_time": "2022-07-10T06:22:42.707Z"
   },
   {
    "duration": 27,
    "start_time": "2022-07-10T06:22:42.722Z"
   },
   {
    "duration": 9,
    "start_time": "2022-07-10T06:22:42.750Z"
   },
   {
    "duration": 234,
    "start_time": "2022-07-10T06:22:42.761Z"
   },
   {
    "duration": 3,
    "start_time": "2022-07-10T06:22:42.997Z"
   },
   {
    "duration": 28,
    "start_time": "2022-07-10T06:22:43.001Z"
   },
   {
    "duration": 4,
    "start_time": "2022-07-10T06:22:43.031Z"
   },
   {
    "duration": 20,
    "start_time": "2022-07-10T06:22:43.037Z"
   },
   {
    "duration": 3,
    "start_time": "2022-07-10T06:22:43.058Z"
   },
   {
    "duration": 10,
    "start_time": "2022-07-10T06:22:43.062Z"
   },
   {
    "duration": 18,
    "start_time": "2022-07-10T06:22:43.073Z"
   },
   {
    "duration": 3,
    "start_time": "2022-07-10T06:22:43.092Z"
   },
   {
    "duration": 28,
    "start_time": "2022-07-10T06:22:43.097Z"
   },
   {
    "duration": 714,
    "start_time": "2022-07-10T06:22:43.126Z"
   },
   {
    "duration": 15,
    "start_time": "2022-07-10T06:22:43.842Z"
   },
   {
    "duration": 9,
    "start_time": "2022-07-10T06:22:43.859Z"
   },
   {
    "duration": 17,
    "start_time": "2022-07-10T06:22:43.870Z"
   },
   {
    "duration": 5,
    "start_time": "2022-07-10T06:22:43.889Z"
   },
   {
    "duration": 5,
    "start_time": "2022-07-10T06:23:34.338Z"
   },
   {
    "duration": 8,
    "start_time": "2022-07-10T06:24:05.115Z"
   },
   {
    "duration": 7,
    "start_time": "2022-07-10T06:24:36.008Z"
   },
   {
    "duration": 6,
    "start_time": "2022-07-10T06:24:41.168Z"
   },
   {
    "duration": 17,
    "start_time": "2022-07-10T06:25:37.105Z"
   },
   {
    "duration": 7,
    "start_time": "2022-07-10T06:27:28.354Z"
   },
   {
    "duration": 705,
    "start_time": "2022-07-10T06:30:03.081Z"
   },
   {
    "duration": 779,
    "start_time": "2022-07-10T06:30:18.143Z"
   },
   {
    "duration": 714,
    "start_time": "2022-07-10T06:31:48.596Z"
   },
   {
    "duration": 717,
    "start_time": "2022-07-10T06:32:07.628Z"
   },
   {
    "duration": 793,
    "start_time": "2022-07-10T06:32:24.301Z"
   },
   {
    "duration": 100,
    "start_time": "2022-07-10T06:51:55.143Z"
   },
   {
    "duration": 14,
    "start_time": "2022-07-10T06:52:00.657Z"
   },
   {
    "duration": 14,
    "start_time": "2022-07-10T06:52:06.080Z"
   },
   {
    "duration": 11,
    "start_time": "2022-07-10T06:52:13.967Z"
   },
   {
    "duration": 10,
    "start_time": "2022-07-10T06:52:30.232Z"
   },
   {
    "duration": 9,
    "start_time": "2022-07-10T06:52:48.191Z"
   },
   {
    "duration": 9,
    "start_time": "2022-07-10T06:52:55.085Z"
   },
   {
    "duration": 12,
    "start_time": "2022-07-10T06:58:26.342Z"
   },
   {
    "duration": 5,
    "start_time": "2022-07-10T06:58:38.978Z"
   },
   {
    "duration": 50,
    "start_time": "2022-07-10T06:59:50.622Z"
   },
   {
    "duration": 7,
    "start_time": "2022-07-10T06:59:55.357Z"
   },
   {
    "duration": 131,
    "start_time": "2022-07-10T07:02:12.954Z"
   },
   {
    "duration": 17,
    "start_time": "2022-07-10T07:02:15.876Z"
   },
   {
    "duration": 17,
    "start_time": "2022-07-10T07:03:14.738Z"
   },
   {
    "duration": 6,
    "start_time": "2022-07-10T07:05:00.790Z"
   },
   {
    "duration": 719,
    "start_time": "2022-07-10T07:05:05.424Z"
   },
   {
    "duration": 20,
    "start_time": "2022-07-10T07:05:12.944Z"
   },
   {
    "duration": 6,
    "start_time": "2022-07-10T07:05:25.382Z"
   },
   {
    "duration": 18,
    "start_time": "2022-07-10T07:05:25.919Z"
   },
   {
    "duration": 4,
    "start_time": "2022-07-10T07:05:50.797Z"
   },
   {
    "duration": 1001,
    "start_time": "2022-07-10T07:06:24.542Z"
   },
   {
    "duration": 1111,
    "start_time": "2022-07-10T07:06:36.319Z"
   },
   {
    "duration": 362,
    "start_time": "2022-07-10T07:06:44.772Z"
   },
   {
    "duration": 170,
    "start_time": "2022-07-10T07:07:40.410Z"
   },
   {
    "duration": 411,
    "start_time": "2022-07-10T07:07:58.284Z"
   },
   {
    "duration": 310,
    "start_time": "2022-07-10T07:08:39.722Z"
   },
   {
    "duration": 596,
    "start_time": "2022-07-10T07:08:46.786Z"
   },
   {
    "duration": 445,
    "start_time": "2022-07-10T07:09:01.626Z"
   },
   {
    "duration": 5,
    "start_time": "2022-07-10T07:10:43.350Z"
   },
   {
    "duration": 416,
    "start_time": "2022-07-10T07:10:55.783Z"
   },
   {
    "duration": 380,
    "start_time": "2022-07-10T07:11:11.134Z"
   },
   {
    "duration": 365,
    "start_time": "2022-07-10T07:11:15.879Z"
   },
   {
    "duration": 365,
    "start_time": "2022-07-10T07:11:33.894Z"
   },
   {
    "duration": 684,
    "start_time": "2022-07-10T07:12:04.558Z"
   },
   {
    "duration": 54,
    "start_time": "2022-07-10T07:12:25.460Z"
   },
   {
    "duration": 796,
    "start_time": "2022-07-10T07:12:38.333Z"
   },
   {
    "duration": 696,
    "start_time": "2022-07-10T07:12:51.909Z"
   },
   {
    "duration": 670,
    "start_time": "2022-07-10T07:12:59.972Z"
   },
   {
    "duration": 719,
    "start_time": "2022-07-10T07:13:05.498Z"
   },
   {
    "duration": 671,
    "start_time": "2022-07-10T07:15:29.449Z"
   },
   {
    "duration": 713,
    "start_time": "2022-07-10T07:15:53.656Z"
   },
   {
    "duration": 749,
    "start_time": "2022-07-10T07:17:57.941Z"
   },
   {
    "duration": 694,
    "start_time": "2022-07-10T07:18:09.214Z"
   },
   {
    "duration": 9,
    "start_time": "2022-07-10T07:30:31.089Z"
   },
   {
    "duration": 7,
    "start_time": "2022-07-10T07:30:35.101Z"
   },
   {
    "duration": 24,
    "start_time": "2022-07-10T07:30:44.087Z"
   },
   {
    "duration": 10,
    "start_time": "2022-07-10T07:30:57.814Z"
   },
   {
    "duration": 23,
    "start_time": "2022-07-10T07:30:58.236Z"
   },
   {
    "duration": 7,
    "start_time": "2022-07-10T07:31:10.893Z"
   },
   {
    "duration": 3,
    "start_time": "2022-07-10T07:31:12.102Z"
   },
   {
    "duration": 3,
    "start_time": "2022-07-10T07:31:14.453Z"
   },
   {
    "duration": 8,
    "start_time": "2022-07-10T07:31:22.181Z"
   },
   {
    "duration": 7,
    "start_time": "2022-07-10T07:31:32.933Z"
   },
   {
    "duration": 22,
    "start_time": "2022-07-10T07:31:33.787Z"
   },
   {
    "duration": 1119,
    "start_time": "2022-07-10T07:32:33.008Z"
   },
   {
    "duration": 3,
    "start_time": "2022-07-10T07:32:34.129Z"
   },
   {
    "duration": 26,
    "start_time": "2022-07-10T07:32:34.133Z"
   },
   {
    "duration": 46,
    "start_time": "2022-07-10T07:32:34.161Z"
   },
   {
    "duration": 16,
    "start_time": "2022-07-10T07:32:34.209Z"
   },
   {
    "duration": 15,
    "start_time": "2022-07-10T07:32:34.227Z"
   },
   {
    "duration": 32,
    "start_time": "2022-07-10T07:32:34.244Z"
   },
   {
    "duration": 28,
    "start_time": "2022-07-10T07:32:34.278Z"
   },
   {
    "duration": 33,
    "start_time": "2022-07-10T07:32:34.308Z"
   },
   {
    "duration": 2,
    "start_time": "2022-07-10T07:32:34.344Z"
   },
   {
    "duration": 10,
    "start_time": "2022-07-10T07:32:34.348Z"
   },
   {
    "duration": 17,
    "start_time": "2022-07-10T07:32:34.360Z"
   },
   {
    "duration": 16,
    "start_time": "2022-07-10T07:32:34.382Z"
   },
   {
    "duration": 33,
    "start_time": "2022-07-10T07:32:34.400Z"
   },
   {
    "duration": 50,
    "start_time": "2022-07-10T07:32:34.435Z"
   },
   {
    "duration": 14,
    "start_time": "2022-07-10T07:32:34.487Z"
   },
   {
    "duration": 22,
    "start_time": "2022-07-10T07:32:34.503Z"
   },
   {
    "duration": 15,
    "start_time": "2022-07-10T07:32:34.527Z"
   },
   {
    "duration": 32,
    "start_time": "2022-07-10T07:32:34.544Z"
   },
   {
    "duration": 24,
    "start_time": "2022-07-10T07:32:34.579Z"
   },
   {
    "duration": 24,
    "start_time": "2022-07-10T07:32:34.605Z"
   },
   {
    "duration": 41,
    "start_time": "2022-07-10T07:32:34.630Z"
   },
   {
    "duration": 29,
    "start_time": "2022-07-10T07:32:34.673Z"
   },
   {
    "duration": 17,
    "start_time": "2022-07-10T07:32:34.704Z"
   },
   {
    "duration": 29,
    "start_time": "2022-07-10T07:32:34.723Z"
   },
   {
    "duration": 30,
    "start_time": "2022-07-10T07:32:34.753Z"
   },
   {
    "duration": 37,
    "start_time": "2022-07-10T07:32:34.784Z"
   },
   {
    "duration": 41,
    "start_time": "2022-07-10T07:32:34.826Z"
   },
   {
    "duration": 27,
    "start_time": "2022-07-10T07:32:34.869Z"
   },
   {
    "duration": 13,
    "start_time": "2022-07-10T07:32:34.898Z"
   },
   {
    "duration": 31,
    "start_time": "2022-07-10T07:32:34.912Z"
   },
   {
    "duration": 36,
    "start_time": "2022-07-10T07:32:34.945Z"
   },
   {
    "duration": 13,
    "start_time": "2022-07-10T07:32:34.982Z"
   },
   {
    "duration": 14,
    "start_time": "2022-07-10T07:32:34.996Z"
   },
   {
    "duration": 35,
    "start_time": "2022-07-10T07:32:35.012Z"
   },
   {
    "duration": 25,
    "start_time": "2022-07-10T07:32:35.049Z"
   },
   {
    "duration": 9,
    "start_time": "2022-07-10T07:32:35.075Z"
   },
   {
    "duration": 15,
    "start_time": "2022-07-10T07:32:35.085Z"
   },
   {
    "duration": 41,
    "start_time": "2022-07-10T07:32:35.102Z"
   },
   {
    "duration": 17,
    "start_time": "2022-07-10T07:32:35.144Z"
   },
   {
    "duration": 15,
    "start_time": "2022-07-10T07:32:35.162Z"
   },
   {
    "duration": 258,
    "start_time": "2022-07-10T07:32:35.178Z"
   },
   {
    "duration": 6,
    "start_time": "2022-07-10T07:32:35.437Z"
   },
   {
    "duration": 20,
    "start_time": "2022-07-10T07:32:35.445Z"
   },
   {
    "duration": 21,
    "start_time": "2022-07-10T07:32:35.467Z"
   },
   {
    "duration": 40,
    "start_time": "2022-07-10T07:32:35.490Z"
   },
   {
    "duration": 21,
    "start_time": "2022-07-10T07:32:35.532Z"
   },
   {
    "duration": 35,
    "start_time": "2022-07-10T07:32:35.554Z"
   },
   {
    "duration": 13,
    "start_time": "2022-07-10T07:32:35.590Z"
   },
   {
    "duration": 35,
    "start_time": "2022-07-10T07:32:35.604Z"
   },
   {
    "duration": 19,
    "start_time": "2022-07-10T07:32:35.640Z"
   },
   {
    "duration": 28,
    "start_time": "2022-07-10T07:32:35.660Z"
   },
   {
    "duration": 60,
    "start_time": "2022-07-10T07:32:35.690Z"
   },
   {
    "duration": 27,
    "start_time": "2022-07-10T07:32:35.752Z"
   },
   {
    "duration": 54,
    "start_time": "2022-07-10T07:32:35.781Z"
   },
   {
    "duration": 840,
    "start_time": "2022-07-10T07:32:35.837Z"
   },
   {
    "duration": 14,
    "start_time": "2022-07-10T07:32:36.679Z"
   },
   {
    "duration": 9,
    "start_time": "2022-07-10T07:32:36.695Z"
   },
   {
    "duration": 22,
    "start_time": "2022-07-10T07:32:36.705Z"
   },
   {
    "duration": 22,
    "start_time": "2022-07-10T07:32:36.728Z"
   },
   {
    "duration": 17,
    "start_time": "2022-07-10T07:32:36.752Z"
   },
   {
    "duration": 23,
    "start_time": "2022-07-10T07:32:36.771Z"
   },
   {
    "duration": 7,
    "start_time": "2022-07-10T07:32:36.796Z"
   },
   {
    "duration": 23,
    "start_time": "2022-07-10T07:32:36.805Z"
   },
   {
    "duration": 723,
    "start_time": "2022-07-10T07:32:36.830Z"
   },
   {
    "duration": 8,
    "start_time": "2022-07-10T07:32:37.555Z"
   },
   {
    "duration": 30,
    "start_time": "2022-07-10T07:32:37.565Z"
   },
   {
    "duration": 25,
    "start_time": "2022-07-10T07:32:44.722Z"
   },
   {
    "duration": 8,
    "start_time": "2022-07-10T07:33:08.849Z"
   },
   {
    "duration": 22,
    "start_time": "2022-07-10T07:33:10.335Z"
   },
   {
    "duration": 21,
    "start_time": "2022-07-10T07:34:27.284Z"
   },
   {
    "duration": 5,
    "start_time": "2022-07-10T07:34:36.182Z"
   },
   {
    "duration": 21,
    "start_time": "2022-07-10T07:34:36.845Z"
   },
   {
    "duration": 8,
    "start_time": "2022-07-10T07:34:48.044Z"
   },
   {
    "duration": 6,
    "start_time": "2022-07-10T07:34:48.644Z"
   },
   {
    "duration": 21,
    "start_time": "2022-07-10T07:34:49.237Z"
   },
   {
    "duration": 12,
    "start_time": "2022-07-10T07:39:39.942Z"
   },
   {
    "duration": 11,
    "start_time": "2022-07-10T07:39:42.150Z"
   },
   {
    "duration": 752,
    "start_time": "2022-07-10T07:40:17.493Z"
   },
   {
    "duration": 719,
    "start_time": "2022-07-10T07:40:23.661Z"
   },
   {
    "duration": 661,
    "start_time": "2022-07-10T07:41:02.236Z"
   },
   {
    "duration": 648,
    "start_time": "2022-07-10T07:41:05.101Z"
   },
   {
    "duration": 281,
    "start_time": "2022-07-10T07:41:38.416Z"
   },
   {
    "duration": 175,
    "start_time": "2022-07-10T07:41:41.205Z"
   },
   {
    "duration": 183,
    "start_time": "2022-07-10T07:41:43.109Z"
   },
   {
    "duration": 748,
    "start_time": "2022-07-10T07:41:48.236Z"
   },
   {
    "duration": 4,
    "start_time": "2022-07-10T07:42:05.659Z"
   },
   {
    "duration": 809,
    "start_time": "2022-07-10T07:42:11.946Z"
   },
   {
    "duration": 658,
    "start_time": "2022-07-10T07:42:17.290Z"
   },
   {
    "duration": 465,
    "start_time": "2022-07-10T07:43:40.633Z"
   },
   {
    "duration": 12,
    "start_time": "2022-07-10T07:48:35.676Z"
   },
   {
    "duration": 302,
    "start_time": "2022-07-10T07:48:40.081Z"
   },
   {
    "duration": 1001,
    "start_time": "2022-07-10T07:48:46.072Z"
   },
   {
    "duration": 954,
    "start_time": "2022-07-10T07:48:52.251Z"
   },
   {
    "duration": 665,
    "start_time": "2022-07-10T07:48:58.152Z"
   },
   {
    "duration": 38,
    "start_time": "2022-07-10T08:01:42.023Z"
   },
   {
    "duration": 35,
    "start_time": "2022-07-10T08:01:43.495Z"
   },
   {
    "duration": 6,
    "start_time": "2022-07-10T08:02:11.553Z"
   },
   {
    "duration": 71,
    "start_time": "2022-07-10T08:03:26.309Z"
   },
   {
    "duration": 12,
    "start_time": "2022-07-10T08:03:31.679Z"
   },
   {
    "duration": 69,
    "start_time": "2022-07-10T08:03:47.581Z"
   },
   {
    "duration": 69,
    "start_time": "2022-07-10T08:03:56.677Z"
   },
   {
    "duration": 38,
    "start_time": "2022-07-10T08:04:12.108Z"
   },
   {
    "duration": 11,
    "start_time": "2022-07-10T08:04:36.406Z"
   },
   {
    "duration": 302,
    "start_time": "2022-07-10T08:04:40.235Z"
   },
   {
    "duration": 34,
    "start_time": "2022-07-10T08:05:34.548Z"
   },
   {
    "duration": 9,
    "start_time": "2022-07-10T08:05:53.619Z"
   },
   {
    "duration": 5,
    "start_time": "2022-07-10T08:05:56.697Z"
   },
   {
    "duration": 6,
    "start_time": "2022-07-10T08:06:04.673Z"
   },
   {
    "duration": 4,
    "start_time": "2022-07-10T08:06:12.554Z"
   },
   {
    "duration": 5,
    "start_time": "2022-07-10T08:07:54.015Z"
   },
   {
    "duration": 9,
    "start_time": "2022-07-10T08:08:00.168Z"
   },
   {
    "duration": 5,
    "start_time": "2022-07-10T08:08:02.718Z"
   },
   {
    "duration": 9,
    "start_time": "2022-07-10T08:08:17.919Z"
   },
   {
    "duration": 4,
    "start_time": "2022-07-10T08:08:28.061Z"
   },
   {
    "duration": 5,
    "start_time": "2022-07-10T08:08:53.117Z"
   },
   {
    "duration": 10,
    "start_time": "2022-07-10T08:09:01.765Z"
   },
   {
    "duration": 4,
    "start_time": "2022-07-10T08:09:06.541Z"
   },
   {
    "duration": 4,
    "start_time": "2022-07-10T08:09:37.044Z"
   },
   {
    "duration": 27,
    "start_time": "2022-07-10T08:09:38.596Z"
   },
   {
    "duration": 393,
    "start_time": "2022-07-10T08:09:46.023Z"
   },
   {
    "duration": 11,
    "start_time": "2022-07-10T08:10:19.744Z"
   },
   {
    "duration": 18,
    "start_time": "2022-07-10T08:12:08.920Z"
   },
   {
    "duration": 22,
    "start_time": "2022-07-10T08:12:42.939Z"
   },
   {
    "duration": 10,
    "start_time": "2022-07-10T08:12:46.207Z"
   },
   {
    "duration": 28,
    "start_time": "2022-07-10T08:13:35.918Z"
   },
   {
    "duration": 13,
    "start_time": "2022-07-10T08:14:09.583Z"
   },
   {
    "duration": 30,
    "start_time": "2022-07-10T08:14:10.806Z"
   },
   {
    "duration": 30,
    "start_time": "2022-07-10T08:14:21.840Z"
   },
   {
    "duration": 714,
    "start_time": "2022-07-10T08:16:24.396Z"
   },
   {
    "duration": 644,
    "start_time": "2022-07-10T08:16:35.124Z"
   },
   {
    "duration": 844,
    "start_time": "2022-07-10T08:17:13.449Z"
   },
   {
    "duration": 721,
    "start_time": "2022-07-10T08:17:22.106Z"
   },
   {
    "duration": 4,
    "start_time": "2022-07-10T08:19:14.656Z"
   },
   {
    "duration": 680,
    "start_time": "2022-07-10T08:19:15.126Z"
   },
   {
    "duration": 4,
    "start_time": "2022-07-10T08:19:24.616Z"
   },
   {
    "duration": 914,
    "start_time": "2022-07-10T08:19:26.342Z"
   },
   {
    "duration": 3,
    "start_time": "2022-07-10T08:20:18.854Z"
   },
   {
    "duration": 809,
    "start_time": "2022-07-10T08:20:19.248Z"
   },
   {
    "duration": 10,
    "start_time": "2022-07-10T08:22:20.019Z"
   },
   {
    "duration": 14,
    "start_time": "2022-07-10T08:22:30.227Z"
   },
   {
    "duration": 4,
    "start_time": "2022-07-10T08:22:51.787Z"
   },
   {
    "duration": 759,
    "start_time": "2022-07-10T08:22:52.252Z"
   },
   {
    "duration": 5,
    "start_time": "2022-07-10T08:23:01.603Z"
   },
   {
    "duration": 862,
    "start_time": "2022-07-10T08:23:02.521Z"
   },
   {
    "duration": 1051,
    "start_time": "2022-07-10T08:30:00.306Z"
   },
   {
    "duration": 999,
    "start_time": "2022-07-10T08:30:12.153Z"
   },
   {
    "duration": 856,
    "start_time": "2022-07-10T08:30:20.602Z"
   },
   {
    "duration": 6,
    "start_time": "2022-07-10T08:36:15.320Z"
   },
   {
    "duration": 29,
    "start_time": "2022-07-10T08:38:10.014Z"
   },
   {
    "duration": 7,
    "start_time": "2022-07-10T08:38:53.848Z"
   },
   {
    "duration": 220,
    "start_time": "2022-07-10T08:40:33.091Z"
   },
   {
    "duration": 747,
    "start_time": "2022-07-10T08:40:43.108Z"
   },
   {
    "duration": 10,
    "start_time": "2022-07-10T08:42:12.009Z"
   },
   {
    "duration": 868,
    "start_time": "2022-07-10T08:42:12.544Z"
   },
   {
    "duration": 24,
    "start_time": "2022-07-10T08:42:28.200Z"
   },
   {
    "duration": 11,
    "start_time": "2022-07-10T08:42:46.472Z"
   },
   {
    "duration": 24,
    "start_time": "2022-07-10T08:42:46.838Z"
   },
   {
    "duration": 917,
    "start_time": "2022-07-10T08:42:48.374Z"
   },
   {
    "duration": 9,
    "start_time": "2022-07-10T08:44:03.830Z"
   },
   {
    "duration": 17,
    "start_time": "2022-07-10T08:44:04.154Z"
   },
   {
    "duration": 10,
    "start_time": "2022-07-10T08:44:37.138Z"
   },
   {
    "duration": 11,
    "start_time": "2022-07-10T08:44:41.616Z"
   },
   {
    "duration": 28,
    "start_time": "2022-07-10T08:44:42.061Z"
   },
   {
    "duration": 12,
    "start_time": "2022-07-10T08:45:10.445Z"
   },
   {
    "duration": 13,
    "start_time": "2022-07-10T08:45:11.125Z"
   },
   {
    "duration": 10,
    "start_time": "2022-07-10T08:45:21.047Z"
   },
   {
    "duration": 22,
    "start_time": "2022-07-10T08:45:21.259Z"
   },
   {
    "duration": 12,
    "start_time": "2022-07-10T08:45:26.901Z"
   },
   {
    "duration": 31,
    "start_time": "2022-07-10T08:45:27.276Z"
   },
   {
    "duration": 11,
    "start_time": "2022-07-10T08:46:03.781Z"
   },
   {
    "duration": 23,
    "start_time": "2022-07-10T08:46:03.870Z"
   },
   {
    "duration": 23,
    "start_time": "2022-07-10T08:46:06.844Z"
   },
   {
    "duration": 9,
    "start_time": "2022-07-10T08:46:58.610Z"
   },
   {
    "duration": 28,
    "start_time": "2022-07-10T08:46:59.211Z"
   },
   {
    "duration": 785,
    "start_time": "2022-07-10T08:46:59.716Z"
   },
   {
    "duration": 559,
    "start_time": "2022-07-10T08:48:37.740Z"
   },
   {
    "duration": 18,
    "start_time": "2022-07-10T08:49:17.998Z"
   },
   {
    "duration": 22,
    "start_time": "2022-07-10T08:51:55.659Z"
   },
   {
    "duration": 50,
    "start_time": "2022-07-10T08:56:06.046Z"
   },
   {
    "duration": 46,
    "start_time": "2022-07-10T08:56:54.134Z"
   },
   {
    "duration": 20,
    "start_time": "2022-07-10T08:57:05.309Z"
   },
   {
    "duration": 916,
    "start_time": "2022-07-10T09:00:50.135Z"
   },
   {
    "duration": 21,
    "start_time": "2022-07-10T09:01:46.487Z"
   },
   {
    "duration": 8,
    "start_time": "2022-07-10T09:02:11.597Z"
   },
   {
    "duration": 877,
    "start_time": "2022-07-10T09:02:12.191Z"
   },
   {
    "duration": 844,
    "start_time": "2022-07-10T09:02:29.669Z"
   },
   {
    "duration": 5,
    "start_time": "2022-07-10T09:03:13.419Z"
   },
   {
    "duration": 770,
    "start_time": "2022-07-10T09:03:16.562Z"
   },
   {
    "duration": 859,
    "start_time": "2022-07-10T09:03:18.817Z"
   },
   {
    "duration": 36,
    "start_time": "2022-07-10T09:03:44.436Z"
   },
   {
    "duration": 16,
    "start_time": "2022-07-10T09:04:38.090Z"
   },
   {
    "duration": 26,
    "start_time": "2022-07-10T09:04:46.601Z"
   },
   {
    "duration": 56,
    "start_time": "2022-07-10T09:06:29.438Z"
   },
   {
    "duration": 22,
    "start_time": "2022-07-10T09:13:37.391Z"
   },
   {
    "duration": 15,
    "start_time": "2022-07-10T09:13:42.478Z"
   },
   {
    "duration": 10,
    "start_time": "2022-07-10T09:13:51.387Z"
   },
   {
    "duration": 684,
    "start_time": "2022-07-10T09:16:17.442Z"
   },
   {
    "duration": 625,
    "start_time": "2022-07-10T09:16:53.513Z"
   },
   {
    "duration": 554,
    "start_time": "2022-07-10T09:19:21.357Z"
   },
   {
    "duration": 684,
    "start_time": "2022-07-10T09:19:37.563Z"
   },
   {
    "duration": 920,
    "start_time": "2022-07-10T09:19:51.915Z"
   },
   {
    "duration": 887,
    "start_time": "2022-07-10T09:19:59.643Z"
   },
   {
    "duration": 549,
    "start_time": "2022-07-10T09:30:43.789Z"
   },
   {
    "duration": 1190,
    "start_time": "2022-07-10T09:45:44.361Z"
   },
   {
    "duration": 3,
    "start_time": "2022-07-10T09:45:45.553Z"
   },
   {
    "duration": 10,
    "start_time": "2022-07-10T09:45:45.558Z"
   },
   {
    "duration": 48,
    "start_time": "2022-07-10T09:45:45.570Z"
   },
   {
    "duration": 19,
    "start_time": "2022-07-10T09:45:45.620Z"
   },
   {
    "duration": 13,
    "start_time": "2022-07-10T09:45:45.640Z"
   },
   {
    "duration": 22,
    "start_time": "2022-07-10T09:45:45.655Z"
   },
   {
    "duration": 23,
    "start_time": "2022-07-10T09:45:45.679Z"
   },
   {
    "duration": 43,
    "start_time": "2022-07-10T09:45:45.704Z"
   },
   {
    "duration": 3,
    "start_time": "2022-07-10T09:45:45.749Z"
   },
   {
    "duration": 14,
    "start_time": "2022-07-10T09:45:45.754Z"
   },
   {
    "duration": 12,
    "start_time": "2022-07-10T09:45:45.770Z"
   },
   {
    "duration": 5,
    "start_time": "2022-07-10T09:45:45.784Z"
   },
   {
    "duration": 15,
    "start_time": "2022-07-10T09:45:45.791Z"
   },
   {
    "duration": 33,
    "start_time": "2022-07-10T09:45:45.807Z"
   },
   {
    "duration": 6,
    "start_time": "2022-07-10T09:45:45.842Z"
   },
   {
    "duration": 5,
    "start_time": "2022-07-10T09:45:45.850Z"
   },
   {
    "duration": 9,
    "start_time": "2022-07-10T09:45:45.856Z"
   },
   {
    "duration": 22,
    "start_time": "2022-07-10T09:45:45.867Z"
   },
   {
    "duration": 14,
    "start_time": "2022-07-10T09:45:45.891Z"
   },
   {
    "duration": 17,
    "start_time": "2022-07-10T09:45:45.907Z"
   },
   {
    "duration": 24,
    "start_time": "2022-07-10T09:45:45.925Z"
   },
   {
    "duration": 8,
    "start_time": "2022-07-10T09:45:45.950Z"
   },
   {
    "duration": 12,
    "start_time": "2022-07-10T09:45:45.959Z"
   },
   {
    "duration": 16,
    "start_time": "2022-07-10T09:45:45.973Z"
   },
   {
    "duration": 24,
    "start_time": "2022-07-10T09:45:45.991Z"
   },
   {
    "duration": 28,
    "start_time": "2022-07-10T09:45:46.017Z"
   },
   {
    "duration": 25,
    "start_time": "2022-07-10T09:45:46.052Z"
   },
   {
    "duration": 10,
    "start_time": "2022-07-10T09:45:46.079Z"
   },
   {
    "duration": 5,
    "start_time": "2022-07-10T09:45:46.090Z"
   },
   {
    "duration": 17,
    "start_time": "2022-07-10T09:45:46.097Z"
   },
   {
    "duration": 18,
    "start_time": "2022-07-10T09:45:46.116Z"
   },
   {
    "duration": 7,
    "start_time": "2022-07-10T09:45:46.136Z"
   },
   {
    "duration": 11,
    "start_time": "2022-07-10T09:45:46.145Z"
   },
   {
    "duration": 15,
    "start_time": "2022-07-10T09:45:46.157Z"
   },
   {
    "duration": 8,
    "start_time": "2022-07-10T09:45:46.174Z"
   },
   {
    "duration": 8,
    "start_time": "2022-07-10T09:45:46.184Z"
   },
   {
    "duration": 9,
    "start_time": "2022-07-10T09:45:46.193Z"
   },
   {
    "duration": 33,
    "start_time": "2022-07-10T09:45:46.203Z"
   },
   {
    "duration": 12,
    "start_time": "2022-07-10T09:45:46.238Z"
   },
   {
    "duration": 20,
    "start_time": "2022-07-10T09:45:46.251Z"
   },
   {
    "duration": 310,
    "start_time": "2022-07-10T09:45:46.272Z"
   },
   {
    "duration": 5,
    "start_time": "2022-07-10T09:45:46.584Z"
   },
   {
    "duration": 14,
    "start_time": "2022-07-10T09:45:46.591Z"
   },
   {
    "duration": 17,
    "start_time": "2022-07-10T09:45:46.607Z"
   },
   {
    "duration": 19,
    "start_time": "2022-07-10T09:45:46.626Z"
   },
   {
    "duration": 3,
    "start_time": "2022-07-10T09:45:46.647Z"
   },
   {
    "duration": 20,
    "start_time": "2022-07-10T09:45:46.651Z"
   },
   {
    "duration": 5,
    "start_time": "2022-07-10T09:45:46.672Z"
   },
   {
    "duration": 21,
    "start_time": "2022-07-10T09:45:46.678Z"
   },
   {
    "duration": 2,
    "start_time": "2022-07-10T09:45:46.701Z"
   },
   {
    "duration": 2,
    "start_time": "2022-07-10T09:45:46.722Z"
   },
   {
    "duration": 22,
    "start_time": "2022-07-10T09:45:46.726Z"
   },
   {
    "duration": 3,
    "start_time": "2022-07-10T09:45:46.749Z"
   },
   {
    "duration": 13,
    "start_time": "2022-07-10T09:45:46.753Z"
   },
   {
    "duration": 927,
    "start_time": "2022-07-10T09:45:46.767Z"
   },
   {
    "duration": 12,
    "start_time": "2022-07-10T09:45:47.696Z"
   },
   {
    "duration": 9,
    "start_time": "2022-07-10T09:45:47.709Z"
   },
   {
    "duration": 13,
    "start_time": "2022-07-10T09:45:47.720Z"
   },
   {
    "duration": 8,
    "start_time": "2022-07-10T09:45:47.735Z"
   },
   {
    "duration": 12,
    "start_time": "2022-07-10T09:45:47.744Z"
   },
   {
    "duration": 9,
    "start_time": "2022-07-10T09:45:47.758Z"
   },
   {
    "duration": 7,
    "start_time": "2022-07-10T09:45:47.768Z"
   },
   {
    "duration": 7,
    "start_time": "2022-07-10T09:45:47.777Z"
   },
   {
    "duration": 871,
    "start_time": "2022-07-10T09:45:47.785Z"
   },
   {
    "duration": 11,
    "start_time": "2022-07-10T09:45:48.658Z"
   },
   {
    "duration": 14,
    "start_time": "2022-07-10T09:45:48.672Z"
   },
   {
    "duration": 35,
    "start_time": "2022-07-10T09:45:48.687Z"
   },
   {
    "duration": 11,
    "start_time": "2022-07-10T09:45:48.724Z"
   },
   {
    "duration": 10,
    "start_time": "2022-07-10T09:45:48.737Z"
   },
   {
    "duration": 674,
    "start_time": "2022-07-10T09:45:48.748Z"
   },
   {
    "duration": 38,
    "start_time": "2022-07-10T09:45:49.424Z"
   },
   {
    "duration": 32,
    "start_time": "2022-07-10T09:45:49.464Z"
   },
   {
    "duration": 4,
    "start_time": "2022-07-10T09:45:49.523Z"
   },
   {
    "duration": 6,
    "start_time": "2022-07-10T09:45:49.528Z"
   },
   {
    "duration": 13,
    "start_time": "2022-07-10T09:45:49.536Z"
   },
   {
    "duration": 21,
    "start_time": "2022-07-10T09:45:49.551Z"
   },
   {
    "duration": 10,
    "start_time": "2022-07-10T09:45:49.574Z"
   },
   {
    "duration": 125,
    "start_time": "2022-07-10T09:45:49.586Z"
   },
   {
    "duration": 25,
    "start_time": "2022-07-10T09:45:49.712Z"
   },
   {
    "duration": 6,
    "start_time": "2022-07-10T09:45:49.739Z"
   },
   {
    "duration": 904,
    "start_time": "2022-07-10T09:45:49.750Z"
   },
   {
    "duration": 6,
    "start_time": "2022-07-10T09:45:50.656Z"
   },
   {
    "duration": 128,
    "start_time": "2022-07-10T09:45:50.664Z"
   },
   {
    "duration": 0,
    "start_time": "2022-07-10T09:45:50.794Z"
   },
   {
    "duration": 0,
    "start_time": "2022-07-10T09:45:50.795Z"
   },
   {
    "duration": 0,
    "start_time": "2022-07-10T09:45:50.797Z"
   },
   {
    "duration": 0,
    "start_time": "2022-07-10T09:45:50.798Z"
   },
   {
    "duration": 0,
    "start_time": "2022-07-10T09:45:50.800Z"
   },
   {
    "duration": 0,
    "start_time": "2022-07-10T09:45:50.801Z"
   },
   {
    "duration": 0,
    "start_time": "2022-07-10T09:45:50.803Z"
   },
   {
    "duration": 0,
    "start_time": "2022-07-10T09:45:50.804Z"
   },
   {
    "duration": 0,
    "start_time": "2022-07-10T09:45:50.823Z"
   },
   {
    "duration": 12,
    "start_time": "2022-07-10T09:46:05.369Z"
   },
   {
    "duration": 31,
    "start_time": "2022-07-10T09:46:07.178Z"
   },
   {
    "duration": 747,
    "start_time": "2022-07-10T09:46:07.704Z"
   },
   {
    "duration": 22,
    "start_time": "2022-07-10T09:46:11.198Z"
   },
   {
    "duration": 7,
    "start_time": "2022-07-10T09:46:14.175Z"
   },
   {
    "duration": 793,
    "start_time": "2022-07-10T09:46:15.425Z"
   },
   {
    "duration": 25,
    "start_time": "2022-07-10T09:46:16.222Z"
   },
   {
    "duration": 16,
    "start_time": "2022-07-10T09:46:19.534Z"
   },
   {
    "duration": 9,
    "start_time": "2022-07-10T09:46:21.224Z"
   },
   {
    "duration": 550,
    "start_time": "2022-07-10T09:46:21.409Z"
   },
   {
    "duration": 1419,
    "start_time": "2022-07-10T12:51:01.010Z"
   },
   {
    "duration": 3,
    "start_time": "2022-07-10T12:51:02.430Z"
   },
   {
    "duration": 6,
    "start_time": "2022-07-10T12:51:02.435Z"
   },
   {
    "duration": 82,
    "start_time": "2022-07-10T12:51:02.443Z"
   },
   {
    "duration": 20,
    "start_time": "2022-07-10T12:51:02.527Z"
   },
   {
    "duration": 14,
    "start_time": "2022-07-10T12:51:02.548Z"
   },
   {
    "duration": 19,
    "start_time": "2022-07-10T12:51:02.564Z"
   },
   {
    "duration": 38,
    "start_time": "2022-07-10T12:51:02.585Z"
   },
   {
    "duration": 31,
    "start_time": "2022-07-10T12:51:02.625Z"
   },
   {
    "duration": 3,
    "start_time": "2022-07-10T12:51:02.659Z"
   },
   {
    "duration": 11,
    "start_time": "2022-07-10T12:51:02.664Z"
   },
   {
    "duration": 15,
    "start_time": "2022-07-10T12:51:02.677Z"
   },
   {
    "duration": 9,
    "start_time": "2022-07-10T12:51:02.694Z"
   },
   {
    "duration": 14,
    "start_time": "2022-07-10T12:51:02.723Z"
   },
   {
    "duration": 23,
    "start_time": "2022-07-10T12:51:02.738Z"
   },
   {
    "duration": 9,
    "start_time": "2022-07-10T12:51:02.763Z"
   },
   {
    "duration": 7,
    "start_time": "2022-07-10T12:51:02.773Z"
   },
   {
    "duration": 11,
    "start_time": "2022-07-10T12:51:02.782Z"
   },
   {
    "duration": 43,
    "start_time": "2022-07-10T12:51:02.794Z"
   },
   {
    "duration": 12,
    "start_time": "2022-07-10T12:51:02.839Z"
   },
   {
    "duration": 6,
    "start_time": "2022-07-10T12:51:02.853Z"
   },
   {
    "duration": 22,
    "start_time": "2022-07-10T12:51:02.861Z"
   },
   {
    "duration": 8,
    "start_time": "2022-07-10T12:51:02.884Z"
   },
   {
    "duration": 7,
    "start_time": "2022-07-10T12:51:02.893Z"
   },
   {
    "duration": 24,
    "start_time": "2022-07-10T12:51:02.902Z"
   },
   {
    "duration": 10,
    "start_time": "2022-07-10T12:51:02.928Z"
   },
   {
    "duration": 26,
    "start_time": "2022-07-10T12:51:02.940Z"
   },
   {
    "duration": 16,
    "start_time": "2022-07-10T12:51:02.971Z"
   },
   {
    "duration": 11,
    "start_time": "2022-07-10T12:51:02.988Z"
   },
   {
    "duration": 3,
    "start_time": "2022-07-10T12:51:03.001Z"
   },
   {
    "duration": 8,
    "start_time": "2022-07-10T12:51:03.023Z"
   },
   {
    "duration": 15,
    "start_time": "2022-07-10T12:51:03.032Z"
   },
   {
    "duration": 5,
    "start_time": "2022-07-10T12:51:03.048Z"
   },
   {
    "duration": 11,
    "start_time": "2022-07-10T12:51:03.055Z"
   },
   {
    "duration": 17,
    "start_time": "2022-07-10T12:51:03.068Z"
   },
   {
    "duration": 5,
    "start_time": "2022-07-10T12:51:03.087Z"
   },
   {
    "duration": 5,
    "start_time": "2022-07-10T12:51:03.123Z"
   },
   {
    "duration": 15,
    "start_time": "2022-07-10T12:51:03.129Z"
   },
   {
    "duration": 33,
    "start_time": "2022-07-10T12:51:03.146Z"
   },
   {
    "duration": 9,
    "start_time": "2022-07-10T12:51:03.181Z"
   },
   {
    "duration": 12,
    "start_time": "2022-07-10T12:51:03.191Z"
   },
   {
    "duration": 323,
    "start_time": "2022-07-10T12:51:03.205Z"
   },
   {
    "duration": 5,
    "start_time": "2022-07-10T12:51:03.530Z"
   },
   {
    "duration": 25,
    "start_time": "2022-07-10T12:51:03.536Z"
   },
   {
    "duration": 25,
    "start_time": "2022-07-10T12:51:03.563Z"
   },
   {
    "duration": 39,
    "start_time": "2022-07-10T12:51:03.590Z"
   },
   {
    "duration": 16,
    "start_time": "2022-07-10T12:51:03.631Z"
   },
   {
    "duration": 37,
    "start_time": "2022-07-10T12:51:03.648Z"
   },
   {
    "duration": 17,
    "start_time": "2022-07-10T12:51:03.687Z"
   },
   {
    "duration": 46,
    "start_time": "2022-07-10T12:51:03.706Z"
   },
   {
    "duration": 3,
    "start_time": "2022-07-10T12:51:03.754Z"
   },
   {
    "duration": 24,
    "start_time": "2022-07-10T12:51:03.759Z"
   },
   {
    "duration": 42,
    "start_time": "2022-07-10T12:51:03.785Z"
   },
   {
    "duration": 10,
    "start_time": "2022-07-10T12:51:03.828Z"
   },
   {
    "duration": 24,
    "start_time": "2022-07-10T12:51:03.839Z"
   },
   {
    "duration": 1018,
    "start_time": "2022-07-10T12:51:03.864Z"
   },
   {
    "duration": 15,
    "start_time": "2022-07-10T12:51:04.883Z"
   },
   {
    "duration": 10,
    "start_time": "2022-07-10T12:51:04.900Z"
   },
   {
    "duration": 23,
    "start_time": "2022-07-10T12:51:04.912Z"
   },
   {
    "duration": 7,
    "start_time": "2022-07-10T12:51:04.937Z"
   },
   {
    "duration": 13,
    "start_time": "2022-07-10T12:51:04.945Z"
   },
   {
    "duration": 9,
    "start_time": "2022-07-10T12:51:04.961Z"
   },
   {
    "duration": 26,
    "start_time": "2022-07-10T12:51:04.972Z"
   },
   {
    "duration": 8,
    "start_time": "2022-07-10T12:51:05.000Z"
   },
   {
    "duration": 991,
    "start_time": "2022-07-10T12:51:05.010Z"
   },
   {
    "duration": 20,
    "start_time": "2022-07-10T12:51:06.003Z"
   },
   {
    "duration": 4,
    "start_time": "2022-07-10T12:51:06.026Z"
   },
   {
    "duration": 38,
    "start_time": "2022-07-10T12:51:06.032Z"
   },
   {
    "duration": 18,
    "start_time": "2022-07-10T12:51:06.073Z"
   },
   {
    "duration": 40,
    "start_time": "2022-07-10T12:51:06.094Z"
   },
   {
    "duration": 746,
    "start_time": "2022-07-10T12:51:06.135Z"
   },
   {
    "duration": 57,
    "start_time": "2022-07-10T12:51:06.882Z"
   },
   {
    "duration": 37,
    "start_time": "2022-07-10T12:51:06.941Z"
   },
   {
    "duration": 5,
    "start_time": "2022-07-10T12:51:06.979Z"
   },
   {
    "duration": 4,
    "start_time": "2022-07-10T12:51:06.986Z"
   },
   {
    "duration": 32,
    "start_time": "2022-07-10T12:51:06.991Z"
   },
   {
    "duration": 22,
    "start_time": "2022-07-10T12:51:07.025Z"
   },
   {
    "duration": 12,
    "start_time": "2022-07-10T12:51:07.048Z"
   },
   {
    "duration": 114,
    "start_time": "2022-07-10T12:51:07.061Z"
   },
   {
    "duration": 23,
    "start_time": "2022-07-10T12:51:07.176Z"
   },
   {
    "duration": 4,
    "start_time": "2022-07-10T12:51:07.201Z"
   },
   {
    "duration": 924,
    "start_time": "2022-07-10T12:51:07.227Z"
   },
   {
    "duration": 6,
    "start_time": "2022-07-10T12:51:08.153Z"
   },
   {
    "duration": 30,
    "start_time": "2022-07-10T12:51:08.161Z"
   },
   {
    "duration": 27,
    "start_time": "2022-07-10T12:51:08.193Z"
   },
   {
    "duration": 891,
    "start_time": "2022-07-10T12:51:08.224Z"
   },
   {
    "duration": 30,
    "start_time": "2022-07-10T12:51:09.117Z"
   },
   {
    "duration": 8,
    "start_time": "2022-07-10T12:51:09.149Z"
   },
   {
    "duration": 906,
    "start_time": "2022-07-10T12:51:09.159Z"
   },
   {
    "duration": 27,
    "start_time": "2022-07-10T12:51:10.067Z"
   },
   {
    "duration": 34,
    "start_time": "2022-07-10T12:51:10.096Z"
   },
   {
    "duration": 8,
    "start_time": "2022-07-10T12:51:10.133Z"
   },
   {
    "duration": 590,
    "start_time": "2022-07-10T12:51:10.144Z"
   },
   {
    "duration": 3,
    "start_time": "2022-07-10T12:52:29.412Z"
   },
   {
    "duration": 686,
    "start_time": "2022-07-10T12:52:31.689Z"
   },
   {
    "duration": 11,
    "start_time": "2022-07-10T12:53:24.176Z"
   },
   {
    "duration": 1163,
    "start_time": "2022-07-10T12:53:31.748Z"
   },
   {
    "duration": 3,
    "start_time": "2022-07-10T12:53:32.913Z"
   },
   {
    "duration": 21,
    "start_time": "2022-07-10T12:53:32.918Z"
   },
   {
    "duration": 57,
    "start_time": "2022-07-10T12:53:32.941Z"
   },
   {
    "duration": 20,
    "start_time": "2022-07-10T12:53:32.999Z"
   },
   {
    "duration": 18,
    "start_time": "2022-07-10T12:53:33.021Z"
   },
   {
    "duration": 31,
    "start_time": "2022-07-10T12:53:33.041Z"
   },
   {
    "duration": 25,
    "start_time": "2022-07-10T12:53:33.074Z"
   },
   {
    "duration": 38,
    "start_time": "2022-07-10T12:53:33.100Z"
   },
   {
    "duration": 3,
    "start_time": "2022-07-10T12:53:33.141Z"
   },
   {
    "duration": 38,
    "start_time": "2022-07-10T12:53:33.146Z"
   },
   {
    "duration": 23,
    "start_time": "2022-07-10T12:53:33.186Z"
   },
   {
    "duration": 24,
    "start_time": "2022-07-10T12:53:33.211Z"
   },
   {
    "duration": 18,
    "start_time": "2022-07-10T12:53:33.237Z"
   },
   {
    "duration": 48,
    "start_time": "2022-07-10T12:53:33.257Z"
   },
   {
    "duration": 7,
    "start_time": "2022-07-10T12:53:33.307Z"
   },
   {
    "duration": 22,
    "start_time": "2022-07-10T12:53:33.315Z"
   },
   {
    "duration": 28,
    "start_time": "2022-07-10T12:53:33.338Z"
   },
   {
    "duration": 42,
    "start_time": "2022-07-10T12:53:33.368Z"
   },
   {
    "duration": 23,
    "start_time": "2022-07-10T12:53:33.411Z"
   },
   {
    "duration": 7,
    "start_time": "2022-07-10T12:53:33.436Z"
   },
   {
    "duration": 38,
    "start_time": "2022-07-10T12:53:33.445Z"
   },
   {
    "duration": 15,
    "start_time": "2022-07-10T12:53:33.484Z"
   },
   {
    "duration": 26,
    "start_time": "2022-07-10T12:53:33.501Z"
   },
   {
    "duration": 17,
    "start_time": "2022-07-10T12:53:33.529Z"
   },
   {
    "duration": 24,
    "start_time": "2022-07-10T12:53:33.547Z"
   },
   {
    "duration": 39,
    "start_time": "2022-07-10T12:53:33.573Z"
   },
   {
    "duration": 19,
    "start_time": "2022-07-10T12:53:33.617Z"
   },
   {
    "duration": 12,
    "start_time": "2022-07-10T12:53:33.638Z"
   },
   {
    "duration": 9,
    "start_time": "2022-07-10T12:53:33.652Z"
   },
   {
    "duration": 31,
    "start_time": "2022-07-10T12:53:33.662Z"
   },
   {
    "duration": 22,
    "start_time": "2022-07-10T12:53:33.694Z"
   },
   {
    "duration": 4,
    "start_time": "2022-07-10T12:53:33.718Z"
   },
   {
    "duration": 32,
    "start_time": "2022-07-10T12:53:33.723Z"
   },
   {
    "duration": 38,
    "start_time": "2022-07-10T12:53:33.756Z"
   },
   {
    "duration": 26,
    "start_time": "2022-07-10T12:53:33.796Z"
   },
   {
    "duration": 17,
    "start_time": "2022-07-10T12:53:33.824Z"
   },
   {
    "duration": 19,
    "start_time": "2022-07-10T12:53:33.843Z"
   },
   {
    "duration": 27,
    "start_time": "2022-07-10T12:53:33.865Z"
   },
   {
    "duration": 25,
    "start_time": "2022-07-10T12:53:33.894Z"
   },
   {
    "duration": 21,
    "start_time": "2022-07-10T12:53:33.922Z"
   },
   {
    "duration": 240,
    "start_time": "2022-07-10T12:53:33.945Z"
   },
   {
    "duration": 5,
    "start_time": "2022-07-10T12:53:34.187Z"
   },
   {
    "duration": 32,
    "start_time": "2022-07-10T12:53:34.194Z"
   },
   {
    "duration": 8,
    "start_time": "2022-07-10T12:53:34.228Z"
   },
   {
    "duration": 26,
    "start_time": "2022-07-10T12:53:34.238Z"
   },
   {
    "duration": 3,
    "start_time": "2022-07-10T12:53:34.266Z"
   },
   {
    "duration": 17,
    "start_time": "2022-07-10T12:53:34.271Z"
   },
   {
    "duration": 5,
    "start_time": "2022-07-10T12:53:34.290Z"
   },
   {
    "duration": 37,
    "start_time": "2022-07-10T12:53:34.297Z"
   },
   {
    "duration": 3,
    "start_time": "2022-07-10T12:53:34.335Z"
   },
   {
    "duration": 5,
    "start_time": "2022-07-10T12:53:34.340Z"
   },
   {
    "duration": 25,
    "start_time": "2022-07-10T12:53:34.346Z"
   },
   {
    "duration": 4,
    "start_time": "2022-07-10T12:53:34.373Z"
   },
   {
    "duration": 15,
    "start_time": "2022-07-10T12:53:34.379Z"
   },
   {
    "duration": 813,
    "start_time": "2022-07-10T12:53:34.424Z"
   },
   {
    "duration": 14,
    "start_time": "2022-07-10T12:53:35.239Z"
   },
   {
    "duration": 10,
    "start_time": "2022-07-10T12:53:35.255Z"
   },
   {
    "duration": 13,
    "start_time": "2022-07-10T12:53:35.267Z"
   },
   {
    "duration": 6,
    "start_time": "2022-07-10T12:53:35.281Z"
   },
   {
    "duration": 9,
    "start_time": "2022-07-10T12:53:35.289Z"
   },
   {
    "duration": 23,
    "start_time": "2022-07-10T12:53:35.300Z"
   },
   {
    "duration": 7,
    "start_time": "2022-07-10T12:53:35.325Z"
   },
   {
    "duration": 6,
    "start_time": "2022-07-10T12:53:35.334Z"
   },
   {
    "duration": 709,
    "start_time": "2022-07-10T12:53:35.342Z"
   },
   {
    "duration": 9,
    "start_time": "2022-07-10T12:53:36.053Z"
   },
   {
    "duration": 8,
    "start_time": "2022-07-10T12:53:36.063Z"
   },
   {
    "duration": 24,
    "start_time": "2022-07-10T12:53:36.072Z"
   },
   {
    "duration": 34,
    "start_time": "2022-07-10T12:53:36.098Z"
   },
   {
    "duration": 11,
    "start_time": "2022-07-10T12:53:36.133Z"
   },
   {
    "duration": 518,
    "start_time": "2022-07-10T12:53:36.146Z"
   },
   {
    "duration": 39,
    "start_time": "2022-07-10T12:53:36.665Z"
   },
   {
    "duration": 48,
    "start_time": "2022-07-10T12:53:36.705Z"
   },
   {
    "duration": 4,
    "start_time": "2022-07-10T12:53:36.755Z"
   },
   {
    "duration": 4,
    "start_time": "2022-07-10T12:53:36.761Z"
   },
   {
    "duration": 15,
    "start_time": "2022-07-10T12:53:36.767Z"
   },
   {
    "duration": 46,
    "start_time": "2022-07-10T12:53:36.783Z"
   },
   {
    "duration": 14,
    "start_time": "2022-07-10T12:53:36.831Z"
   },
   {
    "duration": 110,
    "start_time": "2022-07-10T12:53:36.847Z"
   },
   {
    "duration": 22,
    "start_time": "2022-07-10T12:53:36.959Z"
   },
   {
    "duration": 17,
    "start_time": "2022-07-10T12:53:36.983Z"
   },
   {
    "duration": 870,
    "start_time": "2022-07-10T12:53:37.005Z"
   },
   {
    "duration": 6,
    "start_time": "2022-07-10T12:53:37.877Z"
   },
   {
    "duration": 13,
    "start_time": "2022-07-10T12:53:37.885Z"
   },
   {
    "duration": 39,
    "start_time": "2022-07-10T12:53:37.900Z"
   },
   {
    "duration": 829,
    "start_time": "2022-07-10T12:53:37.940Z"
   },
   {
    "duration": 23,
    "start_time": "2022-07-10T12:53:38.771Z"
   },
   {
    "duration": 8,
    "start_time": "2022-07-10T12:53:38.796Z"
   },
   {
    "duration": 944,
    "start_time": "2022-07-10T12:53:38.824Z"
   },
   {
    "duration": 29,
    "start_time": "2022-07-10T12:53:39.771Z"
   },
   {
    "duration": 36,
    "start_time": "2022-07-10T12:53:39.802Z"
   },
   {
    "duration": 9,
    "start_time": "2022-07-10T12:53:39.840Z"
   },
   {
    "duration": 591,
    "start_time": "2022-07-10T12:53:39.851Z"
   },
   {
    "duration": 614,
    "start_time": "2022-07-10T12:54:57.849Z"
   },
   {
    "duration": 701,
    "start_time": "2022-07-10T12:55:24.263Z"
   },
   {
    "duration": 489,
    "start_time": "2022-07-10T12:55:34.196Z"
   },
   {
    "duration": 785,
    "start_time": "2022-07-10T12:55:40.455Z"
   },
   {
    "duration": 778,
    "start_time": "2022-07-10T12:56:11.458Z"
   },
   {
    "duration": 1126,
    "start_time": "2022-07-10T12:56:42.397Z"
   },
   {
    "duration": 4,
    "start_time": "2022-07-10T12:56:43.525Z"
   },
   {
    "duration": 5,
    "start_time": "2022-07-10T12:56:43.530Z"
   },
   {
    "duration": 43,
    "start_time": "2022-07-10T12:56:43.537Z"
   },
   {
    "duration": 19,
    "start_time": "2022-07-10T12:56:43.582Z"
   },
   {
    "duration": 25,
    "start_time": "2022-07-10T12:56:43.604Z"
   },
   {
    "duration": 21,
    "start_time": "2022-07-10T12:56:43.631Z"
   },
   {
    "duration": 16,
    "start_time": "2022-07-10T12:56:43.654Z"
   },
   {
    "duration": 52,
    "start_time": "2022-07-10T12:56:43.671Z"
   },
   {
    "duration": 4,
    "start_time": "2022-07-10T12:56:43.726Z"
   },
   {
    "duration": 7,
    "start_time": "2022-07-10T12:56:43.732Z"
   },
   {
    "duration": 8,
    "start_time": "2022-07-10T12:56:43.741Z"
   },
   {
    "duration": 7,
    "start_time": "2022-07-10T12:56:43.751Z"
   },
   {
    "duration": 19,
    "start_time": "2022-07-10T12:56:43.760Z"
   },
   {
    "duration": 50,
    "start_time": "2022-07-10T12:56:43.781Z"
   },
   {
    "duration": 7,
    "start_time": "2022-07-10T12:56:43.833Z"
   },
   {
    "duration": 14,
    "start_time": "2022-07-10T12:56:43.842Z"
   },
   {
    "duration": 6,
    "start_time": "2022-07-10T12:56:43.858Z"
   },
   {
    "duration": 25,
    "start_time": "2022-07-10T12:56:43.866Z"
   },
   {
    "duration": 9,
    "start_time": "2022-07-10T12:56:43.893Z"
   },
   {
    "duration": 21,
    "start_time": "2022-07-10T12:56:43.903Z"
   },
   {
    "duration": 21,
    "start_time": "2022-07-10T12:56:43.926Z"
   },
   {
    "duration": 7,
    "start_time": "2022-07-10T12:56:43.949Z"
   },
   {
    "duration": 6,
    "start_time": "2022-07-10T12:56:43.958Z"
   },
   {
    "duration": 8,
    "start_time": "2022-07-10T12:56:43.965Z"
   },
   {
    "duration": 7,
    "start_time": "2022-07-10T12:56:43.975Z"
   },
   {
    "duration": 51,
    "start_time": "2022-07-10T12:56:43.983Z"
   },
   {
    "duration": 13,
    "start_time": "2022-07-10T12:56:44.038Z"
   },
   {
    "duration": 10,
    "start_time": "2022-07-10T12:56:44.053Z"
   },
   {
    "duration": 4,
    "start_time": "2022-07-10T12:56:44.065Z"
   },
   {
    "duration": 10,
    "start_time": "2022-07-10T12:56:44.070Z"
   },
   {
    "duration": 12,
    "start_time": "2022-07-10T12:56:44.082Z"
   },
   {
    "duration": 4,
    "start_time": "2022-07-10T12:56:44.123Z"
   },
   {
    "duration": 11,
    "start_time": "2022-07-10T12:56:44.129Z"
   },
   {
    "duration": 17,
    "start_time": "2022-07-10T12:56:44.141Z"
   },
   {
    "duration": 6,
    "start_time": "2022-07-10T12:56:44.160Z"
   },
   {
    "duration": 5,
    "start_time": "2022-07-10T12:56:44.168Z"
   },
   {
    "duration": 6,
    "start_time": "2022-07-10T12:56:44.175Z"
   },
   {
    "duration": 50,
    "start_time": "2022-07-10T12:56:44.183Z"
   },
   {
    "duration": 7,
    "start_time": "2022-07-10T12:56:44.234Z"
   },
   {
    "duration": 7,
    "start_time": "2022-07-10T12:56:44.243Z"
   },
   {
    "duration": 256,
    "start_time": "2022-07-10T12:56:44.252Z"
   },
   {
    "duration": 5,
    "start_time": "2022-07-10T12:56:44.510Z"
   },
   {
    "duration": 7,
    "start_time": "2022-07-10T12:56:44.523Z"
   },
   {
    "duration": 7,
    "start_time": "2022-07-10T12:56:44.532Z"
   },
   {
    "duration": 19,
    "start_time": "2022-07-10T12:56:44.540Z"
   },
   {
    "duration": 3,
    "start_time": "2022-07-10T12:56:44.561Z"
   },
   {
    "duration": 18,
    "start_time": "2022-07-10T12:56:44.565Z"
   },
   {
    "duration": 38,
    "start_time": "2022-07-10T12:56:44.585Z"
   },
   {
    "duration": 21,
    "start_time": "2022-07-10T12:56:44.625Z"
   },
   {
    "duration": 4,
    "start_time": "2022-07-10T12:56:44.647Z"
   },
   {
    "duration": 5,
    "start_time": "2022-07-10T12:56:44.653Z"
   },
   {
    "duration": 19,
    "start_time": "2022-07-10T12:56:44.659Z"
   },
   {
    "duration": 4,
    "start_time": "2022-07-10T12:56:44.679Z"
   },
   {
    "duration": 12,
    "start_time": "2022-07-10T12:56:44.685Z"
   },
   {
    "duration": 811,
    "start_time": "2022-07-10T12:56:44.723Z"
   },
   {
    "duration": 14,
    "start_time": "2022-07-10T12:56:45.535Z"
   },
   {
    "duration": 10,
    "start_time": "2022-07-10T12:56:45.551Z"
   },
   {
    "duration": 13,
    "start_time": "2022-07-10T12:56:45.563Z"
   },
   {
    "duration": 10,
    "start_time": "2022-07-10T12:56:45.577Z"
   },
   {
    "duration": 10,
    "start_time": "2022-07-10T12:56:45.589Z"
   },
   {
    "duration": 24,
    "start_time": "2022-07-10T12:56:45.601Z"
   },
   {
    "duration": 8,
    "start_time": "2022-07-10T12:56:45.627Z"
   },
   {
    "duration": 13,
    "start_time": "2022-07-10T12:56:45.637Z"
   },
   {
    "duration": 753,
    "start_time": "2022-07-10T12:56:45.652Z"
   },
   {
    "duration": 19,
    "start_time": "2022-07-10T12:56:46.406Z"
   },
   {
    "duration": 5,
    "start_time": "2022-07-10T12:56:46.426Z"
   },
   {
    "duration": 40,
    "start_time": "2022-07-10T12:56:46.433Z"
   },
   {
    "duration": 16,
    "start_time": "2022-07-10T12:56:46.474Z"
   },
   {
    "duration": 32,
    "start_time": "2022-07-10T12:56:46.491Z"
   },
   {
    "duration": 515,
    "start_time": "2022-07-10T12:56:46.526Z"
   },
   {
    "duration": 40,
    "start_time": "2022-07-10T12:56:47.043Z"
   },
   {
    "duration": 49,
    "start_time": "2022-07-10T12:56:47.085Z"
   },
   {
    "duration": 5,
    "start_time": "2022-07-10T12:56:47.136Z"
   },
   {
    "duration": 12,
    "start_time": "2022-07-10T12:56:47.142Z"
   },
   {
    "duration": 17,
    "start_time": "2022-07-10T12:56:47.156Z"
   },
   {
    "duration": 21,
    "start_time": "2022-07-10T12:56:47.175Z"
   },
   {
    "duration": 26,
    "start_time": "2022-07-10T12:56:47.198Z"
   },
   {
    "duration": 88,
    "start_time": "2022-07-10T12:56:47.225Z"
   },
   {
    "duration": 21,
    "start_time": "2022-07-10T12:56:47.324Z"
   },
   {
    "duration": 23,
    "start_time": "2022-07-10T12:56:47.346Z"
   },
   {
    "duration": 858,
    "start_time": "2022-07-10T12:56:47.375Z"
   },
   {
    "duration": 5,
    "start_time": "2022-07-10T12:56:48.235Z"
   },
   {
    "duration": 11,
    "start_time": "2022-07-10T12:56:48.241Z"
   },
   {
    "duration": 24,
    "start_time": "2022-07-10T12:56:48.253Z"
   },
   {
    "duration": 883,
    "start_time": "2022-07-10T12:56:48.279Z"
   },
   {
    "duration": 26,
    "start_time": "2022-07-10T12:56:49.165Z"
   },
   {
    "duration": 7,
    "start_time": "2022-07-10T12:56:49.192Z"
   },
   {
    "duration": 861,
    "start_time": "2022-07-10T12:56:49.201Z"
   },
   {
    "duration": 26,
    "start_time": "2022-07-10T12:56:50.064Z"
   },
   {
    "duration": 34,
    "start_time": "2022-07-10T12:56:50.092Z"
   },
   {
    "duration": 8,
    "start_time": "2022-07-10T12:56:50.128Z"
   },
   {
    "duration": 590,
    "start_time": "2022-07-10T12:56:50.138Z"
   },
   {
    "duration": 5,
    "start_time": "2022-07-10T12:57:17.510Z"
   },
   {
    "duration": 3,
    "start_time": "2022-07-10T12:57:41.685Z"
   },
   {
    "duration": 1182,
    "start_time": "2022-07-10T13:03:57.342Z"
   },
   {
    "duration": 4,
    "start_time": "2022-07-10T13:03:58.526Z"
   },
   {
    "duration": 5,
    "start_time": "2022-07-10T13:03:58.532Z"
   },
   {
    "duration": 45,
    "start_time": "2022-07-10T13:03:58.539Z"
   },
   {
    "duration": 25,
    "start_time": "2022-07-10T13:03:58.587Z"
   },
   {
    "duration": 27,
    "start_time": "2022-07-10T13:03:58.615Z"
   },
   {
    "duration": 19,
    "start_time": "2022-07-10T13:03:58.644Z"
   },
   {
    "duration": 21,
    "start_time": "2022-07-10T13:03:58.664Z"
   },
   {
    "duration": 48,
    "start_time": "2022-07-10T13:03:58.687Z"
   },
   {
    "duration": 3,
    "start_time": "2022-07-10T13:03:58.737Z"
   },
   {
    "duration": 8,
    "start_time": "2022-07-10T13:03:58.742Z"
   },
   {
    "duration": 6,
    "start_time": "2022-07-10T13:03:58.751Z"
   },
   {
    "duration": 7,
    "start_time": "2022-07-10T13:03:58.758Z"
   },
   {
    "duration": 15,
    "start_time": "2022-07-10T13:03:58.768Z"
   },
   {
    "duration": 50,
    "start_time": "2022-07-10T13:03:58.784Z"
   },
   {
    "duration": 6,
    "start_time": "2022-07-10T13:03:58.835Z"
   },
   {
    "duration": 19,
    "start_time": "2022-07-10T13:03:58.842Z"
   },
   {
    "duration": 11,
    "start_time": "2022-07-10T13:03:58.863Z"
   },
   {
    "duration": 33,
    "start_time": "2022-07-10T13:03:58.876Z"
   },
   {
    "duration": 27,
    "start_time": "2022-07-10T13:03:58.911Z"
   },
   {
    "duration": 8,
    "start_time": "2022-07-10T13:03:58.939Z"
   },
   {
    "duration": 37,
    "start_time": "2022-07-10T13:03:58.949Z"
   },
   {
    "duration": 13,
    "start_time": "2022-07-10T13:03:58.988Z"
   },
   {
    "duration": 11,
    "start_time": "2022-07-10T13:03:59.003Z"
   },
   {
    "duration": 12,
    "start_time": "2022-07-10T13:03:59.016Z"
   },
   {
    "duration": 13,
    "start_time": "2022-07-10T13:03:59.031Z"
   },
   {
    "duration": 27,
    "start_time": "2022-07-10T13:03:59.046Z"
   },
   {
    "duration": 20,
    "start_time": "2022-07-10T13:03:59.075Z"
   },
   {
    "duration": 29,
    "start_time": "2022-07-10T13:03:59.097Z"
   },
   {
    "duration": 14,
    "start_time": "2022-07-10T13:03:59.128Z"
   },
   {
    "duration": 20,
    "start_time": "2022-07-10T13:03:59.144Z"
   },
   {
    "duration": 24,
    "start_time": "2022-07-10T13:03:59.167Z"
   },
   {
    "duration": 6,
    "start_time": "2022-07-10T13:03:59.193Z"
   },
   {
    "duration": 23,
    "start_time": "2022-07-10T13:03:59.201Z"
   },
   {
    "duration": 26,
    "start_time": "2022-07-10T13:03:59.227Z"
   },
   {
    "duration": 18,
    "start_time": "2022-07-10T13:03:59.254Z"
   },
   {
    "duration": 7,
    "start_time": "2022-07-10T13:03:59.274Z"
   },
   {
    "duration": 7,
    "start_time": "2022-07-10T13:03:59.283Z"
   },
   {
    "duration": 17,
    "start_time": "2022-07-10T13:03:59.292Z"
   },
   {
    "duration": 5,
    "start_time": "2022-07-10T13:03:59.310Z"
   },
   {
    "duration": 7,
    "start_time": "2022-07-10T13:03:59.319Z"
   },
   {
    "duration": 441,
    "start_time": "2022-07-10T13:03:59.327Z"
   },
   {
    "duration": 60,
    "start_time": "2022-07-10T13:03:59.770Z"
   },
   {
    "duration": 26,
    "start_time": "2022-07-10T13:03:59.832Z"
   },
   {
    "duration": 13,
    "start_time": "2022-07-10T13:03:59.860Z"
   },
   {
    "duration": 67,
    "start_time": "2022-07-10T13:03:59.875Z"
   },
   {
    "duration": 2,
    "start_time": "2022-07-10T13:03:59.944Z"
   },
   {
    "duration": 20,
    "start_time": "2022-07-10T13:03:59.947Z"
   },
   {
    "duration": 55,
    "start_time": "2022-07-10T13:03:59.968Z"
   },
   {
    "duration": 17,
    "start_time": "2022-07-10T13:04:00.025Z"
   },
   {
    "duration": 2,
    "start_time": "2022-07-10T13:04:00.044Z"
   },
   {
    "duration": 11,
    "start_time": "2022-07-10T13:04:00.048Z"
   },
   {
    "duration": 65,
    "start_time": "2022-07-10T13:04:00.061Z"
   },
   {
    "duration": 3,
    "start_time": "2022-07-10T13:04:00.128Z"
   },
   {
    "duration": 14,
    "start_time": "2022-07-10T13:04:00.132Z"
   },
   {
    "duration": 1473,
    "start_time": "2022-07-10T13:04:00.148Z"
   },
   {
    "duration": 14,
    "start_time": "2022-07-10T13:04:01.623Z"
   },
   {
    "duration": 10,
    "start_time": "2022-07-10T13:04:01.639Z"
   },
   {
    "duration": 17,
    "start_time": "2022-07-10T13:04:01.651Z"
   },
   {
    "duration": 8,
    "start_time": "2022-07-10T13:04:01.670Z"
   },
   {
    "duration": 19,
    "start_time": "2022-07-10T13:04:01.680Z"
   },
   {
    "duration": 26,
    "start_time": "2022-07-10T13:04:01.701Z"
   },
   {
    "duration": 16,
    "start_time": "2022-07-10T13:04:01.729Z"
   },
   {
    "duration": 12,
    "start_time": "2022-07-10T13:04:01.747Z"
   },
   {
    "duration": 713,
    "start_time": "2022-07-10T13:04:01.761Z"
   },
   {
    "duration": 9,
    "start_time": "2022-07-10T13:04:02.476Z"
   },
   {
    "duration": 19,
    "start_time": "2022-07-10T13:04:02.487Z"
   },
   {
    "duration": 50,
    "start_time": "2022-07-10T13:04:02.508Z"
   },
   {
    "duration": 19,
    "start_time": "2022-07-10T13:04:02.560Z"
   },
   {
    "duration": 19,
    "start_time": "2022-07-10T13:04:02.581Z"
   },
   {
    "duration": 550,
    "start_time": "2022-07-10T13:04:02.602Z"
   },
   {
    "duration": 55,
    "start_time": "2022-07-10T13:04:03.154Z"
   },
   {
    "duration": 51,
    "start_time": "2022-07-10T13:04:03.211Z"
   },
   {
    "duration": 4,
    "start_time": "2022-07-10T13:04:03.264Z"
   },
   {
    "duration": 7,
    "start_time": "2022-07-10T13:04:03.270Z"
   },
   {
    "duration": 31,
    "start_time": "2022-07-10T13:04:03.279Z"
   },
   {
    "duration": 35,
    "start_time": "2022-07-10T13:04:03.323Z"
   },
   {
    "duration": 14,
    "start_time": "2022-07-10T13:04:03.360Z"
   },
   {
    "duration": 16,
    "start_time": "2022-07-10T13:04:03.377Z"
   },
   {
    "duration": 135,
    "start_time": "2022-07-10T13:04:03.395Z"
   },
   {
    "duration": 12,
    "start_time": "2022-07-10T13:04:03.532Z"
   },
   {
    "duration": 881,
    "start_time": "2022-07-10T13:04:03.545Z"
   },
   {
    "duration": 5,
    "start_time": "2022-07-10T13:04:04.428Z"
   },
   {
    "duration": 15,
    "start_time": "2022-07-10T13:04:04.434Z"
   },
   {
    "duration": 24,
    "start_time": "2022-07-10T13:04:04.451Z"
   },
   {
    "duration": 772,
    "start_time": "2022-07-10T13:04:04.477Z"
   },
   {
    "duration": 26,
    "start_time": "2022-07-10T13:04:05.251Z"
   },
   {
    "duration": 8,
    "start_time": "2022-07-10T13:04:05.279Z"
   },
   {
    "duration": 934,
    "start_time": "2022-07-10T13:04:05.289Z"
   },
   {
    "duration": 28,
    "start_time": "2022-07-10T13:04:06.226Z"
   },
   {
    "duration": 16,
    "start_time": "2022-07-10T13:04:06.256Z"
   },
   {
    "duration": 10,
    "start_time": "2022-07-10T13:04:06.273Z"
   },
   {
    "duration": 602,
    "start_time": "2022-07-10T13:04:06.284Z"
   },
   {
    "duration": 24,
    "start_time": "2022-07-10T13:06:25.142Z"
   },
   {
    "duration": 19,
    "start_time": "2022-07-10T13:06:47.643Z"
   },
   {
    "duration": 25,
    "start_time": "2022-07-10T13:07:02.956Z"
   },
   {
    "duration": 21,
    "start_time": "2022-07-10T13:07:32.395Z"
   },
   {
    "duration": 117,
    "start_time": "2022-07-10T13:09:51.439Z"
   },
   {
    "duration": 19,
    "start_time": "2022-07-10T13:10:10.200Z"
   },
   {
    "duration": 25,
    "start_time": "2022-07-10T13:10:15.591Z"
   },
   {
    "duration": 360,
    "start_time": "2022-07-10T13:10:18.753Z"
   },
   {
    "duration": 543,
    "start_time": "2022-07-10T13:10:31.180Z"
   },
   {
    "duration": 977,
    "start_time": "2022-07-10T13:10:57.094Z"
   },
   {
    "duration": 22,
    "start_time": "2022-07-10T13:11:17.633Z"
   },
   {
    "duration": 895,
    "start_time": "2022-07-10T13:11:18.286Z"
   },
   {
    "duration": 1021,
    "start_time": "2022-07-10T13:11:36.653Z"
   },
   {
    "duration": 794,
    "start_time": "2022-07-10T13:11:49.269Z"
   },
   {
    "duration": 10,
    "start_time": "2022-07-10T13:12:38.364Z"
   },
   {
    "duration": 917,
    "start_time": "2022-07-10T13:14:38.668Z"
   },
   {
    "duration": 17,
    "start_time": "2022-07-10T13:15:27.140Z"
   },
   {
    "duration": 14,
    "start_time": "2022-07-10T13:15:57.241Z"
   },
   {
    "duration": 16,
    "start_time": "2022-07-10T13:16:05.854Z"
   },
   {
    "duration": 15,
    "start_time": "2022-07-10T13:16:12.191Z"
   },
   {
    "duration": 15,
    "start_time": "2022-07-10T13:16:22.295Z"
   },
   {
    "duration": 5,
    "start_time": "2022-07-10T13:16:53.165Z"
   },
   {
    "duration": 694,
    "start_time": "2022-07-10T13:16:58.199Z"
   },
   {
    "duration": 15,
    "start_time": "2022-07-10T13:17:12.670Z"
   },
   {
    "duration": 803,
    "start_time": "2022-07-10T13:18:24.014Z"
   },
   {
    "duration": 617,
    "start_time": "2022-07-10T13:18:36.212Z"
   },
   {
    "duration": 47,
    "start_time": "2022-07-10T13:19:35.852Z"
   },
   {
    "duration": 51,
    "start_time": "2022-07-10T13:19:42.613Z"
   },
   {
    "duration": 414,
    "start_time": "2022-07-10T13:20:43.785Z"
   },
   {
    "duration": 605,
    "start_time": "2022-07-10T13:20:51.290Z"
   },
   {
    "duration": 606,
    "start_time": "2022-07-10T13:22:10.024Z"
   },
   {
    "duration": 52,
    "start_time": "2022-07-10T13:22:55.218Z"
   },
   {
    "duration": 512,
    "start_time": "2022-07-10T13:25:22.533Z"
   },
   {
    "duration": 500,
    "start_time": "2022-07-10T13:25:38.141Z"
   },
   {
    "duration": 633,
    "start_time": "2022-07-10T13:26:47.249Z"
   },
   {
    "duration": 496,
    "start_time": "2022-07-10T13:26:54.152Z"
   },
   {
    "duration": 714,
    "start_time": "2022-07-10T13:27:21.094Z"
   },
   {
    "duration": 519,
    "start_time": "2022-07-10T13:30:10.493Z"
   },
   {
    "duration": 8,
    "start_time": "2022-07-10T13:32:35.216Z"
   },
   {
    "duration": 10,
    "start_time": "2022-07-10T13:32:50.408Z"
   },
   {
    "duration": 10,
    "start_time": "2022-07-10T13:33:03.803Z"
   },
   {
    "duration": 10,
    "start_time": "2022-07-10T13:34:09.688Z"
   },
   {
    "duration": 12,
    "start_time": "2022-07-10T13:35:24.846Z"
   },
   {
    "duration": 15,
    "start_time": "2022-07-10T13:35:34.284Z"
   },
   {
    "duration": 72,
    "start_time": "2022-07-10T13:35:40.901Z"
   },
   {
    "duration": 66,
    "start_time": "2022-07-10T13:35:44.971Z"
   },
   {
    "duration": 11,
    "start_time": "2022-07-10T13:35:48.708Z"
   },
   {
    "duration": 12,
    "start_time": "2022-07-10T13:36:16.939Z"
   },
   {
    "duration": 13,
    "start_time": "2022-07-10T13:36:22.847Z"
   },
   {
    "duration": 68,
    "start_time": "2022-07-10T13:36:34.482Z"
   },
   {
    "duration": 16,
    "start_time": "2022-07-10T13:36:38.842Z"
   },
   {
    "duration": 14,
    "start_time": "2022-07-10T13:36:50.266Z"
   },
   {
    "duration": 49,
    "start_time": "2022-07-10T13:36:53.146Z"
   },
   {
    "duration": 79,
    "start_time": "2022-07-10T13:36:59.107Z"
   },
   {
    "duration": 52,
    "start_time": "2022-07-10T13:37:01.763Z"
   },
   {
    "duration": 12,
    "start_time": "2022-07-10T13:37:10.058Z"
   },
   {
    "duration": 11,
    "start_time": "2022-07-10T13:37:23.259Z"
   },
   {
    "duration": 13,
    "start_time": "2022-07-10T13:38:16.889Z"
   },
   {
    "duration": 553,
    "start_time": "2022-07-10T13:38:47.087Z"
   },
   {
    "duration": 517,
    "start_time": "2022-07-10T13:38:51.536Z"
   },
   {
    "duration": 13,
    "start_time": "2022-07-10T13:42:05.511Z"
   },
   {
    "duration": 12,
    "start_time": "2022-07-10T13:42:17.458Z"
   },
   {
    "duration": 577,
    "start_time": "2022-07-10T13:42:24.687Z"
   },
   {
    "duration": 3,
    "start_time": "2022-07-10T13:43:11.193Z"
   },
   {
    "duration": 13,
    "start_time": "2022-07-10T13:43:17.746Z"
   },
   {
    "duration": 13,
    "start_time": "2022-07-10T13:43:23.368Z"
   },
   {
    "duration": 11,
    "start_time": "2022-07-10T13:43:28.817Z"
   },
   {
    "duration": 18,
    "start_time": "2022-07-10T13:56:46.085Z"
   },
   {
    "duration": 13,
    "start_time": "2022-07-10T13:56:56.336Z"
   },
   {
    "duration": 22,
    "start_time": "2022-07-10T13:57:17.079Z"
   },
   {
    "duration": 4,
    "start_time": "2022-07-10T14:00:30.136Z"
   },
   {
    "duration": 25,
    "start_time": "2022-07-10T14:00:55.104Z"
   },
   {
    "duration": 23,
    "start_time": "2022-07-10T14:01:15.464Z"
   },
   {
    "duration": 26,
    "start_time": "2022-07-10T14:02:02.967Z"
   },
   {
    "duration": 20,
    "start_time": "2022-07-10T14:02:28.086Z"
   },
   {
    "duration": 90,
    "start_time": "2022-07-10T14:02:57.181Z"
   },
   {
    "duration": 21,
    "start_time": "2022-07-10T14:03:02.342Z"
   },
   {
    "duration": 14,
    "start_time": "2022-07-10T14:06:01.475Z"
   },
   {
    "duration": 12,
    "start_time": "2022-07-10T14:06:18.760Z"
   },
   {
    "duration": 12,
    "start_time": "2022-07-10T14:06:29.993Z"
   },
   {
    "duration": 13,
    "start_time": "2022-07-10T14:06:57.535Z"
   },
   {
    "duration": 50,
    "start_time": "2022-07-10T14:08:48.605Z"
   },
   {
    "duration": 9,
    "start_time": "2022-07-10T14:09:57.588Z"
   },
   {
    "duration": 11,
    "start_time": "2022-07-10T14:10:39.339Z"
   },
   {
    "duration": 11,
    "start_time": "2022-07-10T14:10:45.586Z"
   },
   {
    "duration": 10,
    "start_time": "2022-07-10T14:10:55.899Z"
   },
   {
    "duration": 703,
    "start_time": "2022-07-10T14:12:23.457Z"
   },
   {
    "duration": 727,
    "start_time": "2022-07-10T14:12:28.967Z"
   },
   {
    "duration": 992,
    "start_time": "2022-07-10T14:12:36.576Z"
   },
   {
    "duration": 932,
    "start_time": "2022-07-10T14:12:56.498Z"
   },
   {
    "duration": 22,
    "start_time": "2022-07-10T14:13:35.520Z"
   },
   {
    "duration": 17,
    "start_time": "2022-07-10T14:13:47.591Z"
   },
   {
    "duration": 20,
    "start_time": "2022-07-10T14:14:00.597Z"
   },
   {
    "duration": 24,
    "start_time": "2022-07-10T14:15:24.366Z"
   },
   {
    "duration": 23,
    "start_time": "2022-07-10T14:16:03.189Z"
   },
   {
    "duration": 922,
    "start_time": "2022-07-10T14:16:11.355Z"
   },
   {
    "duration": 25,
    "start_time": "2022-07-10T14:16:32.675Z"
   },
   {
    "duration": 1147,
    "start_time": "2022-07-10T14:16:53.666Z"
   },
   {
    "duration": 1013,
    "start_time": "2022-07-10T14:17:00.061Z"
   },
   {
    "duration": 867,
    "start_time": "2022-07-10T14:17:59.881Z"
   },
   {
    "duration": 822,
    "start_time": "2022-07-10T14:18:30.384Z"
   },
   {
    "duration": 802,
    "start_time": "2022-07-10T14:19:00.103Z"
   },
   {
    "duration": 847,
    "start_time": "2022-07-10T14:19:48.170Z"
   },
   {
    "duration": 767,
    "start_time": "2022-07-10T14:20:02.894Z"
   },
   {
    "duration": 756,
    "start_time": "2022-07-10T14:20:26.455Z"
   },
   {
    "duration": 586,
    "start_time": "2022-07-10T14:23:20.168Z"
   },
   {
    "duration": 15,
    "start_time": "2022-07-10T14:24:02.263Z"
   },
   {
    "duration": 18,
    "start_time": "2022-07-10T14:24:15.312Z"
   },
   {
    "duration": 560,
    "start_time": "2022-07-10T14:25:35.225Z"
   },
   {
    "duration": 741,
    "start_time": "2022-07-10T14:25:39.655Z"
   },
   {
    "duration": 14,
    "start_time": "2022-07-10T14:26:41.654Z"
   },
   {
    "duration": 13,
    "start_time": "2022-07-10T14:26:45.771Z"
   },
   {
    "duration": 628,
    "start_time": "2022-07-10T14:27:14.041Z"
   },
   {
    "duration": 569,
    "start_time": "2022-07-10T14:27:23.054Z"
   },
   {
    "duration": 559,
    "start_time": "2022-07-10T14:27:29.955Z"
   },
   {
    "duration": 365,
    "start_time": "2022-07-10T14:27:44.307Z"
   },
   {
    "duration": 402,
    "start_time": "2022-07-10T14:28:01.553Z"
   },
   {
    "duration": 381,
    "start_time": "2022-07-10T14:28:16.178Z"
   },
   {
    "duration": 364,
    "start_time": "2022-07-10T14:28:46.699Z"
   },
   {
    "duration": 354,
    "start_time": "2022-07-10T14:29:00.388Z"
   },
   {
    "duration": 352,
    "start_time": "2022-07-10T14:29:10.114Z"
   },
   {
    "duration": 383,
    "start_time": "2022-07-10T14:30:07.280Z"
   },
   {
    "duration": 337,
    "start_time": "2022-07-10T14:30:30.355Z"
   },
   {
    "duration": 362,
    "start_time": "2022-07-10T14:30:35.954Z"
   },
   {
    "duration": 15,
    "start_time": "2022-07-10T14:31:37.807Z"
   },
   {
    "duration": 15,
    "start_time": "2022-07-10T14:31:47.742Z"
   },
   {
    "duration": 15,
    "start_time": "2022-07-10T14:31:54.654Z"
   },
   {
    "duration": 7,
    "start_time": "2022-07-10T14:40:26.579Z"
   },
   {
    "duration": 952,
    "start_time": "2022-07-10T14:44:09.593Z"
   },
   {
    "duration": 11,
    "start_time": "2022-07-10T14:44:34.535Z"
   },
   {
    "duration": 1149,
    "start_time": "2022-07-10T14:44:34.836Z"
   },
   {
    "duration": 10,
    "start_time": "2022-07-10T14:47:35.321Z"
   },
   {
    "duration": 9,
    "start_time": "2022-07-10T14:47:39.800Z"
   },
   {
    "duration": 8,
    "start_time": "2022-07-10T14:48:00.241Z"
   },
   {
    "duration": 23,
    "start_time": "2022-07-10T14:48:26.057Z"
   },
   {
    "duration": 24,
    "start_time": "2022-07-10T14:48:31.639Z"
   },
   {
    "duration": 11,
    "start_time": "2022-07-10T14:49:09.864Z"
   },
   {
    "duration": 25,
    "start_time": "2022-07-10T14:52:03.344Z"
   },
   {
    "duration": 38,
    "start_time": "2022-07-10T14:52:11.397Z"
   },
   {
    "duration": 10,
    "start_time": "2022-07-10T14:52:34.135Z"
   },
   {
    "duration": 11,
    "start_time": "2022-07-10T14:52:35.469Z"
   },
   {
    "duration": 7,
    "start_time": "2022-07-10T14:52:53.981Z"
   },
   {
    "duration": 10,
    "start_time": "2022-07-10T14:52:54.565Z"
   },
   {
    "duration": 30,
    "start_time": "2022-07-10T14:52:59.754Z"
   },
   {
    "duration": 7,
    "start_time": "2022-07-10T14:53:05.052Z"
   },
   {
    "duration": 11,
    "start_time": "2022-07-10T14:53:05.491Z"
   },
   {
    "duration": 30,
    "start_time": "2022-07-10T14:53:17.750Z"
   },
   {
    "duration": 6,
    "start_time": "2022-07-10T14:53:25.477Z"
   },
   {
    "duration": 8,
    "start_time": "2022-07-10T14:53:30.292Z"
   },
   {
    "duration": 13,
    "start_time": "2022-07-10T14:53:30.929Z"
   },
   {
    "duration": 5,
    "start_time": "2022-07-10T14:53:34.114Z"
   },
   {
    "duration": 10,
    "start_time": "2022-07-10T14:53:38.653Z"
   },
   {
    "duration": 6,
    "start_time": "2022-07-10T14:53:54.875Z"
   },
   {
    "duration": 10,
    "start_time": "2022-07-10T14:53:55.283Z"
   },
   {
    "duration": 5,
    "start_time": "2022-07-10T14:54:06.339Z"
   },
   {
    "duration": 10,
    "start_time": "2022-07-10T14:54:09.492Z"
   },
   {
    "duration": 746,
    "start_time": "2022-07-10T14:56:09.633Z"
   },
   {
    "duration": 704,
    "start_time": "2022-07-10T14:56:19.403Z"
   },
   {
    "duration": 684,
    "start_time": "2022-07-10T14:58:28.720Z"
   },
   {
    "duration": 7,
    "start_time": "2022-07-10T14:59:28.343Z"
   },
   {
    "duration": 22,
    "start_time": "2022-07-10T14:59:29.022Z"
   },
   {
    "duration": 13,
    "start_time": "2022-07-10T15:22:48.592Z"
   },
   {
    "duration": 4,
    "start_time": "2022-07-10T15:23:00.674Z"
   },
   {
    "duration": 4,
    "start_time": "2022-07-10T15:23:10.121Z"
   },
   {
    "duration": 4,
    "start_time": "2022-07-10T15:23:21.889Z"
   },
   {
    "duration": 13,
    "start_time": "2022-07-10T15:23:27.904Z"
   },
   {
    "duration": 7,
    "start_time": "2022-07-10T15:23:29.805Z"
   },
   {
    "duration": 9,
    "start_time": "2022-07-10T15:24:04.519Z"
   },
   {
    "duration": 6,
    "start_time": "2022-07-10T15:24:08.261Z"
   },
   {
    "duration": 12,
    "start_time": "2022-07-10T15:24:49.278Z"
   },
   {
    "duration": 7,
    "start_time": "2022-07-10T15:24:50.910Z"
   },
   {
    "duration": 12,
    "start_time": "2022-07-10T15:25:15.589Z"
   },
   {
    "duration": 6,
    "start_time": "2022-07-10T15:25:16.036Z"
   },
   {
    "duration": 4,
    "start_time": "2022-07-10T15:25:24.341Z"
   },
   {
    "duration": 5,
    "start_time": "2022-07-10T15:25:30.692Z"
   },
   {
    "duration": 11,
    "start_time": "2022-07-10T15:25:40.061Z"
   },
   {
    "duration": 10,
    "start_time": "2022-07-10T15:25:44.109Z"
   },
   {
    "duration": 10,
    "start_time": "2022-07-10T15:25:53.943Z"
   },
   {
    "duration": 9,
    "start_time": "2022-07-10T15:26:13.564Z"
   },
   {
    "duration": 55,
    "start_time": "2022-07-10T15:26:32.937Z"
   },
   {
    "duration": 4,
    "start_time": "2022-07-10T15:26:39.379Z"
   },
   {
    "duration": 5,
    "start_time": "2022-07-10T15:26:46.312Z"
   },
   {
    "duration": 4,
    "start_time": "2022-07-10T15:26:54.249Z"
   },
   {
    "duration": 4,
    "start_time": "2022-07-10T15:27:08.579Z"
   },
   {
    "duration": 5,
    "start_time": "2022-07-10T15:28:27.914Z"
   },
   {
    "duration": 3,
    "start_time": "2022-07-10T15:28:55.833Z"
   },
   {
    "duration": 4,
    "start_time": "2022-07-10T15:29:00.639Z"
   },
   {
    "duration": 5,
    "start_time": "2022-07-10T15:29:03.615Z"
   },
   {
    "duration": 7,
    "start_time": "2022-07-10T15:30:19.116Z"
   },
   {
    "duration": 11,
    "start_time": "2022-07-10T15:31:13.175Z"
   },
   {
    "duration": 11,
    "start_time": "2022-07-10T15:31:42.565Z"
   },
   {
    "duration": 11,
    "start_time": "2022-07-10T15:32:58.000Z"
   },
   {
    "duration": 4,
    "start_time": "2022-07-10T15:32:58.914Z"
   },
   {
    "duration": 4,
    "start_time": "2022-07-10T15:32:59.313Z"
   },
   {
    "duration": 5,
    "start_time": "2022-07-10T15:32:59.617Z"
   },
   {
    "duration": 87,
    "start_time": "2022-07-10T15:36:35.623Z"
   },
   {
    "duration": 7,
    "start_time": "2022-07-10T15:36:45.246Z"
   },
   {
    "duration": 7,
    "start_time": "2022-07-10T15:38:27.373Z"
   },
   {
    "duration": 11,
    "start_time": "2022-07-10T15:45:03.997Z"
   },
   {
    "duration": 7,
    "start_time": "2022-07-10T15:48:03.359Z"
   },
   {
    "duration": 48,
    "start_time": "2022-07-10T15:50:38.754Z"
   },
   {
    "duration": 72,
    "start_time": "2022-07-10T15:51:31.076Z"
   },
   {
    "duration": 62,
    "start_time": "2022-07-10T15:51:39.513Z"
   },
   {
    "duration": 49,
    "start_time": "2022-07-10T15:51:45.912Z"
   },
   {
    "duration": 7,
    "start_time": "2022-07-10T15:52:18.168Z"
   },
   {
    "duration": 58,
    "start_time": "2022-07-10T15:52:36.567Z"
   },
   {
    "duration": 47,
    "start_time": "2022-07-10T15:58:27.527Z"
   },
   {
    "duration": 8,
    "start_time": "2022-07-10T16:02:30.713Z"
   },
   {
    "duration": 9,
    "start_time": "2022-07-10T16:02:36.264Z"
   },
   {
    "duration": 2,
    "start_time": "2022-07-10T16:36:02.153Z"
   },
   {
    "duration": 51,
    "start_time": "2022-07-10T16:44:04.924Z"
   },
   {
    "duration": 1358,
    "start_time": "2022-07-10T17:24:57.766Z"
   },
   {
    "duration": 6,
    "start_time": "2022-07-10T17:24:59.128Z"
   },
   {
    "duration": 22,
    "start_time": "2022-07-10T17:24:59.136Z"
   },
   {
    "duration": 78,
    "start_time": "2022-07-10T17:24:59.161Z"
   },
   {
    "duration": 30,
    "start_time": "2022-07-10T17:24:59.242Z"
   },
   {
    "duration": 54,
    "start_time": "2022-07-10T17:24:59.274Z"
   },
   {
    "duration": 56,
    "start_time": "2022-07-10T17:24:59.331Z"
   },
   {
    "duration": 39,
    "start_time": "2022-07-10T17:24:59.390Z"
   },
   {
    "duration": 48,
    "start_time": "2022-07-10T17:24:59.431Z"
   },
   {
    "duration": 5,
    "start_time": "2022-07-10T17:24:59.483Z"
   },
   {
    "duration": 19,
    "start_time": "2022-07-10T17:24:59.490Z"
   },
   {
    "duration": 23,
    "start_time": "2022-07-10T17:24:59.511Z"
   },
   {
    "duration": 7,
    "start_time": "2022-07-10T17:24:59.536Z"
   },
   {
    "duration": 27,
    "start_time": "2022-07-10T17:24:59.545Z"
   },
   {
    "duration": 74,
    "start_time": "2022-07-10T17:24:59.575Z"
   },
   {
    "duration": 19,
    "start_time": "2022-07-10T17:24:59.651Z"
   },
   {
    "duration": 28,
    "start_time": "2022-07-10T17:24:59.673Z"
   },
   {
    "duration": 23,
    "start_time": "2022-07-10T17:24:59.703Z"
   },
   {
    "duration": 34,
    "start_time": "2022-07-10T17:24:59.729Z"
   },
   {
    "duration": 19,
    "start_time": "2022-07-10T17:24:59.765Z"
   },
   {
    "duration": 32,
    "start_time": "2022-07-10T17:24:59.787Z"
   },
   {
    "duration": 80,
    "start_time": "2022-07-10T17:24:59.821Z"
   },
   {
    "duration": 20,
    "start_time": "2022-07-10T17:24:59.904Z"
   },
   {
    "duration": 18,
    "start_time": "2022-07-10T17:24:59.926Z"
   },
   {
    "duration": 22,
    "start_time": "2022-07-10T17:24:59.946Z"
   },
   {
    "duration": 18,
    "start_time": "2022-07-10T17:24:59.972Z"
   },
   {
    "duration": 43,
    "start_time": "2022-07-10T17:24:59.993Z"
   },
   {
    "duration": 41,
    "start_time": "2022-07-10T17:25:00.043Z"
   },
   {
    "duration": 28,
    "start_time": "2022-07-10T17:25:00.086Z"
   },
   {
    "duration": 12,
    "start_time": "2022-07-10T17:25:00.116Z"
   },
   {
    "duration": 36,
    "start_time": "2022-07-10T17:25:00.130Z"
   },
   {
    "duration": 27,
    "start_time": "2022-07-10T17:25:00.168Z"
   },
   {
    "duration": 6,
    "start_time": "2022-07-10T17:25:00.198Z"
   },
   {
    "duration": 18,
    "start_time": "2022-07-10T17:25:00.206Z"
   },
   {
    "duration": 35,
    "start_time": "2022-07-10T17:25:00.226Z"
   },
   {
    "duration": 28,
    "start_time": "2022-07-10T17:25:00.263Z"
   },
   {
    "duration": 37,
    "start_time": "2022-07-10T17:25:00.295Z"
   },
   {
    "duration": 20,
    "start_time": "2022-07-10T17:25:00.334Z"
   },
   {
    "duration": 46,
    "start_time": "2022-07-10T17:25:00.356Z"
   },
   {
    "duration": 28,
    "start_time": "2022-07-10T17:25:00.404Z"
   },
   {
    "duration": 24,
    "start_time": "2022-07-10T17:25:00.434Z"
   },
   {
    "duration": 341,
    "start_time": "2022-07-10T17:25:00.461Z"
   },
   {
    "duration": 19,
    "start_time": "2022-07-10T17:25:00.805Z"
   },
   {
    "duration": 25,
    "start_time": "2022-07-10T17:25:00.827Z"
   },
   {
    "duration": 23,
    "start_time": "2022-07-10T17:25:00.855Z"
   },
   {
    "duration": 37,
    "start_time": "2022-07-10T17:25:00.880Z"
   },
   {
    "duration": 3,
    "start_time": "2022-07-10T17:25:00.920Z"
   },
   {
    "duration": 53,
    "start_time": "2022-07-10T17:25:00.925Z"
   },
   {
    "duration": 16,
    "start_time": "2022-07-10T17:25:00.981Z"
   },
   {
    "duration": 39,
    "start_time": "2022-07-10T17:25:01.000Z"
   },
   {
    "duration": 35,
    "start_time": "2022-07-10T17:25:01.041Z"
   },
   {
    "duration": 32,
    "start_time": "2022-07-10T17:25:01.079Z"
   },
   {
    "duration": 54,
    "start_time": "2022-07-10T17:25:01.116Z"
   },
   {
    "duration": 22,
    "start_time": "2022-07-10T17:25:01.172Z"
   },
   {
    "duration": 47,
    "start_time": "2022-07-10T17:25:01.197Z"
   },
   {
    "duration": 1312,
    "start_time": "2022-07-10T17:25:01.246Z"
   },
   {
    "duration": 17,
    "start_time": "2022-07-10T17:25:02.561Z"
   },
   {
    "duration": 17,
    "start_time": "2022-07-10T17:25:02.580Z"
   },
   {
    "duration": 14,
    "start_time": "2022-07-10T17:25:02.599Z"
   },
   {
    "duration": 10,
    "start_time": "2022-07-10T17:25:02.616Z"
   },
   {
    "duration": 12,
    "start_time": "2022-07-10T17:25:02.628Z"
   },
   {
    "duration": 11,
    "start_time": "2022-07-10T17:25:02.642Z"
   },
   {
    "duration": 14,
    "start_time": "2022-07-10T17:25:02.655Z"
   },
   {
    "duration": 19,
    "start_time": "2022-07-10T17:25:02.672Z"
   },
   {
    "duration": 950,
    "start_time": "2022-07-10T17:25:02.693Z"
   },
   {
    "duration": 12,
    "start_time": "2022-07-10T17:25:03.645Z"
   },
   {
    "duration": 10,
    "start_time": "2022-07-10T17:25:03.659Z"
   },
   {
    "duration": 62,
    "start_time": "2022-07-10T17:25:03.672Z"
   },
   {
    "duration": 34,
    "start_time": "2022-07-10T17:25:03.737Z"
   },
   {
    "duration": 15,
    "start_time": "2022-07-10T17:25:03.774Z"
   },
   {
    "duration": 793,
    "start_time": "2022-07-10T17:25:03.792Z"
   },
   {
    "duration": 61,
    "start_time": "2022-07-10T17:25:04.587Z"
   },
   {
    "duration": 45,
    "start_time": "2022-07-10T17:25:04.650Z"
   },
   {
    "duration": 6,
    "start_time": "2022-07-10T17:25:04.698Z"
   },
   {
    "duration": 18,
    "start_time": "2022-07-10T17:25:04.723Z"
   },
   {
    "duration": 18,
    "start_time": "2022-07-10T17:25:04.743Z"
   },
   {
    "duration": 42,
    "start_time": "2022-07-10T17:25:04.764Z"
   },
   {
    "duration": 27,
    "start_time": "2022-07-10T17:25:04.808Z"
   },
   {
    "duration": 115,
    "start_time": "2022-07-10T17:25:04.837Z"
   },
   {
    "duration": 26,
    "start_time": "2022-07-10T17:25:04.954Z"
   },
   {
    "duration": 19,
    "start_time": "2022-07-10T17:25:04.983Z"
   },
   {
    "duration": 977,
    "start_time": "2022-07-10T17:25:05.024Z"
   },
   {
    "duration": 7,
    "start_time": "2022-07-10T17:25:06.003Z"
   },
   {
    "duration": 25,
    "start_time": "2022-07-10T17:25:06.011Z"
   },
   {
    "duration": 40,
    "start_time": "2022-07-10T17:25:06.039Z"
   },
   {
    "duration": 827,
    "start_time": "2022-07-10T17:25:06.084Z"
   },
   {
    "duration": 42,
    "start_time": "2022-07-10T17:25:06.913Z"
   },
   {
    "duration": 10,
    "start_time": "2022-07-10T17:25:06.957Z"
   },
   {
    "duration": 980,
    "start_time": "2022-07-10T17:25:06.969Z"
   },
   {
    "duration": 37,
    "start_time": "2022-07-10T17:25:07.952Z"
   },
   {
    "duration": 37,
    "start_time": "2022-07-10T17:25:07.991Z"
   },
   {
    "duration": 14,
    "start_time": "2022-07-10T17:25:08.031Z"
   },
   {
    "duration": 909,
    "start_time": "2022-07-10T17:25:08.047Z"
   },
   {
    "duration": 29,
    "start_time": "2022-07-10T17:25:08.958Z"
   },
   {
    "duration": 35,
    "start_time": "2022-07-10T17:25:08.990Z"
   },
   {
    "duration": 21,
    "start_time": "2022-07-10T17:25:09.028Z"
   },
   {
    "duration": 877,
    "start_time": "2022-07-10T17:25:09.053Z"
   },
   {
    "duration": 36,
    "start_time": "2022-07-10T17:25:09.933Z"
   },
   {
    "duration": 665,
    "start_time": "2022-07-10T17:25:09.971Z"
   },
   {
    "duration": 16,
    "start_time": "2022-07-10T17:25:10.638Z"
   },
   {
    "duration": 587,
    "start_time": "2022-07-10T17:25:10.655Z"
   },
   {
    "duration": 14,
    "start_time": "2022-07-10T17:25:11.245Z"
   },
   {
    "duration": 806,
    "start_time": "2022-07-10T17:25:11.263Z"
   },
   {
    "duration": 17,
    "start_time": "2022-07-10T17:25:12.072Z"
   },
   {
    "duration": 36,
    "start_time": "2022-07-10T17:25:12.092Z"
   },
   {
    "duration": 48,
    "start_time": "2022-07-10T17:25:12.131Z"
   },
   {
    "duration": 866,
    "start_time": "2022-07-10T17:25:12.181Z"
   },
   {
    "duration": 377,
    "start_time": "2022-07-10T17:25:13.049Z"
   },
   {
    "duration": 19,
    "start_time": "2022-07-10T17:25:13.428Z"
   },
   {
    "duration": 373,
    "start_time": "2022-07-10T17:25:13.450Z"
   },
   {
    "duration": 19,
    "start_time": "2022-07-10T17:25:13.825Z"
   },
   {
    "duration": 367,
    "start_time": "2022-07-10T17:25:13.846Z"
   },
   {
    "duration": 17,
    "start_time": "2022-07-10T17:25:14.216Z"
   },
   {
    "duration": 10,
    "start_time": "2022-07-10T17:25:14.236Z"
   },
   {
    "duration": 23,
    "start_time": "2022-07-10T17:25:14.247Z"
   },
   {
    "duration": 14,
    "start_time": "2022-07-10T17:25:14.274Z"
   },
   {
    "duration": 39,
    "start_time": "2022-07-10T17:25:14.291Z"
   },
   {
    "duration": 671,
    "start_time": "2022-07-10T17:25:14.332Z"
   },
   {
    "duration": 25,
    "start_time": "2022-07-10T17:25:15.005Z"
   },
   {
    "duration": 6,
    "start_time": "2022-07-10T17:25:15.031Z"
   },
   {
    "duration": 17,
    "start_time": "2022-07-10T17:25:15.039Z"
   },
   {
    "duration": 37,
    "start_time": "2022-07-10T17:25:15.058Z"
   },
   {
    "duration": 25,
    "start_time": "2022-07-10T17:25:15.098Z"
   },
   {
    "duration": 9,
    "start_time": "2022-07-10T17:25:15.126Z"
   },
   {
    "duration": 1259,
    "start_time": "2022-07-10T17:34:18.147Z"
   },
   {
    "duration": 4,
    "start_time": "2022-07-10T17:34:19.408Z"
   },
   {
    "duration": 73,
    "start_time": "2022-07-10T17:34:19.414Z"
   },
   {
    "duration": 18,
    "start_time": "2022-07-10T17:34:19.488Z"
   },
   {
    "duration": 14,
    "start_time": "2022-07-10T17:34:19.509Z"
   },
   {
    "duration": 33,
    "start_time": "2022-07-10T17:34:19.524Z"
   },
   {
    "duration": 18,
    "start_time": "2022-07-10T17:34:19.559Z"
   },
   {
    "duration": 30,
    "start_time": "2022-07-10T17:34:19.579Z"
   },
   {
    "duration": 17,
    "start_time": "2022-07-10T17:34:19.612Z"
   },
   {
    "duration": 13,
    "start_time": "2022-07-10T17:34:19.638Z"
   },
   {
    "duration": 11,
    "start_time": "2022-07-10T17:34:19.652Z"
   },
   {
    "duration": 13,
    "start_time": "2022-07-10T17:34:19.664Z"
   },
   {
    "duration": 16,
    "start_time": "2022-07-10T17:34:19.678Z"
   },
   {
    "duration": 26,
    "start_time": "2022-07-10T17:34:19.697Z"
   },
   {
    "duration": 25,
    "start_time": "2022-07-10T17:34:19.725Z"
   },
   {
    "duration": 8,
    "start_time": "2022-07-10T17:34:19.752Z"
   },
   {
    "duration": 5,
    "start_time": "2022-07-10T17:34:19.762Z"
   },
   {
    "duration": 24,
    "start_time": "2022-07-10T17:34:19.769Z"
   },
   {
    "duration": 12,
    "start_time": "2022-07-10T17:34:19.795Z"
   },
   {
    "duration": 23,
    "start_time": "2022-07-10T17:34:19.810Z"
   },
   {
    "duration": 33,
    "start_time": "2022-07-10T17:34:19.835Z"
   },
   {
    "duration": 7,
    "start_time": "2022-07-10T17:34:19.870Z"
   },
   {
    "duration": 5,
    "start_time": "2022-07-10T17:34:19.879Z"
   },
   {
    "duration": 11,
    "start_time": "2022-07-10T17:34:19.886Z"
   },
   {
    "duration": 7,
    "start_time": "2022-07-10T17:34:19.899Z"
   },
   {
    "duration": 32,
    "start_time": "2022-07-10T17:34:19.907Z"
   },
   {
    "duration": 19,
    "start_time": "2022-07-10T17:34:19.941Z"
   },
   {
    "duration": 11,
    "start_time": "2022-07-10T17:34:19.962Z"
   },
   {
    "duration": 3,
    "start_time": "2022-07-10T17:34:19.974Z"
   },
   {
    "duration": 10,
    "start_time": "2022-07-10T17:34:19.979Z"
   },
   {
    "duration": 47,
    "start_time": "2022-07-10T17:34:19.991Z"
   },
   {
    "duration": 5,
    "start_time": "2022-07-10T17:34:20.039Z"
   },
   {
    "duration": 14,
    "start_time": "2022-07-10T17:34:20.045Z"
   },
   {
    "duration": 19,
    "start_time": "2022-07-10T17:34:20.062Z"
   },
   {
    "duration": 7,
    "start_time": "2022-07-10T17:34:20.082Z"
   },
   {
    "duration": 5,
    "start_time": "2022-07-10T17:34:20.091Z"
   },
   {
    "duration": 7,
    "start_time": "2022-07-10T17:34:20.097Z"
   },
   {
    "duration": 35,
    "start_time": "2022-07-10T17:34:20.106Z"
   },
   {
    "duration": 5,
    "start_time": "2022-07-10T17:34:20.143Z"
   },
   {
    "duration": 8,
    "start_time": "2022-07-10T17:34:20.149Z"
   },
   {
    "duration": 255,
    "start_time": "2022-07-10T17:34:20.163Z"
   },
   {
    "duration": 12,
    "start_time": "2022-07-10T17:34:20.420Z"
   },
   {
    "duration": 11,
    "start_time": "2022-07-10T17:34:20.440Z"
   },
   {
    "duration": 7,
    "start_time": "2022-07-10T17:34:20.453Z"
   },
   {
    "duration": 20,
    "start_time": "2022-07-10T17:34:20.462Z"
   },
   {
    "duration": 5,
    "start_time": "2022-07-10T17:34:20.484Z"
   },
   {
    "duration": 42,
    "start_time": "2022-07-10T17:34:20.490Z"
   },
   {
    "duration": 6,
    "start_time": "2022-07-10T17:34:20.533Z"
   },
   {
    "duration": 19,
    "start_time": "2022-07-10T17:34:20.541Z"
   },
   {
    "duration": 3,
    "start_time": "2022-07-10T17:34:20.561Z"
   },
   {
    "duration": 4,
    "start_time": "2022-07-10T17:34:20.566Z"
   },
   {
    "duration": 17,
    "start_time": "2022-07-10T17:34:20.572Z"
   },
   {
    "duration": 3,
    "start_time": "2022-07-10T17:34:20.591Z"
   },
   {
    "duration": 39,
    "start_time": "2022-07-10T17:34:20.595Z"
   },
   {
    "duration": 883,
    "start_time": "2022-07-10T17:34:20.639Z"
   },
   {
    "duration": 18,
    "start_time": "2022-07-10T17:34:21.529Z"
   },
   {
    "duration": 12,
    "start_time": "2022-07-10T17:34:21.549Z"
   },
   {
    "duration": 11,
    "start_time": "2022-07-10T17:34:21.563Z"
   },
   {
    "duration": 9,
    "start_time": "2022-07-10T17:34:21.575Z"
   },
   {
    "duration": 13,
    "start_time": "2022-07-10T17:34:21.586Z"
   },
   {
    "duration": 31,
    "start_time": "2022-07-10T17:34:21.601Z"
   },
   {
    "duration": 9,
    "start_time": "2022-07-10T17:34:21.636Z"
   },
   {
    "duration": 8,
    "start_time": "2022-07-10T17:34:21.646Z"
   },
   {
    "duration": 717,
    "start_time": "2022-07-10T17:34:21.656Z"
   },
   {
    "duration": 7,
    "start_time": "2022-07-10T17:34:22.374Z"
   },
   {
    "duration": 4,
    "start_time": "2022-07-10T17:34:22.383Z"
   },
   {
    "duration": 49,
    "start_time": "2022-07-10T17:34:22.389Z"
   },
   {
    "duration": 17,
    "start_time": "2022-07-10T17:34:22.440Z"
   },
   {
    "duration": 16,
    "start_time": "2022-07-10T17:34:22.459Z"
   },
   {
    "duration": 591,
    "start_time": "2022-07-10T17:34:22.476Z"
   },
   {
    "duration": 68,
    "start_time": "2022-07-10T17:34:23.069Z"
   },
   {
    "duration": 50,
    "start_time": "2022-07-10T17:34:23.142Z"
   },
   {
    "duration": 5,
    "start_time": "2022-07-10T17:34:23.194Z"
   },
   {
    "duration": 5,
    "start_time": "2022-07-10T17:34:23.200Z"
   },
   {
    "duration": 35,
    "start_time": "2022-07-10T17:34:23.207Z"
   },
   {
    "duration": 23,
    "start_time": "2022-07-10T17:34:23.244Z"
   },
   {
    "duration": 12,
    "start_time": "2022-07-10T17:34:23.268Z"
   },
   {
    "duration": 109,
    "start_time": "2022-07-10T17:34:23.282Z"
   },
   {
    "duration": 22,
    "start_time": "2022-07-10T17:34:23.393Z"
   },
   {
    "duration": 13,
    "start_time": "2022-07-10T17:34:23.433Z"
   },
   {
    "duration": 906,
    "start_time": "2022-07-10T17:34:23.447Z"
   },
   {
    "duration": 6,
    "start_time": "2022-07-10T17:34:24.355Z"
   },
   {
    "duration": 12,
    "start_time": "2022-07-10T17:34:24.364Z"
   },
   {
    "duration": 55,
    "start_time": "2022-07-10T17:34:24.378Z"
   },
   {
    "duration": 876,
    "start_time": "2022-07-10T17:34:24.439Z"
   },
   {
    "duration": 31,
    "start_time": "2022-07-10T17:34:25.323Z"
   },
   {
    "duration": 6,
    "start_time": "2022-07-10T17:34:25.357Z"
   },
   {
    "duration": 889,
    "start_time": "2022-07-10T17:34:25.365Z"
   },
   {
    "duration": 38,
    "start_time": "2022-07-10T17:34:26.257Z"
   },
   {
    "duration": 43,
    "start_time": "2022-07-10T17:34:26.298Z"
   },
   {
    "duration": 10,
    "start_time": "2022-07-10T17:34:26.343Z"
   },
   {
    "duration": 595,
    "start_time": "2022-07-10T17:34:26.355Z"
   },
   {
    "duration": 19,
    "start_time": "2022-07-10T17:34:26.952Z"
   },
   {
    "duration": 7,
    "start_time": "2022-07-10T17:34:26.973Z"
   },
   {
    "duration": 7,
    "start_time": "2022-07-10T17:34:26.982Z"
   },
   {
    "duration": 702,
    "start_time": "2022-07-10T17:34:26.991Z"
   },
   {
    "duration": 34,
    "start_time": "2022-07-10T17:34:27.695Z"
   },
   {
    "duration": 507,
    "start_time": "2022-07-10T17:34:27.735Z"
   },
   {
    "duration": 14,
    "start_time": "2022-07-10T17:34:28.244Z"
   },
   {
    "duration": 529,
    "start_time": "2022-07-10T17:34:28.260Z"
   },
   {
    "duration": 13,
    "start_time": "2022-07-10T17:34:28.790Z"
   },
   {
    "duration": 714,
    "start_time": "2022-07-10T17:34:28.805Z"
   },
   {
    "duration": 19,
    "start_time": "2022-07-10T17:34:29.523Z"
   },
   {
    "duration": 14,
    "start_time": "2022-07-10T17:34:29.544Z"
   },
   {
    "duration": 27,
    "start_time": "2022-07-10T17:34:29.559Z"
   },
   {
    "duration": 833,
    "start_time": "2022-07-10T17:34:29.588Z"
   },
   {
    "duration": 386,
    "start_time": "2022-07-10T17:34:30.423Z"
   },
   {
    "duration": 26,
    "start_time": "2022-07-10T17:34:30.810Z"
   },
   {
    "duration": 402,
    "start_time": "2022-07-10T17:34:30.841Z"
   },
   {
    "duration": 12,
    "start_time": "2022-07-10T17:34:31.245Z"
   },
   {
    "duration": 357,
    "start_time": "2022-07-10T17:34:31.258Z"
   },
   {
    "duration": 13,
    "start_time": "2022-07-10T17:34:31.623Z"
   },
   {
    "duration": 33,
    "start_time": "2022-07-10T17:34:31.639Z"
   },
   {
    "duration": 18,
    "start_time": "2022-07-10T17:34:31.674Z"
   },
   {
    "duration": 30,
    "start_time": "2022-07-10T17:34:31.695Z"
   },
   {
    "duration": 18,
    "start_time": "2022-07-10T17:34:31.726Z"
   },
   {
    "duration": 682,
    "start_time": "2022-07-10T17:34:31.745Z"
   },
   {
    "duration": 18,
    "start_time": "2022-07-10T17:34:32.431Z"
   },
   {
    "duration": 21,
    "start_time": "2022-07-10T17:34:32.451Z"
   },
   {
    "duration": 32,
    "start_time": "2022-07-10T17:34:32.474Z"
   },
   {
    "duration": 49,
    "start_time": "2022-07-10T17:34:32.508Z"
   },
   {
    "duration": 7,
    "start_time": "2022-07-10T17:34:32.567Z"
   },
   {
    "duration": 25,
    "start_time": "2022-07-10T17:34:32.576Z"
   },
   {
    "duration": 86,
    "start_time": "2022-07-10T18:11:18.118Z"
   },
   {
    "duration": 48,
    "start_time": "2022-07-10T18:22:41.965Z"
   },
   {
    "duration": 45,
    "start_time": "2022-07-10T18:26:30.981Z"
   },
   {
    "duration": 485,
    "start_time": "2022-07-10T18:29:49.359Z"
   },
   {
    "duration": 369,
    "start_time": "2022-07-10T18:29:57.265Z"
   },
   {
    "duration": 448,
    "start_time": "2022-07-10T18:30:08.799Z"
   },
   {
    "duration": 38,
    "start_time": "2022-07-10T18:31:48.997Z"
   },
   {
    "duration": 487,
    "start_time": "2022-07-10T18:32:07.320Z"
   },
   {
    "duration": 11,
    "start_time": "2022-07-10T18:34:25.369Z"
   },
   {
    "duration": 18,
    "start_time": "2022-07-10T18:35:20.852Z"
   },
   {
    "duration": 24,
    "start_time": "2022-07-10T18:35:55.262Z"
   },
   {
    "duration": 21,
    "start_time": "2022-07-10T18:36:36.275Z"
   },
   {
    "duration": 80,
    "start_time": "2022-07-10T18:44:59.319Z"
   },
   {
    "duration": 86,
    "start_time": "2022-07-10T18:46:11.690Z"
   },
   {
    "duration": 6,
    "start_time": "2022-07-10T18:48:58.061Z"
   },
   {
    "duration": 4,
    "start_time": "2022-07-10T18:49:12.462Z"
   },
   {
    "duration": 3,
    "start_time": "2022-07-10T18:49:12.595Z"
   },
   {
    "duration": 36,
    "start_time": "2022-07-10T18:49:12.761Z"
   },
   {
    "duration": 19,
    "start_time": "2022-07-10T18:49:12.961Z"
   },
   {
    "duration": 15,
    "start_time": "2022-07-10T18:49:13.070Z"
   },
   {
    "duration": 19,
    "start_time": "2022-07-10T18:49:13.260Z"
   },
   {
    "duration": 18,
    "start_time": "2022-07-10T18:49:13.680Z"
   },
   {
    "duration": 139,
    "start_time": "2022-07-10T18:49:14.260Z"
   },
   {
    "duration": 3,
    "start_time": "2022-07-10T18:49:14.867Z"
   },
   {
    "duration": 4,
    "start_time": "2022-07-10T18:49:15.066Z"
   },
   {
    "duration": 15,
    "start_time": "2022-07-10T18:49:15.221Z"
   },
   {
    "duration": 6,
    "start_time": "2022-07-10T18:49:15.387Z"
   },
   {
    "duration": 16,
    "start_time": "2022-07-10T18:49:15.698Z"
   },
   {
    "duration": 29,
    "start_time": "2022-07-10T18:49:16.965Z"
   },
   {
    "duration": 5,
    "start_time": "2022-07-10T18:49:17.168Z"
   },
   {
    "duration": 4,
    "start_time": "2022-07-10T18:49:18.065Z"
   },
   {
    "duration": 5,
    "start_time": "2022-07-10T18:49:18.467Z"
   },
   {
    "duration": 29,
    "start_time": "2022-07-10T18:49:18.657Z"
   },
   {
    "duration": 8,
    "start_time": "2022-07-10T18:49:19.373Z"
   },
   {
    "duration": 4,
    "start_time": "2022-07-10T18:49:19.674Z"
   },
   {
    "duration": 30,
    "start_time": "2022-07-10T18:49:19.867Z"
   },
   {
    "duration": 6,
    "start_time": "2022-07-10T18:49:20.461Z"
   },
   {
    "duration": 11,
    "start_time": "2022-07-10T18:49:20.820Z"
   },
   {
    "duration": 5,
    "start_time": "2022-07-10T18:49:20.995Z"
   },
   {
    "duration": 6,
    "start_time": "2022-07-10T18:49:21.586Z"
   },
   {
    "duration": 22,
    "start_time": "2022-07-10T18:49:21.795Z"
   },
   {
    "duration": 18,
    "start_time": "2022-07-10T18:49:22.020Z"
   },
   {
    "duration": 21,
    "start_time": "2022-07-10T18:49:22.221Z"
   },
   {
    "duration": 3,
    "start_time": "2022-07-10T18:49:22.610Z"
   },
   {
    "duration": 8,
    "start_time": "2022-07-10T18:49:22.798Z"
   },
   {
    "duration": 11,
    "start_time": "2022-07-10T18:49:22.995Z"
   },
   {
    "duration": 4,
    "start_time": "2022-07-10T18:49:23.370Z"
   },
   {
    "duration": 8,
    "start_time": "2022-07-10T18:49:23.562Z"
   },
   {
    "duration": 15,
    "start_time": "2022-07-10T18:49:23.804Z"
   },
   {
    "duration": 17,
    "start_time": "2022-07-10T18:49:24.619Z"
   },
   {
    "duration": 5,
    "start_time": "2022-07-10T18:49:25.863Z"
   },
   {
    "duration": 5,
    "start_time": "2022-07-10T18:49:29.660Z"
   },
   {
    "duration": 16,
    "start_time": "2022-07-10T18:49:30.004Z"
   },
   {
    "duration": 6,
    "start_time": "2022-07-10T18:49:30.260Z"
   },
   {
    "duration": 7,
    "start_time": "2022-07-10T18:49:30.462Z"
   },
   {
    "duration": 381,
    "start_time": "2022-07-10T18:49:31.083Z"
   },
   {
    "duration": 23,
    "start_time": "2022-07-10T18:49:31.466Z"
   },
   {
    "duration": 374,
    "start_time": "2022-07-10T18:49:31.520Z"
   },
   {
    "duration": 390,
    "start_time": "2022-07-10T18:49:39.278Z"
   },
   {
    "duration": 9,
    "start_time": "2022-07-10T18:49:42.127Z"
   },
   {
    "duration": 8,
    "start_time": "2022-07-10T18:49:42.300Z"
   },
   {
    "duration": 5,
    "start_time": "2022-07-10T18:49:42.473Z"
   },
   {
    "duration": 18,
    "start_time": "2022-07-10T18:49:42.661Z"
   },
   {
    "duration": 2,
    "start_time": "2022-07-10T18:49:43.178Z"
   },
   {
    "duration": 10,
    "start_time": "2022-07-10T18:49:46.562Z"
   },
   {
    "duration": 22,
    "start_time": "2022-07-10T18:49:46.761Z"
   },
   {
    "duration": 5,
    "start_time": "2022-07-10T18:49:56.065Z"
   },
   {
    "duration": 17,
    "start_time": "2022-07-10T18:49:56.459Z"
   },
   {
    "duration": 4,
    "start_time": "2022-07-10T18:50:01.069Z"
   },
   {
    "duration": 3,
    "start_time": "2022-07-10T18:50:01.301Z"
   },
   {
    "duration": 17,
    "start_time": "2022-07-10T18:50:01.492Z"
   },
   {
    "duration": 6,
    "start_time": "2022-07-10T18:50:06.322Z"
   },
   {
    "duration": 10,
    "start_time": "2022-07-10T18:50:06.499Z"
   },
   {
    "duration": 1136,
    "start_time": "2022-07-10T18:50:06.692Z"
   },
   {
    "duration": 16,
    "start_time": "2022-07-10T18:50:08.619Z"
   },
   {
    "duration": 56,
    "start_time": "2022-07-10T18:50:08.638Z"
   },
   {
    "duration": 10,
    "start_time": "2022-07-10T18:50:11.102Z"
   },
   {
    "duration": 13,
    "start_time": "2022-07-10T18:50:11.323Z"
   },
   {
    "duration": 8,
    "start_time": "2022-07-10T18:50:11.661Z"
   },
   {
    "duration": 8,
    "start_time": "2022-07-10T18:50:14.268Z"
   },
   {
    "duration": 5,
    "start_time": "2022-07-10T18:50:14.604Z"
   },
   {
    "duration": 6,
    "start_time": "2022-07-10T18:50:19.069Z"
   },
   {
    "duration": 969,
    "start_time": "2022-07-10T18:50:19.365Z"
   },
   {
    "duration": 6,
    "start_time": "2022-07-10T18:50:31.362Z"
   },
   {
    "duration": 3,
    "start_time": "2022-07-10T18:50:32.389Z"
   },
   {
    "duration": 24,
    "start_time": "2022-07-10T18:50:33.262Z"
   },
   {
    "duration": 28,
    "start_time": "2022-07-10T18:52:48.758Z"
   },
   {
    "duration": 92,
    "start_time": "2022-07-10T18:53:12.723Z"
   },
   {
    "duration": 15,
    "start_time": "2022-07-10T18:53:19.829Z"
   },
   {
    "duration": 10,
    "start_time": "2022-07-10T18:53:20.477Z"
   },
   {
    "duration": 699,
    "start_time": "2022-07-10T18:53:25.563Z"
   },
   {
    "duration": 624,
    "start_time": "2022-07-10T18:53:41.861Z"
   },
   {
    "duration": 12,
    "start_time": "2022-07-10T18:55:09.764Z"
   },
   {
    "duration": 10,
    "start_time": "2022-07-10T18:55:12.762Z"
   },
   {
    "duration": 610,
    "start_time": "2022-07-10T18:55:17.091Z"
   },
   {
    "duration": 20,
    "start_time": "2022-07-10T18:59:30.411Z"
   },
   {
    "duration": 7,
    "start_time": "2022-07-10T18:59:32.441Z"
   },
   {
    "duration": 24,
    "start_time": "2022-07-10T18:59:54.415Z"
   },
   {
    "duration": 2316,
    "start_time": "2022-07-10T19:00:27.859Z"
   },
   {
    "duration": 5,
    "start_time": "2022-07-10T19:01:21.267Z"
   },
   {
    "duration": 1015,
    "start_time": "2022-07-10T19:01:22.457Z"
   },
   {
    "duration": 6,
    "start_time": "2022-07-10T19:01:44.155Z"
   },
   {
    "duration": 926,
    "start_time": "2022-07-10T19:01:46.152Z"
   },
   {
    "duration": 331,
    "start_time": "2022-07-10T19:03:59.430Z"
   },
   {
    "duration": 13,
    "start_time": "2022-07-10T19:04:00.568Z"
   },
   {
    "duration": 1339,
    "start_time": "2022-07-10T19:04:19.752Z"
   },
   {
    "duration": 5,
    "start_time": "2022-07-10T19:04:21.094Z"
   },
   {
    "duration": 90,
    "start_time": "2022-07-10T19:04:21.101Z"
   },
   {
    "duration": 20,
    "start_time": "2022-07-10T19:04:21.193Z"
   },
   {
    "duration": 28,
    "start_time": "2022-07-10T19:04:21.215Z"
   },
   {
    "duration": 45,
    "start_time": "2022-07-10T19:04:21.250Z"
   },
   {
    "duration": 20,
    "start_time": "2022-07-10T19:04:21.297Z"
   },
   {
    "duration": 29,
    "start_time": "2022-07-10T19:04:21.972Z"
   },
   {
    "duration": 3,
    "start_time": "2022-07-10T19:04:22.700Z"
   },
   {
    "duration": 4,
    "start_time": "2022-07-10T19:04:22.871Z"
   },
   {
    "duration": 7,
    "start_time": "2022-07-10T19:04:23.061Z"
   },
   {
    "duration": 6,
    "start_time": "2022-07-10T19:04:23.200Z"
   },
   {
    "duration": 22,
    "start_time": "2022-07-10T19:04:23.621Z"
   },
   {
    "duration": 33,
    "start_time": "2022-07-10T19:04:24.877Z"
   },
   {
    "duration": 6,
    "start_time": "2022-07-10T19:04:25.073Z"
   },
   {
    "duration": 5,
    "start_time": "2022-07-10T19:04:25.707Z"
   },
   {
    "duration": 9,
    "start_time": "2022-07-10T19:04:26.071Z"
   },
   {
    "duration": 48,
    "start_time": "2022-07-10T19:04:26.204Z"
   },
   {
    "duration": 10,
    "start_time": "2022-07-10T19:04:27.065Z"
   },
   {
    "duration": 5,
    "start_time": "2022-07-10T19:04:27.379Z"
   },
   {
    "duration": 31,
    "start_time": "2022-07-10T19:04:27.569Z"
   },
   {
    "duration": 5,
    "start_time": "2022-07-10T19:04:27.979Z"
   },
   {
    "duration": 9,
    "start_time": "2022-07-10T19:04:28.323Z"
   },
   {
    "duration": 5,
    "start_time": "2022-07-10T19:04:28.494Z"
   },
   {
    "duration": 7,
    "start_time": "2022-07-10T19:04:28.996Z"
   },
   {
    "duration": 29,
    "start_time": "2022-07-10T19:04:29.172Z"
   },
   {
    "duration": 22,
    "start_time": "2022-07-10T19:04:29.375Z"
   },
   {
    "duration": 23,
    "start_time": "2022-07-10T19:04:29.551Z"
   },
   {
    "duration": 4,
    "start_time": "2022-07-10T19:04:29.935Z"
   },
   {
    "duration": 21,
    "start_time": "2022-07-10T19:04:30.123Z"
   },
   {
    "duration": 40,
    "start_time": "2022-07-10T19:04:30.316Z"
   },
   {
    "duration": 5,
    "start_time": "2022-07-10T19:04:30.675Z"
   },
   {
    "duration": 11,
    "start_time": "2022-07-10T19:04:30.882Z"
   },
   {
    "duration": 28,
    "start_time": "2022-07-10T19:04:31.075Z"
   },
   {
    "duration": 10,
    "start_time": "2022-07-10T19:04:31.875Z"
   },
   {
    "duration": 6,
    "start_time": "2022-07-10T19:04:32.299Z"
   },
   {
    "duration": 6,
    "start_time": "2022-07-10T19:04:32.981Z"
   },
   {
    "duration": 26,
    "start_time": "2022-07-10T19:04:33.154Z"
   },
   {
    "duration": 6,
    "start_time": "2022-07-10T19:04:33.397Z"
   },
   {
    "duration": 7,
    "start_time": "2022-07-10T19:04:33.575Z"
   },
   {
    "duration": 302,
    "start_time": "2022-07-10T19:04:34.185Z"
   },
   {
    "duration": 45,
    "start_time": "2022-07-10T19:04:34.491Z"
   },
   {
    "duration": 288,
    "start_time": "2022-07-10T19:04:34.572Z"
   },
   {
    "duration": 6,
    "start_time": "2022-07-10T19:04:35.571Z"
   },
   {
    "duration": 8,
    "start_time": "2022-07-10T19:04:35.706Z"
   },
   {
    "duration": 22,
    "start_time": "2022-07-10T19:04:36.063Z"
   },
   {
    "duration": 36,
    "start_time": "2022-07-10T19:04:36.217Z"
   },
   {
    "duration": 3,
    "start_time": "2022-07-10T19:04:36.794Z"
   },
   {
    "duration": 22,
    "start_time": "2022-07-10T19:04:37.619Z"
   },
   {
    "duration": 32,
    "start_time": "2022-07-10T19:04:37.875Z"
   },
   {
    "duration": 6,
    "start_time": "2022-07-10T19:04:39.461Z"
   },
   {
    "duration": 33,
    "start_time": "2022-07-10T19:04:39.666Z"
   },
   {
    "duration": 3,
    "start_time": "2022-07-10T19:04:42.500Z"
   },
   {
    "duration": 2,
    "start_time": "2022-07-10T19:04:42.868Z"
   },
   {
    "duration": 16,
    "start_time": "2022-07-10T19:04:43.171Z"
   },
   {
    "duration": 3,
    "start_time": "2022-07-10T19:04:45.509Z"
   },
   {
    "duration": 11,
    "start_time": "2022-07-10T19:04:46.366Z"
   },
   {
    "duration": 6,
    "start_time": "2022-07-10T19:04:47.175Z"
   },
   {
    "duration": 1004,
    "start_time": "2022-07-10T19:04:48.573Z"
   },
   {
    "duration": 736,
    "start_time": "2022-07-10T19:04:59.754Z"
   },
   {
    "duration": 708,
    "start_time": "2022-07-10T19:05:05.191Z"
   },
   {
    "duration": 852,
    "start_time": "2022-07-10T19:05:09.487Z"
   },
   {
    "duration": 15,
    "start_time": "2022-07-10T19:05:19.779Z"
   },
   {
    "duration": 15,
    "start_time": "2022-07-10T19:05:20.961Z"
   },
   {
    "duration": 9,
    "start_time": "2022-07-10T19:05:22.093Z"
   },
   {
    "duration": 4,
    "start_time": "2022-07-10T19:05:27.151Z"
   },
   {
    "duration": 9,
    "start_time": "2022-07-10T19:05:27.459Z"
   },
   {
    "duration": 8,
    "start_time": "2022-07-10T19:05:30.550Z"
   },
   {
    "duration": 15,
    "start_time": "2022-07-10T19:05:31.020Z"
   },
   {
    "duration": 4,
    "start_time": "2022-07-10T19:05:31.798Z"
   },
   {
    "duration": 785,
    "start_time": "2022-07-10T19:05:32.404Z"
   },
   {
    "duration": 25,
    "start_time": "2022-07-10T19:05:37.274Z"
   },
   {
    "duration": 3,
    "start_time": "2022-07-10T19:05:37.851Z"
   },
   {
    "duration": 3,
    "start_time": "2022-07-10T19:05:38.066Z"
   },
   {
    "duration": 15,
    "start_time": "2022-07-10T19:05:39.152Z"
   },
   {
    "duration": 11,
    "start_time": "2022-07-10T19:05:39.755Z"
   },
   {
    "duration": 399,
    "start_time": "2022-07-10T19:05:40.057Z"
   },
   {
    "duration": 14,
    "start_time": "2022-07-10T19:06:50.824Z"
   },
   {
    "duration": 391,
    "start_time": "2022-07-10T19:07:03.768Z"
   },
   {
    "duration": 315,
    "start_time": "2022-07-10T19:08:02.901Z"
   },
   {
    "duration": 197,
    "start_time": "2022-07-10T19:08:08.470Z"
   },
   {
    "duration": 211,
    "start_time": "2022-07-10T19:08:11.604Z"
   },
   {
    "duration": 413,
    "start_time": "2022-07-10T19:08:22.516Z"
   },
   {
    "duration": 963,
    "start_time": "2022-07-10T19:09:18.354Z"
   },
   {
    "duration": 6,
    "start_time": "2022-07-10T19:10:08.554Z"
   },
   {
    "duration": 347,
    "start_time": "2022-07-10T19:10:09.099Z"
   },
   {
    "duration": 17,
    "start_time": "2022-07-10T19:11:36.250Z"
   },
   {
    "duration": 21,
    "start_time": "2022-07-10T19:11:37.879Z"
   },
   {
    "duration": 4,
    "start_time": "2022-07-10T19:11:53.568Z"
   },
   {
    "duration": 270,
    "start_time": "2022-07-10T19:11:55.502Z"
   },
   {
    "duration": 3,
    "start_time": "2022-07-10T19:12:14.349Z"
   },
   {
    "duration": 10,
    "start_time": "2022-07-10T19:12:16.454Z"
   },
   {
    "duration": 11,
    "start_time": "2022-07-10T19:12:21.975Z"
   },
   {
    "duration": 10,
    "start_time": "2022-07-10T19:12:24.270Z"
   },
   {
    "duration": 8,
    "start_time": "2022-07-10T19:12:41.559Z"
   },
   {
    "duration": 22,
    "start_time": "2022-07-10T19:12:42.317Z"
   },
   {
    "duration": 9,
    "start_time": "2022-07-10T19:12:58.005Z"
   },
   {
    "duration": 8,
    "start_time": "2022-07-10T19:12:59.670Z"
   },
   {
    "duration": 9,
    "start_time": "2022-07-10T19:13:11.965Z"
   },
   {
    "duration": 10,
    "start_time": "2022-07-10T19:13:12.923Z"
   },
   {
    "duration": 14,
    "start_time": "2022-07-10T19:13:13.956Z"
   },
   {
    "duration": 11,
    "start_time": "2022-07-10T19:13:17.101Z"
   },
   {
    "duration": 714,
    "start_time": "2022-07-10T19:13:18.923Z"
   },
   {
    "duration": 365,
    "start_time": "2022-07-10T19:14:48.243Z"
   },
   {
    "duration": 695,
    "start_time": "2022-07-10T19:15:07.888Z"
   },
   {
    "duration": 4,
    "start_time": "2022-07-10T19:17:33.795Z"
   },
   {
    "duration": 9,
    "start_time": "2022-07-10T19:17:39.397Z"
   },
   {
    "duration": 25,
    "start_time": "2022-07-10T19:17:39.946Z"
   },
   {
    "duration": 787,
    "start_time": "2022-07-10T19:17:40.690Z"
   },
   {
    "duration": 421,
    "start_time": "2022-07-10T19:18:47.740Z"
   },
   {
    "duration": 47,
    "start_time": "2022-07-10T19:19:12.016Z"
   },
   {
    "duration": 6,
    "start_time": "2022-07-10T19:20:13.473Z"
   },
   {
    "duration": 9,
    "start_time": "2022-07-10T19:20:14.498Z"
   },
   {
    "duration": 24,
    "start_time": "2022-07-10T19:20:17.156Z"
   },
   {
    "duration": 56,
    "start_time": "2022-07-10T19:20:38.805Z"
   },
   {
    "duration": 23,
    "start_time": "2022-07-10T19:20:57.137Z"
   },
   {
    "duration": 64,
    "start_time": "2022-07-10T19:22:40.841Z"
   },
   {
    "duration": 8,
    "start_time": "2022-07-10T19:23:40.176Z"
   },
   {
    "duration": 726,
    "start_time": "2022-07-10T19:23:54.039Z"
   },
   {
    "duration": 24,
    "start_time": "2022-07-10T19:24:15.048Z"
   },
   {
    "duration": 861,
    "start_time": "2022-07-10T19:27:33.950Z"
   },
   {
    "duration": 936,
    "start_time": "2022-07-10T19:27:58.726Z"
   },
   {
    "duration": 21,
    "start_time": "2022-07-10T19:28:28.127Z"
   },
   {
    "duration": 6,
    "start_time": "2022-07-10T19:30:57.415Z"
   },
   {
    "duration": 769,
    "start_time": "2022-07-10T19:30:58.016Z"
   },
   {
    "duration": 20,
    "start_time": "2022-07-10T19:31:02.539Z"
   },
   {
    "duration": 15,
    "start_time": "2022-07-10T19:32:31.878Z"
   },
   {
    "duration": 9,
    "start_time": "2022-07-10T19:32:32.815Z"
   },
   {
    "duration": 548,
    "start_time": "2022-07-10T19:32:36.113Z"
   },
   {
    "duration": 33,
    "start_time": "2022-07-10T19:34:27.639Z"
   },
   {
    "duration": 16,
    "start_time": "2022-07-10T19:34:46.573Z"
   },
   {
    "duration": 10,
    "start_time": "2022-07-10T19:34:49.396Z"
   },
   {
    "duration": 76,
    "start_time": "2022-07-10T19:35:43.287Z"
   },
   {
    "duration": 1356,
    "start_time": "2022-07-10T19:36:47.890Z"
   },
   {
    "duration": 654,
    "start_time": "2022-07-10T19:36:58.605Z"
   },
   {
    "duration": 14,
    "start_time": "2022-07-10T19:38:30.330Z"
   },
   {
    "duration": 4,
    "start_time": "2022-07-10T19:38:40.169Z"
   },
   {
    "duration": 10,
    "start_time": "2022-07-10T19:38:44.599Z"
   },
   {
    "duration": 5,
    "start_time": "2022-07-10T19:39:26.016Z"
   },
   {
    "duration": 595,
    "start_time": "2022-07-10T19:39:33.408Z"
   },
   {
    "duration": 624,
    "start_time": "2022-07-10T19:41:40.588Z"
   },
   {
    "duration": 10,
    "start_time": "2022-07-10T19:41:45.504Z"
   },
   {
    "duration": 14,
    "start_time": "2022-07-10T19:41:50.247Z"
   },
   {
    "duration": 4,
    "start_time": "2022-07-10T19:41:50.714Z"
   },
   {
    "duration": 13,
    "start_time": "2022-07-10T19:41:51.161Z"
   },
   {
    "duration": 588,
    "start_time": "2022-07-10T19:41:52.042Z"
   },
   {
    "duration": 590,
    "start_time": "2022-07-10T19:59:50.735Z"
   },
   {
    "duration": 3,
    "start_time": "2022-07-10T20:00:10.799Z"
   },
   {
    "duration": 5,
    "start_time": "2022-07-10T20:00:15.623Z"
   },
   {
    "duration": 18,
    "start_time": "2022-07-10T20:05:22.940Z"
   },
   {
    "duration": 9,
    "start_time": "2022-07-10T20:05:24.177Z"
   },
   {
    "duration": 9,
    "start_time": "2022-07-10T20:05:35.810Z"
   },
   {
    "duration": 678,
    "start_time": "2022-07-10T20:05:41.344Z"
   },
   {
    "duration": 14,
    "start_time": "2022-07-10T20:05:55.251Z"
   },
   {
    "duration": 22,
    "start_time": "2022-07-10T20:06:10.916Z"
   },
   {
    "duration": 8,
    "start_time": "2022-07-10T20:06:15.673Z"
   },
   {
    "duration": 719,
    "start_time": "2022-07-10T20:06:20.134Z"
   },
   {
    "duration": 19,
    "start_time": "2022-07-10T20:07:06.856Z"
   },
   {
    "duration": 17,
    "start_time": "2022-07-10T20:11:38.327Z"
   },
   {
    "duration": 10,
    "start_time": "2022-07-10T20:12:05.080Z"
   },
   {
    "duration": 16,
    "start_time": "2022-07-10T20:12:08.274Z"
   },
   {
    "duration": 20,
    "start_time": "2022-07-10T20:12:08.293Z"
   },
   {
    "duration": 3,
    "start_time": "2022-07-10T20:12:09.397Z"
   },
   {
    "duration": 636,
    "start_time": "2022-07-10T20:12:10.182Z"
   },
   {
    "duration": 19,
    "start_time": "2022-07-10T20:12:12.996Z"
   },
   {
    "duration": 503,
    "start_time": "2022-07-10T20:12:15.166Z"
   },
   {
    "duration": 13,
    "start_time": "2022-07-10T20:13:06.987Z"
   },
   {
    "duration": 490,
    "start_time": "2022-07-10T20:13:17.147Z"
   },
   {
    "duration": 12,
    "start_time": "2022-07-10T20:13:22.507Z"
   },
   {
    "duration": 17,
    "start_time": "2022-07-10T20:14:14.746Z"
   },
   {
    "duration": 538,
    "start_time": "2022-07-10T20:14:29.398Z"
   },
   {
    "duration": 12,
    "start_time": "2022-07-10T20:16:22.201Z"
   },
   {
    "duration": 7,
    "start_time": "2022-07-10T20:16:33.478Z"
   },
   {
    "duration": 22,
    "start_time": "2022-07-10T20:19:24.504Z"
   },
   {
    "duration": 696,
    "start_time": "2022-07-10T20:19:29.453Z"
   },
   {
    "duration": 330,
    "start_time": "2022-07-10T20:21:37.286Z"
   },
   {
    "duration": 13,
    "start_time": "2022-07-10T20:21:39.791Z"
   },
   {
    "duration": 327,
    "start_time": "2022-07-10T20:21:46.155Z"
   },
   {
    "duration": 13,
    "start_time": "2022-07-10T20:21:47.362Z"
   },
   {
    "duration": 350,
    "start_time": "2022-07-10T20:21:55.276Z"
   },
   {
    "duration": 14,
    "start_time": "2022-07-10T20:22:01.988Z"
   },
   {
    "duration": 7,
    "start_time": "2022-07-10T20:25:50.883Z"
   },
   {
    "duration": 10,
    "start_time": "2022-07-10T20:25:51.395Z"
   },
   {
    "duration": 77,
    "start_time": "2022-07-10T20:26:48.183Z"
   },
   {
    "duration": 47,
    "start_time": "2022-07-10T20:26:52.558Z"
   },
   {
    "duration": 3,
    "start_time": "2022-07-10T20:28:17.918Z"
   },
   {
    "duration": 7,
    "start_time": "2022-07-10T20:28:26.781Z"
   },
   {
    "duration": 10,
    "start_time": "2022-07-10T20:28:27.341Z"
   },
   {
    "duration": 11,
    "start_time": "2022-07-10T20:28:30.718Z"
   },
   {
    "duration": 575,
    "start_time": "2022-07-10T20:28:44.335Z"
   },
   {
    "duration": 12,
    "start_time": "2022-07-10T20:33:38.545Z"
   },
   {
    "duration": 5,
    "start_time": "2022-07-10T20:33:46.315Z"
   },
   {
    "duration": 7,
    "start_time": "2022-07-10T20:33:56.107Z"
   },
   {
    "duration": 10,
    "start_time": "2022-07-10T20:36:02.327Z"
   },
   {
    "duration": 4,
    "start_time": "2022-07-10T20:36:04.250Z"
   },
   {
    "duration": 6,
    "start_time": "2022-07-10T20:36:10.055Z"
   },
   {
    "duration": 1192,
    "start_time": "2022-07-10T20:58:12.457Z"
   },
   {
    "duration": 4,
    "start_time": "2022-07-10T20:58:13.651Z"
   },
   {
    "duration": 51,
    "start_time": "2022-07-10T20:58:13.658Z"
   },
   {
    "duration": 21,
    "start_time": "2022-07-10T20:58:13.711Z"
   },
   {
    "duration": 14,
    "start_time": "2022-07-10T20:58:13.734Z"
   },
   {
    "duration": 19,
    "start_time": "2022-07-10T20:58:13.751Z"
   },
   {
    "duration": 17,
    "start_time": "2022-07-10T20:58:13.772Z"
   },
   {
    "duration": 58,
    "start_time": "2022-07-10T20:58:13.790Z"
   },
   {
    "duration": 3,
    "start_time": "2022-07-10T20:58:13.850Z"
   },
   {
    "duration": 5,
    "start_time": "2022-07-10T20:58:13.856Z"
   },
   {
    "duration": 7,
    "start_time": "2022-07-10T20:58:13.863Z"
   },
   {
    "duration": 8,
    "start_time": "2022-07-10T20:58:13.872Z"
   },
   {
    "duration": 43,
    "start_time": "2022-07-10T20:58:13.882Z"
   },
   {
    "duration": 23,
    "start_time": "2022-07-10T20:58:13.927Z"
   },
   {
    "duration": 7,
    "start_time": "2022-07-10T20:58:13.952Z"
   },
   {
    "duration": 6,
    "start_time": "2022-07-10T20:58:13.961Z"
   },
   {
    "duration": 4,
    "start_time": "2022-07-10T20:58:13.968Z"
   },
   {
    "duration": 58,
    "start_time": "2022-07-10T20:58:13.974Z"
   },
   {
    "duration": 7,
    "start_time": "2022-07-10T20:58:14.034Z"
   },
   {
    "duration": 5,
    "start_time": "2022-07-10T20:58:14.043Z"
   },
   {
    "duration": 23,
    "start_time": "2022-07-10T20:58:14.049Z"
   },
   {
    "duration": 7,
    "start_time": "2022-07-10T20:58:14.074Z"
   },
   {
    "duration": 40,
    "start_time": "2022-07-10T20:58:14.083Z"
   },
   {
    "duration": 5,
    "start_time": "2022-07-10T20:58:14.125Z"
   },
   {
    "duration": 9,
    "start_time": "2022-07-10T20:58:14.132Z"
   },
   {
    "duration": 23,
    "start_time": "2022-07-10T20:58:14.142Z"
   },
   {
    "duration": 20,
    "start_time": "2022-07-10T20:58:14.167Z"
   },
   {
    "duration": 32,
    "start_time": "2022-07-10T20:58:14.191Z"
   },
   {
    "duration": 3,
    "start_time": "2022-07-10T20:58:14.225Z"
   },
   {
    "duration": 10,
    "start_time": "2022-07-10T20:58:14.229Z"
   },
   {
    "duration": 18,
    "start_time": "2022-07-10T20:58:14.241Z"
   },
   {
    "duration": 4,
    "start_time": "2022-07-10T20:58:14.261Z"
   },
   {
    "duration": 18,
    "start_time": "2022-07-10T20:58:14.267Z"
   },
   {
    "duration": 17,
    "start_time": "2022-07-10T20:58:14.287Z"
   },
   {
    "duration": 6,
    "start_time": "2022-07-10T20:58:14.324Z"
   },
   {
    "duration": 6,
    "start_time": "2022-07-10T20:58:14.332Z"
   },
   {
    "duration": 6,
    "start_time": "2022-07-10T20:58:14.340Z"
   },
   {
    "duration": 19,
    "start_time": "2022-07-10T20:58:14.348Z"
   },
   {
    "duration": 6,
    "start_time": "2022-07-10T20:58:14.369Z"
   },
   {
    "duration": 8,
    "start_time": "2022-07-10T20:58:14.377Z"
   },
   {
    "duration": 253,
    "start_time": "2022-07-10T20:58:14.387Z"
   },
   {
    "duration": 25,
    "start_time": "2022-07-10T20:58:14.642Z"
   },
   {
    "duration": 246,
    "start_time": "2022-07-10T20:58:14.669Z"
   },
   {
    "duration": 7,
    "start_time": "2022-07-10T20:58:14.923Z"
   },
   {
    "duration": 9,
    "start_time": "2022-07-10T20:58:14.932Z"
   },
   {
    "duration": 10,
    "start_time": "2022-07-10T20:58:14.942Z"
   },
   {
    "duration": 20,
    "start_time": "2022-07-10T20:58:14.954Z"
   },
   {
    "duration": 4,
    "start_time": "2022-07-10T20:58:14.975Z"
   },
   {
    "duration": 42,
    "start_time": "2022-07-10T20:58:14.981Z"
   },
   {
    "duration": 23,
    "start_time": "2022-07-10T20:58:15.025Z"
   },
   {
    "duration": 5,
    "start_time": "2022-07-10T20:58:15.049Z"
   },
   {
    "duration": 38,
    "start_time": "2022-07-10T20:58:15.056Z"
   },
   {
    "duration": 3,
    "start_time": "2022-07-10T20:58:15.096Z"
   },
   {
    "duration": 6,
    "start_time": "2022-07-10T20:58:15.100Z"
   },
   {
    "duration": 26,
    "start_time": "2022-07-10T20:58:15.108Z"
   },
   {
    "duration": 3,
    "start_time": "2022-07-10T20:58:15.136Z"
   },
   {
    "duration": 17,
    "start_time": "2022-07-10T20:58:15.141Z"
   },
   {
    "duration": 14,
    "start_time": "2022-07-10T20:58:15.159Z"
   },
   {
    "duration": 716,
    "start_time": "2022-07-10T20:58:15.174Z"
   },
   {
    "duration": 20,
    "start_time": "2022-07-10T20:58:15.892Z"
   },
   {
    "duration": 12,
    "start_time": "2022-07-10T20:58:15.915Z"
   },
   {
    "duration": 10,
    "start_time": "2022-07-10T20:58:15.929Z"
   },
   {
    "duration": 6,
    "start_time": "2022-07-10T20:58:15.941Z"
   },
   {
    "duration": 9,
    "start_time": "2022-07-10T20:58:15.948Z"
   },
   {
    "duration": 9,
    "start_time": "2022-07-10T20:58:15.960Z"
   },
   {
    "duration": 9,
    "start_time": "2022-07-10T20:58:15.972Z"
   },
   {
    "duration": 14,
    "start_time": "2022-07-10T20:58:15.983Z"
   },
   {
    "duration": 720,
    "start_time": "2022-07-10T20:58:16.023Z"
   },
   {
    "duration": 27,
    "start_time": "2022-07-10T20:58:16.744Z"
   },
   {
    "duration": 3,
    "start_time": "2022-07-10T20:58:16.772Z"
   },
   {
    "duration": 5,
    "start_time": "2022-07-10T20:58:16.776Z"
   },
   {
    "duration": 49,
    "start_time": "2022-07-10T20:58:16.783Z"
   },
   {
    "duration": 14,
    "start_time": "2022-07-10T20:58:16.834Z"
   },
   {
    "duration": 12,
    "start_time": "2022-07-10T20:58:16.850Z"
   },
   {
    "duration": 305,
    "start_time": "2022-07-10T20:58:16.863Z"
   },
   {
    "duration": 16,
    "start_time": "2022-07-10T20:58:17.170Z"
   },
   {
    "duration": 40,
    "start_time": "2022-07-10T20:58:17.188Z"
   },
   {
    "duration": 4,
    "start_time": "2022-07-10T20:58:17.230Z"
   },
   {
    "duration": 7,
    "start_time": "2022-07-10T20:58:17.236Z"
   },
   {
    "duration": 12,
    "start_time": "2022-07-10T20:58:17.245Z"
   },
   {
    "duration": 15,
    "start_time": "2022-07-10T20:58:17.258Z"
   },
   {
    "duration": 10,
    "start_time": "2022-07-10T20:58:17.282Z"
   },
   {
    "duration": 9,
    "start_time": "2022-07-10T20:58:17.324Z"
   },
   {
    "duration": 31,
    "start_time": "2022-07-10T20:58:17.335Z"
   },
   {
    "duration": 30,
    "start_time": "2022-07-10T20:58:17.369Z"
   },
   {
    "duration": 728,
    "start_time": "2022-07-10T20:58:17.401Z"
   },
   {
    "duration": 620,
    "start_time": "2022-07-10T20:58:18.131Z"
   },
   {
    "duration": 37,
    "start_time": "2022-07-10T20:58:18.752Z"
   },
   {
    "duration": 4,
    "start_time": "2022-07-10T20:58:18.791Z"
   },
   {
    "duration": 29,
    "start_time": "2022-07-10T20:58:18.797Z"
   },
   {
    "duration": 38,
    "start_time": "2022-07-10T20:58:18.828Z"
   },
   {
    "duration": 786,
    "start_time": "2022-07-10T20:58:18.868Z"
   },
   {
    "duration": 24,
    "start_time": "2022-07-10T20:58:19.657Z"
   },
   {
    "duration": 24,
    "start_time": "2022-07-10T20:58:19.683Z"
   },
   {
    "duration": 840,
    "start_time": "2022-07-10T20:58:19.709Z"
   },
   {
    "duration": 22,
    "start_time": "2022-07-10T20:58:20.551Z"
   },
   {
    "duration": 784,
    "start_time": "2022-07-10T20:58:20.575Z"
   },
   {
    "duration": 25,
    "start_time": "2022-07-10T20:58:21.361Z"
   },
   {
    "duration": 6,
    "start_time": "2022-07-10T20:58:21.388Z"
   },
   {
    "duration": 765,
    "start_time": "2022-07-10T20:58:21.396Z"
   },
   {
    "duration": 20,
    "start_time": "2022-07-10T20:58:22.163Z"
   },
   {
    "duration": 38,
    "start_time": "2022-07-10T20:58:22.185Z"
   },
   {
    "duration": 4,
    "start_time": "2022-07-10T20:58:22.226Z"
   },
   {
    "duration": 11,
    "start_time": "2022-07-10T20:58:22.232Z"
   },
   {
    "duration": 556,
    "start_time": "2022-07-10T20:58:22.244Z"
   },
   {
    "duration": 26,
    "start_time": "2022-07-10T20:58:22.801Z"
   },
   {
    "duration": 11,
    "start_time": "2022-07-10T20:58:22.829Z"
   },
   {
    "duration": 4,
    "start_time": "2022-07-10T20:58:22.841Z"
   },
   {
    "duration": 601,
    "start_time": "2022-07-10T20:58:22.846Z"
   },
   {
    "duration": 18,
    "start_time": "2022-07-10T20:58:23.449Z"
   },
   {
    "duration": 488,
    "start_time": "2022-07-10T20:58:23.469Z"
   },
   {
    "duration": 13,
    "start_time": "2022-07-10T20:58:23.959Z"
   },
   {
    "duration": 618,
    "start_time": "2022-07-10T20:58:23.974Z"
   },
   {
    "duration": 13,
    "start_time": "2022-07-10T20:58:24.594Z"
   },
   {
    "duration": 512,
    "start_time": "2022-07-10T20:58:24.624Z"
   },
   {
    "duration": 14,
    "start_time": "2022-07-10T20:58:25.138Z"
   },
   {
    "duration": 9,
    "start_time": "2022-07-10T20:58:25.154Z"
   },
   {
    "duration": 26,
    "start_time": "2022-07-10T20:58:25.165Z"
   },
   {
    "duration": 706,
    "start_time": "2022-07-10T20:58:25.194Z"
   },
   {
    "duration": 378,
    "start_time": "2022-07-10T20:58:25.902Z"
   },
   {
    "duration": 14,
    "start_time": "2022-07-10T20:58:26.282Z"
   },
   {
    "duration": 365,
    "start_time": "2022-07-10T20:58:26.298Z"
   },
   {
    "duration": 13,
    "start_time": "2022-07-10T20:58:26.665Z"
   },
   {
    "duration": 356,
    "start_time": "2022-07-10T20:58:26.680Z"
   },
   {
    "duration": 12,
    "start_time": "2022-07-10T20:58:27.037Z"
   },
   {
    "duration": 8,
    "start_time": "2022-07-10T20:58:27.051Z"
   },
   {
    "duration": 11,
    "start_time": "2022-07-10T20:58:27.061Z"
   },
   {
    "duration": 4,
    "start_time": "2022-07-10T20:58:27.074Z"
   },
   {
    "duration": 601,
    "start_time": "2022-07-10T20:58:27.080Z"
   },
   {
    "duration": 15,
    "start_time": "2022-07-10T20:58:27.684Z"
   },
   {
    "duration": 22,
    "start_time": "2022-07-10T20:58:27.702Z"
   },
   {
    "duration": 7,
    "start_time": "2022-07-10T20:58:27.726Z"
   },
   {
    "duration": 13,
    "start_time": "2022-07-10T20:58:27.735Z"
   },
   {
    "duration": 5,
    "start_time": "2022-07-10T20:58:27.750Z"
   },
   {
    "duration": 8,
    "start_time": "2022-07-10T20:58:27.757Z"
   },
   {
    "duration": 1548,
    "start_time": "2023-01-27T18:55:24.965Z"
   },
   {
    "duration": 3,
    "start_time": "2023-01-27T18:55:26.516Z"
   },
   {
    "duration": 120,
    "start_time": "2023-01-27T18:55:26.520Z"
   },
   {
    "duration": 20,
    "start_time": "2023-01-27T18:55:26.642Z"
   },
   {
    "duration": 17,
    "start_time": "2023-01-27T18:55:26.665Z"
   },
   {
    "duration": 23,
    "start_time": "2023-01-27T18:55:26.684Z"
   },
   {
    "duration": 43,
    "start_time": "2023-01-27T18:55:26.709Z"
   },
   {
    "duration": 34,
    "start_time": "2023-01-27T18:55:26.754Z"
   },
   {
    "duration": 4,
    "start_time": "2023-01-27T18:55:26.789Z"
   },
   {
    "duration": 8,
    "start_time": "2023-01-27T18:55:26.795Z"
   },
   {
    "duration": 7,
    "start_time": "2023-01-27T18:55:26.805Z"
   },
   {
    "duration": 7,
    "start_time": "2023-01-27T18:55:26.839Z"
   },
   {
    "duration": 17,
    "start_time": "2023-01-27T18:55:26.848Z"
   },
   {
    "duration": 36,
    "start_time": "2023-01-27T18:55:26.871Z"
   },
   {
    "duration": 6,
    "start_time": "2023-01-27T18:55:26.909Z"
   },
   {
    "duration": 4,
    "start_time": "2023-01-27T18:55:26.941Z"
   },
   {
    "duration": 7,
    "start_time": "2023-01-27T18:55:26.947Z"
   },
   {
    "duration": 25,
    "start_time": "2023-01-27T18:55:26.956Z"
   },
   {
    "duration": 7,
    "start_time": "2023-01-27T18:55:26.984Z"
   },
   {
    "duration": 8,
    "start_time": "2023-01-27T18:55:26.993Z"
   },
   {
    "duration": 51,
    "start_time": "2023-01-27T18:55:27.004Z"
   },
   {
    "duration": 12,
    "start_time": "2023-01-27T18:55:27.056Z"
   },
   {
    "duration": 15,
    "start_time": "2023-01-27T18:55:27.070Z"
   },
   {
    "duration": 26,
    "start_time": "2023-01-27T18:55:27.087Z"
   },
   {
    "duration": 17,
    "start_time": "2023-01-27T18:55:27.115Z"
   },
   {
    "duration": 38,
    "start_time": "2023-01-27T18:55:27.135Z"
   },
   {
    "duration": 35,
    "start_time": "2023-01-27T18:55:27.175Z"
   },
   {
    "duration": 13,
    "start_time": "2023-01-27T18:55:27.212Z"
   },
   {
    "duration": 12,
    "start_time": "2023-01-27T18:55:27.228Z"
   },
   {
    "duration": 16,
    "start_time": "2023-01-27T18:55:27.242Z"
   },
   {
    "duration": 16,
    "start_time": "2023-01-27T18:55:27.260Z"
   },
   {
    "duration": 6,
    "start_time": "2023-01-27T18:55:27.278Z"
   },
   {
    "duration": 12,
    "start_time": "2023-01-27T18:55:27.286Z"
   },
   {
    "duration": 25,
    "start_time": "2023-01-27T18:55:27.300Z"
   },
   {
    "duration": 7,
    "start_time": "2023-01-27T18:55:27.341Z"
   },
   {
    "duration": 27,
    "start_time": "2023-01-27T18:55:27.350Z"
   },
   {
    "duration": 18,
    "start_time": "2023-01-27T18:55:27.379Z"
   },
   {
    "duration": 36,
    "start_time": "2023-01-27T18:55:27.400Z"
   },
   {
    "duration": 17,
    "start_time": "2023-01-27T18:55:27.439Z"
   },
   {
    "duration": 14,
    "start_time": "2023-01-27T18:55:27.458Z"
   },
   {
    "duration": 255,
    "start_time": "2023-01-27T18:55:27.489Z"
   },
   {
    "duration": 26,
    "start_time": "2023-01-27T18:55:27.746Z"
   },
   {
    "duration": 263,
    "start_time": "2023-01-27T18:55:27.774Z"
   },
   {
    "duration": 6,
    "start_time": "2023-01-27T18:55:28.039Z"
   },
   {
    "duration": 27,
    "start_time": "2023-01-27T18:55:28.046Z"
   },
   {
    "duration": 30,
    "start_time": "2023-01-27T18:55:28.075Z"
   },
   {
    "duration": 27,
    "start_time": "2023-01-27T18:55:28.107Z"
   },
   {
    "duration": 9,
    "start_time": "2023-01-27T18:55:28.137Z"
   },
   {
    "duration": 52,
    "start_time": "2023-01-27T18:55:28.148Z"
   },
   {
    "duration": 37,
    "start_time": "2023-01-27T18:55:28.202Z"
   },
   {
    "duration": 15,
    "start_time": "2023-01-27T18:55:28.241Z"
   },
   {
    "duration": 32,
    "start_time": "2023-01-27T18:55:28.258Z"
   },
   {
    "duration": 4,
    "start_time": "2023-01-27T18:55:28.292Z"
   },
   {
    "duration": 19,
    "start_time": "2023-01-27T18:55:28.297Z"
   },
   {
    "duration": 29,
    "start_time": "2023-01-27T18:55:28.318Z"
   },
   {
    "duration": 20,
    "start_time": "2023-01-27T18:55:28.349Z"
   },
   {
    "duration": 33,
    "start_time": "2023-01-27T18:55:28.371Z"
   },
   {
    "duration": 52,
    "start_time": "2023-01-27T18:55:28.405Z"
   },
   {
    "duration": 790,
    "start_time": "2023-01-27T18:55:28.459Z"
   },
   {
    "duration": 13,
    "start_time": "2023-01-27T18:55:29.251Z"
   },
   {
    "duration": 18,
    "start_time": "2023-01-27T18:55:29.266Z"
   },
   {
    "duration": 23,
    "start_time": "2023-01-27T18:55:29.286Z"
   },
   {
    "duration": 31,
    "start_time": "2023-01-27T18:55:29.311Z"
   },
   {
    "duration": 24,
    "start_time": "2023-01-27T18:55:29.344Z"
   },
   {
    "duration": 28,
    "start_time": "2023-01-27T18:55:29.370Z"
   },
   {
    "duration": 14,
    "start_time": "2023-01-27T18:55:29.401Z"
   },
   {
    "duration": 25,
    "start_time": "2023-01-27T18:55:29.417Z"
   },
   {
    "duration": 750,
    "start_time": "2023-01-27T18:55:29.444Z"
   },
   {
    "duration": 24,
    "start_time": "2023-01-27T18:55:30.196Z"
   },
   {
    "duration": 5,
    "start_time": "2023-01-27T18:55:30.222Z"
   },
   {
    "duration": 25,
    "start_time": "2023-01-27T18:55:30.241Z"
   },
   {
    "duration": 38,
    "start_time": "2023-01-27T18:55:30.269Z"
   },
   {
    "duration": 19,
    "start_time": "2023-01-27T18:55:30.309Z"
   },
   {
    "duration": 42,
    "start_time": "2023-01-27T18:55:30.330Z"
   },
   {
    "duration": 287,
    "start_time": "2023-01-27T18:55:30.374Z"
   },
   {
    "duration": 18,
    "start_time": "2023-01-27T18:55:30.663Z"
   },
   {
    "duration": 69,
    "start_time": "2023-01-27T18:55:30.684Z"
   },
   {
    "duration": 49,
    "start_time": "2023-01-27T18:55:30.755Z"
   },
   {
    "duration": 39,
    "start_time": "2023-01-27T18:55:30.806Z"
   },
   {
    "duration": 43,
    "start_time": "2023-01-27T18:55:30.848Z"
   },
   {
    "duration": 45,
    "start_time": "2023-01-27T18:55:30.893Z"
   },
   {
    "duration": 40,
    "start_time": "2023-01-27T18:55:30.940Z"
   },
   {
    "duration": 44,
    "start_time": "2023-01-27T18:55:30.983Z"
   },
   {
    "duration": 191,
    "start_time": "2023-01-27T18:55:31.029Z"
   },
   {
    "duration": 34,
    "start_time": "2023-01-27T18:55:31.223Z"
   },
   {
    "duration": 651,
    "start_time": "2023-01-27T18:55:31.259Z"
   },
   {
    "duration": 638,
    "start_time": "2023-01-27T18:55:31.913Z"
   },
   {
    "duration": 39,
    "start_time": "2023-01-27T18:55:32.554Z"
   },
   {
    "duration": 5,
    "start_time": "2023-01-27T18:55:32.595Z"
   },
   {
    "duration": 12,
    "start_time": "2023-01-27T18:55:32.603Z"
   },
   {
    "duration": 25,
    "start_time": "2023-01-27T18:55:32.640Z"
   },
   {
    "duration": 824,
    "start_time": "2023-01-27T18:55:32.667Z"
   },
   {
    "duration": 23,
    "start_time": "2023-01-27T18:55:33.493Z"
   },
   {
    "duration": 28,
    "start_time": "2023-01-27T18:55:33.517Z"
   },
   {
    "duration": 793,
    "start_time": "2023-01-27T18:55:33.547Z"
   },
   {
    "duration": 22,
    "start_time": "2023-01-27T18:55:34.342Z"
   },
   {
    "duration": 825,
    "start_time": "2023-01-27T18:55:34.366Z"
   },
   {
    "duration": 21,
    "start_time": "2023-01-27T18:55:35.193Z"
   },
   {
    "duration": 122,
    "start_time": "2023-01-27T18:55:35.217Z"
   },
   {
    "duration": 783,
    "start_time": "2023-01-27T18:55:35.340Z"
   },
   {
    "duration": 31,
    "start_time": "2023-01-27T18:55:36.124Z"
   },
   {
    "duration": 15,
    "start_time": "2023-01-27T18:55:36.157Z"
   },
   {
    "duration": 6,
    "start_time": "2023-01-27T18:55:36.174Z"
   },
   {
    "duration": 11,
    "start_time": "2023-01-27T18:55:36.182Z"
   },
   {
    "duration": 634,
    "start_time": "2023-01-27T18:55:36.195Z"
   },
   {
    "duration": 16,
    "start_time": "2023-01-27T18:55:36.839Z"
   },
   {
    "duration": 19,
    "start_time": "2023-01-27T18:55:36.857Z"
   },
   {
    "duration": 7,
    "start_time": "2023-01-27T18:55:36.878Z"
   },
   {
    "duration": 631,
    "start_time": "2023-01-27T18:55:36.887Z"
   },
   {
    "duration": 27,
    "start_time": "2023-01-27T18:55:37.520Z"
   },
   {
    "duration": 585,
    "start_time": "2023-01-27T18:55:37.549Z"
   },
   {
    "duration": 13,
    "start_time": "2023-01-27T18:55:38.136Z"
   },
   {
    "duration": 503,
    "start_time": "2023-01-27T18:55:38.151Z"
   },
   {
    "duration": 13,
    "start_time": "2023-01-27T18:55:38.656Z"
   },
   {
    "duration": 572,
    "start_time": "2023-01-27T18:55:38.671Z"
   },
   {
    "duration": 12,
    "start_time": "2023-01-27T18:55:39.244Z"
   },
   {
    "duration": 26,
    "start_time": "2023-01-27T18:55:39.258Z"
   },
   {
    "duration": 25,
    "start_time": "2023-01-27T18:55:39.285Z"
   },
   {
    "duration": 721,
    "start_time": "2023-01-27T18:55:39.312Z"
   },
   {
    "duration": 353,
    "start_time": "2023-01-27T18:55:40.039Z"
   },
   {
    "duration": 12,
    "start_time": "2023-01-27T18:55:40.394Z"
   },
   {
    "duration": 360,
    "start_time": "2023-01-27T18:55:40.413Z"
   },
   {
    "duration": 12,
    "start_time": "2023-01-27T18:55:40.775Z"
   },
   {
    "duration": 361,
    "start_time": "2023-01-27T18:55:40.788Z"
   },
   {
    "duration": 13,
    "start_time": "2023-01-27T18:55:41.151Z"
   },
   {
    "duration": 7,
    "start_time": "2023-01-27T18:55:41.166Z"
   },
   {
    "duration": 17,
    "start_time": "2023-01-27T18:55:41.175Z"
   },
   {
    "duration": 8,
    "start_time": "2023-01-27T18:55:41.194Z"
   },
   {
    "duration": 610,
    "start_time": "2023-01-27T18:55:41.204Z"
   },
   {
    "duration": 11,
    "start_time": "2023-01-27T18:55:41.815Z"
   },
   {
    "duration": 113,
    "start_time": "2023-01-27T18:55:41.840Z"
   },
   {
    "duration": 0,
    "start_time": "2023-01-27T18:55:41.955Z"
   },
   {
    "duration": 0,
    "start_time": "2023-01-27T18:55:41.957Z"
   },
   {
    "duration": 0,
    "start_time": "2023-01-27T18:55:41.958Z"
   },
   {
    "duration": 0,
    "start_time": "2023-01-27T18:55:41.960Z"
   }
  ],
  "kernelspec": {
   "display_name": "Python 3 (ipykernel)",
   "language": "python",
   "name": "python3"
  },
  "language_info": {
   "codemirror_mode": {
    "name": "ipython",
    "version": 3
   },
   "file_extension": ".py",
   "mimetype": "text/x-python",
   "name": "python",
   "nbconvert_exporter": "python",
   "pygments_lexer": "ipython3",
   "version": "3.9.13"
  },
  "toc": {
   "base_numbering": 1,
   "nav_menu": {},
   "number_sections": true,
   "sideBar": true,
   "skip_h1_title": true,
   "title_cell": "Table of Contents",
   "title_sidebar": "Contents",
   "toc_cell": false,
   "toc_position": {
    "height": "calc(100% - 180px)",
    "left": "10px",
    "top": "150px",
    "width": "245.375px"
   },
   "toc_section_display": true,
   "toc_window_display": true
  }
 },
 "nbformat": 4,
 "nbformat_minor": 2
}
