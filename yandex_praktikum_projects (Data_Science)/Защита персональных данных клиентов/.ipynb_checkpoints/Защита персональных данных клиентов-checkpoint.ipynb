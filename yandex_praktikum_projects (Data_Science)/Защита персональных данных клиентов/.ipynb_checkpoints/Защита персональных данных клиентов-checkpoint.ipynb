{
 "cells": [
  {
   "cell_type": "markdown",
   "metadata": {
    "toc": true
   },
   "source": [
    "<h1>Содержание<span class=\"tocSkip\"></span></h1>\n",
    "<div class=\"toc\"><ul class=\"toc-item\"><li><span><a href=\"#Загрузка-данных\" data-toc-modified-id=\"Загрузка-данных-1\"><span class=\"toc-item-num\">1&nbsp;&nbsp;</span>Загрузка данных</a></span><ul class=\"toc-item\"><li><span><a href=\"#Открытие-файла\" data-toc-modified-id=\"Открытие-файла-1.1\"><span class=\"toc-item-num\">1.1&nbsp;&nbsp;</span>Открытие файла</a></span></li><li><span><a href=\"#Пропуски-и-дубликаты\" data-toc-modified-id=\"Пропуски-и-дубликаты-1.2\"><span class=\"toc-item-num\">1.2&nbsp;&nbsp;</span>Пропуски и дубликаты</a></span></li><li><span><a href=\"#Изучение-данных\" data-toc-modified-id=\"Изучение-данных-1.3\"><span class=\"toc-item-num\">1.3&nbsp;&nbsp;</span>Изучение данных</a></span><ul class=\"toc-item\"><li><span><a href=\"#Пол\" data-toc-modified-id=\"Пол-1.3.1\"><span class=\"toc-item-num\">1.3.1&nbsp;&nbsp;</span>Пол</a></span></li><li><span><a href=\"#Возраст\" data-toc-modified-id=\"Возраст-1.3.2\"><span class=\"toc-item-num\">1.3.2&nbsp;&nbsp;</span>Возраст</a></span></li><li><span><a href=\"#Количество-членов-семьи.\" data-toc-modified-id=\"Количество-членов-семьи.-1.3.3\"><span class=\"toc-item-num\">1.3.3&nbsp;&nbsp;</span>Количество членов семьи.</a></span></li><li><span><a href=\"#Зарплата\" data-toc-modified-id=\"Зарплата-1.3.4\"><span class=\"toc-item-num\">1.3.4&nbsp;&nbsp;</span>Зарплата</a></span></li><li><span><a href=\"#Корреляция-признаков\" data-toc-modified-id=\"Корреляция-признаков-1.3.5\"><span class=\"toc-item-num\">1.3.5&nbsp;&nbsp;</span>Корреляция признаков</a></span></li><li><span><a href=\"#Изменение-типа-данных\" data-toc-modified-id=\"Изменение-типа-данных-1.3.6\"><span class=\"toc-item-num\">1.3.6&nbsp;&nbsp;</span>Изменение типа данных</a></span></li><li><span><a href=\"#Вывод\" data-toc-modified-id=\"Вывод-1.3.7\"><span class=\"toc-item-num\">1.3.7&nbsp;&nbsp;</span>Вывод</a></span></li></ul></li></ul></li><li><span><a href=\"#Умножение-матриц\" data-toc-modified-id=\"Умножение-матриц-2\"><span class=\"toc-item-num\">2&nbsp;&nbsp;</span>Умножение матриц</a></span><ul class=\"toc-item\"><li><span><a href=\"#Условие\" data-toc-modified-id=\"Условие-2.1\"><span class=\"toc-item-num\">2.1&nbsp;&nbsp;</span>Условие</a></span></li><li><span><a href=\"#Решение\" data-toc-modified-id=\"Решение-2.2\"><span class=\"toc-item-num\">2.2&nbsp;&nbsp;</span>Решение</a></span></li></ul></li><li><span><a href=\"#Алгоритм-преобразования\" data-toc-modified-id=\"Алгоритм-преобразования-3\"><span class=\"toc-item-num\">3&nbsp;&nbsp;</span>Алгоритм преобразования</a></span></li><li><span><a href=\"#Проверка-алгоритма\" data-toc-modified-id=\"Проверка-алгоритма-4\"><span class=\"toc-item-num\">4&nbsp;&nbsp;</span>Проверка алгоритма</a></span></li><li><span><a href=\"#Вывод\" data-toc-modified-id=\"Вывод-5\"><span class=\"toc-item-num\">5&nbsp;&nbsp;</span>Вывод</a></span></li><li><span><a href=\"#Чек-лист-проверки\" data-toc-modified-id=\"Чек-лист-проверки-6\"><span class=\"toc-item-num\">6&nbsp;&nbsp;</span>Чек-лист проверки</a></span></li></ul></div>"
   ]
  },
  {
   "cell_type": "markdown",
   "metadata": {},
   "source": [
    "# Защита персональных данных клиентов"
   ]
  },
  {
   "cell_type": "markdown",
   "metadata": {},
   "source": [
    "Вам нужно защитить данные клиентов страховой компании «Хоть потоп». Разработайте такой метод преобразования данных, чтобы по ним было сложно восстановить персональную информацию. Обоснуйте корректность его работы.\n",
    "\n",
    "Нужно защитить данные, чтобы при преобразовании качество моделей машинного обучения не ухудшилось. Подбирать наилучшую модель не требуется."
   ]
  },
  {
   "cell_type": "markdown",
   "metadata": {},
   "source": [
    "## Загрузка данных"
   ]
  },
  {
   "cell_type": "markdown",
   "metadata": {},
   "source": [
    "### Открытие файла"
   ]
  },
  {
   "cell_type": "code",
   "execution_count": 1,
   "metadata": {},
   "outputs": [],
   "source": [
    "import pandas as pd\n",
    "import numpy as np\n",
    "\n",
    "from sklearn.linear_model import LinearRegression as LR\n",
    "from sklearn.model_selection import train_test_split as tts\n",
    "from sklearn.metrics import r2_score as r2\n",
    "\n",
    "import matplotlib.pyplot as plt\n",
    "import seaborn as sns\n",
    "\n",
    "s = 100500"
   ]
  },
  {
   "cell_type": "code",
   "execution_count": 2,
   "metadata": {},
   "outputs": [
    {
     "data": {
      "text/plain": [
       "(5000, 5)"
      ]
     },
     "execution_count": 2,
     "metadata": {},
     "output_type": "execute_result"
    }
   ],
   "source": [
    "df = pd.read_csv('/datasets/insurance.csv')\n",
    "df.shape"
   ]
  },
  {
   "cell_type": "code",
   "execution_count": 3,
   "metadata": {},
   "outputs": [
    {
     "data": {
      "text/html": [
       "<div>\n",
       "<style scoped>\n",
       "    .dataframe tbody tr th:only-of-type {\n",
       "        vertical-align: middle;\n",
       "    }\n",
       "\n",
       "    .dataframe tbody tr th {\n",
       "        vertical-align: top;\n",
       "    }\n",
       "\n",
       "    .dataframe thead th {\n",
       "        text-align: right;\n",
       "    }\n",
       "</style>\n",
       "<table border=\"1\" class=\"dataframe\">\n",
       "  <thead>\n",
       "    <tr style=\"text-align: right;\">\n",
       "      <th></th>\n",
       "      <th>Пол</th>\n",
       "      <th>Возраст</th>\n",
       "      <th>Зарплата</th>\n",
       "      <th>Члены семьи</th>\n",
       "      <th>Страховые выплаты</th>\n",
       "    </tr>\n",
       "  </thead>\n",
       "  <tbody>\n",
       "    <tr>\n",
       "      <th>count</th>\n",
       "      <td>5000.000000</td>\n",
       "      <td>5000.000000</td>\n",
       "      <td>5000.000000</td>\n",
       "      <td>5000.000000</td>\n",
       "      <td>5000.000000</td>\n",
       "    </tr>\n",
       "    <tr>\n",
       "      <th>mean</th>\n",
       "      <td>0.499000</td>\n",
       "      <td>30.952800</td>\n",
       "      <td>39916.360000</td>\n",
       "      <td>1.194200</td>\n",
       "      <td>0.148000</td>\n",
       "    </tr>\n",
       "    <tr>\n",
       "      <th>std</th>\n",
       "      <td>0.500049</td>\n",
       "      <td>8.440807</td>\n",
       "      <td>9900.083569</td>\n",
       "      <td>1.091387</td>\n",
       "      <td>0.463183</td>\n",
       "    </tr>\n",
       "    <tr>\n",
       "      <th>min</th>\n",
       "      <td>0.000000</td>\n",
       "      <td>18.000000</td>\n",
       "      <td>5300.000000</td>\n",
       "      <td>0.000000</td>\n",
       "      <td>0.000000</td>\n",
       "    </tr>\n",
       "    <tr>\n",
       "      <th>25%</th>\n",
       "      <td>0.000000</td>\n",
       "      <td>24.000000</td>\n",
       "      <td>33300.000000</td>\n",
       "      <td>0.000000</td>\n",
       "      <td>0.000000</td>\n",
       "    </tr>\n",
       "    <tr>\n",
       "      <th>50%</th>\n",
       "      <td>0.000000</td>\n",
       "      <td>30.000000</td>\n",
       "      <td>40200.000000</td>\n",
       "      <td>1.000000</td>\n",
       "      <td>0.000000</td>\n",
       "    </tr>\n",
       "    <tr>\n",
       "      <th>75%</th>\n",
       "      <td>1.000000</td>\n",
       "      <td>37.000000</td>\n",
       "      <td>46600.000000</td>\n",
       "      <td>2.000000</td>\n",
       "      <td>0.000000</td>\n",
       "    </tr>\n",
       "    <tr>\n",
       "      <th>max</th>\n",
       "      <td>1.000000</td>\n",
       "      <td>65.000000</td>\n",
       "      <td>79000.000000</td>\n",
       "      <td>6.000000</td>\n",
       "      <td>5.000000</td>\n",
       "    </tr>\n",
       "  </tbody>\n",
       "</table>\n",
       "</div>"
      ],
      "text/plain": [
       "               Пол      Возраст      Зарплата  Члены семьи  Страховые выплаты\n",
       "count  5000.000000  5000.000000   5000.000000  5000.000000        5000.000000\n",
       "mean      0.499000    30.952800  39916.360000     1.194200           0.148000\n",
       "std       0.500049     8.440807   9900.083569     1.091387           0.463183\n",
       "min       0.000000    18.000000   5300.000000     0.000000           0.000000\n",
       "25%       0.000000    24.000000  33300.000000     0.000000           0.000000\n",
       "50%       0.000000    30.000000  40200.000000     1.000000           0.000000\n",
       "75%       1.000000    37.000000  46600.000000     2.000000           0.000000\n",
       "max       1.000000    65.000000  79000.000000     6.000000           5.000000"
      ]
     },
     "execution_count": 3,
     "metadata": {},
     "output_type": "execute_result"
    }
   ],
   "source": [
    "df.describe()"
   ]
  },
  {
   "cell_type": "code",
   "execution_count": 4,
   "metadata": {},
   "outputs": [
    {
     "name": "stdout",
     "output_type": "stream",
     "text": [
      "<class 'pandas.core.frame.DataFrame'>\n",
      "RangeIndex: 5000 entries, 0 to 4999\n",
      "Data columns (total 5 columns):\n",
      " #   Column             Non-Null Count  Dtype  \n",
      "---  ------             --------------  -----  \n",
      " 0   Пол                5000 non-null   int64  \n",
      " 1   Возраст            5000 non-null   float64\n",
      " 2   Зарплата           5000 non-null   float64\n",
      " 3   Члены семьи        5000 non-null   int64  \n",
      " 4   Страховые выплаты  5000 non-null   int64  \n",
      "dtypes: float64(2), int64(3)\n",
      "memory usage: 195.4 KB\n"
     ]
    }
   ],
   "source": [
    "df.info()"
   ]
  },
  {
   "cell_type": "markdown",
   "metadata": {},
   "source": [
    "<div class=\"alert alert-info\">\n",
    "<h2> Комментарий студента<a class=\"tocSkip\"></h2>\n",
    "Добавил момет про типы данных\n",
    "</div>"
   ]
  },
  {
   "cell_type": "markdown",
   "metadata": {},
   "source": [
    "Возраст и зарплата отсятся к типу float, который являться давольно затратным. Да и int64 можно заменить на int8, это позволит сэкономить бльшое количество места. Хоть сейчас выборка и не большая, но для больших выборок это особо актуально.\n",
    "\n",
    "Поэтому после исследования столбцов я собираюсь приобразовать данные в int8, если выяснится, что это не повредит данным."
   ]
  },
  {
   "cell_type": "markdown",
   "metadata": {},
   "source": [
    "Данные выглядят вполне адекватно."
   ]
  },
  {
   "cell_type": "code",
   "execution_count": 5,
   "metadata": {},
   "outputs": [
    {
     "data": {
      "text/html": [
       "<div>\n",
       "<style scoped>\n",
       "    .dataframe tbody tr th:only-of-type {\n",
       "        vertical-align: middle;\n",
       "    }\n",
       "\n",
       "    .dataframe tbody tr th {\n",
       "        vertical-align: top;\n",
       "    }\n",
       "\n",
       "    .dataframe thead th {\n",
       "        text-align: right;\n",
       "    }\n",
       "</style>\n",
       "<table border=\"1\" class=\"dataframe\">\n",
       "  <thead>\n",
       "    <tr style=\"text-align: right;\">\n",
       "      <th></th>\n",
       "      <th>Пол</th>\n",
       "      <th>Возраст</th>\n",
       "      <th>Зарплата</th>\n",
       "      <th>Члены семьи</th>\n",
       "      <th>Страховые выплаты</th>\n",
       "    </tr>\n",
       "  </thead>\n",
       "  <tbody>\n",
       "    <tr>\n",
       "      <th>3600</th>\n",
       "      <td>1</td>\n",
       "      <td>43.0</td>\n",
       "      <td>50300.0</td>\n",
       "      <td>0</td>\n",
       "      <td>1</td>\n",
       "    </tr>\n",
       "    <tr>\n",
       "      <th>4844</th>\n",
       "      <td>0</td>\n",
       "      <td>28.0</td>\n",
       "      <td>44800.0</td>\n",
       "      <td>1</td>\n",
       "      <td>0</td>\n",
       "    </tr>\n",
       "    <tr>\n",
       "      <th>4752</th>\n",
       "      <td>0</td>\n",
       "      <td>19.0</td>\n",
       "      <td>34800.0</td>\n",
       "      <td>1</td>\n",
       "      <td>0</td>\n",
       "    </tr>\n",
       "  </tbody>\n",
       "</table>\n",
       "</div>"
      ],
      "text/plain": [
       "      Пол  Возраст  Зарплата  Члены семьи  Страховые выплаты\n",
       "3600    1     43.0   50300.0            0                  1\n",
       "4844    0     28.0   44800.0            1                  0\n",
       "4752    0     19.0   34800.0            1                  0"
      ]
     },
     "execution_count": 5,
     "metadata": {},
     "output_type": "execute_result"
    }
   ],
   "source": [
    "df.sample(3)"
   ]
  },
  {
   "cell_type": "markdown",
   "metadata": {},
   "source": [
    "### Пропуски и дубликаты"
   ]
  },
  {
   "cell_type": "code",
   "execution_count": 6,
   "metadata": {},
   "outputs": [
    {
     "data": {
      "text/plain": [
       "Пол                  0.0\n",
       "Возраст              0.0\n",
       "Зарплата             0.0\n",
       "Члены семьи          0.0\n",
       "Страховые выплаты    0.0\n",
       "dtype: float64"
      ]
     },
     "execution_count": 6,
     "metadata": {},
     "output_type": "execute_result"
    }
   ],
   "source": [
    "df.isna().mean().sort_values(ascending=False)"
   ]
  },
  {
   "cell_type": "markdown",
   "metadata": {},
   "source": [
    "Пропуски отсуствуют."
   ]
  },
  {
   "cell_type": "code",
   "execution_count": 7,
   "metadata": {},
   "outputs": [
    {
     "name": "stdout",
     "output_type": "stream",
     "text": [
      "Количество дубликатов: 153\n",
      "Доля от дата сета: 3.06 %\n"
     ]
    },
    {
     "data": {
      "text/html": [
       "<div>\n",
       "<style scoped>\n",
       "    .dataframe tbody tr th:only-of-type {\n",
       "        vertical-align: middle;\n",
       "    }\n",
       "\n",
       "    .dataframe tbody tr th {\n",
       "        vertical-align: top;\n",
       "    }\n",
       "\n",
       "    .dataframe thead th {\n",
       "        text-align: right;\n",
       "    }\n",
       "</style>\n",
       "<table border=\"1\" class=\"dataframe\">\n",
       "  <thead>\n",
       "    <tr style=\"text-align: right;\">\n",
       "      <th></th>\n",
       "      <th>Пол</th>\n",
       "      <th>Возраст</th>\n",
       "      <th>Зарплата</th>\n",
       "      <th>Члены семьи</th>\n",
       "      <th>Страховые выплаты</th>\n",
       "    </tr>\n",
       "  </thead>\n",
       "  <tbody>\n",
       "    <tr>\n",
       "      <th>2955</th>\n",
       "      <td>1</td>\n",
       "      <td>32.0</td>\n",
       "      <td>21600.0</td>\n",
       "      <td>0</td>\n",
       "      <td>0</td>\n",
       "    </tr>\n",
       "    <tr>\n",
       "      <th>2988</th>\n",
       "      <td>1</td>\n",
       "      <td>32.0</td>\n",
       "      <td>21600.0</td>\n",
       "      <td>0</td>\n",
       "      <td>0</td>\n",
       "    </tr>\n",
       "    <tr>\n",
       "      <th>361</th>\n",
       "      <td>0</td>\n",
       "      <td>50.0</td>\n",
       "      <td>24700.0</td>\n",
       "      <td>1</td>\n",
       "      <td>2</td>\n",
       "    </tr>\n",
       "    <tr>\n",
       "      <th>2869</th>\n",
       "      <td>0</td>\n",
       "      <td>50.0</td>\n",
       "      <td>24700.0</td>\n",
       "      <td>1</td>\n",
       "      <td>2</td>\n",
       "    </tr>\n",
       "    <tr>\n",
       "      <th>333</th>\n",
       "      <td>0</td>\n",
       "      <td>32.0</td>\n",
       "      <td>25600.0</td>\n",
       "      <td>1</td>\n",
       "      <td>0</td>\n",
       "    </tr>\n",
       "    <tr>\n",
       "      <th>4230</th>\n",
       "      <td>0</td>\n",
       "      <td>32.0</td>\n",
       "      <td>25600.0</td>\n",
       "      <td>1</td>\n",
       "      <td>0</td>\n",
       "    </tr>\n",
       "    <tr>\n",
       "      <th>1378</th>\n",
       "      <td>0</td>\n",
       "      <td>36.0</td>\n",
       "      <td>26400.0</td>\n",
       "      <td>0</td>\n",
       "      <td>0</td>\n",
       "    </tr>\n",
       "    <tr>\n",
       "      <th>2723</th>\n",
       "      <td>0</td>\n",
       "      <td>36.0</td>\n",
       "      <td>26400.0</td>\n",
       "      <td>0</td>\n",
       "      <td>0</td>\n",
       "    </tr>\n",
       "    <tr>\n",
       "      <th>1002</th>\n",
       "      <td>1</td>\n",
       "      <td>34.0</td>\n",
       "      <td>26900.0</td>\n",
       "      <td>0</td>\n",
       "      <td>0</td>\n",
       "    </tr>\n",
       "    <tr>\n",
       "      <th>1140</th>\n",
       "      <td>1</td>\n",
       "      <td>34.0</td>\n",
       "      <td>26900.0</td>\n",
       "      <td>0</td>\n",
       "      <td>0</td>\n",
       "    </tr>\n",
       "  </tbody>\n",
       "</table>\n",
       "</div>"
      ],
      "text/plain": [
       "      Пол  Возраст  Зарплата  Члены семьи  Страховые выплаты\n",
       "2955    1     32.0   21600.0            0                  0\n",
       "2988    1     32.0   21600.0            0                  0\n",
       "361     0     50.0   24700.0            1                  2\n",
       "2869    0     50.0   24700.0            1                  2\n",
       "333     0     32.0   25600.0            1                  0\n",
       "4230    0     32.0   25600.0            1                  0\n",
       "1378    0     36.0   26400.0            0                  0\n",
       "2723    0     36.0   26400.0            0                  0\n",
       "1002    1     34.0   26900.0            0                  0\n",
       "1140    1     34.0   26900.0            0                  0"
      ]
     },
     "execution_count": 7,
     "metadata": {},
     "output_type": "execute_result"
    }
   ],
   "source": [
    "print('Количество дубликатов:', df.duplicated().sum())\n",
    "print('Доля от дата сета:', df.duplicated().sum()/df.shape[0]*100,'%')\n",
    "df[df.duplicated(keep=False)==True].sort_values(by='Зарплата').head(10)"
   ]
  },
  {
   "cell_type": "markdown",
   "metadata": {},
   "source": [
    "Дубликатов порядка 3% от всех данных, но так как данные не слишком вариативные, то такое количество вполне допустипо - оставим как есть. К тому же я считаю, что модели будет полезно обучаться на таких данных, так как дубликаты могут встречаться и в будущем, это нормально."
   ]
  },
  {
   "cell_type": "markdown",
   "metadata": {},
   "source": [
    "### Изучение данных"
   ]
  },
  {
   "cell_type": "code",
   "execution_count": 8,
   "metadata": {},
   "outputs": [],
   "source": [
    "ags = ['count','mean']\n",
    "def group(S):\n",
    "    return df.groupby(S)['Страховые выплаты'].agg(ags)"
   ]
  },
  {
   "cell_type": "code",
   "execution_count": 9,
   "metadata": {},
   "outputs": [
    {
     "name": "stdout",
     "output_type": "stream",
     "text": [
      "Процент страховых выплат:\n"
     ]
    },
    {
     "data": {
      "text/plain": [
       "0    88.72\n",
       "1     8.46\n",
       "2     2.30\n",
       "3     0.36\n",
       "4     0.14\n",
       "5     0.02\n",
       "Name: Страховые выплаты, dtype: float64"
      ]
     },
     "execution_count": 9,
     "metadata": {},
     "output_type": "execute_result"
    }
   ],
   "source": [
    "print('Процент страховых выплат:')\n",
    "df['Страховые выплаты'].value_counts()/df.shape[0]*100"
   ]
  },
  {
   "cell_type": "markdown",
   "metadata": {},
   "source": [
    "88.72% клиентов не получали ни одной выплаты."
   ]
  },
  {
   "cell_type": "markdown",
   "metadata": {},
   "source": [
    "#### Пол"
   ]
  },
  {
   "cell_type": "code",
   "execution_count": 10,
   "metadata": {},
   "outputs": [
    {
     "data": {
      "text/html": [
       "<div>\n",
       "<style scoped>\n",
       "    .dataframe tbody tr th:only-of-type {\n",
       "        vertical-align: middle;\n",
       "    }\n",
       "\n",
       "    .dataframe tbody tr th {\n",
       "        vertical-align: top;\n",
       "    }\n",
       "\n",
       "    .dataframe thead th {\n",
       "        text-align: right;\n",
       "    }\n",
       "</style>\n",
       "<table border=\"1\" class=\"dataframe\">\n",
       "  <thead>\n",
       "    <tr style=\"text-align: right;\">\n",
       "      <th></th>\n",
       "      <th>count</th>\n",
       "      <th>mean</th>\n",
       "    </tr>\n",
       "    <tr>\n",
       "      <th>Пол</th>\n",
       "      <th></th>\n",
       "      <th></th>\n",
       "    </tr>\n",
       "  </thead>\n",
       "  <tbody>\n",
       "    <tr>\n",
       "      <th>0</th>\n",
       "      <td>2505</td>\n",
       "      <td>0.143313</td>\n",
       "    </tr>\n",
       "    <tr>\n",
       "      <th>1</th>\n",
       "      <td>2495</td>\n",
       "      <td>0.152705</td>\n",
       "    </tr>\n",
       "  </tbody>\n",
       "</table>\n",
       "</div>"
      ],
      "text/plain": [
       "     count      mean\n",
       "Пол                 \n",
       "0     2505  0.143313\n",
       "1     2495  0.152705"
      ]
     },
     "execution_count": 10,
     "metadata": {},
     "output_type": "execute_result"
    }
   ],
   "source": [
    "group('Пол')"
   ]
  },
  {
   "cell_type": "markdown",
   "metadata": {},
   "source": [
    "Соотношение полов практически одинаковое, пол \"1\" получает выплаты чаще."
   ]
  },
  {
   "cell_type": "markdown",
   "metadata": {},
   "source": [
    "#### Возраст"
   ]
  },
  {
   "cell_type": "code",
   "execution_count": 11,
   "metadata": {},
   "outputs": [
    {
     "data": {
      "image/png": "[encoded data removed]",
      "text/plain": [
       "<Figure size 432x288 with 1 Axes>"
      ]
     },
     "metadata": {
      "needs_background": "light"
     },
     "output_type": "display_data"
    },
    {
     "data": {
      "image/png": "[encoded data removed]",
      "text/plain": [
       "<Figure size 432x288 with 1 Axes>"
      ]
     },
     "metadata": {
      "needs_background": "light"
     },
     "output_type": "display_data"
    }
   ],
   "source": [
    "for _ in ags:\n",
    "    group('Возраст').plot(y=_)"
   ]
  },
  {
   "cell_type": "code",
   "execution_count": 12,
   "metadata": {},
   "outputs": [],
   "source": [
    "# Здесь я проверил что происходит с этим столбцом, \n",
    "# чтобы проект был локоничнее скрыл за хэштегом.\n",
    "#group('Возраст')"
   ]
  },
  {
   "cell_type": "markdown",
   "metadata": {},
   "source": [
    "У людей до 42 лет ни одной страховой выплаты. \n",
    "Дальше чем больше возрат тем в среднем больше выплат, но количество людей наоборот падает с увеличением возраста."
   ]
  },
  {
   "cell_type": "code",
   "execution_count": 13,
   "metadata": {},
   "outputs": [
    {
     "data": {
      "text/plain": [
       "0.6510300979467256"
      ]
     },
     "execution_count": 13,
     "metadata": {},
     "output_type": "execute_result"
    }
   ],
   "source": [
    "df['Возраст'].corr(df['Страховые выплаты'])"
   ]
  },
  {
   "cell_type": "markdown",
   "metadata": {},
   "source": [
    "Видим довольно большую корреляцию. Могу предположить, что этот признак будет иметь особую силу в \"весах\" модели."
   ]
  },
  {
   "cell_type": "markdown",
   "metadata": {},
   "source": [
    "#### Количество членов семьи."
   ]
  },
  {
   "cell_type": "code",
   "execution_count": 14,
   "metadata": {},
   "outputs": [
    {
     "data": {
      "text/html": [
       "<div>\n",
       "<style scoped>\n",
       "    .dataframe tbody tr th:only-of-type {\n",
       "        vertical-align: middle;\n",
       "    }\n",
       "\n",
       "    .dataframe tbody tr th {\n",
       "        vertical-align: top;\n",
       "    }\n",
       "\n",
       "    .dataframe thead th {\n",
       "        text-align: right;\n",
       "    }\n",
       "</style>\n",
       "<table border=\"1\" class=\"dataframe\">\n",
       "  <thead>\n",
       "    <tr style=\"text-align: right;\">\n",
       "      <th></th>\n",
       "      <th>count</th>\n",
       "      <th>mean</th>\n",
       "    </tr>\n",
       "    <tr>\n",
       "      <th>Члены семьи</th>\n",
       "      <th></th>\n",
       "      <th></th>\n",
       "    </tr>\n",
       "  </thead>\n",
       "  <tbody>\n",
       "    <tr>\n",
       "      <th>0</th>\n",
       "      <td>1513</td>\n",
       "      <td>0.159947</td>\n",
       "    </tr>\n",
       "    <tr>\n",
       "      <th>1</th>\n",
       "      <td>1814</td>\n",
       "      <td>0.159868</td>\n",
       "    </tr>\n",
       "    <tr>\n",
       "      <th>2</th>\n",
       "      <td>1071</td>\n",
       "      <td>0.134454</td>\n",
       "    </tr>\n",
       "    <tr>\n",
       "      <th>3</th>\n",
       "      <td>439</td>\n",
       "      <td>0.109339</td>\n",
       "    </tr>\n",
       "    <tr>\n",
       "      <th>4</th>\n",
       "      <td>124</td>\n",
       "      <td>0.088710</td>\n",
       "    </tr>\n",
       "    <tr>\n",
       "      <th>5</th>\n",
       "      <td>32</td>\n",
       "      <td>0.125000</td>\n",
       "    </tr>\n",
       "    <tr>\n",
       "      <th>6</th>\n",
       "      <td>7</td>\n",
       "      <td>0.142857</td>\n",
       "    </tr>\n",
       "  </tbody>\n",
       "</table>\n",
       "</div>"
      ],
      "text/plain": [
       "             count      mean\n",
       "Члены семьи                 \n",
       "0             1513  0.159947\n",
       "1             1814  0.159868\n",
       "2             1071  0.134454\n",
       "3              439  0.109339\n",
       "4              124  0.088710\n",
       "5               32  0.125000\n",
       "6                7  0.142857"
      ]
     },
     "execution_count": 14,
     "metadata": {},
     "output_type": "execute_result"
    }
   ],
   "source": [
    "group('Члены семьи')"
   ]
  },
  {
   "cell_type": "code",
   "execution_count": 15,
   "metadata": {},
   "outputs": [
    {
     "data": {
      "text/plain": [
       "-0.03629045878481033"
      ]
     },
     "execution_count": 15,
     "metadata": {},
     "output_type": "execute_result"
    }
   ],
   "source": [
    "df['Члены семьи'].corr(df['Страховые выплаты'])"
   ]
  },
  {
   "cell_type": "markdown",
   "metadata": {},
   "source": [
    "Слабая обратная корреляция, но можно заметить, что у тех у кого 3-4 члена семьи страховые выплаты реже."
   ]
  },
  {
   "cell_type": "markdown",
   "metadata": {},
   "source": [
    "#### Зарплата"
   ]
  },
  {
   "cell_type": "code",
   "execution_count": 16,
   "metadata": {},
   "outputs": [
    {
     "data": {
      "text/plain": [
       "<AxesSubplot:>"
      ]
     },
     "execution_count": 16,
     "metadata": {},
     "output_type": "execute_result"
    },
    {
     "data": {
      "image/png": "[encoded data removed]",
      "text/plain": [
       "<Figure size 432x288 with 1 Axes>"
      ]
     },
     "metadata": {
      "needs_background": "light"
     },
     "output_type": "display_data"
    }
   ],
   "source": [
    "df['Зарплата'].hist(bins=50)"
   ]
  },
  {
   "cell_type": "code",
   "execution_count": 17,
   "metadata": {},
   "outputs": [
    {
     "data": {
      "text/plain": [
       "<AxesSubplot:xlabel='Зарплата'>"
      ]
     },
     "execution_count": 17,
     "metadata": {},
     "output_type": "execute_result"
    },
    {
     "data": {
      "image/png": "[encoded data removed]",
      "text/plain": [
       "<Figure size 432x288 with 1 Axes>"
      ]
     },
     "metadata": {
      "needs_background": "light"
     },
     "output_type": "display_data"
    }
   ],
   "source": [
    "(df.groupby([pd.cut(df['Зарплата'],10)])['Страховые выплаты']\n",
    "                                                            .agg(ags)\n",
    "                                                            .plot(y='mean',\n",
    "                                                                  kind='bar',\n",
    "                                                                  rot=60,\n",
    "                                                                  grid=True))"
   ]
  },
  {
   "cell_type": "markdown",
   "metadata": {},
   "source": [
    "<div class=\"alert alert-info\">\n",
    "<h2> Комментарий студента<a class=\"tocSkip\"></h2>\n",
    "Добавил график рассеивания.\n",
    "</div>"
   ]
  },
  {
   "cell_type": "code",
   "execution_count": 18,
   "metadata": {},
   "outputs": [
    {
     "data": {
      "text/plain": [
       "<matplotlib.collections.PathCollection at 0x7f658d9e40d0>"
      ]
     },
     "execution_count": 18,
     "metadata": {},
     "output_type": "execute_result"
    },
    {
     "data": {
      "image/png": "[encoded data removed]",
      "text/plain": [
       "<Figure size 432x288 with 1 Axes>"
      ]
     },
     "metadata": {
      "needs_background": "light"
     },
     "output_type": "display_data"
    }
   ],
   "source": [
    "zp = df.groupby('Зарплата')['Страховые выплаты'].agg('mean').reset_index()\n",
    "plt.scatter(zp['Зарплата'],zp['Страховые выплаты'])"
   ]
  },
  {
   "cell_type": "code",
   "execution_count": 19,
   "metadata": {},
   "outputs": [
    {
     "data": {
      "text/plain": [
       "-0.014963293460130526"
      ]
     },
     "execution_count": 19,
     "metadata": {},
     "output_type": "execute_result"
    }
   ],
   "source": [
    "df['Зарплата'].corr(df['Страховые выплаты'])"
   ]
  },
  {
   "cell_type": "markdown",
   "metadata": {},
   "source": [
    "Корреляция зарплаты и количества выплат стремиться к 0.\n",
    "\n",
    "Можно заметить, что те у кого зарплата сильно отличается от среднего (как в большую так и в меньшую сторону) получают выплаты чаще. Но как видно по первому графику (распределение людей по зарабатной плате) таких людей очень мало."
   ]
  },
  {
   "cell_type": "markdown",
   "metadata": {},
   "source": [
    "#### Корреляция признаков"
   ]
  },
  {
   "cell_type": "markdown",
   "metadata": {},
   "source": [
    "<div class=\"alert alert-info\">\n",
    "<h2> Комментарий студента<a class=\"tocSkip\"></h2>\n",
    "\n",
    "Добавил матрицу корреляций\n",
    "</div>"
   ]
  },
  {
   "cell_type": "code",
   "execution_count": 20,
   "metadata": {},
   "outputs": [
    {
     "data": {
      "image/png": "[encoded data removed]",
      "text/plain": [
       "<Figure size 504x360 with 2 Axes>"
      ]
     },
     "metadata": {
      "needs_background": "light"
     },
     "output_type": "display_data"
    }
   ],
   "source": [
    "plt.figure(figsize=(7,5))\n",
    "sns.heatmap(df.corr().sort_values(by='Страховые выплаты', ascending=False),\n",
    "            annot=True, \n",
    "            cmap=\"Oranges_r\", \n",
    "            fmt='.2f')\n",
    "plt.title('Корреляция - Вся выборка',size=20)\n",
    "plt.show()"
   ]
  },
  {
   "cell_type": "markdown",
   "metadata": {},
   "source": [
    " Как видно из матрицы корреляций: имеется сильная корреляция количества страховых выплат с возрастом. А вот все остальные корреляции стремяться к 0."
   ]
  },
  {
   "cell_type": "markdown",
   "metadata": {},
   "source": [
    "#### Изменение типа данных"
   ]
  },
  {
   "cell_type": "markdown",
   "metadata": {},
   "source": [
    "<div class=\"alert alert-info\">\n",
    "<h2> Комментарий студента<a class=\"tocSkip\"></h2>\n",
    "\n",
    "Добавил изменение типа данных.\n",
    "</div>"
   ]
  },
  {
   "cell_type": "code",
   "execution_count": 21,
   "metadata": {},
   "outputs": [
    {
     "name": "stdout",
     "output_type": "stream",
     "text": [
      "40\n"
     ]
    },
    {
     "data": {
      "text/html": [
       "<div>\n",
       "<style scoped>\n",
       "    .dataframe tbody tr th:only-of-type {\n",
       "        vertical-align: middle;\n",
       "    }\n",
       "\n",
       "    .dataframe tbody tr th {\n",
       "        vertical-align: top;\n",
       "    }\n",
       "\n",
       "    .dataframe thead th {\n",
       "        text-align: right;\n",
       "    }\n",
       "</style>\n",
       "<table border=\"1\" class=\"dataframe\">\n",
       "  <thead>\n",
       "    <tr style=\"text-align: right;\">\n",
       "      <th></th>\n",
       "      <th>Пол</th>\n",
       "      <th>Возраст</th>\n",
       "      <th>Зарплата</th>\n",
       "      <th>Члены семьи</th>\n",
       "      <th>Страховые выплаты</th>\n",
       "    </tr>\n",
       "  </thead>\n",
       "  <tbody>\n",
       "    <tr>\n",
       "      <th>80</th>\n",
       "      <td>1</td>\n",
       "      <td>41.0</td>\n",
       "      <td>32700.0</td>\n",
       "      <td>0</td>\n",
       "      <td>0</td>\n",
       "    </tr>\n",
       "    <tr>\n",
       "      <th>159</th>\n",
       "      <td>1</td>\n",
       "      <td>19.0</td>\n",
       "      <td>64900.0</td>\n",
       "      <td>2</td>\n",
       "      <td>0</td>\n",
       "    </tr>\n",
       "    <tr>\n",
       "      <th>313</th>\n",
       "      <td>0</td>\n",
       "      <td>25.0</td>\n",
       "      <td>32700.0</td>\n",
       "      <td>1</td>\n",
       "      <td>0</td>\n",
       "    </tr>\n",
       "    <tr>\n",
       "      <th>392</th>\n",
       "      <td>1</td>\n",
       "      <td>43.0</td>\n",
       "      <td>32700.0</td>\n",
       "      <td>1</td>\n",
       "      <td>1</td>\n",
       "    </tr>\n",
       "    <tr>\n",
       "      <th>448</th>\n",
       "      <td>1</td>\n",
       "      <td>32.0</td>\n",
       "      <td>32700.0</td>\n",
       "      <td>2</td>\n",
       "      <td>0</td>\n",
       "    </tr>\n",
       "    <tr>\n",
       "      <th>772</th>\n",
       "      <td>1</td>\n",
       "      <td>20.0</td>\n",
       "      <td>65100.0</td>\n",
       "      <td>1</td>\n",
       "      <td>0</td>\n",
       "    </tr>\n",
       "    <tr>\n",
       "      <th>820</th>\n",
       "      <td>0</td>\n",
       "      <td>29.0</td>\n",
       "      <td>32200.0</td>\n",
       "      <td>2</td>\n",
       "      <td>0</td>\n",
       "    </tr>\n",
       "    <tr>\n",
       "      <th>872</th>\n",
       "      <td>0</td>\n",
       "      <td>23.0</td>\n",
       "      <td>32200.0</td>\n",
       "      <td>3</td>\n",
       "      <td>0</td>\n",
       "    </tr>\n",
       "    <tr>\n",
       "      <th>911</th>\n",
       "      <td>0</td>\n",
       "      <td>30.0</td>\n",
       "      <td>32200.0</td>\n",
       "      <td>0</td>\n",
       "      <td>0</td>\n",
       "    </tr>\n",
       "    <tr>\n",
       "      <th>963</th>\n",
       "      <td>1</td>\n",
       "      <td>20.0</td>\n",
       "      <td>64100.0</td>\n",
       "      <td>0</td>\n",
       "      <td>0</td>\n",
       "    </tr>\n",
       "    <tr>\n",
       "      <th>1020</th>\n",
       "      <td>1</td>\n",
       "      <td>36.0</td>\n",
       "      <td>32700.0</td>\n",
       "      <td>2</td>\n",
       "      <td>0</td>\n",
       "    </tr>\n",
       "    <tr>\n",
       "      <th>1078</th>\n",
       "      <td>0</td>\n",
       "      <td>34.0</td>\n",
       "      <td>32200.0</td>\n",
       "      <td>3</td>\n",
       "      <td>0</td>\n",
       "    </tr>\n",
       "    <tr>\n",
       "      <th>1336</th>\n",
       "      <td>1</td>\n",
       "      <td>19.0</td>\n",
       "      <td>32700.0</td>\n",
       "      <td>0</td>\n",
       "      <td>0</td>\n",
       "    </tr>\n",
       "    <tr>\n",
       "      <th>1485</th>\n",
       "      <td>1</td>\n",
       "      <td>41.0</td>\n",
       "      <td>32700.0</td>\n",
       "      <td>0</td>\n",
       "      <td>0</td>\n",
       "    </tr>\n",
       "    <tr>\n",
       "      <th>1486</th>\n",
       "      <td>1</td>\n",
       "      <td>50.0</td>\n",
       "      <td>32200.0</td>\n",
       "      <td>2</td>\n",
       "      <td>2</td>\n",
       "    </tr>\n",
       "    <tr>\n",
       "      <th>1847</th>\n",
       "      <td>1</td>\n",
       "      <td>31.0</td>\n",
       "      <td>32700.0</td>\n",
       "      <td>0</td>\n",
       "      <td>0</td>\n",
       "    </tr>\n",
       "    <tr>\n",
       "      <th>1981</th>\n",
       "      <td>0</td>\n",
       "      <td>21.0</td>\n",
       "      <td>32200.0</td>\n",
       "      <td>1</td>\n",
       "      <td>0</td>\n",
       "    </tr>\n",
       "    <tr>\n",
       "      <th>2191</th>\n",
       "      <td>1</td>\n",
       "      <td>22.0</td>\n",
       "      <td>32200.0</td>\n",
       "      <td>1</td>\n",
       "      <td>0</td>\n",
       "    </tr>\n",
       "    <tr>\n",
       "      <th>2287</th>\n",
       "      <td>1</td>\n",
       "      <td>40.0</td>\n",
       "      <td>32200.0</td>\n",
       "      <td>3</td>\n",
       "      <td>0</td>\n",
       "    </tr>\n",
       "    <tr>\n",
       "      <th>2342</th>\n",
       "      <td>1</td>\n",
       "      <td>25.0</td>\n",
       "      <td>32700.0</td>\n",
       "      <td>2</td>\n",
       "      <td>0</td>\n",
       "    </tr>\n",
       "    <tr>\n",
       "      <th>2385</th>\n",
       "      <td>1</td>\n",
       "      <td>36.0</td>\n",
       "      <td>32700.0</td>\n",
       "      <td>1</td>\n",
       "      <td>0</td>\n",
       "    </tr>\n",
       "    <tr>\n",
       "      <th>2439</th>\n",
       "      <td>1</td>\n",
       "      <td>44.0</td>\n",
       "      <td>32200.0</td>\n",
       "      <td>1</td>\n",
       "      <td>1</td>\n",
       "    </tr>\n",
       "    <tr>\n",
       "      <th>2443</th>\n",
       "      <td>1</td>\n",
       "      <td>25.0</td>\n",
       "      <td>32700.0</td>\n",
       "      <td>0</td>\n",
       "      <td>0</td>\n",
       "    </tr>\n",
       "    <tr>\n",
       "      <th>2805</th>\n",
       "      <td>0</td>\n",
       "      <td>47.0</td>\n",
       "      <td>32700.0</td>\n",
       "      <td>1</td>\n",
       "      <td>1</td>\n",
       "    </tr>\n",
       "    <tr>\n",
       "      <th>2994</th>\n",
       "      <td>1</td>\n",
       "      <td>29.0</td>\n",
       "      <td>32200.0</td>\n",
       "      <td>1</td>\n",
       "      <td>0</td>\n",
       "    </tr>\n",
       "    <tr>\n",
       "      <th>3063</th>\n",
       "      <td>0</td>\n",
       "      <td>24.0</td>\n",
       "      <td>64400.0</td>\n",
       "      <td>0</td>\n",
       "      <td>0</td>\n",
       "    </tr>\n",
       "    <tr>\n",
       "      <th>3139</th>\n",
       "      <td>1</td>\n",
       "      <td>43.0</td>\n",
       "      <td>32200.0</td>\n",
       "      <td>2</td>\n",
       "      <td>1</td>\n",
       "    </tr>\n",
       "    <tr>\n",
       "      <th>3352</th>\n",
       "      <td>1</td>\n",
       "      <td>23.0</td>\n",
       "      <td>32200.0</td>\n",
       "      <td>5</td>\n",
       "      <td>0</td>\n",
       "    </tr>\n",
       "    <tr>\n",
       "      <th>3466</th>\n",
       "      <td>0</td>\n",
       "      <td>22.0</td>\n",
       "      <td>32700.0</td>\n",
       "      <td>4</td>\n",
       "      <td>0</td>\n",
       "    </tr>\n",
       "    <tr>\n",
       "      <th>3499</th>\n",
       "      <td>1</td>\n",
       "      <td>22.0</td>\n",
       "      <td>65100.0</td>\n",
       "      <td>4</td>\n",
       "      <td>0</td>\n",
       "    </tr>\n",
       "    <tr>\n",
       "      <th>3614</th>\n",
       "      <td>1</td>\n",
       "      <td>24.0</td>\n",
       "      <td>32700.0</td>\n",
       "      <td>1</td>\n",
       "      <td>0</td>\n",
       "    </tr>\n",
       "    <tr>\n",
       "      <th>3717</th>\n",
       "      <td>0</td>\n",
       "      <td>34.0</td>\n",
       "      <td>32700.0</td>\n",
       "      <td>0</td>\n",
       "      <td>0</td>\n",
       "    </tr>\n",
       "    <tr>\n",
       "      <th>3788</th>\n",
       "      <td>0</td>\n",
       "      <td>46.0</td>\n",
       "      <td>32700.0</td>\n",
       "      <td>2</td>\n",
       "      <td>1</td>\n",
       "    </tr>\n",
       "    <tr>\n",
       "      <th>3824</th>\n",
       "      <td>1</td>\n",
       "      <td>37.0</td>\n",
       "      <td>32700.0</td>\n",
       "      <td>2</td>\n",
       "      <td>0</td>\n",
       "    </tr>\n",
       "    <tr>\n",
       "      <th>3938</th>\n",
       "      <td>1</td>\n",
       "      <td>23.0</td>\n",
       "      <td>32200.0</td>\n",
       "      <td>1</td>\n",
       "      <td>0</td>\n",
       "    </tr>\n",
       "    <tr>\n",
       "      <th>4182</th>\n",
       "      <td>0</td>\n",
       "      <td>27.0</td>\n",
       "      <td>32200.0</td>\n",
       "      <td>2</td>\n",
       "      <td>0</td>\n",
       "    </tr>\n",
       "    <tr>\n",
       "      <th>4520</th>\n",
       "      <td>0</td>\n",
       "      <td>18.0</td>\n",
       "      <td>32700.0</td>\n",
       "      <td>3</td>\n",
       "      <td>0</td>\n",
       "    </tr>\n",
       "    <tr>\n",
       "      <th>4833</th>\n",
       "      <td>0</td>\n",
       "      <td>24.0</td>\n",
       "      <td>32200.0</td>\n",
       "      <td>1</td>\n",
       "      <td>0</td>\n",
       "    </tr>\n",
       "    <tr>\n",
       "      <th>4935</th>\n",
       "      <td>1</td>\n",
       "      <td>19.0</td>\n",
       "      <td>32700.0</td>\n",
       "      <td>0</td>\n",
       "      <td>0</td>\n",
       "    </tr>\n",
       "    <tr>\n",
       "      <th>4998</th>\n",
       "      <td>1</td>\n",
       "      <td>22.0</td>\n",
       "      <td>32700.0</td>\n",
       "      <td>3</td>\n",
       "      <td>0</td>\n",
       "    </tr>\n",
       "  </tbody>\n",
       "</table>\n",
       "</div>"
      ],
      "text/plain": [
       "      Пол  Возраст  Зарплата  Члены семьи  Страховые выплаты\n",
       "80      1     41.0   32700.0            0                  0\n",
       "159     1     19.0   64900.0            2                  0\n",
       "313     0     25.0   32700.0            1                  0\n",
       "392     1     43.0   32700.0            1                  1\n",
       "448     1     32.0   32700.0            2                  0\n",
       "772     1     20.0   65100.0            1                  0\n",
       "820     0     29.0   32200.0            2                  0\n",
       "872     0     23.0   32200.0            3                  0\n",
       "911     0     30.0   32200.0            0                  0\n",
       "963     1     20.0   64100.0            0                  0\n",
       "1020    1     36.0   32700.0            2                  0\n",
       "1078    0     34.0   32200.0            3                  0\n",
       "1336    1     19.0   32700.0            0                  0\n",
       "1485    1     41.0   32700.0            0                  0\n",
       "1486    1     50.0   32200.0            2                  2\n",
       "1847    1     31.0   32700.0            0                  0\n",
       "1981    0     21.0   32200.0            1                  0\n",
       "2191    1     22.0   32200.0            1                  0\n",
       "2287    1     40.0   32200.0            3                  0\n",
       "2342    1     25.0   32700.0            2                  0\n",
       "2385    1     36.0   32700.0            1                  0\n",
       "2439    1     44.0   32200.0            1                  1\n",
       "2443    1     25.0   32700.0            0                  0\n",
       "2805    0     47.0   32700.0            1                  1\n",
       "2994    1     29.0   32200.0            1                  0\n",
       "3063    0     24.0   64400.0            0                  0\n",
       "3139    1     43.0   32200.0            2                  1\n",
       "3352    1     23.0   32200.0            5                  0\n",
       "3466    0     22.0   32700.0            4                  0\n",
       "3499    1     22.0   65100.0            4                  0\n",
       "3614    1     24.0   32700.0            1                  0\n",
       "3717    0     34.0   32700.0            0                  0\n",
       "3788    0     46.0   32700.0            2                  1\n",
       "3824    1     37.0   32700.0            2                  0\n",
       "3938    1     23.0   32200.0            1                  0\n",
       "4182    0     27.0   32200.0            2                  0\n",
       "4520    0     18.0   32700.0            3                  0\n",
       "4833    0     24.0   32200.0            1                  0\n",
       "4935    1     19.0   32700.0            0                  0\n",
       "4998    1     22.0   32700.0            3                  0"
      ]
     },
     "execution_count": 21,
     "metadata": {},
     "output_type": "execute_result"
    }
   ],
   "source": [
    "print(sum(df['Зарплата']%1>0))\n",
    "df[df['Зарплата']%1>0]"
   ]
  },
  {
   "cell_type": "markdown",
   "metadata": {},
   "source": [
    "Питон находит 40 строк, где в дробной части якобы есть какое-то число. Но как мы видим изучив этот фрагмент данных там стоят 0. Поэтому весь этот столбец как и все остальные можем перевести в int для экономия памяти."
   ]
  },
  {
   "cell_type": "code",
   "execution_count": 22,
   "metadata": {},
   "outputs": [],
   "source": [
    "for _ in df.columns:\n",
    "    df[_] = pd.to_numeric(df[_], downcast='integer')\n",
    "    \n",
    "df['Зарплата'] = np.uint32(df['Зарплата'])"
   ]
  },
  {
   "cell_type": "code",
   "execution_count": 23,
   "metadata": {},
   "outputs": [
    {
     "name": "stdout",
     "output_type": "stream",
     "text": [
      "<class 'pandas.core.frame.DataFrame'>\n",
      "RangeIndex: 5000 entries, 0 to 4999\n",
      "Data columns (total 5 columns):\n",
      " #   Column             Non-Null Count  Dtype \n",
      "---  ------             --------------  ----- \n",
      " 0   Пол                5000 non-null   int8  \n",
      " 1   Возраст            5000 non-null   int8  \n",
      " 2   Зарплата           5000 non-null   uint32\n",
      " 3   Члены семьи        5000 non-null   int8  \n",
      " 4   Страховые выплаты  5000 non-null   int8  \n",
      "dtypes: int8(4), uint32(1)\n",
      "memory usage: 39.2 KB\n"
     ]
    }
   ],
   "source": [
    "df.info(memory_usage=str)"
   ]
  },
  {
   "cell_type": "code",
   "execution_count": 24,
   "metadata": {},
   "outputs": [
    {
     "name": "stdout",
     "output_type": "stream",
     "text": [
      "Изначальное количество используемой памяти: 195.4 KB\n",
      "Количество используемой памяти после преобразования: 39.2 KB\n",
      "Экономия памяти составляет 156.2 KB\n",
      "Теперь памяти затрачивается в 4.98 раз меньше\n"
     ]
    }
   ],
   "source": [
    "print('Изначальное количество используемой памяти:',195.4,'KB')\n",
    "print('Количество используемой памяти после преобразования:',39.2,'KB')\n",
    "print('Экономия памяти составляет',195.4-39.2,'KB')\n",
    "print('Теперь памяти затрачивается в',np.round(195.4/39.2,2),'раз меньше')"
   ]
  },
  {
   "cell_type": "markdown",
   "metadata": {},
   "source": [
    "<div class=\"alert alert-info\">\n",
    "<h2> Комментарий студента<a class=\"tocSkip\"></h2>\n",
    "Кстати, вопрос: а можно как-то обращаться к графе \"memory usage\" из info, чтобы не писать количество памяти вручную?\n",
    "</div>"
   ]
  },
  {
   "cell_type": "markdown",
   "metadata": {},
   "source": [
    "<div class=\"alert alert-success\">\n",
    "<b>Комментарий ревьюера 2:</b> Размер объекта можно получить с помощью другой функции:\n",
    "    \n",
    "```python\n",
    "import sys\n",
    "print(sys.getsizeof(df))\n",
    "```\n",
    "Получим размер в битах, чтобы перевести в килобиты (KB), нужно разделить на 1024."
   ]
  },
  {
   "cell_type": "markdown",
   "metadata": {},
   "source": [
    "#### Вывод"
   ]
  },
  {
   "cell_type": "markdown",
   "metadata": {},
   "source": [
    "# Предобработка:\n",
    "- Данные прешли в предобработанном виде и готовы к обучению модели.\n",
    "- После изменения типа данных количество используемой памяти умменьшилось почти в 5 раз\n",
    "\n",
    "# Исследовательский анализ:\n",
    "- Обнаружена высокая корреляция возраста и количества выплат (0.65)\n",
    "- Корреляция всех остальных признаков стремиться к 0.\n",
    "- У тех кто моложе 42 лет вообще отсуствуют выплаты.\n",
    "- Вероятно признак возраст будет иметь самый большой вес в обучении модели."
   ]
  },
  {
   "cell_type": "markdown",
   "metadata": {},
   "source": [
    "<div class=\"alert alert-success\">\n",
    "<h2> Комментарий ревьюера <a class=\"tocSkip\"> </h2>\n",
    "\n",
    "<b>Отличная работа!👍:</b> \n",
    "\n",
    "Класс! Очень качественное и подробное изучение данных, ты хорошо постарался :) Хорошо, что решил не удалять дубликаты: в данном проекте это немного спорный момент, так как у нас нет однозначного идентификатора клиента типа id, ФИО или чего-то подобного, и мы не можем со 100% уверенностью говорить, являются совпадения дубликатами или нет. Очень хорошо, что ты внимательно относишься к данным и заметил этот момент!"
   ]
  },
  {
   "cell_type": "markdown",
   "metadata": {},
   "source": [
    "<div class=\"alert alert-warning\">\n",
    "    <h2> Комментарий ревьюера <a class=\"tocSkip\"> </h2>\n",
    "    \n",
    "<b>Некоторые замечания и рекомендации💡:</b> \n",
    "        \n",
    "* При изучении взаимосвязей между двумя численными переменными обычно используют диаграммы рассеяния.\n",
    "        \n",
    "               \n",
    "* Помимо изучения корреляции признаков с таргетом также в некоторых случаях бывает еще полезно изучать корреляцию признаков между собой (проверять наличие мультиколлинеарности). Это не повлияет на качество предсказаний, но воздействует на значения коэффициентов, поэтому, если мы заинтересованы в их интерпретации, нам важно убеждаться, что мультикллинеарности нет. Для изучения корреляций удобно выводить матрицу корреляций в виде pandas таблицы с добавлением <a href = 'https://pandas.pydata.org/docs/user_guide/style.html'>расцветки</a>, либо в виде тепловой карты.\n",
    "        \n",
    "        \n",
    "* У нас есть два признака, которые хранятся в типе данных float, хотя очень похожи на int (внеше и идеологически). Это возраст и зарплата. Float - достаточно ресурсотратный тип данных относительно int, различие особо ощутимо на очень крупных наборах данных. Поэтому можно задуматься о том, чтобы перевести какие-то значения в менее затратный формат int. Но прежде чем менять формат по-хорошему на всякий случай нужно убеждаться, не потеряем ли мы от такого перехода какой-то информации, необходимой для обучения (что если, например, у некоторых наблюдений зарплата указана в тысячах). Проверить это мы можем, изучив дробную часть этих признаков. Получить ее можно как остаток от деления на 1 (`3.45 % 1` = 0.45). Таким образом мы можем определить дробную часть сразу для всего вектора значений. После этого мы можем посмотреть максимальное и минимальное значение дробной части, или вывести все отличные от нуля значения, посчитать их количество.\n",
    "\n",
    "    Кстати, чтобы еще больше сократить объем занимаемой памяти, можно некоторые признаки перевести в еще менее затратные типы int8, int16, int32 (если это доступно). Подробнее <a href='https://pyprog.pro/data_types.html'>тут</a>."
   ]
  },
  {
   "cell_type": "markdown",
   "metadata": {},
   "source": [
    "<div class=\"alert alert-info\">\n",
    "<h2> Комментарий студента<a class=\"tocSkip\"></h2>\n",
    "Постарался учесть все основные моменты, потому что мне нравиться исследовательский анализ и хочу развиваться в этой теме.)) \n",
    "    На названиях графиков не стал акцентироваться, потому что они нужны просто для предобработки и изучения данных в таблице, для основной задачи это не сильно важно. \n",
    "</div>"
   ]
  },
  {
   "cell_type": "markdown",
   "metadata": {},
   "source": [
    "<div class=\"alert alert-success\">\n",
    "<h2> Комментарий ревьюера 2<a class=\"tocSkip\"> </h2>\n",
    "\n",
    "<b>Отличная работа!👍:</b> \n",
    "   \n",
    "Супер! В любом случае получилось очень здорово :)"
   ]
  },
  {
   "cell_type": "markdown",
   "metadata": {},
   "source": [
    "## Умножение матриц"
   ]
  },
  {
   "cell_type": "markdown",
   "metadata": {},
   "source": [
    "### Условие"
   ]
  },
  {
   "cell_type": "markdown",
   "metadata": {},
   "source": [
    "В этом задании вы можете записывать формулы в *Jupyter Notebook.*\n",
    "\n",
    "Чтобы записать формулу внутри текста, окружите её символами доллара \\\\$; если снаружи —  двойными символами \\\\$\\\\$. Эти формулы записываются на языке вёрстки *LaTeX.* \n",
    "\n",
    "Для примера мы записали формулы линейной регрессии. Можете их скопировать и отредактировать, чтобы решить задачу.\n",
    "\n",
    "Работать в *LaTeX* необязательно."
   ]
  },
  {
   "cell_type": "markdown",
   "metadata": {},
   "source": [
    "Обозначения:\n",
    "\n",
    "- $X$ — матрица признаков (нулевой столбец состоит из единиц)\n",
    "\n",
    "- $y$ — вектор целевого признака\n",
    "\n",
    "- $P$ — матрица, на которую умножаются признаки\n",
    "\n",
    "- $w$ — вектор весов линейной регрессии (нулевой элемент равен сдвигу)"
   ]
  },
  {
   "cell_type": "markdown",
   "metadata": {},
   "source": [
    "Предсказания:\n",
    "\n",
    "$$\n",
    "a = Xw\n",
    "$$\n",
    "\n",
    "Задача обучения:\n",
    "\n",
    "$$\n",
    "w = \\arg\\min_w MSE(Xw, y)\n",
    "$$\n",
    "\n",
    "Формула обучения:\n",
    "\n",
    "$$\n",
    "w = (X^T X)^{-1} X^T y\n",
    "$$"
   ]
  },
  {
   "cell_type": "markdown",
   "metadata": {},
   "source": [
    "### Решение"
   ]
  },
  {
   "cell_type": "markdown",
   "metadata": {},
   "source": [
    "**Вопрос:** Признаки умножают на обратимую матрицу. Изменится ли качество линейной регрессии?\n",
    "\n",
    "**Ответ:** Не изменится.\n",
    "\n",
    "**Обоснование:** Для обоснование воспользуемся формулой обучения линейной регрессии и некоторыми свойствами матриц.\n",
    "\n",
    "Вместо Х подставим произведние XP (Матрица признаков умножается на обратимую матрицу.), обозначим это буквой Z: $$Z=XP$$\n",
    "            $$w_z = (Z^T Z)^{-1} Z^T y$$\n",
    "            \n",
    "Соответвенно: $$w_z = ((XP)^T (XP))^{-1} (XP)^T y$$\n",
    "\n",
    "Раскроем первые скобки $(XP)^T$:\n",
    "\n",
    "$$w_z = (P^T X^T XP)^{-1} (XP)^T y$$\n",
    "\n",
    "Обьеденим $X^T$ и $X$ в скобку, тогда их произвидением будет обратимая матрица и мы сможем раскрыть следующую скобку:\n",
    "\n",
    "$$w_z = (P^T X^T XP)^{-1} (XP)^T y$$\n",
    "\n",
    "\n",
    "Раскроем остальные скобки:\n",
    "\n",
    "$$w_z = P^{-1} (X^TX)^{-1} (P^T)^{-1} P^T X^T y$$\n",
    "\n",
    "Так как P - обратимая матрица, то $(P^T)^{-1}P^T$ будет равно единичной матрице Е:\n",
    "\n",
    "$$w_z = P^{-1} (X^TX)^{-1} E X^T y$$\n",
    "\n",
    "Умножение на единичную матрицу ничего не меняет поэтому:\n",
    "$$w_z = P^{-1} (X^TX)^{-1} X^T y$$\n",
    "\n",
    "$(X^TX)^{-1} X^T y$ соответствует формуле обучения w, значит:\n",
    "$$w_z = P^{-1}w$$\n",
    "\n",
    "Теперь подставим это в формулу предсказания модели $𝑎=𝑋𝑤$:\n",
    "$$𝑎_z = Z𝑤_z$$\n",
    "$$𝑎_z = XPP^{-1}w$$\n",
    "\n",
    "Матрица P - обратимая, а значит $PP^{-1}$ = E (единичной матрице):\n",
    "$$𝑎_z = XЕw = Xw$$\n",
    "$$a=Xw$$\n",
    "Значит:\n",
    "$$a_z=a$$\n",
    "\n",
    "\n",
    "# **Вывод:**\n",
    "как видно предсказания не изменяются, а значит качество модели линейной регрессии останется таким же. Мы можем использовать умножние на обратимую матрицу для шифрования данных, что является главной задачей."
   ]
  },
  {
   "cell_type": "markdown",
   "metadata": {},
   "source": [
    "<div class=\"alert alert-block alert-danger\">\n",
    "<h2> Комментарий ревьюера <a class=\"tocSkip\"></h2>\n",
    "\n",
    "<b>На доработку🤔:</b>\n",
    "    \n",
    "Направление твоего доказательства верное! Но есть пара важных моментов, которые следует поправить. \n",
    "    \n",
    "    \n",
    "1. Ты не совсем корректно используешь свойства обращения и транспонирования произведения матриц. На самом деле они выглядят так (обрати внимание, что порядок матриц меняется):     \n",
    "$$\n",
    "(AB)^T=B^T A^T\n",
    "$$\n",
    "$$\n",
    "(AB)^{-1} = B^{-1} A^{-1}\n",
    "$$\n",
    "    \n",
    "    Почему мы так заостряем внимание на порядке? Если при умножении обычных чисел нам не важно, умножаем ли мы 2 на 3 или 3 на 2, в результате все равно получим 6, то это становится важно при перемножении матриц. Чтобы произведение между двумя матрицами в принципе возможно было найти, должно выполняться условие: количество столбцов левой матрицы должно быть равно количеству строк правой. Если это условие выполнится, то в результате перемножения мы получим матрицу с количеством строк как у левой матрицы и количеством столбцов как у правой: $A_{2\\times 3}B_{3\\times 4} = C_{2\\times 4}$. (заметь, что в примере умножить $B$ на $A$ уже не получится) \n",
    "\n",
    "    Посмотрим на другой пример: $A_{2\\times 3}B_{3\\times 2} = C_{2\\times 2}$ и $B_{3\\times 2}A_{2\\times 3} = D_{3\\times 3}$. Как видишь, теперь у нас размерности соблюдаются и после перестановки, но обрати внимание, что из-за этого на выходе мы получаем совершенно разные матрицы. Поэтому произвольно менять местами матрицы в формуле недопустимо, так как это повлияет на результат вычислений.\n",
    "\n",
    "    С произведением двух матриц разобрались. Что если матриц больше? Как и в случае чисел, нам совершенно не важно, в каком порядке мы будем выполнять само умножение для получения результата. Допустим, нам нужно умножить 2 на 3 и на 4. Мы можем умножить сначала 2 на 3 и получить 6, а потом 6 умножить на 4 и получить 24. А можем сначала умножить 3 на 4, получить 12, а потом 2 умножить на 12 и получить те же самые 24. С матрицами точно так же (эта называется сочетательным свойством матриц или ассоциативностью): \n",
    "    $$A_{2\\times 3}B_{3\\times 4}C_{4\\times 5} = (AB)_{2\\times 4}C_{4\\times 5} = A_{2\\times 3}(BC)_{3\\times 5} = D_{2\\times 5}$$\n",
    "    \n",
    "    Заметь, что даже при различном сочетании матриц для произведения мы сохраняеим их порядок, чтобы не нарушалось сочетание размерностей соседних матриц. То есть мы можем перемножить между собой любые две **соседние** матрицы, но самостоятельно их передвигать, чтобы они оказались рядом, нельзя. Это достаточно важный момент в понимании линейной алгебры, поэтому хочу тебя попросить все-таки записать формулы с верной последовательностью перемножения матриц.\n",
    "    \n",
    "    \n",
    "2. Следующий важный момент касается именно обращения матриц. Матрица $X$ имеет размерность 5000 на 4, то есть не квадратная. Если мы умножаем матрицу $X$ на $P$, то в результате получаем тоже матрицу 5000 на 4 - неквадратную. Для неквадратных матриц невозможно найти определитель, который нужен для расчета обратной матрицы, соответственно, обратную матрицу мы посчитать не сможем. В связи с этим некорректно записывать $(XP)^{-1}$, $(X^{T})^{-1}$ и $X^{-1}$, так как обратные матрицы для них не существуют, получается, при такой записи мы не сможем воспользоваться формулой. Но мы можем заметить, что произведение $X^T$ и $X$ как раз будет квадратным (4 на 4), и мы можем для него найти обратную матрицу (именно поэтому в формуле коэффициентов $w$ данная скобка не раскрывается). Таким образом, раскрытие скобок нам лучше начать с транспонирования, тогда внутри скобки с обращением у нас получается три квадратных множителя ($P^{T}_{4\\times 4}$, $(X^{T}_{4\\times 5000}X_{5000\\times 4})_{4\\times 4}$, $P_{4\\times 4}$), для которых сущетсвуют обратные матрицы. Для трех множителей свойство аналогичное и выводится из свойства для двух множителей (+ сочетательное свойство):\n",
    "    $$(ABC)^{-1} = C^{-1}(AB)^{-1} = (BC)^{-1}A^{-1} = C^{-1}B^{-1}A^{-1},$$\n",
    " где А, В, С - квадратные матрицы."
   ]
  },
  {
   "cell_type": "markdown",
   "metadata": {},
   "source": [
    "<div class=\"alert alert-info\">\n",
    "<h2> Комментарий студента<a class=\"tocSkip\"></h2>\n",
    "Постарался всё исправить по твоему комментария. Самое смешное, что когда прохдил в тренажёре, то про порядок матриц помнил, а тут всё как рукой сняло )) На самом деле тема оказалось очень сложная, хоть я и люблю математику. Надеюсь теперь с формулой всё будет в порядке.\n",
    "</div>"
   ]
  },
  {
   "cell_type": "markdown",
   "metadata": {},
   "source": [
    "<div class=\"alert alert-success\">\n",
    "<h2> Комментарий ревьюера 2<a class=\"tocSkip\"> </h2>\n",
    "\n",
    "<b>Отличная работа!👍:</b> \n",
    "    \n",
    "Отлично, теперь все абсолютно верно! Думаю, теперь получше запомнится, просто новому материалу всегда нужно какое-то время, чтобы уложиться в голове :)"
   ]
  },
  {
   "cell_type": "markdown",
   "metadata": {},
   "source": [
    "## Алгоритм преобразования"
   ]
  },
  {
   "cell_type": "markdown",
   "metadata": {},
   "source": [
    "**Алгоритм**\n",
    "\n",
    "- 1) Создать квадратную обратимую матрицу P, которая соотвествуют количеству признаков (4х4)\n",
    "- 2) Проверить матрицу на обратимость\n",
    "- 3) Создать матрицу из исходных признаков\n",
    "- 4) Умножить сгенерированную матрицу Р на матрицу исходных признаков\n",
    "\n",
    "\n",
    "* Так же следует проверить работу алгоритма, проведем сравнение работы модели до и после преобразования с помощью метрики R2."
   ]
  },
  {
   "cell_type": "markdown",
   "metadata": {},
   "source": [
    "**Обоснование**\n",
    "\n",
    "Как было проверено выше: при умножении признаков на обратимую матрицу предсказания (а значит и качество модели) не изменяются, поэтому мы используем это в алгоритме шифрования."
   ]
  },
  {
   "cell_type": "markdown",
   "metadata": {},
   "source": [
    "<div class=\"alert alert-success\">\n",
    "<h2> Комментарий ревьюера <a class=\"tocSkip\"> </h2>\n",
    "\n",
    "<b>Отличная работа!👍:</b> \n",
    "    \n",
    "Все верно! В обосновании можно еще попробовать объяснить своими словами, что за процессы происходят внутри матрицы при преобразовании с помощью ключа, и что мы получаем в итоге, что из себя представляют столбцы зашифрованной матрицы, как формируются коэффициенты при этих новых признаках, и почему этим коэффициентам удается нивелировать шифрование и выдавать тот же вектор предсказаний. Также можно еще пояснить по поводу того, что возможен и обратный процесс расшифровки, который, опять же, не приведет к потере качества."
   ]
  },
  {
   "cell_type": "markdown",
   "metadata": {},
   "source": [
    "## Проверка алгоритма"
   ]
  },
  {
   "cell_type": "markdown",
   "metadata": {},
   "source": [
    "Выделим целевой признак и остальные."
   ]
  },
  {
   "cell_type": "code",
   "execution_count": 25,
   "metadata": {},
   "outputs": [],
   "source": [
    "y = df['Страховые выплаты']\n",
    "x = df.drop('Страховые выплаты', axis=1)"
   ]
  },
  {
   "cell_type": "markdown",
   "metadata": {},
   "source": [
    "Генерация обратимой случайной матрицы"
   ]
  },
  {
   "cell_type": "code",
   "execution_count": 26,
   "metadata": {},
   "outputs": [
    {
     "data": {
      "text/plain": [
       "array([[-0.80655826,  1.0168698 , -0.24568929,  1.06243973],\n",
       "       [ 0.63701424,  1.16465817, -0.81576559, -1.32771245],\n",
       "       [ 0.87038532,  0.58767881,  0.59342377, -1.98874121],\n",
       "       [ 0.42673747, -1.29671406, -0.91951018,  0.43145733]])"
      ]
     },
     "execution_count": 26,
     "metadata": {},
     "output_type": "execute_result"
    }
   ],
   "source": [
    "rnd = np.random.RandomState(s)\n",
    "P = rnd.normal(size=(x.shape[1], x.shape[1]))\n",
    "P"
   ]
  },
  {
   "cell_type": "markdown",
   "metadata": {},
   "source": [
    "<div class=\"alert alert-warning\">\n",
    "    <h2> Комментарий ревьюера <a class=\"tocSkip\"> </h2>\n",
    "    \n",
    "<b>Некоторые замечания и рекомендации💡:</b> \n",
    "        \n",
    "Когда в работе используются случайности (как здесь при генерации матрицы, или, например, когда мы случайно делим выборку на тестовую и тренировочную), нам важно использовать фиксированный random state, чтобы спустя время мы могли воспроизвести тот же самый результат. Так у нас будет возможность восстановить ключ шифрования, если мы его потеряем (без ключа мы бы не смогли расшифровать данные) и не нужно будет менять каждый раз значения и интерпретацию в выводах. \n",
    "\n",
    "У функции `np.random.normal()` нет своего собственного параметра random_state, поэтому мы должны использовать вспомогательные функции: `np.random.seed(42)` или `np.random.RandomState(42)`. Они являются эквивалентами друг друга, но немного различается способ применения. `np.random.seed()` является самостоятельным элементом, а вот чтобы использовать `np.random.RandomState()`, мы должны сохранить его в переменную (`r = np.random.RandomState(42)`), а потом использовать `r` как основу генератора (`r.normal()`). При использовании сторонних функций для фиксирования random state важно понимать, что если мы вновь и вновь будем запускать генератор случайностей, геренация будет продолжаться с того момента, на котором остановилась в прошлый раз, поэтому и результат генерации будет меняться. Чтобы получить тот же результат, нам нужно \"обнулить\" основание генератора (перезадать random_state, чтобы все началось сначала).\n",
    "\n",
    "Теперь немного о том, как вообще работают алгоритмы случайностей. Правда в том, что машины не умеют выдавать абсолютно случайные значения, как наш мозг (хотя, если вдаваться в психологию, то и процессы нашего мозга не такие уж случайные, но это уже я отвлекаюсь :) ). Они делают это по определенному алгоритму, который имитирует случайность. Чаще всего алгоритм берет за основу какое-то системное число, или текущее время, или наш random state (если мы его задаем) и подает на вход псевдослучайному алгоритму, и тот, выполняя какие-то предопределенные вычисления, формирует список случайных значений. Такие значения можно вполне считать случайными, и их достаточно сложно воспроизвести, так как неизвестно, во-первых, что за число подалось на вход алгоритму, во-вторых, что из себя представляет сам алгоритм. Затем каждый раз когда какая-то функция нуждается в случайном значении, она обращается к этому списку, и берет оттуда следующее по очереди незанятое число и использует в своих целях.\n",
    "\n",
    "Кстати, самое излюбленное число для random state - это 42, ответ на главный вопрос жизни, вселенной и всего такого (из книги Дугласа Адамса «Путеводитель для путешествующих автостопом по галактике») :)"
   ]
  },
  {
   "cell_type": "markdown",
   "metadata": {},
   "source": [
    "<div class=\"alert alert-info\">\n",
    "<h2> Комментарий студента<a class=\"tocSkip\"></h2>\n",
    "Добавил np.random.RandomState(s) )\n",
    "</div>"
   ]
  },
  {
   "cell_type": "markdown",
   "metadata": {},
   "source": [
    "<div class=\"alert alert-success\">\n",
    "<h2> Комментарий ревьюера 2<a class=\"tocSkip\"> </h2>\n",
    "\n",
    "<b>Отличная работа!👍:</b> \n",
    "    \n",
    "Класс!"
   ]
  },
  {
   "cell_type": "markdown",
   "metadata": {},
   "source": [
    "Проверка на обратимость"
   ]
  },
  {
   "cell_type": "code",
   "execution_count": 27,
   "metadata": {},
   "outputs": [
    {
     "data": {
      "text/plain": [
       "array([[ 1., -0., -0.,  0.],\n",
       "       [-0.,  1.,  0., -0.],\n",
       "       [ 0., -0.,  1., -0.],\n",
       "       [ 0.,  0.,  0.,  1.]])"
      ]
     },
     "execution_count": 27,
     "metadata": {},
     "output_type": "execute_result"
    }
   ],
   "source": [
    "np.round(P @ np.linalg.inv(P))"
   ]
  },
  {
   "cell_type": "markdown",
   "metadata": {},
   "source": [
    "- Матрица обратима."
   ]
  },
  {
   "cell_type": "markdown",
   "metadata": {},
   "source": [
    "<div class=\"alert alert-warning\">\n",
    "    <h2> Комментарий ревьюера <a class=\"tocSkip\"> </h2>\n",
    "    \n",
    "<b>Некоторые замечания и рекомендации💡:</b> \n",
    "        \n",
    "Круто, что проверяешь матрицу на обратимость! Можно усовершенствовать этот шаг, создав алгоритм, который способен гарантированно выдавать обратимую матрицу. Это можно сделать двумя способами. \n",
    "\n",
    "1. Рекурсивная функция с конструкцией try-except: внутри функции производится генерация, затем для проверки ее на обратимость мы переходим в блок `try` и пытаемся найти обратную матрицу, если при `try` все успешно, то функция прямо там и делает `return` (если на какой-то строке раздела `try` возникает ошибка, то функция не смотрит следующие строки, а срвзу выходит из `try`), если матрица оказывается необратима, то функция переходит в раздел `except`, в котором вызывает саму себя же (обязательно через `return`).  \n",
    "\n",
    "2. Зацикливание проверки на обратимость: внутри функции запускается цикл `while` с проверкой условия неравенства определителя нулю, если матрица не проходит проверку, то цикл переходит на следующую итерацию, где генерирует новую матрицу. Мы не сможем выйти из цикла, пока матрица не пройдет проверку успешно.\n",
    "\n",
    "Важное замечание: при итеративной генерации (любым из способов выше) внутри алгоритма не должен перезадаваться random state, иначе на каждой итерации мы будем получать одну и ту же матрицу. Чтобы этого избежать, мы можем задавать random state за пределами алогоритма."
   ]
  },
  {
   "cell_type": "markdown",
   "metadata": {},
   "source": [
    "<div class=\"alert alert-info\">\n",
    "<h2> Комментарий студента<a class=\"tocSkip\"></h2>\n",
    "Я правильно понимаю, что это всё тоже зависит от random state, т.е. если его не указывать у нас есть мизерный шанс срандомить необратимую матрицу. Но если мы подабрали до этого random state, который даёт обратимую матрицу то это не обязательно?\n",
    "</div>"
   ]
  },
  {
   "cell_type": "markdown",
   "metadata": {},
   "source": [
    "<div class=\"alert alert-success\">\n",
    "<b>Комментарий ревьюера 2:</b> В целом да, если мы уже подобрали необратимую матрицу под конкретный random state и не планируем что-то менять, то в алгоритмичной генерации уже нет смысла. Но вполне может быть такая ситуация, что подобную работу нам нужно будет проделывать регулярно и при этом менять random state для обеспечения безопасности, или будет требование генерировать ключ из целых чисел ограниченного интервала, что в разы повышает возможность наткнуться на необратимую матрицу, тогда без алгоритмичной генерации будет уже сложновато. Поэтому это предложение, скорее, было просто как доп. задание потренировать какие-то навыки сверх проекта :)"
   ]
  },
  {
   "cell_type": "markdown",
   "metadata": {},
   "source": [
    "Умножаем сгенерированную матрицу на матрицу исходных признаков"
   ]
  },
  {
   "cell_type": "code",
   "execution_count": 28,
   "metadata": {},
   "outputs": [],
   "source": [
    "code_x = x.values @ P"
   ]
  },
  {
   "cell_type": "markdown",
   "metadata": {},
   "source": [
    "<div class=\"alert alert-warning\">\n",
    "<h2> Комментарий ревьюера <a class=\"tocSkip\"> </h2>\n",
    "    \n",
    "<b>Некоторые замечания и рекомендации💡:</b> \n",
    "    \n",
    "На будущее хочу предостеречь: в питоне есть несколько способов получить произведение матриц (`numpy.dot()`, `numpy.multiply()`, `numpy.matmul()`, через операторы  `*` и `@`), но нужно учитывать, что результаты некоторых из них могут отличаться.\n",
    "\n",
    "* `numpy.multiply()` - это поэлементное перемножение матриц (новая матрица заполняется произведениями элементов с одинаковыми индексами), аналог оператора `*`\n",
    "\n",
    "* `numpy.matmul()` - аналог оператора `@`\n",
    "\n",
    "* `numpy.dot()` - на двумерных матрицах выдает тот же результат, что и `numpy.matmul()` и `@`, но на трехмерных и более многомерных матрицах результаты уже будут отличаться\n",
    "\n",
    "Какую когда выбирать, зависит от задачи, которую ты решаешь. То есть важно понимать, какой результат ты получишь, и соответствует ли это тому, что тебе необходимо получить. Если хорошо владеешь английским, то вот <a href='https://mkang32.github.io/python/2020/08/30/numpy-matmul.html'>тут</a> достаточно хорошо разбирается различие между этими функциями."
   ]
  },
  {
   "cell_type": "markdown",
   "metadata": {},
   "source": [
    "<div class=\"alert alert-info\">\n",
    "<h2> Комментарий студента<a class=\"tocSkip\"></h2>\n",
    "Английский у меня на среднем уровне, разговорный неплохо знаю, но техниеский пока не так хорошо. Можешь коротко сказать когда мы испльзуем np.dot() и когда @, если у нас будет не двухмерная матрица, и вообще когда n>2-мерные матрицы могут встретиться нам машинном обучении или аналитике?\n",
    "</div>"
   ]
  },
  {
   "cell_type": "markdown",
   "metadata": {},
   "source": [
    "<div class=\"alert alert-success\">\n",
    "<b>Комментарий ревьюера 2:</b> Многомерные массивы данных называют тензорами. Тензоры как правило могут использоваться для обучения нейронных сетей по картинкам (3д объект - ширина, высота, цвет) или видео (4д объект - серия кадров, которые, как мы вяснили, являются 3д объектами). Как там производится умножение, объяснять сейчас не возьмусь, это на разложишь в одном комментарии, да и пока, наверное, ни к чему. Для двумерных матриц можешь использовать любой из вариантов, результат будет одинаковый."
   ]
  },
  {
   "cell_type": "markdown",
   "metadata": {},
   "source": [
    "Делим закодированную выборку на тестовую и обучающую"
   ]
  },
  {
   "cell_type": "code",
   "execution_count": 29,
   "metadata": {},
   "outputs": [],
   "source": [
    "cx_train, cx_test, y_train, y_test = tts(code_x, y, test_size=0.25, random_state=s)"
   ]
  },
  {
   "cell_type": "markdown",
   "metadata": {},
   "source": [
    "<div class=\"alert alert-success\">\n",
    "<h2> Комментарий ревьюера <a class=\"tocSkip\"> </h2>\n",
    "\n",
    "<b>Отличная работа!👍:</b> \n",
    "    \n",
    "Круто, что продолжаешь следовать всем канонам машинного обучения и делишь выборку на тестовую и тренировочную! "
   ]
  },
  {
   "cell_type": "markdown",
   "metadata": {},
   "source": [
    "Обучаем и проверяем модель"
   ]
  },
  {
   "cell_type": "code",
   "execution_count": 30,
   "metadata": {},
   "outputs": [
    {
     "data": {
      "text/plain": [
       "0.4032026145046488"
      ]
     },
     "execution_count": 30,
     "metadata": {},
     "output_type": "execute_result"
    }
   ],
   "source": [
    "model = LR()\n",
    "model.fit(cx_train, y_train)\n",
    "code_pred = model.predict(cx_test)\n",
    "code_r2 = r2(y_test, code_pred)\n",
    "code_r2"
   ]
  },
  {
   "cell_type": "markdown",
   "metadata": {},
   "source": [
    "Обучаем модель на исходных данных для сравнения"
   ]
  },
  {
   "cell_type": "code",
   "execution_count": 31,
   "metadata": {},
   "outputs": [
    {
     "data": {
      "text/plain": [
       "0.4032026145039296"
      ]
     },
     "execution_count": 31,
     "metadata": {},
     "output_type": "execute_result"
    }
   ],
   "source": [
    "x_train, x_test, y_train, y_test = tts(x, y, test_size=0.25, random_state=s)\n",
    "model = LR()\n",
    "model.fit(x_train, y_train)\n",
    "pred = model.predict(x_test)\n",
    "n_r2 = r2(y_test, pred)\n",
    "n_r2"
   ]
  },
  {
   "cell_type": "code",
   "execution_count": 32,
   "metadata": {},
   "outputs": [
    {
     "name": "stdout",
     "output_type": "stream",
     "text": [
      "R2 score на закодированных данных: 0.403202614505\n",
      "R2 score на исходных данных: 0.403202614504\n",
      "\n",
      "R2 score совпадает\n"
     ]
    }
   ],
   "source": [
    "print('R2 score на закодированных данных:',np.round(code_r2,12))\n",
    "print('R2 score на исходных данных:',np.round(n_r2,12))\n",
    "print()\n",
    "\n",
    "if np.round(code_r2,6) == np.round(n_r2,6):\n",
    "    print('R2 score совпадает')\n",
    "else:\n",
    "    print('R2 score НЕ СОВПАДАЕТ')"
   ]
  },
  {
   "cell_type": "markdown",
   "metadata": {},
   "source": [
    "<div class=\"alert alert-success\">\n",
    "<h2> Комментарий ревьюера <a class=\"tocSkip\"> </h2> \n",
    "    \n",
    "<b>Все отлично! 👍:</b> \n",
    "    \n",
    "Супер! Справились с задачей :)"
   ]
  },
  {
   "cell_type": "markdown",
   "metadata": {},
   "source": [
    "<div class=\"alert alert-warning\">\n",
    "<h2> Комментарий ревьюера <a class=\"tocSkip\"> </h2>\n",
    "    \n",
    "<b>Некоторые замечания и рекомендации💡:</b> \n",
    "\n",
    "Чтобы дополнить работу, можно еще попробовать расшифровать данные и убедиться, что это и правда возможно при наличии ключа. Также есть еще предложение попробовать создать специальный алгоритм-дешифровщик и объединить его с алгоритмом-шифровщиком одним классом: шифровщик будет генерировать матрицу, проверять ее и сохранять внутри объекта, а дешифровщик сможет обращаться к ключу, хранящемуся внутри объекта, и использовать его для расшифровки. Подробнее про классы <a href = 'https://highload.today/kak-sozdavat-klassy-v-python-so-znaniem-dela-razbiraem-na-primerah/'>тут</a>."
   ]
  },
  {
   "cell_type": "markdown",
   "metadata": {},
   "source": [
    "<div class=\"alert alert-info\">\n",
    "<h2> Комментарий студента<a class=\"tocSkip\"></h2>\n",
    "Отличная статья! Буду поглядывать в неё при создании классов. ) \n",
    "С шифровщиком-дешифровщиком попробую попрактикаватся позже, голова хочет отдохнуть от линейной алгебры и перейти к следующему проекту. Но если ты можешь скинуть ещё что-нибудь интересное, я буду только рад!\n",
    "</div>"
   ]
  },
  {
   "cell_type": "markdown",
   "metadata": {},
   "source": [
    "<div class=\"alert alert-success\">\n",
    "<b>Комментарий ревьюера 2:</b> Так и быть, договорились :)\n",
    "    \n",
    "Что-то интересное:\n",
    "    \n",
    "* Касательно линейной алгебры:\n",
    "    1. <a href = 'http://alik-abdulin.com/matrixes/matrixes.html'>Основы с подробными объяснениями</a>\n",
    "    2. <a href = 'https://math1.ru/education.html'>Раздел с ЛА, тоже основы с примерами</a>\n",
    "    3. <a href = 'https://youtube.com/playlist?list=PLZHQObOWTQDPD3MizzM2xVFitgF8hE_ab'>Разбор сути ЛА, серия видео на английском, есть русские субтитры</a>\n",
    "    5. <a href = 'https://datahacker.rs/linear-algebra/'>Наглядный разбор понятий и применения на аглийском</a>\n",
    "    6. <a href = 'https://qudata.com/ml/ru/NN_Base_Numpy.html'>Немного про тензоры и NumPy</a> \n",
    "    \n",
    "* В целом по ML:\n",
    "    4. <a href = 'https://stepik.org/course/4852/promo '>Интересно и понятно поданная база</a>\n",
    "    1. <a href = ''></a><a href = 'https://habr.com/ru/company/ods/blog/322626/'>Курс от ODS, очень хвалят</a>\n",
    "    2. <a href = 'https://ml-handbook.ru/'>Небольшой учебник от ШАД Яндекса</a>\n",
    "    5. <a href = 'https://qudata.com/ml/ru/'>Тоже основы уже более математизированным языком</a>\n",
    "    3. <a href = 'https://datahacker.rs/machine-learning/'>На английском, но наглядно</a> \n",
    "    \n",
    "    \n",
    "Не ML, но <a href = 'https://stepik.org/course/63054/promo'>крутой курс по SQL</a>, тоже пригодится для трудоустройства."
   ]
  },
  {
   "cell_type": "markdown",
   "metadata": {},
   "source": [
    "## Вывод"
   ]
  },
  {
   "cell_type": "markdown",
   "metadata": {},
   "source": [
    "По итогу работы мы создали алгоритм преобразования данных для защиты клиентской базы. Алгоритм был проверен в сравнении с исходными данными. Модель логистической регрессии показывает одинаковый результат предсказания по метрике R2 на обоих типах данных. Значит данный алгоритм преобразования работает правильно.\n",
    "\n",
    "\n",
    "Так же по итогу исследовательского анализа было выявлено следующее:\n",
    "- 88.72% клиентов не получали ни одной выплаты.\n",
    "- Обнаружена высокая корреляция возраста и количества выплат (0.65)\n",
    "- У тех кто моложе 42 лет вообще отсуствуют выплаты.\n",
    "- Вероятно признак возраст будет иметь самый большой вес в обучении модели."
   ]
  },
  {
   "cell_type": "markdown",
   "metadata": {},
   "source": [
    "## Чек-лист проверки"
   ]
  },
  {
   "cell_type": "markdown",
   "metadata": {},
   "source": [
    "Поставьте 'x' в выполненных пунктах. Далее нажмите Shift+Enter."
   ]
  },
  {
   "cell_type": "markdown",
   "metadata": {},
   "source": [
    "- [x]  Jupyter Notebook открыт\n",
    "- [x]  Весь код выполняется без ошибок\n",
    "- [x]  Ячейки с кодом расположены в порядке исполнения\n",
    "- [x]  Выполнен шаг 1: данные загружены\n",
    "- [x]  Выполнен шаг 2: получен ответ на вопрос об умножении матриц\n",
    "    - [x]  Указан правильный вариант ответа\n",
    "    - [x]  Вариант обоснован\n",
    "- [x]  Выполнен шаг 3: предложен алгоритм преобразования\n",
    "    - [x]  Алгоритм описан\n",
    "    - [x]  Алгоритм обоснован\n",
    "- [x]  Выполнен шаг 4: алгоритм проверен\n",
    "    - [x]  Алгоритм реализован\n",
    "    - [x]  Проведено сравнение качества моделей до и после преобразования"
   ]
  },
  {
   "cell_type": "markdown",
   "metadata": {},
   "source": [
    "<div style=\"border:solid Chocolate 2px; padding: 40px\">\n",
    "\n",
    "**Общий вывод по проекту**\n",
    "\n",
    "Фёдор, спасибо за твой проект! У тебя замечательная работа! Очень аккуратная, снабженная пояснениями и выводами. Проверять - одно удовольствие! Осталось только доработать доказательство, тогда все будет на высоте :) Если у тебя есть вопросы, или появится желание разобраться в чем-то подробнее, смело обращайся!\n",
    "\n",
    "**Желаю удачи и жду твой проект на повторное ревью!** 😉\n",
    "    \n",
    "<img src=\"https://c.tenor.com/D4geDkAW9jgAAAAj/cat-paw.gif\" width=\"100\" height=\"50\"/>"
   ]
  },
  {
   "cell_type": "markdown",
   "metadata": {},
   "source": [
    "<div class=\"alert alert-info\">\n",
    "<h2> Комментарий студента<a class=\"tocSkip\"></h2>\n",
    "Спасибо за ревью, жду твоей следующей проверки. ))\n",
    "</div>"
   ]
  },
  {
   "cell_type": "markdown",
   "metadata": {},
   "source": [
    "<div class=\"alert alert-success\">\n",
    "<b>Комментарий ревьюера 2:</b> Проект готов, ты мастерски справился с доказательством! Было очень приятно с тобой поработать :) Желаю огромных успехов в дальнейшем обучении и карьерных достижений! 🍀"
   ]
  },
  {
   "cell_type": "code",
   "execution_count": null,
   "metadata": {},
   "outputs": [],
   "source": []
  }
 ],
 "metadata": {
  "ExecuteTimeLog": [
   {
    "duration": 1335,
    "start_time": "2022-10-07T12:36:26.617Z"
   },
   {
    "duration": 77,
    "start_time": "2022-10-07T12:37:44.106Z"
   },
   {
    "duration": 19,
    "start_time": "2022-10-07T12:37:53.630Z"
   },
   {
    "duration": 9,
    "start_time": "2022-10-07T12:38:41.222Z"
   },
   {
    "duration": 9,
    "start_time": "2022-10-07T12:38:49.699Z"
   },
   {
    "duration": 8,
    "start_time": "2022-10-07T12:38:52.924Z"
   },
   {
    "duration": 90,
    "start_time": "2022-10-07T12:39:13.569Z"
   },
   {
    "duration": 132,
    "start_time": "2022-10-07T12:40:04.098Z"
   },
   {
    "duration": 881,
    "start_time": "2022-10-07T12:40:10.686Z"
   },
   {
    "duration": 1002,
    "start_time": "2022-10-07T12:40:13.950Z"
   },
   {
    "duration": 29,
    "start_time": "2022-10-07T12:40:18.205Z"
   },
   {
    "duration": 13,
    "start_time": "2022-10-07T12:40:50.249Z"
   },
   {
    "duration": 10,
    "start_time": "2022-10-07T12:40:57.229Z"
   },
   {
    "duration": 137,
    "start_time": "2022-10-07T12:41:55.227Z"
   },
   {
    "duration": 8,
    "start_time": "2022-10-07T12:41:58.640Z"
   },
   {
    "duration": 12,
    "start_time": "2022-10-07T12:42:38.819Z"
   },
   {
    "duration": 16,
    "start_time": "2022-10-07T12:43:15.764Z"
   },
   {
    "duration": 15,
    "start_time": "2022-10-07T12:43:28.519Z"
   },
   {
    "duration": 16,
    "start_time": "2022-10-07T12:44:38.916Z"
   },
   {
    "duration": 14,
    "start_time": "2022-10-07T12:44:43.519Z"
   },
   {
    "duration": 16,
    "start_time": "2022-10-07T12:44:45.978Z"
   },
   {
    "duration": 24,
    "start_time": "2022-10-07T12:44:58.314Z"
   },
   {
    "duration": 22,
    "start_time": "2022-10-07T12:46:47.786Z"
   },
   {
    "duration": 23,
    "start_time": "2022-10-07T12:47:24.689Z"
   },
   {
    "duration": 19,
    "start_time": "2022-10-07T12:47:31.004Z"
   },
   {
    "duration": 16,
    "start_time": "2022-10-07T12:48:08.697Z"
   },
   {
    "duration": 18,
    "start_time": "2022-10-07T12:49:55.937Z"
   },
   {
    "duration": 10,
    "start_time": "2022-10-07T12:52:35.790Z"
   },
   {
    "duration": 24,
    "start_time": "2022-10-07T12:52:41.391Z"
   },
   {
    "duration": 13,
    "start_time": "2022-10-07T12:58:10.347Z"
   },
   {
    "duration": 15,
    "start_time": "2022-10-07T12:58:32.139Z"
   },
   {
    "duration": 14,
    "start_time": "2022-10-07T12:58:49.238Z"
   },
   {
    "duration": 11,
    "start_time": "2022-10-07T12:59:00.414Z"
   },
   {
    "duration": 45,
    "start_time": "2022-10-07T13:03:22.095Z"
   },
   {
    "duration": 3,
    "start_time": "2022-10-07T13:03:36.309Z"
   },
   {
    "duration": 7,
    "start_time": "2022-10-07T13:03:48.644Z"
   },
   {
    "duration": 7,
    "start_time": "2022-10-07T13:03:54.475Z"
   },
   {
    "duration": 4,
    "start_time": "2022-10-07T13:04:14.240Z"
   },
   {
    "duration": 11,
    "start_time": "2022-10-07T13:04:16.847Z"
   },
   {
    "duration": 3,
    "start_time": "2022-10-07T13:04:46.567Z"
   },
   {
    "duration": 10,
    "start_time": "2022-10-07T13:04:47.637Z"
   },
   {
    "duration": 7,
    "start_time": "2022-10-07T13:05:24.724Z"
   },
   {
    "duration": 3,
    "start_time": "2022-10-07T13:05:36.537Z"
   },
   {
    "duration": 7,
    "start_time": "2022-10-07T13:06:05.067Z"
   },
   {
    "duration": 7,
    "start_time": "2022-10-07T13:06:23.590Z"
   },
   {
    "duration": 7,
    "start_time": "2022-10-07T13:06:42.843Z"
   },
   {
    "duration": 10,
    "start_time": "2022-10-07T13:07:55.318Z"
   },
   {
    "duration": 13,
    "start_time": "2022-10-07T13:10:18.879Z"
   },
   {
    "duration": 4,
    "start_time": "2022-10-07T13:11:26.942Z"
   },
   {
    "duration": 14,
    "start_time": "2022-10-07T13:11:29.042Z"
   },
   {
    "duration": 10,
    "start_time": "2022-10-07T13:11:43.784Z"
   },
   {
    "duration": 964,
    "start_time": "2022-10-07T13:11:49.972Z"
   },
   {
    "duration": 5,
    "start_time": "2022-10-07T13:12:21.152Z"
   },
   {
    "duration": 229,
    "start_time": "2022-10-07T13:12:23.158Z"
   },
   {
    "duration": 4,
    "start_time": "2022-10-07T13:12:39.322Z"
   },
   {
    "duration": 19,
    "start_time": "2022-10-07T13:12:41.573Z"
   },
   {
    "duration": 853,
    "start_time": "2022-10-07T13:12:58.037Z"
   },
   {
    "duration": 1065,
    "start_time": "2022-10-07T13:13:05.547Z"
   },
   {
    "duration": 199,
    "start_time": "2022-10-07T13:13:14.332Z"
   },
   {
    "duration": 937,
    "start_time": "2022-10-07T13:13:58.269Z"
   },
   {
    "duration": 977,
    "start_time": "2022-10-07T13:14:07.176Z"
   },
   {
    "duration": 14,
    "start_time": "2022-10-07T13:14:14.092Z"
   },
   {
    "duration": 199,
    "start_time": "2022-10-07T13:14:28.323Z"
   },
   {
    "duration": 212,
    "start_time": "2022-10-07T13:14:41.586Z"
   },
   {
    "duration": 223,
    "start_time": "2022-10-07T13:14:52.266Z"
   },
   {
    "duration": 290,
    "start_time": "2022-10-07T13:15:00.369Z"
   },
   {
    "duration": 156,
    "start_time": "2022-10-07T13:15:13.544Z"
   },
   {
    "duration": 4,
    "start_time": "2022-10-07T13:18:33.096Z"
   },
   {
    "duration": 9,
    "start_time": "2022-10-07T13:18:35.195Z"
   },
   {
    "duration": 16,
    "start_time": "2022-10-07T13:18:37.296Z"
   },
   {
    "duration": 62,
    "start_time": "2022-10-07T13:18:41.791Z"
   },
   {
    "duration": 285,
    "start_time": "2022-10-07T13:19:06.644Z"
   },
   {
    "duration": 17,
    "start_time": "2022-10-07T13:20:10.299Z"
   },
   {
    "duration": 6,
    "start_time": "2022-10-07T13:23:54.928Z"
   },
   {
    "duration": 86,
    "start_time": "2022-10-07T13:24:24.201Z"
   },
   {
    "duration": 14,
    "start_time": "2022-10-07T13:27:31.075Z"
   },
   {
    "duration": 7,
    "start_time": "2022-10-07T13:28:18.144Z"
   },
   {
    "duration": 349,
    "start_time": "2022-10-07T13:30:24.176Z"
   },
   {
    "duration": 15936,
    "start_time": "2022-10-07T13:31:05.345Z"
   },
   {
    "duration": 341,
    "start_time": "2022-10-07T13:31:50.129Z"
   },
   {
    "duration": 23,
    "start_time": "2022-10-07T13:52:42.532Z"
   },
   {
    "duration": 155,
    "start_time": "2022-10-07T13:53:43.323Z"
   },
   {
    "duration": 184,
    "start_time": "2022-10-07T13:53:49.781Z"
   },
   {
    "duration": 266,
    "start_time": "2022-10-07T13:53:57.235Z"
   },
   {
    "duration": 191,
    "start_time": "2022-10-07T13:54:04.398Z"
   },
   {
    "duration": 203,
    "start_time": "2022-10-07T13:54:17.771Z"
   },
   {
    "duration": 200,
    "start_time": "2022-10-07T13:54:22.249Z"
   },
   {
    "duration": 71,
    "start_time": "2022-10-07T13:55:26.246Z"
   },
   {
    "duration": 190,
    "start_time": "2022-10-07T13:55:39.805Z"
   },
   {
    "duration": 162,
    "start_time": "2022-10-07T13:58:17.360Z"
   },
   {
    "duration": 137,
    "start_time": "2022-10-07T13:58:28.775Z"
   },
   {
    "duration": 53,
    "start_time": "2022-10-07T13:58:40.778Z"
   },
   {
    "duration": 111,
    "start_time": "2022-10-07T13:58:45.372Z"
   },
   {
    "duration": 216,
    "start_time": "2022-10-07T13:58:51.877Z"
   },
   {
    "duration": 136,
    "start_time": "2022-10-07T13:59:43.966Z"
   },
   {
    "duration": 141,
    "start_time": "2022-10-07T13:59:47.817Z"
   },
   {
    "duration": 85,
    "start_time": "2022-10-07T14:00:14.216Z"
   },
   {
    "duration": 205,
    "start_time": "2022-10-07T14:00:22.989Z"
   },
   {
    "duration": 284,
    "start_time": "2022-10-07T14:00:31.878Z"
   },
   {
    "duration": 252,
    "start_time": "2022-10-07T14:01:00.831Z"
   },
   {
    "duration": 508,
    "start_time": "2022-10-07T14:01:07.963Z"
   },
   {
    "duration": 136,
    "start_time": "2022-10-07T14:01:34.395Z"
   },
   {
    "duration": 212,
    "start_time": "2022-10-07T14:01:48.911Z"
   },
   {
    "duration": 218,
    "start_time": "2022-10-07T14:01:58.229Z"
   },
   {
    "duration": 224,
    "start_time": "2022-10-07T14:02:24.933Z"
   },
   {
    "duration": 6,
    "start_time": "2022-10-07T14:04:14.217Z"
   },
   {
    "duration": 253,
    "start_time": "2022-10-07T14:05:42.263Z"
   },
   {
    "duration": 248,
    "start_time": "2022-10-07T14:06:04.102Z"
   },
   {
    "duration": 5,
    "start_time": "2022-10-08T09:55:10.307Z"
   },
   {
    "duration": 45,
    "start_time": "2022-10-08T09:56:01.486Z"
   },
   {
    "duration": 1026,
    "start_time": "2022-10-08T09:56:07.928Z"
   },
   {
    "duration": 82,
    "start_time": "2022-10-08T09:56:08.956Z"
   },
   {
    "duration": 24,
    "start_time": "2022-10-08T09:56:09.040Z"
   },
   {
    "duration": 9,
    "start_time": "2022-10-08T09:56:09.066Z"
   },
   {
    "duration": 8,
    "start_time": "2022-10-08T09:56:09.076Z"
   },
   {
    "duration": 20,
    "start_time": "2022-10-08T09:56:09.086Z"
   },
   {
    "duration": 3,
    "start_time": "2022-10-08T09:56:09.108Z"
   },
   {
    "duration": 9,
    "start_time": "2022-10-08T09:56:09.112Z"
   },
   {
    "duration": 11,
    "start_time": "2022-10-08T09:56:09.123Z"
   },
   {
    "duration": 668,
    "start_time": "2022-10-08T09:56:09.136Z"
   },
   {
    "duration": 2,
    "start_time": "2022-10-08T09:56:09.806Z"
   },
   {
    "duration": 9,
    "start_time": "2022-10-08T09:56:09.810Z"
   },
   {
    "duration": 13,
    "start_time": "2022-10-08T09:56:09.820Z"
   },
   {
    "duration": 5,
    "start_time": "2022-10-08T09:56:09.835Z"
   },
   {
    "duration": 219,
    "start_time": "2022-10-08T09:56:09.841Z"
   },
   {
    "duration": 207,
    "start_time": "2022-10-08T09:56:10.061Z"
   },
   {
    "duration": 10,
    "start_time": "2022-10-08T09:56:10.270Z"
   },
   {
    "duration": 269,
    "start_time": "2022-10-08T09:58:24.705Z"
   },
   {
    "duration": 19,
    "start_time": "2022-10-08T10:35:15.147Z"
   },
   {
    "duration": 18,
    "start_time": "2022-10-08T10:35:36.687Z"
   },
   {
    "duration": 47,
    "start_time": "2022-10-08T13:21:14.412Z"
   },
   {
    "duration": 1019,
    "start_time": "2022-10-08T13:21:24.663Z"
   },
   {
    "duration": 80,
    "start_time": "2022-10-08T13:21:25.683Z"
   },
   {
    "duration": 23,
    "start_time": "2022-10-08T13:21:25.765Z"
   },
   {
    "duration": 8,
    "start_time": "2022-10-08T13:21:25.790Z"
   },
   {
    "duration": 9,
    "start_time": "2022-10-08T13:21:25.800Z"
   },
   {
    "duration": 17,
    "start_time": "2022-10-08T13:21:25.811Z"
   },
   {
    "duration": 3,
    "start_time": "2022-10-08T13:21:25.833Z"
   },
   {
    "duration": 11,
    "start_time": "2022-10-08T13:21:25.837Z"
   },
   {
    "duration": 11,
    "start_time": "2022-10-08T13:21:25.850Z"
   },
   {
    "duration": 726,
    "start_time": "2022-10-08T13:21:25.863Z"
   },
   {
    "duration": 2,
    "start_time": "2022-10-08T13:21:26.591Z"
   },
   {
    "duration": 12,
    "start_time": "2022-10-08T13:21:26.594Z"
   },
   {
    "duration": 10,
    "start_time": "2022-10-08T13:21:26.607Z"
   },
   {
    "duration": 15,
    "start_time": "2022-10-08T13:21:26.619Z"
   },
   {
    "duration": 204,
    "start_time": "2022-10-08T13:21:26.635Z"
   },
   {
    "duration": 202,
    "start_time": "2022-10-08T13:21:26.841Z"
   },
   {
    "duration": 5,
    "start_time": "2022-10-08T13:21:27.045Z"
   },
   {
    "duration": 2,
    "start_time": "2022-10-08T13:39:25.590Z"
   },
   {
    "duration": 46,
    "start_time": "2022-10-08T13:39:36.523Z"
   },
   {
    "duration": 4,
    "start_time": "2022-10-08T13:41:57.174Z"
   },
   {
    "duration": 3,
    "start_time": "2022-10-08T13:43:08.170Z"
   },
   {
    "duration": 4,
    "start_time": "2022-10-08T13:44:34.966Z"
   },
   {
    "duration": 5,
    "start_time": "2022-10-08T13:46:06.887Z"
   },
   {
    "duration": 3,
    "start_time": "2022-10-08T13:47:31.138Z"
   },
   {
    "duration": 2,
    "start_time": "2022-10-08T13:48:08.995Z"
   },
   {
    "duration": 3,
    "start_time": "2022-10-08T13:53:05.184Z"
   },
   {
    "duration": 6,
    "start_time": "2022-10-08T13:53:08.785Z"
   },
   {
    "duration": 3,
    "start_time": "2022-10-08T13:53:11.381Z"
   },
   {
    "duration": 4,
    "start_time": "2022-10-08T13:53:11.914Z"
   },
   {
    "duration": 2,
    "start_time": "2022-10-08T13:53:13.658Z"
   },
   {
    "duration": 4,
    "start_time": "2022-10-08T13:53:14.042Z"
   },
   {
    "duration": 4,
    "start_time": "2022-10-08T13:54:09.221Z"
   },
   {
    "duration": 11,
    "start_time": "2022-10-08T13:57:23.639Z"
   },
   {
    "duration": 5,
    "start_time": "2022-10-08T13:57:47.638Z"
   },
   {
    "duration": 116,
    "start_time": "2022-10-08T14:01:36.405Z"
   },
   {
    "duration": 9,
    "start_time": "2022-10-08T14:01:59.040Z"
   },
   {
    "duration": 8,
    "start_time": "2022-10-08T14:03:43.412Z"
   },
   {
    "duration": 8,
    "start_time": "2022-10-08T14:04:33.122Z"
   },
   {
    "duration": 5,
    "start_time": "2022-10-08T14:05:32.415Z"
   },
   {
    "duration": 6,
    "start_time": "2022-10-08T14:05:35.641Z"
   },
   {
    "duration": 10,
    "start_time": "2022-10-08T14:05:39.803Z"
   },
   {
    "duration": 5,
    "start_time": "2022-10-08T14:05:47.265Z"
   },
   {
    "duration": 2,
    "start_time": "2022-10-08T14:05:47.658Z"
   },
   {
    "duration": 4,
    "start_time": "2022-10-08T14:05:48.015Z"
   },
   {
    "duration": 5,
    "start_time": "2022-10-08T14:05:50.737Z"
   },
   {
    "duration": 8,
    "start_time": "2022-10-08T14:05:51.877Z"
   },
   {
    "duration": 8,
    "start_time": "2022-10-08T14:07:42.628Z"
   },
   {
    "duration": 5,
    "start_time": "2022-10-08T14:08:33.687Z"
   },
   {
    "duration": 5,
    "start_time": "2022-10-08T14:08:34.363Z"
   },
   {
    "duration": 9,
    "start_time": "2022-10-08T14:08:35.742Z"
   },
   {
    "duration": 3,
    "start_time": "2022-10-08T14:12:07.116Z"
   },
   {
    "duration": 4,
    "start_time": "2022-10-08T14:12:19.528Z"
   },
   {
    "duration": 6,
    "start_time": "2022-10-08T14:12:21.486Z"
   },
   {
    "duration": 10,
    "start_time": "2022-10-08T14:13:00.340Z"
   },
   {
    "duration": 8,
    "start_time": "2022-10-08T14:13:08.518Z"
   },
   {
    "duration": 10,
    "start_time": "2022-10-08T14:16:30.759Z"
   },
   {
    "duration": 4,
    "start_time": "2022-10-08T14:16:59.856Z"
   },
   {
    "duration": 3,
    "start_time": "2022-10-08T14:17:00.925Z"
   },
   {
    "duration": 73,
    "start_time": "2022-10-08T14:17:05.233Z"
   },
   {
    "duration": 3,
    "start_time": "2022-10-08T14:18:05.470Z"
   },
   {
    "duration": 3,
    "start_time": "2022-10-08T14:18:08.429Z"
   },
   {
    "duration": 4,
    "start_time": "2022-10-08T14:18:28.998Z"
   },
   {
    "duration": 43,
    "start_time": "2022-10-08T14:19:06.687Z"
   },
   {
    "duration": 77,
    "start_time": "2022-10-08T14:20:30.657Z"
   },
   {
    "duration": 10,
    "start_time": "2022-10-08T14:24:05.802Z"
   },
   {
    "duration": 4,
    "start_time": "2022-10-08T14:25:18.024Z"
   },
   {
    "duration": 40,
    "start_time": "2022-10-08T14:26:24.105Z"
   },
   {
    "duration": 11,
    "start_time": "2022-10-08T14:30:16.513Z"
   },
   {
    "duration": 50,
    "start_time": "2022-10-08T18:49:35.727Z"
   },
   {
    "duration": 8,
    "start_time": "2022-10-08T18:49:59.326Z"
   },
   {
    "duration": 1101,
    "start_time": "2022-10-08T18:50:05.470Z"
   },
   {
    "duration": 84,
    "start_time": "2022-10-08T18:50:06.573Z"
   },
   {
    "duration": 25,
    "start_time": "2022-10-08T18:50:06.658Z"
   },
   {
    "duration": 8,
    "start_time": "2022-10-08T18:50:06.684Z"
   },
   {
    "duration": 18,
    "start_time": "2022-10-08T18:50:06.695Z"
   },
   {
    "duration": 24,
    "start_time": "2022-10-08T18:50:06.716Z"
   },
   {
    "duration": 3,
    "start_time": "2022-10-08T18:50:06.741Z"
   },
   {
    "duration": 13,
    "start_time": "2022-10-08T18:50:06.746Z"
   },
   {
    "duration": 21,
    "start_time": "2022-10-08T18:50:06.761Z"
   },
   {
    "duration": 675,
    "start_time": "2022-10-08T18:50:06.786Z"
   },
   {
    "duration": 3,
    "start_time": "2022-10-08T18:50:07.463Z"
   },
   {
    "duration": 6,
    "start_time": "2022-10-08T18:50:07.477Z"
   },
   {
    "duration": 14,
    "start_time": "2022-10-08T18:50:07.484Z"
   },
   {
    "duration": 5,
    "start_time": "2022-10-08T18:50:07.500Z"
   },
   {
    "duration": 220,
    "start_time": "2022-10-08T18:50:07.507Z"
   },
   {
    "duration": 220,
    "start_time": "2022-10-08T18:50:07.729Z"
   },
   {
    "duration": 6,
    "start_time": "2022-10-08T18:50:07.951Z"
   },
   {
    "duration": 17,
    "start_time": "2022-10-08T18:50:07.959Z"
   },
   {
    "duration": 6,
    "start_time": "2022-10-08T18:50:07.978Z"
   },
   {
    "duration": 6,
    "start_time": "2022-10-08T18:50:07.986Z"
   },
   {
    "duration": 84,
    "start_time": "2022-10-08T18:50:07.994Z"
   },
   {
    "duration": 99,
    "start_time": "2022-10-08T18:50:08.080Z"
   },
   {
    "duration": 114,
    "start_time": "2022-10-08T18:50:08.181Z"
   },
   {
    "duration": 0,
    "start_time": "2022-10-08T18:50:08.297Z"
   },
   {
    "duration": 12,
    "start_time": "2022-10-08T18:50:46.605Z"
   },
   {
    "duration": 14,
    "start_time": "2022-10-08T18:51:04.138Z"
   },
   {
    "duration": 6,
    "start_time": "2022-10-08T18:51:36.826Z"
   },
   {
    "duration": 10,
    "start_time": "2022-10-08T18:53:48.079Z"
   },
   {
    "duration": 12,
    "start_time": "2022-10-08T18:54:05.594Z"
   },
   {
    "duration": 13,
    "start_time": "2022-10-08T18:54:26.781Z"
   },
   {
    "duration": 12,
    "start_time": "2022-10-08T18:54:31.638Z"
   },
   {
    "duration": 11,
    "start_time": "2022-10-08T18:54:36.438Z"
   },
   {
    "duration": 6,
    "start_time": "2022-10-08T18:54:49.395Z"
   },
   {
    "duration": 7,
    "start_time": "2022-10-08T18:54:52.939Z"
   },
   {
    "duration": 11,
    "start_time": "2022-10-08T18:54:56.224Z"
   },
   {
    "duration": 7,
    "start_time": "2022-10-08T18:54:58.846Z"
   },
   {
    "duration": 11,
    "start_time": "2022-10-08T18:55:01.676Z"
   },
   {
    "duration": 11,
    "start_time": "2022-10-08T18:55:09.101Z"
   },
   {
    "duration": 7,
    "start_time": "2022-10-08T18:55:10.881Z"
   },
   {
    "duration": 8,
    "start_time": "2022-10-08T18:57:27.013Z"
   },
   {
    "duration": 13,
    "start_time": "2022-10-08T18:57:27.538Z"
   },
   {
    "duration": 58,
    "start_time": "2022-10-08T18:59:15.276Z"
   },
   {
    "duration": 5,
    "start_time": "2022-10-08T18:59:24.430Z"
   },
   {
    "duration": 5,
    "start_time": "2022-10-08T18:59:42.056Z"
   },
   {
    "duration": 1024,
    "start_time": "2022-10-08T18:59:56.822Z"
   },
   {
    "duration": 33,
    "start_time": "2022-10-08T18:59:57.849Z"
   },
   {
    "duration": 25,
    "start_time": "2022-10-08T18:59:57.884Z"
   },
   {
    "duration": 8,
    "start_time": "2022-10-08T18:59:57.912Z"
   },
   {
    "duration": 8,
    "start_time": "2022-10-08T18:59:57.922Z"
   },
   {
    "duration": 22,
    "start_time": "2022-10-08T18:59:57.932Z"
   },
   {
    "duration": 3,
    "start_time": "2022-10-08T18:59:57.976Z"
   },
   {
    "duration": 9,
    "start_time": "2022-10-08T18:59:57.981Z"
   },
   {
    "duration": 12,
    "start_time": "2022-10-08T18:59:57.991Z"
   },
   {
    "duration": 503,
    "start_time": "2022-10-08T18:59:58.006Z"
   },
   {
    "duration": 3,
    "start_time": "2022-10-08T18:59:58.510Z"
   },
   {
    "duration": 35,
    "start_time": "2022-10-08T18:59:58.514Z"
   },
   {
    "duration": 14,
    "start_time": "2022-10-08T18:59:58.552Z"
   },
   {
    "duration": 6,
    "start_time": "2022-10-08T18:59:58.569Z"
   },
   {
    "duration": 209,
    "start_time": "2022-10-08T18:59:58.577Z"
   },
   {
    "duration": 216,
    "start_time": "2022-10-08T18:59:58.787Z"
   },
   {
    "duration": 6,
    "start_time": "2022-10-08T18:59:59.004Z"
   },
   {
    "duration": 5,
    "start_time": "2022-10-08T18:59:59.012Z"
   },
   {
    "duration": 7,
    "start_time": "2022-10-08T18:59:59.018Z"
   },
   {
    "duration": 6,
    "start_time": "2022-10-08T18:59:59.026Z"
   },
   {
    "duration": 46,
    "start_time": "2022-10-08T18:59:59.034Z"
   },
   {
    "duration": 17,
    "start_time": "2022-10-08T18:59:59.082Z"
   },
   {
    "duration": 84,
    "start_time": "2022-10-08T18:59:59.100Z"
   },
   {
    "duration": 11,
    "start_time": "2022-10-08T18:59:59.186Z"
   },
   {
    "duration": 4,
    "start_time": "2022-10-08T18:59:59.199Z"
   },
   {
    "duration": 5,
    "start_time": "2022-10-08T19:00:32.398Z"
   },
   {
    "duration": 47,
    "start_time": "2022-10-08T19:02:05.097Z"
   },
   {
    "duration": 1082,
    "start_time": "2022-10-08T19:09:54.587Z"
   },
   {
    "duration": 34,
    "start_time": "2022-10-08T19:09:55.671Z"
   },
   {
    "duration": 24,
    "start_time": "2022-10-08T19:09:55.707Z"
   },
   {
    "duration": 8,
    "start_time": "2022-10-08T19:09:55.733Z"
   },
   {
    "duration": 8,
    "start_time": "2022-10-08T19:09:55.743Z"
   },
   {
    "duration": 25,
    "start_time": "2022-10-08T19:09:55.752Z"
   },
   {
    "duration": 3,
    "start_time": "2022-10-08T19:09:55.779Z"
   },
   {
    "duration": 13,
    "start_time": "2022-10-08T19:09:55.783Z"
   },
   {
    "duration": 9,
    "start_time": "2022-10-08T19:09:55.798Z"
   },
   {
    "duration": 471,
    "start_time": "2022-10-08T19:09:55.808Z"
   },
   {
    "duration": 3,
    "start_time": "2022-10-08T19:09:56.281Z"
   },
   {
    "duration": 9,
    "start_time": "2022-10-08T19:09:56.286Z"
   },
   {
    "duration": 9,
    "start_time": "2022-10-08T19:09:56.297Z"
   },
   {
    "duration": 4,
    "start_time": "2022-10-08T19:09:56.309Z"
   },
   {
    "duration": 217,
    "start_time": "2022-10-08T19:09:56.315Z"
   },
   {
    "duration": 225,
    "start_time": "2022-10-08T19:09:56.533Z"
   },
   {
    "duration": 15,
    "start_time": "2022-10-08T19:09:56.761Z"
   },
   {
    "duration": 5,
    "start_time": "2022-10-08T19:09:56.778Z"
   },
   {
    "duration": 13,
    "start_time": "2022-10-08T19:09:56.784Z"
   },
   {
    "duration": 12,
    "start_time": "2022-10-08T19:09:56.798Z"
   },
   {
    "duration": 68,
    "start_time": "2022-10-08T19:09:56.812Z"
   },
   {
    "duration": 6,
    "start_time": "2022-10-08T19:09:56.882Z"
   },
   {
    "duration": 93,
    "start_time": "2022-10-08T19:09:56.889Z"
   },
   {
    "duration": 15,
    "start_time": "2022-10-08T19:09:56.984Z"
   },
   {
    "duration": 26,
    "start_time": "2022-10-08T19:09:57.001Z"
   },
   {
    "duration": 1131,
    "start_time": "2022-10-09T15:24:17.603Z"
   },
   {
    "duration": 82,
    "start_time": "2022-10-09T15:24:18.736Z"
   },
   {
    "duration": 23,
    "start_time": "2022-10-09T15:24:18.819Z"
   },
   {
    "duration": 8,
    "start_time": "2022-10-09T15:24:18.844Z"
   },
   {
    "duration": 10,
    "start_time": "2022-10-09T15:24:18.853Z"
   },
   {
    "duration": 23,
    "start_time": "2022-10-09T15:24:18.864Z"
   },
   {
    "duration": 3,
    "start_time": "2022-10-09T15:24:18.889Z"
   },
   {
    "duration": 16,
    "start_time": "2022-10-09T15:24:18.894Z"
   },
   {
    "duration": 33,
    "start_time": "2022-10-09T15:24:18.912Z"
   },
   {
    "duration": 626,
    "start_time": "2022-10-09T15:24:18.948Z"
   },
   {
    "duration": 2,
    "start_time": "2022-10-09T15:24:19.576Z"
   },
   {
    "duration": 22,
    "start_time": "2022-10-09T15:24:19.580Z"
   },
   {
    "duration": 15,
    "start_time": "2022-10-09T15:24:19.604Z"
   },
   {
    "duration": 18,
    "start_time": "2022-10-09T15:24:19.621Z"
   },
   {
    "duration": 175,
    "start_time": "2022-10-09T15:24:19.641Z"
   },
   {
    "duration": 204,
    "start_time": "2022-10-09T15:24:19.818Z"
   },
   {
    "duration": 14,
    "start_time": "2022-10-09T15:24:20.024Z"
   },
   {
    "duration": 11,
    "start_time": "2022-10-09T15:24:20.040Z"
   },
   {
    "duration": 118,
    "start_time": "2022-10-09T15:24:20.052Z"
   },
   {
    "duration": 0,
    "start_time": "2022-10-09T15:24:20.171Z"
   },
   {
    "duration": 0,
    "start_time": "2022-10-09T15:24:20.172Z"
   },
   {
    "duration": 0,
    "start_time": "2022-10-09T15:24:20.173Z"
   },
   {
    "duration": 0,
    "start_time": "2022-10-09T15:24:20.174Z"
   },
   {
    "duration": 0,
    "start_time": "2022-10-09T15:24:20.175Z"
   },
   {
    "duration": 0,
    "start_time": "2022-10-09T15:24:20.176Z"
   },
   {
    "duration": 10,
    "start_time": "2022-10-09T15:24:45.890Z"
   },
   {
    "duration": 5,
    "start_time": "2022-10-09T15:24:52.131Z"
   },
   {
    "duration": 6,
    "start_time": "2022-10-09T15:24:59.614Z"
   },
   {
    "duration": 5,
    "start_time": "2022-10-09T15:25:02.015Z"
   },
   {
    "duration": 11,
    "start_time": "2022-10-09T15:25:06.271Z"
   },
   {
    "duration": 3,
    "start_time": "2022-10-09T15:25:09.721Z"
   },
   {
    "duration": 3,
    "start_time": "2022-10-09T15:25:13.828Z"
   },
   {
    "duration": 9,
    "start_time": "2022-10-09T15:25:16.960Z"
   },
   {
    "duration": 11,
    "start_time": "2022-10-09T15:25:18.345Z"
   },
   {
    "duration": 4,
    "start_time": "2022-10-09T15:25:20.561Z"
   },
   {
    "duration": 1692,
    "start_time": "2022-10-10T15:23:35.676Z"
   },
   {
    "duration": 75,
    "start_time": "2022-10-10T15:23:40.976Z"
   },
   {
    "duration": 23,
    "start_time": "2022-10-10T15:23:41.577Z"
   },
   {
    "duration": 8,
    "start_time": "2022-10-10T15:23:42.531Z"
   },
   {
    "duration": 6,
    "start_time": "2022-10-10T15:23:43.449Z"
   },
   {
    "duration": 17,
    "start_time": "2022-10-10T15:23:46.149Z"
   },
   {
    "duration": 3,
    "start_time": "2022-10-10T15:23:50.142Z"
   },
   {
    "duration": 6,
    "start_time": "2022-10-10T15:23:51.174Z"
   },
   {
    "duration": 9,
    "start_time": "2022-10-10T15:23:55.111Z"
   },
   {
    "duration": 231,
    "start_time": "2022-10-10T15:23:58.168Z"
   },
   {
    "duration": 3,
    "start_time": "2022-10-10T15:24:02.453Z"
   },
   {
    "duration": 5,
    "start_time": "2022-10-10T15:24:05.467Z"
   },
   {
    "duration": 10,
    "start_time": "2022-10-10T15:24:07.915Z"
   },
   {
    "duration": 6,
    "start_time": "2022-10-10T15:24:08.631Z"
   },
   {
    "duration": 160,
    "start_time": "2022-10-10T15:24:12.886Z"
   },
   {
    "duration": 191,
    "start_time": "2022-10-10T15:24:16.805Z"
   },
   {
    "duration": 5,
    "start_time": "2022-10-10T15:24:21.805Z"
   },
   {
    "duration": 122,
    "start_time": "2022-10-10T15:26:46.385Z"
   },
   {
    "duration": 7,
    "start_time": "2022-10-10T15:26:52.665Z"
   },
   {
    "duration": 13,
    "start_time": "2022-10-10T15:27:06.504Z"
   },
   {
    "duration": 1085,
    "start_time": "2022-10-10T15:27:31.987Z"
   },
   {
    "duration": 81,
    "start_time": "2022-10-10T15:27:54.528Z"
   },
   {
    "duration": 12,
    "start_time": "2022-10-10T15:28:12.968Z"
   },
   {
    "duration": 205,
    "start_time": "2022-10-10T15:28:34.522Z"
   },
   {
    "duration": 4,
    "start_time": "2022-10-10T15:35:10.211Z"
   },
   {
    "duration": 4,
    "start_time": "2022-10-10T15:35:17.170Z"
   },
   {
    "duration": 50,
    "start_time": "2022-10-10T15:35:21.706Z"
   },
   {
    "duration": 4,
    "start_time": "2022-10-10T15:35:24.125Z"
   },
   {
    "duration": 4,
    "start_time": "2022-10-10T15:35:31.156Z"
   },
   {
    "duration": 6,
    "start_time": "2022-10-10T15:35:37.381Z"
   },
   {
    "duration": 11,
    "start_time": "2022-10-10T15:35:55.307Z"
   },
   {
    "duration": 7,
    "start_time": "2022-10-10T15:36:17.282Z"
   },
   {
    "duration": 4,
    "start_time": "2022-10-10T15:37:34.351Z"
   },
   {
    "duration": 13,
    "start_time": "2022-10-10T15:38:45.929Z"
   },
   {
    "duration": 12,
    "start_time": "2022-10-10T15:38:48.457Z"
   },
   {
    "duration": 2,
    "start_time": "2022-10-10T15:42:48.917Z"
   },
   {
    "duration": 28,
    "start_time": "2022-10-10T15:42:49.570Z"
   },
   {
    "duration": 19,
    "start_time": "2022-10-10T15:42:50.358Z"
   },
   {
    "duration": 10,
    "start_time": "2022-10-10T15:42:51.072Z"
   },
   {
    "duration": 11,
    "start_time": "2022-10-10T15:43:00.466Z"
   },
   {
    "duration": 6,
    "start_time": "2022-10-10T15:43:01.833Z"
   },
   {
    "duration": 18,
    "start_time": "2022-10-10T15:43:02.940Z"
   },
   {
    "duration": 4,
    "start_time": "2022-10-10T15:43:04.646Z"
   },
   {
    "duration": 7,
    "start_time": "2022-10-10T15:43:05.077Z"
   },
   {
    "duration": 11,
    "start_time": "2022-10-10T15:43:07.833Z"
   },
   {
    "duration": 222,
    "start_time": "2022-10-10T15:43:09.389Z"
   },
   {
    "duration": 2,
    "start_time": "2022-10-10T15:43:09.957Z"
   },
   {
    "duration": 5,
    "start_time": "2022-10-10T15:43:10.794Z"
   },
   {
    "duration": 12,
    "start_time": "2022-10-10T15:43:12.055Z"
   },
   {
    "duration": 5,
    "start_time": "2022-10-10T15:43:12.465Z"
   },
   {
    "duration": 165,
    "start_time": "2022-10-10T15:43:13.873Z"
   },
   {
    "duration": 215,
    "start_time": "2022-10-10T15:43:23.715Z"
   },
   {
    "duration": 179,
    "start_time": "2022-10-10T15:43:27.355Z"
   },
   {
    "duration": 119,
    "start_time": "2022-10-10T15:43:27.746Z"
   },
   {
    "duration": 5,
    "start_time": "2022-10-10T15:43:31.946Z"
   },
   {
    "duration": 6,
    "start_time": "2022-10-10T15:43:33.202Z"
   },
   {
    "duration": 9,
    "start_time": "2022-10-10T15:43:51.729Z"
   },
   {
    "duration": 6,
    "start_time": "2022-10-10T15:44:04.742Z"
   },
   {
    "duration": 10,
    "start_time": "2022-10-10T15:44:05.345Z"
   },
   {
    "duration": 5,
    "start_time": "2022-10-10T15:44:25.439Z"
   },
   {
    "duration": 13,
    "start_time": "2022-10-10T15:44:26.338Z"
   },
   {
    "duration": 7,
    "start_time": "2022-10-10T15:45:01.368Z"
   },
   {
    "duration": 11,
    "start_time": "2022-10-10T15:45:02.416Z"
   },
   {
    "duration": 16,
    "start_time": "2022-10-10T15:45:34.238Z"
   },
   {
    "duration": 20,
    "start_time": "2022-10-10T15:45:44.739Z"
   },
   {
    "duration": 14,
    "start_time": "2022-10-10T15:45:51.219Z"
   },
   {
    "duration": 11,
    "start_time": "2022-10-10T15:45:57.004Z"
   },
   {
    "duration": 15,
    "start_time": "2022-10-10T15:45:59.701Z"
   },
   {
    "duration": 9,
    "start_time": "2022-10-10T15:46:02.721Z"
   },
   {
    "duration": 10,
    "start_time": "2022-10-10T15:46:05.027Z"
   },
   {
    "duration": 2017,
    "start_time": "2022-10-10T15:50:53.470Z"
   },
   {
    "duration": 7,
    "start_time": "2022-10-10T15:51:03.472Z"
   },
   {
    "duration": 12,
    "start_time": "2022-10-10T15:51:05.618Z"
   },
   {
    "duration": 8,
    "start_time": "2022-10-10T15:51:12.912Z"
   },
   {
    "duration": 11,
    "start_time": "2022-10-10T15:51:13.437Z"
   },
   {
    "duration": 1406,
    "start_time": "2022-10-10T15:51:41.971Z"
   },
   {
    "duration": 30,
    "start_time": "2022-10-10T15:51:43.379Z"
   },
   {
    "duration": 32,
    "start_time": "2022-10-10T15:51:43.411Z"
   },
   {
    "duration": 14,
    "start_time": "2022-10-10T15:51:43.445Z"
   },
   {
    "duration": 14,
    "start_time": "2022-10-10T15:51:43.460Z"
   },
   {
    "duration": 11,
    "start_time": "2022-10-10T15:51:43.475Z"
   },
   {
    "duration": 40,
    "start_time": "2022-10-10T15:51:43.488Z"
   },
   {
    "duration": 4,
    "start_time": "2022-10-10T15:51:43.530Z"
   },
   {
    "duration": 14,
    "start_time": "2022-10-10T15:51:43.535Z"
   },
   {
    "duration": 10,
    "start_time": "2022-10-10T15:51:43.552Z"
   },
   {
    "duration": 280,
    "start_time": "2022-10-10T15:51:43.564Z"
   },
   {
    "duration": 2,
    "start_time": "2022-10-10T15:51:43.846Z"
   },
   {
    "duration": 10,
    "start_time": "2022-10-10T15:51:43.850Z"
   },
   {
    "duration": 9,
    "start_time": "2022-10-10T15:51:43.862Z"
   },
   {
    "duration": 9,
    "start_time": "2022-10-10T15:51:43.873Z"
   },
   {
    "duration": 211,
    "start_time": "2022-10-10T15:51:43.884Z"
   },
   {
    "duration": 204,
    "start_time": "2022-10-10T15:51:44.096Z"
   },
   {
    "duration": 174,
    "start_time": "2022-10-10T15:51:44.302Z"
   },
   {
    "duration": 6,
    "start_time": "2022-10-10T15:51:44.478Z"
   },
   {
    "duration": 23,
    "start_time": "2022-10-10T15:51:44.486Z"
   },
   {
    "duration": 17,
    "start_time": "2022-10-10T15:51:44.512Z"
   },
   {
    "duration": 20,
    "start_time": "2022-10-10T15:51:44.530Z"
   },
   {
    "duration": 14,
    "start_time": "2022-10-10T15:51:44.552Z"
   },
   {
    "duration": 14,
    "start_time": "2022-10-10T15:51:44.568Z"
   },
   {
    "duration": 28,
    "start_time": "2022-10-10T15:51:44.584Z"
   },
   {
    "duration": 18,
    "start_time": "2022-10-10T15:51:44.613Z"
   },
   {
    "duration": 82,
    "start_time": "2022-10-10T15:51:44.632Z"
   },
   {
    "duration": 13,
    "start_time": "2022-10-10T15:51:44.717Z"
   },
   {
    "duration": 6,
    "start_time": "2022-10-10T15:51:44.731Z"
   },
   {
    "duration": 135,
    "start_time": "2022-10-10T15:53:08.238Z"
   },
   {
    "duration": 10,
    "start_time": "2022-10-10T15:53:14.931Z"
   },
   {
    "duration": 8,
    "start_time": "2022-10-10T15:56:10.034Z"
   },
   {
    "duration": 3,
    "start_time": "2022-10-10T15:56:13.354Z"
   },
   {
    "duration": 4,
    "start_time": "2022-10-10T15:56:26.384Z"
   },
   {
    "duration": 3,
    "start_time": "2022-10-10T15:57:10.750Z"
   },
   {
    "duration": 9,
    "start_time": "2022-10-10T15:57:24.343Z"
   },
   {
    "duration": 11,
    "start_time": "2022-10-10T15:57:27.626Z"
   },
   {
    "duration": 4,
    "start_time": "2022-10-10T15:57:55.452Z"
   },
   {
    "duration": 4,
    "start_time": "2022-10-10T15:58:14.015Z"
   },
   {
    "duration": 3,
    "start_time": "2022-10-10T15:58:17.165Z"
   },
   {
    "duration": 5,
    "start_time": "2022-10-10T16:00:17.417Z"
   },
   {
    "duration": 4,
    "start_time": "2022-10-10T16:04:28.052Z"
   },
   {
    "duration": 1543,
    "start_time": "2022-10-10T18:17:27.759Z"
   },
   {
    "duration": 76,
    "start_time": "2022-10-10T18:17:29.304Z"
   },
   {
    "duration": 24,
    "start_time": "2022-10-10T18:17:29.571Z"
   },
   {
    "duration": 12,
    "start_time": "2022-10-10T18:17:30.360Z"
   },
   {
    "duration": 9,
    "start_time": "2022-10-10T18:17:31.576Z"
   },
   {
    "duration": 7,
    "start_time": "2022-10-10T18:17:32.271Z"
   },
   {
    "duration": 17,
    "start_time": "2022-10-10T18:17:32.870Z"
   },
   {
    "duration": 3,
    "start_time": "2022-10-10T18:17:33.844Z"
   },
   {
    "duration": 7,
    "start_time": "2022-10-10T18:17:34.182Z"
   },
   {
    "duration": 9,
    "start_time": "2022-10-10T18:17:35.232Z"
   },
   {
    "duration": 232,
    "start_time": "2022-10-10T18:17:36.308Z"
   },
   {
    "duration": 2,
    "start_time": "2022-10-10T18:17:36.667Z"
   },
   {
    "duration": 7,
    "start_time": "2022-10-10T18:17:37.539Z"
   },
   {
    "duration": 9,
    "start_time": "2022-10-10T18:17:38.588Z"
   },
   {
    "duration": 8,
    "start_time": "2022-10-10T18:17:38.912Z"
   },
   {
    "duration": 164,
    "start_time": "2022-10-10T18:17:39.995Z"
   },
   {
    "duration": 178,
    "start_time": "2022-10-10T18:17:40.351Z"
   },
   {
    "duration": 128,
    "start_time": "2022-10-10T18:17:40.712Z"
   },
   {
    "duration": 6,
    "start_time": "2022-10-10T18:17:42.076Z"
   },
   {
    "duration": 6,
    "start_time": "2022-10-10T18:18:13.486Z"
   },
   {
    "duration": 12,
    "start_time": "2022-10-10T18:18:34.513Z"
   },
   {
    "duration": 15,
    "start_time": "2022-10-10T18:18:41.950Z"
   },
   {
    "duration": 15,
    "start_time": "2022-10-10T18:19:20.074Z"
   },
   {
    "duration": 3,
    "start_time": "2022-10-10T18:19:36.409Z"
   },
   {
    "duration": 15,
    "start_time": "2022-10-10T18:19:44.434Z"
   },
   {
    "duration": 14,
    "start_time": "2022-10-10T18:19:52.794Z"
   },
   {
    "duration": 9,
    "start_time": "2022-10-10T18:24:06.047Z"
   },
   {
    "duration": 10,
    "start_time": "2022-10-10T18:24:07.809Z"
   },
   {
    "duration": 5,
    "start_time": "2022-10-10T18:24:23.593Z"
   },
   {
    "duration": 84,
    "start_time": "2022-10-11T12:10:02.062Z"
   },
   {
    "duration": 49,
    "start_time": "2022-10-11T12:10:12.013Z"
   },
   {
    "duration": 41,
    "start_time": "2022-10-11T12:10:24.320Z"
   },
   {
    "duration": 1399,
    "start_time": "2022-10-11T12:10:41.892Z"
   },
   {
    "duration": 91,
    "start_time": "2022-10-11T12:10:43.294Z"
   },
   {
    "duration": 25,
    "start_time": "2022-10-11T12:10:43.387Z"
   },
   {
    "duration": 9,
    "start_time": "2022-10-11T12:10:43.414Z"
   },
   {
    "duration": 10,
    "start_time": "2022-10-11T12:10:43.425Z"
   },
   {
    "duration": 7,
    "start_time": "2022-10-11T12:10:43.851Z"
   },
   {
    "duration": 18,
    "start_time": "2022-10-11T12:10:44.301Z"
   },
   {
    "duration": 2,
    "start_time": "2022-10-11T12:10:44.937Z"
   },
   {
    "duration": 7,
    "start_time": "2022-10-11T12:10:45.144Z"
   },
   {
    "duration": 10,
    "start_time": "2022-10-11T12:10:45.706Z"
   },
   {
    "duration": 276,
    "start_time": "2022-10-11T12:10:46.288Z"
   },
   {
    "duration": 2,
    "start_time": "2022-10-11T12:10:46.566Z"
   },
   {
    "duration": 6,
    "start_time": "2022-10-11T12:10:47.074Z"
   },
   {
    "duration": 10,
    "start_time": "2022-10-11T12:10:47.787Z"
   },
   {
    "duration": 5,
    "start_time": "2022-10-11T12:10:48.012Z"
   },
   {
    "duration": 197,
    "start_time": "2022-10-11T12:10:48.714Z"
   },
   {
    "duration": 196,
    "start_time": "2022-10-11T12:10:48.914Z"
   },
   {
    "duration": 135,
    "start_time": "2022-10-11T12:10:49.171Z"
   },
   {
    "duration": 5,
    "start_time": "2022-10-11T12:10:51.763Z"
   },
   {
    "duration": 68,
    "start_time": "2022-10-11T12:10:53.694Z"
   },
   {
    "duration": 120,
    "start_time": "2022-10-11T12:11:14.752Z"
   },
   {
    "duration": 18,
    "start_time": "2022-10-11T12:11:27.165Z"
   },
   {
    "duration": 19,
    "start_time": "2022-10-11T12:17:00.367Z"
   },
   {
    "duration": 416,
    "start_time": "2022-10-11T12:17:24.126Z"
   },
   {
    "duration": 390,
    "start_time": "2022-10-11T12:17:47.417Z"
   },
   {
    "duration": 370,
    "start_time": "2022-10-11T12:17:53.021Z"
   },
   {
    "duration": 390,
    "start_time": "2022-10-11T12:18:00.101Z"
   },
   {
    "duration": 384,
    "start_time": "2022-10-11T12:18:06.690Z"
   },
   {
    "duration": 382,
    "start_time": "2022-10-11T12:18:13.752Z"
   },
   {
    "duration": 442,
    "start_time": "2022-10-11T12:19:10.391Z"
   },
   {
    "duration": 375,
    "start_time": "2022-10-11T12:19:18.529Z"
   },
   {
    "duration": 541,
    "start_time": "2022-10-11T12:19:37.072Z"
   },
   {
    "duration": 403,
    "start_time": "2022-10-11T12:19:44.685Z"
   },
   {
    "duration": 365,
    "start_time": "2022-10-11T12:19:56.443Z"
   },
   {
    "duration": 369,
    "start_time": "2022-10-11T12:20:15.681Z"
   },
   {
    "duration": 406,
    "start_time": "2022-10-11T12:21:35.698Z"
   },
   {
    "duration": 403,
    "start_time": "2022-10-11T12:22:02.904Z"
   },
   {
    "duration": 347,
    "start_time": "2022-10-11T12:22:18.050Z"
   },
   {
    "duration": 370,
    "start_time": "2022-10-11T12:22:31.937Z"
   },
   {
    "duration": 370,
    "start_time": "2022-10-11T12:22:42.919Z"
   },
   {
    "duration": 371,
    "start_time": "2022-10-11T12:22:53.346Z"
   },
   {
    "duration": 366,
    "start_time": "2022-10-11T12:23:08.591Z"
   },
   {
    "duration": 21,
    "start_time": "2022-10-11T12:23:25.992Z"
   },
   {
    "duration": 491,
    "start_time": "2022-10-11T12:23:28.392Z"
   },
   {
    "duration": 390,
    "start_time": "2022-10-11T12:23:38.611Z"
   },
   {
    "duration": 368,
    "start_time": "2022-10-11T12:23:50.688Z"
   },
   {
    "duration": 339,
    "start_time": "2022-10-11T12:23:56.954Z"
   },
   {
    "duration": 338,
    "start_time": "2022-10-11T12:24:12.953Z"
   },
   {
    "duration": 338,
    "start_time": "2022-10-11T12:24:17.257Z"
   },
   {
    "duration": 438,
    "start_time": "2022-10-11T12:24:36.121Z"
   },
   {
    "duration": 374,
    "start_time": "2022-10-11T12:24:59.393Z"
   },
   {
    "duration": 383,
    "start_time": "2022-10-11T12:25:03.892Z"
   },
   {
    "duration": 19,
    "start_time": "2022-10-11T12:25:18.818Z"
   },
   {
    "duration": 399,
    "start_time": "2022-10-11T12:25:22.892Z"
   },
   {
    "duration": 20,
    "start_time": "2022-10-11T12:25:27.391Z"
   },
   {
    "duration": 486,
    "start_time": "2022-10-11T12:25:33.295Z"
   },
   {
    "duration": 380,
    "start_time": "2022-10-11T12:25:47.102Z"
   },
   {
    "duration": 406,
    "start_time": "2022-10-11T12:25:55.989Z"
   },
   {
    "duration": 20,
    "start_time": "2022-10-11T12:26:02.062Z"
   },
   {
    "duration": 332,
    "start_time": "2022-10-11T12:26:04.871Z"
   },
   {
    "duration": 179,
    "start_time": "2022-10-11T12:31:41.569Z"
   },
   {
    "duration": 44,
    "start_time": "2022-10-11T12:32:23.573Z"
   },
   {
    "duration": 84,
    "start_time": "2022-10-11T12:32:50.349Z"
   },
   {
    "duration": 49,
    "start_time": "2022-10-11T12:33:26.839Z"
   },
   {
    "duration": 12,
    "start_time": "2022-10-11T12:46:47.963Z"
   },
   {
    "duration": 5,
    "start_time": "2022-10-11T12:47:12.414Z"
   },
   {
    "duration": 7,
    "start_time": "2022-10-11T12:47:14.337Z"
   },
   {
    "duration": 6,
    "start_time": "2022-10-11T13:01:16.737Z"
   },
   {
    "duration": 4,
    "start_time": "2022-10-11T13:01:19.811Z"
   },
   {
    "duration": 4,
    "start_time": "2022-10-11T13:01:22.848Z"
   },
   {
    "duration": 9,
    "start_time": "2022-10-11T13:01:28.025Z"
   },
   {
    "duration": 12,
    "start_time": "2022-10-11T13:01:30.441Z"
   },
   {
    "duration": 4,
    "start_time": "2022-10-11T13:01:31.607Z"
   },
   {
    "duration": 1329,
    "start_time": "2022-10-11T13:06:06.453Z"
   },
   {
    "duration": 29,
    "start_time": "2022-10-11T13:06:07.784Z"
   },
   {
    "duration": 26,
    "start_time": "2022-10-11T13:06:07.815Z"
   },
   {
    "duration": 10,
    "start_time": "2022-10-11T13:06:07.843Z"
   },
   {
    "duration": 8,
    "start_time": "2022-10-11T13:06:07.855Z"
   },
   {
    "duration": 8,
    "start_time": "2022-10-11T13:06:07.865Z"
   },
   {
    "duration": 20,
    "start_time": "2022-10-11T13:06:07.874Z"
   },
   {
    "duration": 3,
    "start_time": "2022-10-11T13:06:07.896Z"
   },
   {
    "duration": 7,
    "start_time": "2022-10-11T13:06:07.934Z"
   },
   {
    "duration": 10,
    "start_time": "2022-10-11T13:06:07.945Z"
   },
   {
    "duration": 271,
    "start_time": "2022-10-11T13:06:07.956Z"
   },
   {
    "duration": 2,
    "start_time": "2022-10-11T13:06:08.233Z"
   },
   {
    "duration": 8,
    "start_time": "2022-10-11T13:06:08.236Z"
   },
   {
    "duration": 10,
    "start_time": "2022-10-11T13:06:08.245Z"
   },
   {
    "duration": 4,
    "start_time": "2022-10-11T13:06:08.257Z"
   },
   {
    "duration": 204,
    "start_time": "2022-10-11T13:06:08.263Z"
   },
   {
    "duration": 278,
    "start_time": "2022-10-11T13:06:08.469Z"
   },
   {
    "duration": 150,
    "start_time": "2022-10-11T13:06:08.748Z"
   },
   {
    "duration": 5,
    "start_time": "2022-10-11T13:06:08.900Z"
   },
   {
    "duration": 383,
    "start_time": "2022-10-11T13:06:08.907Z"
   },
   {
    "duration": 15,
    "start_time": "2022-10-11T13:06:09.292Z"
   },
   {
    "duration": 9,
    "start_time": "2022-10-11T13:06:09.309Z"
   },
   {
    "duration": 12,
    "start_time": "2022-10-11T13:06:09.333Z"
   },
   {
    "duration": 13,
    "start_time": "2022-10-11T13:06:09.346Z"
   },
   {
    "duration": 6,
    "start_time": "2022-10-11T13:06:09.361Z"
   },
   {
    "duration": 8,
    "start_time": "2022-10-11T13:06:09.369Z"
   },
   {
    "duration": 10,
    "start_time": "2022-10-11T13:06:09.378Z"
   },
   {
    "duration": 3,
    "start_time": "2022-10-11T13:06:09.433Z"
   },
   {
    "duration": 10,
    "start_time": "2022-10-11T13:06:09.439Z"
   },
   {
    "duration": 87,
    "start_time": "2022-10-11T13:06:09.451Z"
   },
   {
    "duration": 12,
    "start_time": "2022-10-11T13:06:09.540Z"
   },
   {
    "duration": 4,
    "start_time": "2022-10-11T13:06:09.554Z"
   },
   {
    "duration": 2346,
    "start_time": "2022-10-11T19:31:37.478Z"
   },
   {
    "duration": 122,
    "start_time": "2022-10-11T19:31:39.826Z"
   },
   {
    "duration": 28,
    "start_time": "2022-10-11T19:31:39.949Z"
   },
   {
    "duration": 13,
    "start_time": "2022-10-11T19:31:40.234Z"
   },
   {
    "duration": 6,
    "start_time": "2022-10-11T19:32:04.705Z"
   },
   {
    "duration": 5,
    "start_time": "2022-10-11T19:32:18.891Z"
   },
   {
    "duration": 5,
    "start_time": "2022-10-11T19:32:30.410Z"
   },
   {
    "duration": 5,
    "start_time": "2022-10-11T19:32:44.307Z"
   }
  ],
  "kernelspec": {
   "display_name": "Python 3 (ipykernel)",
   "language": "python",
   "name": "python3"
  },
  "language_info": {
   "codemirror_mode": {
    "name": "ipython",
    "version": 3
   },
   "file_extension": ".py",
   "mimetype": "text/x-python",
   "name": "python",
   "nbconvert_exporter": "python",
   "pygments_lexer": "ipython3",
   "version": "3.9.13"
  },
  "toc": {
   "base_numbering": 1,
   "nav_menu": {},
   "number_sections": true,
   "sideBar": true,
   "skip_h1_title": true,
   "title_cell": "Содержание",
   "title_sidebar": "Contents",
   "toc_cell": true,
   "toc_position": {
    "height": "calc(100% - 180px)",
    "left": "10px",
    "top": "150px",
    "width": "238.26px"
   },
   "toc_section_display": true,
   "toc_window_display": true
  }
 },
 "nbformat": 4,
 "nbformat_minor": 2
}
