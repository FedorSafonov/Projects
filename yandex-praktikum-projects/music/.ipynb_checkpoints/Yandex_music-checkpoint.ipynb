{
 "cells": [
  {
   "cell_type": "markdown",
   "metadata": {
    "id": "E0vqbgi9ay0H"
   },
   "source": [
    "# Яндекс.Музыка"
   ]
  },
  {
   "cell_type": "markdown",
   "metadata": {
    "id": "VUC88oWjTJw2"
   },
   "source": [
    "Сравнение Москвы и Петербурга окружено мифами. Например:\n",
    " * Москва — мегаполис, подчинённый жёсткому ритму рабочей недели;\n",
    " * Петербург — культурная столица, со своими вкусами.\n",
    "\n",
    "На данных Яндекс.Музыки вы сравните поведение пользователей двух столиц.\n",
    "\n",
    "**Цель исследования** — проверьте три гипотезы:\n",
    "1. Активность пользователей зависит от дня недели. Причём в Москве и Петербурге это проявляется по-разному.\n",
    "2. В понедельник утром в Москве преобладают одни жанры, а в Петербурге — другие. Так же и вечером пятницы преобладают разные жанры — в зависимости от города. \n",
    "3. Москва и Петербург предпочитают разные жанры музыки. В Москве чаще слушают поп-музыку, в Петербурге — русский рэп.\n",
    "\n",
    "**Ход исследования**\n",
    "\n",
    "Данные о поведении пользователей вы получите из файла `yandex_music_project.csv`. О качестве данных ничего не известно. Поэтому перед проверкой гипотез понадобится обзор данных. \n",
    "\n",
    "Вы проверите данные на ошибки и оцените их влияние на исследование. Затем, на этапе предобработки вы поищете возможность исправить самые критичные ошибки данных.\n",
    " \n",
    "Таким образом, исследование пройдёт в три этапа:\n",
    " 1. Обзор данных.\n",
    " 2. Предобработка данных.\n",
    " 3. Проверка гипотез.\n",
    "\n"
   ]
  },
  {
   "cell_type": "markdown",
   "metadata": {
    "id": "Ml1hmfXC_Zcs"
   },
   "source": [
    "## Обзор данных\n",
    "\n",
    "Составьте первое представление о данных Яндекс.Музыки.\n",
    "\n",
    "\n"
   ]
  },
  {
   "cell_type": "markdown",
   "metadata": {
    "id": "57eAOGIz_Zcs"
   },
   "source": [
    "Основной инструмент аналитика — `pandas`. Импортируйте эту библиотеку."
   ]
  },
  {
   "cell_type": "markdown",
   "metadata": {
    "id": "SG23P8tt_Zcs"
   },
   "source": [
    "Прочитайте файл `yandex_music_project.csv` из папки `/datasets` и сохраните его в переменной `df`:"
   ]
  },
  {
   "cell_type": "code",
   "execution_count": 1,
   "metadata": {
    "id": "oWTVX3gW_Zct"
   },
   "outputs": [
    {
     "data": {
      "text/html": [
       "<div>\n",
       "<style scoped>\n",
       "    .dataframe tbody tr th:only-of-type {\n",
       "        vertical-align: middle;\n",
       "    }\n",
       "\n",
       "    .dataframe tbody tr th {\n",
       "        vertical-align: top;\n",
       "    }\n",
       "\n",
       "    .dataframe thead th {\n",
       "        text-align: right;\n",
       "    }\n",
       "</style>\n",
       "<table border=\"1\" class=\"dataframe\">\n",
       "  <thead>\n",
       "    <tr style=\"text-align: right;\">\n",
       "      <th></th>\n",
       "      <th>userID</th>\n",
       "      <th>Track</th>\n",
       "      <th>artist</th>\n",
       "      <th>genre</th>\n",
       "      <th>City</th>\n",
       "      <th>time</th>\n",
       "      <th>Day</th>\n",
       "    </tr>\n",
       "  </thead>\n",
       "  <tbody>\n",
       "    <tr>\n",
       "      <th>0</th>\n",
       "      <td>FFB692EC</td>\n",
       "      <td>Kamigata To Boots</td>\n",
       "      <td>The Mass Missile</td>\n",
       "      <td>rock</td>\n",
       "      <td>Saint-Petersburg</td>\n",
       "      <td>20:28:33</td>\n",
       "      <td>Wednesday</td>\n",
       "    </tr>\n",
       "    <tr>\n",
       "      <th>1</th>\n",
       "      <td>55204538</td>\n",
       "      <td>Delayed Because of Accident</td>\n",
       "      <td>Andreas Rönnberg</td>\n",
       "      <td>rock</td>\n",
       "      <td>Moscow</td>\n",
       "      <td>14:07:09</td>\n",
       "      <td>Friday</td>\n",
       "    </tr>\n",
       "    <tr>\n",
       "      <th>2</th>\n",
       "      <td>20EC38</td>\n",
       "      <td>Funiculì funiculà</td>\n",
       "      <td>Mario Lanza</td>\n",
       "      <td>pop</td>\n",
       "      <td>Saint-Petersburg</td>\n",
       "      <td>20:58:07</td>\n",
       "      <td>Wednesday</td>\n",
       "    </tr>\n",
       "  </tbody>\n",
       "</table>\n",
       "</div>"
      ],
      "text/plain": [
       "     userID                        Track            artist genre  \\\n",
       "0  FFB692EC            Kamigata To Boots  The Mass Missile  rock   \n",
       "1  55204538  Delayed Because of Accident  Andreas Rönnberg  rock   \n",
       "2    20EC38            Funiculì funiculà       Mario Lanza   pop   \n",
       "\n",
       "             City        time        Day  \n",
       "0  Saint-Petersburg  20:28:33  Wednesday  \n",
       "1            Moscow  14:07:09     Friday  \n",
       "2  Saint-Petersburg  20:58:07  Wednesday  "
      ]
     },
     "metadata": {},
     "output_type": "display_data"
    },
    {
     "data": {
      "text/html": [
       "<div>\n",
       "<style scoped>\n",
       "    .dataframe tbody tr th:only-of-type {\n",
       "        vertical-align: middle;\n",
       "    }\n",
       "\n",
       "    .dataframe tbody tr th {\n",
       "        vertical-align: top;\n",
       "    }\n",
       "\n",
       "    .dataframe thead th {\n",
       "        text-align: right;\n",
       "    }\n",
       "</style>\n",
       "<table border=\"1\" class=\"dataframe\">\n",
       "  <thead>\n",
       "    <tr style=\"text-align: right;\">\n",
       "      <th></th>\n",
       "      <th>userID</th>\n",
       "      <th>Track</th>\n",
       "      <th>artist</th>\n",
       "      <th>genre</th>\n",
       "      <th>City</th>\n",
       "      <th>time</th>\n",
       "      <th>Day</th>\n",
       "    </tr>\n",
       "  </thead>\n",
       "  <tbody>\n",
       "    <tr>\n",
       "      <th>65076</th>\n",
       "      <td>C5E3A0D5</td>\n",
       "      <td>Jalopiina</td>\n",
       "      <td>NaN</td>\n",
       "      <td>industrial</td>\n",
       "      <td>Moscow</td>\n",
       "      <td>20:09:26</td>\n",
       "      <td>Friday</td>\n",
       "    </tr>\n",
       "    <tr>\n",
       "      <th>65077</th>\n",
       "      <td>321D0506</td>\n",
       "      <td>Freight Train</td>\n",
       "      <td>Chas McDevitt</td>\n",
       "      <td>rock</td>\n",
       "      <td>Moscow</td>\n",
       "      <td>21:43:59</td>\n",
       "      <td>Friday</td>\n",
       "    </tr>\n",
       "    <tr>\n",
       "      <th>65078</th>\n",
       "      <td>3A64EF84</td>\n",
       "      <td>Tell Me Sweet Little Lies</td>\n",
       "      <td>Monica Lopez</td>\n",
       "      <td>country</td>\n",
       "      <td>Moscow</td>\n",
       "      <td>21:59:46</td>\n",
       "      <td>Friday</td>\n",
       "    </tr>\n",
       "  </tbody>\n",
       "</table>\n",
       "</div>"
      ],
      "text/plain": [
       "         userID                      Track         artist       genre  \\\n",
       "65076  C5E3A0D5                  Jalopiina            NaN  industrial   \n",
       "65077  321D0506              Freight Train  Chas McDevitt        rock   \n",
       "65078  3A64EF84  Tell Me Sweet Little Lies   Monica Lopez     country   \n",
       "\n",
       "        City        time     Day  \n",
       "65076   Moscow  20:09:26  Friday  \n",
       "65077   Moscow  21:43:59  Friday  \n",
       "65078   Moscow  21:59:46  Friday  "
      ]
     },
     "metadata": {},
     "output_type": "display_data"
    },
    {
     "data": {
      "text/html": [
       "<div>\n",
       "<style scoped>\n",
       "    .dataframe tbody tr th:only-of-type {\n",
       "        vertical-align: middle;\n",
       "    }\n",
       "\n",
       "    .dataframe tbody tr th {\n",
       "        vertical-align: top;\n",
       "    }\n",
       "\n",
       "    .dataframe thead th {\n",
       "        text-align: right;\n",
       "    }\n",
       "</style>\n",
       "<table border=\"1\" class=\"dataframe\">\n",
       "  <thead>\n",
       "    <tr style=\"text-align: right;\">\n",
       "      <th></th>\n",
       "      <th>userID</th>\n",
       "      <th>Track</th>\n",
       "      <th>artist</th>\n",
       "      <th>genre</th>\n",
       "      <th>City</th>\n",
       "      <th>time</th>\n",
       "      <th>Day</th>\n",
       "    </tr>\n",
       "  </thead>\n",
       "  <tbody>\n",
       "    <tr>\n",
       "      <th>38065</th>\n",
       "      <td>BA691859</td>\n",
       "      <td>Eat Your Heart Out</td>\n",
       "      <td>Outline in Color</td>\n",
       "      <td>posthardcore</td>\n",
       "      <td>Moscow</td>\n",
       "      <td>08:52:02</td>\n",
       "      <td>Friday</td>\n",
       "    </tr>\n",
       "    <tr>\n",
       "      <th>29766</th>\n",
       "      <td>6D076FFE</td>\n",
       "      <td>Halloween</td>\n",
       "      <td>NaN</td>\n",
       "      <td>hip</td>\n",
       "      <td>Moscow</td>\n",
       "      <td>08:14:16</td>\n",
       "      <td>Friday</td>\n",
       "    </tr>\n",
       "    <tr>\n",
       "      <th>22146</th>\n",
       "      <td>A1261D26</td>\n",
       "      <td>NaN</td>\n",
       "      <td>NaN</td>\n",
       "      <td>alternative</td>\n",
       "      <td>Moscow</td>\n",
       "      <td>20:12:13</td>\n",
       "      <td>Monday</td>\n",
       "    </tr>\n",
       "  </tbody>\n",
       "</table>\n",
       "</div>"
      ],
      "text/plain": [
       "         userID               Track            artist         genre   City    \\\n",
       "38065  BA691859  Eat Your Heart Out  Outline in Color  posthardcore   Moscow   \n",
       "29766  6D076FFE           Halloween               NaN           hip   Moscow   \n",
       "22146  A1261D26                 NaN               NaN   alternative   Moscow   \n",
       "\n",
       "           time     Day  \n",
       "38065  08:52:02  Friday  \n",
       "29766  08:14:16  Friday  \n",
       "22146  20:12:13  Monday  "
      ]
     },
     "metadata": {},
     "output_type": "display_data"
    }
   ],
   "source": [
    "import pandas as pd\n",
    "df = pd.read_csv('yandex_music_project.csv')\n",
    "display(df.head(3),df.tail(3),df.sample(3)) # получение первых 10 строк таблицы df"
   ]
  },
  {
   "cell_type": "markdown",
   "metadata": {
    "id": "EO73Kwic_Zct"
   },
   "source": [
    "Одной командой получить общую информацию о таблице:"
   ]
  },
  {
   "cell_type": "code",
   "execution_count": 2,
   "metadata": {
    "id": "DSf2kIb-_Zct"
   },
   "outputs": [
    {
     "name": "stdout",
     "output_type": "stream",
     "text": [
      "<class 'pandas.core.frame.DataFrame'>\n",
      "RangeIndex: 65079 entries, 0 to 65078\n",
      "Data columns (total 7 columns):\n",
      " #   Column    Non-Null Count  Dtype \n",
      "---  ------    --------------  ----- \n",
      " 0     userID  65079 non-null  object\n",
      " 1   Track     63848 non-null  object\n",
      " 2   artist    57876 non-null  object\n",
      " 3   genre     63881 non-null  object\n",
      " 4     City    65079 non-null  object\n",
      " 5   time      65079 non-null  object\n",
      " 6   Day       65079 non-null  object\n",
      "dtypes: object(7)\n",
      "memory usage: 3.5+ MB\n"
     ]
    }
   ],
   "source": [
    "df.info() # получение общей информации о данных в таблице df"
   ]
  },
  {
   "cell_type": "markdown",
   "metadata": {
    "id": "TaQ2Iwbr_Zct"
   },
   "source": [
    "Итак, в таблице семь столбцов. Тип данных во всех столбцах — `object`.\n",
    "\n",
    "Согласно документации к данным:\n",
    "* `userID` — идентификатор пользователя;\n",
    "* `Track` — название трека;  \n",
    "* `artist` — имя исполнителя;\n",
    "* `genre` — название жанра;\n",
    "* `City` — город пользователя;\n",
    "* `time` — время начала прослушивания;\n",
    "* `Day` — день недели.\n",
    "\n",
    "В названиях колонок видны три нарушения стиля:\n",
    "1. Строчные буквы сочетаются с прописными.\n",
    "2. Встречаются пробелы.\n",
    "3. Найдите ещё одну проблему в названии колонок и опишите её в этом пункте.\n",
    "\n",
    "* `userID - написано не в змеином регистре`\n",
    "\n",
    "Количество значений в столбцах различается. Значит, в данных есть пропущенные значения.\n"
   ]
  },
  {
   "cell_type": "markdown",
   "metadata": {
    "id": "MCB6-dXG_Zct"
   },
   "source": [
    "**Выводы**\n",
    "\n",
    "В каждой строке таблицы — данные о прослушанном треке. Часть колонок описывает саму композицию: название, исполнителя и жанр. Остальные данные рассказывают о пользователе: из какого он города, когда он слушал музыку. \n",
    "\n",
    "Предварительно можно утверждать, что, данных достаточно для проверки гипотез. Но встречаются пропуски в данных, а в названиях колонок — расхождения с хорошим стилем.\n",
    "\n",
    "Чтобы двигаться дальше, нужно устранить проблемы в данных."
   ]
  },
  {
   "cell_type": "markdown",
   "metadata": {
    "id": "SjYF6Ub9_Zct"
   },
   "source": [
    "## Предобработка данных\n",
    "Исправьте стиль в заголовках столбцов, исключите пропуски. Затем проверьте данные на дубликаты."
   ]
  },
  {
   "cell_type": "markdown",
   "metadata": {
    "id": "dIaKXr29_Zct"
   },
   "source": [
    "### Стиль заголовков\n",
    "Выведите на экран названия столбцов:"
   ]
  },
  {
   "cell_type": "code",
   "execution_count": 3,
   "metadata": {
    "id": "oKOTdF_Q_Zct",
    "scrolled": true
   },
   "outputs": [
    {
     "data": {
      "text/plain": [
       "Index(['  userID', 'Track', 'artist', 'genre', '  City  ', 'time', 'Day'], dtype='object')"
      ]
     },
     "execution_count": 3,
     "metadata": {},
     "output_type": "execute_result"
    }
   ],
   "source": [
    "df.columns # перечень названий столбцов таблицы df"
   ]
  },
  {
   "cell_type": "markdown",
   "metadata": {
    "id": "FPZA3ki8xe7T"
   },
   "source": []
  },
  {
   "cell_type": "markdown",
   "metadata": {
    "id": "zj5534cv_Zct"
   },
   "source": [
    "Приведите названия в соответствие с хорошим стилем:\n",
    "* несколько слов в названии запишите в «змеином_регистре»,\n",
    "* все символы сделайте строчными,\n",
    "* устраните пробелы.\n",
    "\n",
    "Для этого переименуйте колонки так:\n",
    "* `'  userID'` → `'user_id'`;\n",
    "* `'Track'` → `'track'`;\n",
    "* `'  City  '` → `'city'`;\n",
    "* `'Day'` → `'day'`."
   ]
  },
  {
   "cell_type": "code",
   "execution_count": 4,
   "metadata": {
    "id": "ISlFqs5y_Zct"
   },
   "outputs": [
    {
     "data": {
      "text/plain": [
       "Index(['user_id', 'track', 'artist', 'genre', 'city', 'time', 'day'], dtype='object')"
      ]
     },
     "execution_count": 4,
     "metadata": {},
     "output_type": "execute_result"
    }
   ],
   "source": [
    "df = df.rename(columns={'  userID':'user_id','Track':'track','  City  ':'city','Day':'day'}) # переименование столбцов\n",
    "df.columns #проверка"
   ]
  },
  {
   "cell_type": "markdown",
   "metadata": {
    "id": "1dqbh00J_Zct"
   },
   "source": [
    "Проверьте результат. Для этого ещё раз выведите на экран названия столбцов:"
   ]
  },
  {
   "cell_type": "markdown",
   "metadata": {
    "id": "5ISfbcfY_Zct"
   },
   "source": [
    "### Пропуски значений\n",
    "Сначала посчитайте, сколько в таблице пропущенных значений. Для этого достаточно двух методов `pandas`:"
   ]
  },
  {
   "cell_type": "code",
   "execution_count": 5,
   "metadata": {
    "id": "RskX29qr_Zct"
   },
   "outputs": [
    {
     "data": {
      "text/plain": [
       "user_id       0\n",
       "track      1231\n",
       "artist     7203\n",
       "genre      1198\n",
       "city          0\n",
       "time          0\n",
       "day           0\n",
       "dtype: int64"
      ]
     },
     "execution_count": 5,
     "metadata": {},
     "output_type": "execute_result"
    }
   ],
   "source": [
    "df.isna().sum() # подсчёт пропусков"
   ]
  },
  {
   "cell_type": "markdown",
   "metadata": {
    "id": "qubhgnlO_Zct"
   },
   "source": [
    "Не все пропущенные значения влияют на исследование. Так в `track` и `artist` пропуски не важны для вашей работы. Достаточно заменить их явными обозначениями.\n",
    "\n",
    "Но пропуски в `genre` могут помешать сравнению музыкальных вкусов в Москве и Санкт-Петербурге. На практике было бы правильно установить причину пропусков и восстановить данные. Такой возможности нет в учебном проекте. Придётся:\n",
    "* заполнить и эти пропуски явными обозначениями,\n",
    "* оценить, насколько они повредят расчётам. "
   ]
  },
  {
   "cell_type": "markdown",
   "metadata": {
    "id": "fSv2laPA_Zct"
   },
   "source": [
    "Замените пропущенные значения в столбцах `track`, `artist` и `genre` на строку `'unknown'`. Для этого создайте список `columns_to_replace`, переберите его элементы циклом `for` и для каждого столбца выполните замену пропущенных значений:"
   ]
  },
  {
   "cell_type": "code",
   "execution_count": 6,
   "metadata": {
    "id": "KplB5qWs_Zct"
   },
   "outputs": [
    {
     "name": "stdout",
     "output_type": "stream",
     "text": [
      "Пропуски успешно заменены.\n"
     ]
    }
   ],
   "source": [
    "columns_to_replace = ['track','artist','genre']\n",
    "for c in columns_to_replace:\n",
    "    df[c] = df[c].fillna('unknown')\n",
    "\n",
    "# перебор названий столбцов в цикле и замена пропущенных значений на 'unknown'\n",
    "\n",
    "if df.isna().sum().sum() ==0:\n",
    "    print('Пропуски успешно заменены.')"
   ]
  },
  {
   "cell_type": "markdown",
   "metadata": {
    "id": "BWKRtBJ3_Zct"
   },
   "source": [
    "### Дубликаты\n",
    "Посчитайте явные дубликаты в таблице одной командой:"
   ]
  },
  {
   "cell_type": "code",
   "execution_count": 7,
   "metadata": {
    "id": "36eES_S0_Zct"
   },
   "outputs": [
    {
     "data": {
      "text/plain": [
       "3826"
      ]
     },
     "execution_count": 7,
     "metadata": {},
     "output_type": "execute_result"
    }
   ],
   "source": [
    "df.duplicated().sum() # подсчёт явных дубликатов"
   ]
  },
  {
   "cell_type": "markdown",
   "metadata": {
    "id": "Ot25h6XR_Zct"
   },
   "source": [
    "Вызовите специальный метод `pandas`, чтобы удалить явные дубликаты:"
   ]
  },
  {
   "cell_type": "code",
   "execution_count": 8,
   "metadata": {
    "id": "exFHq6tt_Zct"
   },
   "outputs": [],
   "source": [
    "df = df.drop_duplicates().reset_index() \n",
    "# удаление явных дубликатов (с удалением старых индексов и формированием новых)"
   ]
  },
  {
   "cell_type": "markdown",
   "metadata": {
    "id": "Im2YwBEG_Zct"
   },
   "source": [
    "Ещё раз посчитайте явные дубликаты в таблице — убедитесь, что полностью от них избавились:"
   ]
  },
  {
   "cell_type": "code",
   "execution_count": 9,
   "metadata": {
    "id": "-8PuNWQ0_Zct"
   },
   "outputs": [
    {
     "data": {
      "text/plain": [
       "0"
      ]
     },
     "execution_count": 9,
     "metadata": {},
     "output_type": "execute_result"
    }
   ],
   "source": [
    "df.duplicated().sum() # проверка на отсутствие дубликатов"
   ]
  },
  {
   "cell_type": "markdown",
   "metadata": {
    "id": "QlFBsxAr_Zct"
   },
   "source": [
    "Теперь избавьтесь от неявных дубликатов в колонке `genre`. Например, название одного и того же жанра может быть записано немного по-разному. Такие ошибки тоже повлияют на результат исследования."
   ]
  },
  {
   "cell_type": "markdown",
   "metadata": {
    "id": "eSjWwsOh_Zct"
   },
   "source": [
    "Выведите на экран список уникальных названий жанров, отсортированный в алфавитном порядке. Для этого:\n",
    "* извлеките нужный столбец датафрейма, \n",
    "* примените к нему метод сортировки,\n",
    "* для отсортированного столбца вызовите метод, который вернёт уникальные значения из столбца."
   ]
  },
  {
   "cell_type": "code",
   "execution_count": 10,
   "metadata": {
    "id": "JIUcqzZN_Zct"
   },
   "outputs": [
    {
     "data": {
      "text/plain": [
       "array(['acid', 'acoustic', 'action', 'adult', 'africa', 'afrikaans',\n",
       "       'alternative', 'alternativepunk', 'ambient', 'americana',\n",
       "       'animated', 'anime', 'arabesk', 'arabic', 'arena',\n",
       "       'argentinetango', 'art', 'audiobook', 'author', 'avantgarde',\n",
       "       'axé', 'baile', 'balkan', 'beats', 'bigroom', 'black', 'bluegrass',\n",
       "       'blues', 'bollywood', 'bossa', 'brazilian', 'breakbeat', 'breaks',\n",
       "       'broadway', 'cantautori', 'cantopop', 'canzone', 'caribbean',\n",
       "       'caucasian', 'celtic', 'chamber', 'chanson', 'children', 'chill',\n",
       "       'chinese', 'choral', 'christian', 'christmas', 'classical',\n",
       "       'classicmetal', 'club', 'colombian', 'comedy', 'conjazz',\n",
       "       'contemporary', 'country', 'cuban', 'dance', 'dancehall',\n",
       "       'dancepop', 'dark', 'death', 'deep', 'deutschrock', 'deutschspr',\n",
       "       'dirty', 'disco', 'dnb', 'documentary', 'downbeat', 'downtempo',\n",
       "       'drum', 'dub', 'dubstep', 'eastern', 'easy', 'electronic',\n",
       "       'electropop', 'emo', 'entehno', 'epicmetal', 'estrada', 'ethnic',\n",
       "       'eurofolk', 'european', 'experimental', 'extrememetal', 'fado',\n",
       "       'fairytail', 'film', 'fitness', 'flamenco', 'folk', 'folklore',\n",
       "       'folkmetal', 'folkrock', 'folktronica', 'forró', 'frankreich',\n",
       "       'französisch', 'french', 'funk', 'future', 'gangsta', 'garage',\n",
       "       'german', 'ghazal', 'gitarre', 'glitch', 'gospel', 'gothic',\n",
       "       'grime', 'grunge', 'gypsy', 'handsup', \"hard'n'heavy\", 'hardcore',\n",
       "       'hardstyle', 'hardtechno', 'hip', 'hip-hop', 'hiphop',\n",
       "       'historisch', 'holiday', 'hop', 'horror', 'house', 'hymn', 'idm',\n",
       "       'independent', 'indian', 'indie', 'indipop', 'industrial',\n",
       "       'inspirational', 'instrumental', 'international', 'irish', 'jam',\n",
       "       'japanese', 'jazz', 'jewish', 'jpop', 'jungle', 'k-pop',\n",
       "       'karadeniz', 'karaoke', 'kayokyoku', 'korean', 'laiko', 'latin',\n",
       "       'latino', 'leftfield', 'local', 'lounge', 'loungeelectronic',\n",
       "       'lovers', 'malaysian', 'mandopop', 'marschmusik', 'meditative',\n",
       "       'mediterranean', 'melodic', 'metal', 'metalcore', 'mexican',\n",
       "       'middle', 'minimal', 'miscellaneous', 'modern', 'mood', 'mpb',\n",
       "       'muslim', 'native', 'neoklassik', 'neue', 'new', 'newage',\n",
       "       'newwave', 'nu', 'nujazz', 'numetal', 'oceania', 'old', 'opera',\n",
       "       'orchestral', 'other', 'piano', 'podcasts', 'pop', 'popdance',\n",
       "       'popelectronic', 'popeurodance', 'poprussian', 'post',\n",
       "       'posthardcore', 'postrock', 'power', 'progmetal', 'progressive',\n",
       "       'psychedelic', 'punjabi', 'punk', 'quebecois', 'ragga', 'ram',\n",
       "       'rancheras', 'rap', 'rave', 'reggae', 'reggaeton', 'regional',\n",
       "       'relax', 'religious', 'retro', 'rhythm', 'rnb', 'rnr', 'rock',\n",
       "       'rockabilly', 'rockalternative', 'rockindie', 'rockother',\n",
       "       'romance', 'roots', 'ruspop', 'rusrap', 'rusrock', 'russian',\n",
       "       'salsa', 'samba', 'scenic', 'schlager', 'self', 'sertanejo',\n",
       "       'shanson', 'shoegazing', 'showtunes', 'singer', 'ska', 'skarock',\n",
       "       'slow', 'smooth', 'soft', 'soul', 'soulful', 'sound', 'soundtrack',\n",
       "       'southern', 'specialty', 'speech', 'spiritual', 'sport',\n",
       "       'stonerrock', 'surf', 'swing', 'synthpop', 'synthrock',\n",
       "       'sängerportrait', 'tango', 'tanzorchester', 'taraftar', 'tatar',\n",
       "       'tech', 'techno', 'teen', 'thrash', 'top', 'traditional',\n",
       "       'tradjazz', 'trance', 'tribal', 'trip', 'triphop', 'tropical',\n",
       "       'türk', 'türkçe', 'ukrrock', 'unknown', 'urban', 'uzbek',\n",
       "       'variété', 'vi', 'videogame', 'vocal', 'western', 'world',\n",
       "       'worldbeat', 'ïîï', 'электроника'], dtype=object)"
      ]
     },
     "execution_count": 10,
     "metadata": {},
     "output_type": "execute_result"
    }
   ],
   "source": [
    "df['genre'].sort_values().unique() # Просмотр уникальных названий жанров"
   ]
  },
  {
   "cell_type": "markdown",
   "metadata": {
    "id": "qej-Qmuo_Zct"
   },
   "source": [
    "Просмотрите список и найдите неявные дубликаты названия `hiphop`. Это могут быть названия с ошибками или альтернативные названия того же жанра.\n",
    "\n",
    "Вы увидите следующие неявные дубликаты:\n",
    "* *hip*,\n",
    "* *hop*,\n",
    "* *hip-hop*.\n",
    "\n",
    "Чтобы очистить от них таблицу, напишите функцию `replace_wrong_genres()` с двумя параметрами: \n",
    "* `wrong_genres` — список дубликатов,\n",
    "* `correct_genre` — строка с правильным значением.\n",
    "\n",
    "Функция должна исправить колонку `genre` в таблице `df`: заменить каждое значение из списка `wrong_genres` на значение из `correct_genre`."
   ]
  },
  {
   "cell_type": "markdown",
   "metadata": {},
   "source": [
    "# Здесь я обнаружил другие неявные дубликаты и так же решил их обработать."
   ]
  },
  {
   "cell_type": "code",
   "execution_count": 11,
   "metadata": {
    "id": "ErNDkmns_Zct"
   },
   "outputs": [],
   "source": [
    "def replace_wrong_values(wrong_values, correct_value): # Функция для замены неявных дубликатов\n",
    "    for wrong_value in wrong_values:\n",
    "        df['genre'] = df['genre'].replace(wrong_value, correct_value)"
   ]
  },
  {
   "cell_type": "markdown",
   "metadata": {
    "id": "aDoBJxbA_Zct"
   },
   "source": [
    "\n",
    "Вызовите `replace_wrong_genres()` и передайте ей такие аргументы, чтобы она устранила неявные дубликаты: вместо `hip`, `hop` и `hip-hop` в таблице должно быть значение `hiphop`:"
   ]
  },
  {
   "cell_type": "code",
   "execution_count": 12,
   "metadata": {},
   "outputs": [
    {
     "name": "stdout",
     "output_type": "stream",
     "text": [
      "range(0, 14)\n"
     ]
    },
    {
     "data": {
      "text/plain": [
       "range(0, 14)"
      ]
     },
     "execution_count": 12,
     "metadata": {},
     "output_type": "execute_result"
    }
   ],
   "source": [
    "wrong_values = [['hip', 'hop', 'hip-hop'],\n",
    "                ['rockalternative', 'native'],\n",
    "                ['afrikaans'],\n",
    "                ['arabesk'],\n",
    "                ['argentinetango'],\n",
    "                ['latin'],\n",
    "                ['new'],\n",
    "                ['post'],\n",
    "                ['soundtrack'],\n",
    "                ['tech'],\n",
    "                ['top'],\n",
    "                ['trip'],\n",
    "                ['türk'],\n",
    "                ['электроника']]\n",
    "\n",
    "correct_values = ['hiphop','alternative','africa','arabic','tango',\n",
    "                  'latino','newage','postrock','sound','techno',\n",
    "                  'cantopop','triphop','türkçe','electronic']\n",
    "print(range(len(wrong_values)))\n",
    "range(len(correct_values))"
   ]
  },
  {
   "cell_type": "code",
   "execution_count": 13,
   "metadata": {},
   "outputs": [],
   "source": [
    "for i in range(len(wrong_values)):\n",
    "    replace_wrong_values(wrong_values[i],correct_values[i])"
   ]
  },
  {
   "cell_type": "markdown",
   "metadata": {
    "id": "zQKF16_RG15m"
   },
   "source": [
    "Проверьте, что заменили неправильные названия:\n",
    "\n",
    "*   hip\n",
    "*   hop\n",
    "*   hip-hop\n",
    "\n",
    "Выведите отсортированный список уникальных значений столбца `genre`:"
   ]
  },
  {
   "cell_type": "code",
   "execution_count": 14,
   "metadata": {
    "id": "wvixALnFG15m"
   },
   "outputs": [
    {
     "data": {
      "text/plain": [
       "array(['acid', 'acoustic', 'action', 'adult', 'africa', 'alternative',\n",
       "       'alternativepunk', 'ambient', 'americana', 'animated', 'anime',\n",
       "       'arabic', 'arena', 'art', 'audiobook', 'author', 'avantgarde',\n",
       "       'axé', 'baile', 'balkan', 'beats', 'bigroom', 'black', 'bluegrass',\n",
       "       'blues', 'bollywood', 'bossa', 'brazilian', 'breakbeat', 'breaks',\n",
       "       'broadway', 'cantautori', 'cantopop', 'canzone', 'caribbean',\n",
       "       'caucasian', 'celtic', 'chamber', 'chanson', 'children', 'chill',\n",
       "       'chinese', 'choral', 'christian', 'christmas', 'classical',\n",
       "       'classicmetal', 'club', 'colombian', 'comedy', 'conjazz',\n",
       "       'contemporary', 'country', 'cuban', 'dance', 'dancehall',\n",
       "       'dancepop', 'dark', 'death', 'deep', 'deutschrock', 'deutschspr',\n",
       "       'dirty', 'disco', 'dnb', 'documentary', 'downbeat', 'downtempo',\n",
       "       'drum', 'dub', 'dubstep', 'eastern', 'easy', 'electronic',\n",
       "       'electropop', 'emo', 'entehno', 'epicmetal', 'estrada', 'ethnic',\n",
       "       'eurofolk', 'european', 'experimental', 'extrememetal', 'fado',\n",
       "       'fairytail', 'film', 'fitness', 'flamenco', 'folk', 'folklore',\n",
       "       'folkmetal', 'folkrock', 'folktronica', 'forró', 'frankreich',\n",
       "       'französisch', 'french', 'funk', 'future', 'gangsta', 'garage',\n",
       "       'german', 'ghazal', 'gitarre', 'glitch', 'gospel', 'gothic',\n",
       "       'grime', 'grunge', 'gypsy', 'handsup', \"hard'n'heavy\", 'hardcore',\n",
       "       'hardstyle', 'hardtechno', 'hiphop', 'historisch', 'holiday',\n",
       "       'horror', 'house', 'hymn', 'idm', 'independent', 'indian', 'indie',\n",
       "       'indipop', 'industrial', 'inspirational', 'instrumental',\n",
       "       'international', 'irish', 'jam', 'japanese', 'jazz', 'jewish',\n",
       "       'jpop', 'jungle', 'k-pop', 'karadeniz', 'karaoke', 'kayokyoku',\n",
       "       'korean', 'laiko', 'latino', 'leftfield', 'local', 'lounge',\n",
       "       'loungeelectronic', 'lovers', 'malaysian', 'mandopop',\n",
       "       'marschmusik', 'meditative', 'mediterranean', 'melodic', 'metal',\n",
       "       'metalcore', 'mexican', 'middle', 'minimal', 'miscellaneous',\n",
       "       'modern', 'mood', 'mpb', 'muslim', 'neoklassik', 'neue', 'newage',\n",
       "       'newwave', 'nu', 'nujazz', 'numetal', 'oceania', 'old', 'opera',\n",
       "       'orchestral', 'other', 'piano', 'podcasts', 'pop', 'popdance',\n",
       "       'popelectronic', 'popeurodance', 'poprussian', 'posthardcore',\n",
       "       'postrock', 'power', 'progmetal', 'progressive', 'psychedelic',\n",
       "       'punjabi', 'punk', 'quebecois', 'ragga', 'ram', 'rancheras', 'rap',\n",
       "       'rave', 'reggae', 'reggaeton', 'regional', 'relax', 'religious',\n",
       "       'retro', 'rhythm', 'rnb', 'rnr', 'rock', 'rockabilly', 'rockindie',\n",
       "       'rockother', 'romance', 'roots', 'ruspop', 'rusrap', 'rusrock',\n",
       "       'russian', 'salsa', 'samba', 'scenic', 'schlager', 'self',\n",
       "       'sertanejo', 'shanson', 'shoegazing', 'showtunes', 'singer', 'ska',\n",
       "       'skarock', 'slow', 'smooth', 'soft', 'soul', 'soulful', 'sound',\n",
       "       'southern', 'specialty', 'speech', 'spiritual', 'sport',\n",
       "       'stonerrock', 'surf', 'swing', 'synthpop', 'synthrock',\n",
       "       'sängerportrait', 'tango', 'tanzorchester', 'taraftar', 'tatar',\n",
       "       'techno', 'teen', 'thrash', 'traditional', 'tradjazz', 'trance',\n",
       "       'tribal', 'triphop', 'tropical', 'türkçe', 'ukrrock', 'unknown',\n",
       "       'urban', 'uzbek', 'variété', 'vi', 'videogame', 'vocal', 'western',\n",
       "       'world', 'worldbeat', 'ïîï'], dtype=object)"
      ]
     },
     "execution_count": 14,
     "metadata": {},
     "output_type": "execute_result"
    }
   ],
   "source": [
    "df['genre'].sort_values().unique() # Проверка на неявные дубликаты"
   ]
  },
  {
   "cell_type": "markdown",
   "metadata": {
    "id": "jz6a9-7HQUDd"
   },
   "source": [
    "**Выводы**\n",
    "\n",
    "Предобработка обнаружила три проблемы в данных:\n",
    "\n",
    "- нарушения в стиле заголовков,\n",
    "- пропущенные значения,\n",
    "- дубликаты — явные и неявные.\n",
    "\n",
    "Вы исправили заголовки, чтобы упростить работу с таблицей. Без дубликатов исследование станет более точным.\n",
    "\n",
    "Пропущенные значения вы заменили на `'unknown'`. Ещё предстоит увидеть, не повредят ли исследованию пропуски в колонке `genre`.\n",
    "\n",
    "Теперь можно перейти к проверке гипотез. "
   ]
  },
  {
   "cell_type": "markdown",
   "metadata": {
    "id": "WttZHXH0SqKk"
   },
   "source": [
    "## Проверка гипотез"
   ]
  },
  {
   "cell_type": "markdown",
   "metadata": {
    "id": "Im936VVi_Zcu"
   },
   "source": [
    "### Сравнение поведения пользователей двух столиц"
   ]
  },
  {
   "cell_type": "markdown",
   "metadata": {
    "id": "nwt_MuaL_Zcu"
   },
   "source": [
    "Первая гипотеза утверждает, что пользователи по-разному слушают музыку в Москве и Санкт-Петербурге. Проверьте это предположение по данным о трёх днях недели — понедельнике, среде и пятнице. Для этого:\n",
    "\n",
    "* Разделите пользователей Москвы и Санкт-Петербурга\n",
    "* Сравните, сколько треков послушала каждая группа пользователей в понедельник, среду и пятницу.\n"
   ]
  },
  {
   "cell_type": "markdown",
   "metadata": {
    "id": "8Dw_YMmT_Zcu"
   },
   "source": [
    "Для тренировки сначала выполните каждый из расчётов по отдельности. \n",
    "\n",
    "Оцените активность пользователей в каждом городе. Сгруппируйте данные по городу и посчитайте прослушивания в каждой группе.\n",
    "\n"
   ]
  },
  {
   "cell_type": "code",
   "execution_count": 15,
   "metadata": {
    "id": "0_Qs96oh_Zcu"
   },
   "outputs": [
    {
     "data": {
      "text/plain": [
       "city\n",
       "Moscow              42741\n",
       "Saint-Petersburg    18512\n",
       "Name: track, dtype: int64"
      ]
     },
     "execution_count": 15,
     "metadata": {},
     "output_type": "execute_result"
    }
   ],
   "source": [
    "df.groupby('city')['track'].count() # Подсчёт прослушиваний в каждом городе"
   ]
  },
  {
   "cell_type": "markdown",
   "metadata": {
    "id": "dzli3w8o_Zcu"
   },
   "source": [
    "В Москве прослушиваний больше, чем в Петербурге. Из этого не следует, что московские пользователи чаще слушают музыку. Просто самих пользователей в Москве больше.\n",
    "\n",
    "Теперь сгруппируйте данные по дню недели и подсчитайте прослушивания в понедельник, среду и пятницу. Учтите, что в данных есть информация о прослушиваниях только за эти дни.\n"
   ]
  },
  {
   "cell_type": "code",
   "execution_count": 16,
   "metadata": {
    "id": "uZMKjiJz_Zcu"
   },
   "outputs": [
    {
     "data": {
      "text/plain": [
       "day\n",
       "Friday       21840\n",
       "Monday       21354\n",
       "Wednesday    18059\n",
       "Name: track, dtype: int64"
      ]
     },
     "execution_count": 16,
     "metadata": {},
     "output_type": "execute_result"
    }
   ],
   "source": [
    "df.groupby('day')['track'].count() # Подсчёт прослушиваний в каждый из трёх дней"
   ]
  },
  {
   "cell_type": "markdown",
   "metadata": {
    "id": "cC2tNrlL_Zcu"
   },
   "source": [
    "В среднем пользователи из двух городов менее активны по средам. Но картина может измениться, если рассмотреть каждый город в отдельности."
   ]
  },
  {
   "cell_type": "markdown",
   "metadata": {
    "id": "POzs8bGa_Zcu"
   },
   "source": [
    "Вы видели, как работает группировка по городу и по дням недели. Теперь напишите функцию, которая объединит два эти расчёта.\n",
    "\n",
    "Создайте функцию `number_tracks()`, которая посчитает прослушивания для заданного дня и города. Ей понадобятся два параметра:\n",
    "* день недели,\n",
    "* название города.\n",
    "\n",
    "В функции сохраните в переменную строки исходной таблицы, у которых значение:\n",
    "  * в колонке `day` равно параметру `day`,\n",
    "  * в колонке `city` равно параметру `city`.\n",
    "\n",
    "Для этого примените последовательную фильтрацию с логической индексацией.\n",
    "\n",
    "Затем посчитайте значения в столбце `user_id` получившейся таблицы. Результат сохраните в новую переменную. Верните эту переменную из функции."
   ]
  },
  {
   "cell_type": "code",
   "execution_count": 17,
   "metadata": {
    "id": "Nz3GdQB1_Zcu"
   },
   "outputs": [],
   "source": [
    "def number_tracks(day, city):\n",
    "    track_list = df.loc[(df['day']==day) & (df['city']==city)]\n",
    "    track_list_count = track_list['user_id'].count()\n",
    "    return track_list_count"
   ]
  },
  {
   "cell_type": "markdown",
   "metadata": {
    "id": "ytf7xFrFJQ2r"
   },
   "source": [
    "Вызовите `number_tracks()` шесть раз, меняя значение параметров — так, чтобы получить данные для каждого города в каждый из трёх дней."
   ]
  },
  {
   "cell_type": "code",
   "execution_count": 18,
   "metadata": {
    "scrolled": true
   },
   "outputs": [
    {
     "name": "stdout",
     "output_type": "stream",
     "text": [
      "Monday Moscow :\n",
      "15740\n",
      "---------------\n",
      "Monday Saint-Petersburg :\n",
      "5614\n",
      "---------------\n",
      "Wednesday Moscow :\n",
      "11056\n",
      "---------------\n",
      "Wednesday Saint-Petersburg :\n",
      "7003\n",
      "---------------\n",
      "Friday Moscow :\n",
      "15945\n",
      "---------------\n",
      "Friday Saint-Petersburg :\n",
      "5895\n",
      "---------------\n"
     ]
    }
   ],
   "source": [
    "days, cities = ['Monday', 'Wednesday', 'Friday'], ['Moscow', 'Saint-Petersburg']\n",
    "\n",
    "for day in days:\n",
    "    for city in cities:\n",
    "        print(day,city,':')\n",
    "        print(number_tracks(day,city))\n",
    "        print('---------------')"
   ]
  },
  {
   "cell_type": "markdown",
   "metadata": {
    "id": "7QXffbO-_Zcu"
   },
   "source": [
    "Создайте c помощью конструктора `pd.DataFrame` таблицу, где\n",
    "* названия колонок — `['city', 'monday', 'wednesday', 'friday']`;\n",
    "* данные — результаты, которые вы получили с помощью `number_tracks`."
   ]
  },
  {
   "cell_type": "code",
   "execution_count": 19,
   "metadata": {},
   "outputs": [
    {
     "data": {
      "text/plain": [
       "[['Moscow', 15740, 11056, 15945], ['Saint-Petersburg', 5614, 7003, 5895]]"
      ]
     },
     "execution_count": 19,
     "metadata": {},
     "output_type": "execute_result"
    }
   ],
   "source": [
    "data = [[cities[0], number_tracks(days[0], cities[0]), \n",
    "         number_tracks(days[1], cities[0]),\n",
    "         number_tracks(days[2], cities[0])],\n",
    "        [cities[1], number_tracks(days[0], cities[1]), \n",
    "         number_tracks(days[1], cities[1]),\n",
    "         number_tracks(days[2], cities[1])]]\n",
    "data"
   ]
  },
  {
   "cell_type": "code",
   "execution_count": 20,
   "metadata": {
    "id": "APAcLpOr_Zcu"
   },
   "outputs": [
    {
     "data": {
      "text/html": [
       "<div>\n",
       "<style scoped>\n",
       "    .dataframe tbody tr th:only-of-type {\n",
       "        vertical-align: middle;\n",
       "    }\n",
       "\n",
       "    .dataframe tbody tr th {\n",
       "        vertical-align: top;\n",
       "    }\n",
       "\n",
       "    .dataframe thead th {\n",
       "        text-align: right;\n",
       "    }\n",
       "</style>\n",
       "<table border=\"1\" class=\"dataframe\">\n",
       "  <thead>\n",
       "    <tr style=\"text-align: right;\">\n",
       "      <th></th>\n",
       "      <th>city</th>\n",
       "      <th>monday</th>\n",
       "      <th>wednesday</th>\n",
       "      <th>friday</th>\n",
       "    </tr>\n",
       "  </thead>\n",
       "  <tbody>\n",
       "    <tr>\n",
       "      <th>0</th>\n",
       "      <td>Moscow</td>\n",
       "      <td>15740</td>\n",
       "      <td>11056</td>\n",
       "      <td>15945</td>\n",
       "    </tr>\n",
       "    <tr>\n",
       "      <th>1</th>\n",
       "      <td>Saint-Petersburg</td>\n",
       "      <td>5614</td>\n",
       "      <td>7003</td>\n",
       "      <td>5895</td>\n",
       "    </tr>\n",
       "  </tbody>\n",
       "</table>\n",
       "</div>"
      ],
      "text/plain": [
       "               city  monday  wednesday  friday\n",
       "0            Moscow   15740      11056   15945\n",
       "1  Saint-Petersburg    5614       7003    5895"
      ]
     },
     "execution_count": 20,
     "metadata": {},
     "output_type": "execute_result"
    }
   ],
   "source": [
    "results_table = pd.DataFrame(data=data, columns=['city', 'monday', 'wednesday', 'friday'])\n",
    "results_table # Таблица с результатами"
   ]
  },
  {
   "cell_type": "markdown",
   "metadata": {
    "id": "-EgPIHYu_Zcu"
   },
   "source": [
    "**Выводы**\n",
    "\n",
    "Данные показывают разницу поведения пользователей:\n",
    "\n",
    "- В Москве пик прослушиваний приходится на понедельник и пятницу, а в среду заметен спад.\n",
    "- В Петербурге, наоборот, больше слушают музыку по средам. Активность в понедельник и пятницу здесь почти в равной мере уступает среде.\n",
    "\n",
    "Значит, данные говорят в пользу первой гипотезы."
   ]
  },
  {
   "cell_type": "markdown",
   "metadata": {
    "id": "atZAxtq4_Zcu"
   },
   "source": [
    "### Музыка в начале и в конце недели"
   ]
  },
  {
   "cell_type": "markdown",
   "metadata": {
    "id": "eXrQqXFH_Zcu"
   },
   "source": [
    "Согласно второй гипотезе, утром в понедельник в Москве преобладают одни жанры, а в Петербурге — другие. Так же и вечером пятницы преобладают разные жанры — в зависимости от города."
   ]
  },
  {
   "cell_type": "markdown",
   "metadata": {
    "id": "S8UcW6Hw_Zcu"
   },
   "source": [
    "Сохраните таблицы с данными в две переменные:\n",
    "* по Москве — в `moscow_general`;\n",
    "* по Санкт-Петербургу — в `spb_general`."
   ]
  },
  {
   "cell_type": "code",
   "execution_count": 21,
   "metadata": {
    "id": "qeaFfM_P_Zcu"
   },
   "outputs": [
    {
     "data": {
      "text/html": [
       "<div>\n",
       "<style scoped>\n",
       "    .dataframe tbody tr th:only-of-type {\n",
       "        vertical-align: middle;\n",
       "    }\n",
       "\n",
       "    .dataframe tbody tr th {\n",
       "        vertical-align: top;\n",
       "    }\n",
       "\n",
       "    .dataframe thead th {\n",
       "        text-align: right;\n",
       "    }\n",
       "</style>\n",
       "<table border=\"1\" class=\"dataframe\">\n",
       "  <thead>\n",
       "    <tr style=\"text-align: right;\">\n",
       "      <th></th>\n",
       "      <th>index</th>\n",
       "      <th>user_id</th>\n",
       "      <th>track</th>\n",
       "      <th>artist</th>\n",
       "      <th>genre</th>\n",
       "      <th>city</th>\n",
       "      <th>time</th>\n",
       "      <th>day</th>\n",
       "    </tr>\n",
       "  </thead>\n",
       "  <tbody>\n",
       "    <tr>\n",
       "      <th>57788</th>\n",
       "      <td>61113</td>\n",
       "      <td>4D65B443</td>\n",
       "      <td>Red Lights</td>\n",
       "      <td>Gregori Klosman</td>\n",
       "      <td>electronic</td>\n",
       "      <td>Moscow</td>\n",
       "      <td>09:42:30</td>\n",
       "      <td>Friday</td>\n",
       "    </tr>\n",
       "    <tr>\n",
       "      <th>11796</th>\n",
       "      <td>11927</td>\n",
       "      <td>9A89E580</td>\n",
       "      <td>Viola Concerto Sz. 120 BB 128: I. Moderato</td>\n",
       "      <td>David Aaron Carpenter</td>\n",
       "      <td>classical</td>\n",
       "      <td>Moscow</td>\n",
       "      <td>09:58:42</td>\n",
       "      <td>Monday</td>\n",
       "    </tr>\n",
       "    <tr>\n",
       "      <th>52341</th>\n",
       "      <td>55020</td>\n",
       "      <td>8B5581D3</td>\n",
       "      <td>Best Of The Years</td>\n",
       "      <td>Eden james</td>\n",
       "      <td>alternative</td>\n",
       "      <td>Moscow</td>\n",
       "      <td>14:29:17</td>\n",
       "      <td>Wednesday</td>\n",
       "    </tr>\n",
       "    <tr>\n",
       "      <th>42880</th>\n",
       "      <td>44628</td>\n",
       "      <td>C74FB3A3</td>\n",
       "      <td>Reason to Hate</td>\n",
       "      <td>Radium</td>\n",
       "      <td>dance</td>\n",
       "      <td>Moscow</td>\n",
       "      <td>20:05:14</td>\n",
       "      <td>Monday</td>\n",
       "    </tr>\n",
       "    <tr>\n",
       "      <th>21188</th>\n",
       "      <td>21600</td>\n",
       "      <td>67200071</td>\n",
       "      <td>Loading</td>\n",
       "      <td>The Algorithm</td>\n",
       "      <td>electronic</td>\n",
       "      <td>Moscow</td>\n",
       "      <td>20:17:54</td>\n",
       "      <td>Friday</td>\n",
       "    </tr>\n",
       "  </tbody>\n",
       "</table>\n",
       "</div>"
      ],
      "text/plain": [
       "       index   user_id                                       track  \\\n",
       "57788  61113  4D65B443                                  Red Lights   \n",
       "11796  11927  9A89E580  Viola Concerto Sz. 120 BB 128: I. Moderato   \n",
       "52341  55020  8B5581D3                           Best Of The Years   \n",
       "42880  44628  C74FB3A3                              Reason to Hate   \n",
       "21188  21600  67200071                                     Loading   \n",
       "\n",
       "                      artist        genre    city      time        day  \n",
       "57788        Gregori Klosman   electronic  Moscow  09:42:30     Friday  \n",
       "11796  David Aaron Carpenter    classical  Moscow  09:58:42     Monday  \n",
       "52341             Eden james  alternative  Moscow  14:29:17  Wednesday  \n",
       "42880                 Radium        dance  Moscow  20:05:14     Monday  \n",
       "21188          The Algorithm   electronic  Moscow  20:17:54     Friday  "
      ]
     },
     "execution_count": 21,
     "metadata": {},
     "output_type": "execute_result"
    }
   ],
   "source": [
    "moscow_general = df[df.city=='Moscow']\n",
    "# получение таблицы moscow_general из тех строк таблицы df, \n",
    "# для которых значение в столбце 'city' равно 'Moscow'\n",
    "moscow_general.sample(5)"
   ]
  },
  {
   "cell_type": "code",
   "execution_count": 22,
   "metadata": {
    "id": "ORaVRKto_Zcu"
   },
   "outputs": [
    {
     "data": {
      "text/html": [
       "<div>\n",
       "<style scoped>\n",
       "    .dataframe tbody tr th:only-of-type {\n",
       "        vertical-align: middle;\n",
       "    }\n",
       "\n",
       "    .dataframe tbody tr th {\n",
       "        vertical-align: top;\n",
       "    }\n",
       "\n",
       "    .dataframe thead th {\n",
       "        text-align: right;\n",
       "    }\n",
       "</style>\n",
       "<table border=\"1\" class=\"dataframe\">\n",
       "  <thead>\n",
       "    <tr style=\"text-align: right;\">\n",
       "      <th></th>\n",
       "      <th>index</th>\n",
       "      <th>user_id</th>\n",
       "      <th>track</th>\n",
       "      <th>artist</th>\n",
       "      <th>genre</th>\n",
       "      <th>city</th>\n",
       "      <th>time</th>\n",
       "      <th>day</th>\n",
       "    </tr>\n",
       "  </thead>\n",
       "  <tbody>\n",
       "    <tr>\n",
       "      <th>27152</th>\n",
       "      <td>27836</td>\n",
       "      <td>86360FAB</td>\n",
       "      <td>We're Not Alone</td>\n",
       "      <td>Alphaverb</td>\n",
       "      <td>drum</td>\n",
       "      <td>Saint-Petersburg</td>\n",
       "      <td>21:40:54</td>\n",
       "      <td>Monday</td>\n",
       "    </tr>\n",
       "    <tr>\n",
       "      <th>30900</th>\n",
       "      <td>31790</td>\n",
       "      <td>1DD335D</td>\n",
       "      <td>I Ain't Marching Anymore</td>\n",
       "      <td>Phil Ochs</td>\n",
       "      <td>pop</td>\n",
       "      <td>Saint-Petersburg</td>\n",
       "      <td>21:06:20</td>\n",
       "      <td>Friday</td>\n",
       "    </tr>\n",
       "    <tr>\n",
       "      <th>1896</th>\n",
       "      <td>1900</td>\n",
       "      <td>4263D7FF</td>\n",
       "      <td>Last Nightcap</td>\n",
       "      <td>Snareskin</td>\n",
       "      <td>pop</td>\n",
       "      <td>Saint-Petersburg</td>\n",
       "      <td>20:37:25</td>\n",
       "      <td>Friday</td>\n",
       "    </tr>\n",
       "    <tr>\n",
       "      <th>36288</th>\n",
       "      <td>37529</td>\n",
       "      <td>D55C4B5</td>\n",
       "      <td>December</td>\n",
       "      <td>For Against</td>\n",
       "      <td>indie</td>\n",
       "      <td>Saint-Petersburg</td>\n",
       "      <td>09:24:20</td>\n",
       "      <td>Friday</td>\n",
       "    </tr>\n",
       "    <tr>\n",
       "      <th>18254</th>\n",
       "      <td>18562</td>\n",
       "      <td>3673B36C</td>\n",
       "      <td>Drowning Man</td>\n",
       "      <td>Eric Church</td>\n",
       "      <td>country</td>\n",
       "      <td>Saint-Petersburg</td>\n",
       "      <td>20:37:57</td>\n",
       "      <td>Wednesday</td>\n",
       "    </tr>\n",
       "  </tbody>\n",
       "</table>\n",
       "</div>"
      ],
      "text/plain": [
       "       index   user_id                     track       artist    genre  \\\n",
       "27152  27836  86360FAB           We're Not Alone    Alphaverb     drum   \n",
       "30900  31790   1DD335D  I Ain't Marching Anymore    Phil Ochs      pop   \n",
       "1896    1900  4263D7FF             Last Nightcap    Snareskin      pop   \n",
       "36288  37529   D55C4B5                  December  For Against    indie   \n",
       "18254  18562  3673B36C              Drowning Man  Eric Church  country   \n",
       "\n",
       "                   city      time        day  \n",
       "27152  Saint-Petersburg  21:40:54     Monday  \n",
       "30900  Saint-Petersburg  21:06:20     Friday  \n",
       "1896   Saint-Petersburg  20:37:25     Friday  \n",
       "36288  Saint-Petersburg  09:24:20     Friday  \n",
       "18254  Saint-Petersburg  20:37:57  Wednesday  "
      ]
     },
     "execution_count": 22,
     "metadata": {},
     "output_type": "execute_result"
    }
   ],
   "source": [
    "spb_general = df[df.city=='Saint-Petersburg'] # получение таблицы spb_general из тех строк таблицы df,\n",
    "# для которых значение в столбце 'city' равно 'Saint-Petersburg'\n",
    "spb_general.sample(5)"
   ]
  },
  {
   "cell_type": "markdown",
   "metadata": {
    "id": "MEJV-CX2_Zcu"
   },
   "source": [
    "Создайте функцию `genre_weekday()` с четырьмя параметрами:\n",
    "* таблица (датафрейм) с данными,\n",
    "* день недели,\n",
    "* начальная временная метка в формате 'hh:mm', \n",
    "* последняя временная метка в формате 'hh:mm'.\n",
    "\n",
    "Функция должна вернуть информацию о топ-10 жанров тех треков, которые прослушивали в указанный день, в промежутке между двумя отметками времени."
   ]
  },
  {
   "cell_type": "code",
   "execution_count": 23,
   "metadata": {
    "id": "laJT9BYl_Zcu"
   },
   "outputs": [],
   "source": [
    "def genre_weekday(table, day, time1, time2):\n",
    "    \n",
    "    genre_df = table.loc[(table.day==day) & (table.time>=time1) & (table.time<=time2)]\n",
    "    genre_df_count = genre_df.groupby('genre')['track'].count()\n",
    "    genre_df_sorted = genre_df_count.sort_values(ascending=False)\n",
    "    \n",
    "    if day == 'Monday':\n",
    "        day = 'понедельник'\n",
    "    elif day == 'Wednesday':\n",
    "        day = 'среду'\n",
    "    else:\n",
    "        day = 'пятницу'\n",
    "        \n",
    "    print('-------------')\n",
    "    \n",
    "    if table is spb_general:\n",
    "        print('Санкт-Петербург')\n",
    "    else:\n",
    "        print('Москва')\n",
    "        \n",
    "    print('Топ-10 жанров в', day,'с',time1,'по',time2,':')\n",
    "    print()\n",
    "    return genre_df_sorted[:10]"
   ]
  },
  {
   "cell_type": "markdown",
   "metadata": {
    "id": "la2s2_PF_Zcu"
   },
   "source": [
    "Cравните результаты функции `genre_weekday()` для Москвы и Санкт-Петербурга в понедельник утром (с 7:00 до 11:00) и в пятницу вечером (с 17:00 до 23:00):"
   ]
  },
  {
   "cell_type": "code",
   "execution_count": 24,
   "metadata": {
    "id": "yz7itPUQ_Zcu"
   },
   "outputs": [
    {
     "name": "stdout",
     "output_type": "stream",
     "text": [
      "-------------\n",
      "Москва\n",
      "Топ-10 жанров в понедельник с 07:00 по 11:00 :\n",
      "\n",
      "genre\n",
      "pop            781\n",
      "dance          549\n",
      "electronic     480\n",
      "rock           474\n",
      "hiphop         286\n",
      "ruspop         186\n",
      "world          181\n",
      "rusrap         175\n",
      "alternative    164\n",
      "unknown        161\n",
      "Name: track, dtype: int64\n",
      "-------------\n",
      "Санкт-Петербург\n",
      "Топ-10 жанров в понедельник с 07:00 по 11:00 :\n",
      "\n",
      "genre\n",
      "pop            218\n",
      "dance          182\n",
      "rock           162\n",
      "electronic     147\n",
      "hiphop          80\n",
      "ruspop          64\n",
      "alternative     58\n",
      "rusrap          55\n",
      "jazz            44\n",
      "classical       40\n",
      "Name: track, dtype: int64\n",
      "-------------\n",
      "Москва\n",
      "Топ-10 жанров в пятницу с 17:00 по 23:00 :\n",
      "\n",
      "genre\n",
      "pop            713\n",
      "rock           517\n",
      "dance          495\n",
      "electronic     482\n",
      "hiphop         273\n",
      "world          208\n",
      "ruspop         170\n",
      "alternative    163\n",
      "classical      163\n",
      "rusrap         142\n",
      "Name: track, dtype: int64\n",
      "-------------\n",
      "Санкт-Петербург\n",
      "Топ-10 жанров в пятницу с 17:00 по 23:00 :\n",
      "\n",
      "genre\n",
      "pop            256\n",
      "rock           216\n",
      "electronic     216\n",
      "dance          210\n",
      "hiphop          97\n",
      "alternative     63\n",
      "jazz            61\n",
      "classical       60\n",
      "rusrap          59\n",
      "world           54\n",
      "Name: track, dtype: int64\n"
     ]
    }
   ],
   "source": [
    "print(genre_weekday(moscow_general, 'Monday', '07:00', '11:00'))\n",
    "print(genre_weekday(spb_general, 'Monday', '07:00', '11:00'))\n",
    "print(genre_weekday(moscow_general, 'Friday', '17:00', '23:00'))\n",
    "print(genre_weekday(spb_general, 'Friday', '17:00', '23:00'))"
   ]
  },
  {
   "cell_type": "markdown",
   "metadata": {
    "id": "wrCe4MNX_Zcu"
   },
   "source": [
    "**Выводы**\n",
    "\n",
    "Если сравнить топ-10 жанров в понедельник утром, можно сделать такие выводы:\n",
    "\n",
    "1. В Москве и Петербурге слушают похожую музыку. Единственное отличие — в московский рейтинг вошёл жанр “world”, а в петербургский — джаз и классика.\n",
    "\n",
    "2. В Москве пропущенных значений оказалось так много, что значение `'unknown'` заняло десятое место среди самых популярных жанров. Значит, пропущенные значения занимают существенную долю в данных и угрожают достоверности исследования.\n",
    "\n",
    "Вечер пятницы не меняет эту картину. Некоторые жанры поднимаются немного выше, другие спускаются, но в целом топ-10 остаётся тем же самым.\n",
    "\n",
    "Таким образом, вторая гипотеза подтвердилась лишь частично:\n",
    "* Пользователи слушают похожую музыку в начале недели и в конце.\n",
    "* Разница между Москвой и Петербургом не слишком выражена. В Москве чаще слушают русскую популярную музыку, в Петербурге — джаз.\n",
    "\n",
    "Однако пропуски в данных ставят под сомнение этот результат. В Москве их так много, что рейтинг топ-10 мог бы выглядеть иначе, если бы не утерянные  данные о жанрах."
   ]
  },
  {
   "cell_type": "markdown",
   "metadata": {
    "id": "JolODAqr_Zcu"
   },
   "source": [
    "### Жанровые предпочтения в Москве и Петербурге\n",
    "\n",
    "Гипотеза: Петербург — столица рэпа, музыку этого жанра там слушают чаще, чем в Москве.  А Москва — город контрастов, в котором, тем не менее, преобладает поп-музыка."
   ]
  },
  {
   "cell_type": "markdown",
   "metadata": {
    "id": "DlegSvaT_Zcu"
   },
   "source": [
    "Сгруппируйте таблицу `moscow_general` по жанру и посчитайте прослушивания треков каждого жанра методом `count()`. Затем отсортируйте результат в порядке убывания и сохраните его в таблице `moscow_genres`."
   ]
  },
  {
   "cell_type": "code",
   "execution_count": 25,
   "metadata": {
    "id": "r19lIPke_Zcu"
   },
   "outputs": [
    {
     "data": {
      "text/plain": [
       "genre\n",
       "pop            5892\n",
       "dance          4435\n",
       "rock           3965\n",
       "electronic     3786\n",
       "hiphop         2096\n",
       "classical      1616\n",
       "world          1432\n",
       "alternative    1382\n",
       "ruspop         1372\n",
       "rusrap         1161\n",
       "Name: genre, dtype: int64"
      ]
     },
     "metadata": {},
     "output_type": "display_data"
    }
   ],
   "source": [
    "moscow_genres=moscow_general.groupby('genre')['genre'].count().sort_values(ascending=False)\n",
    "display(moscow_genres[:10])"
   ]
  },
  {
   "cell_type": "markdown",
   "metadata": {
    "id": "6kMuomxTiIr8"
   },
   "source": [
    "Выведите на экран первые десять строк `moscow_genres`:"
   ]
  },
  {
   "cell_type": "markdown",
   "metadata": {
    "id": "cnPG2vnN_Zcv"
   },
   "source": [
    "Теперь повторите то же и для Петербурга.\n",
    "\n",
    "Сгруппируйте таблицу `spb_general` по жанру. Посчитайте прослушивания треков каждого жанра. Результат отсортируйте в порядке убывания и сохраните в таблице `spb_genres`:\n"
   ]
  },
  {
   "cell_type": "code",
   "execution_count": 26,
   "metadata": {
    "id": "gluLIpE7_Zcv"
   },
   "outputs": [
    {
     "data": {
      "text/plain": [
       "genre\n",
       "pop            2431\n",
       "dance          1932\n",
       "rock           1879\n",
       "electronic     1737\n",
       "hiphop          960\n",
       "alternative     651\n",
       "classical       646\n",
       "rusrap          564\n",
       "ruspop          538\n",
       "world           515\n",
       "Name: genre, dtype: int64"
      ]
     },
     "metadata": {},
     "output_type": "display_data"
    }
   ],
   "source": [
    "spb_genres=spb_general.groupby('genre')['genre'].count().sort_values(ascending=False)\n",
    "display(spb_genres[:10])"
   ]
  },
  {
   "cell_type": "markdown",
   "metadata": {
    "id": "5Doha_ODgyQ8"
   },
   "source": [
    "Выведите на экран первые десять строк `spb_genres`:"
   ]
  },
  {
   "cell_type": "markdown",
   "metadata": {
    "id": "RY51YJYu_Zcv"
   },
   "source": [
    "**Выводы**"
   ]
  },
  {
   "cell_type": "markdown",
   "metadata": {
    "id": "nVhnJEm__Zcv"
   },
   "source": [
    "Гипотеза частично подтвердилась:\n",
    "* Поп-музыка — самый популярный жанр в Москве, как и предполагала гипотеза. Более того, в топ-10 жанров встречается близкий жанр — русская популярная музыка.\n",
    "* Вопреки ожиданиям, рэп одинаково популярен в Москве и Петербурге. \n"
   ]
  },
  {
   "cell_type": "markdown",
   "metadata": {
    "id": "ykKQ0N65_Zcv"
   },
   "source": [
    "## Итоги исследования"
   ]
  },
  {
   "cell_type": "markdown",
   "metadata": {
    "id": "tjUwbHb3_Zcv"
   },
   "source": [
    "Вы проверили три гипотезы и установили:\n",
    "\n",
    "1. День недели по-разному влияет на активность пользователей в Москве и Петербурге. \n",
    "\n",
    "Первая гипотеза полностью подтвердилась.\n",
    "\n",
    "2. Музыкальные предпочтения не сильно меняются в течение недели — будь то Москва или Петербург. Небольшие различия заметны в начале недели, по понедельникам:\n",
    "* в Москве слушают музыку жанра “world”,\n",
    "* в Петербурге — джаз и классику.\n",
    "\n",
    "Таким образом, вторая гипотеза подтвердилась лишь отчасти. Этот результат мог оказаться иным, если бы не пропуски в данных.\n",
    "\n",
    "3. Во вкусах пользователей Москвы и Петербурга больше общего чем различий. Вопреки ожиданиям, предпочтения жанров в Петербурге напоминают московские.\n",
    "\n",
    "Третья гипотеза не подтвердилась. Если различия в предпочтениях и существуют, на основной массе пользователей они незаметны.\n",
    "\n",
    "**На практике исследования содержат проверки статистических гипотез.**\n",
    "Из данных одного сервиса не всегда можно сделать вывод о всех жителях города.\n",
    "Проверки статистических гипотез покажут, насколько они достоверны, исходя из имеющихся данных. \n",
    "С методами проверок гипотез вы ещё познакомитесь в следующих темах."
   ]
  }
 ],
 "metadata": {
  "ExecuteTimeLog": [
   {
    "duration": 57,
    "start_time": "2022-05-18T12:12:13.160Z"
   },
   {
    "duration": 622,
    "start_time": "2022-05-18T12:12:31.553Z"
   },
   {
    "duration": 38,
    "start_time": "2022-05-18T12:12:36.361Z"
   },
   {
    "duration": 448,
    "start_time": "2022-05-18T12:14:05.196Z"
   },
   {
    "duration": 19,
    "start_time": "2022-05-18T12:14:08.205Z"
   },
   {
    "duration": 7,
    "start_time": "2022-05-18T12:16:03.123Z"
   },
   {
    "duration": 9,
    "start_time": "2022-05-18T12:19:19.440Z"
   },
   {
    "duration": 32,
    "start_time": "2022-05-18T12:20:06.575Z"
   },
   {
    "duration": 5,
    "start_time": "2022-05-18T12:28:58.366Z"
   },
   {
    "duration": 4,
    "start_time": "2022-05-18T12:29:06.074Z"
   },
   {
    "duration": 11,
    "start_time": "2022-05-18T12:33:59.858Z"
   },
   {
    "duration": 4,
    "start_time": "2022-05-18T12:34:11.126Z"
   },
   {
    "duration": 14,
    "start_time": "2022-05-18T12:34:31.523Z"
   },
   {
    "duration": 4,
    "start_time": "2022-05-18T12:35:01.922Z"
   },
   {
    "duration": 3,
    "start_time": "2022-05-18T12:35:03.461Z"
   },
   {
    "duration": 13,
    "start_time": "2022-05-18T12:35:56.206Z"
   },
   {
    "duration": 15,
    "start_time": "2022-05-18T12:35:56.963Z"
   },
   {
    "duration": 4,
    "start_time": "2022-05-18T12:36:01.907Z"
   },
   {
    "duration": 21,
    "start_time": "2022-05-18T12:41:42.428Z"
   },
   {
    "duration": 900,
    "start_time": "2022-05-18T12:47:45.842Z"
   },
   {
    "duration": 8,
    "start_time": "2022-05-18T12:48:28.914Z"
   },
   {
    "duration": 461,
    "start_time": "2022-05-18T12:52:31.825Z"
   },
   {
    "duration": 9,
    "start_time": "2022-05-18T12:59:44.291Z"
   },
   {
    "duration": 16,
    "start_time": "2022-05-18T13:00:00.756Z"
   },
   {
    "duration": 22,
    "start_time": "2022-05-18T13:00:42.753Z"
   },
   {
    "duration": 438,
    "start_time": "2022-05-18T13:02:46.007Z"
   },
   {
    "duration": 284,
    "start_time": "2022-05-18T13:02:46.447Z"
   },
   {
    "duration": 19,
    "start_time": "2022-05-18T13:02:46.733Z"
   },
   {
    "duration": 31,
    "start_time": "2022-05-18T13:02:46.754Z"
   },
   {
    "duration": 3,
    "start_time": "2022-05-18T13:02:46.787Z"
   },
   {
    "duration": 20,
    "start_time": "2022-05-18T13:02:46.791Z"
   },
   {
    "duration": 12,
    "start_time": "2022-05-18T13:02:46.813Z"
   },
   {
    "duration": 31,
    "start_time": "2022-05-18T13:02:46.842Z"
   },
   {
    "duration": 42,
    "start_time": "2022-05-18T13:02:46.875Z"
   },
   {
    "duration": 30,
    "start_time": "2022-05-18T13:02:46.921Z"
   },
   {
    "duration": 14,
    "start_time": "2022-05-18T13:02:46.952Z"
   },
   {
    "duration": 16,
    "start_time": "2022-05-18T13:02:46.969Z"
   },
   {
    "duration": 18,
    "start_time": "2022-05-18T13:02:46.988Z"
   },
   {
    "duration": 16,
    "start_time": "2022-05-18T13:02:47.008Z"
   },
   {
    "duration": 21,
    "start_time": "2022-05-18T13:02:47.026Z"
   },
   {
    "duration": 17,
    "start_time": "2022-05-18T13:02:47.049Z"
   },
   {
    "duration": 17,
    "start_time": "2022-05-18T13:02:47.068Z"
   },
   {
    "duration": 21,
    "start_time": "2022-05-18T13:02:47.087Z"
   },
   {
    "duration": 8,
    "start_time": "2022-05-18T13:02:47.110Z"
   },
   {
    "duration": 19,
    "start_time": "2022-05-18T13:02:47.120Z"
   },
   {
    "duration": 12,
    "start_time": "2022-05-18T13:02:47.141Z"
   },
   {
    "duration": 20,
    "start_time": "2022-05-18T13:02:47.155Z"
   },
   {
    "duration": 17,
    "start_time": "2022-05-18T13:02:47.177Z"
   },
   {
    "duration": 6,
    "start_time": "2022-05-18T13:02:47.196Z"
   },
   {
    "duration": 5,
    "start_time": "2022-05-18T13:02:47.203Z"
   },
   {
    "duration": 7,
    "start_time": "2022-05-18T13:02:47.209Z"
   },
   {
    "duration": 6,
    "start_time": "2022-05-18T13:02:47.218Z"
   },
   {
    "duration": 6,
    "start_time": "2022-05-18T13:02:47.227Z"
   },
   {
    "duration": 5,
    "start_time": "2022-05-18T13:02:47.235Z"
   },
   {
    "duration": 7,
    "start_time": "2022-05-18T13:02:47.242Z"
   },
   {
    "duration": 11,
    "start_time": "2022-05-18T13:02:47.250Z"
   },
   {
    "duration": 5,
    "start_time": "2022-05-18T13:02:47.262Z"
   },
   {
    "duration": 7,
    "start_time": "2022-05-18T13:02:47.269Z"
   },
   {
    "duration": 4,
    "start_time": "2022-05-18T13:02:47.278Z"
   },
   {
    "duration": 5,
    "start_time": "2022-05-18T13:02:47.283Z"
   },
   {
    "duration": 7,
    "start_time": "2022-05-18T13:02:47.290Z"
   },
   {
    "duration": 12,
    "start_time": "2022-05-18T13:02:47.299Z"
   },
   {
    "duration": 10,
    "start_time": "2022-05-18T13:02:47.312Z"
   },
   {
    "duration": 67,
    "start_time": "2022-05-18T13:03:37.261Z"
   },
   {
    "duration": 78,
    "start_time": "2022-05-18T13:05:06.485Z"
   },
   {
    "duration": 74,
    "start_time": "2022-05-18T13:05:08.833Z"
   },
   {
    "duration": 66,
    "start_time": "2022-05-18T13:06:00.698Z"
   },
   {
    "duration": 74,
    "start_time": "2022-05-18T13:07:33.783Z"
   },
   {
    "duration": 36,
    "start_time": "2022-05-18T13:07:54.479Z"
   },
   {
    "duration": 44,
    "start_time": "2022-05-18T13:08:25.071Z"
   },
   {
    "duration": 3,
    "start_time": "2022-05-18T13:25:11.043Z"
   },
   {
    "duration": 39,
    "start_time": "2022-05-18T13:27:56.662Z"
   },
   {
    "duration": 62,
    "start_time": "2022-05-21T15:46:05.402Z"
   },
   {
    "duration": 10,
    "start_time": "2022-05-21T15:46:23.222Z"
   },
   {
    "duration": 466,
    "start_time": "2022-05-21T15:46:39.264Z"
   },
   {
    "duration": 228,
    "start_time": "2022-05-21T15:46:39.732Z"
   },
   {
    "duration": 23,
    "start_time": "2022-05-21T15:46:39.962Z"
   },
   {
    "duration": 52,
    "start_time": "2022-05-21T15:46:39.988Z"
   },
   {
    "duration": 4,
    "start_time": "2022-05-21T15:46:40.042Z"
   },
   {
    "duration": 35,
    "start_time": "2022-05-21T15:46:40.048Z"
   },
   {
    "duration": 8,
    "start_time": "2022-05-21T15:46:40.085Z"
   },
   {
    "duration": 29,
    "start_time": "2022-05-21T15:46:40.095Z"
   },
   {
    "duration": 75,
    "start_time": "2022-05-21T15:46:40.126Z"
   },
   {
    "duration": 28,
    "start_time": "2022-05-21T15:46:40.204Z"
   },
   {
    "duration": 77,
    "start_time": "2022-05-21T15:46:40.233Z"
   },
   {
    "duration": 83,
    "start_time": "2022-05-21T15:46:40.312Z"
   },
   {
    "duration": 79,
    "start_time": "2022-05-21T15:46:40.397Z"
   },
   {
    "duration": 50,
    "start_time": "2022-05-21T15:46:40.478Z"
   },
   {
    "duration": 3,
    "start_time": "2022-05-21T15:46:40.530Z"
   },
   {
    "duration": 84,
    "start_time": "2022-05-21T15:46:40.534Z"
   },
   {
    "duration": 41,
    "start_time": "2022-05-21T15:46:40.619Z"
   },
   {
    "duration": 13,
    "start_time": "2022-05-21T15:46:40.662Z"
   },
   {
    "duration": 5,
    "start_time": "2022-05-21T15:46:40.677Z"
   },
   {
    "duration": 6,
    "start_time": "2022-05-21T15:46:40.684Z"
   },
   {
    "duration": 9,
    "start_time": "2022-05-21T15:46:40.692Z"
   },
   {
    "duration": 25,
    "start_time": "2022-05-21T15:46:40.703Z"
   },
   {
    "duration": 7,
    "start_time": "2022-05-21T15:46:40.730Z"
   },
   {
    "duration": 8,
    "start_time": "2022-05-21T15:46:40.739Z"
   },
   {
    "duration": 12,
    "start_time": "2022-05-21T15:46:40.748Z"
   },
   {
    "duration": 16,
    "start_time": "2022-05-21T15:46:40.761Z"
   },
   {
    "duration": 6,
    "start_time": "2022-05-21T15:46:40.779Z"
   },
   {
    "duration": 10,
    "start_time": "2022-05-21T15:46:40.790Z"
   },
   {
    "duration": 31,
    "start_time": "2022-05-21T15:46:40.801Z"
   },
   {
    "duration": 18,
    "start_time": "2022-05-21T15:46:40.834Z"
   },
   {
    "duration": 17,
    "start_time": "2022-05-21T15:46:40.854Z"
   },
   {
    "duration": 8,
    "start_time": "2022-05-21T15:46:40.873Z"
   },
   {
    "duration": 9,
    "start_time": "2022-05-21T15:46:40.883Z"
   },
   {
    "duration": 10,
    "start_time": "2022-05-21T15:46:40.894Z"
   },
   {
    "duration": 13,
    "start_time": "2022-05-21T15:46:40.906Z"
   },
   {
    "duration": 11,
    "start_time": "2022-05-21T15:46:40.920Z"
   },
   {
    "duration": 10,
    "start_time": "2022-05-21T15:46:40.933Z"
   },
   {
    "duration": 7,
    "start_time": "2022-05-21T15:46:40.945Z"
   },
   {
    "duration": 13,
    "start_time": "2022-05-21T15:48:12.456Z"
   },
   {
    "duration": 4,
    "start_time": "2022-05-21T15:58:23.455Z"
   },
   {
    "duration": 81,
    "start_time": "2022-05-21T15:59:03.147Z"
   },
   {
    "duration": 3,
    "start_time": "2022-05-21T16:01:18.199Z"
   },
   {
    "duration": 15,
    "start_time": "2022-05-21T16:01:19.487Z"
   },
   {
    "duration": 5,
    "start_time": "2022-05-21T16:01:26.148Z"
   },
   {
    "duration": 419,
    "start_time": "2022-05-21T16:01:35.586Z"
   },
   {
    "duration": 168,
    "start_time": "2022-05-21T16:01:36.007Z"
   },
   {
    "duration": 18,
    "start_time": "2022-05-21T16:01:36.177Z"
   },
   {
    "duration": 45,
    "start_time": "2022-05-21T16:01:36.198Z"
   },
   {
    "duration": 8,
    "start_time": "2022-05-21T16:01:36.245Z"
   },
   {
    "duration": 25,
    "start_time": "2022-05-21T16:01:36.254Z"
   },
   {
    "duration": 7,
    "start_time": "2022-05-21T16:01:36.281Z"
   },
   {
    "duration": 44,
    "start_time": "2022-05-21T16:01:36.290Z"
   },
   {
    "duration": 30,
    "start_time": "2022-05-21T16:01:36.336Z"
   },
   {
    "duration": 39,
    "start_time": "2022-05-21T16:01:36.370Z"
   },
   {
    "duration": 98,
    "start_time": "2022-05-21T16:01:36.411Z"
   },
   {
    "duration": 90,
    "start_time": "2022-05-21T16:01:36.511Z"
   },
   {
    "duration": 84,
    "start_time": "2022-05-21T16:01:36.603Z"
   },
   {
    "duration": 74,
    "start_time": "2022-05-21T16:01:36.689Z"
   },
   {
    "duration": 3,
    "start_time": "2022-05-21T16:01:36.765Z"
   },
   {
    "duration": 43,
    "start_time": "2022-05-21T16:01:36.770Z"
   },
   {
    "duration": 56,
    "start_time": "2022-05-21T16:01:36.826Z"
   },
   {
    "duration": 14,
    "start_time": "2022-05-21T16:01:36.883Z"
   },
   {
    "duration": 36,
    "start_time": "2022-05-21T16:01:36.899Z"
   },
   {
    "duration": 3,
    "start_time": "2022-05-21T16:01:36.937Z"
   },
   {
    "duration": 93,
    "start_time": "2022-05-21T16:01:36.941Z"
   },
   {
    "duration": 0,
    "start_time": "2022-05-21T16:01:37.036Z"
   },
   {
    "duration": 0,
    "start_time": "2022-05-21T16:01:37.038Z"
   },
   {
    "duration": 0,
    "start_time": "2022-05-21T16:01:37.038Z"
   },
   {
    "duration": 0,
    "start_time": "2022-05-21T16:01:37.039Z"
   },
   {
    "duration": 0,
    "start_time": "2022-05-21T16:01:37.041Z"
   },
   {
    "duration": 0,
    "start_time": "2022-05-21T16:01:37.042Z"
   },
   {
    "duration": 0,
    "start_time": "2022-05-21T16:01:37.043Z"
   },
   {
    "duration": 0,
    "start_time": "2022-05-21T16:01:37.044Z"
   },
   {
    "duration": 0,
    "start_time": "2022-05-21T16:01:37.045Z"
   },
   {
    "duration": 0,
    "start_time": "2022-05-21T16:01:37.046Z"
   },
   {
    "duration": 0,
    "start_time": "2022-05-21T16:01:37.047Z"
   },
   {
    "duration": 0,
    "start_time": "2022-05-21T16:01:37.048Z"
   },
   {
    "duration": 0,
    "start_time": "2022-05-21T16:01:37.049Z"
   },
   {
    "duration": 0,
    "start_time": "2022-05-21T16:01:37.050Z"
   },
   {
    "duration": 0,
    "start_time": "2022-05-21T16:01:37.051Z"
   },
   {
    "duration": 0,
    "start_time": "2022-05-21T16:01:37.052Z"
   },
   {
    "duration": 0,
    "start_time": "2022-05-21T16:01:37.054Z"
   },
   {
    "duration": 4,
    "start_time": "2022-05-21T16:03:44.727Z"
   },
   {
    "duration": 18,
    "start_time": "2022-05-21T16:03:46.092Z"
   },
   {
    "duration": 5,
    "start_time": "2022-05-21T16:03:58.437Z"
   },
   {
    "duration": 41,
    "start_time": "2022-05-21T16:03:59.822Z"
   },
   {
    "duration": 3,
    "start_time": "2022-05-21T16:05:42.568Z"
   },
   {
    "duration": 18,
    "start_time": "2022-05-21T16:05:43.538Z"
   },
   {
    "duration": 61,
    "start_time": "2022-05-22T11:37:23.814Z"
   },
   {
    "duration": 467,
    "start_time": "2022-05-22T11:37:49.362Z"
   },
   {
    "duration": 235,
    "start_time": "2022-05-22T11:37:49.831Z"
   },
   {
    "duration": 20,
    "start_time": "2022-05-22T11:37:50.068Z"
   },
   {
    "duration": 33,
    "start_time": "2022-05-22T11:37:50.091Z"
   },
   {
    "duration": 3,
    "start_time": "2022-05-22T11:37:50.126Z"
   },
   {
    "duration": 42,
    "start_time": "2022-05-22T11:37:50.131Z"
   },
   {
    "duration": 6,
    "start_time": "2022-05-22T11:37:50.175Z"
   },
   {
    "duration": 28,
    "start_time": "2022-05-22T11:37:50.183Z"
   },
   {
    "duration": 19,
    "start_time": "2022-05-22T11:37:50.213Z"
   },
   {
    "duration": 47,
    "start_time": "2022-05-22T11:37:50.236Z"
   },
   {
    "duration": 88,
    "start_time": "2022-05-22T11:37:50.285Z"
   },
   {
    "duration": 96,
    "start_time": "2022-05-22T11:37:50.375Z"
   },
   {
    "duration": 66,
    "start_time": "2022-05-22T11:37:50.473Z"
   },
   {
    "duration": 70,
    "start_time": "2022-05-22T11:37:50.541Z"
   },
   {
    "duration": 4,
    "start_time": "2022-05-22T11:37:50.614Z"
   },
   {
    "duration": 38,
    "start_time": "2022-05-22T11:37:50.620Z"
   },
   {
    "duration": 44,
    "start_time": "2022-05-22T11:37:50.660Z"
   },
   {
    "duration": 14,
    "start_time": "2022-05-22T11:37:50.706Z"
   },
   {
    "duration": 13,
    "start_time": "2022-05-22T11:37:50.722Z"
   },
   {
    "duration": 29,
    "start_time": "2022-05-22T11:37:50.736Z"
   },
   {
    "duration": 23,
    "start_time": "2022-05-22T11:37:50.768Z"
   },
   {
    "duration": 18,
    "start_time": "2022-05-22T11:37:50.806Z"
   },
   {
    "duration": 27,
    "start_time": "2022-05-22T11:37:50.826Z"
   },
   {
    "duration": 23,
    "start_time": "2022-05-22T11:37:50.855Z"
   },
   {
    "duration": 18,
    "start_time": "2022-05-22T11:37:50.879Z"
   },
   {
    "duration": 17,
    "start_time": "2022-05-22T11:37:50.899Z"
   },
   {
    "duration": 3,
    "start_time": "2022-05-22T11:37:50.917Z"
   },
   {
    "duration": 3,
    "start_time": "2022-05-22T11:37:50.924Z"
   },
   {
    "duration": 3,
    "start_time": "2022-05-22T11:37:50.966Z"
   },
   {
    "duration": 12,
    "start_time": "2022-05-22T11:37:50.970Z"
   },
   {
    "duration": 9,
    "start_time": "2022-05-22T11:37:50.984Z"
   },
   {
    "duration": 8,
    "start_time": "2022-05-22T11:37:50.994Z"
   },
   {
    "duration": 8,
    "start_time": "2022-05-22T11:37:51.004Z"
   },
   {
    "duration": 5,
    "start_time": "2022-05-22T11:37:51.014Z"
   },
   {
    "duration": 6,
    "start_time": "2022-05-22T11:37:51.021Z"
   },
   {
    "duration": 7,
    "start_time": "2022-05-22T11:37:51.030Z"
   },
   {
    "duration": 8,
    "start_time": "2022-05-22T11:37:51.040Z"
   },
   {
    "duration": 14,
    "start_time": "2022-05-22T11:37:51.051Z"
   },
   {
    "duration": 10,
    "start_time": "2022-05-22T11:40:00.919Z"
   },
   {
    "duration": 83,
    "start_time": "2022-05-22T11:45:06.830Z"
   },
   {
    "duration": 436,
    "start_time": "2022-05-22T11:45:29.890Z"
   },
   {
    "duration": 186,
    "start_time": "2022-05-22T11:45:30.328Z"
   },
   {
    "duration": 17,
    "start_time": "2022-05-22T11:45:30.516Z"
   },
   {
    "duration": 47,
    "start_time": "2022-05-22T11:45:30.535Z"
   },
   {
    "duration": 8,
    "start_time": "2022-05-22T11:45:30.584Z"
   },
   {
    "duration": 19,
    "start_time": "2022-05-22T11:45:30.594Z"
   },
   {
    "duration": 13,
    "start_time": "2022-05-22T11:45:30.615Z"
   },
   {
    "duration": 47,
    "start_time": "2022-05-22T11:45:30.630Z"
   },
   {
    "duration": 39,
    "start_time": "2022-05-22T11:45:30.679Z"
   },
   {
    "duration": 30,
    "start_time": "2022-05-22T11:45:30.720Z"
   },
   {
    "duration": 82,
    "start_time": "2022-05-22T11:45:30.752Z"
   },
   {
    "duration": 94,
    "start_time": "2022-05-22T11:45:30.836Z"
   },
   {
    "duration": 72,
    "start_time": "2022-05-22T11:45:30.932Z"
   },
   {
    "duration": 44,
    "start_time": "2022-05-22T11:45:31.006Z"
   },
   {
    "duration": 14,
    "start_time": "2022-05-22T11:45:31.051Z"
   },
   {
    "duration": 36,
    "start_time": "2022-05-22T11:45:31.067Z"
   },
   {
    "duration": 41,
    "start_time": "2022-05-22T11:45:31.105Z"
   },
   {
    "duration": 28,
    "start_time": "2022-05-22T11:45:31.148Z"
   },
   {
    "duration": 13,
    "start_time": "2022-05-22T11:45:31.178Z"
   },
   {
    "duration": 12,
    "start_time": "2022-05-22T11:45:31.193Z"
   },
   {
    "duration": 30,
    "start_time": "2022-05-22T11:45:31.207Z"
   },
   {
    "duration": 27,
    "start_time": "2022-05-22T11:45:31.238Z"
   },
   {
    "duration": 17,
    "start_time": "2022-05-22T11:45:31.266Z"
   },
   {
    "duration": 16,
    "start_time": "2022-05-22T11:45:31.285Z"
   },
   {
    "duration": 18,
    "start_time": "2022-05-22T11:45:31.302Z"
   },
   {
    "duration": 44,
    "start_time": "2022-05-22T11:45:31.322Z"
   },
   {
    "duration": 9,
    "start_time": "2022-05-22T11:45:31.368Z"
   },
   {
    "duration": 16,
    "start_time": "2022-05-22T11:45:31.380Z"
   },
   {
    "duration": 15,
    "start_time": "2022-05-22T11:45:31.398Z"
   },
   {
    "duration": 4,
    "start_time": "2022-05-22T11:45:31.415Z"
   },
   {
    "duration": 27,
    "start_time": "2022-05-22T11:45:31.421Z"
   },
   {
    "duration": 17,
    "start_time": "2022-05-22T11:45:31.466Z"
   },
   {
    "duration": 17,
    "start_time": "2022-05-22T11:45:31.486Z"
   },
   {
    "duration": 11,
    "start_time": "2022-05-22T11:45:31.504Z"
   },
   {
    "duration": 5,
    "start_time": "2022-05-22T11:45:31.517Z"
   },
   {
    "duration": 7,
    "start_time": "2022-05-22T11:45:31.523Z"
   },
   {
    "duration": 5,
    "start_time": "2022-05-22T11:45:31.532Z"
   },
   {
    "duration": 15,
    "start_time": "2022-05-22T11:45:31.538Z"
   },
   {
    "duration": 17,
    "start_time": "2022-05-22T11:46:36.068Z"
   },
   {
    "duration": 12,
    "start_time": "2022-05-22T11:46:50.966Z"
   },
   {
    "duration": 446,
    "start_time": "2022-05-22T11:48:16.291Z"
   },
   {
    "duration": 172,
    "start_time": "2022-05-22T11:48:16.739Z"
   },
   {
    "duration": 19,
    "start_time": "2022-05-22T11:48:16.912Z"
   },
   {
    "duration": 41,
    "start_time": "2022-05-22T11:48:16.933Z"
   },
   {
    "duration": 4,
    "start_time": "2022-05-22T11:48:16.976Z"
   },
   {
    "duration": 17,
    "start_time": "2022-05-22T11:48:16.981Z"
   },
   {
    "duration": 6,
    "start_time": "2022-05-22T11:48:17.000Z"
   },
   {
    "duration": 29,
    "start_time": "2022-05-22T11:48:17.008Z"
   },
   {
    "duration": 21,
    "start_time": "2022-05-22T11:48:17.066Z"
   },
   {
    "duration": 25,
    "start_time": "2022-05-22T11:48:17.091Z"
   },
   {
    "duration": 98,
    "start_time": "2022-05-22T11:48:17.118Z"
   },
   {
    "duration": 112,
    "start_time": "2022-05-22T11:48:17.219Z"
   },
   {
    "duration": 80,
    "start_time": "2022-05-22T11:48:17.332Z"
   },
   {
    "duration": 64,
    "start_time": "2022-05-22T11:48:17.414Z"
   },
   {
    "duration": 6,
    "start_time": "2022-05-22T11:48:17.480Z"
   },
   {
    "duration": 32,
    "start_time": "2022-05-22T11:48:17.488Z"
   },
   {
    "duration": 52,
    "start_time": "2022-05-22T11:48:17.522Z"
   },
   {
    "duration": 12,
    "start_time": "2022-05-22T11:48:17.576Z"
   },
   {
    "duration": 14,
    "start_time": "2022-05-22T11:48:17.590Z"
   },
   {
    "duration": 3,
    "start_time": "2022-05-22T11:48:17.606Z"
   },
   {
    "duration": 21,
    "start_time": "2022-05-22T11:48:17.611Z"
   },
   {
    "duration": 42,
    "start_time": "2022-05-22T11:48:17.634Z"
   },
   {
    "duration": 16,
    "start_time": "2022-05-22T11:48:17.678Z"
   },
   {
    "duration": 16,
    "start_time": "2022-05-22T11:48:17.696Z"
   },
   {
    "duration": 52,
    "start_time": "2022-05-22T11:48:17.713Z"
   },
   {
    "duration": 17,
    "start_time": "2022-05-22T11:48:17.767Z"
   },
   {
    "duration": 11,
    "start_time": "2022-05-22T11:48:17.786Z"
   },
   {
    "duration": 13,
    "start_time": "2022-05-22T11:48:17.801Z"
   },
   {
    "duration": 11,
    "start_time": "2022-05-22T11:48:17.815Z"
   },
   {
    "duration": 39,
    "start_time": "2022-05-22T11:48:17.828Z"
   },
   {
    "duration": 81,
    "start_time": "2022-05-22T11:48:17.868Z"
   },
   {
    "duration": 0,
    "start_time": "2022-05-22T11:48:17.951Z"
   },
   {
    "duration": 0,
    "start_time": "2022-05-22T11:48:17.952Z"
   },
   {
    "duration": 0,
    "start_time": "2022-05-22T11:48:17.964Z"
   },
   {
    "duration": 0,
    "start_time": "2022-05-22T11:48:17.965Z"
   },
   {
    "duration": 0,
    "start_time": "2022-05-22T11:48:17.967Z"
   },
   {
    "duration": 0,
    "start_time": "2022-05-22T11:48:17.968Z"
   },
   {
    "duration": 1,
    "start_time": "2022-05-22T11:48:17.969Z"
   },
   {
    "duration": 9,
    "start_time": "2022-05-22T11:49:01.677Z"
   },
   {
    "duration": 4,
    "start_time": "2022-05-22T11:49:21.296Z"
   },
   {
    "duration": 9,
    "start_time": "2022-05-22T11:49:51.783Z"
   },
   {
    "duration": 6,
    "start_time": "2022-05-22T11:49:52.697Z"
   },
   {
    "duration": 449,
    "start_time": "2022-05-22T11:50:57.223Z"
   },
   {
    "duration": 166,
    "start_time": "2022-05-22T11:50:57.675Z"
   },
   {
    "duration": 23,
    "start_time": "2022-05-22T11:50:57.843Z"
   },
   {
    "duration": 35,
    "start_time": "2022-05-22T11:50:57.868Z"
   },
   {
    "duration": 4,
    "start_time": "2022-05-22T11:50:57.904Z"
   },
   {
    "duration": 15,
    "start_time": "2022-05-22T11:50:57.910Z"
   },
   {
    "duration": 8,
    "start_time": "2022-05-22T11:50:57.927Z"
   },
   {
    "duration": 50,
    "start_time": "2022-05-22T11:50:57.937Z"
   },
   {
    "duration": 30,
    "start_time": "2022-05-22T11:50:57.989Z"
   },
   {
    "duration": 44,
    "start_time": "2022-05-22T11:50:58.023Z"
   },
   {
    "duration": 75,
    "start_time": "2022-05-22T11:50:58.069Z"
   },
   {
    "duration": 106,
    "start_time": "2022-05-22T11:50:58.146Z"
   },
   {
    "duration": 76,
    "start_time": "2022-05-22T11:50:58.253Z"
   },
   {
    "duration": 68,
    "start_time": "2022-05-22T11:50:58.331Z"
   },
   {
    "duration": 7,
    "start_time": "2022-05-22T11:50:58.401Z"
   },
   {
    "duration": 38,
    "start_time": "2022-05-22T11:50:58.410Z"
   },
   {
    "duration": 56,
    "start_time": "2022-05-22T11:50:58.450Z"
   },
   {
    "duration": 12,
    "start_time": "2022-05-22T11:50:58.508Z"
   },
   {
    "duration": 16,
    "start_time": "2022-05-22T11:50:58.523Z"
   },
   {
    "duration": 32,
    "start_time": "2022-05-22T11:50:58.542Z"
   },
   {
    "duration": 33,
    "start_time": "2022-05-22T11:50:58.576Z"
   },
   {
    "duration": 20,
    "start_time": "2022-05-22T11:50:58.612Z"
   },
   {
    "duration": 18,
    "start_time": "2022-05-22T11:50:58.634Z"
   },
   {
    "duration": 23,
    "start_time": "2022-05-22T11:50:58.654Z"
   },
   {
    "duration": 16,
    "start_time": "2022-05-22T11:50:58.679Z"
   },
   {
    "duration": 16,
    "start_time": "2022-05-22T11:50:58.697Z"
   },
   {
    "duration": 11,
    "start_time": "2022-05-22T11:50:58.714Z"
   },
   {
    "duration": 48,
    "start_time": "2022-05-22T11:50:58.729Z"
   },
   {
    "duration": 11,
    "start_time": "2022-05-22T11:50:58.780Z"
   },
   {
    "duration": 4,
    "start_time": "2022-05-22T11:50:58.793Z"
   },
   {
    "duration": 22,
    "start_time": "2022-05-22T11:50:58.799Z"
   },
   {
    "duration": 43,
    "start_time": "2022-05-22T11:50:58.823Z"
   },
   {
    "duration": 26,
    "start_time": "2022-05-22T11:50:58.869Z"
   },
   {
    "duration": 22,
    "start_time": "2022-05-22T11:50:58.897Z"
   },
   {
    "duration": 42,
    "start_time": "2022-05-22T11:50:58.921Z"
   },
   {
    "duration": 9,
    "start_time": "2022-05-22T11:50:58.965Z"
   },
   {
    "duration": 23,
    "start_time": "2022-05-22T11:50:58.976Z"
   },
   {
    "duration": 13,
    "start_time": "2022-05-22T11:50:59.001Z"
   },
   {
    "duration": 56,
    "start_time": "2022-05-22T12:19:41.897Z"
   },
   {
    "duration": 403,
    "start_time": "2022-05-22T12:19:48.694Z"
   },
   {
    "duration": 206,
    "start_time": "2022-05-22T12:19:49.099Z"
   },
   {
    "duration": 20,
    "start_time": "2022-05-22T12:19:49.308Z"
   },
   {
    "duration": 11,
    "start_time": "2022-05-22T12:19:49.329Z"
   },
   {
    "duration": 36,
    "start_time": "2022-05-22T12:19:49.341Z"
   },
   {
    "duration": 3,
    "start_time": "2022-05-22T12:19:49.379Z"
   },
   {
    "duration": 13,
    "start_time": "2022-05-22T12:19:49.383Z"
   },
   {
    "duration": 10,
    "start_time": "2022-05-22T12:19:49.398Z"
   },
   {
    "duration": 27,
    "start_time": "2022-05-22T12:19:49.410Z"
   },
   {
    "duration": 19,
    "start_time": "2022-05-22T12:19:49.452Z"
   },
   {
    "duration": 22,
    "start_time": "2022-05-22T12:19:49.472Z"
   },
   {
    "duration": 80,
    "start_time": "2022-05-22T12:19:49.496Z"
   },
   {
    "duration": 88,
    "start_time": "2022-05-22T12:19:49.578Z"
   },
   {
    "duration": 65,
    "start_time": "2022-05-22T12:19:49.668Z"
   },
   {
    "duration": 45,
    "start_time": "2022-05-22T12:19:49.734Z"
   },
   {
    "duration": 3,
    "start_time": "2022-05-22T12:19:49.780Z"
   },
   {
    "duration": 22,
    "start_time": "2022-05-22T12:19:49.785Z"
   },
   {
    "duration": 45,
    "start_time": "2022-05-22T12:19:49.809Z"
   },
   {
    "duration": 10,
    "start_time": "2022-05-22T12:19:49.856Z"
   },
   {
    "duration": 10,
    "start_time": "2022-05-22T12:19:49.868Z"
   },
   {
    "duration": 2,
    "start_time": "2022-05-22T12:19:49.880Z"
   },
   {
    "duration": 18,
    "start_time": "2022-05-22T12:19:49.884Z"
   },
   {
    "duration": 13,
    "start_time": "2022-05-22T12:19:49.905Z"
   },
   {
    "duration": 15,
    "start_time": "2022-05-22T12:19:49.952Z"
   },
   {
    "duration": 14,
    "start_time": "2022-05-22T12:19:49.968Z"
   },
   {
    "duration": 16,
    "start_time": "2022-05-22T12:19:49.984Z"
   },
   {
    "duration": 14,
    "start_time": "2022-05-22T12:19:50.001Z"
   },
   {
    "duration": 38,
    "start_time": "2022-05-22T12:19:50.017Z"
   },
   {
    "duration": 14,
    "start_time": "2022-05-22T12:19:50.056Z"
   },
   {
    "duration": 9,
    "start_time": "2022-05-22T12:19:50.071Z"
   },
   {
    "duration": 4,
    "start_time": "2022-05-22T12:19:50.081Z"
   },
   {
    "duration": 22,
    "start_time": "2022-05-22T12:19:50.087Z"
   },
   {
    "duration": 14,
    "start_time": "2022-05-22T12:19:50.111Z"
   },
   {
    "duration": 34,
    "start_time": "2022-05-22T12:19:50.127Z"
   },
   {
    "duration": 13,
    "start_time": "2022-05-22T12:19:50.163Z"
   },
   {
    "duration": 13,
    "start_time": "2022-05-22T12:19:50.179Z"
   },
   {
    "duration": 5,
    "start_time": "2022-05-22T12:19:50.193Z"
   },
   {
    "duration": 10,
    "start_time": "2022-05-22T12:19:50.199Z"
   },
   {
    "duration": 7,
    "start_time": "2022-05-22T12:19:50.210Z"
   },
   {
    "duration": 52,
    "start_time": "2022-05-27T04:21:43.658Z"
   },
   {
    "duration": 6,
    "start_time": "2022-05-27T04:21:58.328Z"
   },
   {
    "duration": 6,
    "start_time": "2022-05-27T04:21:59.030Z"
   },
   {
    "duration": 6,
    "start_time": "2022-05-27T04:21:59.927Z"
   },
   {
    "duration": 431,
    "start_time": "2022-05-27T04:22:21.503Z"
   },
   {
    "duration": 448,
    "start_time": "2022-05-27T04:22:21.936Z"
   },
   {
    "duration": 16,
    "start_time": "2022-05-27T04:22:22.386Z"
   },
   {
    "duration": 10,
    "start_time": "2022-05-27T04:22:22.404Z"
   },
   {
    "duration": 30,
    "start_time": "2022-05-27T04:22:22.415Z"
   },
   {
    "duration": 3,
    "start_time": "2022-05-27T04:22:22.447Z"
   },
   {
    "duration": 15,
    "start_time": "2022-05-27T04:22:22.451Z"
   },
   {
    "duration": 10,
    "start_time": "2022-05-27T04:22:22.468Z"
   },
   {
    "duration": 22,
    "start_time": "2022-05-27T04:22:22.495Z"
   },
   {
    "duration": 18,
    "start_time": "2022-05-27T04:22:22.519Z"
   },
   {
    "duration": 20,
    "start_time": "2022-05-27T04:22:22.539Z"
   },
   {
    "duration": 83,
    "start_time": "2022-05-27T04:22:22.561Z"
   },
   {
    "duration": 83,
    "start_time": "2022-05-27T04:22:22.646Z"
   },
   {
    "duration": 63,
    "start_time": "2022-05-27T04:22:22.731Z"
   },
   {
    "duration": 37,
    "start_time": "2022-05-27T04:22:22.796Z"
   },
   {
    "duration": 3,
    "start_time": "2022-05-27T04:22:22.835Z"
   },
   {
    "duration": 28,
    "start_time": "2022-05-27T04:22:22.840Z"
   },
   {
    "duration": 51,
    "start_time": "2022-05-27T04:22:22.870Z"
   },
   {
    "duration": 11,
    "start_time": "2022-05-27T04:22:22.922Z"
   },
   {
    "duration": 11,
    "start_time": "2022-05-27T04:22:22.934Z"
   },
   {
    "duration": 3,
    "start_time": "2022-05-27T04:22:22.946Z"
   },
   {
    "duration": 19,
    "start_time": "2022-05-27T04:22:22.950Z"
   },
   {
    "duration": 36,
    "start_time": "2022-05-27T04:22:22.970Z"
   },
   {
    "duration": 15,
    "start_time": "2022-05-27T04:22:23.007Z"
   },
   {
    "duration": 15,
    "start_time": "2022-05-27T04:22:23.024Z"
   },
   {
    "duration": 16,
    "start_time": "2022-05-27T04:22:23.041Z"
   },
   {
    "duration": 42,
    "start_time": "2022-05-27T04:22:23.058Z"
   },
   {
    "duration": 8,
    "start_time": "2022-05-27T04:22:23.103Z"
   },
   {
    "duration": 15,
    "start_time": "2022-05-27T04:22:23.112Z"
   },
   {
    "duration": 10,
    "start_time": "2022-05-27T04:22:23.128Z"
   },
   {
    "duration": 4,
    "start_time": "2022-05-27T04:22:23.139Z"
   },
   {
    "duration": 18,
    "start_time": "2022-05-27T04:22:23.144Z"
   },
   {
    "duration": 37,
    "start_time": "2022-05-27T04:22:23.163Z"
   },
   {
    "duration": 15,
    "start_time": "2022-05-27T04:22:23.202Z"
   },
   {
    "duration": 11,
    "start_time": "2022-05-27T04:22:23.218Z"
   },
   {
    "duration": 8,
    "start_time": "2022-05-27T04:22:23.230Z"
   },
   {
    "duration": 5,
    "start_time": "2022-05-27T04:22:23.239Z"
   },
   {
    "duration": 6,
    "start_time": "2022-05-27T04:22:23.245Z"
   },
   {
    "duration": 4,
    "start_time": "2022-05-27T04:22:23.253Z"
   },
   {
    "duration": 423,
    "start_time": "2022-05-27T04:23:48.809Z"
   },
   {
    "duration": 164,
    "start_time": "2022-05-27T04:23:49.234Z"
   },
   {
    "duration": 15,
    "start_time": "2022-05-27T04:23:49.400Z"
   },
   {
    "duration": 22,
    "start_time": "2022-05-27T04:23:49.417Z"
   },
   {
    "duration": 58,
    "start_time": "2022-05-27T04:23:49.440Z"
   },
   {
    "duration": 3,
    "start_time": "2022-05-27T04:23:49.500Z"
   },
   {
    "duration": 21,
    "start_time": "2022-05-27T04:23:49.505Z"
   },
   {
    "duration": 8,
    "start_time": "2022-05-27T04:23:49.527Z"
   },
   {
    "duration": 31,
    "start_time": "2022-05-27T04:23:49.537Z"
   },
   {
    "duration": 23,
    "start_time": "2022-05-27T04:23:49.570Z"
   },
   {
    "duration": 23,
    "start_time": "2022-05-27T04:23:49.595Z"
   },
   {
    "duration": 72,
    "start_time": "2022-05-27T04:23:49.619Z"
   },
   {
    "duration": 87,
    "start_time": "2022-05-27T04:23:49.693Z"
   },
   {
    "duration": 72,
    "start_time": "2022-05-27T04:23:49.782Z"
   },
   {
    "duration": 56,
    "start_time": "2022-05-27T04:23:49.856Z"
   },
   {
    "duration": 4,
    "start_time": "2022-05-27T04:23:49.914Z"
   },
   {
    "duration": 31,
    "start_time": "2022-05-27T04:23:49.920Z"
   },
   {
    "duration": 48,
    "start_time": "2022-05-27T04:23:49.952Z"
   },
   {
    "duration": 12,
    "start_time": "2022-05-27T04:23:50.002Z"
   },
   {
    "duration": 10,
    "start_time": "2022-05-27T04:23:50.015Z"
   },
   {
    "duration": 5,
    "start_time": "2022-05-27T04:23:50.027Z"
   },
   {
    "duration": 20,
    "start_time": "2022-05-27T04:23:50.034Z"
   },
   {
    "duration": 17,
    "start_time": "2022-05-27T04:23:50.056Z"
   },
   {
    "duration": 30,
    "start_time": "2022-05-27T04:23:50.074Z"
   },
   {
    "duration": 13,
    "start_time": "2022-05-27T04:23:50.106Z"
   },
   {
    "duration": 15,
    "start_time": "2022-05-27T04:23:50.120Z"
   },
   {
    "duration": 13,
    "start_time": "2022-05-27T04:23:50.137Z"
   },
   {
    "duration": 9,
    "start_time": "2022-05-27T04:23:50.153Z"
   },
   {
    "duration": 41,
    "start_time": "2022-05-27T04:23:50.163Z"
   },
   {
    "duration": 12,
    "start_time": "2022-05-27T04:23:50.206Z"
   },
   {
    "duration": 15,
    "start_time": "2022-05-27T04:23:50.219Z"
   },
   {
    "duration": 21,
    "start_time": "2022-05-27T04:23:50.236Z"
   },
   {
    "duration": 10,
    "start_time": "2022-05-27T04:23:50.259Z"
   },
   {
    "duration": 26,
    "start_time": "2022-05-27T04:23:50.270Z"
   },
   {
    "duration": 11,
    "start_time": "2022-05-27T04:23:50.297Z"
   },
   {
    "duration": 9,
    "start_time": "2022-05-27T04:23:50.310Z"
   },
   {
    "duration": 4,
    "start_time": "2022-05-27T04:23:50.321Z"
   },
   {
    "duration": 13,
    "start_time": "2022-05-27T04:23:50.327Z"
   },
   {
    "duration": 6,
    "start_time": "2022-05-27T04:23:50.341Z"
   },
   {
    "duration": 446,
    "start_time": "2022-05-27T04:28:51.079Z"
   },
   {
    "duration": 159,
    "start_time": "2022-05-27T04:28:51.526Z"
   },
   {
    "duration": 17,
    "start_time": "2022-05-27T04:28:51.687Z"
   },
   {
    "duration": 12,
    "start_time": "2022-05-27T04:28:51.706Z"
   },
   {
    "duration": 31,
    "start_time": "2022-05-27T04:28:51.719Z"
   },
   {
    "duration": 4,
    "start_time": "2022-05-27T04:28:51.751Z"
   },
   {
    "duration": 17,
    "start_time": "2022-05-27T04:28:51.756Z"
   },
   {
    "duration": 21,
    "start_time": "2022-05-27T04:28:51.774Z"
   },
   {
    "duration": 24,
    "start_time": "2022-05-27T04:28:51.797Z"
   },
   {
    "duration": 17,
    "start_time": "2022-05-27T04:28:51.824Z"
   },
   {
    "duration": 21,
    "start_time": "2022-05-27T04:28:51.843Z"
   },
   {
    "duration": 81,
    "start_time": "2022-05-27T04:28:51.866Z"
   },
   {
    "duration": 79,
    "start_time": "2022-05-27T04:28:51.949Z"
   },
   {
    "duration": 65,
    "start_time": "2022-05-27T04:28:52.030Z"
   },
   {
    "duration": 38,
    "start_time": "2022-05-27T04:28:52.096Z"
   },
   {
    "duration": 3,
    "start_time": "2022-05-27T04:28:52.135Z"
   },
   {
    "duration": 11,
    "start_time": "2022-05-27T04:28:52.139Z"
   },
   {
    "duration": 59,
    "start_time": "2022-05-27T04:28:52.151Z"
   },
   {
    "duration": 13,
    "start_time": "2022-05-27T04:28:52.212Z"
   },
   {
    "duration": 12,
    "start_time": "2022-05-27T04:28:52.226Z"
   },
   {
    "duration": 2,
    "start_time": "2022-05-27T04:28:52.240Z"
   },
   {
    "duration": 17,
    "start_time": "2022-05-27T04:28:52.244Z"
   },
   {
    "duration": 43,
    "start_time": "2022-05-27T04:28:52.262Z"
   },
   {
    "duration": 15,
    "start_time": "2022-05-27T04:28:52.307Z"
   },
   {
    "duration": 14,
    "start_time": "2022-05-27T04:28:52.324Z"
   },
   {
    "duration": 16,
    "start_time": "2022-05-27T04:28:52.340Z"
   },
   {
    "duration": 50,
    "start_time": "2022-05-27T04:28:52.357Z"
   },
   {
    "duration": 8,
    "start_time": "2022-05-27T04:28:52.410Z"
   },
   {
    "duration": 15,
    "start_time": "2022-05-27T04:28:52.419Z"
   },
   {
    "duration": 9,
    "start_time": "2022-05-27T04:28:52.435Z"
   },
   {
    "duration": 13,
    "start_time": "2022-05-27T04:28:52.445Z"
   },
   {
    "duration": 55,
    "start_time": "2022-05-27T04:28:52.459Z"
   },
   {
    "duration": 30,
    "start_time": "2022-05-27T04:28:52.515Z"
   },
   {
    "duration": 24,
    "start_time": "2022-05-27T04:28:52.546Z"
   },
   {
    "duration": 15,
    "start_time": "2022-05-27T04:28:52.571Z"
   },
   {
    "duration": 11,
    "start_time": "2022-05-27T04:28:52.588Z"
   },
   {
    "duration": 14,
    "start_time": "2022-05-27T04:28:52.600Z"
   },
   {
    "duration": 27,
    "start_time": "2022-05-27T04:28:52.616Z"
   },
   {
    "duration": 8,
    "start_time": "2022-05-27T04:28:52.645Z"
   },
   {
    "duration": 3,
    "start_time": "2022-05-27T05:04:12.587Z"
   },
   {
    "duration": 53,
    "start_time": "2022-05-27T18:00:03.421Z"
   },
   {
    "duration": 434,
    "start_time": "2022-05-27T18:00:28.109Z"
   },
   {
    "duration": 254,
    "start_time": "2022-05-27T18:00:28.545Z"
   },
   {
    "duration": 19,
    "start_time": "2022-05-27T18:00:28.801Z"
   },
   {
    "duration": 13,
    "start_time": "2022-05-27T18:00:28.822Z"
   },
   {
    "duration": 68,
    "start_time": "2022-05-27T18:00:28.837Z"
   },
   {
    "duration": 36,
    "start_time": "2022-05-27T18:00:28.908Z"
   },
   {
    "duration": 15,
    "start_time": "2022-05-27T18:00:28.946Z"
   },
   {
    "duration": 10,
    "start_time": "2022-05-27T18:00:28.963Z"
   },
   {
    "duration": 47,
    "start_time": "2022-05-27T18:00:28.975Z"
   },
   {
    "duration": 32,
    "start_time": "2022-05-27T18:00:29.026Z"
   },
   {
    "duration": 49,
    "start_time": "2022-05-27T18:00:29.061Z"
   },
   {
    "duration": 106,
    "start_time": "2022-05-27T18:00:29.112Z"
   },
   {
    "duration": 94,
    "start_time": "2022-05-27T18:00:29.220Z"
   },
   {
    "duration": 63,
    "start_time": "2022-05-27T18:00:29.318Z"
   },
   {
    "duration": 76,
    "start_time": "2022-05-27T18:00:29.383Z"
   },
   {
    "duration": 3,
    "start_time": "2022-05-27T18:00:29.461Z"
   },
   {
    "duration": 29,
    "start_time": "2022-05-27T18:00:29.465Z"
   },
   {
    "duration": 40,
    "start_time": "2022-05-27T18:00:29.496Z"
   },
   {
    "duration": 20,
    "start_time": "2022-05-27T18:00:29.538Z"
   },
   {
    "duration": 40,
    "start_time": "2022-05-27T18:00:29.561Z"
   },
   {
    "duration": 4,
    "start_time": "2022-05-27T18:00:29.603Z"
   },
   {
    "duration": 38,
    "start_time": "2022-05-27T18:00:29.609Z"
   },
   {
    "duration": 14,
    "start_time": "2022-05-27T18:00:29.649Z"
   },
   {
    "duration": 31,
    "start_time": "2022-05-27T18:00:29.665Z"
   },
   {
    "duration": 17,
    "start_time": "2022-05-27T18:00:29.698Z"
   },
   {
    "duration": 17,
    "start_time": "2022-05-27T18:00:29.717Z"
   },
   {
    "duration": 19,
    "start_time": "2022-05-27T18:00:29.737Z"
   },
   {
    "duration": 122,
    "start_time": "2022-05-27T18:00:29.758Z"
   },
   {
    "duration": 0,
    "start_time": "2022-05-27T18:00:29.882Z"
   },
   {
    "duration": 0,
    "start_time": "2022-05-27T18:00:29.883Z"
   },
   {
    "duration": 0,
    "start_time": "2022-05-27T18:00:29.893Z"
   },
   {
    "duration": 0,
    "start_time": "2022-05-27T18:00:29.895Z"
   },
   {
    "duration": 0,
    "start_time": "2022-05-27T18:00:29.897Z"
   },
   {
    "duration": 0,
    "start_time": "2022-05-27T18:00:29.901Z"
   },
   {
    "duration": 0,
    "start_time": "2022-05-27T18:00:29.903Z"
   },
   {
    "duration": 0,
    "start_time": "2022-05-27T18:00:29.905Z"
   },
   {
    "duration": 0,
    "start_time": "2022-05-27T18:00:29.906Z"
   },
   {
    "duration": 0,
    "start_time": "2022-05-27T18:00:29.908Z"
   },
   {
    "duration": 0,
    "start_time": "2022-05-27T18:00:29.909Z"
   },
   {
    "duration": 0,
    "start_time": "2022-05-27T18:00:29.911Z"
   },
   {
    "duration": 11,
    "start_time": "2022-05-27T18:11:36.223Z"
   },
   {
    "duration": 32,
    "start_time": "2022-05-27T18:11:50.402Z"
   },
   {
    "duration": 11,
    "start_time": "2022-05-27T18:12:06.590Z"
   },
   {
    "duration": 10,
    "start_time": "2022-05-27T18:34:15.021Z"
   },
   {
    "duration": 5,
    "start_time": "2022-05-27T18:34:42.585Z"
   },
   {
    "duration": 11,
    "start_time": "2022-05-27T18:34:50.473Z"
   },
   {
    "duration": 8,
    "start_time": "2022-05-27T18:34:58.672Z"
   },
   {
    "duration": 9,
    "start_time": "2022-05-27T18:35:09.282Z"
   },
   {
    "duration": 8,
    "start_time": "2022-05-27T18:57:33.934Z"
   },
   {
    "duration": 10,
    "start_time": "2022-05-27T18:57:58.581Z"
   },
   {
    "duration": 5,
    "start_time": "2022-05-27T18:58:18.584Z"
   },
   {
    "duration": 36,
    "start_time": "2022-05-27T18:58:33.790Z"
   },
   {
    "duration": 9,
    "start_time": "2022-05-27T18:58:41.494Z"
   },
   {
    "duration": 8,
    "start_time": "2022-05-27T18:59:24.929Z"
   },
   {
    "duration": 5,
    "start_time": "2022-05-27T18:59:29.831Z"
   },
   {
    "duration": 11,
    "start_time": "2022-05-27T18:59:37.712Z"
   },
   {
    "duration": 12,
    "start_time": "2022-05-27T18:59:47.894Z"
   },
   {
    "duration": 4,
    "start_time": "2022-05-27T19:01:04.117Z"
   },
   {
    "duration": 64,
    "start_time": "2022-05-27T19:01:44.211Z"
   },
   {
    "duration": 74,
    "start_time": "2022-05-27T19:01:47.362Z"
   },
   {
    "duration": 65,
    "start_time": "2022-05-27T19:01:57.782Z"
   },
   {
    "duration": 4,
    "start_time": "2022-05-27T19:02:41.998Z"
   },
   {
    "duration": 5,
    "start_time": "2022-05-27T19:03:11.513Z"
   },
   {
    "duration": 101,
    "start_time": "2022-05-27T19:03:34.125Z"
   },
   {
    "duration": 486,
    "start_time": "2022-05-27T19:05:25.987Z"
   },
   {
    "duration": 188,
    "start_time": "2022-05-27T19:05:26.475Z"
   },
   {
    "duration": 20,
    "start_time": "2022-05-27T19:05:26.665Z"
   },
   {
    "duration": 11,
    "start_time": "2022-05-27T19:05:26.695Z"
   },
   {
    "duration": 41,
    "start_time": "2022-05-27T19:05:26.710Z"
   },
   {
    "duration": 4,
    "start_time": "2022-05-27T19:05:26.753Z"
   },
   {
    "duration": 42,
    "start_time": "2022-05-27T19:05:26.759Z"
   },
   {
    "duration": 7,
    "start_time": "2022-05-27T19:05:26.804Z"
   },
   {
    "duration": 44,
    "start_time": "2022-05-27T19:05:26.813Z"
   },
   {
    "duration": 53,
    "start_time": "2022-05-27T19:05:26.859Z"
   },
   {
    "duration": 31,
    "start_time": "2022-05-27T19:05:26.914Z"
   },
   {
    "duration": 92,
    "start_time": "2022-05-27T19:05:26.948Z"
   },
   {
    "duration": 97,
    "start_time": "2022-05-27T19:05:27.042Z"
   },
   {
    "duration": 78,
    "start_time": "2022-05-27T19:05:27.142Z"
   },
   {
    "duration": 47,
    "start_time": "2022-05-27T19:05:27.222Z"
   },
   {
    "duration": 4,
    "start_time": "2022-05-27T19:05:27.270Z"
   },
   {
    "duration": 14,
    "start_time": "2022-05-27T19:05:27.295Z"
   },
   {
    "duration": 65,
    "start_time": "2022-05-27T19:05:27.311Z"
   },
   {
    "duration": 14,
    "start_time": "2022-05-27T19:05:27.395Z"
   },
   {
    "duration": 12,
    "start_time": "2022-05-27T19:05:27.411Z"
   },
   {
    "duration": 3,
    "start_time": "2022-05-27T19:05:27.425Z"
   },
   {
    "duration": 24,
    "start_time": "2022-05-27T19:05:27.430Z"
   },
   {
    "duration": 43,
    "start_time": "2022-05-27T19:05:27.456Z"
   },
   {
    "duration": 18,
    "start_time": "2022-05-27T19:05:27.501Z"
   },
   {
    "duration": 15,
    "start_time": "2022-05-27T19:05:27.521Z"
   },
   {
    "duration": 17,
    "start_time": "2022-05-27T19:05:27.538Z"
   },
   {
    "duration": 51,
    "start_time": "2022-05-27T19:05:27.557Z"
   },
   {
    "duration": 92,
    "start_time": "2022-05-27T19:05:27.610Z"
   },
   {
    "duration": 10,
    "start_time": "2022-05-27T19:05:27.704Z"
   },
   {
    "duration": 30,
    "start_time": "2022-05-27T19:05:27.715Z"
   },
   {
    "duration": 47,
    "start_time": "2022-05-27T19:05:27.748Z"
   },
   {
    "duration": 5,
    "start_time": "2022-05-27T19:05:27.798Z"
   },
   {
    "duration": 27,
    "start_time": "2022-05-27T19:05:27.805Z"
   },
   {
    "duration": 12,
    "start_time": "2022-05-27T19:05:27.834Z"
   },
   {
    "duration": 48,
    "start_time": "2022-05-27T19:05:27.848Z"
   },
   {
    "duration": 14,
    "start_time": "2022-05-27T19:05:27.898Z"
   },
   {
    "duration": 12,
    "start_time": "2022-05-27T19:05:27.914Z"
   },
   {
    "duration": 8,
    "start_time": "2022-05-27T19:05:27.928Z"
   },
   {
    "duration": 8,
    "start_time": "2022-05-27T19:05:27.938Z"
   },
   {
    "duration": 46,
    "start_time": "2022-05-27T19:05:27.948Z"
   },
   {
    "duration": 23,
    "start_time": "2022-05-27T19:06:14.802Z"
   },
   {
    "duration": 22,
    "start_time": "2022-05-27T19:06:20.365Z"
   },
   {
    "duration": 85,
    "start_time": "2022-05-27T19:09:33.296Z"
   },
   {
    "duration": 101,
    "start_time": "2022-05-27T19:11:33.814Z"
   },
   {
    "duration": 13,
    "start_time": "2022-05-27T19:12:06.077Z"
   },
   {
    "duration": 38,
    "start_time": "2022-05-27T19:12:25.774Z"
   },
   {
    "duration": 19,
    "start_time": "2022-05-27T19:12:57.178Z"
   }
  ],
  "colab": {
   "collapsed_sections": [
    "E0vqbgi9ay0H",
    "VUC88oWjTJw2"
   ],
   "name": "yandex_music_project.ipynb",
   "provenance": []
  },
  "kernelspec": {
   "display_name": "Python 3 (ipykernel)",
   "language": "python",
   "name": "python3"
  },
  "language_info": {
   "codemirror_mode": {
    "name": "ipython",
    "version": 3
   },
   "file_extension": ".py",
   "mimetype": "text/x-python",
   "name": "python",
   "nbconvert_exporter": "python",
   "pygments_lexer": "ipython3",
   "version": "3.9.13"
  },
  "toc": {
   "base_numbering": 1,
   "nav_menu": {},
   "number_sections": true,
   "sideBar": true,
   "skip_h1_title": true,
   "title_cell": "Table of Contents",
   "title_sidebar": "Contents",
   "toc_cell": false,
   "toc_position": {
    "height": "calc(100% - 180px)",
    "left": "10px",
    "top": "150px",
    "width": "172.682px"
   },
   "toc_section_display": true,
   "toc_window_display": true
  }
 },
 "nbformat": 4,
 "nbformat_minor": 1
}
