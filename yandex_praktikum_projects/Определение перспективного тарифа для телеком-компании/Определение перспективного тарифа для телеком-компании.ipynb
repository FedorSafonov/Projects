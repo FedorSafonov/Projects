{
 "cells": [
  {
   "cell_type": "markdown",
   "metadata": {},
   "source": [
    "# Проект - Определение перспективного тарифа для телеком-компании"
   ]
  },
  {
   "cell_type": "markdown",
   "metadata": {},
   "source": [
    "## Описание"
   ]
  },
  {
   "cell_type": "markdown",
   "metadata": {},
   "source": [
    "**Данные- данные 500 пользователей «Мегалайна»: кто они, откуда, каким тарифом пользуются, сколько звонков и сообщений каждый отправил за 2018 год.**\n",
    "\n",
    "**Цель -   Нужно проанализировать поведение клиентов и сделать вывод — какой тариф лучше.**"
   ]
  },
  {
   "cell_type": "markdown",
   "metadata": {},
   "source": [
    "### Информация о тарифах\n",
    "\n",
    "* Тариф «Смарт»\n",
    " - Ежемесячная плата: 550 рублей\n",
    " - Включено 500 минут разговора, 50 сообщений и 15 Гб интернет-трафика\n",
    " - Стоимость услуг сверх тарифного пакета:\n",
    " - минута разговора: 3 рубля\n",
    " - сообщение: 3 рубля\n",
    " - 1 Гб интернет-трафика: 200 рублей\n",
    " \n",
    "\n",
    "* Тариф «Ультра»\n",
    " - Ежемесячная плата: 1950 рублей\n",
    " - Включено 3000 минут разговора, 1000 сообщений и 30 Гб интернет-трафика\n",
    " - Стоимость услуг сверх тарифного пакета:\n",
    " - минута разговора: 1 рубль\n",
    " - сообщение: 1 рубль\n",
    " - 1 Гб интернет-трафика: 150 рублей"
   ]
  },
  {
   "cell_type": "markdown",
   "metadata": {},
   "source": [
    "## Ход исследования:\n",
    "\n",
    "* 1. Открыть файлы и изучить информацию\n",
    "\n",
    "\n",
    "* 2. Предобработка:\n",
    "  * Привести данные к нужным типам\n",
    "  * Найти и исправить ошибки в данных, если они есть\n",
    " \n",
    " \n",
    "* 3. Добавление новых столбцов:\n",
    "  * Посчитать для каждого пользователя:\n",
    "    * 1 количество сделанных звонков и израсходованных минут разговора по месяцам;\n",
    "    * 2 количество отправленных сообщений по месяцам;\n",
    "    * 3 объем израсходованного интернет-трафика по месяцам;\n",
    "    * 4 помесячную выручку с каждого пользователя\n",
    "    \n",
    "    \n",
    "* 4. Анализ данных:\n",
    "   * Сколько минут разговора, сколько сообщений и какой объём интернет-трафика требуется пользователям каждого тарифа в месяц\n",
    "   * Посчитать среднее количество, дисперсию и стандартное отклонение.\n",
    "   * Построить гистрограммы\n",
    "   * Описать распределения\n",
    "   \n",
    "   \n",
    "* 5. Проверка Гипотез:\n",
    "  * Гипотеза 1: средняя выручка пользователей тарифов «Ультра» и «Смарт» различаются;\n",
    "  * Гипотеза 2: средняя выручка пользователей из Москвы отличается от выручки пользователей из других регионов.\n",
    "  \n",
    "  \n",
    "* 6. Общий Вывод."
   ]
  },
  {
   "cell_type": "markdown",
   "metadata": {},
   "source": [
    "## Изучение Файла"
   ]
  },
  {
   "cell_type": "code",
   "execution_count": 1,
   "metadata": {},
   "outputs": [],
   "source": [
    "import pandas as pd\n",
    "\n",
    "import seaborn as sns\n",
    "sns.set(color_codes=True)\n",
    "import matplotlib.pyplot as plt\n",
    "\n",
    "import numpy as np\n",
    "import scipy.stats as st"
   ]
  },
  {
   "cell_type": "code",
   "execution_count": 2,
   "metadata": {},
   "outputs": [],
   "source": [
    "try:\n",
    "    cal = pd.read_csv('/datasets/calls.csv')\n",
    "    intr = pd.read_csv('/datasets/internet.csv')\n",
    "    mes = pd.read_csv('/datasets/messages.csv')\n",
    "    tar = pd.read_csv('/datasets/tariffs.csv')\n",
    "    us = pd.read_csv('/datasets/users.csv')\n",
    "    \n",
    "except:\n",
    "    cal = pd.read_csv('calls.csv')\n",
    "    intr = pd.read_csv('internet.csv')\n",
    "    mes = pd.read_csv('messages.csv')\n",
    "    tar = pd.read_csv('tariffs.csv')\n",
    "    us = pd.read_csv('users.csv')"
   ]
  },
  {
   "cell_type": "markdown",
   "metadata": {},
   "source": [
    "Проведу обзор всех датасетов."
   ]
  },
  {
   "cell_type": "code",
   "execution_count": 3,
   "metadata": {
    "scrolled": false
   },
   "outputs": [
    {
     "name": "stdout",
     "output_type": "stream",
     "text": [
      "<class 'pandas.core.frame.DataFrame'>\n",
      "RangeIndex: 202607 entries, 0 to 202606\n",
      "Data columns (total 4 columns):\n",
      " #   Column     Non-Null Count   Dtype  \n",
      "---  ------     --------------   -----  \n",
      " 0   id         202607 non-null  object \n",
      " 1   call_date  202607 non-null  object \n",
      " 2   duration   202607 non-null  float64\n",
      " 3   user_id    202607 non-null  int64  \n",
      "dtypes: float64(1), int64(1), object(2)\n",
      "memory usage: 6.2+ MB\n",
      "None\n",
      "\n",
      "            duration        user_id\n",
      "count  202607.000000  202607.000000\n",
      "mean        6.755887    1253.940619\n",
      "std         5.843365     144.722751\n",
      "min         0.000000    1000.000000\n",
      "25%         1.300000    1126.000000\n",
      "50%         6.000000    1260.000000\n",
      "75%        10.700000    1379.000000\n",
      "max        38.000000    1499.000000\n",
      "Количество дубликатов 0\n",
      "______\n",
      "<class 'pandas.core.frame.DataFrame'>\n",
      "RangeIndex: 149396 entries, 0 to 149395\n",
      "Data columns (total 5 columns):\n",
      " #   Column        Non-Null Count   Dtype  \n",
      "---  ------        --------------   -----  \n",
      " 0   Unnamed: 0    149396 non-null  int64  \n",
      " 1   id            149396 non-null  object \n",
      " 2   mb_used       149396 non-null  float64\n",
      " 3   session_date  149396 non-null  object \n",
      " 4   user_id       149396 non-null  int64  \n",
      "dtypes: float64(1), int64(2), object(2)\n",
      "memory usage: 5.7+ MB\n",
      "None\n",
      "\n",
      "          Unnamed: 0        mb_used        user_id\n",
      "count  149396.000000  149396.000000  149396.000000\n",
      "mean    74697.500000     370.192426    1252.099842\n",
      "std     43127.054745     278.300951     144.050823\n",
      "min         0.000000       0.000000    1000.000000\n",
      "25%     37348.750000     138.187500    1130.000000\n",
      "50%     74697.500000     348.015000    1251.000000\n",
      "75%    112046.250000     559.552500    1380.000000\n",
      "max    149395.000000    1724.830000    1499.000000\n",
      "Количество дубликатов 0\n",
      "______\n",
      "<class 'pandas.core.frame.DataFrame'>\n",
      "RangeIndex: 123036 entries, 0 to 123035\n",
      "Data columns (total 3 columns):\n",
      " #   Column        Non-Null Count   Dtype \n",
      "---  ------        --------------   ----- \n",
      " 0   id            123036 non-null  object\n",
      " 1   message_date  123036 non-null  object\n",
      " 2   user_id       123036 non-null  int64 \n",
      "dtypes: int64(1), object(2)\n",
      "memory usage: 2.8+ MB\n",
      "None\n",
      "\n",
      "             user_id\n",
      "count  123036.000000\n",
      "mean     1256.989410\n",
      "std       143.523967\n",
      "min      1000.000000\n",
      "25%      1134.000000\n",
      "50%      1271.000000\n",
      "75%      1381.000000\n",
      "max      1499.000000\n",
      "Количество дубликатов 0\n",
      "______\n",
      "<class 'pandas.core.frame.DataFrame'>\n",
      "RangeIndex: 500 entries, 0 to 499\n",
      "Data columns (total 8 columns):\n",
      " #   Column      Non-Null Count  Dtype \n",
      "---  ------      --------------  ----- \n",
      " 0   user_id     500 non-null    int64 \n",
      " 1   age         500 non-null    int64 \n",
      " 2   churn_date  38 non-null     object\n",
      " 3   city        500 non-null    object\n",
      " 4   first_name  500 non-null    object\n",
      " 5   last_name   500 non-null    object\n",
      " 6   reg_date    500 non-null    object\n",
      " 7   tariff      500 non-null    object\n",
      "dtypes: int64(2), object(6)\n",
      "memory usage: 31.4+ KB\n",
      "None\n",
      "\n",
      "           user_id        age\n",
      "count   500.000000  500.00000\n",
      "mean   1249.500000   46.58800\n",
      "std     144.481833   16.66763\n",
      "min    1000.000000   18.00000\n",
      "25%    1124.750000   32.00000\n",
      "50%    1249.500000   46.00000\n",
      "75%    1374.250000   62.00000\n",
      "max    1499.000000   75.00000\n",
      "Количество дубликатов 0\n",
      "______\n",
      "<class 'pandas.core.frame.DataFrame'>\n",
      "RangeIndex: 2 entries, 0 to 1\n",
      "Data columns (total 8 columns):\n",
      " #   Column                 Non-Null Count  Dtype \n",
      "---  ------                 --------------  ----- \n",
      " 0   messages_included      2 non-null      int64 \n",
      " 1   mb_per_month_included  2 non-null      int64 \n",
      " 2   minutes_included       2 non-null      int64 \n",
      " 3   rub_monthly_fee        2 non-null      int64 \n",
      " 4   rub_per_gb             2 non-null      int64 \n",
      " 5   rub_per_message        2 non-null      int64 \n",
      " 6   rub_per_minute         2 non-null      int64 \n",
      " 7   tariff_name            2 non-null      object\n",
      "dtypes: int64(7), object(1)\n",
      "memory usage: 256.0+ bytes\n",
      "None\n",
      "\n",
      "       messages_included  mb_per_month_included  minutes_included  \\\n",
      "count           2.000000               2.000000          2.000000   \n",
      "mean          525.000000           23040.000000       1750.000000   \n",
      "std           671.751442           10861.160159       1767.766953   \n",
      "min            50.000000           15360.000000        500.000000   \n",
      "25%           287.500000           19200.000000       1125.000000   \n",
      "50%           525.000000           23040.000000       1750.000000   \n",
      "75%           762.500000           26880.000000       2375.000000   \n",
      "max          1000.000000           30720.000000       3000.000000   \n",
      "\n",
      "       rub_monthly_fee  rub_per_gb  rub_per_message  rub_per_minute  \n",
      "count         2.000000    2.000000         2.000000        2.000000  \n",
      "mean       1250.000000  175.000000         2.000000        2.000000  \n",
      "std         989.949494   35.355339         1.414214        1.414214  \n",
      "min         550.000000  150.000000         1.000000        1.000000  \n",
      "25%         900.000000  162.500000         1.500000        1.500000  \n",
      "50%        1250.000000  175.000000         2.000000        2.000000  \n",
      "75%        1600.000000  187.500000         2.500000        2.500000  \n",
      "max        1950.000000  200.000000         3.000000        3.000000  \n",
      "Количество дубликатов 0\n",
      "______\n"
     ]
    }
   ],
   "source": [
    "for df in [cal, intr, mes, us, tar]: \n",
    "    print(df.info(), end='\\n\\n')\n",
    "    print(df.describe())\n",
    "    print('Количество дубликатов', df.duplicated().sum())\n",
    "    print('______')"
   ]
  },
  {
   "cell_type": "code",
   "execution_count": 4,
   "metadata": {},
   "outputs": [
    {
     "name": "stdout",
     "output_type": "stream",
     "text": [
      "______\n",
      "calls\n"
     ]
    },
    {
     "data": {
      "text/html": [
       "<div>\n",
       "<style scoped>\n",
       "    .dataframe tbody tr th:only-of-type {\n",
       "        vertical-align: middle;\n",
       "    }\n",
       "\n",
       "    .dataframe tbody tr th {\n",
       "        vertical-align: top;\n",
       "    }\n",
       "\n",
       "    .dataframe thead th {\n",
       "        text-align: right;\n",
       "    }\n",
       "</style>\n",
       "<table border=\"1\" class=\"dataframe\">\n",
       "  <thead>\n",
       "    <tr style=\"text-align: right;\">\n",
       "      <th></th>\n",
       "      <th>id</th>\n",
       "      <th>call_date</th>\n",
       "      <th>duration</th>\n",
       "      <th>user_id</th>\n",
       "    </tr>\n",
       "  </thead>\n",
       "  <tbody>\n",
       "    <tr>\n",
       "      <th>119968</th>\n",
       "      <td>1310_163</td>\n",
       "      <td>2018-08-16</td>\n",
       "      <td>2.82</td>\n",
       "      <td>1310</td>\n",
       "    </tr>\n",
       "    <tr>\n",
       "      <th>174463</th>\n",
       "      <td>1431_152</td>\n",
       "      <td>2018-12-03</td>\n",
       "      <td>0.00</td>\n",
       "      <td>1431</td>\n",
       "    </tr>\n",
       "  </tbody>\n",
       "</table>\n",
       "</div>"
      ],
      "text/plain": [
       "              id   call_date  duration  user_id\n",
       "119968  1310_163  2018-08-16      2.82     1310\n",
       "174463  1431_152  2018-12-03      0.00     1431"
      ]
     },
     "metadata": {},
     "output_type": "display_data"
    },
    {
     "name": "stdout",
     "output_type": "stream",
     "text": [
      "______\n",
      "internet\n"
     ]
    },
    {
     "data": {
      "text/html": [
       "<div>\n",
       "<style scoped>\n",
       "    .dataframe tbody tr th:only-of-type {\n",
       "        vertical-align: middle;\n",
       "    }\n",
       "\n",
       "    .dataframe tbody tr th {\n",
       "        vertical-align: top;\n",
       "    }\n",
       "\n",
       "    .dataframe thead th {\n",
       "        text-align: right;\n",
       "    }\n",
       "</style>\n",
       "<table border=\"1\" class=\"dataframe\">\n",
       "  <thead>\n",
       "    <tr style=\"text-align: right;\">\n",
       "      <th></th>\n",
       "      <th>Unnamed: 0</th>\n",
       "      <th>id</th>\n",
       "      <th>mb_used</th>\n",
       "      <th>session_date</th>\n",
       "      <th>user_id</th>\n",
       "    </tr>\n",
       "  </thead>\n",
       "  <tbody>\n",
       "    <tr>\n",
       "      <th>110032</th>\n",
       "      <td>110032</td>\n",
       "      <td>1374_243</td>\n",
       "      <td>542.68</td>\n",
       "      <td>2018-09-23</td>\n",
       "      <td>1374</td>\n",
       "    </tr>\n",
       "    <tr>\n",
       "      <th>3078</th>\n",
       "      <td>3078</td>\n",
       "      <td>1010_208</td>\n",
       "      <td>543.59</td>\n",
       "      <td>2018-11-04</td>\n",
       "      <td>1010</td>\n",
       "    </tr>\n",
       "  </tbody>\n",
       "</table>\n",
       "</div>"
      ],
      "text/plain": [
       "        Unnamed: 0        id  mb_used session_date  user_id\n",
       "110032      110032  1374_243   542.68   2018-09-23     1374\n",
       "3078          3078  1010_208   543.59   2018-11-04     1010"
      ]
     },
     "metadata": {},
     "output_type": "display_data"
    },
    {
     "name": "stdout",
     "output_type": "stream",
     "text": [
      "______\n",
      "messages\n"
     ]
    },
    {
     "data": {
      "text/html": [
       "<div>\n",
       "<style scoped>\n",
       "    .dataframe tbody tr th:only-of-type {\n",
       "        vertical-align: middle;\n",
       "    }\n",
       "\n",
       "    .dataframe tbody tr th {\n",
       "        vertical-align: top;\n",
       "    }\n",
       "\n",
       "    .dataframe thead th {\n",
       "        text-align: right;\n",
       "    }\n",
       "</style>\n",
       "<table border=\"1\" class=\"dataframe\">\n",
       "  <thead>\n",
       "    <tr style=\"text-align: right;\">\n",
       "      <th></th>\n",
       "      <th>id</th>\n",
       "      <th>message_date</th>\n",
       "      <th>user_id</th>\n",
       "    </tr>\n",
       "  </thead>\n",
       "  <tbody>\n",
       "    <tr>\n",
       "      <th>22941</th>\n",
       "      <td>1096_221</td>\n",
       "      <td>2018-08-25</td>\n",
       "      <td>1096</td>\n",
       "    </tr>\n",
       "    <tr>\n",
       "      <th>37749</th>\n",
       "      <td>1165_103</td>\n",
       "      <td>2018-12-03</td>\n",
       "      <td>1165</td>\n",
       "    </tr>\n",
       "  </tbody>\n",
       "</table>\n",
       "</div>"
      ],
      "text/plain": [
       "             id message_date  user_id\n",
       "22941  1096_221   2018-08-25     1096\n",
       "37749  1165_103   2018-12-03     1165"
      ]
     },
     "metadata": {},
     "output_type": "display_data"
    },
    {
     "name": "stdout",
     "output_type": "stream",
     "text": [
      "______\n",
      "users\n"
     ]
    },
    {
     "data": {
      "text/html": [
       "<div>\n",
       "<style scoped>\n",
       "    .dataframe tbody tr th:only-of-type {\n",
       "        vertical-align: middle;\n",
       "    }\n",
       "\n",
       "    .dataframe tbody tr th {\n",
       "        vertical-align: top;\n",
       "    }\n",
       "\n",
       "    .dataframe thead th {\n",
       "        text-align: right;\n",
       "    }\n",
       "</style>\n",
       "<table border=\"1\" class=\"dataframe\">\n",
       "  <thead>\n",
       "    <tr style=\"text-align: right;\">\n",
       "      <th></th>\n",
       "      <th>user_id</th>\n",
       "      <th>age</th>\n",
       "      <th>churn_date</th>\n",
       "      <th>city</th>\n",
       "      <th>first_name</th>\n",
       "      <th>last_name</th>\n",
       "      <th>reg_date</th>\n",
       "      <th>tariff</th>\n",
       "    </tr>\n",
       "  </thead>\n",
       "  <tbody>\n",
       "    <tr>\n",
       "      <th>479</th>\n",
       "      <td>1479</td>\n",
       "      <td>40</td>\n",
       "      <td>NaN</td>\n",
       "      <td>Хабаровск</td>\n",
       "      <td>Игорь</td>\n",
       "      <td>Богданов</td>\n",
       "      <td>2018-07-03</td>\n",
       "      <td>smart</td>\n",
       "    </tr>\n",
       "    <tr>\n",
       "      <th>156</th>\n",
       "      <td>1156</td>\n",
       "      <td>63</td>\n",
       "      <td>NaN</td>\n",
       "      <td>Набережные Челны</td>\n",
       "      <td>Валерий</td>\n",
       "      <td>Галкин</td>\n",
       "      <td>2018-11-12</td>\n",
       "      <td>ultra</td>\n",
       "    </tr>\n",
       "  </tbody>\n",
       "</table>\n",
       "</div>"
      ],
      "text/plain": [
       "     user_id  age churn_date              city first_name last_name  \\\n",
       "479     1479   40        NaN         Хабаровск      Игорь  Богданов   \n",
       "156     1156   63        NaN  Набережные Челны    Валерий    Галкин   \n",
       "\n",
       "       reg_date tariff  \n",
       "479  2018-07-03  smart  \n",
       "156  2018-11-12  ultra  "
      ]
     },
     "metadata": {},
     "output_type": "display_data"
    },
    {
     "name": "stdout",
     "output_type": "stream",
     "text": [
      "______\n",
      "tariff\n"
     ]
    },
    {
     "data": {
      "text/html": [
       "<div>\n",
       "<style scoped>\n",
       "    .dataframe tbody tr th:only-of-type {\n",
       "        vertical-align: middle;\n",
       "    }\n",
       "\n",
       "    .dataframe tbody tr th {\n",
       "        vertical-align: top;\n",
       "    }\n",
       "\n",
       "    .dataframe thead th {\n",
       "        text-align: right;\n",
       "    }\n",
       "</style>\n",
       "<table border=\"1\" class=\"dataframe\">\n",
       "  <thead>\n",
       "    <tr style=\"text-align: right;\">\n",
       "      <th></th>\n",
       "      <th>messages_included</th>\n",
       "      <th>mb_per_month_included</th>\n",
       "      <th>minutes_included</th>\n",
       "      <th>rub_monthly_fee</th>\n",
       "      <th>rub_per_gb</th>\n",
       "      <th>rub_per_message</th>\n",
       "      <th>rub_per_minute</th>\n",
       "      <th>tariff_name</th>\n",
       "    </tr>\n",
       "  </thead>\n",
       "  <tbody>\n",
       "    <tr>\n",
       "      <th>1</th>\n",
       "      <td>1000</td>\n",
       "      <td>30720</td>\n",
       "      <td>3000</td>\n",
       "      <td>1950</td>\n",
       "      <td>150</td>\n",
       "      <td>1</td>\n",
       "      <td>1</td>\n",
       "      <td>ultra</td>\n",
       "    </tr>\n",
       "    <tr>\n",
       "      <th>0</th>\n",
       "      <td>50</td>\n",
       "      <td>15360</td>\n",
       "      <td>500</td>\n",
       "      <td>550</td>\n",
       "      <td>200</td>\n",
       "      <td>3</td>\n",
       "      <td>3</td>\n",
       "      <td>smart</td>\n",
       "    </tr>\n",
       "  </tbody>\n",
       "</table>\n",
       "</div>"
      ],
      "text/plain": [
       "   messages_included  mb_per_month_included  minutes_included  \\\n",
       "1               1000                  30720              3000   \n",
       "0                 50                  15360               500   \n",
       "\n",
       "   rub_monthly_fee  rub_per_gb  rub_per_message  rub_per_minute tariff_name  \n",
       "1             1950         150                1               1       ultra  \n",
       "0              550         200                3               3       smart  "
      ]
     },
     "metadata": {},
     "output_type": "display_data"
    }
   ],
   "source": [
    "dfs = [cal, intr, mes, us, tar]\n",
    "dfs_names = ['calls','internet','messages','users','tariff']\n",
    "for i in range(len(dfs)): \n",
    "    print('______')\n",
    "    print(dfs_names[i])\n",
    "    display(dfs[i].sample(2))"
   ]
  },
  {
   "cell_type": "markdown",
   "metadata": {},
   "source": [
    "### Вывод:\n",
    "* Во всех данных формат даты нужно перевести в тип datetime\n",
    "* Таблицы можно будет соединить по ID пользователя\n",
    "* Данные об звонках нужно округлить до минут в большую сторону, количество мб по итогу месяца округлить до гб в большую сторону."
   ]
  },
  {
   "cell_type": "markdown",
   "metadata": {},
   "source": [
    "## Предобработка"
   ]
  },
  {
   "cell_type": "markdown",
   "metadata": {},
   "source": [
    "### Замена типа данных"
   ]
  },
  {
   "cell_type": "code",
   "execution_count": 5,
   "metadata": {},
   "outputs": [],
   "source": [
    "cal['call_date'] = pd.to_datetime(cal['call_date'], format='%Y-%m-%d')\n",
    "intr['session_date'] = pd.to_datetime(intr['session_date'], format='%Y-%m-%d')\n",
    "mes['message_date'] = pd.to_datetime(mes['message_date'], format='%Y-%m-%d')\n",
    "us['churn_date'] = pd.to_datetime(us['churn_date'], format='%Y-%m-%d')\n",
    "us['reg_date'] = pd.to_datetime(us['reg_date'], format='%Y-%m-%d')"
   ]
  },
  {
   "cell_type": "markdown",
   "metadata": {},
   "source": [
    "### Поиск и исправление ошибок"
   ]
  },
  {
   "cell_type": "markdown",
   "metadata": {},
   "source": [
    "#### Звонки"
   ]
  },
  {
   "cell_type": "markdown",
   "metadata": {},
   "source": [
    "Посмотрим на количество звонков с продолжительностью 0"
   ]
  },
  {
   "cell_type": "code",
   "execution_count": 6,
   "metadata": {},
   "outputs": [
    {
     "data": {
      "text/plain": [
       "39613"
      ]
     },
     "execution_count": 6,
     "metadata": {},
     "output_type": "execute_result"
    }
   ],
   "source": [
    "cal.query('duration == 0')['duration'].value_counts()[0]"
   ]
  },
  {
   "cell_type": "markdown",
   "metadata": {},
   "source": [
    "Посмотрим на зависимость нулевых звонок от общего количества звонков за каждый месяц."
   ]
  },
  {
   "cell_type": "code",
   "execution_count": 7,
   "metadata": {},
   "outputs": [],
   "source": [
    "cal['month'] = cal['call_date'].dt.month"
   ]
  },
  {
   "cell_type": "code",
   "execution_count": 8,
   "metadata": {},
   "outputs": [],
   "source": [
    "cal.loc[cal['duration'] == 0, 'null'] = 1"
   ]
  },
  {
   "cell_type": "code",
   "execution_count": 9,
   "metadata": {},
   "outputs": [],
   "source": [
    "cal_nulls = cal.groupby('month')[['user_id', 'null']].agg('count')"
   ]
  },
  {
   "cell_type": "code",
   "execution_count": 10,
   "metadata": {},
   "outputs": [
    {
     "data": {
      "image/png": "[encoded data removed]",
      "text/plain": [
       "<Figure size 1000x600 with 1 Axes>"
      ]
     },
     "metadata": {},
     "output_type": "display_data"
    }
   ],
   "source": [
    "cal_nulls.plot(x='user_id', y='null',kind='bar',color='g',figsize=(10,6),rot=50)\n",
    "plt.xlabel('Общее количество звонков по месяцам')\n",
    "plt.ylabel('Количество звонков длительностью 0')\n",
    "plt.title('Зависимость количества нулевых значений от общего числа звонков по месяцам')\n",
    "plt.show()"
   ]
  },
  {
   "cell_type": "markdown",
   "metadata": {},
   "source": [
    "Звонки с 0 продолжительностью появляються стабильно и пропорционально общему количеству звонков. Ничего аномального здесь не вижу, поэтому просто округлю секунды до минут."
   ]
  },
  {
   "cell_type": "code",
   "execution_count": 11,
   "metadata": {},
   "outputs": [],
   "source": [
    "cal['duration'] = np.ceil(cal['duration'])"
   ]
  },
  {
   "cell_type": "code",
   "execution_count": 12,
   "metadata": {},
   "outputs": [
    {
     "data": {
      "text/html": [
       "<div>\n",
       "<style scoped>\n",
       "    .dataframe tbody tr th:only-of-type {\n",
       "        vertical-align: middle;\n",
       "    }\n",
       "\n",
       "    .dataframe tbody tr th {\n",
       "        vertical-align: top;\n",
       "    }\n",
       "\n",
       "    .dataframe thead th {\n",
       "        text-align: right;\n",
       "    }\n",
       "</style>\n",
       "<table border=\"1\" class=\"dataframe\">\n",
       "  <thead>\n",
       "    <tr style=\"text-align: right;\">\n",
       "      <th></th>\n",
       "      <th>id</th>\n",
       "      <th>call_date</th>\n",
       "      <th>duration</th>\n",
       "      <th>user_id</th>\n",
       "      <th>month</th>\n",
       "      <th>null</th>\n",
       "    </tr>\n",
       "  </thead>\n",
       "  <tbody>\n",
       "    <tr>\n",
       "      <th>120658</th>\n",
       "      <td>1311_193</td>\n",
       "      <td>2018-09-27</td>\n",
       "      <td>8.0</td>\n",
       "      <td>1311</td>\n",
       "      <td>9</td>\n",
       "      <td>NaN</td>\n",
       "    </tr>\n",
       "    <tr>\n",
       "      <th>5725</th>\n",
       "      <td>1015_445</td>\n",
       "      <td>2018-11-17</td>\n",
       "      <td>1.0</td>\n",
       "      <td>1015</td>\n",
       "      <td>11</td>\n",
       "      <td>NaN</td>\n",
       "    </tr>\n",
       "    <tr>\n",
       "      <th>181765</th>\n",
       "      <td>1453_957</td>\n",
       "      <td>2018-09-16</td>\n",
       "      <td>0.0</td>\n",
       "      <td>1453</td>\n",
       "      <td>9</td>\n",
       "      <td>1.0</td>\n",
       "    </tr>\n",
       "  </tbody>\n",
       "</table>\n",
       "</div>"
      ],
      "text/plain": [
       "              id  call_date  duration  user_id  month  null\n",
       "120658  1311_193 2018-09-27       8.0     1311      9   NaN\n",
       "5725    1015_445 2018-11-17       1.0     1015     11   NaN\n",
       "181765  1453_957 2018-09-16       0.0     1453      9   1.0"
      ]
     },
     "execution_count": 12,
     "metadata": {},
     "output_type": "execute_result"
    }
   ],
   "source": [
    "cal.sample(3)"
   ]
  },
  {
   "cell_type": "markdown",
   "metadata": {},
   "source": [
    "#### Интернет"
   ]
  },
  {
   "cell_type": "markdown",
   "metadata": {},
   "source": [
    "Проверим тоже самое для интерета."
   ]
  },
  {
   "cell_type": "code",
   "execution_count": 13,
   "metadata": {},
   "outputs": [
    {
     "data": {
      "text/plain": [
       "19598"
      ]
     },
     "execution_count": 13,
     "metadata": {},
     "output_type": "execute_result"
    }
   ],
   "source": [
    "intr.query('mb_used == 0')['mb_used'].value_counts()[0]"
   ]
  },
  {
   "cell_type": "code",
   "execution_count": 14,
   "metadata": {},
   "outputs": [],
   "source": [
    "intr['month'] = intr['session_date'].dt.month"
   ]
  },
  {
   "cell_type": "code",
   "execution_count": 15,
   "metadata": {},
   "outputs": [],
   "source": [
    "intr.loc[intr['mb_used'] == 0, 'null'] = 1"
   ]
  },
  {
   "cell_type": "code",
   "execution_count": 16,
   "metadata": {},
   "outputs": [],
   "source": [
    "intr_nulls = intr.groupby('month')[['id','null']].agg('count')"
   ]
  },
  {
   "cell_type": "code",
   "execution_count": 17,
   "metadata": {},
   "outputs": [
    {
     "data": {
      "image/png": "[encoded data removed]",
      "text/plain": [
       "<Figure size 1000x600 with 1 Axes>"
      ]
     },
     "metadata": {},
     "output_type": "display_data"
    }
   ],
   "source": [
    "intr_nulls.plot(x='id', y='null',kind='bar',color='b',figsize=(10,6),rot=50)\n",
    "plt.xlabel('Общее количество мб по месяцам')\n",
    "plt.ylabel('Количество мб равных 0')\n",
    "plt.title('Зависимость количества нулевых значений от общего числа интернет-сессий по месяцам')\n",
    "plt.show()"
   ]
  },
  {
   "cell_type": "markdown",
   "metadata": {},
   "source": [
    "Тут всё тоже самое, проблем не вижу. Но систематические 0, которых больше 10%, могут указывать на возможные неполадки, стоит указать на это в баг-репорте."
   ]
  },
  {
   "cell_type": "code",
   "execution_count": 18,
   "metadata": {},
   "outputs": [],
   "source": [
    "intr['gb_used'] = (intr['mb_used'] / 1024)"
   ]
  },
  {
   "cell_type": "code",
   "execution_count": 19,
   "metadata": {},
   "outputs": [
    {
     "name": "stdout",
     "output_type": "stream",
     "text": [
      "<class 'pandas.core.frame.DataFrame'>\n",
      "RangeIndex: 149396 entries, 0 to 149395\n",
      "Data columns (total 8 columns):\n",
      " #   Column        Non-Null Count   Dtype         \n",
      "---  ------        --------------   -----         \n",
      " 0   Unnamed: 0    149396 non-null  int64         \n",
      " 1   id            149396 non-null  object        \n",
      " 2   mb_used       149396 non-null  float64       \n",
      " 3   session_date  149396 non-null  datetime64[ns]\n",
      " 4   user_id       149396 non-null  int64         \n",
      " 5   month         149396 non-null  int64         \n",
      " 6   null          19598 non-null   float64       \n",
      " 7   gb_used       149396 non-null  float64       \n",
      "dtypes: datetime64[ns](1), float64(3), int64(3), object(1)\n",
      "memory usage: 9.1+ MB\n"
     ]
    }
   ],
   "source": [
    "# Комментарий ревьюера 2\n",
    "intr.info()"
   ]
  },
  {
   "cell_type": "markdown",
   "metadata": {},
   "source": [
    "#### Сообщения"
   ]
  },
  {
   "cell_type": "markdown",
   "metadata": {},
   "source": [
    "Так же дабавлю столбец с месяцами."
   ]
  },
  {
   "cell_type": "code",
   "execution_count": 20,
   "metadata": {},
   "outputs": [],
   "source": [
    "mes['month'] = pd.to_datetime(mes['message_date']).dt.month"
   ]
  },
  {
   "cell_type": "markdown",
   "metadata": {},
   "source": [
    "#### Пользователи"
   ]
  },
  {
   "cell_type": "code",
   "execution_count": 21,
   "metadata": {},
   "outputs": [
    {
     "data": {
      "text/plain": [
       "user_id         0\n",
       "age             0\n",
       "churn_date    462\n",
       "city            0\n",
       "first_name      0\n",
       "last_name       0\n",
       "reg_date        0\n",
       "tariff          0\n",
       "dtype: int64"
      ]
     },
     "execution_count": 21,
     "metadata": {},
     "output_type": "execute_result"
    }
   ],
   "source": [
    "us.isna().sum()"
   ]
  },
  {
   "cell_type": "markdown",
   "metadata": {},
   "source": [
    "Вероятно эти польщователи продолжают пользоваться услугами Мегалайна. Поэтому заменю пропуски на 1 января 2019, так будет видно кто оставался клиентом по итогу 2019 года и можно будет делать рассчёты."
   ]
  },
  {
   "cell_type": "code",
   "execution_count": 22,
   "metadata": {},
   "outputs": [],
   "source": [
    "us['churn_date'].fillna('2019-01-01', inplace=True)"
   ]
  },
  {
   "cell_type": "code",
   "execution_count": 23,
   "metadata": {},
   "outputs": [],
   "source": [
    "us['churn_date'] = pd.to_datetime(us['churn_date'], format='%Y-%m-%d')"
   ]
  },
  {
   "cell_type": "markdown",
   "metadata": {},
   "source": [
    "## Обьединение таблиц и  Добавление новых стобцов"
   ]
  },
  {
   "cell_type": "markdown",
   "metadata": {},
   "source": [
    "* Посчитать для каждого пользователя:\n",
    "    * 1 количество сделанных звонков и израсходованных минут разговора по месяцам;\n",
    "    * 2 количество отправленных сообщений по месяцам;\n",
    "    * 3 объем израсходованного интернет-трафика по месяцам;\n",
    "    * 4 помесячную выручку с каждого пользователя"
   ]
  },
  {
   "cell_type": "markdown",
   "metadata": {},
   "source": [
    "Делаю сводные таблицы группируя по пользователям и месяцам, затем обьядению их в одну."
   ]
  },
  {
   "cell_type": "code",
   "execution_count": 24,
   "metadata": {},
   "outputs": [],
   "source": [
    "cal_g = cal.groupby(['user_id','month'])['duration'].agg(['count','sum']).reset_index()"
   ]
  },
  {
   "cell_type": "code",
   "execution_count": 25,
   "metadata": {},
   "outputs": [],
   "source": [
    "intr_g = intr.groupby(['user_id','month'])['gb_used'].agg('sum').reset_index()"
   ]
  },
  {
   "cell_type": "code",
   "execution_count": 26,
   "metadata": {},
   "outputs": [],
   "source": [
    "mes_g =  mes.groupby(['user_id','month'])['id'].agg('count').reset_index()"
   ]
  },
  {
   "cell_type": "code",
   "execution_count": 27,
   "metadata": {},
   "outputs": [
    {
     "data": {
      "text/html": [
       "<div>\n",
       "<style scoped>\n",
       "    .dataframe tbody tr th:only-of-type {\n",
       "        vertical-align: middle;\n",
       "    }\n",
       "\n",
       "    .dataframe tbody tr th {\n",
       "        vertical-align: top;\n",
       "    }\n",
       "\n",
       "    .dataframe thead th {\n",
       "        text-align: right;\n",
       "    }\n",
       "</style>\n",
       "<table border=\"1\" class=\"dataframe\">\n",
       "  <thead>\n",
       "    <tr style=\"text-align: right;\">\n",
       "      <th></th>\n",
       "      <th>user_id</th>\n",
       "      <th>month</th>\n",
       "      <th>count</th>\n",
       "      <th>sum</th>\n",
       "    </tr>\n",
       "  </thead>\n",
       "  <tbody>\n",
       "    <tr>\n",
       "      <th>0</th>\n",
       "      <td>1000</td>\n",
       "      <td>5</td>\n",
       "      <td>22</td>\n",
       "      <td>159.0</td>\n",
       "    </tr>\n",
       "    <tr>\n",
       "      <th>1</th>\n",
       "      <td>1000</td>\n",
       "      <td>6</td>\n",
       "      <td>43</td>\n",
       "      <td>172.0</td>\n",
       "    </tr>\n",
       "    <tr>\n",
       "      <th>2</th>\n",
       "      <td>1000</td>\n",
       "      <td>7</td>\n",
       "      <td>47</td>\n",
       "      <td>340.0</td>\n",
       "    </tr>\n",
       "    <tr>\n",
       "      <th>3</th>\n",
       "      <td>1000</td>\n",
       "      <td>8</td>\n",
       "      <td>52</td>\n",
       "      <td>408.0</td>\n",
       "    </tr>\n",
       "    <tr>\n",
       "      <th>4</th>\n",
       "      <td>1000</td>\n",
       "      <td>9</td>\n",
       "      <td>58</td>\n",
       "      <td>466.0</td>\n",
       "    </tr>\n",
       "    <tr>\n",
       "      <th>...</th>\n",
       "      <td>...</td>\n",
       "      <td>...</td>\n",
       "      <td>...</td>\n",
       "      <td>...</td>\n",
       "    </tr>\n",
       "    <tr>\n",
       "      <th>3169</th>\n",
       "      <td>1498</td>\n",
       "      <td>10</td>\n",
       "      <td>41</td>\n",
       "      <td>247.0</td>\n",
       "    </tr>\n",
       "    <tr>\n",
       "      <th>3170</th>\n",
       "      <td>1499</td>\n",
       "      <td>9</td>\n",
       "      <td>9</td>\n",
       "      <td>70.0</td>\n",
       "    </tr>\n",
       "    <tr>\n",
       "      <th>3171</th>\n",
       "      <td>1499</td>\n",
       "      <td>10</td>\n",
       "      <td>68</td>\n",
       "      <td>449.0</td>\n",
       "    </tr>\n",
       "    <tr>\n",
       "      <th>3172</th>\n",
       "      <td>1499</td>\n",
       "      <td>11</td>\n",
       "      <td>74</td>\n",
       "      <td>612.0</td>\n",
       "    </tr>\n",
       "    <tr>\n",
       "      <th>3173</th>\n",
       "      <td>1499</td>\n",
       "      <td>12</td>\n",
       "      <td>69</td>\n",
       "      <td>492.0</td>\n",
       "    </tr>\n",
       "  </tbody>\n",
       "</table>\n",
       "<p>3174 rows × 4 columns</p>\n",
       "</div>"
      ],
      "text/plain": [
       "      user_id  month  count    sum\n",
       "0        1000      5     22  159.0\n",
       "1        1000      6     43  172.0\n",
       "2        1000      7     47  340.0\n",
       "3        1000      8     52  408.0\n",
       "4        1000      9     58  466.0\n",
       "...       ...    ...    ...    ...\n",
       "3169     1498     10     41  247.0\n",
       "3170     1499      9      9   70.0\n",
       "3171     1499     10     68  449.0\n",
       "3172     1499     11     74  612.0\n",
       "3173     1499     12     69  492.0\n",
       "\n",
       "[3174 rows x 4 columns]"
      ]
     },
     "execution_count": 27,
     "metadata": {},
     "output_type": "execute_result"
    }
   ],
   "source": [
    "cal_g"
   ]
  },
  {
   "cell_type": "code",
   "execution_count": 28,
   "metadata": {},
   "outputs": [
    {
     "data": {
      "text/html": [
       "<div>\n",
       "<style scoped>\n",
       "    .dataframe tbody tr th:only-of-type {\n",
       "        vertical-align: middle;\n",
       "    }\n",
       "\n",
       "    .dataframe tbody tr th {\n",
       "        vertical-align: top;\n",
       "    }\n",
       "\n",
       "    .dataframe thead th {\n",
       "        text-align: right;\n",
       "    }\n",
       "</style>\n",
       "<table border=\"1\" class=\"dataframe\">\n",
       "  <thead>\n",
       "    <tr style=\"text-align: right;\">\n",
       "      <th></th>\n",
       "      <th>user_id</th>\n",
       "      <th>month</th>\n",
       "      <th>id</th>\n",
       "    </tr>\n",
       "  </thead>\n",
       "  <tbody>\n",
       "    <tr>\n",
       "      <th>0</th>\n",
       "      <td>1000</td>\n",
       "      <td>5</td>\n",
       "      <td>22</td>\n",
       "    </tr>\n",
       "    <tr>\n",
       "      <th>1</th>\n",
       "      <td>1000</td>\n",
       "      <td>6</td>\n",
       "      <td>60</td>\n",
       "    </tr>\n",
       "    <tr>\n",
       "      <th>2</th>\n",
       "      <td>1000</td>\n",
       "      <td>7</td>\n",
       "      <td>75</td>\n",
       "    </tr>\n",
       "    <tr>\n",
       "      <th>3</th>\n",
       "      <td>1000</td>\n",
       "      <td>8</td>\n",
       "      <td>81</td>\n",
       "    </tr>\n",
       "    <tr>\n",
       "      <th>4</th>\n",
       "      <td>1000</td>\n",
       "      <td>9</td>\n",
       "      <td>57</td>\n",
       "    </tr>\n",
       "    <tr>\n",
       "      <th>...</th>\n",
       "      <td>...</td>\n",
       "      <td>...</td>\n",
       "      <td>...</td>\n",
       "    </tr>\n",
       "    <tr>\n",
       "      <th>2712</th>\n",
       "      <td>1498</td>\n",
       "      <td>10</td>\n",
       "      <td>42</td>\n",
       "    </tr>\n",
       "    <tr>\n",
       "      <th>2713</th>\n",
       "      <td>1499</td>\n",
       "      <td>9</td>\n",
       "      <td>11</td>\n",
       "    </tr>\n",
       "    <tr>\n",
       "      <th>2714</th>\n",
       "      <td>1499</td>\n",
       "      <td>10</td>\n",
       "      <td>48</td>\n",
       "    </tr>\n",
       "    <tr>\n",
       "      <th>2715</th>\n",
       "      <td>1499</td>\n",
       "      <td>11</td>\n",
       "      <td>59</td>\n",
       "    </tr>\n",
       "    <tr>\n",
       "      <th>2716</th>\n",
       "      <td>1499</td>\n",
       "      <td>12</td>\n",
       "      <td>66</td>\n",
       "    </tr>\n",
       "  </tbody>\n",
       "</table>\n",
       "<p>2717 rows × 3 columns</p>\n",
       "</div>"
      ],
      "text/plain": [
       "      user_id  month  id\n",
       "0        1000      5  22\n",
       "1        1000      6  60\n",
       "2        1000      7  75\n",
       "3        1000      8  81\n",
       "4        1000      9  57\n",
       "...       ...    ...  ..\n",
       "2712     1498     10  42\n",
       "2713     1499      9  11\n",
       "2714     1499     10  48\n",
       "2715     1499     11  59\n",
       "2716     1499     12  66\n",
       "\n",
       "[2717 rows x 3 columns]"
      ]
     },
     "execution_count": 28,
     "metadata": {},
     "output_type": "execute_result"
    }
   ],
   "source": [
    "mes_g"
   ]
  },
  {
   "cell_type": "code",
   "execution_count": 29,
   "metadata": {},
   "outputs": [
    {
     "data": {
      "text/html": [
       "<div>\n",
       "<style scoped>\n",
       "    .dataframe tbody tr th:only-of-type {\n",
       "        vertical-align: middle;\n",
       "    }\n",
       "\n",
       "    .dataframe tbody tr th {\n",
       "        vertical-align: top;\n",
       "    }\n",
       "\n",
       "    .dataframe thead th {\n",
       "        text-align: right;\n",
       "    }\n",
       "</style>\n",
       "<table border=\"1\" class=\"dataframe\">\n",
       "  <thead>\n",
       "    <tr style=\"text-align: right;\">\n",
       "      <th></th>\n",
       "      <th>user_id</th>\n",
       "      <th>month</th>\n",
       "      <th>gb_used</th>\n",
       "    </tr>\n",
       "  </thead>\n",
       "  <tbody>\n",
       "    <tr>\n",
       "      <th>0</th>\n",
       "      <td>1000</td>\n",
       "      <td>5</td>\n",
       "      <td>2.200674</td>\n",
       "    </tr>\n",
       "    <tr>\n",
       "      <th>1</th>\n",
       "      <td>1000</td>\n",
       "      <td>6</td>\n",
       "      <td>22.689229</td>\n",
       "    </tr>\n",
       "    <tr>\n",
       "      <th>2</th>\n",
       "      <td>1000</td>\n",
       "      <td>7</td>\n",
       "      <td>13.675430</td>\n",
       "    </tr>\n",
       "    <tr>\n",
       "      <th>3</th>\n",
       "      <td>1000</td>\n",
       "      <td>8</td>\n",
       "      <td>13.726494</td>\n",
       "    </tr>\n",
       "    <tr>\n",
       "      <th>4</th>\n",
       "      <td>1000</td>\n",
       "      <td>9</td>\n",
       "      <td>14.227451</td>\n",
       "    </tr>\n",
       "    <tr>\n",
       "      <th>...</th>\n",
       "      <td>...</td>\n",
       "      <td>...</td>\n",
       "      <td>...</td>\n",
       "    </tr>\n",
       "    <tr>\n",
       "      <th>3198</th>\n",
       "      <td>1498</td>\n",
       "      <td>10</td>\n",
       "      <td>20.097031</td>\n",
       "    </tr>\n",
       "    <tr>\n",
       "      <th>3199</th>\n",
       "      <td>1499</td>\n",
       "      <td>9</td>\n",
       "      <td>1.802490</td>\n",
       "    </tr>\n",
       "    <tr>\n",
       "      <th>3200</th>\n",
       "      <td>1499</td>\n",
       "      <td>10</td>\n",
       "      <td>17.371592</td>\n",
       "    </tr>\n",
       "    <tr>\n",
       "      <th>3201</th>\n",
       "      <td>1499</td>\n",
       "      <td>11</td>\n",
       "      <td>17.542295</td>\n",
       "    </tr>\n",
       "    <tr>\n",
       "      <th>3202</th>\n",
       "      <td>1499</td>\n",
       "      <td>12</td>\n",
       "      <td>12.749590</td>\n",
       "    </tr>\n",
       "  </tbody>\n",
       "</table>\n",
       "<p>3203 rows × 3 columns</p>\n",
       "</div>"
      ],
      "text/plain": [
       "      user_id  month    gb_used\n",
       "0        1000      5   2.200674\n",
       "1        1000      6  22.689229\n",
       "2        1000      7  13.675430\n",
       "3        1000      8  13.726494\n",
       "4        1000      9  14.227451\n",
       "...       ...    ...        ...\n",
       "3198     1498     10  20.097031\n",
       "3199     1499      9   1.802490\n",
       "3200     1499     10  17.371592\n",
       "3201     1499     11  17.542295\n",
       "3202     1499     12  12.749590\n",
       "\n",
       "[3203 rows x 3 columns]"
      ]
     },
     "execution_count": 29,
     "metadata": {},
     "output_type": "execute_result"
    }
   ],
   "source": [
    "intr_g"
   ]
  },
  {
   "cell_type": "code",
   "execution_count": 30,
   "metadata": {},
   "outputs": [],
   "source": [
    "# округляю ГБ в большую сторону\n",
    "intr_g['gb_used'] = np.ceil(intr_g['gb_used'])"
   ]
  },
  {
   "cell_type": "code",
   "execution_count": 31,
   "metadata": {},
   "outputs": [],
   "source": [
    "cal_intr = cal_g.merge(intr_g, on=['user_id', 'month'], how='outer')"
   ]
  },
  {
   "cell_type": "code",
   "execution_count": 32,
   "metadata": {},
   "outputs": [],
   "source": [
    "# создаю df в котором обьединяю три сводные таблицы.\n",
    "df = cal_intr.merge(mes_g, on=['user_id', 'month'], how='outer')"
   ]
  },
  {
   "cell_type": "code",
   "execution_count": 33,
   "metadata": {},
   "outputs": [
    {
     "data": {
      "text/html": [
       "<div>\n",
       "<style scoped>\n",
       "    .dataframe tbody tr th:only-of-type {\n",
       "        vertical-align: middle;\n",
       "    }\n",
       "\n",
       "    .dataframe tbody tr th {\n",
       "        vertical-align: top;\n",
       "    }\n",
       "\n",
       "    .dataframe thead th {\n",
       "        text-align: right;\n",
       "    }\n",
       "</style>\n",
       "<table border=\"1\" class=\"dataframe\">\n",
       "  <thead>\n",
       "    <tr style=\"text-align: right;\">\n",
       "      <th></th>\n",
       "      <th>user_id</th>\n",
       "      <th>month</th>\n",
       "      <th>count</th>\n",
       "      <th>sum</th>\n",
       "      <th>gb_used</th>\n",
       "      <th>id</th>\n",
       "    </tr>\n",
       "  </thead>\n",
       "  <tbody>\n",
       "    <tr>\n",
       "      <th>3164</th>\n",
       "      <td>1497</td>\n",
       "      <td>11</td>\n",
       "      <td>64.0</td>\n",
       "      <td>371.0</td>\n",
       "      <td>14.0</td>\n",
       "      <td>14.0</td>\n",
       "    </tr>\n",
       "    <tr>\n",
       "      <th>3165</th>\n",
       "      <td>1497</td>\n",
       "      <td>12</td>\n",
       "      <td>71.0</td>\n",
       "      <td>545.0</td>\n",
       "      <td>20.0</td>\n",
       "      <td>17.0</td>\n",
       "    </tr>\n",
       "    <tr>\n",
       "      <th>3166</th>\n",
       "      <td>1498</td>\n",
       "      <td>7</td>\n",
       "      <td>23.0</td>\n",
       "      <td>175.0</td>\n",
       "      <td>8.0</td>\n",
       "      <td>20.0</td>\n",
       "    </tr>\n",
       "    <tr>\n",
       "      <th>3167</th>\n",
       "      <td>1498</td>\n",
       "      <td>8</td>\n",
       "      <td>57.0</td>\n",
       "      <td>400.0</td>\n",
       "      <td>24.0</td>\n",
       "      <td>62.0</td>\n",
       "    </tr>\n",
       "    <tr>\n",
       "      <th>3168</th>\n",
       "      <td>1498</td>\n",
       "      <td>9</td>\n",
       "      <td>59.0</td>\n",
       "      <td>471.0</td>\n",
       "      <td>22.0</td>\n",
       "      <td>44.0</td>\n",
       "    </tr>\n",
       "    <tr>\n",
       "      <th>3169</th>\n",
       "      <td>1498</td>\n",
       "      <td>10</td>\n",
       "      <td>41.0</td>\n",
       "      <td>247.0</td>\n",
       "      <td>21.0</td>\n",
       "      <td>42.0</td>\n",
       "    </tr>\n",
       "    <tr>\n",
       "      <th>3170</th>\n",
       "      <td>1499</td>\n",
       "      <td>9</td>\n",
       "      <td>9.0</td>\n",
       "      <td>70.0</td>\n",
       "      <td>2.0</td>\n",
       "      <td>11.0</td>\n",
       "    </tr>\n",
       "    <tr>\n",
       "      <th>3171</th>\n",
       "      <td>1499</td>\n",
       "      <td>10</td>\n",
       "      <td>68.0</td>\n",
       "      <td>449.0</td>\n",
       "      <td>18.0</td>\n",
       "      <td>48.0</td>\n",
       "    </tr>\n",
       "    <tr>\n",
       "      <th>3172</th>\n",
       "      <td>1499</td>\n",
       "      <td>11</td>\n",
       "      <td>74.0</td>\n",
       "      <td>612.0</td>\n",
       "      <td>18.0</td>\n",
       "      <td>59.0</td>\n",
       "    </tr>\n",
       "    <tr>\n",
       "      <th>3173</th>\n",
       "      <td>1499</td>\n",
       "      <td>12</td>\n",
       "      <td>69.0</td>\n",
       "      <td>492.0</td>\n",
       "      <td>13.0</td>\n",
       "      <td>66.0</td>\n",
       "    </tr>\n",
       "    <tr>\n",
       "      <th>3174</th>\n",
       "      <td>1091</td>\n",
       "      <td>5</td>\n",
       "      <td>NaN</td>\n",
       "      <td>NaN</td>\n",
       "      <td>11.0</td>\n",
       "      <td>30.0</td>\n",
       "    </tr>\n",
       "    <tr>\n",
       "      <th>3175</th>\n",
       "      <td>1091</td>\n",
       "      <td>6</td>\n",
       "      <td>NaN</td>\n",
       "      <td>NaN</td>\n",
       "      <td>10.0</td>\n",
       "      <td>30.0</td>\n",
       "    </tr>\n",
       "    <tr>\n",
       "      <th>3176</th>\n",
       "      <td>1091</td>\n",
       "      <td>7</td>\n",
       "      <td>NaN</td>\n",
       "      <td>NaN</td>\n",
       "      <td>17.0</td>\n",
       "      <td>35.0</td>\n",
       "    </tr>\n",
       "    <tr>\n",
       "      <th>3177</th>\n",
       "      <td>1091</td>\n",
       "      <td>8</td>\n",
       "      <td>NaN</td>\n",
       "      <td>NaN</td>\n",
       "      <td>13.0</td>\n",
       "      <td>31.0</td>\n",
       "    </tr>\n",
       "    <tr>\n",
       "      <th>3178</th>\n",
       "      <td>1091</td>\n",
       "      <td>9</td>\n",
       "      <td>NaN</td>\n",
       "      <td>NaN</td>\n",
       "      <td>17.0</td>\n",
       "      <td>32.0</td>\n",
       "    </tr>\n",
       "    <tr>\n",
       "      <th>3179</th>\n",
       "      <td>1091</td>\n",
       "      <td>10</td>\n",
       "      <td>NaN</td>\n",
       "      <td>NaN</td>\n",
       "      <td>16.0</td>\n",
       "      <td>44.0</td>\n",
       "    </tr>\n",
       "    <tr>\n",
       "      <th>3180</th>\n",
       "      <td>1091</td>\n",
       "      <td>11</td>\n",
       "      <td>NaN</td>\n",
       "      <td>NaN</td>\n",
       "      <td>12.0</td>\n",
       "      <td>28.0</td>\n",
       "    </tr>\n",
       "    <tr>\n",
       "      <th>3181</th>\n",
       "      <td>1091</td>\n",
       "      <td>12</td>\n",
       "      <td>NaN</td>\n",
       "      <td>NaN</td>\n",
       "      <td>13.0</td>\n",
       "      <td>42.0</td>\n",
       "    </tr>\n",
       "    <tr>\n",
       "      <th>3182</th>\n",
       "      <td>1106</td>\n",
       "      <td>4</td>\n",
       "      <td>NaN</td>\n",
       "      <td>NaN</td>\n",
       "      <td>3.0</td>\n",
       "      <td>9.0</td>\n",
       "    </tr>\n",
       "    <tr>\n",
       "      <th>3183</th>\n",
       "      <td>1106</td>\n",
       "      <td>5</td>\n",
       "      <td>NaN</td>\n",
       "      <td>NaN</td>\n",
       "      <td>17.0</td>\n",
       "      <td>28.0</td>\n",
       "    </tr>\n",
       "    <tr>\n",
       "      <th>3184</th>\n",
       "      <td>1106</td>\n",
       "      <td>6</td>\n",
       "      <td>NaN</td>\n",
       "      <td>NaN</td>\n",
       "      <td>20.0</td>\n",
       "      <td>30.0</td>\n",
       "    </tr>\n",
       "    <tr>\n",
       "      <th>3185</th>\n",
       "      <td>1106</td>\n",
       "      <td>7</td>\n",
       "      <td>NaN</td>\n",
       "      <td>NaN</td>\n",
       "      <td>22.0</td>\n",
       "      <td>24.0</td>\n",
       "    </tr>\n",
       "    <tr>\n",
       "      <th>3186</th>\n",
       "      <td>1106</td>\n",
       "      <td>8</td>\n",
       "      <td>NaN</td>\n",
       "      <td>NaN</td>\n",
       "      <td>19.0</td>\n",
       "      <td>25.0</td>\n",
       "    </tr>\n",
       "    <tr>\n",
       "      <th>3187</th>\n",
       "      <td>1106</td>\n",
       "      <td>9</td>\n",
       "      <td>NaN</td>\n",
       "      <td>NaN</td>\n",
       "      <td>22.0</td>\n",
       "      <td>23.0</td>\n",
       "    </tr>\n",
       "    <tr>\n",
       "      <th>3188</th>\n",
       "      <td>1106</td>\n",
       "      <td>10</td>\n",
       "      <td>NaN</td>\n",
       "      <td>NaN</td>\n",
       "      <td>14.0</td>\n",
       "      <td>33.0</td>\n",
       "    </tr>\n",
       "    <tr>\n",
       "      <th>3189</th>\n",
       "      <td>1106</td>\n",
       "      <td>11</td>\n",
       "      <td>NaN</td>\n",
       "      <td>NaN</td>\n",
       "      <td>21.0</td>\n",
       "      <td>29.0</td>\n",
       "    </tr>\n",
       "    <tr>\n",
       "      <th>3190</th>\n",
       "      <td>1106</td>\n",
       "      <td>12</td>\n",
       "      <td>NaN</td>\n",
       "      <td>NaN</td>\n",
       "      <td>19.0</td>\n",
       "      <td>24.0</td>\n",
       "    </tr>\n",
       "    <tr>\n",
       "      <th>3191</th>\n",
       "      <td>1231</td>\n",
       "      <td>5</td>\n",
       "      <td>NaN</td>\n",
       "      <td>NaN</td>\n",
       "      <td>11.0</td>\n",
       "      <td>55.0</td>\n",
       "    </tr>\n",
       "    <tr>\n",
       "      <th>3192</th>\n",
       "      <td>1231</td>\n",
       "      <td>6</td>\n",
       "      <td>NaN</td>\n",
       "      <td>NaN</td>\n",
       "      <td>28.0</td>\n",
       "      <td>201.0</td>\n",
       "    </tr>\n",
       "    <tr>\n",
       "      <th>3193</th>\n",
       "      <td>1231</td>\n",
       "      <td>7</td>\n",
       "      <td>NaN</td>\n",
       "      <td>NaN</td>\n",
       "      <td>28.0</td>\n",
       "      <td>211.0</td>\n",
       "    </tr>\n",
       "    <tr>\n",
       "      <th>3194</th>\n",
       "      <td>1231</td>\n",
       "      <td>8</td>\n",
       "      <td>NaN</td>\n",
       "      <td>NaN</td>\n",
       "      <td>32.0</td>\n",
       "      <td>180.0</td>\n",
       "    </tr>\n",
       "    <tr>\n",
       "      <th>3195</th>\n",
       "      <td>1231</td>\n",
       "      <td>9</td>\n",
       "      <td>NaN</td>\n",
       "      <td>NaN</td>\n",
       "      <td>33.0</td>\n",
       "      <td>188.0</td>\n",
       "    </tr>\n",
       "    <tr>\n",
       "      <th>3196</th>\n",
       "      <td>1231</td>\n",
       "      <td>10</td>\n",
       "      <td>NaN</td>\n",
       "      <td>NaN</td>\n",
       "      <td>31.0</td>\n",
       "      <td>185.0</td>\n",
       "    </tr>\n",
       "    <tr>\n",
       "      <th>3197</th>\n",
       "      <td>1231</td>\n",
       "      <td>11</td>\n",
       "      <td>NaN</td>\n",
       "      <td>NaN</td>\n",
       "      <td>27.0</td>\n",
       "      <td>173.0</td>\n",
       "    </tr>\n",
       "    <tr>\n",
       "      <th>3198</th>\n",
       "      <td>1231</td>\n",
       "      <td>12</td>\n",
       "      <td>NaN</td>\n",
       "      <td>NaN</td>\n",
       "      <td>32.0</td>\n",
       "      <td>191.0</td>\n",
       "    </tr>\n",
       "    <tr>\n",
       "      <th>3199</th>\n",
       "      <td>1328</td>\n",
       "      <td>10</td>\n",
       "      <td>NaN</td>\n",
       "      <td>NaN</td>\n",
       "      <td>22.0</td>\n",
       "      <td>6.0</td>\n",
       "    </tr>\n",
       "    <tr>\n",
       "      <th>3200</th>\n",
       "      <td>1328</td>\n",
       "      <td>11</td>\n",
       "      <td>NaN</td>\n",
       "      <td>NaN</td>\n",
       "      <td>35.0</td>\n",
       "      <td>8.0</td>\n",
       "    </tr>\n",
       "    <tr>\n",
       "      <th>3201</th>\n",
       "      <td>1328</td>\n",
       "      <td>12</td>\n",
       "      <td>NaN</td>\n",
       "      <td>NaN</td>\n",
       "      <td>39.0</td>\n",
       "      <td>7.0</td>\n",
       "    </tr>\n",
       "    <tr>\n",
       "      <th>3202</th>\n",
       "      <td>1373</td>\n",
       "      <td>6</td>\n",
       "      <td>NaN</td>\n",
       "      <td>NaN</td>\n",
       "      <td>13.0</td>\n",
       "      <td>48.0</td>\n",
       "    </tr>\n",
       "    <tr>\n",
       "      <th>3203</th>\n",
       "      <td>1473</td>\n",
       "      <td>8</td>\n",
       "      <td>NaN</td>\n",
       "      <td>NaN</td>\n",
       "      <td>13.0</td>\n",
       "      <td>17.0</td>\n",
       "    </tr>\n",
       "    <tr>\n",
       "      <th>3204</th>\n",
       "      <td>1473</td>\n",
       "      <td>9</td>\n",
       "      <td>NaN</td>\n",
       "      <td>NaN</td>\n",
       "      <td>17.0</td>\n",
       "      <td>19.0</td>\n",
       "    </tr>\n",
       "    <tr>\n",
       "      <th>3205</th>\n",
       "      <td>1473</td>\n",
       "      <td>10</td>\n",
       "      <td>NaN</td>\n",
       "      <td>NaN</td>\n",
       "      <td>14.0</td>\n",
       "      <td>20.0</td>\n",
       "    </tr>\n",
       "    <tr>\n",
       "      <th>3206</th>\n",
       "      <td>1473</td>\n",
       "      <td>11</td>\n",
       "      <td>NaN</td>\n",
       "      <td>NaN</td>\n",
       "      <td>22.0</td>\n",
       "      <td>14.0</td>\n",
       "    </tr>\n",
       "    <tr>\n",
       "      <th>3207</th>\n",
       "      <td>1473</td>\n",
       "      <td>12</td>\n",
       "      <td>NaN</td>\n",
       "      <td>NaN</td>\n",
       "      <td>18.0</td>\n",
       "      <td>20.0</td>\n",
       "    </tr>\n",
       "    <tr>\n",
       "      <th>3208</th>\n",
       "      <td>1476</td>\n",
       "      <td>4</td>\n",
       "      <td>NaN</td>\n",
       "      <td>NaN</td>\n",
       "      <td>1.0</td>\n",
       "      <td>NaN</td>\n",
       "    </tr>\n",
       "    <tr>\n",
       "      <th>3209</th>\n",
       "      <td>1489</td>\n",
       "      <td>8</td>\n",
       "      <td>NaN</td>\n",
       "      <td>NaN</td>\n",
       "      <td>11.0</td>\n",
       "      <td>17.0</td>\n",
       "    </tr>\n",
       "    <tr>\n",
       "      <th>3210</th>\n",
       "      <td>1489</td>\n",
       "      <td>9</td>\n",
       "      <td>NaN</td>\n",
       "      <td>NaN</td>\n",
       "      <td>17.0</td>\n",
       "      <td>32.0</td>\n",
       "    </tr>\n",
       "    <tr>\n",
       "      <th>3211</th>\n",
       "      <td>1489</td>\n",
       "      <td>10</td>\n",
       "      <td>NaN</td>\n",
       "      <td>NaN</td>\n",
       "      <td>20.0</td>\n",
       "      <td>21.0</td>\n",
       "    </tr>\n",
       "    <tr>\n",
       "      <th>3212</th>\n",
       "      <td>1489</td>\n",
       "      <td>11</td>\n",
       "      <td>NaN</td>\n",
       "      <td>NaN</td>\n",
       "      <td>18.0</td>\n",
       "      <td>20.0</td>\n",
       "    </tr>\n",
       "    <tr>\n",
       "      <th>3213</th>\n",
       "      <td>1489</td>\n",
       "      <td>12</td>\n",
       "      <td>NaN</td>\n",
       "      <td>NaN</td>\n",
       "      <td>17.0</td>\n",
       "      <td>35.0</td>\n",
       "    </tr>\n",
       "  </tbody>\n",
       "</table>\n",
       "</div>"
      ],
      "text/plain": [
       "      user_id  month  count    sum  gb_used     id\n",
       "3164     1497     11   64.0  371.0     14.0   14.0\n",
       "3165     1497     12   71.0  545.0     20.0   17.0\n",
       "3166     1498      7   23.0  175.0      8.0   20.0\n",
       "3167     1498      8   57.0  400.0     24.0   62.0\n",
       "3168     1498      9   59.0  471.0     22.0   44.0\n",
       "3169     1498     10   41.0  247.0     21.0   42.0\n",
       "3170     1499      9    9.0   70.0      2.0   11.0\n",
       "3171     1499     10   68.0  449.0     18.0   48.0\n",
       "3172     1499     11   74.0  612.0     18.0   59.0\n",
       "3173     1499     12   69.0  492.0     13.0   66.0\n",
       "3174     1091      5    NaN    NaN     11.0   30.0\n",
       "3175     1091      6    NaN    NaN     10.0   30.0\n",
       "3176     1091      7    NaN    NaN     17.0   35.0\n",
       "3177     1091      8    NaN    NaN     13.0   31.0\n",
       "3178     1091      9    NaN    NaN     17.0   32.0\n",
       "3179     1091     10    NaN    NaN     16.0   44.0\n",
       "3180     1091     11    NaN    NaN     12.0   28.0\n",
       "3181     1091     12    NaN    NaN     13.0   42.0\n",
       "3182     1106      4    NaN    NaN      3.0    9.0\n",
       "3183     1106      5    NaN    NaN     17.0   28.0\n",
       "3184     1106      6    NaN    NaN     20.0   30.0\n",
       "3185     1106      7    NaN    NaN     22.0   24.0\n",
       "3186     1106      8    NaN    NaN     19.0   25.0\n",
       "3187     1106      9    NaN    NaN     22.0   23.0\n",
       "3188     1106     10    NaN    NaN     14.0   33.0\n",
       "3189     1106     11    NaN    NaN     21.0   29.0\n",
       "3190     1106     12    NaN    NaN     19.0   24.0\n",
       "3191     1231      5    NaN    NaN     11.0   55.0\n",
       "3192     1231      6    NaN    NaN     28.0  201.0\n",
       "3193     1231      7    NaN    NaN     28.0  211.0\n",
       "3194     1231      8    NaN    NaN     32.0  180.0\n",
       "3195     1231      9    NaN    NaN     33.0  188.0\n",
       "3196     1231     10    NaN    NaN     31.0  185.0\n",
       "3197     1231     11    NaN    NaN     27.0  173.0\n",
       "3198     1231     12    NaN    NaN     32.0  191.0\n",
       "3199     1328     10    NaN    NaN     22.0    6.0\n",
       "3200     1328     11    NaN    NaN     35.0    8.0\n",
       "3201     1328     12    NaN    NaN     39.0    7.0\n",
       "3202     1373      6    NaN    NaN     13.0   48.0\n",
       "3203     1473      8    NaN    NaN     13.0   17.0\n",
       "3204     1473      9    NaN    NaN     17.0   19.0\n",
       "3205     1473     10    NaN    NaN     14.0   20.0\n",
       "3206     1473     11    NaN    NaN     22.0   14.0\n",
       "3207     1473     12    NaN    NaN     18.0   20.0\n",
       "3208     1476      4    NaN    NaN      1.0    NaN\n",
       "3209     1489      8    NaN    NaN     11.0   17.0\n",
       "3210     1489      9    NaN    NaN     17.0   32.0\n",
       "3211     1489     10    NaN    NaN     20.0   21.0\n",
       "3212     1489     11    NaN    NaN     18.0   20.0\n",
       "3213     1489     12    NaN    NaN     17.0   35.0"
      ]
     },
     "execution_count": 33,
     "metadata": {},
     "output_type": "execute_result"
    }
   ],
   "source": [
    "df.tail(50)"
   ]
  },
  {
   "cell_type": "code",
   "execution_count": 34,
   "metadata": {},
   "outputs": [
    {
     "data": {
      "text/plain": [
       "(498,)"
      ]
     },
     "execution_count": 34,
     "metadata": {},
     "output_type": "execute_result"
    }
   ],
   "source": [
    "df.user_id.unique().shape"
   ]
  },
  {
   "cell_type": "markdown",
   "metadata": {},
   "source": [
    "Есть несколько пользователей, которые вероятно не пользовались звонками и вероятно брали тариф только для интернета и сообщений. Так же есть два пользователя, которые не пользовались никакой услугой, их попросту нет в этих трёх изначальныхх таблицах. Возможно это совсем новые клиенты, которые пришли в канун нового года? В любом случае данных по ним нет, поэтому добавлять их в общую таблицу с значением 0 не буду, эчтобы не искажать картину."
   ]
  },
  {
   "cell_type": "code",
   "execution_count": 35,
   "metadata": {},
   "outputs": [],
   "source": [
    "# создаю сгруппированный дф и переменую в нём столбцы.\n",
    "df_g = df.pivot_table(index=['user_id', 'month']).reset_index()"
   ]
  },
  {
   "cell_type": "code",
   "execution_count": 36,
   "metadata": {},
   "outputs": [
    {
     "data": {
      "text/html": [
       "<div>\n",
       "<style scoped>\n",
       "    .dataframe tbody tr th:only-of-type {\n",
       "        vertical-align: middle;\n",
       "    }\n",
       "\n",
       "    .dataframe tbody tr th {\n",
       "        vertical-align: top;\n",
       "    }\n",
       "\n",
       "    .dataframe thead th {\n",
       "        text-align: right;\n",
       "    }\n",
       "</style>\n",
       "<table border=\"1\" class=\"dataframe\">\n",
       "  <thead>\n",
       "    <tr style=\"text-align: right;\">\n",
       "      <th></th>\n",
       "      <th>user_id</th>\n",
       "      <th>month</th>\n",
       "      <th>count</th>\n",
       "      <th>gb_used</th>\n",
       "      <th>id</th>\n",
       "      <th>sum</th>\n",
       "    </tr>\n",
       "  </thead>\n",
       "  <tbody>\n",
       "    <tr>\n",
       "      <th>0</th>\n",
       "      <td>1000</td>\n",
       "      <td>5</td>\n",
       "      <td>22.0</td>\n",
       "      <td>3.0</td>\n",
       "      <td>22.0</td>\n",
       "      <td>159.0</td>\n",
       "    </tr>\n",
       "    <tr>\n",
       "      <th>1</th>\n",
       "      <td>1000</td>\n",
       "      <td>6</td>\n",
       "      <td>43.0</td>\n",
       "      <td>23.0</td>\n",
       "      <td>60.0</td>\n",
       "      <td>172.0</td>\n",
       "    </tr>\n",
       "    <tr>\n",
       "      <th>2</th>\n",
       "      <td>1000</td>\n",
       "      <td>7</td>\n",
       "      <td>47.0</td>\n",
       "      <td>14.0</td>\n",
       "      <td>75.0</td>\n",
       "      <td>340.0</td>\n",
       "    </tr>\n",
       "    <tr>\n",
       "      <th>3</th>\n",
       "      <td>1000</td>\n",
       "      <td>8</td>\n",
       "      <td>52.0</td>\n",
       "      <td>14.0</td>\n",
       "      <td>81.0</td>\n",
       "      <td>408.0</td>\n",
       "    </tr>\n",
       "    <tr>\n",
       "      <th>4</th>\n",
       "      <td>1000</td>\n",
       "      <td>9</td>\n",
       "      <td>58.0</td>\n",
       "      <td>15.0</td>\n",
       "      <td>57.0</td>\n",
       "      <td>466.0</td>\n",
       "    </tr>\n",
       "    <tr>\n",
       "      <th>...</th>\n",
       "      <td>...</td>\n",
       "      <td>...</td>\n",
       "      <td>...</td>\n",
       "      <td>...</td>\n",
       "      <td>...</td>\n",
       "      <td>...</td>\n",
       "    </tr>\n",
       "    <tr>\n",
       "      <th>3209</th>\n",
       "      <td>1498</td>\n",
       "      <td>10</td>\n",
       "      <td>41.0</td>\n",
       "      <td>21.0</td>\n",
       "      <td>42.0</td>\n",
       "      <td>247.0</td>\n",
       "    </tr>\n",
       "    <tr>\n",
       "      <th>3210</th>\n",
       "      <td>1499</td>\n",
       "      <td>9</td>\n",
       "      <td>9.0</td>\n",
       "      <td>2.0</td>\n",
       "      <td>11.0</td>\n",
       "      <td>70.0</td>\n",
       "    </tr>\n",
       "    <tr>\n",
       "      <th>3211</th>\n",
       "      <td>1499</td>\n",
       "      <td>10</td>\n",
       "      <td>68.0</td>\n",
       "      <td>18.0</td>\n",
       "      <td>48.0</td>\n",
       "      <td>449.0</td>\n",
       "    </tr>\n",
       "    <tr>\n",
       "      <th>3212</th>\n",
       "      <td>1499</td>\n",
       "      <td>11</td>\n",
       "      <td>74.0</td>\n",
       "      <td>18.0</td>\n",
       "      <td>59.0</td>\n",
       "      <td>612.0</td>\n",
       "    </tr>\n",
       "    <tr>\n",
       "      <th>3213</th>\n",
       "      <td>1499</td>\n",
       "      <td>12</td>\n",
       "      <td>69.0</td>\n",
       "      <td>13.0</td>\n",
       "      <td>66.0</td>\n",
       "      <td>492.0</td>\n",
       "    </tr>\n",
       "  </tbody>\n",
       "</table>\n",
       "<p>3214 rows × 6 columns</p>\n",
       "</div>"
      ],
      "text/plain": [
       "      user_id  month  count  gb_used    id    sum\n",
       "0        1000      5   22.0      3.0  22.0  159.0\n",
       "1        1000      6   43.0     23.0  60.0  172.0\n",
       "2        1000      7   47.0     14.0  75.0  340.0\n",
       "3        1000      8   52.0     14.0  81.0  408.0\n",
       "4        1000      9   58.0     15.0  57.0  466.0\n",
       "...       ...    ...    ...      ...   ...    ...\n",
       "3209     1498     10   41.0     21.0  42.0  247.0\n",
       "3210     1499      9    9.0      2.0  11.0   70.0\n",
       "3211     1499     10   68.0     18.0  48.0  449.0\n",
       "3212     1499     11   74.0     18.0  59.0  612.0\n",
       "3213     1499     12   69.0     13.0  66.0  492.0\n",
       "\n",
       "[3214 rows x 6 columns]"
      ]
     },
     "execution_count": 36,
     "metadata": {},
     "output_type": "execute_result"
    }
   ],
   "source": [
    "df_g"
   ]
  },
  {
   "cell_type": "code",
   "execution_count": 37,
   "metadata": {},
   "outputs": [],
   "source": [
    "df_g.columns = ['user_id', 'month', 'calls', 'gb_used', 'messages', 'sum_calls_duration']"
   ]
  },
  {
   "cell_type": "code",
   "execution_count": 38,
   "metadata": {},
   "outputs": [
    {
     "data": {
      "text/plain": [
       "user_id                 0\n",
       "month                   0\n",
       "calls                  40\n",
       "gb_used                11\n",
       "messages              497\n",
       "sum_calls_duration     40\n",
       "dtype: int64"
      ]
     },
     "execution_count": 38,
     "metadata": {},
     "output_type": "execute_result"
    }
   ],
   "source": [
    "df_g.isna().sum()"
   ]
  },
  {
   "cell_type": "code",
   "execution_count": 39,
   "metadata": {},
   "outputs": [
    {
     "data": {
      "text/html": [
       "<div>\n",
       "<style scoped>\n",
       "    .dataframe tbody tr th:only-of-type {\n",
       "        vertical-align: middle;\n",
       "    }\n",
       "\n",
       "    .dataframe tbody tr th {\n",
       "        vertical-align: top;\n",
       "    }\n",
       "\n",
       "    .dataframe thead th {\n",
       "        text-align: right;\n",
       "    }\n",
       "</style>\n",
       "<table border=\"1\" class=\"dataframe\">\n",
       "  <thead>\n",
       "    <tr style=\"text-align: right;\">\n",
       "      <th></th>\n",
       "      <th>user_id</th>\n",
       "      <th>month</th>\n",
       "      <th>calls</th>\n",
       "      <th>gb_used</th>\n",
       "      <th>messages</th>\n",
       "      <th>sum_calls_duration</th>\n",
       "    </tr>\n",
       "  </thead>\n",
       "  <tbody>\n",
       "    <tr>\n",
       "      <th>0</th>\n",
       "      <td>1000</td>\n",
       "      <td>5</td>\n",
       "      <td>22.0</td>\n",
       "      <td>3.0</td>\n",
       "      <td>22.0</td>\n",
       "      <td>159.0</td>\n",
       "    </tr>\n",
       "    <tr>\n",
       "      <th>1</th>\n",
       "      <td>1000</td>\n",
       "      <td>6</td>\n",
       "      <td>43.0</td>\n",
       "      <td>23.0</td>\n",
       "      <td>60.0</td>\n",
       "      <td>172.0</td>\n",
       "    </tr>\n",
       "    <tr>\n",
       "      <th>2</th>\n",
       "      <td>1000</td>\n",
       "      <td>7</td>\n",
       "      <td>47.0</td>\n",
       "      <td>14.0</td>\n",
       "      <td>75.0</td>\n",
       "      <td>340.0</td>\n",
       "    </tr>\n",
       "    <tr>\n",
       "      <th>3</th>\n",
       "      <td>1000</td>\n",
       "      <td>8</td>\n",
       "      <td>52.0</td>\n",
       "      <td>14.0</td>\n",
       "      <td>81.0</td>\n",
       "      <td>408.0</td>\n",
       "    </tr>\n",
       "    <tr>\n",
       "      <th>4</th>\n",
       "      <td>1000</td>\n",
       "      <td>9</td>\n",
       "      <td>58.0</td>\n",
       "      <td>15.0</td>\n",
       "      <td>57.0</td>\n",
       "      <td>466.0</td>\n",
       "    </tr>\n",
       "    <tr>\n",
       "      <th>...</th>\n",
       "      <td>...</td>\n",
       "      <td>...</td>\n",
       "      <td>...</td>\n",
       "      <td>...</td>\n",
       "      <td>...</td>\n",
       "      <td>...</td>\n",
       "    </tr>\n",
       "    <tr>\n",
       "      <th>3209</th>\n",
       "      <td>1498</td>\n",
       "      <td>10</td>\n",
       "      <td>41.0</td>\n",
       "      <td>21.0</td>\n",
       "      <td>42.0</td>\n",
       "      <td>247.0</td>\n",
       "    </tr>\n",
       "    <tr>\n",
       "      <th>3210</th>\n",
       "      <td>1499</td>\n",
       "      <td>9</td>\n",
       "      <td>9.0</td>\n",
       "      <td>2.0</td>\n",
       "      <td>11.0</td>\n",
       "      <td>70.0</td>\n",
       "    </tr>\n",
       "    <tr>\n",
       "      <th>3211</th>\n",
       "      <td>1499</td>\n",
       "      <td>10</td>\n",
       "      <td>68.0</td>\n",
       "      <td>18.0</td>\n",
       "      <td>48.0</td>\n",
       "      <td>449.0</td>\n",
       "    </tr>\n",
       "    <tr>\n",
       "      <th>3212</th>\n",
       "      <td>1499</td>\n",
       "      <td>11</td>\n",
       "      <td>74.0</td>\n",
       "      <td>18.0</td>\n",
       "      <td>59.0</td>\n",
       "      <td>612.0</td>\n",
       "    </tr>\n",
       "    <tr>\n",
       "      <th>3213</th>\n",
       "      <td>1499</td>\n",
       "      <td>12</td>\n",
       "      <td>69.0</td>\n",
       "      <td>13.0</td>\n",
       "      <td>66.0</td>\n",
       "      <td>492.0</td>\n",
       "    </tr>\n",
       "  </tbody>\n",
       "</table>\n",
       "<p>3214 rows × 6 columns</p>\n",
       "</div>"
      ],
      "text/plain": [
       "      user_id  month  calls  gb_used  messages  sum_calls_duration\n",
       "0        1000      5   22.0      3.0      22.0               159.0\n",
       "1        1000      6   43.0     23.0      60.0               172.0\n",
       "2        1000      7   47.0     14.0      75.0               340.0\n",
       "3        1000      8   52.0     14.0      81.0               408.0\n",
       "4        1000      9   58.0     15.0      57.0               466.0\n",
       "...       ...    ...    ...      ...       ...                 ...\n",
       "3209     1498     10   41.0     21.0      42.0               247.0\n",
       "3210     1499      9    9.0      2.0      11.0                70.0\n",
       "3211     1499     10   68.0     18.0      48.0               449.0\n",
       "3212     1499     11   74.0     18.0      59.0               612.0\n",
       "3213     1499     12   69.0     13.0      66.0               492.0\n",
       "\n",
       "[3214 rows x 6 columns]"
      ]
     },
     "execution_count": 39,
     "metadata": {},
     "output_type": "execute_result"
    }
   ],
   "source": [
    "df_g"
   ]
  },
  {
   "cell_type": "code",
   "execution_count": 40,
   "metadata": {},
   "outputs": [],
   "source": [
    "# заменю пропуски  на нули\n",
    "df_g.loc[df_g['messages'].isna(), 'messages'] = 0\n",
    "df_g.loc[df_g['gb_used'].isna(), 'gb_used'] = 0\n",
    "df_g.loc[df_g['sum_calls_duration'].isna(), 'sum_calls_duration'] = 0\n",
    "df_g.loc[df_g['calls'].isna(), 'calls'] = 0"
   ]
  },
  {
   "cell_type": "code",
   "execution_count": 41,
   "metadata": {},
   "outputs": [],
   "source": [
    "# добавляю данные пользователей\n",
    "t_df = df_g.merge(us, on='user_id', how='inner').pivot_table(\n",
    "    index=['user_id', 'first_name', 'last_name', 'age', 'city', 'tariff', 'reg_date', 'churn_date', 'month']).reset_index()"
   ]
  },
  {
   "cell_type": "code",
   "execution_count": 42,
   "metadata": {},
   "outputs": [
    {
     "data": {
      "text/html": [
       "<div>\n",
       "<style scoped>\n",
       "    .dataframe tbody tr th:only-of-type {\n",
       "        vertical-align: middle;\n",
       "    }\n",
       "\n",
       "    .dataframe tbody tr th {\n",
       "        vertical-align: top;\n",
       "    }\n",
       "\n",
       "    .dataframe thead th {\n",
       "        text-align: right;\n",
       "    }\n",
       "</style>\n",
       "<table border=\"1\" class=\"dataframe\">\n",
       "  <thead>\n",
       "    <tr style=\"text-align: right;\">\n",
       "      <th></th>\n",
       "      <th>user_id</th>\n",
       "      <th>first_name</th>\n",
       "      <th>last_name</th>\n",
       "      <th>age</th>\n",
       "      <th>city</th>\n",
       "      <th>tariff</th>\n",
       "      <th>reg_date</th>\n",
       "      <th>churn_date</th>\n",
       "      <th>month</th>\n",
       "      <th>calls</th>\n",
       "      <th>gb_used</th>\n",
       "      <th>messages</th>\n",
       "      <th>sum_calls_duration</th>\n",
       "    </tr>\n",
       "  </thead>\n",
       "  <tbody>\n",
       "    <tr>\n",
       "      <th>0</th>\n",
       "      <td>1000</td>\n",
       "      <td>Рафаил</td>\n",
       "      <td>Верещагин</td>\n",
       "      <td>52</td>\n",
       "      <td>Краснодар</td>\n",
       "      <td>ultra</td>\n",
       "      <td>2018-05-25</td>\n",
       "      <td>2019-01-01</td>\n",
       "      <td>5</td>\n",
       "      <td>22.0</td>\n",
       "      <td>3.0</td>\n",
       "      <td>22.0</td>\n",
       "      <td>159.0</td>\n",
       "    </tr>\n",
       "    <tr>\n",
       "      <th>1</th>\n",
       "      <td>1000</td>\n",
       "      <td>Рафаил</td>\n",
       "      <td>Верещагин</td>\n",
       "      <td>52</td>\n",
       "      <td>Краснодар</td>\n",
       "      <td>ultra</td>\n",
       "      <td>2018-05-25</td>\n",
       "      <td>2019-01-01</td>\n",
       "      <td>6</td>\n",
       "      <td>43.0</td>\n",
       "      <td>23.0</td>\n",
       "      <td>60.0</td>\n",
       "      <td>172.0</td>\n",
       "    </tr>\n",
       "    <tr>\n",
       "      <th>2</th>\n",
       "      <td>1000</td>\n",
       "      <td>Рафаил</td>\n",
       "      <td>Верещагин</td>\n",
       "      <td>52</td>\n",
       "      <td>Краснодар</td>\n",
       "      <td>ultra</td>\n",
       "      <td>2018-05-25</td>\n",
       "      <td>2019-01-01</td>\n",
       "      <td>7</td>\n",
       "      <td>47.0</td>\n",
       "      <td>14.0</td>\n",
       "      <td>75.0</td>\n",
       "      <td>340.0</td>\n",
       "    </tr>\n",
       "    <tr>\n",
       "      <th>3</th>\n",
       "      <td>1000</td>\n",
       "      <td>Рафаил</td>\n",
       "      <td>Верещагин</td>\n",
       "      <td>52</td>\n",
       "      <td>Краснодар</td>\n",
       "      <td>ultra</td>\n",
       "      <td>2018-05-25</td>\n",
       "      <td>2019-01-01</td>\n",
       "      <td>8</td>\n",
       "      <td>52.0</td>\n",
       "      <td>14.0</td>\n",
       "      <td>81.0</td>\n",
       "      <td>408.0</td>\n",
       "    </tr>\n",
       "    <tr>\n",
       "      <th>4</th>\n",
       "      <td>1000</td>\n",
       "      <td>Рафаил</td>\n",
       "      <td>Верещагин</td>\n",
       "      <td>52</td>\n",
       "      <td>Краснодар</td>\n",
       "      <td>ultra</td>\n",
       "      <td>2018-05-25</td>\n",
       "      <td>2019-01-01</td>\n",
       "      <td>9</td>\n",
       "      <td>58.0</td>\n",
       "      <td>15.0</td>\n",
       "      <td>57.0</td>\n",
       "      <td>466.0</td>\n",
       "    </tr>\n",
       "    <tr>\n",
       "      <th>...</th>\n",
       "      <td>...</td>\n",
       "      <td>...</td>\n",
       "      <td>...</td>\n",
       "      <td>...</td>\n",
       "      <td>...</td>\n",
       "      <td>...</td>\n",
       "      <td>...</td>\n",
       "      <td>...</td>\n",
       "      <td>...</td>\n",
       "      <td>...</td>\n",
       "      <td>...</td>\n",
       "      <td>...</td>\n",
       "      <td>...</td>\n",
       "    </tr>\n",
       "    <tr>\n",
       "      <th>3209</th>\n",
       "      <td>1498</td>\n",
       "      <td>Всеволод</td>\n",
       "      <td>Акимчин</td>\n",
       "      <td>68</td>\n",
       "      <td>Владикавказ</td>\n",
       "      <td>smart</td>\n",
       "      <td>2018-07-19</td>\n",
       "      <td>2018-10-25</td>\n",
       "      <td>10</td>\n",
       "      <td>41.0</td>\n",
       "      <td>21.0</td>\n",
       "      <td>42.0</td>\n",
       "      <td>247.0</td>\n",
       "    </tr>\n",
       "    <tr>\n",
       "      <th>3210</th>\n",
       "      <td>1499</td>\n",
       "      <td>Гектор</td>\n",
       "      <td>Корнилов</td>\n",
       "      <td>35</td>\n",
       "      <td>Пермь</td>\n",
       "      <td>smart</td>\n",
       "      <td>2018-09-27</td>\n",
       "      <td>2019-01-01</td>\n",
       "      <td>9</td>\n",
       "      <td>9.0</td>\n",
       "      <td>2.0</td>\n",
       "      <td>11.0</td>\n",
       "      <td>70.0</td>\n",
       "    </tr>\n",
       "    <tr>\n",
       "      <th>3211</th>\n",
       "      <td>1499</td>\n",
       "      <td>Гектор</td>\n",
       "      <td>Корнилов</td>\n",
       "      <td>35</td>\n",
       "      <td>Пермь</td>\n",
       "      <td>smart</td>\n",
       "      <td>2018-09-27</td>\n",
       "      <td>2019-01-01</td>\n",
       "      <td>10</td>\n",
       "      <td>68.0</td>\n",
       "      <td>18.0</td>\n",
       "      <td>48.0</td>\n",
       "      <td>449.0</td>\n",
       "    </tr>\n",
       "    <tr>\n",
       "      <th>3212</th>\n",
       "      <td>1499</td>\n",
       "      <td>Гектор</td>\n",
       "      <td>Корнилов</td>\n",
       "      <td>35</td>\n",
       "      <td>Пермь</td>\n",
       "      <td>smart</td>\n",
       "      <td>2018-09-27</td>\n",
       "      <td>2019-01-01</td>\n",
       "      <td>11</td>\n",
       "      <td>74.0</td>\n",
       "      <td>18.0</td>\n",
       "      <td>59.0</td>\n",
       "      <td>612.0</td>\n",
       "    </tr>\n",
       "    <tr>\n",
       "      <th>3213</th>\n",
       "      <td>1499</td>\n",
       "      <td>Гектор</td>\n",
       "      <td>Корнилов</td>\n",
       "      <td>35</td>\n",
       "      <td>Пермь</td>\n",
       "      <td>smart</td>\n",
       "      <td>2018-09-27</td>\n",
       "      <td>2019-01-01</td>\n",
       "      <td>12</td>\n",
       "      <td>69.0</td>\n",
       "      <td>13.0</td>\n",
       "      <td>66.0</td>\n",
       "      <td>492.0</td>\n",
       "    </tr>\n",
       "  </tbody>\n",
       "</table>\n",
       "<p>3214 rows × 13 columns</p>\n",
       "</div>"
      ],
      "text/plain": [
       "      user_id first_name  last_name  age         city tariff   reg_date  \\\n",
       "0        1000     Рафаил  Верещагин   52    Краснодар  ultra 2018-05-25   \n",
       "1        1000     Рафаил  Верещагин   52    Краснодар  ultra 2018-05-25   \n",
       "2        1000     Рафаил  Верещагин   52    Краснодар  ultra 2018-05-25   \n",
       "3        1000     Рафаил  Верещагин   52    Краснодар  ultra 2018-05-25   \n",
       "4        1000     Рафаил  Верещагин   52    Краснодар  ultra 2018-05-25   \n",
       "...       ...        ...        ...  ...          ...    ...        ...   \n",
       "3209     1498   Всеволод    Акимчин   68  Владикавказ  smart 2018-07-19   \n",
       "3210     1499     Гектор   Корнилов   35        Пермь  smart 2018-09-27   \n",
       "3211     1499     Гектор   Корнилов   35        Пермь  smart 2018-09-27   \n",
       "3212     1499     Гектор   Корнилов   35        Пермь  smart 2018-09-27   \n",
       "3213     1499     Гектор   Корнилов   35        Пермь  smart 2018-09-27   \n",
       "\n",
       "     churn_date  month  calls  gb_used  messages  sum_calls_duration  \n",
       "0    2019-01-01      5   22.0      3.0      22.0               159.0  \n",
       "1    2019-01-01      6   43.0     23.0      60.0               172.0  \n",
       "2    2019-01-01      7   47.0     14.0      75.0               340.0  \n",
       "3    2019-01-01      8   52.0     14.0      81.0               408.0  \n",
       "4    2019-01-01      9   58.0     15.0      57.0               466.0  \n",
       "...         ...    ...    ...      ...       ...                 ...  \n",
       "3209 2018-10-25     10   41.0     21.0      42.0               247.0  \n",
       "3210 2019-01-01      9    9.0      2.0      11.0                70.0  \n",
       "3211 2019-01-01     10   68.0     18.0      48.0               449.0  \n",
       "3212 2019-01-01     11   74.0     18.0      59.0               612.0  \n",
       "3213 2019-01-01     12   69.0     13.0      66.0               492.0  \n",
       "\n",
       "[3214 rows x 13 columns]"
      ]
     },
     "execution_count": 42,
     "metadata": {},
     "output_type": "execute_result"
    }
   ],
   "source": [
    "t_df"
   ]
  },
  {
   "cell_type": "code",
   "execution_count": 43,
   "metadata": {},
   "outputs": [
    {
     "data": {
      "text/plain": [
       "(498,)"
      ]
     },
     "execution_count": 43,
     "metadata": {},
     "output_type": "execute_result"
    }
   ],
   "source": [
    "# Комментарий ревьюера\n",
    "t_df.user_id.unique().shape "
   ]
  },
  {
   "cell_type": "code",
   "execution_count": 44,
   "metadata": {},
   "outputs": [],
   "source": [
    "#заменю тип количественных столбцов на int\n",
    "t_df[['calls','gb_used','messages','sum_calls_duration']] = t_df[['calls','gb_used','messages','sum_calls_duration']].astype('Int64')"
   ]
  },
  {
   "cell_type": "code",
   "execution_count": 45,
   "metadata": {},
   "outputs": [
    {
     "data": {
      "text/plain": [
       "Index(['user_id', 'first_name', 'last_name', 'age', 'city', 'tariff',\n",
       "       'reg_date', 'churn_date', 'month', 'calls', 'gb_used', 'messages',\n",
       "       'sum_calls_duration'],\n",
       "      dtype='object')"
      ]
     },
     "execution_count": 45,
     "metadata": {},
     "output_type": "execute_result"
    }
   ],
   "source": [
    "t_df.columns"
   ]
  },
  {
   "cell_type": "code",
   "execution_count": 46,
   "metadata": {},
   "outputs": [
    {
     "data": {
      "text/html": [
       "<div>\n",
       "<style scoped>\n",
       "    .dataframe tbody tr th:only-of-type {\n",
       "        vertical-align: middle;\n",
       "    }\n",
       "\n",
       "    .dataframe tbody tr th {\n",
       "        vertical-align: top;\n",
       "    }\n",
       "\n",
       "    .dataframe thead th {\n",
       "        text-align: right;\n",
       "    }\n",
       "</style>\n",
       "<table border=\"1\" class=\"dataframe\">\n",
       "  <thead>\n",
       "    <tr style=\"text-align: right;\">\n",
       "      <th></th>\n",
       "      <th>user_id</th>\n",
       "      <th>first_name</th>\n",
       "      <th>last_name</th>\n",
       "      <th>age</th>\n",
       "      <th>city</th>\n",
       "      <th>tariff</th>\n",
       "      <th>reg_date</th>\n",
       "      <th>churn_date</th>\n",
       "      <th>month</th>\n",
       "      <th>calls</th>\n",
       "      <th>gb_used</th>\n",
       "      <th>messages</th>\n",
       "      <th>sum_calls_duration</th>\n",
       "    </tr>\n",
       "  </thead>\n",
       "  <tbody>\n",
       "    <tr>\n",
       "      <th>0</th>\n",
       "      <td>1000</td>\n",
       "      <td>Рафаил</td>\n",
       "      <td>Верещагин</td>\n",
       "      <td>52</td>\n",
       "      <td>Краснодар</td>\n",
       "      <td>ultra</td>\n",
       "      <td>2018-05-25</td>\n",
       "      <td>2019-01-01</td>\n",
       "      <td>5</td>\n",
       "      <td>22</td>\n",
       "      <td>3</td>\n",
       "      <td>22</td>\n",
       "      <td>159</td>\n",
       "    </tr>\n",
       "    <tr>\n",
       "      <th>1</th>\n",
       "      <td>1000</td>\n",
       "      <td>Рафаил</td>\n",
       "      <td>Верещагин</td>\n",
       "      <td>52</td>\n",
       "      <td>Краснодар</td>\n",
       "      <td>ultra</td>\n",
       "      <td>2018-05-25</td>\n",
       "      <td>2019-01-01</td>\n",
       "      <td>6</td>\n",
       "      <td>43</td>\n",
       "      <td>23</td>\n",
       "      <td>60</td>\n",
       "      <td>172</td>\n",
       "    </tr>\n",
       "    <tr>\n",
       "      <th>2</th>\n",
       "      <td>1000</td>\n",
       "      <td>Рафаил</td>\n",
       "      <td>Верещагин</td>\n",
       "      <td>52</td>\n",
       "      <td>Краснодар</td>\n",
       "      <td>ultra</td>\n",
       "      <td>2018-05-25</td>\n",
       "      <td>2019-01-01</td>\n",
       "      <td>7</td>\n",
       "      <td>47</td>\n",
       "      <td>14</td>\n",
       "      <td>75</td>\n",
       "      <td>340</td>\n",
       "    </tr>\n",
       "    <tr>\n",
       "      <th>3</th>\n",
       "      <td>1000</td>\n",
       "      <td>Рафаил</td>\n",
       "      <td>Верещагин</td>\n",
       "      <td>52</td>\n",
       "      <td>Краснодар</td>\n",
       "      <td>ultra</td>\n",
       "      <td>2018-05-25</td>\n",
       "      <td>2019-01-01</td>\n",
       "      <td>8</td>\n",
       "      <td>52</td>\n",
       "      <td>14</td>\n",
       "      <td>81</td>\n",
       "      <td>408</td>\n",
       "    </tr>\n",
       "    <tr>\n",
       "      <th>4</th>\n",
       "      <td>1000</td>\n",
       "      <td>Рафаил</td>\n",
       "      <td>Верещагин</td>\n",
       "      <td>52</td>\n",
       "      <td>Краснодар</td>\n",
       "      <td>ultra</td>\n",
       "      <td>2018-05-25</td>\n",
       "      <td>2019-01-01</td>\n",
       "      <td>9</td>\n",
       "      <td>58</td>\n",
       "      <td>15</td>\n",
       "      <td>57</td>\n",
       "      <td>466</td>\n",
       "    </tr>\n",
       "    <tr>\n",
       "      <th>...</th>\n",
       "      <td>...</td>\n",
       "      <td>...</td>\n",
       "      <td>...</td>\n",
       "      <td>...</td>\n",
       "      <td>...</td>\n",
       "      <td>...</td>\n",
       "      <td>...</td>\n",
       "      <td>...</td>\n",
       "      <td>...</td>\n",
       "      <td>...</td>\n",
       "      <td>...</td>\n",
       "      <td>...</td>\n",
       "      <td>...</td>\n",
       "    </tr>\n",
       "    <tr>\n",
       "      <th>3209</th>\n",
       "      <td>1498</td>\n",
       "      <td>Всеволод</td>\n",
       "      <td>Акимчин</td>\n",
       "      <td>68</td>\n",
       "      <td>Владикавказ</td>\n",
       "      <td>smart</td>\n",
       "      <td>2018-07-19</td>\n",
       "      <td>2018-10-25</td>\n",
       "      <td>10</td>\n",
       "      <td>41</td>\n",
       "      <td>21</td>\n",
       "      <td>42</td>\n",
       "      <td>247</td>\n",
       "    </tr>\n",
       "    <tr>\n",
       "      <th>3210</th>\n",
       "      <td>1499</td>\n",
       "      <td>Гектор</td>\n",
       "      <td>Корнилов</td>\n",
       "      <td>35</td>\n",
       "      <td>Пермь</td>\n",
       "      <td>smart</td>\n",
       "      <td>2018-09-27</td>\n",
       "      <td>2019-01-01</td>\n",
       "      <td>9</td>\n",
       "      <td>9</td>\n",
       "      <td>2</td>\n",
       "      <td>11</td>\n",
       "      <td>70</td>\n",
       "    </tr>\n",
       "    <tr>\n",
       "      <th>3211</th>\n",
       "      <td>1499</td>\n",
       "      <td>Гектор</td>\n",
       "      <td>Корнилов</td>\n",
       "      <td>35</td>\n",
       "      <td>Пермь</td>\n",
       "      <td>smart</td>\n",
       "      <td>2018-09-27</td>\n",
       "      <td>2019-01-01</td>\n",
       "      <td>10</td>\n",
       "      <td>68</td>\n",
       "      <td>18</td>\n",
       "      <td>48</td>\n",
       "      <td>449</td>\n",
       "    </tr>\n",
       "    <tr>\n",
       "      <th>3212</th>\n",
       "      <td>1499</td>\n",
       "      <td>Гектор</td>\n",
       "      <td>Корнилов</td>\n",
       "      <td>35</td>\n",
       "      <td>Пермь</td>\n",
       "      <td>smart</td>\n",
       "      <td>2018-09-27</td>\n",
       "      <td>2019-01-01</td>\n",
       "      <td>11</td>\n",
       "      <td>74</td>\n",
       "      <td>18</td>\n",
       "      <td>59</td>\n",
       "      <td>612</td>\n",
       "    </tr>\n",
       "    <tr>\n",
       "      <th>3213</th>\n",
       "      <td>1499</td>\n",
       "      <td>Гектор</td>\n",
       "      <td>Корнилов</td>\n",
       "      <td>35</td>\n",
       "      <td>Пермь</td>\n",
       "      <td>smart</td>\n",
       "      <td>2018-09-27</td>\n",
       "      <td>2019-01-01</td>\n",
       "      <td>12</td>\n",
       "      <td>69</td>\n",
       "      <td>13</td>\n",
       "      <td>66</td>\n",
       "      <td>492</td>\n",
       "    </tr>\n",
       "  </tbody>\n",
       "</table>\n",
       "<p>3214 rows × 13 columns</p>\n",
       "</div>"
      ],
      "text/plain": [
       "      user_id first_name  last_name  age         city tariff   reg_date  \\\n",
       "0        1000     Рафаил  Верещагин   52    Краснодар  ultra 2018-05-25   \n",
       "1        1000     Рафаил  Верещагин   52    Краснодар  ultra 2018-05-25   \n",
       "2        1000     Рафаил  Верещагин   52    Краснодар  ultra 2018-05-25   \n",
       "3        1000     Рафаил  Верещагин   52    Краснодар  ultra 2018-05-25   \n",
       "4        1000     Рафаил  Верещагин   52    Краснодар  ultra 2018-05-25   \n",
       "...       ...        ...        ...  ...          ...    ...        ...   \n",
       "3209     1498   Всеволод    Акимчин   68  Владикавказ  smart 2018-07-19   \n",
       "3210     1499     Гектор   Корнилов   35        Пермь  smart 2018-09-27   \n",
       "3211     1499     Гектор   Корнилов   35        Пермь  smart 2018-09-27   \n",
       "3212     1499     Гектор   Корнилов   35        Пермь  smart 2018-09-27   \n",
       "3213     1499     Гектор   Корнилов   35        Пермь  smart 2018-09-27   \n",
       "\n",
       "     churn_date  month  calls  gb_used  messages  sum_calls_duration  \n",
       "0    2019-01-01      5     22        3        22                 159  \n",
       "1    2019-01-01      6     43       23        60                 172  \n",
       "2    2019-01-01      7     47       14        75                 340  \n",
       "3    2019-01-01      8     52       14        81                 408  \n",
       "4    2019-01-01      9     58       15        57                 466  \n",
       "...         ...    ...    ...      ...       ...                 ...  \n",
       "3209 2018-10-25     10     41       21        42                 247  \n",
       "3210 2019-01-01      9      9        2        11                  70  \n",
       "3211 2019-01-01     10     68       18        48                 449  \n",
       "3212 2019-01-01     11     74       18        59                 612  \n",
       "3213 2019-01-01     12     69       13        66                 492  \n",
       "\n",
       "[3214 rows x 13 columns]"
      ]
     },
     "execution_count": 46,
     "metadata": {},
     "output_type": "execute_result"
    }
   ],
   "source": [
    "t_df"
   ]
  },
  {
   "cell_type": "markdown",
   "metadata": {},
   "source": [
    "Теперь нужно посчитать выручку с каждого пользователя"
   ]
  },
  {
   "cell_type": "code",
   "execution_count": 47,
   "metadata": {},
   "outputs": [],
   "source": [
    "tar['gb_per_month_included'] = np.ceil(tar['mb_per_month_included']/1024)"
   ]
  },
  {
   "cell_type": "code",
   "execution_count": 48,
   "metadata": {},
   "outputs": [
    {
     "data": {
      "text/html": [
       "<div>\n",
       "<style scoped>\n",
       "    .dataframe tbody tr th:only-of-type {\n",
       "        vertical-align: middle;\n",
       "    }\n",
       "\n",
       "    .dataframe tbody tr th {\n",
       "        vertical-align: top;\n",
       "    }\n",
       "\n",
       "    .dataframe thead th {\n",
       "        text-align: right;\n",
       "    }\n",
       "</style>\n",
       "<table border=\"1\" class=\"dataframe\">\n",
       "  <thead>\n",
       "    <tr style=\"text-align: right;\">\n",
       "      <th></th>\n",
       "      <th>messages_included</th>\n",
       "      <th>mb_per_month_included</th>\n",
       "      <th>minutes_included</th>\n",
       "      <th>rub_monthly_fee</th>\n",
       "      <th>rub_per_gb</th>\n",
       "      <th>rub_per_message</th>\n",
       "      <th>rub_per_minute</th>\n",
       "      <th>tariff_name</th>\n",
       "      <th>gb_per_month_included</th>\n",
       "    </tr>\n",
       "  </thead>\n",
       "  <tbody>\n",
       "    <tr>\n",
       "      <th>0</th>\n",
       "      <td>50</td>\n",
       "      <td>15360</td>\n",
       "      <td>500</td>\n",
       "      <td>550</td>\n",
       "      <td>200</td>\n",
       "      <td>3</td>\n",
       "      <td>3</td>\n",
       "      <td>smart</td>\n",
       "      <td>15.0</td>\n",
       "    </tr>\n",
       "    <tr>\n",
       "      <th>1</th>\n",
       "      <td>1000</td>\n",
       "      <td>30720</td>\n",
       "      <td>3000</td>\n",
       "      <td>1950</td>\n",
       "      <td>150</td>\n",
       "      <td>1</td>\n",
       "      <td>1</td>\n",
       "      <td>ultra</td>\n",
       "      <td>30.0</td>\n",
       "    </tr>\n",
       "  </tbody>\n",
       "</table>\n",
       "</div>"
      ],
      "text/plain": [
       "   messages_included  mb_per_month_included  minutes_included  \\\n",
       "0                 50                  15360               500   \n",
       "1               1000                  30720              3000   \n",
       "\n",
       "   rub_monthly_fee  rub_per_gb  rub_per_message  rub_per_minute tariff_name  \\\n",
       "0              550         200                3               3       smart   \n",
       "1             1950         150                1               1       ultra   \n",
       "\n",
       "   gb_per_month_included  \n",
       "0                   15.0  \n",
       "1                   30.0  "
      ]
     },
     "execution_count": 48,
     "metadata": {},
     "output_type": "execute_result"
    }
   ],
   "source": [
    "tar"
   ]
  },
  {
   "cell_type": "code",
   "execution_count": 49,
   "metadata": {},
   "outputs": [],
   "source": [
    "def rev(r):\n",
    "    if r['tariff'] == 'smart':\n",
    "        if r['messages'] > tar.loc[0, 'messages_included']:\n",
    "            ex_mes = (r['messages']-tar.loc[0, 'messages_included'])*tar.loc[0, 'rub_per_message']\n",
    "        else:\n",
    "            ex_mes = 0\n",
    "        if r['gb_used'] > tar.loc[0, 'gb_per_month_included']:\n",
    "            ex_gb = (r['gb_used']-tar.loc[0, 'gb_per_month_included'])*tar.loc[0, 'rub_per_gb']\n",
    "        else:\n",
    "            ex_gb = 0\n",
    "        if r['sum_calls_duration'] > tar.loc[0, 'minutes_included']:\n",
    "            ex_dur = (r['sum_calls_duration']-tar.loc[0, 'minutes_included'])*tar.loc[0, 'rub_per_minute']\n",
    "        else:\n",
    "            ex_dur = 0\n",
    "        revenue = ex_mes+ex_gb+ex_dur + tar.loc[0, 'rub_monthly_fee']\n",
    "    else:\n",
    "        if r['messages'] > tar.loc[1, 'messages_included']:\n",
    "            ex_mes = (r['messages']-tar.loc[1, 'messages_included'])*tar.loc[1, 'rub_per_message']\n",
    "        else:\n",
    "            ex_mes = 0\n",
    "        if r['gb_used'] > tar.loc[1, 'gb_per_month_included']:\n",
    "            ex_gb = (r['gb_used']-tar.loc[1, 'gb_per_month_included'])*tar.loc[1, 'rub_per_gb']\n",
    "        else:\n",
    "            ex_gb = 0\n",
    "        if r['sum_calls_duration'] > tar.loc[1, 'minutes_included']:\n",
    "            ex_dur = (r['sum_calls_duration']-tar.loc[1, 'minutes_included'])*tar.loc[1, 'rub_per_minute']\n",
    "        else:\n",
    "            ex_dur = 0\n",
    "        revenue = ex_mes+ex_gb+ex_dur+tar.loc[1, 'rub_monthly_fee']\n",
    "    return revenue"
   ]
  },
  {
   "cell_type": "code",
   "execution_count": 50,
   "metadata": {},
   "outputs": [],
   "source": [
    "t_df['revenue'] = t_df.apply(rev, axis=1)"
   ]
  },
  {
   "cell_type": "code",
   "execution_count": 51,
   "metadata": {},
   "outputs": [
    {
     "data": {
      "text/html": [
       "<div>\n",
       "<style scoped>\n",
       "    .dataframe tbody tr th:only-of-type {\n",
       "        vertical-align: middle;\n",
       "    }\n",
       "\n",
       "    .dataframe tbody tr th {\n",
       "        vertical-align: top;\n",
       "    }\n",
       "\n",
       "    .dataframe thead th {\n",
       "        text-align: right;\n",
       "    }\n",
       "</style>\n",
       "<table border=\"1\" class=\"dataframe\">\n",
       "  <thead>\n",
       "    <tr style=\"text-align: right;\">\n",
       "      <th></th>\n",
       "      <th>user_id</th>\n",
       "      <th>first_name</th>\n",
       "      <th>last_name</th>\n",
       "      <th>age</th>\n",
       "      <th>city</th>\n",
       "      <th>tariff</th>\n",
       "      <th>reg_date</th>\n",
       "      <th>churn_date</th>\n",
       "      <th>month</th>\n",
       "      <th>calls</th>\n",
       "      <th>gb_used</th>\n",
       "      <th>messages</th>\n",
       "      <th>sum_calls_duration</th>\n",
       "      <th>revenue</th>\n",
       "    </tr>\n",
       "  </thead>\n",
       "  <tbody>\n",
       "    <tr>\n",
       "      <th>0</th>\n",
       "      <td>1000</td>\n",
       "      <td>Рафаил</td>\n",
       "      <td>Верещагин</td>\n",
       "      <td>52</td>\n",
       "      <td>Краснодар</td>\n",
       "      <td>ultra</td>\n",
       "      <td>2018-05-25</td>\n",
       "      <td>2019-01-01</td>\n",
       "      <td>5</td>\n",
       "      <td>22</td>\n",
       "      <td>3</td>\n",
       "      <td>22</td>\n",
       "      <td>159</td>\n",
       "      <td>1950.0</td>\n",
       "    </tr>\n",
       "    <tr>\n",
       "      <th>1</th>\n",
       "      <td>1000</td>\n",
       "      <td>Рафаил</td>\n",
       "      <td>Верещагин</td>\n",
       "      <td>52</td>\n",
       "      <td>Краснодар</td>\n",
       "      <td>ultra</td>\n",
       "      <td>2018-05-25</td>\n",
       "      <td>2019-01-01</td>\n",
       "      <td>6</td>\n",
       "      <td>43</td>\n",
       "      <td>23</td>\n",
       "      <td>60</td>\n",
       "      <td>172</td>\n",
       "      <td>1950.0</td>\n",
       "    </tr>\n",
       "    <tr>\n",
       "      <th>2</th>\n",
       "      <td>1000</td>\n",
       "      <td>Рафаил</td>\n",
       "      <td>Верещагин</td>\n",
       "      <td>52</td>\n",
       "      <td>Краснодар</td>\n",
       "      <td>ultra</td>\n",
       "      <td>2018-05-25</td>\n",
       "      <td>2019-01-01</td>\n",
       "      <td>7</td>\n",
       "      <td>47</td>\n",
       "      <td>14</td>\n",
       "      <td>75</td>\n",
       "      <td>340</td>\n",
       "      <td>1950.0</td>\n",
       "    </tr>\n",
       "    <tr>\n",
       "      <th>3</th>\n",
       "      <td>1000</td>\n",
       "      <td>Рафаил</td>\n",
       "      <td>Верещагин</td>\n",
       "      <td>52</td>\n",
       "      <td>Краснодар</td>\n",
       "      <td>ultra</td>\n",
       "      <td>2018-05-25</td>\n",
       "      <td>2019-01-01</td>\n",
       "      <td>8</td>\n",
       "      <td>52</td>\n",
       "      <td>14</td>\n",
       "      <td>81</td>\n",
       "      <td>408</td>\n",
       "      <td>1950.0</td>\n",
       "    </tr>\n",
       "    <tr>\n",
       "      <th>4</th>\n",
       "      <td>1000</td>\n",
       "      <td>Рафаил</td>\n",
       "      <td>Верещагин</td>\n",
       "      <td>52</td>\n",
       "      <td>Краснодар</td>\n",
       "      <td>ultra</td>\n",
       "      <td>2018-05-25</td>\n",
       "      <td>2019-01-01</td>\n",
       "      <td>9</td>\n",
       "      <td>58</td>\n",
       "      <td>15</td>\n",
       "      <td>57</td>\n",
       "      <td>466</td>\n",
       "      <td>1950.0</td>\n",
       "    </tr>\n",
       "    <tr>\n",
       "      <th>...</th>\n",
       "      <td>...</td>\n",
       "      <td>...</td>\n",
       "      <td>...</td>\n",
       "      <td>...</td>\n",
       "      <td>...</td>\n",
       "      <td>...</td>\n",
       "      <td>...</td>\n",
       "      <td>...</td>\n",
       "      <td>...</td>\n",
       "      <td>...</td>\n",
       "      <td>...</td>\n",
       "      <td>...</td>\n",
       "      <td>...</td>\n",
       "      <td>...</td>\n",
       "    </tr>\n",
       "    <tr>\n",
       "      <th>3209</th>\n",
       "      <td>1498</td>\n",
       "      <td>Всеволод</td>\n",
       "      <td>Акимчин</td>\n",
       "      <td>68</td>\n",
       "      <td>Владикавказ</td>\n",
       "      <td>smart</td>\n",
       "      <td>2018-07-19</td>\n",
       "      <td>2018-10-25</td>\n",
       "      <td>10</td>\n",
       "      <td>41</td>\n",
       "      <td>21</td>\n",
       "      <td>42</td>\n",
       "      <td>247</td>\n",
       "      <td>1750.0</td>\n",
       "    </tr>\n",
       "    <tr>\n",
       "      <th>3210</th>\n",
       "      <td>1499</td>\n",
       "      <td>Гектор</td>\n",
       "      <td>Корнилов</td>\n",
       "      <td>35</td>\n",
       "      <td>Пермь</td>\n",
       "      <td>smart</td>\n",
       "      <td>2018-09-27</td>\n",
       "      <td>2019-01-01</td>\n",
       "      <td>9</td>\n",
       "      <td>9</td>\n",
       "      <td>2</td>\n",
       "      <td>11</td>\n",
       "      <td>70</td>\n",
       "      <td>550.0</td>\n",
       "    </tr>\n",
       "    <tr>\n",
       "      <th>3211</th>\n",
       "      <td>1499</td>\n",
       "      <td>Гектор</td>\n",
       "      <td>Корнилов</td>\n",
       "      <td>35</td>\n",
       "      <td>Пермь</td>\n",
       "      <td>smart</td>\n",
       "      <td>2018-09-27</td>\n",
       "      <td>2019-01-01</td>\n",
       "      <td>10</td>\n",
       "      <td>68</td>\n",
       "      <td>18</td>\n",
       "      <td>48</td>\n",
       "      <td>449</td>\n",
       "      <td>1150.0</td>\n",
       "    </tr>\n",
       "    <tr>\n",
       "      <th>3212</th>\n",
       "      <td>1499</td>\n",
       "      <td>Гектор</td>\n",
       "      <td>Корнилов</td>\n",
       "      <td>35</td>\n",
       "      <td>Пермь</td>\n",
       "      <td>smart</td>\n",
       "      <td>2018-09-27</td>\n",
       "      <td>2019-01-01</td>\n",
       "      <td>11</td>\n",
       "      <td>74</td>\n",
       "      <td>18</td>\n",
       "      <td>59</td>\n",
       "      <td>612</td>\n",
       "      <td>1513.0</td>\n",
       "    </tr>\n",
       "    <tr>\n",
       "      <th>3213</th>\n",
       "      <td>1499</td>\n",
       "      <td>Гектор</td>\n",
       "      <td>Корнилов</td>\n",
       "      <td>35</td>\n",
       "      <td>Пермь</td>\n",
       "      <td>smart</td>\n",
       "      <td>2018-09-27</td>\n",
       "      <td>2019-01-01</td>\n",
       "      <td>12</td>\n",
       "      <td>69</td>\n",
       "      <td>13</td>\n",
       "      <td>66</td>\n",
       "      <td>492</td>\n",
       "      <td>598.0</td>\n",
       "    </tr>\n",
       "  </tbody>\n",
       "</table>\n",
       "<p>3214 rows × 14 columns</p>\n",
       "</div>"
      ],
      "text/plain": [
       "      user_id first_name  last_name  age         city tariff   reg_date  \\\n",
       "0        1000     Рафаил  Верещагин   52    Краснодар  ultra 2018-05-25   \n",
       "1        1000     Рафаил  Верещагин   52    Краснодар  ultra 2018-05-25   \n",
       "2        1000     Рафаил  Верещагин   52    Краснодар  ultra 2018-05-25   \n",
       "3        1000     Рафаил  Верещагин   52    Краснодар  ultra 2018-05-25   \n",
       "4        1000     Рафаил  Верещагин   52    Краснодар  ultra 2018-05-25   \n",
       "...       ...        ...        ...  ...          ...    ...        ...   \n",
       "3209     1498   Всеволод    Акимчин   68  Владикавказ  smart 2018-07-19   \n",
       "3210     1499     Гектор   Корнилов   35        Пермь  smart 2018-09-27   \n",
       "3211     1499     Гектор   Корнилов   35        Пермь  smart 2018-09-27   \n",
       "3212     1499     Гектор   Корнилов   35        Пермь  smart 2018-09-27   \n",
       "3213     1499     Гектор   Корнилов   35        Пермь  smart 2018-09-27   \n",
       "\n",
       "     churn_date  month  calls  gb_used  messages  sum_calls_duration  revenue  \n",
       "0    2019-01-01      5     22        3        22                 159   1950.0  \n",
       "1    2019-01-01      6     43       23        60                 172   1950.0  \n",
       "2    2019-01-01      7     47       14        75                 340   1950.0  \n",
       "3    2019-01-01      8     52       14        81                 408   1950.0  \n",
       "4    2019-01-01      9     58       15        57                 466   1950.0  \n",
       "...         ...    ...    ...      ...       ...                 ...      ...  \n",
       "3209 2018-10-25     10     41       21        42                 247   1750.0  \n",
       "3210 2019-01-01      9      9        2        11                  70    550.0  \n",
       "3211 2019-01-01     10     68       18        48                 449   1150.0  \n",
       "3212 2019-01-01     11     74       18        59                 612   1513.0  \n",
       "3213 2019-01-01     12     69       13        66                 492    598.0  \n",
       "\n",
       "[3214 rows x 14 columns]"
      ]
     },
     "execution_count": 51,
     "metadata": {},
     "output_type": "execute_result"
    }
   ],
   "source": [
    "t_df"
   ]
  },
  {
   "cell_type": "markdown",
   "metadata": {},
   "source": [
    "И того мы добавили все нужные рассчёты и посчитали выручку с каждого пользователя по месяцам, теперь можно проводить исследование."
   ]
  },
  {
   "cell_type": "markdown",
   "metadata": {},
   "source": [
    "## Анализ данных"
   ]
  },
  {
   "cell_type": "markdown",
   "metadata": {},
   "source": [
    "### Группировка данных"
   ]
  },
  {
   "cell_type": "code",
   "execution_count": 52,
   "metadata": {},
   "outputs": [],
   "source": [
    "means = t_df.groupby(['user_id','tariff'])[['sum_calls_duration', 'messages', 'gb_used', 'revenue']].agg('mean').reset_index()"
   ]
  },
  {
   "cell_type": "code",
   "execution_count": 53,
   "metadata": {},
   "outputs": [
    {
     "data": {
      "text/html": [
       "<div>\n",
       "<style scoped>\n",
       "    .dataframe tbody tr th:only-of-type {\n",
       "        vertical-align: middle;\n",
       "    }\n",
       "\n",
       "    .dataframe tbody tr th {\n",
       "        vertical-align: top;\n",
       "    }\n",
       "\n",
       "    .dataframe thead th {\n",
       "        text-align: right;\n",
       "    }\n",
       "</style>\n",
       "<table border=\"1\" class=\"dataframe\">\n",
       "  <thead>\n",
       "    <tr style=\"text-align: right;\">\n",
       "      <th></th>\n",
       "      <th>user_id</th>\n",
       "      <th>tariff</th>\n",
       "      <th>sum_calls_duration</th>\n",
       "      <th>messages</th>\n",
       "      <th>gb_used</th>\n",
       "      <th>revenue</th>\n",
       "    </tr>\n",
       "  </thead>\n",
       "  <tbody>\n",
       "    <tr>\n",
       "      <th>0</th>\n",
       "      <td>1000</td>\n",
       "      <td>ultra</td>\n",
       "      <td>320.75</td>\n",
       "      <td>62.0</td>\n",
       "      <td>13.625</td>\n",
       "      <td>1950.000000</td>\n",
       "    </tr>\n",
       "    <tr>\n",
       "      <th>1</th>\n",
       "      <td>1001</td>\n",
       "      <td>smart</td>\n",
       "      <td>422.0</td>\n",
       "      <td>0.0</td>\n",
       "      <td>16.0</td>\n",
       "      <td>850.000000</td>\n",
       "    </tr>\n",
       "    <tr>\n",
       "      <th>2</th>\n",
       "      <td>1002</td>\n",
       "      <td>smart</td>\n",
       "      <td>216.714286</td>\n",
       "      <td>10.0</td>\n",
       "      <td>16.714286</td>\n",
       "      <td>1035.714286</td>\n",
       "    </tr>\n",
       "    <tr>\n",
       "      <th>3</th>\n",
       "      <td>1003</td>\n",
       "      <td>ultra</td>\n",
       "      <td>764.4</td>\n",
       "      <td>76.0</td>\n",
       "      <td>11.8</td>\n",
       "      <td>1950.000000</td>\n",
       "    </tr>\n",
       "    <tr>\n",
       "      <th>4</th>\n",
       "      <td>1004</td>\n",
       "      <td>ultra</td>\n",
       "      <td>123.375</td>\n",
       "      <td>149.0</td>\n",
       "      <td>18.75</td>\n",
       "      <td>1950.000000</td>\n",
       "    </tr>\n",
       "    <tr>\n",
       "      <th>...</th>\n",
       "      <td>...</td>\n",
       "      <td>...</td>\n",
       "      <td>...</td>\n",
       "      <td>...</td>\n",
       "      <td>...</td>\n",
       "      <td>...</td>\n",
       "    </tr>\n",
       "    <tr>\n",
       "      <th>493</th>\n",
       "      <td>1495</td>\n",
       "      <td>ultra</td>\n",
       "      <td>784.0</td>\n",
       "      <td>68.0</td>\n",
       "      <td>25.4</td>\n",
       "      <td>2310.000000</td>\n",
       "    </tr>\n",
       "    <tr>\n",
       "      <th>494</th>\n",
       "      <td>1496</td>\n",
       "      <td>smart</td>\n",
       "      <td>498.666667</td>\n",
       "      <td>39.0</td>\n",
       "      <td>22.5</td>\n",
       "      <td>2362.583333</td>\n",
       "    </tr>\n",
       "    <tr>\n",
       "      <th>495</th>\n",
       "      <td>1497</td>\n",
       "      <td>smart</td>\n",
       "      <td>468.666667</td>\n",
       "      <td>17.0</td>\n",
       "      <td>15.333333</td>\n",
       "      <td>928.333333</td>\n",
       "    </tr>\n",
       "    <tr>\n",
       "      <th>496</th>\n",
       "      <td>1498</td>\n",
       "      <td>smart</td>\n",
       "      <td>323.25</td>\n",
       "      <td>42.0</td>\n",
       "      <td>18.75</td>\n",
       "      <td>1659.000000</td>\n",
       "    </tr>\n",
       "    <tr>\n",
       "      <th>497</th>\n",
       "      <td>1499</td>\n",
       "      <td>smart</td>\n",
       "      <td>405.75</td>\n",
       "      <td>46.0</td>\n",
       "      <td>12.75</td>\n",
       "      <td>952.750000</td>\n",
       "    </tr>\n",
       "  </tbody>\n",
       "</table>\n",
       "<p>498 rows × 6 columns</p>\n",
       "</div>"
      ],
      "text/plain": [
       "     user_id tariff  sum_calls_duration  messages    gb_used      revenue\n",
       "0       1000  ultra              320.75      62.0     13.625  1950.000000\n",
       "1       1001  smart               422.0       0.0       16.0   850.000000\n",
       "2       1002  smart          216.714286      10.0  16.714286  1035.714286\n",
       "3       1003  ultra               764.4      76.0       11.8  1950.000000\n",
       "4       1004  ultra             123.375     149.0      18.75  1950.000000\n",
       "..       ...    ...                 ...       ...        ...          ...\n",
       "493     1495  ultra               784.0      68.0       25.4  2310.000000\n",
       "494     1496  smart          498.666667      39.0       22.5  2362.583333\n",
       "495     1497  smart          468.666667      17.0  15.333333   928.333333\n",
       "496     1498  smart              323.25      42.0      18.75  1659.000000\n",
       "497     1499  smart              405.75      46.0      12.75   952.750000\n",
       "\n",
       "[498 rows x 6 columns]"
      ]
     },
     "execution_count": 53,
     "metadata": {},
     "output_type": "execute_result"
    }
   ],
   "source": [
    "means"
   ]
  },
  {
   "cell_type": "code",
   "execution_count": 54,
   "metadata": {},
   "outputs": [
    {
     "data": {
      "text/html": [
       "<div>\n",
       "<style scoped>\n",
       "    .dataframe tbody tr th:only-of-type {\n",
       "        vertical-align: middle;\n",
       "    }\n",
       "\n",
       "    .dataframe tbody tr th {\n",
       "        vertical-align: top;\n",
       "    }\n",
       "\n",
       "    .dataframe thead th {\n",
       "        text-align: right;\n",
       "    }\n",
       "</style>\n",
       "<table border=\"1\" class=\"dataframe\">\n",
       "  <thead>\n",
       "    <tr style=\"text-align: right;\">\n",
       "      <th></th>\n",
       "      <th>user_id</th>\n",
       "      <th>tariff</th>\n",
       "      <th>sum_calls_duration</th>\n",
       "      <th>messages</th>\n",
       "      <th>gb_used</th>\n",
       "      <th>revenue</th>\n",
       "    </tr>\n",
       "  </thead>\n",
       "  <tbody>\n",
       "    <tr>\n",
       "      <th>250</th>\n",
       "      <td>1251</td>\n",
       "      <td>smart</td>\n",
       "      <td>434.090909</td>\n",
       "      <td>85.0</td>\n",
       "      <td>22.181818</td>\n",
       "      <td>2120.000000</td>\n",
       "    </tr>\n",
       "    <tr>\n",
       "      <th>418</th>\n",
       "      <td>1420</td>\n",
       "      <td>smart</td>\n",
       "      <td>180.75</td>\n",
       "      <td>11.0</td>\n",
       "      <td>23.75</td>\n",
       "      <td>2450.000000</td>\n",
       "    </tr>\n",
       "    <tr>\n",
       "      <th>208</th>\n",
       "      <td>1209</td>\n",
       "      <td>smart</td>\n",
       "      <td>312.0</td>\n",
       "      <td>74.0</td>\n",
       "      <td>19.428571</td>\n",
       "      <td>1507.714286</td>\n",
       "    </tr>\n",
       "    <tr>\n",
       "      <th>202</th>\n",
       "      <td>1203</td>\n",
       "      <td>ultra</td>\n",
       "      <td>512.1</td>\n",
       "      <td>28.0</td>\n",
       "      <td>8.9</td>\n",
       "      <td>1950.000000</td>\n",
       "    </tr>\n",
       "    <tr>\n",
       "      <th>435</th>\n",
       "      <td>1437</td>\n",
       "      <td>smart</td>\n",
       "      <td>267.0</td>\n",
       "      <td>14.0</td>\n",
       "      <td>21.4</td>\n",
       "      <td>1830.000000</td>\n",
       "    </tr>\n",
       "    <tr>\n",
       "      <th>299</th>\n",
       "      <td>1300</td>\n",
       "      <td>ultra</td>\n",
       "      <td>590.166667</td>\n",
       "      <td>154.0</td>\n",
       "      <td>31.833333</td>\n",
       "      <td>2800.000000</td>\n",
       "    </tr>\n",
       "    <tr>\n",
       "      <th>95</th>\n",
       "      <td>1095</td>\n",
       "      <td>smart</td>\n",
       "      <td>540.0</td>\n",
       "      <td>0.0</td>\n",
       "      <td>18.0</td>\n",
       "      <td>1270.000000</td>\n",
       "    </tr>\n",
       "    <tr>\n",
       "      <th>483</th>\n",
       "      <td>1485</td>\n",
       "      <td>ultra</td>\n",
       "      <td>584.0</td>\n",
       "      <td>155.0</td>\n",
       "      <td>23.0</td>\n",
       "      <td>1950.000000</td>\n",
       "    </tr>\n",
       "    <tr>\n",
       "      <th>379</th>\n",
       "      <td>1381</td>\n",
       "      <td>ultra</td>\n",
       "      <td>660.083333</td>\n",
       "      <td>41.0</td>\n",
       "      <td>25.166667</td>\n",
       "      <td>1975.000000</td>\n",
       "    </tr>\n",
       "    <tr>\n",
       "      <th>69</th>\n",
       "      <td>1069</td>\n",
       "      <td>smart</td>\n",
       "      <td>349.0</td>\n",
       "      <td>56.0</td>\n",
       "      <td>12.0</td>\n",
       "      <td>568.000000</td>\n",
       "    </tr>\n",
       "  </tbody>\n",
       "</table>\n",
       "</div>"
      ],
      "text/plain": [
       "     user_id tariff  sum_calls_duration  messages    gb_used      revenue\n",
       "250     1251  smart          434.090909      85.0  22.181818  2120.000000\n",
       "418     1420  smart              180.75      11.0      23.75  2450.000000\n",
       "208     1209  smart               312.0      74.0  19.428571  1507.714286\n",
       "202     1203  ultra               512.1      28.0        8.9  1950.000000\n",
       "435     1437  smart               267.0      14.0       21.4  1830.000000\n",
       "299     1300  ultra          590.166667     154.0  31.833333  2800.000000\n",
       "95      1095  smart               540.0       0.0       18.0  1270.000000\n",
       "483     1485  ultra               584.0     155.0       23.0  1950.000000\n",
       "379     1381  ultra          660.083333      41.0  25.166667  1975.000000\n",
       "69      1069  smart               349.0      56.0       12.0   568.000000"
      ]
     },
     "execution_count": 54,
     "metadata": {},
     "output_type": "execute_result"
    }
   ],
   "source": [
    "means.sample(10)"
   ]
  },
  {
   "cell_type": "code",
   "execution_count": 55,
   "metadata": {},
   "outputs": [
    {
     "data": {
      "text/html": [
       "<div>\n",
       "<style scoped>\n",
       "    .dataframe tbody tr th:only-of-type {\n",
       "        vertical-align: middle;\n",
       "    }\n",
       "\n",
       "    .dataframe tbody tr th {\n",
       "        vertical-align: top;\n",
       "    }\n",
       "\n",
       "    .dataframe thead th {\n",
       "        text-align: right;\n",
       "    }\n",
       "</style>\n",
       "<table border=\"1\" class=\"dataframe\">\n",
       "  <thead>\n",
       "    <tr style=\"text-align: right;\">\n",
       "      <th></th>\n",
       "      <th>user_id</th>\n",
       "      <th>first_name</th>\n",
       "      <th>last_name</th>\n",
       "      <th>age</th>\n",
       "      <th>city</th>\n",
       "      <th>tariff</th>\n",
       "      <th>reg_date</th>\n",
       "      <th>churn_date</th>\n",
       "      <th>month</th>\n",
       "      <th>calls</th>\n",
       "      <th>gb_used</th>\n",
       "      <th>messages</th>\n",
       "      <th>sum_calls_duration</th>\n",
       "      <th>revenue</th>\n",
       "    </tr>\n",
       "  </thead>\n",
       "  <tbody>\n",
       "    <tr>\n",
       "      <th>17</th>\n",
       "      <td>1003</td>\n",
       "      <td>Белла</td>\n",
       "      <td>Белякова</td>\n",
       "      <td>23</td>\n",
       "      <td>Москва</td>\n",
       "      <td>ultra</td>\n",
       "      <td>2018-08-17</td>\n",
       "      <td>2019-01-01</td>\n",
       "      <td>8</td>\n",
       "      <td>55</td>\n",
       "      <td>9</td>\n",
       "      <td>37</td>\n",
       "      <td>380</td>\n",
       "      <td>1950.0</td>\n",
       "    </tr>\n",
       "    <tr>\n",
       "      <th>18</th>\n",
       "      <td>1003</td>\n",
       "      <td>Белла</td>\n",
       "      <td>Белякова</td>\n",
       "      <td>23</td>\n",
       "      <td>Москва</td>\n",
       "      <td>ultra</td>\n",
       "      <td>2018-08-17</td>\n",
       "      <td>2019-01-01</td>\n",
       "      <td>9</td>\n",
       "      <td>134</td>\n",
       "      <td>13</td>\n",
       "      <td>91</td>\n",
       "      <td>961</td>\n",
       "      <td>1950.0</td>\n",
       "    </tr>\n",
       "    <tr>\n",
       "      <th>19</th>\n",
       "      <td>1003</td>\n",
       "      <td>Белла</td>\n",
       "      <td>Белякова</td>\n",
       "      <td>23</td>\n",
       "      <td>Москва</td>\n",
       "      <td>ultra</td>\n",
       "      <td>2018-08-17</td>\n",
       "      <td>2019-01-01</td>\n",
       "      <td>10</td>\n",
       "      <td>108</td>\n",
       "      <td>15</td>\n",
       "      <td>83</td>\n",
       "      <td>855</td>\n",
       "      <td>1950.0</td>\n",
       "    </tr>\n",
       "    <tr>\n",
       "      <th>20</th>\n",
       "      <td>1003</td>\n",
       "      <td>Белла</td>\n",
       "      <td>Белякова</td>\n",
       "      <td>23</td>\n",
       "      <td>Москва</td>\n",
       "      <td>ultra</td>\n",
       "      <td>2018-08-17</td>\n",
       "      <td>2019-01-01</td>\n",
       "      <td>11</td>\n",
       "      <td>115</td>\n",
       "      <td>12</td>\n",
       "      <td>94</td>\n",
       "      <td>824</td>\n",
       "      <td>1950.0</td>\n",
       "    </tr>\n",
       "    <tr>\n",
       "      <th>21</th>\n",
       "      <td>1003</td>\n",
       "      <td>Белла</td>\n",
       "      <td>Белякова</td>\n",
       "      <td>23</td>\n",
       "      <td>Москва</td>\n",
       "      <td>ultra</td>\n",
       "      <td>2018-08-17</td>\n",
       "      <td>2019-01-01</td>\n",
       "      <td>12</td>\n",
       "      <td>108</td>\n",
       "      <td>10</td>\n",
       "      <td>75</td>\n",
       "      <td>802</td>\n",
       "      <td>1950.0</td>\n",
       "    </tr>\n",
       "    <tr>\n",
       "      <th>3191</th>\n",
       "      <td>1496</td>\n",
       "      <td>Трифон</td>\n",
       "      <td>Блохин</td>\n",
       "      <td>36</td>\n",
       "      <td>Вологда</td>\n",
       "      <td>smart</td>\n",
       "      <td>2018-01-27</td>\n",
       "      <td>2019-01-01</td>\n",
       "      <td>1</td>\n",
       "      <td>7</td>\n",
       "      <td>4</td>\n",
       "      <td>9</td>\n",
       "      <td>48</td>\n",
       "      <td>550.0</td>\n",
       "    </tr>\n",
       "    <tr>\n",
       "      <th>3192</th>\n",
       "      <td>1496</td>\n",
       "      <td>Трифон</td>\n",
       "      <td>Блохин</td>\n",
       "      <td>36</td>\n",
       "      <td>Вологда</td>\n",
       "      <td>smart</td>\n",
       "      <td>2018-01-27</td>\n",
       "      <td>2019-01-01</td>\n",
       "      <td>2</td>\n",
       "      <td>77</td>\n",
       "      <td>28</td>\n",
       "      <td>45</td>\n",
       "      <td>594</td>\n",
       "      <td>3432.0</td>\n",
       "    </tr>\n",
       "    <tr>\n",
       "      <th>3193</th>\n",
       "      <td>1496</td>\n",
       "      <td>Трифон</td>\n",
       "      <td>Блохин</td>\n",
       "      <td>36</td>\n",
       "      <td>Вологда</td>\n",
       "      <td>smart</td>\n",
       "      <td>2018-01-27</td>\n",
       "      <td>2019-01-01</td>\n",
       "      <td>3</td>\n",
       "      <td>79</td>\n",
       "      <td>25</td>\n",
       "      <td>46</td>\n",
       "      <td>557</td>\n",
       "      <td>2721.0</td>\n",
       "    </tr>\n",
       "    <tr>\n",
       "      <th>3194</th>\n",
       "      <td>1496</td>\n",
       "      <td>Трифон</td>\n",
       "      <td>Блохин</td>\n",
       "      <td>36</td>\n",
       "      <td>Вологда</td>\n",
       "      <td>smart</td>\n",
       "      <td>2018-01-27</td>\n",
       "      <td>2019-01-01</td>\n",
       "      <td>4</td>\n",
       "      <td>67</td>\n",
       "      <td>21</td>\n",
       "      <td>49</td>\n",
       "      <td>521</td>\n",
       "      <td>1813.0</td>\n",
       "    </tr>\n",
       "    <tr>\n",
       "      <th>3195</th>\n",
       "      <td>1496</td>\n",
       "      <td>Трифон</td>\n",
       "      <td>Блохин</td>\n",
       "      <td>36</td>\n",
       "      <td>Вологда</td>\n",
       "      <td>smart</td>\n",
       "      <td>2018-01-27</td>\n",
       "      <td>2019-01-01</td>\n",
       "      <td>5</td>\n",
       "      <td>63</td>\n",
       "      <td>24</td>\n",
       "      <td>40</td>\n",
       "      <td>484</td>\n",
       "      <td>2350.0</td>\n",
       "    </tr>\n",
       "    <tr>\n",
       "      <th>3196</th>\n",
       "      <td>1496</td>\n",
       "      <td>Трифон</td>\n",
       "      <td>Блохин</td>\n",
       "      <td>36</td>\n",
       "      <td>Вологда</td>\n",
       "      <td>smart</td>\n",
       "      <td>2018-01-27</td>\n",
       "      <td>2019-01-01</td>\n",
       "      <td>6</td>\n",
       "      <td>74</td>\n",
       "      <td>20</td>\n",
       "      <td>35</td>\n",
       "      <td>555</td>\n",
       "      <td>1715.0</td>\n",
       "    </tr>\n",
       "    <tr>\n",
       "      <th>3197</th>\n",
       "      <td>1496</td>\n",
       "      <td>Трифон</td>\n",
       "      <td>Блохин</td>\n",
       "      <td>36</td>\n",
       "      <td>Вологда</td>\n",
       "      <td>smart</td>\n",
       "      <td>2018-01-27</td>\n",
       "      <td>2019-01-01</td>\n",
       "      <td>7</td>\n",
       "      <td>73</td>\n",
       "      <td>24</td>\n",
       "      <td>42</td>\n",
       "      <td>582</td>\n",
       "      <td>2596.0</td>\n",
       "    </tr>\n",
       "    <tr>\n",
       "      <th>3198</th>\n",
       "      <td>1496</td>\n",
       "      <td>Трифон</td>\n",
       "      <td>Блохин</td>\n",
       "      <td>36</td>\n",
       "      <td>Вологда</td>\n",
       "      <td>smart</td>\n",
       "      <td>2018-01-27</td>\n",
       "      <td>2019-01-01</td>\n",
       "      <td>8</td>\n",
       "      <td>88</td>\n",
       "      <td>23</td>\n",
       "      <td>41</td>\n",
       "      <td>527</td>\n",
       "      <td>2231.0</td>\n",
       "    </tr>\n",
       "    <tr>\n",
       "      <th>3199</th>\n",
       "      <td>1496</td>\n",
       "      <td>Трифон</td>\n",
       "      <td>Блохин</td>\n",
       "      <td>36</td>\n",
       "      <td>Вологда</td>\n",
       "      <td>smart</td>\n",
       "      <td>2018-01-27</td>\n",
       "      <td>2019-01-01</td>\n",
       "      <td>9</td>\n",
       "      <td>68</td>\n",
       "      <td>27</td>\n",
       "      <td>29</td>\n",
       "      <td>486</td>\n",
       "      <td>2950.0</td>\n",
       "    </tr>\n",
       "    <tr>\n",
       "      <th>3200</th>\n",
       "      <td>1496</td>\n",
       "      <td>Трифон</td>\n",
       "      <td>Блохин</td>\n",
       "      <td>36</td>\n",
       "      <td>Вологда</td>\n",
       "      <td>smart</td>\n",
       "      <td>2018-01-27</td>\n",
       "      <td>2019-01-01</td>\n",
       "      <td>10</td>\n",
       "      <td>72</td>\n",
       "      <td>28</td>\n",
       "      <td>35</td>\n",
       "      <td>450</td>\n",
       "      <td>3150.0</td>\n",
       "    </tr>\n",
       "    <tr>\n",
       "      <th>3201</th>\n",
       "      <td>1496</td>\n",
       "      <td>Трифон</td>\n",
       "      <td>Блохин</td>\n",
       "      <td>36</td>\n",
       "      <td>Вологда</td>\n",
       "      <td>smart</td>\n",
       "      <td>2018-01-27</td>\n",
       "      <td>2019-01-01</td>\n",
       "      <td>11</td>\n",
       "      <td>80</td>\n",
       "      <td>25</td>\n",
       "      <td>46</td>\n",
       "      <td>662</td>\n",
       "      <td>3036.0</td>\n",
       "    </tr>\n",
       "    <tr>\n",
       "      <th>3202</th>\n",
       "      <td>1496</td>\n",
       "      <td>Трифон</td>\n",
       "      <td>Блохин</td>\n",
       "      <td>36</td>\n",
       "      <td>Вологда</td>\n",
       "      <td>smart</td>\n",
       "      <td>2018-01-27</td>\n",
       "      <td>2019-01-01</td>\n",
       "      <td>12</td>\n",
       "      <td>80</td>\n",
       "      <td>21</td>\n",
       "      <td>51</td>\n",
       "      <td>518</td>\n",
       "      <td>1807.0</td>\n",
       "    </tr>\n",
       "  </tbody>\n",
       "</table>\n",
       "</div>"
      ],
      "text/plain": [
       "      user_id first_name last_name  age     city tariff   reg_date churn_date  \\\n",
       "17       1003      Белла  Белякова   23   Москва  ultra 2018-08-17 2019-01-01   \n",
       "18       1003      Белла  Белякова   23   Москва  ultra 2018-08-17 2019-01-01   \n",
       "19       1003      Белла  Белякова   23   Москва  ultra 2018-08-17 2019-01-01   \n",
       "20       1003      Белла  Белякова   23   Москва  ultra 2018-08-17 2019-01-01   \n",
       "21       1003      Белла  Белякова   23   Москва  ultra 2018-08-17 2019-01-01   \n",
       "3191     1496     Трифон    Блохин   36  Вологда  smart 2018-01-27 2019-01-01   \n",
       "3192     1496     Трифон    Блохин   36  Вологда  smart 2018-01-27 2019-01-01   \n",
       "3193     1496     Трифон    Блохин   36  Вологда  smart 2018-01-27 2019-01-01   \n",
       "3194     1496     Трифон    Блохин   36  Вологда  smart 2018-01-27 2019-01-01   \n",
       "3195     1496     Трифон    Блохин   36  Вологда  smart 2018-01-27 2019-01-01   \n",
       "3196     1496     Трифон    Блохин   36  Вологда  smart 2018-01-27 2019-01-01   \n",
       "3197     1496     Трифон    Блохин   36  Вологда  smart 2018-01-27 2019-01-01   \n",
       "3198     1496     Трифон    Блохин   36  Вологда  smart 2018-01-27 2019-01-01   \n",
       "3199     1496     Трифон    Блохин   36  Вологда  smart 2018-01-27 2019-01-01   \n",
       "3200     1496     Трифон    Блохин   36  Вологда  smart 2018-01-27 2019-01-01   \n",
       "3201     1496     Трифон    Блохин   36  Вологда  smart 2018-01-27 2019-01-01   \n",
       "3202     1496     Трифон    Блохин   36  Вологда  smart 2018-01-27 2019-01-01   \n",
       "\n",
       "      month  calls  gb_used  messages  sum_calls_duration  revenue  \n",
       "17        8     55        9        37                 380   1950.0  \n",
       "18        9    134       13        91                 961   1950.0  \n",
       "19       10    108       15        83                 855   1950.0  \n",
       "20       11    115       12        94                 824   1950.0  \n",
       "21       12    108       10        75                 802   1950.0  \n",
       "3191      1      7        4         9                  48    550.0  \n",
       "3192      2     77       28        45                 594   3432.0  \n",
       "3193      3     79       25        46                 557   2721.0  \n",
       "3194      4     67       21        49                 521   1813.0  \n",
       "3195      5     63       24        40                 484   2350.0  \n",
       "3196      6     74       20        35                 555   1715.0  \n",
       "3197      7     73       24        42                 582   2596.0  \n",
       "3198      8     88       23        41                 527   2231.0  \n",
       "3199      9     68       27        29                 486   2950.0  \n",
       "3200     10     72       28        35                 450   3150.0  \n",
       "3201     11     80       25        46                 662   3036.0  \n",
       "3202     12     80       21        51                 518   1807.0  "
      ]
     },
     "execution_count": 55,
     "metadata": {},
     "output_type": "execute_result"
    }
   ],
   "source": [
    "# проверяю соответствуют-ли тарифы\n",
    "t_df.query('user_id==[1003,1496]')"
   ]
  },
  {
   "cell_type": "markdown",
   "metadata": {},
   "source": [
    "Всё в порядке, можно идти дальше."
   ]
  },
  {
   "cell_type": "markdown",
   "metadata": {},
   "source": [
    "### Медиана, дисперсия и стандартное отклонение"
   ]
  },
  {
   "cell_type": "code",
   "execution_count": 56,
   "metadata": {},
   "outputs": [],
   "source": [
    "stat = means.pivot_table(index=['tariff'], values=['sum_calls_duration', 'gb_used', 'messages','revenue'], \n",
    "                    aggfunc={'sum_calls_duration': [np.mean, np.median, np.var, np.std], \n",
    "                             'gb_used': [np.mean,np.median, np.var, np.std], \n",
    "                             'messages': [np.mean,np.median, np.var, np.std],\n",
    "                             'revenue': [np.mean,np.median, np.var, np.std]})"
   ]
  },
  {
   "cell_type": "code",
   "execution_count": 57,
   "metadata": {},
   "outputs": [
    {
     "data": {
      "text/html": [
       "<div>\n",
       "<style scoped>\n",
       "    .dataframe tbody tr th:only-of-type {\n",
       "        vertical-align: middle;\n",
       "    }\n",
       "\n",
       "    .dataframe tbody tr th {\n",
       "        vertical-align: top;\n",
       "    }\n",
       "\n",
       "    .dataframe thead th {\n",
       "        text-align: right;\n",
       "    }\n",
       "</style>\n",
       "<table border=\"1\" class=\"dataframe\">\n",
       "  <thead>\n",
       "    <tr style=\"text-align: right;\">\n",
       "      <th></th>\n",
       "      <th>tariff</th>\n",
       "      <th>smart</th>\n",
       "      <th>ultra</th>\n",
       "    </tr>\n",
       "  </thead>\n",
       "  <tbody>\n",
       "    <tr>\n",
       "      <th rowspan=\"4\" valign=\"top\">gb_used</th>\n",
       "      <th>mean</th>\n",
       "      <td>16.308519</td>\n",
       "      <td>19.588446</td>\n",
       "    </tr>\n",
       "    <tr>\n",
       "      <th>median</th>\n",
       "      <td>16.333333</td>\n",
       "      <td>18.775</td>\n",
       "    </tr>\n",
       "    <tr>\n",
       "      <th>std</th>\n",
       "      <td>3.501643</td>\n",
       "      <td>8.11612</td>\n",
       "    </tr>\n",
       "    <tr>\n",
       "      <th>var</th>\n",
       "      <td>12.261503</td>\n",
       "      <td>65.871402</td>\n",
       "    </tr>\n",
       "    <tr>\n",
       "      <th rowspan=\"4\" valign=\"top\">messages</th>\n",
       "      <th>mean</th>\n",
       "      <td>32.352078</td>\n",
       "      <td>54.030743</td>\n",
       "    </tr>\n",
       "    <tr>\n",
       "      <th>median</th>\n",
       "      <td>27.75</td>\n",
       "      <td>45.5</td>\n",
       "    </tr>\n",
       "    <tr>\n",
       "      <th>std</th>\n",
       "      <td>26.512448</td>\n",
       "      <td>46.366246</td>\n",
       "    </tr>\n",
       "    <tr>\n",
       "      <th>var</th>\n",
       "      <td>702.90991</td>\n",
       "      <td>2149.828793</td>\n",
       "    </tr>\n",
       "    <tr>\n",
       "      <th rowspan=\"4\" valign=\"top\">revenue</th>\n",
       "      <th>mean</th>\n",
       "      <td>1324.401019</td>\n",
       "      <td>2086.464659</td>\n",
       "    </tr>\n",
       "    <tr>\n",
       "      <th>median</th>\n",
       "      <td>1177.116667</td>\n",
       "      <td>1950.0</td>\n",
       "    </tr>\n",
       "    <tr>\n",
       "      <th>std</th>\n",
       "      <td>606.040551</td>\n",
       "      <td>298.53272</td>\n",
       "    </tr>\n",
       "    <tr>\n",
       "      <th>var</th>\n",
       "      <td>367285.150014</td>\n",
       "      <td>89121.784981</td>\n",
       "    </tr>\n",
       "    <tr>\n",
       "      <th rowspan=\"4\" valign=\"top\">sum_calls_duration</th>\n",
       "      <th>mean</th>\n",
       "      <td>419.634803</td>\n",
       "      <td>527.821819</td>\n",
       "    </tr>\n",
       "    <tr>\n",
       "      <th>median</th>\n",
       "      <td>425.0625</td>\n",
       "      <td>514.541667</td>\n",
       "    </tr>\n",
       "    <tr>\n",
       "      <th>std</th>\n",
       "      <td>145.031543</td>\n",
       "      <td>281.786359</td>\n",
       "    </tr>\n",
       "    <tr>\n",
       "      <th>var</th>\n",
       "      <td>21034.148607</td>\n",
       "      <td>79403.55185</td>\n",
       "    </tr>\n",
       "  </tbody>\n",
       "</table>\n",
       "</div>"
      ],
      "text/plain": [
       "tariff                             smart         ultra\n",
       "gb_used            mean        16.308519     19.588446\n",
       "                   median      16.333333        18.775\n",
       "                   std          3.501643       8.11612\n",
       "                   var         12.261503     65.871402\n",
       "messages           mean        32.352078     54.030743\n",
       "                   median          27.75          45.5\n",
       "                   std         26.512448     46.366246\n",
       "                   var         702.90991   2149.828793\n",
       "revenue            mean      1324.401019   2086.464659\n",
       "                   median    1177.116667        1950.0\n",
       "                   std        606.040551     298.53272\n",
       "                   var     367285.150014  89121.784981\n",
       "sum_calls_duration mean       419.634803    527.821819\n",
       "                   median       425.0625    514.541667\n",
       "                   std        145.031543    281.786359\n",
       "                   var      21034.148607   79403.55185"
      ]
     },
     "execution_count": 57,
     "metadata": {},
     "output_type": "execute_result"
    }
   ],
   "source": [
    "stat.T"
   ]
  },
  {
   "cell_type": "markdown",
   "metadata": {},
   "source": [
    "* Выручка в тарифе Smart:\n",
    "  * Медиана - 1150 р., вдвое больше базовой стоимости тарифа.\n",
    "  * Средняя выручка с пользователя - 1324.40 руб.\n",
    "  * Стандартное отклонение так же очень высокое  - 606 руб.\n",
    "  \n",
    "* Выручка в тарифе Ultra:\n",
    "  * Медиана - 1950, совпадает с базовой стоимостью тарифа.\n",
    "  * Средняя выручка с пользователя - 2061.48 руб.\n",
    "  * Стандартное отклонение небольшое - 299 руб."
   ]
  },
  {
   "cell_type": "code",
   "execution_count": 58,
   "metadata": {},
   "outputs": [],
   "source": [
    "plt.style.use('seaborn-deep')"
   ]
  },
  {
   "cell_type": "code",
   "execution_count": 59,
   "metadata": {},
   "outputs": [
    {
     "data": {
      "image/png": "[encoded data removed]",
      "text/plain": [
       "<Figure size 500x500 with 1 Axes>"
      ]
     },
     "metadata": {},
     "output_type": "display_data"
    },
    {
     "data": {
      "image/png": "[encoded data removed]",
      "text/plain": [
       "<Figure size 500x500 with 1 Axes>"
      ]
     },
     "metadata": {},
     "output_type": "display_data"
    },
    {
     "data": {
      "image/png": "[encoded data removed]",
      "text/plain": [
       "<Figure size 500x500 with 1 Axes>"
      ]
     },
     "metadata": {},
     "output_type": "display_data"
    },
    {
     "data": {
      "image/png": "[encoded data removed]",
      "text/plain": [
       "<Figure size 500x500 with 1 Axes>"
      ]
     },
     "metadata": {},
     "output_type": "display_data"
    }
   ],
   "source": [
    "for column in ['sum_calls_duration', 'gb_used', 'messages','revenue']:    \n",
    "    sns.catplot(x=\"tariff\", y=column, kind=\"box\", data=means, orient='v')"
   ]
  },
  {
   "cell_type": "markdown",
   "metadata": {},
   "source": [
    "* Тариф ultra: \n",
    "- имеет большую дисперсию по показателям использованных сообщений, минут и трафика. Практически отсутствуют выбросы. Все медианы выше чем у smart. По выручке медиана равна нормальному значению, которое совпадает с базовой стоимостью тарифа.\n",
    "\n",
    "* Тариф smart: \n",
    "- имеет меньшую дисперсию по показателям использованных сообщений, минут и трафика. Присутсвеют выбросы. Все медианы ниже чем у ultra. Нормальное значение от 550 до 1700 (верхняя планка практически достигает стоимости Ultra)\n",
    "\n",
    "\n",
    "# Вывод:\n",
    "Пользователи Ultra очень редко выходят за рамки своего базового тарифа. А пользователи Smart напротив очень и очень часто доплачивают за дополнительные услуги сверх тарифа."
   ]
  },
  {
   "cell_type": "code",
   "execution_count": 60,
   "metadata": {},
   "outputs": [],
   "source": [
    "def histplot(c):\n",
    "    for tariff in ['ultra', 'smart']:\n",
    "        sns.histplot(means.query('tariff == \"ultra\"')[c], kde=False, color='b',element=\"step\", fill=False,alpha=0.7,bins=15)\n",
    "        sns.histplot(means.query('tariff == \"smart\"')[c], kde=False, color ='g',element=\"step\", fill=False,alpha=0.7,bins=15)\n",
    "    _ = plt.legend(['ultra', 'smart'])\n",
    "    _ = plt.ylabel('Количество пользователей')"
   ]
  },
  {
   "cell_type": "code",
   "execution_count": 61,
   "metadata": {},
   "outputs": [
    {
     "data": {
      "image/png": "[encoded data removed]",
      "text/plain": [
       "<Figure size 640x480 with 1 Axes>"
      ]
     },
     "metadata": {},
     "output_type": "display_data"
    }
   ],
   "source": [
    "histplot('gb_used')\n",
    "plt.title('Распределение количества пользователей по использованному трафику')\n",
    "plt.xlabel('ГБ использовано в месяц')\n",
    "plt.show()"
   ]
  },
  {
   "cell_type": "markdown",
   "metadata": {},
   "source": [
    "Нормальное распределение у пользователей обох тарифов."
   ]
  },
  {
   "cell_type": "code",
   "execution_count": 62,
   "metadata": {},
   "outputs": [
    {
     "data": {
      "image/png": "[encoded data removed]",
      "text/plain": [
       "<Figure size 640x480 with 1 Axes>"
      ]
     },
     "metadata": {},
     "output_type": "display_data"
    }
   ],
   "source": [
    "histplot('messages')\n",
    "plt.title('Распределение кол-ва пользователей по кол-ву отправленных сообщений')\n",
    "plt.xlabel('Сообщений использовано в месяц')\n",
    "plt.show()"
   ]
  },
  {
   "cell_type": "markdown",
   "metadata": {},
   "source": [
    "Распределение Пауссона"
   ]
  },
  {
   "cell_type": "code",
   "execution_count": 63,
   "metadata": {},
   "outputs": [
    {
     "data": {
      "image/png": "[encoded data removed]",
      "text/plain": [
       "<Figure size 640x480 with 1 Axes>"
      ]
     },
     "metadata": {},
     "output_type": "display_data"
    }
   ],
   "source": [
    "histplot('sum_calls_duration')\n",
    "plt.title('Распределение кол-ва пользователей по суммарному кол-ву минут')\n",
    "plt.xlabel('Сумма использованных минут в месяц')\n",
    "plt.show()"
   ]
  },
  {
   "cell_type": "markdown",
   "metadata": {},
   "source": [
    "Нормальное распределение"
   ]
  },
  {
   "cell_type": "code",
   "execution_count": 64,
   "metadata": {},
   "outputs": [
    {
     "data": {
      "image/png": "[encoded data removed]",
      "text/plain": [
       "<Figure size 640x480 with 1 Axes>"
      ]
     },
     "metadata": {},
     "output_type": "display_data"
    }
   ],
   "source": [
    "histplot('revenue')\n",
    "plt.title('Распределение количества пользователей по выручке с каждого клиента')\n",
    "plt.xlabel('Выручка с пользователя')\n",
    "plt.show()"
   ]
  },
  {
   "cell_type": "markdown",
   "metadata": {},
   "source": [
    "Распределение Пауссона с чётким сдвигом к стоимости тарифа"
   ]
  },
  {
   "cell_type": "markdown",
   "metadata": {},
   "source": [
    "# Вывод:\n",
    "* Распределение пользователей тарифа Ultra более плавное и разнообразное, при том что большинству хватает базового пакета.\n",
    "* У Smart видно более чётко выраженную моду, на графике выручки видно, что многим клиентам не хватает базового пакета. \n",
    "\n",
    "Это может говорить о том, что пользователи тарифа Ultra чувствуют себя более спокойно и свободно, тариф позволяет им не беспокоятся о том что у них могут закончатся минуты и гигабайты. Поэтому они могут просто пользовататься услугами в своём ритме.\n",
    "\n",
    "У пользователей тарифа smart поведение совершенно иное. Большинство пытается использовать тариф по максимуму, и как видно многим его не хватает, поэтому приходиться  доплачивать за доп.улуги."
   ]
  },
  {
   "cell_type": "markdown",
   "metadata": {},
   "source": [
    "## Проверка гипотез"
   ]
  },
  {
   "cell_type": "markdown",
   "metadata": {},
   "source": [
    "### Гипотеза 1"
   ]
  },
  {
   "cell_type": "markdown",
   "metadata": {},
   "source": [
    "Нулевая гипотеза  — средняя выручка пользователей тарифа «Ультра» равна средней выручке пользователей тарифа «Смарт».\n",
    "\n",
    "\n",
    "Альтернативная гипотиза — средняя выручка пользователей тарифов «Ультра» и «Смарт» различаются.\n",
    "\n",
    "\n",
    "Альфа - 0.05"
   ]
  },
  {
   "cell_type": "markdown",
   "metadata": {},
   "source": [
    "<font color='DarkBlue'><b>Комментарий ревьюера</b></font><br>\n",
    "<font color='DarkGreen'>👌 Хорошо, правильно сформулированы гипотезы.</font>"
   ]
  },
  {
   "cell_type": "code",
   "execution_count": 65,
   "metadata": {},
   "outputs": [
    {
     "name": "stdout",
     "output_type": "stream",
     "text": [
      "P-value: 4.2606313931076085e-250\n",
      "Отвергаем нулевую гипотезу\n"
     ]
    }
   ],
   "source": [
    "alpha = 0.05\n",
    "results = st.ttest_ind(t_df.query('tariff == \"smart\"')['revenue'], t_df.query('tariff == \"ultra\"')['revenue'], equal_var = False)\n",
    "print('P-value:', results.pvalue)\n",
    "\n",
    "if (results.pvalue < alpha):\n",
    "    print(\"Отвергаем нулевую гипотезу\")\n",
    "else:\n",
    "    print(\"Не получилось отвергнуть нулевую гипотезу\")"
   ]
  },
  {
   "cell_type": "markdown",
   "metadata": {},
   "source": [
    "P-value говорит о том, что вероятность того, что средние выручки пользователей обоих тарифов равны, ничтожно низкая. Поэтому отвергаем нулевую гипотезу и не-отвергаем альтернативную."
   ]
  },
  {
   "cell_type": "markdown",
   "metadata": {},
   "source": [
    "### Гипотеза 2"
   ]
  },
  {
   "cell_type": "markdown",
   "metadata": {},
   "source": [
    "Нулевая гипотеза  — Средняя выручка от пользователей из Москвы и выручка пользователей из других регионов равны.\n",
    "\n",
    "\n",
    "Альтернативная гипотиза — Средняя выручка от пользователей из Москвы отличается от выручки пользователей из других регионов\n",
    "\n",
    "\n",
    "Альфа - 0.05"
   ]
  },
  {
   "cell_type": "code",
   "execution_count": 66,
   "metadata": {},
   "outputs": [],
   "source": [
    "msc = t_df.query('city == \"Москва\"')\n",
    "other = t_df.query('city != \"Москва\"')"
   ]
  },
  {
   "cell_type": "code",
   "execution_count": 67,
   "metadata": {},
   "outputs": [
    {
     "name": "stdout",
     "output_type": "stream",
     "text": [
      "P-value: 0.5257376663729298\n",
      "Не получилось отвергнуть нулевую гипотезу\n"
     ]
    }
   ],
   "source": [
    "alpha = 0.05\n",
    "results = st.ttest_ind(msc['revenue'], other['revenue'], equal_var = False)\n",
    "print('P-value:', results.pvalue)\n",
    "\n",
    "if (results.pvalue < alpha):\n",
    "    print(\"Отвергаем нулевую гипотезу\")\n",
    "else:\n",
    "    print(\"Не получилось отвергнуть нулевую гипотезу\")"
   ]
  },
  {
   "cell_type": "code",
   "execution_count": 68,
   "metadata": {},
   "outputs": [
    {
     "data": {
      "text/html": [
       "<div>\n",
       "<style scoped>\n",
       "    .dataframe tbody tr th:only-of-type {\n",
       "        vertical-align: middle;\n",
       "    }\n",
       "\n",
       "    .dataframe tbody tr th {\n",
       "        vertical-align: top;\n",
       "    }\n",
       "\n",
       "    .dataframe thead th {\n",
       "        text-align: right;\n",
       "    }\n",
       "</style>\n",
       "<table border=\"1\" class=\"dataframe\">\n",
       "  <thead>\n",
       "    <tr style=\"text-align: right;\">\n",
       "      <th></th>\n",
       "      <th>count</th>\n",
       "      <th>median</th>\n",
       "      <th>mean</th>\n",
       "      <th>sum</th>\n",
       "    </tr>\n",
       "    <tr>\n",
       "      <th>tariff</th>\n",
       "      <th></th>\n",
       "      <th></th>\n",
       "      <th></th>\n",
       "      <th></th>\n",
       "    </tr>\n",
       "  </thead>\n",
       "  <tbody>\n",
       "    <tr>\n",
       "      <th>smart</th>\n",
       "      <td>386</td>\n",
       "      <td>1007.5</td>\n",
       "      <td>1239.357513</td>\n",
       "      <td>478392.0</td>\n",
       "    </tr>\n",
       "    <tr>\n",
       "      <th>ultra</th>\n",
       "      <td>225</td>\n",
       "      <td>1950.0</td>\n",
       "      <td>2074.000000</td>\n",
       "      <td>466650.0</td>\n",
       "    </tr>\n",
       "  </tbody>\n",
       "</table>\n",
       "</div>"
      ],
      "text/plain": [
       "        count  median         mean       sum\n",
       "tariff                                      \n",
       "smart     386  1007.5  1239.357513  478392.0\n",
       "ultra     225  1950.0  2074.000000  466650.0"
      ]
     },
     "execution_count": 68,
     "metadata": {},
     "output_type": "execute_result"
    }
   ],
   "source": [
    "msc.groupby('tariff')['revenue'].agg(['count','median','mean','sum'])"
   ]
  },
  {
   "cell_type": "code",
   "execution_count": 69,
   "metadata": {},
   "outputs": [
    {
     "data": {
      "text/html": [
       "<div>\n",
       "<style scoped>\n",
       "    .dataframe tbody tr th:only-of-type {\n",
       "        vertical-align: middle;\n",
       "    }\n",
       "\n",
       "    .dataframe tbody tr th {\n",
       "        vertical-align: top;\n",
       "    }\n",
       "\n",
       "    .dataframe thead th {\n",
       "        text-align: right;\n",
       "    }\n",
       "</style>\n",
       "<table border=\"1\" class=\"dataframe\">\n",
       "  <thead>\n",
       "    <tr style=\"text-align: right;\">\n",
       "      <th></th>\n",
       "      <th>count</th>\n",
       "      <th>median</th>\n",
       "      <th>mean</th>\n",
       "      <th>sum</th>\n",
       "    </tr>\n",
       "    <tr>\n",
       "      <th>tariff</th>\n",
       "      <th></th>\n",
       "      <th></th>\n",
       "      <th></th>\n",
       "      <th></th>\n",
       "    </tr>\n",
       "  </thead>\n",
       "  <tbody>\n",
       "    <tr>\n",
       "      <th>smart</th>\n",
       "      <td>1843</td>\n",
       "      <td>1039.0</td>\n",
       "      <td>1300.574607</td>\n",
       "      <td>2396959.0</td>\n",
       "    </tr>\n",
       "    <tr>\n",
       "      <th>ultra</th>\n",
       "      <td>760</td>\n",
       "      <td>1950.0</td>\n",
       "      <td>2069.013158</td>\n",
       "      <td>1572450.0</td>\n",
       "    </tr>\n",
       "  </tbody>\n",
       "</table>\n",
       "</div>"
      ],
      "text/plain": [
       "        count  median         mean        sum\n",
       "tariff                                       \n",
       "smart    1843  1039.0  1300.574607  2396959.0\n",
       "ultra     760  1950.0  2069.013158  1572450.0"
      ]
     },
     "execution_count": 69,
     "metadata": {},
     "output_type": "execute_result"
    }
   ],
   "source": [
    "other.groupby('tariff')['revenue'].agg(['count','median','mean','sum'])"
   ]
  },
  {
   "cell_type": "markdown",
   "metadata": {},
   "source": [
    "И вправду, если посмотреть на медианы, то средняя выручка практически одинаковая.По тарифу Smart 1007 руб. и 1039, разница около 2%. А по тарифу ультра идентичная."
   ]
  },
  {
   "cell_type": "code",
   "execution_count": 70,
   "metadata": {},
   "outputs": [],
   "source": [
    "# средняя выручка тарифа Smart\n",
    "s = t_df.query('tariff == \"smart\"')['revenue'].mean()"
   ]
  },
  {
   "cell_type": "code",
   "execution_count": 71,
   "metadata": {},
   "outputs": [],
   "source": [
    "# средняя выручка тарифа Ultra\n",
    "u = t_df.query('tariff == \"ultra\"')['revenue'].mean()"
   ]
  },
  {
   "cell_type": "code",
   "execution_count": 72,
   "metadata": {},
   "outputs": [],
   "source": [
    "# Разница между тарифами\n",
    "if u > s:\n",
    "    r=u-s\n",
    "elif s > u:\n",
    "    r=s-u\n",
    "else:\n",
    "    r=0"
   ]
  },
  {
   "cell_type": "code",
   "execution_count": 73,
   "metadata": {},
   "outputs": [
    {
     "name": "stdout",
     "output_type": "stream",
     "text": [
      "Средняя выручка тарифа Smart: 1289.9735307312696 руб.\n",
      "Средняя выручка тарифа Ultra: 2070.1522842639592 руб.\n",
      "Тариф Ultra приносит на 780.1787535326896 руб. больше выручки\n"
     ]
    }
   ],
   "source": [
    "print('Средняя выручка тарифа Smart:',s,'руб.')\n",
    "print('Средняя выручка тарифа Ultra:',u,'руб.')\n",
    "\n",
    "if u > s:\n",
    "    print('Тариф Ultra приносит на',r,'руб. больше выручки')\n",
    "elif s > u:\n",
    "    print('Тариф Smart приносит на',r,'руб. больше выручки')\n",
    "else:\n",
    "    print('Тарифы приносят одинаковое количество выручки')"
   ]
  },
  {
   "cell_type": "markdown",
   "metadata": {},
   "source": [
    "Исследуем динамику средней выручки по тарифам на графике."
   ]
  },
  {
   "cell_type": "code",
   "execution_count": 76,
   "metadata": {},
   "outputs": [
    {
     "data": {
      "image/png": "[encoded data removed]",
      "text/plain": [
       "<Figure size 640x480 with 1 Axes>"
      ]
     },
     "metadata": {},
     "output_type": "display_data"
    }
   ],
   "source": [
    "t_df.pivot_table(index='tariff', columns='month', values='revenue', aggfunc='mean').T.plot(kind='bar', alpha=0.5)\n",
    "plt.title('Средняя ежемесячная выручка по 2-м тарифам за год'+ \"\\n\")\n",
    "plt.xlabel('Месяц')\n",
    "plt.ylabel('Рубли')\n",
    "plt.show()"
   ]
  },
  {
   "cell_type": "markdown",
   "metadata": {},
   "source": [
    "Средняя выручка по тарифу смарт стремительно растет от месяца к месяцу, когда выручка от тарифа ульта стоит на месте."
   ]
  },
  {
   "cell_type": "markdown",
   "metadata": {},
   "source": [
    "## Общий вывод"
   ]
  },
  {
   "cell_type": "markdown",
   "metadata": {},
   "source": [
    "**Проведя исследование, выяснилось, что поведение польователей тарифов Smart и Ultra кардинально отличаются друг от друга.**\n",
    "\n",
    "* Пользователи тарифа Smart:\n",
    "  * Средний пользователей платит 1150 руб., почти вдвое больше базового тарифа (550 руб.).\n",
    "  * Судя по всему они пытаються использовать тариф по максимуму, и часто им его не хватает.\n",
    "  * Средняя выручка 1290 руб. с клиента.\n",
    "  * Средняя выручка по тарифу смарт стремительно растет от месяца к месяцу.\n",
    "  * В данны представлено 351 клиентов тарифа Smart.\n",
    "  \n",
    "  \n",
    "* Пользователи тарифа Ultra:\n",
    "  * Практически никогда не берут доп. услуги.\n",
    "  * Им хватает базового тарифа\n",
    "  * Средний пользователь платит 1950 руб. (Соотвествует базовому тарифу)\n",
    "  * Средняя выручка 2070 руб. с клиента\n",
    "  * Средняя выручка по тарифу не растёт от месяца к месяцу.\n",
    "  * В данны представлено 149 клиентов тарифа Smart.\n",
    "\n",
    "***Выводы по проверке гипотез:***\n",
    "\n",
    "**Средня выручка с каждого пользователя тарифа Ultra больше чем выручка с тарифа Smart  на 780.17 руб. (1289.97 руб против 2070.15 руб.)**\n",
    "\n",
    "\n",
    "**Cредняя выручка от пользователей москвы не отличается от средней выручки в других населённых пунктах**"
   ]
  }
 ],
 "metadata": {
  "ExecuteTimeLog": [
   {
    "duration": 1402,
    "start_time": "2022-07-04T04:55:41.284Z"
   },
   {
    "duration": 4,
    "start_time": "2022-07-04T04:56:08.977Z"
   },
   {
    "duration": 111,
    "start_time": "2022-07-04T04:57:21.613Z"
   },
   {
    "duration": 1403,
    "start_time": "2022-07-04T04:59:18.892Z"
   },
   {
    "duration": 9,
    "start_time": "2022-07-04T05:00:16.985Z"
   },
   {
    "duration": 61,
    "start_time": "2022-07-04T05:00:22.809Z"
   },
   {
    "duration": 57,
    "start_time": "2022-07-04T05:00:27.953Z"
   },
   {
    "duration": 58,
    "start_time": "2022-07-04T05:00:42.897Z"
   },
   {
    "duration": 131,
    "start_time": "2022-07-04T05:01:25.553Z"
   },
   {
    "duration": 141,
    "start_time": "2022-07-04T05:03:22.134Z"
   },
   {
    "duration": 121,
    "start_time": "2022-07-04T05:04:07.669Z"
   },
   {
    "duration": 15,
    "start_time": "2022-07-04T05:04:25.405Z"
   },
   {
    "duration": 14,
    "start_time": "2022-07-04T05:04:31.406Z"
   },
   {
    "duration": 12,
    "start_time": "2022-07-04T05:04:41.715Z"
   },
   {
    "duration": 10,
    "start_time": "2022-07-04T05:05:00.523Z"
   },
   {
    "duration": 9,
    "start_time": "2022-07-04T05:05:11.795Z"
   },
   {
    "duration": 347,
    "start_time": "2022-07-04T05:05:15.539Z"
   },
   {
    "duration": 311,
    "start_time": "2022-07-04T05:05:42.858Z"
   },
   {
    "duration": 8,
    "start_time": "2022-07-04T05:05:50.978Z"
   },
   {
    "duration": 72,
    "start_time": "2022-07-04T05:06:05.666Z"
   },
   {
    "duration": 73,
    "start_time": "2022-07-04T05:06:09.490Z"
   },
   {
    "duration": 97,
    "start_time": "2022-07-04T05:06:12.850Z"
   },
   {
    "duration": 9,
    "start_time": "2022-07-04T05:06:17.553Z"
   },
   {
    "duration": 14,
    "start_time": "2022-07-04T05:06:28.955Z"
   },
   {
    "duration": 10,
    "start_time": "2022-07-04T05:06:37.874Z"
   },
   {
    "duration": 11,
    "start_time": "2022-07-04T05:14:53.367Z"
   },
   {
    "duration": 62,
    "start_time": "2022-07-04T05:15:13.942Z"
   },
   {
    "duration": 55,
    "start_time": "2022-07-04T05:15:21.710Z"
   },
   {
    "duration": 128,
    "start_time": "2022-07-04T05:18:22.226Z"
   },
   {
    "duration": 161,
    "start_time": "2022-07-04T05:18:40.593Z"
   },
   {
    "duration": 126,
    "start_time": "2022-07-04T05:19:46.560Z"
   },
   {
    "duration": 4,
    "start_time": "2022-07-04T05:21:23.014Z"
   },
   {
    "duration": 12,
    "start_time": "2022-07-04T05:21:25.693Z"
   },
   {
    "duration": 10,
    "start_time": "2022-07-04T05:21:30.789Z"
   },
   {
    "duration": 9,
    "start_time": "2022-07-04T05:21:38.681Z"
   },
   {
    "duration": 31,
    "start_time": "2022-07-04T05:22:06.644Z"
   },
   {
    "duration": 24,
    "start_time": "2022-07-04T05:22:19.669Z"
   },
   {
    "duration": 10,
    "start_time": "2022-07-04T05:28:18.365Z"
   },
   {
    "duration": 12,
    "start_time": "2022-07-04T05:29:23.258Z"
   },
   {
    "duration": 10,
    "start_time": "2022-07-04T05:29:31.802Z"
   },
   {
    "duration": 14,
    "start_time": "2022-07-04T05:29:41.859Z"
   },
   {
    "duration": 89,
    "start_time": "2022-07-04T05:31:11.617Z"
   },
   {
    "duration": 9,
    "start_time": "2022-07-04T05:31:11.984Z"
   },
   {
    "duration": 24,
    "start_time": "2022-07-04T05:31:25.376Z"
   },
   {
    "duration": 13,
    "start_time": "2022-07-04T05:31:27.236Z"
   },
   {
    "duration": 11,
    "start_time": "2022-07-04T05:31:39.225Z"
   },
   {
    "duration": 12,
    "start_time": "2022-07-04T05:33:00.520Z"
   },
   {
    "duration": 12,
    "start_time": "2022-07-04T05:33:10.080Z"
   },
   {
    "duration": 214,
    "start_time": "2022-07-04T05:33:58.240Z"
   },
   {
    "duration": 1286,
    "start_time": "2022-07-04T05:34:32.285Z"
   },
   {
    "duration": 1751,
    "start_time": "2022-07-04T05:34:40.942Z"
   },
   {
    "duration": 188,
    "start_time": "2022-07-04T05:34:48.559Z"
   },
   {
    "duration": 232,
    "start_time": "2022-07-04T05:36:59.346Z"
   },
   {
    "duration": 241,
    "start_time": "2022-07-04T05:37:11.337Z"
   },
   {
    "duration": 237,
    "start_time": "2022-07-04T05:37:33.777Z"
   },
   {
    "duration": 243,
    "start_time": "2022-07-04T05:37:51.152Z"
   },
   {
    "duration": 244,
    "start_time": "2022-07-04T05:38:32.183Z"
   },
   {
    "duration": 306,
    "start_time": "2022-07-04T05:38:48.174Z"
   },
   {
    "duration": 242,
    "start_time": "2022-07-04T05:39:35.287Z"
   },
   {
    "duration": 11,
    "start_time": "2022-07-04T05:45:34.446Z"
   },
   {
    "duration": 252,
    "start_time": "2022-07-04T05:45:52.718Z"
   },
   {
    "duration": 5,
    "start_time": "2022-07-04T05:45:57.173Z"
   },
   {
    "duration": 8,
    "start_time": "2022-07-04T05:45:59.526Z"
   },
   {
    "duration": 22,
    "start_time": "2022-07-04T05:46:04.762Z"
   },
   {
    "duration": 7,
    "start_time": "2022-07-04T05:47:03.371Z"
   },
   {
    "duration": 16,
    "start_time": "2022-07-04T05:47:06.523Z"
   },
   {
    "duration": 48,
    "start_time": "2022-07-04T07:12:19.546Z"
   },
   {
    "duration": 1282,
    "start_time": "2022-07-04T07:12:33.330Z"
   },
   {
    "duration": 1461,
    "start_time": "2022-07-04T07:12:34.615Z"
   },
   {
    "duration": 585,
    "start_time": "2022-07-04T07:12:36.078Z"
   },
   {
    "duration": 0,
    "start_time": "2022-07-04T07:12:36.665Z"
   },
   {
    "duration": 0,
    "start_time": "2022-07-04T07:12:36.666Z"
   },
   {
    "duration": 0,
    "start_time": "2022-07-04T07:12:36.667Z"
   },
   {
    "duration": 0,
    "start_time": "2022-07-04T07:12:36.669Z"
   },
   {
    "duration": 0,
    "start_time": "2022-07-04T07:12:36.670Z"
   },
   {
    "duration": 0,
    "start_time": "2022-07-04T07:12:36.671Z"
   },
   {
    "duration": 0,
    "start_time": "2022-07-04T07:12:36.672Z"
   },
   {
    "duration": 0,
    "start_time": "2022-07-04T07:12:36.672Z"
   },
   {
    "duration": 0,
    "start_time": "2022-07-04T07:12:36.673Z"
   },
   {
    "duration": 0,
    "start_time": "2022-07-04T07:12:36.674Z"
   },
   {
    "duration": 0,
    "start_time": "2022-07-04T07:12:36.675Z"
   },
   {
    "duration": 0,
    "start_time": "2022-07-04T07:12:36.676Z"
   },
   {
    "duration": 0,
    "start_time": "2022-07-04T07:12:36.677Z"
   },
   {
    "duration": 40,
    "start_time": "2022-07-04T07:12:51.548Z"
   },
   {
    "duration": 536,
    "start_time": "2022-07-04T07:13:00.687Z"
   },
   {
    "duration": 106,
    "start_time": "2022-07-04T07:13:17.056Z"
   },
   {
    "duration": 1041,
    "start_time": "2022-07-04T07:13:47.582Z"
   },
   {
    "duration": 475,
    "start_time": "2022-07-04T07:13:48.625Z"
   },
   {
    "duration": 113,
    "start_time": "2022-07-04T07:13:49.102Z"
   },
   {
    "duration": 17,
    "start_time": "2022-07-04T07:13:49.217Z"
   },
   {
    "duration": 24,
    "start_time": "2022-07-04T07:13:49.235Z"
   },
   {
    "duration": 17,
    "start_time": "2022-07-04T07:13:49.260Z"
   },
   {
    "duration": 19,
    "start_time": "2022-07-04T07:13:49.278Z"
   },
   {
    "duration": 82,
    "start_time": "2022-07-04T07:13:49.299Z"
   },
   {
    "duration": 23,
    "start_time": "2022-07-04T07:13:49.382Z"
   },
   {
    "duration": 38,
    "start_time": "2022-07-04T07:13:49.407Z"
   },
   {
    "duration": 8,
    "start_time": "2022-07-04T07:13:49.449Z"
   },
   {
    "duration": 14,
    "start_time": "2022-07-04T07:13:49.459Z"
   },
   {
    "duration": 258,
    "start_time": "2022-07-04T07:13:49.475Z"
   },
   {
    "duration": 5,
    "start_time": "2022-07-04T07:13:49.734Z"
   },
   {
    "duration": 8,
    "start_time": "2022-07-04T07:13:49.740Z"
   },
   {
    "duration": 15,
    "start_time": "2022-07-04T07:13:49.750Z"
   },
   {
    "duration": 18,
    "start_time": "2022-07-04T07:14:58.859Z"
   },
   {
    "duration": 5,
    "start_time": "2022-07-04T07:16:47.183Z"
   },
   {
    "duration": 6,
    "start_time": "2022-07-04T07:24:37.503Z"
   },
   {
    "duration": 5,
    "start_time": "2022-07-04T07:42:44.654Z"
   },
   {
    "duration": 1323,
    "start_time": "2022-07-04T07:43:31.929Z"
   },
   {
    "duration": 1539,
    "start_time": "2022-07-04T07:44:06.537Z"
   },
   {
    "duration": 75,
    "start_time": "2022-07-04T07:44:16.220Z"
   },
   {
    "duration": 246,
    "start_time": "2022-07-04T07:44:19.707Z"
   },
   {
    "duration": 223,
    "start_time": "2022-07-04T07:44:36.037Z"
   },
   {
    "duration": 1355,
    "start_time": "2022-07-05T04:22:13.784Z"
   },
   {
    "duration": 748,
    "start_time": "2022-07-05T04:22:15.141Z"
   },
   {
    "duration": 118,
    "start_time": "2022-07-05T04:22:15.891Z"
   },
   {
    "duration": 14,
    "start_time": "2022-07-05T04:22:16.011Z"
   },
   {
    "duration": 12,
    "start_time": "2022-07-05T04:22:16.026Z"
   },
   {
    "duration": 28,
    "start_time": "2022-07-05T04:22:16.039Z"
   },
   {
    "duration": 11,
    "start_time": "2022-07-05T04:22:16.069Z"
   },
   {
    "duration": 64,
    "start_time": "2022-07-05T04:22:16.082Z"
   },
   {
    "duration": 38,
    "start_time": "2022-07-05T04:22:16.147Z"
   },
   {
    "duration": 21,
    "start_time": "2022-07-05T04:22:16.187Z"
   },
   {
    "duration": 9,
    "start_time": "2022-07-05T04:22:16.210Z"
   },
   {
    "duration": 123,
    "start_time": "2022-07-05T04:22:16.220Z"
   },
   {
    "duration": 0,
    "start_time": "2022-07-05T04:22:16.344Z"
   },
   {
    "duration": 0,
    "start_time": "2022-07-05T04:22:16.345Z"
   },
   {
    "duration": 0,
    "start_time": "2022-07-05T04:22:16.346Z"
   },
   {
    "duration": 0,
    "start_time": "2022-07-05T04:22:16.347Z"
   },
   {
    "duration": 0,
    "start_time": "2022-07-05T04:22:16.348Z"
   },
   {
    "duration": 0,
    "start_time": "2022-07-05T04:22:16.349Z"
   },
   {
    "duration": 0,
    "start_time": "2022-07-05T04:22:16.350Z"
   },
   {
    "duration": 0,
    "start_time": "2022-07-05T04:22:16.351Z"
   },
   {
    "duration": 11,
    "start_time": "2022-07-05T04:22:39.121Z"
   },
   {
    "duration": 10,
    "start_time": "2022-07-05T04:22:41.295Z"
   },
   {
    "duration": 8,
    "start_time": "2022-07-05T04:22:50.759Z"
   },
   {
    "duration": 245,
    "start_time": "2022-07-05T04:22:52.818Z"
   },
   {
    "duration": 12,
    "start_time": "2022-07-05T04:24:52.934Z"
   },
   {
    "duration": 17,
    "start_time": "2022-07-05T04:25:13.108Z"
   },
   {
    "duration": 6,
    "start_time": "2022-07-05T04:25:39.556Z"
   },
   {
    "duration": 14,
    "start_time": "2022-07-05T04:26:28.724Z"
   },
   {
    "duration": 9,
    "start_time": "2022-07-05T04:26:36.066Z"
   },
   {
    "duration": 231,
    "start_time": "2022-07-05T04:26:36.485Z"
   },
   {
    "duration": 16,
    "start_time": "2022-07-05T04:29:43.263Z"
   },
   {
    "duration": 25,
    "start_time": "2022-07-05T04:29:55.064Z"
   },
   {
    "duration": 249,
    "start_time": "2022-07-05T04:30:04.853Z"
   },
   {
    "duration": 309,
    "start_time": "2022-07-05T04:30:20.183Z"
   },
   {
    "duration": 248,
    "start_time": "2022-07-05T04:30:31.231Z"
   },
   {
    "duration": 259,
    "start_time": "2022-07-05T04:32:40.235Z"
   },
   {
    "duration": 69,
    "start_time": "2022-07-05T04:39:10.422Z"
   },
   {
    "duration": 789,
    "start_time": "2022-07-05T04:39:17.530Z"
   },
   {
    "duration": 5,
    "start_time": "2022-07-05T04:39:26.379Z"
   },
   {
    "duration": 5,
    "start_time": "2022-07-05T04:59:57.163Z"
   },
   {
    "duration": 48,
    "start_time": "2022-07-05T05:01:52.326Z"
   },
   {
    "duration": 30,
    "start_time": "2022-07-05T05:02:15.744Z"
   },
   {
    "duration": 603,
    "start_time": "2022-07-05T05:04:35.124Z"
   },
   {
    "duration": 24,
    "start_time": "2022-07-05T05:04:41.586Z"
   },
   {
    "duration": 97,
    "start_time": "2022-07-05T05:10:03.045Z"
   },
   {
    "duration": 13,
    "start_time": "2022-07-05T05:11:25.234Z"
   },
   {
    "duration": 74,
    "start_time": "2022-07-05T05:12:11.283Z"
   },
   {
    "duration": 9,
    "start_time": "2022-07-05T05:12:21.145Z"
   },
   {
    "duration": 24,
    "start_time": "2022-07-05T05:12:51.455Z"
   },
   {
    "duration": 19,
    "start_time": "2022-07-05T05:14:02.495Z"
   },
   {
    "duration": 5,
    "start_time": "2022-07-05T05:18:20.777Z"
   },
   {
    "duration": 16,
    "start_time": "2022-07-05T05:18:40.901Z"
   },
   {
    "duration": 10,
    "start_time": "2022-07-05T05:19:29.352Z"
   },
   {
    "duration": 26,
    "start_time": "2022-07-05T05:19:35.371Z"
   },
   {
    "duration": 15,
    "start_time": "2022-07-05T05:19:45.513Z"
   },
   {
    "duration": 10,
    "start_time": "2022-07-05T05:20:38.952Z"
   },
   {
    "duration": 3,
    "start_time": "2022-07-05T05:20:58.150Z"
   },
   {
    "duration": 20,
    "start_time": "2022-07-05T05:21:03.641Z"
   },
   {
    "duration": 1210,
    "start_time": "2022-07-05T05:21:41.012Z"
   },
   {
    "duration": 518,
    "start_time": "2022-07-05T05:21:42.225Z"
   },
   {
    "duration": 229,
    "start_time": "2022-07-05T05:21:42.746Z"
   },
   {
    "duration": 23,
    "start_time": "2022-07-05T05:21:42.978Z"
   },
   {
    "duration": 50,
    "start_time": "2022-07-05T05:21:43.003Z"
   },
   {
    "duration": 20,
    "start_time": "2022-07-05T05:21:43.056Z"
   },
   {
    "duration": 54,
    "start_time": "2022-07-05T05:21:43.078Z"
   },
   {
    "duration": 159,
    "start_time": "2022-07-05T05:21:43.135Z"
   },
   {
    "duration": 15,
    "start_time": "2022-07-05T05:21:43.300Z"
   },
   {
    "duration": 22,
    "start_time": "2022-07-05T05:21:43.318Z"
   },
   {
    "duration": 8,
    "start_time": "2022-07-05T05:21:43.341Z"
   },
   {
    "duration": 34,
    "start_time": "2022-07-05T05:21:43.350Z"
   },
   {
    "duration": 293,
    "start_time": "2022-07-05T05:21:43.386Z"
   },
   {
    "duration": 8,
    "start_time": "2022-07-05T05:21:43.683Z"
   },
   {
    "duration": 19,
    "start_time": "2022-07-05T05:21:43.693Z"
   },
   {
    "duration": 16,
    "start_time": "2022-07-05T05:21:43.713Z"
   },
   {
    "duration": 12,
    "start_time": "2022-07-05T05:21:43.731Z"
   },
   {
    "duration": 21,
    "start_time": "2022-07-05T05:21:43.745Z"
   },
   {
    "duration": 11,
    "start_time": "2022-07-05T05:21:43.778Z"
   },
   {
    "duration": 44,
    "start_time": "2022-07-05T05:21:43.793Z"
   },
   {
    "duration": 264,
    "start_time": "2022-07-05T05:21:43.839Z"
   },
   {
    "duration": 6,
    "start_time": "2022-07-05T05:21:44.104Z"
   },
   {
    "duration": 8,
    "start_time": "2022-07-05T05:21:44.112Z"
   },
   {
    "duration": 55,
    "start_time": "2022-07-05T05:21:44.122Z"
   },
   {
    "duration": 1077,
    "start_time": "2022-07-05T05:21:44.185Z"
   },
   {
    "duration": 30,
    "start_time": "2022-07-05T05:21:45.275Z"
   },
   {
    "duration": 7,
    "start_time": "2022-07-05T05:21:45.307Z"
   },
   {
    "duration": 123,
    "start_time": "2022-07-05T05:21:45.318Z"
   },
   {
    "duration": 0,
    "start_time": "2022-07-05T05:21:45.443Z"
   },
   {
    "duration": 0,
    "start_time": "2022-07-05T05:21:45.445Z"
   },
   {
    "duration": 0,
    "start_time": "2022-07-05T05:21:45.446Z"
   },
   {
    "duration": 0,
    "start_time": "2022-07-05T05:21:45.448Z"
   },
   {
    "duration": 0,
    "start_time": "2022-07-05T05:21:45.449Z"
   },
   {
    "duration": 0,
    "start_time": "2022-07-05T05:21:45.451Z"
   },
   {
    "duration": 24,
    "start_time": "2022-07-05T05:23:11.417Z"
   },
   {
    "duration": 17,
    "start_time": "2022-07-05T05:23:11.855Z"
   },
   {
    "duration": 24,
    "start_time": "2022-07-05T05:23:12.206Z"
   },
   {
    "duration": 11,
    "start_time": "2022-07-05T05:23:24.911Z"
   },
   {
    "duration": 11,
    "start_time": "2022-07-05T05:23:32.296Z"
   },
   {
    "duration": 10,
    "start_time": "2022-07-05T05:23:40.110Z"
   },
   {
    "duration": 20,
    "start_time": "2022-07-05T05:24:07.360Z"
   },
   {
    "duration": 4,
    "start_time": "2022-07-05T05:25:37.933Z"
   },
   {
    "duration": 13,
    "start_time": "2022-07-05T05:25:41.878Z"
   },
   {
    "duration": 24,
    "start_time": "2022-07-05T05:26:30.229Z"
   },
   {
    "duration": 12,
    "start_time": "2022-07-05T05:26:41.645Z"
   },
   {
    "duration": 18,
    "start_time": "2022-07-05T05:28:23.099Z"
   },
   {
    "duration": 1046,
    "start_time": "2022-07-05T05:28:24.824Z"
   },
   {
    "duration": 26,
    "start_time": "2022-07-05T05:28:25.877Z"
   },
   {
    "duration": 8,
    "start_time": "2022-07-05T05:29:16.790Z"
   },
   {
    "duration": 10,
    "start_time": "2022-07-05T05:30:40.792Z"
   },
   {
    "duration": 14,
    "start_time": "2022-07-05T05:30:42.308Z"
   },
   {
    "duration": 4,
    "start_time": "2022-07-05T05:32:07.675Z"
   },
   {
    "duration": 4,
    "start_time": "2022-07-05T05:32:09.922Z"
   },
   {
    "duration": 4,
    "start_time": "2022-07-05T05:32:26.876Z"
   },
   {
    "duration": 24,
    "start_time": "2022-07-05T05:32:51.858Z"
   },
   {
    "duration": 16,
    "start_time": "2022-07-05T05:32:52.304Z"
   },
   {
    "duration": 12,
    "start_time": "2022-07-05T05:33:04.281Z"
   },
   {
    "duration": 16,
    "start_time": "2022-07-05T05:33:05.381Z"
   },
   {
    "duration": 12,
    "start_time": "2022-07-05T05:33:22.945Z"
   },
   {
    "duration": 4,
    "start_time": "2022-07-05T05:33:25.592Z"
   },
   {
    "duration": 9,
    "start_time": "2022-07-05T05:36:05.988Z"
   },
   {
    "duration": 3,
    "start_time": "2022-07-05T05:36:19.727Z"
   },
   {
    "duration": 16,
    "start_time": "2022-07-05T05:36:24.100Z"
   },
   {
    "duration": 13,
    "start_time": "2022-07-05T05:36:45.364Z"
   },
   {
    "duration": 15,
    "start_time": "2022-07-05T05:36:47.078Z"
   },
   {
    "duration": 4,
    "start_time": "2022-07-05T05:40:06.616Z"
   },
   {
    "duration": 18,
    "start_time": "2022-07-05T05:41:08.573Z"
   },
   {
    "duration": 13,
    "start_time": "2022-07-05T05:42:59.942Z"
   },
   {
    "duration": 13,
    "start_time": "2022-07-05T05:43:10.260Z"
   },
   {
    "duration": 4,
    "start_time": "2022-07-05T05:43:30.049Z"
   },
   {
    "duration": 16,
    "start_time": "2022-07-05T05:43:30.472Z"
   },
   {
    "duration": 20,
    "start_time": "2022-07-05T05:46:05.666Z"
   },
   {
    "duration": 7,
    "start_time": "2022-07-05T05:46:11.635Z"
   },
   {
    "duration": 8,
    "start_time": "2022-07-05T05:46:58.535Z"
   },
   {
    "duration": 6,
    "start_time": "2022-07-05T05:49:16.454Z"
   },
   {
    "duration": 6,
    "start_time": "2022-07-05T05:51:26.405Z"
   },
   {
    "duration": 13,
    "start_time": "2022-07-05T05:53:02.808Z"
   },
   {
    "duration": 4,
    "start_time": "2022-07-05T05:54:56.809Z"
   },
   {
    "duration": 4,
    "start_time": "2022-07-05T05:55:41.522Z"
   },
   {
    "duration": 11,
    "start_time": "2022-07-05T05:55:55.858Z"
   },
   {
    "duration": 7,
    "start_time": "2022-07-05T05:56:32.817Z"
   },
   {
    "duration": 45,
    "start_time": "2022-07-05T05:59:00.388Z"
   },
   {
    "duration": 42,
    "start_time": "2022-07-05T06:00:28.591Z"
   },
   {
    "duration": 50,
    "start_time": "2022-07-05T06:00:32.583Z"
   },
   {
    "duration": 66,
    "start_time": "2022-07-05T06:01:07.687Z"
   },
   {
    "duration": 60,
    "start_time": "2022-07-05T06:01:08.399Z"
   },
   {
    "duration": 72,
    "start_time": "2022-07-05T06:02:47.522Z"
   },
   {
    "duration": 1461,
    "start_time": "2022-07-05T07:45:04.992Z"
   },
   {
    "duration": 682,
    "start_time": "2022-07-05T07:45:06.455Z"
   },
   {
    "duration": 151,
    "start_time": "2022-07-05T07:45:07.138Z"
   },
   {
    "duration": 16,
    "start_time": "2022-07-05T07:45:07.292Z"
   },
   {
    "duration": 25,
    "start_time": "2022-07-05T07:45:07.310Z"
   },
   {
    "duration": 17,
    "start_time": "2022-07-05T07:45:07.336Z"
   },
   {
    "duration": 11,
    "start_time": "2022-07-05T07:45:07.355Z"
   },
   {
    "duration": 97,
    "start_time": "2022-07-05T07:45:07.369Z"
   },
   {
    "duration": 16,
    "start_time": "2022-07-05T07:45:07.468Z"
   },
   {
    "duration": 42,
    "start_time": "2022-07-05T07:45:07.487Z"
   },
   {
    "duration": 9,
    "start_time": "2022-07-05T07:45:07.532Z"
   },
   {
    "duration": 16,
    "start_time": "2022-07-05T07:45:07.543Z"
   },
   {
    "duration": 289,
    "start_time": "2022-07-05T07:45:07.561Z"
   },
   {
    "duration": 10,
    "start_time": "2022-07-05T07:45:07.852Z"
   },
   {
    "duration": 10,
    "start_time": "2022-07-05T07:45:07.863Z"
   },
   {
    "duration": 14,
    "start_time": "2022-07-05T07:45:07.874Z"
   },
   {
    "duration": 15,
    "start_time": "2022-07-05T07:45:07.890Z"
   },
   {
    "duration": 32,
    "start_time": "2022-07-05T07:45:07.906Z"
   },
   {
    "duration": 5,
    "start_time": "2022-07-05T07:45:07.940Z"
   },
   {
    "duration": 24,
    "start_time": "2022-07-05T07:45:07.947Z"
   },
   {
    "duration": 260,
    "start_time": "2022-07-05T07:45:07.973Z"
   },
   {
    "duration": 4,
    "start_time": "2022-07-05T07:45:08.235Z"
   },
   {
    "duration": 6,
    "start_time": "2022-07-05T07:45:08.241Z"
   },
   {
    "duration": 33,
    "start_time": "2022-07-05T07:45:08.249Z"
   },
   {
    "duration": 12,
    "start_time": "2022-07-05T07:45:08.284Z"
   },
   {
    "duration": 15,
    "start_time": "2022-07-05T07:45:08.298Z"
   },
   {
    "duration": 14,
    "start_time": "2022-07-05T07:45:08.324Z"
   },
   {
    "duration": 1010,
    "start_time": "2022-07-05T07:45:08.342Z"
   },
   {
    "duration": 20,
    "start_time": "2022-07-05T07:45:09.354Z"
   },
   {
    "duration": 19,
    "start_time": "2022-07-05T07:45:09.376Z"
   },
   {
    "duration": 31,
    "start_time": "2022-07-05T07:45:09.397Z"
   },
   {
    "duration": 15,
    "start_time": "2022-07-05T07:45:09.429Z"
   },
   {
    "duration": 12,
    "start_time": "2022-07-05T07:45:09.445Z"
   },
   {
    "duration": 12,
    "start_time": "2022-07-05T07:45:09.459Z"
   },
   {
    "duration": 19,
    "start_time": "2022-07-05T07:45:09.473Z"
   },
   {
    "duration": 30,
    "start_time": "2022-07-05T07:45:09.494Z"
   },
   {
    "duration": 10,
    "start_time": "2022-07-05T07:45:09.525Z"
   },
   {
    "duration": 8,
    "start_time": "2022-07-05T07:45:09.536Z"
   },
   {
    "duration": 27,
    "start_time": "2022-07-05T07:45:09.545Z"
   },
   {
    "duration": 17,
    "start_time": "2022-07-05T07:45:09.574Z"
   },
   {
    "duration": 3,
    "start_time": "2022-07-05T07:45:09.593Z"
   },
   {
    "duration": 12,
    "start_time": "2022-07-05T07:45:09.598Z"
   },
   {
    "duration": 14,
    "start_time": "2022-07-05T07:45:09.612Z"
   },
   {
    "duration": 26,
    "start_time": "2022-07-05T07:45:09.628Z"
   },
   {
    "duration": 29,
    "start_time": "2022-07-05T07:45:09.656Z"
   },
   {
    "duration": 10,
    "start_time": "2022-07-05T07:45:54.055Z"
   },
   {
    "duration": 103,
    "start_time": "2022-07-05T07:47:05.135Z"
   },
   {
    "duration": 31,
    "start_time": "2022-07-05T07:47:13.282Z"
   },
   {
    "duration": 12,
    "start_time": "2022-07-05T07:47:42.198Z"
   },
   {
    "duration": 32,
    "start_time": "2022-07-05T07:47:53.730Z"
   },
   {
    "duration": 7,
    "start_time": "2022-07-05T07:49:15.933Z"
   },
   {
    "duration": 8,
    "start_time": "2022-07-05T11:50:36.928Z"
   },
   {
    "duration": 1194,
    "start_time": "2022-07-05T11:50:49.156Z"
   },
   {
    "duration": 1387,
    "start_time": "2022-07-05T11:50:50.352Z"
   },
   {
    "duration": 126,
    "start_time": "2022-07-05T11:50:51.740Z"
   },
   {
    "duration": 14,
    "start_time": "2022-07-05T11:50:51.868Z"
   },
   {
    "duration": 23,
    "start_time": "2022-07-05T11:50:51.883Z"
   },
   {
    "duration": 9,
    "start_time": "2022-07-05T11:50:51.907Z"
   },
   {
    "duration": 29,
    "start_time": "2022-07-05T11:50:51.917Z"
   },
   {
    "duration": 81,
    "start_time": "2022-07-05T11:50:51.947Z"
   },
   {
    "duration": 12,
    "start_time": "2022-07-05T11:50:52.030Z"
   },
   {
    "duration": 19,
    "start_time": "2022-07-05T11:50:52.044Z"
   },
   {
    "duration": 8,
    "start_time": "2022-07-05T11:50:52.065Z"
   },
   {
    "duration": 36,
    "start_time": "2022-07-05T11:50:52.075Z"
   },
   {
    "duration": 221,
    "start_time": "2022-07-05T11:50:52.112Z"
   },
   {
    "duration": 3,
    "start_time": "2022-07-05T11:50:52.335Z"
   },
   {
    "duration": 21,
    "start_time": "2022-07-05T11:50:52.340Z"
   },
   {
    "duration": 15,
    "start_time": "2022-07-05T11:50:52.363Z"
   },
   {
    "duration": 11,
    "start_time": "2022-07-05T11:50:52.379Z"
   },
   {
    "duration": 18,
    "start_time": "2022-07-05T11:50:52.392Z"
   },
   {
    "duration": 5,
    "start_time": "2022-07-05T11:50:52.411Z"
   },
   {
    "duration": 27,
    "start_time": "2022-07-05T11:50:52.418Z"
   },
   {
    "duration": 207,
    "start_time": "2022-07-05T11:50:52.446Z"
   },
   {
    "duration": 4,
    "start_time": "2022-07-05T11:50:52.655Z"
   },
   {
    "duration": 19,
    "start_time": "2022-07-05T11:50:52.660Z"
   },
   {
    "duration": 28,
    "start_time": "2022-07-05T11:50:52.681Z"
   },
   {
    "duration": 5,
    "start_time": "2022-07-05T11:50:52.710Z"
   },
   {
    "duration": 8,
    "start_time": "2022-07-05T11:50:52.717Z"
   },
   {
    "duration": 7,
    "start_time": "2022-07-05T11:50:52.727Z"
   },
   {
    "duration": 1432,
    "start_time": "2022-07-05T11:50:52.737Z"
   },
   {
    "duration": 16,
    "start_time": "2022-07-05T11:50:54.171Z"
   },
   {
    "duration": 23,
    "start_time": "2022-07-05T11:50:54.189Z"
   },
   {
    "duration": 9,
    "start_time": "2022-07-05T11:50:54.213Z"
   },
   {
    "duration": 12,
    "start_time": "2022-07-05T11:50:54.223Z"
   },
   {
    "duration": 9,
    "start_time": "2022-07-05T11:50:54.236Z"
   },
   {
    "duration": 10,
    "start_time": "2022-07-05T11:50:54.246Z"
   },
   {
    "duration": 12,
    "start_time": "2022-07-05T11:50:54.258Z"
   },
   {
    "duration": 5,
    "start_time": "2022-07-05T11:50:54.271Z"
   },
   {
    "duration": 28,
    "start_time": "2022-07-05T11:50:54.277Z"
   },
   {
    "duration": 9,
    "start_time": "2022-07-05T11:50:54.307Z"
   },
   {
    "duration": 13,
    "start_time": "2022-07-05T11:50:54.317Z"
   },
   {
    "duration": 16,
    "start_time": "2022-07-05T11:50:54.331Z"
   },
   {
    "duration": 2,
    "start_time": "2022-07-05T11:50:54.349Z"
   },
   {
    "duration": 8,
    "start_time": "2022-07-05T11:50:54.352Z"
   },
   {
    "duration": 6,
    "start_time": "2022-07-05T11:50:54.362Z"
   },
   {
    "duration": 21,
    "start_time": "2022-07-05T11:50:54.369Z"
   },
   {
    "duration": 32,
    "start_time": "2022-07-05T11:50:54.391Z"
   },
   {
    "duration": 6,
    "start_time": "2022-07-05T11:50:54.425Z"
   },
   {
    "duration": 6,
    "start_time": "2022-07-05T11:50:54.432Z"
   },
   {
    "duration": 83,
    "start_time": "2022-07-05T11:51:59.699Z"
   },
   {
    "duration": 1188,
    "start_time": "2022-07-05T11:52:06.728Z"
   },
   {
    "duration": 1217,
    "start_time": "2022-07-05T11:53:12.107Z"
   },
   {
    "duration": 25,
    "start_time": "2022-07-05T11:53:53.276Z"
   },
   {
    "duration": 3,
    "start_time": "2022-07-05T11:54:12.912Z"
   },
   {
    "duration": 10,
    "start_time": "2022-07-05T11:54:26.596Z"
   },
   {
    "duration": 22,
    "start_time": "2022-07-05T11:56:02.529Z"
   },
   {
    "duration": 29,
    "start_time": "2022-07-05T11:56:05.998Z"
   },
   {
    "duration": 8,
    "start_time": "2022-07-05T11:56:34.474Z"
   },
   {
    "duration": 5,
    "start_time": "2022-07-05T11:56:37.157Z"
   },
   {
    "duration": 1209,
    "start_time": "2022-07-05T11:57:24.963Z"
   },
   {
    "duration": 3,
    "start_time": "2022-07-05T11:58:47.267Z"
   },
   {
    "duration": 6,
    "start_time": "2022-07-05T11:59:23.439Z"
   },
   {
    "duration": 19,
    "start_time": "2022-07-05T11:59:28.315Z"
   },
   {
    "duration": 5,
    "start_time": "2022-07-05T12:00:23.129Z"
   },
   {
    "duration": 1500,
    "start_time": "2022-07-05T12:00:26.328Z"
   },
   {
    "duration": 7,
    "start_time": "2022-07-05T12:02:03.553Z"
   },
   {
    "duration": 4,
    "start_time": "2022-07-05T12:02:07.060Z"
   },
   {
    "duration": 1914,
    "start_time": "2022-07-05T12:02:07.495Z"
   },
   {
    "duration": 1052,
    "start_time": "2022-07-05T12:03:55.936Z"
   },
   {
    "duration": 397,
    "start_time": "2022-07-05T12:03:56.990Z"
   },
   {
    "duration": 157,
    "start_time": "2022-07-05T12:03:57.388Z"
   },
   {
    "duration": 15,
    "start_time": "2022-07-05T12:03:57.547Z"
   },
   {
    "duration": 13,
    "start_time": "2022-07-05T12:03:57.563Z"
   },
   {
    "duration": 25,
    "start_time": "2022-07-05T12:03:57.578Z"
   },
   {
    "duration": 11,
    "start_time": "2022-07-05T12:03:57.605Z"
   },
   {
    "duration": 86,
    "start_time": "2022-07-05T12:03:57.618Z"
   },
   {
    "duration": 14,
    "start_time": "2022-07-05T12:03:57.706Z"
   },
   {
    "duration": 25,
    "start_time": "2022-07-05T12:03:57.723Z"
   },
   {
    "duration": 8,
    "start_time": "2022-07-05T12:03:57.749Z"
   },
   {
    "duration": 21,
    "start_time": "2022-07-05T12:03:57.758Z"
   },
   {
    "duration": 249,
    "start_time": "2022-07-05T12:03:57.781Z"
   },
   {
    "duration": 4,
    "start_time": "2022-07-05T12:03:58.031Z"
   },
   {
    "duration": 12,
    "start_time": "2022-07-05T12:03:58.036Z"
   },
   {
    "duration": 18,
    "start_time": "2022-07-05T12:03:58.050Z"
   },
   {
    "duration": 14,
    "start_time": "2022-07-05T12:03:58.069Z"
   },
   {
    "duration": 23,
    "start_time": "2022-07-05T12:03:58.084Z"
   },
   {
    "duration": 6,
    "start_time": "2022-07-05T12:03:58.109Z"
   },
   {
    "duration": 32,
    "start_time": "2022-07-05T12:03:58.116Z"
   },
   {
    "duration": 215,
    "start_time": "2022-07-05T12:03:58.149Z"
   },
   {
    "duration": 4,
    "start_time": "2022-07-05T12:03:58.365Z"
   },
   {
    "duration": 11,
    "start_time": "2022-07-05T12:03:58.371Z"
   },
   {
    "duration": 29,
    "start_time": "2022-07-05T12:03:58.384Z"
   },
   {
    "duration": 7,
    "start_time": "2022-07-05T12:03:58.414Z"
   },
   {
    "duration": 7,
    "start_time": "2022-07-05T12:03:58.423Z"
   },
   {
    "duration": 8,
    "start_time": "2022-07-05T12:03:58.432Z"
   },
   {
    "duration": 922,
    "start_time": "2022-07-05T12:03:58.443Z"
   },
   {
    "duration": 17,
    "start_time": "2022-07-05T12:03:59.367Z"
   },
   {
    "duration": 33,
    "start_time": "2022-07-05T12:03:59.386Z"
   },
   {
    "duration": 14,
    "start_time": "2022-07-05T12:03:59.420Z"
   },
   {
    "duration": 18,
    "start_time": "2022-07-05T12:03:59.436Z"
   },
   {
    "duration": 11,
    "start_time": "2022-07-05T12:03:59.456Z"
   },
   {
    "duration": 14,
    "start_time": "2022-07-05T12:03:59.468Z"
   },
   {
    "duration": 23,
    "start_time": "2022-07-05T12:03:59.483Z"
   },
   {
    "duration": 19,
    "start_time": "2022-07-05T12:03:59.507Z"
   },
   {
    "duration": 13,
    "start_time": "2022-07-05T12:03:59.528Z"
   },
   {
    "duration": 13,
    "start_time": "2022-07-05T12:03:59.542Z"
   },
   {
    "duration": 12,
    "start_time": "2022-07-05T12:03:59.557Z"
   },
   {
    "duration": 15,
    "start_time": "2022-07-05T12:03:59.570Z"
   },
   {
    "duration": 2,
    "start_time": "2022-07-05T12:03:59.586Z"
   },
   {
    "duration": 10,
    "start_time": "2022-07-05T12:03:59.590Z"
   },
   {
    "duration": 21,
    "start_time": "2022-07-05T12:03:59.601Z"
   },
   {
    "duration": 30,
    "start_time": "2022-07-05T12:03:59.623Z"
   },
   {
    "duration": 21,
    "start_time": "2022-07-05T12:03:59.654Z"
   },
   {
    "duration": 6,
    "start_time": "2022-07-05T12:03:59.676Z"
   },
   {
    "duration": 7,
    "start_time": "2022-07-05T12:03:59.683Z"
   },
   {
    "duration": 8,
    "start_time": "2022-07-05T12:03:59.691Z"
   },
   {
    "duration": 1425,
    "start_time": "2022-07-05T12:03:59.700Z"
   },
   {
    "duration": 10,
    "start_time": "2022-07-05T12:06:17.225Z"
   },
   {
    "duration": 1249,
    "start_time": "2022-07-05T12:06:27.737Z"
   },
   {
    "duration": 4,
    "start_time": "2022-07-05T12:09:05.067Z"
   },
   {
    "duration": 12,
    "start_time": "2022-07-05T12:09:12.196Z"
   },
   {
    "duration": 21,
    "start_time": "2022-07-05T12:09:41.487Z"
   },
   {
    "duration": 21,
    "start_time": "2022-07-05T12:09:43.027Z"
   },
   {
    "duration": 8,
    "start_time": "2022-07-05T12:09:46.106Z"
   },
   {
    "duration": 4,
    "start_time": "2022-07-05T12:09:47.658Z"
   },
   {
    "duration": 23,
    "start_time": "2022-07-05T12:10:22.727Z"
   },
   {
    "duration": 28,
    "start_time": "2022-07-05T12:10:22.752Z"
   },
   {
    "duration": 9,
    "start_time": "2022-07-05T12:10:27.056Z"
   },
   {
    "duration": 4,
    "start_time": "2022-07-05T12:10:28.197Z"
   },
   {
    "duration": 23,
    "start_time": "2022-07-05T12:10:33.597Z"
   },
   {
    "duration": 5,
    "start_time": "2022-07-05T12:10:37.200Z"
   },
   {
    "duration": 1244,
    "start_time": "2022-07-05T12:10:39.627Z"
   },
   {
    "duration": 25,
    "start_time": "2022-07-05T12:11:09.427Z"
   },
   {
    "duration": 20,
    "start_time": "2022-07-05T12:11:09.947Z"
   },
   {
    "duration": 7,
    "start_time": "2022-07-05T12:11:12.209Z"
   },
   {
    "duration": 4,
    "start_time": "2022-07-05T12:11:12.827Z"
   },
   {
    "duration": 6,
    "start_time": "2022-07-05T12:11:15.327Z"
   },
   {
    "duration": 64,
    "start_time": "2022-07-05T12:11:15.705Z"
   },
   {
    "duration": 20,
    "start_time": "2022-07-05T12:11:26.986Z"
   },
   {
    "duration": 33,
    "start_time": "2022-07-05T12:17:09.476Z"
   },
   {
    "duration": 7,
    "start_time": "2022-07-05T12:17:32.928Z"
   },
   {
    "duration": 30,
    "start_time": "2022-07-05T12:17:42.427Z"
   },
   {
    "duration": 9,
    "start_time": "2022-07-05T12:18:13.392Z"
   },
   {
    "duration": 11,
    "start_time": "2022-07-05T14:30:28.430Z"
   },
   {
    "duration": 13,
    "start_time": "2022-07-05T14:31:04.639Z"
   },
   {
    "duration": 13,
    "start_time": "2022-07-05T14:31:12.040Z"
   },
   {
    "duration": 9,
    "start_time": "2022-07-05T14:33:11.433Z"
   },
   {
    "duration": 9,
    "start_time": "2022-07-05T14:33:34.421Z"
   },
   {
    "duration": 12,
    "start_time": "2022-07-05T14:33:38.348Z"
   },
   {
    "duration": 7,
    "start_time": "2022-07-05T14:34:41.470Z"
   },
   {
    "duration": 12,
    "start_time": "2022-07-05T14:34:42.258Z"
   },
   {
    "duration": 1367,
    "start_time": "2022-07-05T14:38:58.113Z"
   },
   {
    "duration": 677,
    "start_time": "2022-07-05T14:39:37.441Z"
   },
   {
    "duration": 129,
    "start_time": "2022-07-05T14:39:44.744Z"
   },
   {
    "duration": 718,
    "start_time": "2022-07-05T14:39:47.092Z"
   },
   {
    "duration": 573,
    "start_time": "2022-07-05T14:40:40.504Z"
   },
   {
    "duration": 8,
    "start_time": "2022-07-05T14:41:11.249Z"
   },
   {
    "duration": 24,
    "start_time": "2022-07-05T14:41:17.828Z"
   },
   {
    "duration": 19,
    "start_time": "2022-07-05T14:41:45.828Z"
   },
   {
    "duration": 745,
    "start_time": "2022-07-05T14:42:34.049Z"
   },
   {
    "duration": 20,
    "start_time": "2022-07-05T14:46:35.433Z"
   },
   {
    "duration": 20,
    "start_time": "2022-07-05T14:46:39.871Z"
   },
   {
    "duration": 9,
    "start_time": "2022-07-05T14:46:43.140Z"
   },
   {
    "duration": 13,
    "start_time": "2022-07-05T14:51:14.524Z"
   },
   {
    "duration": 26,
    "start_time": "2022-07-05T14:51:37.062Z"
   },
   {
    "duration": 19,
    "start_time": "2022-07-05T14:51:46.150Z"
   },
   {
    "duration": 16,
    "start_time": "2022-07-05T14:52:06.500Z"
   },
   {
    "duration": 14,
    "start_time": "2022-07-05T14:52:32.655Z"
   },
   {
    "duration": 27,
    "start_time": "2022-07-05T14:53:12.712Z"
   },
   {
    "duration": 23,
    "start_time": "2022-07-05T14:53:23.391Z"
   },
   {
    "duration": 1458,
    "start_time": "2022-07-06T04:09:42.195Z"
   },
   {
    "duration": 1655,
    "start_time": "2022-07-06T04:09:43.655Z"
   },
   {
    "duration": 159,
    "start_time": "2022-07-06T04:09:45.312Z"
   },
   {
    "duration": 25,
    "start_time": "2022-07-06T04:09:45.473Z"
   },
   {
    "duration": 14,
    "start_time": "2022-07-06T04:09:45.500Z"
   },
   {
    "duration": 15,
    "start_time": "2022-07-06T04:09:45.516Z"
   },
   {
    "duration": 14,
    "start_time": "2022-07-06T04:09:45.534Z"
   },
   {
    "duration": 122,
    "start_time": "2022-07-06T04:09:45.549Z"
   },
   {
    "duration": 14,
    "start_time": "2022-07-06T04:09:45.673Z"
   },
   {
    "duration": 26,
    "start_time": "2022-07-06T04:09:45.697Z"
   },
   {
    "duration": 9,
    "start_time": "2022-07-06T04:09:45.725Z"
   },
   {
    "duration": 17,
    "start_time": "2022-07-06T04:09:45.735Z"
   },
   {
    "duration": 315,
    "start_time": "2022-07-06T04:09:45.754Z"
   },
   {
    "duration": 6,
    "start_time": "2022-07-06T04:09:46.071Z"
   },
   {
    "duration": 20,
    "start_time": "2022-07-06T04:09:46.080Z"
   },
   {
    "duration": 24,
    "start_time": "2022-07-06T04:09:46.102Z"
   },
   {
    "duration": 13,
    "start_time": "2022-07-06T04:09:46.128Z"
   },
   {
    "duration": 19,
    "start_time": "2022-07-06T04:09:46.143Z"
   },
   {
    "duration": 36,
    "start_time": "2022-07-06T04:09:46.163Z"
   },
   {
    "duration": 25,
    "start_time": "2022-07-06T04:09:46.201Z"
   },
   {
    "duration": 271,
    "start_time": "2022-07-06T04:09:46.227Z"
   },
   {
    "duration": 4,
    "start_time": "2022-07-06T04:09:46.500Z"
   },
   {
    "duration": 7,
    "start_time": "2022-07-06T04:09:46.506Z"
   },
   {
    "duration": 30,
    "start_time": "2022-07-06T04:09:46.515Z"
   },
   {
    "duration": 6,
    "start_time": "2022-07-06T04:09:46.549Z"
   },
   {
    "duration": 11,
    "start_time": "2022-07-06T04:09:46.557Z"
   },
   {
    "duration": 7,
    "start_time": "2022-07-06T04:09:46.569Z"
   },
   {
    "duration": 2,
    "start_time": "2022-07-06T04:09:46.601Z"
   },
   {
    "duration": 5,
    "start_time": "2022-07-06T04:09:46.605Z"
   },
   {
    "duration": 35,
    "start_time": "2022-07-06T04:09:46.613Z"
   },
   {
    "duration": 23,
    "start_time": "2022-07-06T04:09:46.651Z"
   },
   {
    "duration": 29,
    "start_time": "2022-07-06T04:09:46.677Z"
   },
   {
    "duration": 23,
    "start_time": "2022-07-06T04:09:46.708Z"
   },
   {
    "duration": 33,
    "start_time": "2022-07-06T04:09:46.733Z"
   },
   {
    "duration": 37,
    "start_time": "2022-07-06T04:09:46.768Z"
   },
   {
    "duration": 24,
    "start_time": "2022-07-06T04:09:46.807Z"
   },
   {
    "duration": 19,
    "start_time": "2022-07-06T04:09:46.833Z"
   },
   {
    "duration": 10,
    "start_time": "2022-07-06T04:09:46.855Z"
   },
   {
    "duration": 17,
    "start_time": "2022-07-06T04:09:46.867Z"
   },
   {
    "duration": 21,
    "start_time": "2022-07-06T04:09:46.886Z"
   },
   {
    "duration": 3,
    "start_time": "2022-07-06T04:09:46.909Z"
   },
   {
    "duration": 40,
    "start_time": "2022-07-06T04:09:46.914Z"
   },
   {
    "duration": 9,
    "start_time": "2022-07-06T04:09:46.956Z"
   },
   {
    "duration": 36,
    "start_time": "2022-07-06T04:09:46.967Z"
   },
   {
    "duration": 26,
    "start_time": "2022-07-06T04:09:47.004Z"
   },
   {
    "duration": 9,
    "start_time": "2022-07-06T04:09:47.031Z"
   },
   {
    "duration": 4,
    "start_time": "2022-07-06T04:09:47.042Z"
   },
   {
    "duration": 8,
    "start_time": "2022-07-06T04:09:47.048Z"
   },
   {
    "duration": 125,
    "start_time": "2022-07-06T04:09:47.058Z"
   },
   {
    "duration": 32,
    "start_time": "2022-07-06T04:09:47.184Z"
   },
   {
    "duration": 6,
    "start_time": "2022-07-06T04:09:47.218Z"
   },
   {
    "duration": 9,
    "start_time": "2022-07-06T04:09:47.226Z"
   },
   {
    "duration": 2,
    "start_time": "2022-07-06T04:09:47.237Z"
   },
   {
    "duration": 6,
    "start_time": "2022-07-06T04:09:47.241Z"
   },
   {
    "duration": 13,
    "start_time": "2022-07-06T04:09:47.248Z"
   },
   {
    "duration": 40,
    "start_time": "2022-07-06T04:09:47.263Z"
   },
   {
    "duration": 679,
    "start_time": "2022-07-06T04:09:47.305Z"
   },
   {
    "duration": 24,
    "start_time": "2022-07-06T04:09:47.986Z"
   },
   {
    "duration": 30,
    "start_time": "2022-07-06T04:09:48.012Z"
   },
   {
    "duration": 20,
    "start_time": "2022-07-06T04:09:48.044Z"
   },
   {
    "duration": 9,
    "start_time": "2022-07-06T04:14:06.062Z"
   },
   {
    "duration": 24,
    "start_time": "2022-07-06T04:14:07.738Z"
   },
   {
    "duration": 10,
    "start_time": "2022-07-06T04:15:13.464Z"
   },
   {
    "duration": 15,
    "start_time": "2022-07-06T04:15:18.545Z"
   },
   {
    "duration": 12,
    "start_time": "2022-07-06T04:15:44.724Z"
   },
   {
    "duration": 19,
    "start_time": "2022-07-06T04:16:01.024Z"
   },
   {
    "duration": 76,
    "start_time": "2022-07-06T04:16:31.511Z"
   },
   {
    "duration": 22,
    "start_time": "2022-07-06T04:20:38.060Z"
   },
   {
    "duration": 17,
    "start_time": "2022-07-06T04:20:45.097Z"
   },
   {
    "duration": 107,
    "start_time": "2022-07-06T04:24:33.396Z"
   },
   {
    "duration": 342,
    "start_time": "2022-07-06T04:26:17.410Z"
   },
   {
    "duration": 333,
    "start_time": "2022-07-06T04:26:23.570Z"
   },
   {
    "duration": 910,
    "start_time": "2022-07-06T04:26:26.897Z"
   },
   {
    "duration": 75,
    "start_time": "2022-07-06T04:29:21.611Z"
   },
   {
    "duration": 4,
    "start_time": "2022-07-06T04:29:57.747Z"
   },
   {
    "duration": 314,
    "start_time": "2022-07-06T04:30:18.036Z"
   },
   {
    "duration": 4,
    "start_time": "2022-07-06T04:30:59.498Z"
   },
   {
    "duration": 260,
    "start_time": "2022-07-06T04:31:01.242Z"
   },
   {
    "duration": 3,
    "start_time": "2022-07-06T04:31:13.723Z"
   },
   {
    "duration": 164,
    "start_time": "2022-07-06T04:31:14.810Z"
   },
   {
    "duration": 4,
    "start_time": "2022-07-06T04:31:40.051Z"
   },
   {
    "duration": 163,
    "start_time": "2022-07-06T04:31:42.306Z"
   },
   {
    "duration": 3,
    "start_time": "2022-07-06T04:31:56.154Z"
   },
   {
    "duration": 3,
    "start_time": "2022-07-06T04:31:59.242Z"
   },
   {
    "duration": 284,
    "start_time": "2022-07-06T04:31:59.957Z"
   },
   {
    "duration": 3,
    "start_time": "2022-07-06T04:32:19.130Z"
   },
   {
    "duration": 242,
    "start_time": "2022-07-06T04:32:20.090Z"
   },
   {
    "duration": 4,
    "start_time": "2022-07-06T04:32:28.065Z"
   },
   {
    "duration": 747,
    "start_time": "2022-07-06T04:32:29.009Z"
   },
   {
    "duration": 3,
    "start_time": "2022-07-06T04:35:41.836Z"
   },
   {
    "duration": 958,
    "start_time": "2022-07-06T04:35:45.045Z"
   },
   {
    "duration": 3,
    "start_time": "2022-07-06T04:35:53.725Z"
   },
   {
    "duration": 9,
    "start_time": "2022-07-06T04:35:54.340Z"
   },
   {
    "duration": 3,
    "start_time": "2022-07-06T04:36:06.085Z"
   },
   {
    "duration": 260,
    "start_time": "2022-07-06T04:36:07.515Z"
   },
   {
    "duration": 4,
    "start_time": "2022-07-06T04:36:39.331Z"
   },
   {
    "duration": 368,
    "start_time": "2022-07-06T04:36:39.980Z"
   },
   {
    "duration": 3,
    "start_time": "2022-07-06T04:36:48.227Z"
   },
   {
    "duration": 286,
    "start_time": "2022-07-06T04:36:49.332Z"
   },
   {
    "duration": 5,
    "start_time": "2022-07-06T04:37:06.802Z"
   },
   {
    "duration": 267,
    "start_time": "2022-07-06T04:37:07.106Z"
   },
   {
    "duration": 3,
    "start_time": "2022-07-06T04:37:56.084Z"
   },
   {
    "duration": 217,
    "start_time": "2022-07-06T04:37:56.639Z"
   },
   {
    "duration": 3,
    "start_time": "2022-07-06T04:38:07.162Z"
   },
   {
    "duration": 4,
    "start_time": "2022-07-06T04:38:10.834Z"
   },
   {
    "duration": 272,
    "start_time": "2022-07-06T04:38:11.194Z"
   },
   {
    "duration": 4,
    "start_time": "2022-07-06T04:38:41.466Z"
   },
   {
    "duration": 18,
    "start_time": "2022-07-06T04:38:41.952Z"
   },
   {
    "duration": 18,
    "start_time": "2022-07-06T04:39:34.631Z"
   },
   {
    "duration": 4,
    "start_time": "2022-07-06T04:42:06.982Z"
   },
   {
    "duration": 266,
    "start_time": "2022-07-06T04:42:07.925Z"
   },
   {
    "duration": 3,
    "start_time": "2022-07-06T04:47:45.214Z"
   },
   {
    "duration": 247,
    "start_time": "2022-07-06T04:47:45.684Z"
   },
   {
    "duration": 4,
    "start_time": "2022-07-06T04:48:05.052Z"
   },
   {
    "duration": 308,
    "start_time": "2022-07-06T04:48:05.987Z"
   },
   {
    "duration": 4,
    "start_time": "2022-07-06T04:48:34.515Z"
   },
   {
    "duration": 296,
    "start_time": "2022-07-06T04:48:35.251Z"
   },
   {
    "duration": 80,
    "start_time": "2022-07-06T04:49:07.267Z"
   },
   {
    "duration": 3,
    "start_time": "2022-07-06T04:49:19.180Z"
   },
   {
    "duration": 426,
    "start_time": "2022-07-06T04:49:19.793Z"
   },
   {
    "duration": 3,
    "start_time": "2022-07-06T04:49:36.346Z"
   },
   {
    "duration": 309,
    "start_time": "2022-07-06T04:49:36.785Z"
   },
   {
    "duration": 5,
    "start_time": "2022-07-06T04:50:35.513Z"
   },
   {
    "duration": 336,
    "start_time": "2022-07-06T04:50:36.038Z"
   },
   {
    "duration": 4,
    "start_time": "2022-07-06T04:50:41.207Z"
   },
   {
    "duration": 258,
    "start_time": "2022-07-06T04:50:41.606Z"
   },
   {
    "duration": 5,
    "start_time": "2022-07-06T04:50:46.647Z"
   },
   {
    "duration": 231,
    "start_time": "2022-07-06T04:50:46.969Z"
   },
   {
    "duration": 3,
    "start_time": "2022-07-06T04:52:19.398Z"
   },
   {
    "duration": 158,
    "start_time": "2022-07-06T04:52:20.415Z"
   },
   {
    "duration": 4,
    "start_time": "2022-07-06T04:52:25.573Z"
   },
   {
    "duration": 292,
    "start_time": "2022-07-06T04:52:26.254Z"
   },
   {
    "duration": 70,
    "start_time": "2022-07-06T04:53:40.692Z"
   },
   {
    "duration": 386,
    "start_time": "2022-07-06T04:53:41.107Z"
   },
   {
    "duration": 5,
    "start_time": "2022-07-06T04:53:49.483Z"
   },
   {
    "duration": 161,
    "start_time": "2022-07-06T04:53:50.106Z"
   },
   {
    "duration": 4,
    "start_time": "2022-07-06T04:55:03.906Z"
   },
   {
    "duration": 213,
    "start_time": "2022-07-06T04:55:04.450Z"
   },
   {
    "duration": 4,
    "start_time": "2022-07-06T04:56:10.352Z"
   },
   {
    "duration": 229,
    "start_time": "2022-07-06T04:56:10.783Z"
   },
   {
    "duration": 4,
    "start_time": "2022-07-06T04:56:31.123Z"
   },
   {
    "duration": 269,
    "start_time": "2022-07-06T04:56:31.567Z"
   },
   {
    "duration": 4,
    "start_time": "2022-07-06T04:57:41.158Z"
   },
   {
    "duration": 247,
    "start_time": "2022-07-06T04:57:41.398Z"
   },
   {
    "duration": 79,
    "start_time": "2022-07-06T04:57:59.069Z"
   },
   {
    "duration": 246,
    "start_time": "2022-07-06T04:57:59.437Z"
   },
   {
    "duration": 4,
    "start_time": "2022-07-06T04:58:08.279Z"
   },
   {
    "duration": 229,
    "start_time": "2022-07-06T04:58:09.045Z"
   },
   {
    "duration": 260,
    "start_time": "2022-07-06T04:58:49.686Z"
   },
   {
    "duration": 249,
    "start_time": "2022-07-06T04:59:03.904Z"
   },
   {
    "duration": 4,
    "start_time": "2022-07-06T05:01:08.227Z"
   },
   {
    "duration": 370,
    "start_time": "2022-07-06T05:01:08.802Z"
   },
   {
    "duration": 5,
    "start_time": "2022-07-06T05:01:30.850Z"
   },
   {
    "duration": 246,
    "start_time": "2022-07-06T05:01:31.003Z"
   },
   {
    "duration": 247,
    "start_time": "2022-07-06T05:01:48.610Z"
   },
   {
    "duration": 4,
    "start_time": "2022-07-06T05:02:04.738Z"
   },
   {
    "duration": 234,
    "start_time": "2022-07-06T05:02:08.172Z"
   },
   {
    "duration": 4,
    "start_time": "2022-07-06T05:03:45.321Z"
   },
   {
    "duration": 9,
    "start_time": "2022-07-06T05:03:46.322Z"
   },
   {
    "duration": 267,
    "start_time": "2022-07-06T05:03:56.247Z"
   },
   {
    "duration": 262,
    "start_time": "2022-07-06T05:04:12.577Z"
   },
   {
    "duration": 5,
    "start_time": "2022-07-06T05:04:38.943Z"
   },
   {
    "duration": 9,
    "start_time": "2022-07-06T05:04:39.224Z"
   },
   {
    "duration": 4,
    "start_time": "2022-07-06T05:04:46.352Z"
   },
   {
    "duration": 261,
    "start_time": "2022-07-06T05:04:46.767Z"
   },
   {
    "duration": 4,
    "start_time": "2022-07-06T05:06:23.800Z"
   },
   {
    "duration": 174,
    "start_time": "2022-07-06T05:06:24.277Z"
   },
   {
    "duration": 4,
    "start_time": "2022-07-06T05:06:42.224Z"
   },
   {
    "duration": 163,
    "start_time": "2022-07-06T05:06:42.462Z"
   },
   {
    "duration": 74,
    "start_time": "2022-07-06T05:07:03.350Z"
   },
   {
    "duration": 181,
    "start_time": "2022-07-06T05:07:03.502Z"
   },
   {
    "duration": 4,
    "start_time": "2022-07-06T05:07:22.366Z"
   },
   {
    "duration": 252,
    "start_time": "2022-07-06T05:07:23.015Z"
   },
   {
    "duration": 380,
    "start_time": "2022-07-06T05:08:25.492Z"
   },
   {
    "duration": 256,
    "start_time": "2022-07-06T05:09:09.893Z"
   },
   {
    "duration": 5,
    "start_time": "2022-07-06T05:09:38.594Z"
   },
   {
    "duration": 165,
    "start_time": "2022-07-06T05:09:39.146Z"
   },
   {
    "duration": 4,
    "start_time": "2022-07-06T05:09:57.067Z"
   },
   {
    "duration": 282,
    "start_time": "2022-07-06T05:09:57.516Z"
   },
   {
    "duration": 6,
    "start_time": "2022-07-06T05:10:46.660Z"
   },
   {
    "duration": 265,
    "start_time": "2022-07-06T05:10:46.940Z"
   },
   {
    "duration": 1229,
    "start_time": "2022-07-06T05:11:52.186Z"
   },
   {
    "duration": 1188,
    "start_time": "2022-07-06T05:12:07.073Z"
   },
   {
    "duration": 260,
    "start_time": "2022-07-06T05:12:13.857Z"
   },
   {
    "duration": 257,
    "start_time": "2022-07-06T05:14:13.926Z"
   },
   {
    "duration": 5,
    "start_time": "2022-07-06T05:14:43.648Z"
   },
   {
    "duration": 267,
    "start_time": "2022-07-06T05:14:44.076Z"
   },
   {
    "duration": 324,
    "start_time": "2022-07-06T05:14:46.711Z"
   },
   {
    "duration": 236,
    "start_time": "2022-07-06T05:14:51.076Z"
   },
   {
    "duration": 4,
    "start_time": "2022-07-06T05:14:58.653Z"
   },
   {
    "duration": 255,
    "start_time": "2022-07-06T05:14:59.076Z"
   },
   {
    "duration": 358,
    "start_time": "2022-07-06T05:15:00.542Z"
   },
   {
    "duration": 262,
    "start_time": "2022-07-06T05:15:01.989Z"
   },
   {
    "duration": 1338,
    "start_time": "2022-07-06T05:18:05.777Z"
   },
   {
    "duration": 933,
    "start_time": "2022-07-06T05:18:17.890Z"
   },
   {
    "duration": 1348,
    "start_time": "2022-07-06T05:20:52.663Z"
   },
   {
    "duration": 187,
    "start_time": "2022-07-06T05:35:28.747Z"
   },
   {
    "duration": 268,
    "start_time": "2022-07-06T05:35:35.154Z"
   },
   {
    "duration": 12,
    "start_time": "2022-07-06T05:54:09.488Z"
   },
   {
    "duration": 12,
    "start_time": "2022-07-06T05:56:39.983Z"
   },
   {
    "duration": 31,
    "start_time": "2022-07-06T06:04:43.227Z"
   },
   {
    "duration": 11,
    "start_time": "2022-07-06T06:05:00.852Z"
   },
   {
    "duration": 6,
    "start_time": "2022-07-06T06:05:34.634Z"
   },
   {
    "duration": 9,
    "start_time": "2022-07-06T06:07:24.015Z"
   },
   {
    "duration": 9,
    "start_time": "2022-07-06T06:07:45.431Z"
   },
   {
    "duration": 7,
    "start_time": "2022-07-06T06:07:55.886Z"
   },
   {
    "duration": 8,
    "start_time": "2022-07-06T06:08:01.574Z"
   },
   {
    "duration": 17,
    "start_time": "2022-07-06T06:11:27.897Z"
   },
   {
    "duration": 11,
    "start_time": "2022-07-06T06:11:41.729Z"
   },
   {
    "duration": 13,
    "start_time": "2022-07-06T06:11:50.992Z"
   },
   {
    "duration": 12,
    "start_time": "2022-07-06T06:11:52.089Z"
   },
   {
    "duration": 11,
    "start_time": "2022-07-06T06:12:27.312Z"
   },
   {
    "duration": 12,
    "start_time": "2022-07-06T06:12:29.958Z"
   },
   {
    "duration": 131,
    "start_time": "2022-07-06T06:14:19.677Z"
   },
   {
    "duration": 11,
    "start_time": "2022-07-06T06:14:26.528Z"
   },
   {
    "duration": 1480,
    "start_time": "2022-07-06T07:40:18.835Z"
   },
   {
    "duration": 1962,
    "start_time": "2022-07-06T07:40:20.316Z"
   },
   {
    "duration": 148,
    "start_time": "2022-07-06T07:40:22.279Z"
   },
   {
    "duration": 35,
    "start_time": "2022-07-06T07:40:22.430Z"
   },
   {
    "duration": 12,
    "start_time": "2022-07-06T07:40:22.467Z"
   },
   {
    "duration": 14,
    "start_time": "2022-07-06T07:40:22.480Z"
   },
   {
    "duration": 12,
    "start_time": "2022-07-06T07:40:22.496Z"
   },
   {
    "duration": 92,
    "start_time": "2022-07-06T07:40:22.509Z"
   },
   {
    "duration": 12,
    "start_time": "2022-07-06T07:40:22.603Z"
   },
   {
    "duration": 21,
    "start_time": "2022-07-06T07:40:22.617Z"
   },
   {
    "duration": 21,
    "start_time": "2022-07-06T07:40:22.639Z"
   },
   {
    "duration": 19,
    "start_time": "2022-07-06T07:40:22.662Z"
   },
   {
    "duration": 264,
    "start_time": "2022-07-06T07:40:22.683Z"
   },
   {
    "duration": 5,
    "start_time": "2022-07-06T07:40:22.949Z"
   },
   {
    "duration": 19,
    "start_time": "2022-07-06T07:40:22.957Z"
   },
   {
    "duration": 18,
    "start_time": "2022-07-06T07:40:22.978Z"
   },
   {
    "duration": 21,
    "start_time": "2022-07-06T07:40:22.997Z"
   },
   {
    "duration": 19,
    "start_time": "2022-07-06T07:40:23.020Z"
   },
   {
    "duration": 16,
    "start_time": "2022-07-06T07:40:23.040Z"
   },
   {
    "duration": 38,
    "start_time": "2022-07-06T07:40:23.059Z"
   },
   {
    "duration": 227,
    "start_time": "2022-07-06T07:40:23.099Z"
   },
   {
    "duration": 5,
    "start_time": "2022-07-06T07:40:23.328Z"
   },
   {
    "duration": 20,
    "start_time": "2022-07-06T07:40:23.335Z"
   },
   {
    "duration": 36,
    "start_time": "2022-07-06T07:40:23.358Z"
   },
   {
    "duration": 7,
    "start_time": "2022-07-06T07:40:23.395Z"
   },
   {
    "duration": 7,
    "start_time": "2022-07-06T07:40:23.403Z"
   },
   {
    "duration": 7,
    "start_time": "2022-07-06T07:40:23.411Z"
   },
   {
    "duration": 2,
    "start_time": "2022-07-06T07:40:23.422Z"
   },
   {
    "duration": 4,
    "start_time": "2022-07-06T07:40:23.425Z"
   },
   {
    "duration": 40,
    "start_time": "2022-07-06T07:40:23.431Z"
   },
   {
    "duration": 14,
    "start_time": "2022-07-06T07:40:23.474Z"
   },
   {
    "duration": 13,
    "start_time": "2022-07-06T07:40:23.490Z"
   },
   {
    "duration": 13,
    "start_time": "2022-07-06T07:40:23.505Z"
   },
   {
    "duration": 35,
    "start_time": "2022-07-06T07:40:23.520Z"
   },
   {
    "duration": 21,
    "start_time": "2022-07-06T07:40:23.557Z"
   },
   {
    "duration": 14,
    "start_time": "2022-07-06T07:40:23.579Z"
   },
   {
    "duration": 11,
    "start_time": "2022-07-06T07:40:23.594Z"
   },
   {
    "duration": 7,
    "start_time": "2022-07-06T07:40:23.606Z"
   },
   {
    "duration": 12,
    "start_time": "2022-07-06T07:40:23.614Z"
   },
   {
    "duration": 25,
    "start_time": "2022-07-06T07:40:23.628Z"
   },
   {
    "duration": 3,
    "start_time": "2022-07-06T07:40:23.655Z"
   },
   {
    "duration": 17,
    "start_time": "2022-07-06T07:40:23.660Z"
   },
   {
    "duration": 14,
    "start_time": "2022-07-06T07:40:23.679Z"
   },
   {
    "duration": 27,
    "start_time": "2022-07-06T07:40:23.694Z"
   },
   {
    "duration": 30,
    "start_time": "2022-07-06T07:40:23.723Z"
   },
   {
    "duration": 14,
    "start_time": "2022-07-06T07:40:23.755Z"
   },
   {
    "duration": 13,
    "start_time": "2022-07-06T07:40:23.770Z"
   },
   {
    "duration": 6,
    "start_time": "2022-07-06T07:40:23.784Z"
   },
   {
    "duration": 87,
    "start_time": "2022-07-06T07:40:23.792Z"
   },
   {
    "duration": 22,
    "start_time": "2022-07-06T07:40:23.882Z"
   },
   {
    "duration": 10,
    "start_time": "2022-07-06T07:40:23.905Z"
   },
   {
    "duration": 14,
    "start_time": "2022-07-06T07:40:23.917Z"
   },
   {
    "duration": 12,
    "start_time": "2022-07-06T07:40:23.957Z"
   },
   {
    "duration": 25,
    "start_time": "2022-07-06T07:40:23.971Z"
   },
   {
    "duration": 21,
    "start_time": "2022-07-06T07:40:23.998Z"
   },
   {
    "duration": 16,
    "start_time": "2022-07-06T07:40:24.021Z"
   },
   {
    "duration": 4200,
    "start_time": "2022-07-06T07:40:24.038Z"
   },
   {
    "duration": 0,
    "start_time": "2022-07-06T07:40:28.240Z"
   },
   {
    "duration": 0,
    "start_time": "2022-07-06T07:40:28.242Z"
   },
   {
    "duration": 0,
    "start_time": "2022-07-06T07:40:28.243Z"
   },
   {
    "duration": 0,
    "start_time": "2022-07-06T07:40:28.244Z"
   },
   {
    "duration": 0,
    "start_time": "2022-07-06T07:40:28.247Z"
   },
   {
    "duration": 0,
    "start_time": "2022-07-06T07:40:28.249Z"
   },
   {
    "duration": 0,
    "start_time": "2022-07-06T07:40:28.250Z"
   },
   {
    "duration": 0,
    "start_time": "2022-07-06T07:40:28.252Z"
   },
   {
    "duration": 0,
    "start_time": "2022-07-06T07:40:28.254Z"
   },
   {
    "duration": 0,
    "start_time": "2022-07-06T07:40:28.255Z"
   },
   {
    "duration": 1,
    "start_time": "2022-07-06T07:40:28.256Z"
   },
   {
    "duration": 234,
    "start_time": "2022-07-06T07:41:29.633Z"
   },
   {
    "duration": 3,
    "start_time": "2022-07-06T07:42:28.011Z"
   },
   {
    "duration": 1122,
    "start_time": "2022-07-06T07:42:37.154Z"
   },
   {
    "duration": 428,
    "start_time": "2022-07-06T07:42:38.278Z"
   },
   {
    "duration": 175,
    "start_time": "2022-07-06T07:42:38.708Z"
   },
   {
    "duration": 16,
    "start_time": "2022-07-06T07:42:38.887Z"
   },
   {
    "duration": 14,
    "start_time": "2022-07-06T07:42:38.905Z"
   },
   {
    "duration": 11,
    "start_time": "2022-07-06T07:42:38.921Z"
   },
   {
    "duration": 21,
    "start_time": "2022-07-06T07:42:38.934Z"
   },
   {
    "duration": 78,
    "start_time": "2022-07-06T07:42:38.957Z"
   },
   {
    "duration": 32,
    "start_time": "2022-07-06T07:42:39.037Z"
   },
   {
    "duration": 22,
    "start_time": "2022-07-06T07:42:39.071Z"
   },
   {
    "duration": 7,
    "start_time": "2022-07-06T07:42:39.095Z"
   },
   {
    "duration": 13,
    "start_time": "2022-07-06T07:42:39.104Z"
   },
   {
    "duration": 277,
    "start_time": "2022-07-06T07:42:39.119Z"
   },
   {
    "duration": 4,
    "start_time": "2022-07-06T07:42:39.398Z"
   },
   {
    "duration": 6,
    "start_time": "2022-07-06T07:42:39.403Z"
   },
   {
    "duration": 15,
    "start_time": "2022-07-06T07:42:39.411Z"
   },
   {
    "duration": 34,
    "start_time": "2022-07-06T07:42:39.427Z"
   },
   {
    "duration": 21,
    "start_time": "2022-07-06T07:42:39.463Z"
   },
   {
    "duration": 5,
    "start_time": "2022-07-06T07:42:39.486Z"
   },
   {
    "duration": 22,
    "start_time": "2022-07-06T07:42:39.492Z"
   },
   {
    "duration": 272,
    "start_time": "2022-07-06T07:42:39.516Z"
   },
   {
    "duration": 4,
    "start_time": "2022-07-06T07:42:39.790Z"
   },
   {
    "duration": 5,
    "start_time": "2022-07-06T07:42:39.796Z"
   },
   {
    "duration": 24,
    "start_time": "2022-07-06T07:42:39.803Z"
   },
   {
    "duration": 23,
    "start_time": "2022-07-06T07:42:39.829Z"
   },
   {
    "duration": 5,
    "start_time": "2022-07-06T07:42:39.855Z"
   },
   {
    "duration": 15,
    "start_time": "2022-07-06T07:42:39.862Z"
   },
   {
    "duration": 5,
    "start_time": "2022-07-06T07:42:39.881Z"
   },
   {
    "duration": 7,
    "start_time": "2022-07-06T07:42:39.888Z"
   },
   {
    "duration": 22,
    "start_time": "2022-07-06T07:42:39.896Z"
   },
   {
    "duration": 14,
    "start_time": "2022-07-06T07:42:39.920Z"
   },
   {
    "duration": 30,
    "start_time": "2022-07-06T07:42:39.935Z"
   },
   {
    "duration": 16,
    "start_time": "2022-07-06T07:42:39.967Z"
   },
   {
    "duration": 14,
    "start_time": "2022-07-06T07:42:39.985Z"
   },
   {
    "duration": 9,
    "start_time": "2022-07-06T07:42:40.001Z"
   },
   {
    "duration": 5,
    "start_time": "2022-07-06T07:42:40.012Z"
   },
   {
    "duration": 10,
    "start_time": "2022-07-06T07:42:40.019Z"
   },
   {
    "duration": 28,
    "start_time": "2022-07-06T07:42:40.030Z"
   },
   {
    "duration": 18,
    "start_time": "2022-07-06T07:42:40.060Z"
   },
   {
    "duration": 13,
    "start_time": "2022-07-06T07:42:40.080Z"
   },
   {
    "duration": 3,
    "start_time": "2022-07-06T07:42:40.094Z"
   },
   {
    "duration": 20,
    "start_time": "2022-07-06T07:42:40.098Z"
   },
   {
    "duration": 5,
    "start_time": "2022-07-06T07:42:40.119Z"
   },
   {
    "duration": 40,
    "start_time": "2022-07-06T07:42:40.126Z"
   },
   {
    "duration": 23,
    "start_time": "2022-07-06T07:42:40.168Z"
   },
   {
    "duration": 8,
    "start_time": "2022-07-06T07:42:40.192Z"
   },
   {
    "duration": 4,
    "start_time": "2022-07-06T07:42:40.202Z"
   },
   {
    "duration": 6,
    "start_time": "2022-07-06T07:42:40.208Z"
   },
   {
    "duration": 94,
    "start_time": "2022-07-06T07:42:40.215Z"
   },
   {
    "duration": 22,
    "start_time": "2022-07-06T07:42:40.311Z"
   },
   {
    "duration": 20,
    "start_time": "2022-07-06T07:42:40.334Z"
   },
   {
    "duration": 12,
    "start_time": "2022-07-06T07:42:40.356Z"
   },
   {
    "duration": 10,
    "start_time": "2022-07-06T07:42:40.369Z"
   },
   {
    "duration": 18,
    "start_time": "2022-07-06T07:42:40.381Z"
   },
   {
    "duration": 18,
    "start_time": "2022-07-06T07:42:40.401Z"
   },
   {
    "duration": 37,
    "start_time": "2022-07-06T07:42:40.420Z"
   },
   {
    "duration": 16,
    "start_time": "2022-07-06T07:42:40.458Z"
   },
   {
    "duration": 1230,
    "start_time": "2022-07-06T07:42:40.475Z"
   },
   {
    "duration": 4,
    "start_time": "2022-07-06T07:42:41.707Z"
   },
   {
    "duration": 237,
    "start_time": "2022-07-06T07:42:41.713Z"
   },
   {
    "duration": 246,
    "start_time": "2022-07-06T07:42:41.951Z"
   },
   {
    "duration": 317,
    "start_time": "2022-07-06T07:42:42.199Z"
   },
   {
    "duration": 10,
    "start_time": "2022-07-06T07:42:42.518Z"
   },
   {
    "duration": 7,
    "start_time": "2022-07-06T07:42:42.530Z"
   },
   {
    "duration": 15,
    "start_time": "2022-07-06T07:42:42.553Z"
   },
   {
    "duration": 12,
    "start_time": "2022-07-06T07:42:42.569Z"
   },
   {
    "duration": 12,
    "start_time": "2022-07-06T07:42:42.583Z"
   },
   {
    "duration": 50,
    "start_time": "2022-07-06T10:20:33.176Z"
   },
   {
    "duration": 1314,
    "start_time": "2022-07-06T10:20:39.310Z"
   },
   {
    "duration": 658,
    "start_time": "2022-07-06T10:20:40.628Z"
   },
   {
    "duration": 142,
    "start_time": "2022-07-06T10:20:41.287Z"
   },
   {
    "duration": 20,
    "start_time": "2022-07-06T10:20:41.431Z"
   },
   {
    "duration": 11,
    "start_time": "2022-07-06T10:20:41.453Z"
   },
   {
    "duration": 9,
    "start_time": "2022-07-06T10:20:41.465Z"
   },
   {
    "duration": 12,
    "start_time": "2022-07-06T10:20:41.476Z"
   },
   {
    "duration": 111,
    "start_time": "2022-07-06T10:20:41.489Z"
   },
   {
    "duration": 13,
    "start_time": "2022-07-06T10:20:41.601Z"
   },
   {
    "duration": 36,
    "start_time": "2022-07-06T10:20:41.616Z"
   },
   {
    "duration": 8,
    "start_time": "2022-07-06T10:20:41.653Z"
   },
   {
    "duration": 14,
    "start_time": "2022-07-06T10:20:41.662Z"
   },
   {
    "duration": 240,
    "start_time": "2022-07-06T10:20:41.677Z"
   },
   {
    "duration": 4,
    "start_time": "2022-07-06T10:20:41.919Z"
   },
   {
    "duration": 21,
    "start_time": "2022-07-06T10:20:41.925Z"
   },
   {
    "duration": 14,
    "start_time": "2022-07-06T10:20:41.947Z"
   },
   {
    "duration": 11,
    "start_time": "2022-07-06T10:20:41.963Z"
   },
   {
    "duration": 17,
    "start_time": "2022-07-06T10:20:41.975Z"
   },
   {
    "duration": 5,
    "start_time": "2022-07-06T10:20:41.993Z"
   },
   {
    "duration": 51,
    "start_time": "2022-07-06T10:20:42.000Z"
   },
   {
    "duration": 236,
    "start_time": "2022-07-06T10:20:42.053Z"
   },
   {
    "duration": 5,
    "start_time": "2022-07-06T10:20:42.292Z"
   },
   {
    "duration": 5,
    "start_time": "2022-07-06T10:20:42.298Z"
   },
   {
    "duration": 41,
    "start_time": "2022-07-06T10:20:42.305Z"
   },
   {
    "duration": 6,
    "start_time": "2022-07-06T10:20:42.348Z"
   },
   {
    "duration": 9,
    "start_time": "2022-07-06T10:20:42.356Z"
   },
   {
    "duration": 8,
    "start_time": "2022-07-06T10:20:42.366Z"
   },
   {
    "duration": 3,
    "start_time": "2022-07-06T10:20:42.378Z"
   },
   {
    "duration": 4,
    "start_time": "2022-07-06T10:20:42.383Z"
   },
   {
    "duration": 24,
    "start_time": "2022-07-06T10:20:42.389Z"
   },
   {
    "duration": 39,
    "start_time": "2022-07-06T10:20:42.415Z"
   },
   {
    "duration": 15,
    "start_time": "2022-07-06T10:20:42.456Z"
   },
   {
    "duration": 12,
    "start_time": "2022-07-06T10:20:42.473Z"
   },
   {
    "duration": 9,
    "start_time": "2022-07-06T10:20:42.487Z"
   },
   {
    "duration": 11,
    "start_time": "2022-07-06T10:20:42.498Z"
   },
   {
    "duration": 4,
    "start_time": "2022-07-06T10:20:42.546Z"
   },
   {
    "duration": 12,
    "start_time": "2022-07-06T10:20:42.552Z"
   },
   {
    "duration": 7,
    "start_time": "2022-07-06T10:20:42.565Z"
   },
   {
    "duration": 15,
    "start_time": "2022-07-06T10:20:42.573Z"
   },
   {
    "duration": 12,
    "start_time": "2022-07-06T10:20:42.590Z"
   },
   {
    "duration": 3,
    "start_time": "2022-07-06T10:20:42.603Z"
   },
   {
    "duration": 7,
    "start_time": "2022-07-06T10:20:42.608Z"
   },
   {
    "duration": 29,
    "start_time": "2022-07-06T10:20:42.617Z"
   },
   {
    "duration": 28,
    "start_time": "2022-07-06T10:20:42.648Z"
   },
   {
    "duration": 22,
    "start_time": "2022-07-06T10:20:42.678Z"
   },
   {
    "duration": 8,
    "start_time": "2022-07-06T10:20:42.701Z"
   },
   {
    "duration": 6,
    "start_time": "2022-07-06T10:20:42.711Z"
   },
   {
    "duration": 28,
    "start_time": "2022-07-06T10:20:42.719Z"
   },
   {
    "duration": 86,
    "start_time": "2022-07-06T10:20:42.749Z"
   },
   {
    "duration": 22,
    "start_time": "2022-07-06T10:20:42.836Z"
   },
   {
    "duration": 8,
    "start_time": "2022-07-06T10:20:42.859Z"
   },
   {
    "duration": 14,
    "start_time": "2022-07-06T10:20:42.868Z"
   },
   {
    "duration": 11,
    "start_time": "2022-07-06T10:20:42.883Z"
   },
   {
    "duration": 18,
    "start_time": "2022-07-06T10:20:42.896Z"
   },
   {
    "duration": 42,
    "start_time": "2022-07-06T10:20:42.916Z"
   },
   {
    "duration": 14,
    "start_time": "2022-07-06T10:20:42.959Z"
   },
   {
    "duration": 6,
    "start_time": "2022-07-06T10:20:42.975Z"
   },
   {
    "duration": 1230,
    "start_time": "2022-07-06T10:20:42.982Z"
   },
   {
    "duration": 4,
    "start_time": "2022-07-06T10:20:44.214Z"
   },
   {
    "duration": 247,
    "start_time": "2022-07-06T10:20:44.219Z"
   },
   {
    "duration": 239,
    "start_time": "2022-07-06T10:20:44.468Z"
   },
   {
    "duration": 295,
    "start_time": "2022-07-06T10:20:44.709Z"
   },
   {
    "duration": 11,
    "start_time": "2022-07-06T10:20:45.006Z"
   },
   {
    "duration": 33,
    "start_time": "2022-07-06T10:20:45.018Z"
   },
   {
    "duration": 8,
    "start_time": "2022-07-06T10:20:45.053Z"
   },
   {
    "duration": 17,
    "start_time": "2022-07-06T10:20:45.063Z"
   },
   {
    "duration": 9,
    "start_time": "2022-07-06T10:20:45.081Z"
   },
   {
    "duration": 7,
    "start_time": "2022-07-06T10:20:45.091Z"
   },
   {
    "duration": 9,
    "start_time": "2022-07-06T10:21:24.077Z"
   },
   {
    "duration": 4,
    "start_time": "2022-07-06T10:38:36.747Z"
   },
   {
    "duration": 1151,
    "start_time": "2022-07-06T11:26:40.297Z"
   },
   {
    "duration": 1875,
    "start_time": "2022-07-06T11:26:41.450Z"
   },
   {
    "duration": 179,
    "start_time": "2022-07-06T11:26:43.327Z"
   },
   {
    "duration": 18,
    "start_time": "2022-07-06T11:26:43.507Z"
   },
   {
    "duration": 39,
    "start_time": "2022-07-06T11:26:43.526Z"
   },
   {
    "duration": 31,
    "start_time": "2022-07-06T11:26:43.566Z"
   },
   {
    "duration": 10,
    "start_time": "2022-07-06T11:26:43.599Z"
   },
   {
    "duration": 93,
    "start_time": "2022-07-06T11:26:43.611Z"
   },
   {
    "duration": 13,
    "start_time": "2022-07-06T11:26:43.706Z"
   },
   {
    "duration": 44,
    "start_time": "2022-07-06T11:26:43.722Z"
   },
   {
    "duration": 8,
    "start_time": "2022-07-06T11:26:43.771Z"
   },
   {
    "duration": 13,
    "start_time": "2022-07-06T11:26:43.781Z"
   },
   {
    "duration": 276,
    "start_time": "2022-07-06T11:26:43.795Z"
   },
   {
    "duration": 4,
    "start_time": "2022-07-06T11:26:44.073Z"
   },
   {
    "duration": 7,
    "start_time": "2022-07-06T11:26:44.079Z"
   },
   {
    "duration": 15,
    "start_time": "2022-07-06T11:26:44.088Z"
   },
   {
    "duration": 11,
    "start_time": "2022-07-06T11:26:44.105Z"
   },
   {
    "duration": 41,
    "start_time": "2022-07-06T11:26:44.118Z"
   },
   {
    "duration": 6,
    "start_time": "2022-07-06T11:26:44.170Z"
   },
   {
    "duration": 23,
    "start_time": "2022-07-06T11:26:44.178Z"
   },
   {
    "duration": 243,
    "start_time": "2022-07-06T11:26:44.203Z"
   },
   {
    "duration": 9,
    "start_time": "2022-07-06T11:26:44.458Z"
   },
   {
    "duration": 10,
    "start_time": "2022-07-06T11:26:44.471Z"
   },
   {
    "duration": 33,
    "start_time": "2022-07-06T11:26:44.482Z"
   },
   {
    "duration": 7,
    "start_time": "2022-07-06T11:26:44.516Z"
   },
   {
    "duration": 7,
    "start_time": "2022-07-06T11:26:44.525Z"
   },
   {
    "duration": 11,
    "start_time": "2022-07-06T11:26:44.534Z"
   },
   {
    "duration": 40,
    "start_time": "2022-07-06T11:26:44.550Z"
   },
   {
    "duration": 24,
    "start_time": "2022-07-06T11:26:44.594Z"
   },
   {
    "duration": 17,
    "start_time": "2022-07-06T11:26:44.620Z"
   },
   {
    "duration": 17,
    "start_time": "2022-07-06T11:26:44.639Z"
   },
   {
    "duration": 28,
    "start_time": "2022-07-06T11:26:44.660Z"
   },
   {
    "duration": 18,
    "start_time": "2022-07-06T11:26:44.692Z"
   },
   {
    "duration": 4,
    "start_time": "2022-07-06T11:26:44.719Z"
   },
   {
    "duration": 15,
    "start_time": "2022-07-06T11:26:44.725Z"
   },
   {
    "duration": 7,
    "start_time": "2022-07-06T11:26:44.742Z"
   },
   {
    "duration": 20,
    "start_time": "2022-07-06T11:26:44.755Z"
   },
   {
    "duration": 17,
    "start_time": "2022-07-06T11:26:44.776Z"
   },
   {
    "duration": 2,
    "start_time": "2022-07-06T11:26:44.795Z"
   },
   {
    "duration": 9,
    "start_time": "2022-07-06T11:26:44.799Z"
   },
   {
    "duration": 7,
    "start_time": "2022-07-06T11:26:44.809Z"
   },
   {
    "duration": 38,
    "start_time": "2022-07-06T11:26:44.817Z"
   },
   {
    "duration": 26,
    "start_time": "2022-07-06T11:26:44.857Z"
   },
   {
    "duration": 10,
    "start_time": "2022-07-06T11:26:44.885Z"
   },
   {
    "duration": 5,
    "start_time": "2022-07-06T11:26:44.896Z"
   },
   {
    "duration": 6,
    "start_time": "2022-07-06T11:26:44.903Z"
   },
   {
    "duration": 112,
    "start_time": "2022-07-06T11:26:44.911Z"
   },
   {
    "duration": 37,
    "start_time": "2022-07-06T11:26:45.025Z"
   },
   {
    "duration": 14,
    "start_time": "2022-07-06T11:26:45.071Z"
   },
   {
    "duration": 17,
    "start_time": "2022-07-06T11:26:45.086Z"
   },
   {
    "duration": 12,
    "start_time": "2022-07-06T11:26:45.106Z"
   },
   {
    "duration": 40,
    "start_time": "2022-07-06T11:26:45.120Z"
   },
   {
    "duration": 24,
    "start_time": "2022-07-06T11:26:45.162Z"
   },
   {
    "duration": 16,
    "start_time": "2022-07-06T11:26:45.188Z"
   },
   {
    "duration": 5,
    "start_time": "2022-07-06T11:26:45.206Z"
   },
   {
    "duration": 1271,
    "start_time": "2022-07-06T11:26:45.213Z"
   },
   {
    "duration": 5,
    "start_time": "2022-07-06T11:26:46.485Z"
   },
   {
    "duration": 249,
    "start_time": "2022-07-06T11:26:46.492Z"
   },
   {
    "duration": 264,
    "start_time": "2022-07-06T11:26:46.743Z"
   },
   {
    "duration": 318,
    "start_time": "2022-07-06T11:26:47.009Z"
   },
   {
    "duration": 11,
    "start_time": "2022-07-06T11:26:47.329Z"
   },
   {
    "duration": 22,
    "start_time": "2022-07-06T11:26:47.342Z"
   },
   {
    "duration": 6,
    "start_time": "2022-07-06T11:26:47.368Z"
   },
   {
    "duration": 10,
    "start_time": "2022-07-06T11:26:47.375Z"
   },
   {
    "duration": 10,
    "start_time": "2022-07-06T11:26:47.386Z"
   },
   {
    "duration": 7,
    "start_time": "2022-07-06T11:26:47.397Z"
   },
   {
    "duration": 4,
    "start_time": "2022-07-06T11:26:47.406Z"
   },
   {
    "duration": 17,
    "start_time": "2022-07-06T11:36:40.321Z"
   },
   {
    "duration": 7,
    "start_time": "2022-07-06T11:41:07.147Z"
   },
   {
    "duration": 1146,
    "start_time": "2022-07-06T11:41:17.291Z"
   },
   {
    "duration": 452,
    "start_time": "2022-07-06T11:41:18.439Z"
   },
   {
    "duration": 152,
    "start_time": "2022-07-06T11:41:18.893Z"
   },
   {
    "duration": 30,
    "start_time": "2022-07-06T11:41:19.047Z"
   },
   {
    "duration": 16,
    "start_time": "2022-07-06T11:41:19.079Z"
   },
   {
    "duration": 12,
    "start_time": "2022-07-06T11:41:19.096Z"
   },
   {
    "duration": 15,
    "start_time": "2022-07-06T11:41:19.109Z"
   },
   {
    "duration": 96,
    "start_time": "2022-07-06T11:41:19.126Z"
   },
   {
    "duration": 14,
    "start_time": "2022-07-06T11:41:19.224Z"
   },
   {
    "duration": 32,
    "start_time": "2022-07-06T11:41:19.240Z"
   },
   {
    "duration": 7,
    "start_time": "2022-07-06T11:41:19.274Z"
   },
   {
    "duration": 18,
    "start_time": "2022-07-06T11:41:19.282Z"
   },
   {
    "duration": 287,
    "start_time": "2022-07-06T11:41:19.301Z"
   },
   {
    "duration": 4,
    "start_time": "2022-07-06T11:41:19.592Z"
   },
   {
    "duration": 8,
    "start_time": "2022-07-06T11:41:19.598Z"
   },
   {
    "duration": 18,
    "start_time": "2022-07-06T11:41:19.607Z"
   },
   {
    "duration": 34,
    "start_time": "2022-07-06T11:41:19.628Z"
   },
   {
    "duration": 24,
    "start_time": "2022-07-06T11:41:19.669Z"
   },
   {
    "duration": 6,
    "start_time": "2022-07-06T11:41:19.695Z"
   },
   {
    "duration": 25,
    "start_time": "2022-07-06T11:41:19.702Z"
   },
   {
    "duration": 274,
    "start_time": "2022-07-06T11:41:19.729Z"
   },
   {
    "duration": 4,
    "start_time": "2022-07-06T11:41:20.004Z"
   },
   {
    "duration": 6,
    "start_time": "2022-07-06T11:41:20.010Z"
   },
   {
    "duration": 46,
    "start_time": "2022-07-06T11:41:20.018Z"
   },
   {
    "duration": 9,
    "start_time": "2022-07-06T11:41:20.066Z"
   },
   {
    "duration": 13,
    "start_time": "2022-07-06T11:41:20.077Z"
   },
   {
    "duration": 14,
    "start_time": "2022-07-06T11:41:20.092Z"
   },
   {
    "duration": 24,
    "start_time": "2022-07-06T11:41:20.108Z"
   },
   {
    "duration": 15,
    "start_time": "2022-07-06T11:41:20.133Z"
   },
   {
    "duration": 20,
    "start_time": "2022-07-06T11:41:20.149Z"
   },
   {
    "duration": 20,
    "start_time": "2022-07-06T11:41:20.170Z"
   },
   {
    "duration": 14,
    "start_time": "2022-07-06T11:41:20.192Z"
   },
   {
    "duration": 12,
    "start_time": "2022-07-06T11:41:20.208Z"
   },
   {
    "duration": 4,
    "start_time": "2022-07-06T11:41:20.222Z"
   },
   {
    "duration": 7,
    "start_time": "2022-07-06T11:41:20.228Z"
   },
   {
    "duration": 31,
    "start_time": "2022-07-06T11:41:20.237Z"
   },
   {
    "duration": 19,
    "start_time": "2022-07-06T11:41:20.270Z"
   },
   {
    "duration": 17,
    "start_time": "2022-07-06T11:41:20.291Z"
   },
   {
    "duration": 4,
    "start_time": "2022-07-06T11:41:20.309Z"
   },
   {
    "duration": 13,
    "start_time": "2022-07-06T11:41:20.314Z"
   },
   {
    "duration": 12,
    "start_time": "2022-07-06T11:41:20.332Z"
   },
   {
    "duration": 37,
    "start_time": "2022-07-06T11:41:20.346Z"
   },
   {
    "duration": 30,
    "start_time": "2022-07-06T11:41:20.384Z"
   },
   {
    "duration": 5,
    "start_time": "2022-07-06T11:41:20.415Z"
   },
   {
    "duration": 9,
    "start_time": "2022-07-06T11:41:20.422Z"
   },
   {
    "duration": 15,
    "start_time": "2022-07-06T11:41:20.455Z"
   },
   {
    "duration": 6,
    "start_time": "2022-07-06T11:41:20.471Z"
   },
   {
    "duration": 69,
    "start_time": "2022-07-06T11:41:20.478Z"
   },
   {
    "duration": 29,
    "start_time": "2022-07-06T11:41:20.549Z"
   },
   {
    "duration": 11,
    "start_time": "2022-07-06T11:41:20.579Z"
   },
   {
    "duration": 21,
    "start_time": "2022-07-06T11:41:20.591Z"
   },
   {
    "duration": 10,
    "start_time": "2022-07-06T11:41:20.614Z"
   },
   {
    "duration": 46,
    "start_time": "2022-07-06T11:41:20.626Z"
   },
   {
    "duration": 27,
    "start_time": "2022-07-06T11:41:20.674Z"
   },
   {
    "duration": 16,
    "start_time": "2022-07-06T11:41:20.702Z"
   },
   {
    "duration": 6,
    "start_time": "2022-07-06T11:41:20.720Z"
   },
   {
    "duration": 1200,
    "start_time": "2022-07-06T11:41:20.727Z"
   },
   {
    "duration": 5,
    "start_time": "2022-07-06T11:41:21.928Z"
   },
   {
    "duration": 281,
    "start_time": "2022-07-06T11:41:21.934Z"
   },
   {
    "duration": 265,
    "start_time": "2022-07-06T11:41:22.216Z"
   },
   {
    "duration": 348,
    "start_time": "2022-07-06T11:41:22.484Z"
   },
   {
    "duration": 22,
    "start_time": "2022-07-06T11:41:22.834Z"
   },
   {
    "duration": 10,
    "start_time": "2022-07-06T11:41:22.859Z"
   },
   {
    "duration": 12,
    "start_time": "2022-07-06T11:41:22.871Z"
   },
   {
    "duration": 13,
    "start_time": "2022-07-06T11:41:22.884Z"
   },
   {
    "duration": 9,
    "start_time": "2022-07-06T11:41:22.899Z"
   },
   {
    "duration": 10,
    "start_time": "2022-07-06T11:41:22.909Z"
   },
   {
    "duration": 5,
    "start_time": "2022-07-06T11:41:22.921Z"
   },
   {
    "duration": 48,
    "start_time": "2022-07-07T04:02:04.521Z"
   },
   {
    "duration": 1364,
    "start_time": "2022-07-07T04:02:12.380Z"
   },
   {
    "duration": 1942,
    "start_time": "2022-07-07T04:02:13.746Z"
   },
   {
    "duration": 156,
    "start_time": "2022-07-07T04:02:15.690Z"
   },
   {
    "duration": 16,
    "start_time": "2022-07-07T04:02:15.848Z"
   },
   {
    "duration": 19,
    "start_time": "2022-07-07T04:02:15.866Z"
   },
   {
    "duration": 10,
    "start_time": "2022-07-07T04:02:15.907Z"
   },
   {
    "duration": 10,
    "start_time": "2022-07-07T04:02:23.187Z"
   },
   {
    "duration": 7,
    "start_time": "2022-07-07T04:02:27.034Z"
   },
   {
    "duration": 8,
    "start_time": "2022-07-07T04:02:32.140Z"
   },
   {
    "duration": 6,
    "start_time": "2022-07-07T04:02:35.452Z"
   },
   {
    "duration": 119,
    "start_time": "2022-07-07T04:03:26.525Z"
   },
   {
    "duration": 378,
    "start_time": "2022-07-07T04:05:32.199Z"
   },
   {
    "duration": 394,
    "start_time": "2022-07-07T04:05:48.495Z"
   },
   {
    "duration": 378,
    "start_time": "2022-07-07T04:05:56.102Z"
   },
   {
    "duration": 74,
    "start_time": "2022-07-07T04:08:22.812Z"
   },
   {
    "duration": 7,
    "start_time": "2022-07-07T04:11:45.046Z"
   },
   {
    "duration": 71,
    "start_time": "2022-07-07T04:13:26.980Z"
   },
   {
    "duration": 6,
    "start_time": "2022-07-07T04:21:20.964Z"
   },
   {
    "duration": 32,
    "start_time": "2022-07-07T04:21:24.737Z"
   },
   {
    "duration": 6,
    "start_time": "2022-07-07T04:21:26.185Z"
   },
   {
    "duration": 13,
    "start_time": "2022-07-07T04:21:35.996Z"
   },
   {
    "duration": 14,
    "start_time": "2022-07-07T04:21:40.154Z"
   },
   {
    "duration": 11,
    "start_time": "2022-07-07T04:21:40.634Z"
   },
   {
    "duration": 6,
    "start_time": "2022-07-07T04:21:41.074Z"
   },
   {
    "duration": 75,
    "start_time": "2022-07-07T04:21:56.362Z"
   },
   {
    "duration": 13,
    "start_time": "2022-07-07T04:21:57.690Z"
   },
   {
    "duration": 23,
    "start_time": "2022-07-07T04:21:58.265Z"
   },
   {
    "duration": 9,
    "start_time": "2022-07-07T04:21:58.755Z"
   },
   {
    "duration": 15,
    "start_time": "2022-07-07T04:21:58.987Z"
   },
   {
    "duration": 256,
    "start_time": "2022-07-07T04:21:59.353Z"
   },
   {
    "duration": 4,
    "start_time": "2022-07-07T04:22:00.017Z"
   },
   {
    "duration": 3,
    "start_time": "2022-07-07T04:22:00.665Z"
   },
   {
    "duration": 18,
    "start_time": "2022-07-07T04:22:01.597Z"
   },
   {
    "duration": 14,
    "start_time": "2022-07-07T04:22:03.016Z"
   },
   {
    "duration": 19,
    "start_time": "2022-07-07T04:22:03.506Z"
   },
   {
    "duration": 6,
    "start_time": "2022-07-07T04:22:04.002Z"
   },
   {
    "duration": 19,
    "start_time": "2022-07-07T04:22:04.425Z"
   },
   {
    "duration": 253,
    "start_time": "2022-07-07T04:22:04.970Z"
   },
   {
    "duration": 2,
    "start_time": "2022-07-07T04:22:06.266Z"
   },
   {
    "duration": 4,
    "start_time": "2022-07-07T04:22:07.489Z"
   },
   {
    "duration": 5,
    "start_time": "2022-07-07T04:22:30.193Z"
   },
   {
    "duration": 2,
    "start_time": "2022-07-07T04:22:30.945Z"
   },
   {
    "duration": 16,
    "start_time": "2022-07-07T04:22:31.369Z"
   },
   {
    "duration": 13,
    "start_time": "2022-07-07T04:22:32.672Z"
   },
   {
    "duration": 20,
    "start_time": "2022-07-07T04:22:32.913Z"
   },
   {
    "duration": 5,
    "start_time": "2022-07-07T04:22:33.194Z"
   },
   {
    "duration": 16,
    "start_time": "2022-07-07T04:22:33.497Z"
   },
   {
    "duration": 254,
    "start_time": "2022-07-07T04:22:33.689Z"
   },
   {
    "duration": 3,
    "start_time": "2022-07-07T04:22:34.089Z"
   },
   {
    "duration": 4,
    "start_time": "2022-07-07T04:22:34.522Z"
   },
   {
    "duration": 29,
    "start_time": "2022-07-07T04:22:35.704Z"
   },
   {
    "duration": 7,
    "start_time": "2022-07-07T04:22:36.545Z"
   },
   {
    "duration": 5,
    "start_time": "2022-07-07T04:22:37.224Z"
   },
   {
    "duration": 5,
    "start_time": "2022-07-07T04:22:37.630Z"
   },
   {
    "duration": 24,
    "start_time": "2022-07-07T04:22:39.112Z"
   },
   {
    "duration": 15,
    "start_time": "2022-07-07T04:22:39.361Z"
   },
   {
    "duration": 15,
    "start_time": "2022-07-07T04:22:39.793Z"
   },
   {
    "duration": 11,
    "start_time": "2022-07-07T04:22:40.009Z"
   },
   {
    "duration": 10,
    "start_time": "2022-07-07T04:22:40.570Z"
   },
   {
    "duration": 11,
    "start_time": "2022-07-07T04:22:41.042Z"
   },
   {
    "duration": 4,
    "start_time": "2022-07-07T04:22:41.530Z"
   },
   {
    "duration": 9,
    "start_time": "2022-07-07T04:22:42.153Z"
   },
   {
    "duration": 9,
    "start_time": "2022-07-07T04:22:42.851Z"
   },
   {
    "duration": 16,
    "start_time": "2022-07-07T04:22:44.114Z"
   },
   {
    "duration": 14,
    "start_time": "2022-07-07T04:22:47.754Z"
   },
   {
    "duration": 3,
    "start_time": "2022-07-07T04:22:48.096Z"
   },
   {
    "duration": 7,
    "start_time": "2022-07-07T04:22:48.769Z"
   },
   {
    "duration": 5,
    "start_time": "2022-07-07T04:22:49.584Z"
   },
   {
    "duration": 5,
    "start_time": "2022-07-07T04:24:50.083Z"
   },
   {
    "duration": 4,
    "start_time": "2022-07-07T04:24:57.236Z"
   },
   {
    "duration": 26,
    "start_time": "2022-07-07T04:25:25.331Z"
   },
   {
    "duration": 23,
    "start_time": "2022-07-07T04:25:26.181Z"
   },
   {
    "duration": 5,
    "start_time": "2022-07-07T04:25:28.533Z"
   },
   {
    "duration": 4,
    "start_time": "2022-07-07T04:25:29.073Z"
   },
   {
    "duration": 26,
    "start_time": "2022-07-07T04:25:39.802Z"
   },
   {
    "duration": 27,
    "start_time": "2022-07-07T04:28:53.943Z"
   },
   {
    "duration": 25,
    "start_time": "2022-07-07T04:28:58.845Z"
   },
   {
    "duration": 5,
    "start_time": "2022-07-07T04:29:02.837Z"
   },
   {
    "duration": 5,
    "start_time": "2022-07-07T04:29:03.342Z"
   },
   {
    "duration": 26,
    "start_time": "2022-07-07T04:29:12.262Z"
   },
   {
    "duration": 22,
    "start_time": "2022-07-07T04:29:13.486Z"
   },
   {
    "duration": 4,
    "start_time": "2022-07-07T04:29:26.289Z"
   },
   {
    "duration": 13,
    "start_time": "2022-07-07T04:30:32.182Z"
   },
   {
    "duration": 11,
    "start_time": "2022-07-07T04:30:52.247Z"
   },
   {
    "duration": 4,
    "start_time": "2022-07-07T04:30:55.494Z"
   },
   {
    "duration": 5,
    "start_time": "2022-07-07T04:31:04.348Z"
   },
   {
    "duration": 5,
    "start_time": "2022-07-07T04:31:09.965Z"
   },
   {
    "duration": 5,
    "start_time": "2022-07-07T04:31:20.933Z"
   },
   {
    "duration": 5,
    "start_time": "2022-07-07T04:32:08.116Z"
   },
   {
    "duration": 4,
    "start_time": "2022-07-07T04:32:12.995Z"
   },
   {
    "duration": 4,
    "start_time": "2022-07-07T04:32:16.492Z"
   },
   {
    "duration": 9,
    "start_time": "2022-07-07T04:35:51.438Z"
   },
   {
    "duration": 4,
    "start_time": "2022-07-07T04:35:58.177Z"
   },
   {
    "duration": 8,
    "start_time": "2022-07-07T04:36:12.658Z"
   },
   {
    "duration": 19,
    "start_time": "2022-07-07T04:36:13.605Z"
   },
   {
    "duration": 5,
    "start_time": "2022-07-07T04:36:30.441Z"
   },
   {
    "duration": 8,
    "start_time": "2022-07-07T04:37:03.647Z"
   },
   {
    "duration": 22,
    "start_time": "2022-07-07T04:37:04.034Z"
   },
   {
    "duration": 14,
    "start_time": "2022-07-07T04:37:49.671Z"
   },
   {
    "duration": 21,
    "start_time": "2022-07-07T04:37:57.730Z"
   },
   {
    "duration": 4,
    "start_time": "2022-07-07T04:40:30.363Z"
   },
   {
    "duration": 4,
    "start_time": "2022-07-07T04:41:31.118Z"
   },
   {
    "duration": 5,
    "start_time": "2022-07-07T04:41:39.858Z"
   },
   {
    "duration": 10,
    "start_time": "2022-07-07T04:44:19.583Z"
   },
   {
    "duration": 28,
    "start_time": "2022-07-07T04:44:37.295Z"
   },
   {
    "duration": 15,
    "start_time": "2022-07-07T04:44:47.184Z"
   },
   {
    "duration": 17,
    "start_time": "2022-07-07T04:45:02.583Z"
   },
   {
    "duration": 5,
    "start_time": "2022-07-07T04:45:59.077Z"
   },
   {
    "duration": 5,
    "start_time": "2022-07-07T04:46:03.965Z"
   },
   {
    "duration": 22,
    "start_time": "2022-07-07T04:46:08.172Z"
   },
   {
    "duration": 22,
    "start_time": "2022-07-07T04:46:33.292Z"
   },
   {
    "duration": 5,
    "start_time": "2022-07-07T04:46:47.709Z"
   },
   {
    "duration": 15,
    "start_time": "2022-07-07T04:47:01.692Z"
   },
   {
    "duration": 16,
    "start_time": "2022-07-07T04:47:07.596Z"
   },
   {
    "duration": 21,
    "start_time": "2022-07-07T04:47:10.551Z"
   },
   {
    "duration": 16,
    "start_time": "2022-07-07T04:49:10.259Z"
   },
   {
    "duration": 4,
    "start_time": "2022-07-07T04:49:10.649Z"
   },
   {
    "duration": 7,
    "start_time": "2022-07-07T04:49:11.747Z"
   },
   {
    "duration": 10,
    "start_time": "2022-07-07T04:49:42.288Z"
   },
   {
    "duration": 9,
    "start_time": "2022-07-07T04:49:50.698Z"
   },
   {
    "duration": 41,
    "start_time": "2022-07-07T04:49:57.703Z"
   },
   {
    "duration": 36,
    "start_time": "2022-07-07T04:49:59.307Z"
   },
   {
    "duration": 11,
    "start_time": "2022-07-07T04:52:24.214Z"
   },
   {
    "duration": 3,
    "start_time": "2022-07-07T04:52:26.151Z"
   },
   {
    "duration": 7,
    "start_time": "2022-07-07T04:52:27.076Z"
   },
   {
    "duration": 7,
    "start_time": "2022-07-07T04:52:27.901Z"
   },
   {
    "duration": 26,
    "start_time": "2022-07-07T04:52:30.946Z"
   },
   {
    "duration": 31,
    "start_time": "2022-07-07T04:52:36.753Z"
   },
   {
    "duration": 4,
    "start_time": "2022-07-07T04:52:43.820Z"
   },
   {
    "duration": 8,
    "start_time": "2022-07-07T04:52:52.749Z"
   },
   {
    "duration": 4,
    "start_time": "2022-07-07T04:52:54.456Z"
   },
   {
    "duration": 74,
    "start_time": "2022-07-07T04:54:26.285Z"
   },
   {
    "duration": 5,
    "start_time": "2022-07-07T04:54:31.664Z"
   },
   {
    "duration": 8,
    "start_time": "2022-07-07T04:54:33.377Z"
   },
   {
    "duration": 6,
    "start_time": "2022-07-07T04:54:33.857Z"
   },
   {
    "duration": 8,
    "start_time": "2022-07-07T04:56:14.738Z"
   },
   {
    "duration": 6,
    "start_time": "2022-07-07T04:56:42.782Z"
   },
   {
    "duration": 10,
    "start_time": "2022-07-07T05:01:45.625Z"
   },
   {
    "duration": 4,
    "start_time": "2022-07-07T05:03:27.183Z"
   },
   {
    "duration": 10,
    "start_time": "2022-07-07T05:03:31.637Z"
   },
   {
    "duration": 4,
    "start_time": "2022-07-07T05:03:48.727Z"
   },
   {
    "duration": 9,
    "start_time": "2022-07-07T05:03:51.502Z"
   },
   {
    "duration": 10,
    "start_time": "2022-07-07T05:04:20.903Z"
   },
   {
    "duration": 7,
    "start_time": "2022-07-07T05:06:45.916Z"
   },
   {
    "duration": 7,
    "start_time": "2022-07-07T05:09:25.434Z"
   },
   {
    "duration": 406,
    "start_time": "2022-07-07T05:09:36.607Z"
   },
   {
    "duration": 23,
    "start_time": "2022-07-07T05:09:37.193Z"
   },
   {
    "duration": 23,
    "start_time": "2022-07-07T05:11:02.114Z"
   },
   {
    "duration": 15,
    "start_time": "2022-07-07T05:11:20.758Z"
   },
   {
    "duration": 6,
    "start_time": "2022-07-07T05:11:29.327Z"
   },
   {
    "duration": 9,
    "start_time": "2022-07-07T05:11:29.942Z"
   },
   {
    "duration": 12,
    "start_time": "2022-07-07T05:12:43.780Z"
   },
   {
    "duration": 17,
    "start_time": "2022-07-07T05:12:47.947Z"
   },
   {
    "duration": 4,
    "start_time": "2022-07-07T05:13:17.230Z"
   },
   {
    "duration": 3,
    "start_time": "2022-07-07T05:13:23.430Z"
   },
   {
    "duration": 18,
    "start_time": "2022-07-07T05:14:00.844Z"
   },
   {
    "duration": 3,
    "start_time": "2022-07-07T05:14:10.866Z"
   },
   {
    "duration": 8,
    "start_time": "2022-07-07T05:14:11.465Z"
   },
   {
    "duration": 23,
    "start_time": "2022-07-07T05:14:12.395Z"
   },
   {
    "duration": 8,
    "start_time": "2022-07-07T05:14:14.994Z"
   },
   {
    "duration": 23,
    "start_time": "2022-07-07T05:14:17.426Z"
   },
   {
    "duration": 9,
    "start_time": "2022-07-07T05:14:29.347Z"
   },
   {
    "duration": 25,
    "start_time": "2022-07-07T05:14:31.045Z"
   },
   {
    "duration": 14,
    "start_time": "2022-07-07T05:14:41.282Z"
   },
   {
    "duration": 23,
    "start_time": "2022-07-07T05:14:41.689Z"
   },
   {
    "duration": 3,
    "start_time": "2022-07-07T05:14:43.577Z"
   },
   {
    "duration": 8,
    "start_time": "2022-07-07T05:14:44.342Z"
   },
   {
    "duration": 15,
    "start_time": "2022-07-07T05:14:44.841Z"
   },
   {
    "duration": 9,
    "start_time": "2022-07-07T05:14:46.952Z"
   },
   {
    "duration": 21,
    "start_time": "2022-07-07T05:14:48.393Z"
   },
   {
    "duration": 41,
    "start_time": "2022-07-07T05:14:55.481Z"
   },
   {
    "duration": 42,
    "start_time": "2022-07-07T05:14:56.005Z"
   },
   {
    "duration": 5,
    "start_time": "2022-07-07T05:15:03.946Z"
   },
   {
    "duration": 8,
    "start_time": "2022-07-07T05:15:04.385Z"
   },
   {
    "duration": 14,
    "start_time": "2022-07-07T05:15:05.097Z"
   },
   {
    "duration": 23,
    "start_time": "2022-07-07T05:15:05.930Z"
   },
   {
    "duration": 4,
    "start_time": "2022-07-07T05:15:12.021Z"
   },
   {
    "duration": 10,
    "start_time": "2022-07-07T05:15:12.464Z"
   },
   {
    "duration": 19,
    "start_time": "2022-07-07T05:15:16.611Z"
   },
   {
    "duration": 292,
    "start_time": "2022-07-07T05:15:21.568Z"
   },
   {
    "duration": 24,
    "start_time": "2022-07-07T05:15:24.568Z"
   },
   {
    "duration": 9,
    "start_time": "2022-07-07T05:16:04.231Z"
   },
   {
    "duration": 15,
    "start_time": "2022-07-07T05:16:04.880Z"
   },
   {
    "duration": 13,
    "start_time": "2022-07-07T05:16:12.463Z"
   },
   {
    "duration": 22,
    "start_time": "2022-07-07T05:16:12.791Z"
   },
   {
    "duration": 22,
    "start_time": "2022-07-07T05:16:43.856Z"
   },
   {
    "duration": 25,
    "start_time": "2022-07-07T05:18:47.332Z"
   },
   {
    "duration": 18,
    "start_time": "2022-07-07T05:18:49.268Z"
   },
   {
    "duration": 24,
    "start_time": "2022-07-07T05:19:49.347Z"
   },
   {
    "duration": 20,
    "start_time": "2022-07-07T05:19:50.665Z"
   },
   {
    "duration": 9,
    "start_time": "2022-07-07T05:20:01.456Z"
   },
   {
    "duration": 93,
    "start_time": "2022-07-07T05:22:31.896Z"
   },
   {
    "duration": 3,
    "start_time": "2022-07-07T05:26:00.157Z"
   },
   {
    "duration": 1328,
    "start_time": "2022-07-07T05:26:00.876Z"
   },
   {
    "duration": 6,
    "start_time": "2022-07-07T05:26:22.092Z"
   },
   {
    "duration": 397,
    "start_time": "2022-07-07T05:26:24.428Z"
   },
   {
    "duration": 289,
    "start_time": "2022-07-07T05:26:36.177Z"
   },
   {
    "duration": 261,
    "start_time": "2022-07-07T05:26:38.123Z"
   },
   {
    "duration": 290,
    "start_time": "2022-07-07T05:28:11.066Z"
   },
   {
    "duration": 4,
    "start_time": "2022-07-07T05:28:44.928Z"
   },
   {
    "duration": 291,
    "start_time": "2022-07-07T05:28:45.350Z"
   },
   {
    "duration": 300,
    "start_time": "2022-07-07T05:28:48.736Z"
   },
   {
    "duration": 269,
    "start_time": "2022-07-07T05:28:51.753Z"
   },
   {
    "duration": 287,
    "start_time": "2022-07-07T05:28:53.478Z"
   },
   {
    "duration": 105,
    "start_time": "2022-07-07T05:30:52.025Z"
   },
   {
    "duration": 270,
    "start_time": "2022-07-07T05:31:18.726Z"
   },
   {
    "duration": 271,
    "start_time": "2022-07-07T05:31:23.851Z"
   },
   {
    "duration": 308,
    "start_time": "2022-07-07T05:31:26.877Z"
   },
   {
    "duration": 125,
    "start_time": "2022-07-07T05:34:52.390Z"
   },
   {
    "duration": 12,
    "start_time": "2022-07-07T05:35:50.862Z"
   },
   {
    "duration": 10,
    "start_time": "2022-07-07T05:36:02.956Z"
   },
   {
    "duration": 6,
    "start_time": "2022-07-07T05:36:03.560Z"
   },
   {
    "duration": 11,
    "start_time": "2022-07-07T05:36:04.582Z"
   },
   {
    "duration": 11,
    "start_time": "2022-07-07T05:36:05.169Z"
   },
   {
    "duration": 14,
    "start_time": "2022-07-07T05:36:25.817Z"
   },
   {
    "duration": 17,
    "start_time": "2022-07-07T05:36:26.964Z"
   },
   {
    "duration": 9,
    "start_time": "2022-07-07T05:38:02.722Z"
   },
   {
    "duration": 8,
    "start_time": "2022-07-07T05:39:20.849Z"
   },
   {
    "duration": 8,
    "start_time": "2022-07-07T05:39:31.357Z"
   },
   {
    "duration": 9,
    "start_time": "2022-07-07T05:49:44.559Z"
   },
   {
    "duration": 8,
    "start_time": "2022-07-07T05:49:55.959Z"
   },
   {
    "duration": 8,
    "start_time": "2022-07-07T05:50:02.863Z"
   },
   {
    "duration": 3,
    "start_time": "2022-07-07T05:50:41.574Z"
   },
   {
    "duration": 7,
    "start_time": "2022-07-07T05:51:02.674Z"
   },
   {
    "duration": 7,
    "start_time": "2022-07-07T05:51:03.067Z"
   },
   {
    "duration": 5,
    "start_time": "2022-07-07T05:51:03.906Z"
   },
   {
    "duration": 5,
    "start_time": "2022-07-07T05:51:06.244Z"
   },
   {
    "duration": 4,
    "start_time": "2022-07-07T05:52:38.762Z"
   },
   {
    "duration": 22,
    "start_time": "2022-07-07T05:55:01.199Z"
   },
   {
    "duration": 5,
    "start_time": "2022-07-07T05:55:07.791Z"
   },
   {
    "duration": 5,
    "start_time": "2022-07-07T05:55:32.238Z"
   },
   {
    "duration": 117,
    "start_time": "2022-07-07T06:04:27.811Z"
   },
   {
    "duration": 12,
    "start_time": "2022-07-07T06:05:40.056Z"
   },
   {
    "duration": 14,
    "start_time": "2022-07-07T06:06:43.062Z"
   },
   {
    "duration": 25,
    "start_time": "2022-07-07T06:06:44.193Z"
   },
   {
    "duration": 21,
    "start_time": "2022-07-07T06:08:09.549Z"
   },
   {
    "duration": 25,
    "start_time": "2022-07-07T06:08:26.933Z"
   },
   {
    "duration": 12,
    "start_time": "2022-07-07T06:08:46.860Z"
   },
   {
    "duration": 21,
    "start_time": "2022-07-07T06:10:04.146Z"
   },
   {
    "duration": 25,
    "start_time": "2022-07-07T06:10:04.819Z"
   },
   {
    "duration": 21,
    "start_time": "2022-07-07T06:11:09.216Z"
   },
   {
    "duration": 13,
    "start_time": "2022-07-07T06:12:09.938Z"
   },
   {
    "duration": 15,
    "start_time": "2022-07-07T06:12:10.215Z"
   },
   {
    "duration": 11,
    "start_time": "2022-07-07T06:12:28.599Z"
   },
   {
    "duration": 17,
    "start_time": "2022-07-07T06:12:28.887Z"
   },
   {
    "duration": 14,
    "start_time": "2022-07-07T06:12:37.152Z"
   },
   {
    "duration": 40,
    "start_time": "2022-07-07T06:12:46.695Z"
   },
   {
    "duration": 13,
    "start_time": "2022-07-07T06:12:47.943Z"
   },
   {
    "duration": 19,
    "start_time": "2022-07-07T06:13:05.319Z"
   },
   {
    "duration": 25,
    "start_time": "2022-07-07T06:13:33.408Z"
   },
   {
    "duration": 28,
    "start_time": "2022-07-07T06:13:39.973Z"
   },
   {
    "duration": 3,
    "start_time": "2022-07-07T06:15:10.594Z"
   },
   {
    "duration": 1392,
    "start_time": "2022-07-07T06:15:15.458Z"
   },
   {
    "duration": 6,
    "start_time": "2022-07-07T06:15:29.467Z"
   },
   {
    "duration": 325,
    "start_time": "2022-07-07T06:15:30.363Z"
   },
   {
    "duration": 272,
    "start_time": "2022-07-07T06:15:32.106Z"
   },
   {
    "duration": 284,
    "start_time": "2022-07-07T06:15:32.719Z"
   },
   {
    "duration": 262,
    "start_time": "2022-07-07T06:15:33.658Z"
   },
   {
    "duration": 14,
    "start_time": "2022-07-07T06:16:03.131Z"
   },
   {
    "duration": 13,
    "start_time": "2022-07-07T06:16:13.168Z"
   },
   {
    "duration": 8,
    "start_time": "2022-07-07T06:16:13.634Z"
   },
   {
    "duration": 13,
    "start_time": "2022-07-07T06:16:16.101Z"
   },
   {
    "duration": 16,
    "start_time": "2022-07-07T06:16:16.724Z"
   },
   {
    "duration": 9,
    "start_time": "2022-07-07T06:16:21.049Z"
   },
   {
    "duration": 9,
    "start_time": "2022-07-07T06:16:21.424Z"
   },
   {
    "duration": 81,
    "start_time": "2022-07-07T06:16:22.019Z"
   },
   {
    "duration": 5,
    "start_time": "2022-07-07T06:16:22.418Z"
   },
   {
    "duration": 76,
    "start_time": "2022-07-07T06:16:27.408Z"
   },
   {
    "duration": 87,
    "start_time": "2022-07-07T06:19:52.525Z"
   },
   {
    "duration": 6,
    "start_time": "2022-07-07T06:19:54.828Z"
   },
   {
    "duration": 384,
    "start_time": "2022-07-07T06:20:05.270Z"
   },
   {
    "duration": 381,
    "start_time": "2022-07-07T06:20:11.635Z"
   },
   {
    "duration": 3,
    "start_time": "2022-07-07T06:20:25.122Z"
   },
   {
    "duration": 6,
    "start_time": "2022-07-07T06:20:25.844Z"
   },
   {
    "duration": 76,
    "start_time": "2022-07-07T06:21:53.370Z"
   },
   {
    "duration": 1207,
    "start_time": "2022-07-07T06:23:01.956Z"
   },
   {
    "duration": 437,
    "start_time": "2022-07-07T06:23:03.165Z"
   },
   {
    "duration": 453,
    "start_time": "2022-07-07T06:23:03.605Z"
   },
   {
    "duration": 22,
    "start_time": "2022-07-07T06:23:04.061Z"
   },
   {
    "duration": 27,
    "start_time": "2022-07-07T06:23:04.086Z"
   },
   {
    "duration": 26,
    "start_time": "2022-07-07T06:23:04.115Z"
   },
   {
    "duration": 14,
    "start_time": "2022-07-07T06:23:04.144Z"
   },
   {
    "duration": 144,
    "start_time": "2022-07-07T06:23:04.161Z"
   },
   {
    "duration": 16,
    "start_time": "2022-07-07T06:23:04.307Z"
   },
   {
    "duration": 30,
    "start_time": "2022-07-07T06:23:04.327Z"
   },
   {
    "duration": 10,
    "start_time": "2022-07-07T06:23:04.360Z"
   },
   {
    "duration": 16,
    "start_time": "2022-07-07T06:23:04.397Z"
   },
   {
    "duration": 287,
    "start_time": "2022-07-07T06:23:04.415Z"
   },
   {
    "duration": 5,
    "start_time": "2022-07-07T06:23:04.703Z"
   },
   {
    "duration": 7,
    "start_time": "2022-07-07T06:23:04.710Z"
   },
   {
    "duration": 20,
    "start_time": "2022-07-07T06:23:04.719Z"
   },
   {
    "duration": 13,
    "start_time": "2022-07-07T06:23:04.741Z"
   },
   {
    "duration": 44,
    "start_time": "2022-07-07T06:23:04.756Z"
   },
   {
    "duration": 6,
    "start_time": "2022-07-07T06:23:04.802Z"
   },
   {
    "duration": 24,
    "start_time": "2022-07-07T06:23:04.810Z"
   },
   {
    "duration": 289,
    "start_time": "2022-07-07T06:23:04.836Z"
   },
   {
    "duration": 3,
    "start_time": "2022-07-07T06:23:05.127Z"
   },
   {
    "duration": 13,
    "start_time": "2022-07-07T06:23:05.132Z"
   },
   {
    "duration": 28,
    "start_time": "2022-07-07T06:23:05.147Z"
   },
   {
    "duration": 22,
    "start_time": "2022-07-07T06:23:05.178Z"
   },
   {
    "duration": 6,
    "start_time": "2022-07-07T06:23:05.202Z"
   },
   {
    "duration": 9,
    "start_time": "2022-07-07T06:23:05.210Z"
   },
   {
    "duration": 26,
    "start_time": "2022-07-07T06:23:05.225Z"
   },
   {
    "duration": 13,
    "start_time": "2022-07-07T06:23:05.253Z"
   },
   {
    "duration": 45,
    "start_time": "2022-07-07T06:23:05.267Z"
   },
   {
    "duration": 12,
    "start_time": "2022-07-07T06:23:05.314Z"
   },
   {
    "duration": 15,
    "start_time": "2022-07-07T06:23:05.328Z"
   },
   {
    "duration": 15,
    "start_time": "2022-07-07T06:23:05.345Z"
   },
   {
    "duration": 11,
    "start_time": "2022-07-07T06:23:05.362Z"
   },
   {
    "duration": 18,
    "start_time": "2022-07-07T06:23:05.399Z"
   },
   {
    "duration": 102,
    "start_time": "2022-07-07T06:23:05.419Z"
   },
   {
    "duration": 0,
    "start_time": "2022-07-07T06:23:05.523Z"
   },
   {
    "duration": 0,
    "start_time": "2022-07-07T06:23:05.524Z"
   },
   {
    "duration": 0,
    "start_time": "2022-07-07T06:23:05.526Z"
   },
   {
    "duration": 0,
    "start_time": "2022-07-07T06:23:05.528Z"
   },
   {
    "duration": 0,
    "start_time": "2022-07-07T06:23:05.529Z"
   },
   {
    "duration": 1,
    "start_time": "2022-07-07T06:23:05.530Z"
   },
   {
    "duration": 1,
    "start_time": "2022-07-07T06:23:05.532Z"
   },
   {
    "duration": 0,
    "start_time": "2022-07-07T06:23:05.534Z"
   },
   {
    "duration": 0,
    "start_time": "2022-07-07T06:23:05.535Z"
   },
   {
    "duration": 1,
    "start_time": "2022-07-07T06:23:05.536Z"
   },
   {
    "duration": 0,
    "start_time": "2022-07-07T06:23:05.538Z"
   },
   {
    "duration": 0,
    "start_time": "2022-07-07T06:23:05.540Z"
   },
   {
    "duration": 0,
    "start_time": "2022-07-07T06:23:05.541Z"
   },
   {
    "duration": 0,
    "start_time": "2022-07-07T06:23:05.543Z"
   },
   {
    "duration": 0,
    "start_time": "2022-07-07T06:23:05.544Z"
   },
   {
    "duration": 0,
    "start_time": "2022-07-07T06:23:05.545Z"
   },
   {
    "duration": 0,
    "start_time": "2022-07-07T06:23:05.547Z"
   },
   {
    "duration": 0,
    "start_time": "2022-07-07T06:23:05.549Z"
   },
   {
    "duration": 0,
    "start_time": "2022-07-07T06:23:05.599Z"
   },
   {
    "duration": 0,
    "start_time": "2022-07-07T06:23:05.600Z"
   },
   {
    "duration": 0,
    "start_time": "2022-07-07T06:23:05.603Z"
   },
   {
    "duration": 0,
    "start_time": "2022-07-07T06:23:05.605Z"
   },
   {
    "duration": 0,
    "start_time": "2022-07-07T06:23:05.608Z"
   },
   {
    "duration": 0,
    "start_time": "2022-07-07T06:23:05.610Z"
   },
   {
    "duration": 0,
    "start_time": "2022-07-07T06:23:05.611Z"
   },
   {
    "duration": 0,
    "start_time": "2022-07-07T06:23:05.612Z"
   },
   {
    "duration": 0,
    "start_time": "2022-07-07T06:23:05.614Z"
   },
   {
    "duration": 0,
    "start_time": "2022-07-07T06:23:05.615Z"
   },
   {
    "duration": 0,
    "start_time": "2022-07-07T06:23:05.624Z"
   },
   {
    "duration": 0,
    "start_time": "2022-07-07T06:23:05.626Z"
   },
   {
    "duration": 0,
    "start_time": "2022-07-07T06:23:05.627Z"
   },
   {
    "duration": 0,
    "start_time": "2022-07-07T06:23:05.629Z"
   },
   {
    "duration": 0,
    "start_time": "2022-07-07T06:23:05.630Z"
   },
   {
    "duration": 0,
    "start_time": "2022-07-07T06:23:05.632Z"
   },
   {
    "duration": 0,
    "start_time": "2022-07-07T06:23:05.634Z"
   },
   {
    "duration": 0,
    "start_time": "2022-07-07T06:23:05.635Z"
   },
   {
    "duration": 0,
    "start_time": "2022-07-07T06:23:05.636Z"
   },
   {
    "duration": 0,
    "start_time": "2022-07-07T06:23:05.638Z"
   },
   {
    "duration": 0,
    "start_time": "2022-07-07T06:23:05.639Z"
   },
   {
    "duration": 0,
    "start_time": "2022-07-07T06:23:05.640Z"
   },
   {
    "duration": 0,
    "start_time": "2022-07-07T06:23:05.641Z"
   },
   {
    "duration": 0,
    "start_time": "2022-07-07T06:23:05.642Z"
   },
   {
    "duration": 11,
    "start_time": "2022-07-07T06:23:45.755Z"
   },
   {
    "duration": 8,
    "start_time": "2022-07-07T06:24:07.178Z"
   },
   {
    "duration": 1257,
    "start_time": "2022-07-07T06:24:11.105Z"
   },
   {
    "duration": 444,
    "start_time": "2022-07-07T06:24:12.365Z"
   },
   {
    "duration": 387,
    "start_time": "2022-07-07T06:24:12.811Z"
   },
   {
    "duration": 18,
    "start_time": "2022-07-07T06:24:13.199Z"
   },
   {
    "duration": 13,
    "start_time": "2022-07-07T06:24:13.219Z"
   },
   {
    "duration": 10,
    "start_time": "2022-07-07T06:24:13.234Z"
   },
   {
    "duration": 18,
    "start_time": "2022-07-07T06:24:13.245Z"
   },
   {
    "duration": 101,
    "start_time": "2022-07-07T06:24:13.264Z"
   },
   {
    "duration": 13,
    "start_time": "2022-07-07T06:24:13.367Z"
   },
   {
    "duration": 35,
    "start_time": "2022-07-07T06:24:13.382Z"
   },
   {
    "duration": 9,
    "start_time": "2022-07-07T06:24:13.419Z"
   },
   {
    "duration": 16,
    "start_time": "2022-07-07T06:24:13.430Z"
   },
   {
    "duration": 304,
    "start_time": "2022-07-07T06:24:13.448Z"
   },
   {
    "duration": 5,
    "start_time": "2022-07-07T06:24:13.755Z"
   },
   {
    "duration": 8,
    "start_time": "2022-07-07T06:24:13.762Z"
   },
   {
    "duration": 36,
    "start_time": "2022-07-07T06:24:13.772Z"
   },
   {
    "duration": 12,
    "start_time": "2022-07-07T06:24:13.810Z"
   },
   {
    "duration": 18,
    "start_time": "2022-07-07T06:24:13.823Z"
   },
   {
    "duration": 6,
    "start_time": "2022-07-07T06:24:13.843Z"
   },
   {
    "duration": 47,
    "start_time": "2022-07-07T06:24:13.851Z"
   },
   {
    "duration": 279,
    "start_time": "2022-07-07T06:24:13.900Z"
   },
   {
    "duration": 2,
    "start_time": "2022-07-07T06:24:14.181Z"
   },
   {
    "duration": 13,
    "start_time": "2022-07-07T06:24:14.185Z"
   },
   {
    "duration": 29,
    "start_time": "2022-07-07T06:24:14.200Z"
   },
   {
    "duration": 7,
    "start_time": "2022-07-07T06:24:14.230Z"
   },
   {
    "duration": 11,
    "start_time": "2022-07-07T06:24:14.240Z"
   },
   {
    "duration": 9,
    "start_time": "2022-07-07T06:24:14.253Z"
   },
   {
    "duration": 50,
    "start_time": "2022-07-07T06:24:14.264Z"
   },
   {
    "duration": 12,
    "start_time": "2022-07-07T06:24:14.316Z"
   },
   {
    "duration": 15,
    "start_time": "2022-07-07T06:24:14.330Z"
   },
   {
    "duration": 12,
    "start_time": "2022-07-07T06:24:14.347Z"
   },
   {
    "duration": 38,
    "start_time": "2022-07-07T06:24:14.361Z"
   },
   {
    "duration": 19,
    "start_time": "2022-07-07T06:24:14.401Z"
   },
   {
    "duration": 5,
    "start_time": "2022-07-07T06:24:14.421Z"
   },
   {
    "duration": 11,
    "start_time": "2022-07-07T06:24:14.428Z"
   },
   {
    "duration": 7,
    "start_time": "2022-07-07T06:24:14.441Z"
   },
   {
    "duration": 25,
    "start_time": "2022-07-07T06:24:14.450Z"
   },
   {
    "duration": 22,
    "start_time": "2022-07-07T06:24:14.477Z"
   },
   {
    "duration": 16,
    "start_time": "2022-07-07T06:24:14.502Z"
   },
   {
    "duration": 27,
    "start_time": "2022-07-07T06:24:14.520Z"
   },
   {
    "duration": 7,
    "start_time": "2022-07-07T06:24:14.553Z"
   },
   {
    "duration": 10,
    "start_time": "2022-07-07T06:24:14.562Z"
   },
   {
    "duration": 41,
    "start_time": "2022-07-07T06:24:14.574Z"
   },
   {
    "duration": 9,
    "start_time": "2022-07-07T06:24:14.616Z"
   },
   {
    "duration": 32,
    "start_time": "2022-07-07T06:24:14.627Z"
   },
   {
    "duration": 50,
    "start_time": "2022-07-07T06:24:14.662Z"
   },
   {
    "duration": 5,
    "start_time": "2022-07-07T06:24:14.713Z"
   },
   {
    "duration": 13,
    "start_time": "2022-07-07T06:24:14.719Z"
   },
   {
    "duration": 5,
    "start_time": "2022-07-07T06:24:14.733Z"
   },
   {
    "duration": 30,
    "start_time": "2022-07-07T06:24:14.740Z"
   },
   {
    "duration": 31,
    "start_time": "2022-07-07T06:24:14.771Z"
   },
   {
    "duration": 14,
    "start_time": "2022-07-07T06:24:14.804Z"
   },
   {
    "duration": 8,
    "start_time": "2022-07-07T06:24:14.820Z"
   },
   {
    "duration": 223,
    "start_time": "2022-07-07T06:24:14.830Z"
   },
   {
    "duration": 29,
    "start_time": "2022-07-07T06:24:15.055Z"
   },
   {
    "duration": 19,
    "start_time": "2022-07-07T06:24:15.086Z"
   },
   {
    "duration": 17,
    "start_time": "2022-07-07T06:24:15.106Z"
   },
   {
    "duration": 19,
    "start_time": "2022-07-07T06:24:15.125Z"
   },
   {
    "duration": 27,
    "start_time": "2022-07-07T06:24:15.146Z"
   },
   {
    "duration": 48,
    "start_time": "2022-07-07T06:24:15.175Z"
   },
   {
    "duration": 9,
    "start_time": "2022-07-07T06:24:15.225Z"
   },
   {
    "duration": 5,
    "start_time": "2022-07-07T06:24:15.236Z"
   },
   {
    "duration": 1389,
    "start_time": "2022-07-07T06:24:15.242Z"
   },
   {
    "duration": 5,
    "start_time": "2022-07-07T06:24:16.634Z"
   },
   {
    "duration": 422,
    "start_time": "2022-07-07T06:24:16.645Z"
   },
   {
    "duration": 291,
    "start_time": "2022-07-07T06:24:17.070Z"
   },
   {
    "duration": 383,
    "start_time": "2022-07-07T06:24:17.364Z"
   },
   {
    "duration": 299,
    "start_time": "2022-07-07T06:24:17.749Z"
   },
   {
    "duration": 17,
    "start_time": "2022-07-07T06:24:18.050Z"
   },
   {
    "duration": 30,
    "start_time": "2022-07-07T06:24:18.069Z"
   },
   {
    "duration": 6,
    "start_time": "2022-07-07T06:24:18.101Z"
   },
   {
    "duration": 24,
    "start_time": "2022-07-07T06:24:18.110Z"
   },
   {
    "duration": 16,
    "start_time": "2022-07-07T06:24:18.136Z"
   },
   {
    "duration": 9,
    "start_time": "2022-07-07T06:24:18.154Z"
   },
   {
    "duration": 38,
    "start_time": "2022-07-07T06:24:18.166Z"
   },
   {
    "duration": 4,
    "start_time": "2022-07-07T06:24:18.206Z"
   },
   {
    "duration": 10,
    "start_time": "2022-07-07T06:24:18.212Z"
   },
   {
    "duration": 51,
    "start_time": "2022-07-07T21:31:46.273Z"
   },
   {
    "duration": 1138,
    "start_time": "2022-07-07T21:31:53.749Z"
   },
   {
    "duration": 386,
    "start_time": "2022-07-07T21:31:54.889Z"
   },
   {
    "duration": 357,
    "start_time": "2022-07-07T21:31:55.277Z"
   },
   {
    "duration": 15,
    "start_time": "2022-07-07T21:31:55.635Z"
   },
   {
    "duration": 16,
    "start_time": "2022-07-07T21:31:55.652Z"
   },
   {
    "duration": 12,
    "start_time": "2022-07-07T21:31:55.670Z"
   },
   {
    "duration": 10,
    "start_time": "2022-07-07T21:31:55.683Z"
   },
   {
    "duration": 99,
    "start_time": "2022-07-07T21:31:55.694Z"
   },
   {
    "duration": 13,
    "start_time": "2022-07-07T21:31:55.795Z"
   },
   {
    "duration": 31,
    "start_time": "2022-07-07T21:31:55.810Z"
   },
   {
    "duration": 9,
    "start_time": "2022-07-07T21:31:55.843Z"
   },
   {
    "duration": 16,
    "start_time": "2022-07-07T21:31:55.854Z"
   },
   {
    "duration": 241,
    "start_time": "2022-07-07T21:31:55.871Z"
   },
   {
    "duration": 4,
    "start_time": "2022-07-07T21:31:56.123Z"
   },
   {
    "duration": 5,
    "start_time": "2022-07-07T21:31:56.129Z"
   },
   {
    "duration": 18,
    "start_time": "2022-07-07T21:31:56.135Z"
   },
   {
    "duration": 15,
    "start_time": "2022-07-07T21:31:56.155Z"
   },
   {
    "duration": 17,
    "start_time": "2022-07-07T21:31:56.172Z"
   },
   {
    "duration": 6,
    "start_time": "2022-07-07T21:31:56.191Z"
   },
   {
    "duration": 47,
    "start_time": "2022-07-07T21:31:56.198Z"
   },
   {
    "duration": 241,
    "start_time": "2022-07-07T21:31:56.247Z"
   },
   {
    "duration": 3,
    "start_time": "2022-07-07T21:31:56.490Z"
   },
   {
    "duration": 13,
    "start_time": "2022-07-07T21:31:56.494Z"
   },
   {
    "duration": 28,
    "start_time": "2022-07-07T21:31:56.509Z"
   },
   {
    "duration": 26,
    "start_time": "2022-07-07T21:31:56.538Z"
   },
   {
    "duration": 6,
    "start_time": "2022-07-07T21:31:56.566Z"
   },
   {
    "duration": 12,
    "start_time": "2022-07-07T21:31:56.574Z"
   },
   {
    "duration": 7,
    "start_time": "2022-07-07T21:31:56.588Z"
   },
   {
    "duration": 42,
    "start_time": "2022-07-07T21:31:56.597Z"
   },
   {
    "duration": 11,
    "start_time": "2022-07-07T21:31:56.641Z"
   },
   {
    "duration": 16,
    "start_time": "2022-07-07T21:31:56.654Z"
   },
   {
    "duration": 11,
    "start_time": "2022-07-07T21:31:56.672Z"
   },
   {
    "duration": 13,
    "start_time": "2022-07-07T21:31:56.684Z"
   },
   {
    "duration": 33,
    "start_time": "2022-07-07T21:31:56.699Z"
   },
   {
    "duration": 8,
    "start_time": "2022-07-07T21:31:56.734Z"
   },
   {
    "duration": 19,
    "start_time": "2022-07-07T21:31:56.744Z"
   },
   {
    "duration": 8,
    "start_time": "2022-07-07T21:31:56.765Z"
   },
   {
    "duration": 20,
    "start_time": "2022-07-07T21:31:56.774Z"
   },
   {
    "duration": 7,
    "start_time": "2022-07-07T21:31:56.796Z"
   },
   {
    "duration": 30,
    "start_time": "2022-07-07T21:31:56.805Z"
   },
   {
    "duration": 15,
    "start_time": "2022-07-07T21:31:56.839Z"
   },
   {
    "duration": 5,
    "start_time": "2022-07-07T21:31:56.856Z"
   },
   {
    "duration": 11,
    "start_time": "2022-07-07T21:31:56.863Z"
   },
   {
    "duration": 15,
    "start_time": "2022-07-07T21:31:56.876Z"
   },
   {
    "duration": 10,
    "start_time": "2022-07-07T21:31:56.893Z"
   },
   {
    "duration": 42,
    "start_time": "2022-07-07T21:31:56.905Z"
   },
   {
    "duration": 21,
    "start_time": "2022-07-07T21:31:56.949Z"
   },
   {
    "duration": 4,
    "start_time": "2022-07-07T21:31:56.971Z"
   },
   {
    "duration": 13,
    "start_time": "2022-07-07T21:31:56.976Z"
   },
   {
    "duration": 5,
    "start_time": "2022-07-07T21:31:56.991Z"
   },
   {
    "duration": 40,
    "start_time": "2022-07-07T21:31:56.998Z"
   },
   {
    "duration": 4,
    "start_time": "2022-07-07T21:31:57.039Z"
   },
   {
    "duration": 15,
    "start_time": "2022-07-07T21:31:57.044Z"
   },
   {
    "duration": 7,
    "start_time": "2022-07-07T21:31:57.061Z"
   },
   {
    "duration": 215,
    "start_time": "2022-07-07T21:31:57.070Z"
   },
   {
    "duration": 27,
    "start_time": "2022-07-07T21:31:57.287Z"
   },
   {
    "duration": 10,
    "start_time": "2022-07-07T21:31:57.324Z"
   },
   {
    "duration": 21,
    "start_time": "2022-07-07T21:31:57.337Z"
   },
   {
    "duration": 16,
    "start_time": "2022-07-07T21:31:57.360Z"
   },
   {
    "duration": 46,
    "start_time": "2022-07-07T21:31:57.378Z"
   },
   {
    "duration": 35,
    "start_time": "2022-07-07T21:31:57.427Z"
   },
   {
    "duration": 10,
    "start_time": "2022-07-07T21:31:57.465Z"
   },
   {
    "duration": 7,
    "start_time": "2022-07-07T21:31:57.477Z"
   },
   {
    "duration": 1194,
    "start_time": "2022-07-07T21:31:57.485Z"
   },
   {
    "duration": 4,
    "start_time": "2022-07-07T21:31:58.680Z"
   },
   {
    "duration": 247,
    "start_time": "2022-07-07T21:31:58.686Z"
   },
   {
    "duration": 242,
    "start_time": "2022-07-07T21:31:58.935Z"
   },
   {
    "duration": 295,
    "start_time": "2022-07-07T21:31:59.178Z"
   },
   {
    "duration": 241,
    "start_time": "2022-07-07T21:31:59.474Z"
   },
   {
    "duration": 10,
    "start_time": "2022-07-07T21:31:59.723Z"
   },
   {
    "duration": 7,
    "start_time": "2022-07-07T21:31:59.735Z"
   },
   {
    "duration": 6,
    "start_time": "2022-07-07T21:31:59.744Z"
   },
   {
    "duration": 17,
    "start_time": "2022-07-07T21:31:59.752Z"
   },
   {
    "duration": 11,
    "start_time": "2022-07-07T21:31:59.771Z"
   },
   {
    "duration": 6,
    "start_time": "2022-07-07T21:31:59.784Z"
   },
   {
    "duration": 38,
    "start_time": "2022-07-07T21:31:59.791Z"
   },
   {
    "duration": 7,
    "start_time": "2022-07-07T21:31:59.831Z"
   },
   {
    "duration": 9,
    "start_time": "2022-07-07T21:31:59.840Z"
   },
   {
    "duration": 234,
    "start_time": "2022-07-07T21:46:33.583Z"
   }
  ],
  "kernelspec": {
   "display_name": "Python 3 (ipykernel)",
   "language": "python",
   "name": "python3"
  },
  "language_info": {
   "codemirror_mode": {
    "name": "ipython",
    "version": 3
   },
   "file_extension": ".py",
   "mimetype": "text/x-python",
   "name": "python",
   "nbconvert_exporter": "python",
   "pygments_lexer": "ipython3",
   "version": "3.9.13"
  },
  "toc": {
   "base_numbering": 1,
   "nav_menu": {
    "height": "12px",
    "width": "160px"
   },
   "number_sections": true,
   "sideBar": true,
   "skip_h1_title": true,
   "title_cell": "Table of Contents",
   "title_sidebar": "Contents",
   "toc_cell": false,
   "toc_position": {
    "height": "calc(100% - 180px)",
    "left": "10px",
    "top": "150px",
    "width": "209.672px"
   },
   "toc_section_display": true,
   "toc_window_display": true
  }
 },
 "nbformat": 4,
 "nbformat_minor": 2
}
