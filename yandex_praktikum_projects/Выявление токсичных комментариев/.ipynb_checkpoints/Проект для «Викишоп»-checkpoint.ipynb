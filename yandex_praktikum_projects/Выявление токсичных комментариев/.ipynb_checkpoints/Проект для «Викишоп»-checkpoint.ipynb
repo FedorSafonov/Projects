{
 "cells": [
  {
   "cell_type": "markdown",
   "metadata": {
    "toc": true
   },
   "source": [
    "<h1>Содержание<span class=\"tocSkip\"></span></h1>\n",
    "<div class=\"toc\"><ul class=\"toc-item\"><li><span><a href=\"#Подготовка\" data-toc-modified-id=\"Подготовка-1\"><span class=\"toc-item-num\">1&nbsp;&nbsp;</span>Подготовка</a></span><ul class=\"toc-item\"><li><span><a href=\"#Обзор-данных\" data-toc-modified-id=\"Обзор-данных-1.1\"><span class=\"toc-item-num\">1.1&nbsp;&nbsp;</span>Обзор данных</a></span></li><li><span><a href=\"#Лемматизация\" data-toc-modified-id=\"Лемматизация-1.2\"><span class=\"toc-item-num\">1.2&nbsp;&nbsp;</span>Лемматизация</a></span></li></ul></li><li><span><a href=\"#Обучение\" data-toc-modified-id=\"Обучение-2\"><span class=\"toc-item-num\">2&nbsp;&nbsp;</span>Обучение</a></span><ul class=\"toc-item\"><li><span><a href=\"#Функции-для-обучения.\" data-toc-modified-id=\"Функции-для-обучения.-2.1\"><span class=\"toc-item-num\">2.1&nbsp;&nbsp;</span>Функции для обучения.</a></span></li><li><span><a href=\"#Модели\" data-toc-modified-id=\"Модели-2.2\"><span class=\"toc-item-num\">2.2&nbsp;&nbsp;</span>Модели</a></span><ul class=\"toc-item\"><li><span><a href=\"#LogisticRegression\" data-toc-modified-id=\"LogisticRegression-2.2.1\"><span class=\"toc-item-num\">2.2.1&nbsp;&nbsp;</span>LogisticRegression</a></span></li><li><span><a href=\"#LinearSVC\" data-toc-modified-id=\"LinearSVC-2.2.2\"><span class=\"toc-item-num\">2.2.2&nbsp;&nbsp;</span>LinearSVC</a></span></li><li><span><a href=\"#CatBoostClassifier\" data-toc-modified-id=\"CatBoostClassifier-2.2.3\"><span class=\"toc-item-num\">2.2.3&nbsp;&nbsp;</span>CatBoostClassifier</a></span></li></ul></li><li><span><a href=\"#Тестирование-лучшей-модели\" data-toc-modified-id=\"Тестирование-лучшей-модели-2.3\"><span class=\"toc-item-num\">2.3&nbsp;&nbsp;</span>Тестирование лучшей модели</a></span><ul class=\"toc-item\"><li><span><a href=\"#Catboost\" data-toc-modified-id=\"Catboost-2.3.1\"><span class=\"toc-item-num\">2.3.1&nbsp;&nbsp;</span>Catboost</a></span><ul class=\"toc-item\"><li><span><a href=\"#Тест\" data-toc-modified-id=\"Тест-2.3.1.1\"><span class=\"toc-item-num\">2.3.1.1&nbsp;&nbsp;</span>Тест</a></span></li><li><span><a href=\"#Регулирование-порога\" data-toc-modified-id=\"Регулирование-порога-2.3.1.2\"><span class=\"toc-item-num\">2.3.1.2&nbsp;&nbsp;</span>Регулирование порога</a></span></li></ul></li></ul></li></ul></li><li><span><a href=\"#Выводы\" data-toc-modified-id=\"Выводы-3\"><span class=\"toc-item-num\">3&nbsp;&nbsp;</span>Выводы</a></span></li><li><span><a href=\"#Чек-лист-проверки\" data-toc-modified-id=\"Чек-лист-проверки-4\"><span class=\"toc-item-num\">4&nbsp;&nbsp;</span>Чек-лист проверки</a></span></li></ul></div>"
   ]
  },
  {
   "cell_type": "markdown",
   "metadata": {},
   "source": [
    "# Проект для «Викишоп»"
   ]
  },
  {
   "cell_type": "markdown",
   "metadata": {},
   "source": [
    "**Описание:** Интернет-магазин «Викишоп» запускает новый сервис. Теперь пользователи могут редактировать и дополнять описания товаров, как в вики-сообществах. То есть клиенты предлагают свои правки и комментируют изменения других.\n",
    "\n",
    "**Задача бизнеса:** Магазину нужен инструмент, который будет искать токсичные комментарии и отправлять их на модерацию.\n",
    "\n",
    "**Цель проекта:**\n",
    "- Обучить модель, которая будет классифицировать комментарии на позитивные и негативные.\n",
    "- Добиться метрики качества F1 не меньше 0.75.\n",
    "\n",
    "**Данные:** Набор данных с разметкой о токсичности правок."
   ]
  },
  {
   "cell_type": "markdown",
   "metadata": {},
   "source": [
    "**План**\n",
    "- 1. Загрузить и изучить данные\n",
    "  - Провести предобработку если потребуется\n",
    "- 2. Обработать текст - провести Лемматизацию\n",
    "- 3. Создать функции для обучения моделей, заложить в них трансфорцию и векторизацию текста\n",
    "- 4. Обучить модели.\n",
    "- 5. Протестировать лучшую модель.\n",
    "- 6. Вывод."
   ]
  },
  {
   "cell_type": "markdown",
   "metadata": {},
   "source": [
    "## Подготовка"
   ]
  },
  {
   "cell_type": "code",
   "execution_count": 1,
   "metadata": {},
   "outputs": [],
   "source": [
    "import pandas as pd\n",
    "import numpy as np\n",
    "import matplotlib.pyplot as plt\n",
    "import seaborn as sns\n",
    "import sys\n",
    "import time\n",
    "\n",
    "import spacy\n",
    "import torch\n",
    "import pymorphy2\n",
    "import re \n",
    "import nltk\n",
    "from nltk.corpus import stopwords \n",
    "from string import punctuation\n",
    "\n",
    "from sklearn.feature_extraction.text import TfidfTransformer, CountVectorizer\n",
    "from sklearn.model_selection import train_test_split as tts, GridSearchCV as gs_cv, cross_val_score as cvs\n",
    "from sklearn.pipeline import Pipeline\n",
    "\n",
    "from sklearn.linear_model import LogisticRegression as LR\n",
    "from sklearn.dummy import DummyClassifier as DC\n",
    "from sklearn.svm import LinearSVC as LSVC\n",
    "from catboost import CatBoostClassifier as CBC\n",
    "\n",
    "from sklearn.metrics import  f1_score, classification_report\n",
    "from sklearn.metrics import roc_curve, roc_auc_score, auc\n",
    "\n",
    "import matplotlib.pyplot as plt\n",
    "import seaborn as sns\n",
    "\n",
    "%matplotlib inline\n",
    "%config InlineBackend.figure_format='retina'\n",
    "sns.set_style('darkgrid')\n",
    "\n",
    "import warnings\n",
    "warnings.filterwarnings('ignore')\n",
    "\n",
    "s = 100500"
   ]
  },
  {
   "cell_type": "markdown",
   "metadata": {},
   "source": [
    "### Обзор данных"
   ]
  },
  {
   "cell_type": "code",
   "execution_count": 2,
   "metadata": {
    "scrolled": true
   },
   "outputs": [
    {
     "data": {
      "text/html": [
       "<div>\n",
       "<style scoped>\n",
       "    .dataframe tbody tr th:only-of-type {\n",
       "        vertical-align: middle;\n",
       "    }\n",
       "\n",
       "    .dataframe tbody tr th {\n",
       "        vertical-align: top;\n",
       "    }\n",
       "\n",
       "    .dataframe thead th {\n",
       "        text-align: right;\n",
       "    }\n",
       "</style>\n",
       "<table border=\"1\" class=\"dataframe\">\n",
       "  <thead>\n",
       "    <tr style=\"text-align: right;\">\n",
       "      <th></th>\n",
       "      <th>Unnamed: 0</th>\n",
       "      <th>text</th>\n",
       "      <th>toxic</th>\n",
       "    </tr>\n",
       "  </thead>\n",
       "  <tbody>\n",
       "    <tr>\n",
       "      <th>0</th>\n",
       "      <td>0</td>\n",
       "      <td>Explanation\\nWhy the edits made under my usern...</td>\n",
       "      <td>0</td>\n",
       "    </tr>\n",
       "    <tr>\n",
       "      <th>1</th>\n",
       "      <td>1</td>\n",
       "      <td>D'aww! He matches this background colour I'm s...</td>\n",
       "      <td>0</td>\n",
       "    </tr>\n",
       "    <tr>\n",
       "      <th>2</th>\n",
       "      <td>2</td>\n",
       "      <td>Hey man, I'm really not trying to edit war. It...</td>\n",
       "      <td>0</td>\n",
       "    </tr>\n",
       "    <tr>\n",
       "      <th>3</th>\n",
       "      <td>3</td>\n",
       "      <td>\"\\nMore\\nI can't make any real suggestions on ...</td>\n",
       "      <td>0</td>\n",
       "    </tr>\n",
       "    <tr>\n",
       "      <th>4</th>\n",
       "      <td>4</td>\n",
       "      <td>You, sir, are my hero. Any chance you remember...</td>\n",
       "      <td>0</td>\n",
       "    </tr>\n",
       "    <tr>\n",
       "      <th>...</th>\n",
       "      <td>...</td>\n",
       "      <td>...</td>\n",
       "      <td>...</td>\n",
       "    </tr>\n",
       "    <tr>\n",
       "      <th>159287</th>\n",
       "      <td>159446</td>\n",
       "      <td>\":::::And for the second time of asking, when ...</td>\n",
       "      <td>0</td>\n",
       "    </tr>\n",
       "    <tr>\n",
       "      <th>159288</th>\n",
       "      <td>159447</td>\n",
       "      <td>You should be ashamed of yourself \\n\\nThat is ...</td>\n",
       "      <td>0</td>\n",
       "    </tr>\n",
       "    <tr>\n",
       "      <th>159289</th>\n",
       "      <td>159448</td>\n",
       "      <td>Spitzer \\n\\nUmm, theres no actual article for ...</td>\n",
       "      <td>0</td>\n",
       "    </tr>\n",
       "    <tr>\n",
       "      <th>159290</th>\n",
       "      <td>159449</td>\n",
       "      <td>And it looks like it was actually you who put ...</td>\n",
       "      <td>0</td>\n",
       "    </tr>\n",
       "    <tr>\n",
       "      <th>159291</th>\n",
       "      <td>159450</td>\n",
       "      <td>\"\\nAnd ... I really don't think you understand...</td>\n",
       "      <td>0</td>\n",
       "    </tr>\n",
       "  </tbody>\n",
       "</table>\n",
       "<p>159292 rows × 3 columns</p>\n",
       "</div>"
      ],
      "text/plain": [
       "        Unnamed: 0                                               text  toxic\n",
       "0                0  Explanation\\nWhy the edits made under my usern...      0\n",
       "1                1  D'aww! He matches this background colour I'm s...      0\n",
       "2                2  Hey man, I'm really not trying to edit war. It...      0\n",
       "3                3  \"\\nMore\\nI can't make any real suggestions on ...      0\n",
       "4                4  You, sir, are my hero. Any chance you remember...      0\n",
       "...            ...                                                ...    ...\n",
       "159287      159446  \":::::And for the second time of asking, when ...      0\n",
       "159288      159447  You should be ashamed of yourself \\n\\nThat is ...      0\n",
       "159289      159448  Spitzer \\n\\nUmm, theres no actual article for ...      0\n",
       "159290      159449  And it looks like it was actually you who put ...      0\n",
       "159291      159450  \"\\nAnd ... I really don't think you understand...      0\n",
       "\n",
       "[159292 rows x 3 columns]"
      ]
     },
     "execution_count": 2,
     "metadata": {},
     "output_type": "execute_result"
    }
   ],
   "source": [
    "try:\n",
    "    df = pd.read_csv('/datasets/toxic_comments.csv', encoding='UTF-8')\n",
    "except:\n",
    "    df = pd.read_csv('toxic_comments.csv', encoding='UTF-8')\n",
    "df"
   ]
  },
  {
   "cell_type": "code",
   "execution_count": 3,
   "metadata": {},
   "outputs": [
    {
     "name": "stdout",
     "output_type": "stream",
     "text": [
      "<class 'pandas.core.frame.DataFrame'>\n",
      "RangeIndex: 159292 entries, 0 to 159291\n",
      "Data columns (total 3 columns):\n",
      " #   Column      Non-Null Count   Dtype \n",
      "---  ------      --------------   ----- \n",
      " 0   Unnamed: 0  159292 non-null  int64 \n",
      " 1   text        159292 non-null  object\n",
      " 2   toxic       159292 non-null  int64 \n",
      "dtypes: int64(2), object(1)\n",
      "memory usage: 3.6+ MB\n"
     ]
    }
   ],
   "source": [
    "df.info()"
   ]
  },
  {
   "cell_type": "code",
   "execution_count": 4,
   "metadata": {},
   "outputs": [
    {
     "data": {
      "text/html": [
       "<div>\n",
       "<style scoped>\n",
       "    .dataframe tbody tr th:only-of-type {\n",
       "        vertical-align: middle;\n",
       "    }\n",
       "\n",
       "    .dataframe tbody tr th {\n",
       "        vertical-align: top;\n",
       "    }\n",
       "\n",
       "    .dataframe thead th {\n",
       "        text-align: right;\n",
       "    }\n",
       "</style>\n",
       "<table border=\"1\" class=\"dataframe\">\n",
       "  <thead>\n",
       "    <tr style=\"text-align: right;\">\n",
       "      <th></th>\n",
       "      <th>Unnamed: 0</th>\n",
       "      <th>text</th>\n",
       "      <th>toxic</th>\n",
       "    </tr>\n",
       "  </thead>\n",
       "  <tbody>\n",
       "    <tr>\n",
       "      <th>143448</th>\n",
       "      <td>143602</td>\n",
       "      <td>even if we hate furfags and llolis and kid fuc...</td>\n",
       "      <td>1</td>\n",
       "    </tr>\n",
       "    <tr>\n",
       "      <th>68214</th>\n",
       "      <td>68282</td>\n",
       "      <td>blocking\\nYou are a company of wankers. instea...</td>\n",
       "      <td>1</td>\n",
       "    </tr>\n",
       "    <tr>\n",
       "      <th>14469</th>\n",
       "      <td>14485</td>\n",
       "      <td>\"\\n\\n point \\n\\ni have always made useful cont...</td>\n",
       "      <td>0</td>\n",
       "    </tr>\n",
       "    <tr>\n",
       "      <th>137635</th>\n",
       "      <td>137782</td>\n",
       "      <td>To the attention of mr. W. Waggel s.s.t.t.:</td>\n",
       "      <td>0</td>\n",
       "    </tr>\n",
       "    <tr>\n",
       "      <th>159052</th>\n",
       "      <td>159211</td>\n",
       "      <td>Its a shame one of the most experienced Fringe...</td>\n",
       "      <td>0</td>\n",
       "    </tr>\n",
       "  </tbody>\n",
       "</table>\n",
       "</div>"
      ],
      "text/plain": [
       "        Unnamed: 0                                               text  toxic\n",
       "143448      143602  even if we hate furfags and llolis and kid fuc...      1\n",
       "68214        68282  blocking\\nYou are a company of wankers. instea...      1\n",
       "14469        14485  \"\\n\\n point \\n\\ni have always made useful cont...      0\n",
       "137635      137782        To the attention of mr. W. Waggel s.s.t.t.:      0\n",
       "159052      159211  Its a shame one of the most experienced Fringe...      0"
      ]
     },
     "execution_count": 4,
     "metadata": {},
     "output_type": "execute_result"
    }
   ],
   "source": [
    "df.sample(5)"
   ]
  },
  {
   "cell_type": "markdown",
   "metadata": {},
   "source": [
    "Нет пропущенных значений. Имеется три столбца, первый аналог индекса и от него можно избавиться. Следующие два столбца содержат целевой признак (Токсичность комментариев) и текстовый признак."
   ]
  },
  {
   "cell_type": "code",
   "execution_count": 5,
   "metadata": {},
   "outputs": [],
   "source": [
    "df = df.drop('Unnamed: 0', axis=1).copy()"
   ]
  },
  {
   "cell_type": "code",
   "execution_count": 6,
   "metadata": {},
   "outputs": [
    {
     "data": {
      "image/png": "[encoded data removed]",
      "text/plain": [
       "<Figure size 700x700 with 1 Axes>"
      ]
     },
     "metadata": {
      "image/png": {
       "height": 582,
       "width": 577
      }
     },
     "output_type": "display_data"
    }
   ],
   "source": [
    "df.toxic.value_counts(normalize=True).plot.pie(figsize=(7,7),autopct='%1.1f%%',cmap='Pastel2',legend=True)\n",
    "plt.legend(['Обычные','Токсичные'])\n",
    "plt.title('Распределение комментариев по токсичности',size=15)\n",
    "plt.show()"
   ]
  },
  {
   "cell_type": "markdown",
   "metadata": {},
   "source": [
    "Имеется дисбаланс классов 9:1 - токсичный комментарии встречаються в 9 раз реже прочих. Это надо будет учитывать при обучении моделей. Возможно придёться поставить балансировку классов или подтянуть порог.\n",
    "\n",
    "Так как у нас только 0 и 1, то можо поменять тип столба на uint8 для экономии места."
   ]
  },
  {
   "cell_type": "code",
   "execution_count": 7,
   "metadata": {
    "scrolled": true
   },
   "outputs": [
    {
     "name": "stdout",
     "output_type": "stream",
     "text": [
      "Изначальное размер датафрейма: 81.09 МБ.\n",
      "Размер датафрейма после преобразования: 78.81 МБ.\n",
      "Экономия памяти составляет 2.28 МБ.\n",
      "Теперь памяти затрачивается в 1.03 раз меньше\n"
     ]
    }
   ],
   "source": [
    "df['toxic'] = pd.to_numeric(df['toxic'], downcast='unsigned')\n",
    "\n",
    "size1 = sys.getsizeof(pd.read_csv('toxic_comments.csv',encoding='UTF-8'))/1024/1024\n",
    "size2 = sys.getsizeof(df)/1024/1024\n",
    "\n",
    "print('Изначальное размер датафрейма:',np.round(size1,2),'МБ.')\n",
    "print('Размер датафрейма после преобразования:',np.round(size2,2),'МБ.')\n",
    "print('Экономия памяти составляет',np.round(size1-size2,2),'МБ.')\n",
    "print('Теперь памяти затрачивается в',np.round(size1/size2,2),'раз меньше')"
   ]
  },
  {
   "cell_type": "code",
   "execution_count": 8,
   "metadata": {},
   "outputs": [
    {
     "data": {
      "text/plain": [
       "count    159292.000000\n",
       "mean         67.807348\n",
       "std         100.427397\n",
       "min           1.000000\n",
       "25%          17.000000\n",
       "50%          36.000000\n",
       "75%          76.000000\n",
       "max        2273.000000\n",
       "Name: text, dtype: float64"
      ]
     },
     "execution_count": 8,
     "metadata": {},
     "output_type": "execute_result"
    }
   ],
   "source": [
    "(df['text'].str.count(' ')+1).describe()"
   ]
  },
  {
   "cell_type": "markdown",
   "metadata": {},
   "source": [
    "Медийное количество слов в комментарии - 36, среднее - 67, стандартное отклонение довольно большое - 100, что говорит  большом разбросе в длинне собщенией. Самы большой текст насчитывает 2273 слова."
   ]
  },
  {
   "cell_type": "code",
   "execution_count": 9,
   "metadata": {},
   "outputs": [
    {
     "data": {
      "text/plain": [
       "0"
      ]
     },
     "execution_count": 9,
     "metadata": {},
     "output_type": "execute_result"
    }
   ],
   "source": [
    "df.duplicated().sum()"
   ]
  },
  {
   "cell_type": "markdown",
   "metadata": {},
   "source": [
    "Дубликаты отсутствуют"
   ]
  },
  {
   "cell_type": "markdown",
   "metadata": {},
   "source": [
    "### Лемматизация"
   ]
  },
  {
   "cell_type": "markdown",
   "metadata": {},
   "source": [
    "Используем лемматизацию с pymorphy2 для очистки текста."
   ]
  },
  {
   "cell_type": "code",
   "execution_count": 10,
   "metadata": {},
   "outputs": [
    {
     "name": "stderr",
     "output_type": "stream",
     "text": [
      "[nltk_data] Downloading package stopwords to\n",
      "[nltk_data]     C:\\Users\\elpiz\\AppData\\Roaming\\nltk_data...\n",
      "[nltk_data]   Package stopwords is already up-to-date!\n"
     ]
    }
   ],
   "source": [
    "nltk.download('stopwords')\n",
    "stop_words = set(stopwords.words('english'))"
   ]
  },
  {
   "cell_type": "code",
   "execution_count": 11,
   "metadata": {},
   "outputs": [],
   "source": [
    "nlp = spacy.load('en_core_web_sm', disable=['parser', 'ner'])"
   ]
  },
  {
   "cell_type": "code",
   "execution_count": 12,
   "metadata": {},
   "outputs": [],
   "source": [
    "def lem(text):\n",
    "    t = text\n",
    "    doc = nlp(t)\n",
    "    lem = \" \".join([token.lemma_ for token in doc])\n",
    "    return lem"
   ]
  },
  {
   "cell_type": "code",
   "execution_count": 13,
   "metadata": {},
   "outputs": [
    {
     "name": "stdout",
     "output_type": "stream",
     "text": [
      "Wall time: 16min 37s\n"
     ]
    },
    {
     "data": {
      "text/html": [
       "<div>\n",
       "<style scoped>\n",
       "    .dataframe tbody tr th:only-of-type {\n",
       "        vertical-align: middle;\n",
       "    }\n",
       "\n",
       "    .dataframe tbody tr th {\n",
       "        vertical-align: top;\n",
       "    }\n",
       "\n",
       "    .dataframe thead th {\n",
       "        text-align: right;\n",
       "    }\n",
       "</style>\n",
       "<table border=\"1\" class=\"dataframe\">\n",
       "  <thead>\n",
       "    <tr style=\"text-align: right;\">\n",
       "      <th></th>\n",
       "      <th>text</th>\n",
       "      <th>toxic</th>\n",
       "      <th>lemma</th>\n",
       "    </tr>\n",
       "  </thead>\n",
       "  <tbody>\n",
       "    <tr>\n",
       "      <th>136880</th>\n",
       "      <td>Cocksuckery\\n\\nIt should mention that this fag...</td>\n",
       "      <td>1</td>\n",
       "      <td>cocksuckery \\n\\n it should mention that this f...</td>\n",
       "    </tr>\n",
       "    <tr>\n",
       "      <th>37536</th>\n",
       "      <td>\"\\nSee \"\"Den Arsch deiner Mutter\"\" for backgro...</td>\n",
       "      <td>0</td>\n",
       "      <td>\" \\n see \" \" den arsch deiner mutter \" \" for b...</td>\n",
       "    </tr>\n",
       "    <tr>\n",
       "      <th>89268</th>\n",
       "      <td>\"\\n\\n Translation needed \\n\\nHi. I've been ask...</td>\n",
       "      <td>0</td>\n",
       "      <td>\" \\n\\n  translation need \\n\\n hi . i 've be as...</td>\n",
       "    </tr>\n",
       "  </tbody>\n",
       "</table>\n",
       "</div>"
      ],
      "text/plain": [
       "                                                     text  toxic  \\\n",
       "136880  Cocksuckery\\n\\nIt should mention that this fag...      1   \n",
       "37536   \"\\nSee \"\"Den Arsch deiner Mutter\"\" for backgro...      0   \n",
       "89268   \"\\n\\n Translation needed \\n\\nHi. I've been ask...      0   \n",
       "\n",
       "                                                    lemma  \n",
       "136880  cocksuckery \\n\\n it should mention that this f...  \n",
       "37536   \" \\n see \" \" den arsch deiner mutter \" \" for b...  \n",
       "89268   \" \\n\\n  translation need \\n\\n hi . i 've be as...  "
      ]
     },
     "execution_count": 13,
     "metadata": {},
     "output_type": "execute_result"
    }
   ],
   "source": [
    "%%time\n",
    "\n",
    "df['lemma'] = df['text'].apply(lambda x: lem(x)).str.lower()\n",
    "df.sample(3)"
   ]
  },
  {
   "cell_type": "code",
   "execution_count": 14,
   "metadata": {},
   "outputs": [
    {
     "data": {
      "text/plain": [
       "'\"\\nMore\\nI can\\'t make any real suggestions on improvement - I wondered if the section statistics should be later on, or a subsection of \"\"types of accidents\"\"  -I think the references may need tidying so that they are all in the exact same format ie date format etc. I can do that later on, if no-one else does first - if you have any preferences for formatting style on references or want to do it yourself please let me know.\\n\\nThere appears to be a backlog on articles for review so I guess there may be a delay until a reviewer turns up. It\\'s listed in the relevant form eg Wikipedia:Good_article_nominations#Transport  \"'"
      ]
     },
     "execution_count": 14,
     "metadata": {},
     "output_type": "execute_result"
    }
   ],
   "source": [
    "df['text'][3]"
   ]
  },
  {
   "cell_type": "code",
   "execution_count": 15,
   "metadata": {},
   "outputs": [
    {
     "data": {
      "text/plain": [
       "'\" \\n more \\n i can not make any real suggestion on improvement - i wonder if the section statistic should be later on , or a subsection of \" \" type of accident \" \"   -i think the reference may need tidying so that they be all in the exact same format ie date format etc . i can do that later on , if no - one else do first - if you have any preference for format style on reference or want to do it yourself please let i know . \\n\\n there appear to be a backlog on article for review so i guess there may be a delay until a reviewer turn up . it be list in the relevant form eg wikipedia : good_article_nominations#transport   \"'"
      ]
     },
     "execution_count": 15,
     "metadata": {},
     "output_type": "execute_result"
    }
   ],
   "source": [
    "df['lemma'][3]"
   ]
  },
  {
   "cell_type": "markdown",
   "metadata": {},
   "source": [
    "Первичная подготовка проведена, дальше нужно будет преобразвать данные в удобный для модели вид. Используем для этого Pipeline с CountVectorizer() и TfidfTransformer()"
   ]
  },
  {
   "cell_type": "markdown",
   "metadata": {},
   "source": [
    "## Обучение"
   ]
  },
  {
   "cell_type": "code",
   "execution_count": 16,
   "metadata": {},
   "outputs": [],
   "source": [
    "X = df['lemma']\n",
    "y = df['toxic']\n",
    "X_train, X_test, y_train, y_test = tts(X, y, test_size = 0.20, shuffle=True, random_state = s,stratify=y)"
   ]
  },
  {
   "cell_type": "markdown",
   "metadata": {},
   "source": [
    "### Функции для обучения."
   ]
  },
  {
   "cell_type": "markdown",
   "metadata": {},
   "source": [
    "Создаю функцию для обучения модели с преобразованием текста с помощью CountVectorizer() и TfidfVectorizer()"
   ]
  },
  {
   "cell_type": "code",
   "execution_count": 17,
   "metadata": {},
   "outputs": [],
   "source": [
    "def grid_fit(model_name, model, params):\n",
    "    \"\"\"Фукция берет на вход название модели, модель, и гиперпараметры для GridSeachCV.\n",
    "    Проводит преобразование текста с CountVectorizer() и TfidfVectorizer() в Pipeline,\n",
    "    затем проводит обучение с выявлением лучших гиперпараметров по метрике F1-score.\n",
    "    Возвращает название модели, F1-score, время обучения и предсказания модели.\"\"\"\n",
    "    \n",
    "    pipe = Pipeline([('vect', CountVectorizer(stop_words=set(stopwords.words('english')))),\n",
    "                     ('tfidf', TfidfTransformer()),\n",
    "                     (model_name, model)])\n",
    "    \n",
    "\n",
    "    grid = gs_cv(pipe, \n",
    "                param_grid=params, \n",
    "                scoring='f1',\n",
    "                n_jobs=-1,\n",
    "                cv=4\n",
    "                 )\n",
    "        \n",
    "    grid.fit(X_train,y_train)\n",
    "    \n",
    "    i = (list(grid.cv_results_['rank_test_score'])).index(1)\n",
    "    score = (grid.cv_results_['mean_test_score'][i])\n",
    "    time_fit = grid.cv_results_['mean_fit_time'][i]\n",
    "    time_pred = grid.cv_results_['mean_score_time'][i]\n",
    "    \n",
    "    print('Модель:',model_name)\n",
    "    print('Лучшие параметры модели:', grid.best_params_)\n",
    "    print('F1',score)\n",
    "    print('Время обучения модели:', time_fit)\n",
    "    print('Время предсказания модели:', time_pred)\n",
    " #   print(classification_report(X_train, y_train))\n",
    "\n",
    "    return grid, model_name, score, time_fit, time_pred"
   ]
  },
  {
   "cell_type": "markdown",
   "metadata": {},
   "source": [
    "Создаю функцию для сохранения результатов"
   ]
  },
  {
   "cell_type": "code",
   "execution_count": 18,
   "metadata": {},
   "outputs": [],
   "source": [
    "def metrics(df,model_name,score,time_fit,time_pred):\n",
    "    '''Функция берёт на вход датафрейм, название модели, \n",
    "    показаетель F1 (по CV),время обучения и время предсказания. \n",
    "    Добавляет строку с показателями модели.'''\n",
    "    \n",
    "    df.loc[model_name,'F1-score'] = score\n",
    "    df.loc[model_name,'Время обучения'] = time_fit\n",
    "    df.loc[model_name,'Время предсказания'] = time_pred\n",
    "    \n",
    "    return df"
   ]
  },
  {
   "cell_type": "code",
   "execution_count": 19,
   "metadata": {},
   "outputs": [
    {
     "data": {
      "text/html": [
       "<div>\n",
       "<style scoped>\n",
       "    .dataframe tbody tr th:only-of-type {\n",
       "        vertical-align: middle;\n",
       "    }\n",
       "\n",
       "    .dataframe tbody tr th {\n",
       "        vertical-align: top;\n",
       "    }\n",
       "\n",
       "    .dataframe thead th {\n",
       "        text-align: right;\n",
       "    }\n",
       "</style>\n",
       "<table border=\"1\" class=\"dataframe\">\n",
       "  <thead>\n",
       "    <tr style=\"text-align: right;\">\n",
       "      <th></th>\n",
       "      <th>F1-score</th>\n",
       "      <th>Время обучения</th>\n",
       "      <th>Время предсказания</th>\n",
       "    </tr>\n",
       "  </thead>\n",
       "  <tbody>\n",
       "  </tbody>\n",
       "</table>\n",
       "</div>"
      ],
      "text/plain": [
       "Empty DataFrame\n",
       "Columns: [F1-score, Время обучения, Время предсказания]\n",
       "Index: []"
      ]
     },
     "execution_count": 19,
     "metadata": {},
     "output_type": "execute_result"
    }
   ],
   "source": [
    "results = pd.DataFrame(columns=['F1-score','Время обучения','Время предсказания'])\n",
    "results"
   ]
  },
  {
   "cell_type": "markdown",
   "metadata": {},
   "source": [
    "Создаю функцию для проверки модели на тестовой выборке."
   ]
  },
  {
   "cell_type": "code",
   "execution_count": 20,
   "metadata": {},
   "outputs": [],
   "source": [
    "def pred(model_name,model):\n",
    "    \"\"\"Функция берёт на вход модель, обучает её на обучающей выборке,\n",
    "    делает предсказания и проверяет RMSE на тестовой выборке.\n",
    "    На выход идёт название модели, F1-score, время обучения и предсказания.\"\"\"\n",
    "    \n",
    "    pipe = Pipeline([('vect', CountVectorizer(stop_words=stop_words)),\n",
    "                     ('tfidf', TfidfTransformer()),\n",
    "                     (model_name, model)])\n",
    "    \n",
    "\n",
    "    start = time.time()\n",
    "    pipe.fit(X_train, y_train)\n",
    "    end = time.time()\n",
    "    time_fit = end - start\n",
    "\n",
    "    start = time.time()\n",
    "    preds = pipe.predict(X_test)\n",
    "    end = time.time()\n",
    "    score = f1_score(y_test, preds)\n",
    "    time_pred = end - start\n",
    "    \n",
    "    print('Модель:',model_name)\n",
    "    print('Время обучения модели:', time_fit)\n",
    "    print('Время предсказания модели:', time_pred)\n",
    "    print('F1',score)\n",
    "    \n",
    "    return pipe, model_name, score, time_fit, time_pred"
   ]
  },
  {
   "cell_type": "code",
   "execution_count": 21,
   "metadata": {},
   "outputs": [],
   "source": [
    "# Добавляем опцию, чтобы все дробные числа в таблицах\n",
    "# округлялись до третьего знака после запятой.\n",
    "\n",
    "pd.options.display.float_format = '{: .3f}'.format"
   ]
  },
  {
   "cell_type": "markdown",
   "metadata": {},
   "source": [
    "### Модели"
   ]
  },
  {
   "cell_type": "markdown",
   "metadata": {},
   "source": [
    "#### LogisticRegression"
   ]
  },
  {
   "cell_type": "code",
   "execution_count": 22,
   "metadata": {},
   "outputs": [
    {
     "name": "stdout",
     "output_type": "stream",
     "text": [
      "Модель: LogisticRegression\n",
      "Лучшие параметры модели: {'LogisticRegression__class_weight': 'balanced', 'LogisticRegression__max_iter': 280, 'LogisticRegression__solver': 'saga'}\n",
      "F1 0.7477199309690753\n",
      "Время обучения модели: 71.62757122516632\n",
      "Время предсказания модели: 2.600540816783905\n",
      "Wall time: 1min 53s\n"
     ]
    },
    {
     "data": {
      "text/html": [
       "<div>\n",
       "<style scoped>\n",
       "    .dataframe tbody tr th:only-of-type {\n",
       "        vertical-align: middle;\n",
       "    }\n",
       "\n",
       "    .dataframe tbody tr th {\n",
       "        vertical-align: top;\n",
       "    }\n",
       "\n",
       "    .dataframe thead th {\n",
       "        text-align: right;\n",
       "    }\n",
       "</style>\n",
       "<table border=\"1\" class=\"dataframe\">\n",
       "  <thead>\n",
       "    <tr style=\"text-align: right;\">\n",
       "      <th></th>\n",
       "      <th>F1-score</th>\n",
       "      <th>Время обучения</th>\n",
       "      <th>Время предсказания</th>\n",
       "    </tr>\n",
       "  </thead>\n",
       "  <tbody>\n",
       "    <tr>\n",
       "      <th>LogisticRegression</th>\n",
       "      <td>0.748</td>\n",
       "      <td>71.628</td>\n",
       "      <td>2.601</td>\n",
       "    </tr>\n",
       "  </tbody>\n",
       "</table>\n",
       "</div>"
      ],
      "text/plain": [
       "                   F1-score Время обучения Время предсказания\n",
       "LogisticRegression    0.748         71.628              2.601"
      ]
     },
     "execution_count": 22,
     "metadata": {},
     "output_type": "execute_result"
    }
   ],
   "source": [
    "%%time\n",
    "\n",
    "model = LR(random_state = s)\n",
    "\n",
    "params = {'LogisticRegression__solver': ['saga'],\n",
    "          'LogisticRegression__class_weight': ['balanced'],\n",
    "          'LogisticRegression__max_iter': [280]}\n",
    "\n",
    "\n",
    "grid_lr, model_name, score, time_fit, time_pred = grid_fit('LogisticRegression',model,params)\n",
    "\n",
    "metrics(results, model_name, score, time_fit, time_pred)"
   ]
  },
  {
   "cell_type": "markdown",
   "metadata": {},
   "source": [
    "#### LinearSVC"
   ]
  },
  {
   "cell_type": "code",
   "execution_count": 23,
   "metadata": {},
   "outputs": [
    {
     "name": "stdout",
     "output_type": "stream",
     "text": [
      "Модель: LinearSVC\n",
      "Лучшие параметры модели: {'LinearSVC__C': 1, 'LinearSVC__max_iter': 15}\n",
      "F1 0.7654371917378892\n",
      "Время обучения модели: 9.838920593261719\n",
      "Время предсказания модели: 2.8600966334342957\n",
      "Wall time: 53.7 s\n"
     ]
    },
    {
     "data": {
      "text/html": [
       "<div>\n",
       "<style scoped>\n",
       "    .dataframe tbody tr th:only-of-type {\n",
       "        vertical-align: middle;\n",
       "    }\n",
       "\n",
       "    .dataframe tbody tr th {\n",
       "        vertical-align: top;\n",
       "    }\n",
       "\n",
       "    .dataframe thead th {\n",
       "        text-align: right;\n",
       "    }\n",
       "</style>\n",
       "<table border=\"1\" class=\"dataframe\">\n",
       "  <thead>\n",
       "    <tr style=\"text-align: right;\">\n",
       "      <th></th>\n",
       "      <th>F1-score</th>\n",
       "      <th>Время обучения</th>\n",
       "      <th>Время предсказания</th>\n",
       "    </tr>\n",
       "  </thead>\n",
       "  <tbody>\n",
       "    <tr>\n",
       "      <th>LogisticRegression</th>\n",
       "      <td>0.748</td>\n",
       "      <td>71.628</td>\n",
       "      <td>2.601</td>\n",
       "    </tr>\n",
       "    <tr>\n",
       "      <th>LinearSVC</th>\n",
       "      <td>0.765</td>\n",
       "      <td>9.839</td>\n",
       "      <td>2.860</td>\n",
       "    </tr>\n",
       "  </tbody>\n",
       "</table>\n",
       "</div>"
      ],
      "text/plain": [
       "                   F1-score Время обучения Время предсказания\n",
       "LogisticRegression    0.748         71.628              2.601\n",
       "LinearSVC             0.765          9.839              2.860"
      ]
     },
     "execution_count": 23,
     "metadata": {},
     "output_type": "execute_result"
    }
   ],
   "source": [
    "%%time\n",
    "\n",
    "model = LSVC(random_state=s,class_weight='balanced')\n",
    "params = {'LinearSVC__C':[1],\n",
    "          'LinearSVC__max_iter':[15,25,35]}\n",
    "\n",
    "grid_svc, model_name, score, time_fit, time_pred = grid_fit('LinearSVC',model,params)\n",
    "\n",
    "metrics(results, model_name, score, time_fit, time_pred)"
   ]
  },
  {
   "cell_type": "markdown",
   "metadata": {},
   "source": [
    "#### CatBoostClassifier"
   ]
  },
  {
   "cell_type": "markdown",
   "metadata": {},
   "source": [
    "У модели кэтбуст есть встроенная функция обработки текстовых признаков, опробуем её в деле. )"
   ]
  },
  {
   "cell_type": "code",
   "execution_count": 24,
   "metadata": {},
   "outputs": [],
   "source": [
    "train, val = tts(df, test_size = 0.25, shuffle=True, random_state = s, stratify=df['toxic'])\n",
    "val, test = tts(df, test_size = 0.5, shuffle=True, random_state = s, stratify=df['toxic'])\n",
    "X_col = ['lemma']\n",
    "y_col = ['toxic']\n",
    "text_features = ['lemma']"
   ]
  },
  {
   "cell_type": "code",
   "execution_count": 25,
   "metadata": {},
   "outputs": [
    {
     "name": "stdout",
     "output_type": "stream",
     "text": [
      "0.10161631887770049\n",
      "0.10161213369158527\n",
      "0.10161213369158527\n"
     ]
    }
   ],
   "source": [
    "print(train['toxic'].mean())\n",
    "print(val['toxic'].mean())\n",
    "print(test['toxic'].mean())"
   ]
  },
  {
   "cell_type": "markdown",
   "metadata": {},
   "source": [
    "Распределние целевого признака в обучающей, валидационной и тестовой выборке одинаковое, порядка 10.16%."
   ]
  },
  {
   "cell_type": "code",
   "execution_count": 26,
   "metadata": {
    "scrolled": true
   },
   "outputs": [
    {
     "name": "stdout",
     "output_type": "stream",
     "text": [
      "Learning rate set to 0.103274\n",
      "0:\tlearn: 0.6109296\ttest: 0.6047693\tbest: 0.6047693 (0)\ttotal: 357ms\tremaining: 5m 56s\n",
      "100:\tlearn: 0.2478114\ttest: 0.2116640\tbest: 0.2116640 (100)\ttotal: 21s\tremaining: 3m 7s\n",
      "200:\tlearn: 0.2166524\ttest: 0.1852419\tbest: 0.1852419 (200)\ttotal: 41.8s\tremaining: 2m 46s\n",
      "300:\tlearn: 0.1989928\ttest: 0.1706092\tbest: 0.1706092 (300)\ttotal: 1m 1s\tremaining: 2m 23s\n",
      "400:\tlearn: 0.1854741\ttest: 0.1594309\tbest: 0.1594309 (400)\ttotal: 1m 21s\tremaining: 2m 2s\n",
      "500:\tlearn: 0.1742741\ttest: 0.1499294\tbest: 0.1499294 (500)\ttotal: 1m 42s\tremaining: 1m 41s\n",
      "600:\tlearn: 0.1648951\ttest: 0.1422189\tbest: 0.1422189 (600)\ttotal: 2m 2s\tremaining: 1m 21s\n",
      "700:\tlearn: 0.1572337\ttest: 0.1359440\tbest: 0.1359440 (700)\ttotal: 2m 22s\tremaining: 1m\n",
      "800:\tlearn: 0.1501724\ttest: 0.1300981\tbest: 0.1300981 (800)\ttotal: 2m 43s\tremaining: 40.6s\n",
      "900:\tlearn: 0.1437727\ttest: 0.1247233\tbest: 0.1247233 (900)\ttotal: 3m 3s\tremaining: 20.2s\n",
      "999:\tlearn: 0.1380196\ttest: 0.1199347\tbest: 0.1199347 (999)\ttotal: 3m 23s\tremaining: 0us\n",
      "\n",
      "bestTest = 0.1199346712\n",
      "bestIteration = 999\n",
      "\n",
      "Модель: CatBoostClassifier\n",
      "Время обучения модели: 211.00944542884827\n",
      "Время предсказания модели: 2.585451602935791\n",
      "F1 0.8040818398740924\n",
      "Wall time: 3min 33s\n"
     ]
    },
    {
     "data": {
      "text/html": [
       "<div>\n",
       "<style scoped>\n",
       "    .dataframe tbody tr th:only-of-type {\n",
       "        vertical-align: middle;\n",
       "    }\n",
       "\n",
       "    .dataframe tbody tr th {\n",
       "        vertical-align: top;\n",
       "    }\n",
       "\n",
       "    .dataframe thead th {\n",
       "        text-align: right;\n",
       "    }\n",
       "</style>\n",
       "<table border=\"1\" class=\"dataframe\">\n",
       "  <thead>\n",
       "    <tr style=\"text-align: right;\">\n",
       "      <th></th>\n",
       "      <th>F1-score</th>\n",
       "      <th>Время обучения</th>\n",
       "      <th>Время предсказания</th>\n",
       "    </tr>\n",
       "  </thead>\n",
       "  <tbody>\n",
       "    <tr>\n",
       "      <th>LogisticRegression</th>\n",
       "      <td>0.748</td>\n",
       "      <td>71.628</td>\n",
       "      <td>2.601</td>\n",
       "    </tr>\n",
       "    <tr>\n",
       "      <th>LinearSVC</th>\n",
       "      <td>0.765</td>\n",
       "      <td>9.839</td>\n",
       "      <td>2.860</td>\n",
       "    </tr>\n",
       "    <tr>\n",
       "      <th>CatBoostClassifier</th>\n",
       "      <td>0.804</td>\n",
       "      <td>211.009</td>\n",
       "      <td>2.585</td>\n",
       "    </tr>\n",
       "  </tbody>\n",
       "</table>\n",
       "</div>"
      ],
      "text/plain": [
       "                   F1-score Время обучения Время предсказания\n",
       "LogisticRegression    0.748         71.628              2.601\n",
       "LinearSVC             0.765          9.839              2.860\n",
       "CatBoostClassifier    0.804        211.009              2.585"
      ]
     },
     "execution_count": 26,
     "metadata": {},
     "output_type": "execute_result"
    }
   ],
   "source": [
    "%%time\n",
    "\n",
    "model = CBC(random_state=s,\n",
    "            early_stopping_rounds=100,\n",
    "            text_features = text_features,\n",
    "            verbose=100,\n",
    "            auto_class_weights='Balanced')\n",
    "\n",
    "\n",
    "start = time.time()\n",
    "model.fit(train[X_col],train[y_col],\n",
    "          eval_set=(val[X_col],val[y_col]))\n",
    "end = time.time()\n",
    "time_fit = end - start\n",
    "\n",
    "start = time.time()\n",
    "preds = model.predict(val[X_col])\n",
    "end = time.time()\n",
    "score = f1_score(val[y_col], preds)\n",
    "time_pred = end - start\n",
    "    \n",
    "print('Модель:','CatBoostClassifier')\n",
    "print('Время обучения модели:', time_fit)\n",
    "print('Время предсказания модели:', time_pred)\n",
    "print('F1',score)\n",
    "\n",
    "metrics(results, 'CatBoostClassifier', score, time_fit, time_pred)"
   ]
  },
  {
   "cell_type": "markdown",
   "metadata": {},
   "source": [
    "Catboost показывает самый хороший результат, только время обучения занимает намного больше времени. "
   ]
  },
  {
   "cell_type": "markdown",
   "metadata": {},
   "source": [
    "### Тестирование лучшей модели"
   ]
  },
  {
   "cell_type": "markdown",
   "metadata": {},
   "source": [
    "#### Catboost"
   ]
  },
  {
   "cell_type": "markdown",
   "metadata": {},
   "source": [
    "##### Тест"
   ]
  },
  {
   "cell_type": "markdown",
   "metadata": {},
   "source": [
    "По метрике F1-score самой оптимальной моделью стала CatBoostClassifier с параметрами { early_stopping_rounds=100,\n",
    "                text_features = text_features,\n",
    "                verbose=100,\n",
    "                auto_class_weights='Balanced'}. \n",
    "                \n",
    "Её мы и будем проверять на тестовой выборке"
   ]
  },
  {
   "cell_type": "code",
   "execution_count": 27,
   "metadata": {},
   "outputs": [
    {
     "data": {
      "text/html": [
       "<div>\n",
       "<style scoped>\n",
       "    .dataframe tbody tr th:only-of-type {\n",
       "        vertical-align: middle;\n",
       "    }\n",
       "\n",
       "    .dataframe tbody tr th {\n",
       "        vertical-align: top;\n",
       "    }\n",
       "\n",
       "    .dataframe thead th {\n",
       "        text-align: right;\n",
       "    }\n",
       "</style>\n",
       "<table border=\"1\" class=\"dataframe\">\n",
       "  <thead>\n",
       "    <tr style=\"text-align: right;\">\n",
       "      <th></th>\n",
       "      <th>F1-score</th>\n",
       "      <th>Время обучения</th>\n",
       "      <th>Время предсказания</th>\n",
       "    </tr>\n",
       "  </thead>\n",
       "  <tbody>\n",
       "  </tbody>\n",
       "</table>\n",
       "</div>"
      ],
      "text/plain": [
       "Empty DataFrame\n",
       "Columns: [F1-score, Время обучения, Время предсказания]\n",
       "Index: []"
      ]
     },
     "execution_count": 27,
     "metadata": {},
     "output_type": "execute_result"
    }
   ],
   "source": [
    "final = pd.DataFrame(columns=['F1-score','Время обучения','Время предсказания'])\n",
    "final"
   ]
  },
  {
   "cell_type": "markdown",
   "metadata": {},
   "source": [
    "Объеденю обучающую и валидаионную выборки, чтобы модель могла переобучиться на полных данных."
   ]
  },
  {
   "cell_type": "code",
   "execution_count": 28,
   "metadata": {},
   "outputs": [],
   "source": [
    "full = pd.concat([train, val])"
   ]
  },
  {
   "cell_type": "code",
   "execution_count": 29,
   "metadata": {},
   "outputs": [
    {
     "name": "stdout",
     "output_type": "stream",
     "text": [
      "Learning rate set to 0.098776\n",
      "0:\tlearn: 0.6054393\ttotal: 266ms\tremaining: 4m 25s\n",
      "100:\tlearn: 0.2313647\ttotal: 27.9s\tremaining: 4m 7s\n",
      "200:\tlearn: 0.2035731\ttotal: 55s\tremaining: 3m 38s\n",
      "300:\tlearn: 0.1866650\ttotal: 1m 21s\tremaining: 3m 8s\n",
      "400:\tlearn: 0.1738539\ttotal: 1m 47s\tremaining: 2m 40s\n",
      "500:\tlearn: 0.1634774\ttotal: 2m 13s\tremaining: 2m 13s\n",
      "600:\tlearn: 0.1544396\ttotal: 2m 40s\tremaining: 1m 46s\n",
      "700:\tlearn: 0.1464988\ttotal: 3m 6s\tremaining: 1m 19s\n",
      "800:\tlearn: 0.1398222\ttotal: 3m 32s\tremaining: 52.8s\n",
      "900:\tlearn: 0.1339864\ttotal: 3m 59s\tremaining: 26.3s\n",
      "999:\tlearn: 0.1285221\ttotal: 4m 25s\tremaining: 0us\n",
      "Модель: CatBoostClassifier\n",
      "Время обучения модели: 274.8681671619415\n",
      "Время предсказания модели: 2.4524388313293457\n",
      "F1 0.7532506956741715\n",
      "Целевой F1-score достигнут.\n",
      "Wall time: 4min 37s\n"
     ]
    },
    {
     "data": {
      "text/html": [
       "<div>\n",
       "<style scoped>\n",
       "    .dataframe tbody tr th:only-of-type {\n",
       "        vertical-align: middle;\n",
       "    }\n",
       "\n",
       "    .dataframe tbody tr th {\n",
       "        vertical-align: top;\n",
       "    }\n",
       "\n",
       "    .dataframe thead th {\n",
       "        text-align: right;\n",
       "    }\n",
       "</style>\n",
       "<table border=\"1\" class=\"dataframe\">\n",
       "  <thead>\n",
       "    <tr style=\"text-align: right;\">\n",
       "      <th></th>\n",
       "      <th>F1-score</th>\n",
       "      <th>Время обучения</th>\n",
       "      <th>Время предсказания</th>\n",
       "    </tr>\n",
       "  </thead>\n",
       "  <tbody>\n",
       "    <tr>\n",
       "      <th>CatBoostClassifier</th>\n",
       "      <td>0.753</td>\n",
       "      <td>274.868</td>\n",
       "      <td>2.452</td>\n",
       "    </tr>\n",
       "  </tbody>\n",
       "</table>\n",
       "</div>"
      ],
      "text/plain": [
       "                   F1-score Время обучения Время предсказания\n",
       "CatBoostClassifier    0.753        274.868              2.452"
      ]
     },
     "execution_count": 29,
     "metadata": {},
     "output_type": "execute_result"
    }
   ],
   "source": [
    "%%time\n",
    "model = CBC(random_state=s,\n",
    "            early_stopping_rounds=100,\n",
    "            text_features = text_features,\n",
    "            verbose=100,\n",
    "            auto_class_weights='Balanced')\n",
    "\n",
    "start = time.time()\n",
    "model.fit(full[X_col], full[y_col])\n",
    "end = time.time()\n",
    "time_fit = end - start\n",
    "\n",
    "start = time.time()\n",
    "preds = model.predict(test[X_col])\n",
    "end = time.time()\n",
    "score = f1_score(test[y_col], preds)\n",
    "time_pred = end - start\n",
    "    \n",
    "print('Модель:','CatBoostClassifier')\n",
    "print('Время обучения модели:', time_fit)\n",
    "print('Время предсказания модели:', time_pred)\n",
    "print('F1',score)\n",
    "\n",
    "if score >= 0.75:\n",
    "    print('Целевой F1-score достигнут.')\n",
    "else:\n",
    "    print('Целевой F1-score не достигнут, нужно выбрать другую модель или изменить гиперпараметры.')\n",
    "    \n",
    "metrics(final, 'CatBoostClassifier', score, time_fit, time_pred)"
   ]
  },
  {
   "cell_type": "code",
   "execution_count": 30,
   "metadata": {},
   "outputs": [
    {
     "name": "stdout",
     "output_type": "stream",
     "text": [
      "              precision    recall  f1-score   support\n",
      "\n",
      "           0       0.99      0.94      0.97     71553\n",
      "           1       0.64      0.92      0.75      8093\n",
      "\n",
      "    accuracy                           0.94     79646\n",
      "   macro avg       0.81      0.93      0.86     79646\n",
      "weighted avg       0.95      0.94      0.94     79646\n",
      "\n"
     ]
    }
   ],
   "source": [
    "print(classification_report(test[y_col],preds))"
   ]
  },
  {
   "cell_type": "markdown",
   "metadata": {},
   "source": [
    "Суммарный F1 дотягивает до нужного значения в 0.75. recall(полнота) 0.92, а precision(точность) 0.63, эти две метрики сильно отличаются, что говорит о том, что модель хорошо находит токсичные комментарии, но так же склонна отмечать обычные комментарии как токсичные. "
   ]
  },
  {
   "cell_type": "markdown",
   "metadata": {},
   "source": [
    "##### Регулирование порога"
   ]
  },
  {
   "cell_type": "markdown",
   "metadata": {},
   "source": [
    "Посмотрим можно-ли отрегулировать порог"
   ]
  },
  {
   "cell_type": "code",
   "execution_count": 31,
   "metadata": {},
   "outputs": [
    {
     "data": {
      "text/html": [
       "<div>\n",
       "<style scoped>\n",
       "    .dataframe tbody tr th:only-of-type {\n",
       "        vertical-align: middle;\n",
       "    }\n",
       "\n",
       "    .dataframe tbody tr th {\n",
       "        vertical-align: top;\n",
       "    }\n",
       "\n",
       "    .dataframe thead th {\n",
       "        text-align: right;\n",
       "    }\n",
       "</style>\n",
       "<table border=\"1\" class=\"dataframe\">\n",
       "  <thead>\n",
       "    <tr style=\"text-align: right;\">\n",
       "      <th></th>\n",
       "      <th>y_true</th>\n",
       "      <th>y_score</th>\n",
       "      <th>y_pred_0.5</th>\n",
       "    </tr>\n",
       "  </thead>\n",
       "  <tbody>\n",
       "    <tr>\n",
       "      <th>104850</th>\n",
       "      <td>0</td>\n",
       "      <td>0.030</td>\n",
       "      <td>0</td>\n",
       "    </tr>\n",
       "    <tr>\n",
       "      <th>25</th>\n",
       "      <td>0</td>\n",
       "      <td>0.015</td>\n",
       "      <td>0</td>\n",
       "    </tr>\n",
       "    <tr>\n",
       "      <th>100683</th>\n",
       "      <td>0</td>\n",
       "      <td>0.002</td>\n",
       "      <td>0</td>\n",
       "    </tr>\n",
       "    <tr>\n",
       "      <th>102486</th>\n",
       "      <td>0</td>\n",
       "      <td>0.393</td>\n",
       "      <td>0</td>\n",
       "    </tr>\n",
       "    <tr>\n",
       "      <th>157045</th>\n",
       "      <td>0</td>\n",
       "      <td>0.003</td>\n",
       "      <td>0</td>\n",
       "    </tr>\n",
       "    <tr>\n",
       "      <th>...</th>\n",
       "      <td>...</td>\n",
       "      <td>...</td>\n",
       "      <td>...</td>\n",
       "    </tr>\n",
       "    <tr>\n",
       "      <th>135268</th>\n",
       "      <td>0</td>\n",
       "      <td>0.005</td>\n",
       "      <td>0</td>\n",
       "    </tr>\n",
       "    <tr>\n",
       "      <th>91076</th>\n",
       "      <td>0</td>\n",
       "      <td>0.094</td>\n",
       "      <td>0</td>\n",
       "    </tr>\n",
       "    <tr>\n",
       "      <th>149735</th>\n",
       "      <td>0</td>\n",
       "      <td>0.016</td>\n",
       "      <td>0</td>\n",
       "    </tr>\n",
       "    <tr>\n",
       "      <th>52802</th>\n",
       "      <td>0</td>\n",
       "      <td>0.007</td>\n",
       "      <td>0</td>\n",
       "    </tr>\n",
       "    <tr>\n",
       "      <th>98281</th>\n",
       "      <td>0</td>\n",
       "      <td>0.004</td>\n",
       "      <td>0</td>\n",
       "    </tr>\n",
       "  </tbody>\n",
       "</table>\n",
       "<p>79646 rows × 3 columns</p>\n",
       "</div>"
      ],
      "text/plain": [
       "        y_true  y_score  y_pred_0.5\n",
       "104850       0    0.030           0\n",
       "25           0    0.015           0\n",
       "100683       0    0.002           0\n",
       "102486       0    0.393           0\n",
       "157045       0    0.003           0\n",
       "...        ...      ...         ...\n",
       "135268       0    0.005           0\n",
       "91076        0    0.094           0\n",
       "149735       0    0.016           0\n",
       "52802        0    0.007           0\n",
       "98281        0    0.004           0\n",
       "\n",
       "[79646 rows x 3 columns]"
      ]
     },
     "execution_count": 31,
     "metadata": {},
     "output_type": "execute_result"
    }
   ],
   "source": [
    "t = pd.DataFrame({'y_true': test['toxic'].copy(), \n",
    "                  'y_score': model.predict_proba(test[X_col])[:,1]})\n",
    "t['y_pred_0.5'] = (t['y_score'] > 0.5)*1\n",
    "t"
   ]
  },
  {
   "cell_type": "code",
   "execution_count": 32,
   "metadata": {},
   "outputs": [
    {
     "data": {
      "image/png": "[encoded data removed]",
      "text/plain": [
       "<Figure size 600x600 with 1 Axes>"
      ]
     },
     "metadata": {
      "image/png": {
       "height": 543,
       "width": 514
      }
     },
     "output_type": "display_data"
    }
   ],
   "source": [
    "fpr, tpr, thr = roc_curve(t['y_true'],t['y_score'])\n",
    "roc = pd.DataFrame({'fpr':fpr,'tpr':tpr,'thr':thr})\n",
    "roc['random'] = roc['fpr'].copy()\n",
    "roc.plot(x='fpr',y=['tpr','random'],figsize=(6,6),grid=True)\n",
    "plt.title('ROC-curve')\n",
    "plt.show()"
   ]
  },
  {
   "cell_type": "code",
   "execution_count": 33,
   "metadata": {},
   "outputs": [
    {
     "data": {
      "text/plain": [
       "0.9809704429518646"
      ]
     },
     "execution_count": 33,
     "metadata": {},
     "output_type": "execute_result"
    }
   ],
   "source": [
    "auc(roc['fpr'],roc['tpr'])"
   ]
  },
  {
   "cell_type": "markdown",
   "metadata": {},
   "source": [
    "Показатель AUC очень хороший, скорее всего можно регулировать порог."
   ]
  },
  {
   "cell_type": "code",
   "execution_count": 34,
   "metadata": {},
   "outputs": [
    {
     "data": {
      "text/plain": [
       "0.9809704429518646"
      ]
     },
     "execution_count": 34,
     "metadata": {},
     "output_type": "execute_result"
    }
   ],
   "source": [
    "roc_auc_score(t['y_true'],t['y_score'])"
   ]
  },
  {
   "cell_type": "markdown",
   "metadata": {},
   "source": [
    "Найдём лучший порог."
   ]
  },
  {
   "cell_type": "code",
   "execution_count": 35,
   "metadata": {},
   "outputs": [
    {
     "data": {
      "text/plain": [
       "0.43037356617015976"
      ]
     },
     "execution_count": 35,
     "metadata": {},
     "output_type": "execute_result"
    }
   ],
   "source": [
    "roc['tpr - fpr'] = roc['tpr'] - roc['fpr']\n",
    "best_thr = roc.sort_values('tpr - fpr',ascending=False).reset_index(drop=True)['thr'][0]\n",
    "best_thr"
   ]
  },
  {
   "cell_type": "code",
   "execution_count": 36,
   "metadata": {},
   "outputs": [
    {
     "data": {
      "text/html": [
       "<div>\n",
       "<style scoped>\n",
       "    .dataframe tbody tr th:only-of-type {\n",
       "        vertical-align: middle;\n",
       "    }\n",
       "\n",
       "    .dataframe tbody tr th {\n",
       "        vertical-align: top;\n",
       "    }\n",
       "\n",
       "    .dataframe thead th {\n",
       "        text-align: right;\n",
       "    }\n",
       "</style>\n",
       "<table border=\"1\" class=\"dataframe\">\n",
       "  <thead>\n",
       "    <tr style=\"text-align: right;\">\n",
       "      <th></th>\n",
       "      <th>y_true</th>\n",
       "      <th>y_score</th>\n",
       "      <th>y_pred_0.5</th>\n",
       "      <th>y_pred_0.43037356617015976</th>\n",
       "    </tr>\n",
       "  </thead>\n",
       "  <tbody>\n",
       "    <tr>\n",
       "      <th>104850</th>\n",
       "      <td>0</td>\n",
       "      <td>0.030</td>\n",
       "      <td>0</td>\n",
       "      <td>0</td>\n",
       "    </tr>\n",
       "    <tr>\n",
       "      <th>25</th>\n",
       "      <td>0</td>\n",
       "      <td>0.015</td>\n",
       "      <td>0</td>\n",
       "      <td>0</td>\n",
       "    </tr>\n",
       "    <tr>\n",
       "      <th>100683</th>\n",
       "      <td>0</td>\n",
       "      <td>0.002</td>\n",
       "      <td>0</td>\n",
       "      <td>0</td>\n",
       "    </tr>\n",
       "    <tr>\n",
       "      <th>102486</th>\n",
       "      <td>0</td>\n",
       "      <td>0.393</td>\n",
       "      <td>0</td>\n",
       "      <td>0</td>\n",
       "    </tr>\n",
       "    <tr>\n",
       "      <th>157045</th>\n",
       "      <td>0</td>\n",
       "      <td>0.003</td>\n",
       "      <td>0</td>\n",
       "      <td>0</td>\n",
       "    </tr>\n",
       "    <tr>\n",
       "      <th>...</th>\n",
       "      <td>...</td>\n",
       "      <td>...</td>\n",
       "      <td>...</td>\n",
       "      <td>...</td>\n",
       "    </tr>\n",
       "    <tr>\n",
       "      <th>135268</th>\n",
       "      <td>0</td>\n",
       "      <td>0.005</td>\n",
       "      <td>0</td>\n",
       "      <td>0</td>\n",
       "    </tr>\n",
       "    <tr>\n",
       "      <th>91076</th>\n",
       "      <td>0</td>\n",
       "      <td>0.094</td>\n",
       "      <td>0</td>\n",
       "      <td>0</td>\n",
       "    </tr>\n",
       "    <tr>\n",
       "      <th>149735</th>\n",
       "      <td>0</td>\n",
       "      <td>0.016</td>\n",
       "      <td>0</td>\n",
       "      <td>0</td>\n",
       "    </tr>\n",
       "    <tr>\n",
       "      <th>52802</th>\n",
       "      <td>0</td>\n",
       "      <td>0.007</td>\n",
       "      <td>0</td>\n",
       "      <td>0</td>\n",
       "    </tr>\n",
       "    <tr>\n",
       "      <th>98281</th>\n",
       "      <td>0</td>\n",
       "      <td>0.004</td>\n",
       "      <td>0</td>\n",
       "      <td>0</td>\n",
       "    </tr>\n",
       "  </tbody>\n",
       "</table>\n",
       "<p>79646 rows × 4 columns</p>\n",
       "</div>"
      ],
      "text/plain": [
       "        y_true  y_score  y_pred_0.5  y_pred_0.43037356617015976\n",
       "104850       0    0.030           0                           0\n",
       "25           0    0.015           0                           0\n",
       "100683       0    0.002           0                           0\n",
       "102486       0    0.393           0                           0\n",
       "157045       0    0.003           0                           0\n",
       "...        ...      ...         ...                         ...\n",
       "135268       0    0.005           0                           0\n",
       "91076        0    0.094           0                           0\n",
       "149735       0    0.016           0                           0\n",
       "52802        0    0.007           0                           0\n",
       "98281        0    0.004           0                           0\n",
       "\n",
       "[79646 rows x 4 columns]"
      ]
     },
     "execution_count": 36,
     "metadata": {},
     "output_type": "execute_result"
    }
   ],
   "source": [
    "t['y_pred_{}'.format(best_thr)] = (t['y_score'] >= best_thr) * 1\n",
    "t"
   ]
  },
  {
   "cell_type": "code",
   "execution_count": 37,
   "metadata": {},
   "outputs": [
    {
     "data": {
      "text/plain": [
       "0.7314412588087652"
      ]
     },
     "execution_count": 37,
     "metadata": {},
     "output_type": "execute_result"
    }
   ],
   "source": [
    "f1_score(t['y_true'], t['y_pred_{}'.format(best_thr)])"
   ]
  },
  {
   "cell_type": "markdown",
   "metadata": {},
   "source": [
    "Переберём разные пороги."
   ]
  },
  {
   "cell_type": "code",
   "execution_count": 41,
   "metadata": {},
   "outputs": [
    {
     "name": "stdout",
     "output_type": "stream",
     "text": [
      "Порог: 0.49\n",
      "f1_score: 0.7500879441177949\n",
      "\n",
      "Порог: 0.51\n",
      "f1_score: 0.7560578293626553\n",
      "Метрика улучшилась\n",
      "\n",
      "Порог: 0.53\n",
      "f1_score: 0.7640681466184821\n",
      "Метрика улучшилась\n",
      "\n",
      "Порог: 0.55\n",
      "f1_score: 0.7699942537742257\n",
      "Метрика улучшилась\n",
      "\n",
      "Порог: 0.5700000000000001\n",
      "f1_score: 0.775574940523394\n",
      "Метрика улучшилась\n",
      "\n",
      "Порог: 0.5900000000000001\n",
      "f1_score: 0.780323305855904\n",
      "Метрика улучшилась\n",
      "\n",
      "Порог: 0.6100000000000001\n",
      "f1_score: 0.7844860320043396\n",
      "Метрика улучшилась\n",
      "\n",
      "Порог: 0.6300000000000001\n",
      "f1_score: 0.789583562245907\n",
      "Метрика улучшилась\n",
      "\n",
      "Порог: 0.6500000000000001\n",
      "f1_score: 0.7933433517003395\n",
      "Метрика улучшилась\n",
      "\n",
      "Порог: 0.6700000000000002\n",
      "f1_score: 0.7976741560347748\n",
      "Метрика улучшилась\n",
      "\n",
      "Порог: 0.6900000000000002\n",
      "f1_score: 0.8018528049408132\n",
      "Метрика улучшилась\n",
      "\n",
      "Порог: 0.7100000000000002\n",
      "f1_score: 0.8045843945357721\n",
      "Метрика улучшилась\n",
      "\n",
      "Порог: 0.7300000000000002\n",
      "f1_score: 0.8084482252860077\n",
      "Метрика улучшилась\n",
      "\n",
      "Порог: 0.7500000000000002\n",
      "f1_score: 0.8129170638703527\n",
      "Метрика улучшилась\n",
      "\n",
      "Порог: 0.7700000000000002\n",
      "f1_score: 0.8154060100368826\n",
      "Метрика улучшилась\n",
      "\n",
      "Порог: 0.7900000000000003\n",
      "f1_score: 0.8154838709677419\n",
      "Метрика улучшилась\n",
      "\n",
      "Порог: 0.8100000000000003\n",
      "f1_score: 0.8158930467920283\n",
      "Метрика улучшилась\n",
      "\n",
      "Порог: 0.8300000000000003\n",
      "f1_score: 0.8169247435162174\n",
      "Метрика улучшилась\n",
      "\n",
      "Порог: 0.8500000000000003\n",
      "f1_score: 0.8140291514836023\n",
      "\n",
      "Порог: 0.8700000000000003\n",
      "f1_score: 0.8114285714285715\n",
      "\n",
      "Порог: 0.8900000000000003\n",
      "f1_score: 0.8037077426390403\n",
      "\n",
      "Итог:\n",
      "Лучший порог 0.8300000000000003\n",
      "Лучший f1-score 0.8169247435162174\n"
     ]
    }
   ],
   "source": [
    "max_score = score\n",
    "best_p = 0\n",
    "\n",
    "for _ in np.arange(0.49,0.91,0.02):\n",
    "    tt = t.copy()\n",
    "    tt['y_pred_{}'.format(_)] = (tt['y_score'] >= _) * 1\n",
    "    print('Порог:',_)\n",
    "    f1 = f1_score(t['y_true'], tt['y_pred_{}'.format(_)])\n",
    "    print('f1_score:',f1)\n",
    "    if f1 > max_score:\n",
    "        print('Метрика улучшилась')\n",
    "        max_score = f1\n",
    "        best_p = _\n",
    "                                 \n",
    "    print()\n",
    "\n",
    "t['y_pred_{}'.format(best_p)] = (t['y_score'] >= best_p) * 1\n",
    "\n",
    "print('Итог:')\n",
    "print('Лучший порог', best_p)\n",
    "print('Лучший f1-score', max_score)"
   ]
  },
  {
   "cell_type": "code",
   "execution_count": 47,
   "metadata": {},
   "outputs": [
    {
     "data": {
      "text/html": [
       "<div>\n",
       "<style scoped>\n",
       "    .dataframe tbody tr th:only-of-type {\n",
       "        vertical-align: middle;\n",
       "    }\n",
       "\n",
       "    .dataframe tbody tr th {\n",
       "        vertical-align: top;\n",
       "    }\n",
       "\n",
       "    .dataframe thead th {\n",
       "        text-align: right;\n",
       "    }\n",
       "</style>\n",
       "<table border=\"1\" class=\"dataframe\">\n",
       "  <thead>\n",
       "    <tr style=\"text-align: right;\">\n",
       "      <th></th>\n",
       "      <th>F1-score</th>\n",
       "      <th>Время обучения</th>\n",
       "      <th>Время предсказания</th>\n",
       "    </tr>\n",
       "  </thead>\n",
       "  <tbody>\n",
       "    <tr>\n",
       "      <th>CatBoostClassifier</th>\n",
       "      <td>0.753</td>\n",
       "      <td>274.868</td>\n",
       "      <td>2.452</td>\n",
       "    </tr>\n",
       "    <tr>\n",
       "      <th>CatBoostClassifier_0.83</th>\n",
       "      <td>0.817</td>\n",
       "      <td>274.868</td>\n",
       "      <td>2.452</td>\n",
       "    </tr>\n",
       "  </tbody>\n",
       "</table>\n",
       "</div>"
      ],
      "text/plain": [
       "                        F1-score Время обучения Время предсказания\n",
       "CatBoostClassifier         0.753        274.868              2.452\n",
       "CatBoostClassifier_0.83    0.817        274.868              2.452"
      ]
     },
     "execution_count": 47,
     "metadata": {},
     "output_type": "execute_result"
    }
   ],
   "source": [
    "metrics(final, 'CatBoostClassifier_0.83', max_score, time_fit, time_pred)"
   ]
  },
  {
   "cell_type": "markdown",
   "metadata": {},
   "source": [
    "Регулирование порога привело к улучшеню метрики до 0.817, что является хорошим результатом."
   ]
  },
  {
   "cell_type": "code",
   "execution_count": 43,
   "metadata": {},
   "outputs": [
    {
     "name": "stdout",
     "output_type": "stream",
     "text": [
      "              precision    recall  f1-score   support\n",
      "\n",
      "           0       0.98      0.98      0.98     71553\n",
      "           1       0.84      0.79      0.82      8093\n",
      "\n",
      "    accuracy                           0.96     79646\n",
      "   macro avg       0.91      0.89      0.90     79646\n",
      "weighted avg       0.96      0.96      0.96     79646\n",
      "\n"
     ]
    }
   ],
   "source": [
    "print(classification_report(test[y_col],t['y_pred_{}'.format(best_p)]))"
   ]
  },
  {
   "cell_type": "markdown",
   "metadata": {},
   "source": [
    "Показатели precision и recall стали сбалансироваными."
   ]
  },
  {
   "cell_type": "markdown",
   "metadata": {},
   "source": [
    "## Выводы"
   ]
  },
  {
   "cell_type": "markdown",
   "metadata": {},
   "source": [
    "- Изучение данных\n",
    "  - В среднем каждый 10-й комментарий токсичный (10.2% токсичный комментариев по всей выборке)\n",
    "  - Медийное количество слов в комментарии - 36, среднее - 67, стандартное отклонение довольно большое - 100, что говорит о большом разбросе в длинне сообщенией. Самый большой текст насчитывает 2273 слова\n",
    "\n",
    "\n",
    "- Обучение моделей:\n",
    "  - По метрике F1-score самой оптимальной моделью стала CatBoostClassifier с параметрами { early_stopping_rounds=100, text_features = text_features, verbose=100, auto_class_weights='Balanced'}.\n",
    "\n",
    "\n",
    "- Тестирование:\n",
    "  - Модель CatBoostClassifier достигла нужого качества, её F1-score на тестовой выборке составил 0.754.\n",
    "  - Так как классы не сбалансированы , то я произвёл подбор лучшего порога и снова провёл оценку метрики F1-score, произошло значительое улучшение.\n",
    "    - Лучший порог: 0.83\n",
    "    - *финальный F1-score:* **0.817** \n",
    "    - precision: 0.84\n",
    "    - recall: 0.79\n",
    "      - Полнота и точность сбалансированы и практически равны, что говорит о том, что модель не перекошивается в какую-либо сторону, а значит работает максимально адекватно. \n",
    "   - Можно попробовать улучшить работу модели с помощью подбора гиперпараметров, но наврятли получиться добиться сильного улучшения. Так как CatBoost обучаеся медленно, особено на больших данных, каждый подбор параметров может занимать несколько часов."
   ]
  }
 ],
 "metadata": {
  "ExecuteTimeLog": [
   {
    "duration": 18,
    "start_time": "2022-10-29T13:11:59.636Z"
   },
   {
    "duration": 33,
    "start_time": "2022-10-29T13:12:04.226Z"
   },
   {
    "duration": 15,
    "start_time": "2022-10-29T13:12:04.488Z"
   },
   {
    "duration": 19,
    "start_time": "2022-10-29T13:12:15.495Z"
   },
   {
    "duration": 219,
    "start_time": "2022-10-29T13:12:18.138Z"
   },
   {
    "duration": 829,
    "start_time": "2022-10-29T13:12:40.097Z"
   },
   {
    "duration": 712,
    "start_time": "2022-10-29T13:13:22.149Z"
   },
   {
    "duration": 210,
    "start_time": "2022-10-29T13:13:43.139Z"
   },
   {
    "duration": 758,
    "start_time": "2022-10-29T13:15:34.688Z"
   },
   {
    "duration": 19159,
    "start_time": "2022-10-29T13:15:48.256Z"
   },
   {
    "duration": 94,
    "start_time": "2022-10-29T13:16:07.416Z"
   },
   {
    "duration": 57,
    "start_time": "2022-10-29T13:19:20.977Z"
   },
   {
    "duration": 6,
    "start_time": "2022-10-29T13:19:37.679Z"
   },
   {
    "duration": 3,
    "start_time": "2022-10-29T13:19:48.550Z"
   },
   {
    "duration": 8,
    "start_time": "2022-10-29T13:19:59.304Z"
   },
   {
    "duration": 4,
    "start_time": "2022-10-29T13:20:11.230Z"
   },
   {
    "duration": 72,
    "start_time": "2022-10-29T13:21:33.546Z"
   },
   {
    "duration": 4,
    "start_time": "2022-10-29T13:32:08.707Z"
   },
   {
    "duration": 2187,
    "start_time": "2022-10-29T13:32:08.886Z"
   },
   {
    "duration": 796,
    "start_time": "2022-10-29T13:32:11.075Z"
   },
   {
    "duration": 38,
    "start_time": "2022-10-29T13:32:11.872Z"
   },
   {
    "duration": 11,
    "start_time": "2022-10-29T13:32:11.911Z"
   },
   {
    "duration": 36,
    "start_time": "2022-10-29T13:32:11.924Z"
   },
   {
    "duration": 262,
    "start_time": "2022-10-29T13:32:11.962Z"
   },
   {
    "duration": 3,
    "start_time": "2022-10-29T13:33:17.665Z"
   },
   {
    "duration": 2188,
    "start_time": "2022-10-29T13:33:17.670Z"
   },
   {
    "duration": 725,
    "start_time": "2022-10-29T13:33:19.860Z"
   },
   {
    "duration": 33,
    "start_time": "2022-10-29T13:33:20.586Z"
   },
   {
    "duration": 10,
    "start_time": "2022-10-29T13:33:20.621Z"
   },
   {
    "duration": 19,
    "start_time": "2022-10-29T13:33:20.633Z"
   },
   {
    "duration": 240,
    "start_time": "2022-10-29T13:33:20.653Z"
   },
   {
    "duration": 783,
    "start_time": "2022-10-29T13:33:20.894Z"
   },
   {
    "duration": 720,
    "start_time": "2022-10-29T13:33:21.678Z"
   },
   {
    "duration": 214,
    "start_time": "2022-10-29T13:33:22.400Z"
   },
   {
    "duration": 428,
    "start_time": "2022-10-29T13:33:22.617Z"
   },
   {
    "duration": 3,
    "start_time": "2022-10-29T13:40:40.461Z"
   },
   {
    "duration": 2156,
    "start_time": "2022-10-29T13:40:40.466Z"
   },
   {
    "duration": 722,
    "start_time": "2022-10-29T13:40:42.624Z"
   },
   {
    "duration": 31,
    "start_time": "2022-10-29T13:40:43.348Z"
   },
   {
    "duration": 12,
    "start_time": "2022-10-29T13:40:43.391Z"
   },
   {
    "duration": 18,
    "start_time": "2022-10-29T13:40:43.405Z"
   },
   {
    "duration": 257,
    "start_time": "2022-10-29T13:40:43.425Z"
   },
   {
    "duration": 827,
    "start_time": "2022-10-29T13:40:43.683Z"
   },
   {
    "duration": 730,
    "start_time": "2022-10-29T13:40:44.512Z"
   },
   {
    "duration": 213,
    "start_time": "2022-10-29T13:40:45.244Z"
   },
   {
    "duration": 377,
    "start_time": "2022-10-29T13:40:45.460Z"
   },
   {
    "duration": 19675,
    "start_time": "2022-10-29T13:40:45.839Z"
   },
   {
    "duration": 58,
    "start_time": "2022-10-29T13:41:05.515Z"
   },
   {
    "duration": 440308,
    "start_time": "2022-10-29T13:41:05.622Z"
   },
   {
    "duration": 205204,
    "start_time": "2022-10-29T13:48:25.931Z"
   },
   {
    "duration": 75,
    "start_time": "2022-10-29T14:08:33.408Z"
   },
   {
    "duration": 4,
    "start_time": "2022-10-29T14:16:07.680Z"
   },
   {
    "duration": 2265,
    "start_time": "2022-10-29T14:16:07.686Z"
   },
   {
    "duration": 751,
    "start_time": "2022-10-29T14:16:09.953Z"
   },
   {
    "duration": 33,
    "start_time": "2022-10-29T14:16:10.706Z"
   },
   {
    "duration": 16,
    "start_time": "2022-10-29T14:16:10.741Z"
   },
   {
    "duration": 36,
    "start_time": "2022-10-29T14:16:10.759Z"
   },
   {
    "duration": 234,
    "start_time": "2022-10-29T14:16:10.796Z"
   },
   {
    "duration": 847,
    "start_time": "2022-10-29T14:16:11.032Z"
   },
   {
    "duration": 727,
    "start_time": "2022-10-29T14:16:11.881Z"
   },
   {
    "duration": 222,
    "start_time": "2022-10-29T14:16:12.610Z"
   },
   {
    "duration": 433,
    "start_time": "2022-10-29T14:16:12.835Z"
   },
   {
    "duration": 21923,
    "start_time": "2022-10-29T14:16:13.270Z"
   },
   {
    "duration": 66,
    "start_time": "2022-10-29T14:16:35.195Z"
   },
   {
    "duration": 8,
    "start_time": "2022-10-29T14:16:35.263Z"
   },
   {
    "duration": 3,
    "start_time": "2022-10-29T14:16:35.291Z"
   },
   {
    "duration": 11,
    "start_time": "2022-10-29T14:16:35.296Z"
   },
   {
    "duration": 4,
    "start_time": "2022-10-29T14:16:35.309Z"
   },
   {
    "duration": 446696,
    "start_time": "2022-10-29T14:16:35.315Z"
   },
   {
    "duration": 70959,
    "start_time": "2022-10-29T14:24:02.013Z"
   },
   {
    "duration": 70,
    "start_time": "2022-10-29T14:31:05.781Z"
   },
   {
    "duration": 0,
    "start_time": "2022-10-29T14:31:05.853Z"
   },
   {
    "duration": 76980,
    "start_time": "2022-10-29T14:31:08.069Z"
   },
   {
    "duration": 134487,
    "start_time": "2022-10-29T14:32:27.371Z"
   },
   {
    "duration": 71,
    "start_time": "2022-10-29T14:34:41.860Z"
   },
   {
    "duration": 69,
    "start_time": "2022-10-29T14:35:01.300Z"
   },
   {
    "duration": 124,
    "start_time": "2022-10-29T14:35:17.614Z"
   },
   {
    "duration": 78,
    "start_time": "2022-10-29T14:35:30.495Z"
   },
   {
    "duration": 68784,
    "start_time": "2022-10-29T14:36:04.492Z"
   },
   {
    "duration": 79591,
    "start_time": "2022-10-29T14:37:13.278Z"
   },
   {
    "duration": 0,
    "start_time": "2022-10-29T14:38:32.872Z"
   },
   {
    "duration": 2308,
    "start_time": "2022-10-29T18:14:01.034Z"
   },
   {
    "duration": 7692,
    "start_time": "2022-10-29T18:14:39.982Z"
   },
   {
    "duration": 834,
    "start_time": "2022-10-29T18:14:47.677Z"
   },
   {
    "duration": 0,
    "start_time": "2022-10-29T18:14:48.513Z"
   },
   {
    "duration": 0,
    "start_time": "2022-10-29T18:14:48.514Z"
   },
   {
    "duration": 10,
    "start_time": "2022-10-29T18:14:51.612Z"
   },
   {
    "duration": 915,
    "start_time": "2022-10-29T18:15:05.406Z"
   },
   {
    "duration": 2051,
    "start_time": "2022-10-29T18:15:23.685Z"
   },
   {
    "duration": 3503,
    "start_time": "2022-10-29T18:15:30.084Z"
   },
   {
    "duration": 24,
    "start_time": "2022-10-29T18:15:33.588Z"
   },
   {
    "duration": 10,
    "start_time": "2022-10-29T18:15:33.613Z"
   },
   {
    "duration": 15,
    "start_time": "2022-10-29T18:15:35.597Z"
   },
   {
    "duration": 244,
    "start_time": "2022-10-29T18:15:36.123Z"
   },
   {
    "duration": 728,
    "start_time": "2022-10-29T18:15:38.748Z"
   },
   {
    "duration": 660,
    "start_time": "2022-10-29T18:15:39.479Z"
   },
   {
    "duration": 186,
    "start_time": "2022-10-29T18:15:42.534Z"
   },
   {
    "duration": 530,
    "start_time": "2022-10-29T18:15:44.542Z"
   },
   {
    "duration": 18969,
    "start_time": "2022-10-29T18:15:45.722Z"
   },
   {
    "duration": 56,
    "start_time": "2022-10-29T18:16:04.692Z"
   },
   {
    "duration": 5,
    "start_time": "2022-10-29T18:16:04.749Z"
   },
   {
    "duration": 19,
    "start_time": "2022-10-29T18:16:04.756Z"
   },
   {
    "duration": 15,
    "start_time": "2022-10-29T18:16:04.776Z"
   },
   {
    "duration": 4,
    "start_time": "2022-10-29T18:16:06.293Z"
   },
   {
    "duration": 139522,
    "start_time": "2022-10-29T18:16:28.830Z"
   },
   {
    "duration": 56892,
    "start_time": "2022-10-29T18:18:48.354Z"
   },
   {
    "duration": 47629,
    "start_time": "2022-10-29T18:19:45.248Z"
   },
   {
    "duration": 46,
    "start_time": "2022-10-29T18:29:51.042Z"
   },
   {
    "duration": 60,
    "start_time": "2022-10-29T18:30:02.448Z"
   },
   {
    "duration": 6552,
    "start_time": "2022-10-29T18:32:17.218Z"
   },
   {
    "duration": 71,
    "start_time": "2022-10-29T18:40:50.204Z"
   },
   {
    "duration": 6757,
    "start_time": "2022-10-29T18:40:56.862Z"
   },
   {
    "duration": 6935,
    "start_time": "2022-10-29T18:41:27.351Z"
   },
   {
    "duration": 73,
    "start_time": "2022-10-29T18:48:38.293Z"
   },
   {
    "duration": 28,
    "start_time": "2022-10-29T18:48:41.949Z"
   },
   {
    "duration": 89,
    "start_time": "2022-10-29T18:50:14.047Z"
   },
   {
    "duration": 97,
    "start_time": "2022-10-29T18:51:21.506Z"
   },
   {
    "duration": 30,
    "start_time": "2022-10-29T18:51:43.897Z"
   },
   {
    "duration": 443561,
    "start_time": "2022-10-29T18:51:45.919Z"
   },
   {
    "duration": 5,
    "start_time": "2022-10-29T18:59:09.482Z"
   },
   {
    "duration": 59,
    "start_time": "2022-10-29T19:00:51.762Z"
   },
   {
    "duration": 4,
    "start_time": "2022-10-29T19:00:53.037Z"
   },
   {
    "duration": 102,
    "start_time": "2022-10-29T19:04:32.071Z"
   },
   {
    "duration": 718,
    "start_time": "2022-10-29T19:04:52.948Z"
   },
   {
    "duration": 687,
    "start_time": "2022-10-29T19:08:42.184Z"
   },
   {
    "duration": 459467,
    "start_time": "2022-10-29T19:08:53.471Z"
   },
   {
    "duration": 3,
    "start_time": "2022-10-29T19:17:36.419Z"
   },
   {
    "duration": 4,
    "start_time": "2022-10-29T19:17:44.876Z"
   },
   {
    "duration": 7,
    "start_time": "2022-10-29T19:17:48.612Z"
   },
   {
    "duration": 3,
    "start_time": "2022-10-29T19:18:13.397Z"
   },
   {
    "duration": 8,
    "start_time": "2022-10-29T19:18:21.907Z"
   },
   {
    "duration": 5,
    "start_time": "2022-10-29T19:23:29.284Z"
   },
   {
    "duration": 7,
    "start_time": "2022-10-29T19:26:24.713Z"
   },
   {
    "duration": 45,
    "start_time": "2022-10-29T19:27:16.953Z"
   },
   {
    "duration": 7407,
    "start_time": "2022-10-29T19:27:38.406Z"
   },
   {
    "duration": 67,
    "start_time": "2022-10-29T19:30:02.858Z"
   },
   {
    "duration": 7387,
    "start_time": "2022-10-29T19:30:07.378Z"
   },
   {
    "duration": 7433,
    "start_time": "2022-10-29T19:30:46.372Z"
   },
   {
    "duration": 1252,
    "start_time": "2022-10-29T19:35:16.123Z"
   },
   {
    "duration": 1208,
    "start_time": "2022-10-29T19:35:33.807Z"
   },
   {
    "duration": 16,
    "start_time": "2022-10-29T19:48:35.740Z"
   },
   {
    "duration": 68,
    "start_time": "2022-10-29T19:49:54.381Z"
   },
   {
    "duration": 12,
    "start_time": "2022-10-29T19:52:27.054Z"
   },
   {
    "duration": 13,
    "start_time": "2022-10-29T19:53:30.849Z"
   },
   {
    "duration": 2011,
    "start_time": "2022-10-29T20:07:46.309Z"
   },
   {
    "duration": 749,
    "start_time": "2022-10-29T20:07:48.321Z"
   },
   {
    "duration": 34,
    "start_time": "2022-10-29T20:07:49.072Z"
   },
   {
    "duration": 23,
    "start_time": "2022-10-29T20:07:49.108Z"
   },
   {
    "duration": 20,
    "start_time": "2022-10-29T20:07:49.133Z"
   },
   {
    "duration": 262,
    "start_time": "2022-10-29T20:07:49.155Z"
   },
   {
    "duration": 875,
    "start_time": "2022-10-29T20:07:49.421Z"
   },
   {
    "duration": 772,
    "start_time": "2022-10-29T20:07:50.298Z"
   },
   {
    "duration": 222,
    "start_time": "2022-10-29T20:07:51.072Z"
   },
   {
    "duration": 331,
    "start_time": "2022-10-29T20:07:51.297Z"
   },
   {
    "duration": 18653,
    "start_time": "2022-10-29T20:07:51.630Z"
   },
   {
    "duration": 70,
    "start_time": "2022-10-29T20:08:10.284Z"
   },
   {
    "duration": 6,
    "start_time": "2022-10-29T20:08:10.355Z"
   },
   {
    "duration": 12,
    "start_time": "2022-10-29T20:08:10.363Z"
   },
   {
    "duration": 14,
    "start_time": "2022-10-29T20:08:10.377Z"
   },
   {
    "duration": 8,
    "start_time": "2022-10-29T20:08:10.393Z"
   },
   {
    "duration": 19,
    "start_time": "2022-10-29T20:08:10.403Z"
   },
   {
    "duration": 147216,
    "start_time": "2022-10-29T20:08:10.423Z"
   },
   {
    "duration": 58046,
    "start_time": "2022-10-29T20:10:37.640Z"
   },
   {
    "duration": 66,
    "start_time": "2022-10-29T20:11:35.688Z"
   },
   {
    "duration": 5,
    "start_time": "2022-10-29T20:11:35.755Z"
   },
   {
    "duration": 474200,
    "start_time": "2022-10-29T20:11:35.762Z"
   },
   {
    "duration": 7,
    "start_time": "2022-10-29T20:19:29.964Z"
   },
   {
    "duration": 5842,
    "start_time": "2022-10-29T20:19:29.972Z"
   },
   {
    "duration": 1017,
    "start_time": "2022-10-29T20:19:35.816Z"
   },
   {
    "duration": 2902,
    "start_time": "2022-10-30T04:10:59.238Z"
   },
   {
    "duration": 2400,
    "start_time": "2022-10-30T04:11:02.142Z"
   },
   {
    "duration": 34,
    "start_time": "2022-10-30T04:11:04.543Z"
   },
   {
    "duration": 11,
    "start_time": "2022-10-30T04:11:04.578Z"
   },
   {
    "duration": 18,
    "start_time": "2022-10-30T04:11:04.592Z"
   },
   {
    "duration": 257,
    "start_time": "2022-10-30T04:11:04.612Z"
   },
   {
    "duration": 891,
    "start_time": "2022-10-30T04:11:04.871Z"
   },
   {
    "duration": 2522,
    "start_time": "2022-10-30T04:12:05.006Z"
   },
   {
    "duration": 815,
    "start_time": "2022-10-30T04:12:07.529Z"
   },
   {
    "duration": 28,
    "start_time": "2022-10-30T04:12:08.346Z"
   },
   {
    "duration": 9,
    "start_time": "2022-10-30T04:12:08.376Z"
   },
   {
    "duration": 18,
    "start_time": "2022-10-30T04:12:08.387Z"
   },
   {
    "duration": 255,
    "start_time": "2022-10-30T04:12:08.406Z"
   },
   {
    "duration": 2314,
    "start_time": "2022-10-30T04:12:21.779Z"
   },
   {
    "duration": 839,
    "start_time": "2022-10-30T04:12:24.094Z"
   },
   {
    "duration": 33,
    "start_time": "2022-10-30T04:12:24.939Z"
   },
   {
    "duration": 10,
    "start_time": "2022-10-30T04:12:24.974Z"
   },
   {
    "duration": 20,
    "start_time": "2022-10-30T04:12:24.986Z"
   },
   {
    "duration": 252,
    "start_time": "2022-10-30T04:12:25.008Z"
   },
   {
    "duration": 160,
    "start_time": "2022-10-30T04:12:25.262Z"
   },
   {
    "duration": 0,
    "start_time": "2022-10-30T04:12:25.424Z"
   },
   {
    "duration": 0,
    "start_time": "2022-10-30T04:12:25.426Z"
   },
   {
    "duration": 35,
    "start_time": "2022-10-30T04:14:13.048Z"
   },
   {
    "duration": 14,
    "start_time": "2022-10-30T04:14:30.098Z"
   },
   {
    "duration": 831,
    "start_time": "2022-10-30T04:14:30.114Z"
   },
   {
    "duration": 30,
    "start_time": "2022-10-30T04:14:30.946Z"
   },
   {
    "duration": 13,
    "start_time": "2022-10-30T04:14:30.977Z"
   },
   {
    "duration": 18,
    "start_time": "2022-10-30T04:14:30.992Z"
   },
   {
    "duration": 232,
    "start_time": "2022-10-30T04:14:31.011Z"
   },
   {
    "duration": 33,
    "start_time": "2022-10-30T04:14:31.245Z"
   },
   {
    "duration": 17,
    "start_time": "2022-10-30T04:14:39.638Z"
   },
   {
    "duration": 799,
    "start_time": "2022-10-30T04:14:39.657Z"
   },
   {
    "duration": 28,
    "start_time": "2022-10-30T04:14:40.457Z"
   },
   {
    "duration": 9,
    "start_time": "2022-10-30T04:14:40.487Z"
   },
   {
    "duration": 18,
    "start_time": "2022-10-30T04:14:40.498Z"
   },
   {
    "duration": 226,
    "start_time": "2022-10-30T04:14:40.538Z"
   },
   {
    "duration": 38,
    "start_time": "2022-10-30T04:14:40.766Z"
   },
   {
    "duration": 15,
    "start_time": "2022-10-30T04:14:48.489Z"
   },
   {
    "duration": 824,
    "start_time": "2022-10-30T04:14:48.507Z"
   },
   {
    "duration": 31,
    "start_time": "2022-10-30T04:14:49.338Z"
   },
   {
    "duration": 11,
    "start_time": "2022-10-30T04:14:49.371Z"
   },
   {
    "duration": 18,
    "start_time": "2022-10-30T04:14:49.384Z"
   },
   {
    "duration": 248,
    "start_time": "2022-10-30T04:14:49.403Z"
   },
   {
    "duration": 33,
    "start_time": "2022-10-30T04:14:49.653Z"
   },
   {
    "duration": 908,
    "start_time": "2022-10-30T04:14:49.688Z"
   },
   {
    "duration": 722,
    "start_time": "2022-10-30T04:16:53.061Z"
   },
   {
    "duration": 6,
    "start_time": "2022-10-30T04:21:26.341Z"
   },
   {
    "duration": 2541,
    "start_time": "2022-10-30T05:43:46.411Z"
   },
   {
    "duration": 74,
    "start_time": "2022-10-30T05:44:43.428Z"
   },
   {
    "duration": 143,
    "start_time": "2022-10-30T05:45:02.496Z"
   },
   {
    "duration": 3298,
    "start_time": "2022-10-30T05:46:12.123Z"
   },
   {
    "duration": 32,
    "start_time": "2022-10-30T05:46:15.423Z"
   },
   {
    "duration": 11,
    "start_time": "2022-10-30T05:46:15.456Z"
   },
   {
    "duration": 22,
    "start_time": "2022-10-30T05:46:15.773Z"
   },
   {
    "duration": 258,
    "start_time": "2022-10-30T05:46:16.242Z"
   },
   {
    "duration": 802,
    "start_time": "2022-10-30T05:46:18.193Z"
   },
   {
    "duration": 741,
    "start_time": "2022-10-30T05:46:18.997Z"
   },
   {
    "duration": 199,
    "start_time": "2022-10-30T05:46:20.050Z"
   },
   {
    "duration": 4,
    "start_time": "2022-10-30T05:49:04.970Z"
   },
   {
    "duration": 47742,
    "start_time": "2022-10-30T05:50:11.426Z"
   },
   {
    "duration": 72,
    "start_time": "2022-10-30T05:51:44.040Z"
   },
   {
    "duration": 68,
    "start_time": "2022-10-30T05:52:29.552Z"
   },
   {
    "duration": 6,
    "start_time": "2022-10-30T05:52:32.025Z"
   },
   {
    "duration": 4,
    "start_time": "2022-10-30T05:52:51.185Z"
   },
   {
    "duration": 8,
    "start_time": "2022-10-30T05:52:51.603Z"
   },
   {
    "duration": 5,
    "start_time": "2022-10-30T05:52:52.860Z"
   },
   {
    "duration": 3,
    "start_time": "2022-10-30T05:52:54.360Z"
   },
   {
    "duration": 3,
    "start_time": "2022-10-30T05:53:06.771Z"
   },
   {
    "duration": 217,
    "start_time": "2022-10-30T05:53:10.597Z"
   },
   {
    "duration": 6,
    "start_time": "2022-10-30T05:54:10.211Z"
   },
   {
    "duration": 4,
    "start_time": "2022-10-30T05:54:11.636Z"
   },
   {
    "duration": 7,
    "start_time": "2022-10-30T05:54:12.817Z"
   },
   {
    "duration": 6,
    "start_time": "2022-10-30T05:54:13.823Z"
   },
   {
    "duration": 4,
    "start_time": "2022-10-30T05:54:15.235Z"
   },
   {
    "duration": 112,
    "start_time": "2022-10-30T05:54:17.016Z"
   },
   {
    "duration": 238,
    "start_time": "2022-10-30T05:55:34.781Z"
   },
   {
    "duration": 6,
    "start_time": "2022-10-30T05:55:38.418Z"
   },
   {
    "duration": 7,
    "start_time": "2022-10-30T05:56:56.053Z"
   },
   {
    "duration": 8,
    "start_time": "2022-10-30T05:57:24.447Z"
   },
   {
    "duration": 175214,
    "start_time": "2022-10-30T05:57:28.737Z"
   },
   {
    "duration": 83249,
    "start_time": "2022-10-30T06:00:23.954Z"
   },
   {
    "duration": 17,
    "start_time": "2022-10-30T06:01:47.204Z"
   },
   {
    "duration": 0,
    "start_time": "2022-10-30T06:01:47.223Z"
   },
   {
    "duration": 152,
    "start_time": "2022-10-30T06:05:25.751Z"
   },
   {
    "duration": 6,
    "start_time": "2022-10-30T06:05:27.661Z"
   },
   {
    "duration": 494177,
    "start_time": "2022-10-30T06:06:00.178Z"
   },
   {
    "duration": 73,
    "start_time": "2022-10-30T06:14:14.357Z"
   },
   {
    "duration": 10,
    "start_time": "2022-10-30T06:17:14.496Z"
   },
   {
    "duration": 5554,
    "start_time": "2022-10-30T06:18:49.677Z"
   },
   {
    "duration": 39,
    "start_time": "2022-10-30T06:27:53.806Z"
   },
   {
    "duration": 635244,
    "start_time": "2022-10-30T06:29:53.141Z"
   },
   {
    "duration": 0,
    "start_time": "2022-10-30T06:40:28.387Z"
   },
   {
    "duration": 638402,
    "start_time": "2022-10-30T06:44:02.556Z"
   },
   {
    "duration": 93,
    "start_time": "2022-10-30T06:54:40.960Z"
   },
   {
    "duration": 2200,
    "start_time": "2022-10-30T07:06:36.792Z"
   },
   {
    "duration": 791,
    "start_time": "2022-10-30T07:06:38.994Z"
   },
   {
    "duration": 38,
    "start_time": "2022-10-30T07:06:39.787Z"
   },
   {
    "duration": 18,
    "start_time": "2022-10-30T07:06:39.829Z"
   },
   {
    "duration": 46,
    "start_time": "2022-10-30T07:06:39.849Z"
   },
   {
    "duration": 239,
    "start_time": "2022-10-30T07:06:39.896Z"
   },
   {
    "duration": 848,
    "start_time": "2022-10-30T07:06:40.137Z"
   },
   {
    "duration": 740,
    "start_time": "2022-10-30T07:06:40.990Z"
   },
   {
    "duration": 214,
    "start_time": "2022-10-30T07:06:41.732Z"
   },
   {
    "duration": 225,
    "start_time": "2022-10-30T07:06:41.948Z"
   },
   {
    "duration": 3,
    "start_time": "2022-10-30T07:06:42.175Z"
   },
   {
    "duration": 46559,
    "start_time": "2022-10-30T07:06:42.179Z"
   },
   {
    "duration": 71,
    "start_time": "2022-10-30T07:07:28.739Z"
   },
   {
    "duration": 20,
    "start_time": "2022-10-30T07:07:28.812Z"
   },
   {
    "duration": 9,
    "start_time": "2022-10-30T07:07:28.833Z"
   },
   {
    "duration": 20,
    "start_time": "2022-10-30T07:07:28.843Z"
   },
   {
    "duration": 8,
    "start_time": "2022-10-30T07:07:28.864Z"
   },
   {
    "duration": 5,
    "start_time": "2022-10-30T07:07:28.874Z"
   },
   {
    "duration": 182738,
    "start_time": "2022-10-30T07:07:28.881Z"
   },
   {
    "duration": 82570,
    "start_time": "2022-10-30T07:10:31.621Z"
   },
   {
    "duration": 154,
    "start_time": "2022-10-30T07:11:54.193Z"
   },
   {
    "duration": 6,
    "start_time": "2022-10-30T07:11:54.349Z"
   },
   {
    "duration": 499741,
    "start_time": "2022-10-30T07:11:54.356Z"
   },
   {
    "duration": 13,
    "start_time": "2022-10-30T07:20:14.099Z"
   },
   {
    "duration": 54,
    "start_time": "2022-10-30T07:20:14.114Z"
   },
   {
    "duration": 630716,
    "start_time": "2022-10-30T07:20:14.170Z"
   },
   {
    "duration": 89,
    "start_time": "2022-10-30T07:30:44.891Z"
   },
   {
    "duration": 7972,
    "start_time": "2022-10-30T08:48:20.005Z"
   },
   {
    "duration": 1405,
    "start_time": "2022-10-30T08:52:31.711Z"
   },
   {
    "duration": 152,
    "start_time": "2022-10-30T09:15:15.644Z"
   },
   {
    "duration": 642418,
    "start_time": "2022-10-30T09:15:39.215Z"
   },
   {
    "duration": 8149,
    "start_time": "2022-10-30T09:38:04.331Z"
   },
   {
    "duration": 8299,
    "start_time": "2022-10-30T09:38:57.225Z"
   },
   {
    "duration": 80,
    "start_time": "2022-10-30T09:39:19.789Z"
   },
   {
    "duration": 10,
    "start_time": "2022-10-30T09:39:43.733Z"
   },
   {
    "duration": 18,
    "start_time": "2022-10-30T09:39:56.425Z"
   },
   {
    "duration": 16,
    "start_time": "2022-10-30T09:40:23.600Z"
   },
   {
    "duration": 276,
    "start_time": "2022-10-30T09:41:17.321Z"
   },
   {
    "duration": 257,
    "start_time": "2022-10-30T09:42:13.556Z"
   },
   {
    "duration": 16,
    "start_time": "2022-10-30T09:42:52.689Z"
   },
   {
    "duration": 5,
    "start_time": "2022-10-30T09:43:23.065Z"
   },
   {
    "duration": 78,
    "start_time": "2022-10-30T09:44:05.761Z"
   },
   {
    "duration": 24,
    "start_time": "2022-10-30T09:44:46.716Z"
   },
   {
    "duration": 7752,
    "start_time": "2022-10-30T09:45:43.671Z"
   },
   {
    "duration": 0,
    "start_time": "2022-10-30T09:45:51.425Z"
   },
   {
    "duration": 0,
    "start_time": "2022-10-30T09:45:51.426Z"
   },
   {
    "duration": 0,
    "start_time": "2022-10-30T09:45:51.427Z"
   },
   {
    "duration": 8313,
    "start_time": "2022-10-30T09:46:49.031Z"
   },
   {
    "duration": 260,
    "start_time": "2022-10-30T09:46:57.346Z"
   },
   {
    "duration": 6,
    "start_time": "2022-10-30T09:46:57.609Z"
   },
   {
    "duration": 29,
    "start_time": "2022-10-30T09:46:57.616Z"
   },
   {
    "duration": 17,
    "start_time": "2022-10-30T09:49:06.384Z"
   },
   {
    "duration": 8,
    "start_time": "2022-10-30T09:49:36.013Z"
   },
   {
    "duration": 7,
    "start_time": "2022-10-30T09:50:02.375Z"
   },
   {
    "duration": 9,
    "start_time": "2022-10-30T09:51:16.649Z"
   },
   {
    "duration": 8,
    "start_time": "2022-10-30T09:51:21.204Z"
   },
   {
    "duration": 13,
    "start_time": "2022-10-30T09:52:44.162Z"
   },
   {
    "duration": 24,
    "start_time": "2022-10-30T09:54:12.456Z"
   },
   {
    "duration": 11,
    "start_time": "2022-10-30T09:54:49.852Z"
   },
   {
    "duration": 23,
    "start_time": "2022-10-30T09:54:55.625Z"
   },
   {
    "duration": 10,
    "start_time": "2022-10-30T09:56:03.906Z"
   },
   {
    "duration": 11,
    "start_time": "2022-10-30T09:56:27.010Z"
   },
   {
    "duration": 8,
    "start_time": "2022-10-30T10:03:27.197Z"
   },
   {
    "duration": 7379,
    "start_time": "2022-10-30T10:04:41.544Z"
   },
   {
    "duration": 1574,
    "start_time": "2022-10-30T10:05:58.241Z"
   },
   {
    "duration": 2136,
    "start_time": "2022-10-30T10:17:21.793Z"
   },
   {
    "duration": 765,
    "start_time": "2022-10-30T10:17:23.931Z"
   },
   {
    "duration": 31,
    "start_time": "2022-10-30T10:17:24.698Z"
   },
   {
    "duration": 10,
    "start_time": "2022-10-30T10:17:24.731Z"
   },
   {
    "duration": 20,
    "start_time": "2022-10-30T10:17:24.743Z"
   },
   {
    "duration": 258,
    "start_time": "2022-10-30T10:17:24.765Z"
   },
   {
    "duration": 821,
    "start_time": "2022-10-30T10:17:25.025Z"
   },
   {
    "duration": 790,
    "start_time": "2022-10-30T10:17:25.847Z"
   },
   {
    "duration": 244,
    "start_time": "2022-10-30T10:17:26.638Z"
   },
   {
    "duration": 165,
    "start_time": "2022-10-30T10:17:26.885Z"
   },
   {
    "duration": 3,
    "start_time": "2022-10-30T10:17:27.052Z"
   },
   {
    "duration": 46599,
    "start_time": "2022-10-30T10:17:27.057Z"
   },
   {
    "duration": 86,
    "start_time": "2022-10-30T10:18:13.658Z"
   },
   {
    "duration": 7,
    "start_time": "2022-10-30T10:18:13.745Z"
   },
   {
    "duration": 7,
    "start_time": "2022-10-30T10:18:13.754Z"
   },
   {
    "duration": 13,
    "start_time": "2022-10-30T10:18:13.763Z"
   },
   {
    "duration": 16,
    "start_time": "2022-10-30T10:18:13.778Z"
   },
   {
    "duration": 4,
    "start_time": "2022-10-30T10:18:13.796Z"
   },
   {
    "duration": 167027,
    "start_time": "2022-10-30T10:18:13.801Z"
   },
   {
    "duration": 79935,
    "start_time": "2022-10-30T10:21:00.830Z"
   },
   {
    "duration": 172,
    "start_time": "2022-10-30T10:22:20.767Z"
   },
   {
    "duration": 5,
    "start_time": "2022-10-30T10:22:20.940Z"
   },
   {
    "duration": 511978,
    "start_time": "2022-10-30T10:22:20.947Z"
   },
   {
    "duration": 8,
    "start_time": "2022-10-30T10:30:52.926Z"
   },
   {
    "duration": 58,
    "start_time": "2022-10-30T10:30:52.936Z"
   },
   {
    "duration": 655552,
    "start_time": "2022-10-30T10:30:52.995Z"
   },
   {
    "duration": 89,
    "start_time": "2022-10-30T10:41:48.549Z"
   },
   {
    "duration": 8085,
    "start_time": "2022-10-30T10:41:48.641Z"
   },
   {
    "duration": 318,
    "start_time": "2022-10-30T10:41:56.728Z"
   },
   {
    "duration": 6,
    "start_time": "2022-10-30T10:41:57.048Z"
   },
   {
    "duration": 39,
    "start_time": "2022-10-30T10:41:57.057Z"
   },
   {
    "duration": 7,
    "start_time": "2022-10-30T10:41:57.097Z"
   },
   {
    "duration": 11,
    "start_time": "2022-10-30T10:41:57.106Z"
   },
   {
    "duration": 24,
    "start_time": "2022-10-30T10:41:57.119Z"
   },
   {
    "duration": 9,
    "start_time": "2022-10-30T10:41:57.145Z"
   },
   {
    "duration": 7592,
    "start_time": "2022-10-30T10:41:57.155Z"
   },
   {
    "duration": 1377,
    "start_time": "2022-10-30T10:42:04.749Z"
   },
   {
    "duration": 5330,
    "start_time": "2022-10-30T18:49:36.907Z"
   },
   {
    "duration": 3459,
    "start_time": "2022-10-30T18:49:48.243Z"
   },
   {
    "duration": 32,
    "start_time": "2022-10-30T18:49:51.704Z"
   },
   {
    "duration": 10,
    "start_time": "2022-10-30T18:49:51.738Z"
   },
   {
    "duration": 21,
    "start_time": "2022-10-30T18:49:51.750Z"
   },
   {
    "duration": 232,
    "start_time": "2022-10-30T18:49:51.772Z"
   },
   {
    "duration": 830,
    "start_time": "2022-10-30T18:49:52.005Z"
   },
   {
    "duration": 701,
    "start_time": "2022-10-30T18:49:52.837Z"
   },
   {
    "duration": 206,
    "start_time": "2022-10-30T18:49:53.539Z"
   },
   {
    "duration": 184,
    "start_time": "2022-10-30T18:50:00.962Z"
   },
   {
    "duration": 352,
    "start_time": "2022-10-30T18:50:37.579Z"
   },
   {
    "duration": 8220,
    "start_time": "2022-10-30T18:51:24.420Z"
   },
   {
    "duration": 91,
    "start_time": "2022-10-30T18:51:35.073Z"
   },
   {
    "duration": 473,
    "start_time": "2022-10-30T18:52:20.937Z"
   },
   {
    "duration": 4,
    "start_time": "2022-10-30T18:55:16.036Z"
   },
   {
    "duration": 953019,
    "start_time": "2022-10-30T18:55:50.484Z"
   },
   {
    "duration": 3,
    "start_time": "2022-10-30T19:11:43.505Z"
   },
   {
    "duration": 13,
    "start_time": "2022-10-30T19:11:43.509Z"
   },
   {
    "duration": 65,
    "start_time": "2022-10-30T19:14:51.386Z"
   },
   {
    "duration": 56,
    "start_time": "2022-10-30T19:16:15.205Z"
   },
   {
    "duration": 20,
    "start_time": "2022-10-30T19:16:15.882Z"
   },
   {
    "duration": 3,
    "start_time": "2022-10-30T19:16:16.446Z"
   },
   {
    "duration": 9,
    "start_time": "2022-10-30T19:16:16.590Z"
   },
   {
    "duration": 5,
    "start_time": "2022-10-30T19:16:16.890Z"
   },
   {
    "duration": 2,
    "start_time": "2022-10-30T19:16:17.192Z"
   },
   {
    "duration": 143192,
    "start_time": "2022-10-30T19:16:17.659Z"
   },
   {
    "duration": 78344,
    "start_time": "2022-10-30T19:18:40.853Z"
   },
   {
    "duration": 161,
    "start_time": "2022-10-30T19:19:59.199Z"
   },
   {
    "duration": 5,
    "start_time": "2022-10-30T19:19:59.363Z"
   },
   {
    "duration": 465860,
    "start_time": "2022-10-30T19:19:59.370Z"
   },
   {
    "duration": 7,
    "start_time": "2022-10-30T19:27:45.231Z"
   },
   {
    "duration": 44,
    "start_time": "2022-10-30T19:27:45.239Z"
   },
   {
    "duration": 607989,
    "start_time": "2022-10-30T19:27:45.285Z"
   },
   {
    "duration": 86,
    "start_time": "2022-10-30T19:37:53.276Z"
   },
   {
    "duration": 8214,
    "start_time": "2022-10-30T19:39:54.816Z"
   },
   {
    "duration": 242,
    "start_time": "2022-10-30T19:40:03.032Z"
   },
   {
    "duration": 4,
    "start_time": "2022-10-30T19:40:03.276Z"
   },
   {
    "duration": 23,
    "start_time": "2022-10-30T19:40:09.594Z"
   },
   {
    "duration": 7,
    "start_time": "2022-10-30T19:40:13.808Z"
   },
   {
    "duration": 12,
    "start_time": "2022-10-30T19:41:27.409Z"
   },
   {
    "duration": 1164,
    "start_time": "2022-10-30T19:41:30.614Z"
   },
   {
    "duration": 24,
    "start_time": "2022-10-30T19:41:47.940Z"
   },
   {
    "duration": 180,
    "start_time": "2022-10-30T19:42:06.222Z"
   },
   {
    "duration": 205,
    "start_time": "2022-10-30T19:42:43.761Z"
   },
   {
    "duration": 251,
    "start_time": "2022-10-30T19:43:02.380Z"
   },
   {
    "duration": 4,
    "start_time": "2022-10-30T19:44:35.184Z"
   },
   {
    "duration": 5,
    "start_time": "2022-10-30T19:45:06.496Z"
   },
   {
    "duration": 4,
    "start_time": "2022-10-30T19:45:11.258Z"
   },
   {
    "duration": 22,
    "start_time": "2022-10-30T19:45:56.587Z"
   },
   {
    "duration": 346,
    "start_time": "2022-10-30T19:46:15.797Z"
   },
   {
    "duration": 422,
    "start_time": "2022-10-30T19:47:00.655Z"
   },
   {
    "duration": 419,
    "start_time": "2022-10-30T19:47:34.219Z"
   },
   {
    "duration": 692,
    "start_time": "2022-10-30T19:48:09.921Z"
   },
   {
    "duration": 610,
    "start_time": "2022-10-30T19:48:19.539Z"
   },
   {
    "duration": 8234,
    "start_time": "2022-10-30T19:51:47.547Z"
   },
   {
    "duration": 229,
    "start_time": "2022-10-30T19:51:55.783Z"
   },
   {
    "duration": 8,
    "start_time": "2022-10-30T19:51:56.014Z"
   },
   {
    "duration": 33,
    "start_time": "2022-10-30T19:51:56.025Z"
   },
   {
    "duration": 8,
    "start_time": "2022-10-30T19:51:56.060Z"
   },
   {
    "duration": 20,
    "start_time": "2022-10-30T19:51:56.070Z"
   },
   {
    "duration": 43,
    "start_time": "2022-10-30T19:51:56.092Z"
   },
   {
    "duration": 67,
    "start_time": "2022-10-30T19:52:18.633Z"
   },
   {
    "duration": 18,
    "start_time": "2022-10-30T19:52:22.383Z"
   },
   {
    "duration": 364,
    "start_time": "2022-10-30T19:52:31.722Z"
   },
   {
    "duration": 9,
    "start_time": "2022-10-30T19:54:28.256Z"
   },
   {
    "duration": 11,
    "start_time": "2022-10-30T19:56:13.942Z"
   },
   {
    "duration": 1168,
    "start_time": "2022-10-30T19:57:08.472Z"
   },
   {
    "duration": 376,
    "start_time": "2022-10-30T19:59:00.813Z"
   },
   {
    "duration": 342,
    "start_time": "2022-10-30T19:59:18.823Z"
   },
   {
    "duration": 11,
    "start_time": "2022-10-30T19:59:27.570Z"
   },
   {
    "duration": 413,
    "start_time": "2022-10-30T20:00:05.971Z"
   },
   {
    "duration": 8,
    "start_time": "2022-10-30T20:00:10.847Z"
   },
   {
    "duration": 76,
    "start_time": "2022-10-30T20:00:13.379Z"
   },
   {
    "duration": 49,
    "start_time": "2022-12-22T22:34:57.653Z"
   }
  ],
  "kernelspec": {
   "display_name": "Python 3 (ipykernel)",
   "language": "python",
   "name": "python3"
  },
  "language_info": {
   "codemirror_mode": {
    "name": "ipython",
    "version": 3
   },
   "file_extension": ".py",
   "mimetype": "text/x-python",
   "name": "python",
   "nbconvert_exporter": "python",
   "pygments_lexer": "ipython3",
   "version": "3.9.13"
  },
  "toc": {
   "base_numbering": 1,
   "nav_menu": {},
   "number_sections": true,
   "sideBar": true,
   "skip_h1_title": true,
   "title_cell": "Содержание",
   "title_sidebar": "Contents",
   "toc_cell": true,
   "toc_position": {
    "height": "calc(100% - 180px)",
    "left": "10px",
    "top": "150px",
    "width": "165px"
   },
   "toc_section_display": true,
   "toc_window_display": true
  }
 },
 "nbformat": 4,
 "nbformat_minor": 2
}
