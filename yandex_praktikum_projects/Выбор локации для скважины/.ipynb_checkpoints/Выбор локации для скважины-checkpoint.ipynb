{
 "cells": [
  {
   "cell_type": "markdown",
   "metadata": {},
   "source": [
    "# Выбор локации для скважины"
   ]
  },
  {
   "cell_type": "markdown",
   "metadata": {},
   "source": [
    "Допустим, вы работаете в добывающей компании «ГлавРосГосНефть». Нужно решить, где бурить новую скважину.\n",
    "\n",
    "Вам предоставлены пробы нефти в трёх регионах: в каждом 10 000 месторождений, где измерили качество нефти и объём её запасов. Постройте модель машинного обучения, которая поможет определить регион, где добыча принесёт наибольшую прибыль. Проанализируйте возможную прибыль и риски техникой *Bootstrap.*\n",
    "\n",
    "Шаги для выбора локации:\n",
    "\n",
    "- В избранном регионе ищут месторождения, для каждого определяют значения признаков;\n",
    "- Строят модель и оценивают объём запасов;\n",
    "- Выбирают месторождения с самым высокими оценками значений. Количество месторождений зависит от бюджета компании и стоимости разработки одной скважины;\n",
    "- Прибыль равна суммарной прибыли отобранных месторождений."
   ]
  },
  {
   "cell_type": "markdown",
   "metadata": {},
   "source": [
    "## Загрузка и подготовка данных"
   ]
  },
  {
   "cell_type": "code",
   "execution_count": 1,
   "metadata": {},
   "outputs": [],
   "source": [
    "import pandas as pd\n",
    "import numpy as np\n",
    "import scipy.stats as st\n",
    "\n",
    "from sklearn.linear_model import LinearRegression as LR\n",
    "from sklearn.metrics import mean_squared_error as mse, mean_absolute_error as mae, r2_score\n",
    "from sklearn.model_selection import train_test_split as t_t_s\n",
    "from sklearn.preprocessing import MinMaxScaler as mmscaler\n",
    "\n",
    "import matplotlib.pyplot as plt\n",
    "import seaborn as sns\n",
    "\n",
    "import warnings\n",
    "warnings.filterwarnings(\"ignore\")\n",
    "\n",
    "s =  np.random.RandomState(100800)"
   ]
  },
  {
   "cell_type": "code",
   "execution_count": 2,
   "metadata": {},
   "outputs": [],
   "source": [
    "try:\n",
    "    geo1 = pd.read_csv('/datasets/geo_data_0.csv')\n",
    "    geo2 = pd.read_csv('/datasets/geo_data_1.csv')\n",
    "    geo3 = pd.read_csv('/datasets/geo_data_2.csv')\n",
    "    \n",
    "except:\n",
    "    geo1 = pd.read_csv('geo_data_0.csv')\n",
    "    geo2 = pd.read_csv('geo_data_1.csv')\n",
    "    geo3 = pd.read_csv('geo_data_2.csv')"
   ]
  },
  {
   "cell_type": "code",
   "execution_count": 3,
   "metadata": {},
   "outputs": [],
   "source": [
    "geos=[geo1,geo2,geo3] #список всех датасетов, чтобы можно было быстро по нему переберать."
   ]
  },
  {
   "cell_type": "code",
   "execution_count": 4,
   "metadata": {},
   "outputs": [
    {
     "name": "stdout",
     "output_type": "stream",
     "text": [
      "<class 'pandas.core.frame.DataFrame'>\n",
      "RangeIndex: 100000 entries, 0 to 99999\n",
      "Data columns (total 5 columns):\n",
      " #   Column   Non-Null Count   Dtype  \n",
      "---  ------   --------------   -----  \n",
      " 0   id       100000 non-null  object \n",
      " 1   f0       100000 non-null  float64\n",
      " 2   f1       100000 non-null  float64\n",
      " 3   f2       100000 non-null  float64\n",
      " 4   product  100000 non-null  float64\n",
      "dtypes: float64(4), object(1)\n",
      "memory usage: 3.8+ MB\n"
     ]
    },
    {
     "data": {
      "text/html": [
       "<div>\n",
       "<style scoped>\n",
       "    .dataframe tbody tr th:only-of-type {\n",
       "        vertical-align: middle;\n",
       "    }\n",
       "\n",
       "    .dataframe tbody tr th {\n",
       "        vertical-align: top;\n",
       "    }\n",
       "\n",
       "    .dataframe thead th {\n",
       "        text-align: right;\n",
       "    }\n",
       "</style>\n",
       "<table border=\"1\" class=\"dataframe\">\n",
       "  <thead>\n",
       "    <tr style=\"text-align: right;\">\n",
       "      <th></th>\n",
       "      <th>f0</th>\n",
       "      <th>f1</th>\n",
       "      <th>f2</th>\n",
       "      <th>product</th>\n",
       "    </tr>\n",
       "  </thead>\n",
       "  <tbody>\n",
       "    <tr>\n",
       "      <th>count</th>\n",
       "      <td>100000.000000</td>\n",
       "      <td>100000.000000</td>\n",
       "      <td>100000.000000</td>\n",
       "      <td>100000.000000</td>\n",
       "    </tr>\n",
       "    <tr>\n",
       "      <th>mean</th>\n",
       "      <td>0.500419</td>\n",
       "      <td>0.250143</td>\n",
       "      <td>2.502647</td>\n",
       "      <td>92.500000</td>\n",
       "    </tr>\n",
       "    <tr>\n",
       "      <th>std</th>\n",
       "      <td>0.871832</td>\n",
       "      <td>0.504433</td>\n",
       "      <td>3.248248</td>\n",
       "      <td>44.288691</td>\n",
       "    </tr>\n",
       "    <tr>\n",
       "      <th>min</th>\n",
       "      <td>-1.408605</td>\n",
       "      <td>-0.848218</td>\n",
       "      <td>-12.088328</td>\n",
       "      <td>0.000000</td>\n",
       "    </tr>\n",
       "    <tr>\n",
       "      <th>25%</th>\n",
       "      <td>-0.072580</td>\n",
       "      <td>-0.200881</td>\n",
       "      <td>0.287748</td>\n",
       "      <td>56.497507</td>\n",
       "    </tr>\n",
       "    <tr>\n",
       "      <th>50%</th>\n",
       "      <td>0.502360</td>\n",
       "      <td>0.250252</td>\n",
       "      <td>2.515969</td>\n",
       "      <td>91.849972</td>\n",
       "    </tr>\n",
       "    <tr>\n",
       "      <th>75%</th>\n",
       "      <td>1.073581</td>\n",
       "      <td>0.700646</td>\n",
       "      <td>4.715088</td>\n",
       "      <td>128.564089</td>\n",
       "    </tr>\n",
       "    <tr>\n",
       "      <th>max</th>\n",
       "      <td>2.362331</td>\n",
       "      <td>1.343769</td>\n",
       "      <td>16.003790</td>\n",
       "      <td>185.364347</td>\n",
       "    </tr>\n",
       "  </tbody>\n",
       "</table>\n",
       "</div>"
      ],
      "text/plain": [
       "                  f0             f1             f2        product\n",
       "count  100000.000000  100000.000000  100000.000000  100000.000000\n",
       "mean        0.500419       0.250143       2.502647      92.500000\n",
       "std         0.871832       0.504433       3.248248      44.288691\n",
       "min        -1.408605      -0.848218     -12.088328       0.000000\n",
       "25%        -0.072580      -0.200881       0.287748      56.497507\n",
       "50%         0.502360       0.250252       2.515969      91.849972\n",
       "75%         1.073581       0.700646       4.715088     128.564089\n",
       "max         2.362331       1.343769      16.003790     185.364347"
      ]
     },
     "metadata": {},
     "output_type": "display_data"
    },
    {
     "data": {
      "text/html": [
       "<div>\n",
       "<style scoped>\n",
       "    .dataframe tbody tr th:only-of-type {\n",
       "        vertical-align: middle;\n",
       "    }\n",
       "\n",
       "    .dataframe tbody tr th {\n",
       "        vertical-align: top;\n",
       "    }\n",
       "\n",
       "    .dataframe thead th {\n",
       "        text-align: right;\n",
       "    }\n",
       "</style>\n",
       "<table border=\"1\" class=\"dataframe\">\n",
       "  <thead>\n",
       "    <tr style=\"text-align: right;\">\n",
       "      <th></th>\n",
       "      <th>id</th>\n",
       "      <th>f0</th>\n",
       "      <th>f1</th>\n",
       "      <th>f2</th>\n",
       "      <th>product</th>\n",
       "    </tr>\n",
       "  </thead>\n",
       "  <tbody>\n",
       "    <tr>\n",
       "      <th>62462</th>\n",
       "      <td>DiDbx</td>\n",
       "      <td>2.120964</td>\n",
       "      <td>0.290699</td>\n",
       "      <td>2.34387</td>\n",
       "      <td>74.463369</td>\n",
       "    </tr>\n",
       "    <tr>\n",
       "      <th>2158</th>\n",
       "      <td>Mksyt</td>\n",
       "      <td>1.947419</td>\n",
       "      <td>0.341336</td>\n",
       "      <td>-2.49173</td>\n",
       "      <td>142.269518</td>\n",
       "    </tr>\n",
       "  </tbody>\n",
       "</table>\n",
       "</div>"
      ],
      "text/plain": [
       "          id        f0        f1       f2     product\n",
       "62462  DiDbx  2.120964  0.290699  2.34387   74.463369\n",
       "2158   Mksyt  1.947419  0.341336 -2.49173  142.269518"
      ]
     },
     "metadata": {},
     "output_type": "display_data"
    },
    {
     "name": "stdout",
     "output_type": "stream",
     "text": [
      "<class 'pandas.core.frame.DataFrame'>\n",
      "RangeIndex: 100000 entries, 0 to 99999\n",
      "Data columns (total 5 columns):\n",
      " #   Column   Non-Null Count   Dtype  \n",
      "---  ------   --------------   -----  \n",
      " 0   id       100000 non-null  object \n",
      " 1   f0       100000 non-null  float64\n",
      " 2   f1       100000 non-null  float64\n",
      " 3   f2       100000 non-null  float64\n",
      " 4   product  100000 non-null  float64\n",
      "dtypes: float64(4), object(1)\n",
      "memory usage: 3.8+ MB\n"
     ]
    },
    {
     "data": {
      "text/html": [
       "<div>\n",
       "<style scoped>\n",
       "    .dataframe tbody tr th:only-of-type {\n",
       "        vertical-align: middle;\n",
       "    }\n",
       "\n",
       "    .dataframe tbody tr th {\n",
       "        vertical-align: top;\n",
       "    }\n",
       "\n",
       "    .dataframe thead th {\n",
       "        text-align: right;\n",
       "    }\n",
       "</style>\n",
       "<table border=\"1\" class=\"dataframe\">\n",
       "  <thead>\n",
       "    <tr style=\"text-align: right;\">\n",
       "      <th></th>\n",
       "      <th>f0</th>\n",
       "      <th>f1</th>\n",
       "      <th>f2</th>\n",
       "      <th>product</th>\n",
       "    </tr>\n",
       "  </thead>\n",
       "  <tbody>\n",
       "    <tr>\n",
       "      <th>count</th>\n",
       "      <td>100000.000000</td>\n",
       "      <td>100000.000000</td>\n",
       "      <td>100000.000000</td>\n",
       "      <td>100000.000000</td>\n",
       "    </tr>\n",
       "    <tr>\n",
       "      <th>mean</th>\n",
       "      <td>1.141296</td>\n",
       "      <td>-4.796579</td>\n",
       "      <td>2.494541</td>\n",
       "      <td>68.825000</td>\n",
       "    </tr>\n",
       "    <tr>\n",
       "      <th>std</th>\n",
       "      <td>8.965932</td>\n",
       "      <td>5.119872</td>\n",
       "      <td>1.703572</td>\n",
       "      <td>45.944423</td>\n",
       "    </tr>\n",
       "    <tr>\n",
       "      <th>min</th>\n",
       "      <td>-31.609576</td>\n",
       "      <td>-26.358598</td>\n",
       "      <td>-0.018144</td>\n",
       "      <td>0.000000</td>\n",
       "    </tr>\n",
       "    <tr>\n",
       "      <th>25%</th>\n",
       "      <td>-6.298551</td>\n",
       "      <td>-8.267985</td>\n",
       "      <td>1.000021</td>\n",
       "      <td>26.953261</td>\n",
       "    </tr>\n",
       "    <tr>\n",
       "      <th>50%</th>\n",
       "      <td>1.153055</td>\n",
       "      <td>-4.813172</td>\n",
       "      <td>2.011479</td>\n",
       "      <td>57.085625</td>\n",
       "    </tr>\n",
       "    <tr>\n",
       "      <th>75%</th>\n",
       "      <td>8.621015</td>\n",
       "      <td>-1.332816</td>\n",
       "      <td>3.999904</td>\n",
       "      <td>107.813044</td>\n",
       "    </tr>\n",
       "    <tr>\n",
       "      <th>max</th>\n",
       "      <td>29.421755</td>\n",
       "      <td>18.734063</td>\n",
       "      <td>5.019721</td>\n",
       "      <td>137.945408</td>\n",
       "    </tr>\n",
       "  </tbody>\n",
       "</table>\n",
       "</div>"
      ],
      "text/plain": [
       "                  f0             f1             f2        product\n",
       "count  100000.000000  100000.000000  100000.000000  100000.000000\n",
       "mean        1.141296      -4.796579       2.494541      68.825000\n",
       "std         8.965932       5.119872       1.703572      45.944423\n",
       "min       -31.609576     -26.358598      -0.018144       0.000000\n",
       "25%        -6.298551      -8.267985       1.000021      26.953261\n",
       "50%         1.153055      -4.813172       2.011479      57.085625\n",
       "75%         8.621015      -1.332816       3.999904     107.813044\n",
       "max        29.421755      18.734063       5.019721     137.945408"
      ]
     },
     "metadata": {},
     "output_type": "display_data"
    },
    {
     "data": {
      "text/html": [
       "<div>\n",
       "<style scoped>\n",
       "    .dataframe tbody tr th:only-of-type {\n",
       "        vertical-align: middle;\n",
       "    }\n",
       "\n",
       "    .dataframe tbody tr th {\n",
       "        vertical-align: top;\n",
       "    }\n",
       "\n",
       "    .dataframe thead th {\n",
       "        text-align: right;\n",
       "    }\n",
       "</style>\n",
       "<table border=\"1\" class=\"dataframe\">\n",
       "  <thead>\n",
       "    <tr style=\"text-align: right;\">\n",
       "      <th></th>\n",
       "      <th>id</th>\n",
       "      <th>f0</th>\n",
       "      <th>f1</th>\n",
       "      <th>f2</th>\n",
       "      <th>product</th>\n",
       "    </tr>\n",
       "  </thead>\n",
       "  <tbody>\n",
       "    <tr>\n",
       "      <th>77152</th>\n",
       "      <td>YTNA4</td>\n",
       "      <td>-2.262850</td>\n",
       "      <td>-5.709918</td>\n",
       "      <td>5.000140</td>\n",
       "      <td>137.945408</td>\n",
       "    </tr>\n",
       "    <tr>\n",
       "      <th>42428</th>\n",
       "      <td>KZN9o</td>\n",
       "      <td>-5.658401</td>\n",
       "      <td>-4.357201</td>\n",
       "      <td>1.007771</td>\n",
       "      <td>30.132364</td>\n",
       "    </tr>\n",
       "  </tbody>\n",
       "</table>\n",
       "</div>"
      ],
      "text/plain": [
       "          id        f0        f1        f2     product\n",
       "77152  YTNA4 -2.262850 -5.709918  5.000140  137.945408\n",
       "42428  KZN9o -5.658401 -4.357201  1.007771   30.132364"
      ]
     },
     "metadata": {},
     "output_type": "display_data"
    },
    {
     "name": "stdout",
     "output_type": "stream",
     "text": [
      "<class 'pandas.core.frame.DataFrame'>\n",
      "RangeIndex: 100000 entries, 0 to 99999\n",
      "Data columns (total 5 columns):\n",
      " #   Column   Non-Null Count   Dtype  \n",
      "---  ------   --------------   -----  \n",
      " 0   id       100000 non-null  object \n",
      " 1   f0       100000 non-null  float64\n",
      " 2   f1       100000 non-null  float64\n",
      " 3   f2       100000 non-null  float64\n",
      " 4   product  100000 non-null  float64\n",
      "dtypes: float64(4), object(1)\n",
      "memory usage: 3.8+ MB\n"
     ]
    },
    {
     "data": {
      "text/html": [
       "<div>\n",
       "<style scoped>\n",
       "    .dataframe tbody tr th:only-of-type {\n",
       "        vertical-align: middle;\n",
       "    }\n",
       "\n",
       "    .dataframe tbody tr th {\n",
       "        vertical-align: top;\n",
       "    }\n",
       "\n",
       "    .dataframe thead th {\n",
       "        text-align: right;\n",
       "    }\n",
       "</style>\n",
       "<table border=\"1\" class=\"dataframe\">\n",
       "  <thead>\n",
       "    <tr style=\"text-align: right;\">\n",
       "      <th></th>\n",
       "      <th>f0</th>\n",
       "      <th>f1</th>\n",
       "      <th>f2</th>\n",
       "      <th>product</th>\n",
       "    </tr>\n",
       "  </thead>\n",
       "  <tbody>\n",
       "    <tr>\n",
       "      <th>count</th>\n",
       "      <td>100000.000000</td>\n",
       "      <td>100000.000000</td>\n",
       "      <td>100000.000000</td>\n",
       "      <td>100000.000000</td>\n",
       "    </tr>\n",
       "    <tr>\n",
       "      <th>mean</th>\n",
       "      <td>0.002023</td>\n",
       "      <td>-0.002081</td>\n",
       "      <td>2.495128</td>\n",
       "      <td>95.000000</td>\n",
       "    </tr>\n",
       "    <tr>\n",
       "      <th>std</th>\n",
       "      <td>1.732045</td>\n",
       "      <td>1.730417</td>\n",
       "      <td>3.473445</td>\n",
       "      <td>44.749921</td>\n",
       "    </tr>\n",
       "    <tr>\n",
       "      <th>min</th>\n",
       "      <td>-8.760004</td>\n",
       "      <td>-7.084020</td>\n",
       "      <td>-11.970335</td>\n",
       "      <td>0.000000</td>\n",
       "    </tr>\n",
       "    <tr>\n",
       "      <th>25%</th>\n",
       "      <td>-1.162288</td>\n",
       "      <td>-1.174820</td>\n",
       "      <td>0.130359</td>\n",
       "      <td>59.450441</td>\n",
       "    </tr>\n",
       "    <tr>\n",
       "      <th>50%</th>\n",
       "      <td>0.009424</td>\n",
       "      <td>-0.009482</td>\n",
       "      <td>2.484236</td>\n",
       "      <td>94.925613</td>\n",
       "    </tr>\n",
       "    <tr>\n",
       "      <th>75%</th>\n",
       "      <td>1.158535</td>\n",
       "      <td>1.163678</td>\n",
       "      <td>4.858794</td>\n",
       "      <td>130.595027</td>\n",
       "    </tr>\n",
       "    <tr>\n",
       "      <th>max</th>\n",
       "      <td>7.238262</td>\n",
       "      <td>7.844801</td>\n",
       "      <td>16.739402</td>\n",
       "      <td>190.029838</td>\n",
       "    </tr>\n",
       "  </tbody>\n",
       "</table>\n",
       "</div>"
      ],
      "text/plain": [
       "                  f0             f1             f2        product\n",
       "count  100000.000000  100000.000000  100000.000000  100000.000000\n",
       "mean        0.002023      -0.002081       2.495128      95.000000\n",
       "std         1.732045       1.730417       3.473445      44.749921\n",
       "min        -8.760004      -7.084020     -11.970335       0.000000\n",
       "25%        -1.162288      -1.174820       0.130359      59.450441\n",
       "50%         0.009424      -0.009482       2.484236      94.925613\n",
       "75%         1.158535       1.163678       4.858794     130.595027\n",
       "max         7.238262       7.844801      16.739402     190.029838"
      ]
     },
     "metadata": {},
     "output_type": "display_data"
    },
    {
     "data": {
      "text/html": [
       "<div>\n",
       "<style scoped>\n",
       "    .dataframe tbody tr th:only-of-type {\n",
       "        vertical-align: middle;\n",
       "    }\n",
       "\n",
       "    .dataframe tbody tr th {\n",
       "        vertical-align: top;\n",
       "    }\n",
       "\n",
       "    .dataframe thead th {\n",
       "        text-align: right;\n",
       "    }\n",
       "</style>\n",
       "<table border=\"1\" class=\"dataframe\">\n",
       "  <thead>\n",
       "    <tr style=\"text-align: right;\">\n",
       "      <th></th>\n",
       "      <th>id</th>\n",
       "      <th>f0</th>\n",
       "      <th>f1</th>\n",
       "      <th>f2</th>\n",
       "      <th>product</th>\n",
       "    </tr>\n",
       "  </thead>\n",
       "  <tbody>\n",
       "    <tr>\n",
       "      <th>36602</th>\n",
       "      <td>eytwa</td>\n",
       "      <td>-0.340962</td>\n",
       "      <td>0.525188</td>\n",
       "      <td>2.559149</td>\n",
       "      <td>26.791476</td>\n",
       "    </tr>\n",
       "    <tr>\n",
       "      <th>26864</th>\n",
       "      <td>XvcED</td>\n",
       "      <td>0.118191</td>\n",
       "      <td>-1.627444</td>\n",
       "      <td>-0.998301</td>\n",
       "      <td>78.211739</td>\n",
       "    </tr>\n",
       "  </tbody>\n",
       "</table>\n",
       "</div>"
      ],
      "text/plain": [
       "          id        f0        f1        f2    product\n",
       "36602  eytwa -0.340962  0.525188  2.559149  26.791476\n",
       "26864  XvcED  0.118191 -1.627444 -0.998301  78.211739"
      ]
     },
     "metadata": {},
     "output_type": "display_data"
    }
   ],
   "source": [
    "for geo in geos:\n",
    "    geo.info()\n",
    "    display(geo.describe())\n",
    "    display(geo.sample(2))"
   ]
  },
  {
   "cell_type": "markdown",
   "metadata": {},
   "source": [
    "По describe не вижу каких-либо аномалий, тем более, что мы не знаем что означают параметры f0-f2.\n",
    "- Нулевых значений нет, посмотрим на дубликаты."
   ]
  },
  {
   "cell_type": "code",
   "execution_count": 5,
   "metadata": {},
   "outputs": [
    {
     "name": "stdout",
     "output_type": "stream",
     "text": [
      "0\n",
      "0\n",
      "0\n"
     ]
    }
   ],
   "source": [
    "for geo in geos:\n",
    "    print(geo.duplicated().sum())"
   ]
  },
  {
   "cell_type": "markdown",
   "metadata": {},
   "source": [
    "Во всех трёт таблицах нет чистых явный дубликатов, на всякий случай сверю по графе ID."
   ]
  },
  {
   "cell_type": "code",
   "execution_count": 6,
   "metadata": {},
   "outputs": [
    {
     "name": "stdout",
     "output_type": "stream",
     "text": [
      "Количество дубликатов: 10\n"
     ]
    },
    {
     "data": {
      "text/html": [
       "<div>\n",
       "<style scoped>\n",
       "    .dataframe tbody tr th:only-of-type {\n",
       "        vertical-align: middle;\n",
       "    }\n",
       "\n",
       "    .dataframe tbody tr th {\n",
       "        vertical-align: top;\n",
       "    }\n",
       "\n",
       "    .dataframe thead th {\n",
       "        text-align: right;\n",
       "    }\n",
       "</style>\n",
       "<table border=\"1\" class=\"dataframe\">\n",
       "  <thead>\n",
       "    <tr style=\"text-align: right;\">\n",
       "      <th></th>\n",
       "      <th>id</th>\n",
       "      <th>f0</th>\n",
       "      <th>f1</th>\n",
       "      <th>f2</th>\n",
       "      <th>product</th>\n",
       "    </tr>\n",
       "  </thead>\n",
       "  <tbody>\n",
       "    <tr>\n",
       "      <th>66136</th>\n",
       "      <td>74z30</td>\n",
       "      <td>1.084962</td>\n",
       "      <td>-0.312358</td>\n",
       "      <td>6.990771</td>\n",
       "      <td>127.643327</td>\n",
       "    </tr>\n",
       "    <tr>\n",
       "      <th>64022</th>\n",
       "      <td>74z30</td>\n",
       "      <td>0.741456</td>\n",
       "      <td>0.459229</td>\n",
       "      <td>5.153109</td>\n",
       "      <td>140.771492</td>\n",
       "    </tr>\n",
       "    <tr>\n",
       "      <th>51970</th>\n",
       "      <td>A5aEY</td>\n",
       "      <td>-0.180335</td>\n",
       "      <td>0.935548</td>\n",
       "      <td>-2.094773</td>\n",
       "      <td>33.020205</td>\n",
       "    </tr>\n",
       "    <tr>\n",
       "      <th>3389</th>\n",
       "      <td>A5aEY</td>\n",
       "      <td>-0.039949</td>\n",
       "      <td>0.156872</td>\n",
       "      <td>0.209861</td>\n",
       "      <td>89.249364</td>\n",
       "    </tr>\n",
       "    <tr>\n",
       "      <th>69163</th>\n",
       "      <td>AGS9W</td>\n",
       "      <td>-0.933795</td>\n",
       "      <td>0.116194</td>\n",
       "      <td>-3.655896</td>\n",
       "      <td>19.230453</td>\n",
       "    </tr>\n",
       "    <tr>\n",
       "      <th>42529</th>\n",
       "      <td>AGS9W</td>\n",
       "      <td>1.454747</td>\n",
       "      <td>-0.479651</td>\n",
       "      <td>0.683380</td>\n",
       "      <td>126.370504</td>\n",
       "    </tr>\n",
       "    <tr>\n",
       "      <th>931</th>\n",
       "      <td>HZww2</td>\n",
       "      <td>0.755284</td>\n",
       "      <td>0.368511</td>\n",
       "      <td>1.863211</td>\n",
       "      <td>30.681774</td>\n",
       "    </tr>\n",
       "    <tr>\n",
       "      <th>7530</th>\n",
       "      <td>HZww2</td>\n",
       "      <td>1.061194</td>\n",
       "      <td>-0.373969</td>\n",
       "      <td>10.430210</td>\n",
       "      <td>158.828695</td>\n",
       "    </tr>\n",
       "    <tr>\n",
       "      <th>63593</th>\n",
       "      <td>QcMuo</td>\n",
       "      <td>0.635635</td>\n",
       "      <td>-0.473422</td>\n",
       "      <td>0.862670</td>\n",
       "      <td>64.578675</td>\n",
       "    </tr>\n",
       "    <tr>\n",
       "      <th>1949</th>\n",
       "      <td>QcMuo</td>\n",
       "      <td>0.506563</td>\n",
       "      <td>-0.323775</td>\n",
       "      <td>-2.215583</td>\n",
       "      <td>75.496502</td>\n",
       "    </tr>\n",
       "    <tr>\n",
       "      <th>75715</th>\n",
       "      <td>Tdehs</td>\n",
       "      <td>0.112079</td>\n",
       "      <td>0.430296</td>\n",
       "      <td>3.218993</td>\n",
       "      <td>60.964018</td>\n",
       "    </tr>\n",
       "    <tr>\n",
       "      <th>21426</th>\n",
       "      <td>Tdehs</td>\n",
       "      <td>0.829407</td>\n",
       "      <td>0.298807</td>\n",
       "      <td>-0.049563</td>\n",
       "      <td>96.035308</td>\n",
       "    </tr>\n",
       "    <tr>\n",
       "      <th>92341</th>\n",
       "      <td>TtcGQ</td>\n",
       "      <td>0.110711</td>\n",
       "      <td>1.022689</td>\n",
       "      <td>0.911381</td>\n",
       "      <td>101.318008</td>\n",
       "    </tr>\n",
       "    <tr>\n",
       "      <th>60140</th>\n",
       "      <td>TtcGQ</td>\n",
       "      <td>0.569276</td>\n",
       "      <td>-0.104876</td>\n",
       "      <td>6.440215</td>\n",
       "      <td>85.350186</td>\n",
       "    </tr>\n",
       "    <tr>\n",
       "      <th>89582</th>\n",
       "      <td>bsk9y</td>\n",
       "      <td>0.398908</td>\n",
       "      <td>-0.400253</td>\n",
       "      <td>10.122376</td>\n",
       "      <td>163.433078</td>\n",
       "    </tr>\n",
       "    <tr>\n",
       "      <th>97785</th>\n",
       "      <td>bsk9y</td>\n",
       "      <td>0.378429</td>\n",
       "      <td>0.005837</td>\n",
       "      <td>0.160827</td>\n",
       "      <td>160.637302</td>\n",
       "    </tr>\n",
       "    <tr>\n",
       "      <th>41724</th>\n",
       "      <td>bxg6G</td>\n",
       "      <td>-0.823752</td>\n",
       "      <td>0.546319</td>\n",
       "      <td>3.630479</td>\n",
       "      <td>93.007798</td>\n",
       "    </tr>\n",
       "    <tr>\n",
       "      <th>1364</th>\n",
       "      <td>bxg6G</td>\n",
       "      <td>0.411645</td>\n",
       "      <td>0.856830</td>\n",
       "      <td>-3.653440</td>\n",
       "      <td>73.604260</td>\n",
       "    </tr>\n",
       "    <tr>\n",
       "      <th>16633</th>\n",
       "      <td>fiKDv</td>\n",
       "      <td>0.157341</td>\n",
       "      <td>1.028359</td>\n",
       "      <td>5.585586</td>\n",
       "      <td>95.817889</td>\n",
       "    </tr>\n",
       "    <tr>\n",
       "      <th>90815</th>\n",
       "      <td>fiKDv</td>\n",
       "      <td>0.049883</td>\n",
       "      <td>0.841313</td>\n",
       "      <td>6.394613</td>\n",
       "      <td>137.346586</td>\n",
       "    </tr>\n",
       "  </tbody>\n",
       "</table>\n",
       "</div>"
      ],
      "text/plain": [
       "          id        f0        f1         f2     product\n",
       "66136  74z30  1.084962 -0.312358   6.990771  127.643327\n",
       "64022  74z30  0.741456  0.459229   5.153109  140.771492\n",
       "51970  A5aEY -0.180335  0.935548  -2.094773   33.020205\n",
       "3389   A5aEY -0.039949  0.156872   0.209861   89.249364\n",
       "69163  AGS9W -0.933795  0.116194  -3.655896   19.230453\n",
       "42529  AGS9W  1.454747 -0.479651   0.683380  126.370504\n",
       "931    HZww2  0.755284  0.368511   1.863211   30.681774\n",
       "7530   HZww2  1.061194 -0.373969  10.430210  158.828695\n",
       "63593  QcMuo  0.635635 -0.473422   0.862670   64.578675\n",
       "1949   QcMuo  0.506563 -0.323775  -2.215583   75.496502\n",
       "75715  Tdehs  0.112079  0.430296   3.218993   60.964018\n",
       "21426  Tdehs  0.829407  0.298807  -0.049563   96.035308\n",
       "92341  TtcGQ  0.110711  1.022689   0.911381  101.318008\n",
       "60140  TtcGQ  0.569276 -0.104876   6.440215   85.350186\n",
       "89582  bsk9y  0.398908 -0.400253  10.122376  163.433078\n",
       "97785  bsk9y  0.378429  0.005837   0.160827  160.637302\n",
       "41724  bxg6G -0.823752  0.546319   3.630479   93.007798\n",
       "1364   bxg6G  0.411645  0.856830  -3.653440   73.604260\n",
       "16633  fiKDv  0.157341  1.028359   5.585586   95.817889\n",
       "90815  fiKDv  0.049883  0.841313   6.394613  137.346586"
      ]
     },
     "metadata": {},
     "output_type": "display_data"
    },
    {
     "name": "stdout",
     "output_type": "stream",
     "text": [
      "Количество дубликатов: 4\n"
     ]
    },
    {
     "data": {
      "text/html": [
       "<div>\n",
       "<style scoped>\n",
       "    .dataframe tbody tr th:only-of-type {\n",
       "        vertical-align: middle;\n",
       "    }\n",
       "\n",
       "    .dataframe tbody tr th {\n",
       "        vertical-align: top;\n",
       "    }\n",
       "\n",
       "    .dataframe thead th {\n",
       "        text-align: right;\n",
       "    }\n",
       "</style>\n",
       "<table border=\"1\" class=\"dataframe\">\n",
       "  <thead>\n",
       "    <tr style=\"text-align: right;\">\n",
       "      <th></th>\n",
       "      <th>id</th>\n",
       "      <th>f0</th>\n",
       "      <th>f1</th>\n",
       "      <th>f2</th>\n",
       "      <th>product</th>\n",
       "    </tr>\n",
       "  </thead>\n",
       "  <tbody>\n",
       "    <tr>\n",
       "      <th>5849</th>\n",
       "      <td>5ltQ6</td>\n",
       "      <td>-3.435401</td>\n",
       "      <td>-12.296043</td>\n",
       "      <td>1.999796</td>\n",
       "      <td>57.085625</td>\n",
       "    </tr>\n",
       "    <tr>\n",
       "      <th>84461</th>\n",
       "      <td>5ltQ6</td>\n",
       "      <td>18.213839</td>\n",
       "      <td>2.191999</td>\n",
       "      <td>3.993869</td>\n",
       "      <td>107.813044</td>\n",
       "    </tr>\n",
       "    <tr>\n",
       "      <th>1305</th>\n",
       "      <td>LHZR0</td>\n",
       "      <td>11.170835</td>\n",
       "      <td>-1.945066</td>\n",
       "      <td>3.002872</td>\n",
       "      <td>80.859783</td>\n",
       "    </tr>\n",
       "    <tr>\n",
       "      <th>41906</th>\n",
       "      <td>LHZR0</td>\n",
       "      <td>-8.989672</td>\n",
       "      <td>-4.286607</td>\n",
       "      <td>2.009139</td>\n",
       "      <td>57.085625</td>\n",
       "    </tr>\n",
       "    <tr>\n",
       "      <th>2721</th>\n",
       "      <td>bfPNe</td>\n",
       "      <td>-9.494442</td>\n",
       "      <td>-5.463692</td>\n",
       "      <td>4.006042</td>\n",
       "      <td>110.992147</td>\n",
       "    </tr>\n",
       "    <tr>\n",
       "      <th>82178</th>\n",
       "      <td>bfPNe</td>\n",
       "      <td>-6.202799</td>\n",
       "      <td>-4.820045</td>\n",
       "      <td>2.995107</td>\n",
       "      <td>84.038886</td>\n",
       "    </tr>\n",
       "    <tr>\n",
       "      <th>47591</th>\n",
       "      <td>wt4Uk</td>\n",
       "      <td>-9.091098</td>\n",
       "      <td>-8.109279</td>\n",
       "      <td>-0.002314</td>\n",
       "      <td>3.179103</td>\n",
       "    </tr>\n",
       "    <tr>\n",
       "      <th>82873</th>\n",
       "      <td>wt4Uk</td>\n",
       "      <td>10.259972</td>\n",
       "      <td>-9.376355</td>\n",
       "      <td>4.994297</td>\n",
       "      <td>134.766305</td>\n",
       "    </tr>\n",
       "  </tbody>\n",
       "</table>\n",
       "</div>"
      ],
      "text/plain": [
       "          id         f0         f1        f2     product\n",
       "5849   5ltQ6  -3.435401 -12.296043  1.999796   57.085625\n",
       "84461  5ltQ6  18.213839   2.191999  3.993869  107.813044\n",
       "1305   LHZR0  11.170835  -1.945066  3.002872   80.859783\n",
       "41906  LHZR0  -8.989672  -4.286607  2.009139   57.085625\n",
       "2721   bfPNe  -9.494442  -5.463692  4.006042  110.992147\n",
       "82178  bfPNe  -6.202799  -4.820045  2.995107   84.038886\n",
       "47591  wt4Uk  -9.091098  -8.109279 -0.002314    3.179103\n",
       "82873  wt4Uk  10.259972  -9.376355  4.994297  134.766305"
      ]
     },
     "metadata": {},
     "output_type": "display_data"
    },
    {
     "name": "stdout",
     "output_type": "stream",
     "text": [
      "Количество дубликатов: 4\n"
     ]
    },
    {
     "data": {
      "text/html": [
       "<div>\n",
       "<style scoped>\n",
       "    .dataframe tbody tr th:only-of-type {\n",
       "        vertical-align: middle;\n",
       "    }\n",
       "\n",
       "    .dataframe tbody tr th {\n",
       "        vertical-align: top;\n",
       "    }\n",
       "\n",
       "    .dataframe thead th {\n",
       "        text-align: right;\n",
       "    }\n",
       "</style>\n",
       "<table border=\"1\" class=\"dataframe\">\n",
       "  <thead>\n",
       "    <tr style=\"text-align: right;\">\n",
       "      <th></th>\n",
       "      <th>id</th>\n",
       "      <th>f0</th>\n",
       "      <th>f1</th>\n",
       "      <th>f2</th>\n",
       "      <th>product</th>\n",
       "    </tr>\n",
       "  </thead>\n",
       "  <tbody>\n",
       "    <tr>\n",
       "      <th>45404</th>\n",
       "      <td>KUPhW</td>\n",
       "      <td>0.231846</td>\n",
       "      <td>-1.698941</td>\n",
       "      <td>4.990775</td>\n",
       "      <td>11.716299</td>\n",
       "    </tr>\n",
       "    <tr>\n",
       "      <th>55967</th>\n",
       "      <td>KUPhW</td>\n",
       "      <td>1.211150</td>\n",
       "      <td>3.176408</td>\n",
       "      <td>5.543540</td>\n",
       "      <td>132.831802</td>\n",
       "    </tr>\n",
       "    <tr>\n",
       "      <th>11449</th>\n",
       "      <td>VF7Jo</td>\n",
       "      <td>2.122656</td>\n",
       "      <td>-0.858275</td>\n",
       "      <td>5.746001</td>\n",
       "      <td>181.716817</td>\n",
       "    </tr>\n",
       "    <tr>\n",
       "      <th>49564</th>\n",
       "      <td>VF7Jo</td>\n",
       "      <td>-0.883115</td>\n",
       "      <td>0.560537</td>\n",
       "      <td>0.723601</td>\n",
       "      <td>136.233420</td>\n",
       "    </tr>\n",
       "    <tr>\n",
       "      <th>44378</th>\n",
       "      <td>Vcm5J</td>\n",
       "      <td>-1.229484</td>\n",
       "      <td>-2.439204</td>\n",
       "      <td>1.222909</td>\n",
       "      <td>137.968290</td>\n",
       "    </tr>\n",
       "    <tr>\n",
       "      <th>95090</th>\n",
       "      <td>Vcm5J</td>\n",
       "      <td>2.587702</td>\n",
       "      <td>1.986875</td>\n",
       "      <td>2.482245</td>\n",
       "      <td>92.327572</td>\n",
       "    </tr>\n",
       "    <tr>\n",
       "      <th>28039</th>\n",
       "      <td>xCHr8</td>\n",
       "      <td>1.633027</td>\n",
       "      <td>0.368135</td>\n",
       "      <td>-2.378367</td>\n",
       "      <td>6.120525</td>\n",
       "    </tr>\n",
       "    <tr>\n",
       "      <th>43233</th>\n",
       "      <td>xCHr8</td>\n",
       "      <td>-0.847066</td>\n",
       "      <td>2.101796</td>\n",
       "      <td>5.597130</td>\n",
       "      <td>184.388641</td>\n",
       "    </tr>\n",
       "  </tbody>\n",
       "</table>\n",
       "</div>"
      ],
      "text/plain": [
       "          id        f0        f1        f2     product\n",
       "45404  KUPhW  0.231846 -1.698941  4.990775   11.716299\n",
       "55967  KUPhW  1.211150  3.176408  5.543540  132.831802\n",
       "11449  VF7Jo  2.122656 -0.858275  5.746001  181.716817\n",
       "49564  VF7Jo -0.883115  0.560537  0.723601  136.233420\n",
       "44378  Vcm5J -1.229484 -2.439204  1.222909  137.968290\n",
       "95090  Vcm5J  2.587702  1.986875  2.482245   92.327572\n",
       "28039  xCHr8  1.633027  0.368135 -2.378367    6.120525\n",
       "43233  xCHr8 -0.847066  2.101796  5.597130  184.388641"
      ]
     },
     "metadata": {},
     "output_type": "display_data"
    }
   ],
   "source": [
    "for geo in geos:\n",
    "    '''Функция подсчитывает количество дубликатов и выводит их на экран.'''\n",
    "    print('Количество дубликатов:', geo['id'].duplicated().sum())\n",
    "    display(geo[geo['id'].duplicated(keep=False)].sort_values('id'))"
   ]
  },
  {
   "cell_type": "markdown",
   "metadata": {},
   "source": [
    "Присутсвует небольшое количество неявных дубликатов, причем все параметры, кроме id у них отличаются, поэтому не буду их трогать, чтобы модель могла на них учиться."
   ]
  },
  {
   "cell_type": "markdown",
   "metadata": {},
   "source": [
    "## Обучение и проверка модели"
   ]
  },
  {
   "cell_type": "markdown",
   "metadata": {},
   "source": [
    "Для обучения модели признак ID ничего не даёт, поэтому так же исключим его из признаков('features') для обучения, как и целевой признак"
   ]
  },
  {
   "cell_type": "code",
   "execution_count": 7,
   "metadata": {},
   "outputs": [],
   "source": [
    "def split(geo):\n",
    "    \n",
    "    '''Функция разбивает датасет на обучающую и валидационные выборки в пропорции 75/25\n",
    "    производит масштабирование\n",
    "    и выводит размер выборок для проверки'''\n",
    "    \n",
    "    f = geo.drop([\"product\",\"id\"], axis=1) #features\n",
    "    t = geo['product'] #target\n",
    "    \n",
    "    f_train, f_valid, t_train, t_valid = t_t_s(f, t, test_size=0.25, random_state=s)\n",
    "    \n",
    "    mms=mmscaler()\n",
    "    f_train = mms.fit_transform(f_train)\n",
    "    f_valid = mms.transform(f_valid)\n",
    "    \n",
    "    print(f_train.shape, f_valid.shape, t_train.shape, t_valid.shape)\n",
    "    \n",
    "    return f_train, f_valid, t_train, t_valid"
   ]
  },
  {
   "cell_type": "code",
   "execution_count": 8,
   "metadata": {},
   "outputs": [
    {
     "name": "stdout",
     "output_type": "stream",
     "text": [
      "(75000, 3) (25000, 3) (75000,) (25000,)\n",
      "(75000, 3) (25000, 3) (75000,) (25000,)\n",
      "(75000, 3) (25000, 3) (75000,) (25000,)\n"
     ]
    }
   ],
   "source": [
    "f_t1, f_v1, t_t1, t_v1 = split(geo1)\n",
    "f_t2, f_v2, t_t2, t_v2 = split(geo2)\n",
    "f_t3, f_v3, t_t3, t_v3 = split(geo3)"
   ]
  },
  {
   "cell_type": "code",
   "execution_count": 9,
   "metadata": {},
   "outputs": [],
   "source": [
    "#соединяю всё в списки, чтобы потом можно было пустить всё по одному циклу\n",
    "\n",
    "f_t_all = [f_t1,f_t2,f_t3]\n",
    "f_v_all = [f_v1,f_v2,f_v3]\n",
    "t_t_all = [t_t1,t_t2,t_t3]\n",
    "t_v_all = [t_v1,t_v2,t_v3]"
   ]
  },
  {
   "cell_type": "code",
   "execution_count": 10,
   "metadata": {},
   "outputs": [],
   "source": [
    "def train_and_calculate (f_train, f_valid, t_train,t_target):\n",
    "    '''Функция обучает модель LR,\n",
    "делает предсказания\n",
    "рассчитывает метрики R2, MSE, RMSE, MAE\n",
    "и вычисляет средний запас сырья в регионе.'''\n",
    "    \n",
    "    lr = LR()\n",
    "    lr.fit(f_train, t_train)\n",
    "    pred = pd.Series(lr.predict(f_valid))\n",
    "    pred_list.append(pred)\n",
    "    print('R2 score: {0:.2f}'.format(r2_score(t_v_all[n],pred)))\n",
    "    print('MSE: {0:.2f}'.format(mse(t_v_all[n],pred)))\n",
    "    print('RMSE: {0:.2f}'.format(mse(t_v_all[n],pred)**0.5))\n",
    "    print('MAE: {0:.2f}'.format(mae(t_v_all[n],pred)))\n",
    "    print('Средний запас сырья в данном регионе по прогнозу модели составляет: {0:.2f}'.format(sum(pred)/len(pred)),\n",
    "          ('тыс.бараллей на скважину'))\n",
    "    \n",
    "    return pred"
   ]
  },
  {
   "cell_type": "code",
   "execution_count": 11,
   "metadata": {},
   "outputs": [
    {
     "name": "stdout",
     "output_type": "stream",
     "text": [
      "Регион 1:\n",
      "R2 score: 0.28\n",
      "MSE: 1417.75\n",
      "RMSE: 37.65\n",
      "MAE: 31.03\n",
      "Средний запас сырья в данном регионе по прогнозу модели составляет: 92.35 тыс.бараллей на скважину\n",
      "\n",
      "Регион 2:\n",
      "R2 score: 1.00\n",
      "MSE: 0.80\n",
      "RMSE: 0.89\n",
      "MAE: 0.72\n",
      "Средний запас сырья в данном регионе по прогнозу модели составляет: 68.98 тыс.бараллей на скважину\n",
      "\n",
      "Регион 3:\n",
      "R2 score: 0.20\n",
      "MSE: 1609.93\n",
      "RMSE: 40.12\n",
      "MAE: 32.84\n",
      "Средний запас сырья в данном регионе по прогнозу модели составляет: 94.73 тыс.бараллей на скважину\n",
      "\n"
     ]
    }
   ],
   "source": [
    "pred_list = []\n",
    "\n",
    "for n in range(len(f_t_all)):\n",
    "    print(f'Регион {n+1}:')\n",
    "    pred = train_and_calculate(f_t_all[n], f_v_all[n], t_t_all[n], t_t_all[n])\n",
    "    print()"
   ]
  },
  {
   "cell_type": "markdown",
   "metadata": {},
   "source": [
    "Судя по метрикам значения во втором регионе наша модель предсказывает идеально (R2 равен 1, а остальные наоборот стремятся к 0), Поэтому этот регеон выгоден с точки зрения точности работы модели, но запас сырья наоборот меньше всего.\n",
    "\n",
    "В первом регионе метрики более реалистичные и на порядок больше запас сырья.\n",
    "\n",
    "В третьем метрики хуже чем в прочих, но предполагаемый запас сырья самый большой."
   ]
  },
  {
   "cell_type": "markdown",
   "metadata": {},
   "source": [
    "## Подготовка к расчёту прибыли"
   ]
  },
  {
   "cell_type": "code",
   "execution_count": 12,
   "metadata": {},
   "outputs": [],
   "source": [
    "budget = 10_000_000_000 # бюджет\n",
    "reserch = 500 # количество скважин, которое будут исследовать\n",
    "points = 200 # количество лучших скважин, которая модель выберет для обработки\n",
    "product_price = 450_000 # стоимость 1 ед. продукта (1 тыс. бараллей)\n",
    "cost_per_point = budget/points # стоимость обработки одной скважины\n",
    "\n",
    "#profit = product * product_price - cost_per_point"
   ]
  },
  {
   "cell_type": "markdown",
   "metadata": {},
   "source": [
    "Подсчитаем какой обьём сырья нужен для безубыточной разработки скважины"
   ]
  },
  {
   "cell_type": "code",
   "execution_count": 13,
   "metadata": {},
   "outputs": [
    {
     "name": "stdout",
     "output_type": "stream",
     "text": [
      "Для безубыточнисти всех вложений нужно добыть: 22222.22 тыс.бараллей\n",
      "Средний обьём нефти в одной скважине для безубыточности составляет: 111.11 тыс.бараллей\n"
     ]
    }
   ],
   "source": [
    "break_even = budget/product_price\n",
    "print('Для безубыточнисти всех вложений нужно добыть: {0:.2f}'.format(break_even),('тыс.бараллей'))\n",
    "\n",
    "print('Средний обьём нефти в одной скважине для безубыточности составляет: {0:.2f}'.format(break_even/points),\n",
    "      ('тыс.бараллей'))"
   ]
  },
  {
   "cell_type": "markdown",
   "metadata": {},
   "source": [
    "**Вывод**\n",
    "\n",
    "Средний обьём сырья для безубыточнисти больше,чем средний обьём сырья в каждом регионе. Это означет, что нам нужно выбирать самые лучшие скважины для обработки, ведь в среднем, если выбирать скважины случайно, то велик шанс остаться с убытками."
   ]
  },
  {
   "cell_type": "markdown",
   "metadata": {},
   "source": [
    "## Расчёт прибыли и рисков "
   ]
  },
  {
   "cell_type": "code",
   "execution_count": 14,
   "metadata": {},
   "outputs": [],
   "source": [
    "#profit = product * product_price - cost_per_poin\n",
    "\n",
    "def profit(pred, points):\n",
    "    '''Функция подсчитывает валовую прибыль в млрд. рублей.'''\n",
    "    best_preds = pred.sort_values(ascending=False)\n",
    "    top_points = points[best_preds.index][:200]\n",
    "    revenue = top_points.sum() * product_price # Выручка\n",
    "    return (revenue - budget) / 10**9 # Прибыль"
   ]
  },
  {
   "cell_type": "code",
   "execution_count": 15,
   "metadata": {},
   "outputs": [
    {
     "name": "stdout",
     "output_type": "stream",
     "text": [
      "Валовая прибыль Региона №1 :3.34 млрд.\n",
      "Валовая прибыль Региона №2 :2.42 млрд.\n",
      "Валовая прибыль Региона №3 :2.73 млрд.\n"
     ]
    }
   ],
   "source": [
    "for n in range(3):\n",
    "    print('Валовая прибыль Региона №' +  str(n + 1),':{0:.2f}'.format(profit(pred_list[n], t_v_all[n].reset_index(drop=True))),'млрд.')"
   ]
  },
  {
   "cell_type": "markdown",
   "metadata": {},
   "source": [
    "Если выбрать самые-самые лучшие скважины из всей выборки, то самым прибыльным будет регион 1."
   ]
  },
  {
   "cell_type": "markdown",
   "metadata": {},
   "source": [
    "## Bootstrap"
   ]
  },
  {
   "cell_type": "markdown",
   "metadata": {},
   "source": [
    "Проведём Bootstrap, чтобы сэмитировать \"полевые условия\" и рассчитать где в среднем более высокая прибыль и меньший шанс убытков."
   ]
  },
  {
   "cell_type": "code",
   "execution_count": 16,
   "metadata": {},
   "outputs": [
    {
     "name": "stdout",
     "output_type": "stream",
     "text": [
      "Показатели региона №1\n",
      "2,5% квантиль:-0.09\n",
      "97,5% квантиль:0.99\n",
      "95%-й доверительный интервал:(-0.09  : 0.99 )\n",
      "Средняя прибыль:0.45 млрд.\n",
      "Риск убытка:5.60%\n",
      "\n",
      "Показатели региона №2\n",
      "2,5% квантиль:0.13\n",
      "97,5% квантиль:0.95\n",
      "95%-й доверительный интервал:(0.13  : 0.95 )\n",
      "Средняя прибыль:0.53 млрд.\n",
      "Риск убытка:0.40%\n",
      "\n",
      "Показатели региона №3\n",
      "2,5% квантиль:-0.15\n",
      "97,5% квантиль:0.88\n",
      "95%-й доверительный интервал:(-0.15  : 0.88 )\n",
      "Средняя прибыль:0.38 млрд.\n",
      "Риск убытка:8.40%\n",
      "\n"
     ]
    }
   ],
   "source": [
    "values = [[],[],[]]\n",
    "\n",
    "for n in range(3):\n",
    "    for b in range(1000):\n",
    "        t_sample = t_v_all[n].reset_index(drop=True).sample(n = 500, replace = True, random_state=s)\n",
    "        probs_sample = pred_list[n][t_sample.index]\n",
    "        values[n].append(profit(probs_sample,t_sample))\n",
    "        \n",
    "    values[n] = pd.Series(values[n])\n",
    "    print('Показатели региона №' +  str(n + 1))\n",
    "    print('2,5% квантиль:{0:.2f}'.format(values[n].quantile(0.025)))\n",
    "    print('97,5% квантиль:{0:.2f}'.format(values[n].quantile(0.975)))\n",
    "    print('95%-й доверительный интервал:({0:.2f}'.format(values[n].quantile(0.025)) ,\n",
    "          ' : {0:.2f}'.format(values[n].quantile(0.975)),')')\n",
    "    print('Средняя прибыль:{0:.2f}'.format(values[n].mean()),'млрд.')\n",
    "    print('Риск убытка:{0:.2f}%'.format(st.percentileofscore(values[n], 0)))\n",
    "    print()"
   ]
  },
  {
   "cell_type": "markdown",
   "metadata": {},
   "source": [
    "## Вывод"
   ]
  },
  {
   "cell_type": "markdown",
   "metadata": {},
   "source": [
    "* Самый привликательный для разработки **Регион №2**:\n",
    "   * Обладает самым сбалансированным доверительным интервалом\n",
    "   * Самой высокой средней прибылью .\n",
    "   * И что очень важно - наименьшим риском убытка."
   ]
  }
 ],
 "metadata": {
  "ExecuteTimeLog": [
   {
    "duration": 7,
    "start_time": "2022-09-03T10:57:10.382Z"
   },
   {
    "duration": 40,
    "start_time": "2022-09-03T10:58:11.910Z"
   },
   {
    "duration": 1426,
    "start_time": "2022-09-03T10:58:15.830Z"
   },
   {
    "duration": 3,
    "start_time": "2022-09-03T10:58:17.258Z"
   },
   {
    "duration": 747,
    "start_time": "2022-09-03T10:58:18.238Z"
   },
   {
    "duration": 17,
    "start_time": "2022-09-03T11:01:43.698Z"
   },
   {
    "duration": 23,
    "start_time": "2022-09-03T11:01:59.842Z"
   },
   {
    "duration": 13,
    "start_time": "2022-09-03T11:02:11.336Z"
   },
   {
    "duration": 14,
    "start_time": "2022-09-03T11:02:22.264Z"
   },
   {
    "duration": 13,
    "start_time": "2022-09-03T11:02:25.720Z"
   },
   {
    "duration": 23,
    "start_time": "2022-09-03T11:03:53.887Z"
   },
   {
    "duration": 20,
    "start_time": "2022-09-03T11:04:10.015Z"
   },
   {
    "duration": 73,
    "start_time": "2022-09-03T11:04:23.270Z"
   },
   {
    "duration": 18,
    "start_time": "2022-09-03T11:04:34.161Z"
   },
   {
    "duration": 20,
    "start_time": "2022-09-03T11:04:42.853Z"
   },
   {
    "duration": 48,
    "start_time": "2022-09-03T11:05:16.045Z"
   },
   {
    "duration": 3,
    "start_time": "2022-09-03T11:07:31.842Z"
   },
   {
    "duration": 36,
    "start_time": "2022-09-03T11:08:05.794Z"
   },
   {
    "duration": 19,
    "start_time": "2022-09-03T11:08:11.386Z"
   },
   {
    "duration": 40,
    "start_time": "2022-09-03T11:08:26.009Z"
   },
   {
    "duration": 56,
    "start_time": "2022-09-03T11:08:30.498Z"
   },
   {
    "duration": 35,
    "start_time": "2022-09-03T11:08:47.113Z"
   },
   {
    "duration": 43,
    "start_time": "2022-09-03T11:08:53.184Z"
   },
   {
    "duration": 42,
    "start_time": "2022-09-03T11:09:17.376Z"
   },
   {
    "duration": 44,
    "start_time": "2022-09-03T11:09:25.095Z"
   },
   {
    "duration": 51,
    "start_time": "2022-09-03T11:09:40.991Z"
   },
   {
    "duration": 67,
    "start_time": "2022-09-03T11:09:53.043Z"
   },
   {
    "duration": 2,
    "start_time": "2022-09-03T11:10:32.647Z"
   },
   {
    "duration": 114,
    "start_time": "2022-09-03T11:11:21.725Z"
   },
   {
    "duration": 114,
    "start_time": "2022-09-03T11:11:27.181Z"
   },
   {
    "duration": 111,
    "start_time": "2022-09-03T11:12:13.412Z"
   },
   {
    "duration": 37,
    "start_time": "2022-09-03T11:13:36.339Z"
   },
   {
    "duration": 995,
    "start_time": "2022-09-03T11:14:25.634Z"
   },
   {
    "duration": 57,
    "start_time": "2022-09-03T11:14:38.401Z"
   },
   {
    "duration": 73,
    "start_time": "2022-09-03T11:15:37.369Z"
   },
   {
    "duration": 82,
    "start_time": "2022-09-03T11:16:31.419Z"
   },
   {
    "duration": 70,
    "start_time": "2022-09-03T11:16:50.712Z"
   },
   {
    "duration": 49,
    "start_time": "2022-09-03T11:16:55.046Z"
   },
   {
    "duration": 33,
    "start_time": "2022-09-03T11:16:57.685Z"
   },
   {
    "duration": 97,
    "start_time": "2022-09-03T11:17:03.942Z"
   },
   {
    "duration": 85,
    "start_time": "2022-09-03T11:17:11.767Z"
   },
   {
    "duration": 91,
    "start_time": "2022-09-03T11:17:53.171Z"
   },
   {
    "duration": 10,
    "start_time": "2022-09-03T11:18:45.708Z"
   },
   {
    "duration": 8,
    "start_time": "2022-09-03T11:18:49.563Z"
   },
   {
    "duration": 8,
    "start_time": "2022-09-03T11:18:56.531Z"
   },
   {
    "duration": 9,
    "start_time": "2022-09-03T11:18:58.523Z"
   },
   {
    "duration": 114,
    "start_time": "2022-09-03T11:20:03.864Z"
   },
   {
    "duration": 20,
    "start_time": "2022-09-03T11:23:37.873Z"
   },
   {
    "duration": 127,
    "start_time": "2022-09-03T11:23:42.621Z"
   },
   {
    "duration": 136,
    "start_time": "2022-09-03T11:23:53.504Z"
   },
   {
    "duration": 140,
    "start_time": "2022-09-03T11:24:06.909Z"
   },
   {
    "duration": 4,
    "start_time": "2022-09-03T11:42:08.855Z"
   },
   {
    "duration": 4,
    "start_time": "2022-09-03T11:45:23.300Z"
   },
   {
    "duration": 14,
    "start_time": "2022-09-03T11:46:36.186Z"
   },
   {
    "duration": 54,
    "start_time": "2022-09-03T11:46:48.000Z"
   },
   {
    "duration": 3,
    "start_time": "2022-09-03T11:46:52.808Z"
   },
   {
    "duration": 39,
    "start_time": "2022-09-03T11:46:53.543Z"
   },
   {
    "duration": 3,
    "start_time": "2022-09-03T11:55:03.093Z"
   },
   {
    "duration": 5,
    "start_time": "2022-09-03T12:02:36.723Z"
   },
   {
    "duration": 29,
    "start_time": "2022-09-03T12:02:37.669Z"
   },
   {
    "duration": 3,
    "start_time": "2022-09-03T12:02:45.816Z"
   },
   {
    "duration": 32,
    "start_time": "2022-09-03T12:02:50.635Z"
   },
   {
    "duration": 4,
    "start_time": "2022-09-03T12:04:22.409Z"
   },
   {
    "duration": 4,
    "start_time": "2022-09-03T12:05:03.795Z"
   },
   {
    "duration": 48,
    "start_time": "2022-09-03T12:05:05.944Z"
   },
   {
    "duration": 5,
    "start_time": "2022-09-03T12:05:22.056Z"
   },
   {
    "duration": 33,
    "start_time": "2022-09-03T12:05:22.719Z"
   },
   {
    "duration": 4,
    "start_time": "2022-09-03T12:06:18.808Z"
   },
   {
    "duration": 48,
    "start_time": "2022-09-03T12:06:19.400Z"
   },
   {
    "duration": 3,
    "start_time": "2022-09-03T12:06:26.334Z"
   },
   {
    "duration": 3,
    "start_time": "2022-09-03T12:22:59.385Z"
   },
   {
    "duration": 60,
    "start_time": "2022-09-03T12:36:05.976Z"
   },
   {
    "duration": 9,
    "start_time": "2022-09-03T12:36:10.986Z"
   },
   {
    "duration": 10,
    "start_time": "2022-09-03T12:36:27.977Z"
   },
   {
    "duration": 12,
    "start_time": "2022-09-03T12:36:58.105Z"
   },
   {
    "duration": 3,
    "start_time": "2022-09-03T12:37:43.037Z"
   },
   {
    "duration": 13,
    "start_time": "2022-09-03T12:37:43.746Z"
   },
   {
    "duration": 3,
    "start_time": "2022-09-03T12:38:01.342Z"
   },
   {
    "duration": 79,
    "start_time": "2022-09-03T12:38:01.765Z"
   },
   {
    "duration": 3,
    "start_time": "2022-09-03T12:38:18.622Z"
   },
   {
    "duration": 22,
    "start_time": "2022-09-03T12:38:19.230Z"
   },
   {
    "duration": 3,
    "start_time": "2022-09-03T12:39:10.930Z"
   },
   {
    "duration": 22,
    "start_time": "2022-09-03T12:39:11.564Z"
   },
   {
    "duration": 3,
    "start_time": "2022-09-03T12:40:31.858Z"
   },
   {
    "duration": 21,
    "start_time": "2022-09-03T12:40:32.794Z"
   },
   {
    "duration": 10,
    "start_time": "2022-09-03T12:45:04.278Z"
   },
   {
    "duration": 48,
    "start_time": "2022-09-03T12:45:07.018Z"
   },
   {
    "duration": 9,
    "start_time": "2022-09-03T12:45:07.221Z"
   },
   {
    "duration": 49,
    "start_time": "2022-09-03T12:45:18.636Z"
   },
   {
    "duration": 46,
    "start_time": "2022-09-03T12:45:24.112Z"
   },
   {
    "duration": 38,
    "start_time": "2022-09-03T12:45:29.878Z"
   },
   {
    "duration": 69,
    "start_time": "2022-09-03T12:45:39.883Z"
   },
   {
    "duration": 5,
    "start_time": "2022-09-03T12:46:21.515Z"
   },
   {
    "duration": 69,
    "start_time": "2022-09-03T12:46:23.771Z"
   },
   {
    "duration": 4,
    "start_time": "2022-09-03T12:46:56.012Z"
   },
   {
    "duration": 60,
    "start_time": "2022-09-03T12:46:57.394Z"
   },
   {
    "duration": 4,
    "start_time": "2022-09-03T12:48:00.689Z"
   },
   {
    "duration": 316,
    "start_time": "2022-09-03T12:48:16.129Z"
   },
   {
    "duration": 125,
    "start_time": "2022-09-03T12:48:59.414Z"
   },
   {
    "duration": 137,
    "start_time": "2022-09-03T12:49:48.302Z"
   },
   {
    "duration": 170,
    "start_time": "2022-09-03T12:49:52.181Z"
   },
   {
    "duration": 63,
    "start_time": "2022-09-03T12:50:03.589Z"
   },
   {
    "duration": 5,
    "start_time": "2022-09-03T12:51:56.093Z"
   },
   {
    "duration": 316,
    "start_time": "2022-09-03T12:51:56.923Z"
   },
   {
    "duration": 5,
    "start_time": "2022-09-03T12:52:15.428Z"
   },
   {
    "duration": 5,
    "start_time": "2022-09-03T12:52:19.947Z"
   },
   {
    "duration": 4,
    "start_time": "2022-09-03T12:52:23.408Z"
   },
   {
    "duration": 5,
    "start_time": "2022-09-03T12:55:58.752Z"
   },
   {
    "duration": 170,
    "start_time": "2022-09-03T12:55:59.169Z"
   },
   {
    "duration": 4,
    "start_time": "2022-09-03T12:56:50.829Z"
   },
   {
    "duration": 313,
    "start_time": "2022-09-03T12:56:51.245Z"
   },
   {
    "duration": 5,
    "start_time": "2022-09-03T12:58:11.629Z"
   },
   {
    "duration": 4,
    "start_time": "2022-09-03T12:58:19.711Z"
   },
   {
    "duration": 4,
    "start_time": "2022-09-03T12:58:40.987Z"
   },
   {
    "duration": 4,
    "start_time": "2022-09-03T12:58:42.571Z"
   },
   {
    "duration": 5,
    "start_time": "2022-09-03T12:59:09.556Z"
   },
   {
    "duration": 5,
    "start_time": "2022-09-03T12:59:14.270Z"
   },
   {
    "duration": 5,
    "start_time": "2022-09-03T12:59:16.322Z"
   },
   {
    "duration": 4,
    "start_time": "2022-09-03T12:59:18.290Z"
   },
   {
    "duration": 5,
    "start_time": "2022-09-03T12:59:20.794Z"
   },
   {
    "duration": 17,
    "start_time": "2022-09-03T12:59:28.886Z"
   },
   {
    "duration": 16,
    "start_time": "2022-09-03T12:59:32.979Z"
   },
   {
    "duration": 11,
    "start_time": "2022-09-03T12:59:35.985Z"
   },
   {
    "duration": 126,
    "start_time": "2022-09-03T13:00:55.313Z"
   },
   {
    "duration": 11,
    "start_time": "2022-09-03T13:01:07.673Z"
   },
   {
    "duration": 40,
    "start_time": "2022-09-03T13:01:33.312Z"
   },
   {
    "duration": 4,
    "start_time": "2022-09-03T13:01:42.479Z"
   },
   {
    "duration": 42,
    "start_time": "2022-09-03T13:01:42.816Z"
   },
   {
    "duration": 2,
    "start_time": "2022-09-03T13:01:44.072Z"
   },
   {
    "duration": 4,
    "start_time": "2022-09-03T13:01:46.094Z"
   },
   {
    "duration": 81,
    "start_time": "2022-09-03T13:01:46.569Z"
   },
   {
    "duration": 4,
    "start_time": "2022-09-03T13:02:57.575Z"
   },
   {
    "duration": 403,
    "start_time": "2022-09-03T13:03:00.237Z"
   },
   {
    "duration": 5,
    "start_time": "2022-09-03T13:03:15.011Z"
   },
   {
    "duration": 122,
    "start_time": "2022-09-03T13:03:15.525Z"
   },
   {
    "duration": 6,
    "start_time": "2022-09-03T13:05:35.147Z"
   },
   {
    "duration": 202,
    "start_time": "2022-09-03T13:05:36.340Z"
   },
   {
    "duration": 209,
    "start_time": "2022-09-03T13:05:53.394Z"
   },
   {
    "duration": 86,
    "start_time": "2022-09-03T13:05:53.668Z"
   },
   {
    "duration": 122,
    "start_time": "2022-09-03T13:06:26.461Z"
   },
   {
    "duration": 4,
    "start_time": "2022-09-03T13:06:44.525Z"
   },
   {
    "duration": 63,
    "start_time": "2022-09-03T13:07:04.457Z"
   },
   {
    "duration": 6,
    "start_time": "2022-09-03T13:07:12.377Z"
   },
   {
    "duration": 299,
    "start_time": "2022-09-03T13:07:14.041Z"
   },
   {
    "duration": 5,
    "start_time": "2022-09-03T13:09:31.982Z"
   },
   {
    "duration": 279,
    "start_time": "2022-09-03T13:09:32.669Z"
   },
   {
    "duration": 4,
    "start_time": "2022-09-03T13:12:24.922Z"
   },
   {
    "duration": 4,
    "start_time": "2022-09-03T13:12:28.129Z"
   },
   {
    "duration": 211,
    "start_time": "2022-09-03T13:12:29.339Z"
   },
   {
    "duration": 4,
    "start_time": "2022-09-03T13:12:42.345Z"
   },
   {
    "duration": 302,
    "start_time": "2022-09-03T13:12:43.647Z"
   },
   {
    "duration": 4,
    "start_time": "2022-09-03T13:12:56.480Z"
   },
   {
    "duration": 243,
    "start_time": "2022-09-03T13:12:57.597Z"
   },
   {
    "duration": 36,
    "start_time": "2022-09-03T14:27:16.208Z"
   },
   {
    "duration": 4,
    "start_time": "2022-09-03T14:27:46.945Z"
   },
   {
    "duration": 137,
    "start_time": "2022-09-03T14:27:48.011Z"
   },
   {
    "duration": 8,
    "start_time": "2022-09-03T14:27:59.455Z"
   },
   {
    "duration": 7,
    "start_time": "2022-09-03T14:28:08.407Z"
   },
   {
    "duration": 1270,
    "start_time": "2022-09-03T14:28:21.478Z"
   },
   {
    "duration": 369,
    "start_time": "2022-09-03T14:28:22.749Z"
   },
   {
    "duration": 4,
    "start_time": "2022-09-03T14:28:23.119Z"
   },
   {
    "duration": 167,
    "start_time": "2022-09-03T14:28:23.125Z"
   },
   {
    "duration": 133,
    "start_time": "2022-09-03T14:28:23.293Z"
   },
   {
    "duration": 117,
    "start_time": "2022-09-03T14:28:23.428Z"
   },
   {
    "duration": 5,
    "start_time": "2022-09-03T14:28:23.547Z"
   },
   {
    "duration": 63,
    "start_time": "2022-09-03T14:28:23.554Z"
   },
   {
    "duration": 3,
    "start_time": "2022-09-03T14:28:23.619Z"
   },
   {
    "duration": 16,
    "start_time": "2022-09-03T14:28:23.624Z"
   },
   {
    "duration": 398,
    "start_time": "2022-09-03T14:28:23.642Z"
   },
   {
    "duration": 5,
    "start_time": "2022-09-03T14:29:17.270Z"
   },
   {
    "duration": 107,
    "start_time": "2022-09-03T14:29:34.806Z"
   },
   {
    "duration": 4,
    "start_time": "2022-09-03T14:29:38.541Z"
   },
   {
    "duration": 3,
    "start_time": "2022-09-03T14:29:58.054Z"
   },
   {
    "duration": 5,
    "start_time": "2022-09-03T14:30:11.069Z"
   },
   {
    "duration": 3,
    "start_time": "2022-09-03T14:30:12.196Z"
   },
   {
    "duration": 5,
    "start_time": "2022-09-03T14:30:20.654Z"
   },
   {
    "duration": 4,
    "start_time": "2022-09-03T14:30:20.892Z"
   },
   {
    "duration": 41,
    "start_time": "2022-09-03T14:35:08.022Z"
   },
   {
    "duration": 10,
    "start_time": "2022-09-03T14:35:57.133Z"
   },
   {
    "duration": 4,
    "start_time": "2022-09-03T14:36:10.317Z"
   },
   {
    "duration": 4,
    "start_time": "2022-09-03T14:36:16.493Z"
   },
   {
    "duration": 4,
    "start_time": "2022-09-03T14:36:22.652Z"
   },
   {
    "duration": 3,
    "start_time": "2022-09-03T14:40:00.824Z"
   },
   {
    "duration": 3,
    "start_time": "2022-09-03T14:40:20.703Z"
   },
   {
    "duration": 3,
    "start_time": "2022-09-03T14:40:37.185Z"
   },
   {
    "duration": 3,
    "start_time": "2022-09-03T14:41:06.024Z"
   },
   {
    "duration": 93,
    "start_time": "2022-09-03T14:44:35.155Z"
   },
   {
    "duration": 9,
    "start_time": "2022-09-03T14:48:17.950Z"
   },
   {
    "duration": 3,
    "start_time": "2022-09-03T14:48:25.646Z"
   },
   {
    "duration": 4,
    "start_time": "2022-09-03T14:50:24.532Z"
   },
   {
    "duration": 3,
    "start_time": "2022-09-03T14:51:11.970Z"
   },
   {
    "duration": 6,
    "start_time": "2022-09-03T14:51:27.874Z"
   },
   {
    "duration": 4,
    "start_time": "2022-09-03T14:51:34.930Z"
   },
   {
    "duration": 4,
    "start_time": "2022-09-03T14:51:37.833Z"
   },
   {
    "duration": 4,
    "start_time": "2022-09-03T14:52:17.386Z"
   },
   {
    "duration": 531,
    "start_time": "2022-09-03T14:52:17.808Z"
   },
   {
    "duration": 5,
    "start_time": "2022-09-03T14:53:22.240Z"
   },
   {
    "duration": 137,
    "start_time": "2022-09-03T14:53:23.110Z"
   },
   {
    "duration": 5,
    "start_time": "2022-09-03T14:53:44.422Z"
   },
   {
    "duration": 139,
    "start_time": "2022-09-03T14:53:44.909Z"
   },
   {
    "duration": 269,
    "start_time": "2022-09-03T15:43:35.576Z"
   },
   {
    "duration": 9,
    "start_time": "2022-09-03T15:43:48.044Z"
   },
   {
    "duration": 1283,
    "start_time": "2022-09-03T15:44:03.604Z"
   },
   {
    "duration": 346,
    "start_time": "2022-09-03T15:44:04.888Z"
   },
   {
    "duration": 3,
    "start_time": "2022-09-03T15:44:05.235Z"
   },
   {
    "duration": 158,
    "start_time": "2022-09-03T15:44:05.239Z"
   },
   {
    "duration": 117,
    "start_time": "2022-09-03T15:44:05.398Z"
   },
   {
    "duration": 96,
    "start_time": "2022-09-03T15:44:05.517Z"
   },
   {
    "duration": 4,
    "start_time": "2022-09-03T15:44:05.615Z"
   },
   {
    "duration": 46,
    "start_time": "2022-09-03T15:44:05.638Z"
   },
   {
    "duration": 3,
    "start_time": "2022-09-03T15:44:05.685Z"
   },
   {
    "duration": 13,
    "start_time": "2022-09-03T15:44:05.690Z"
   },
   {
    "duration": 335,
    "start_time": "2022-09-03T15:44:05.704Z"
   },
   {
    "duration": 97,
    "start_time": "2022-09-03T15:44:06.043Z"
   },
   {
    "duration": 3,
    "start_time": "2022-09-03T15:44:06.142Z"
   },
   {
    "duration": 15,
    "start_time": "2022-09-03T15:44:06.147Z"
   },
   {
    "duration": 6,
    "start_time": "2022-09-03T15:44:06.164Z"
   },
   {
    "duration": 244,
    "start_time": "2022-09-03T15:44:06.171Z"
   },
   {
    "duration": 1250,
    "start_time": "2022-09-03T15:44:32.858Z"
   },
   {
    "duration": 356,
    "start_time": "2022-09-03T15:44:34.110Z"
   },
   {
    "duration": 3,
    "start_time": "2022-09-03T15:44:34.467Z"
   },
   {
    "duration": 167,
    "start_time": "2022-09-03T15:44:34.472Z"
   },
   {
    "duration": 112,
    "start_time": "2022-09-03T15:44:34.641Z"
   },
   {
    "duration": 105,
    "start_time": "2022-09-03T15:44:34.754Z"
   },
   {
    "duration": 4,
    "start_time": "2022-09-03T15:44:34.860Z"
   },
   {
    "duration": 49,
    "start_time": "2022-09-03T15:44:34.866Z"
   },
   {
    "duration": 2,
    "start_time": "2022-09-03T15:44:34.917Z"
   },
   {
    "duration": 4,
    "start_time": "2022-09-03T15:44:34.939Z"
   },
   {
    "duration": 296,
    "start_time": "2022-09-03T15:44:34.945Z"
   },
   {
    "duration": 98,
    "start_time": "2022-09-03T15:44:35.242Z"
   },
   {
    "duration": 5,
    "start_time": "2022-09-03T15:44:35.342Z"
   },
   {
    "duration": 6,
    "start_time": "2022-09-03T15:44:35.348Z"
   },
   {
    "duration": 6,
    "start_time": "2022-09-03T15:44:35.355Z"
   },
   {
    "duration": 67,
    "start_time": "2022-09-03T15:44:35.362Z"
   },
   {
    "duration": 96,
    "start_time": "2022-09-03T15:45:11.119Z"
   },
   {
    "duration": 16,
    "start_time": "2022-09-03T15:45:15.894Z"
   },
   {
    "duration": 3,
    "start_time": "2022-09-03T15:45:51.421Z"
   },
   {
    "duration": 18,
    "start_time": "2022-09-03T15:45:52.209Z"
   },
   {
    "duration": 1655,
    "start_time": "2022-09-03T15:58:13.065Z"
   },
   {
    "duration": 5095,
    "start_time": "2022-09-03T15:58:36.294Z"
   },
   {
    "duration": 4970,
    "start_time": "2022-09-03T16:00:19.971Z"
   },
   {
    "duration": 13,
    "start_time": "2022-09-03T16:04:39.933Z"
   },
   {
    "duration": 3,
    "start_time": "2022-09-03T16:04:43.532Z"
   },
   {
    "duration": 4403,
    "start_time": "2022-09-03T16:04:44.541Z"
   },
   {
    "duration": 4,
    "start_time": "2022-09-03T16:05:19.500Z"
   },
   {
    "duration": 4417,
    "start_time": "2022-09-03T16:05:29.201Z"
   },
   {
    "duration": 4765,
    "start_time": "2022-09-03T16:05:52.868Z"
   },
   {
    "duration": 4,
    "start_time": "2022-09-03T16:07:00.683Z"
   },
   {
    "duration": 4601,
    "start_time": "2022-09-03T16:07:05.938Z"
   },
   {
    "duration": 5,
    "start_time": "2022-09-03T16:07:19.969Z"
   },
   {
    "duration": 41884,
    "start_time": "2022-09-03T16:07:32.623Z"
   },
   {
    "duration": 4643,
    "start_time": "2022-09-03T16:09:13.022Z"
   },
   {
    "duration": 4510,
    "start_time": "2022-09-03T16:09:56.200Z"
   },
   {
    "duration": 4088,
    "start_time": "2022-09-03T16:10:27.862Z"
   },
   {
    "duration": 4136,
    "start_time": "2022-09-03T16:10:42.721Z"
   },
   {
    "duration": 52,
    "start_time": "2022-09-03T16:12:42.448Z"
   },
   {
    "duration": 4569,
    "start_time": "2022-09-03T16:12:52.540Z"
   },
   {
    "duration": 4150,
    "start_time": "2022-09-03T16:13:40.134Z"
   },
   {
    "duration": 63,
    "start_time": "2022-09-03T16:24:03.621Z"
   },
   {
    "duration": 3940,
    "start_time": "2022-09-03T16:24:09.286Z"
   },
   {
    "duration": 56,
    "start_time": "2022-09-03T16:26:03.082Z"
   },
   {
    "duration": 43,
    "start_time": "2022-09-03T16:26:17.137Z"
   },
   {
    "duration": 1327,
    "start_time": "2022-09-03T16:26:42.256Z"
   },
   {
    "duration": 50,
    "start_time": "2022-09-03T16:27:36.984Z"
   },
   {
    "duration": 1346,
    "start_time": "2022-09-03T16:27:41.984Z"
   },
   {
    "duration": 4099,
    "start_time": "2022-09-03T16:28:03.470Z"
   },
   {
    "duration": 4033,
    "start_time": "2022-09-03T16:28:40.390Z"
   },
   {
    "duration": 4107,
    "start_time": "2022-09-03T16:28:58.733Z"
   },
   {
    "duration": 1349,
    "start_time": "2022-09-03T16:29:11.684Z"
   },
   {
    "duration": 50,
    "start_time": "2022-09-03T16:29:24.165Z"
   },
   {
    "duration": 4069,
    "start_time": "2022-09-03T16:29:35.429Z"
   },
   {
    "duration": 4125,
    "start_time": "2022-09-03T16:29:46.572Z"
   },
   {
    "duration": 4547,
    "start_time": "2022-09-03T16:30:22.683Z"
   },
   {
    "duration": 4565,
    "start_time": "2022-09-03T16:30:32.650Z"
   },
   {
    "duration": 4058,
    "start_time": "2022-09-03T16:32:32.281Z"
   },
   {
    "duration": 1230,
    "start_time": "2022-09-03T16:33:36.200Z"
   },
   {
    "duration": 353,
    "start_time": "2022-09-03T16:33:37.432Z"
   },
   {
    "duration": 3,
    "start_time": "2022-09-03T16:33:37.786Z"
   },
   {
    "duration": 156,
    "start_time": "2022-09-03T16:33:37.791Z"
   },
   {
    "duration": 116,
    "start_time": "2022-09-03T16:33:37.949Z"
   },
   {
    "duration": 101,
    "start_time": "2022-09-03T16:33:38.067Z"
   },
   {
    "duration": 4,
    "start_time": "2022-09-03T16:33:38.170Z"
   },
   {
    "duration": 63,
    "start_time": "2022-09-03T16:33:38.176Z"
   },
   {
    "duration": 3,
    "start_time": "2022-09-03T16:33:38.241Z"
   },
   {
    "duration": 9,
    "start_time": "2022-09-03T16:33:38.247Z"
   },
   {
    "duration": 283,
    "start_time": "2022-09-03T16:33:38.257Z"
   },
   {
    "duration": 6,
    "start_time": "2022-09-03T16:33:38.542Z"
   },
   {
    "duration": 10,
    "start_time": "2022-09-03T16:33:38.639Z"
   },
   {
    "duration": 6,
    "start_time": "2022-09-03T16:33:38.650Z"
   },
   {
    "duration": 24,
    "start_time": "2022-09-03T16:33:38.657Z"
   },
   {
    "duration": 3950,
    "start_time": "2022-09-03T16:33:38.682Z"
   },
   {
    "duration": 3,
    "start_time": "2022-09-03T16:36:14.509Z"
   },
   {
    "duration": 17,
    "start_time": "2022-09-03T16:38:03.212Z"
   },
   {
    "duration": 5,
    "start_time": "2022-09-03T16:39:11.089Z"
   },
   {
    "duration": 17,
    "start_time": "2022-09-03T16:39:11.864Z"
   },
   {
    "duration": 3,
    "start_time": "2022-09-03T16:39:40.194Z"
   },
   {
    "duration": 17,
    "start_time": "2022-09-03T16:39:40.687Z"
   },
   {
    "duration": 23,
    "start_time": "2022-09-03T16:40:14.687Z"
   },
   {
    "duration": 62,
    "start_time": "2022-09-03T16:40:43.142Z"
   },
   {
    "duration": 73,
    "start_time": "2022-09-03T16:41:01.550Z"
   },
   {
    "duration": 57,
    "start_time": "2022-09-03T16:41:34.269Z"
   },
   {
    "duration": 43,
    "start_time": "2022-09-03T16:42:08.063Z"
   },
   {
    "duration": 18,
    "start_time": "2022-09-03T16:42:14.796Z"
   },
   {
    "duration": 22,
    "start_time": "2022-09-03T16:42:36.132Z"
   },
   {
    "duration": 17,
    "start_time": "2022-09-03T16:42:46.541Z"
   },
   {
    "duration": 4130,
    "start_time": "2022-09-03T16:43:03.509Z"
   },
   {
    "duration": 4111,
    "start_time": "2022-09-03T16:43:48.795Z"
   },
   {
    "duration": 1348,
    "start_time": "2022-09-03T16:45:44.044Z"
   },
   {
    "duration": 373,
    "start_time": "2022-09-03T16:45:45.394Z"
   },
   {
    "duration": 3,
    "start_time": "2022-09-03T16:45:45.768Z"
   },
   {
    "duration": 180,
    "start_time": "2022-09-03T16:45:45.773Z"
   },
   {
    "duration": 131,
    "start_time": "2022-09-03T16:45:45.956Z"
   },
   {
    "duration": 151,
    "start_time": "2022-09-03T16:45:46.089Z"
   },
   {
    "duration": 4,
    "start_time": "2022-09-03T16:45:46.242Z"
   },
   {
    "duration": 55,
    "start_time": "2022-09-03T16:45:46.248Z"
   },
   {
    "duration": 3,
    "start_time": "2022-09-03T16:45:46.305Z"
   },
   {
    "duration": 5,
    "start_time": "2022-09-03T16:45:46.311Z"
   },
   {
    "duration": 304,
    "start_time": "2022-09-03T16:45:46.339Z"
   },
   {
    "duration": 4,
    "start_time": "2022-09-03T16:45:46.649Z"
   },
   {
    "duration": 6,
    "start_time": "2022-09-03T16:45:46.739Z"
   },
   {
    "duration": 7,
    "start_time": "2022-09-03T16:45:46.747Z"
   },
   {
    "duration": 27,
    "start_time": "2022-09-03T16:45:46.756Z"
   },
   {
    "duration": 4121,
    "start_time": "2022-09-03T16:45:46.785Z"
   },
   {
    "duration": 2344,
    "start_time": "2022-09-05T13:06:25.510Z"
   },
   {
    "duration": 4,
    "start_time": "2022-09-05T13:06:40.673Z"
   },
   {
    "duration": 1219,
    "start_time": "2022-09-05T13:06:42.649Z"
   },
   {
    "duration": 2,
    "start_time": "2022-09-05T13:06:44.874Z"
   }
  ],
  "kernelspec": {
   "display_name": "Python 3 (ipykernel)",
   "language": "python",
   "name": "python3"
  },
  "language_info": {
   "codemirror_mode": {
    "name": "ipython",
    "version": 3
   },
   "file_extension": ".py",
   "mimetype": "text/x-python",
   "name": "python",
   "nbconvert_exporter": "python",
   "pygments_lexer": "ipython3",
   "version": "3.9.13"
  },
  "toc": {
   "base_numbering": 1,
   "nav_menu": {
    "height": "316px",
    "width": "440px"
   },
   "number_sections": true,
   "sideBar": true,
   "skip_h1_title": true,
   "title_cell": "Table of Contents",
   "title_sidebar": "Contents",
   "toc_cell": false,
   "toc_position": {},
   "toc_section_display": true,
   "toc_window_display": false
  }
 },
 "nbformat": 4,
 "nbformat_minor": 2
}
