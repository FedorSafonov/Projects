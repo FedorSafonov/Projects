{
 "cells": [
  {
   "cell_type": "markdown",
   "metadata": {},
   "source": [
    "# Рекомендация тарифов"
   ]
  },
  {
   "cell_type": "markdown",
   "metadata": {},
   "source": [
    "### Задача бизнеса"
   ]
  },
  {
   "cell_type": "markdown",
   "metadata": {},
   "source": [
    "Оператор мобильной связи «Мегалайн» выяснил: многие клиенты пользуются архивными тарифами. Они хотят **построить систему, способную проанализировать поведение клиентов и предложить пользователям новый тариф: «Смарт» или «Ультра».**"
   ]
  },
  {
   "cell_type": "markdown",
   "metadata": {},
   "source": [
    "### Информация о данных"
   ]
  },
  {
   "cell_type": "markdown",
   "metadata": {},
   "source": [
    "В вашем распоряжении данные о поведении клиентов, которые уже перешли на эти тарифы (из проекта курса «Статистический анализ данных»). Нужно построить модель для задачи классификации, которая выберет подходящий тариф. Предобработка данных не понадобится — вы её уже сделали.\n",
    "\n",
    "Постройте модель с максимально большим значением *accuracy*. Чтобы сдать проект успешно, нужно довести долю правильных ответов по крайней мере до 0.75. Проверьте *accuracy* на тестовой выборке самостоятельно."
   ]
  },
  {
   "cell_type": "markdown",
   "metadata": {},
   "source": [
    "### Ход исследования"
   ]
  },
  {
   "cell_type": "markdown",
   "metadata": {},
   "source": [
    "* 1) Открыть файл и изучить его\n",
    "* 2) Разделить исходные данные на обучающую, валидационную и тестовую выборки.\n",
    "* 3) Исследовать качество разных моделий\n",
    "* 4) Проверить качество на тестовой выборке\n",
    "* 5) Проверить модели на вменяемость"
   ]
  },
  {
   "cell_type": "markdown",
   "metadata": {},
   "source": [
    "## Откройте и изучите файл"
   ]
  },
  {
   "cell_type": "code",
   "execution_count": 1,
   "metadata": {},
   "outputs": [],
   "source": [
    "import pandas as pd\n",
    "import numpy as np\n",
    "import matplotlib.pyplot as plt\n",
    "import matplotlib\n",
    "import seaborn as sns\n",
    "sns.set(color_codes=True)\n",
    "\n",
    "from sklearn.model_selection import train_test_split as t_t_s\n",
    "from sklearn.linear_model import LogisticRegression as LRC\n",
    "from sklearn.ensemble import RandomForestClassifier as RFC\n",
    "from sklearn.tree import DecisionTreeClassifier as DTC\n",
    "from sklearn.dummy import DummyClassifier\n",
    "from catboost import CatBoostClassifier as CBC, Pool, metrics, cv\n",
    "\n",
    "from sklearn.metrics import accuracy_score as a_s\n",
    "from sklearn.metrics import roc_curve\n",
    "from sklearn.metrics import auc\n",
    "\n",
    "from tqdm import tqdm\n",
    "from statistics import mean\n",
    "\n",
    "import warnings\n",
    "warnings.filterwarnings(\"ignore\")\n",
    "\n",
    "s = 100500"
   ]
  },
  {
   "cell_type": "code",
   "execution_count": 2,
   "metadata": {},
   "outputs": [
    {
     "data": {
      "text/html": [
       "<div>\n",
       "<style scoped>\n",
       "    .dataframe tbody tr th:only-of-type {\n",
       "        vertical-align: middle;\n",
       "    }\n",
       "\n",
       "    .dataframe tbody tr th {\n",
       "        vertical-align: top;\n",
       "    }\n",
       "\n",
       "    .dataframe thead th {\n",
       "        text-align: right;\n",
       "    }\n",
       "</style>\n",
       "<table border=\"1\" class=\"dataframe\">\n",
       "  <thead>\n",
       "    <tr style=\"text-align: right;\">\n",
       "      <th></th>\n",
       "      <th>calls</th>\n",
       "      <th>minutes</th>\n",
       "      <th>messages</th>\n",
       "      <th>mb_used</th>\n",
       "      <th>is_ultra</th>\n",
       "    </tr>\n",
       "  </thead>\n",
       "  <tbody>\n",
       "    <tr>\n",
       "      <th>180</th>\n",
       "      <td>99.0</td>\n",
       "      <td>634.32</td>\n",
       "      <td>43.0</td>\n",
       "      <td>16436.32</td>\n",
       "      <td>0</td>\n",
       "    </tr>\n",
       "    <tr>\n",
       "      <th>3064</th>\n",
       "      <td>78.0</td>\n",
       "      <td>553.56</td>\n",
       "      <td>0.0</td>\n",
       "      <td>14544.55</td>\n",
       "      <td>0</td>\n",
       "    </tr>\n",
       "    <tr>\n",
       "      <th>2111</th>\n",
       "      <td>75.0</td>\n",
       "      <td>550.72</td>\n",
       "      <td>55.0</td>\n",
       "      <td>11258.72</td>\n",
       "      <td>0</td>\n",
       "    </tr>\n",
       "    <tr>\n",
       "      <th>2493</th>\n",
       "      <td>67.0</td>\n",
       "      <td>492.40</td>\n",
       "      <td>16.0</td>\n",
       "      <td>22783.19</td>\n",
       "      <td>0</td>\n",
       "    </tr>\n",
       "    <tr>\n",
       "      <th>493</th>\n",
       "      <td>31.0</td>\n",
       "      <td>210.44</td>\n",
       "      <td>19.0</td>\n",
       "      <td>27437.43</td>\n",
       "      <td>0</td>\n",
       "    </tr>\n",
       "  </tbody>\n",
       "</table>\n",
       "</div>"
      ],
      "text/plain": [
       "      calls  minutes  messages   mb_used  is_ultra\n",
       "180    99.0   634.32      43.0  16436.32         0\n",
       "3064   78.0   553.56       0.0  14544.55         0\n",
       "2111   75.0   550.72      55.0  11258.72         0\n",
       "2493   67.0   492.40      16.0  22783.19         0\n",
       "493    31.0   210.44      19.0  27437.43         0"
      ]
     },
     "execution_count": 2,
     "metadata": {},
     "output_type": "execute_result"
    }
   ],
   "source": [
    "try:\n",
    "    df = pd.read_csv('/datasets/users_behavior.csv')\n",
    "except:\n",
    "    df = pd.read_csv('users_behavior.csv')\n",
    "    \n",
    "df.sample(5)"
   ]
  },
  {
   "cell_type": "code",
   "execution_count": 3,
   "metadata": {},
   "outputs": [
    {
     "name": "stdout",
     "output_type": "stream",
     "text": [
      "<class 'pandas.core.frame.DataFrame'>\n",
      "RangeIndex: 3214 entries, 0 to 3213\n",
      "Data columns (total 5 columns):\n",
      " #   Column    Non-Null Count  Dtype  \n",
      "---  ------    --------------  -----  \n",
      " 0   calls     3214 non-null   float64\n",
      " 1   minutes   3214 non-null   float64\n",
      " 2   messages  3214 non-null   float64\n",
      " 3   mb_used   3214 non-null   float64\n",
      " 4   is_ultra  3214 non-null   int64  \n",
      "dtypes: float64(4), int64(1)\n",
      "memory usage: 125.7 KB\n"
     ]
    }
   ],
   "source": [
    "df.info()"
   ]
  },
  {
   "cell_type": "markdown",
   "metadata": {},
   "source": [
    "В таблице пропусков не обнаружено, посмотрим на дубликаты."
   ]
  },
  {
   "cell_type": "code",
   "execution_count": 4,
   "metadata": {},
   "outputs": [
    {
     "data": {
      "text/plain": [
       "0"
      ]
     },
     "execution_count": 4,
     "metadata": {},
     "output_type": "execute_result"
    }
   ],
   "source": [
    "df.duplicated().sum()"
   ]
  },
  {
   "cell_type": "markdown",
   "metadata": {},
   "source": [
    "Тоже в порядке. Посмотрим на распределение значений."
   ]
  },
  {
   "cell_type": "code",
   "execution_count": 5,
   "metadata": {},
   "outputs": [
    {
     "data": {
      "text/html": [
       "<div>\n",
       "<style scoped>\n",
       "    .dataframe tbody tr th:only-of-type {\n",
       "        vertical-align: middle;\n",
       "    }\n",
       "\n",
       "    .dataframe tbody tr th {\n",
       "        vertical-align: top;\n",
       "    }\n",
       "\n",
       "    .dataframe thead th {\n",
       "        text-align: right;\n",
       "    }\n",
       "</style>\n",
       "<table border=\"1\" class=\"dataframe\">\n",
       "  <thead>\n",
       "    <tr style=\"text-align: right;\">\n",
       "      <th></th>\n",
       "      <th>calls</th>\n",
       "      <th>minutes</th>\n",
       "      <th>messages</th>\n",
       "      <th>mb_used</th>\n",
       "      <th>is_ultra</th>\n",
       "    </tr>\n",
       "  </thead>\n",
       "  <tbody>\n",
       "    <tr>\n",
       "      <th>count</th>\n",
       "      <td>3214.000000</td>\n",
       "      <td>3214.000000</td>\n",
       "      <td>3214.000000</td>\n",
       "      <td>3214.000000</td>\n",
       "      <td>3214.000000</td>\n",
       "    </tr>\n",
       "    <tr>\n",
       "      <th>mean</th>\n",
       "      <td>63.038892</td>\n",
       "      <td>438.208787</td>\n",
       "      <td>38.281269</td>\n",
       "      <td>17207.673836</td>\n",
       "      <td>0.306472</td>\n",
       "    </tr>\n",
       "    <tr>\n",
       "      <th>std</th>\n",
       "      <td>33.236368</td>\n",
       "      <td>234.569872</td>\n",
       "      <td>36.148326</td>\n",
       "      <td>7570.968246</td>\n",
       "      <td>0.461100</td>\n",
       "    </tr>\n",
       "    <tr>\n",
       "      <th>min</th>\n",
       "      <td>0.000000</td>\n",
       "      <td>0.000000</td>\n",
       "      <td>0.000000</td>\n",
       "      <td>0.000000</td>\n",
       "      <td>0.000000</td>\n",
       "    </tr>\n",
       "    <tr>\n",
       "      <th>25%</th>\n",
       "      <td>40.000000</td>\n",
       "      <td>274.575000</td>\n",
       "      <td>9.000000</td>\n",
       "      <td>12491.902500</td>\n",
       "      <td>0.000000</td>\n",
       "    </tr>\n",
       "    <tr>\n",
       "      <th>50%</th>\n",
       "      <td>62.000000</td>\n",
       "      <td>430.600000</td>\n",
       "      <td>30.000000</td>\n",
       "      <td>16943.235000</td>\n",
       "      <td>0.000000</td>\n",
       "    </tr>\n",
       "    <tr>\n",
       "      <th>75%</th>\n",
       "      <td>82.000000</td>\n",
       "      <td>571.927500</td>\n",
       "      <td>57.000000</td>\n",
       "      <td>21424.700000</td>\n",
       "      <td>1.000000</td>\n",
       "    </tr>\n",
       "    <tr>\n",
       "      <th>max</th>\n",
       "      <td>244.000000</td>\n",
       "      <td>1632.060000</td>\n",
       "      <td>224.000000</td>\n",
       "      <td>49745.730000</td>\n",
       "      <td>1.000000</td>\n",
       "    </tr>\n",
       "  </tbody>\n",
       "</table>\n",
       "</div>"
      ],
      "text/plain": [
       "             calls      minutes     messages       mb_used     is_ultra\n",
       "count  3214.000000  3214.000000  3214.000000   3214.000000  3214.000000\n",
       "mean     63.038892   438.208787    38.281269  17207.673836     0.306472\n",
       "std      33.236368   234.569872    36.148326   7570.968246     0.461100\n",
       "min       0.000000     0.000000     0.000000      0.000000     0.000000\n",
       "25%      40.000000   274.575000     9.000000  12491.902500     0.000000\n",
       "50%      62.000000   430.600000    30.000000  16943.235000     0.000000\n",
       "75%      82.000000   571.927500    57.000000  21424.700000     1.000000\n",
       "max     244.000000  1632.060000   224.000000  49745.730000     1.000000"
      ]
     },
     "execution_count": 5,
     "metadata": {},
     "output_type": "execute_result"
    }
   ],
   "source": [
    "df.describe()"
   ]
  },
  {
   "cell_type": "markdown",
   "metadata": {},
   "source": [
    "Распределения нормальные, медиана близка к среднему, что говорит о том что в таблице нет большого количества выбросов и данные  адекватны."
   ]
  },
  {
   "cell_type": "code",
   "execution_count": 6,
   "metadata": {},
   "outputs": [
    {
     "data": {
      "text/html": [
       "<div>\n",
       "<style scoped>\n",
       "    .dataframe tbody tr th:only-of-type {\n",
       "        vertical-align: middle;\n",
       "    }\n",
       "\n",
       "    .dataframe tbody tr th {\n",
       "        vertical-align: top;\n",
       "    }\n",
       "\n",
       "    .dataframe thead th {\n",
       "        text-align: right;\n",
       "    }\n",
       "</style>\n",
       "<table border=\"1\" class=\"dataframe\">\n",
       "  <thead>\n",
       "    <tr style=\"text-align: right;\">\n",
       "      <th></th>\n",
       "      <th>calls</th>\n",
       "      <th>minutes</th>\n",
       "      <th>messages</th>\n",
       "      <th>mb_used</th>\n",
       "      <th>is_ultra</th>\n",
       "    </tr>\n",
       "  </thead>\n",
       "  <tbody>\n",
       "  </tbody>\n",
       "</table>\n",
       "</div>"
      ],
      "text/plain": [
       "Empty DataFrame\n",
       "Columns: [calls, minutes, messages, mb_used, is_ultra]\n",
       "Index: []"
      ]
     },
     "execution_count": 6,
     "metadata": {},
     "output_type": "execute_result"
    }
   ],
   "source": [
    "# Проверяю есть-ли клиенты у которых всё по нулям.\n",
    "df.query('calls==0 and minutes==0 and messages==0 and mb_used==0')"
   ]
  },
  {
   "cell_type": "markdown",
   "metadata": {},
   "source": [
    "Клиентов с нулевыми показателями так же не обнаружелось, это проверку делаю для того, чтобы убедиться, что в данных не было тех кто сразу же ушёл. Ведь если такие строки будут в данных, то для определения тарифа и обучения модели они будут бесполезны их скорее всего пришлось бы исключить."
   ]
  },
  {
   "cell_type": "markdown",
   "metadata": {},
   "source": [
    "### Вывод"
   ]
  },
  {
   "cell_type": "markdown",
   "metadata": {},
   "source": [
    "С данными всё впорядке.\n",
    "   * Если в describe посомтреть на целевой признак (тариф, которым пользуеться пользователь), то можно увидеть, что присутствует несбалансированность классов:\n",
    "      * Пользователи тарифа Smart занимают примерно 70% данных, а Ultra - 30 % , а это вероятно скажется на проверку accuracy."
   ]
  },
  {
   "cell_type": "markdown",
   "metadata": {},
   "source": [
    "## Разбейте данные на выборки"
   ]
  },
  {
   "cell_type": "markdown",
   "metadata": {},
   "source": [
    "Разделим данные на целевой признак и остальные."
   ]
  },
  {
   "cell_type": "code",
   "execution_count": 7,
   "metadata": {},
   "outputs": [],
   "source": [
    "#features\n",
    "f =  df.drop(['is_ultra'],axis=1)\n",
    "#target\n",
    "t = df.is_ultra"
   ]
  },
  {
   "cell_type": "markdown",
   "metadata": {},
   "source": [
    "Так как у нас нет тестовой выборки, то я разделю базовый набор по принципу 60-20-20: 60% - обущающая выборка, 20% - валидационная(проверочная), 20% - тестовая."
   ]
  },
  {
   "cell_type": "code",
   "execution_count": 8,
   "metadata": {},
   "outputs": [],
   "source": [
    "#делю выборку на 60-40\n",
    "f_train, f_test, t_train,  t_test = t_t_s(f,\n",
    "                                          t,\n",
    "                                          test_size = 0.4,\n",
    "                                          random_state = s,\n",
    "                                          stratify = t)\n",
    "#разбиваю 40 на 20-20\n",
    "f_valid, f_test, t_valid,  t_test = t_t_s(f_test,\n",
    "                                          t_test,\n",
    "                                          test_size = 0.5,\n",
    "                                          random_state = s,\n",
    "                                          stratify = t_test)"
   ]
  },
  {
   "cell_type": "code",
   "execution_count": 9,
   "metadata": {
    "scrolled": true
   },
   "outputs": [
    {
     "name": "stdout",
     "output_type": "stream",
     "text": [
      "(1928, 4)\n",
      "(643, 4)\n",
      "(643, 4)\n"
     ]
    }
   ],
   "source": [
    "#проверяю размер выборок\n",
    "print(f_train.shape)\n",
    "print(f_valid.shape)\n",
    "print(f_test.shape)"
   ]
  },
  {
   "cell_type": "code",
   "execution_count": 10,
   "metadata": {},
   "outputs": [
    {
     "name": "stdout",
     "output_type": "stream",
     "text": [
      "0.3065352697095436\n",
      "0.30637636080870917\n",
      "0.30637636080870917\n"
     ]
    }
   ],
   "source": [
    "#проверяю баланс таргетов\n",
    "print(t_train.mean())\n",
    "print(t_valid.mean())\n",
    "print(t_test.mean())"
   ]
  },
  {
   "cell_type": "markdown",
   "metadata": {},
   "source": [
    "Всё в порядке, можно проводить исследование."
   ]
  },
  {
   "cell_type": "markdown",
   "metadata": {},
   "source": [
    "## Исследуйте модели"
   ]
  },
  {
   "cell_type": "markdown",
   "metadata": {},
   "source": [
    "### Decision Tree"
   ]
  },
  {
   "cell_type": "code",
   "execution_count": 11,
   "metadata": {},
   "outputs": [
    {
     "name": "stderr",
     "output_type": "stream",
     "text": [
      "100%|██████████████████████████████████████████████████████████████████████████████████| 49/49 [00:00<00:00, 97.36it/s]\n"
     ]
    },
    {
     "data": {
      "image/png": "[encoded data removed]",
      "text/plain": [
       "<Figure size 1200x600 with 1 Axes>"
      ]
     },
     "metadata": {},
     "output_type": "display_data"
    },
    {
     "name": "stdout",
     "output_type": "stream",
     "text": [
      "Максимальная глубина наилучшей модели Decision Tree на валидационной выборке: 3\n",
      "Точность: 0.80248833592535\n",
      "Wall time: 733 ms\n"
     ]
    }
   ],
   "source": [
    "%%time\n",
    "\n",
    "best_DT = None\n",
    "best_accuracy_DT = 0\n",
    "best_depth_DT = 0\n",
    "\n",
    "x=[]\n",
    "y1=[]\n",
    "y2=[]\n",
    "for depth in tqdm(range(1,50)):\n",
    "    DT = DTC(random_state = s, max_depth = depth)\n",
    "    DT.fit(f_train,t_train)\n",
    "    pred_v_DT = DT.predict(f_valid)\n",
    "    pred_t_DT = DT.predict(f_train)\n",
    "    accuracy_DT_v = a_s(pred_v_DT, t_valid)\n",
    "    accuracy_DT_t = a_s(pred_t_DT, t_train)\n",
    "    x.append(depth)\n",
    "    y1.append(accuracy_DT_v)\n",
    "    y2.append(accuracy_DT_t)\n",
    "    if best_accuracy_DT < accuracy_DT_v:\n",
    "        best_DT = DT \n",
    "        best_accuracy_DT = accuracy_DT_v\n",
    "        best_depth_DT = depth\n",
    "        \n",
    "plt.figure(figsize=(12, 6))        \n",
    "plt.plot(x, y1)\n",
    "plt.plot(x, y2)\n",
    "plt.legend(['Валидационная','Обучающая'])\n",
    "plt.ylabel('Accuracy',size=20)\n",
    "plt.xlabel('Глубина',size=20)\n",
    "plt.show()\n",
    "        \n",
    "print('Максимальная глубина наилучшей модели Decision Tree на валидационной выборке:', best_depth_DT)\n",
    "print('Точность:',best_accuracy_DT)\n"
   ]
  },
  {
   "cell_type": "markdown",
   "metadata": {},
   "source": [
    "### Random Forest"
   ]
  },
  {
   "cell_type": "code",
   "execution_count": 12,
   "metadata": {},
   "outputs": [
    {
     "name": "stderr",
     "output_type": "stream",
     "text": [
      "100%|██████████████████████████████████████████████████████████████████████████████████| 24/24 [00:24<00:00,  1.01s/it]\n"
     ]
    },
    {
     "data": {
      "image/png": "[encoded data removed]",
      "text/plain": [
       "<Figure size 1200x600 with 1 Axes>"
      ]
     },
     "metadata": {},
     "output_type": "display_data"
    },
    {
     "name": "stdout",
     "output_type": "stream",
     "text": [
      "Максимальная глубина наилучшей модели Random Forest на валидационной выборке: 8\n",
      "Количество деревьев наилучшей модели Random Forest на валидационной выборке: 14\n",
      "Точность: 0.8304821150855366\n",
      "Wall time: 24.4 s\n"
     ]
    }
   ],
   "source": [
    "%%time\n",
    "\n",
    "best_RF = None\n",
    "best_est_RF = 0\n",
    "best_accuracy_RF = 0\n",
    "best_depth_RF = 0\n",
    "\n",
    "x=[]\n",
    "y1=[]\n",
    "y2=[]\n",
    "for est in tqdm(range(1,25)):\n",
    "    y_v=[]\n",
    "    y_t=[]\n",
    "    for depth in range(1,25):\n",
    "        RF = RFC(random_state = s, max_depth = depth, n_estimators = est)\n",
    "        RF.fit(f_train,t_train)\n",
    "        pred_v_RF = RF.predict(f_valid)\n",
    "        pred_t_RF = RF.predict(f_train)\n",
    "        accuracy_RF_v = a_s(pred_v_RF, t_valid)\n",
    "        accuracy_RF_t = a_s(pred_t_RF, t_train)\n",
    "        y_v.append(accuracy_RF_v)\n",
    "        y_t.append(accuracy_RF_t)\n",
    "        if best_accuracy_RF < accuracy_RF_v:\n",
    "            best_RF = RF \n",
    "            best_est_RF = est\n",
    "            best_accuracy_RF = accuracy_RF_v\n",
    "            best_depth_RF = depth\n",
    "    x.append(est)\n",
    "    y1.append(max(y_v))\n",
    "    y2.append(max(y_t))\n",
    "    \n",
    "plt.figure(figsize=(12, 6)) \n",
    "plt.plot(x, y1)\n",
    "plt.plot(x, y2)\n",
    "plt.legend(['Валидационная','Обучающая'])\n",
    "plt.ylabel('Лучшая Accuracy каждого N деревьев',size = 15)\n",
    "plt.xlabel('Количество деревьев',size = 20)\n",
    "plt.show()\n",
    "\n",
    "print('Максимальная глубина наилучшей модели Random Forest на валидационной выборке:', best_depth_RF)\n",
    "print('Количество деревьев наилучшей модели Random Forest на валидационной выборке:', best_est_RF)\n",
    "print('Точность:',best_accuracy_RF)"
   ]
  },
  {
   "cell_type": "markdown",
   "metadata": {},
   "source": [
    "### Logistic Regression"
   ]
  },
  {
   "cell_type": "code",
   "execution_count": 13,
   "metadata": {},
   "outputs": [],
   "source": [
    "solvers = ['newton-cg', 'lbfgs', 'liblinear', 'sag', 'saga']"
   ]
  },
  {
   "cell_type": "code",
   "execution_count": 14,
   "metadata": {},
   "outputs": [
    {
     "name": "stdout",
     "output_type": "stream",
     "text": [
      "newton-cg: 0.76049766718507\n",
      "lbfgs: 0.6998444790046656\n",
      "liblinear: 0.6998444790046656\n",
      "sag: 0.6982892690513219\n",
      "saga: 0.6967340590979783\n",
      "______________________\n",
      "Лучший параметр solver: newton-cg\n",
      "Точность лучшей модели Logistic Regression на валидационной выборке: 0.76049766718507\n"
     ]
    }
   ],
   "source": [
    "best_LR = None\n",
    "best_solver_LR = None\n",
    "best_accuracy_LR = 0\n",
    "\n",
    "\n",
    "for sol in solvers:\n",
    "    LR = LRC(solver=sol, max_iter=4000, random_state=s)\n",
    "    LR.fit(f_train, t_train)\n",
    "    pred_v_LR = LR.predict(f_valid)\n",
    "    accuracy_LR = a_s(pred_v_LR, t_valid)\n",
    "    print((f\"{sol}: {accuracy_LR}\"))\n",
    "    if best_accuracy_LR < accuracy_LR:\n",
    "            best_LR = LR \n",
    "            best_solver_LR = sol\n",
    "            best_accuracy_LR = accuracy_LR\n",
    "print(\"______________________\")\n",
    "print('Лучший параметр solver:',best_solver_LR)\n",
    "print('Точность лучшей модели Logistic Regression на валидационной выборке:',best_accuracy_LR)"
   ]
  },
  {
   "cell_type": "markdown",
   "metadata": {},
   "source": [
    "### CatBoost"
   ]
  },
  {
   "cell_type": "code",
   "execution_count": 15,
   "metadata": {},
   "outputs": [
    {
     "name": "stderr",
     "output_type": "stream",
     "text": [
      "100%|██████████████████████████████████████████████████████████████████████████████████| 12/12 [01:59<00:00,  9.97s/it]\n"
     ]
    },
    {
     "data": {
      "image/png": "[encoded data removed]",
      "text/plain": [
       "<Figure size 1200x600 with 1 Axes>"
      ]
     },
     "metadata": {},
     "output_type": "display_data"
    },
    {
     "name": "stdout",
     "output_type": "stream",
     "text": [
      "Максимальная глубина наилучшей модели CatBoost на валидационной выборке: 8\n",
      "Точность: 0.833592534992224\n",
      "Wall time: 1min 59s\n"
     ]
    }
   ],
   "source": [
    "%%time\n",
    "best_CB = None\n",
    "best_accuracy_CB = 0\n",
    "best_depth_CB = 0\n",
    "x = []\n",
    "y1 = []\n",
    "y2 = []\n",
    "\n",
    "\n",
    "for depth in tqdm(range(1,13)):\n",
    "    CB = CBC(iterations=1000,\n",
    "             custom_loss=[metrics.Accuracy()],\n",
    "             random_seed=s,\n",
    "             logging_level='Silent', \n",
    "             depth = depth\n",
    "             )\n",
    "    CB.fit(\n",
    "           f_train, t_train,\n",
    "           cat_features=np.where(f.dtypes != float)[0],\n",
    "           eval_set=(f_valid, t_valid)\n",
    "           )\n",
    "    pred_v_CB = CB.predict(f_valid)\n",
    "    pred_t_CB = CB.predict(f_train)\n",
    "    accuracy_CB_v = a_s(pred_v_CB, t_valid)\n",
    "    accuracy_CB_t = a_s(pred_t_CB, t_train)\n",
    "    x.append(depth)\n",
    "    y1.append(accuracy_CB_v)\n",
    "    y2.append(accuracy_CB_t)\n",
    "    if best_accuracy_CB < accuracy_CB_v:\n",
    "        best_CB = CB \n",
    "        best_accuracy_CB = accuracy_CB_v\n",
    "        best_depth_CB = depth\n",
    "        \n",
    "plt.figure(figsize=(12, 6)) \n",
    "plt.plot(x, y1)\n",
    "plt.plot(x, y2)\n",
    "plt.legend(['Валидационная','Обучающая'])\n",
    "plt.ylabel('Accuracy',size = 20)\n",
    "plt.xlabel('Количество деревьев',size = 20)\n",
    "plt.show()\n",
    "\n",
    "print('Максимальная глубина наилучшей модели CatBoost на валидационной выборке:', best_depth_CB)\n",
    "print('Точность:',best_accuracy_CB)"
   ]
  },
  {
   "cell_type": "markdown",
   "metadata": {},
   "source": [
    "### Вывод"
   ]
  },
  {
   "cell_type": "code",
   "execution_count": 16,
   "metadata": {},
   "outputs": [
    {
     "name": "stdout",
     "output_type": "stream",
     "text": [
      "Decision Tree: 0.80248833592535\n",
      "Random Forest: 0.8304821150855366\n",
      "Logistic Regression: 0.76049766718507\n",
      "CatBoost: 0.833592534992224\n"
     ]
    }
   ],
   "source": [
    "print(f\"Decision Tree: {best_accuracy_DT}\")\n",
    "print(f\"Random Forest: {best_accuracy_RF}\")\n",
    "print(f\"Logistic Regression: {best_accuracy_LR}\")\n",
    "print(f\"CatBoost: {best_accuracy_CB}\")"
   ]
  },
  {
   "cell_type": "markdown",
   "metadata": {},
   "source": [
    "Самыми лучшими по точности вышли CatBoost(83.35) и Random Forest (83.04), на втором месте Decision Tree (80.24), самая неточная модель получилась Logistic Regression с результатом (76.05)."
   ]
  },
  {
   "cell_type": "markdown",
   "metadata": {},
   "source": [
    "## Проверьте модель на тестовой выборке"
   ]
  },
  {
   "cell_type": "code",
   "execution_count": 17,
   "metadata": {},
   "outputs": [
    {
     "data": {
      "text/plain": [
       "<catboost.core.CatBoostClassifier at 0x1dc371d3340>"
      ]
     },
     "execution_count": 17,
     "metadata": {},
     "output_type": "execute_result"
    }
   ],
   "source": [
    "# соединяю train и valid выборки и переобучаю модель на полном наборе данных.\n",
    "t_train2 = pd.concat([t_train,t_valid],sort=False,axis=0)\n",
    "f_train2 = pd.concat([f_train,f_valid],sort=False,axis=0)\n",
    "\n",
    "best_CB.fit(f_train, t_train,\n",
    "            cat_features=np.where(f.dtypes != float)[0],\n",
    "            )"
   ]
  },
  {
   "cell_type": "code",
   "execution_count": 18,
   "metadata": {},
   "outputs": [
    {
     "name": "stdout",
     "output_type": "stream",
     "text": [
      "Точность модели\n",
      "CatBoost: 81.03%\n"
     ]
    }
   ],
   "source": [
    "#prediction_test\n",
    "pred_t_CB = best_CB.predict(f_test)\n",
    "\n",
    "#accuracy_test\n",
    "ac_t_CB = a_s(pred_t_CB, t_test)\n",
    "\n",
    "print(\"Точность модели\")\n",
    "print(f\"CatBoost: {round(ac_t_CB,4)*100}%\")"
   ]
  },
  {
   "cell_type": "markdown",
   "metadata": {},
   "source": [
    "### Вывод"
   ]
  },
  {
   "cell_type": "markdown",
   "metadata": {},
   "source": [
    "Самой эффективной по точности и скорости моделью является CatBoost, практически такие же результаты показывает Random Forest. На следующем месте Decision Tree. Самой неэффективной моделью стала Logistic Regression."
   ]
  },
  {
   "cell_type": "markdown",
   "metadata": {},
   "source": [
    "По поводу применения в бизнесе. Данная модель позволит работать как со старыми так и сновыми клиентами.\n",
    "* Установлено, что есть старые клиенты, которые пользуються устаревшими тарифами, эта модель поможет каждому педложить наиболее актуальный тариф.\n",
    "* Так же с новыми клиентами, клиент, можно быстро рассчитывать подходящий человеку тариф."
   ]
  },
  {
   "cell_type": "markdown",
   "metadata": {},
   "source": [
    "## (бонус) Проверьте модели на адекватность"
   ]
  },
  {
   "cell_type": "markdown",
   "metadata": {},
   "source": [
    "Для того чтобы оценить модель на её адекватность (sanity check - \"проверить на вменяемость\") сравню её работу с случаными предсказаниями."
   ]
  },
  {
   "cell_type": "code",
   "execution_count": 19,
   "metadata": {},
   "outputs": [
    {
     "data": {
      "text/plain": [
       "0.5288"
      ]
     },
     "execution_count": 19,
     "metadata": {},
     "output_type": "execute_result"
    }
   ],
   "source": [
    "#random_answers\n",
    "r_a = np.random.randint(0, 2, size=643)\n",
    "\n",
    "#accuracy_random_test\n",
    "a_r_t = round(a_s(t_test, r_a), 4)\n",
    "a_r_t"
   ]
  },
  {
   "cell_type": "markdown",
   "metadata": {},
   "source": [
    "Все модели показали результат лучше, чем случайный массив предсказаний. Проверим на фиктивном модели-класификаторе, которая всегда предсказывает наиболее частую метку класса в обучающих данных."
   ]
  },
  {
   "cell_type": "code",
   "execution_count": 20,
   "metadata": {},
   "outputs": [],
   "source": [
    "dummy = DummyClassifier(strategy=\"most_frequent\")"
   ]
  },
  {
   "cell_type": "code",
   "execution_count": 21,
   "metadata": {},
   "outputs": [
    {
     "name": "stdout",
     "output_type": "stream",
     "text": [
      "Точность фиктивной модели\n",
      "Dummy: 69.36%\n"
     ]
    }
   ],
   "source": [
    "dummy.fit(f_train, t_train)\n",
    "d_p = dummy.predict(f_test)\n",
    "ac_t_dummy = a_s(d_p, t_test)\n",
    "print(\"Точность фиктивной модели\")\n",
    "print(f\"Dummy: {round(ac_t_dummy,4)*100}%\")"
   ]
  },
  {
   "cell_type": "markdown",
   "metadata": {},
   "source": [
    "### Вывод"
   ]
  },
  {
   "cell_type": "markdown",
   "metadata": {},
   "source": [
    "Итоги проверки на адекватность - выбранная модель CatBoost предсказывает результат лучше чем фиктивная модель и случайный массив данных, а значит работает адекватно."
   ]
  }
 ],
 "metadata": {
  "ExecuteTimeLog": [
   {
    "duration": 1260,
    "start_time": "2022-07-13T19:20:08.282Z"
   },
   {
    "duration": 59,
    "start_time": "2022-07-13T19:37:56.642Z"
   },
   {
    "duration": 12,
    "start_time": "2022-07-13T19:38:27.229Z"
   },
   {
    "duration": 112,
    "start_time": "2022-07-13T19:39:52.881Z"
   },
   {
    "duration": 7,
    "start_time": "2022-07-13T19:40:02.183Z"
   },
   {
    "duration": 8,
    "start_time": "2022-07-13T19:40:13.105Z"
   },
   {
    "duration": 26,
    "start_time": "2022-07-13T19:41:26.623Z"
   },
   {
    "duration": 50,
    "start_time": "2022-07-13T19:47:09.524Z"
   },
   {
    "duration": 27,
    "start_time": "2022-07-13T19:47:23.141Z"
   },
   {
    "duration": 21,
    "start_time": "2022-07-13T19:47:49.486Z"
   },
   {
    "duration": 31,
    "start_time": "2022-07-13T19:48:11.574Z"
   },
   {
    "duration": 11,
    "start_time": "2022-07-13T19:48:15.134Z"
   },
   {
    "duration": 11,
    "start_time": "2022-07-13T19:48:52.448Z"
   },
   {
    "duration": 63,
    "start_time": "2022-07-13T19:55:49.658Z"
   },
   {
    "duration": 4,
    "start_time": "2022-07-13T20:01:24.551Z"
   },
   {
    "duration": 89,
    "start_time": "2022-07-13T20:07:10.360Z"
   },
   {
    "duration": 12,
    "start_time": "2022-07-13T20:07:14.623Z"
   },
   {
    "duration": 7,
    "start_time": "2022-07-13T20:07:41.521Z"
   },
   {
    "duration": 9,
    "start_time": "2022-07-13T20:12:18.388Z"
   },
   {
    "duration": 24,
    "start_time": "2022-07-13T20:12:59.655Z"
   },
   {
    "duration": 25,
    "start_time": "2022-07-13T20:13:04.581Z"
   },
   {
    "duration": 20,
    "start_time": "2022-07-13T20:13:09.344Z"
   },
   {
    "duration": 26,
    "start_time": "2022-07-13T20:13:20.431Z"
   },
   {
    "duration": 1067,
    "start_time": "2022-07-16T04:25:10.551Z"
   },
   {
    "duration": 134,
    "start_time": "2022-07-16T04:25:11.620Z"
   },
   {
    "duration": 12,
    "start_time": "2022-07-16T04:25:15.996Z"
   },
   {
    "duration": 110,
    "start_time": "2022-07-16T04:25:41.811Z"
   },
   {
    "duration": 11,
    "start_time": "2022-07-16T04:25:48.395Z"
   },
   {
    "duration": 9,
    "start_time": "2022-07-16T04:25:52.178Z"
   },
   {
    "duration": 9,
    "start_time": "2022-07-16T04:25:59.907Z"
   },
   {
    "duration": 36,
    "start_time": "2022-07-16T04:26:08.362Z"
   },
   {
    "duration": 35,
    "start_time": "2022-07-16T04:26:12.122Z"
   },
   {
    "duration": 35,
    "start_time": "2022-07-16T04:26:16.154Z"
   },
   {
    "duration": 36,
    "start_time": "2022-07-16T04:26:20.786Z"
   },
   {
    "duration": 10,
    "start_time": "2022-07-16T04:26:25.890Z"
   },
   {
    "duration": 7,
    "start_time": "2022-07-16T04:26:26.697Z"
   },
   {
    "duration": 29,
    "start_time": "2022-07-16T04:26:27.293Z"
   },
   {
    "duration": 16,
    "start_time": "2022-07-16T04:26:29.610Z"
   },
   {
    "duration": 3,
    "start_time": "2022-07-16T04:26:42.545Z"
   },
   {
    "duration": 3,
    "start_time": "2022-07-16T04:27:11.939Z"
   },
   {
    "duration": 8,
    "start_time": "2022-07-16T04:27:20.226Z"
   },
   {
    "duration": 22,
    "start_time": "2022-07-16T04:38:15.835Z"
   },
   {
    "duration": 593,
    "start_time": "2022-07-16T04:38:42.216Z"
   },
   {
    "duration": 498,
    "start_time": "2022-07-16T04:39:18.759Z"
   },
   {
    "duration": 497,
    "start_time": "2022-07-16T04:39:30.768Z"
   },
   {
    "duration": 7,
    "start_time": "2022-07-16T04:42:49.126Z"
   },
   {
    "duration": 503,
    "start_time": "2022-07-16T04:42:55.122Z"
   },
   {
    "duration": 476,
    "start_time": "2022-07-16T04:45:23.680Z"
   },
   {
    "duration": 19,
    "start_time": "2022-07-16T04:54:01.182Z"
   },
   {
    "duration": 619,
    "start_time": "2022-07-16T04:54:18.641Z"
   },
   {
    "duration": 17,
    "start_time": "2022-07-16T04:54:47.908Z"
   },
   {
    "duration": 13,
    "start_time": "2022-07-16T04:55:05.839Z"
   },
   {
    "duration": 18,
    "start_time": "2022-07-16T04:55:14.302Z"
   },
   {
    "duration": 19,
    "start_time": "2022-07-16T04:55:48.463Z"
   },
   {
    "duration": 17,
    "start_time": "2022-07-16T04:56:40.123Z"
   },
   {
    "duration": 16,
    "start_time": "2022-07-16T04:57:02.387Z"
   },
   {
    "duration": 7,
    "start_time": "2022-07-16T04:57:07.494Z"
   },
   {
    "duration": 12,
    "start_time": "2022-07-16T04:57:12.574Z"
   },
   {
    "duration": 6,
    "start_time": "2022-07-16T04:57:16.530Z"
   },
   {
    "duration": 6,
    "start_time": "2022-07-16T04:57:23.414Z"
   },
   {
    "duration": 8,
    "start_time": "2022-07-16T04:57:34.605Z"
   },
   {
    "duration": 50,
    "start_time": "2022-07-16T04:57:46.131Z"
   },
   {
    "duration": 7,
    "start_time": "2022-07-16T04:57:50.153Z"
   },
   {
    "duration": 6,
    "start_time": "2022-07-16T04:57:57.489Z"
   },
   {
    "duration": 8,
    "start_time": "2022-07-16T04:58:27.485Z"
   },
   {
    "duration": 6,
    "start_time": "2022-07-16T04:58:29.780Z"
   },
   {
    "duration": 49,
    "start_time": "2022-07-16T04:59:21.151Z"
   },
   {
    "duration": 6,
    "start_time": "2022-07-16T04:59:26.666Z"
   },
   {
    "duration": 8,
    "start_time": "2022-07-16T04:59:27.279Z"
   },
   {
    "duration": 6,
    "start_time": "2022-07-16T04:59:32.883Z"
   },
   {
    "duration": 565,
    "start_time": "2022-07-16T04:59:43.547Z"
   },
   {
    "duration": 482,
    "start_time": "2022-07-16T04:59:56.606Z"
   },
   {
    "duration": 1112,
    "start_time": "2022-07-16T05:11:16.611Z"
   },
   {
    "duration": 50,
    "start_time": "2022-07-16T05:11:17.725Z"
   },
   {
    "duration": 13,
    "start_time": "2022-07-16T05:11:17.777Z"
   },
   {
    "duration": 13,
    "start_time": "2022-07-16T05:11:17.793Z"
   },
   {
    "duration": 24,
    "start_time": "2022-07-16T05:11:17.808Z"
   },
   {
    "duration": 10,
    "start_time": "2022-07-16T05:11:17.834Z"
   },
   {
    "duration": 4,
    "start_time": "2022-07-16T05:11:17.846Z"
   },
   {
    "duration": 9,
    "start_time": "2022-07-16T05:11:17.852Z"
   },
   {
    "duration": 489,
    "start_time": "2022-07-16T05:11:17.863Z"
   },
   {
    "duration": 1248,
    "start_time": "2022-07-16T05:13:11.534Z"
   },
   {
    "duration": 54,
    "start_time": "2022-07-16T05:13:12.785Z"
   },
   {
    "duration": 17,
    "start_time": "2022-07-16T05:13:12.841Z"
   },
   {
    "duration": 10,
    "start_time": "2022-07-16T05:13:12.861Z"
   },
   {
    "duration": 52,
    "start_time": "2022-07-16T05:13:12.874Z"
   },
   {
    "duration": 13,
    "start_time": "2022-07-16T05:13:12.928Z"
   },
   {
    "duration": 9,
    "start_time": "2022-07-16T05:13:12.943Z"
   },
   {
    "duration": 9,
    "start_time": "2022-07-16T05:13:12.954Z"
   },
   {
    "duration": 522,
    "start_time": "2022-07-16T05:13:12.965Z"
   },
   {
    "duration": 1069,
    "start_time": "2022-07-16T21:31:43.728Z"
   },
   {
    "duration": 133,
    "start_time": "2022-07-16T21:31:44.799Z"
   },
   {
    "duration": 11,
    "start_time": "2022-07-16T21:31:44.934Z"
   },
   {
    "duration": 24,
    "start_time": "2022-07-16T21:31:44.947Z"
   },
   {
    "duration": 40,
    "start_time": "2022-07-16T21:31:44.972Z"
   },
   {
    "duration": 24,
    "start_time": "2022-07-16T21:31:45.014Z"
   },
   {
    "duration": 15,
    "start_time": "2022-07-16T21:31:45.040Z"
   },
   {
    "duration": 27,
    "start_time": "2022-07-16T21:31:45.056Z"
   },
   {
    "duration": 493,
    "start_time": "2022-07-16T21:31:45.084Z"
   },
   {
    "duration": 460353,
    "start_time": "2022-07-16T21:31:45.579Z"
   },
   {
    "duration": 135,
    "start_time": "2022-07-16T21:39:25.935Z"
   },
   {
    "duration": 8,
    "start_time": "2022-07-16T21:48:53.929Z"
   },
   {
    "duration": 9,
    "start_time": "2022-07-16T21:49:37.438Z"
   },
   {
    "duration": 9,
    "start_time": "2022-07-16T21:51:44.780Z"
   },
   {
    "duration": 9,
    "start_time": "2022-07-16T21:52:18.930Z"
   },
   {
    "duration": 6,
    "start_time": "2022-07-16T21:54:22.067Z"
   },
   {
    "duration": 40,
    "start_time": "2022-07-16T21:54:27.383Z"
   },
   {
    "duration": 24,
    "start_time": "2022-07-16T21:54:40.711Z"
   },
   {
    "duration": 2491,
    "start_time": "2022-07-16T21:56:53.158Z"
   },
   {
    "duration": 2210,
    "start_time": "2022-07-16T21:57:07.595Z"
   },
   {
    "duration": 64,
    "start_time": "2022-07-16T22:00:19.744Z"
   },
   {
    "duration": 3,
    "start_time": "2022-07-16T22:01:07.246Z"
   },
   {
    "duration": 25,
    "start_time": "2022-07-16T22:06:57.304Z"
   },
   {
    "duration": 3547,
    "start_time": "2022-07-16T22:07:05.680Z"
   },
   {
    "duration": 3265,
    "start_time": "2022-07-16T22:07:53.349Z"
   },
   {
    "duration": 2627,
    "start_time": "2022-07-16T22:12:12.962Z"
   },
   {
    "duration": 2910,
    "start_time": "2022-07-16T22:12:26.902Z"
   },
   {
    "duration": 2700,
    "start_time": "2022-07-16T22:13:03.426Z"
   },
   {
    "duration": 4,
    "start_time": "2022-07-16T22:16:04.061Z"
   },
   {
    "duration": 18504,
    "start_time": "2022-07-16T22:17:54.088Z"
   },
   {
    "duration": 155119,
    "start_time": "2022-07-16T22:19:01.829Z"
   },
   {
    "duration": 50275,
    "start_time": "2022-07-16T22:21:50.117Z"
   },
   {
    "duration": 3,
    "start_time": "2022-07-16T22:23:55.478Z"
   },
   {
    "duration": 54,
    "start_time": "2022-07-16T22:24:51.076Z"
   },
   {
    "duration": 25,
    "start_time": "2022-07-16T22:27:25.865Z"
   },
   {
    "duration": 5,
    "start_time": "2022-07-16T22:30:27.104Z"
   },
   {
    "duration": 4,
    "start_time": "2022-07-16T22:31:46.597Z"
   },
   {
    "duration": 2,
    "start_time": "2022-07-16T22:32:24.063Z"
   },
   {
    "duration": 4,
    "start_time": "2022-07-16T22:33:32.863Z"
   },
   {
    "duration": 4,
    "start_time": "2022-07-16T22:33:33.411Z"
   },
   {
    "duration": 4,
    "start_time": "2022-07-16T23:01:47.400Z"
   },
   {
    "duration": 9,
    "start_time": "2022-07-16T23:04:18.732Z"
   },
   {
    "duration": 13,
    "start_time": "2022-07-16T23:04:41.621Z"
   },
   {
    "duration": 5,
    "start_time": "2022-07-16T23:04:58.543Z"
   },
   {
    "duration": 62,
    "start_time": "2022-07-16T23:06:22.202Z"
   },
   {
    "duration": 9,
    "start_time": "2022-07-16T23:27:07.780Z"
   },
   {
    "duration": 2,
    "start_time": "2022-07-16T23:27:15.813Z"
   },
   {
    "duration": 8,
    "start_time": "2022-07-16T23:27:17.412Z"
   },
   {
    "duration": 19,
    "start_time": "2022-07-16T23:27:46.887Z"
   },
   {
    "duration": 24,
    "start_time": "2022-07-16T23:29:50.403Z"
   },
   {
    "duration": 191,
    "start_time": "2022-07-16T23:31:09.552Z"
   },
   {
    "duration": 177,
    "start_time": "2022-07-16T23:31:16.479Z"
   },
   {
    "duration": 192,
    "start_time": "2022-07-16T23:31:22.056Z"
   },
   {
    "duration": 486,
    "start_time": "2022-07-16T23:31:48.942Z"
   },
   {
    "duration": 317,
    "start_time": "2022-07-16T23:32:11.367Z"
   },
   {
    "duration": 212,
    "start_time": "2022-07-16T23:32:15.646Z"
   },
   {
    "duration": 207,
    "start_time": "2022-07-16T23:33:53.180Z"
   },
   {
    "duration": 266,
    "start_time": "2022-07-16T23:34:11.363Z"
   },
   {
    "duration": 19,
    "start_time": "2022-07-16T23:34:24.524Z"
   },
   {
    "duration": 8,
    "start_time": "2022-07-16T23:34:43.010Z"
   },
   {
    "duration": 210,
    "start_time": "2022-07-16T23:34:58.901Z"
   },
   {
    "duration": 1263,
    "start_time": "2022-07-16T23:36:51.342Z"
   },
   {
    "duration": 1210,
    "start_time": "2022-07-16T23:37:03.232Z"
   },
   {
    "duration": 1254,
    "start_time": "2022-07-16T23:38:51.291Z"
   },
   {
    "duration": 487,
    "start_time": "2022-07-16T23:38:56.191Z"
   },
   {
    "duration": 1208,
    "start_time": "2022-07-16T23:39:03.251Z"
   },
   {
    "duration": 1266,
    "start_time": "2022-07-16T23:44:30.320Z"
   },
   {
    "duration": 1072,
    "start_time": "2022-07-16T23:44:36.823Z"
   },
   {
    "duration": 1250,
    "start_time": "2022-07-16T23:44:41.051Z"
   },
   {
    "duration": 3,
    "start_time": "2022-07-16T23:45:19.954Z"
   },
   {
    "duration": 59,
    "start_time": "2022-07-16T23:45:48.795Z"
   },
   {
    "duration": 4,
    "start_time": "2022-07-16T23:46:03.250Z"
   },
   {
    "duration": 25,
    "start_time": "2022-07-16T23:46:28.836Z"
   },
   {
    "duration": 4,
    "start_time": "2022-07-16T23:46:30.221Z"
   },
   {
    "duration": 3,
    "start_time": "2022-07-16T23:46:32.561Z"
   },
   {
    "duration": 2,
    "start_time": "2022-07-16T23:47:21.680Z"
   },
   {
    "duration": 1156,
    "start_time": "2022-07-16T23:47:23.535Z"
   },
   {
    "duration": 11691,
    "start_time": "2022-07-17T00:11:27.033Z"
   },
   {
    "duration": 1032,
    "start_time": "2022-07-17T00:18:08.383Z"
   },
   {
    "duration": 44,
    "start_time": "2022-07-17T00:18:09.417Z"
   },
   {
    "duration": 11,
    "start_time": "2022-07-17T00:18:09.463Z"
   },
   {
    "duration": 7,
    "start_time": "2022-07-17T00:18:09.476Z"
   },
   {
    "duration": 25,
    "start_time": "2022-07-17T00:18:09.485Z"
   },
   {
    "duration": 11,
    "start_time": "2022-07-17T00:18:09.511Z"
   },
   {
    "duration": 4,
    "start_time": "2022-07-17T00:18:09.523Z"
   },
   {
    "duration": 6,
    "start_time": "2022-07-17T00:18:09.529Z"
   },
   {
    "duration": 5,
    "start_time": "2022-07-17T00:18:09.537Z"
   },
   {
    "duration": 485,
    "start_time": "2022-07-17T00:18:09.545Z"
   },
   {
    "duration": 47577,
    "start_time": "2022-07-17T00:18:10.032Z"
   },
   {
    "duration": 2,
    "start_time": "2022-07-17T00:18:57.611Z"
   },
   {
    "duration": 8,
    "start_time": "2022-07-17T00:18:57.615Z"
   },
   {
    "duration": 5,
    "start_time": "2022-07-17T00:18:57.625Z"
   },
   {
    "duration": 1143,
    "start_time": "2022-07-17T00:18:57.632Z"
   },
   {
    "duration": 2079,
    "start_time": "2022-07-17T00:18:58.776Z"
   },
   {
    "duration": 52,
    "start_time": "2022-07-17T00:19:00.857Z"
   },
   {
    "duration": 2,
    "start_time": "2022-07-17T00:19:00.911Z"
   },
   {
    "duration": 2466,
    "start_time": "2022-07-17T00:19:00.914Z"
   },
   {
    "duration": 1089,
    "start_time": "2022-07-17T00:26:30.025Z"
   },
   {
    "duration": 46,
    "start_time": "2022-07-17T00:26:31.116Z"
   },
   {
    "duration": 12,
    "start_time": "2022-07-17T00:26:31.164Z"
   },
   {
    "duration": 21,
    "start_time": "2022-07-17T00:26:31.179Z"
   },
   {
    "duration": 48,
    "start_time": "2022-07-17T00:26:31.201Z"
   },
   {
    "duration": 22,
    "start_time": "2022-07-17T00:26:31.251Z"
   },
   {
    "duration": 25,
    "start_time": "2022-07-17T00:26:31.275Z"
   },
   {
    "duration": 35,
    "start_time": "2022-07-17T00:26:31.301Z"
   },
   {
    "duration": 39,
    "start_time": "2022-07-17T00:26:31.337Z"
   },
   {
    "duration": 508,
    "start_time": "2022-07-17T00:26:31.379Z"
   },
   {
    "duration": 31791,
    "start_time": "2022-07-17T00:26:31.889Z"
   },
   {
    "duration": 2,
    "start_time": "2022-07-17T00:27:03.682Z"
   },
   {
    "duration": 13,
    "start_time": "2022-07-17T00:27:03.685Z"
   },
   {
    "duration": 7,
    "start_time": "2022-07-17T00:27:03.700Z"
   },
   {
    "duration": 1166,
    "start_time": "2022-07-17T00:27:03.709Z"
   },
   {
    "duration": 2088,
    "start_time": "2022-07-17T00:27:04.876Z"
   },
   {
    "duration": 52,
    "start_time": "2022-07-17T00:27:06.966Z"
   },
   {
    "duration": 3,
    "start_time": "2022-07-17T00:27:07.020Z"
   },
   {
    "duration": 2334,
    "start_time": "2022-07-17T00:27:07.024Z"
   },
   {
    "duration": 23574,
    "start_time": "2022-07-17T00:27:09.360Z"
   },
   {
    "duration": 4,
    "start_time": "2022-07-17T00:27:32.936Z"
   },
   {
    "duration": 28,
    "start_time": "2022-07-17T00:27:32.941Z"
   },
   {
    "duration": 4,
    "start_time": "2022-07-17T00:27:32.971Z"
   },
   {
    "duration": 8,
    "start_time": "2022-07-17T00:27:32.976Z"
   },
   {
    "duration": 10,
    "start_time": "2022-07-17T00:27:32.986Z"
   },
   {
    "duration": 4,
    "start_time": "2022-07-17T00:28:46.361Z"
   },
   {
    "duration": 33,
    "start_time": "2022-07-17T00:30:56.246Z"
   },
   {
    "duration": 6,
    "start_time": "2022-07-17T00:30:57.358Z"
   },
   {
    "duration": 4,
    "start_time": "2022-07-17T00:30:58.758Z"
   },
   {
    "duration": 6,
    "start_time": "2022-07-17T00:32:14.142Z"
   },
   {
    "duration": 4,
    "start_time": "2022-07-17T00:32:29.300Z"
   },
   {
    "duration": 4,
    "start_time": "2022-07-17T00:33:02.803Z"
   },
   {
    "duration": 4,
    "start_time": "2022-07-17T00:33:13.738Z"
   },
   {
    "duration": 3,
    "start_time": "2022-07-17T00:33:17.402Z"
   },
   {
    "duration": 5,
    "start_time": "2022-07-17T00:33:58.771Z"
   },
   {
    "duration": 4,
    "start_time": "2022-07-17T00:34:14.291Z"
   },
   {
    "duration": 25293,
    "start_time": "2022-07-17T00:35:25.347Z"
   },
   {
    "duration": 52,
    "start_time": "2022-07-17T00:36:00.724Z"
   },
   {
    "duration": 5,
    "start_time": "2022-07-17T00:41:52.398Z"
   },
   {
    "duration": 6,
    "start_time": "2022-07-17T00:41:55.438Z"
   },
   {
    "duration": 6,
    "start_time": "2022-07-17T00:41:58.214Z"
   },
   {
    "duration": 7,
    "start_time": "2022-07-17T00:42:00.638Z"
   },
   {
    "duration": 5,
    "start_time": "2022-07-17T00:42:02.144Z"
   },
   {
    "duration": 1424,
    "start_time": "2022-07-17T07:56:59.247Z"
   },
   {
    "duration": 122,
    "start_time": "2022-07-17T07:57:00.673Z"
   },
   {
    "duration": 12,
    "start_time": "2022-07-17T07:57:00.797Z"
   },
   {
    "duration": 6,
    "start_time": "2022-07-17T07:57:00.810Z"
   },
   {
    "duration": 38,
    "start_time": "2022-07-17T07:57:00.818Z"
   },
   {
    "duration": 15,
    "start_time": "2022-07-17T07:57:00.857Z"
   },
   {
    "duration": 5,
    "start_time": "2022-07-17T07:57:00.873Z"
   },
   {
    "duration": 20,
    "start_time": "2022-07-17T07:57:00.879Z"
   },
   {
    "duration": 16,
    "start_time": "2022-07-17T07:57:00.900Z"
   },
   {
    "duration": 499,
    "start_time": "2022-07-17T07:57:00.917Z"
   },
   {
    "duration": 34049,
    "start_time": "2022-07-17T07:57:01.418Z"
   },
   {
    "duration": 3,
    "start_time": "2022-07-17T07:57:35.468Z"
   },
   {
    "duration": 16,
    "start_time": "2022-07-17T07:57:35.472Z"
   },
   {
    "duration": 1300,
    "start_time": "2022-07-17T07:57:35.491Z"
   },
   {
    "duration": 2576,
    "start_time": "2022-07-17T07:57:36.793Z"
   },
   {
    "duration": 52,
    "start_time": "2022-07-17T07:57:39.371Z"
   },
   {
    "duration": 3,
    "start_time": "2022-07-17T07:57:39.424Z"
   },
   {
    "duration": 3157,
    "start_time": "2022-07-17T07:57:39.429Z"
   },
   {
    "duration": 30731,
    "start_time": "2022-07-17T07:57:42.588Z"
   },
   {
    "duration": 4,
    "start_time": "2022-07-17T07:58:13.321Z"
   },
   {
    "duration": 37,
    "start_time": "2022-07-17T07:58:13.327Z"
   },
   {
    "duration": 6,
    "start_time": "2022-07-17T07:58:13.366Z"
   },
   {
    "duration": 13,
    "start_time": "2022-07-17T07:58:13.373Z"
   },
   {
    "duration": 7,
    "start_time": "2022-07-17T07:58:13.388Z"
   },
   {
    "duration": 8,
    "start_time": "2022-07-17T07:58:13.397Z"
   },
   {
    "duration": 30528,
    "start_time": "2022-07-17T08:14:42.585Z"
   },
   {
    "duration": 25856,
    "start_time": "2022-07-17T08:15:22.343Z"
   },
   {
    "duration": 23514,
    "start_time": "2022-07-17T08:19:09.349Z"
   },
   {
    "duration": 1229,
    "start_time": "2022-07-17T08:28:35.615Z"
   },
   {
    "duration": 42,
    "start_time": "2022-07-17T08:28:36.845Z"
   },
   {
    "duration": 10,
    "start_time": "2022-07-17T08:28:36.888Z"
   },
   {
    "duration": 8,
    "start_time": "2022-07-17T08:28:36.900Z"
   },
   {
    "duration": 22,
    "start_time": "2022-07-17T08:28:36.909Z"
   },
   {
    "duration": 10,
    "start_time": "2022-07-17T08:28:36.932Z"
   },
   {
    "duration": 3,
    "start_time": "2022-07-17T08:28:36.943Z"
   },
   {
    "duration": 7,
    "start_time": "2022-07-17T08:28:36.948Z"
   },
   {
    "duration": 5,
    "start_time": "2022-07-17T08:28:36.957Z"
   },
   {
    "duration": 486,
    "start_time": "2022-07-17T08:28:36.965Z"
   },
   {
    "duration": 31575,
    "start_time": "2022-07-17T08:28:37.453Z"
   },
   {
    "duration": 2,
    "start_time": "2022-07-17T08:29:09.030Z"
   },
   {
    "duration": 21,
    "start_time": "2022-07-17T08:29:09.034Z"
   },
   {
    "duration": 1234,
    "start_time": "2022-07-17T08:29:09.058Z"
   },
   {
    "duration": 2025,
    "start_time": "2022-07-17T08:29:10.293Z"
   },
   {
    "duration": 52,
    "start_time": "2022-07-17T08:29:12.320Z"
   },
   {
    "duration": 3,
    "start_time": "2022-07-17T08:29:12.374Z"
   },
   {
    "duration": 21867,
    "start_time": "2022-07-17T08:29:12.379Z"
   },
   {
    "duration": 24384,
    "start_time": "2022-07-17T08:29:34.249Z"
   },
   {
    "duration": 4,
    "start_time": "2022-07-17T08:29:58.634Z"
   },
   {
    "duration": 28,
    "start_time": "2022-07-17T08:29:58.639Z"
   },
   {
    "duration": 4,
    "start_time": "2022-07-17T08:29:58.668Z"
   },
   {
    "duration": 7,
    "start_time": "2022-07-17T08:29:58.673Z"
   },
   {
    "duration": 7,
    "start_time": "2022-07-17T08:29:58.682Z"
   },
   {
    "duration": 1239,
    "start_time": "2022-07-17T08:32:04.009Z"
   },
   {
    "duration": 41,
    "start_time": "2022-07-17T08:32:05.250Z"
   },
   {
    "duration": 12,
    "start_time": "2022-07-17T08:32:05.292Z"
   },
   {
    "duration": 10,
    "start_time": "2022-07-17T08:32:05.306Z"
   },
   {
    "duration": 22,
    "start_time": "2022-07-17T08:32:05.318Z"
   },
   {
    "duration": 10,
    "start_time": "2022-07-17T08:32:05.342Z"
   },
   {
    "duration": 4,
    "start_time": "2022-07-17T08:32:05.353Z"
   },
   {
    "duration": 10,
    "start_time": "2022-07-17T08:32:05.358Z"
   },
   {
    "duration": 7,
    "start_time": "2022-07-17T08:32:05.369Z"
   },
   {
    "duration": 469,
    "start_time": "2022-07-17T08:32:05.378Z"
   },
   {
    "duration": 31680,
    "start_time": "2022-07-17T08:32:05.849Z"
   },
   {
    "duration": 2,
    "start_time": "2022-07-17T08:32:37.531Z"
   },
   {
    "duration": 36,
    "start_time": "2022-07-17T08:32:37.535Z"
   },
   {
    "duration": 1170,
    "start_time": "2022-07-17T08:32:37.572Z"
   },
   {
    "duration": 2056,
    "start_time": "2022-07-17T08:32:38.746Z"
   },
   {
    "duration": 51,
    "start_time": "2022-07-17T08:32:40.804Z"
   },
   {
    "duration": 3,
    "start_time": "2022-07-17T08:32:40.856Z"
   },
   {
    "duration": 25754,
    "start_time": "2022-07-17T08:32:40.861Z"
   },
   {
    "duration": 3,
    "start_time": "2022-07-17T08:33:06.617Z"
   },
   {
    "duration": 28,
    "start_time": "2022-07-17T08:33:06.621Z"
   },
   {
    "duration": 4,
    "start_time": "2022-07-17T08:33:06.651Z"
   },
   {
    "duration": 5,
    "start_time": "2022-07-17T08:33:06.656Z"
   },
   {
    "duration": 8,
    "start_time": "2022-07-17T08:33:06.663Z"
   },
   {
    "duration": 1076,
    "start_time": "2022-07-30T14:30:06.816Z"
   },
   {
    "duration": 122,
    "start_time": "2022-07-30T14:30:11.661Z"
   },
   {
    "duration": 15,
    "start_time": "2022-07-30T14:30:13.227Z"
   },
   {
    "duration": 7,
    "start_time": "2022-07-30T14:30:15.922Z"
   },
   {
    "duration": 32,
    "start_time": "2022-07-30T14:30:17.148Z"
   },
   {
    "duration": 13,
    "start_time": "2022-07-30T14:30:19.916Z"
   },
   {
    "duration": 5,
    "start_time": "2022-07-30T14:36:44.913Z"
   },
   {
    "duration": 8,
    "start_time": "2022-07-30T14:36:46.008Z"
   },
   {
    "duration": 5,
    "start_time": "2022-07-30T14:36:47.338Z"
   },
   {
    "duration": 110,
    "start_time": "2022-07-30T14:39:07.953Z"
   },
   {
    "duration": 3,
    "start_time": "2022-07-30T14:39:08.382Z"
   },
   {
    "duration": 10,
    "start_time": "2022-07-30T14:40:02.633Z"
   },
   {
    "duration": 5,
    "start_time": "2022-07-30T14:40:03.873Z"
   },
   {
    "duration": 12,
    "start_time": "2022-07-30T14:40:48.629Z"
   },
   {
    "duration": 4,
    "start_time": "2022-07-30T14:40:49.740Z"
   },
   {
    "duration": 18,
    "start_time": "2022-07-30T14:41:13.723Z"
   },
   {
    "duration": 14,
    "start_time": "2022-07-30T14:41:22.548Z"
   },
   {
    "duration": 8,
    "start_time": "2022-07-30T14:41:51.435Z"
   },
   {
    "duration": 6,
    "start_time": "2022-07-30T14:42:07.986Z"
   },
   {
    "duration": 18,
    "start_time": "2022-07-30T14:42:44.778Z"
   },
   {
    "duration": 4,
    "start_time": "2022-07-30T14:42:45.290Z"
   },
   {
    "duration": 21,
    "start_time": "2022-07-30T14:42:51.317Z"
   },
   {
    "duration": 4,
    "start_time": "2022-07-30T14:42:52.089Z"
   },
   {
    "duration": 9,
    "start_time": "2022-07-30T14:43:04.346Z"
   },
   {
    "duration": 4,
    "start_time": "2022-07-30T14:43:05.239Z"
   },
   {
    "duration": 5,
    "start_time": "2022-07-30T14:43:06.076Z"
   },
   {
    "duration": 3,
    "start_time": "2022-07-30T14:46:16.762Z"
   },
   {
    "duration": 51,
    "start_time": "2022-07-30T14:46:49.758Z"
   },
   {
    "duration": 57,
    "start_time": "2022-07-30T14:48:58.554Z"
   },
   {
    "duration": 477,
    "start_time": "2022-07-30T14:52:12.620Z"
   },
   {
    "duration": 5,
    "start_time": "2022-07-30T14:52:58.781Z"
   },
   {
    "duration": 14,
    "start_time": "2022-07-30T14:56:14.217Z"
   },
   {
    "duration": 15,
    "start_time": "2022-07-30T14:56:31.603Z"
   },
   {
    "duration": 392,
    "start_time": "2022-07-30T14:57:07.865Z"
   },
   {
    "duration": 129,
    "start_time": "2022-07-30T14:57:28.769Z"
   },
   {
    "duration": 104,
    "start_time": "2022-07-30T14:57:53.694Z"
   },
   {
    "duration": 20,
    "start_time": "2022-07-30T15:01:13.154Z"
   },
   {
    "duration": 20,
    "start_time": "2022-07-30T15:03:20.813Z"
   },
   {
    "duration": 568,
    "start_time": "2022-07-30T15:04:08.868Z"
   },
   {
    "duration": 70968,
    "start_time": "2022-07-30T15:14:33.772Z"
   },
   {
    "duration": 578,
    "start_time": "2022-07-30T15:17:12.501Z"
   },
   {
    "duration": 646,
    "start_time": "2022-07-30T15:17:29.245Z"
   },
   {
    "duration": 670,
    "start_time": "2022-07-30T15:18:16.216Z"
   },
   {
    "duration": 558,
    "start_time": "2022-07-30T15:18:30.742Z"
   },
   {
    "duration": 18,
    "start_time": "2022-07-30T15:22:14.392Z"
   },
   {
    "duration": 577,
    "start_time": "2022-07-30T15:22:58.541Z"
   },
   {
    "duration": 139758,
    "start_time": "2022-07-30T15:23:11.713Z"
   },
   {
    "duration": 182763,
    "start_time": "2022-07-30T15:28:46.863Z"
   },
   {
    "duration": 7658,
    "start_time": "2022-07-30T15:44:04.958Z"
   },
   {
    "duration": 25318,
    "start_time": "2022-07-30T15:45:10.871Z"
   },
   {
    "duration": 295,
    "start_time": "2022-07-30T15:53:04.099Z"
   },
   {
    "duration": 287,
    "start_time": "2022-07-30T15:53:29.387Z"
   },
   {
    "duration": 598,
    "start_time": "2022-07-30T15:54:30.098Z"
   },
   {
    "duration": 656,
    "start_time": "2022-07-30T15:54:40.395Z"
   },
   {
    "duration": 10,
    "start_time": "2022-07-30T15:57:20.940Z"
   },
   {
    "duration": 560,
    "start_time": "2022-07-30T15:57:49.939Z"
   },
   {
    "duration": 23904,
    "start_time": "2022-07-30T15:58:15.637Z"
   },
   {
    "duration": 24126,
    "start_time": "2022-07-30T15:59:44.763Z"
   },
   {
    "duration": 24011,
    "start_time": "2022-07-30T16:00:40.585Z"
   },
   {
    "duration": 586,
    "start_time": "2022-07-30T16:02:23.863Z"
   },
   {
    "duration": 600,
    "start_time": "2022-07-30T16:04:39.788Z"
   },
   {
    "duration": 582,
    "start_time": "2022-07-30T16:04:50.652Z"
   },
   {
    "duration": 24435,
    "start_time": "2022-07-30T16:05:10.864Z"
   },
   {
    "duration": 23704,
    "start_time": "2022-07-30T16:07:24.673Z"
   },
   {
    "duration": 598,
    "start_time": "2022-07-30T16:07:48.379Z"
   },
   {
    "duration": 24285,
    "start_time": "2022-07-30T16:08:03.039Z"
   },
   {
    "duration": 5,
    "start_time": "2022-07-30T16:14:51.115Z"
   },
   {
    "duration": 11,
    "start_time": "2022-07-30T16:15:22.532Z"
   },
   {
    "duration": 4,
    "start_time": "2022-07-30T16:15:32.980Z"
   },
   {
    "duration": 11,
    "start_time": "2022-07-30T16:17:27.137Z"
   },
   {
    "duration": 11,
    "start_time": "2022-07-30T16:18:09.777Z"
   },
   {
    "duration": 4,
    "start_time": "2022-07-30T16:18:13.639Z"
   },
   {
    "duration": 3,
    "start_time": "2022-07-30T16:19:55.052Z"
   },
   {
    "duration": 1331,
    "start_time": "2022-07-30T16:20:05.192Z"
   },
   {
    "duration": 12,
    "start_time": "2022-07-30T16:28:06.415Z"
   },
   {
    "duration": 2404,
    "start_time": "2022-07-30T16:28:12.770Z"
   },
   {
    "duration": 53,
    "start_time": "2022-07-30T16:28:15.176Z"
   },
   {
    "duration": 3,
    "start_time": "2022-07-30T16:28:15.232Z"
   },
   {
    "duration": 16,
    "start_time": "2022-07-30T16:28:17.113Z"
   },
   {
    "duration": 109509,
    "start_time": "2022-07-30T16:30:37.688Z"
   },
   {
    "duration": 10,
    "start_time": "2022-07-30T16:34:44.421Z"
   },
   {
    "duration": 9,
    "start_time": "2022-07-30T16:35:04.612Z"
   },
   {
    "duration": 13,
    "start_time": "2022-07-30T16:40:42.041Z"
   },
   {
    "duration": 16,
    "start_time": "2022-07-30T16:41:07.223Z"
   },
   {
    "duration": 16,
    "start_time": "2022-07-30T16:41:12.391Z"
   },
   {
    "duration": 11,
    "start_time": "2022-07-30T16:41:56.593Z"
   },
   {
    "duration": 11,
    "start_time": "2022-07-30T16:42:45.892Z"
   },
   {
    "duration": 8,
    "start_time": "2022-07-30T16:43:00.205Z"
   },
   {
    "duration": 15,
    "start_time": "2022-07-30T16:43:26.415Z"
   },
   {
    "duration": 11,
    "start_time": "2022-07-30T16:43:58.893Z"
   },
   {
    "duration": 11,
    "start_time": "2022-07-30T16:44:13.612Z"
   },
   {
    "duration": 3,
    "start_time": "2022-07-30T16:44:41.912Z"
   },
   {
    "duration": 109730,
    "start_time": "2022-07-30T16:44:42.931Z"
   },
   {
    "duration": 3,
    "start_time": "2022-07-30T16:46:32.662Z"
   },
   {
    "duration": 5,
    "start_time": "2022-07-30T16:46:32.667Z"
   },
   {
    "duration": 2,
    "start_time": "2022-07-30T16:46:44.465Z"
   },
   {
    "duration": 140602,
    "start_time": "2022-07-30T16:46:45.551Z"
   },
   {
    "duration": 24454,
    "start_time": "2022-07-30T16:51:54.719Z"
   },
   {
    "duration": 11,
    "start_time": "2022-07-30T16:54:39.653Z"
   },
   {
    "duration": 3,
    "start_time": "2022-07-30T16:54:43.919Z"
   },
   {
    "duration": 26991,
    "start_time": "2022-07-30T16:54:45.318Z"
   },
   {
    "duration": 210261,
    "start_time": "2022-07-30T16:56:03.441Z"
   },
   {
    "duration": 26477,
    "start_time": "2022-07-30T17:00:23.946Z"
   },
   {
    "duration": 89789,
    "start_time": "2022-07-30T17:01:09.785Z"
   },
   {
    "duration": 6,
    "start_time": "2022-07-30T17:03:16.226Z"
   },
   {
    "duration": 5,
    "start_time": "2022-07-30T17:18:44.532Z"
   },
   {
    "duration": 4,
    "start_time": "2022-07-30T17:18:58.349Z"
   },
   {
    "duration": 10,
    "start_time": "2022-07-30T17:19:13.378Z"
   },
   {
    "duration": 10,
    "start_time": "2022-07-30T17:19:15.632Z"
   },
   {
    "duration": 4,
    "start_time": "2022-07-30T17:19:26.605Z"
   },
   {
    "duration": 6,
    "start_time": "2022-07-30T17:20:25.686Z"
   },
   {
    "duration": 6,
    "start_time": "2022-07-30T17:20:47.105Z"
   },
   {
    "duration": 5,
    "start_time": "2022-07-30T17:21:35.933Z"
   },
   {
    "duration": 4285,
    "start_time": "2022-07-30T17:29:16.575Z"
   },
   {
    "duration": 4833,
    "start_time": "2022-07-30T17:30:05.127Z"
   },
   {
    "duration": 4322,
    "start_time": "2022-07-30T17:30:38.055Z"
   },
   {
    "duration": 11,
    "start_time": "2022-07-30T17:31:08.459Z"
   },
   {
    "duration": 5,
    "start_time": "2022-07-30T17:31:16.553Z"
   },
   {
    "duration": 9,
    "start_time": "2022-07-30T17:31:56.167Z"
   },
   {
    "duration": 4124,
    "start_time": "2022-07-30T17:33:30.491Z"
   },
   {
    "duration": 9,
    "start_time": "2022-07-30T17:33:36.342Z"
   },
   {
    "duration": 6,
    "start_time": "2022-07-30T17:33:49.723Z"
   },
   {
    "duration": 4,
    "start_time": "2022-07-30T17:36:00.256Z"
   },
   {
    "duration": 10,
    "start_time": "2022-07-30T17:36:41.538Z"
   },
   {
    "duration": 2,
    "start_time": "2022-07-30T17:37:21.747Z"
   },
   {
    "duration": 11,
    "start_time": "2022-07-30T17:37:45.840Z"
   },
   {
    "duration": 10,
    "start_time": "2022-07-30T17:37:54.849Z"
   },
   {
    "duration": 11,
    "start_time": "2022-07-30T17:37:55.287Z"
   },
   {
    "duration": 3,
    "start_time": "2022-07-30T17:38:11.745Z"
   },
   {
    "duration": 4,
    "start_time": "2022-07-30T17:38:27.674Z"
   },
   {
    "duration": 4,
    "start_time": "2022-07-30T17:38:33.425Z"
   },
   {
    "duration": 10,
    "start_time": "2022-07-30T20:48:03.928Z"
   },
   {
    "duration": 15,
    "start_time": "2022-07-30T20:48:17.583Z"
   },
   {
    "duration": 75,
    "start_time": "2022-07-30T20:48:22.434Z"
   },
   {
    "duration": 9,
    "start_time": "2022-07-30T20:48:29.594Z"
   },
   {
    "duration": 17,
    "start_time": "2022-07-30T20:48:38.387Z"
   },
   {
    "duration": 11,
    "start_time": "2022-07-30T20:48:46.242Z"
   },
   {
    "duration": 9,
    "start_time": "2022-07-30T20:48:49.642Z"
   },
   {
    "duration": 63,
    "start_time": "2022-07-30T21:16:48.642Z"
   },
   {
    "duration": 6,
    "start_time": "2022-07-30T21:24:50.039Z"
   },
   {
    "duration": 10,
    "start_time": "2022-07-30T21:29:22.322Z"
   },
   {
    "duration": 2,
    "start_time": "2022-07-30T21:32:11.996Z"
   },
   {
    "duration": 6,
    "start_time": "2022-07-30T21:32:17.040Z"
   },
   {
    "duration": 9,
    "start_time": "2022-07-30T21:32:26.654Z"
   },
   {
    "duration": 3,
    "start_time": "2022-07-30T21:33:53.082Z"
   },
   {
    "duration": 12,
    "start_time": "2022-07-30T21:33:54.111Z"
   },
   {
    "duration": 5,
    "start_time": "2022-07-30T21:34:03.467Z"
   },
   {
    "duration": 6,
    "start_time": "2022-07-30T21:42:12.632Z"
   },
   {
    "duration": 3,
    "start_time": "2022-07-30T21:45:29.854Z"
   },
   {
    "duration": 1455,
    "start_time": "2022-07-30T21:45:55.236Z"
   },
   {
    "duration": 43,
    "start_time": "2022-07-30T21:45:56.694Z"
   },
   {
    "duration": 11,
    "start_time": "2022-07-30T21:45:56.739Z"
   },
   {
    "duration": 13,
    "start_time": "2022-07-30T21:45:56.753Z"
   },
   {
    "duration": 40,
    "start_time": "2022-07-30T21:45:56.768Z"
   },
   {
    "duration": 10,
    "start_time": "2022-07-30T21:45:56.810Z"
   },
   {
    "duration": 4,
    "start_time": "2022-07-30T21:45:56.821Z"
   },
   {
    "duration": 14,
    "start_time": "2022-07-30T21:45:56.826Z"
   },
   {
    "duration": 6,
    "start_time": "2022-07-30T21:45:56.841Z"
   },
   {
    "duration": 9,
    "start_time": "2022-07-30T21:45:56.849Z"
   },
   {
    "duration": 690,
    "start_time": "2022-07-30T21:45:56.860Z"
   },
   {
    "duration": 26611,
    "start_time": "2022-07-30T21:45:57.572Z"
   },
   {
    "duration": 2,
    "start_time": "2022-07-30T21:46:24.186Z"
   },
   {
    "duration": 8,
    "start_time": "2022-07-30T21:46:24.190Z"
   },
   {
    "duration": 1394,
    "start_time": "2022-07-30T21:46:24.199Z"
   },
   {
    "duration": 2182,
    "start_time": "2022-07-30T21:46:25.596Z"
   },
   {
    "duration": 52,
    "start_time": "2022-07-30T21:46:27.780Z"
   },
   {
    "duration": 3,
    "start_time": "2022-07-30T21:46:27.834Z"
   },
   {
    "duration": 99257,
    "start_time": "2022-07-30T21:46:27.838Z"
   },
   {
    "duration": 4,
    "start_time": "2022-07-30T21:48:07.097Z"
   },
   {
    "duration": 4853,
    "start_time": "2022-07-30T21:48:07.103Z"
   },
   {
    "duration": 3,
    "start_time": "2022-07-30T21:48:11.957Z"
   },
   {
    "duration": 30,
    "start_time": "2022-07-30T21:48:11.961Z"
   },
   {
    "duration": 9,
    "start_time": "2022-07-30T21:48:11.993Z"
   },
   {
    "duration": 5,
    "start_time": "2022-07-30T21:48:12.004Z"
   },
   {
    "duration": 13,
    "start_time": "2022-07-30T21:48:12.011Z"
   },
   {
    "duration": 6,
    "start_time": "2022-07-30T21:48:12.025Z"
   },
   {
    "duration": 9,
    "start_time": "2022-07-30T21:48:12.034Z"
   },
   {
    "duration": 1469,
    "start_time": "2022-07-31T03:13:58.642Z"
   },
   {
    "duration": 113,
    "start_time": "2022-07-31T03:14:00.112Z"
   },
   {
    "duration": 10,
    "start_time": "2022-07-31T03:14:00.227Z"
   },
   {
    "duration": 30,
    "start_time": "2022-07-31T03:14:00.238Z"
   },
   {
    "duration": 29,
    "start_time": "2022-07-31T03:14:00.269Z"
   },
   {
    "duration": 15,
    "start_time": "2022-07-31T03:14:00.299Z"
   },
   {
    "duration": 16,
    "start_time": "2022-07-31T03:14:00.316Z"
   },
   {
    "duration": 32,
    "start_time": "2022-07-31T03:14:00.333Z"
   },
   {
    "duration": 23,
    "start_time": "2022-07-31T03:14:00.367Z"
   },
   {
    "duration": 25,
    "start_time": "2022-07-31T03:14:00.392Z"
   },
   {
    "duration": 614,
    "start_time": "2022-07-31T03:14:00.419Z"
   },
   {
    "duration": 21968,
    "start_time": "2022-07-31T03:14:01.035Z"
   },
   {
    "duration": 2,
    "start_time": "2022-07-31T03:14:23.004Z"
   },
   {
    "duration": 8,
    "start_time": "2022-07-31T03:14:23.008Z"
   },
   {
    "duration": 1148,
    "start_time": "2022-07-31T03:14:23.018Z"
   },
   {
    "duration": 1999,
    "start_time": "2022-07-31T03:14:24.167Z"
   },
   {
    "duration": 48,
    "start_time": "2022-07-31T03:14:26.168Z"
   },
   {
    "duration": 2,
    "start_time": "2022-07-31T03:14:26.218Z"
   },
   {
    "duration": 90709,
    "start_time": "2022-07-31T03:14:26.221Z"
   },
   {
    "duration": 4,
    "start_time": "2022-07-31T03:15:56.931Z"
   },
   {
    "duration": 3712,
    "start_time": "2022-07-31T03:15:56.936Z"
   },
   {
    "duration": 3,
    "start_time": "2022-07-31T03:16:00.649Z"
   },
   {
    "duration": 38,
    "start_time": "2022-07-31T03:16:00.653Z"
   },
   {
    "duration": 17,
    "start_time": "2022-07-31T03:16:00.693Z"
   },
   {
    "duration": 41,
    "start_time": "2022-07-31T03:16:00.712Z"
   },
   {
    "duration": 56,
    "start_time": "2022-07-31T03:16:00.754Z"
   },
   {
    "duration": 34,
    "start_time": "2022-07-31T03:16:00.812Z"
   },
   {
    "duration": 19,
    "start_time": "2022-07-31T03:16:00.850Z"
   },
   {
    "duration": 31992,
    "start_time": "2022-07-31T03:20:51.654Z"
   },
   {
    "duration": 125395,
    "start_time": "2022-07-31T03:21:25.314Z"
   },
   {
    "duration": 1619,
    "start_time": "2022-08-31T10:56:56.685Z"
   }
  ],
  "kernelspec": {
   "display_name": "Python 3 (ipykernel)",
   "language": "python",
   "name": "python3"
  },
  "language_info": {
   "codemirror_mode": {
    "name": "ipython",
    "version": 3
   },
   "file_extension": ".py",
   "mimetype": "text/x-python",
   "name": "python",
   "nbconvert_exporter": "python",
   "pygments_lexer": "ipython3",
   "version": "3.9.13"
  },
  "toc": {
   "base_numbering": 1,
   "nav_menu": {},
   "number_sections": true,
   "sideBar": true,
   "skip_h1_title": true,
   "title_cell": "Table of Contents",
   "title_sidebar": "Contents",
   "toc_cell": false,
   "toc_position": {},
   "toc_section_display": true,
   "toc_window_display": false
  }
 },
 "nbformat": 4,
 "nbformat_minor": 2
}
