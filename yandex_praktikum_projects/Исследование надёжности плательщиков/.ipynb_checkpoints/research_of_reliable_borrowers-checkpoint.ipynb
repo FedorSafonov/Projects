{
 "cells": [
  {
   "cell_type": "markdown",
   "id": "40687afe",
   "metadata": {},
   "source": [
    "# Исследование надежности заемщиков."
   ]
  },
  {
   "cell_type": "markdown",
   "id": "adda0dc7",
   "metadata": {},
   "source": [
    "# Описание проекта"
   ]
  },
  {
   "cell_type": "markdown",
   "id": "3ee3f411",
   "metadata": {},
   "source": [
    " Заказчик — кредитный отдел банка. Нужно разобраться, влияет ли семейное положение и количество детей клиента на факт погашения кредита в срок. Входные данные от банка — статистика о платёжеспособности клиентов. Результаты исследования будут учтены при построении модели кредитного скоринга — специальной системы, которая оценивает способность потенциального заёмщика вернуть кредит банку."
   ]
  },
  {
   "cell_type": "markdown",
   "id": "19df6339",
   "metadata": {},
   "source": [
    " \n",
    " **Цель исследования** — проверьте две гипотезы:\n",
    "1. Семейное положение влияет на погашение кредита в срок\n",
    "2. Наличие детей так же влияет.\n",
    "\n",
    "3. (Дополнительно хочу проверить как влияют остальные факторы, ведь любой показатель может иметь значение, хоть это и не являеться основной задачей, я думаю это будет интересно ;)\n",
    "\n",
    "**Ход исследования**\n",
    "\n",
    "О данных ничего не известно. Поэтому перед проверкой гипотез понадобится обзор данных. После оценки данных на ошибки, я оценю влияют-ли они на исследование или нет, если да, то выполню предобработку. Так же может потребоваться провести категоризацию.\n",
    "\n",
    " Таким образом, исследование пройдёт в три этапа:\n",
    " 1. Обзор данных.\n",
    " 2. Предобработка данных, которая включает: \n",
    " * проверка на пропуски\n",
    " * дубликаты\n",
    " * ошибки и аномалии\n",
    " * а так же категаризация данных.\n",
    " 3. Проверка гипотез путём сравнения с средним показанием столбца 'debt'.\n",
    " 4. Так же я хочу проскорить таблицу и проверить насколько сильно влияют эти факторы."
   ]
  },
  {
   "cell_type": "code",
   "execution_count": 1,
   "id": "0062d026",
   "metadata": {},
   "outputs": [
    {
     "name": "stdout",
     "output_type": "stream",
     "text": [
      "Collecting package metadata (current_repodata.json): ...working... done\n",
      "Solving environment: ...working... done\n",
      "\n",
      "## Package Plan ##\n",
      "\n",
      "  environment location: C:\\Users\\elpiz\\anaconda3\n",
      "\n",
      "  added / updated specs:\n",
      "    - jupyterthemes\n",
      "\n",
      "\n",
      "The following packages will be downloaded:\n",
      "\n",
      "    package                    |            build\n",
      "    ---------------------------|-----------------\n",
      "    conda-22.11.1              |   py39hcbf5309_1         908 KB  conda-forge\n",
      "    jupyterthemes-0.20.0       |             py_1         6.1 MB  conda-forge\n",
      "    lesscpy-0.15.1             |     pyhd8ed1ab_0          39 KB  conda-forge\n",
      "    ply-3.11                   |             py_1          44 KB  conda-forge\n",
      "    python_abi-3.9             |           2_cp39           4 KB  conda-forge\n",
      "    ------------------------------------------------------------\n",
      "                                           Total:         7.0 MB\n",
      "\n",
      "The following NEW packages will be INSTALLED:\n",
      "\n",
      "  jupyterthemes      conda-forge/noarch::jupyterthemes-0.20.0-py_1 \n",
      "  lesscpy            conda-forge/noarch::lesscpy-0.15.1-pyhd8ed1ab_0 \n",
      "  ply                conda-forge/noarch::ply-3.11-py_1 \n",
      "  python_abi         conda-forge/win-64::python_abi-3.9-2_cp39 \n",
      "\n",
      "The following packages will be SUPERSEDED by a higher-priority channel:\n",
      "\n",
      "  conda              pkgs/main::conda-22.11.1-py39haa95532~ --> conda-forge::conda-22.11.1-py39hcbf5309_1 \n",
      "\n",
      "\n",
      "\n",
      "Downloading and Extracting Packages\n",
      "\n",
      "python_abi-3.9       | 4 KB      |            |   0% \n",
      "\n",
      "lesscpy-0.15.1       | 39 KB     |            |   0% \u001b[A\n",
      "\n",
      "\n",
      "ply-3.11             | 44 KB     |            |   0% \u001b[A\u001b[A\n",
      "\n",
      "\n",
      "\n",
      "conda-22.11.1        | 908 KB    |            |   0% \u001b[A\u001b[A\u001b[A\n",
      "\n",
      "\n",
      "\n",
      "\n",
      "jupyterthemes-0.20.0 | 6.1 MB    |            |   0% \u001b[A\u001b[A\u001b[A\u001b[A\n",
      "\n",
      "lesscpy-0.15.1       | 39 KB     | ####1      |  41% \u001b[A\n",
      "python_abi-3.9       | 4 KB      | ########## | 100% \n",
      "\n",
      "\n",
      "ply-3.11             | 44 KB     | ###6       |  37% \u001b[A\u001b[A\n",
      "\n",
      "\n",
      "\n",
      "conda-22.11.1        | 908 KB    | 1          |   2% \u001b[A\u001b[A\u001b[A\n",
      "python_abi-3.9       | 4 KB      | ########## | 100% \n",
      "\n",
      "lesscpy-0.15.1       | 39 KB     | ########## | 100% \u001b[A\n",
      "\n",
      "\n",
      "ply-3.11             | 44 KB     | ########## | 100% \u001b[A\u001b[A\n",
      "\n",
      "\n",
      "\n",
      "conda-22.11.1        | 908 KB    | #9         |  19% \u001b[A\u001b[A\u001b[A\n",
      "\n",
      "\n",
      "\n",
      "conda-22.11.1        | 908 KB    | ####5      |  46% \u001b[A\u001b[A\u001b[A\n",
      "\n",
      "\n",
      "\n",
      "conda-22.11.1        | 908 KB    | #########5 |  95% \u001b[A\u001b[A\u001b[A\n",
      "\n",
      "\n",
      "\n",
      "conda-22.11.1        | 908 KB    | ########## | 100% \u001b[A\u001b[A\u001b[A\n",
      "\n",
      "\n",
      "\n",
      "\n",
      "jupyterthemes-0.20.0 | 6.1 MB    |            |   0% \u001b[A\u001b[A\u001b[A\u001b[A\n",
      "\n",
      "\n",
      "\n",
      "\n",
      "jupyterthemes-0.20.0 | 6.1 MB    | 3          |   4% \u001b[A\u001b[A\u001b[A\u001b[A\n",
      "\n",
      "\n",
      "\n",
      "\n",
      "jupyterthemes-0.20.0 | 6.1 MB    | 7          |   8% \u001b[A\u001b[A\u001b[A\u001b[A\n",
      "\n",
      "\n",
      "\n",
      "\n",
      "jupyterthemes-0.20.0 | 6.1 MB    | #          |  11% \u001b[A\u001b[A\u001b[A\u001b[A\n",
      "\n",
      "\n",
      "\n",
      "\n",
      "jupyterthemes-0.20.0 | 6.1 MB    | #8         |  19% \u001b[A\u001b[A\u001b[A\u001b[A\n",
      "\n",
      "\n",
      "\n",
      "\n",
      "jupyterthemes-0.20.0 | 6.1 MB    | ##5        |  26% \u001b[A\u001b[A\u001b[A\u001b[A\n",
      "\n",
      "\n",
      "\n",
      "\n",
      "jupyterthemes-0.20.0 | 6.1 MB    | ###        |  31% \u001b[A\u001b[A\u001b[A\u001b[A\n",
      "\n",
      "\n",
      "\n",
      "\n",
      "jupyterthemes-0.20.0 | 6.1 MB    | ####5      |  45% \u001b[A\u001b[A\u001b[A\u001b[A\n",
      "\n",
      "\n",
      "\n",
      "\n",
      "jupyterthemes-0.20.0 | 6.1 MB    | #####2     |  52% \u001b[A\u001b[A\u001b[A\u001b[A\n",
      "\n",
      "\n",
      "\n",
      "\n",
      "jupyterthemes-0.20.0 | 6.1 MB    | ######     |  61% \u001b[A\u001b[A\u001b[A\u001b[A\n",
      "\n",
      "\n",
      "\n",
      "\n",
      "jupyterthemes-0.20.0 | 6.1 MB    | ######7    |  68% \u001b[A\u001b[A\u001b[A\u001b[A\n",
      "\n",
      "\n",
      "\n",
      "\n",
      "jupyterthemes-0.20.0 | 6.1 MB    | #######8   |  78% \u001b[A\u001b[A\u001b[A\u001b[A\n",
      "\n",
      "\n",
      "\n",
      "\n",
      "jupyterthemes-0.20.0 | 6.1 MB    | ########5  |  86% \u001b[A\u001b[A\u001b[A\u001b[A\n",
      "\n",
      "\n",
      "\n",
      "\n",
      "jupyterthemes-0.20.0 | 6.1 MB    | #########6 |  97% \u001b[A\u001b[A\u001b[A\u001b[A\n",
      "\n",
      "\n",
      "\n",
      "\n",
      "jupyterthemes-0.20.0 | 6.1 MB    | ########## | 100% \u001b[A\u001b[A\u001b[A\u001b[A\n",
      "                                                     \n",
      "\n",
      "\n",
      "                                                     \u001b[A\n",
      "\n",
      "\n",
      "                                                     \u001b[A\u001b[A\n",
      "\n",
      "\n",
      "\n",
      "                                                     \u001b[A\u001b[A\u001b[A\n",
      "\n",
      "\n",
      "\n",
      "\n",
      "                                                     \u001b[A\u001b[A\u001b[A\u001b[A\n",
      "\n",
      "Preparing transaction: ...working... done\n",
      "Verifying transaction: ...working... done\n",
      "Executing transaction: ...working... done\n",
      "\n",
      "Note: you may need to restart the kernel to use updated packages.\n"
     ]
    }
   ],
   "source": [
    "conda install -c conda-forge jupyterthemes"
   ]
  },
  {
   "cell_type": "code",
   "execution_count": 5,
   "id": "01650047",
   "metadata": {},
   "outputs": [],
   "source": [
    "!jt -t monokai -T"
   ]
  },
  {
   "cell_type": "code",
   "execution_count": 3,
   "id": "20597482",
   "metadata": {},
   "outputs": [
    {
     "name": "stdout",
     "output_type": "stream",
     "text": [
      "Available Themes: \n",
      "   chesterish\n",
      "   grade3\n",
      "   gruvboxd\n",
      "   gruvboxl\n",
      "   monokai\n",
      "   oceans16\n",
      "   onedork\n",
      "   solarizedd\n",
      "   solarizedl\n"
     ]
    }
   ],
   "source": [
    "!jt -l"
   ]
  },
  {
   "cell_type": "markdown",
   "id": "56e7524d",
   "metadata": {},
   "source": [
    "### Шаг 1. Обзор данных"
   ]
  },
  {
   "cell_type": "code",
   "execution_count": 1,
   "id": "e9aae87d",
   "metadata": {
    "scrolled": true
   },
   "outputs": [
    {
     "ename": "ModuleNotFoundError",
     "evalue": "No module named 'pymystem3'",
     "output_type": "error",
     "traceback": [
      "\u001b[1;31m---------------------------------------------------------------------------\u001b[0m",
      "\u001b[1;31mModuleNotFoundError\u001b[0m                       Traceback (most recent call last)",
      "\u001b[1;32m~\\AppData\\Local\\Temp\\ipykernel_11712\\32254716.py\u001b[0m in \u001b[0;36m<module>\u001b[1;34m\u001b[0m\n\u001b[0;32m      2\u001b[0m \u001b[1;32mimport\u001b[0m \u001b[0mnumpy\u001b[0m \u001b[1;32mas\u001b[0m \u001b[0mnp\u001b[0m\u001b[1;33m\u001b[0m\u001b[1;33m\u001b[0m\u001b[0m\n\u001b[0;32m      3\u001b[0m \u001b[1;32mimport\u001b[0m \u001b[0mtime\u001b[0m\u001b[1;33m\u001b[0m\u001b[1;33m\u001b[0m\u001b[0m\n\u001b[1;32m----> 4\u001b[1;33m \u001b[1;32mfrom\u001b[0m \u001b[0mpymystem3\u001b[0m \u001b[1;32mimport\u001b[0m \u001b[0mMystem\u001b[0m\u001b[1;33m\u001b[0m\u001b[1;33m\u001b[0m\u001b[0m\n\u001b[0m\u001b[0;32m      5\u001b[0m \u001b[0mm\u001b[0m \u001b[1;33m=\u001b[0m \u001b[0mMystem\u001b[0m\u001b[1;33m(\u001b[0m\u001b[1;33m)\u001b[0m\u001b[1;33m\u001b[0m\u001b[1;33m\u001b[0m\u001b[0m\n\u001b[0;32m      6\u001b[0m \u001b[1;32mfrom\u001b[0m \u001b[0mcollections\u001b[0m \u001b[1;32mimport\u001b[0m \u001b[0mCounter\u001b[0m\u001b[1;33m\u001b[0m\u001b[1;33m\u001b[0m\u001b[0m\n",
      "\u001b[1;31mModuleNotFoundError\u001b[0m: No module named 'pymystem3'"
     ]
    }
   ],
   "source": [
    "import pandas as pd\n",
    "import numpy as np\n",
    "import time\n",
    "from pymystem3 import Mystem\n",
    "m = Mystem()\n",
    "from collections import Counter\n",
    "\n",
    "from sklearn.model_selection import train_test_split as tts\n",
    "from sklearn.model_selection import cross_val_score\n",
    "from sklearn.model_selection import GridSearchCV\n",
    "from sklearn.pipeline import Pipeline\n",
    "from sklearn.compose import make_column_transformer, ColumnTransformer\n",
    "from sklearn.preprocessing import OneHotEncoder\n",
    "from sklearn.preprocessing import OrdinalEncoder\n",
    "from sklearn.preprocessing import MinMaxScaler\n",
    "from sklearn.metrics import roc_curve, auc, roc_auc_score, accuracy_score, precision_recall_curve, f1_score\n",
    "\n",
    "from sklearn.linear_model import LogisticRegression as LR, RidgeClassifier as RC, Ridge\n",
    "from sklearn.tree import DecisionTreeClassifier as DTC\n",
    "from catboost import Pool, CatBoostClassifier as CBC, cv\n",
    "\n",
    "import matplotlib.pyplot as plt\n",
    "import matplotlib.cm as cm\n",
    "import seaborn as sns\n",
    "#plt.style.use('default')\n",
    "plt.style.use('dark_background') # я работаю в темной теме, поэтому использую эту настройку.\n",
    "%matplotlib inline\n",
    "\n",
    "import warnings\n",
    "warnings.filterwarnings('ignore')\n",
    "\n",
    "s = 121222"
   ]
  },
  {
   "cell_type": "code",
   "execution_count": null,
   "id": "2fa14b88-2bb2-46ab-8e1e-f24166d0631f",
   "metadata": {},
   "outputs": [],
   "source": [
    "df = pd.read_csv('data.csv')\n",
    "df.sample(5)"
   ]
  },
  {
   "cell_type": "code",
   "execution_count": null,
   "id": "08b6dc75",
   "metadata": {},
   "outputs": [],
   "source": [
    "df.describe()"
   ]
  },
  {
   "cell_type": "markdown",
   "id": "27b0ba28",
   "metadata": {},
   "source": [
    "В столбце days_emploeyd максимальный стаж больше 100 лет (возможно там имеются ввиду часы?), при том что максимальный возраст в таблице 75 лет, да и ещё и куча отрицательных значений, по нему одназначно стоит дать баг-репорт. Я изучу его подробнее ниже, и посмотрю, что можно с этим сделать в таком виде."
   ]
  },
  {
   "cell_type": "markdown",
   "id": "11068ebc",
   "metadata": {},
   "source": [
    "Следующие аномалия - количество детей от минус 1 до 20. Первое не может быть, возможно, что информация о детях не известна, либо так неправильно отобразился 1 ребёнок или 0. А 20 детей выглядит странно. Посмотрим подробнее."
   ]
  },
  {
   "cell_type": "code",
   "execution_count": null,
   "id": "0e09ebca",
   "metadata": {},
   "outputs": [],
   "source": [
    "df.info()"
   ]
  },
  {
   "cell_type": "markdown",
   "id": "5d5a6868",
   "metadata": {},
   "source": [
    "В days_employed и total_income одинаковое количество пропусков, вероятно в одних и тех же строках. Нужно будет привести их в порядок, особенно total_income."
   ]
  },
  {
   "cell_type": "markdown",
   "id": "ce0feee8-c02c-4a8c-9184-a7db32240632",
   "metadata": {},
   "source": [
    "Посмотрим на долю должников до предобработки - это значение для данного исследования."
   ]
  },
  {
   "cell_type": "code",
   "execution_count": null,
   "id": "24af8984",
   "metadata": {},
   "outputs": [],
   "source": [
    "df['debt'].mean() "
   ]
  },
  {
   "cell_type": "markdown",
   "id": "fa08eb85",
   "metadata": {},
   "source": [
    "### Шаг 2.1 Заполнение пропусков"
   ]
  },
  {
   "cell_type": "code",
   "execution_count": null,
   "id": "ba90231a",
   "metadata": {},
   "outputs": [],
   "source": [
    "df.isna().mean() #проверка пропущенных значений"
   ]
  },
  {
   "cell_type": "markdown",
   "id": "41db984e-daf0-4aaf-bcf8-237e4cdcac2a",
   "metadata": {},
   "source": [
    "Доля пропусков достаточно большая, поэтому не буду их удалять."
   ]
  },
  {
   "cell_type": "markdown",
   "id": "f366ef67",
   "metadata": {},
   "source": [
    "Разбремся с days_employed и total_income, посмотрим в каких значениях пропуски. Возможно так забаговал  какой-нибудь тип клиента к примеру \"пенсионер\" или любой другой параметр."
   ]
  },
  {
   "cell_type": "code",
   "execution_count": null,
   "id": "f98285a4",
   "metadata": {},
   "outputs": [],
   "source": [
    "df.loc[(df['days_employed'].isna()) & (df['total_income'].isna()),'dob_years'].count()\n",
    "#подсчет пропущенных значений в обох столбцах вместе"
   ]
  },
  {
   "cell_type": "code",
   "execution_count": null,
   "id": "bf2a17e0",
   "metadata": {},
   "outputs": [],
   "source": [
    "df.loc[(df['days_employed'].isna()) & (df['total_income'].isna())].head(10)"
   ]
  },
  {
   "cell_type": "markdown",
   "id": "ec2eed9b",
   "metadata": {},
   "source": [
    "Никакой закономерности нет, заменю пропуски в total_income на медийное значение по каждому виду дохода, так данные будут максимально близки к исходным."
   ]
  },
  {
   "cell_type": "code",
   "execution_count": null,
   "id": "f7472f8b",
   "metadata": {},
   "outputs": [],
   "source": [
    "income_category = df.groupby('income_type')['total_income'].median()"
   ]
  },
  {
   "cell_type": "code",
   "execution_count": null,
   "id": "f9ca20bb",
   "metadata": {},
   "outputs": [],
   "source": [
    "income_category"
   ]
  },
  {
   "cell_type": "code",
   "execution_count": null,
   "id": "18c827f3",
   "metadata": {},
   "outputs": [],
   "source": [
    "df['total_income'] = df['total_income'].fillna(df.groupby('income_type')['total_income'].transform(\"median\"))"
   ]
  },
  {
   "cell_type": "code",
   "execution_count": null,
   "id": "ca4cdedf",
   "metadata": {},
   "outputs": [],
   "source": [
    "df['total_income'].isna().sum() #проверяю"
   ]
  },
  {
   "cell_type": "markdown",
   "id": "c65eb9f3",
   "metadata": {},
   "source": [
    "### Шаг 2.2 Проверка данных на аномалии и исправления."
   ]
  },
  {
   "cell_type": "markdown",
   "id": "762c20c0",
   "metadata": {},
   "source": [
    "Здесь я проверю каждый столбец и посмотрю есть-ли там какие-нибудь аномалии и странности."
   ]
  },
  {
   "cell_type": "code",
   "execution_count": null,
   "id": "890313e1",
   "metadata": {},
   "outputs": [],
   "source": [
    "df['days_employed'].describe()"
   ]
  },
  {
   "cell_type": "code",
   "execution_count": null,
   "id": "ad707b6b",
   "metadata": {},
   "outputs": [],
   "source": [
    "df['days_employed'].hist(bins=100)\n",
    "plt.title('Распределение по количеству дней стажа')\n",
    "plt.ylabel('Количество людей')\n",
    "plt.xlabel('Количество дней стажа')\n",
    "plt.show()"
   ]
  },
  {
   "cell_type": "code",
   "execution_count": null,
   "id": "0bb132d6",
   "metadata": {},
   "outputs": [],
   "source": [
    "print('Количество лет стажа у тех у кого более 300_000 дней')\n",
    "print('300000:', 300000/365)\n",
    "print('400000:', 400000/365)\n",
    "print('Количество лет стажа у тех у кого более 300_000 часов')\n",
    "print('300000:', 300000/24/365)\n",
    "print('400000:', 400000/24/365)"
   ]
  },
  {
   "cell_type": "markdown",
   "id": "4ae1bc23",
   "metadata": {},
   "source": [
    "Огромное количество значений меньше или равно нулю, так же есть большая часть в диопазоне от 300000 до 400000 рабочих дней стажа, а это целых как минимум 800 лет, а то и все 1100. Вероятно сюда по ошибке занесли рабочие часы вместо дней, если разделить на 24, то стаж уже будет более реальный 35-45 лет. А отрицательные числа переведу по модулю в положительные."
   ]
  },
  {
   "cell_type": "code",
   "execution_count": null,
   "id": "b35bce22",
   "metadata": {},
   "outputs": [],
   "source": [
    "def to_pozitive(value):\n",
    "    if value < 0:\n",
    "        value *= -1\n",
    "        return value\n",
    "    else:\n",
    "        return value\n",
    "    \n",
    "df['days_employed'] = df['days_employed'].apply(to_pozitive)"
   ]
  },
  {
   "cell_type": "code",
   "execution_count": null,
   "id": "6b872b1b",
   "metadata": {},
   "outputs": [],
   "source": [
    "df['days_employed'].describe()"
   ]
  },
  {
   "cell_type": "markdown",
   "id": "ff8a6414",
   "metadata": {},
   "source": [
    "Теперь поделим на 24 значения, которые больше 23775 (это 60 лет стажа - макисмальный возраст в таблице 75, больше уже никак не может быть.).\n",
    "И затем заменим пропуски на медийное значение по каждому виду дохода."
   ]
  },
  {
   "cell_type": "code",
   "execution_count": null,
   "id": "a555d45e-13ce-4a95-81a3-fb5b2f3e0b60",
   "metadata": {},
   "outputs": [],
   "source": [
    "df['days_employed']= df['days_employed'].mask( df['days_employed'] > 23775, df['days_employed']/ 24)\n",
    "df['days_employed'] = df['days_employed'].fillna(df.groupby('income_type')['days_employed'].transform(\"median\"))"
   ]
  },
  {
   "cell_type": "code",
   "execution_count": null,
   "id": "e48b1a99",
   "metadata": {},
   "outputs": [],
   "source": [
    "df['days_employed'].hist(bins=100)\n",
    "plt.title('Распределение по количеству дней стажа')\n",
    "plt.ylabel('Количество людей')\n",
    "plt.xlabel('Количество дней стажа')\n",
    "plt.show()"
   ]
  },
  {
   "cell_type": "markdown",
   "id": "4f30a365-2bc4-4a38-b35d-0de3e4cff927",
   "metadata": {},
   "source": [
    "Стало получше, график хоть и не пришёл в нормальное распределение, но зато стал больше походить на правду. Так ка природа аномалии точно не ясна, то я оставлю эти данные в таком виде. Стоит указать про этот столбец в баг-репорте."
   ]
  },
  {
   "cell_type": "code",
   "execution_count": null,
   "id": "8243c8c0",
   "metadata": {},
   "outputs": [],
   "source": [
    "df['days_employed'].describe()"
   ]
  },
  {
   "cell_type": "code",
   "execution_count": null,
   "id": "ff0749c0",
   "metadata": {},
   "outputs": [],
   "source": [
    "df['children'].value_counts()"
   ]
  },
  {
   "cell_type": "markdown",
   "id": "4f032657",
   "metadata": {},
   "source": [
    "Проверим, что происходить в строках с аномальными значениями и есть-ли закономрности."
   ]
  },
  {
   "cell_type": "code",
   "execution_count": null,
   "id": "0f66fd0e",
   "metadata": {},
   "outputs": [],
   "source": [
    "df[df['children']==-1].sample(5)"
   ]
  },
  {
   "cell_type": "code",
   "execution_count": null,
   "id": "0d112aa0",
   "metadata": {},
   "outputs": [],
   "source": [
    "df[df['children']==20].sample(5)"
   ]
  },
  {
   "cell_type": "markdown",
   "id": "2eb5c274",
   "metadata": {},
   "source": [
    "Закономерностей не вижу, поэтому строки с количеством детей -1 я удалю, потому что неизвестно как они возникли. А 20 поменяю на медийное значение, потому что вероятно это 0 или 2 - на кавиатуре они рядом. Так как количество аномалий меньше процента, то такие изменения на анализ сильно не повлияют."
   ]
  },
  {
   "cell_type": "code",
   "execution_count": null,
   "id": "d701b3f9",
   "metadata": {},
   "outputs": [],
   "source": [
    "for str in df[df['children']==-1].index:\n",
    "        df = df.drop(str)"
   ]
  },
  {
   "cell_type": "code",
   "execution_count": null,
   "id": "26ed4783",
   "metadata": {},
   "outputs": [],
   "source": [
    "df['children'] = df['children'].replace(20, df.loc[df.loc[:, 'children'] != 20]['children'].median())"
   ]
  },
  {
   "cell_type": "code",
   "execution_count": null,
   "id": "483ac53e",
   "metadata": {},
   "outputs": [],
   "source": [
    "df['children'].value_counts() # проверяем."
   ]
  },
  {
   "cell_type": "markdown",
   "id": "99ab19dc",
   "metadata": {},
   "source": [
    "Здесь разобрались! Теперь проверим другие столбцы, начнем с гендера."
   ]
  },
  {
   "cell_type": "code",
   "execution_count": null,
   "id": "7d650b75",
   "metadata": {},
   "outputs": [],
   "source": [
    "df['gender'].value_counts()"
   ]
  },
  {
   "cell_type": "markdown",
   "id": "cb133853",
   "metadata": {},
   "source": [
    "В принципе один человек особо роли не играет, можно оставить как есть."
   ]
  },
  {
   "cell_type": "code",
   "execution_count": null,
   "id": "b7439fbd",
   "metadata": {},
   "outputs": [],
   "source": [
    "df['education'].value_counts()"
   ]
  },
  {
   "cell_type": "markdown",
   "id": "55388a7a-4ddb-4c17-bd56-cf564d7e7f32",
   "metadata": {},
   "source": [
    "Привожу к нижнем регистру."
   ]
  },
  {
   "cell_type": "code",
   "execution_count": null,
   "id": "0db3167a",
   "metadata": {},
   "outputs": [],
   "source": [
    "df['education'] = df['education'].str.lower()"
   ]
  },
  {
   "cell_type": "code",
   "execution_count": null,
   "id": "effc5a42",
   "metadata": {},
   "outputs": [],
   "source": [
    "df['education'].value_counts() #проверяю"
   ]
  },
  {
   "cell_type": "markdown",
   "id": "45637791",
   "metadata": {},
   "source": [
    "Порядок!"
   ]
  },
  {
   "cell_type": "code",
   "execution_count": null,
   "id": "48c717b0",
   "metadata": {},
   "outputs": [],
   "source": [
    "df['family_status'].value_counts()"
   ]
  },
  {
   "cell_type": "markdown",
   "id": "38d553cf",
   "metadata": {},
   "source": [
    "Здесь всё в порядке"
   ]
  },
  {
   "cell_type": "code",
   "execution_count": null,
   "id": "e397dcb4",
   "metadata": {},
   "outputs": [],
   "source": [
    "df['dob_years'].hist()\n",
    "plt.title('Распределение по возрасту')\n",
    "plt.ylabel('Количество людей')\n",
    "plt.xlabel('Возраст')\n",
    "plt.show()"
   ]
  },
  {
   "cell_type": "code",
   "execution_count": null,
   "id": "8f8ff3d3",
   "metadata": {},
   "outputs": [],
   "source": [
    "df[df['dob_years']<18]['dob_years'].value_counts()"
   ]
  },
  {
   "cell_type": "markdown",
   "id": "acc306e9",
   "metadata": {},
   "source": [
    "Присутствует аномальное значение 0. Закономерностей нет, поэтому удалю эти значения."
   ]
  },
  {
   "cell_type": "code",
   "execution_count": null,
   "id": "b3e27661",
   "metadata": {},
   "outputs": [],
   "source": [
    "for d in df[df['dob_years']==0].index:\n",
    "    df = df.drop(d)\n",
    "    \n",
    "df = df.reset_index(drop=True)"
   ]
  },
  {
   "cell_type": "code",
   "execution_count": null,
   "id": "797a5280",
   "metadata": {},
   "outputs": [],
   "source": [
    "df['dob_years'].hist() #проверяю\n",
    "plt.title('Распределение по возрасту')\n",
    "plt.ylabel('Количество людей')\n",
    "plt.xlabel('Возраст')\n",
    "plt.show()"
   ]
  },
  {
   "cell_type": "markdown",
   "id": "59117e39",
   "metadata": {},
   "source": [
    "Всё нормально."
   ]
  },
  {
   "cell_type": "code",
   "execution_count": null,
   "id": "65500347",
   "metadata": {},
   "outputs": [],
   "source": [
    "df['debt'].value_counts()"
   ]
  },
  {
   "cell_type": "markdown",
   "id": "7576a491",
   "metadata": {},
   "source": [
    "Всё в порядке."
   ]
  },
  {
   "cell_type": "code",
   "execution_count": null,
   "id": "4e354616",
   "metadata": {},
   "outputs": [],
   "source": [
    "df['purpose'].value_counts()"
   ]
  },
  {
   "cell_type": "markdown",
   "id": "9a30dfda",
   "metadata": {},
   "source": [
    "Явно требуется леммитизация (привидение к одному названию)."
   ]
  },
  {
   "cell_type": "markdown",
   "id": "db1e877c",
   "metadata": {},
   "source": [
    "### Шаг 2.3. Изменение типов данных."
   ]
  },
  {
   "cell_type": "markdown",
   "id": "d9455ad7-51d1-4c06-8e8b-b8b1f5bc83af",
   "metadata": {},
   "source": [
    "Привожу к целочисленому типу."
   ]
  },
  {
   "cell_type": "code",
   "execution_count": null,
   "id": "f0ddf061",
   "metadata": {},
   "outputs": [],
   "source": [
    "df['days_employed'] = df['days_employed'].astype('int')\n",
    "df['total_income'] = df['total_income'].astype('int')"
   ]
  },
  {
   "cell_type": "markdown",
   "id": "169445ac",
   "metadata": {},
   "source": [
    "### Шаг 2.4. Удаление дубликатов."
   ]
  },
  {
   "cell_type": "code",
   "execution_count": null,
   "id": "091f1274",
   "metadata": {},
   "outputs": [],
   "source": [
    "df.duplicated().sum()"
   ]
  },
  {
   "cell_type": "code",
   "execution_count": null,
   "id": "d5a2b481",
   "metadata": {},
   "outputs": [],
   "source": [
    "df[df.duplicated(keep=False)].sort_values(by=['total_income'])"
   ]
  },
  {
   "cell_type": "markdown",
   "id": "354caa9d",
   "metadata": {},
   "source": [
    " Дубликаты тоже требуют запроса, возможно один и тот же человек брал кредит несколько раз или же закрался какой-то баг, а может кто-то из работников несколько раз вносил одни и те же данные.\n",
    "\n",
    " Так как дубликатов мало я их удалю."
   ]
  },
  {
   "cell_type": "code",
   "execution_count": null,
   "id": "bdf2afa3",
   "metadata": {},
   "outputs": [],
   "source": [
    "df = df.drop_duplicates()"
   ]
  },
  {
   "cell_type": "code",
   "execution_count": null,
   "id": "d50ee818",
   "metadata": {},
   "outputs": [],
   "source": [
    "df.duplicated().sum()"
   ]
  },
  {
   "cell_type": "markdown",
   "id": "30827f18",
   "metadata": {},
   "source": [
    "### Шаг 2.5. Формирование дополнительных датафреймов словарей, декомпозиция исходного датафрейма."
   ]
  },
  {
   "cell_type": "markdown",
   "id": "81a1cfee",
   "metadata": {},
   "source": [
    "Здесь я начну рассматривать каждый столбец в сравнении с 'debt' и делать скоринг для наглядности исследвания. Попутно сделаю леммитизацию столбца 'purpuse' и категоризацию 'total_income'.\n",
    "\n",
    "Посмотрим какой средний процент должников в выборке."
   ]
  },
  {
   "cell_type": "code",
   "execution_count": null,
   "id": "40dec900",
   "metadata": {},
   "outputs": [],
   "source": [
    "df['debt'].mean() #средний процент должников после обработки"
   ]
  },
  {
   "cell_type": "markdown",
   "id": "4a3f7156",
   "metadata": {},
   "source": [
    "Примерно 8,1% на него и будем ориентироваться. Посмотрим есть-ли зависимость между debt и количеством детей."
   ]
  },
  {
   "cell_type": "code",
   "execution_count": null,
   "id": "56aa2ff2",
   "metadata": {},
   "outputs": [],
   "source": [
    "df.groupby('children')['debt'].agg(['count','mean']) "
   ]
  },
  {
   "cell_type": "code",
   "execution_count": null,
   "id": "e2e6ad88",
   "metadata": {},
   "outputs": [],
   "source": [
    "(0.092028 - 0.075619)/0.092028\n",
    "#сравниваю две самые весомые категории - нет детей и 1 ребёнок."
   ]
  },
  {
   "cell_type": "markdown",
   "id": "be3e3fa1",
   "metadata": {},
   "source": [
    "Разница почти 18%! А это очень значимое различие, в банковском деле отклонениее более 1% уже показатель.\n",
    "В целом здесь можно выделить две основные категории и обобщить выборку - \"есть дети\" и \"нет детей\", так как основное различие именно видно именно здесь."
   ]
  },
  {
   "cell_type": "code",
   "execution_count": null,
   "id": "2fd8e090",
   "metadata": {},
   "outputs": [],
   "source": [
    "df['has_children'] = (df['children'] > 0) *1\n",
    "df.groupby('has_children')['debt'].agg(['count','mean']) "
   ]
  },
  {
   "cell_type": "markdown",
   "id": "8dac29e0",
   "metadata": {},
   "source": [
    "Красота! Никакого шума, а сам показатель очень чёткий и понятный. В скор-поинты у меня пойдут более негативные варианты, у которых 'debt' выше. В скоринге чем болше score, тем больше долже быть средний 'debt'"
   ]
  },
  {
   "cell_type": "code",
   "execution_count": null,
   "id": "48ab67cd",
   "metadata": {},
   "outputs": [],
   "source": [
    "df.groupby('education')['debt'].agg(['count','mean']) #рассмотрим тоже самое для графы \"Образование\""
   ]
  },
  {
   "cell_type": "markdown",
   "id": "90c4e640",
   "metadata": {},
   "source": [
    "Здесь так же можно выделить и обобщить две большие категории - есть высшее образование или нет."
   ]
  },
  {
   "cell_type": "code",
   "execution_count": null,
   "id": "824b17e6",
   "metadata": {},
   "outputs": [],
   "source": [
    "df['no_higher_education'] = ~df['education'].isin(['высшее','ученая степень']) *1\n",
    "df.groupby('no_higher_education')['debt'].agg(['count','mean'])\n",
    "# 0 - есть высшее, 1 - нет высшего."
   ]
  },
  {
   "cell_type": "markdown",
   "id": "57e944e5",
   "metadata": {},
   "source": [
    "Здесь специально я вывожу категории с более высокой задолжностью (плохой) под значение 1, а более низкой под значение(хорошей) 0. Это позволит нам заскорить каждого клиента. Гипотиза - чем выше показетель score, тем более высокий шанс задолжности."
   ]
  },
  {
   "cell_type": "code",
   "execution_count": null,
   "id": "8289a6af",
   "metadata": {},
   "outputs": [],
   "source": [
    "df['score'] = df['has_children'] + df['no_higher_education'] # создаем столбец 'score'\n",
    "df.groupby('score')['debt'].agg(['count','mean']) #проверяем"
   ]
  },
  {
   "cell_type": "markdown",
   "id": "95a1e033",
   "metadata": {},
   "source": [
    "Так оно и есть!\n",
    "Теперь рассмотрим зависимость от возроста, так как категорий много нагляднее будет зделать график."
   ]
  },
  {
   "cell_type": "code",
   "execution_count": null,
   "id": "b3185409",
   "metadata": {},
   "outputs": [],
   "source": [
    "df.groupby('dob_years')['debt'].mean().plot()\n",
    "plt.title('Распределение задолжности по возрасту')\n",
    "plt.ylabel('Доля должников')\n",
    "plt.xlabel('Возраст')\n",
    "plt.show()"
   ]
  },
  {
   "cell_type": "markdown",
   "id": "298b5d97",
   "metadata": {},
   "source": [
    "Вывод - Чем старше человек, тем меньше шас задолжности, поэтому можно сделать ранжирование, где максимальный возраст будет ближе к 0, а минимальный к 1."
   ]
  },
  {
   "cell_type": "code",
   "execution_count": null,
   "id": "047c31b4",
   "metadata": {},
   "outputs": [],
   "source": [
    "df['dob_years_score'] = ~df['dob_years'] / df['dob_years'].max()+1*1.25 # переведём в системе от 0 до 1\n",
    "df['dob_years_score'].hist()\n",
    "plt.title('Скоринг по возрасту')\n",
    "plt.ylabel('Количество людей')\n",
    "plt.xlabel('Score')\n",
    "plt.show()"
   ]
  },
  {
   "cell_type": "code",
   "execution_count": null,
   "id": "9fc507e8",
   "metadata": {},
   "outputs": [],
   "source": [
    "df.groupby('gender')['debt'].agg(['count','mean'])"
   ]
  },
  {
   "cell_type": "markdown",
   "id": "fc7f559b",
   "metadata": {},
   "source": [
    "Девушки выплачивают в срок чаще мужчин, тоже добавим в скоринг."
   ]
  },
  {
   "cell_type": "code",
   "execution_count": null,
   "id": "b9f11930",
   "metadata": {},
   "outputs": [],
   "source": [
    "df['gender_score'] = df['gender'].isin(['M']) *1\n",
    "df.groupby('gender_score')['debt'].agg(['count','mean'])"
   ]
  },
  {
   "cell_type": "code",
   "execution_count": null,
   "id": "24cdd340",
   "metadata": {},
   "outputs": [],
   "source": [
    "df.groupby('family_status')['debt'].agg(['count','mean'])"
   ]
  },
  {
   "cell_type": "markdown",
   "id": "c78265ef",
   "metadata": {},
   "source": [
    "Видно, что те кто находиться в гражданском браке или никогда не вступал в брак хуже выплачивают долги."
   ]
  },
  {
   "cell_type": "code",
   "execution_count": null,
   "id": "def2f643",
   "metadata": {},
   "outputs": [],
   "source": [
    "df['family_score'] = df['family_status'].isin(['Не женат / не замужем','гражданский брак']) *1\n",
    "df.groupby('family_score')['debt'].agg(['count','mean'])"
   ]
  },
  {
   "cell_type": "code",
   "execution_count": null,
   "id": "97ef4e5c",
   "metadata": {},
   "outputs": [],
   "source": [
    "df['score'] = df[['has_children','no_higher_education','dob_years_score','gender_score','family_score']].sum(axis=1)\n",
    "df['score_round'] = df['score'].round()\n",
    "df['score_q'] = pd.qcut(df['score'], 10)"
   ]
  },
  {
   "cell_type": "code",
   "execution_count": null,
   "id": "357cfba3",
   "metadata": {},
   "outputs": [],
   "source": [
    "df.groupby('score_round')['debt'].mean().plot() # пердварительный просмотр\n",
    "plt.title('Scoring line')\n",
    "plt.ylabel('Доля должников')\n",
    "plt.xlabel('Score')\n",
    "plt.show()"
   ]
  },
  {
   "cell_type": "code",
   "execution_count": null,
   "id": "0b29d55a",
   "metadata": {},
   "outputs": [],
   "source": [
    "df.groupby('score_q')['debt'].agg(['count','mean'])"
   ]
  },
  {
   "cell_type": "markdown",
   "id": "ff402aaf",
   "metadata": {},
   "source": [
    "Пока закономерность прослеживается, посмотрим что будет с последими двумя категориями - доходом и целью кредита."
   ]
  },
  {
   "cell_type": "markdown",
   "id": "a6feb457",
   "metadata": {},
   "source": [
    "### Шаг 2.6. Категоризация дохода."
   ]
  },
  {
   "cell_type": "code",
   "execution_count": null,
   "id": "00bf5fac",
   "metadata": {},
   "outputs": [],
   "source": [
    "df['total_income'].describe()"
   ]
  },
  {
   "cell_type": "code",
   "execution_count": null,
   "id": "53b3238e",
   "metadata": {},
   "outputs": [],
   "source": [
    "df['total_income']"
   ]
  },
  {
   "cell_type": "markdown",
   "id": "ebc01e4a-be84-4bf3-ad63-ada6fe8213a9",
   "metadata": {},
   "source": [
    "Для удобства произведу округление дохода до 1000."
   ]
  },
  {
   "cell_type": "code",
   "execution_count": null,
   "id": "a95428f9",
   "metadata": {},
   "outputs": [],
   "source": [
    "total_income_q = df['total_income']/1000 # округрение дохода"
   ]
  },
  {
   "cell_type": "code",
   "execution_count": null,
   "id": "d104c624",
   "metadata": {},
   "outputs": [],
   "source": [
    "df.groupby([pd.cut(total_income_q,10)])['debt'].agg(['count','mean'])"
   ]
  },
  {
   "cell_type": "markdown",
   "id": "387fce15",
   "metadata": {},
   "source": [
    "Большинство находиться до миллиона, поэтому рассмотрю эту часть в гистограмме."
   ]
  },
  {
   "cell_type": "code",
   "execution_count": null,
   "id": "46baf751",
   "metadata": {},
   "outputs": [],
   "source": [
    "total_income_q.loc[total_income_q<1000].hist(bins=100)\n",
    "plt.title('Распределение по уровню дохода')\n",
    "plt.ylabel('Количество')\n",
    "plt.xlabel('Доход (в тыс.)')\n",
    "plt.show()"
   ]
  },
  {
   "cell_type": "markdown",
   "id": "21e8b002",
   "metadata": {},
   "source": [
    "Поделю людей на категории дохода согласно гистограмме.\n",
    "* 0 - 30000 - E\n",
    "* 30000 - 50000 - D\n",
    "* 50000 - 200000 - C\n",
    "* 200000 - 1000000 - B\n",
    "* Более 1000000 - A"
   ]
  },
  {
   "cell_type": "code",
   "execution_count": null,
   "id": "ac89964c",
   "metadata": {},
   "outputs": [],
   "source": [
    "def total_income_group(x):\n",
    "    if x <= 30000:\n",
    "        return 'E'\n",
    "    if x <= 50000:\n",
    "        return 'D'\n",
    "    if x <= 200000:\n",
    "        return 'C'\n",
    "    if x <= 1000000:\n",
    "        return 'B'\n",
    "    return 'A'\n",
    "    \n",
    "df['total_income_category'] = df['total_income'].apply(total_income_group)   "
   ]
  },
  {
   "cell_type": "code",
   "execution_count": null,
   "id": "56eb8e17",
   "metadata": {},
   "outputs": [],
   "source": [
    "df.groupby('total_income_category')['debt'].agg(['count','mean'])"
   ]
  },
  {
   "cell_type": "markdown",
   "id": "7d485957",
   "metadata": {},
   "source": [
    "### Шаг 2.7. Категоризация целей кредита."
   ]
  },
  {
   "cell_type": "code",
   "execution_count": null,
   "id": "588ffb44",
   "metadata": {},
   "outputs": [],
   "source": [
    "df['purpose'].value_counts() #займемся столбцом 'purpose'"
   ]
  },
  {
   "cell_type": "code",
   "execution_count": null,
   "id": "d4e21e67",
   "metadata": {
    "scrolled": true
   },
   "outputs": [],
   "source": [
    "%%time\n",
    "m = Mystem()\n",
    "\n",
    "columns = ['original', 'lemms', 'good']\n",
    "purpose_list = pd.DataFrame(data=[],columns=columns)\n",
    "purpose_list['original'] = df['purpose'].value_counts().index\n",
    "\n",
    "for i in purpose_list.index:\n",
    "    purpose_list.loc[i,'lemms'] = ' '.join(m.lemmatize(purpose_list.loc[i, 'original']))\n",
    "\n",
    "purpose_list"
   ]
  },
  {
   "cell_type": "markdown",
   "id": "bff1e9d0",
   "metadata": {},
   "source": [
    "Здесь видно, что имееться всего 4 цели - свадьба, недвижимость, покупка авто и образование, просто их по-разному написали."
   ]
  },
  {
   "cell_type": "code",
   "execution_count": null,
   "id": "bc6935b6",
   "metadata": {},
   "outputs": [],
   "source": [
    "%%time\n",
    "lem_purpose = dict({'свадьба':'свадьба', \n",
    "                    'жилье':'недвижимость', \n",
    "                    'недвижимость':'недвижимость',\n",
    "                    'автомобиль':'автомобиль', \n",
    "                    'образование':'образование'})\n",
    "\n",
    "def replace_wrong_purpose(row):\n",
    "    str_lem_list = m.lemmatize(row)\n",
    "    for lem in str_lem_list:\n",
    "        if lem in lem_purpose.keys():\n",
    "            return lem_purpose[lem]\n",
    "\n",
    "        \n",
    "purpose_list['good'] = purpose_list['original'].apply(replace_wrong_purpose)\n",
    "\n",
    "purpose_list #проверяю"
   ]
  },
  {
   "cell_type": "code",
   "execution_count": null,
   "id": "8f831875-b868-4f6f-a804-139189031817",
   "metadata": {},
   "outputs": [],
   "source": [
    "%%time\n",
    "df['purpose'] = df['purpose'].apply(replace_wrong_purpose) #заменяю\n",
    "df.to_csv(r'df_new.csv', index= False )"
   ]
  },
  {
   "cell_type": "markdown",
   "id": "b3251182-dc70-4e48-8cb5-3462792341f5",
   "metadata": {},
   "source": [
    "Так как локально этот этам занимал много времени то я сохранил получившийся дф в формате csv."
   ]
  },
  {
   "cell_type": "code",
   "execution_count": null,
   "id": "9f7336ff-cd92-42e7-ab25-5dcb4b607a70",
   "metadata": {},
   "outputs": [],
   "source": [
    "df = pd.read_csv('df_new.csv')"
   ]
  },
  {
   "cell_type": "code",
   "execution_count": null,
   "id": "4daf352b",
   "metadata": {},
   "outputs": [],
   "source": [
    "df['purpose'].value_counts() #проверяю"
   ]
  },
  {
   "cell_type": "markdown",
   "id": "9f6ab7eb",
   "metadata": {},
   "source": [
    "Теперь сравним каждую категорию с debt."
   ]
  },
  {
   "cell_type": "code",
   "execution_count": null,
   "id": "19d7118e",
   "metadata": {},
   "outputs": [],
   "source": [
    "df.groupby('purpose')['debt'].agg(['count','mean']) "
   ]
  },
  {
   "cell_type": "markdown",
   "id": "b77ca8b8",
   "metadata": {},
   "source": [
    "Те кто берут кредит на образование и автомобиль возвращают их хуже.\n",
    " Присвою им score 1."
   ]
  },
  {
   "cell_type": "code",
   "execution_count": null,
   "id": "8a2a343c",
   "metadata": {},
   "outputs": [],
   "source": [
    "pd.pivot_table(df,index='children',values='debt',aggfunc=['mean','count'])"
   ]
  },
  {
   "cell_type": "code",
   "execution_count": null,
   "id": "ed69c209",
   "metadata": {},
   "outputs": [],
   "source": [
    "pd.pivot_table(df,index='family_status',values='debt',aggfunc=['mean','count'])"
   ]
  },
  {
   "cell_type": "code",
   "execution_count": null,
   "id": "89eb3cfb",
   "metadata": {},
   "outputs": [],
   "source": [
    "df['purpose_score'] = df['purpose'].isin(['автомобиль','образование'])*1"
   ]
  },
  {
   "cell_type": "markdown",
   "id": "50d553f6",
   "metadata": {},
   "source": [
    "### Теперь сложу все score-столбцы и посмотрю что получилось"
   ]
  },
  {
   "cell_type": "code",
   "execution_count": null,
   "id": "4e1d18d9",
   "metadata": {},
   "outputs": [],
   "source": [
    "df['score'] = df[['has_children','no_higher_education','dob_years_score','gender_score','family_score','purpose_score']].sum(axis=1)\n",
    "df['score_round'] = df['score'].round()\n",
    "df['score_q'] = pd.qcut(df['score'], 20)"
   ]
  },
  {
   "cell_type": "code",
   "execution_count": null,
   "id": "92d7dbdb",
   "metadata": {},
   "outputs": [],
   "source": [
    "df.groupby('score_round')['debt'].mean().plot()"
   ]
  },
  {
   "cell_type": "code",
   "execution_count": null,
   "id": "74958562",
   "metadata": {},
   "outputs": [],
   "source": [
    "df['score_q'] = pd.qcut(df['score'], 20)"
   ]
  },
  {
   "cell_type": "code",
   "execution_count": null,
   "id": "bd7bf70d",
   "metadata": {},
   "outputs": [],
   "source": [
    "df.groupby('score_q')['debt'].agg(['count','mean'])"
   ]
  },
  {
   "cell_type": "markdown",
   "id": "796e8f7a",
   "metadata": {},
   "source": [
    " Как видно у кого score больше 2.5 в среднем имееют более высокий  шанс задолжности, но особо резкое отличное начинается с 3.5 баллов, там шанс задолжности преваливает за 11%, а после 4.5 и вовсе 17% - вдвое больше среднего значения!\n",
    " \n",
    " Те у кого скор меньше 1.5 имеют задолжности не чаще 5.1% случаев. \n",
    "\n",
    "**Вывод** - все параметры имеют значение."
   ]
  },
  {
   "cell_type": "markdown",
   "id": "6a8f7328",
   "metadata": {},
   "source": [
    "### Ответы на вопросы."
   ]
  },
  {
   "cell_type": "markdown",
   "id": "76915b1a",
   "metadata": {},
   "source": [
    "##### Вопрос 1:  Влияет-ли семейное положение на погошение отвта в срок?"
   ]
  },
  {
   "cell_type": "markdown",
   "id": "32dc1e5a",
   "metadata": {},
   "source": [
    "##### Вывод 1:"
   ]
  },
  {
   "cell_type": "markdown",
   "id": "bc9247f6",
   "metadata": {},
   "source": [
    "Да влияет, те кто находиться в гражданском браке или никогда не вступал в брак хуже выплачивают долги."
   ]
  },
  {
   "cell_type": "markdown",
   "id": "ce08b61a",
   "metadata": {},
   "source": [
    "##### Вопроc 2: Влияет-ли количество детей на погошение отвта в срок?"
   ]
  },
  {
   "cell_type": "markdown",
   "id": "52287177",
   "metadata": {},
   "source": [
    "##### Вывод 2:"
   ]
  },
  {
   "cell_type": "markdown",
   "id": "f8676abf",
   "metadata": {},
   "source": [
    "Да влияет, те у кого нет детей лучше возвращают долги."
   ]
  },
  {
   "cell_type": "markdown",
   "id": "ed48024d",
   "metadata": {},
   "source": [
    "## Общий вывод:"
   ]
  },
  {
   "cell_type": "markdown",
   "id": "8a86a5ae",
   "metadata": {},
   "source": [
    "- Практически все характеристики имееют свой вес, исключение составил доход. Как выяснилось те, кто имеет  заработок от 30001 до 50000 чаще вовращают кредиты в срок, а все остальные в пределах среднего значения. Вот что получаеться по каждому параметру:\n",
    "\n",
    "- Чем старше человек тем меньше шанс просрочки.\n",
    "- Те у кого нет детей возращают лучше,чем тем у кого есть.\n",
    "- Люди с высшим образованием возвращают долги почти вдвое чаще, чем те у кого нет высшего.\n",
    "- Те кто находиться в гражданском браке или никогда не вступал в брак хуже выплачивают долги.\n",
    "- Те кто берут кредит на недвижимость и свадьбу, чаще возращают.\n",
    "- Женщины возращают долги чаще мужчин.\n",
    "\n",
    "- Выводы сделаны по предоставленным данным, если выборка будет больше выводы могут измениться. \n",
    "- Сейчас у нас получаеться что **лучшее кредиторы** это : овдовевшие (или хотя бы просто в разводе, но и замужние попрут) женщины после 50, без детей, с высшим образванием, которые берут кредит на свадьбу (ну тут все сходиться) или на недвижимость.\n",
    "\n",
    "- Самые **худшие кредиторы** это : неженатые молодые мужчины до 30 лет, с детьми, без высшего образванием (тем более только с начальным), которые берут кредит на образование или автомобиль."
   ]
  },
  {
   "cell_type": "markdown",
   "id": "7495219c",
   "metadata": {},
   "source": [
    "# Подготовка к обучению моделей"
   ]
  },
  {
   "cell_type": "markdown",
   "id": "e7f5defb",
   "metadata": {},
   "source": [
    "## Разделение выборки на обучающую и тестовую"
   ]
  },
  {
   "cell_type": "code",
   "execution_count": null,
   "id": "1d8f1f47-ef09-480b-bc56-4cb2f0e90e98",
   "metadata": {},
   "outputs": [],
   "source": [
    "df = df.drop(['education_id','family_status_id','education',\n",
    "              'children','dob_years_score','gender_score','family_score',\n",
    "             'purpose_score'],axis=1)"
   ]
  },
  {
   "cell_type": "code",
   "execution_count": null,
   "id": "673aa117-d204-464f-aa24-f562eabdfb22",
   "metadata": {},
   "outputs": [],
   "source": [
    "df = df[df['gender'] != 'XNA']\n"
   ]
  },
  {
   "cell_type": "code",
   "execution_count": null,
   "id": "4c63871b",
   "metadata": {},
   "outputs": [],
   "source": [
    "X = df.drop(['debt'], axis=1)\n",
    "y = df['debt']\n",
    "\n",
    "X_train, X_test, y_train, y_test = tts(X, y, test_size = 0.25, random_state = s, stratify=y)\n",
    "\n",
    "print('Размер признаков в обучабщей выборке:',X_train.shape[0])\n",
    "print('Размер признаков в тестовой выборке:',X_test.shape[0])\n",
    "print('Размер таргета в обучабщей выборке:',y_train.shape[0])\n",
    "print('Размер таргета в тестовой выборке:',y_test.shape[0])\n",
    "\n",
    "if round(y_train.mean(),3) == round(y_test.mean(),3):\n",
    "    print('Распределение таргета одинаковое:',round(y_train.mean(),3))\n",
    "else: \n",
    "    print('Распределение таргета отличается:')\n",
    "    print('Обучающая:',round(y_train.mean(),3))\n",
    "    print('Тестовая:',round(y_test.mean(),3))"
   ]
  },
  {
   "cell_type": "code",
   "execution_count": null,
   "id": "2f5187a8-f42f-4549-9481-f1fc90bc7061",
   "metadata": {},
   "outputs": [],
   "source": [
    "df.columns"
   ]
  },
  {
   "cell_type": "code",
   "execution_count": null,
   "id": "968c5a6b",
   "metadata": {},
   "outputs": [],
   "source": [
    "cat_features = ['family_status', 'gender', 'income_type','purpose',\n",
    "                'has_children','no_higher_education','score_q','total_income_category']\n",
    "\n",
    "num_features = ['days_employed', 'dob_years','total_income','score', 'score_round']\n",
    "\n",
    "ohe = ColumnTransformer([('encoder', OneHotEncoder(handle_unknown='ignore'), cat_features),\n",
    "                               ('scaler', MinMaxScaler(), num_features)],\n",
    "                                remainder='passthrough')\n",
    "\n",
    "oe = ColumnTransformer([('encoder', OrdinalEncoder( handle_unknown=\"use_encoded_value\", \n",
    "                                                   unknown_value=-999), cat_features),\n",
    "                              ('scaler', MinMaxScaler(), num_features)],\n",
    "                               remainder='passthrough')"
   ]
  },
  {
   "cell_type": "code",
   "execution_count": null,
   "id": "cdda6598",
   "metadata": {},
   "outputs": [],
   "source": [
    "# Добавляем опцию, чтобы все дробные числа в таблицах\n",
    "# округлялись до третьего знака после запятой.\n",
    "pd.options.display.float_format = '{: .3f}'.format\n",
    "\n",
    "results = pd.DataFrame(columns=['ROC AUC','Время обучения','Время предсказания'])\n",
    "results"
   ]
  },
  {
   "cell_type": "code",
   "execution_count": null,
   "id": "c5f55413",
   "metadata": {},
   "outputs": [],
   "source": [
    "def metrics(df,model,roc_auc,fit,pred,accuracy=False,f1_score=False):\n",
    "    '''Функция берёт на вход датафрейм, название модели, показаетль ROC-AUC (по CV),\n",
    "    время обучения и время предсказания. Добавляет строку с показателями модели.'''\n",
    "    \n",
    "    df.loc[model,'Время обучения'] = fit\n",
    "    df.loc[model,'Время предсказания'] = pred\n",
    "    df.loc[model,'ROC AUC'] = roc_auc\n",
    "    if accuracy:\n",
    "        df.loc[model,'accuracy'] = accuracy\n",
    "    if f1_score:\n",
    "        df.loc[model,'f1_score'] = f1_score\n",
    "    \n",
    "    return df"
   ]
  },
  {
   "cell_type": "code",
   "execution_count": null,
   "id": "69f06142",
   "metadata": {},
   "outputs": [],
   "source": [
    "def grid_fit(model,params, cv=4, X_train=X_train, y_train=y_train):\n",
    "    \"\"\"Фукция берет на вход модель, и гиперпараметры для GridSearchCV.\n",
    "    Проводит обучение с выявлением лучших гиперпараметров по метрике ROC-AUC.\n",
    "    Возвращает обученную модель, roc_auc, время обучения и предсказания модели.\"\"\"\n",
    "    \n",
    "    grid = GridSearchCV(model, \n",
    "                        param_grid=params, \n",
    "                        scoring='roc_auc',\n",
    "                        cv = cv)\n",
    "        \n",
    "    grid.fit(X_train,y_train)\n",
    "    \n",
    "    i = (list(grid.cv_results_['rank_test_score'])).index(1)\n",
    "    roc_auc = (grid.cv_results_['mean_test_score'][i])\n",
    "    time_fit = grid.cv_results_['mean_fit_time'][i]\n",
    "    time_pred = grid.cv_results_['mean_score_time'][i]\n",
    "    \n",
    "    print('Лучшие параметры модели:', grid.best_params_)\n",
    "    print('ROC-AUC:',roc_auc)\n",
    "    print('Время обучения модели:', time_fit)\n",
    "    print('Время предсказания модели:', time_pred)\n",
    "    \n",
    "    return grid, roc_auc, time_fit, time_pred"
   ]
  },
  {
   "cell_type": "code",
   "execution_count": null,
   "id": "12561d11",
   "metadata": {},
   "outputs": [],
   "source": [
    "def pred(model,X_train=X_train,y_train=y_train,X_test=X_test,accuracy=True,f1=True):\n",
    "    \"\"\"Функция берёт на вход модель, обучает её на обучающей выборке,\n",
    "    делает предсказания и проверяет ROC-AUC на тестовой выборке.\n",
    "    На выход идёт ROC-AUC, время обучения и предсказания.\"\"\"\n",
    "    \n",
    "    start = time.time()\n",
    "    model.fit(X_train, y_train)\n",
    "    end = time.time()\n",
    "    time_fit = end - start\n",
    "\n",
    "    start = time.time()\n",
    "    preds = model.predict(X_test)\n",
    "    end = time.time()\n",
    "    pred_proba = model.predict_proba(X_test)\n",
    "    pred_proba = pred_proba[:, 1]\n",
    "    roc_auc = roc_auc_score(y_test, pred_proba)\n",
    "    time_pred = end - start\n",
    "    \n",
    "    print('Время обучения модели:', time_fit)\n",
    "    print('Время предсказания модели:', time_pred)\n",
    "    print('ROC-AUC', roc_auc)\n",
    "    \n",
    "    if f1:\n",
    "        f1 = f1_score(y_test,(best_pipe.predict_proba(X_test)[:,1] > 0.099)*1)\n",
    "        print('F1 score', f1)\n",
    "        \n",
    "    if accuracy:\n",
    "        accuracy = accuracy_score(y_test, preds)\n",
    "        print('Точность', accuracy)\n",
    "    \n",
    "    \n",
    "    fpr, tpr, treshold = roc_curve(y_test, pred_proba)\n",
    "    AUC = auc(fpr, tpr)\n",
    "    plt.plot(fpr, tpr, color='darkorange',\n",
    "             label='ROC кривая (area = %0.2f)' % AUC)\n",
    "    plt.plot([0, 1], [0, 1], color='navy', linestyle='--')\n",
    "    plt.xlim([0.0, 1.0])\n",
    "    plt.ylim([0.0, 1.0])\n",
    "    plt.xlabel('False Positive Rate')\n",
    "    plt.ylabel('True Positive Rate')\n",
    "    plt.title('ROC-curve лучшей модели')\n",
    "    plt.legend(loc=\"lower right\")\n",
    "    plt.show()\n",
    "    \n",
    "    return preds, roc_auc, accuracy, f1, time_fit, time_pred"
   ]
  },
  {
   "cell_type": "markdown",
   "id": "edfd3148",
   "metadata": {},
   "source": [
    "# Обучение моделей"
   ]
  },
  {
   "cell_type": "markdown",
   "id": "dc1eb021",
   "metadata": {},
   "source": [
    "## Логистическая Регрессия"
   ]
  },
  {
   "cell_type": "code",
   "execution_count": null,
   "id": "d45ff2b1",
   "metadata": {},
   "outputs": [],
   "source": [
    "%%time\n",
    "pipe = Pipeline([('OHE', ohe),\n",
    "                 ('LR', LR(random_state = s))])\n",
    "params_lr = {'LR__class_weight': [None,'balanced'],\n",
    "             'LR__solver': ['lbfgs', 'saga']}\n",
    "\n",
    "grid_lr, roc_auc_lr, lr_ft, lr_pt = grid_fit(pipe,params_lr)\n",
    "\n",
    "metrics(results, \"LogisticRegression\", roc_auc_lr, lr_ft, lr_pt)"
   ]
  },
  {
   "cell_type": "markdown",
   "id": "6f1af4fd-e4ab-4d0d-8515-87f143f0abf6",
   "metadata": {},
   "source": [
    "## Ridge"
   ]
  },
  {
   "cell_type": "code",
   "execution_count": null,
   "id": "3ecafcf1-f589-4ea9-8e7f-174879307753",
   "metadata": {},
   "outputs": [],
   "source": [
    "%%time\n",
    "pipe = Pipeline([('OHE', ohe),\n",
    "                 ('RC', RC(random_state = s))])\n",
    "params_rc = {'RC__class_weight': [None,'balanced'],\n",
    "             'RC__solver': [\"auto\", \"svd\", \"cholesky\", \"lsqr\", \"sparse_cg\", \"sag\", \"saga\", \"lbfgs\"]}\n",
    "\n",
    "grid_rc, roc_auc_rc, rc_ft, rc_pt = grid_fit(pipe,params_rc)\n",
    "\n",
    "metrics(results, \"RidgeClassifier\", roc_auc_rc, rc_ft, rc_pt)"
   ]
  },
  {
   "cell_type": "markdown",
   "id": "ccb33727-7b4b-4610-b308-be877eadf5e8",
   "metadata": {},
   "source": [
    "## DecisionTreeClassifier"
   ]
  },
  {
   "cell_type": "code",
   "execution_count": null,
   "id": "564eb849-feb5-4610-a0b4-5d6ad3fdad04",
   "metadata": {},
   "outputs": [],
   "source": [
    "%%time\n",
    "pipe = Pipeline([('OE', oe),\n",
    "                 ('DTC', DTC(random_state = s))])\n",
    "params = {'DTC__class_weight': [None,'balanced'],\n",
    "             'DTC__max_depth': range(1,12,1)}\n",
    "\n",
    "grid_dtc, roc_auc, ft, pt = grid_fit(pipe,params)\n",
    "\n",
    "metrics(results, \"DecisionTreeClassifier\", roc_auc, ft, pt)"
   ]
  },
  {
   "cell_type": "code",
   "execution_count": null,
   "id": "b6a5cd5e-7a39-4bae-af7d-30e196be71db",
   "metadata": {},
   "outputs": [],
   "source": [
    "%%time\n",
    "\n",
    "model_cb = CBC(random_state=s,\n",
    "               eval_metric='AUC',\n",
    "               early_stopping_rounds=100,\n",
    "               verbose=1000)#, depth=5)\n",
    "\n",
    "pipe = Pipeline([('OE', oe),\n",
    "                 ('CB', model_cb)])\n",
    "\n",
    "params_cb = {'CB__learning_rate':[0.003],\n",
    "             'CB__depth':[4]}\n",
    "\n",
    "grid_cb, roc_auc_cb, cb_ft, cb_pt = grid_fit(pipe,params_cb)\n",
    "\n",
    "metrics(results, \"CatBoostClassifier\", roc_auc_cb, cb_ft, cb_pt)"
   ]
  },
  {
   "cell_type": "markdown",
   "id": "02aa65fb-ab90-4216-a668-5a79f51b8be9",
   "metadata": {},
   "source": [
    "# Тест"
   ]
  },
  {
   "cell_type": "code",
   "execution_count": null,
   "id": "57b70fc9-b70c-43e2-89f9-7ffc13fb3f6a",
   "metadata": {},
   "outputs": [],
   "source": [
    "best_model = CBC(random_state = s,\n",
    "                 eval_metric ='AUC',\n",
    "                 early_stopping_rounds = 100,\n",
    "                 verbose = 1000,\n",
    "                 depth = 4, \n",
    "                 learning_rate = 0.003)\n",
    "\n",
    "best_pipe = Pipeline([('OE', oe),\n",
    "                      ('CBC', best_model)])\n",
    "\n",
    "preds, best_roc_auc, accuracy, f1,  best_time_fit, best_time_pred = pred(best_pipe)\n",
    "\n",
    "final = pd.DataFrame(columns=['ROC AUC','accuracy','f1_score','Время обучения','Время предсказания'])\n",
    "metrics(final,'CatBoostClassifier', best_roc_auc, best_time_fit, best_time_pred, accuracy, f1)"
   ]
  },
  {
   "cell_type": "code",
   "execution_count": null,
   "id": "d2a3a4bb-e3ec-4600-9c41-9208bd81184b",
   "metadata": {},
   "outputs": [],
   "source": [
    "best_model = CBC(random_state = s,\n",
    "                 eval_metric ='AUC',\n",
    "                 early_stopping_rounds = 100,\n",
    "                 verbose = 1000,\n",
    "                 depth = 4, \n",
    "                 learning_rate = 0.003)\n",
    "\n",
    "best_pipe = Pipeline([('OE', oe),\n",
    "                      ('CBC', best_model)])\n",
    "\n",
    "preds, best_roc_auc, accuracy, f1,  best_time_fit, best_time_pred = pred(best_pipe)\n",
    "\n",
    "final = pd.DataFrame(columns=['ROC AUC','accuracy','f1_score','Время обучения','Время предсказания'])\n",
    "metrics(final,'CatBoostClassifier', best_roc_auc, best_time_fit, best_time_pred, accuracy, f1)"
   ]
  },
  {
   "cell_type": "code",
   "execution_count": null,
   "id": "d482597f-bef5-42c8-b309-8995edf3fb8a",
   "metadata": {},
   "outputs": [],
   "source": [
    "t = pd.DataFrame({'y_true': y_test.copy(), \n",
    "                  'y_score': best_pipe.predict_proba(X_test)[:,1]})\n",
    "t['y_pred_0.5'] = (t['y_score'] > 0.5)*1\n",
    "\n",
    "max_score = f1_score(t['y_true'],(preds > 0.8)*1)\n",
    "best_p = 0\n",
    "\n",
    "for _ in np.arange(0.01,0.3,0.001):\n",
    "    tt = t.copy()\n",
    "    tt['y_pred_{}'.format(_)] = (tt['y_score'] >= _) * 1\n",
    "    ac = f1_score(t['y_true'], tt['y_pred_{}'.format(_)])\n",
    "    if ac > max_score:\n",
    "        max_score = ac\n",
    "        best_p = _\n",
    "                                 \n",
    "\n",
    "t['y_pred_{}'.format(best_p)] = (t['y_score'] >= best_p) * 1\n",
    "\n",
    "print('Итог:')\n",
    "print('Лучший порог', best_p)\n",
    "print('Лучший f1-score', max_score)"
   ]
  },
  {
   "cell_type": "code",
   "execution_count": null,
   "id": "32d28699-faf2-4733-90d4-8a8e01323bce",
   "metadata": {},
   "outputs": [],
   "source": [
    "precision, recall, thresholds = precision_recall_curve(y_test, best_pipe.predict_proba(X_test)[:,1])\n",
    "\n",
    "    \n",
    "plt.plot(thresholds, precision[:-1], 'b-', label='Precision')\n",
    "plt.plot(thresholds, recall[:-1], 'g-', label='Recall')\n",
    "for precision, recall, threshold in zip(precision, recall, thresholds):\n",
    "  # If precision and recall are equal, we have found the intersection\n",
    "  if precision == recall:\n",
    "    best_thr = round(threshold,3)\n",
    "plt.axvline(x=best_thr,\n",
    "              color='red', linestyle='--', \n",
    "              label=f'Порог пересечения кривых: {best_thr}')\n",
    "plt.xlabel('Порог')\n",
    "plt.legend()\n",
    "plt.ylim([0,1.01])\n",
    "plt.show()\n",
    "\n",
    "tt['y_pred_{}'.format(best_thr)] = (tt['y_score'] >= _) * 1\n",
    "ac = accuracy_score(t['y_true'], tt['y_pred_{}'.format(best_thr)])\n",
    "    \n",
    "print(\"Порог на пересечении кривых:\", best_thr)\n",
    "print(\"Accuracy:\", ac)"
   ]
  }
 ],
 "metadata": {
  "ExecuteTimeLog": [
   {
    "duration": 494,
    "start_time": "2022-06-09T14:45:40.652Z"
   },
   {
    "duration": 72,
    "start_time": "2022-06-09T14:46:18.992Z"
   },
   {
    "duration": 70,
    "start_time": "2022-06-09T14:46:24.559Z"
   },
   {
    "duration": 74,
    "start_time": "2022-06-09T14:47:00.755Z"
   },
   {
    "duration": 432,
    "start_time": "2022-06-09T14:47:22.156Z"
   },
   {
    "duration": 93,
    "start_time": "2022-06-09T14:48:02.341Z"
   },
   {
    "duration": 84,
    "start_time": "2022-06-09T14:48:20.294Z"
   },
   {
    "duration": 5,
    "start_time": "2022-06-09T14:59:02.127Z"
   },
   {
    "duration": 72,
    "start_time": "2022-06-09T15:00:07.552Z"
   },
   {
    "duration": 88,
    "start_time": "2022-06-09T15:00:29.243Z"
   },
   {
    "duration": 11,
    "start_time": "2022-06-09T15:01:28.725Z"
   },
   {
    "duration": 31,
    "start_time": "2022-06-09T15:03:47.949Z"
   },
   {
    "duration": 11,
    "start_time": "2022-06-09T15:06:38.495Z"
   },
   {
    "duration": 4,
    "start_time": "2022-06-09T15:12:06.094Z"
   },
   {
    "duration": 9,
    "start_time": "2022-06-09T15:30:19.189Z"
   },
   {
    "duration": 444,
    "start_time": "2022-06-09T15:30:35.751Z"
   },
   {
    "duration": 5,
    "start_time": "2022-06-09T15:30:36.197Z"
   },
   {
    "duration": 28,
    "start_time": "2022-06-09T15:30:36.204Z"
   },
   {
    "duration": 12,
    "start_time": "2022-06-09T15:30:36.234Z"
   },
   {
    "duration": 8,
    "start_time": "2022-06-09T15:30:36.247Z"
   },
   {
    "duration": 3,
    "start_time": "2022-06-09T15:30:36.257Z"
   },
   {
    "duration": 7,
    "start_time": "2022-06-09T15:30:36.261Z"
   },
   {
    "duration": 12,
    "start_time": "2022-06-09T15:31:17.338Z"
   },
   {
    "duration": 13,
    "start_time": "2022-06-09T15:34:09.117Z"
   },
   {
    "duration": 19,
    "start_time": "2022-06-09T15:38:19.051Z"
   },
   {
    "duration": 17,
    "start_time": "2022-06-09T15:38:52.407Z"
   },
   {
    "duration": 166,
    "start_time": "2022-06-09T15:41:54.109Z"
   },
   {
    "duration": 12,
    "start_time": "2022-06-09T15:43:23.946Z"
   },
   {
    "duration": 11,
    "start_time": "2022-06-09T15:43:59.044Z"
   },
   {
    "duration": 13,
    "start_time": "2022-06-09T15:45:19.891Z"
   },
   {
    "duration": 11,
    "start_time": "2022-06-09T15:45:26.172Z"
   },
   {
    "duration": 9,
    "start_time": "2022-06-09T15:45:31.667Z"
   },
   {
    "duration": 8,
    "start_time": "2022-06-09T15:45:38.302Z"
   },
   {
    "duration": 12,
    "start_time": "2022-06-09T15:51:17.853Z"
   },
   {
    "duration": 12,
    "start_time": "2022-06-09T15:51:33.859Z"
   },
   {
    "duration": 15,
    "start_time": "2022-06-09T15:51:49.445Z"
   },
   {
    "duration": 16,
    "start_time": "2022-06-09T15:51:54.820Z"
   },
   {
    "duration": 14,
    "start_time": "2022-06-09T15:54:59.129Z"
   },
   {
    "duration": 427,
    "start_time": "2022-06-09T16:06:20.456Z"
   },
   {
    "duration": 13,
    "start_time": "2022-06-09T16:06:37.146Z"
   },
   {
    "duration": 27,
    "start_time": "2022-06-09T16:07:33.537Z"
   },
   {
    "duration": 486,
    "start_time": "2022-06-09T16:08:18.115Z"
   },
   {
    "duration": 4,
    "start_time": "2022-06-09T16:08:18.603Z"
   },
   {
    "duration": 21,
    "start_time": "2022-06-09T16:08:18.608Z"
   },
   {
    "duration": 13,
    "start_time": "2022-06-09T16:08:18.631Z"
   },
   {
    "duration": 10,
    "start_time": "2022-06-09T16:08:18.646Z"
   },
   {
    "duration": 3,
    "start_time": "2022-06-09T16:08:18.657Z"
   },
   {
    "duration": 9,
    "start_time": "2022-06-09T16:08:18.661Z"
   },
   {
    "duration": 10,
    "start_time": "2022-06-09T16:08:18.671Z"
   },
   {
    "duration": 60,
    "start_time": "2022-06-09T16:08:18.682Z"
   },
   {
    "duration": 15,
    "start_time": "2022-06-09T16:08:18.745Z"
   },
   {
    "duration": 11,
    "start_time": "2022-06-09T16:08:18.765Z"
   },
   {
    "duration": 90,
    "start_time": "2022-06-09T16:14:58.820Z"
   },
   {
    "duration": 516,
    "start_time": "2022-06-09T16:23:13.027Z"
   },
   {
    "duration": 171,
    "start_time": "2022-06-09T16:31:51.621Z"
   },
   {
    "duration": 122,
    "start_time": "2022-06-09T16:32:01.316Z"
   },
   {
    "duration": 114,
    "start_time": "2022-06-09T16:32:32.823Z"
   },
   {
    "duration": 165,
    "start_time": "2022-06-09T16:34:39.985Z"
   },
   {
    "duration": 147,
    "start_time": "2022-06-09T16:38:36.733Z"
   },
   {
    "duration": 144,
    "start_time": "2022-06-09T16:38:56.978Z"
   },
   {
    "duration": 106,
    "start_time": "2022-06-09T16:39:19.075Z"
   },
   {
    "duration": 69,
    "start_time": "2022-06-09T16:39:41.556Z"
   },
   {
    "duration": 10,
    "start_time": "2022-06-09T16:39:52.223Z"
   },
   {
    "duration": 120,
    "start_time": "2022-06-09T16:40:01.676Z"
   },
   {
    "duration": 110,
    "start_time": "2022-06-09T16:40:44.772Z"
   },
   {
    "duration": 11,
    "start_time": "2022-06-09T16:45:23.611Z"
   },
   {
    "duration": 109,
    "start_time": "2022-06-09T16:45:32.111Z"
   },
   {
    "duration": 117,
    "start_time": "2022-06-09T16:45:52.225Z"
   },
   {
    "duration": 118,
    "start_time": "2022-06-09T16:46:06.874Z"
   },
   {
    "duration": 14,
    "start_time": "2022-06-09T17:47:27.247Z"
   },
   {
    "duration": 28,
    "start_time": "2022-06-09T17:48:03.816Z"
   },
   {
    "duration": 17,
    "start_time": "2022-06-09T17:48:35.598Z"
   },
   {
    "duration": 8,
    "start_time": "2022-06-09T17:48:37.717Z"
   },
   {
    "duration": 19,
    "start_time": "2022-06-09T17:48:39.527Z"
   },
   {
    "duration": 503,
    "start_time": "2022-06-09T17:48:48.702Z"
   },
   {
    "duration": 4,
    "start_time": "2022-06-09T17:48:49.206Z"
   },
   {
    "duration": 16,
    "start_time": "2022-06-09T17:48:49.212Z"
   },
   {
    "duration": 13,
    "start_time": "2022-06-09T17:48:49.229Z"
   },
   {
    "duration": 9,
    "start_time": "2022-06-09T17:48:49.244Z"
   },
   {
    "duration": 4,
    "start_time": "2022-06-09T17:48:49.254Z"
   },
   {
    "duration": 10,
    "start_time": "2022-06-09T17:48:49.259Z"
   },
   {
    "duration": 8,
    "start_time": "2022-06-09T17:48:49.271Z"
   },
   {
    "duration": 45,
    "start_time": "2022-06-09T17:48:49.281Z"
   },
   {
    "duration": 11,
    "start_time": "2022-06-09T17:48:49.328Z"
   },
   {
    "duration": 8,
    "start_time": "2022-06-09T17:48:49.341Z"
   },
   {
    "duration": 322,
    "start_time": "2022-06-09T17:48:49.350Z"
   },
   {
    "duration": 140,
    "start_time": "2022-06-09T17:48:49.674Z"
   },
   {
    "duration": 12,
    "start_time": "2022-06-09T17:48:49.816Z"
   },
   {
    "duration": 17,
    "start_time": "2022-06-09T17:48:49.830Z"
   },
   {
    "duration": 157,
    "start_time": "2022-06-09T17:48:49.848Z"
   },
   {
    "duration": 73,
    "start_time": "2022-06-09T17:48:50.007Z"
   },
   {
    "duration": 5,
    "start_time": "2022-06-09T17:53:14.371Z"
   },
   {
    "duration": 17,
    "start_time": "2022-06-09T17:53:42.021Z"
   },
   {
    "duration": 6,
    "start_time": "2022-06-09T17:57:39.541Z"
   },
   {
    "duration": 7,
    "start_time": "2022-06-09T17:57:41.968Z"
   },
   {
    "duration": 6,
    "start_time": "2022-06-09T17:57:46.229Z"
   },
   {
    "duration": 8,
    "start_time": "2022-06-09T18:00:15.712Z"
   },
   {
    "duration": 10,
    "start_time": "2022-06-09T18:00:44.350Z"
   },
   {
    "duration": 14,
    "start_time": "2022-06-09T18:01:31.427Z"
   },
   {
    "duration": 8,
    "start_time": "2022-06-09T18:03:02.142Z"
   },
   {
    "duration": 11,
    "start_time": "2022-06-09T18:03:03.810Z"
   },
   {
    "duration": 120,
    "start_time": "2022-06-09T18:04:09.861Z"
   },
   {
    "duration": 4,
    "start_time": "2022-06-09T18:06:13.128Z"
   },
   {
    "duration": 127,
    "start_time": "2022-06-09T18:06:47.739Z"
   },
   {
    "duration": 154,
    "start_time": "2022-06-09T18:08:58.034Z"
   },
   {
    "duration": 129,
    "start_time": "2022-06-09T18:11:14.973Z"
   },
   {
    "duration": 43,
    "start_time": "2022-06-10T11:33:37.336Z"
   },
   {
    "duration": 549,
    "start_time": "2022-06-10T11:34:00.925Z"
   },
   {
    "duration": 11,
    "start_time": "2022-06-10T11:34:01.476Z"
   },
   {
    "duration": 20,
    "start_time": "2022-06-10T11:34:01.488Z"
   },
   {
    "duration": 26,
    "start_time": "2022-06-10T11:34:01.510Z"
   },
   {
    "duration": 29,
    "start_time": "2022-06-10T11:34:01.538Z"
   },
   {
    "duration": 6,
    "start_time": "2022-06-10T11:34:01.568Z"
   },
   {
    "duration": 16,
    "start_time": "2022-06-10T11:34:01.575Z"
   },
   {
    "duration": 3,
    "start_time": "2022-06-10T11:34:01.593Z"
   },
   {
    "duration": 17,
    "start_time": "2022-06-10T11:34:01.599Z"
   },
   {
    "duration": 25,
    "start_time": "2022-06-10T11:34:01.618Z"
   },
   {
    "duration": 20,
    "start_time": "2022-06-10T11:34:01.644Z"
   },
   {
    "duration": 11,
    "start_time": "2022-06-10T11:34:01.666Z"
   },
   {
    "duration": 11,
    "start_time": "2022-06-10T11:34:01.678Z"
   },
   {
    "duration": 531,
    "start_time": "2022-06-10T11:34:01.691Z"
   },
   {
    "duration": 146,
    "start_time": "2022-06-10T11:34:02.226Z"
   },
   {
    "duration": 10,
    "start_time": "2022-06-10T11:34:02.374Z"
   },
   {
    "duration": 16,
    "start_time": "2022-06-10T11:34:02.385Z"
   },
   {
    "duration": 3,
    "start_time": "2022-06-10T11:34:02.403Z"
   },
   {
    "duration": 136,
    "start_time": "2022-06-10T11:34:02.425Z"
   },
   {
    "duration": 7,
    "start_time": "2022-06-10T11:34:02.563Z"
   },
   {
    "duration": 5,
    "start_time": "2022-06-10T11:34:02.571Z"
   },
   {
    "duration": 141,
    "start_time": "2022-06-10T11:34:02.578Z"
   },
   {
    "duration": 68,
    "start_time": "2022-06-10T11:34:21.033Z"
   },
   {
    "duration": 13,
    "start_time": "2022-06-10T11:34:24.976Z"
   },
   {
    "duration": 102,
    "start_time": "2022-06-10T11:35:23.874Z"
   },
   {
    "duration": 413,
    "start_time": "2022-06-10T11:35:42.583Z"
   },
   {
    "duration": 31,
    "start_time": "2022-06-10T11:35:42.998Z"
   },
   {
    "duration": 4,
    "start_time": "2022-06-10T11:35:43.030Z"
   },
   {
    "duration": 12,
    "start_time": "2022-06-10T11:35:43.036Z"
   },
   {
    "duration": 13,
    "start_time": "2022-06-10T11:35:43.050Z"
   },
   {
    "duration": 4,
    "start_time": "2022-06-10T11:35:43.065Z"
   },
   {
    "duration": 11,
    "start_time": "2022-06-10T11:35:43.070Z"
   },
   {
    "duration": 4,
    "start_time": "2022-06-10T11:35:43.083Z"
   },
   {
    "duration": 8,
    "start_time": "2022-06-10T11:35:43.088Z"
   },
   {
    "duration": 10,
    "start_time": "2022-06-10T11:35:43.124Z"
   },
   {
    "duration": 21,
    "start_time": "2022-06-10T11:35:43.135Z"
   },
   {
    "duration": 12,
    "start_time": "2022-06-10T11:35:43.158Z"
   },
   {
    "duration": 9,
    "start_time": "2022-06-10T11:35:43.172Z"
   },
   {
    "duration": 343,
    "start_time": "2022-06-10T11:35:43.182Z"
   },
   {
    "duration": 147,
    "start_time": "2022-06-10T11:35:43.527Z"
   },
   {
    "duration": 10,
    "start_time": "2022-06-10T11:35:43.675Z"
   },
   {
    "duration": 16,
    "start_time": "2022-06-10T11:35:43.686Z"
   },
   {
    "duration": 4,
    "start_time": "2022-06-10T11:35:43.703Z"
   },
   {
    "duration": 138,
    "start_time": "2022-06-10T11:35:43.725Z"
   },
   {
    "duration": 6,
    "start_time": "2022-06-10T11:35:43.865Z"
   },
   {
    "duration": 7,
    "start_time": "2022-06-10T11:35:43.872Z"
   },
   {
    "duration": 150,
    "start_time": "2022-06-10T11:35:43.880Z"
   },
   {
    "duration": 13,
    "start_time": "2022-06-10T11:36:22.945Z"
   },
   {
    "duration": 40,
    "start_time": "2022-06-10T11:36:27.649Z"
   },
   {
    "duration": 518,
    "start_time": "2022-06-10T11:36:52.214Z"
   },
   {
    "duration": 35,
    "start_time": "2022-06-10T11:36:52.734Z"
   },
   {
    "duration": 15,
    "start_time": "2022-06-10T11:36:52.771Z"
   },
   {
    "duration": 4,
    "start_time": "2022-06-10T11:36:52.788Z"
   },
   {
    "duration": 36,
    "start_time": "2022-06-10T11:36:52.794Z"
   },
   {
    "duration": 15,
    "start_time": "2022-06-10T11:36:52.831Z"
   },
   {
    "duration": 5,
    "start_time": "2022-06-10T11:36:52.847Z"
   },
   {
    "duration": 13,
    "start_time": "2022-06-10T11:36:52.853Z"
   },
   {
    "duration": 6,
    "start_time": "2022-06-10T11:36:52.867Z"
   },
   {
    "duration": 9,
    "start_time": "2022-06-10T11:36:52.875Z"
   },
   {
    "duration": 18,
    "start_time": "2022-06-10T11:36:52.885Z"
   },
   {
    "duration": 18,
    "start_time": "2022-06-10T11:36:52.925Z"
   },
   {
    "duration": 10,
    "start_time": "2022-06-10T11:36:52.945Z"
   },
   {
    "duration": 10,
    "start_time": "2022-06-10T11:36:52.957Z"
   },
   {
    "duration": 334,
    "start_time": "2022-06-10T11:36:52.968Z"
   },
   {
    "duration": 137,
    "start_time": "2022-06-10T11:36:53.303Z"
   },
   {
    "duration": 9,
    "start_time": "2022-06-10T11:36:53.442Z"
   },
   {
    "duration": 15,
    "start_time": "2022-06-10T11:36:53.452Z"
   },
   {
    "duration": 3,
    "start_time": "2022-06-10T11:36:53.469Z"
   },
   {
    "duration": 139,
    "start_time": "2022-06-10T11:36:53.474Z"
   },
   {
    "duration": 10,
    "start_time": "2022-06-10T11:36:53.615Z"
   },
   {
    "duration": 4,
    "start_time": "2022-06-10T11:36:53.626Z"
   },
   {
    "duration": 134,
    "start_time": "2022-06-10T11:36:53.631Z"
   },
   {
    "duration": 15,
    "start_time": "2022-06-10T11:55:05.040Z"
   },
   {
    "duration": 17,
    "start_time": "2022-06-10T11:55:09.662Z"
   },
   {
    "duration": 473,
    "start_time": "2022-06-10T11:55:40.527Z"
   },
   {
    "duration": 27,
    "start_time": "2022-06-10T11:55:41.003Z"
   },
   {
    "duration": 11,
    "start_time": "2022-06-10T11:55:41.032Z"
   },
   {
    "duration": 36,
    "start_time": "2022-06-10T11:55:41.045Z"
   },
   {
    "duration": 45,
    "start_time": "2022-06-10T11:55:41.082Z"
   },
   {
    "duration": 39,
    "start_time": "2022-06-10T11:55:41.129Z"
   },
   {
    "duration": 34,
    "start_time": "2022-06-10T11:55:41.169Z"
   },
   {
    "duration": 30,
    "start_time": "2022-06-10T11:55:41.205Z"
   },
   {
    "duration": 52,
    "start_time": "2022-06-10T11:55:41.236Z"
   },
   {
    "duration": 36,
    "start_time": "2022-06-10T11:55:41.290Z"
   },
   {
    "duration": 5,
    "start_time": "2022-06-10T11:55:41.328Z"
   },
   {
    "duration": 43,
    "start_time": "2022-06-10T11:55:41.335Z"
   },
   {
    "duration": 40,
    "start_time": "2022-06-10T11:55:41.380Z"
   },
   {
    "duration": 11,
    "start_time": "2022-06-10T11:55:41.421Z"
   },
   {
    "duration": 17,
    "start_time": "2022-06-10T11:55:41.433Z"
   },
   {
    "duration": 326,
    "start_time": "2022-06-10T11:55:41.451Z"
   },
   {
    "duration": 132,
    "start_time": "2022-06-10T11:55:41.778Z"
   },
   {
    "duration": 16,
    "start_time": "2022-06-10T11:55:41.912Z"
   },
   {
    "duration": 31,
    "start_time": "2022-06-10T11:55:41.929Z"
   },
   {
    "duration": 13,
    "start_time": "2022-06-10T11:55:41.961Z"
   },
   {
    "duration": 125,
    "start_time": "2022-06-10T11:55:41.975Z"
   },
   {
    "duration": 5,
    "start_time": "2022-06-10T11:55:42.101Z"
   },
   {
    "duration": 29,
    "start_time": "2022-06-10T11:55:42.107Z"
   },
   {
    "duration": 126,
    "start_time": "2022-06-10T11:55:42.138Z"
   },
   {
    "duration": 61,
    "start_time": "2022-06-10T11:59:27.301Z"
   },
   {
    "duration": 7,
    "start_time": "2022-06-10T11:59:42.920Z"
   },
   {
    "duration": 7,
    "start_time": "2022-06-10T12:00:01.719Z"
   },
   {
    "duration": 30,
    "start_time": "2022-06-10T12:59:59.767Z"
   },
   {
    "duration": 2246,
    "start_time": "2022-06-10T13:00:10.487Z"
   },
   {
    "duration": 650,
    "start_time": "2022-06-10T13:00:14.551Z"
   },
   {
    "duration": 45,
    "start_time": "2022-06-11T12:36:27.898Z"
   },
   {
    "duration": 46,
    "start_time": "2022-06-11T12:37:38.482Z"
   },
   {
    "duration": 6,
    "start_time": "2022-06-11T12:37:41.199Z"
   },
   {
    "duration": 674,
    "start_time": "2022-06-11T12:37:44.824Z"
   },
   {
    "duration": 29,
    "start_time": "2022-06-11T12:37:49.019Z"
   },
   {
    "duration": 14,
    "start_time": "2022-06-11T12:37:50.861Z"
   },
   {
    "duration": 4,
    "start_time": "2022-06-11T12:37:54.383Z"
   },
   {
    "duration": 9,
    "start_time": "2022-06-11T12:37:56.146Z"
   },
   {
    "duration": 20,
    "start_time": "2022-06-11T12:37:59.444Z"
   },
   {
    "duration": 17,
    "start_time": "2022-06-11T12:38:32.504Z"
   },
   {
    "duration": 26,
    "start_time": "2022-06-11T12:49:16.817Z"
   },
   {
    "duration": 7,
    "start_time": "2022-06-11T12:49:26.814Z"
   },
   {
    "duration": 6,
    "start_time": "2022-06-11T12:49:33.083Z"
   },
   {
    "duration": 5,
    "start_time": "2022-06-11T12:49:45.615Z"
   },
   {
    "duration": 4,
    "start_time": "2022-06-11T12:49:57.795Z"
   },
   {
    "duration": 7,
    "start_time": "2022-06-11T12:50:53.521Z"
   },
   {
    "duration": 5,
    "start_time": "2022-06-11T12:50:56.400Z"
   },
   {
    "duration": 5,
    "start_time": "2022-06-11T12:51:05.195Z"
   },
   {
    "duration": 30,
    "start_time": "2022-06-11T12:52:39.291Z"
   },
   {
    "duration": 8,
    "start_time": "2022-06-11T12:52:56.563Z"
   },
   {
    "duration": 21,
    "start_time": "2022-06-11T13:09:19.067Z"
   },
   {
    "duration": 4,
    "start_time": "2022-06-11T13:13:11.086Z"
   },
   {
    "duration": 3,
    "start_time": "2022-06-11T13:13:15.832Z"
   },
   {
    "duration": 6,
    "start_time": "2022-06-11T13:19:39.984Z"
   },
   {
    "duration": 530,
    "start_time": "2022-06-11T13:20:17.485Z"
   },
   {
    "duration": 29,
    "start_time": "2022-06-11T13:20:18.017Z"
   },
   {
    "duration": 13,
    "start_time": "2022-06-11T13:20:18.059Z"
   },
   {
    "duration": 4,
    "start_time": "2022-06-11T13:20:18.074Z"
   },
   {
    "duration": 13,
    "start_time": "2022-06-11T13:20:18.080Z"
   },
   {
    "duration": 6,
    "start_time": "2022-06-11T13:20:18.094Z"
   },
   {
    "duration": 9,
    "start_time": "2022-06-11T13:20:18.101Z"
   },
   {
    "duration": 49,
    "start_time": "2022-06-11T13:20:18.111Z"
   },
   {
    "duration": 33,
    "start_time": "2022-06-11T13:20:18.162Z"
   },
   {
    "duration": 5,
    "start_time": "2022-06-11T13:20:18.196Z"
   },
   {
    "duration": 92,
    "start_time": "2022-06-11T13:20:18.202Z"
   },
   {
    "duration": 0,
    "start_time": "2022-06-11T13:20:18.296Z"
   },
   {
    "duration": 0,
    "start_time": "2022-06-11T13:20:18.297Z"
   },
   {
    "duration": 0,
    "start_time": "2022-06-11T13:20:18.299Z"
   },
   {
    "duration": 0,
    "start_time": "2022-06-11T13:20:18.300Z"
   },
   {
    "duration": 0,
    "start_time": "2022-06-11T13:20:18.301Z"
   },
   {
    "duration": 0,
    "start_time": "2022-06-11T13:20:18.302Z"
   },
   {
    "duration": 0,
    "start_time": "2022-06-11T13:20:18.303Z"
   },
   {
    "duration": 0,
    "start_time": "2022-06-11T13:20:18.304Z"
   },
   {
    "duration": 0,
    "start_time": "2022-06-11T13:20:18.305Z"
   },
   {
    "duration": 0,
    "start_time": "2022-06-11T13:20:18.306Z"
   },
   {
    "duration": 0,
    "start_time": "2022-06-11T13:20:18.307Z"
   },
   {
    "duration": 0,
    "start_time": "2022-06-11T13:20:18.308Z"
   },
   {
    "duration": 0,
    "start_time": "2022-06-11T13:20:18.309Z"
   },
   {
    "duration": 0,
    "start_time": "2022-06-11T13:20:18.310Z"
   },
   {
    "duration": 0,
    "start_time": "2022-06-11T13:20:18.311Z"
   },
   {
    "duration": 0,
    "start_time": "2022-06-11T13:20:18.312Z"
   },
   {
    "duration": 0,
    "start_time": "2022-06-11T13:20:18.313Z"
   },
   {
    "duration": 0,
    "start_time": "2022-06-11T13:20:18.313Z"
   },
   {
    "duration": 0,
    "start_time": "2022-06-11T13:20:18.314Z"
   },
   {
    "duration": 0,
    "start_time": "2022-06-11T13:20:18.315Z"
   },
   {
    "duration": 0,
    "start_time": "2022-06-11T13:20:18.316Z"
   },
   {
    "duration": 14,
    "start_time": "2022-06-11T13:20:37.625Z"
   },
   {
    "duration": 10,
    "start_time": "2022-06-11T13:22:05.908Z"
   },
   {
    "duration": 514,
    "start_time": "2022-06-11T13:22:22.851Z"
   },
   {
    "duration": 30,
    "start_time": "2022-06-11T13:22:23.367Z"
   },
   {
    "duration": 15,
    "start_time": "2022-06-11T13:22:23.398Z"
   },
   {
    "duration": 12,
    "start_time": "2022-06-11T13:22:23.416Z"
   },
   {
    "duration": 31,
    "start_time": "2022-06-11T13:22:23.429Z"
   },
   {
    "duration": 6,
    "start_time": "2022-06-11T13:22:23.461Z"
   },
   {
    "duration": 23,
    "start_time": "2022-06-11T13:22:23.469Z"
   },
   {
    "duration": 5,
    "start_time": "2022-06-11T13:22:23.493Z"
   },
   {
    "duration": 10,
    "start_time": "2022-06-11T13:22:23.500Z"
   },
   {
    "duration": 50,
    "start_time": "2022-06-11T13:22:23.512Z"
   },
   {
    "duration": 5,
    "start_time": "2022-06-11T13:22:23.564Z"
   },
   {
    "duration": 20,
    "start_time": "2022-06-11T13:22:23.570Z"
   },
   {
    "duration": 72,
    "start_time": "2022-06-11T13:22:23.592Z"
   },
   {
    "duration": 0,
    "start_time": "2022-06-11T13:22:23.665Z"
   },
   {
    "duration": 0,
    "start_time": "2022-06-11T13:22:23.666Z"
   },
   {
    "duration": 0,
    "start_time": "2022-06-11T13:22:23.668Z"
   },
   {
    "duration": 1,
    "start_time": "2022-06-11T13:22:23.668Z"
   },
   {
    "duration": 0,
    "start_time": "2022-06-11T13:22:23.669Z"
   },
   {
    "duration": 0,
    "start_time": "2022-06-11T13:22:23.670Z"
   },
   {
    "duration": 0,
    "start_time": "2022-06-11T13:22:23.671Z"
   },
   {
    "duration": 0,
    "start_time": "2022-06-11T13:22:23.672Z"
   },
   {
    "duration": 0,
    "start_time": "2022-06-11T13:22:23.673Z"
   },
   {
    "duration": 0,
    "start_time": "2022-06-11T13:22:23.674Z"
   },
   {
    "duration": 0,
    "start_time": "2022-06-11T13:22:23.675Z"
   },
   {
    "duration": 0,
    "start_time": "2022-06-11T13:22:23.676Z"
   },
   {
    "duration": 0,
    "start_time": "2022-06-11T13:22:23.677Z"
   },
   {
    "duration": 0,
    "start_time": "2022-06-11T13:22:23.679Z"
   },
   {
    "duration": 0,
    "start_time": "2022-06-11T13:22:23.680Z"
   },
   {
    "duration": 0,
    "start_time": "2022-06-11T13:22:23.681Z"
   },
   {
    "duration": 0,
    "start_time": "2022-06-11T13:22:23.682Z"
   },
   {
    "duration": 0,
    "start_time": "2022-06-11T13:22:23.683Z"
   },
   {
    "duration": 0,
    "start_time": "2022-06-11T13:22:23.684Z"
   },
   {
    "duration": 0,
    "start_time": "2022-06-11T13:22:23.685Z"
   },
   {
    "duration": 6,
    "start_time": "2022-06-11T13:23:51.819Z"
   },
   {
    "duration": 31,
    "start_time": "2022-06-11T13:24:39.290Z"
   },
   {
    "duration": 13,
    "start_time": "2022-06-11T13:28:33.703Z"
   },
   {
    "duration": 7,
    "start_time": "2022-06-11T13:28:59.334Z"
   },
   {
    "duration": 15,
    "start_time": "2022-06-11T13:29:22.940Z"
   },
   {
    "duration": 11,
    "start_time": "2022-06-11T13:29:29.733Z"
   },
   {
    "duration": 7,
    "start_time": "2022-06-11T13:29:50.938Z"
   },
   {
    "duration": 13,
    "start_time": "2022-06-11T13:29:56.483Z"
   },
   {
    "duration": 510,
    "start_time": "2022-06-11T13:30:23.527Z"
   },
   {
    "duration": 31,
    "start_time": "2022-06-11T13:30:29.952Z"
   },
   {
    "duration": 14,
    "start_time": "2022-06-11T13:30:33.796Z"
   },
   {
    "duration": 5,
    "start_time": "2022-06-11T13:30:36.588Z"
   },
   {
    "duration": 10,
    "start_time": "2022-06-11T13:30:38.088Z"
   },
   {
    "duration": 5,
    "start_time": "2022-06-11T13:30:39.626Z"
   },
   {
    "duration": 14,
    "start_time": "2022-06-11T13:30:52.062Z"
   },
   {
    "duration": 6,
    "start_time": "2022-06-11T13:30:54.458Z"
   },
   {
    "duration": 4,
    "start_time": "2022-06-11T13:30:55.529Z"
   },
   {
    "duration": 32,
    "start_time": "2022-06-11T13:30:58.904Z"
   },
   {
    "duration": 5,
    "start_time": "2022-06-11T13:31:00.120Z"
   },
   {
    "duration": 12,
    "start_time": "2022-06-11T13:31:01.640Z"
   },
   {
    "duration": 11,
    "start_time": "2022-06-11T13:31:10.546Z"
   },
   {
    "duration": 13,
    "start_time": "2022-06-11T13:32:43.482Z"
   },
   {
    "duration": 32,
    "start_time": "2022-06-11T13:34:27.062Z"
   },
   {
    "duration": 11,
    "start_time": "2022-06-11T13:34:40.528Z"
   },
   {
    "duration": 499,
    "start_time": "2022-06-11T13:49:37.851Z"
   },
   {
    "duration": 5,
    "start_time": "2022-06-11T13:51:08.924Z"
   },
   {
    "duration": 32,
    "start_time": "2022-06-11T13:55:15.219Z"
   },
   {
    "duration": 30,
    "start_time": "2022-06-11T13:56:27.800Z"
   },
   {
    "duration": 22,
    "start_time": "2022-06-11T13:59:13.817Z"
   },
   {
    "duration": 5,
    "start_time": "2022-06-11T14:01:20.892Z"
   },
   {
    "duration": 70,
    "start_time": "2022-06-11T14:06:30.403Z"
   },
   {
    "duration": 18,
    "start_time": "2022-06-11T14:06:40.543Z"
   },
   {
    "duration": 35,
    "start_time": "2022-06-11T14:07:54.650Z"
   },
   {
    "duration": 87,
    "start_time": "2022-06-11T14:07:59.391Z"
   },
   {
    "duration": 14,
    "start_time": "2022-06-11T14:08:02.997Z"
   },
   {
    "duration": 10,
    "start_time": "2022-06-11T14:08:16.679Z"
   },
   {
    "duration": 5,
    "start_time": "2022-06-11T14:11:21.755Z"
   },
   {
    "duration": 37,
    "start_time": "2022-06-11T14:12:47.203Z"
   },
   {
    "duration": 7,
    "start_time": "2022-06-11T14:12:59.842Z"
   },
   {
    "duration": 7,
    "start_time": "2022-06-11T14:14:29.461Z"
   },
   {
    "duration": 12,
    "start_time": "2022-06-11T14:14:47.942Z"
   },
   {
    "duration": 8,
    "start_time": "2022-06-11T14:16:39.586Z"
   },
   {
    "duration": 5,
    "start_time": "2022-06-11T14:16:47.288Z"
   },
   {
    "duration": 7,
    "start_time": "2022-06-11T14:16:56.214Z"
   },
   {
    "duration": 4,
    "start_time": "2022-06-11T14:17:32.720Z"
   },
   {
    "duration": 4,
    "start_time": "2022-06-11T14:18:42.838Z"
   },
   {
    "duration": 7,
    "start_time": "2022-06-11T14:18:52.339Z"
   },
   {
    "duration": 4,
    "start_time": "2022-06-11T14:19:45.835Z"
   },
   {
    "duration": 7,
    "start_time": "2022-06-11T14:21:41.451Z"
   },
   {
    "duration": 13,
    "start_time": "2022-06-11T14:22:34.752Z"
   },
   {
    "duration": 12,
    "start_time": "2022-06-11T14:22:36.804Z"
   },
   {
    "duration": 7,
    "start_time": "2022-06-11T14:23:13.369Z"
   },
   {
    "duration": 6,
    "start_time": "2022-06-11T14:23:17.608Z"
   },
   {
    "duration": 6,
    "start_time": "2022-06-11T14:23:40.241Z"
   },
   {
    "duration": 19,
    "start_time": "2022-06-11T14:24:42.590Z"
   },
   {
    "duration": 35,
    "start_time": "2022-06-11T14:57:02.550Z"
   },
   {
    "duration": 119,
    "start_time": "2022-06-11T14:58:05.409Z"
   },
   {
    "duration": 18,
    "start_time": "2022-06-11T14:59:33.590Z"
   },
   {
    "duration": 8,
    "start_time": "2022-06-11T14:59:48.063Z"
   },
   {
    "duration": 8,
    "start_time": "2022-06-11T15:00:01.994Z"
   },
   {
    "duration": 7,
    "start_time": "2022-06-11T15:00:06.531Z"
   },
   {
    "duration": 7,
    "start_time": "2022-06-11T15:01:16.493Z"
   },
   {
    "duration": 8,
    "start_time": "2022-06-11T15:01:48.500Z"
   },
   {
    "duration": 26,
    "start_time": "2022-06-11T15:04:38.495Z"
   },
   {
    "duration": 13,
    "start_time": "2022-06-11T15:08:35.552Z"
   },
   {
    "duration": 13,
    "start_time": "2022-06-11T15:08:56.520Z"
   },
   {
    "duration": 159,
    "start_time": "2022-06-11T15:10:43.315Z"
   },
   {
    "duration": 121,
    "start_time": "2022-06-11T15:10:45.694Z"
   },
   {
    "duration": 6,
    "start_time": "2022-06-11T15:11:22.184Z"
   },
   {
    "duration": 8,
    "start_time": "2022-06-11T15:13:34.512Z"
   },
   {
    "duration": 7,
    "start_time": "2022-06-11T15:13:48.071Z"
   },
   {
    "duration": 29,
    "start_time": "2022-06-11T15:16:03.900Z"
   },
   {
    "duration": 7,
    "start_time": "2022-06-11T15:16:16.244Z"
   },
   {
    "duration": 11,
    "start_time": "2022-06-11T15:20:24.857Z"
   },
   {
    "duration": 4,
    "start_time": "2022-06-11T15:20:52.649Z"
   },
   {
    "duration": 15,
    "start_time": "2022-06-11T15:21:34.530Z"
   },
   {
    "duration": 7,
    "start_time": "2022-06-11T15:22:24.780Z"
   },
   {
    "duration": 9,
    "start_time": "2022-06-11T15:22:34.502Z"
   },
   {
    "duration": 11,
    "start_time": "2022-06-11T15:23:04.786Z"
   },
   {
    "duration": 12,
    "start_time": "2022-06-11T15:23:32.054Z"
   },
   {
    "duration": 10,
    "start_time": "2022-06-11T15:24:04.567Z"
   },
   {
    "duration": 121,
    "start_time": "2022-06-11T15:24:19.919Z"
   },
   {
    "duration": 196,
    "start_time": "2022-06-11T15:24:31.848Z"
   },
   {
    "duration": 10,
    "start_time": "2022-06-11T15:25:21.236Z"
   },
   {
    "duration": 18,
    "start_time": "2022-06-11T15:25:34.046Z"
   },
   {
    "duration": 130,
    "start_time": "2022-06-11T15:26:01.421Z"
   },
   {
    "duration": 4,
    "start_time": "2022-06-11T15:26:34.368Z"
   },
   {
    "duration": 116,
    "start_time": "2022-06-11T15:26:38.050Z"
   },
   {
    "duration": 9,
    "start_time": "2022-06-11T15:27:10.580Z"
   },
   {
    "duration": 114,
    "start_time": "2022-06-11T15:27:15.264Z"
   },
   {
    "duration": 4,
    "start_time": "2022-06-11T15:27:22.130Z"
   },
   {
    "duration": 117,
    "start_time": "2022-06-11T15:27:23.969Z"
   },
   {
    "duration": 11,
    "start_time": "2022-06-11T15:28:30.242Z"
   },
   {
    "duration": 10,
    "start_time": "2022-06-11T15:28:37.654Z"
   },
   {
    "duration": 5,
    "start_time": "2022-06-11T15:31:08.939Z"
   },
   {
    "duration": 13,
    "start_time": "2022-06-11T15:32:01.534Z"
   },
   {
    "duration": 8,
    "start_time": "2022-06-11T15:33:17.051Z"
   },
   {
    "duration": 4,
    "start_time": "2022-06-11T15:33:28.180Z"
   },
   {
    "duration": 118,
    "start_time": "2022-06-11T15:33:31.444Z"
   },
   {
    "duration": 12,
    "start_time": "2022-06-11T15:34:32.446Z"
   },
   {
    "duration": 5,
    "start_time": "2022-06-11T15:34:41.482Z"
   },
   {
    "duration": 4,
    "start_time": "2022-06-11T15:34:47.710Z"
   },
   {
    "duration": 154,
    "start_time": "2022-06-11T15:34:51.702Z"
   },
   {
    "duration": 11,
    "start_time": "2022-06-11T15:35:06.283Z"
   },
   {
    "duration": 6,
    "start_time": "2022-06-11T15:35:12.401Z"
   },
   {
    "duration": 21,
    "start_time": "2022-06-11T15:35:24.066Z"
   },
   {
    "duration": 9,
    "start_time": "2022-06-11T15:35:36.865Z"
   },
   {
    "duration": 111,
    "start_time": "2022-06-11T15:35:42.378Z"
   },
   {
    "duration": 102,
    "start_time": "2022-06-11T15:35:58.579Z"
   },
   {
    "duration": 6,
    "start_time": "2022-06-11T15:36:58.481Z"
   },
   {
    "duration": 6,
    "start_time": "2022-06-11T15:37:04.382Z"
   },
   {
    "duration": 5,
    "start_time": "2022-06-11T15:37:07.580Z"
   },
   {
    "duration": 9,
    "start_time": "2022-06-11T15:37:11.903Z"
   },
   {
    "duration": 104,
    "start_time": "2022-06-11T15:37:16.278Z"
   },
   {
    "duration": 114,
    "start_time": "2022-06-11T15:37:36.995Z"
   },
   {
    "duration": 12,
    "start_time": "2022-06-11T15:38:04.745Z"
   },
   {
    "duration": 17,
    "start_time": "2022-06-11T15:38:42.879Z"
   },
   {
    "duration": 9,
    "start_time": "2022-06-11T15:39:19.844Z"
   },
   {
    "duration": 11,
    "start_time": "2022-06-11T15:39:25.549Z"
   },
   {
    "duration": 10,
    "start_time": "2022-06-11T15:41:29.437Z"
   },
   {
    "duration": 11,
    "start_time": "2022-06-11T15:42:01.182Z"
   },
   {
    "duration": 12,
    "start_time": "2022-06-11T15:43:43.926Z"
   },
   {
    "duration": 7,
    "start_time": "2022-06-11T15:44:18.855Z"
   },
   {
    "duration": 7,
    "start_time": "2022-06-11T15:44:47.581Z"
   },
   {
    "duration": 183,
    "start_time": "2022-06-11T15:44:53.060Z"
   },
   {
    "duration": 126,
    "start_time": "2022-06-11T15:45:09.912Z"
   },
   {
    "duration": 12,
    "start_time": "2022-06-11T15:46:10.481Z"
   },
   {
    "duration": 9,
    "start_time": "2022-06-11T15:46:46.600Z"
   },
   {
    "duration": 10,
    "start_time": "2022-06-11T15:47:17.897Z"
   },
   {
    "duration": 143,
    "start_time": "2022-06-11T15:47:24.619Z"
   },
   {
    "duration": 13,
    "start_time": "2022-06-11T15:48:10.207Z"
   },
   {
    "duration": 13,
    "start_time": "2022-06-11T15:48:52.982Z"
   },
   {
    "duration": 12,
    "start_time": "2022-06-11T15:48:59.709Z"
   },
   {
    "duration": 12,
    "start_time": "2022-06-13T08:41:05.105Z"
   },
   {
    "duration": 3,
    "start_time": "2022-06-13T08:43:07.486Z"
   },
   {
    "duration": 38,
    "start_time": "2022-06-13T08:53:57.864Z"
   },
   {
    "duration": 12,
    "start_time": "2022-06-13T08:54:02.740Z"
   },
   {
    "duration": 526,
    "start_time": "2022-06-13T08:55:41.283Z"
   },
   {
    "duration": 28,
    "start_time": "2022-06-13T08:55:41.811Z"
   },
   {
    "duration": 13,
    "start_time": "2022-06-13T08:55:41.840Z"
   },
   {
    "duration": 4,
    "start_time": "2022-06-13T08:55:41.855Z"
   },
   {
    "duration": 11,
    "start_time": "2022-06-13T08:55:41.860Z"
   },
   {
    "duration": 7,
    "start_time": "2022-06-13T08:55:41.872Z"
   },
   {
    "duration": 13,
    "start_time": "2022-06-13T08:55:41.880Z"
   },
   {
    "duration": 5,
    "start_time": "2022-06-13T08:55:41.925Z"
   },
   {
    "duration": 5,
    "start_time": "2022-06-13T08:55:41.931Z"
   },
   {
    "duration": 27,
    "start_time": "2022-06-13T08:55:41.938Z"
   },
   {
    "duration": 5,
    "start_time": "2022-06-13T08:55:41.966Z"
   },
   {
    "duration": 5,
    "start_time": "2022-06-13T08:55:41.973Z"
   },
   {
    "duration": 8,
    "start_time": "2022-06-13T08:55:41.979Z"
   },
   {
    "duration": 45,
    "start_time": "2022-06-13T08:55:41.989Z"
   },
   {
    "duration": 13,
    "start_time": "2022-06-13T08:55:42.036Z"
   },
   {
    "duration": 95,
    "start_time": "2022-06-13T08:55:42.051Z"
   },
   {
    "duration": 9,
    "start_time": "2022-06-13T08:55:42.148Z"
   },
   {
    "duration": 6,
    "start_time": "2022-06-13T08:55:42.159Z"
   },
   {
    "duration": 9,
    "start_time": "2022-06-13T08:55:42.166Z"
   },
   {
    "duration": 6,
    "start_time": "2022-06-13T08:55:42.176Z"
   },
   {
    "duration": 8,
    "start_time": "2022-06-13T08:55:42.183Z"
   },
   {
    "duration": 34,
    "start_time": "2022-06-13T08:55:42.192Z"
   },
   {
    "duration": 8,
    "start_time": "2022-06-13T08:55:42.228Z"
   },
   {
    "duration": 16,
    "start_time": "2022-06-13T08:55:42.237Z"
   },
   {
    "duration": 12,
    "start_time": "2022-06-13T08:55:42.255Z"
   },
   {
    "duration": 17,
    "start_time": "2022-06-13T08:55:42.269Z"
   },
   {
    "duration": 463,
    "start_time": "2022-06-13T08:55:42.288Z"
   },
   {
    "duration": 34,
    "start_time": "2022-06-13T08:55:42.755Z"
   },
   {
    "duration": 171,
    "start_time": "2022-06-13T08:55:42.791Z"
   },
   {
    "duration": 137,
    "start_time": "2022-06-13T08:55:42.963Z"
   },
   {
    "duration": 6,
    "start_time": "2022-06-13T08:55:43.101Z"
   },
   {
    "duration": 38,
    "start_time": "2022-06-13T08:55:43.109Z"
   },
   {
    "duration": 96,
    "start_time": "2022-06-13T08:55:43.149Z"
   },
   {
    "duration": 0,
    "start_time": "2022-06-13T08:55:43.246Z"
   },
   {
    "duration": 0,
    "start_time": "2022-06-13T08:55:43.247Z"
   },
   {
    "duration": 0,
    "start_time": "2022-06-13T08:55:43.248Z"
   },
   {
    "duration": 0,
    "start_time": "2022-06-13T08:55:43.250Z"
   },
   {
    "duration": 0,
    "start_time": "2022-06-13T08:55:43.251Z"
   },
   {
    "duration": 0,
    "start_time": "2022-06-13T08:55:43.252Z"
   },
   {
    "duration": 0,
    "start_time": "2022-06-13T08:55:43.253Z"
   },
   {
    "duration": 0,
    "start_time": "2022-06-13T08:55:43.254Z"
   },
   {
    "duration": 0,
    "start_time": "2022-06-13T08:55:43.255Z"
   },
   {
    "duration": 0,
    "start_time": "2022-06-13T08:55:43.256Z"
   },
   {
    "duration": 0,
    "start_time": "2022-06-13T08:55:43.257Z"
   },
   {
    "duration": 0,
    "start_time": "2022-06-13T08:55:43.258Z"
   },
   {
    "duration": 0,
    "start_time": "2022-06-13T08:55:43.259Z"
   },
   {
    "duration": 0,
    "start_time": "2022-06-13T08:55:43.260Z"
   },
   {
    "duration": 0,
    "start_time": "2022-06-13T08:55:43.261Z"
   },
   {
    "duration": 0,
    "start_time": "2022-06-13T08:55:43.262Z"
   },
   {
    "duration": 0,
    "start_time": "2022-06-13T08:55:43.263Z"
   },
   {
    "duration": 0,
    "start_time": "2022-06-13T08:55:43.264Z"
   },
   {
    "duration": 0,
    "start_time": "2022-06-13T08:55:43.265Z"
   },
   {
    "duration": 0,
    "start_time": "2022-06-13T08:55:43.266Z"
   },
   {
    "duration": 0,
    "start_time": "2022-06-13T08:55:43.267Z"
   },
   {
    "duration": 0,
    "start_time": "2022-06-13T08:55:43.268Z"
   },
   {
    "duration": 0,
    "start_time": "2022-06-13T08:55:43.269Z"
   },
   {
    "duration": 0,
    "start_time": "2022-06-13T08:55:43.270Z"
   },
   {
    "duration": 0,
    "start_time": "2022-06-13T08:55:43.271Z"
   },
   {
    "duration": 0,
    "start_time": "2022-06-13T08:55:43.272Z"
   },
   {
    "duration": 0,
    "start_time": "2022-06-13T08:55:43.273Z"
   },
   {
    "duration": 481,
    "start_time": "2022-06-13T08:57:12.676Z"
   },
   {
    "duration": 33,
    "start_time": "2022-06-13T08:57:13.159Z"
   },
   {
    "duration": 35,
    "start_time": "2022-06-13T08:57:13.194Z"
   },
   {
    "duration": 5,
    "start_time": "2022-06-13T08:57:13.232Z"
   },
   {
    "duration": 14,
    "start_time": "2022-06-13T08:57:13.239Z"
   },
   {
    "duration": 14,
    "start_time": "2022-06-13T08:57:13.255Z"
   },
   {
    "duration": 18,
    "start_time": "2022-06-13T08:57:13.271Z"
   },
   {
    "duration": 6,
    "start_time": "2022-06-13T08:57:13.291Z"
   },
   {
    "duration": 30,
    "start_time": "2022-06-13T08:57:13.298Z"
   },
   {
    "duration": 30,
    "start_time": "2022-06-13T08:57:13.330Z"
   },
   {
    "duration": 5,
    "start_time": "2022-06-13T08:57:13.362Z"
   },
   {
    "duration": 8,
    "start_time": "2022-06-13T08:57:13.368Z"
   },
   {
    "duration": 8,
    "start_time": "2022-06-13T08:57:13.378Z"
   },
   {
    "duration": 49,
    "start_time": "2022-06-13T08:57:13.388Z"
   },
   {
    "duration": 19,
    "start_time": "2022-06-13T08:57:13.439Z"
   },
   {
    "duration": 113,
    "start_time": "2022-06-13T08:57:13.459Z"
   },
   {
    "duration": 11,
    "start_time": "2022-06-13T08:57:13.574Z"
   },
   {
    "duration": 6,
    "start_time": "2022-06-13T08:57:13.586Z"
   },
   {
    "duration": 6,
    "start_time": "2022-06-13T08:57:13.593Z"
   },
   {
    "duration": 25,
    "start_time": "2022-06-13T08:57:13.601Z"
   },
   {
    "duration": 8,
    "start_time": "2022-06-13T08:57:13.628Z"
   },
   {
    "duration": 10,
    "start_time": "2022-06-13T08:57:13.638Z"
   },
   {
    "duration": 9,
    "start_time": "2022-06-13T08:57:13.650Z"
   },
   {
    "duration": 16,
    "start_time": "2022-06-13T08:57:13.661Z"
   },
   {
    "duration": 14,
    "start_time": "2022-06-13T08:57:13.678Z"
   },
   {
    "duration": 9,
    "start_time": "2022-06-13T08:57:13.694Z"
   },
   {
    "duration": 402,
    "start_time": "2022-06-13T08:57:13.704Z"
   },
   {
    "duration": 27,
    "start_time": "2022-06-13T08:57:14.110Z"
   },
   {
    "duration": 192,
    "start_time": "2022-06-13T08:57:14.139Z"
   },
   {
    "duration": 138,
    "start_time": "2022-06-13T08:57:14.332Z"
   },
   {
    "duration": 6,
    "start_time": "2022-06-13T08:57:14.471Z"
   },
   {
    "duration": 12,
    "start_time": "2022-06-13T08:57:14.479Z"
   },
   {
    "duration": 7,
    "start_time": "2022-06-13T08:57:14.493Z"
   },
   {
    "duration": 7,
    "start_time": "2022-06-13T08:57:14.501Z"
   },
   {
    "duration": 17,
    "start_time": "2022-06-13T08:57:14.526Z"
   },
   {
    "duration": 12,
    "start_time": "2022-06-13T08:57:14.545Z"
   },
   {
    "duration": 4,
    "start_time": "2022-06-13T08:57:14.558Z"
   },
   {
    "duration": 4,
    "start_time": "2022-06-13T08:57:14.563Z"
   },
   {
    "duration": 10,
    "start_time": "2022-06-13T08:57:14.569Z"
   },
   {
    "duration": 9,
    "start_time": "2022-06-13T08:57:14.580Z"
   },
   {
    "duration": 13,
    "start_time": "2022-06-13T08:57:14.626Z"
   },
   {
    "duration": 12,
    "start_time": "2022-06-13T08:57:14.640Z"
   },
   {
    "duration": 11,
    "start_time": "2022-06-13T08:57:14.654Z"
   },
   {
    "duration": 172,
    "start_time": "2022-06-13T08:57:14.666Z"
   },
   {
    "duration": 5,
    "start_time": "2022-06-13T08:57:14.840Z"
   },
   {
    "duration": 165,
    "start_time": "2022-06-13T08:57:14.847Z"
   },
   {
    "duration": 3,
    "start_time": "2022-06-13T08:57:15.014Z"
   },
   {
    "duration": 5,
    "start_time": "2022-06-13T08:57:15.026Z"
   },
   {
    "duration": 11,
    "start_time": "2022-06-13T08:57:15.033Z"
   },
   {
    "duration": 20,
    "start_time": "2022-06-13T08:57:15.046Z"
   },
   {
    "duration": 11,
    "start_time": "2022-06-13T08:57:15.069Z"
   },
   {
    "duration": 9,
    "start_time": "2022-06-13T08:57:15.082Z"
   },
   {
    "duration": 91,
    "start_time": "2022-06-13T08:57:15.093Z"
   },
   {
    "duration": 0,
    "start_time": "2022-06-13T08:57:15.186Z"
   },
   {
    "duration": 0,
    "start_time": "2022-06-13T08:57:15.187Z"
   },
   {
    "duration": 0,
    "start_time": "2022-06-13T08:57:15.188Z"
   },
   {
    "duration": 0,
    "start_time": "2022-06-13T08:57:15.189Z"
   },
   {
    "duration": 0,
    "start_time": "2022-06-13T08:57:15.190Z"
   },
   {
    "duration": 0,
    "start_time": "2022-06-13T08:57:15.191Z"
   },
   {
    "duration": 0,
    "start_time": "2022-06-13T08:57:15.192Z"
   },
   {
    "duration": 48,
    "start_time": "2022-06-13T12:25:16.184Z"
   },
   {
    "duration": 557,
    "start_time": "2022-06-13T12:25:25.430Z"
   },
   {
    "duration": 35,
    "start_time": "2022-06-13T12:25:25.989Z"
   },
   {
    "duration": 20,
    "start_time": "2022-06-13T12:25:26.027Z"
   },
   {
    "duration": 4,
    "start_time": "2022-06-13T12:25:26.049Z"
   },
   {
    "duration": 13,
    "start_time": "2022-06-13T12:25:26.055Z"
   },
   {
    "duration": 33,
    "start_time": "2022-06-13T12:25:26.070Z"
   },
   {
    "duration": 28,
    "start_time": "2022-06-13T12:25:26.109Z"
   },
   {
    "duration": 7,
    "start_time": "2022-06-13T12:25:26.139Z"
   },
   {
    "duration": 5,
    "start_time": "2022-06-13T12:25:26.148Z"
   },
   {
    "duration": 46,
    "start_time": "2022-06-13T12:25:26.156Z"
   },
   {
    "duration": 6,
    "start_time": "2022-06-13T12:25:26.203Z"
   },
   {
    "duration": 7,
    "start_time": "2022-06-13T12:25:26.212Z"
   },
   {
    "duration": 9,
    "start_time": "2022-06-13T12:25:26.220Z"
   },
   {
    "duration": 13,
    "start_time": "2022-06-13T12:25:26.231Z"
   },
   {
    "duration": 12,
    "start_time": "2022-06-13T12:25:26.245Z"
   },
   {
    "duration": 106,
    "start_time": "2022-06-13T12:25:26.258Z"
   },
   {
    "duration": 9,
    "start_time": "2022-06-13T12:25:26.366Z"
   },
   {
    "duration": 5,
    "start_time": "2022-06-13T12:25:26.376Z"
   },
   {
    "duration": 23,
    "start_time": "2022-06-13T12:25:26.382Z"
   },
   {
    "duration": 9,
    "start_time": "2022-06-13T12:25:26.407Z"
   },
   {
    "duration": 8,
    "start_time": "2022-06-13T12:25:26.418Z"
   },
   {
    "duration": 7,
    "start_time": "2022-06-13T12:25:26.428Z"
   },
   {
    "duration": 12,
    "start_time": "2022-06-13T12:25:26.436Z"
   },
   {
    "duration": 12,
    "start_time": "2022-06-13T12:25:26.450Z"
   },
   {
    "duration": 7,
    "start_time": "2022-06-13T12:25:26.464Z"
   },
   {
    "duration": 24,
    "start_time": "2022-06-13T12:25:26.473Z"
   },
   {
    "duration": 479,
    "start_time": "2022-06-13T12:25:26.498Z"
   },
   {
    "duration": 31,
    "start_time": "2022-06-13T12:25:26.981Z"
   },
   {
    "duration": 165,
    "start_time": "2022-06-13T12:25:27.013Z"
   },
   {
    "duration": 123,
    "start_time": "2022-06-13T12:25:27.180Z"
   },
   {
    "duration": 15,
    "start_time": "2022-06-13T12:25:27.304Z"
   },
   {
    "duration": 14,
    "start_time": "2022-06-13T12:25:27.321Z"
   },
   {
    "duration": 10,
    "start_time": "2022-06-13T12:25:27.337Z"
   },
   {
    "duration": 8,
    "start_time": "2022-06-13T12:25:27.348Z"
   },
   {
    "duration": 34,
    "start_time": "2022-06-13T12:25:27.357Z"
   },
   {
    "duration": 12,
    "start_time": "2022-06-13T12:25:27.393Z"
   },
   {
    "duration": 17,
    "start_time": "2022-06-13T12:25:27.412Z"
   },
   {
    "duration": 20,
    "start_time": "2022-06-13T12:25:27.432Z"
   },
   {
    "duration": 15,
    "start_time": "2022-06-13T12:25:27.454Z"
   },
   {
    "duration": 14,
    "start_time": "2022-06-13T12:25:27.471Z"
   },
   {
    "duration": 23,
    "start_time": "2022-06-13T12:25:27.487Z"
   },
   {
    "duration": 23,
    "start_time": "2022-06-13T12:25:27.513Z"
   },
   {
    "duration": 12,
    "start_time": "2022-06-13T12:25:27.538Z"
   },
   {
    "duration": 121,
    "start_time": "2022-06-13T12:25:27.552Z"
   },
   {
    "duration": 5,
    "start_time": "2022-06-13T12:25:27.675Z"
   },
   {
    "duration": 170,
    "start_time": "2022-06-13T12:25:27.681Z"
   },
   {
    "duration": 2,
    "start_time": "2022-06-13T12:25:27.853Z"
   },
   {
    "duration": 7,
    "start_time": "2022-06-13T12:25:27.856Z"
   },
   {
    "duration": 23,
    "start_time": "2022-06-13T12:25:27.864Z"
   },
   {
    "duration": 31,
    "start_time": "2022-06-13T12:25:27.889Z"
   },
   {
    "duration": 10,
    "start_time": "2022-06-13T12:25:27.922Z"
   },
   {
    "duration": 9,
    "start_time": "2022-06-13T12:25:27.934Z"
   },
   {
    "duration": 14,
    "start_time": "2022-06-13T12:25:27.944Z"
   },
   {
    "duration": 10,
    "start_time": "2022-06-13T12:25:27.959Z"
   },
   {
    "duration": 179,
    "start_time": "2022-06-13T12:25:27.971Z"
   },
   {
    "duration": 3,
    "start_time": "2022-06-13T12:25:28.151Z"
   },
   {
    "duration": 2355,
    "start_time": "2022-06-13T12:25:28.155Z"
   },
   {
    "duration": 530,
    "start_time": "2022-06-13T12:25:30.512Z"
   },
   {
    "duration": 8,
    "start_time": "2022-06-13T12:26:37.984Z"
   },
   {
    "duration": 127,
    "start_time": "2022-06-13T12:26:55.854Z"
   },
   {
    "duration": 13,
    "start_time": "2022-06-13T12:26:59.923Z"
   },
   {
    "duration": 251,
    "start_time": "2022-06-13T12:27:01.761Z"
   },
   {
    "duration": 112,
    "start_time": "2022-06-13T12:28:02.649Z"
   },
   {
    "duration": 11,
    "start_time": "2022-06-13T12:28:33.828Z"
   },
   {
    "duration": 154,
    "start_time": "2022-06-13T12:28:37.223Z"
   },
   {
    "duration": 13,
    "start_time": "2022-06-13T12:29:29.879Z"
   },
   {
    "duration": 15,
    "start_time": "2022-06-13T12:29:41.391Z"
   },
   {
    "duration": 120,
    "start_time": "2022-06-13T12:29:43.007Z"
   },
   {
    "duration": 13,
    "start_time": "2022-06-13T12:30:36.231Z"
   },
   {
    "duration": 16,
    "start_time": "2022-06-13T12:31:22.142Z"
   },
   {
    "duration": 17,
    "start_time": "2022-06-13T12:31:33.281Z"
   },
   {
    "duration": 149,
    "start_time": "2022-06-13T12:31:35.968Z"
   },
   {
    "duration": 12,
    "start_time": "2022-06-13T12:32:36.530Z"
   },
   {
    "duration": 13,
    "start_time": "2022-06-13T12:32:51.382Z"
   },
   {
    "duration": 11,
    "start_time": "2022-06-13T12:34:59.061Z"
   },
   {
    "duration": 13,
    "start_time": "2022-06-13T12:35:04.424Z"
   },
   {
    "duration": 11,
    "start_time": "2022-06-13T12:35:29.753Z"
   },
   {
    "duration": 127,
    "start_time": "2022-06-13T12:35:34.004Z"
   },
   {
    "duration": 12,
    "start_time": "2022-06-13T12:35:39.358Z"
   },
   {
    "duration": 12,
    "start_time": "2022-06-13T12:37:09.160Z"
   },
   {
    "duration": 109,
    "start_time": "2022-06-13T12:37:11.560Z"
   },
   {
    "duration": 16,
    "start_time": "2022-06-13T12:37:17.635Z"
   },
   {
    "duration": 13,
    "start_time": "2022-06-13T12:37:54.804Z"
   },
   {
    "duration": 147,
    "start_time": "2022-06-13T12:37:57.652Z"
   },
   {
    "duration": 12,
    "start_time": "2022-06-13T12:38:02.526Z"
   },
   {
    "duration": 5,
    "start_time": "2022-06-13T12:39:29.509Z"
   },
   {
    "duration": 486,
    "start_time": "2022-06-13T12:40:29.858Z"
   },
   {
    "duration": 30,
    "start_time": "2022-06-13T12:40:30.346Z"
   },
   {
    "duration": 35,
    "start_time": "2022-06-13T12:40:30.378Z"
   },
   {
    "duration": 14,
    "start_time": "2022-06-13T12:40:30.417Z"
   },
   {
    "duration": 19,
    "start_time": "2022-06-13T12:40:30.432Z"
   },
   {
    "duration": 20,
    "start_time": "2022-06-13T12:40:30.453Z"
   },
   {
    "duration": 24,
    "start_time": "2022-06-13T12:40:30.475Z"
   },
   {
    "duration": 12,
    "start_time": "2022-06-13T12:40:30.500Z"
   },
   {
    "duration": 6,
    "start_time": "2022-06-13T12:40:30.514Z"
   },
   {
    "duration": 38,
    "start_time": "2022-06-13T12:40:30.522Z"
   },
   {
    "duration": 4,
    "start_time": "2022-06-13T12:40:30.562Z"
   },
   {
    "duration": 13,
    "start_time": "2022-06-13T12:40:30.568Z"
   },
   {
    "duration": 35,
    "start_time": "2022-06-13T12:40:30.582Z"
   },
   {
    "duration": 16,
    "start_time": "2022-06-13T12:40:30.619Z"
   },
   {
    "duration": 19,
    "start_time": "2022-06-13T12:40:30.637Z"
   },
   {
    "duration": 92,
    "start_time": "2022-06-13T12:40:30.657Z"
   },
   {
    "duration": 10,
    "start_time": "2022-06-13T12:40:30.751Z"
   },
   {
    "duration": 13,
    "start_time": "2022-06-13T12:40:30.763Z"
   },
   {
    "duration": 16,
    "start_time": "2022-06-13T12:40:30.777Z"
   },
   {
    "duration": 27,
    "start_time": "2022-06-13T12:40:30.796Z"
   },
   {
    "duration": 21,
    "start_time": "2022-06-13T12:40:30.824Z"
   },
   {
    "duration": 12,
    "start_time": "2022-06-13T12:40:30.847Z"
   },
   {
    "duration": 14,
    "start_time": "2022-06-13T12:40:30.861Z"
   },
   {
    "duration": 31,
    "start_time": "2022-06-13T12:40:30.876Z"
   },
   {
    "duration": 35,
    "start_time": "2022-06-13T12:40:30.912Z"
   },
   {
    "duration": 19,
    "start_time": "2022-06-13T12:40:30.949Z"
   },
   {
    "duration": 352,
    "start_time": "2022-06-13T12:40:30.970Z"
   },
   {
    "duration": 19,
    "start_time": "2022-06-13T12:40:31.326Z"
   },
   {
    "duration": 179,
    "start_time": "2022-06-13T12:40:31.347Z"
   },
   {
    "duration": 131,
    "start_time": "2022-06-13T12:40:31.528Z"
   },
   {
    "duration": 5,
    "start_time": "2022-06-13T12:40:31.661Z"
   },
   {
    "duration": 9,
    "start_time": "2022-06-13T12:40:31.667Z"
   },
   {
    "duration": 29,
    "start_time": "2022-06-13T12:40:31.678Z"
   },
   {
    "duration": 8,
    "start_time": "2022-06-13T12:40:31.709Z"
   },
   {
    "duration": 19,
    "start_time": "2022-06-13T12:40:31.719Z"
   },
   {
    "duration": 10,
    "start_time": "2022-06-13T12:40:31.740Z"
   },
   {
    "duration": 4,
    "start_time": "2022-06-13T12:40:31.752Z"
   },
   {
    "duration": 5,
    "start_time": "2022-06-13T12:40:31.758Z"
   },
   {
    "duration": 10,
    "start_time": "2022-06-13T12:40:31.764Z"
   },
   {
    "duration": 26,
    "start_time": "2022-06-13T12:40:31.776Z"
   },
   {
    "duration": 20,
    "start_time": "2022-06-13T12:40:31.807Z"
   },
   {
    "duration": 16,
    "start_time": "2022-06-13T12:40:31.829Z"
   },
   {
    "duration": 15,
    "start_time": "2022-06-13T12:40:31.848Z"
   },
   {
    "duration": 161,
    "start_time": "2022-06-13T12:40:31.864Z"
   },
   {
    "duration": 6,
    "start_time": "2022-06-13T12:40:32.027Z"
   },
   {
    "duration": 184,
    "start_time": "2022-06-13T12:40:32.035Z"
   },
   {
    "duration": 3,
    "start_time": "2022-06-13T12:40:32.221Z"
   },
   {
    "duration": 6,
    "start_time": "2022-06-13T12:40:32.226Z"
   },
   {
    "duration": 6,
    "start_time": "2022-06-13T12:40:32.234Z"
   },
   {
    "duration": 17,
    "start_time": "2022-06-13T12:40:32.242Z"
   },
   {
    "duration": 12,
    "start_time": "2022-06-13T12:40:32.261Z"
   },
   {
    "duration": 38,
    "start_time": "2022-06-13T12:40:32.274Z"
   },
   {
    "duration": 12,
    "start_time": "2022-06-13T12:40:32.313Z"
   },
   {
    "duration": 15,
    "start_time": "2022-06-13T12:40:32.326Z"
   },
   {
    "duration": 125,
    "start_time": "2022-06-13T12:40:32.343Z"
   },
   {
    "duration": 12,
    "start_time": "2022-06-13T12:40:32.470Z"
   },
   {
    "duration": 20,
    "start_time": "2022-06-13T12:40:32.484Z"
   },
   {
    "duration": 4,
    "start_time": "2022-06-13T12:40:32.510Z"
   },
   {
    "duration": 5,
    "start_time": "2022-06-13T12:40:32.516Z"
   },
   {
    "duration": 7,
    "start_time": "2022-06-13T12:40:32.522Z"
   },
   {
    "duration": 17,
    "start_time": "2022-06-13T12:41:09.413Z"
   },
   {
    "duration": 13,
    "start_time": "2022-06-13T12:41:12.443Z"
   },
   {
    "duration": 14,
    "start_time": "2022-06-13T12:41:26.719Z"
   },
   {
    "duration": 23,
    "start_time": "2022-06-13T12:41:29.884Z"
   },
   {
    "duration": 11,
    "start_time": "2022-06-13T12:41:39.556Z"
   },
   {
    "duration": 12,
    "start_time": "2022-06-13T12:41:41.657Z"
   },
   {
    "duration": 73,
    "start_time": "2022-06-13T12:43:38.541Z"
   },
   {
    "duration": 98,
    "start_time": "2022-06-13T12:43:49.548Z"
   },
   {
    "duration": 25,
    "start_time": "2022-06-13T12:46:23.183Z"
   },
   {
    "duration": 35,
    "start_time": "2022-06-13T12:46:25.577Z"
   },
   {
    "duration": 135,
    "start_time": "2022-06-13T12:54:37.088Z"
   },
   {
    "duration": 120,
    "start_time": "2022-06-13T12:55:27.138Z"
   },
   {
    "duration": 1101,
    "start_time": "2022-06-13T12:55:53.233Z"
   },
   {
    "duration": 106,
    "start_time": "2022-06-13T12:57:12.821Z"
   },
   {
    "duration": 154,
    "start_time": "2022-06-13T12:57:21.978Z"
   },
   {
    "duration": 104,
    "start_time": "2022-06-13T12:57:28.509Z"
   },
   {
    "duration": 12,
    "start_time": "2022-06-13T12:59:45.628Z"
   },
   {
    "duration": 8,
    "start_time": "2022-06-13T13:00:49.650Z"
   },
   {
    "duration": 12,
    "start_time": "2022-06-13T13:00:58.626Z"
   },
   {
    "duration": 14,
    "start_time": "2022-06-13T13:01:02.489Z"
   },
   {
    "duration": 11,
    "start_time": "2022-06-13T13:01:05.838Z"
   },
   {
    "duration": 7,
    "start_time": "2022-06-13T13:01:07.964Z"
   },
   {
    "duration": 146,
    "start_time": "2022-06-13T13:01:19.965Z"
   },
   {
    "duration": 154,
    "start_time": "2022-06-13T13:01:34.164Z"
   },
   {
    "duration": 174,
    "start_time": "2022-06-13T13:01:58.684Z"
   },
   {
    "duration": 98,
    "start_time": "2022-06-13T13:02:03.213Z"
   },
   {
    "duration": 8,
    "start_time": "2022-06-13T13:02:24.150Z"
   },
   {
    "duration": 10,
    "start_time": "2022-06-13T13:02:33.605Z"
   },
   {
    "duration": 101,
    "start_time": "2022-06-13T13:03:49.658Z"
   },
   {
    "duration": 11,
    "start_time": "2022-06-13T13:04:32.859Z"
   },
   {
    "duration": 10,
    "start_time": "2022-06-13T13:12:39.664Z"
   },
   {
    "duration": 7,
    "start_time": "2022-06-13T13:21:36.563Z"
   },
   {
    "duration": 28,
    "start_time": "2022-06-13T13:22:45.328Z"
   },
   {
    "duration": 30,
    "start_time": "2022-06-13T13:22:51.933Z"
   },
   {
    "duration": 27,
    "start_time": "2022-06-13T13:22:58.411Z"
   },
   {
    "duration": 20,
    "start_time": "2022-06-13T13:23:05.886Z"
   },
   {
    "duration": 9,
    "start_time": "2022-06-13T13:24:04.109Z"
   },
   {
    "duration": 8,
    "start_time": "2022-06-13T13:24:09.177Z"
   },
   {
    "duration": 5,
    "start_time": "2022-06-13T13:24:26.675Z"
   },
   {
    "duration": 5,
    "start_time": "2022-06-13T13:24:39.442Z"
   },
   {
    "duration": 7,
    "start_time": "2022-06-13T13:24:54.858Z"
   },
   {
    "duration": 6,
    "start_time": "2022-06-13T13:25:02.845Z"
   },
   {
    "duration": 6,
    "start_time": "2022-06-13T13:25:16.317Z"
   },
   {
    "duration": 5,
    "start_time": "2022-06-13T13:25:20.853Z"
   },
   {
    "duration": 5,
    "start_time": "2022-06-13T13:25:31.475Z"
   },
   {
    "duration": 40,
    "start_time": "2022-06-13T13:26:03.584Z"
   },
   {
    "duration": 32,
    "start_time": "2022-06-13T13:26:25.579Z"
   },
   {
    "duration": 5,
    "start_time": "2022-06-13T13:26:45.973Z"
   },
   {
    "duration": 102,
    "start_time": "2022-06-13T13:26:56.230Z"
   },
   {
    "duration": 8,
    "start_time": "2022-06-13T13:27:25.432Z"
   },
   {
    "duration": 108,
    "start_time": "2022-06-13T13:27:39.468Z"
   },
   {
    "duration": 18,
    "start_time": "2022-06-13T13:28:08.632Z"
   },
   {
    "duration": 5,
    "start_time": "2022-06-13T13:28:31.481Z"
   },
   {
    "duration": 120,
    "start_time": "2022-06-13T13:28:40.924Z"
   },
   {
    "duration": 7,
    "start_time": "2022-06-13T13:28:52.218Z"
   },
   {
    "duration": 8,
    "start_time": "2022-06-13T13:29:10.245Z"
   },
   {
    "duration": 6,
    "start_time": "2022-06-13T13:30:25.123Z"
   },
   {
    "duration": 116,
    "start_time": "2022-06-13T13:30:30.568Z"
   },
   {
    "duration": 4,
    "start_time": "2022-06-13T13:30:43.516Z"
   },
   {
    "duration": 126,
    "start_time": "2022-06-13T13:30:46.020Z"
   },
   {
    "duration": 4,
    "start_time": "2022-06-13T13:33:28.552Z"
   },
   {
    "duration": 120,
    "start_time": "2022-06-13T13:33:30.321Z"
   },
   {
    "duration": 3,
    "start_time": "2022-06-13T13:33:59.853Z"
   },
   {
    "duration": 3,
    "start_time": "2022-06-13T13:34:03.421Z"
   },
   {
    "duration": 110,
    "start_time": "2022-06-13T13:34:04.722Z"
   },
   {
    "duration": 4,
    "start_time": "2022-06-13T13:34:13.514Z"
   },
   {
    "duration": 121,
    "start_time": "2022-06-13T13:34:14.950Z"
   },
   {
    "duration": 149,
    "start_time": "2022-06-13T13:37:20.865Z"
   },
   {
    "duration": 107,
    "start_time": "2022-06-13T13:37:25.311Z"
   },
   {
    "duration": 507,
    "start_time": "2022-06-13T13:37:34.807Z"
   },
   {
    "duration": 389,
    "start_time": "2022-06-13T13:38:37.363Z"
   },
   {
    "duration": 118,
    "start_time": "2022-06-13T13:40:56.120Z"
   },
   {
    "duration": 362,
    "start_time": "2022-06-13T13:42:56.086Z"
   },
   {
    "duration": 4655,
    "start_time": "2022-06-13T13:43:14.431Z"
   },
   {
    "duration": 372,
    "start_time": "2022-06-13T13:43:39.112Z"
   },
   {
    "duration": 484,
    "start_time": "2022-06-13T13:44:01.552Z"
   },
   {
    "duration": 764,
    "start_time": "2022-06-13T13:44:13.069Z"
   },
   {
    "duration": 470,
    "start_time": "2022-06-13T13:45:09.044Z"
   },
   {
    "duration": 466,
    "start_time": "2022-06-13T13:45:14.469Z"
   },
   {
    "duration": 358,
    "start_time": "2022-06-13T13:45:19.777Z"
   },
   {
    "duration": 250,
    "start_time": "2022-06-13T13:45:23.169Z"
   },
   {
    "duration": 127,
    "start_time": "2022-06-13T13:47:12.678Z"
   },
   {
    "duration": 131,
    "start_time": "2022-06-13T13:50:14.384Z"
   },
   {
    "duration": 145,
    "start_time": "2022-06-13T13:50:19.943Z"
   },
   {
    "duration": 168,
    "start_time": "2022-06-13T13:50:25.596Z"
   },
   {
    "duration": 160,
    "start_time": "2022-06-13T13:50:28.921Z"
   },
   {
    "duration": 146,
    "start_time": "2022-06-13T13:50:35.218Z"
   },
   {
    "duration": 175,
    "start_time": "2022-06-13T13:50:42.438Z"
   },
   {
    "duration": 533,
    "start_time": "2022-06-13T13:51:14.438Z"
   },
   {
    "duration": 529,
    "start_time": "2022-06-13T13:51:17.921Z"
   },
   {
    "duration": 398,
    "start_time": "2022-06-13T13:51:28.521Z"
   },
   {
    "duration": 241,
    "start_time": "2022-06-13T13:51:40.084Z"
   },
   {
    "duration": 244,
    "start_time": "2022-06-13T13:52:05.521Z"
   },
   {
    "duration": 248,
    "start_time": "2022-06-13T13:52:34.019Z"
   },
   {
    "duration": 153,
    "start_time": "2022-06-13T13:52:38.812Z"
   },
   {
    "duration": 29,
    "start_time": "2022-06-13T13:52:50.413Z"
   },
   {
    "duration": 202,
    "start_time": "2022-06-13T13:52:53.543Z"
   },
   {
    "duration": 236,
    "start_time": "2022-06-13T13:53:00.935Z"
   },
   {
    "duration": 216,
    "start_time": "2022-06-13T13:53:12.057Z"
   },
   {
    "duration": 4,
    "start_time": "2022-06-13T13:54:24.312Z"
   },
   {
    "duration": 246,
    "start_time": "2022-06-13T13:54:53.127Z"
   },
   {
    "duration": 3,
    "start_time": "2022-06-13T13:56:02.445Z"
   },
   {
    "duration": 259,
    "start_time": "2022-06-13T13:58:33.316Z"
   },
   {
    "duration": 3,
    "start_time": "2022-06-13T14:03:08.168Z"
   },
   {
    "duration": 4,
    "start_time": "2022-06-13T14:12:05.660Z"
   },
   {
    "duration": 3,
    "start_time": "2022-06-13T14:12:32.590Z"
   },
   {
    "duration": 10,
    "start_time": "2022-06-13T14:15:44.422Z"
   },
   {
    "duration": 8,
    "start_time": "2022-06-13T14:15:56.649Z"
   },
   {
    "duration": 11,
    "start_time": "2022-06-13T14:16:10.017Z"
   },
   {
    "duration": 17,
    "start_time": "2022-06-13T14:17:20.688Z"
   },
   {
    "duration": 10,
    "start_time": "2022-06-13T14:22:49.377Z"
   },
   {
    "duration": 6,
    "start_time": "2022-06-13T14:23:18.356Z"
   },
   {
    "duration": 22,
    "start_time": "2022-06-13T14:24:14.013Z"
   },
   {
    "duration": 121,
    "start_time": "2022-06-13T14:24:39.261Z"
   },
   {
    "duration": 5,
    "start_time": "2022-06-13T14:25:50.916Z"
   },
   {
    "duration": 13,
    "start_time": "2022-06-13T14:25:53.298Z"
   },
   {
    "duration": 171,
    "start_time": "2022-06-13T14:25:55.265Z"
   },
   {
    "duration": 9,
    "start_time": "2022-06-13T14:29:15.722Z"
   },
   {
    "duration": 7,
    "start_time": "2022-06-13T14:29:25.706Z"
   },
   {
    "duration": 44,
    "start_time": "2022-06-13T14:31:37.456Z"
   },
   {
    "duration": 29,
    "start_time": "2022-06-13T14:31:45.906Z"
   },
   {
    "duration": 6,
    "start_time": "2022-06-13T14:31:49.916Z"
   },
   {
    "duration": 9,
    "start_time": "2022-06-13T14:32:04.563Z"
   },
   {
    "duration": 9,
    "start_time": "2022-06-13T14:32:10.203Z"
   },
   {
    "duration": 7,
    "start_time": "2022-06-13T14:33:54.622Z"
   },
   {
    "duration": 30,
    "start_time": "2022-06-13T14:56:02.547Z"
   },
   {
    "duration": 11,
    "start_time": "2022-06-13T14:56:20.459Z"
   },
   {
    "duration": 688,
    "start_time": "2022-06-13T14:57:44.656Z"
   },
   {
    "duration": 722,
    "start_time": "2022-06-13T14:58:24.724Z"
   },
   {
    "duration": 16,
    "start_time": "2022-06-13T15:02:57.208Z"
   },
   {
    "duration": 1171,
    "start_time": "2022-06-13T15:07:31.955Z"
   },
   {
    "duration": 7,
    "start_time": "2022-06-13T15:07:50.320Z"
   },
   {
    "duration": 10,
    "start_time": "2022-06-13T15:09:43.577Z"
   },
   {
    "duration": 10,
    "start_time": "2022-06-13T16:22:19.353Z"
   },
   {
    "duration": 5,
    "start_time": "2022-06-13T16:22:46.845Z"
   },
   {
    "duration": 16,
    "start_time": "2022-06-13T16:25:07.503Z"
   },
   {
    "duration": 122,
    "start_time": "2022-06-13T16:26:18.082Z"
   },
   {
    "duration": 6,
    "start_time": "2022-06-13T16:27:29.382Z"
   },
   {
    "duration": 5,
    "start_time": "2022-06-13T16:27:32.156Z"
   },
   {
    "duration": 35,
    "start_time": "2022-06-13T16:27:50.083Z"
   },
   {
    "duration": 28,
    "start_time": "2022-06-13T16:27:59.360Z"
   },
   {
    "duration": 29,
    "start_time": "2022-06-13T16:28:04.179Z"
   },
   {
    "duration": 52,
    "start_time": "2022-06-13T16:28:12.867Z"
   },
   {
    "duration": 26,
    "start_time": "2022-06-13T16:28:19.141Z"
   },
   {
    "duration": 5,
    "start_time": "2022-06-13T16:28:34.522Z"
   },
   {
    "duration": 43,
    "start_time": "2022-06-13T16:31:55.364Z"
   },
   {
    "duration": 17,
    "start_time": "2022-06-13T16:31:59.471Z"
   },
   {
    "duration": 18,
    "start_time": "2022-06-13T16:32:25.574Z"
   },
   {
    "duration": 10,
    "start_time": "2022-06-13T16:36:27.638Z"
   },
   {
    "duration": 4,
    "start_time": "2022-06-13T16:36:34.911Z"
   },
   {
    "duration": 18,
    "start_time": "2022-06-13T16:36:37.727Z"
   },
   {
    "duration": 17,
    "start_time": "2022-06-13T16:36:43.408Z"
   },
   {
    "duration": 202,
    "start_time": "2022-06-13T16:37:07.732Z"
   },
   {
    "duration": 16,
    "start_time": "2022-06-13T16:37:13.959Z"
   },
   {
    "duration": 4,
    "start_time": "2022-06-13T16:37:23.488Z"
   },
   {
    "duration": 70,
    "start_time": "2022-06-13T16:37:27.492Z"
   },
   {
    "duration": 234,
    "start_time": "2022-06-13T16:38:35.017Z"
   },
   {
    "duration": 204,
    "start_time": "2022-06-13T16:39:15.608Z"
   },
   {
    "duration": 214,
    "start_time": "2022-06-13T16:40:14.854Z"
   },
   {
    "duration": 11,
    "start_time": "2022-06-13T16:43:36.207Z"
   },
   {
    "duration": 13,
    "start_time": "2022-06-13T16:43:41.793Z"
   },
   {
    "duration": 6,
    "start_time": "2022-06-13T16:44:16.578Z"
   },
   {
    "duration": 29,
    "start_time": "2022-06-13T16:44:28.185Z"
   },
   {
    "duration": 7,
    "start_time": "2022-06-13T16:44:47.883Z"
   },
   {
    "duration": 8,
    "start_time": "2022-06-13T16:45:52.312Z"
   },
   {
    "duration": 7,
    "start_time": "2022-06-13T16:45:59.735Z"
   },
   {
    "duration": 11,
    "start_time": "2022-06-13T16:46:09.992Z"
   },
   {
    "duration": 3,
    "start_time": "2022-06-13T16:47:55.793Z"
   },
   {
    "duration": 34,
    "start_time": "2022-06-13T16:48:00.419Z"
   },
   {
    "duration": 45,
    "start_time": "2022-06-14T13:36:04.112Z"
   },
   {
    "duration": 495,
    "start_time": "2022-06-14T13:36:11.423Z"
   },
   {
    "duration": 29,
    "start_time": "2022-06-14T13:36:11.919Z"
   },
   {
    "duration": 13,
    "start_time": "2022-06-14T13:36:11.950Z"
   },
   {
    "duration": 4,
    "start_time": "2022-06-14T13:36:11.965Z"
   },
   {
    "duration": 10,
    "start_time": "2022-06-14T13:36:11.995Z"
   },
   {
    "duration": 6,
    "start_time": "2022-06-14T13:36:12.006Z"
   },
   {
    "duration": 17,
    "start_time": "2022-06-14T13:36:12.013Z"
   },
   {
    "duration": 5,
    "start_time": "2022-06-14T13:36:12.031Z"
   },
   {
    "duration": 8,
    "start_time": "2022-06-14T13:36:12.037Z"
   },
   {
    "duration": 66,
    "start_time": "2022-06-14T13:36:12.048Z"
   },
   {
    "duration": 4,
    "start_time": "2022-06-14T13:36:12.116Z"
   },
   {
    "duration": 8,
    "start_time": "2022-06-14T13:36:12.121Z"
   },
   {
    "duration": 8,
    "start_time": "2022-06-14T13:36:12.130Z"
   },
   {
    "duration": 12,
    "start_time": "2022-06-14T13:36:12.140Z"
   },
   {
    "duration": 12,
    "start_time": "2022-06-14T13:36:12.153Z"
   },
   {
    "duration": 99,
    "start_time": "2022-06-14T13:36:12.166Z"
   },
   {
    "duration": 10,
    "start_time": "2022-06-14T13:36:12.266Z"
   },
   {
    "duration": 17,
    "start_time": "2022-06-14T13:36:12.277Z"
   },
   {
    "duration": 6,
    "start_time": "2022-06-14T13:36:12.295Z"
   },
   {
    "duration": 6,
    "start_time": "2022-06-14T13:36:12.302Z"
   },
   {
    "duration": 8,
    "start_time": "2022-06-14T13:36:12.309Z"
   },
   {
    "duration": 6,
    "start_time": "2022-06-14T13:36:12.318Z"
   },
   {
    "duration": 10,
    "start_time": "2022-06-14T13:36:12.325Z"
   },
   {
    "duration": 15,
    "start_time": "2022-06-14T13:36:12.336Z"
   },
   {
    "duration": 6,
    "start_time": "2022-06-14T13:36:12.352Z"
   },
   {
    "duration": 7,
    "start_time": "2022-06-14T13:36:12.360Z"
   },
   {
    "duration": 453,
    "start_time": "2022-06-14T13:36:12.369Z"
   },
   {
    "duration": 19,
    "start_time": "2022-06-14T13:36:12.826Z"
   },
   {
    "duration": 164,
    "start_time": "2022-06-14T13:36:12.847Z"
   },
   {
    "duration": 127,
    "start_time": "2022-06-14T13:36:13.013Z"
   },
   {
    "duration": 5,
    "start_time": "2022-06-14T13:36:13.141Z"
   },
   {
    "duration": 8,
    "start_time": "2022-06-14T13:36:13.147Z"
   },
   {
    "duration": 4,
    "start_time": "2022-06-14T13:36:13.156Z"
   },
   {
    "duration": 17,
    "start_time": "2022-06-14T13:36:13.161Z"
   },
   {
    "duration": 26,
    "start_time": "2022-06-14T13:36:13.194Z"
   },
   {
    "duration": 14,
    "start_time": "2022-06-14T13:36:13.222Z"
   },
   {
    "duration": 14,
    "start_time": "2022-06-14T13:36:13.237Z"
   },
   {
    "duration": 9,
    "start_time": "2022-06-14T13:36:13.252Z"
   },
   {
    "duration": 4,
    "start_time": "2022-06-14T13:36:13.262Z"
   },
   {
    "duration": 2,
    "start_time": "2022-06-14T13:36:13.294Z"
   },
   {
    "duration": 8,
    "start_time": "2022-06-14T13:36:13.297Z"
   },
   {
    "duration": 8,
    "start_time": "2022-06-14T13:36:13.306Z"
   },
   {
    "duration": 10,
    "start_time": "2022-06-14T13:36:13.315Z"
   },
   {
    "duration": 10,
    "start_time": "2022-06-14T13:36:13.326Z"
   },
   {
    "duration": 8,
    "start_time": "2022-06-14T13:36:13.337Z"
   },
   {
    "duration": 139,
    "start_time": "2022-06-14T13:36:13.347Z"
   },
   {
    "duration": 4,
    "start_time": "2022-06-14T13:36:13.493Z"
   },
   {
    "duration": 133,
    "start_time": "2022-06-14T13:36:13.498Z"
   },
   {
    "duration": 3,
    "start_time": "2022-06-14T13:36:13.632Z"
   },
   {
    "duration": 24,
    "start_time": "2022-06-14T13:36:13.637Z"
   },
   {
    "duration": 5,
    "start_time": "2022-06-14T13:36:13.663Z"
   },
   {
    "duration": 12,
    "start_time": "2022-06-14T13:36:13.669Z"
   },
   {
    "duration": 9,
    "start_time": "2022-06-14T13:36:13.682Z"
   },
   {
    "duration": 9,
    "start_time": "2022-06-14T13:36:13.692Z"
   },
   {
    "duration": 11,
    "start_time": "2022-06-14T13:36:13.702Z"
   },
   {
    "duration": 17,
    "start_time": "2022-06-14T13:36:13.715Z"
   },
   {
    "duration": 184,
    "start_time": "2022-06-14T13:36:13.733Z"
   },
   {
    "duration": 10,
    "start_time": "2022-06-14T13:36:13.919Z"
   },
   {
    "duration": 3,
    "start_time": "2022-06-14T13:36:13.931Z"
   },
   {
    "duration": 5,
    "start_time": "2022-06-14T13:36:13.935Z"
   },
   {
    "duration": 5,
    "start_time": "2022-06-14T13:36:13.941Z"
   },
   {
    "duration": 5,
    "start_time": "2022-06-14T13:36:13.947Z"
   },
   {
    "duration": 6,
    "start_time": "2022-06-14T13:36:13.954Z"
   },
   {
    "duration": 3,
    "start_time": "2022-06-14T13:36:13.961Z"
   },
   {
    "duration": 30,
    "start_time": "2022-06-14T13:36:13.965Z"
   },
   {
    "duration": 5,
    "start_time": "2022-06-14T13:36:13.996Z"
   },
   {
    "duration": 8,
    "start_time": "2022-06-14T13:36:14.002Z"
   },
   {
    "duration": 19,
    "start_time": "2022-06-14T13:36:14.012Z"
   },
   {
    "duration": 214,
    "start_time": "2022-06-14T13:36:14.033Z"
   },
   {
    "duration": 207,
    "start_time": "2022-06-14T13:36:14.249Z"
   },
   {
    "duration": 228,
    "start_time": "2022-06-14T13:36:14.458Z"
   },
   {
    "duration": 216,
    "start_time": "2022-06-14T13:36:14.688Z"
   },
   {
    "duration": 3,
    "start_time": "2022-06-14T13:36:14.906Z"
   },
   {
    "duration": 0,
    "start_time": "2022-06-14T13:36:14.911Z"
   },
   {
    "duration": 0,
    "start_time": "2022-06-14T13:36:14.912Z"
   },
   {
    "duration": 0,
    "start_time": "2022-06-14T13:36:14.913Z"
   },
   {
    "duration": 0,
    "start_time": "2022-06-14T13:36:14.914Z"
   },
   {
    "duration": 0,
    "start_time": "2022-06-14T13:36:14.915Z"
   },
   {
    "duration": 0,
    "start_time": "2022-06-14T13:36:14.916Z"
   },
   {
    "duration": 0,
    "start_time": "2022-06-14T13:36:14.917Z"
   },
   {
    "duration": 0,
    "start_time": "2022-06-14T13:36:14.918Z"
   },
   {
    "duration": 0,
    "start_time": "2022-06-14T13:36:14.919Z"
   },
   {
    "duration": 0,
    "start_time": "2022-06-14T13:36:14.920Z"
   },
   {
    "duration": 0,
    "start_time": "2022-06-14T13:36:14.921Z"
   },
   {
    "duration": 0,
    "start_time": "2022-06-14T13:36:14.922Z"
   },
   {
    "duration": 0,
    "start_time": "2022-06-14T13:36:14.923Z"
   },
   {
    "duration": 0,
    "start_time": "2022-06-14T13:36:14.924Z"
   },
   {
    "duration": 492,
    "start_time": "2022-06-14T13:36:42.186Z"
   },
   {
    "duration": 33,
    "start_time": "2022-06-14T13:36:42.680Z"
   },
   {
    "duration": 13,
    "start_time": "2022-06-14T13:36:42.715Z"
   },
   {
    "duration": 4,
    "start_time": "2022-06-14T13:36:42.730Z"
   },
   {
    "duration": 13,
    "start_time": "2022-06-14T13:36:42.735Z"
   },
   {
    "duration": 6,
    "start_time": "2022-06-14T13:36:42.749Z"
   },
   {
    "duration": 15,
    "start_time": "2022-06-14T13:36:42.756Z"
   },
   {
    "duration": 7,
    "start_time": "2022-06-14T13:36:42.801Z"
   },
   {
    "duration": 12,
    "start_time": "2022-06-14T13:36:42.810Z"
   },
   {
    "duration": 28,
    "start_time": "2022-06-14T13:36:42.825Z"
   },
   {
    "duration": 5,
    "start_time": "2022-06-14T13:36:42.855Z"
   },
   {
    "duration": 9,
    "start_time": "2022-06-14T13:36:42.861Z"
   },
   {
    "duration": 8,
    "start_time": "2022-06-14T13:36:42.871Z"
   },
   {
    "duration": 19,
    "start_time": "2022-06-14T13:36:42.895Z"
   },
   {
    "duration": 11,
    "start_time": "2022-06-14T13:36:42.916Z"
   },
   {
    "duration": 100,
    "start_time": "2022-06-14T13:36:42.928Z"
   },
   {
    "duration": 11,
    "start_time": "2022-06-14T13:36:43.030Z"
   },
   {
    "duration": 9,
    "start_time": "2022-06-14T13:36:43.042Z"
   },
   {
    "duration": 6,
    "start_time": "2022-06-14T13:36:43.053Z"
   },
   {
    "duration": 6,
    "start_time": "2022-06-14T13:36:43.060Z"
   },
   {
    "duration": 9,
    "start_time": "2022-06-14T13:36:43.068Z"
   },
   {
    "duration": 20,
    "start_time": "2022-06-14T13:36:43.078Z"
   },
   {
    "duration": 9,
    "start_time": "2022-06-14T13:36:43.099Z"
   },
   {
    "duration": 20,
    "start_time": "2022-06-14T13:36:43.110Z"
   },
   {
    "duration": 8,
    "start_time": "2022-06-14T13:36:43.132Z"
   },
   {
    "duration": 8,
    "start_time": "2022-06-14T13:36:43.142Z"
   },
   {
    "duration": 319,
    "start_time": "2022-06-14T13:36:43.152Z"
   },
   {
    "duration": 28,
    "start_time": "2022-06-14T13:36:43.475Z"
   },
   {
    "duration": 167,
    "start_time": "2022-06-14T13:36:43.505Z"
   },
   {
    "duration": 154,
    "start_time": "2022-06-14T13:36:43.673Z"
   },
   {
    "duration": 5,
    "start_time": "2022-06-14T13:36:43.829Z"
   },
   {
    "duration": 8,
    "start_time": "2022-06-14T13:36:43.836Z"
   },
   {
    "duration": 5,
    "start_time": "2022-06-14T13:36:43.845Z"
   },
   {
    "duration": 19,
    "start_time": "2022-06-14T13:36:43.851Z"
   },
   {
    "duration": 54,
    "start_time": "2022-06-14T13:36:43.872Z"
   },
   {
    "duration": 16,
    "start_time": "2022-06-14T13:36:43.927Z"
   },
   {
    "duration": 16,
    "start_time": "2022-06-14T13:36:43.945Z"
   },
   {
    "duration": 9,
    "start_time": "2022-06-14T13:36:43.962Z"
   },
   {
    "duration": 25,
    "start_time": "2022-06-14T13:36:43.972Z"
   },
   {
    "duration": 3,
    "start_time": "2022-06-14T13:36:44.000Z"
   },
   {
    "duration": 38,
    "start_time": "2022-06-14T13:36:44.005Z"
   },
   {
    "duration": 21,
    "start_time": "2022-06-14T13:36:44.044Z"
   },
   {
    "duration": 17,
    "start_time": "2022-06-14T13:36:44.067Z"
   },
   {
    "duration": 10,
    "start_time": "2022-06-14T13:36:44.086Z"
   },
   {
    "duration": 25,
    "start_time": "2022-06-14T13:36:44.098Z"
   },
   {
    "duration": 115,
    "start_time": "2022-06-14T13:36:44.125Z"
   },
   {
    "duration": 4,
    "start_time": "2022-06-14T13:36:44.242Z"
   },
   {
    "duration": 140,
    "start_time": "2022-06-14T13:36:44.247Z"
   },
   {
    "duration": 6,
    "start_time": "2022-06-14T13:36:44.388Z"
   },
   {
    "duration": 13,
    "start_time": "2022-06-14T13:36:44.396Z"
   },
   {
    "duration": 4,
    "start_time": "2022-06-14T13:36:44.411Z"
   },
   {
    "duration": 14,
    "start_time": "2022-06-14T13:36:44.417Z"
   },
   {
    "duration": 10,
    "start_time": "2022-06-14T13:36:44.432Z"
   },
   {
    "duration": 9,
    "start_time": "2022-06-14T13:36:44.443Z"
   },
   {
    "duration": 10,
    "start_time": "2022-06-14T13:36:44.453Z"
   },
   {
    "duration": 33,
    "start_time": "2022-06-14T13:36:44.464Z"
   },
   {
    "duration": 123,
    "start_time": "2022-06-14T13:36:44.498Z"
   },
   {
    "duration": 10,
    "start_time": "2022-06-14T13:36:44.623Z"
   },
   {
    "duration": 3,
    "start_time": "2022-06-14T13:36:44.635Z"
   },
   {
    "duration": 4,
    "start_time": "2022-06-14T13:36:44.639Z"
   },
   {
    "duration": 5,
    "start_time": "2022-06-14T13:36:44.644Z"
   },
   {
    "duration": 5,
    "start_time": "2022-06-14T13:36:44.650Z"
   },
   {
    "duration": 7,
    "start_time": "2022-06-14T13:36:44.656Z"
   },
   {
    "duration": 4,
    "start_time": "2022-06-14T13:36:44.664Z"
   },
   {
    "duration": 27,
    "start_time": "2022-06-14T13:36:44.669Z"
   },
   {
    "duration": 5,
    "start_time": "2022-06-14T13:36:44.697Z"
   },
   {
    "duration": 31,
    "start_time": "2022-06-14T13:36:44.703Z"
   },
   {
    "duration": 59,
    "start_time": "2022-06-14T13:36:44.735Z"
   },
   {
    "duration": 221,
    "start_time": "2022-06-14T13:36:44.796Z"
   },
   {
    "duration": 212,
    "start_time": "2022-06-14T13:36:45.019Z"
   },
   {
    "duration": 242,
    "start_time": "2022-06-14T13:36:45.232Z"
   },
   {
    "duration": 231,
    "start_time": "2022-06-14T13:36:45.475Z"
   },
   {
    "duration": 5,
    "start_time": "2022-06-14T13:36:45.710Z"
   },
   {
    "duration": 0,
    "start_time": "2022-06-14T13:36:45.717Z"
   },
   {
    "duration": 0,
    "start_time": "2022-06-14T13:36:45.718Z"
   },
   {
    "duration": 0,
    "start_time": "2022-06-14T13:36:45.719Z"
   },
   {
    "duration": 0,
    "start_time": "2022-06-14T13:36:45.721Z"
   },
   {
    "duration": 0,
    "start_time": "2022-06-14T13:36:45.722Z"
   },
   {
    "duration": 0,
    "start_time": "2022-06-14T13:36:45.723Z"
   },
   {
    "duration": 0,
    "start_time": "2022-06-14T13:36:45.724Z"
   },
   {
    "duration": 0,
    "start_time": "2022-06-14T13:36:45.725Z"
   },
   {
    "duration": 0,
    "start_time": "2022-06-14T13:36:45.726Z"
   },
   {
    "duration": 0,
    "start_time": "2022-06-14T13:36:45.726Z"
   },
   {
    "duration": 0,
    "start_time": "2022-06-14T13:36:45.727Z"
   },
   {
    "duration": 0,
    "start_time": "2022-06-14T13:36:45.728Z"
   },
   {
    "duration": 0,
    "start_time": "2022-06-14T13:36:45.729Z"
   },
   {
    "duration": 0,
    "start_time": "2022-06-14T13:36:45.730Z"
   },
   {
    "duration": 521,
    "start_time": "2022-06-14T13:54:22.874Z"
   },
   {
    "duration": 30,
    "start_time": "2022-06-14T13:54:23.397Z"
   },
   {
    "duration": 16,
    "start_time": "2022-06-14T13:54:23.429Z"
   },
   {
    "duration": 3,
    "start_time": "2022-06-14T13:54:23.447Z"
   },
   {
    "duration": 13,
    "start_time": "2022-06-14T13:54:23.452Z"
   },
   {
    "duration": 8,
    "start_time": "2022-06-14T13:54:23.495Z"
   },
   {
    "duration": 16,
    "start_time": "2022-06-14T13:54:23.504Z"
   },
   {
    "duration": 6,
    "start_time": "2022-06-14T13:54:23.522Z"
   },
   {
    "duration": 5,
    "start_time": "2022-06-14T13:54:23.529Z"
   },
   {
    "duration": 68,
    "start_time": "2022-06-14T13:54:23.538Z"
   },
   {
    "duration": 4,
    "start_time": "2022-06-14T13:54:23.608Z"
   },
   {
    "duration": 19,
    "start_time": "2022-06-14T13:54:23.614Z"
   },
   {
    "duration": 17,
    "start_time": "2022-06-14T13:54:23.636Z"
   },
   {
    "duration": 17,
    "start_time": "2022-06-14T13:54:23.655Z"
   },
   {
    "duration": 12,
    "start_time": "2022-06-14T13:54:23.673Z"
   },
   {
    "duration": 86,
    "start_time": "2022-06-14T13:54:23.687Z"
   },
   {
    "duration": 29,
    "start_time": "2022-06-14T13:54:23.775Z"
   },
   {
    "duration": 7,
    "start_time": "2022-06-14T13:54:23.806Z"
   },
   {
    "duration": 13,
    "start_time": "2022-06-14T13:54:23.815Z"
   },
   {
    "duration": 19,
    "start_time": "2022-06-14T13:54:23.829Z"
   },
   {
    "duration": 11,
    "start_time": "2022-06-14T13:54:23.850Z"
   },
   {
    "duration": 7,
    "start_time": "2022-06-14T13:54:23.862Z"
   },
   {
    "duration": 12,
    "start_time": "2022-06-14T13:54:23.871Z"
   },
   {
    "duration": 11,
    "start_time": "2022-06-14T13:54:23.894Z"
   },
   {
    "duration": 8,
    "start_time": "2022-06-14T13:54:23.906Z"
   },
   {
    "duration": 11,
    "start_time": "2022-06-14T13:54:23.915Z"
   },
   {
    "duration": 307,
    "start_time": "2022-06-14T13:54:23.927Z"
   },
   {
    "duration": 18,
    "start_time": "2022-06-14T13:54:24.237Z"
   },
   {
    "duration": 163,
    "start_time": "2022-06-14T13:54:24.256Z"
   },
   {
    "duration": 133,
    "start_time": "2022-06-14T13:54:24.420Z"
   },
   {
    "duration": 5,
    "start_time": "2022-06-14T13:54:24.555Z"
   },
   {
    "duration": 9,
    "start_time": "2022-06-14T13:54:24.561Z"
   },
   {
    "duration": 5,
    "start_time": "2022-06-14T13:54:24.572Z"
   },
   {
    "duration": 28,
    "start_time": "2022-06-14T13:54:24.578Z"
   },
   {
    "duration": 30,
    "start_time": "2022-06-14T13:54:24.607Z"
   },
   {
    "duration": 17,
    "start_time": "2022-06-14T13:54:24.638Z"
   },
   {
    "duration": 47,
    "start_time": "2022-06-14T13:54:24.656Z"
   },
   {
    "duration": 9,
    "start_time": "2022-06-14T13:54:24.705Z"
   },
   {
    "duration": 4,
    "start_time": "2022-06-14T13:54:24.715Z"
   },
   {
    "duration": 4,
    "start_time": "2022-06-14T13:54:24.720Z"
   },
   {
    "duration": 9,
    "start_time": "2022-06-14T13:54:24.725Z"
   },
   {
    "duration": 8,
    "start_time": "2022-06-14T13:54:24.736Z"
   },
   {
    "duration": 10,
    "start_time": "2022-06-14T13:54:24.745Z"
   },
   {
    "duration": 10,
    "start_time": "2022-06-14T13:54:24.756Z"
   },
   {
    "duration": 10,
    "start_time": "2022-06-14T13:54:24.794Z"
   },
   {
    "duration": 126,
    "start_time": "2022-06-14T13:54:24.805Z"
   },
   {
    "duration": 4,
    "start_time": "2022-06-14T13:54:24.932Z"
   },
   {
    "duration": 160,
    "start_time": "2022-06-14T13:54:24.937Z"
   },
   {
    "duration": 3,
    "start_time": "2022-06-14T13:54:25.098Z"
   },
   {
    "duration": 5,
    "start_time": "2022-06-14T13:54:25.102Z"
   },
   {
    "duration": 4,
    "start_time": "2022-06-14T13:54:25.109Z"
   },
   {
    "duration": 12,
    "start_time": "2022-06-14T13:54:25.115Z"
   },
   {
    "duration": 11,
    "start_time": "2022-06-14T13:54:25.128Z"
   },
   {
    "duration": 10,
    "start_time": "2022-06-14T13:54:25.140Z"
   },
   {
    "duration": 44,
    "start_time": "2022-06-14T13:54:25.152Z"
   },
   {
    "duration": 16,
    "start_time": "2022-06-14T13:54:25.198Z"
   },
   {
    "duration": 117,
    "start_time": "2022-06-14T13:54:25.215Z"
   },
   {
    "duration": 12,
    "start_time": "2022-06-14T13:54:25.334Z"
   },
   {
    "duration": 4,
    "start_time": "2022-06-14T13:54:25.348Z"
   },
   {
    "duration": 4,
    "start_time": "2022-06-14T13:54:25.354Z"
   },
   {
    "duration": 4,
    "start_time": "2022-06-14T13:54:25.359Z"
   },
   {
    "duration": 5,
    "start_time": "2022-06-14T13:54:25.364Z"
   },
   {
    "duration": 26,
    "start_time": "2022-06-14T13:54:25.370Z"
   },
   {
    "duration": 4,
    "start_time": "2022-06-14T13:54:25.398Z"
   },
   {
    "duration": 4,
    "start_time": "2022-06-14T13:54:25.403Z"
   },
   {
    "duration": 6,
    "start_time": "2022-06-14T13:54:25.408Z"
   },
   {
    "duration": 6,
    "start_time": "2022-06-14T13:54:25.415Z"
   },
   {
    "duration": 82,
    "start_time": "2022-06-14T13:54:25.422Z"
   },
   {
    "duration": 238,
    "start_time": "2022-06-14T13:54:25.505Z"
   },
   {
    "duration": 210,
    "start_time": "2022-06-14T13:54:25.745Z"
   },
   {
    "duration": 232,
    "start_time": "2022-06-14T13:54:25.956Z"
   },
   {
    "duration": 234,
    "start_time": "2022-06-14T13:54:26.190Z"
   },
   {
    "duration": 7,
    "start_time": "2022-06-14T13:54:26.427Z"
   },
   {
    "duration": 11,
    "start_time": "2022-06-14T13:54:26.436Z"
   },
   {
    "duration": 2,
    "start_time": "2022-06-14T13:54:26.449Z"
   },
   {
    "duration": 5,
    "start_time": "2022-06-14T13:54:26.452Z"
   },
   {
    "duration": 4,
    "start_time": "2022-06-14T13:54:26.458Z"
   },
   {
    "duration": 35,
    "start_time": "2022-06-14T13:54:26.464Z"
   },
   {
    "duration": 13,
    "start_time": "2022-06-14T13:54:26.501Z"
   },
   {
    "duration": 641,
    "start_time": "2022-06-14T13:54:26.515Z"
   },
   {
    "duration": 17,
    "start_time": "2022-06-14T13:54:27.157Z"
   },
   {
    "duration": 2329,
    "start_time": "2022-06-14T13:54:27.180Z"
   },
   {
    "duration": 6,
    "start_time": "2022-06-14T13:54:29.511Z"
   },
   {
    "duration": 13,
    "start_time": "2022-06-14T13:54:29.518Z"
   },
   {
    "duration": 5,
    "start_time": "2022-06-14T13:54:29.532Z"
   },
   {
    "duration": 16,
    "start_time": "2022-06-14T13:54:29.538Z"
   },
   {
    "duration": 128,
    "start_time": "2022-06-14T13:54:29.555Z"
   },
   {
    "duration": 25,
    "start_time": "2022-06-14T14:01:50.960Z"
   },
   {
    "duration": 5,
    "start_time": "2022-06-14T14:02:30.951Z"
   },
   {
    "duration": 4,
    "start_time": "2022-06-14T14:02:41.412Z"
   },
   {
    "duration": 1009,
    "start_time": "2022-06-14T14:04:18.051Z"
   },
   {
    "duration": 35,
    "start_time": "2022-06-14T14:04:34.839Z"
   },
   {
    "duration": 4,
    "start_time": "2022-06-14T14:05:29.085Z"
   },
   {
    "duration": 7,
    "start_time": "2022-06-14T14:06:00.311Z"
   },
   {
    "duration": 430,
    "start_time": "2022-06-14T14:06:16.038Z"
   },
   {
    "duration": 31,
    "start_time": "2022-06-14T14:06:16.470Z"
   },
   {
    "duration": 12,
    "start_time": "2022-06-14T14:06:16.502Z"
   },
   {
    "duration": 4,
    "start_time": "2022-06-14T14:06:16.515Z"
   },
   {
    "duration": 9,
    "start_time": "2022-06-14T14:06:16.521Z"
   },
   {
    "duration": 5,
    "start_time": "2022-06-14T14:06:16.532Z"
   },
   {
    "duration": 12,
    "start_time": "2022-06-14T14:06:16.539Z"
   },
   {
    "duration": 4,
    "start_time": "2022-06-14T14:06:16.552Z"
   },
   {
    "duration": 37,
    "start_time": "2022-06-14T14:06:16.558Z"
   },
   {
    "duration": 26,
    "start_time": "2022-06-14T14:06:16.597Z"
   },
   {
    "duration": 4,
    "start_time": "2022-06-14T14:06:16.624Z"
   },
   {
    "duration": 6,
    "start_time": "2022-06-14T14:06:16.629Z"
   },
   {
    "duration": 6,
    "start_time": "2022-06-14T14:06:16.636Z"
   },
   {
    "duration": 11,
    "start_time": "2022-06-14T14:06:16.645Z"
   },
   {
    "duration": 41,
    "start_time": "2022-06-14T14:06:16.658Z"
   },
   {
    "duration": 94,
    "start_time": "2022-06-14T14:06:16.700Z"
   },
   {
    "duration": 10,
    "start_time": "2022-06-14T14:06:16.796Z"
   },
   {
    "duration": 5,
    "start_time": "2022-06-14T14:06:16.808Z"
   },
   {
    "duration": 11,
    "start_time": "2022-06-14T14:06:16.814Z"
   },
   {
    "duration": 9,
    "start_time": "2022-06-14T14:06:16.827Z"
   },
   {
    "duration": 18,
    "start_time": "2022-06-14T14:06:16.837Z"
   },
   {
    "duration": 11,
    "start_time": "2022-06-14T14:06:16.857Z"
   },
   {
    "duration": 11,
    "start_time": "2022-06-14T14:06:16.870Z"
   },
   {
    "duration": 22,
    "start_time": "2022-06-14T14:06:16.882Z"
   },
   {
    "duration": 11,
    "start_time": "2022-06-14T14:06:16.905Z"
   },
   {
    "duration": 9,
    "start_time": "2022-06-14T14:06:16.917Z"
   },
   {
    "duration": 310,
    "start_time": "2022-06-14T14:06:16.928Z"
   },
   {
    "duration": 4,
    "start_time": "2022-06-14T14:06:17.240Z"
   },
   {
    "duration": 16,
    "start_time": "2022-06-14T14:06:17.245Z"
   },
   {
    "duration": 34,
    "start_time": "2022-06-14T14:06:17.262Z"
   },
   {
    "duration": 194,
    "start_time": "2022-06-14T14:06:17.297Z"
   },
   {
    "duration": 170,
    "start_time": "2022-06-14T14:06:17.493Z"
   },
   {
    "duration": 6,
    "start_time": "2022-06-14T14:06:17.665Z"
   },
   {
    "duration": 24,
    "start_time": "2022-06-14T14:06:17.673Z"
   },
   {
    "duration": 6,
    "start_time": "2022-06-14T14:06:17.700Z"
   },
   {
    "duration": 38,
    "start_time": "2022-06-14T14:06:17.708Z"
   },
   {
    "duration": 29,
    "start_time": "2022-06-14T14:06:17.748Z"
   },
   {
    "duration": 23,
    "start_time": "2022-06-14T14:06:17.778Z"
   },
   {
    "duration": 16,
    "start_time": "2022-06-14T14:06:17.802Z"
   },
   {
    "duration": 9,
    "start_time": "2022-06-14T14:06:17.820Z"
   },
   {
    "duration": 4,
    "start_time": "2022-06-14T14:06:17.834Z"
   },
   {
    "duration": 10,
    "start_time": "2022-06-14T14:06:17.839Z"
   },
   {
    "duration": 9,
    "start_time": "2022-06-14T14:06:17.850Z"
   },
   {
    "duration": 11,
    "start_time": "2022-06-14T14:06:17.860Z"
   },
   {
    "duration": 10,
    "start_time": "2022-06-14T14:06:17.895Z"
   },
   {
    "duration": 19,
    "start_time": "2022-06-14T14:06:17.906Z"
   },
   {
    "duration": 11,
    "start_time": "2022-06-14T14:06:17.926Z"
   },
   {
    "duration": 127,
    "start_time": "2022-06-14T14:06:17.938Z"
   },
   {
    "duration": 3,
    "start_time": "2022-06-14T14:06:18.067Z"
   },
   {
    "duration": 149,
    "start_time": "2022-06-14T14:06:18.072Z"
   },
   {
    "duration": 2,
    "start_time": "2022-06-14T14:06:18.223Z"
   },
   {
    "duration": 7,
    "start_time": "2022-06-14T14:06:18.228Z"
   },
   {
    "duration": 6,
    "start_time": "2022-06-14T14:06:18.237Z"
   },
   {
    "duration": 12,
    "start_time": "2022-06-14T14:06:18.245Z"
   },
   {
    "duration": 11,
    "start_time": "2022-06-14T14:06:18.259Z"
   },
   {
    "duration": 33,
    "start_time": "2022-06-14T14:06:18.271Z"
   },
   {
    "duration": 17,
    "start_time": "2022-06-14T14:06:18.307Z"
   },
   {
    "duration": 14,
    "start_time": "2022-06-14T14:06:18.326Z"
   },
   {
    "duration": 122,
    "start_time": "2022-06-14T14:06:18.342Z"
   },
   {
    "duration": 12,
    "start_time": "2022-06-14T14:06:18.465Z"
   },
   {
    "duration": 18,
    "start_time": "2022-06-14T14:06:18.478Z"
   },
   {
    "duration": 5,
    "start_time": "2022-06-14T14:06:18.497Z"
   },
   {
    "duration": 7,
    "start_time": "2022-06-14T14:06:18.503Z"
   },
   {
    "duration": 4,
    "start_time": "2022-06-14T14:06:18.512Z"
   },
   {
    "duration": 8,
    "start_time": "2022-06-14T14:06:18.517Z"
   },
   {
    "duration": 5,
    "start_time": "2022-06-14T14:06:18.526Z"
   },
   {
    "duration": 7,
    "start_time": "2022-06-14T14:06:18.532Z"
   },
   {
    "duration": 6,
    "start_time": "2022-06-14T14:06:18.540Z"
   },
   {
    "duration": 16,
    "start_time": "2022-06-14T14:06:18.547Z"
   },
   {
    "duration": 78,
    "start_time": "2022-06-14T14:06:18.565Z"
   },
   {
    "duration": 205,
    "start_time": "2022-06-14T14:06:18.644Z"
   },
   {
    "duration": 210,
    "start_time": "2022-06-14T14:06:18.851Z"
   },
   {
    "duration": 226,
    "start_time": "2022-06-14T14:06:19.063Z"
   },
   {
    "duration": 220,
    "start_time": "2022-06-14T14:06:19.291Z"
   },
   {
    "duration": 6,
    "start_time": "2022-06-14T14:06:19.512Z"
   },
   {
    "duration": 11,
    "start_time": "2022-06-14T14:06:19.519Z"
   },
   {
    "duration": 2,
    "start_time": "2022-06-14T14:06:19.531Z"
   },
   {
    "duration": 5,
    "start_time": "2022-06-14T14:06:19.535Z"
   },
   {
    "duration": 8,
    "start_time": "2022-06-14T14:06:19.541Z"
   },
   {
    "duration": 13,
    "start_time": "2022-06-14T14:06:19.551Z"
   },
   {
    "duration": 28,
    "start_time": "2022-06-14T14:06:19.566Z"
   },
   {
    "duration": 615,
    "start_time": "2022-06-14T14:06:19.596Z"
   },
   {
    "duration": 15,
    "start_time": "2022-06-14T14:06:20.213Z"
   },
   {
    "duration": 2294,
    "start_time": "2022-06-14T14:06:20.230Z"
   },
   {
    "duration": 7,
    "start_time": "2022-06-14T14:06:22.526Z"
   },
   {
    "duration": 14,
    "start_time": "2022-06-14T14:06:22.535Z"
   },
   {
    "duration": 6,
    "start_time": "2022-06-14T14:06:22.551Z"
   },
   {
    "duration": 41,
    "start_time": "2022-06-14T14:06:22.558Z"
   },
   {
    "duration": 146,
    "start_time": "2022-06-14T14:06:22.601Z"
   },
   {
    "duration": 5,
    "start_time": "2022-06-14T14:07:09.896Z"
   },
   {
    "duration": 19,
    "start_time": "2022-06-14T14:09:24.739Z"
   },
   {
    "duration": 19,
    "start_time": "2022-06-14T14:10:38.691Z"
   },
   {
    "duration": 110,
    "start_time": "2022-06-14T14:10:50.108Z"
   },
   {
    "duration": 20,
    "start_time": "2022-06-14T14:11:30.574Z"
   },
   {
    "duration": 27,
    "start_time": "2022-06-14T14:15:10.140Z"
   },
   {
    "duration": 34,
    "start_time": "2022-06-14T14:18:22.121Z"
   },
   {
    "duration": 4,
    "start_time": "2022-06-14T14:19:44.538Z"
   },
   {
    "duration": 10,
    "start_time": "2022-06-14T14:23:20.110Z"
   },
   {
    "duration": 16,
    "start_time": "2022-06-14T14:23:22.584Z"
   },
   {
    "duration": 5,
    "start_time": "2022-06-14T14:24:29.682Z"
   },
   {
    "duration": 8,
    "start_time": "2022-06-14T14:26:02.010Z"
   },
   {
    "duration": 11,
    "start_time": "2022-06-14T14:26:04.465Z"
   },
   {
    "duration": 11,
    "start_time": "2022-06-14T14:26:41.127Z"
   },
   {
    "duration": 11,
    "start_time": "2022-06-14T14:26:44.753Z"
   },
   {
    "duration": 27,
    "start_time": "2022-06-14T14:30:05.895Z"
   },
   {
    "duration": 133,
    "start_time": "2022-06-14T14:36:33.823Z"
   },
   {
    "duration": 154,
    "start_time": "2022-06-14T14:37:30.199Z"
   },
   {
    "duration": 111,
    "start_time": "2022-06-14T14:39:49.647Z"
   },
   {
    "duration": 49,
    "start_time": "2022-06-14T14:40:40.279Z"
   },
   {
    "duration": 33,
    "start_time": "2022-06-14T14:42:30.789Z"
   },
   {
    "duration": 37,
    "start_time": "2022-06-14T14:44:36.101Z"
   },
   {
    "duration": 4,
    "start_time": "2022-06-14T14:44:58.034Z"
   },
   {
    "duration": 203,
    "start_time": "2022-06-14T14:47:44.365Z"
   },
   {
    "duration": 67,
    "start_time": "2022-06-14T14:49:41.856Z"
   },
   {
    "duration": 12,
    "start_time": "2022-06-14T14:49:50.167Z"
   },
   {
    "duration": 292,
    "start_time": "2022-06-14T14:49:56.333Z"
   },
   {
    "duration": 189,
    "start_time": "2022-06-14T14:50:38.614Z"
   },
   {
    "duration": 206,
    "start_time": "2022-06-14T14:51:03.627Z"
   },
   {
    "duration": 211,
    "start_time": "2022-06-14T14:51:13.416Z"
   },
   {
    "duration": 203,
    "start_time": "2022-06-14T14:51:20.884Z"
   },
   {
    "duration": 7,
    "start_time": "2022-06-14T14:56:19.446Z"
   },
   {
    "duration": 6,
    "start_time": "2022-06-14T14:56:59.204Z"
   },
   {
    "duration": 18,
    "start_time": "2022-06-14T15:00:23.096Z"
   },
   {
    "duration": 31,
    "start_time": "2022-06-14T15:10:53.391Z"
   },
   {
    "duration": 484,
    "start_time": "2022-06-14T15:30:12.587Z"
   },
   {
    "duration": 34,
    "start_time": "2022-06-14T15:30:13.073Z"
   },
   {
    "duration": 14,
    "start_time": "2022-06-14T15:30:13.108Z"
   },
   {
    "duration": 4,
    "start_time": "2022-06-14T15:30:13.124Z"
   },
   {
    "duration": 17,
    "start_time": "2022-06-14T15:30:13.130Z"
   },
   {
    "duration": 6,
    "start_time": "2022-06-14T15:30:13.149Z"
   },
   {
    "duration": 41,
    "start_time": "2022-06-14T15:30:13.156Z"
   },
   {
    "duration": 6,
    "start_time": "2022-06-14T15:30:13.199Z"
   },
   {
    "duration": 18,
    "start_time": "2022-06-14T15:30:13.207Z"
   },
   {
    "duration": 32,
    "start_time": "2022-06-14T15:30:13.227Z"
   },
   {
    "duration": 4,
    "start_time": "2022-06-14T15:30:13.261Z"
   },
   {
    "duration": 27,
    "start_time": "2022-06-14T15:30:13.267Z"
   },
   {
    "duration": 6,
    "start_time": "2022-06-14T15:30:13.296Z"
   },
   {
    "duration": 16,
    "start_time": "2022-06-14T15:30:13.303Z"
   },
   {
    "duration": 13,
    "start_time": "2022-06-14T15:30:13.320Z"
   },
   {
    "duration": 97,
    "start_time": "2022-06-14T15:30:13.334Z"
   },
   {
    "duration": 10,
    "start_time": "2022-06-14T15:30:13.433Z"
   },
   {
    "duration": 5,
    "start_time": "2022-06-14T15:30:13.445Z"
   },
   {
    "duration": 8,
    "start_time": "2022-06-14T15:30:13.451Z"
   },
   {
    "duration": 9,
    "start_time": "2022-06-14T15:30:13.461Z"
   },
   {
    "duration": 9,
    "start_time": "2022-06-14T15:30:13.471Z"
   },
   {
    "duration": 4,
    "start_time": "2022-06-14T15:30:13.494Z"
   },
   {
    "duration": 8,
    "start_time": "2022-06-14T15:30:13.499Z"
   },
   {
    "duration": 11,
    "start_time": "2022-06-14T15:30:13.508Z"
   },
   {
    "duration": 6,
    "start_time": "2022-06-14T15:30:13.520Z"
   },
   {
    "duration": 13,
    "start_time": "2022-06-14T15:30:13.528Z"
   },
   {
    "duration": 68,
    "start_time": "2022-06-14T15:30:13.542Z"
   },
   {
    "duration": 0,
    "start_time": "2022-06-14T15:30:13.613Z"
   },
   {
    "duration": 0,
    "start_time": "2022-06-14T15:30:13.614Z"
   },
   {
    "duration": 0,
    "start_time": "2022-06-14T15:30:13.615Z"
   },
   {
    "duration": 0,
    "start_time": "2022-06-14T15:30:13.616Z"
   },
   {
    "duration": 0,
    "start_time": "2022-06-14T15:30:13.617Z"
   },
   {
    "duration": 0,
    "start_time": "2022-06-14T15:30:13.618Z"
   },
   {
    "duration": 0,
    "start_time": "2022-06-14T15:30:13.619Z"
   },
   {
    "duration": 0,
    "start_time": "2022-06-14T15:30:13.619Z"
   },
   {
    "duration": 0,
    "start_time": "2022-06-14T15:30:13.620Z"
   },
   {
    "duration": 0,
    "start_time": "2022-06-14T15:30:13.621Z"
   },
   {
    "duration": 0,
    "start_time": "2022-06-14T15:30:13.622Z"
   },
   {
    "duration": 0,
    "start_time": "2022-06-14T15:30:13.623Z"
   },
   {
    "duration": 0,
    "start_time": "2022-06-14T15:30:13.624Z"
   },
   {
    "duration": 0,
    "start_time": "2022-06-14T15:30:13.624Z"
   },
   {
    "duration": 0,
    "start_time": "2022-06-14T15:30:13.625Z"
   },
   {
    "duration": 0,
    "start_time": "2022-06-14T15:30:13.626Z"
   },
   {
    "duration": 0,
    "start_time": "2022-06-14T15:30:13.627Z"
   },
   {
    "duration": 0,
    "start_time": "2022-06-14T15:30:13.628Z"
   },
   {
    "duration": 0,
    "start_time": "2022-06-14T15:30:13.629Z"
   },
   {
    "duration": 0,
    "start_time": "2022-06-14T15:30:13.630Z"
   },
   {
    "duration": 0,
    "start_time": "2022-06-14T15:30:13.631Z"
   },
   {
    "duration": 0,
    "start_time": "2022-06-14T15:30:13.632Z"
   },
   {
    "duration": 0,
    "start_time": "2022-06-14T15:30:13.633Z"
   },
   {
    "duration": 0,
    "start_time": "2022-06-14T15:30:13.634Z"
   },
   {
    "duration": 0,
    "start_time": "2022-06-14T15:30:13.635Z"
   },
   {
    "duration": 0,
    "start_time": "2022-06-14T15:30:13.635Z"
   },
   {
    "duration": 0,
    "start_time": "2022-06-14T15:30:13.636Z"
   },
   {
    "duration": 0,
    "start_time": "2022-06-14T15:30:13.637Z"
   },
   {
    "duration": 0,
    "start_time": "2022-06-14T15:30:13.638Z"
   },
   {
    "duration": 0,
    "start_time": "2022-06-14T15:30:13.639Z"
   },
   {
    "duration": 0,
    "start_time": "2022-06-14T15:30:13.640Z"
   },
   {
    "duration": 0,
    "start_time": "2022-06-14T15:30:13.642Z"
   },
   {
    "duration": 0,
    "start_time": "2022-06-14T15:30:13.643Z"
   },
   {
    "duration": 0,
    "start_time": "2022-06-14T15:30:13.695Z"
   },
   {
    "duration": 0,
    "start_time": "2022-06-14T15:30:13.696Z"
   },
   {
    "duration": 0,
    "start_time": "2022-06-14T15:30:13.697Z"
   },
   {
    "duration": 0,
    "start_time": "2022-06-14T15:30:13.698Z"
   },
   {
    "duration": 0,
    "start_time": "2022-06-14T15:30:13.699Z"
   },
   {
    "duration": 0,
    "start_time": "2022-06-14T15:30:13.700Z"
   },
   {
    "duration": 0,
    "start_time": "2022-06-14T15:30:13.701Z"
   },
   {
    "duration": 0,
    "start_time": "2022-06-14T15:30:13.702Z"
   },
   {
    "duration": 0,
    "start_time": "2022-06-14T15:30:13.703Z"
   },
   {
    "duration": 0,
    "start_time": "2022-06-14T15:30:13.704Z"
   },
   {
    "duration": 0,
    "start_time": "2022-06-14T15:30:13.705Z"
   },
   {
    "duration": 0,
    "start_time": "2022-06-14T15:30:13.706Z"
   },
   {
    "duration": 0,
    "start_time": "2022-06-14T15:30:13.711Z"
   },
   {
    "duration": 0,
    "start_time": "2022-06-14T15:30:13.713Z"
   },
   {
    "duration": 0,
    "start_time": "2022-06-14T15:30:13.714Z"
   },
   {
    "duration": 0,
    "start_time": "2022-06-14T15:30:13.715Z"
   },
   {
    "duration": 0,
    "start_time": "2022-06-14T15:30:13.716Z"
   },
   {
    "duration": 0,
    "start_time": "2022-06-14T15:30:13.717Z"
   },
   {
    "duration": 0,
    "start_time": "2022-06-14T15:30:13.719Z"
   },
   {
    "duration": 294,
    "start_time": "2022-06-14T15:30:37.603Z"
   },
   {
    "duration": 485,
    "start_time": "2022-06-14T15:30:47.139Z"
   },
   {
    "duration": 32,
    "start_time": "2022-06-14T15:30:47.626Z"
   },
   {
    "duration": 14,
    "start_time": "2022-06-14T15:30:47.660Z"
   },
   {
    "duration": 5,
    "start_time": "2022-06-14T15:30:47.693Z"
   },
   {
    "duration": 14,
    "start_time": "2022-06-14T15:30:47.699Z"
   },
   {
    "duration": 6,
    "start_time": "2022-06-14T15:30:47.714Z"
   },
   {
    "duration": 14,
    "start_time": "2022-06-14T15:30:47.722Z"
   },
   {
    "duration": 5,
    "start_time": "2022-06-14T15:30:47.737Z"
   },
   {
    "duration": 5,
    "start_time": "2022-06-14T15:30:47.744Z"
   },
   {
    "duration": 57,
    "start_time": "2022-06-14T15:30:47.751Z"
   },
   {
    "duration": 4,
    "start_time": "2022-06-14T15:30:47.809Z"
   },
   {
    "duration": 11,
    "start_time": "2022-06-14T15:30:47.814Z"
   },
   {
    "duration": 8,
    "start_time": "2022-06-14T15:30:47.826Z"
   },
   {
    "duration": 25,
    "start_time": "2022-06-14T15:30:47.835Z"
   },
   {
    "duration": 12,
    "start_time": "2022-06-14T15:30:47.861Z"
   },
   {
    "duration": 98,
    "start_time": "2022-06-14T15:30:47.874Z"
   },
   {
    "duration": 9,
    "start_time": "2022-06-14T15:30:47.974Z"
   },
   {
    "duration": 11,
    "start_time": "2022-06-14T15:30:47.984Z"
   },
   {
    "duration": 5,
    "start_time": "2022-06-14T15:30:47.996Z"
   },
   {
    "duration": 5,
    "start_time": "2022-06-14T15:30:48.002Z"
   },
   {
    "duration": 7,
    "start_time": "2022-06-14T15:30:48.009Z"
   },
   {
    "duration": 8,
    "start_time": "2022-06-14T15:30:48.018Z"
   },
   {
    "duration": 9,
    "start_time": "2022-06-14T15:30:48.027Z"
   },
   {
    "duration": 12,
    "start_time": "2022-06-14T15:30:48.037Z"
   },
   {
    "duration": 9,
    "start_time": "2022-06-14T15:30:48.050Z"
   },
   {
    "duration": 7,
    "start_time": "2022-06-14T15:30:48.061Z"
   },
   {
    "duration": 317,
    "start_time": "2022-06-14T15:30:48.094Z"
   },
   {
    "duration": 6,
    "start_time": "2022-06-14T15:30:48.416Z"
   },
   {
    "duration": 187,
    "start_time": "2022-06-14T15:30:48.423Z"
   },
   {
    "duration": 142,
    "start_time": "2022-06-14T15:30:48.612Z"
   },
   {
    "duration": 6,
    "start_time": "2022-06-14T15:30:48.755Z"
   },
   {
    "duration": 9,
    "start_time": "2022-06-14T15:30:48.763Z"
   },
   {
    "duration": 8,
    "start_time": "2022-06-14T15:30:48.773Z"
   },
   {
    "duration": 15,
    "start_time": "2022-06-14T15:30:48.794Z"
   },
   {
    "duration": 25,
    "start_time": "2022-06-14T15:30:48.811Z"
   },
   {
    "duration": 14,
    "start_time": "2022-06-14T15:30:48.838Z"
   },
   {
    "duration": 14,
    "start_time": "2022-06-14T15:30:48.853Z"
   },
   {
    "duration": 26,
    "start_time": "2022-06-14T15:30:48.869Z"
   },
   {
    "duration": 9,
    "start_time": "2022-06-14T15:30:48.896Z"
   },
   {
    "duration": 3,
    "start_time": "2022-06-14T15:30:48.906Z"
   },
   {
    "duration": 8,
    "start_time": "2022-06-14T15:30:48.910Z"
   },
   {
    "duration": 9,
    "start_time": "2022-06-14T15:30:48.919Z"
   },
   {
    "duration": 12,
    "start_time": "2022-06-14T15:30:48.929Z"
   },
   {
    "duration": 11,
    "start_time": "2022-06-14T15:30:48.942Z"
   },
   {
    "duration": 10,
    "start_time": "2022-06-14T15:30:48.955Z"
   },
   {
    "duration": 35,
    "start_time": "2022-06-14T15:30:48.967Z"
   },
   {
    "duration": 122,
    "start_time": "2022-06-14T15:30:49.003Z"
   },
   {
    "duration": 4,
    "start_time": "2022-06-14T15:30:49.126Z"
   },
   {
    "duration": 137,
    "start_time": "2022-06-14T15:30:49.131Z"
   },
   {
    "duration": 10,
    "start_time": "2022-06-14T15:30:49.269Z"
   },
   {
    "duration": 20,
    "start_time": "2022-06-14T15:30:49.280Z"
   },
   {
    "duration": 10,
    "start_time": "2022-06-14T15:30:49.301Z"
   },
   {
    "duration": 10,
    "start_time": "2022-06-14T15:30:49.312Z"
   },
   {
    "duration": 86,
    "start_time": "2022-06-14T15:30:49.323Z"
   },
   {
    "duration": 0,
    "start_time": "2022-06-14T15:30:49.410Z"
   },
   {
    "duration": 0,
    "start_time": "2022-06-14T15:30:49.411Z"
   },
   {
    "duration": 0,
    "start_time": "2022-06-14T15:30:49.412Z"
   },
   {
    "duration": 0,
    "start_time": "2022-06-14T15:30:49.413Z"
   },
   {
    "duration": 0,
    "start_time": "2022-06-14T15:30:49.414Z"
   },
   {
    "duration": 0,
    "start_time": "2022-06-14T15:30:49.414Z"
   },
   {
    "duration": 0,
    "start_time": "2022-06-14T15:30:49.415Z"
   },
   {
    "duration": 0,
    "start_time": "2022-06-14T15:30:49.417Z"
   },
   {
    "duration": 0,
    "start_time": "2022-06-14T15:30:49.417Z"
   },
   {
    "duration": 0,
    "start_time": "2022-06-14T15:30:49.418Z"
   },
   {
    "duration": 0,
    "start_time": "2022-06-14T15:30:49.419Z"
   },
   {
    "duration": 0,
    "start_time": "2022-06-14T15:30:49.420Z"
   },
   {
    "duration": 0,
    "start_time": "2022-06-14T15:30:49.421Z"
   },
   {
    "duration": 0,
    "start_time": "2022-06-14T15:30:49.421Z"
   },
   {
    "duration": 0,
    "start_time": "2022-06-14T15:30:49.422Z"
   },
   {
    "duration": 0,
    "start_time": "2022-06-14T15:30:49.423Z"
   },
   {
    "duration": 0,
    "start_time": "2022-06-14T15:30:49.424Z"
   },
   {
    "duration": 0,
    "start_time": "2022-06-14T15:30:49.424Z"
   },
   {
    "duration": 0,
    "start_time": "2022-06-14T15:30:49.425Z"
   },
   {
    "duration": 0,
    "start_time": "2022-06-14T15:30:49.426Z"
   },
   {
    "duration": 0,
    "start_time": "2022-06-14T15:30:49.427Z"
   },
   {
    "duration": 0,
    "start_time": "2022-06-14T15:30:49.428Z"
   },
   {
    "duration": 0,
    "start_time": "2022-06-14T15:30:49.429Z"
   },
   {
    "duration": 0,
    "start_time": "2022-06-14T15:30:49.430Z"
   },
   {
    "duration": 0,
    "start_time": "2022-06-14T15:30:49.431Z"
   },
   {
    "duration": 499,
    "start_time": "2022-06-14T15:31:51.472Z"
   },
   {
    "duration": 27,
    "start_time": "2022-06-14T15:31:51.972Z"
   },
   {
    "duration": 12,
    "start_time": "2022-06-14T15:31:52.000Z"
   },
   {
    "duration": 4,
    "start_time": "2022-06-14T15:31:52.013Z"
   },
   {
    "duration": 11,
    "start_time": "2022-06-14T15:31:52.019Z"
   },
   {
    "duration": 5,
    "start_time": "2022-06-14T15:31:52.032Z"
   },
   {
    "duration": 17,
    "start_time": "2022-06-14T15:31:52.039Z"
   },
   {
    "duration": 4,
    "start_time": "2022-06-14T15:31:52.058Z"
   },
   {
    "duration": 32,
    "start_time": "2022-06-14T15:31:52.064Z"
   },
   {
    "duration": 26,
    "start_time": "2022-06-14T15:31:52.098Z"
   },
   {
    "duration": 4,
    "start_time": "2022-06-14T15:31:52.125Z"
   },
   {
    "duration": 8,
    "start_time": "2022-06-14T15:31:52.130Z"
   },
   {
    "duration": 9,
    "start_time": "2022-06-14T15:31:52.139Z"
   },
   {
    "duration": 12,
    "start_time": "2022-06-14T15:31:52.149Z"
   },
   {
    "duration": 33,
    "start_time": "2022-06-14T15:31:52.162Z"
   },
   {
    "duration": 77,
    "start_time": "2022-06-14T15:31:52.196Z"
   },
   {
    "duration": 21,
    "start_time": "2022-06-14T15:31:52.274Z"
   },
   {
    "duration": 5,
    "start_time": "2022-06-14T15:31:52.296Z"
   },
   {
    "duration": 8,
    "start_time": "2022-06-14T15:31:52.302Z"
   },
   {
    "duration": 5,
    "start_time": "2022-06-14T15:31:52.311Z"
   },
   {
    "duration": 9,
    "start_time": "2022-06-14T15:31:52.317Z"
   },
   {
    "duration": 6,
    "start_time": "2022-06-14T15:31:52.327Z"
   },
   {
    "duration": 8,
    "start_time": "2022-06-14T15:31:52.334Z"
   },
   {
    "duration": 15,
    "start_time": "2022-06-14T15:31:52.343Z"
   },
   {
    "duration": 8,
    "start_time": "2022-06-14T15:31:52.360Z"
   },
   {
    "duration": 26,
    "start_time": "2022-06-14T15:31:52.369Z"
   },
   {
    "duration": 311,
    "start_time": "2022-06-14T15:31:52.397Z"
   },
   {
    "duration": 6,
    "start_time": "2022-06-14T15:31:52.711Z"
   },
   {
    "duration": 164,
    "start_time": "2022-06-14T15:31:52.718Z"
   },
   {
    "duration": 128,
    "start_time": "2022-06-14T15:31:52.884Z"
   },
   {
    "duration": 5,
    "start_time": "2022-06-14T15:31:53.014Z"
   },
   {
    "duration": 10,
    "start_time": "2022-06-14T15:31:53.020Z"
   },
   {
    "duration": 6,
    "start_time": "2022-06-14T15:31:53.032Z"
   },
   {
    "duration": 17,
    "start_time": "2022-06-14T15:31:53.039Z"
   },
   {
    "duration": 39,
    "start_time": "2022-06-14T15:31:53.057Z"
   },
   {
    "duration": 15,
    "start_time": "2022-06-14T15:31:53.098Z"
   },
   {
    "duration": 14,
    "start_time": "2022-06-14T15:31:53.114Z"
   },
   {
    "duration": 4,
    "start_time": "2022-06-14T15:31:53.129Z"
   },
   {
    "duration": 12,
    "start_time": "2022-06-14T15:31:53.134Z"
   },
   {
    "duration": 3,
    "start_time": "2022-06-14T15:31:53.147Z"
   },
   {
    "duration": 5,
    "start_time": "2022-06-14T15:31:53.151Z"
   },
   {
    "duration": 10,
    "start_time": "2022-06-14T15:31:53.157Z"
   },
   {
    "duration": 32,
    "start_time": "2022-06-14T15:31:53.169Z"
   },
   {
    "duration": 16,
    "start_time": "2022-06-14T15:31:53.203Z"
   },
   {
    "duration": 10,
    "start_time": "2022-06-14T15:31:53.220Z"
   },
   {
    "duration": 8,
    "start_time": "2022-06-14T15:31:53.231Z"
   },
   {
    "duration": 123,
    "start_time": "2022-06-14T15:31:53.241Z"
   },
   {
    "duration": 4,
    "start_time": "2022-06-14T15:31:53.365Z"
   },
   {
    "duration": 133,
    "start_time": "2022-06-14T15:31:53.370Z"
   },
   {
    "duration": 9,
    "start_time": "2022-06-14T15:31:53.505Z"
   },
   {
    "duration": 9,
    "start_time": "2022-06-14T15:31:53.516Z"
   },
   {
    "duration": 9,
    "start_time": "2022-06-14T15:31:53.526Z"
   },
   {
    "duration": 11,
    "start_time": "2022-06-14T15:31:53.536Z"
   },
   {
    "duration": 46,
    "start_time": "2022-06-14T15:31:53.549Z"
   },
   {
    "duration": 109,
    "start_time": "2022-06-14T15:31:53.596Z"
   },
   {
    "duration": 14,
    "start_time": "2022-06-14T15:31:53.707Z"
   },
   {
    "duration": 5,
    "start_time": "2022-06-14T15:31:53.722Z"
   },
   {
    "duration": 5,
    "start_time": "2022-06-14T15:31:53.729Z"
   },
   {
    "duration": 6,
    "start_time": "2022-06-14T15:31:53.736Z"
   },
   {
    "duration": 19,
    "start_time": "2022-06-14T15:31:53.743Z"
   },
   {
    "duration": 10,
    "start_time": "2022-06-14T15:31:53.764Z"
   },
   {
    "duration": 28,
    "start_time": "2022-06-14T15:31:53.776Z"
   },
   {
    "duration": 260,
    "start_time": "2022-06-14T15:31:53.806Z"
   },
   {
    "duration": 222,
    "start_time": "2022-06-14T15:31:54.068Z"
   },
   {
    "duration": 217,
    "start_time": "2022-06-14T15:31:54.291Z"
   },
   {
    "duration": 214,
    "start_time": "2022-06-14T15:31:54.509Z"
   },
   {
    "duration": 7,
    "start_time": "2022-06-14T15:31:54.725Z"
   },
   {
    "duration": 13,
    "start_time": "2022-06-14T15:31:54.733Z"
   },
   {
    "duration": 9,
    "start_time": "2022-06-14T15:31:54.747Z"
   },
   {
    "duration": 635,
    "start_time": "2022-06-14T15:31:54.757Z"
   },
   {
    "duration": 16,
    "start_time": "2022-06-14T15:31:55.395Z"
   },
   {
    "duration": 2503,
    "start_time": "2022-06-14T15:31:55.413Z"
   },
   {
    "duration": 6,
    "start_time": "2022-06-14T15:31:57.918Z"
   },
   {
    "duration": 14,
    "start_time": "2022-06-14T15:31:57.926Z"
   },
   {
    "duration": 6,
    "start_time": "2022-06-14T15:31:57.941Z"
   },
   {
    "duration": 15,
    "start_time": "2022-06-14T15:31:57.949Z"
   },
   {
    "duration": 147,
    "start_time": "2022-06-14T15:31:57.966Z"
   },
   {
    "duration": 8,
    "start_time": "2022-06-14T15:31:58.114Z"
   },
   {
    "duration": 12,
    "start_time": "2022-06-14T15:31:58.124Z"
   },
   {
    "duration": 521,
    "start_time": "2022-06-14T18:47:20.963Z"
   },
   {
    "duration": 31,
    "start_time": "2022-06-14T18:47:21.486Z"
   },
   {
    "duration": 14,
    "start_time": "2022-06-14T18:47:21.518Z"
   },
   {
    "duration": 4,
    "start_time": "2022-06-14T18:47:21.533Z"
   },
   {
    "duration": 33,
    "start_time": "2022-06-14T18:47:21.539Z"
   },
   {
    "duration": 12,
    "start_time": "2022-06-14T18:47:21.574Z"
   },
   {
    "duration": 42,
    "start_time": "2022-06-14T18:47:21.588Z"
   },
   {
    "duration": 5,
    "start_time": "2022-06-14T18:47:21.632Z"
   },
   {
    "duration": 6,
    "start_time": "2022-06-14T18:47:21.638Z"
   },
   {
    "duration": 43,
    "start_time": "2022-06-14T18:47:21.645Z"
   },
   {
    "duration": 5,
    "start_time": "2022-06-14T18:47:21.689Z"
   },
   {
    "duration": 19,
    "start_time": "2022-06-14T18:47:21.695Z"
   },
   {
    "duration": 13,
    "start_time": "2022-06-14T18:47:21.715Z"
   },
   {
    "duration": 15,
    "start_time": "2022-06-14T18:47:21.731Z"
   },
   {
    "duration": 11,
    "start_time": "2022-06-14T18:47:21.748Z"
   },
   {
    "duration": 95,
    "start_time": "2022-06-14T18:47:21.764Z"
   },
   {
    "duration": 18,
    "start_time": "2022-06-14T18:47:21.861Z"
   },
   {
    "duration": 6,
    "start_time": "2022-06-14T18:47:21.881Z"
   },
   {
    "duration": 12,
    "start_time": "2022-06-14T18:47:21.889Z"
   },
   {
    "duration": 6,
    "start_time": "2022-06-14T18:47:21.903Z"
   },
   {
    "duration": 14,
    "start_time": "2022-06-14T18:47:21.911Z"
   },
   {
    "duration": 15,
    "start_time": "2022-06-14T18:47:21.927Z"
   },
   {
    "duration": 21,
    "start_time": "2022-06-14T18:47:21.944Z"
   },
   {
    "duration": 26,
    "start_time": "2022-06-14T18:47:21.967Z"
   },
   {
    "duration": 13,
    "start_time": "2022-06-14T18:47:21.996Z"
   },
   {
    "duration": 23,
    "start_time": "2022-06-14T18:47:22.011Z"
   },
   {
    "duration": 545,
    "start_time": "2022-06-14T18:47:22.036Z"
   },
   {
    "duration": 7,
    "start_time": "2022-06-14T18:47:22.583Z"
   },
   {
    "duration": 200,
    "start_time": "2022-06-14T18:47:22.591Z"
   },
   {
    "duration": 136,
    "start_time": "2022-06-14T18:47:22.793Z"
   },
   {
    "duration": 5,
    "start_time": "2022-06-14T18:47:22.931Z"
   },
   {
    "duration": 12,
    "start_time": "2022-06-14T18:47:22.937Z"
   },
   {
    "duration": 23,
    "start_time": "2022-06-14T18:47:22.950Z"
   },
   {
    "duration": 25,
    "start_time": "2022-06-14T18:47:22.974Z"
   },
   {
    "duration": 28,
    "start_time": "2022-06-14T18:47:23.001Z"
   },
   {
    "duration": 18,
    "start_time": "2022-06-14T18:47:23.031Z"
   },
   {
    "duration": 38,
    "start_time": "2022-06-14T18:47:23.050Z"
   },
   {
    "duration": 5,
    "start_time": "2022-06-14T18:47:23.090Z"
   },
   {
    "duration": 15,
    "start_time": "2022-06-14T18:47:23.096Z"
   },
   {
    "duration": 4,
    "start_time": "2022-06-14T18:47:23.112Z"
   },
   {
    "duration": 4,
    "start_time": "2022-06-14T18:47:23.120Z"
   },
   {
    "duration": 10,
    "start_time": "2022-06-14T18:47:23.126Z"
   },
   {
    "duration": 15,
    "start_time": "2022-06-14T18:47:23.166Z"
   },
   {
    "duration": 13,
    "start_time": "2022-06-14T18:47:23.183Z"
   },
   {
    "duration": 10,
    "start_time": "2022-06-14T18:47:23.198Z"
   },
   {
    "duration": 11,
    "start_time": "2022-06-14T18:47:23.211Z"
   },
   {
    "duration": 173,
    "start_time": "2022-06-14T18:47:23.224Z"
   },
   {
    "duration": 3,
    "start_time": "2022-06-14T18:47:23.399Z"
   },
   {
    "duration": 164,
    "start_time": "2022-06-14T18:47:23.404Z"
   },
   {
    "duration": 17,
    "start_time": "2022-06-14T18:47:23.570Z"
   },
   {
    "duration": 13,
    "start_time": "2022-06-14T18:47:23.589Z"
   },
   {
    "duration": 30,
    "start_time": "2022-06-14T18:47:23.605Z"
   },
   {
    "duration": 16,
    "start_time": "2022-06-14T18:47:23.637Z"
   },
   {
    "duration": 52,
    "start_time": "2022-06-14T18:47:23.655Z"
   },
   {
    "duration": 199,
    "start_time": "2022-06-14T18:47:23.709Z"
   },
   {
    "duration": 12,
    "start_time": "2022-06-14T18:47:23.910Z"
   },
   {
    "duration": 22,
    "start_time": "2022-06-14T18:47:23.923Z"
   },
   {
    "duration": 14,
    "start_time": "2022-06-14T18:47:23.947Z"
   },
   {
    "duration": 25,
    "start_time": "2022-06-14T18:47:23.962Z"
   },
   {
    "duration": 14,
    "start_time": "2022-06-14T18:47:23.989Z"
   },
   {
    "duration": 9,
    "start_time": "2022-06-14T18:47:24.005Z"
   },
   {
    "duration": 34,
    "start_time": "2022-06-14T18:47:24.015Z"
   },
   {
    "duration": 248,
    "start_time": "2022-06-14T18:47:24.051Z"
   },
   {
    "duration": 253,
    "start_time": "2022-06-14T18:47:24.300Z"
   },
   {
    "duration": 265,
    "start_time": "2022-06-14T18:47:24.555Z"
   },
   {
    "duration": 251,
    "start_time": "2022-06-14T18:47:24.821Z"
   },
   {
    "duration": 8,
    "start_time": "2022-06-14T18:47:25.074Z"
   },
   {
    "duration": 13,
    "start_time": "2022-06-14T18:47:25.084Z"
   },
   {
    "duration": 8,
    "start_time": "2022-06-14T18:47:25.099Z"
   },
   {
    "duration": 742,
    "start_time": "2022-06-14T18:47:25.109Z"
   },
   {
    "duration": 28,
    "start_time": "2022-06-14T18:47:25.853Z"
   },
   {
    "duration": 2866,
    "start_time": "2022-06-14T18:47:25.883Z"
   },
   {
    "duration": 27,
    "start_time": "2022-06-14T18:47:28.751Z"
   },
   {
    "duration": 35,
    "start_time": "2022-06-14T18:47:28.780Z"
   },
   {
    "duration": 10,
    "start_time": "2022-06-14T18:47:28.817Z"
   },
   {
    "duration": 48,
    "start_time": "2022-06-14T18:47:28.829Z"
   },
   {
    "duration": 139,
    "start_time": "2022-06-14T18:47:28.879Z"
   },
   {
    "duration": 9,
    "start_time": "2022-06-14T18:47:29.019Z"
   },
   {
    "duration": 34,
    "start_time": "2022-06-14T18:47:29.029Z"
   },
   {
    "duration": 20,
    "start_time": "2022-06-14T18:48:08.033Z"
   },
   {
    "duration": 36,
    "start_time": "2022-06-15T08:12:58.561Z"
   },
   {
    "duration": 714,
    "start_time": "2022-06-15T08:25:49.216Z"
   },
   {
    "duration": 34,
    "start_time": "2022-06-15T08:25:49.932Z"
   },
   {
    "duration": 14,
    "start_time": "2022-06-15T08:25:49.968Z"
   },
   {
    "duration": 5,
    "start_time": "2022-06-15T08:25:49.984Z"
   },
   {
    "duration": 13,
    "start_time": "2022-06-15T08:25:49.991Z"
   },
   {
    "duration": 11,
    "start_time": "2022-06-15T08:25:50.006Z"
   },
   {
    "duration": 18,
    "start_time": "2022-06-15T08:25:50.019Z"
   },
   {
    "duration": 6,
    "start_time": "2022-06-15T08:25:50.065Z"
   },
   {
    "duration": 22,
    "start_time": "2022-06-15T08:25:50.073Z"
   },
   {
    "duration": 36,
    "start_time": "2022-06-15T08:25:50.099Z"
   },
   {
    "duration": 5,
    "start_time": "2022-06-15T08:25:50.136Z"
   },
   {
    "duration": 5,
    "start_time": "2022-06-15T08:25:50.143Z"
   },
   {
    "duration": 20,
    "start_time": "2022-06-15T08:25:50.149Z"
   },
   {
    "duration": 5,
    "start_time": "2022-06-15T08:25:50.171Z"
   },
   {
    "duration": 6,
    "start_time": "2022-06-15T08:25:50.178Z"
   },
   {
    "duration": 15,
    "start_time": "2022-06-15T08:25:50.186Z"
   },
   {
    "duration": 14,
    "start_time": "2022-06-15T08:25:50.203Z"
   },
   {
    "duration": 116,
    "start_time": "2022-06-15T08:25:50.219Z"
   },
   {
    "duration": 12,
    "start_time": "2022-06-15T08:25:50.337Z"
   },
   {
    "duration": 14,
    "start_time": "2022-06-15T08:25:50.351Z"
   },
   {
    "duration": 15,
    "start_time": "2022-06-15T08:25:50.366Z"
   },
   {
    "duration": 8,
    "start_time": "2022-06-15T08:25:50.383Z"
   },
   {
    "duration": 6,
    "start_time": "2022-06-15T08:25:50.392Z"
   },
   {
    "duration": 6,
    "start_time": "2022-06-15T08:25:50.400Z"
   },
   {
    "duration": 20,
    "start_time": "2022-06-15T08:25:50.407Z"
   },
   {
    "duration": 26,
    "start_time": "2022-06-15T08:25:50.428Z"
   },
   {
    "duration": 11,
    "start_time": "2022-06-15T08:25:50.456Z"
   },
   {
    "duration": 13,
    "start_time": "2022-06-15T08:25:50.471Z"
   },
   {
    "duration": 494,
    "start_time": "2022-06-15T08:25:50.486Z"
   },
   {
    "duration": 7,
    "start_time": "2022-06-15T08:25:50.982Z"
   },
   {
    "duration": 214,
    "start_time": "2022-06-15T08:25:50.991Z"
   },
   {
    "duration": 147,
    "start_time": "2022-06-15T08:25:51.207Z"
   },
   {
    "duration": 13,
    "start_time": "2022-06-15T08:25:51.355Z"
   },
   {
    "duration": 16,
    "start_time": "2022-06-15T08:25:51.369Z"
   },
   {
    "duration": 10,
    "start_time": "2022-06-15T08:25:51.387Z"
   },
   {
    "duration": 25,
    "start_time": "2022-06-15T08:25:51.399Z"
   },
   {
    "duration": 31,
    "start_time": "2022-06-15T08:25:51.426Z"
   },
   {
    "duration": 18,
    "start_time": "2022-06-15T08:25:51.465Z"
   },
   {
    "duration": 18,
    "start_time": "2022-06-15T08:25:51.485Z"
   },
   {
    "duration": 4,
    "start_time": "2022-06-15T08:25:51.505Z"
   },
   {
    "duration": 14,
    "start_time": "2022-06-15T08:25:51.510Z"
   },
   {
    "duration": 17,
    "start_time": "2022-06-15T08:25:51.526Z"
   },
   {
    "duration": 6,
    "start_time": "2022-06-15T08:25:51.544Z"
   },
   {
    "duration": 8,
    "start_time": "2022-06-15T08:25:51.564Z"
   },
   {
    "duration": 10,
    "start_time": "2022-06-15T08:25:51.574Z"
   },
   {
    "duration": 11,
    "start_time": "2022-06-15T08:25:51.586Z"
   },
   {
    "duration": 13,
    "start_time": "2022-06-15T08:25:51.599Z"
   },
   {
    "duration": 10,
    "start_time": "2022-06-15T08:25:51.614Z"
   },
   {
    "duration": 135,
    "start_time": "2022-06-15T08:25:51.665Z"
   },
   {
    "duration": 5,
    "start_time": "2022-06-15T08:25:51.801Z"
   },
   {
    "duration": 162,
    "start_time": "2022-06-15T08:25:51.807Z"
   },
   {
    "duration": 11,
    "start_time": "2022-06-15T08:25:51.971Z"
   },
   {
    "duration": 11,
    "start_time": "2022-06-15T08:25:51.983Z"
   },
   {
    "duration": 20,
    "start_time": "2022-06-15T08:25:51.995Z"
   },
   {
    "duration": 12,
    "start_time": "2022-06-15T08:25:52.016Z"
   },
   {
    "duration": 42,
    "start_time": "2022-06-15T08:25:52.030Z"
   },
   {
    "duration": 191,
    "start_time": "2022-06-15T08:25:52.074Z"
   },
   {
    "duration": 12,
    "start_time": "2022-06-15T08:25:52.266Z"
   },
   {
    "duration": 7,
    "start_time": "2022-06-15T08:25:52.280Z"
   },
   {
    "duration": 8,
    "start_time": "2022-06-15T08:25:52.288Z"
   },
   {
    "duration": 9,
    "start_time": "2022-06-15T08:25:52.297Z"
   },
   {
    "duration": 8,
    "start_time": "2022-06-15T08:25:52.308Z"
   },
   {
    "duration": 4,
    "start_time": "2022-06-15T08:25:52.318Z"
   },
   {
    "duration": 43,
    "start_time": "2022-06-15T08:25:52.324Z"
   },
   {
    "duration": 253,
    "start_time": "2022-06-15T08:25:52.369Z"
   },
   {
    "duration": 270,
    "start_time": "2022-06-15T08:25:52.624Z"
   },
   {
    "duration": 242,
    "start_time": "2022-06-15T08:25:52.896Z"
   },
   {
    "duration": 259,
    "start_time": "2022-06-15T08:25:53.141Z"
   },
   {
    "duration": 7,
    "start_time": "2022-06-15T08:25:53.403Z"
   },
   {
    "duration": 24,
    "start_time": "2022-06-15T08:25:53.412Z"
   },
   {
    "duration": 7,
    "start_time": "2022-06-15T08:25:53.438Z"
   },
   {
    "duration": 749,
    "start_time": "2022-06-15T08:25:53.447Z"
   },
   {
    "duration": 18,
    "start_time": "2022-06-15T08:25:54.198Z"
   },
   {
    "duration": 3064,
    "start_time": "2022-06-15T08:25:54.217Z"
   },
   {
    "duration": 8,
    "start_time": "2022-06-15T08:25:57.283Z"
   },
   {
    "duration": 20,
    "start_time": "2022-06-15T08:25:57.292Z"
   },
   {
    "duration": 6,
    "start_time": "2022-06-15T08:25:57.315Z"
   },
   {
    "duration": 25,
    "start_time": "2022-06-15T08:25:57.323Z"
   },
   {
    "duration": 152,
    "start_time": "2022-06-15T08:25:57.364Z"
   },
   {
    "duration": 9,
    "start_time": "2022-06-15T08:25:57.517Z"
   },
   {
    "duration": 13,
    "start_time": "2022-06-15T08:25:57.527Z"
   },
   {
    "duration": 5,
    "start_time": "2022-06-15T08:26:46.580Z"
   },
   {
    "duration": 58,
    "start_time": "2022-06-15T08:26:57.973Z"
   },
   {
    "duration": 42,
    "start_time": "2022-06-15T08:30:31.248Z"
   },
   {
    "duration": 11,
    "start_time": "2022-06-15T08:32:56.957Z"
   },
   {
    "duration": 12,
    "start_time": "2022-06-15T08:33:12.434Z"
   },
   {
    "duration": 21,
    "start_time": "2022-06-15T08:39:25.873Z"
   },
   {
    "duration": 24,
    "start_time": "2022-06-15T08:41:57.222Z"
   },
   {
    "duration": 25,
    "start_time": "2022-06-15T08:42:36.043Z"
   },
   {
    "duration": 545,
    "start_time": "2022-06-15T08:43:48.830Z"
   },
   {
    "duration": 30,
    "start_time": "2022-06-15T08:43:49.377Z"
   },
   {
    "duration": 14,
    "start_time": "2022-06-15T08:43:49.409Z"
   },
   {
    "duration": 4,
    "start_time": "2022-06-15T08:43:49.425Z"
   },
   {
    "duration": 39,
    "start_time": "2022-06-15T08:43:49.431Z"
   },
   {
    "duration": 6,
    "start_time": "2022-06-15T08:43:49.472Z"
   },
   {
    "duration": 15,
    "start_time": "2022-06-15T08:43:49.480Z"
   },
   {
    "duration": 4,
    "start_time": "2022-06-15T08:43:49.497Z"
   },
   {
    "duration": 8,
    "start_time": "2022-06-15T08:43:49.503Z"
   },
   {
    "duration": 64,
    "start_time": "2022-06-15T08:43:49.514Z"
   },
   {
    "duration": 5,
    "start_time": "2022-06-15T08:43:49.580Z"
   },
   {
    "duration": 11,
    "start_time": "2022-06-15T08:43:49.586Z"
   },
   {
    "duration": 11,
    "start_time": "2022-06-15T08:43:49.598Z"
   },
   {
    "duration": 5,
    "start_time": "2022-06-15T08:43:49.611Z"
   },
   {
    "duration": 7,
    "start_time": "2022-06-15T08:43:49.617Z"
   },
   {
    "duration": 14,
    "start_time": "2022-06-15T08:43:49.625Z"
   },
   {
    "duration": 15,
    "start_time": "2022-06-15T08:43:49.664Z"
   },
   {
    "duration": 91,
    "start_time": "2022-06-15T08:43:49.680Z"
   },
   {
    "duration": 10,
    "start_time": "2022-06-15T08:43:49.773Z"
   },
   {
    "duration": 5,
    "start_time": "2022-06-15T08:43:49.785Z"
   },
   {
    "duration": 8,
    "start_time": "2022-06-15T08:43:49.792Z"
   },
   {
    "duration": 10,
    "start_time": "2022-06-15T08:43:49.801Z"
   },
   {
    "duration": 10,
    "start_time": "2022-06-15T08:43:49.813Z"
   },
   {
    "duration": 6,
    "start_time": "2022-06-15T08:43:49.825Z"
   },
   {
    "duration": 11,
    "start_time": "2022-06-15T08:43:49.832Z"
   },
   {
    "duration": 27,
    "start_time": "2022-06-15T08:43:49.844Z"
   },
   {
    "duration": 10,
    "start_time": "2022-06-15T08:43:49.873Z"
   },
   {
    "duration": 10,
    "start_time": "2022-06-15T08:43:49.887Z"
   },
   {
    "duration": 372,
    "start_time": "2022-06-15T08:43:49.899Z"
   },
   {
    "duration": 5,
    "start_time": "2022-06-15T08:43:50.273Z"
   },
   {
    "duration": 190,
    "start_time": "2022-06-15T08:43:50.280Z"
   },
   {
    "duration": 133,
    "start_time": "2022-06-15T08:43:50.471Z"
   },
   {
    "duration": 5,
    "start_time": "2022-06-15T08:43:50.606Z"
   },
   {
    "duration": 9,
    "start_time": "2022-06-15T08:43:50.612Z"
   },
   {
    "duration": 10,
    "start_time": "2022-06-15T08:43:50.622Z"
   },
   {
    "duration": 36,
    "start_time": "2022-06-15T08:43:50.633Z"
   },
   {
    "duration": 31,
    "start_time": "2022-06-15T08:43:50.671Z"
   },
   {
    "duration": 17,
    "start_time": "2022-06-15T08:43:50.703Z"
   },
   {
    "duration": 15,
    "start_time": "2022-06-15T08:43:50.722Z"
   },
   {
    "duration": 27,
    "start_time": "2022-06-15T08:43:50.739Z"
   },
   {
    "duration": 14,
    "start_time": "2022-06-15T08:43:50.768Z"
   },
   {
    "duration": 4,
    "start_time": "2022-06-15T08:43:50.783Z"
   },
   {
    "duration": 6,
    "start_time": "2022-06-15T08:43:50.788Z"
   },
   {
    "duration": 11,
    "start_time": "2022-06-15T08:43:50.796Z"
   },
   {
    "duration": 11,
    "start_time": "2022-06-15T08:43:50.809Z"
   },
   {
    "duration": 10,
    "start_time": "2022-06-15T08:43:50.821Z"
   },
   {
    "duration": 40,
    "start_time": "2022-06-15T08:43:50.833Z"
   },
   {
    "duration": 14,
    "start_time": "2022-06-15T08:43:50.876Z"
   },
   {
    "duration": 137,
    "start_time": "2022-06-15T08:43:50.892Z"
   },
   {
    "duration": 4,
    "start_time": "2022-06-15T08:43:51.031Z"
   },
   {
    "duration": 155,
    "start_time": "2022-06-15T08:43:51.037Z"
   },
   {
    "duration": 10,
    "start_time": "2022-06-15T08:43:51.194Z"
   },
   {
    "duration": 12,
    "start_time": "2022-06-15T08:43:51.206Z"
   },
   {
    "duration": 12,
    "start_time": "2022-06-15T08:43:51.220Z"
   },
   {
    "duration": 39,
    "start_time": "2022-06-15T08:43:51.234Z"
   },
   {
    "duration": 22,
    "start_time": "2022-06-15T08:43:51.275Z"
   },
   {
    "duration": 182,
    "start_time": "2022-06-15T08:43:51.299Z"
   },
   {
    "duration": 11,
    "start_time": "2022-06-15T08:43:51.483Z"
   },
   {
    "duration": 18,
    "start_time": "2022-06-15T08:43:51.496Z"
   },
   {
    "duration": 9,
    "start_time": "2022-06-15T08:43:51.516Z"
   },
   {
    "duration": 6,
    "start_time": "2022-06-15T08:43:51.527Z"
   },
   {
    "duration": 7,
    "start_time": "2022-06-15T08:43:51.535Z"
   },
   {
    "duration": 9,
    "start_time": "2022-06-15T08:43:51.543Z"
   },
   {
    "duration": 21,
    "start_time": "2022-06-15T08:43:51.564Z"
   },
   {
    "duration": 248,
    "start_time": "2022-06-15T08:43:51.587Z"
   },
   {
    "duration": 259,
    "start_time": "2022-06-15T08:43:51.837Z"
   },
   {
    "duration": 252,
    "start_time": "2022-06-15T08:43:52.098Z"
   },
   {
    "duration": 265,
    "start_time": "2022-06-15T08:43:52.352Z"
   },
   {
    "duration": 2,
    "start_time": "2022-06-15T08:43:52.619Z"
   },
   {
    "duration": 6,
    "start_time": "2022-06-15T08:43:52.623Z"
   },
   {
    "duration": 15,
    "start_time": "2022-06-15T08:43:52.630Z"
   },
   {
    "duration": 20,
    "start_time": "2022-06-15T08:43:52.647Z"
   },
   {
    "duration": 7,
    "start_time": "2022-06-15T08:43:52.670Z"
   },
   {
    "duration": 98,
    "start_time": "2022-06-15T08:43:52.679Z"
   },
   {
    "duration": 0,
    "start_time": "2022-06-15T08:43:52.779Z"
   },
   {
    "duration": 0,
    "start_time": "2022-06-15T08:43:52.781Z"
   },
   {
    "duration": 0,
    "start_time": "2022-06-15T08:43:52.782Z"
   },
   {
    "duration": 0,
    "start_time": "2022-06-15T08:43:52.783Z"
   },
   {
    "duration": 0,
    "start_time": "2022-06-15T08:43:52.784Z"
   },
   {
    "duration": 0,
    "start_time": "2022-06-15T08:43:52.785Z"
   },
   {
    "duration": 0,
    "start_time": "2022-06-15T08:43:52.786Z"
   },
   {
    "duration": 0,
    "start_time": "2022-06-15T08:43:52.787Z"
   },
   {
    "duration": 0,
    "start_time": "2022-06-15T08:43:52.788Z"
   },
   {
    "duration": 0,
    "start_time": "2022-06-15T08:43:52.790Z"
   },
   {
    "duration": 30,
    "start_time": "2022-06-15T08:46:03.149Z"
   },
   {
    "duration": 18,
    "start_time": "2022-06-15T08:46:51.616Z"
   },
   {
    "duration": 24,
    "start_time": "2022-06-15T08:47:24.858Z"
   },
   {
    "duration": 514,
    "start_time": "2022-06-15T08:48:26.429Z"
   },
   {
    "duration": 47,
    "start_time": "2022-06-15T08:48:26.946Z"
   },
   {
    "duration": 15,
    "start_time": "2022-06-15T08:48:26.995Z"
   },
   {
    "duration": 6,
    "start_time": "2022-06-15T08:48:27.012Z"
   },
   {
    "duration": 14,
    "start_time": "2022-06-15T08:48:27.020Z"
   },
   {
    "duration": 35,
    "start_time": "2022-06-15T08:48:27.036Z"
   },
   {
    "duration": 20,
    "start_time": "2022-06-15T08:48:27.072Z"
   },
   {
    "duration": 5,
    "start_time": "2022-06-15T08:48:27.094Z"
   },
   {
    "duration": 10,
    "start_time": "2022-06-15T08:48:27.101Z"
   },
   {
    "duration": 57,
    "start_time": "2022-06-15T08:48:27.113Z"
   },
   {
    "duration": 4,
    "start_time": "2022-06-15T08:48:27.172Z"
   },
   {
    "duration": 5,
    "start_time": "2022-06-15T08:48:27.178Z"
   },
   {
    "duration": 13,
    "start_time": "2022-06-15T08:48:27.185Z"
   },
   {
    "duration": 8,
    "start_time": "2022-06-15T08:48:27.199Z"
   },
   {
    "duration": 13,
    "start_time": "2022-06-15T08:48:27.208Z"
   },
   {
    "duration": 24,
    "start_time": "2022-06-15T08:48:27.222Z"
   },
   {
    "duration": 29,
    "start_time": "2022-06-15T08:48:27.248Z"
   },
   {
    "duration": 99,
    "start_time": "2022-06-15T08:48:27.278Z"
   },
   {
    "duration": 15,
    "start_time": "2022-06-15T08:48:27.378Z"
   },
   {
    "duration": 16,
    "start_time": "2022-06-15T08:48:27.395Z"
   },
   {
    "duration": 11,
    "start_time": "2022-06-15T08:48:27.413Z"
   },
   {
    "duration": 9,
    "start_time": "2022-06-15T08:48:27.426Z"
   },
   {
    "duration": 5,
    "start_time": "2022-06-15T08:48:27.437Z"
   },
   {
    "duration": 24,
    "start_time": "2022-06-15T08:48:27.444Z"
   },
   {
    "duration": 21,
    "start_time": "2022-06-15T08:48:27.470Z"
   },
   {
    "duration": 18,
    "start_time": "2022-06-15T08:48:27.492Z"
   },
   {
    "duration": 13,
    "start_time": "2022-06-15T08:48:27.512Z"
   },
   {
    "duration": 6,
    "start_time": "2022-06-15T08:48:27.529Z"
   },
   {
    "duration": 355,
    "start_time": "2022-06-15T08:48:27.537Z"
   },
   {
    "duration": 6,
    "start_time": "2022-06-15T08:48:27.894Z"
   },
   {
    "duration": 198,
    "start_time": "2022-06-15T08:48:27.902Z"
   },
   {
    "duration": 144,
    "start_time": "2022-06-15T08:48:28.102Z"
   },
   {
    "duration": 6,
    "start_time": "2022-06-15T08:48:28.248Z"
   },
   {
    "duration": 14,
    "start_time": "2022-06-15T08:48:28.256Z"
   },
   {
    "duration": 22,
    "start_time": "2022-06-15T08:48:28.271Z"
   },
   {
    "duration": 19,
    "start_time": "2022-06-15T08:48:28.295Z"
   },
   {
    "duration": 32,
    "start_time": "2022-06-15T08:48:28.316Z"
   },
   {
    "duration": 31,
    "start_time": "2022-06-15T08:48:28.350Z"
   },
   {
    "duration": 19,
    "start_time": "2022-06-15T08:48:28.382Z"
   },
   {
    "duration": 5,
    "start_time": "2022-06-15T08:48:28.403Z"
   },
   {
    "duration": 14,
    "start_time": "2022-06-15T08:48:28.410Z"
   },
   {
    "duration": 4,
    "start_time": "2022-06-15T08:48:28.426Z"
   },
   {
    "duration": 49,
    "start_time": "2022-06-15T08:48:28.432Z"
   },
   {
    "duration": 13,
    "start_time": "2022-06-15T08:48:28.483Z"
   },
   {
    "duration": 15,
    "start_time": "2022-06-15T08:48:28.497Z"
   },
   {
    "duration": 12,
    "start_time": "2022-06-15T08:48:28.513Z"
   },
   {
    "duration": 11,
    "start_time": "2022-06-15T08:48:28.526Z"
   },
   {
    "duration": 10,
    "start_time": "2022-06-15T08:48:28.538Z"
   },
   {
    "duration": 155,
    "start_time": "2022-06-15T08:48:28.550Z"
   },
   {
    "duration": 4,
    "start_time": "2022-06-15T08:48:28.707Z"
   },
   {
    "duration": 163,
    "start_time": "2022-06-15T08:48:28.713Z"
   },
   {
    "duration": 15,
    "start_time": "2022-06-15T08:48:28.877Z"
   },
   {
    "duration": 14,
    "start_time": "2022-06-15T08:48:28.896Z"
   },
   {
    "duration": 14,
    "start_time": "2022-06-15T08:48:28.912Z"
   },
   {
    "duration": 47,
    "start_time": "2022-06-15T08:48:28.928Z"
   },
   {
    "duration": 27,
    "start_time": "2022-06-15T08:48:28.977Z"
   },
   {
    "duration": 230,
    "start_time": "2022-06-15T08:48:29.007Z"
   },
   {
    "duration": 14,
    "start_time": "2022-06-15T08:48:29.239Z"
   },
   {
    "duration": 5,
    "start_time": "2022-06-15T08:48:29.265Z"
   },
   {
    "duration": 4,
    "start_time": "2022-06-15T08:48:29.273Z"
   },
   {
    "duration": 12,
    "start_time": "2022-06-15T08:48:29.279Z"
   },
   {
    "duration": 9,
    "start_time": "2022-06-15T08:48:29.292Z"
   },
   {
    "duration": 6,
    "start_time": "2022-06-15T08:48:29.303Z"
   },
   {
    "duration": 21,
    "start_time": "2022-06-15T08:48:29.311Z"
   },
   {
    "duration": 261,
    "start_time": "2022-06-15T08:48:29.333Z"
   },
   {
    "duration": 269,
    "start_time": "2022-06-15T08:48:29.596Z"
   },
   {
    "duration": 262,
    "start_time": "2022-06-15T08:48:29.867Z"
   },
   {
    "duration": 260,
    "start_time": "2022-06-15T08:48:30.131Z"
   },
   {
    "duration": 3,
    "start_time": "2022-06-15T08:48:30.393Z"
   },
   {
    "duration": 24,
    "start_time": "2022-06-15T08:48:30.398Z"
   },
   {
    "duration": 24,
    "start_time": "2022-06-15T08:48:30.424Z"
   },
   {
    "duration": 21,
    "start_time": "2022-06-15T08:48:30.450Z"
   },
   {
    "duration": 55,
    "start_time": "2022-06-15T08:48:30.472Z"
   },
   {
    "duration": 140,
    "start_time": "2022-06-15T08:48:30.528Z"
   },
   {
    "duration": 0,
    "start_time": "2022-06-15T08:48:30.670Z"
   },
   {
    "duration": 0,
    "start_time": "2022-06-15T08:48:30.671Z"
   },
   {
    "duration": 0,
    "start_time": "2022-06-15T08:48:30.672Z"
   },
   {
    "duration": 0,
    "start_time": "2022-06-15T08:48:30.674Z"
   },
   {
    "duration": 0,
    "start_time": "2022-06-15T08:48:30.675Z"
   },
   {
    "duration": 0,
    "start_time": "2022-06-15T08:48:30.676Z"
   },
   {
    "duration": 0,
    "start_time": "2022-06-15T08:48:30.677Z"
   },
   {
    "duration": 0,
    "start_time": "2022-06-15T08:48:30.678Z"
   },
   {
    "duration": 0,
    "start_time": "2022-06-15T08:48:30.679Z"
   },
   {
    "duration": 0,
    "start_time": "2022-06-15T08:48:30.679Z"
   },
   {
    "duration": 0,
    "start_time": "2022-06-15T08:48:30.680Z"
   },
   {
    "duration": 707,
    "start_time": "2022-06-15T08:49:07.389Z"
   },
   {
    "duration": 695,
    "start_time": "2022-06-15T08:49:35.405Z"
   },
   {
    "duration": 569,
    "start_time": "2022-06-15T08:49:44.639Z"
   },
   {
    "duration": 59,
    "start_time": "2022-06-15T08:49:45.210Z"
   },
   {
    "duration": 17,
    "start_time": "2022-06-15T08:49:45.272Z"
   },
   {
    "duration": 4,
    "start_time": "2022-06-15T08:49:45.292Z"
   },
   {
    "duration": 16,
    "start_time": "2022-06-15T08:49:45.298Z"
   },
   {
    "duration": 7,
    "start_time": "2022-06-15T08:49:45.316Z"
   },
   {
    "duration": 53,
    "start_time": "2022-06-15T08:49:45.325Z"
   },
   {
    "duration": 5,
    "start_time": "2022-06-15T08:49:45.380Z"
   },
   {
    "duration": 9,
    "start_time": "2022-06-15T08:49:45.387Z"
   },
   {
    "duration": 34,
    "start_time": "2022-06-15T08:49:45.398Z"
   },
   {
    "duration": 5,
    "start_time": "2022-06-15T08:49:45.433Z"
   },
   {
    "duration": 3,
    "start_time": "2022-06-15T08:49:45.465Z"
   },
   {
    "duration": 11,
    "start_time": "2022-06-15T08:49:45.470Z"
   },
   {
    "duration": 5,
    "start_time": "2022-06-15T08:49:45.483Z"
   },
   {
    "duration": 10,
    "start_time": "2022-06-15T08:49:45.491Z"
   },
   {
    "duration": 25,
    "start_time": "2022-06-15T08:49:45.503Z"
   },
   {
    "duration": 40,
    "start_time": "2022-06-15T08:49:45.530Z"
   },
   {
    "duration": 97,
    "start_time": "2022-06-15T08:49:45.572Z"
   },
   {
    "duration": 12,
    "start_time": "2022-06-15T08:49:45.671Z"
   },
   {
    "duration": 6,
    "start_time": "2022-06-15T08:49:45.685Z"
   },
   {
    "duration": 13,
    "start_time": "2022-06-15T08:49:45.693Z"
   },
   {
    "duration": 13,
    "start_time": "2022-06-15T08:49:45.708Z"
   },
   {
    "duration": 11,
    "start_time": "2022-06-15T08:49:45.722Z"
   },
   {
    "duration": 11,
    "start_time": "2022-06-15T08:49:45.734Z"
   },
   {
    "duration": 20,
    "start_time": "2022-06-15T08:49:45.747Z"
   },
   {
    "duration": 25,
    "start_time": "2022-06-15T08:49:45.769Z"
   },
   {
    "duration": 11,
    "start_time": "2022-06-15T08:49:45.797Z"
   },
   {
    "duration": 21,
    "start_time": "2022-06-15T08:49:45.813Z"
   },
   {
    "duration": 383,
    "start_time": "2022-06-15T08:49:45.837Z"
   },
   {
    "duration": 7,
    "start_time": "2022-06-15T08:49:46.222Z"
   },
   {
    "duration": 194,
    "start_time": "2022-06-15T08:49:46.231Z"
   },
   {
    "duration": 168,
    "start_time": "2022-06-15T08:49:46.427Z"
   },
   {
    "duration": 9,
    "start_time": "2022-06-15T08:49:46.598Z"
   },
   {
    "duration": 14,
    "start_time": "2022-06-15T08:49:46.609Z"
   },
   {
    "duration": 10,
    "start_time": "2022-06-15T08:49:46.626Z"
   },
   {
    "duration": 47,
    "start_time": "2022-06-15T08:49:46.638Z"
   },
   {
    "duration": 33,
    "start_time": "2022-06-15T08:49:46.687Z"
   },
   {
    "duration": 18,
    "start_time": "2022-06-15T08:49:46.722Z"
   },
   {
    "duration": 40,
    "start_time": "2022-06-15T08:49:46.741Z"
   },
   {
    "duration": 6,
    "start_time": "2022-06-15T08:49:46.783Z"
   },
   {
    "duration": 19,
    "start_time": "2022-06-15T08:49:46.791Z"
   },
   {
    "duration": 4,
    "start_time": "2022-06-15T08:49:46.811Z"
   },
   {
    "duration": 9,
    "start_time": "2022-06-15T08:49:46.817Z"
   },
   {
    "duration": 16,
    "start_time": "2022-06-15T08:49:46.828Z"
   },
   {
    "duration": 24,
    "start_time": "2022-06-15T08:49:46.845Z"
   },
   {
    "duration": 14,
    "start_time": "2022-06-15T08:49:46.871Z"
   },
   {
    "duration": 11,
    "start_time": "2022-06-15T08:49:46.887Z"
   },
   {
    "duration": 9,
    "start_time": "2022-06-15T08:49:46.900Z"
   },
   {
    "duration": 163,
    "start_time": "2022-06-15T08:49:46.910Z"
   },
   {
    "duration": 4,
    "start_time": "2022-06-15T08:49:47.076Z"
   },
   {
    "duration": 184,
    "start_time": "2022-06-15T08:49:47.083Z"
   },
   {
    "duration": 11,
    "start_time": "2022-06-15T08:49:47.269Z"
   },
   {
    "duration": 25,
    "start_time": "2022-06-15T08:49:47.281Z"
   },
   {
    "duration": 19,
    "start_time": "2022-06-15T08:49:47.308Z"
   },
   {
    "duration": 25,
    "start_time": "2022-06-15T08:49:47.329Z"
   },
   {
    "duration": 24,
    "start_time": "2022-06-15T08:49:47.356Z"
   },
   {
    "duration": 208,
    "start_time": "2022-06-15T08:49:47.382Z"
   },
   {
    "duration": 18,
    "start_time": "2022-06-15T08:49:47.592Z"
   },
   {
    "duration": 6,
    "start_time": "2022-06-15T08:49:47.614Z"
   },
   {
    "duration": 8,
    "start_time": "2022-06-15T08:49:47.622Z"
   },
   {
    "duration": 12,
    "start_time": "2022-06-15T08:49:47.632Z"
   },
   {
    "duration": 6,
    "start_time": "2022-06-15T08:49:47.665Z"
   },
   {
    "duration": 10,
    "start_time": "2022-06-15T08:49:47.672Z"
   },
   {
    "duration": 28,
    "start_time": "2022-06-15T08:49:47.684Z"
   },
   {
    "duration": 246,
    "start_time": "2022-06-15T08:49:47.714Z"
   },
   {
    "duration": 272,
    "start_time": "2022-06-15T08:49:47.965Z"
   },
   {
    "duration": 257,
    "start_time": "2022-06-15T08:49:48.238Z"
   },
   {
    "duration": 270,
    "start_time": "2022-06-15T08:49:48.496Z"
   },
   {
    "duration": 2,
    "start_time": "2022-06-15T08:49:48.768Z"
   },
   {
    "duration": 6,
    "start_time": "2022-06-15T08:49:48.772Z"
   },
   {
    "duration": 14,
    "start_time": "2022-06-15T08:49:48.780Z"
   },
   {
    "duration": 11,
    "start_time": "2022-06-15T08:49:48.796Z"
   },
   {
    "duration": 7,
    "start_time": "2022-06-15T08:49:48.809Z"
   },
   {
    "duration": 814,
    "start_time": "2022-06-15T08:49:48.817Z"
   },
   {
    "duration": 32,
    "start_time": "2022-06-15T08:49:49.634Z"
   },
   {
    "duration": 3024,
    "start_time": "2022-06-15T08:49:49.667Z"
   },
   {
    "duration": 7,
    "start_time": "2022-06-15T08:49:52.693Z"
   },
   {
    "duration": 7,
    "start_time": "2022-06-15T08:49:52.702Z"
   },
   {
    "duration": 32,
    "start_time": "2022-06-15T08:49:52.711Z"
   },
   {
    "duration": 38,
    "start_time": "2022-06-15T08:49:52.745Z"
   },
   {
    "duration": 5,
    "start_time": "2022-06-15T08:49:52.785Z"
   },
   {
    "duration": 14,
    "start_time": "2022-06-15T08:49:52.797Z"
   },
   {
    "duration": 163,
    "start_time": "2022-06-15T08:49:52.812Z"
   },
   {
    "duration": 9,
    "start_time": "2022-06-15T08:49:52.977Z"
   },
   {
    "duration": 50,
    "start_time": "2022-06-15T08:49:52.988Z"
   },
   {
    "duration": 750,
    "start_time": "2022-06-15T17:34:41.422Z"
   },
   {
    "duration": 32,
    "start_time": "2022-06-15T17:34:42.174Z"
   },
   {
    "duration": 18,
    "start_time": "2022-06-15T17:34:42.208Z"
   },
   {
    "duration": 4,
    "start_time": "2022-06-15T17:34:42.228Z"
   },
   {
    "duration": 21,
    "start_time": "2022-06-15T17:34:42.234Z"
   },
   {
    "duration": 15,
    "start_time": "2022-06-15T17:34:42.257Z"
   },
   {
    "duration": 22,
    "start_time": "2022-06-15T17:34:42.274Z"
   },
   {
    "duration": 18,
    "start_time": "2022-06-15T17:34:42.298Z"
   },
   {
    "duration": 24,
    "start_time": "2022-06-15T17:34:42.318Z"
   },
   {
    "duration": 35,
    "start_time": "2022-06-15T17:34:42.345Z"
   },
   {
    "duration": 5,
    "start_time": "2022-06-15T17:34:42.382Z"
   },
   {
    "duration": 6,
    "start_time": "2022-06-15T17:34:42.388Z"
   },
   {
    "duration": 14,
    "start_time": "2022-06-15T17:34:42.396Z"
   },
   {
    "duration": 6,
    "start_time": "2022-06-15T17:34:42.411Z"
   },
   {
    "duration": 10,
    "start_time": "2022-06-15T17:34:42.418Z"
   },
   {
    "duration": 15,
    "start_time": "2022-06-15T17:34:42.430Z"
   },
   {
    "duration": 14,
    "start_time": "2022-06-15T17:34:42.447Z"
   },
   {
    "duration": 103,
    "start_time": "2022-06-15T17:34:42.463Z"
   },
   {
    "duration": 11,
    "start_time": "2022-06-15T17:34:42.568Z"
   },
   {
    "duration": 6,
    "start_time": "2022-06-15T17:34:42.581Z"
   },
   {
    "duration": 13,
    "start_time": "2022-06-15T17:34:42.589Z"
   },
   {
    "duration": 10,
    "start_time": "2022-06-15T17:34:42.604Z"
   },
   {
    "duration": 3,
    "start_time": "2022-06-15T17:34:42.625Z"
   },
   {
    "duration": 8,
    "start_time": "2022-06-15T17:34:42.629Z"
   },
   {
    "duration": 34,
    "start_time": "2022-06-15T17:34:42.638Z"
   },
   {
    "duration": 22,
    "start_time": "2022-06-15T17:34:42.674Z"
   },
   {
    "duration": 23,
    "start_time": "2022-06-15T17:34:42.698Z"
   },
   {
    "duration": 17,
    "start_time": "2022-06-15T17:34:42.726Z"
   },
   {
    "duration": 549,
    "start_time": "2022-06-15T17:34:42.745Z"
   },
   {
    "duration": 7,
    "start_time": "2022-06-15T17:34:43.296Z"
   },
   {
    "duration": 181,
    "start_time": "2022-06-15T17:34:43.304Z"
   },
   {
    "duration": 133,
    "start_time": "2022-06-15T17:34:43.486Z"
   },
   {
    "duration": 5,
    "start_time": "2022-06-15T17:34:43.626Z"
   },
   {
    "duration": 10,
    "start_time": "2022-06-15T17:34:43.633Z"
   },
   {
    "duration": 10,
    "start_time": "2022-06-15T17:34:43.645Z"
   },
   {
    "duration": 28,
    "start_time": "2022-06-15T17:34:43.657Z"
   },
   {
    "duration": 53,
    "start_time": "2022-06-15T17:34:43.686Z"
   },
   {
    "duration": 17,
    "start_time": "2022-06-15T17:34:43.740Z"
   },
   {
    "duration": 16,
    "start_time": "2022-06-15T17:34:43.759Z"
   },
   {
    "duration": 5,
    "start_time": "2022-06-15T17:34:43.777Z"
   },
   {
    "duration": 15,
    "start_time": "2022-06-15T17:34:43.783Z"
   },
   {
    "duration": 28,
    "start_time": "2022-06-15T17:34:43.799Z"
   },
   {
    "duration": 7,
    "start_time": "2022-06-15T17:34:43.829Z"
   },
   {
    "duration": 10,
    "start_time": "2022-06-15T17:34:43.837Z"
   },
   {
    "duration": 13,
    "start_time": "2022-06-15T17:34:43.848Z"
   },
   {
    "duration": 10,
    "start_time": "2022-06-15T17:34:43.863Z"
   },
   {
    "duration": 12,
    "start_time": "2022-06-15T17:34:43.875Z"
   },
   {
    "duration": 44,
    "start_time": "2022-06-15T17:34:43.889Z"
   },
   {
    "duration": 133,
    "start_time": "2022-06-15T17:34:43.934Z"
   },
   {
    "duration": 4,
    "start_time": "2022-06-15T17:34:44.069Z"
   },
   {
    "duration": 158,
    "start_time": "2022-06-15T17:34:44.075Z"
   },
   {
    "duration": 14,
    "start_time": "2022-06-15T17:34:44.235Z"
   },
   {
    "duration": 14,
    "start_time": "2022-06-15T17:34:44.252Z"
   },
   {
    "duration": 12,
    "start_time": "2022-06-15T17:34:44.267Z"
   },
   {
    "duration": 11,
    "start_time": "2022-06-15T17:34:44.281Z"
   },
   {
    "duration": 48,
    "start_time": "2022-06-15T17:34:44.294Z"
   },
   {
    "duration": 263,
    "start_time": "2022-06-15T17:34:44.343Z"
   },
   {
    "duration": 22,
    "start_time": "2022-06-15T17:34:44.609Z"
   },
   {
    "duration": 6,
    "start_time": "2022-06-15T17:34:44.633Z"
   },
   {
    "duration": 17,
    "start_time": "2022-06-15T17:34:44.641Z"
   },
   {
    "duration": 9,
    "start_time": "2022-06-15T17:34:44.660Z"
   },
   {
    "duration": 12,
    "start_time": "2022-06-15T17:34:44.671Z"
   },
   {
    "duration": 9,
    "start_time": "2022-06-15T17:34:44.684Z"
   },
   {
    "duration": 32,
    "start_time": "2022-06-15T17:34:44.695Z"
   },
   {
    "duration": 231,
    "start_time": "2022-06-15T17:34:44.728Z"
   },
   {
    "duration": 266,
    "start_time": "2022-06-15T17:34:44.960Z"
   },
   {
    "duration": 251,
    "start_time": "2022-06-15T17:34:45.227Z"
   },
   {
    "duration": 246,
    "start_time": "2022-06-15T17:34:45.480Z"
   },
   {
    "duration": 2,
    "start_time": "2022-06-15T17:34:45.728Z"
   },
   {
    "duration": 20,
    "start_time": "2022-06-15T17:34:45.732Z"
   },
   {
    "duration": 18,
    "start_time": "2022-06-15T17:34:45.754Z"
   },
   {
    "duration": 23,
    "start_time": "2022-06-15T17:34:45.774Z"
   },
   {
    "duration": 8,
    "start_time": "2022-06-15T17:34:45.799Z"
   },
   {
    "duration": 1024,
    "start_time": "2022-06-15T17:34:45.808Z"
   },
   {
    "duration": 20,
    "start_time": "2022-06-15T17:34:46.834Z"
   },
   {
    "duration": 2911,
    "start_time": "2022-06-15T17:34:46.856Z"
   },
   {
    "duration": 8,
    "start_time": "2022-06-15T17:34:49.770Z"
   },
   {
    "duration": 15,
    "start_time": "2022-06-15T17:34:49.779Z"
   },
   {
    "duration": 40,
    "start_time": "2022-06-15T17:34:49.796Z"
   },
   {
    "duration": 23,
    "start_time": "2022-06-15T17:34:49.837Z"
   },
   {
    "duration": 5,
    "start_time": "2022-06-15T17:34:49.862Z"
   },
   {
    "duration": 23,
    "start_time": "2022-06-15T17:34:49.873Z"
   },
   {
    "duration": 163,
    "start_time": "2022-06-15T17:34:49.898Z"
   },
   {
    "duration": 10,
    "start_time": "2022-06-15T17:34:50.063Z"
   },
   {
    "duration": 24,
    "start_time": "2022-06-15T17:34:50.075Z"
   },
   {
    "duration": 67,
    "start_time": "2022-06-15T17:34:57.179Z"
   },
   {
    "duration": 8,
    "start_time": "2022-06-15T17:36:36.678Z"
   },
   {
    "duration": 40,
    "start_time": "2022-06-22T04:15:41.081Z"
   },
   {
    "duration": 537,
    "start_time": "2022-06-22T04:15:52.200Z"
   },
   {
    "duration": 26,
    "start_time": "2022-06-22T04:15:52.739Z"
   },
   {
    "duration": 12,
    "start_time": "2022-06-22T04:15:52.766Z"
   },
   {
    "duration": 3,
    "start_time": "2022-06-22T04:15:52.780Z"
   },
   {
    "duration": 11,
    "start_time": "2022-06-22T04:15:52.784Z"
   },
   {
    "duration": 5,
    "start_time": "2022-06-22T04:15:52.797Z"
   },
   {
    "duration": 13,
    "start_time": "2022-06-22T04:15:52.829Z"
   },
   {
    "duration": 5,
    "start_time": "2022-06-22T04:15:52.843Z"
   },
   {
    "duration": 7,
    "start_time": "2022-06-22T04:15:52.850Z"
   },
   {
    "duration": 26,
    "start_time": "2022-06-22T04:15:52.860Z"
   },
   {
    "duration": 4,
    "start_time": "2022-06-22T04:15:52.887Z"
   },
   {
    "duration": 4,
    "start_time": "2022-06-22T04:15:52.892Z"
   },
   {
    "duration": 32,
    "start_time": "2022-06-22T04:15:52.897Z"
   },
   {
    "duration": 4,
    "start_time": "2022-06-22T04:15:52.930Z"
   },
   {
    "duration": 11,
    "start_time": "2022-06-22T04:15:52.935Z"
   },
   {
    "duration": 4,
    "start_time": "2022-06-22T04:15:52.947Z"
   },
   {
    "duration": 13,
    "start_time": "2022-06-22T04:15:52.953Z"
   },
   {
    "duration": 11,
    "start_time": "2022-06-22T04:15:52.968Z"
   },
   {
    "duration": 99,
    "start_time": "2022-06-22T04:15:52.980Z"
   },
   {
    "duration": 10,
    "start_time": "2022-06-22T04:15:53.080Z"
   },
   {
    "duration": 5,
    "start_time": "2022-06-22T04:15:53.091Z"
   },
   {
    "duration": 9,
    "start_time": "2022-06-22T04:15:53.097Z"
   },
   {
    "duration": 4,
    "start_time": "2022-06-22T04:15:53.107Z"
   },
   {
    "duration": 17,
    "start_time": "2022-06-22T04:15:53.112Z"
   },
   {
    "duration": 6,
    "start_time": "2022-06-22T04:15:53.130Z"
   },
   {
    "duration": 9,
    "start_time": "2022-06-22T04:15:53.137Z"
   },
   {
    "duration": 12,
    "start_time": "2022-06-22T04:15:53.147Z"
   },
   {
    "duration": 9,
    "start_time": "2022-06-22T04:15:53.163Z"
   },
   {
    "duration": 13,
    "start_time": "2022-06-22T04:15:53.174Z"
   },
   {
    "duration": 475,
    "start_time": "2022-06-22T04:15:53.188Z"
   },
   {
    "duration": 5,
    "start_time": "2022-06-22T04:15:53.666Z"
   },
   {
    "duration": 167,
    "start_time": "2022-06-22T04:15:53.672Z"
   },
   {
    "duration": 115,
    "start_time": "2022-06-22T04:15:53.841Z"
   },
   {
    "duration": 6,
    "start_time": "2022-06-22T04:15:53.957Z"
   },
   {
    "duration": 12,
    "start_time": "2022-06-22T04:15:53.964Z"
   },
   {
    "duration": 7,
    "start_time": "2022-06-22T04:15:53.977Z"
   },
   {
    "duration": 17,
    "start_time": "2022-06-22T04:15:53.985Z"
   },
   {
    "duration": 46,
    "start_time": "2022-06-22T04:15:54.004Z"
   },
   {
    "duration": 15,
    "start_time": "2022-06-22T04:15:54.052Z"
   },
   {
    "duration": 15,
    "start_time": "2022-06-22T04:15:54.068Z"
   },
   {
    "duration": 4,
    "start_time": "2022-06-22T04:15:54.084Z"
   },
   {
    "duration": 11,
    "start_time": "2022-06-22T04:15:54.089Z"
   },
   {
    "duration": 28,
    "start_time": "2022-06-22T04:15:54.101Z"
   },
   {
    "duration": 2,
    "start_time": "2022-06-22T04:15:54.130Z"
   },
   {
    "duration": 7,
    "start_time": "2022-06-22T04:15:54.134Z"
   },
   {
    "duration": 9,
    "start_time": "2022-06-22T04:15:54.142Z"
   },
   {
    "duration": 9,
    "start_time": "2022-06-22T04:15:54.152Z"
   },
   {
    "duration": 10,
    "start_time": "2022-06-22T04:15:54.162Z"
   },
   {
    "duration": 9,
    "start_time": "2022-06-22T04:15:54.173Z"
   },
   {
    "duration": 140,
    "start_time": "2022-06-22T04:15:54.183Z"
   },
   {
    "duration": 7,
    "start_time": "2022-06-22T04:15:54.324Z"
   },
   {
    "duration": 138,
    "start_time": "2022-06-22T04:15:54.332Z"
   },
   {
    "duration": 10,
    "start_time": "2022-06-22T04:15:54.471Z"
   },
   {
    "duration": 10,
    "start_time": "2022-06-22T04:15:54.482Z"
   },
   {
    "duration": 9,
    "start_time": "2022-06-22T04:15:54.494Z"
   },
   {
    "duration": 33,
    "start_time": "2022-06-22T04:15:54.504Z"
   },
   {
    "duration": 15,
    "start_time": "2022-06-22T04:15:54.539Z"
   },
   {
    "duration": 161,
    "start_time": "2022-06-22T04:15:54.555Z"
   },
   {
    "duration": 19,
    "start_time": "2022-06-22T04:15:54.718Z"
   },
   {
    "duration": 5,
    "start_time": "2022-06-22T04:15:54.738Z"
   },
   {
    "duration": 6,
    "start_time": "2022-06-22T04:15:54.744Z"
   },
   {
    "duration": 5,
    "start_time": "2022-06-22T04:15:54.751Z"
   },
   {
    "duration": 7,
    "start_time": "2022-06-22T04:15:54.757Z"
   },
   {
    "duration": 4,
    "start_time": "2022-06-22T04:15:54.765Z"
   },
   {
    "duration": 18,
    "start_time": "2022-06-22T04:15:54.770Z"
   },
   {
    "duration": 216,
    "start_time": "2022-06-22T04:15:54.790Z"
   },
   {
    "duration": 229,
    "start_time": "2022-06-22T04:15:55.007Z"
   },
   {
    "duration": 210,
    "start_time": "2022-06-22T04:15:55.238Z"
   },
   {
    "duration": 214,
    "start_time": "2022-06-22T04:15:55.449Z"
   },
   {
    "duration": 2,
    "start_time": "2022-06-22T04:15:55.665Z"
   },
   {
    "duration": 20,
    "start_time": "2022-06-22T04:15:55.669Z"
   },
   {
    "duration": 15,
    "start_time": "2022-06-22T04:15:55.690Z"
   },
   {
    "duration": 14,
    "start_time": "2022-06-22T04:15:55.706Z"
   },
   {
    "duration": 8,
    "start_time": "2022-06-22T04:15:55.721Z"
   },
   {
    "duration": 656,
    "start_time": "2022-06-22T04:15:55.731Z"
   },
   {
    "duration": 17,
    "start_time": "2022-06-22T04:15:56.389Z"
   },
   {
    "duration": 2649,
    "start_time": "2022-06-22T04:15:56.407Z"
   },
   {
    "duration": 6,
    "start_time": "2022-06-22T04:15:59.057Z"
   },
   {
    "duration": 10,
    "start_time": "2022-06-22T04:15:59.064Z"
   },
   {
    "duration": 27,
    "start_time": "2022-06-22T04:15:59.076Z"
   },
   {
    "duration": 29,
    "start_time": "2022-06-22T04:15:59.104Z"
   },
   {
    "duration": 4,
    "start_time": "2022-06-22T04:15:59.138Z"
   },
   {
    "duration": 17,
    "start_time": "2022-06-22T04:15:59.143Z"
   },
   {
    "duration": 132,
    "start_time": "2022-06-22T04:15:59.161Z"
   },
   {
    "duration": 7,
    "start_time": "2022-06-22T04:15:59.294Z"
   },
   {
    "duration": 11,
    "start_time": "2022-06-22T04:15:59.303Z"
   },
   {
    "duration": 263,
    "start_time": "2022-06-22T04:17:37.420Z"
   },
   {
    "duration": 61,
    "start_time": "2022-06-22T04:18:42.411Z"
   },
   {
    "duration": 7,
    "start_time": "2022-06-22T04:19:14.449Z"
   },
   {
    "duration": 181,
    "start_time": "2022-06-22T04:19:37.058Z"
   },
   {
    "duration": 8,
    "start_time": "2022-06-22T04:19:54.497Z"
   },
   {
    "duration": 381,
    "start_time": "2022-06-22T04:20:13.167Z"
   },
   {
    "duration": 111,
    "start_time": "2022-06-22T04:20:25.535Z"
   },
   {
    "duration": 134,
    "start_time": "2022-06-22T04:20:36.503Z"
   },
   {
    "duration": 1155,
    "start_time": "2022-06-22T04:20:43.878Z"
   },
   {
    "duration": 181,
    "start_time": "2022-06-22T04:20:48.367Z"
   },
   {
    "duration": 3,
    "start_time": "2022-06-22T04:23:04.662Z"
   },
   {
    "duration": 4,
    "start_time": "2022-06-22T04:23:31.283Z"
   },
   {
    "duration": 5,
    "start_time": "2022-06-22T04:23:52.457Z"
   },
   {
    "duration": 4,
    "start_time": "2022-06-22T04:25:41.280Z"
   },
   {
    "duration": 4,
    "start_time": "2022-06-22T04:26:05.712Z"
   },
   {
    "duration": 4,
    "start_time": "2022-06-22T04:27:40.733Z"
   },
   {
    "duration": 4,
    "start_time": "2022-06-22T04:27:48.596Z"
   },
   {
    "duration": 5,
    "start_time": "2022-06-22T04:28:17.276Z"
   },
   {
    "duration": 4,
    "start_time": "2022-06-22T04:28:27.925Z"
   },
   {
    "duration": 7,
    "start_time": "2022-06-22T04:29:48.452Z"
   },
   {
    "duration": 4,
    "start_time": "2022-06-22T04:30:00.204Z"
   },
   {
    "duration": 181,
    "start_time": "2022-06-22T04:30:07.954Z"
   },
   {
    "duration": 174,
    "start_time": "2022-06-22T04:30:13.499Z"
   },
   {
    "duration": 2,
    "start_time": "2022-06-22T04:30:48.313Z"
   },
   {
    "duration": 182,
    "start_time": "2022-06-22T04:30:52.464Z"
   },
   {
    "duration": 486,
    "start_time": "2022-06-22T04:31:02.230Z"
   },
   {
    "duration": 28,
    "start_time": "2022-06-22T04:31:02.718Z"
   },
   {
    "duration": 13,
    "start_time": "2022-06-22T04:31:02.747Z"
   },
   {
    "duration": 4,
    "start_time": "2022-06-22T04:31:02.762Z"
   },
   {
    "duration": 10,
    "start_time": "2022-06-22T04:31:02.767Z"
   },
   {
    "duration": 5,
    "start_time": "2022-06-22T04:31:02.779Z"
   },
   {
    "duration": 12,
    "start_time": "2022-06-22T04:31:02.786Z"
   },
   {
    "duration": 29,
    "start_time": "2022-06-22T04:31:02.800Z"
   },
   {
    "duration": 4,
    "start_time": "2022-06-22T04:31:02.830Z"
   },
   {
    "duration": 31,
    "start_time": "2022-06-22T04:31:02.836Z"
   },
   {
    "duration": 5,
    "start_time": "2022-06-22T04:31:02.868Z"
   },
   {
    "duration": 5,
    "start_time": "2022-06-22T04:31:02.875Z"
   },
   {
    "duration": 11,
    "start_time": "2022-06-22T04:31:02.882Z"
   },
   {
    "duration": 7,
    "start_time": "2022-06-22T04:31:02.894Z"
   },
   {
    "duration": 28,
    "start_time": "2022-06-22T04:31:02.902Z"
   },
   {
    "duration": 405,
    "start_time": "2022-06-22T04:31:02.931Z"
   },
   {
    "duration": 3,
    "start_time": "2022-06-22T04:31:03.338Z"
   },
   {
    "duration": 5,
    "start_time": "2022-06-22T04:31:03.342Z"
   },
   {
    "duration": 6,
    "start_time": "2022-06-22T04:31:03.348Z"
   },
   {
    "duration": 13,
    "start_time": "2022-06-22T04:31:03.356Z"
   },
   {
    "duration": 11,
    "start_time": "2022-06-22T04:31:03.371Z"
   },
   {
    "duration": 108,
    "start_time": "2022-06-22T04:31:03.383Z"
   },
   {
    "duration": 10,
    "start_time": "2022-06-22T04:31:03.492Z"
   },
   {
    "duration": 5,
    "start_time": "2022-06-22T04:31:03.503Z"
   },
   {
    "duration": 20,
    "start_time": "2022-06-22T04:31:03.509Z"
   },
   {
    "duration": 1,
    "start_time": "2022-06-22T04:31:03.531Z"
   },
   {
    "duration": 6,
    "start_time": "2022-06-22T04:31:03.534Z"
   },
   {
    "duration": 5,
    "start_time": "2022-06-22T04:31:03.544Z"
   },
   {
    "duration": 7,
    "start_time": "2022-06-22T04:31:03.550Z"
   },
   {
    "duration": 10,
    "start_time": "2022-06-22T04:31:03.558Z"
   },
   {
    "duration": 6,
    "start_time": "2022-06-22T04:31:03.569Z"
   },
   {
    "duration": 6,
    "start_time": "2022-06-22T04:31:03.577Z"
   },
   {
    "duration": 173,
    "start_time": "2022-06-22T04:31:03.584Z"
   },
   {
    "duration": 5,
    "start_time": "2022-06-22T04:31:03.759Z"
   },
   {
    "duration": 167,
    "start_time": "2022-06-22T04:31:03.765Z"
   },
   {
    "duration": 123,
    "start_time": "2022-06-22T04:31:03.933Z"
   },
   {
    "duration": 5,
    "start_time": "2022-06-22T04:31:04.057Z"
   },
   {
    "duration": 9,
    "start_time": "2022-06-22T04:31:04.063Z"
   },
   {
    "duration": 7,
    "start_time": "2022-06-22T04:31:04.073Z"
   },
   {
    "duration": 16,
    "start_time": "2022-06-22T04:31:04.081Z"
   },
   {
    "duration": 27,
    "start_time": "2022-06-22T04:31:04.129Z"
   },
   {
    "duration": 15,
    "start_time": "2022-06-22T04:31:04.157Z"
   },
   {
    "duration": 14,
    "start_time": "2022-06-22T04:31:04.173Z"
   },
   {
    "duration": 3,
    "start_time": "2022-06-22T04:31:04.188Z"
   },
   {
    "duration": 42,
    "start_time": "2022-06-22T04:31:04.192Z"
   },
   {
    "duration": 3,
    "start_time": "2022-06-22T04:31:04.235Z"
   },
   {
    "duration": 4,
    "start_time": "2022-06-22T04:31:04.239Z"
   },
   {
    "duration": 9,
    "start_time": "2022-06-22T04:31:04.244Z"
   },
   {
    "duration": 8,
    "start_time": "2022-06-22T04:31:04.254Z"
   },
   {
    "duration": 9,
    "start_time": "2022-06-22T04:31:04.263Z"
   },
   {
    "duration": 9,
    "start_time": "2022-06-22T04:31:04.273Z"
   },
   {
    "duration": 53,
    "start_time": "2022-06-22T04:31:04.283Z"
   },
   {
    "duration": 120,
    "start_time": "2022-06-22T04:31:04.337Z"
   },
   {
    "duration": 4,
    "start_time": "2022-06-22T04:31:04.458Z"
   },
   {
    "duration": 172,
    "start_time": "2022-06-22T04:31:04.463Z"
   },
   {
    "duration": 9,
    "start_time": "2022-06-22T04:31:04.637Z"
   },
   {
    "duration": 8,
    "start_time": "2022-06-22T04:31:04.647Z"
   },
   {
    "duration": 17,
    "start_time": "2022-06-22T04:31:04.656Z"
   },
   {
    "duration": 9,
    "start_time": "2022-06-22T04:31:04.674Z"
   },
   {
    "duration": 46,
    "start_time": "2022-06-22T04:31:04.684Z"
   },
   {
    "duration": 111,
    "start_time": "2022-06-22T04:31:04.732Z"
   },
   {
    "duration": 10,
    "start_time": "2022-06-22T04:31:04.845Z"
   },
   {
    "duration": 4,
    "start_time": "2022-06-22T04:31:04.857Z"
   },
   {
    "duration": 4,
    "start_time": "2022-06-22T04:31:04.864Z"
   },
   {
    "duration": 6,
    "start_time": "2022-06-22T04:31:04.870Z"
   },
   {
    "duration": 6,
    "start_time": "2022-06-22T04:31:04.878Z"
   },
   {
    "duration": 3,
    "start_time": "2022-06-22T04:31:04.886Z"
   },
   {
    "duration": 50,
    "start_time": "2022-06-22T04:31:04.890Z"
   },
   {
    "duration": 209,
    "start_time": "2022-06-22T04:31:04.941Z"
   },
   {
    "duration": 229,
    "start_time": "2022-06-22T04:31:05.152Z"
   },
   {
    "duration": 239,
    "start_time": "2022-06-22T04:31:05.383Z"
   },
   {
    "duration": 217,
    "start_time": "2022-06-22T04:31:05.624Z"
   },
   {
    "duration": 2,
    "start_time": "2022-06-22T04:31:05.843Z"
   },
   {
    "duration": 5,
    "start_time": "2022-06-22T04:31:05.846Z"
   },
   {
    "duration": 10,
    "start_time": "2022-06-22T04:31:05.852Z"
   },
   {
    "duration": 9,
    "start_time": "2022-06-22T04:31:05.863Z"
   },
   {
    "duration": 6,
    "start_time": "2022-06-22T04:31:05.873Z"
   },
   {
    "duration": 642,
    "start_time": "2022-06-22T04:31:05.880Z"
   },
   {
    "duration": 16,
    "start_time": "2022-06-22T04:31:06.528Z"
   },
   {
    "duration": 2701,
    "start_time": "2022-06-22T04:31:06.545Z"
   },
   {
    "duration": 7,
    "start_time": "2022-06-22T04:31:09.247Z"
   },
   {
    "duration": 3,
    "start_time": "2022-06-22T04:31:09.260Z"
   },
   {
    "duration": 27,
    "start_time": "2022-06-22T04:31:09.264Z"
   },
   {
    "duration": 56,
    "start_time": "2022-06-22T04:31:09.293Z"
   },
   {
    "duration": 6,
    "start_time": "2022-06-22T04:31:09.351Z"
   },
   {
    "duration": 20,
    "start_time": "2022-06-22T04:31:09.359Z"
   },
   {
    "duration": 136,
    "start_time": "2022-06-22T04:31:09.381Z"
   },
   {
    "duration": 15,
    "start_time": "2022-06-22T04:31:09.519Z"
   },
   {
    "duration": 11,
    "start_time": "2022-06-22T04:31:09.535Z"
   },
   {
    "duration": 88,
    "start_time": "2022-06-22T04:34:24.364Z"
   },
   {
    "duration": 7,
    "start_time": "2022-06-22T04:36:12.415Z"
   },
   {
    "duration": 73,
    "start_time": "2022-06-22T04:37:16.055Z"
   },
   {
    "duration": 72,
    "start_time": "2022-06-22T04:37:26.389Z"
   },
   {
    "duration": 5,
    "start_time": "2022-06-22T04:37:31.182Z"
   },
   {
    "duration": 325,
    "start_time": "2022-06-22T04:37:35.741Z"
   },
   {
    "duration": 8,
    "start_time": "2022-06-22T04:43:27.205Z"
   },
   {
    "duration": 9,
    "start_time": "2022-06-22T04:43:35.452Z"
   },
   {
    "duration": 530,
    "start_time": "2022-06-22T04:43:46.251Z"
   },
   {
    "duration": 30,
    "start_time": "2022-06-22T04:43:46.783Z"
   },
   {
    "duration": 25,
    "start_time": "2022-06-22T04:43:46.815Z"
   },
   {
    "duration": 4,
    "start_time": "2022-06-22T04:43:46.842Z"
   },
   {
    "duration": 16,
    "start_time": "2022-06-22T04:43:46.848Z"
   },
   {
    "duration": 8,
    "start_time": "2022-06-22T04:43:46.865Z"
   },
   {
    "duration": 16,
    "start_time": "2022-06-22T04:43:46.875Z"
   },
   {
    "duration": 6,
    "start_time": "2022-06-22T04:43:46.893Z"
   },
   {
    "duration": 31,
    "start_time": "2022-06-22T04:43:46.901Z"
   },
   {
    "duration": 32,
    "start_time": "2022-06-22T04:43:46.935Z"
   },
   {
    "duration": 5,
    "start_time": "2022-06-22T04:43:46.968Z"
   },
   {
    "duration": 4,
    "start_time": "2022-06-22T04:43:46.975Z"
   },
   {
    "duration": 7,
    "start_time": "2022-06-22T04:43:46.981Z"
   },
   {
    "duration": 7,
    "start_time": "2022-06-22T04:43:46.990Z"
   },
   {
    "duration": 31,
    "start_time": "2022-06-22T04:43:46.999Z"
   },
   {
    "duration": 413,
    "start_time": "2022-06-22T04:43:47.031Z"
   },
   {
    "duration": 3,
    "start_time": "2022-06-22T04:43:47.445Z"
   },
   {
    "duration": 16,
    "start_time": "2022-06-22T04:43:47.450Z"
   },
   {
    "duration": 14,
    "start_time": "2022-06-22T04:43:47.467Z"
   },
   {
    "duration": 4,
    "start_time": "2022-06-22T04:43:47.483Z"
   },
   {
    "duration": 14,
    "start_time": "2022-06-22T04:43:47.488Z"
   },
   {
    "duration": 27,
    "start_time": "2022-06-22T04:43:47.503Z"
   },
   {
    "duration": 69,
    "start_time": "2022-06-22T04:43:47.532Z"
   },
   {
    "duration": 27,
    "start_time": "2022-06-22T04:43:47.602Z"
   },
   {
    "duration": 5,
    "start_time": "2022-06-22T04:43:47.631Z"
   },
   {
    "duration": 8,
    "start_time": "2022-06-22T04:43:47.638Z"
   },
   {
    "duration": 3,
    "start_time": "2022-06-22T04:43:47.648Z"
   },
   {
    "duration": 6,
    "start_time": "2022-06-22T04:43:47.655Z"
   },
   {
    "duration": 6,
    "start_time": "2022-06-22T04:43:47.662Z"
   },
   {
    "duration": 13,
    "start_time": "2022-06-22T04:43:47.669Z"
   },
   {
    "duration": 21,
    "start_time": "2022-06-22T04:43:47.683Z"
   },
   {
    "duration": 26,
    "start_time": "2022-06-22T04:43:47.705Z"
   },
   {
    "duration": 13,
    "start_time": "2022-06-22T04:43:47.733Z"
   },
   {
    "duration": 132,
    "start_time": "2022-06-22T04:43:47.747Z"
   },
   {
    "duration": 6,
    "start_time": "2022-06-22T04:43:47.881Z"
   },
   {
    "duration": 172,
    "start_time": "2022-06-22T04:43:47.888Z"
   },
   {
    "duration": 119,
    "start_time": "2022-06-22T04:43:48.061Z"
   },
   {
    "duration": 6,
    "start_time": "2022-06-22T04:43:48.181Z"
   },
   {
    "duration": 10,
    "start_time": "2022-06-22T04:43:48.188Z"
   },
   {
    "duration": 7,
    "start_time": "2022-06-22T04:43:48.199Z"
   },
   {
    "duration": 29,
    "start_time": "2022-06-22T04:43:48.207Z"
   },
   {
    "duration": 27,
    "start_time": "2022-06-22T04:43:48.237Z"
   },
   {
    "duration": 18,
    "start_time": "2022-06-22T04:43:48.266Z"
   },
   {
    "duration": 15,
    "start_time": "2022-06-22T04:43:48.286Z"
   },
   {
    "duration": 4,
    "start_time": "2022-06-22T04:43:48.302Z"
   },
   {
    "duration": 9,
    "start_time": "2022-06-22T04:43:48.329Z"
   },
   {
    "duration": 3,
    "start_time": "2022-06-22T04:43:48.340Z"
   },
   {
    "duration": 4,
    "start_time": "2022-06-22T04:43:48.344Z"
   },
   {
    "duration": 9,
    "start_time": "2022-06-22T04:43:48.350Z"
   },
   {
    "duration": 16,
    "start_time": "2022-06-22T04:43:48.360Z"
   },
   {
    "duration": 15,
    "start_time": "2022-06-22T04:43:48.377Z"
   },
   {
    "duration": 37,
    "start_time": "2022-06-22T04:43:48.394Z"
   },
   {
    "duration": 12,
    "start_time": "2022-06-22T04:43:48.432Z"
   },
   {
    "duration": 120,
    "start_time": "2022-06-22T04:43:48.445Z"
   },
   {
    "duration": 4,
    "start_time": "2022-06-22T04:43:48.567Z"
   },
   {
    "duration": 181,
    "start_time": "2022-06-22T04:43:48.572Z"
   },
   {
    "duration": 11,
    "start_time": "2022-06-22T04:43:48.754Z"
   },
   {
    "duration": 11,
    "start_time": "2022-06-22T04:43:48.766Z"
   },
   {
    "duration": 8,
    "start_time": "2022-06-22T04:43:48.778Z"
   },
   {
    "duration": 11,
    "start_time": "2022-06-22T04:43:48.788Z"
   },
   {
    "duration": 16,
    "start_time": "2022-06-22T04:43:48.828Z"
   },
   {
    "duration": 110,
    "start_time": "2022-06-22T04:43:48.845Z"
   },
   {
    "duration": 10,
    "start_time": "2022-06-22T04:43:48.957Z"
   },
   {
    "duration": 6,
    "start_time": "2022-06-22T04:43:48.968Z"
   },
   {
    "duration": 8,
    "start_time": "2022-06-22T04:43:48.975Z"
   },
   {
    "duration": 12,
    "start_time": "2022-06-22T04:43:48.985Z"
   },
   {
    "duration": 5,
    "start_time": "2022-06-22T04:43:48.999Z"
   },
   {
    "duration": 4,
    "start_time": "2022-06-22T04:43:49.006Z"
   },
   {
    "duration": 29,
    "start_time": "2022-06-22T04:43:49.011Z"
   },
   {
    "duration": 250,
    "start_time": "2022-06-22T04:43:49.041Z"
   },
   {
    "duration": 275,
    "start_time": "2022-06-22T04:43:49.293Z"
   },
   {
    "duration": 233,
    "start_time": "2022-06-22T04:43:49.570Z"
   },
   {
    "duration": 209,
    "start_time": "2022-06-22T04:43:49.805Z"
   },
   {
    "duration": 3,
    "start_time": "2022-06-22T04:43:50.015Z"
   },
   {
    "duration": 12,
    "start_time": "2022-06-22T04:43:50.020Z"
   },
   {
    "duration": 12,
    "start_time": "2022-06-22T04:43:50.033Z"
   },
   {
    "duration": 13,
    "start_time": "2022-06-22T04:43:50.046Z"
   },
   {
    "duration": 6,
    "start_time": "2022-06-22T04:43:50.060Z"
   },
   {
    "duration": 626,
    "start_time": "2022-06-22T04:43:50.068Z"
   },
   {
    "duration": 16,
    "start_time": "2022-06-22T04:43:50.696Z"
   },
   {
    "duration": 2702,
    "start_time": "2022-06-22T04:43:50.713Z"
   },
   {
    "duration": 11,
    "start_time": "2022-06-22T04:43:53.438Z"
   },
   {
    "duration": 3,
    "start_time": "2022-06-22T04:43:53.451Z"
   },
   {
    "duration": 26,
    "start_time": "2022-06-22T04:43:53.456Z"
   },
   {
    "duration": 19,
    "start_time": "2022-06-22T04:43:53.484Z"
   },
   {
    "duration": 27,
    "start_time": "2022-06-22T04:43:53.505Z"
   },
   {
    "duration": 14,
    "start_time": "2022-06-22T04:43:53.534Z"
   },
   {
    "duration": 138,
    "start_time": "2022-06-22T04:43:53.550Z"
   },
   {
    "duration": 11,
    "start_time": "2022-06-22T04:43:53.690Z"
   },
   {
    "duration": 26,
    "start_time": "2022-06-22T04:43:53.703Z"
   },
   {
    "duration": 341,
    "start_time": "2022-06-22T04:44:18.204Z"
   },
   {
    "duration": 3,
    "start_time": "2022-06-22T04:45:07.003Z"
   },
   {
    "duration": 74,
    "start_time": "2022-06-22T04:49:22.565Z"
   },
   {
    "duration": 6,
    "start_time": "2022-06-22T04:49:45.424Z"
   },
   {
    "duration": 213,
    "start_time": "2022-06-22T04:49:49.516Z"
   },
   {
    "duration": 11,
    "start_time": "2022-06-22T04:50:19.327Z"
   },
   {
    "duration": 9,
    "start_time": "2022-06-22T04:55:57.724Z"
   },
   {
    "duration": 7,
    "start_time": "2022-06-22T04:56:06.255Z"
   },
   {
    "duration": 4,
    "start_time": "2022-06-22T04:56:14.947Z"
   },
   {
    "duration": 8,
    "start_time": "2022-06-22T04:58:08.057Z"
   },
   {
    "duration": 7,
    "start_time": "2022-06-22T04:59:46.649Z"
   },
   {
    "duration": 14,
    "start_time": "2022-06-22T04:59:53.935Z"
   },
   {
    "duration": 4,
    "start_time": "2022-06-22T05:00:11.230Z"
   },
   {
    "duration": 8,
    "start_time": "2022-06-22T05:10:38.843Z"
   },
   {
    "duration": 10,
    "start_time": "2022-06-22T05:13:30.523Z"
   },
   {
    "duration": 6,
    "start_time": "2022-06-22T05:14:09.660Z"
   },
   {
    "duration": 8,
    "start_time": "2022-06-22T05:14:52.614Z"
   },
   {
    "duration": 479,
    "start_time": "2022-06-22T05:15:04.906Z"
   },
   {
    "duration": 79,
    "start_time": "2022-06-22T05:26:39.580Z"
   },
   {
    "duration": 5,
    "start_time": "2022-06-22T05:26:50.742Z"
   },
   {
    "duration": 502,
    "start_time": "2022-06-22T05:27:06.852Z"
   },
   {
    "duration": 29,
    "start_time": "2022-06-22T05:27:07.356Z"
   },
   {
    "duration": 12,
    "start_time": "2022-06-22T05:27:07.386Z"
   },
   {
    "duration": 3,
    "start_time": "2022-06-22T05:27:07.400Z"
   },
   {
    "duration": 26,
    "start_time": "2022-06-22T05:27:07.405Z"
   },
   {
    "duration": 13,
    "start_time": "2022-06-22T05:27:07.433Z"
   },
   {
    "duration": 14,
    "start_time": "2022-06-22T05:27:07.451Z"
   },
   {
    "duration": 4,
    "start_time": "2022-06-22T05:27:07.468Z"
   },
   {
    "duration": 10,
    "start_time": "2022-06-22T05:27:07.474Z"
   },
   {
    "duration": 29,
    "start_time": "2022-06-22T05:27:07.487Z"
   },
   {
    "duration": 17,
    "start_time": "2022-06-22T05:27:07.518Z"
   },
   {
    "duration": 12,
    "start_time": "2022-06-22T05:27:07.538Z"
   },
   {
    "duration": 11,
    "start_time": "2022-06-22T05:27:07.552Z"
   },
   {
    "duration": 5,
    "start_time": "2022-06-22T05:27:07.565Z"
   },
   {
    "duration": 11,
    "start_time": "2022-06-22T05:27:07.571Z"
   },
   {
    "duration": 428,
    "start_time": "2022-06-22T05:27:07.583Z"
   },
   {
    "duration": 3,
    "start_time": "2022-06-22T05:27:08.012Z"
   },
   {
    "duration": 30,
    "start_time": "2022-06-22T05:27:08.016Z"
   },
   {
    "duration": 9,
    "start_time": "2022-06-22T05:27:08.047Z"
   },
   {
    "duration": 234,
    "start_time": "2022-06-22T05:27:08.057Z"
   },
   {
    "duration": 4,
    "start_time": "2022-06-22T05:27:08.292Z"
   },
   {
    "duration": 8,
    "start_time": "2022-06-22T05:27:08.297Z"
   },
   {
    "duration": 7,
    "start_time": "2022-06-22T05:27:08.306Z"
   },
   {
    "duration": 31,
    "start_time": "2022-06-22T05:27:08.315Z"
   },
   {
    "duration": 14,
    "start_time": "2022-06-22T05:27:08.348Z"
   },
   {
    "duration": 13,
    "start_time": "2022-06-22T05:27:08.364Z"
   },
   {
    "duration": 75,
    "start_time": "2022-06-22T05:27:08.379Z"
   },
   {
    "duration": 10,
    "start_time": "2022-06-22T05:27:08.459Z"
   },
   {
    "duration": 5,
    "start_time": "2022-06-22T05:27:08.470Z"
   },
   {
    "duration": 8,
    "start_time": "2022-06-22T05:27:08.476Z"
   },
   {
    "duration": 6,
    "start_time": "2022-06-22T05:27:08.485Z"
   },
   {
    "duration": 5,
    "start_time": "2022-06-22T05:27:08.492Z"
   },
   {
    "duration": 5,
    "start_time": "2022-06-22T05:27:08.498Z"
   },
   {
    "duration": 34,
    "start_time": "2022-06-22T05:27:08.504Z"
   },
   {
    "duration": 18,
    "start_time": "2022-06-22T05:27:08.540Z"
   },
   {
    "duration": 9,
    "start_time": "2022-06-22T05:27:08.560Z"
   },
   {
    "duration": 8,
    "start_time": "2022-06-22T05:27:08.571Z"
   },
   {
    "duration": 131,
    "start_time": "2022-06-22T05:27:08.581Z"
   },
   {
    "duration": 6,
    "start_time": "2022-06-22T05:27:08.713Z"
   },
   {
    "duration": 198,
    "start_time": "2022-06-22T05:27:08.720Z"
   },
   {
    "duration": 183,
    "start_time": "2022-06-22T05:27:08.919Z"
   },
   {
    "duration": 5,
    "start_time": "2022-06-22T05:27:09.103Z"
   },
   {
    "duration": 8,
    "start_time": "2022-06-22T05:27:09.110Z"
   },
   {
    "duration": 87,
    "start_time": "2022-06-22T05:27:09.136Z"
   },
   {
    "duration": 0,
    "start_time": "2022-06-22T05:27:09.225Z"
   },
   {
    "duration": 0,
    "start_time": "2022-06-22T05:27:09.226Z"
   },
   {
    "duration": 0,
    "start_time": "2022-06-22T05:27:09.227Z"
   },
   {
    "duration": 0,
    "start_time": "2022-06-22T05:27:09.228Z"
   },
   {
    "duration": 0,
    "start_time": "2022-06-22T05:27:09.231Z"
   },
   {
    "duration": 0,
    "start_time": "2022-06-22T05:27:09.232Z"
   },
   {
    "duration": 0,
    "start_time": "2022-06-22T05:27:09.237Z"
   },
   {
    "duration": 0,
    "start_time": "2022-06-22T05:27:09.238Z"
   },
   {
    "duration": 0,
    "start_time": "2022-06-22T05:27:09.239Z"
   },
   {
    "duration": 0,
    "start_time": "2022-06-22T05:27:09.240Z"
   },
   {
    "duration": 0,
    "start_time": "2022-06-22T05:27:09.240Z"
   },
   {
    "duration": 0,
    "start_time": "2022-06-22T05:27:09.241Z"
   },
   {
    "duration": 0,
    "start_time": "2022-06-22T05:27:09.242Z"
   },
   {
    "duration": 0,
    "start_time": "2022-06-22T05:27:09.243Z"
   },
   {
    "duration": 0,
    "start_time": "2022-06-22T05:27:09.244Z"
   },
   {
    "duration": 1,
    "start_time": "2022-06-22T05:27:09.245Z"
   },
   {
    "duration": 0,
    "start_time": "2022-06-22T05:27:09.246Z"
   },
   {
    "duration": 0,
    "start_time": "2022-06-22T05:27:09.247Z"
   },
   {
    "duration": 0,
    "start_time": "2022-06-22T05:27:09.249Z"
   },
   {
    "duration": 0,
    "start_time": "2022-06-22T05:27:09.250Z"
   },
   {
    "duration": 0,
    "start_time": "2022-06-22T05:27:09.252Z"
   },
   {
    "duration": 0,
    "start_time": "2022-06-22T05:27:09.252Z"
   },
   {
    "duration": 0,
    "start_time": "2022-06-22T05:27:09.253Z"
   },
   {
    "duration": 0,
    "start_time": "2022-06-22T05:27:09.254Z"
   },
   {
    "duration": 0,
    "start_time": "2022-06-22T05:27:09.256Z"
   },
   {
    "duration": 0,
    "start_time": "2022-06-22T05:27:09.257Z"
   },
   {
    "duration": 0,
    "start_time": "2022-06-22T05:27:09.257Z"
   },
   {
    "duration": 0,
    "start_time": "2022-06-22T05:27:09.258Z"
   },
   {
    "duration": 0,
    "start_time": "2022-06-22T05:27:09.259Z"
   },
   {
    "duration": 0,
    "start_time": "2022-06-22T05:27:09.260Z"
   },
   {
    "duration": 0,
    "start_time": "2022-06-22T05:27:09.261Z"
   },
   {
    "duration": 0,
    "start_time": "2022-06-22T05:27:09.262Z"
   },
   {
    "duration": 0,
    "start_time": "2022-06-22T05:27:09.263Z"
   },
   {
    "duration": 0,
    "start_time": "2022-06-22T05:27:09.264Z"
   },
   {
    "duration": 0,
    "start_time": "2022-06-22T05:27:09.265Z"
   },
   {
    "duration": 0,
    "start_time": "2022-06-22T05:27:09.266Z"
   },
   {
    "duration": 0,
    "start_time": "2022-06-22T05:27:09.267Z"
   },
   {
    "duration": 0,
    "start_time": "2022-06-22T05:27:09.268Z"
   },
   {
    "duration": 0,
    "start_time": "2022-06-22T05:27:09.269Z"
   },
   {
    "duration": 0,
    "start_time": "2022-06-22T05:27:09.270Z"
   },
   {
    "duration": 0,
    "start_time": "2022-06-22T05:27:09.271Z"
   },
   {
    "duration": 0,
    "start_time": "2022-06-22T05:27:09.272Z"
   },
   {
    "duration": 0,
    "start_time": "2022-06-22T05:27:09.273Z"
   },
   {
    "duration": 0,
    "start_time": "2022-06-22T05:27:09.274Z"
   },
   {
    "duration": 0,
    "start_time": "2022-06-22T05:27:09.275Z"
   },
   {
    "duration": 0,
    "start_time": "2022-06-22T05:27:09.275Z"
   },
   {
    "duration": 0,
    "start_time": "2022-06-22T05:27:09.332Z"
   },
   {
    "duration": 0,
    "start_time": "2022-06-22T05:27:09.333Z"
   },
   {
    "duration": 0,
    "start_time": "2022-06-22T05:27:09.333Z"
   },
   {
    "duration": 0,
    "start_time": "2022-06-22T05:27:09.334Z"
   },
   {
    "duration": 8,
    "start_time": "2022-06-22T05:27:50.465Z"
   },
   {
    "duration": 15,
    "start_time": "2022-06-22T05:28:55.935Z"
   },
   {
    "duration": 8,
    "start_time": "2022-06-22T05:29:03.988Z"
   },
   {
    "duration": 11,
    "start_time": "2022-06-22T05:29:06.084Z"
   },
   {
    "duration": 574,
    "start_time": "2022-06-22T05:30:19.319Z"
   },
   {
    "duration": 52,
    "start_time": "2022-06-22T05:30:19.895Z"
   },
   {
    "duration": 22,
    "start_time": "2022-06-22T05:30:19.950Z"
   },
   {
    "duration": 19,
    "start_time": "2022-06-22T05:30:19.974Z"
   },
   {
    "duration": 44,
    "start_time": "2022-06-22T05:30:19.996Z"
   },
   {
    "duration": 33,
    "start_time": "2022-06-22T05:30:20.043Z"
   },
   {
    "duration": 30,
    "start_time": "2022-06-22T05:30:20.078Z"
   },
   {
    "duration": 7,
    "start_time": "2022-06-22T05:30:20.110Z"
   },
   {
    "duration": 21,
    "start_time": "2022-06-22T05:30:20.119Z"
   },
   {
    "duration": 63,
    "start_time": "2022-06-22T05:30:20.142Z"
   },
   {
    "duration": 5,
    "start_time": "2022-06-22T05:30:20.207Z"
   },
   {
    "duration": 47,
    "start_time": "2022-06-22T05:30:20.213Z"
   },
   {
    "duration": 15,
    "start_time": "2022-06-22T05:30:20.263Z"
   },
   {
    "duration": 23,
    "start_time": "2022-06-22T05:30:20.282Z"
   },
   {
    "duration": 18,
    "start_time": "2022-06-22T05:30:20.307Z"
   },
   {
    "duration": 544,
    "start_time": "2022-06-22T05:30:20.327Z"
   },
   {
    "duration": 4,
    "start_time": "2022-06-22T05:30:20.873Z"
   },
   {
    "duration": 14,
    "start_time": "2022-06-22T05:30:20.878Z"
   },
   {
    "duration": 16,
    "start_time": "2022-06-22T05:30:20.894Z"
   },
   {
    "duration": 293,
    "start_time": "2022-06-22T05:30:20.911Z"
   },
   {
    "duration": 4,
    "start_time": "2022-06-22T05:30:21.206Z"
   },
   {
    "duration": 20,
    "start_time": "2022-06-22T05:30:21.212Z"
   },
   {
    "duration": 40,
    "start_time": "2022-06-22T05:30:21.233Z"
   },
   {
    "duration": 7,
    "start_time": "2022-06-22T05:30:21.275Z"
   },
   {
    "duration": 18,
    "start_time": "2022-06-22T05:30:21.283Z"
   },
   {
    "duration": 16,
    "start_time": "2022-06-22T05:30:21.303Z"
   },
   {
    "duration": 104,
    "start_time": "2022-06-22T05:30:21.320Z"
   },
   {
    "duration": 22,
    "start_time": "2022-06-22T05:30:21.426Z"
   },
   {
    "duration": 28,
    "start_time": "2022-06-22T05:30:21.450Z"
   },
   {
    "duration": 9,
    "start_time": "2022-06-22T05:30:21.480Z"
   },
   {
    "duration": 6,
    "start_time": "2022-06-22T05:30:21.492Z"
   },
   {
    "duration": 4,
    "start_time": "2022-06-22T05:30:21.500Z"
   },
   {
    "duration": 6,
    "start_time": "2022-06-22T05:30:21.506Z"
   },
   {
    "duration": 9,
    "start_time": "2022-06-22T05:30:21.514Z"
   },
   {
    "duration": 46,
    "start_time": "2022-06-22T05:30:21.525Z"
   },
   {
    "duration": 7,
    "start_time": "2022-06-22T05:30:21.573Z"
   },
   {
    "duration": 9,
    "start_time": "2022-06-22T05:30:21.582Z"
   },
   {
    "duration": 170,
    "start_time": "2022-06-22T05:30:21.592Z"
   },
   {
    "duration": 8,
    "start_time": "2022-06-22T05:30:21.764Z"
   },
   {
    "duration": 198,
    "start_time": "2022-06-22T05:30:21.774Z"
   },
   {
    "duration": 207,
    "start_time": "2022-06-22T05:30:21.977Z"
   },
   {
    "duration": 6,
    "start_time": "2022-06-22T05:30:22.186Z"
   },
   {
    "duration": 18,
    "start_time": "2022-06-22T05:30:22.193Z"
   },
   {
    "duration": 18,
    "start_time": "2022-06-22T05:30:22.213Z"
   },
   {
    "duration": 63,
    "start_time": "2022-06-22T05:30:22.233Z"
   },
   {
    "duration": 26,
    "start_time": "2022-06-22T05:30:22.298Z"
   },
   {
    "duration": 27,
    "start_time": "2022-06-22T05:30:22.326Z"
   },
   {
    "duration": 51,
    "start_time": "2022-06-22T05:30:22.355Z"
   },
   {
    "duration": 17,
    "start_time": "2022-06-22T05:30:22.407Z"
   },
   {
    "duration": 56,
    "start_time": "2022-06-22T05:30:22.426Z"
   },
   {
    "duration": 4,
    "start_time": "2022-06-22T05:30:22.484Z"
   },
   {
    "duration": 23,
    "start_time": "2022-06-22T05:30:22.489Z"
   },
   {
    "duration": 67,
    "start_time": "2022-06-22T05:30:22.513Z"
   },
   {
    "duration": 25,
    "start_time": "2022-06-22T05:30:22.582Z"
   },
   {
    "duration": 15,
    "start_time": "2022-06-22T05:30:22.609Z"
   },
   {
    "duration": 31,
    "start_time": "2022-06-22T05:30:22.626Z"
   },
   {
    "duration": 30,
    "start_time": "2022-06-22T05:30:22.660Z"
   },
   {
    "duration": 127,
    "start_time": "2022-06-22T05:30:22.691Z"
   },
   {
    "duration": 5,
    "start_time": "2022-06-22T05:30:22.819Z"
   },
   {
    "duration": 185,
    "start_time": "2022-06-22T05:30:22.829Z"
   },
   {
    "duration": 17,
    "start_time": "2022-06-22T05:30:23.016Z"
   },
   {
    "duration": 16,
    "start_time": "2022-06-22T05:30:23.035Z"
   },
   {
    "duration": 31,
    "start_time": "2022-06-22T05:30:23.053Z"
   },
   {
    "duration": 10,
    "start_time": "2022-06-22T05:30:23.085Z"
   },
   {
    "duration": 15,
    "start_time": "2022-06-22T05:30:23.097Z"
   },
   {
    "duration": 138,
    "start_time": "2022-06-22T05:30:23.113Z"
   },
   {
    "duration": 23,
    "start_time": "2022-06-22T05:30:23.253Z"
   },
   {
    "duration": 13,
    "start_time": "2022-06-22T05:30:23.278Z"
   },
   {
    "duration": 5,
    "start_time": "2022-06-22T05:30:23.293Z"
   },
   {
    "duration": 5,
    "start_time": "2022-06-22T05:30:23.300Z"
   },
   {
    "duration": 6,
    "start_time": "2022-06-22T05:30:23.306Z"
   },
   {
    "duration": 4,
    "start_time": "2022-06-22T05:30:23.313Z"
   },
   {
    "duration": 44,
    "start_time": "2022-06-22T05:30:23.318Z"
   },
   {
    "duration": 240,
    "start_time": "2022-06-22T05:30:23.364Z"
   },
   {
    "duration": 276,
    "start_time": "2022-06-22T05:30:23.607Z"
   },
   {
    "duration": 241,
    "start_time": "2022-06-22T05:30:23.885Z"
   },
   {
    "duration": 345,
    "start_time": "2022-06-22T05:30:24.128Z"
   },
   {
    "duration": 3,
    "start_time": "2022-06-22T05:30:24.474Z"
   },
   {
    "duration": 5,
    "start_time": "2022-06-22T05:30:24.478Z"
   },
   {
    "duration": 13,
    "start_time": "2022-06-22T05:30:24.484Z"
   },
   {
    "duration": 11,
    "start_time": "2022-06-22T05:30:24.499Z"
   },
   {
    "duration": 50,
    "start_time": "2022-06-22T05:30:24.511Z"
   },
   {
    "duration": 704,
    "start_time": "2022-06-22T05:30:24.562Z"
   },
   {
    "duration": 16,
    "start_time": "2022-06-22T05:30:25.267Z"
   },
   {
    "duration": 2840,
    "start_time": "2022-06-22T05:30:25.284Z"
   },
   {
    "duration": 10,
    "start_time": "2022-06-22T05:30:28.131Z"
   },
   {
    "duration": 21,
    "start_time": "2022-06-22T05:30:28.146Z"
   },
   {
    "duration": 28,
    "start_time": "2022-06-22T05:30:28.169Z"
   },
   {
    "duration": 18,
    "start_time": "2022-06-22T05:30:28.198Z"
   },
   {
    "duration": 3,
    "start_time": "2022-06-22T05:30:28.218Z"
   },
   {
    "duration": 20,
    "start_time": "2022-06-22T05:30:28.223Z"
   },
   {
    "duration": 131,
    "start_time": "2022-06-22T05:30:28.251Z"
   },
   {
    "duration": 9,
    "start_time": "2022-06-22T05:30:28.383Z"
   },
   {
    "duration": 12,
    "start_time": "2022-06-22T05:30:28.393Z"
   },
   {
    "duration": 231,
    "start_time": "2022-06-22T05:30:47.566Z"
   },
   {
    "duration": 102,
    "start_time": "2022-06-22T05:32:10.325Z"
   },
   {
    "duration": 5,
    "start_time": "2022-06-22T05:33:06.476Z"
   },
   {
    "duration": 243,
    "start_time": "2022-06-22T05:33:08.901Z"
   },
   {
    "duration": 565,
    "start_time": "2022-06-22T05:34:19.179Z"
   },
   {
    "duration": 42,
    "start_time": "2022-06-22T05:34:19.746Z"
   },
   {
    "duration": 14,
    "start_time": "2022-06-22T05:34:19.790Z"
   },
   {
    "duration": 6,
    "start_time": "2022-06-22T05:34:19.806Z"
   },
   {
    "duration": 26,
    "start_time": "2022-06-22T05:34:19.815Z"
   },
   {
    "duration": 8,
    "start_time": "2022-06-22T05:34:19.843Z"
   },
   {
    "duration": 32,
    "start_time": "2022-06-22T05:34:19.853Z"
   },
   {
    "duration": 5,
    "start_time": "2022-06-22T05:34:19.887Z"
   },
   {
    "duration": 8,
    "start_time": "2022-06-22T05:34:19.894Z"
   },
   {
    "duration": 43,
    "start_time": "2022-06-22T05:34:19.904Z"
   },
   {
    "duration": 5,
    "start_time": "2022-06-22T05:34:19.949Z"
   },
   {
    "duration": 19,
    "start_time": "2022-06-22T05:34:19.955Z"
   },
   {
    "duration": 10,
    "start_time": "2022-06-22T05:34:19.975Z"
   },
   {
    "duration": 4,
    "start_time": "2022-06-22T05:34:19.988Z"
   },
   {
    "duration": 11,
    "start_time": "2022-06-22T05:34:19.994Z"
   },
   {
    "duration": 521,
    "start_time": "2022-06-22T05:34:20.006Z"
   },
   {
    "duration": 15,
    "start_time": "2022-06-22T05:34:20.528Z"
   },
   {
    "duration": 20,
    "start_time": "2022-06-22T05:34:20.553Z"
   },
   {
    "duration": 12,
    "start_time": "2022-06-22T05:34:20.575Z"
   },
   {
    "duration": 274,
    "start_time": "2022-06-22T05:34:20.588Z"
   },
   {
    "duration": 4,
    "start_time": "2022-06-22T05:34:20.863Z"
   },
   {
    "duration": 12,
    "start_time": "2022-06-22T05:34:20.868Z"
   },
   {
    "duration": 314,
    "start_time": "2022-06-22T05:34:20.882Z"
   },
   {
    "duration": 9,
    "start_time": "2022-06-22T05:34:21.198Z"
   },
   {
    "duration": 9,
    "start_time": "2022-06-22T05:34:21.209Z"
   },
   {
    "duration": 38,
    "start_time": "2022-06-22T05:34:21.219Z"
   },
   {
    "duration": 18,
    "start_time": "2022-06-22T05:34:21.258Z"
   },
   {
    "duration": 87,
    "start_time": "2022-06-22T05:34:21.278Z"
   },
   {
    "duration": 10,
    "start_time": "2022-06-22T05:34:21.367Z"
   },
   {
    "duration": 6,
    "start_time": "2022-06-22T05:34:21.378Z"
   },
   {
    "duration": 8,
    "start_time": "2022-06-22T05:34:21.385Z"
   },
   {
    "duration": 4,
    "start_time": "2022-06-22T05:34:21.395Z"
   },
   {
    "duration": 5,
    "start_time": "2022-06-22T05:34:21.401Z"
   },
   {
    "duration": 31,
    "start_time": "2022-06-22T05:34:21.408Z"
   },
   {
    "duration": 32,
    "start_time": "2022-06-22T05:34:21.441Z"
   },
   {
    "duration": 10,
    "start_time": "2022-06-22T05:34:21.476Z"
   },
   {
    "duration": 9,
    "start_time": "2022-06-22T05:34:21.488Z"
   },
   {
    "duration": 8,
    "start_time": "2022-06-22T05:34:21.499Z"
   },
   {
    "duration": 156,
    "start_time": "2022-06-22T05:34:21.509Z"
   },
   {
    "duration": 6,
    "start_time": "2022-06-22T05:34:21.667Z"
   },
   {
    "duration": 212,
    "start_time": "2022-06-22T05:34:21.680Z"
   },
   {
    "duration": 147,
    "start_time": "2022-06-22T05:34:21.893Z"
   },
   {
    "duration": 19,
    "start_time": "2022-06-22T05:34:22.042Z"
   },
   {
    "duration": 8,
    "start_time": "2022-06-22T05:34:22.063Z"
   },
   {
    "duration": 5,
    "start_time": "2022-06-22T05:34:22.072Z"
   },
   {
    "duration": 18,
    "start_time": "2022-06-22T05:34:22.079Z"
   },
   {
    "duration": 51,
    "start_time": "2022-06-22T05:34:22.099Z"
   },
   {
    "duration": 19,
    "start_time": "2022-06-22T05:34:22.151Z"
   },
   {
    "duration": 16,
    "start_time": "2022-06-22T05:34:22.171Z"
   },
   {
    "duration": 4,
    "start_time": "2022-06-22T05:34:22.189Z"
   },
   {
    "duration": 11,
    "start_time": "2022-06-22T05:34:22.194Z"
   },
   {
    "duration": 27,
    "start_time": "2022-06-22T05:34:22.207Z"
   },
   {
    "duration": 6,
    "start_time": "2022-06-22T05:34:22.238Z"
   },
   {
    "duration": 14,
    "start_time": "2022-06-22T05:34:22.247Z"
   },
   {
    "duration": 11,
    "start_time": "2022-06-22T05:34:22.262Z"
   },
   {
    "duration": 11,
    "start_time": "2022-06-22T05:34:22.275Z"
   },
   {
    "duration": 11,
    "start_time": "2022-06-22T05:34:22.287Z"
   },
   {
    "duration": 10,
    "start_time": "2022-06-22T05:34:22.299Z"
   },
   {
    "duration": 170,
    "start_time": "2022-06-22T05:34:22.310Z"
   },
   {
    "duration": 4,
    "start_time": "2022-06-22T05:34:22.482Z"
   },
   {
    "duration": 154,
    "start_time": "2022-06-22T05:34:22.488Z"
   },
   {
    "duration": 18,
    "start_time": "2022-06-22T05:34:22.643Z"
   },
   {
    "duration": 12,
    "start_time": "2022-06-22T05:34:22.663Z"
   },
   {
    "duration": 9,
    "start_time": "2022-06-22T05:34:22.676Z"
   },
   {
    "duration": 10,
    "start_time": "2022-06-22T05:34:22.686Z"
   },
   {
    "duration": 15,
    "start_time": "2022-06-22T05:34:22.697Z"
   },
   {
    "duration": 136,
    "start_time": "2022-06-22T05:34:22.713Z"
   },
   {
    "duration": 15,
    "start_time": "2022-06-22T05:34:22.854Z"
   },
   {
    "duration": 5,
    "start_time": "2022-06-22T05:34:22.870Z"
   },
   {
    "duration": 7,
    "start_time": "2022-06-22T05:34:22.876Z"
   },
   {
    "duration": 4,
    "start_time": "2022-06-22T05:34:22.884Z"
   },
   {
    "duration": 6,
    "start_time": "2022-06-22T05:34:22.890Z"
   },
   {
    "duration": 8,
    "start_time": "2022-06-22T05:34:22.897Z"
   },
   {
    "duration": 41,
    "start_time": "2022-06-22T05:34:22.906Z"
   },
   {
    "duration": 215,
    "start_time": "2022-06-22T05:34:22.948Z"
   },
   {
    "duration": 261,
    "start_time": "2022-06-22T05:34:23.165Z"
   },
   {
    "duration": 344,
    "start_time": "2022-06-22T05:34:23.429Z"
   },
   {
    "duration": 245,
    "start_time": "2022-06-22T05:34:23.775Z"
   },
   {
    "duration": 3,
    "start_time": "2022-06-22T05:34:24.021Z"
   },
   {
    "duration": 31,
    "start_time": "2022-06-22T05:34:24.029Z"
   },
   {
    "duration": 10,
    "start_time": "2022-06-22T05:34:24.061Z"
   },
   {
    "duration": 10,
    "start_time": "2022-06-22T05:34:24.072Z"
   },
   {
    "duration": 6,
    "start_time": "2022-06-22T05:34:24.083Z"
   },
   {
    "duration": 697,
    "start_time": "2022-06-22T05:34:24.091Z"
   },
   {
    "duration": 17,
    "start_time": "2022-06-22T05:34:24.790Z"
   },
   {
    "duration": 2864,
    "start_time": "2022-06-22T05:34:24.809Z"
   },
   {
    "duration": 6,
    "start_time": "2022-06-22T05:34:27.675Z"
   },
   {
    "duration": 4,
    "start_time": "2022-06-22T05:34:27.683Z"
   },
   {
    "duration": 26,
    "start_time": "2022-06-22T05:34:27.688Z"
   },
   {
    "duration": 42,
    "start_time": "2022-06-22T05:34:27.716Z"
   },
   {
    "duration": 5,
    "start_time": "2022-06-22T05:34:27.760Z"
   },
   {
    "duration": 15,
    "start_time": "2022-06-22T05:34:27.767Z"
   },
   {
    "duration": 130,
    "start_time": "2022-06-22T05:34:27.783Z"
   },
   {
    "duration": 7,
    "start_time": "2022-06-22T05:34:27.915Z"
   },
   {
    "duration": 18,
    "start_time": "2022-06-22T05:34:27.923Z"
   },
   {
    "duration": 690,
    "start_time": "2022-06-22T17:10:00.062Z"
   },
   {
    "duration": 32,
    "start_time": "2022-06-22T17:10:00.754Z"
   },
   {
    "duration": 15,
    "start_time": "2022-06-22T17:10:00.787Z"
   },
   {
    "duration": 9,
    "start_time": "2022-06-22T17:10:00.822Z"
   },
   {
    "duration": 24,
    "start_time": "2022-06-22T17:10:00.834Z"
   },
   {
    "duration": 8,
    "start_time": "2022-06-22T17:10:00.860Z"
   },
   {
    "duration": 31,
    "start_time": "2022-06-22T17:10:00.870Z"
   },
   {
    "duration": 24,
    "start_time": "2022-06-22T17:10:00.903Z"
   },
   {
    "duration": 11,
    "start_time": "2022-06-22T17:10:00.930Z"
   },
   {
    "duration": 30,
    "start_time": "2022-06-22T17:10:01.029Z"
   },
   {
    "duration": 6,
    "start_time": "2022-06-22T17:10:01.063Z"
   },
   {
    "duration": 19,
    "start_time": "2022-06-22T17:10:01.070Z"
   },
   {
    "duration": 568,
    "start_time": "2022-06-22T17:10:01.091Z"
   },
   {
    "duration": 5,
    "start_time": "2022-06-22T17:10:01.661Z"
   },
   {
    "duration": 64,
    "start_time": "2022-06-22T17:10:01.668Z"
   },
   {
    "duration": 49,
    "start_time": "2022-06-22T17:10:01.735Z"
   },
   {
    "duration": 301,
    "start_time": "2022-06-22T17:10:01.785Z"
   },
   {
    "duration": 4,
    "start_time": "2022-06-22T17:10:02.087Z"
   },
   {
    "duration": 12,
    "start_time": "2022-06-22T17:10:02.092Z"
   },
   {
    "duration": 338,
    "start_time": "2022-06-22T17:10:02.105Z"
   },
   {
    "duration": 9,
    "start_time": "2022-06-22T17:10:02.444Z"
   },
   {
    "duration": 5,
    "start_time": "2022-06-22T17:10:02.455Z"
   },
   {
    "duration": 23,
    "start_time": "2022-06-22T17:10:02.462Z"
   },
   {
    "duration": 20,
    "start_time": "2022-06-22T17:10:02.486Z"
   },
   {
    "duration": 111,
    "start_time": "2022-06-22T17:10:02.525Z"
   },
   {
    "duration": 13,
    "start_time": "2022-06-22T17:10:02.639Z"
   },
   {
    "duration": 11,
    "start_time": "2022-06-22T17:10:02.654Z"
   },
   {
    "duration": 17,
    "start_time": "2022-06-22T17:10:02.667Z"
   },
   {
    "duration": 11,
    "start_time": "2022-06-22T17:10:02.686Z"
   },
   {
    "duration": 9,
    "start_time": "2022-06-22T17:10:02.699Z"
   },
   {
    "duration": 39,
    "start_time": "2022-06-22T17:10:02.710Z"
   },
   {
    "duration": 18,
    "start_time": "2022-06-22T17:10:02.751Z"
   },
   {
    "duration": 18,
    "start_time": "2022-06-22T17:10:02.771Z"
   },
   {
    "duration": 24,
    "start_time": "2022-06-22T17:10:02.791Z"
   },
   {
    "duration": 38,
    "start_time": "2022-06-22T17:10:02.817Z"
   },
   {
    "duration": 179,
    "start_time": "2022-06-22T17:10:02.858Z"
   },
   {
    "duration": 8,
    "start_time": "2022-06-22T17:10:03.039Z"
   },
   {
    "duration": 191,
    "start_time": "2022-06-22T17:10:03.053Z"
   },
   {
    "duration": 200,
    "start_time": "2022-06-22T17:10:03.246Z"
   },
   {
    "duration": 6,
    "start_time": "2022-06-22T17:10:03.448Z"
   },
   {
    "duration": 14,
    "start_time": "2022-06-22T17:10:03.456Z"
   },
   {
    "duration": 10,
    "start_time": "2022-06-22T17:10:03.472Z"
   },
   {
    "duration": 48,
    "start_time": "2022-06-22T17:10:03.484Z"
   },
   {
    "duration": 39,
    "start_time": "2022-06-22T17:10:03.534Z"
   },
   {
    "duration": 21,
    "start_time": "2022-06-22T17:10:03.575Z"
   },
   {
    "duration": 42,
    "start_time": "2022-06-22T17:10:03.599Z"
   },
   {
    "duration": 6,
    "start_time": "2022-06-22T17:10:03.643Z"
   },
   {
    "duration": 22,
    "start_time": "2022-06-22T17:10:03.651Z"
   },
   {
    "duration": 4,
    "start_time": "2022-06-22T17:10:03.674Z"
   },
   {
    "duration": 6,
    "start_time": "2022-06-22T17:10:03.680Z"
   },
   {
    "duration": 37,
    "start_time": "2022-06-22T17:10:03.688Z"
   },
   {
    "duration": 22,
    "start_time": "2022-06-22T17:10:03.730Z"
   },
   {
    "duration": 11,
    "start_time": "2022-06-22T17:10:03.753Z"
   },
   {
    "duration": 15,
    "start_time": "2022-06-22T17:10:03.766Z"
   },
   {
    "duration": 10,
    "start_time": "2022-06-22T17:10:03.783Z"
   },
   {
    "duration": 159,
    "start_time": "2022-06-22T17:10:03.795Z"
   },
   {
    "duration": 5,
    "start_time": "2022-06-22T17:10:03.956Z"
   },
   {
    "duration": 168,
    "start_time": "2022-06-22T17:10:03.963Z"
   },
   {
    "duration": 16,
    "start_time": "2022-06-22T17:10:04.133Z"
   },
   {
    "duration": 12,
    "start_time": "2022-06-22T17:10:04.150Z"
   },
   {
    "duration": 11,
    "start_time": "2022-06-22T17:10:04.164Z"
   },
   {
    "duration": 11,
    "start_time": "2022-06-22T17:10:04.177Z"
   },
   {
    "duration": 36,
    "start_time": "2022-06-22T17:10:04.224Z"
   },
   {
    "duration": 141,
    "start_time": "2022-06-22T17:10:04.261Z"
   },
   {
    "duration": 12,
    "start_time": "2022-06-22T17:10:04.403Z"
   },
   {
    "duration": 6,
    "start_time": "2022-06-22T17:10:04.424Z"
   },
   {
    "duration": 32,
    "start_time": "2022-06-22T17:10:04.431Z"
   },
   {
    "duration": 7,
    "start_time": "2022-06-22T17:10:04.464Z"
   },
   {
    "duration": 8,
    "start_time": "2022-06-22T17:10:04.472Z"
   },
   {
    "duration": 10,
    "start_time": "2022-06-22T17:10:04.481Z"
   },
   {
    "duration": 22,
    "start_time": "2022-06-22T17:10:04.492Z"
   },
   {
    "duration": 248,
    "start_time": "2022-06-22T17:10:04.516Z"
   },
   {
    "duration": 276,
    "start_time": "2022-06-22T17:10:04.766Z"
   },
   {
    "duration": 342,
    "start_time": "2022-06-22T17:10:05.044Z"
   },
   {
    "duration": 256,
    "start_time": "2022-06-22T17:10:05.388Z"
   },
   {
    "duration": 3,
    "start_time": "2022-06-22T17:10:05.645Z"
   },
   {
    "duration": 12,
    "start_time": "2022-06-22T17:10:05.649Z"
   },
   {
    "duration": 11,
    "start_time": "2022-06-22T17:10:05.663Z"
   },
   {
    "duration": 26,
    "start_time": "2022-06-22T17:10:05.676Z"
   },
   {
    "duration": 19,
    "start_time": "2022-06-22T17:10:05.703Z"
   },
   {
    "duration": 808,
    "start_time": "2022-06-22T17:10:05.724Z"
   },
   {
    "duration": 19,
    "start_time": "2022-06-22T17:10:06.534Z"
   },
   {
    "duration": 3024,
    "start_time": "2022-06-22T17:10:06.555Z"
   },
   {
    "duration": 10,
    "start_time": "2022-06-22T17:10:09.582Z"
   },
   {
    "duration": 6,
    "start_time": "2022-06-22T17:10:09.594Z"
   },
   {
    "duration": 61,
    "start_time": "2022-06-22T17:10:09.602Z"
   },
   {
    "duration": 27,
    "start_time": "2022-06-22T17:10:09.664Z"
   },
   {
    "duration": 6,
    "start_time": "2022-06-22T17:10:09.694Z"
   },
   {
    "duration": 20,
    "start_time": "2022-06-22T17:10:09.724Z"
   },
   {
    "duration": 194,
    "start_time": "2022-06-22T17:10:09.746Z"
   },
   {
    "duration": 9,
    "start_time": "2022-06-22T17:10:09.943Z"
   },
   {
    "duration": 16,
    "start_time": "2022-06-22T17:10:09.954Z"
   }
  ],
  "kernelspec": {
   "display_name": "Python 3 (ipykernel)",
   "language": "python",
   "name": "python3"
  },
  "language_info": {
   "codemirror_mode": {
    "name": "ipython",
    "version": 3
   },
   "file_extension": ".py",
   "mimetype": "text/x-python",
   "name": "python",
   "nbconvert_exporter": "python",
   "pygments_lexer": "ipython3",
   "version": "3.9.13"
  },
  "toc": {
   "base_numbering": 1,
   "nav_menu": {},
   "number_sections": true,
   "sideBar": true,
   "skip_h1_title": true,
   "title_cell": "Table of Contents",
   "title_sidebar": "Contents",
   "toc_cell": false,
   "toc_position": {},
   "toc_section_display": true,
   "toc_window_display": true
  }
 },
 "nbformat": 4,
 "nbformat_minor": 5
}
